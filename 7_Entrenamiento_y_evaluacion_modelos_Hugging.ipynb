{
 "cells": [
  {
   "cell_type": "markdown",
   "metadata": {
    "id": "j1JQLMYkCpya"
   },
   "source": [
    "<header style=\"width:100%;position:relative\">\n",
    "  <div style=\"width:80%;float:right;\">\n",
    "    <h1>False Political Claim Detection</h1>\n",
    "    <h3>Selección de características y preprocesado</h3>\n",
    "    <h5>Grupo 2</h5>\n",
    "  </div>\n",
    "        <img style=\"width:15%;\" src=\"images/logo.jpg\" alt=\"UPM\" />\n",
    "</header>"
   ]
  },
  {
   "cell_type": "markdown",
   "metadata": {
    "id": "3JKPKXJxCpyd"
   },
   "source": [
    "# Índice"
   ]
  },
  {
   "cell_type": "markdown",
   "metadata": {
    "id": "6vqmh1DHCpyd"
   },
   "source": [
    "1. [Importar librerias](#1.-Importar-librerias)\n",
    "2. [Variables globales](#2.-Variables-globales)\n",
    "3. [Carga del dataframe](#3.-Carga-del-dataframe)\n",
    "4. [Análisis y selección de las características](#4.-Analisis-y-seleccion-de-las-caracteristicas)\n",
    "5. [Carga de los datos y división en entrenamiento y test](#5.-Carga-de-los-datos-y-division-en-entrenamiento-y-test)\n",
    "6. [Preprocesado de los datos](#6.-Preprocesado-de-los-datos)\n",
    "    * 6.1 [Introducción](#6.1-Introduccion)\n",
    "    * 6.2 [Casos de preprocesado](#6.2-Casos-de-preprocesado)\n",
    "    * 6.3 [Conclusiones](#6.3-Conclusiones)\n",
    "7. [Referencias](#7.-Referencias)\n"
   ]
  },
  {
   "cell_type": "markdown",
   "metadata": {
    "id": "WLDfcap9Cpyd"
   },
   "source": [
    "## 1. Importar librerias"
   ]
  },
  {
   "cell_type": "code",
   "execution_count": 1,
   "metadata": {
    "colab": {
     "base_uri": "https://localhost:8080/"
    },
    "id": "ZVEc0_U5Cpyd",
    "outputId": "9ba7cedb-f514-4c6f-dfba-97371dc6d3d6"
   },
   "outputs": [
    {
     "name": "stdout",
     "output_type": "stream",
     "text": [
      "Todas las librerias fueron correctamente importadas.\n"
     ]
    }
   ],
   "source": [
    "# General import and load data\n",
    "import pandas as pd\n",
    "import numpy as np\n",
    "\n",
    "# Preprocessing\n",
    "from sklearn.compose import ColumnTransformer\n",
    "from sklearn.preprocessing import StandardScaler\n",
    "from sklearn.feature_extraction.text import TfidfVectorizer\n",
    "from sklearn.decomposition import TruncatedSVD\n",
    "\n",
    "# Splitting\n",
    "from sklearn.model_selection import train_test_split\n",
    "\n",
    "# Estimators\n",
    "from sklearn.ensemble import RandomForestClassifier\n",
    "\n",
    "# Evaluation\n",
    "from sklearn.metrics import accuracy_score, f1_score\n",
    "\n",
    "from datasets import Dataset\n",
    "from transformers import AutoTokenizer, AutoModelForSequenceClassification, Trainer, TrainingArguments\n",
    "import torch\n",
    "\n",
    "print(\"Todas las librerias fueron correctamente importadas.\")"
   ]
  },
  {
   "cell_type": "markdown",
   "metadata": {
    "id": "URjPcu-0Cpyf"
   },
   "source": [
    "## 2. Variables globales y funciones auxiliares"
   ]
  },
  {
   "cell_type": "markdown",
   "metadata": {
    "id": "yXYiGBM1Cpyf"
   },
   "source": [
    "Se fija un *seed* para todo el documento para fijar la aleatoriedad y así obtener resultados replicables."
   ]
  },
  {
   "cell_type": "code",
   "execution_count": 2,
   "metadata": {
    "id": "iD4QFEHhCpyf"
   },
   "outputs": [],
   "source": [
    "seed = 42"
   ]
  },
  {
   "cell_type": "markdown",
   "metadata": {
    "id": "56JSG4sRCpyf"
   },
   "source": [
    "Función utilizada para seleccionar el *statement* con el que se quiere entrenar el modelo."
   ]
  },
  {
   "cell_type": "code",
   "execution_count": 3,
   "metadata": {
    "id": "fJYFnL0GCpyf"
   },
   "outputs": [],
   "source": [
    "def selStatement(case, df):\n",
    "    mapping = {\n",
    "        1: 'statement',\n",
    "        2: 'speaker_statement',\n",
    "        3: 'speaker_statement_subject',\n",
    "        4: 'speaker_party_statement',\n",
    "        5: 'speaker_party_statement_subject',\n",
    "        6: 'speaker_speaker-job_party_statement',\n",
    "        7: 'speaker_speaker-job_party_statement_subject'\n",
    "    }\n",
    "\n",
    "    if case not in mapping:\n",
    "        raise ValueError(\"El valor de 'case' no es válido. Debe estar entre 1 y 7.\")\n",
    "\n",
    "    return df[mapping[case]]"
   ]
  },
  {
   "cell_type": "markdown",
   "metadata": {
    "id": "sU03svEiCpyf"
   },
   "source": [
    "Función utilizada para seleccionar el modelo con el que se quiere entrenar."
   ]
  },
  {
   "cell_type": "code",
   "execution_count": 4,
   "metadata": {
    "id": "KIIAFmlhCpyf"
   },
   "outputs": [],
   "source": [
    "def selModel(model):\n",
    "    mapping = {\n",
    "        'albert': 'albert/albert-base-v2',\n",
    "        'bert': 'google-bert/bert-base-uncased',\n",
    "        'deberta': 'microsoft/deberta-v3-base',\n",
    "        'distil_roberta': 'distilbert/distilroberta-base',\n",
    "        'roberta': 'FacebookAI/roberta-base'\n",
    "    }\n",
    "\n",
    "    if model not in mapping:\n",
    "        raise ValueError(\"El modelo seleccionado no existe entre los disponibles. Revise el valor introducido.\")\n",
    "\n",
    "    return mapping[model]"
   ]
  },
  {
   "cell_type": "markdown",
   "metadata": {
    "id": "JXMwR_4-Cpyg"
   },
   "source": [
    "Función encargada de evaluar el modelo de *Hugging Face*."
   ]
  },
  {
   "cell_type": "code",
   "execution_count": 5,
   "metadata": {
    "id": "29m5sZWjCpyg"
   },
   "outputs": [],
   "source": [
    "def compute_metrics(eval_pred):\n",
    "    logits, labels = eval_pred\n",
    "    predictions = torch.argmax(torch.tensor(logits), dim=-1)\n",
    "    return {\n",
    "        \"accuracy\": accuracy_score(labels, predictions),\n",
    "        \"f1\": f1_score(labels, predictions),\n",
    "    }"
   ]
  },
  {
   "cell_type": "markdown",
   "metadata": {
    "id": "GMW0ZODRCpyg"
   },
   "source": [
    "Función para transformar el *dataframe* en *dataset*."
   ]
  },
  {
   "cell_type": "code",
   "execution_count": 6,
   "metadata": {
    "id": "eRHAX7LwCpyg"
   },
   "outputs": [],
   "source": [
    "class OwnDataset(torch.utils.data.Dataset):\n",
    "    def __init__(self, encodings, labels):\n",
    "        self.encodings = encodings\n",
    "        self.labels = labels\n",
    "    def __len__(self):\n",
    "        return len(self.labels)\n",
    "    def __getitem__(self, idx):\n",
    "        item = {key: torch.tensor(val[idx]) for key, val in self.encodings.items()}\n",
    "        item[\"labels\"] = torch.tensor(self.labels[idx])\n",
    "        return item"
   ]
  },
  {
   "cell_type": "code",
   "execution_count": 7,
   "metadata": {
    "id": "XLtQOa8RCpyg"
   },
   "outputs": [],
   "source": [
    "class KaggleDataset(torch.utils.data.Dataset):\n",
    "    def __init__(self, encodings):\n",
    "        self.encodings = encodings\n",
    "    def __len__(self):\n",
    "        return len(self.encodings['input_ids'])\n",
    "    def __getitem__(self, idx):\n",
    "        return {key: torch.tensor(val[idx]) for key, val in self.encodings.items()}\n"
   ]
  },
  {
   "cell_type": "markdown",
   "metadata": {
    "id": "uOO4YZCICpyg"
   },
   "source": [
    "## 3. Carga del dataframe"
   ]
  },
  {
   "cell_type": "markdown",
   "metadata": {
    "id": "_uvKBS-8Cpyg"
   },
   "source": [
    "Se cargan los datos de la ruta *formated/train_hugging.csv*, los cuales son los datos ya procesados por uno de nuestros compañeros."
   ]
  },
  {
   "cell_type": "code",
   "execution_count": 8,
   "metadata": {
    "colab": {
     "base_uri": "https://localhost:8080/"
    },
    "id": "glBq265-Cpyg",
    "outputId": "fe574cfd-0d2f-4e13-9c72-5e7c0fc5c857"
   },
   "outputs": [
    {
     "name": "stdout",
     "output_type": "stream",
     "text": [
      "Datos cargados correctamente\n",
      "\n"
     ]
    }
   ],
   "source": [
    "url = \"/content/train_hugging.csv\"\n",
    "df = pd.read_csv(url)\n",
    "\n",
    "print(\"Datos cargados correctamente\\n\")"
   ]
  },
  {
   "cell_type": "markdown",
   "metadata": {
    "id": "WMQg7MVdCpyg"
   },
   "source": [
    "También cargamos el test que debemos predecir para Kaggle de la ruta *formated/test_hugging.csv*."
   ]
  },
  {
   "cell_type": "code",
   "execution_count": 9,
   "metadata": {
    "colab": {
     "base_uri": "https://localhost:8080/"
    },
    "id": "-cwhppL-Cpyh",
    "outputId": "fa5f4baa-53f4-42d0-90ff-4d1fb3a15bef"
   },
   "outputs": [
    {
     "name": "stdout",
     "output_type": "stream",
     "text": [
      "Test cargado correctamente\n",
      "\n"
     ]
    }
   ],
   "source": [
    "url = \"/content/test_hugging.csv\"\n",
    "df_test = pd.read_csv(url)\n",
    "\n",
    "print(\"Test cargado correctamente\\n\")"
   ]
  },
  {
   "cell_type": "markdown",
   "metadata": {
    "id": "cZhQ3e_zCpyh"
   },
   "source": [
    "## 4. Analisis de las caracteristicas"
   ]
  },
  {
   "cell_type": "markdown",
   "metadata": {
    "id": "7zswx0MWCpyh"
   },
   "source": [
    "Se configura pandas para que muestre todas las columnas y después se realiza un head para ver el contenido de las mismas."
   ]
  },
  {
   "cell_type": "code",
   "execution_count": 10,
   "metadata": {
    "colab": {
     "base_uri": "https://localhost:8080/",
     "height": 573
    },
    "id": "tJZ0Idc1Cpyh",
    "outputId": "816126ea-be19-4c03-b4c7-1cc680bff188"
   },
   "outputs": [
    {
     "data": {
      "application/vnd.google.colaboratory.intrinsic+json": {
       "summary": "{\n  \"name\": \"df\",\n  \"rows\": 8950,\n  \"fields\": [\n    {\n      \"column\": \"id\",\n      \"properties\": {\n        \"dtype\": \"string\",\n        \"num_unique_values\": 8950,\n        \"samples\": [\n          \"9dcaad49821\",\n          \"862355494a8\",\n          \"9ffe1448938\"\n        ],\n        \"semantic_type\": \"\",\n        \"description\": \"\"\n      }\n    },\n    {\n      \"column\": \"label\",\n      \"properties\": {\n        \"dtype\": \"number\",\n        \"std\": 0,\n        \"min\": 0,\n        \"max\": 1,\n        \"num_unique_values\": 2,\n        \"samples\": [\n          0,\n          1\n        ],\n        \"semantic_type\": \"\",\n        \"description\": \"\"\n      }\n    },\n    {\n      \"column\": \"statement\",\n      \"properties\": {\n        \"dtype\": \"string\",\n        \"num_unique_values\": 8939,\n        \"samples\": [\n          \"Charlie Crist attacks me for positions he held, like, six months ago, (when) he was running in the Republican primary.\",\n          \"In France, they have a (surveillance) program a thousandfold more invasive than the United States.\"\n        ],\n        \"semantic_type\": \"\",\n        \"description\": \"\"\n      }\n    },\n    {\n      \"column\": \"speaker_statement\",\n      \"properties\": {\n        \"dtype\": \"string\",\n        \"num_unique_values\": 8947,\n        \"samples\": [\n          \"marco-rubio said: \\\"Says Ted Cruz supports legalizing people who are in this country illegally.\\\"\",\n          \"mitt-romney said: \\\"John McCain is right on that one. The line-item veto is the best tool the president has to rein in excessive spending.\\\"\"\n        ],\n        \"semantic_type\": \"\",\n        \"description\": \"\"\n      }\n    },\n    {\n      \"column\": \"speaker_statement_subject\",\n      \"properties\": {\n        \"dtype\": \"string\",\n        \"num_unique_values\": 8950,\n        \"samples\": [\n          \"lauren-kane said: \\\"The prosecution of state Sen. Don Balfour cost less than $100, excluding prosecutors salaries.\\\" The statement concerns the topics of: ethics.\",\n          \"rand-paul said: \\\"The interest on the debt now is going to approach in the next couple of years ... what we spend in the national defense budget.\\\" The statement concerns the topics of: federal-budget,military,abc-news-week.\"\n        ],\n        \"semantic_type\": \"\",\n        \"description\": \"\"\n      }\n    },\n    {\n      \"column\": \"speaker_party_statement\",\n      \"properties\": {\n        \"dtype\": \"string\",\n        \"num_unique_values\": 8947,\n        \"samples\": [\n          \"marco-rubio (affiliated with the republican party) said: \\\"Says Ted Cruz supports legalizing people who are in this country illegally.\\\"\",\n          \"mitt-romney (affiliated with the republican party) said: \\\"John McCain is right on that one. The line-item veto is the best tool the president has to rein in excessive spending.\\\"\"\n        ],\n        \"semantic_type\": \"\",\n        \"description\": \"\"\n      }\n    },\n    {\n      \"column\": \"speaker_party_statement_subject\",\n      \"properties\": {\n        \"dtype\": \"string\",\n        \"num_unique_values\": 8950,\n        \"samples\": [\n          \"lauren-kane (affiliated with the republican party) said: \\\"The prosecution of state Sen. Don Balfour cost less than $100, excluding prosecutors salaries.\\\" The statement concerns the topics of: ethics.\",\n          \"rand-paul (affiliated with the republican party) said: \\\"The interest on the debt now is going to approach in the next couple of years ... what we spend in the national defense budget.\\\" The statement concerns the topics of: federal-budget,military,abc-news-week.\"\n        ],\n        \"semantic_type\": \"\",\n        \"description\": \"\"\n      }\n    },\n    {\n      \"column\": \"speaker_speaker-job_party_statement\",\n      \"properties\": {\n        \"dtype\": \"string\",\n        \"num_unique_values\": 8947,\n        \"samples\": [\n          \"marco-rubio (U.S. Senator) (affiliated with the republican party) said: \\\"Says Ted Cruz supports legalizing people who are in this country illegally.\\\"\",\n          \"mitt-romney (Former governor) (affiliated with the republican party) said: \\\"John McCain is right on that one. The line-item veto is the best tool the president has to rein in excessive spending.\\\"\"\n        ],\n        \"semantic_type\": \"\",\n        \"description\": \"\"\n      }\n    },\n    {\n      \"column\": \"speaker_speaker-job_party_statement_subject\",\n      \"properties\": {\n        \"dtype\": \"string\",\n        \"num_unique_values\": 8950,\n        \"samples\": [\n          \"lauren-kane (Communications Director, Georgia Attorney General's Office) (affiliated with the republican party) said: \\\"The prosecution of state Sen. Don Balfour cost less than $100, excluding prosecutors salaries.\\\" The statement concerns the topics of: ethics.\",\n          \"rand-paul (Candidate for U.S. Senate and physician) (affiliated with the republican party) said: \\\"The interest on the debt now is going to approach in the next couple of years ... what we spend in the national defense budget.\\\" The statement concerns the topics of: federal-budget,military,abc-news-week.\"\n        ],\n        \"semantic_type\": \"\",\n        \"description\": \"\"\n      }\n    }\n  ]\n}",
       "type": "dataframe",
       "variable_name": "df"
      },
      "text/html": [
       "\n",
       "  <div id=\"df-8a24b2a8-da3d-439b-89ee-53a5a3abd444\" class=\"colab-df-container\">\n",
       "    <div>\n",
       "<style scoped>\n",
       "    .dataframe tbody tr th:only-of-type {\n",
       "        vertical-align: middle;\n",
       "    }\n",
       "\n",
       "    .dataframe tbody tr th {\n",
       "        vertical-align: top;\n",
       "    }\n",
       "\n",
       "    .dataframe thead th {\n",
       "        text-align: right;\n",
       "    }\n",
       "</style>\n",
       "<table border=\"1\" class=\"dataframe\">\n",
       "  <thead>\n",
       "    <tr style=\"text-align: right;\">\n",
       "      <th></th>\n",
       "      <th>id</th>\n",
       "      <th>label</th>\n",
       "      <th>statement</th>\n",
       "      <th>speaker_statement</th>\n",
       "      <th>speaker_statement_subject</th>\n",
       "      <th>speaker_party_statement</th>\n",
       "      <th>speaker_party_statement_subject</th>\n",
       "      <th>speaker_speaker-job_party_statement</th>\n",
       "      <th>speaker_speaker-job_party_statement_subject</th>\n",
       "    </tr>\n",
       "  </thead>\n",
       "  <tbody>\n",
       "    <tr>\n",
       "      <th>0</th>\n",
       "      <td>81f884c64a7</td>\n",
       "      <td>1</td>\n",
       "      <td>China is in the South China Sea and (building)...</td>\n",
       "      <td>donald-trump said: \"China is in the South Chin...</td>\n",
       "      <td>donald-trump said: \"China is in the South Chin...</td>\n",
       "      <td>donald-trump (affiliated with the republican p...</td>\n",
       "      <td>donald-trump (affiliated with the republican p...</td>\n",
       "      <td>donald-trump (President-Elect) (affiliated wit...</td>\n",
       "      <td>donald-trump (President-Elect) (affiliated wit...</td>\n",
       "    </tr>\n",
       "    <tr>\n",
       "      <th>1</th>\n",
       "      <td>30c2723a188</td>\n",
       "      <td>0</td>\n",
       "      <td>With the resources it takes to execute just ov...</td>\n",
       "      <td>chris-dodd said: \"With the resources it takes ...</td>\n",
       "      <td>chris-dodd said: \"With the resources it takes ...</td>\n",
       "      <td>chris-dodd (affiliated with the democrat party...</td>\n",
       "      <td>chris-dodd (affiliated with the democrat party...</td>\n",
       "      <td>chris-dodd (U.S. senator) (affiliated with the...</td>\n",
       "      <td>chris-dodd (U.S. senator) (affiliated with the...</td>\n",
       "    </tr>\n",
       "    <tr>\n",
       "      <th>2</th>\n",
       "      <td>6936b216e5d</td>\n",
       "      <td>0</td>\n",
       "      <td>The (Wisconsin) governor has proposed tax give...</td>\n",
       "      <td>donna-brazile said: \"The (Wisconsin) governor ...</td>\n",
       "      <td>donna-brazile said: \"The (Wisconsin) governor ...</td>\n",
       "      <td>donna-brazile (affiliated with the democrat pa...</td>\n",
       "      <td>donna-brazile (affiliated with the democrat pa...</td>\n",
       "      <td>donna-brazile (Political commentator) (affilia...</td>\n",
       "      <td>donna-brazile (Political commentator) (affilia...</td>\n",
       "    </tr>\n",
       "    <tr>\n",
       "      <th>3</th>\n",
       "      <td>b5cd9195738</td>\n",
       "      <td>1</td>\n",
       "      <td>Says her representation of an ex-boyfriend who...</td>\n",
       "      <td>rebecca-bradley said: \"Says her representation...</td>\n",
       "      <td>rebecca-bradley said: \"Says her representation...</td>\n",
       "      <td>rebecca-bradley (affiliated with the none part...</td>\n",
       "      <td>rebecca-bradley (affiliated with the none part...</td>\n",
       "      <td>rebecca-bradley (affiliated with the none part...</td>\n",
       "      <td>rebecca-bradley (affiliated with the none part...</td>\n",
       "    </tr>\n",
       "    <tr>\n",
       "      <th>4</th>\n",
       "      <td>84f8dac7737</td>\n",
       "      <td>0</td>\n",
       "      <td>At protests in Wisconsin against proposed coll...</td>\n",
       "      <td>republican-party-wisconsin said: \"At protests ...</td>\n",
       "      <td>republican-party-wisconsin said: \"At protests ...</td>\n",
       "      <td>republican-party-wisconsin (affiliated with th...</td>\n",
       "      <td>republican-party-wisconsin (affiliated with th...</td>\n",
       "      <td>republican-party-wisconsin (affiliated with th...</td>\n",
       "      <td>republican-party-wisconsin (affiliated with th...</td>\n",
       "    </tr>\n",
       "  </tbody>\n",
       "</table>\n",
       "</div>\n",
       "    <div class=\"colab-df-buttons\">\n",
       "\n",
       "  <div class=\"colab-df-container\">\n",
       "    <button class=\"colab-df-convert\" onclick=\"convertToInteractive('df-8a24b2a8-da3d-439b-89ee-53a5a3abd444')\"\n",
       "            title=\"Convert this dataframe to an interactive table.\"\n",
       "            style=\"display:none;\">\n",
       "\n",
       "  <svg xmlns=\"http://www.w3.org/2000/svg\" height=\"24px\" viewBox=\"0 -960 960 960\">\n",
       "    <path d=\"M120-120v-720h720v720H120Zm60-500h600v-160H180v160Zm220 220h160v-160H400v160Zm0 220h160v-160H400v160ZM180-400h160v-160H180v160Zm440 0h160v-160H620v160ZM180-180h160v-160H180v160Zm440 0h160v-160H620v160Z\"/>\n",
       "  </svg>\n",
       "    </button>\n",
       "\n",
       "  <style>\n",
       "    .colab-df-container {\n",
       "      display:flex;\n",
       "      gap: 12px;\n",
       "    }\n",
       "\n",
       "    .colab-df-convert {\n",
       "      background-color: #E8F0FE;\n",
       "      border: none;\n",
       "      border-radius: 50%;\n",
       "      cursor: pointer;\n",
       "      display: none;\n",
       "      fill: #1967D2;\n",
       "      height: 32px;\n",
       "      padding: 0 0 0 0;\n",
       "      width: 32px;\n",
       "    }\n",
       "\n",
       "    .colab-df-convert:hover {\n",
       "      background-color: #E2EBFA;\n",
       "      box-shadow: 0px 1px 2px rgba(60, 64, 67, 0.3), 0px 1px 3px 1px rgba(60, 64, 67, 0.15);\n",
       "      fill: #174EA6;\n",
       "    }\n",
       "\n",
       "    .colab-df-buttons div {\n",
       "      margin-bottom: 4px;\n",
       "    }\n",
       "\n",
       "    [theme=dark] .colab-df-convert {\n",
       "      background-color: #3B4455;\n",
       "      fill: #D2E3FC;\n",
       "    }\n",
       "\n",
       "    [theme=dark] .colab-df-convert:hover {\n",
       "      background-color: #434B5C;\n",
       "      box-shadow: 0px 1px 3px 1px rgba(0, 0, 0, 0.15);\n",
       "      filter: drop-shadow(0px 1px 2px rgba(0, 0, 0, 0.3));\n",
       "      fill: #FFFFFF;\n",
       "    }\n",
       "  </style>\n",
       "\n",
       "    <script>\n",
       "      const buttonEl =\n",
       "        document.querySelector('#df-8a24b2a8-da3d-439b-89ee-53a5a3abd444 button.colab-df-convert');\n",
       "      buttonEl.style.display =\n",
       "        google.colab.kernel.accessAllowed ? 'block' : 'none';\n",
       "\n",
       "      async function convertToInteractive(key) {\n",
       "        const element = document.querySelector('#df-8a24b2a8-da3d-439b-89ee-53a5a3abd444');\n",
       "        const dataTable =\n",
       "          await google.colab.kernel.invokeFunction('convertToInteractive',\n",
       "                                                    [key], {});\n",
       "        if (!dataTable) return;\n",
       "\n",
       "        const docLinkHtml = 'Like what you see? Visit the ' +\n",
       "          '<a target=\"_blank\" href=https://colab.research.google.com/notebooks/data_table.ipynb>data table notebook</a>'\n",
       "          + ' to learn more about interactive tables.';\n",
       "        element.innerHTML = '';\n",
       "        dataTable['output_type'] = 'display_data';\n",
       "        await google.colab.output.renderOutput(dataTable, element);\n",
       "        const docLink = document.createElement('div');\n",
       "        docLink.innerHTML = docLinkHtml;\n",
       "        element.appendChild(docLink);\n",
       "      }\n",
       "    </script>\n",
       "  </div>\n",
       "\n",
       "\n",
       "    <div id=\"df-5e37e2ac-c2d8-41dd-b07e-e5a52d401d1b\">\n",
       "      <button class=\"colab-df-quickchart\" onclick=\"quickchart('df-5e37e2ac-c2d8-41dd-b07e-e5a52d401d1b')\"\n",
       "                title=\"Suggest charts\"\n",
       "                style=\"display:none;\">\n",
       "\n",
       "<svg xmlns=\"http://www.w3.org/2000/svg\" height=\"24px\"viewBox=\"0 0 24 24\"\n",
       "     width=\"24px\">\n",
       "    <g>\n",
       "        <path d=\"M19 3H5c-1.1 0-2 .9-2 2v14c0 1.1.9 2 2 2h14c1.1 0 2-.9 2-2V5c0-1.1-.9-2-2-2zM9 17H7v-7h2v7zm4 0h-2V7h2v10zm4 0h-2v-4h2v4z\"/>\n",
       "    </g>\n",
       "</svg>\n",
       "      </button>\n",
       "\n",
       "<style>\n",
       "  .colab-df-quickchart {\n",
       "      --bg-color: #E8F0FE;\n",
       "      --fill-color: #1967D2;\n",
       "      --hover-bg-color: #E2EBFA;\n",
       "      --hover-fill-color: #174EA6;\n",
       "      --disabled-fill-color: #AAA;\n",
       "      --disabled-bg-color: #DDD;\n",
       "  }\n",
       "\n",
       "  [theme=dark] .colab-df-quickchart {\n",
       "      --bg-color: #3B4455;\n",
       "      --fill-color: #D2E3FC;\n",
       "      --hover-bg-color: #434B5C;\n",
       "      --hover-fill-color: #FFFFFF;\n",
       "      --disabled-bg-color: #3B4455;\n",
       "      --disabled-fill-color: #666;\n",
       "  }\n",
       "\n",
       "  .colab-df-quickchart {\n",
       "    background-color: var(--bg-color);\n",
       "    border: none;\n",
       "    border-radius: 50%;\n",
       "    cursor: pointer;\n",
       "    display: none;\n",
       "    fill: var(--fill-color);\n",
       "    height: 32px;\n",
       "    padding: 0;\n",
       "    width: 32px;\n",
       "  }\n",
       "\n",
       "  .colab-df-quickchart:hover {\n",
       "    background-color: var(--hover-bg-color);\n",
       "    box-shadow: 0 1px 2px rgba(60, 64, 67, 0.3), 0 1px 3px 1px rgba(60, 64, 67, 0.15);\n",
       "    fill: var(--button-hover-fill-color);\n",
       "  }\n",
       "\n",
       "  .colab-df-quickchart-complete:disabled,\n",
       "  .colab-df-quickchart-complete:disabled:hover {\n",
       "    background-color: var(--disabled-bg-color);\n",
       "    fill: var(--disabled-fill-color);\n",
       "    box-shadow: none;\n",
       "  }\n",
       "\n",
       "  .colab-df-spinner {\n",
       "    border: 2px solid var(--fill-color);\n",
       "    border-color: transparent;\n",
       "    border-bottom-color: var(--fill-color);\n",
       "    animation:\n",
       "      spin 1s steps(1) infinite;\n",
       "  }\n",
       "\n",
       "  @keyframes spin {\n",
       "    0% {\n",
       "      border-color: transparent;\n",
       "      border-bottom-color: var(--fill-color);\n",
       "      border-left-color: var(--fill-color);\n",
       "    }\n",
       "    20% {\n",
       "      border-color: transparent;\n",
       "      border-left-color: var(--fill-color);\n",
       "      border-top-color: var(--fill-color);\n",
       "    }\n",
       "    30% {\n",
       "      border-color: transparent;\n",
       "      border-left-color: var(--fill-color);\n",
       "      border-top-color: var(--fill-color);\n",
       "      border-right-color: var(--fill-color);\n",
       "    }\n",
       "    40% {\n",
       "      border-color: transparent;\n",
       "      border-right-color: var(--fill-color);\n",
       "      border-top-color: var(--fill-color);\n",
       "    }\n",
       "    60% {\n",
       "      border-color: transparent;\n",
       "      border-right-color: var(--fill-color);\n",
       "    }\n",
       "    80% {\n",
       "      border-color: transparent;\n",
       "      border-right-color: var(--fill-color);\n",
       "      border-bottom-color: var(--fill-color);\n",
       "    }\n",
       "    90% {\n",
       "      border-color: transparent;\n",
       "      border-bottom-color: var(--fill-color);\n",
       "    }\n",
       "  }\n",
       "</style>\n",
       "\n",
       "      <script>\n",
       "        async function quickchart(key) {\n",
       "          const quickchartButtonEl =\n",
       "            document.querySelector('#' + key + ' button');\n",
       "          quickchartButtonEl.disabled = true;  // To prevent multiple clicks.\n",
       "          quickchartButtonEl.classList.add('colab-df-spinner');\n",
       "          try {\n",
       "            const charts = await google.colab.kernel.invokeFunction(\n",
       "                'suggestCharts', [key], {});\n",
       "          } catch (error) {\n",
       "            console.error('Error during call to suggestCharts:', error);\n",
       "          }\n",
       "          quickchartButtonEl.classList.remove('colab-df-spinner');\n",
       "          quickchartButtonEl.classList.add('colab-df-quickchart-complete');\n",
       "        }\n",
       "        (() => {\n",
       "          let quickchartButtonEl =\n",
       "            document.querySelector('#df-5e37e2ac-c2d8-41dd-b07e-e5a52d401d1b button');\n",
       "          quickchartButtonEl.style.display =\n",
       "            google.colab.kernel.accessAllowed ? 'block' : 'none';\n",
       "        })();\n",
       "      </script>\n",
       "    </div>\n",
       "\n",
       "    </div>\n",
       "  </div>\n"
      ],
      "text/plain": [
       "            id  label                                          statement  \\\n",
       "0  81f884c64a7      1  China is in the South China Sea and (building)...   \n",
       "1  30c2723a188      0  With the resources it takes to execute just ov...   \n",
       "2  6936b216e5d      0  The (Wisconsin) governor has proposed tax give...   \n",
       "3  b5cd9195738      1  Says her representation of an ex-boyfriend who...   \n",
       "4  84f8dac7737      0  At protests in Wisconsin against proposed coll...   \n",
       "\n",
       "                                   speaker_statement  \\\n",
       "0  donald-trump said: \"China is in the South Chin...   \n",
       "1  chris-dodd said: \"With the resources it takes ...   \n",
       "2  donna-brazile said: \"The (Wisconsin) governor ...   \n",
       "3  rebecca-bradley said: \"Says her representation...   \n",
       "4  republican-party-wisconsin said: \"At protests ...   \n",
       "\n",
       "                           speaker_statement_subject  \\\n",
       "0  donald-trump said: \"China is in the South Chin...   \n",
       "1  chris-dodd said: \"With the resources it takes ...   \n",
       "2  donna-brazile said: \"The (Wisconsin) governor ...   \n",
       "3  rebecca-bradley said: \"Says her representation...   \n",
       "4  republican-party-wisconsin said: \"At protests ...   \n",
       "\n",
       "                             speaker_party_statement  \\\n",
       "0  donald-trump (affiliated with the republican p...   \n",
       "1  chris-dodd (affiliated with the democrat party...   \n",
       "2  donna-brazile (affiliated with the democrat pa...   \n",
       "3  rebecca-bradley (affiliated with the none part...   \n",
       "4  republican-party-wisconsin (affiliated with th...   \n",
       "\n",
       "                     speaker_party_statement_subject  \\\n",
       "0  donald-trump (affiliated with the republican p...   \n",
       "1  chris-dodd (affiliated with the democrat party...   \n",
       "2  donna-brazile (affiliated with the democrat pa...   \n",
       "3  rebecca-bradley (affiliated with the none part...   \n",
       "4  republican-party-wisconsin (affiliated with th...   \n",
       "\n",
       "                 speaker_speaker-job_party_statement  \\\n",
       "0  donald-trump (President-Elect) (affiliated wit...   \n",
       "1  chris-dodd (U.S. senator) (affiliated with the...   \n",
       "2  donna-brazile (Political commentator) (affilia...   \n",
       "3  rebecca-bradley (affiliated with the none part...   \n",
       "4  republican-party-wisconsin (affiliated with th...   \n",
       "\n",
       "         speaker_speaker-job_party_statement_subject  \n",
       "0  donald-trump (President-Elect) (affiliated wit...  \n",
       "1  chris-dodd (U.S. senator) (affiliated with the...  \n",
       "2  donna-brazile (Political commentator) (affilia...  \n",
       "3  rebecca-bradley (affiliated with the none part...  \n",
       "4  republican-party-wisconsin (affiliated with th...  "
      ]
     },
     "execution_count": 10,
     "metadata": {},
     "output_type": "execute_result"
    }
   ],
   "source": [
    "pd.set_option('display.max_columns', None)\n",
    "df.head()"
   ]
  },
  {
   "cell_type": "markdown",
   "metadata": {
    "id": "uS6GcgHjCpyh"
   },
   "source": [
    "Se muestran todas las columnas para poder observarlas."
   ]
  },
  {
   "cell_type": "code",
   "execution_count": 11,
   "metadata": {
    "colab": {
     "base_uri": "https://localhost:8080/"
    },
    "id": "8RxivO7ZCpyh",
    "outputId": "b34d4bb1-e5c4-476b-c2f0-1d78d2deaee8"
   },
   "outputs": [
    {
     "data": {
      "text/plain": [
       "Index(['id', 'label', 'statement', 'speaker_statement',\n",
       "       'speaker_statement_subject', 'speaker_party_statement',\n",
       "       'speaker_party_statement_subject',\n",
       "       'speaker_speaker-job_party_statement',\n",
       "       'speaker_speaker-job_party_statement_subject'],\n",
       "      dtype='object')"
      ]
     },
     "execution_count": 11,
     "metadata": {},
     "output_type": "execute_result"
    }
   ],
   "source": [
    "df.columns"
   ]
  },
  {
   "cell_type": "markdown",
   "metadata": {
    "id": "VzBDdAgXCpyh"
   },
   "source": [
    "Se muestran todas las columnas en formato código para que sea más sencillo su uso. Además se estructuran en diversas categorias."
   ]
  },
  {
   "cell_type": "code",
   "execution_count": 12,
   "metadata": {
    "id": "-ZoSksnqCpyi"
   },
   "outputs": [],
   "source": [
    "all_features = [\n",
    "    # Identificador\n",
    "    'id',\n",
    "\n",
    "    # Etiqueta objetivo\n",
    "    'label',\n",
    "\n",
    "    # Texto original\n",
    "    'statement',\n",
    "\n",
    "    # Texto original + Speaker\n",
    "    'speaker_statement',\n",
    "\n",
    "    # Texto original + Speaker + Subject\n",
    "    'speaker_statement_subject',\n",
    "\n",
    "    # Texto original + Speaker + Party affilation\n",
    "    'speaker_party_statement',\n",
    "\n",
    "    # Texto original + Speaker + Party affilation + Subject\n",
    "    'speaker_party_statement_subject',\n",
    "\n",
    "    # Texto original + Speaker + Party affilation + Speaker Job\n",
    "    'speaker_speaker-job_party_statement',\n",
    "\n",
    "    # Texto original + Speaker + Party affilation + Speaker Job + Subject\n",
    "    'speaker_speaker-job_party_statement_subject'\n",
    "]"
   ]
  },
  {
   "cell_type": "markdown",
   "metadata": {
    "id": "KUBIcqWCCpyi"
   },
   "source": [
    "Como se observa se ha buscado unificar de forma progresiva las columnas. Además, se ha intentado no quitar palabras del texto original ya que los modelos de *Hugging Face* ya los tratan internamente mediante su propio *tokenizador*. Cada una de las columnas representara un caso de entrenamiento. A continuación se muestra un ejemplo de cada una de las columnas:"
   ]
  },
  {
   "cell_type": "markdown",
   "metadata": {
    "id": "fTydKeGECpyi"
   },
   "source": [
    "* **Caso 1 -** ***statement***"
   ]
  },
  {
   "cell_type": "code",
   "execution_count": 13,
   "metadata": {
    "colab": {
     "base_uri": "https://localhost:8080/",
     "height": 35
    },
    "id": "VqKmCrrUCpyi",
    "outputId": "6af08016-aeed-433d-e0c7-00b37046c712"
   },
   "outputs": [
    {
     "data": {
      "application/vnd.google.colaboratory.intrinsic+json": {
       "type": "string"
      },
      "text/plain": [
       "'China is in the South China Sea and (building)a military fortress the likes of which perhaps the world has not seen.'"
      ]
     },
     "execution_count": 13,
     "metadata": {},
     "output_type": "execute_result"
    }
   ],
   "source": [
    "df['statement'].iloc[0]"
   ]
  },
  {
   "cell_type": "markdown",
   "metadata": {
    "id": "1VCHnV3VCpyj"
   },
   "source": [
    "* **Caso 2 -** ***speaker_statement***"
   ]
  },
  {
   "cell_type": "code",
   "execution_count": 14,
   "metadata": {
    "colab": {
     "base_uri": "https://localhost:8080/",
     "height": 35
    },
    "id": "FPJpGoNNCpyj",
    "outputId": "e9f632ac-5be3-4dd0-bfb1-f37122f138d2"
   },
   "outputs": [
    {
     "data": {
      "application/vnd.google.colaboratory.intrinsic+json": {
       "type": "string"
      },
      "text/plain": [
       "'donald-trump said: \"China is in the South China Sea and (building)a military fortress the likes of which perhaps the world has not seen.\"'"
      ]
     },
     "execution_count": 14,
     "metadata": {},
     "output_type": "execute_result"
    }
   ],
   "source": [
    "df['speaker_statement'].iloc[0]"
   ]
  },
  {
   "cell_type": "markdown",
   "metadata": {
    "id": "6SPPlY-tCpyj"
   },
   "source": [
    "* **Caso 3 -** ***speaker_statement_subject***"
   ]
  },
  {
   "cell_type": "code",
   "execution_count": 15,
   "metadata": {
    "colab": {
     "base_uri": "https://localhost:8080/",
     "height": 52
    },
    "id": "sVCffZrtCpyj",
    "outputId": "6e6003d9-9662-4550-afa1-da1c4f3c4e52"
   },
   "outputs": [
    {
     "data": {
      "application/vnd.google.colaboratory.intrinsic+json": {
       "type": "string"
      },
      "text/plain": [
       "'donald-trump said: \"China is in the South China Sea and (building)a military fortress the likes of which perhaps the world has not seen.\" The statement concerns the topics of: china,foreign-policy,military.'"
      ]
     },
     "execution_count": 15,
     "metadata": {},
     "output_type": "execute_result"
    }
   ],
   "source": [
    "df['speaker_statement_subject'].iloc[0]"
   ]
  },
  {
   "cell_type": "markdown",
   "metadata": {
    "id": "0XYTSmH3Cpyk"
   },
   "source": [
    "* **Caso 4 -** ***speaker_party_statement***"
   ]
  },
  {
   "cell_type": "code",
   "execution_count": 16,
   "metadata": {
    "colab": {
     "base_uri": "https://localhost:8080/",
     "height": 52
    },
    "id": "fN4VmhHLCpyk",
    "outputId": "a77293a7-7a58-4943-ddd0-1a086c585278"
   },
   "outputs": [
    {
     "data": {
      "application/vnd.google.colaboratory.intrinsic+json": {
       "type": "string"
      },
      "text/plain": [
       "'donald-trump (affiliated with the republican party) said: \"China is in the South China Sea and (building)a military fortress the likes of which perhaps the world has not seen.\"'"
      ]
     },
     "execution_count": 16,
     "metadata": {},
     "output_type": "execute_result"
    }
   ],
   "source": [
    "df['speaker_party_statement'].iloc[0]"
   ]
  },
  {
   "cell_type": "markdown",
   "metadata": {
    "id": "DbalF-8pCpyk"
   },
   "source": [
    "* **Caso 5 -** ***speaker_party_statement_subject***"
   ]
  },
  {
   "cell_type": "code",
   "execution_count": 17,
   "metadata": {
    "colab": {
     "base_uri": "https://localhost:8080/",
     "height": 52
    },
    "id": "uCRLXmMGCpyq",
    "outputId": "dc1bc919-d333-4d4d-960f-bf08c75dbe63"
   },
   "outputs": [
    {
     "data": {
      "application/vnd.google.colaboratory.intrinsic+json": {
       "type": "string"
      },
      "text/plain": [
       "'donald-trump (affiliated with the republican party) said: \"China is in the South China Sea and (building)a military fortress the likes of which perhaps the world has not seen.\" The statement concerns the topics of: china,foreign-policy,military.'"
      ]
     },
     "execution_count": 17,
     "metadata": {},
     "output_type": "execute_result"
    }
   ],
   "source": [
    "df['speaker_party_statement_subject'].iloc[0]"
   ]
  },
  {
   "cell_type": "markdown",
   "metadata": {
    "id": "aAXs53WECpyq"
   },
   "source": [
    "* **Caso 6 -** ***speaker_speaker-job_party_statement***"
   ]
  },
  {
   "cell_type": "code",
   "execution_count": 18,
   "metadata": {
    "colab": {
     "base_uri": "https://localhost:8080/",
     "height": 52
    },
    "id": "XDC_XIPECpyq",
    "outputId": "63b29d17-fb81-4d34-ac55-5849b0d97c08"
   },
   "outputs": [
    {
     "data": {
      "application/vnd.google.colaboratory.intrinsic+json": {
       "type": "string"
      },
      "text/plain": [
       "'donald-trump (President-Elect) (affiliated with the republican party) said: \"China is in the South China Sea and (building)a military fortress the likes of which perhaps the world has not seen.\"'"
      ]
     },
     "execution_count": 18,
     "metadata": {},
     "output_type": "execute_result"
    }
   ],
   "source": [
    "df['speaker_speaker-job_party_statement'].iloc[0]"
   ]
  },
  {
   "cell_type": "markdown",
   "metadata": {
    "id": "HDkr9hITCpyq"
   },
   "source": [
    "* **Caso 7 -** ***speaker_speaker-job_party_statement_subject***"
   ]
  },
  {
   "cell_type": "code",
   "execution_count": 19,
   "metadata": {
    "colab": {
     "base_uri": "https://localhost:8080/",
     "height": 52
    },
    "id": "wySuDfR0Cpyq",
    "outputId": "969f11e8-46d2-4081-bcd1-e5a5e7cf527a"
   },
   "outputs": [
    {
     "data": {
      "application/vnd.google.colaboratory.intrinsic+json": {
       "type": "string"
      },
      "text/plain": [
       "'donald-trump (President-Elect) (affiliated with the republican party) said: \"China is in the South China Sea and (building)a military fortress the likes of which perhaps the world has not seen.\" The statement concerns the topics of: china,foreign-policy,military.'"
      ]
     },
     "execution_count": 19,
     "metadata": {},
     "output_type": "execute_result"
    }
   ],
   "source": [
    "df['speaker_speaker-job_party_statement_subject'].iloc[0]"
   ]
  },
  {
   "cell_type": "markdown",
   "metadata": {
    "id": "4QY6NoyUCpyq",
    "jp-MarkdownHeadingCollapsed": true
   },
   "source": [
    "## 6. Entrenamiento de un modelo fijo con varios casos de preprocesado"
   ]
  },
  {
   "cell_type": "markdown",
   "metadata": {
    "id": "INTwSBiOCpyq"
   },
   "source": [
    "El objetivo de este apartado es buscar cual es el mejor caso de preprocesado de los presentados anteriormente. Para ello se ha decidido seleccionar un modelo fijo, el cual es \"distilbert/distilroberta-base\"."
   ]
  },
  {
   "cell_type": "markdown",
   "metadata": {
    "id": "8hreRa8mCpyr",
    "jp-MarkdownHeadingCollapsed": true
   },
   "source": [
    "### 6.1 Caso 1: Statement"
   ]
  },
  {
   "cell_type": "markdown",
   "metadata": {
    "id": "Elg2UEelCpyr",
    "jp-MarkdownHeadingCollapsed": true
   },
   "source": [
    "#### 6.1.1 Carga de los datos y division en entrenamiento y test"
   ]
  },
  {
   "cell_type": "markdown",
   "metadata": {
    "id": "kIGV7yw5Cpyr"
   },
   "source": [
    "Cargamos las caracteristicas seleccionadas en la variable X y el objetivo *label* en la variable y. Para la seleccion de la variable X se utilizará la función auxiliar *selStatement*, introducciendo como parámetros el caso de entrenamiento seleccionado y el *dataframe* donde estan almacenados los datos."
   ]
  },
  {
   "cell_type": "code",
   "execution_count": 20,
   "metadata": {
    "id": "sM-BUMbTCpyr"
   },
   "outputs": [],
   "source": [
    "X =  selStatement(1, df)\n",
    "y = df['label']\n",
    "\n",
    "X_kaggle = selStatement(1, df_test)"
   ]
  },
  {
   "cell_type": "markdown",
   "metadata": {
    "id": "CmaQ392nCpyr"
   },
   "source": [
    "Se realiza un *iloc* para comprobar de forma sencilla que hemos escogido el caso de entrenamiento correcto"
   ]
  },
  {
   "cell_type": "code",
   "execution_count": 21,
   "metadata": {
    "colab": {
     "base_uri": "https://localhost:8080/",
     "height": 35
    },
    "id": "GvhzH97NCpyr",
    "outputId": "b25c43ca-cb2b-4410-b219-c5060cc4f26d"
   },
   "outputs": [
    {
     "data": {
      "application/vnd.google.colaboratory.intrinsic+json": {
       "type": "string"
      },
      "text/plain": [
       "'China is in the South China Sea and (building)a military fortress the likes of which perhaps the world has not seen.'"
      ]
     },
     "execution_count": 21,
     "metadata": {},
     "output_type": "execute_result"
    }
   ],
   "source": [
    "X.iloc[0]"
   ]
  },
  {
   "cell_type": "code",
   "execution_count": 22,
   "metadata": {
    "colab": {
     "base_uri": "https://localhost:8080/",
     "height": 35
    },
    "id": "1W_OsiZHCpyr",
    "outputId": "d68d5fc3-dc91-418e-e9af-bd20d6b63727"
   },
   "outputs": [
    {
     "data": {
      "application/vnd.google.colaboratory.intrinsic+json": {
       "type": "string"
      },
      "text/plain": [
       "'Five members of [the Common Cause Georgia] board accepted maximum campaign contributions.'"
      ]
     },
     "execution_count": 22,
     "metadata": {},
     "output_type": "execute_result"
    }
   ],
   "source": [
    "X_kaggle.iloc[0]"
   ]
  },
  {
   "cell_type": "markdown",
   "metadata": {
    "id": "avmGkURgCpyr"
   },
   "source": [
    "Se separa en entrenamiento y test."
   ]
  },
  {
   "cell_type": "code",
   "execution_count": 23,
   "metadata": {
    "id": "Jhsg5f6hCpys"
   },
   "outputs": [],
   "source": [
    "X_train, X_test, y_train, y_test = train_test_split(X, y, test_size=0.2, random_state=seed)"
   ]
  },
  {
   "cell_type": "markdown",
   "metadata": {
    "id": "I2J8cvQaCpys",
    "jp-MarkdownHeadingCollapsed": true
   },
   "source": [
    "#### 6.1.2 Entrenamiento"
   ]
  },
  {
   "cell_type": "markdown",
   "metadata": {
    "id": "KJ5etPn3Cpys"
   },
   "source": [
    "Seleccionamos el modelo mediante la función *selModel* y el parámetro *'deberta'*."
   ]
  },
  {
   "cell_type": "code",
   "execution_count": 24,
   "metadata": {
    "colab": {
     "base_uri": "https://localhost:8080/"
    },
    "id": "AZuV70iyCpys",
    "outputId": "23094b31-de7d-4940-ecfd-f01e4c3860fe"
   },
   "outputs": [
    {
     "name": "stdout",
     "output_type": "stream",
     "text": [
      "Modelo seleccionado: distilbert/distilroberta-base\n"
     ]
    }
   ],
   "source": [
    "model_name = selModel('roberta')\n",
    "print(\"Modelo seleccionado:\", model_name)"
   ]
  },
  {
   "cell_type": "markdown",
   "metadata": {
    "id": "wxydn-jeCpys"
   },
   "source": [
    "Seleccionamos el tokenizador del modelo."
   ]
  },
  {
   "cell_type": "code",
   "execution_count": 25,
   "metadata": {
    "colab": {
     "base_uri": "https://localhost:8080/",
     "height": 301,
     "referenced_widgets": [
      "25204caba1cb48d992f626b555c5973a",
      "8d0c869c380b4f1d8046dcacbfd51a2a",
      "1e1ae15d215d417c9657cd440d956684",
      "854c564e61e0456db4e4bc0676a526e8",
      "7cb27bc290234bab82dfc350e0a3b46d",
      "facf18b9f3cf4478b60090df74cd2c07",
      "5102dc80e5074c6aa74ab0e2cf2de1df",
      "9a56d6858d0d42e9b3053200a6f00cd3",
      "574c1d61d1a34e4c8aa4bea2621510fe",
      "218a0d2898f6480db2bdf53245c8bd22",
      "ae19ab8ab6f24f1ca9565c25487e118e",
      "a50a515e6de44784a527abe76d5e753a",
      "525cebf925da45eab4d484e290d47e88",
      "6727983ee810448fa4da77a18719b74c",
      "2b588dc51d05485f9d764b9d2cbdd6dc",
      "3eedde61a5de4f59935695adc0c2a091",
      "451fc682f8974c239f73c68e39fa0418",
      "602622e4cb6545c5a354456cf84b0a3f",
      "a61b563b229e4b5f917f96f684f02533",
      "59c57ff693da41c18ccc4c6eb6d7f6e3",
      "4a74e4d76b414b258b66cd5900e54efb",
      "08ccad5e13314f5e9c4c7152a0bdb8ff",
      "e29d56c80da142e38ed4c7aa0e956387",
      "2236a4160ee24168b9bd2f5fd2c3233d",
      "6949981996c64f03ad70a89b1bbf56f3",
      "dc054598859444febaef3b0b3f4c02bd",
      "858317dd5a084e5395ff93e1f8321bac",
      "7a2d08e563fb4d64a7c92a1a011d6f68",
      "6fc4ad4e67a947c9869edb73cd8b4dd2",
      "5a73d8125182473c9433f527f0469737",
      "26d84eb49b2e43a58b3dc02c22a19939",
      "5528450e97b54ff0a97f541283ecb279",
      "e7b47ef10d5f4a8ebe39436e66817ad7",
      "493791ffe2ea4114b08ce89a9b8877ef",
      "f792119aa96e40d6b0f9bbbc46b6c24c",
      "ef3e9a858b2e42488d694d9cdbae62c5",
      "12e037f26b3e452e868e4439e68f2803",
      "38293af02fba4abdb9d011aae7af127c",
      "de892fd67bb94b7ebe205f9f4dd84319",
      "761093d092e64dc692bc2e290b07d03e",
      "70f514713c77420289b8b2df94b18257",
      "762c47a646a547be8d235538c82be59c",
      "17fb0b1fe8b74ec79bdea707d38b1e16",
      "55bc5cf6db58408487be2ee0330fa0ba",
      "4f2692790a2b48288f276cf50f9bb278",
      "eb2307cb0f08409a8659e4f1721ee1e9",
      "f826ba2288f342ddaf35a45cd31d2978",
      "296c6ba5f1a44b5a850d164cf9ecf6e8",
      "a730e1866813436faf37146ecbb08b0b",
      "743f6182287045a1825471c5be0ad0f2",
      "85205169e8504c43b5fbf36eff231ee0",
      "d07efc076b524e919b1234084319351c",
      "e88ef94ea2e043ca8cee210ac2efbc00",
      "f31c4ba9283548bd981fa484b1299f78",
      "c322667366ce456cb989547cce56df7d"
     ]
    },
    "id": "I9-DQPivCpys",
    "outputId": "d3561905-14ee-48a2-fa11-57e8e76c5ed0"
   },
   "outputs": [
    {
     "name": "stderr",
     "output_type": "stream",
     "text": [
      "/usr/local/lib/python3.11/dist-packages/huggingface_hub/utils/_auth.py:94: UserWarning: \n",
      "The secret `HF_TOKEN` does not exist in your Colab secrets.\n",
      "To authenticate with the Hugging Face Hub, create a token in your settings tab (https://huggingface.co/settings/tokens), set it as secret in your Google Colab and restart your session.\n",
      "You will be able to reuse this secret in all of your notebooks.\n",
      "Please note that authentication is recommended but still optional to access public models or datasets.\n",
      "  warnings.warn(\n"
     ]
    },
    {
     "data": {
      "application/vnd.jupyter.widget-view+json": {
       "model_id": "25204caba1cb48d992f626b555c5973a",
       "version_major": 2,
       "version_minor": 0
      },
      "text/plain": [
       "tokenizer_config.json:   0%|          | 0.00/25.0 [00:00<?, ?B/s]"
      ]
     },
     "metadata": {},
     "output_type": "display_data"
    },
    {
     "data": {
      "application/vnd.jupyter.widget-view+json": {
       "model_id": "a50a515e6de44784a527abe76d5e753a",
       "version_major": 2,
       "version_minor": 0
      },
      "text/plain": [
       "config.json:   0%|          | 0.00/480 [00:00<?, ?B/s]"
      ]
     },
     "metadata": {},
     "output_type": "display_data"
    },
    {
     "data": {
      "application/vnd.jupyter.widget-view+json": {
       "model_id": "e29d56c80da142e38ed4c7aa0e956387",
       "version_major": 2,
       "version_minor": 0
      },
      "text/plain": [
       "vocab.json:   0%|          | 0.00/899k [00:00<?, ?B/s]"
      ]
     },
     "metadata": {},
     "output_type": "display_data"
    },
    {
     "data": {
      "application/vnd.jupyter.widget-view+json": {
       "model_id": "493791ffe2ea4114b08ce89a9b8877ef",
       "version_major": 2,
       "version_minor": 0
      },
      "text/plain": [
       "merges.txt:   0%|          | 0.00/456k [00:00<?, ?B/s]"
      ]
     },
     "metadata": {},
     "output_type": "display_data"
    },
    {
     "data": {
      "application/vnd.jupyter.widget-view+json": {
       "model_id": "4f2692790a2b48288f276cf50f9bb278",
       "version_major": 2,
       "version_minor": 0
      },
      "text/plain": [
       "tokenizer.json:   0%|          | 0.00/1.36M [00:00<?, ?B/s]"
      ]
     },
     "metadata": {},
     "output_type": "display_data"
    }
   ],
   "source": [
    "tokenizer = AutoTokenizer.from_pretrained(model_name)"
   ]
  },
  {
   "cell_type": "markdown",
   "metadata": {
    "id": "kVitb_pICpyt"
   },
   "source": [
    "Tokenizamos los textos."
   ]
  },
  {
   "cell_type": "code",
   "execution_count": 26,
   "metadata": {
    "id": "eD25vtn1Cpyt"
   },
   "outputs": [],
   "source": [
    "# Entrenamiento y evaluación\n",
    "train_encodings = tokenizer(list(X_train), truncation=True, padding=True)\n",
    "test_encodings = tokenizer(list(X_test), truncation=True, padding=True)\n",
    "\n",
    "# Kaggle\n",
    "kaggle_encodings = tokenizer(list(X_kaggle), truncation=True, padding=True)"
   ]
  },
  {
   "cell_type": "markdown",
   "metadata": {
    "id": "WrGmqMXSCpyt"
   },
   "source": [
    "Transformamos los *dataframes* en *dataset* con la funcion *OwnDataset* y con la función *KaggleDataset* (la diferencia entre ellas es que *KaggleDataset* se construye sin *labels*)."
   ]
  },
  {
   "cell_type": "code",
   "execution_count": 27,
   "metadata": {
    "id": "_lBXBmFVCpyt"
   },
   "outputs": [],
   "source": [
    "train_dataset = OwnDataset(train_encodings, list(y_train))\n",
    "test_dataset = OwnDataset(test_encodings, list(y_test))\n",
    "\n",
    "kaggle_dataset = KaggleDataset(kaggle_encodings)"
   ]
  },
  {
   "cell_type": "markdown",
   "metadata": {
    "id": "GPZeP96wCpyt"
   },
   "source": [
    "Cargamos el modelo."
   ]
  },
  {
   "cell_type": "code",
   "execution_count": 28,
   "metadata": {
    "colab": {
     "base_uri": "https://localhost:8080/",
     "height": 138,
     "referenced_widgets": [
      "87f4b61e3444455f82b03c48688e30a7",
      "e5b6fcde80594c1ebd8d5b8f80d748ac",
      "0c416aceed504ff8a626736d197ce2d5",
      "c4a5b4c3980e4cf48f06ee93896b4f25",
      "4312bfd7642242f9910a91463fb3e681",
      "6d96c7a390f448adbc23cd32d4b1ecec",
      "ce54b4682632405f8bda9013d28bec09",
      "3434b968961b4c5ea7ad13e5956e7b1e",
      "b1f0371060c64fcbb8c4f9490ba7c2d7",
      "d2e0a39d6748499fbe7877b4718d2ae4",
      "ac3a5de486dd4095a7e60f8cdc666ac9"
     ]
    },
    "id": "8840d7QWCpyt",
    "outputId": "4265502f-8a01-443a-da60-51ef78b3759e"
   },
   "outputs": [
    {
     "name": "stderr",
     "output_type": "stream",
     "text": [
      "Xet Storage is enabled for this repo, but the 'hf_xet' package is not installed. Falling back to regular HTTP download. For better performance, install the package with: `pip install huggingface_hub[hf_xet]` or `pip install hf_xet`\n",
      "WARNING:huggingface_hub.file_download:Xet Storage is enabled for this repo, but the 'hf_xet' package is not installed. Falling back to regular HTTP download. For better performance, install the package with: `pip install huggingface_hub[hf_xet]` or `pip install hf_xet`\n"
     ]
    },
    {
     "data": {
      "application/vnd.jupyter.widget-view+json": {
       "model_id": "87f4b61e3444455f82b03c48688e30a7",
       "version_major": 2,
       "version_minor": 0
      },
      "text/plain": [
       "model.safetensors:   0%|          | 0.00/331M [00:00<?, ?B/s]"
      ]
     },
     "metadata": {},
     "output_type": "display_data"
    },
    {
     "name": "stderr",
     "output_type": "stream",
     "text": [
      "Some weights of RobertaForSequenceClassification were not initialized from the model checkpoint at distilbert/distilroberta-base and are newly initialized: ['classifier.dense.bias', 'classifier.dense.weight', 'classifier.out_proj.bias', 'classifier.out_proj.weight']\n",
      "You should probably TRAIN this model on a down-stream task to be able to use it for predictions and inference.\n"
     ]
    }
   ],
   "source": [
    "model = AutoModelForSequenceClassification.from_pretrained(model_name, num_labels=2)"
   ]
  },
  {
   "cell_type": "code",
   "execution_count": 29,
   "metadata": {
    "id": "yR2LgjIoCpyt"
   },
   "outputs": [],
   "source": [
    "training_args = TrainingArguments(\n",
    "    output_dir=\"./results_caso1\",\n",
    "    eval_strategy=\"epoch\",\n",
    "    save_strategy=\"epoch\",\n",
    "    learning_rate=2e-5,\n",
    "    per_device_train_batch_size=16,\n",
    "    per_device_eval_batch_size=32,\n",
    "    num_train_epochs=2,\n",
    "    weight_decay=0.01,\n",
    "    report_to=\"none\",\n",
    "    load_best_model_at_end=True,\n",
    "    metric_for_best_model=\"f1\",\n",
    "    greater_is_better=True\n",
    ")"
   ]
  },
  {
   "cell_type": "markdown",
   "metadata": {
    "id": "hSQ2okV0Cpyu"
   },
   "source": [
    "Definimos un entrenador."
   ]
  },
  {
   "cell_type": "code",
   "execution_count": 30,
   "metadata": {
    "colab": {
     "base_uri": "https://localhost:8080/"
    },
    "id": "B1F_VwgeCpyu",
    "outputId": "c8e6a697-64b8-40cc-d94a-86a4559825b8"
   },
   "outputs": [
    {
     "name": "stderr",
     "output_type": "stream",
     "text": [
      "<ipython-input-30-53e65685ea53>:1: FutureWarning: `tokenizer` is deprecated and will be removed in version 5.0.0 for `Trainer.__init__`. Use `processing_class` instead.\n",
      "  trainer = Trainer(\n"
     ]
    }
   ],
   "source": [
    "trainer = Trainer(\n",
    "    model = model,\n",
    "    args = training_args,\n",
    "    train_dataset = train_dataset,\n",
    "    eval_dataset = test_dataset,\n",
    "    tokenizer = tokenizer,\n",
    "    compute_metrics = compute_metrics\n",
    ")"
   ]
  },
  {
   "cell_type": "markdown",
   "metadata": {
    "id": "HH9-yfSDCpyu"
   },
   "source": [
    "Entrenamos el modelo."
   ]
  },
  {
   "cell_type": "code",
   "execution_count": 31,
   "metadata": {
    "colab": {
     "base_uri": "https://localhost:8080/",
     "height": 172
    },
    "id": "-KWUmDaVCpyu",
    "outputId": "fa1d03ff-c7dc-43ee-f61a-5fb4bc2ec5a1"
   },
   "outputs": [
    {
     "data": {
      "text/html": [
       "\n",
       "    <div>\n",
       "      \n",
       "      <progress value='896' max='896' style='width:300px; height:20px; vertical-align: middle;'></progress>\n",
       "      [896/896 11:17, Epoch 2/2]\n",
       "    </div>\n",
       "    <table border=\"1\" class=\"dataframe\">\n",
       "  <thead>\n",
       " <tr style=\"text-align: left;\">\n",
       "      <th>Epoch</th>\n",
       "      <th>Training Loss</th>\n",
       "      <th>Validation Loss</th>\n",
       "      <th>Accuracy</th>\n",
       "      <th>F1</th>\n",
       "    </tr>\n",
       "  </thead>\n",
       "  <tbody>\n",
       "    <tr>\n",
       "      <td>1</td>\n",
       "      <td>No log</td>\n",
       "      <td>0.609881</td>\n",
       "      <td>0.669832</td>\n",
       "      <td>0.774685</td>\n",
       "    </tr>\n",
       "    <tr>\n",
       "      <td>2</td>\n",
       "      <td>0.626900</td>\n",
       "      <td>0.621559</td>\n",
       "      <td>0.653631</td>\n",
       "      <td>0.738397</td>\n",
       "    </tr>\n",
       "  </tbody>\n",
       "</table><p>"
      ],
      "text/plain": [
       "<IPython.core.display.HTML object>"
      ]
     },
     "metadata": {},
     "output_type": "display_data"
    },
    {
     "data": {
      "text/plain": [
       "TrainOutput(global_step=896, training_loss=0.6057974440710885, metrics={'train_runtime': 679.5388, 'train_samples_per_second': 21.073, 'train_steps_per_second': 1.319, 'total_flos': 1896933148753920.0, 'train_loss': 0.6057974440710885, 'epoch': 2.0})"
      ]
     },
     "execution_count": 31,
     "metadata": {},
     "output_type": "execute_result"
    }
   ],
   "source": [
    "trainer.train()"
   ]
  },
  {
   "cell_type": "markdown",
   "metadata": {
    "id": "_QArn1wiCpyv"
   },
   "source": [
    "Evaluamos los estadísticos establecidos previamente."
   ]
  },
  {
   "cell_type": "code",
   "execution_count": 32,
   "metadata": {
    "colab": {
     "base_uri": "https://localhost:8080/",
     "height": 158
    },
    "id": "s920Y64ACpyv",
    "outputId": "bd3c5bcd-a6c6-42c7-ccc0-be70833164c2"
   },
   "outputs": [
    {
     "data": {
      "text/html": [
       "\n",
       "    <div>\n",
       "      \n",
       "      <progress value='56' max='56' style='width:300px; height:20px; vertical-align: middle;'></progress>\n",
       "      [56/56 00:04]\n",
       "    </div>\n",
       "    "
      ],
      "text/plain": [
       "<IPython.core.display.HTML object>"
      ]
     },
     "metadata": {},
     "output_type": "display_data"
    },
    {
     "data": {
      "text/plain": [
       "{'eval_loss': 0.6098808646202087,\n",
       " 'eval_accuracy': 0.6698324022346369,\n",
       " 'eval_f1': 0.7746854746473504,\n",
       " 'eval_runtime': 4.2336,\n",
       " 'eval_samples_per_second': 422.804,\n",
       " 'eval_steps_per_second': 13.227,\n",
       " 'epoch': 2.0}"
      ]
     },
     "execution_count": 32,
     "metadata": {},
     "output_type": "execute_result"
    }
   ],
   "source": [
    "trainer.evaluate()"
   ]
  },
  {
   "cell_type": "markdown",
   "metadata": {
    "id": "BL09gmymCpyv"
   },
   "source": [
    "En caso de querer almacenarlo para ser evaluados por otros."
   ]
  },
  {
   "cell_type": "raw",
   "metadata": {
    "id": "_hWuwUd7Cpyv"
   },
   "source": [
    "trainer.save_model(\"roberta_caso1\")\n",
    "tokenizer.save_pretrained(\"roberta_caso1\")"
   ]
  },
  {
   "cell_type": "markdown",
   "metadata": {
    "id": "Ax8k_VM1Cpyv",
    "jp-MarkdownHeadingCollapsed": true
   },
   "source": [
    "#### 6.1.3 Exportar CSV"
   ]
  },
  {
   "cell_type": "code",
   "execution_count": 33,
   "metadata": {
    "colab": {
     "base_uri": "https://localhost:8080/",
     "height": 17
    },
    "id": "OcK1QQQLCpyw",
    "outputId": "c315c78e-0094-405c-8599-3203ebf06f33"
   },
   "outputs": [
    {
     "data": {
      "text/html": [],
      "text/plain": [
       "<IPython.core.display.HTML object>"
      ]
     },
     "metadata": {},
     "output_type": "display_data"
    }
   ],
   "source": [
    "predictions = trainer.predict(kaggle_dataset)\n",
    "predicted_labels = predictions.predictions.argmax(-1)"
   ]
  },
  {
   "cell_type": "code",
   "execution_count": 34,
   "metadata": {
    "id": "gdxISE3-Cpyw"
   },
   "outputs": [],
   "source": [
    "df_label_caso1 = pd.DataFrame(predicted_labels, columns=['label'])\n",
    "df_id = df_test['id'].reset_index(drop=True)\n",
    "df_final_caso1 = pd.concat([df_id, df_label_caso1], axis=1)"
   ]
  },
  {
   "cell_type": "code",
   "execution_count": 35,
   "metadata": {
    "colab": {
     "base_uri": "https://localhost:8080/",
     "height": 178
    },
    "id": "tTIUA_QlCpyw",
    "outputId": "5d87baeb-b339-48c1-8d05-7c1e0cbe4ffd"
   },
   "outputs": [
    {
     "data": {
      "text/html": [
       "<div>\n",
       "<style scoped>\n",
       "    .dataframe tbody tr th:only-of-type {\n",
       "        vertical-align: middle;\n",
       "    }\n",
       "\n",
       "    .dataframe tbody tr th {\n",
       "        vertical-align: top;\n",
       "    }\n",
       "\n",
       "    .dataframe thead th {\n",
       "        text-align: right;\n",
       "    }\n",
       "</style>\n",
       "<table border=\"1\" class=\"dataframe\">\n",
       "  <thead>\n",
       "    <tr style=\"text-align: right;\">\n",
       "      <th></th>\n",
       "      <th>count</th>\n",
       "    </tr>\n",
       "    <tr>\n",
       "      <th>label</th>\n",
       "      <th></th>\n",
       "    </tr>\n",
       "  </thead>\n",
       "  <tbody>\n",
       "    <tr>\n",
       "      <th>1</th>\n",
       "      <td>3106</td>\n",
       "    </tr>\n",
       "    <tr>\n",
       "      <th>0</th>\n",
       "      <td>730</td>\n",
       "    </tr>\n",
       "  </tbody>\n",
       "</table>\n",
       "</div><br><label><b>dtype:</b> int64</label>"
      ],
      "text/plain": [
       "label\n",
       "1    3106\n",
       "0     730\n",
       "Name: count, dtype: int64"
      ]
     },
     "execution_count": 35,
     "metadata": {},
     "output_type": "execute_result"
    }
   ],
   "source": [
    "df_final_caso1['label'].value_counts()"
   ]
  },
  {
   "cell_type": "code",
   "execution_count": 37,
   "metadata": {
    "id": "1vGZ5nFBCpyw"
   },
   "outputs": [],
   "source": [
    "df_final_caso1.to_csv('./submit/roberta_caso1.csv', index=False)"
   ]
  },
  {
   "cell_type": "markdown",
   "metadata": {
    "id": "LuFzcR7ICpyw",
    "jp-MarkdownHeadingCollapsed": true
   },
   "source": [
    "### 6.2 Caso 2: Statement y Speaker"
   ]
  },
  {
   "cell_type": "markdown",
   "metadata": {
    "id": "75yUQwazCpyx",
    "jp-MarkdownHeadingCollapsed": true
   },
   "source": [
    "#### 6.2.1 Carga de los datos y division en entrenamiento y test"
   ]
  },
  {
   "cell_type": "markdown",
   "metadata": {
    "id": "STdROHdgCpyx"
   },
   "source": [
    "Cargamos las caracteristicas seleccionadas en la variable X y el objetivo *label* en la variable y. Para la seleccion de la variable X se utilizará la función auxiliar *selStatement*, introducciendo como parámetros el caso de entrenamiento seleccionado y el *dataframe* donde estan almacenados los datos."
   ]
  },
  {
   "cell_type": "code",
   "execution_count": 38,
   "metadata": {
    "id": "utxdgQi4Cpyx"
   },
   "outputs": [],
   "source": [
    "X =  selStatement(2, df)\n",
    "y = df['label']\n",
    "\n",
    "X_kaggle = selStatement(2, df_test)"
   ]
  },
  {
   "cell_type": "markdown",
   "metadata": {
    "id": "zod-hCv8Cpyx"
   },
   "source": [
    "Se realiza un *iloc* para comprobar de forma sencilla que hemos escogido el caso de entrenamiento correcto"
   ]
  },
  {
   "cell_type": "code",
   "execution_count": 39,
   "metadata": {
    "colab": {
     "base_uri": "https://localhost:8080/",
     "height": 35
    },
    "id": "VSofKoJECpyx",
    "outputId": "afaf47e9-5160-4f3a-b34d-47cc8d1a17f4"
   },
   "outputs": [
    {
     "data": {
      "application/vnd.google.colaboratory.intrinsic+json": {
       "type": "string"
      },
      "text/plain": [
       "'donald-trump said: \"China is in the South China Sea and (building)a military fortress the likes of which perhaps the world has not seen.\"'"
      ]
     },
     "execution_count": 39,
     "metadata": {},
     "output_type": "execute_result"
    }
   ],
   "source": [
    "X.iloc[0]"
   ]
  },
  {
   "cell_type": "code",
   "execution_count": 40,
   "metadata": {
    "colab": {
     "base_uri": "https://localhost:8080/",
     "height": 35
    },
    "id": "DfW-KVVqCpyx",
    "outputId": "4765adcf-e234-4b00-a38c-adc6fb0619c2"
   },
   "outputs": [
    {
     "data": {
      "application/vnd.google.colaboratory.intrinsic+json": {
       "type": "string"
      },
      "text/plain": [
       "'kasim-reed said: \"Five members of [the Common Cause Georgia] board accepted maximum campaign contributions.\"'"
      ]
     },
     "execution_count": 40,
     "metadata": {},
     "output_type": "execute_result"
    }
   ],
   "source": [
    "X_kaggle.iloc[0]"
   ]
  },
  {
   "cell_type": "markdown",
   "metadata": {
    "id": "gt5VDf8dCpyy"
   },
   "source": [
    "Se separa en entrenamiento y test."
   ]
  },
  {
   "cell_type": "code",
   "execution_count": 41,
   "metadata": {
    "id": "IHgkN8OeCpyy"
   },
   "outputs": [],
   "source": [
    "X_train, X_test, y_train, y_test = train_test_split(X, y, test_size=0.2, random_state=seed)"
   ]
  },
  {
   "cell_type": "markdown",
   "metadata": {
    "id": "yXkpHehqCpyy",
    "jp-MarkdownHeadingCollapsed": true
   },
   "source": [
    "#### 6.2.2 Entrenamiento"
   ]
  },
  {
   "cell_type": "markdown",
   "metadata": {
    "id": "x_LNwy_ZCpyy"
   },
   "source": [
    "Seleccionamos el modelo mediante la función *selModel* y el parámetro *'deberta'*."
   ]
  },
  {
   "cell_type": "code",
   "execution_count": 42,
   "metadata": {
    "colab": {
     "base_uri": "https://localhost:8080/"
    },
    "id": "3zaJiowTCpyy",
    "outputId": "504b6491-2868-495c-bb58-c04cf5cfab22"
   },
   "outputs": [
    {
     "name": "stdout",
     "output_type": "stream",
     "text": [
      "Modelo seleccionado: distilbert/distilroberta-base\n"
     ]
    }
   ],
   "source": [
    "model_name = selModel('roberta')\n",
    "print(\"Modelo seleccionado:\", model_name)"
   ]
  },
  {
   "cell_type": "markdown",
   "metadata": {
    "id": "OeBudZmgCpyy"
   },
   "source": [
    "Seleccionamos el tokenizador del modelo."
   ]
  },
  {
   "cell_type": "code",
   "execution_count": 43,
   "metadata": {
    "id": "aTUUNtCxCpyy"
   },
   "outputs": [],
   "source": [
    "tokenizer = AutoTokenizer.from_pretrained(model_name)"
   ]
  },
  {
   "cell_type": "markdown",
   "metadata": {
    "id": "yFw1WhUDCpyz"
   },
   "source": [
    "Tokenizamos los textos."
   ]
  },
  {
   "cell_type": "code",
   "execution_count": 44,
   "metadata": {
    "id": "x7sJMV_OCpyz"
   },
   "outputs": [],
   "source": [
    "# Entrenamiento y evaluación\n",
    "train_encodings = tokenizer(list(X_train), truncation=True, padding=True)\n",
    "test_encodings = tokenizer(list(X_test), truncation=True, padding=True)\n",
    "\n",
    "# Kaggle\n",
    "kaggle_encodings = tokenizer(list(X_kaggle), truncation=True, padding=True)"
   ]
  },
  {
   "cell_type": "markdown",
   "metadata": {
    "id": "xNXfbhspCpyz"
   },
   "source": [
    "Transformamos los *dataframes* en *dataset* con la funcion *OwnDataset* y con la función *KaggleDataset* (la diferencia entre ellas es que *KaggleDataset* se construye sin *labels*)."
   ]
  },
  {
   "cell_type": "code",
   "execution_count": 45,
   "metadata": {
    "id": "78t_k2vdCpyz"
   },
   "outputs": [],
   "source": [
    "train_dataset = OwnDataset(train_encodings, list(y_train))\n",
    "test_dataset = OwnDataset(test_encodings, list(y_test))\n",
    "\n",
    "kaggle_dataset = KaggleDataset(kaggle_encodings)"
   ]
  },
  {
   "cell_type": "markdown",
   "metadata": {
    "id": "zgZaXxSXCpyz"
   },
   "source": [
    "Cargamos el modelo."
   ]
  },
  {
   "cell_type": "code",
   "execution_count": 46,
   "metadata": {
    "colab": {
     "base_uri": "https://localhost:8080/"
    },
    "id": "4mOnPQxwCpyz",
    "outputId": "614faf59-d0d2-495a-e264-ee803ef474ad"
   },
   "outputs": [
    {
     "name": "stderr",
     "output_type": "stream",
     "text": [
      "Some weights of RobertaForSequenceClassification were not initialized from the model checkpoint at distilbert/distilroberta-base and are newly initialized: ['classifier.dense.bias', 'classifier.dense.weight', 'classifier.out_proj.bias', 'classifier.out_proj.weight']\n",
      "You should probably TRAIN this model on a down-stream task to be able to use it for predictions and inference.\n"
     ]
    }
   ],
   "source": [
    "model = AutoModelForSequenceClassification.from_pretrained(model_name, num_labels=2)"
   ]
  },
  {
   "cell_type": "code",
   "execution_count": 47,
   "metadata": {
    "id": "4T8kv1T0Cpyz"
   },
   "outputs": [],
   "source": [
    "training_args = TrainingArguments(\n",
    "    output_dir=\"./results_caso2\",\n",
    "    eval_strategy=\"epoch\",\n",
    "    save_strategy=\"epoch\",\n",
    "    learning_rate=2e-5,\n",
    "    per_device_train_batch_size=16,\n",
    "    per_device_eval_batch_size=32,\n",
    "    num_train_epochs=2,\n",
    "    weight_decay=0.01,\n",
    "    report_to=\"none\",\n",
    "    load_best_model_at_end=True,\n",
    "    metric_for_best_model=\"f1\",\n",
    "    greater_is_better=True\n",
    ")"
   ]
  },
  {
   "cell_type": "markdown",
   "metadata": {
    "id": "GZC6vnTUCpyz"
   },
   "source": [
    "Definimos un entrenador."
   ]
  },
  {
   "cell_type": "code",
   "execution_count": 48,
   "metadata": {
    "colab": {
     "base_uri": "https://localhost:8080/"
    },
    "id": "hjZXjPgBCpyz",
    "outputId": "66afeb09-961f-4574-f044-f6cdbd810d7d"
   },
   "outputs": [
    {
     "name": "stderr",
     "output_type": "stream",
     "text": [
      "<ipython-input-48-53e65685ea53>:1: FutureWarning: `tokenizer` is deprecated and will be removed in version 5.0.0 for `Trainer.__init__`. Use `processing_class` instead.\n",
      "  trainer = Trainer(\n"
     ]
    }
   ],
   "source": [
    "trainer = Trainer(\n",
    "    model = model,\n",
    "    args = training_args,\n",
    "    train_dataset = train_dataset,\n",
    "    eval_dataset = test_dataset,\n",
    "    tokenizer = tokenizer,\n",
    "    compute_metrics = compute_metrics\n",
    ")"
   ]
  },
  {
   "cell_type": "markdown",
   "metadata": {
    "id": "15-SYRiuCpyz"
   },
   "source": [
    "Entrenamos el modelo."
   ]
  },
  {
   "cell_type": "code",
   "execution_count": 49,
   "metadata": {
    "colab": {
     "base_uri": "https://localhost:8080/",
     "height": 172
    },
    "id": "zY9dq8DyCpy0",
    "outputId": "6aafcfef-16bb-4375-c733-a60630796ea4"
   },
   "outputs": [
    {
     "data": {
      "text/html": [
       "\n",
       "    <div>\n",
       "      \n",
       "      <progress value='896' max='896' style='width:300px; height:20px; vertical-align: middle;'></progress>\n",
       "      [896/896 11:25, Epoch 2/2]\n",
       "    </div>\n",
       "    <table border=\"1\" class=\"dataframe\">\n",
       "  <thead>\n",
       " <tr style=\"text-align: left;\">\n",
       "      <th>Epoch</th>\n",
       "      <th>Training Loss</th>\n",
       "      <th>Validation Loss</th>\n",
       "      <th>Accuracy</th>\n",
       "      <th>F1</th>\n",
       "    </tr>\n",
       "  </thead>\n",
       "  <tbody>\n",
       "    <tr>\n",
       "      <td>1</td>\n",
       "      <td>No log</td>\n",
       "      <td>0.602166</td>\n",
       "      <td>0.676536</td>\n",
       "      <td>0.776879</td>\n",
       "    </tr>\n",
       "    <tr>\n",
       "      <td>2</td>\n",
       "      <td>0.623500</td>\n",
       "      <td>0.617187</td>\n",
       "      <td>0.650279</td>\n",
       "      <td>0.726399</td>\n",
       "    </tr>\n",
       "  </tbody>\n",
       "</table><p>"
      ],
      "text/plain": [
       "<IPython.core.display.HTML object>"
      ]
     },
     "metadata": {},
     "output_type": "display_data"
    },
    {
     "data": {
      "text/plain": [
       "TrainOutput(global_step=896, training_loss=0.6010246447154454, metrics={'train_runtime': 686.4326, 'train_samples_per_second': 20.861, 'train_steps_per_second': 1.305, 'total_flos': 1896933148753920.0, 'train_loss': 0.6010246447154454, 'epoch': 2.0})"
      ]
     },
     "execution_count": 49,
     "metadata": {},
     "output_type": "execute_result"
    }
   ],
   "source": [
    "trainer.train()"
   ]
  },
  {
   "cell_type": "markdown",
   "metadata": {
    "id": "rRrMSvjdCpy0"
   },
   "source": [
    "Evaluamos los estadísticos establecidos previamente."
   ]
  },
  {
   "cell_type": "code",
   "execution_count": 50,
   "metadata": {
    "colab": {
     "base_uri": "https://localhost:8080/",
     "height": 158
    },
    "id": "Igilf0jkCpy0",
    "outputId": "e551de9a-43ab-438d-9e92-5807e1304159"
   },
   "outputs": [
    {
     "data": {
      "text/html": [
       "\n",
       "    <div>\n",
       "      \n",
       "      <progress value='56' max='56' style='width:300px; height:20px; vertical-align: middle;'></progress>\n",
       "      [56/56 00:04]\n",
       "    </div>\n",
       "    "
      ],
      "text/plain": [
       "<IPython.core.display.HTML object>"
      ]
     },
     "metadata": {},
     "output_type": "display_data"
    },
    {
     "data": {
      "text/plain": [
       "{'eval_loss': 0.602165937423706,\n",
       " 'eval_accuracy': 0.676536312849162,\n",
       " 'eval_f1': 0.776878612716763,\n",
       " 'eval_runtime': 4.5764,\n",
       " 'eval_samples_per_second': 391.136,\n",
       " 'eval_steps_per_second': 12.237,\n",
       " 'epoch': 2.0}"
      ]
     },
     "execution_count": 50,
     "metadata": {},
     "output_type": "execute_result"
    }
   ],
   "source": [
    "trainer.evaluate()"
   ]
  },
  {
   "cell_type": "markdown",
   "metadata": {
    "id": "EmIIzysICpy0"
   },
   "source": [
    "En caso de querer almacenarlo para ser evaluados por otros."
   ]
  },
  {
   "cell_type": "raw",
   "metadata": {
    "id": "x_b6rfVHCpy0"
   },
   "source": [
    "trainer.save_model(\"roberta_caso2\")\n",
    "tokenizer.save_pretrained(\"roberta_caso2\")"
   ]
  },
  {
   "cell_type": "markdown",
   "metadata": {
    "id": "Wwai_o9gCpy0",
    "jp-MarkdownHeadingCollapsed": true
   },
   "source": [
    "#### 6.2.3 Exportar CSV"
   ]
  },
  {
   "cell_type": "code",
   "execution_count": 51,
   "metadata": {
    "colab": {
     "base_uri": "https://localhost:8080/",
     "height": 17
    },
    "id": "FpSd_jLWCpy0",
    "outputId": "1de6b26f-43fa-40e2-c4e3-e3aca2015b14"
   },
   "outputs": [
    {
     "data": {
      "text/html": [],
      "text/plain": [
       "<IPython.core.display.HTML object>"
      ]
     },
     "metadata": {},
     "output_type": "display_data"
    }
   ],
   "source": [
    "predictions = trainer.predict(kaggle_dataset)\n",
    "predicted_labels = predictions.predictions.argmax(-1)"
   ]
  },
  {
   "cell_type": "code",
   "execution_count": 52,
   "metadata": {
    "id": "H3s8AlRPCpy0"
   },
   "outputs": [],
   "source": [
    "df_label_caso2 = pd.DataFrame(predicted_labels, columns=['label'])\n",
    "df_id = df_test['id'].reset_index(drop=True)\n",
    "df_final_caso2 = pd.concat([df_id, df_label_caso2], axis=1)"
   ]
  },
  {
   "cell_type": "code",
   "execution_count": 53,
   "metadata": {
    "colab": {
     "base_uri": "https://localhost:8080/",
     "height": 178
    },
    "id": "h8Je9y6RCpy0",
    "outputId": "780ae53d-3175-4f92-bf16-6102d245ffb6"
   },
   "outputs": [
    {
     "data": {
      "text/html": [
       "<div>\n",
       "<style scoped>\n",
       "    .dataframe tbody tr th:only-of-type {\n",
       "        vertical-align: middle;\n",
       "    }\n",
       "\n",
       "    .dataframe tbody tr th {\n",
       "        vertical-align: top;\n",
       "    }\n",
       "\n",
       "    .dataframe thead th {\n",
       "        text-align: right;\n",
       "    }\n",
       "</style>\n",
       "<table border=\"1\" class=\"dataframe\">\n",
       "  <thead>\n",
       "    <tr style=\"text-align: right;\">\n",
       "      <th></th>\n",
       "      <th>count</th>\n",
       "    </tr>\n",
       "    <tr>\n",
       "      <th>label</th>\n",
       "      <th></th>\n",
       "    </tr>\n",
       "  </thead>\n",
       "  <tbody>\n",
       "    <tr>\n",
       "      <th>1</th>\n",
       "      <td>3010</td>\n",
       "    </tr>\n",
       "    <tr>\n",
       "      <th>0</th>\n",
       "      <td>826</td>\n",
       "    </tr>\n",
       "  </tbody>\n",
       "</table>\n",
       "</div><br><label><b>dtype:</b> int64</label>"
      ],
      "text/plain": [
       "label\n",
       "1    3010\n",
       "0     826\n",
       "Name: count, dtype: int64"
      ]
     },
     "execution_count": 53,
     "metadata": {},
     "output_type": "execute_result"
    }
   ],
   "source": [
    "df_final_caso2['label'].value_counts()"
   ]
  },
  {
   "cell_type": "code",
   "execution_count": 54,
   "metadata": {
    "id": "Ssxpm6tZCpy1"
   },
   "outputs": [],
   "source": [
    "df_final_caso2.to_csv('./submit/roberta_caso2.csv', index=False)"
   ]
  },
  {
   "cell_type": "markdown",
   "metadata": {
    "id": "abtwNOURCpy1",
    "jp-MarkdownHeadingCollapsed": true
   },
   "source": [
    "### 6.3 Caso 3: Statement, Speaker y Subject"
   ]
  },
  {
   "cell_type": "markdown",
   "metadata": {
    "id": "MDB9RwqSCpy1",
    "jp-MarkdownHeadingCollapsed": true
   },
   "source": [
    "#### 6.3.1 Carga de los datos y division en entrenamiento y test"
   ]
  },
  {
   "cell_type": "markdown",
   "metadata": {
    "id": "XmSb8vJTCpy1"
   },
   "source": [
    "Cargamos las caracteristicas seleccionadas en la variable X y el objetivo *label* en la variable y. Para la seleccion de la variable X se utilizará la función auxiliar *selStatement*, introducciendo como parámetros el caso de entrenamiento seleccionado y el *dataframe* donde estan almacenados los datos."
   ]
  },
  {
   "cell_type": "code",
   "execution_count": 55,
   "metadata": {
    "id": "els2wTUwCpy1"
   },
   "outputs": [],
   "source": [
    "X =  selStatement(3, df)\n",
    "y = df['label']\n",
    "\n",
    "X_kaggle = selStatement(3, df_test)"
   ]
  },
  {
   "cell_type": "markdown",
   "metadata": {
    "id": "RopuxsZFCpy1"
   },
   "source": [
    "Se realiza un *iloc* para comprobar de forma sencilla que hemos escogido el caso de entrenamiento correcto"
   ]
  },
  {
   "cell_type": "code",
   "execution_count": 56,
   "metadata": {
    "colab": {
     "base_uri": "https://localhost:8080/",
     "height": 52
    },
    "id": "RzrZzYNqCpy1",
    "outputId": "c03d128b-427e-49ea-96c3-cb7504773cde"
   },
   "outputs": [
    {
     "data": {
      "application/vnd.google.colaboratory.intrinsic+json": {
       "type": "string"
      },
      "text/plain": [
       "'donald-trump said: \"China is in the South China Sea and (building)a military fortress the likes of which perhaps the world has not seen.\" The statement concerns the topics of: china,foreign-policy,military.'"
      ]
     },
     "execution_count": 56,
     "metadata": {},
     "output_type": "execute_result"
    }
   ],
   "source": [
    "X.iloc[0]"
   ]
  },
  {
   "cell_type": "code",
   "execution_count": 57,
   "metadata": {
    "colab": {
     "base_uri": "https://localhost:8080/",
     "height": 52
    },
    "id": "df8_TWaECpy1",
    "outputId": "40ccbf0b-1f4f-4c29-b3c4-bfe27e681681"
   },
   "outputs": [
    {
     "data": {
      "application/vnd.google.colaboratory.intrinsic+json": {
       "type": "string"
      },
      "text/plain": [
       "'kasim-reed said: \"Five members of [the Common Cause Georgia] board accepted maximum campaign contributions.\" The statement concerns the topics of: campaign-finance,ethics,government-regulation.'"
      ]
     },
     "execution_count": 57,
     "metadata": {},
     "output_type": "execute_result"
    }
   ],
   "source": [
    "X_kaggle.iloc[0]"
   ]
  },
  {
   "cell_type": "markdown",
   "metadata": {
    "id": "TKxIDzvaCpy1"
   },
   "source": [
    "Se separa en entrenamiento y test."
   ]
  },
  {
   "cell_type": "code",
   "execution_count": 58,
   "metadata": {
    "id": "Ii-lAgN2Cpy1"
   },
   "outputs": [],
   "source": [
    "X_train, X_test, y_train, y_test = train_test_split(X, y, test_size=0.2, random_state=seed)"
   ]
  },
  {
   "cell_type": "markdown",
   "metadata": {
    "id": "h-KD9MlBCpy2",
    "jp-MarkdownHeadingCollapsed": true
   },
   "source": [
    "#### 6.3.2 Entrenamiento"
   ]
  },
  {
   "cell_type": "markdown",
   "metadata": {
    "id": "uH-szghGCpy2"
   },
   "source": [
    "Seleccionamos el modelo mediante la función *selModel* y el parámetro *'deberta'*."
   ]
  },
  {
   "cell_type": "code",
   "execution_count": 59,
   "metadata": {
    "colab": {
     "base_uri": "https://localhost:8080/"
    },
    "id": "VcwUclqwCpy2",
    "outputId": "cdeb7f17-aae9-45f9-912b-cfb72b469d52"
   },
   "outputs": [
    {
     "name": "stdout",
     "output_type": "stream",
     "text": [
      "Modelo seleccionado: distilbert/distilroberta-base\n"
     ]
    }
   ],
   "source": [
    "model_name = selModel('roberta')\n",
    "print(\"Modelo seleccionado:\", model_name)"
   ]
  },
  {
   "cell_type": "markdown",
   "metadata": {
    "id": "CoXquX06Cpy2"
   },
   "source": [
    "Seleccionamos el tokenizador del modelo."
   ]
  },
  {
   "cell_type": "code",
   "execution_count": 60,
   "metadata": {
    "id": "qzs-seSTCpy2"
   },
   "outputs": [],
   "source": [
    "tokenizer = AutoTokenizer.from_pretrained(model_name)"
   ]
  },
  {
   "cell_type": "markdown",
   "metadata": {
    "id": "rNhkifLECpy2"
   },
   "source": [
    "Tokenizamos los textos."
   ]
  },
  {
   "cell_type": "code",
   "execution_count": 61,
   "metadata": {
    "id": "jG50u-whCpy2"
   },
   "outputs": [],
   "source": [
    "# Entrenamiento y evaluación\n",
    "train_encodings = tokenizer(list(X_train), truncation=True, padding=True)\n",
    "test_encodings = tokenizer(list(X_test), truncation=True, padding=True)\n",
    "\n",
    "# Kaggle\n",
    "kaggle_encodings = tokenizer(list(X_kaggle), truncation=True, padding=True)"
   ]
  },
  {
   "cell_type": "markdown",
   "metadata": {
    "id": "yYzePeYWCpy2"
   },
   "source": [
    "Transformamos los *dataframes* en *dataset* con la funcion *OwnDataset* y con la función *KaggleDataset* (la diferencia entre ellas es que *KaggleDataset* se construye sin *labels*)."
   ]
  },
  {
   "cell_type": "code",
   "execution_count": 62,
   "metadata": {
    "id": "mP43z5O6Cpy2"
   },
   "outputs": [],
   "source": [
    "train_dataset = OwnDataset(train_encodings, list(y_train))\n",
    "test_dataset = OwnDataset(test_encodings, list(y_test))\n",
    "\n",
    "kaggle_dataset = KaggleDataset(kaggle_encodings)"
   ]
  },
  {
   "cell_type": "markdown",
   "metadata": {
    "id": "08-l822cCpy3"
   },
   "source": [
    "Cargamos el modelo."
   ]
  },
  {
   "cell_type": "code",
   "execution_count": 63,
   "metadata": {
    "colab": {
     "base_uri": "https://localhost:8080/"
    },
    "id": "p5F-8W7GCpy3",
    "outputId": "ad54b784-2576-4a17-bf5b-1ef84b42897c"
   },
   "outputs": [
    {
     "name": "stderr",
     "output_type": "stream",
     "text": [
      "Some weights of RobertaForSequenceClassification were not initialized from the model checkpoint at distilbert/distilroberta-base and are newly initialized: ['classifier.dense.bias', 'classifier.dense.weight', 'classifier.out_proj.bias', 'classifier.out_proj.weight']\n",
      "You should probably TRAIN this model on a down-stream task to be able to use it for predictions and inference.\n"
     ]
    }
   ],
   "source": [
    "model = AutoModelForSequenceClassification.from_pretrained(model_name, num_labels=2)"
   ]
  },
  {
   "cell_type": "code",
   "execution_count": 64,
   "metadata": {
    "id": "Qt1JbzmpCpy3"
   },
   "outputs": [],
   "source": [
    "training_args = TrainingArguments(\n",
    "    output_dir=\"./results_caso3\",\n",
    "    eval_strategy=\"epoch\",\n",
    "    save_strategy=\"epoch\",\n",
    "    learning_rate=2e-5,\n",
    "    per_device_train_batch_size=16,\n",
    "    per_device_eval_batch_size=32,\n",
    "    num_train_epochs=2,\n",
    "    weight_decay=0.01,\n",
    "    report_to=\"none\",\n",
    "    load_best_model_at_end=True,\n",
    "    metric_for_best_model=\"f1\",\n",
    "    greater_is_better=True\n",
    ")"
   ]
  },
  {
   "cell_type": "markdown",
   "metadata": {
    "id": "_8IvuwbHCpy3"
   },
   "source": [
    "Definimos un entrenador."
   ]
  },
  {
   "cell_type": "code",
   "execution_count": 65,
   "metadata": {
    "colab": {
     "base_uri": "https://localhost:8080/"
    },
    "id": "QOinUUsPCpy3",
    "outputId": "dfccf54e-0084-4232-dde6-205b9d7d8ad8"
   },
   "outputs": [
    {
     "name": "stderr",
     "output_type": "stream",
     "text": [
      "<ipython-input-65-53e65685ea53>:1: FutureWarning: `tokenizer` is deprecated and will be removed in version 5.0.0 for `Trainer.__init__`. Use `processing_class` instead.\n",
      "  trainer = Trainer(\n"
     ]
    }
   ],
   "source": [
    "trainer = Trainer(\n",
    "    model = model,\n",
    "    args = training_args,\n",
    "    train_dataset = train_dataset,\n",
    "    eval_dataset = test_dataset,\n",
    "    tokenizer = tokenizer,\n",
    "    compute_metrics = compute_metrics\n",
    ")"
   ]
  },
  {
   "cell_type": "markdown",
   "metadata": {
    "id": "EwEMI_FrCpy3"
   },
   "source": [
    "Entrenamos el modelo."
   ]
  },
  {
   "cell_type": "code",
   "execution_count": 66,
   "metadata": {
    "colab": {
     "base_uri": "https://localhost:8080/",
     "height": 172
    },
    "id": "8FcA7TFiCpy3",
    "outputId": "2d457112-380e-4e27-81b1-7d2754f167b8"
   },
   "outputs": [
    {
     "data": {
      "text/html": [
       "\n",
       "    <div>\n",
       "      \n",
       "      <progress value='896' max='896' style='width:300px; height:20px; vertical-align: middle;'></progress>\n",
       "      [896/896 11:25, Epoch 2/2]\n",
       "    </div>\n",
       "    <table border=\"1\" class=\"dataframe\">\n",
       "  <thead>\n",
       " <tr style=\"text-align: left;\">\n",
       "      <th>Epoch</th>\n",
       "      <th>Training Loss</th>\n",
       "      <th>Validation Loss</th>\n",
       "      <th>Accuracy</th>\n",
       "      <th>F1</th>\n",
       "    </tr>\n",
       "  </thead>\n",
       "  <tbody>\n",
       "    <tr>\n",
       "      <td>1</td>\n",
       "      <td>No log</td>\n",
       "      <td>0.602819</td>\n",
       "      <td>0.679330</td>\n",
       "      <td>0.782246</td>\n",
       "    </tr>\n",
       "    <tr>\n",
       "      <td>2</td>\n",
       "      <td>0.626300</td>\n",
       "      <td>0.620244</td>\n",
       "      <td>0.645810</td>\n",
       "      <td>0.720951</td>\n",
       "    </tr>\n",
       "  </tbody>\n",
       "</table><p>"
      ],
      "text/plain": [
       "<IPython.core.display.HTML object>"
      ]
     },
     "metadata": {},
     "output_type": "display_data"
    },
    {
     "data": {
      "text/plain": [
       "TrainOutput(global_step=896, training_loss=0.6044660125459943, metrics={'train_runtime': 686.4964, 'train_samples_per_second': 20.86, 'train_steps_per_second': 1.305, 'total_flos': 1896933148753920.0, 'train_loss': 0.6044660125459943, 'epoch': 2.0})"
      ]
     },
     "execution_count": 66,
     "metadata": {},
     "output_type": "execute_result"
    }
   ],
   "source": [
    "trainer.train()"
   ]
  },
  {
   "cell_type": "markdown",
   "metadata": {
    "id": "J0S2154tCpy3"
   },
   "source": [
    "Evaluamos los estadísticos establecidos previamente."
   ]
  },
  {
   "cell_type": "code",
   "execution_count": 67,
   "metadata": {
    "colab": {
     "base_uri": "https://localhost:8080/",
     "height": 158
    },
    "id": "NhgKqmBHCpy3",
    "outputId": "2a9967d1-e8db-469e-d04e-e8e76666abd3"
   },
   "outputs": [
    {
     "data": {
      "text/html": [
       "\n",
       "    <div>\n",
       "      \n",
       "      <progress value='56' max='56' style='width:300px; height:20px; vertical-align: middle;'></progress>\n",
       "      [56/56 00:04]\n",
       "    </div>\n",
       "    "
      ],
      "text/plain": [
       "<IPython.core.display.HTML object>"
      ]
     },
     "metadata": {},
     "output_type": "display_data"
    },
    {
     "data": {
      "text/plain": [
       "{'eval_loss': 0.6028192043304443,\n",
       " 'eval_accuracy': 0.6793296089385474,\n",
       " 'eval_f1': 0.7822458270106222,\n",
       " 'eval_runtime': 5.1324,\n",
       " 'eval_samples_per_second': 348.767,\n",
       " 'eval_steps_per_second': 10.911,\n",
       " 'epoch': 2.0}"
      ]
     },
     "execution_count": 67,
     "metadata": {},
     "output_type": "execute_result"
    }
   ],
   "source": [
    "trainer.evaluate()"
   ]
  },
  {
   "cell_type": "markdown",
   "metadata": {
    "id": "9sfcUytoCpy4"
   },
   "source": [
    "En caso de querer almacenarlo para ser evaluados por otros."
   ]
  },
  {
   "cell_type": "raw",
   "metadata": {
    "id": "dElg9G2yCpy4"
   },
   "source": [
    "trainer.save_model(\"roberta_caso3\")\n",
    "tokenizer.save_pretrained(\"roberta_caso3\")"
   ]
  },
  {
   "cell_type": "markdown",
   "metadata": {
    "id": "qKEM3b7_Cpy4",
    "jp-MarkdownHeadingCollapsed": true
   },
   "source": [
    "#### 6.3.3 Exportar CSV"
   ]
  },
  {
   "cell_type": "code",
   "execution_count": 68,
   "metadata": {
    "colab": {
     "base_uri": "https://localhost:8080/",
     "height": 17
    },
    "id": "248PG0HmCpy4",
    "outputId": "ca801b0a-deff-464a-f7f6-3cfaf3a88eaf"
   },
   "outputs": [
    {
     "data": {
      "text/html": [],
      "text/plain": [
       "<IPython.core.display.HTML object>"
      ]
     },
     "metadata": {},
     "output_type": "display_data"
    }
   ],
   "source": [
    "predictions = trainer.predict(kaggle_dataset)\n",
    "predicted_labels = predictions.predictions.argmax(-1)"
   ]
  },
  {
   "cell_type": "code",
   "execution_count": 69,
   "metadata": {
    "id": "2zN3SJOFCpy4"
   },
   "outputs": [],
   "source": [
    "df_label_caso3 = pd.DataFrame(predicted_labels, columns=['label'])\n",
    "df_id = df_test['id'].reset_index(drop=True)\n",
    "df_final_caso3 = pd.concat([df_id, df_label_caso3], axis=1)"
   ]
  },
  {
   "cell_type": "code",
   "execution_count": 70,
   "metadata": {
    "colab": {
     "base_uri": "https://localhost:8080/",
     "height": 178
    },
    "id": "49xE86g-Cpy4",
    "outputId": "763f5d6f-d1e1-4f06-e170-54b5f400f7ae"
   },
   "outputs": [
    {
     "data": {
      "text/html": [
       "<div>\n",
       "<style scoped>\n",
       "    .dataframe tbody tr th:only-of-type {\n",
       "        vertical-align: middle;\n",
       "    }\n",
       "\n",
       "    .dataframe tbody tr th {\n",
       "        vertical-align: top;\n",
       "    }\n",
       "\n",
       "    .dataframe thead th {\n",
       "        text-align: right;\n",
       "    }\n",
       "</style>\n",
       "<table border=\"1\" class=\"dataframe\">\n",
       "  <thead>\n",
       "    <tr style=\"text-align: right;\">\n",
       "      <th></th>\n",
       "      <th>count</th>\n",
       "    </tr>\n",
       "    <tr>\n",
       "      <th>label</th>\n",
       "      <th></th>\n",
       "    </tr>\n",
       "  </thead>\n",
       "  <tbody>\n",
       "    <tr>\n",
       "      <th>1</th>\n",
       "      <td>3089</td>\n",
       "    </tr>\n",
       "    <tr>\n",
       "      <th>0</th>\n",
       "      <td>747</td>\n",
       "    </tr>\n",
       "  </tbody>\n",
       "</table>\n",
       "</div><br><label><b>dtype:</b> int64</label>"
      ],
      "text/plain": [
       "label\n",
       "1    3089\n",
       "0     747\n",
       "Name: count, dtype: int64"
      ]
     },
     "execution_count": 70,
     "metadata": {},
     "output_type": "execute_result"
    }
   ],
   "source": [
    "df_final_caso3['label'].value_counts()"
   ]
  },
  {
   "cell_type": "code",
   "execution_count": 71,
   "metadata": {
    "id": "fIWk1gHiCpy4"
   },
   "outputs": [],
   "source": [
    "df_final_caso3.to_csv('./submit/roberta_caso3.csv', index=False)"
   ]
  },
  {
   "cell_type": "markdown",
   "metadata": {
    "id": "cMfqxIbsCpy5",
    "jp-MarkdownHeadingCollapsed": true
   },
   "source": [
    "### 6.4 Caso 4: Statement, Speaker y Party"
   ]
  },
  {
   "cell_type": "markdown",
   "metadata": {
    "id": "qlv_DO1ZCpy5",
    "jp-MarkdownHeadingCollapsed": true
   },
   "source": [
    "#### 6.4.1 Carga de los datos y division en entrenamiento y test"
   ]
  },
  {
   "cell_type": "markdown",
   "metadata": {
    "id": "0n-qGcf4Cpy5"
   },
   "source": [
    "Cargamos las caracteristicas seleccionadas en la variable X y el objetivo *label* en la variable y. Para la seleccion de la variable X se utilizará la función auxiliar *selStatement*, introducciendo como parámetros el caso de entrenamiento seleccionado y el *dataframe* donde estan almacenados los datos."
   ]
  },
  {
   "cell_type": "code",
   "execution_count": 72,
   "metadata": {
    "id": "fhc7WZEMCpy5"
   },
   "outputs": [],
   "source": [
    "X =  selStatement(4, df)\n",
    "y = df['label']\n",
    "\n",
    "X_kaggle = selStatement(4, df_test)"
   ]
  },
  {
   "cell_type": "markdown",
   "metadata": {
    "id": "0w38KYSwCpy5"
   },
   "source": [
    "Se realiza un *iloc* para comprobar de forma sencilla que hemos escogido el caso de entrenamiento correcto"
   ]
  },
  {
   "cell_type": "code",
   "execution_count": 73,
   "metadata": {
    "colab": {
     "base_uri": "https://localhost:8080/",
     "height": 52
    },
    "id": "kBRY8B02Cpy5",
    "outputId": "26be346b-c52d-4e6e-9cd4-ef815cfd1662"
   },
   "outputs": [
    {
     "data": {
      "application/vnd.google.colaboratory.intrinsic+json": {
       "type": "string"
      },
      "text/plain": [
       "'donald-trump (affiliated with the republican party) said: \"China is in the South China Sea and (building)a military fortress the likes of which perhaps the world has not seen.\"'"
      ]
     },
     "execution_count": 73,
     "metadata": {},
     "output_type": "execute_result"
    }
   ],
   "source": [
    "X.iloc[0]"
   ]
  },
  {
   "cell_type": "code",
   "execution_count": 74,
   "metadata": {
    "colab": {
     "base_uri": "https://localhost:8080/",
     "height": 35
    },
    "id": "TWxwtZL-Cpy5",
    "outputId": "3b51c468-6746-40db-d953-5ed702cfe61c"
   },
   "outputs": [
    {
     "data": {
      "application/vnd.google.colaboratory.intrinsic+json": {
       "type": "string"
      },
      "text/plain": [
       "'kasim-reed (affiliated with the democrat party) said: \"Five members of [the Common Cause Georgia] board accepted maximum campaign contributions.\"'"
      ]
     },
     "execution_count": 74,
     "metadata": {},
     "output_type": "execute_result"
    }
   ],
   "source": [
    "X_kaggle.iloc[0]"
   ]
  },
  {
   "cell_type": "markdown",
   "metadata": {
    "id": "Qn4mAcXoCpy5"
   },
   "source": [
    "Se separa en entrenamiento y test."
   ]
  },
  {
   "cell_type": "code",
   "execution_count": 75,
   "metadata": {
    "id": "vGQzxyVZCpy5"
   },
   "outputs": [],
   "source": [
    "X_train, X_test, y_train, y_test = train_test_split(X, y, test_size=0.2, random_state=seed)"
   ]
  },
  {
   "cell_type": "markdown",
   "metadata": {
    "id": "cni_iIiECpy5",
    "jp-MarkdownHeadingCollapsed": true
   },
   "source": [
    "#### 6.4.2 Entrenamiento"
   ]
  },
  {
   "cell_type": "markdown",
   "metadata": {
    "id": "R4pqcwe6Cpy5"
   },
   "source": [
    "Seleccionamos el modelo mediante la función *selModel* y el parámetro *'deberta'*."
   ]
  },
  {
   "cell_type": "code",
   "execution_count": 76,
   "metadata": {
    "colab": {
     "base_uri": "https://localhost:8080/"
    },
    "id": "1GfwLm42Cpy5",
    "outputId": "b2f21485-2079-4bbe-ff79-794628f7c9b2"
   },
   "outputs": [
    {
     "name": "stdout",
     "output_type": "stream",
     "text": [
      "Modelo seleccionado: distilbert/distilroberta-base\n"
     ]
    }
   ],
   "source": [
    "model_name = selModel('roberta')\n",
    "print(\"Modelo seleccionado:\", model_name)"
   ]
  },
  {
   "cell_type": "markdown",
   "metadata": {
    "id": "X2KpyCDrCpy6"
   },
   "source": [
    "Seleccionamos el tokenizador del modelo."
   ]
  },
  {
   "cell_type": "code",
   "execution_count": 77,
   "metadata": {
    "id": "Cec_pFNUCpy6"
   },
   "outputs": [],
   "source": [
    "tokenizer = AutoTokenizer.from_pretrained(model_name)"
   ]
  },
  {
   "cell_type": "markdown",
   "metadata": {
    "id": "d16TdvH-Cpy6"
   },
   "source": [
    "Tokenizamos los textos."
   ]
  },
  {
   "cell_type": "code",
   "execution_count": 78,
   "metadata": {
    "id": "GMSErvynCpy6"
   },
   "outputs": [],
   "source": [
    "# Entrenamiento y evaluación\n",
    "train_encodings = tokenizer(list(X_train), truncation=True, padding=True)\n",
    "test_encodings = tokenizer(list(X_test), truncation=True, padding=True)\n",
    "\n",
    "# Kaggle\n",
    "kaggle_encodings = tokenizer(list(X_kaggle), truncation=True, padding=True)"
   ]
  },
  {
   "cell_type": "markdown",
   "metadata": {
    "id": "ABMMqiVjCpy6"
   },
   "source": [
    "Transformamos los *dataframes* en *dataset* con la funcion *OwnDataset* y con la función *KaggleDataset* (la diferencia entre ellas es que *KaggleDataset* se construye sin *labels*)."
   ]
  },
  {
   "cell_type": "code",
   "execution_count": 79,
   "metadata": {
    "id": "q6Oh1ZU4Cpy6"
   },
   "outputs": [],
   "source": [
    "train_dataset = OwnDataset(train_encodings, list(y_train))\n",
    "test_dataset = OwnDataset(test_encodings, list(y_test))\n",
    "\n",
    "kaggle_dataset = KaggleDataset(kaggle_encodings)"
   ]
  },
  {
   "cell_type": "markdown",
   "metadata": {
    "id": "Jf_Um1K2Cpy6"
   },
   "source": [
    "Cargamos el modelo."
   ]
  },
  {
   "cell_type": "code",
   "execution_count": 80,
   "metadata": {
    "colab": {
     "base_uri": "https://localhost:8080/"
    },
    "id": "twcqiyGnCpy6",
    "outputId": "2f8050b1-26e4-40ad-e700-dae8269aa3e0"
   },
   "outputs": [
    {
     "name": "stderr",
     "output_type": "stream",
     "text": [
      "Some weights of RobertaForSequenceClassification were not initialized from the model checkpoint at distilbert/distilroberta-base and are newly initialized: ['classifier.dense.bias', 'classifier.dense.weight', 'classifier.out_proj.bias', 'classifier.out_proj.weight']\n",
      "You should probably TRAIN this model on a down-stream task to be able to use it for predictions and inference.\n"
     ]
    }
   ],
   "source": [
    "model = AutoModelForSequenceClassification.from_pretrained(model_name, num_labels=2)"
   ]
  },
  {
   "cell_type": "code",
   "execution_count": 81,
   "metadata": {
    "id": "aZuF_d5CCpy7"
   },
   "outputs": [],
   "source": [
    "training_args = TrainingArguments(\n",
    "    output_dir=\"./results_caso4\",\n",
    "    eval_strategy=\"epoch\",\n",
    "    save_strategy=\"epoch\",\n",
    "    learning_rate=2e-5,\n",
    "    per_device_train_batch_size=16,\n",
    "    per_device_eval_batch_size=32,\n",
    "    num_train_epochs=2,\n",
    "    weight_decay=0.01,\n",
    "    report_to=\"none\",\n",
    "    load_best_model_at_end=True,\n",
    "    metric_for_best_model=\"f1\",\n",
    "    greater_is_better=True\n",
    ")"
   ]
  },
  {
   "cell_type": "markdown",
   "metadata": {
    "id": "tvsNTPv5Cpy7"
   },
   "source": [
    "Definimos un entrenador."
   ]
  },
  {
   "cell_type": "code",
   "execution_count": 82,
   "metadata": {
    "colab": {
     "base_uri": "https://localhost:8080/"
    },
    "id": "OS6fLyHpCpy7",
    "outputId": "34029629-853f-488b-9949-11f7013737e4"
   },
   "outputs": [
    {
     "name": "stderr",
     "output_type": "stream",
     "text": [
      "<ipython-input-82-53e65685ea53>:1: FutureWarning: `tokenizer` is deprecated and will be removed in version 5.0.0 for `Trainer.__init__`. Use `processing_class` instead.\n",
      "  trainer = Trainer(\n"
     ]
    }
   ],
   "source": [
    "trainer = Trainer(\n",
    "    model = model,\n",
    "    args = training_args,\n",
    "    train_dataset = train_dataset,\n",
    "    eval_dataset = test_dataset,\n",
    "    tokenizer = tokenizer,\n",
    "    compute_metrics = compute_metrics\n",
    ")"
   ]
  },
  {
   "cell_type": "markdown",
   "metadata": {
    "id": "kpNezrqzCpy7"
   },
   "source": [
    "Entrenamos el modelo."
   ]
  },
  {
   "cell_type": "code",
   "execution_count": 83,
   "metadata": {
    "colab": {
     "base_uri": "https://localhost:8080/",
     "height": 172
    },
    "id": "C3zOXveLCpy7",
    "outputId": "2a04761d-5791-42e4-8f6f-287f0de8f442"
   },
   "outputs": [
    {
     "data": {
      "text/html": [
       "\n",
       "    <div>\n",
       "      \n",
       "      <progress value='896' max='896' style='width:300px; height:20px; vertical-align: middle;'></progress>\n",
       "      [896/896 11:24, Epoch 2/2]\n",
       "    </div>\n",
       "    <table border=\"1\" class=\"dataframe\">\n",
       "  <thead>\n",
       " <tr style=\"text-align: left;\">\n",
       "      <th>Epoch</th>\n",
       "      <th>Training Loss</th>\n",
       "      <th>Validation Loss</th>\n",
       "      <th>Accuracy</th>\n",
       "      <th>F1</th>\n",
       "    </tr>\n",
       "  </thead>\n",
       "  <tbody>\n",
       "    <tr>\n",
       "      <td>1</td>\n",
       "      <td>No log</td>\n",
       "      <td>0.598100</td>\n",
       "      <td>0.681564</td>\n",
       "      <td>0.787789</td>\n",
       "    </tr>\n",
       "    <tr>\n",
       "      <td>2</td>\n",
       "      <td>0.624600</td>\n",
       "      <td>0.614373</td>\n",
       "      <td>0.665363</td>\n",
       "      <td>0.742144</td>\n",
       "    </tr>\n",
       "  </tbody>\n",
       "</table><p>"
      ],
      "text/plain": [
       "<IPython.core.display.HTML object>"
      ]
     },
     "metadata": {},
     "output_type": "display_data"
    },
    {
     "data": {
      "text/plain": [
       "TrainOutput(global_step=896, training_loss=0.6021936961582729, metrics={'train_runtime': 685.051, 'train_samples_per_second': 20.904, 'train_steps_per_second': 1.308, 'total_flos': 1896933148753920.0, 'train_loss': 0.6021936961582729, 'epoch': 2.0})"
      ]
     },
     "execution_count": 83,
     "metadata": {},
     "output_type": "execute_result"
    }
   ],
   "source": [
    "trainer.train()"
   ]
  },
  {
   "cell_type": "markdown",
   "metadata": {
    "id": "U3YScTKuCpy7"
   },
   "source": [
    "Evaluamos los estadísticos establecidos previamente."
   ]
  },
  {
   "cell_type": "code",
   "execution_count": 84,
   "metadata": {
    "colab": {
     "base_uri": "https://localhost:8080/",
     "height": 158
    },
    "id": "9LpbKZ-gCpy7",
    "outputId": "7072a82c-0c2b-4c9b-c870-c0e4ea298249"
   },
   "outputs": [
    {
     "data": {
      "text/html": [
       "\n",
       "    <div>\n",
       "      \n",
       "      <progress value='56' max='56' style='width:300px; height:20px; vertical-align: middle;'></progress>\n",
       "      [56/56 00:04]\n",
       "    </div>\n",
       "    "
      ],
      "text/plain": [
       "<IPython.core.display.HTML object>"
      ]
     },
     "metadata": {},
     "output_type": "display_data"
    },
    {
     "data": {
      "text/plain": [
       "{'eval_loss': 0.5981001257896423,\n",
       " 'eval_accuracy': 0.6815642458100558,\n",
       " 'eval_f1': 0.7877885331347729,\n",
       " 'eval_runtime': 4.5183,\n",
       " 'eval_samples_per_second': 396.163,\n",
       " 'eval_steps_per_second': 12.394,\n",
       " 'epoch': 2.0}"
      ]
     },
     "execution_count": 84,
     "metadata": {},
     "output_type": "execute_result"
    }
   ],
   "source": [
    "trainer.evaluate()"
   ]
  },
  {
   "cell_type": "markdown",
   "metadata": {
    "id": "_QsDXdN0Cpy7"
   },
   "source": [
    "En caso de querer almacenarlo para ser evaluados por otros."
   ]
  },
  {
   "cell_type": "raw",
   "metadata": {
    "id": "LdyxLynBCpy7"
   },
   "source": [
    "trainer.save_model(\"roberta_caso4\")\n",
    "tokenizer.save_pretrained(\"roberta_caso4\")"
   ]
  },
  {
   "cell_type": "markdown",
   "metadata": {
    "id": "tzqrAt9SCpy7"
   },
   "source": [
    "#### 6.4.3 Exportar CSV"
   ]
  },
  {
   "cell_type": "code",
   "execution_count": 85,
   "metadata": {
    "colab": {
     "base_uri": "https://localhost:8080/",
     "height": 17
    },
    "id": "VUfVM8CUCpy8",
    "outputId": "2f622493-4d26-463b-b2e9-ed8db88d7875"
   },
   "outputs": [
    {
     "data": {
      "text/html": [],
      "text/plain": [
       "<IPython.core.display.HTML object>"
      ]
     },
     "metadata": {},
     "output_type": "display_data"
    }
   ],
   "source": [
    "predictions = trainer.predict(kaggle_dataset)\n",
    "predicted_labels = predictions.predictions.argmax(-1)"
   ]
  },
  {
   "cell_type": "code",
   "execution_count": 86,
   "metadata": {
    "id": "2cB_1xEoCpy8"
   },
   "outputs": [],
   "source": [
    "df_label_caso4 = pd.DataFrame(predicted_labels, columns=['label'])\n",
    "df_id = df_test['id'].reset_index(drop=True)\n",
    "df_final_caso4 = pd.concat([df_id, df_label_caso4], axis=1)"
   ]
  },
  {
   "cell_type": "code",
   "execution_count": 87,
   "metadata": {
    "colab": {
     "base_uri": "https://localhost:8080/",
     "height": 178
    },
    "id": "UM4cJrdACpy8",
    "outputId": "af72aa61-86be-403c-b291-914a4aa873dd"
   },
   "outputs": [
    {
     "data": {
      "text/html": [
       "<div>\n",
       "<style scoped>\n",
       "    .dataframe tbody tr th:only-of-type {\n",
       "        vertical-align: middle;\n",
       "    }\n",
       "\n",
       "    .dataframe tbody tr th {\n",
       "        vertical-align: top;\n",
       "    }\n",
       "\n",
       "    .dataframe thead th {\n",
       "        text-align: right;\n",
       "    }\n",
       "</style>\n",
       "<table border=\"1\" class=\"dataframe\">\n",
       "  <thead>\n",
       "    <tr style=\"text-align: right;\">\n",
       "      <th></th>\n",
       "      <th>count</th>\n",
       "    </tr>\n",
       "    <tr>\n",
       "      <th>label</th>\n",
       "      <th></th>\n",
       "    </tr>\n",
       "  </thead>\n",
       "  <tbody>\n",
       "    <tr>\n",
       "      <th>1</th>\n",
       "      <td>3223</td>\n",
       "    </tr>\n",
       "    <tr>\n",
       "      <th>0</th>\n",
       "      <td>613</td>\n",
       "    </tr>\n",
       "  </tbody>\n",
       "</table>\n",
       "</div><br><label><b>dtype:</b> int64</label>"
      ],
      "text/plain": [
       "label\n",
       "1    3223\n",
       "0     613\n",
       "Name: count, dtype: int64"
      ]
     },
     "execution_count": 87,
     "metadata": {},
     "output_type": "execute_result"
    }
   ],
   "source": [
    "df_final_caso4['label'].value_counts()"
   ]
  },
  {
   "cell_type": "code",
   "execution_count": 88,
   "metadata": {
    "id": "rNpx3hX0Cpy8"
   },
   "outputs": [],
   "source": [
    "df_final_caso4.to_csv('./submit/roberta_caso4.csv', index=False)"
   ]
  },
  {
   "cell_type": "markdown",
   "metadata": {
    "id": "GaFyIVFMCpy8",
    "jp-MarkdownHeadingCollapsed": true
   },
   "source": [
    "### 6.5 Caso 5: Statement, Speaker, Party y Subject"
   ]
  },
  {
   "cell_type": "markdown",
   "metadata": {
    "id": "hb6yBMhNCpy8",
    "jp-MarkdownHeadingCollapsed": true
   },
   "source": [
    "#### 6.5.1 Carga de los datos y division en entrenamiento y test"
   ]
  },
  {
   "cell_type": "markdown",
   "metadata": {
    "id": "mluxCV_nCpy8"
   },
   "source": [
    "Cargamos las caracteristicas seleccionadas en la variable X y el objetivo *label* en la variable y. Para la seleccion de la variable X se utilizará la función auxiliar *selStatement*, introducciendo como parámetros el caso de entrenamiento seleccionado y el *dataframe* donde estan almacenados los datos."
   ]
  },
  {
   "cell_type": "code",
   "execution_count": 89,
   "metadata": {
    "id": "1hZK1AZmCpy8"
   },
   "outputs": [],
   "source": [
    "X =  selStatement(5, df)\n",
    "y = df['label']\n",
    "\n",
    "X_kaggle = selStatement(5, df_test)"
   ]
  },
  {
   "cell_type": "markdown",
   "metadata": {
    "id": "b_32c6ZDCpy8"
   },
   "source": [
    "Se realiza un *iloc* para comprobar de forma sencilla que hemos escogido el caso de entrenamiento correcto"
   ]
  },
  {
   "cell_type": "code",
   "execution_count": 90,
   "metadata": {
    "colab": {
     "base_uri": "https://localhost:8080/",
     "height": 52
    },
    "id": "oNNHSpbbCpy8",
    "outputId": "c9f191c1-bfa3-4b17-ae26-f1c4f5a1d716"
   },
   "outputs": [
    {
     "data": {
      "application/vnd.google.colaboratory.intrinsic+json": {
       "type": "string"
      },
      "text/plain": [
       "'donald-trump (affiliated with the republican party) said: \"China is in the South China Sea and (building)a military fortress the likes of which perhaps the world has not seen.\" The statement concerns the topics of: china,foreign-policy,military.'"
      ]
     },
     "execution_count": 90,
     "metadata": {},
     "output_type": "execute_result"
    }
   ],
   "source": [
    "X.iloc[0]"
   ]
  },
  {
   "cell_type": "code",
   "execution_count": 91,
   "metadata": {
    "colab": {
     "base_uri": "https://localhost:8080/",
     "height": 52
    },
    "id": "sV3Gax_4Cpy8",
    "outputId": "060cb20b-7bc5-415b-cc69-19888c837c33"
   },
   "outputs": [
    {
     "data": {
      "application/vnd.google.colaboratory.intrinsic+json": {
       "type": "string"
      },
      "text/plain": [
       "'kasim-reed (affiliated with the democrat party) said: \"Five members of [the Common Cause Georgia] board accepted maximum campaign contributions.\" The statement concerns the topics of: campaign-finance,ethics,government-regulation.'"
      ]
     },
     "execution_count": 91,
     "metadata": {},
     "output_type": "execute_result"
    }
   ],
   "source": [
    "X_kaggle.iloc[0]"
   ]
  },
  {
   "cell_type": "markdown",
   "metadata": {
    "id": "n-sKohTJCpy9"
   },
   "source": [
    "Se separa en entrenamiento y test."
   ]
  },
  {
   "cell_type": "code",
   "execution_count": 92,
   "metadata": {
    "id": "0JsQRbToCpy9"
   },
   "outputs": [],
   "source": [
    "X_train, X_test, y_train, y_test = train_test_split(X, y, test_size=0.2, random_state=seed)"
   ]
  },
  {
   "cell_type": "markdown",
   "metadata": {
    "id": "AMMTr1rsCpy9",
    "jp-MarkdownHeadingCollapsed": true
   },
   "source": [
    "#### 6.5.2 Entrenamiento"
   ]
  },
  {
   "cell_type": "markdown",
   "metadata": {
    "id": "xZuOebSyCpy9"
   },
   "source": [
    "Seleccionamos el modelo mediante la función *selModel* y el parámetro *'deberta'*."
   ]
  },
  {
   "cell_type": "code",
   "execution_count": 93,
   "metadata": {
    "colab": {
     "base_uri": "https://localhost:8080/"
    },
    "id": "lIycAP7dCpy9",
    "outputId": "1c95941c-6bec-4bd1-a7d6-84b566eed3fd"
   },
   "outputs": [
    {
     "name": "stdout",
     "output_type": "stream",
     "text": [
      "Modelo seleccionado: distilbert/distilroberta-base\n"
     ]
    }
   ],
   "source": [
    "model_name = selModel('roberta')\n",
    "print(\"Modelo seleccionado:\", model_name)"
   ]
  },
  {
   "cell_type": "markdown",
   "metadata": {
    "id": "U6WzcwrrCpy9"
   },
   "source": [
    "Seleccionamos el tokenizador del modelo."
   ]
  },
  {
   "cell_type": "code",
   "execution_count": 94,
   "metadata": {
    "id": "Y6Z6W3X4Cpy-"
   },
   "outputs": [],
   "source": [
    "tokenizer = AutoTokenizer.from_pretrained(model_name)"
   ]
  },
  {
   "cell_type": "markdown",
   "metadata": {
    "id": "9zBDl7eICpy-"
   },
   "source": [
    "Tokenizamos los textos."
   ]
  },
  {
   "cell_type": "code",
   "execution_count": 95,
   "metadata": {
    "id": "GolfiYj-Cpy-"
   },
   "outputs": [],
   "source": [
    "# Entrenamiento y evaluación\n",
    "train_encodings = tokenizer(list(X_train), truncation=True, padding=True)\n",
    "test_encodings = tokenizer(list(X_test), truncation=True, padding=True)\n",
    "\n",
    "# Kaggle\n",
    "kaggle_encodings = tokenizer(list(X_kaggle), truncation=True, padding=True)"
   ]
  },
  {
   "cell_type": "markdown",
   "metadata": {
    "id": "pGPS1pASCpy-"
   },
   "source": [
    "Transformamos los *dataframes* en *dataset* con la funcion *OwnDataset* y con la función *KaggleDataset* (la diferencia entre ellas es que *KaggleDataset* se construye sin *labels*)."
   ]
  },
  {
   "cell_type": "code",
   "execution_count": 96,
   "metadata": {
    "id": "EMUw6yPXCpy-"
   },
   "outputs": [],
   "source": [
    "train_dataset = OwnDataset(train_encodings, list(y_train))\n",
    "test_dataset = OwnDataset(test_encodings, list(y_test))\n",
    "\n",
    "kaggle_dataset = KaggleDataset(kaggle_encodings)"
   ]
  },
  {
   "cell_type": "markdown",
   "metadata": {
    "id": "ftvwn4hdCpy-"
   },
   "source": [
    "Cargamos el modelo."
   ]
  },
  {
   "cell_type": "code",
   "execution_count": 97,
   "metadata": {
    "colab": {
     "base_uri": "https://localhost:8080/"
    },
    "id": "qzzIchYlCpy-",
    "outputId": "d21ae384-65e4-4340-d730-d66e2fe12290"
   },
   "outputs": [
    {
     "name": "stderr",
     "output_type": "stream",
     "text": [
      "Some weights of RobertaForSequenceClassification were not initialized from the model checkpoint at distilbert/distilroberta-base and are newly initialized: ['classifier.dense.bias', 'classifier.dense.weight', 'classifier.out_proj.bias', 'classifier.out_proj.weight']\n",
      "You should probably TRAIN this model on a down-stream task to be able to use it for predictions and inference.\n"
     ]
    }
   ],
   "source": [
    "model = AutoModelForSequenceClassification.from_pretrained(model_name, num_labels=2)"
   ]
  },
  {
   "cell_type": "code",
   "execution_count": 98,
   "metadata": {
    "id": "jb1dr3XLCpy-"
   },
   "outputs": [],
   "source": [
    "training_args = TrainingArguments(\n",
    "    output_dir=\"./results_caso5\",\n",
    "    eval_strategy=\"epoch\",\n",
    "    save_strategy=\"epoch\",\n",
    "    learning_rate=2e-5,\n",
    "    per_device_train_batch_size=16,\n",
    "    per_device_eval_batch_size=32,\n",
    "    num_train_epochs=2,\n",
    "    weight_decay=0.01,\n",
    "    report_to=\"none\",\n",
    "    load_best_model_at_end=True,\n",
    "    metric_for_best_model=\"f1\",\n",
    "    greater_is_better=True\n",
    ")"
   ]
  },
  {
   "cell_type": "markdown",
   "metadata": {
    "id": "qxYTqGrCCpy-"
   },
   "source": [
    "Definimos un entrenador."
   ]
  },
  {
   "cell_type": "code",
   "execution_count": 99,
   "metadata": {
    "colab": {
     "base_uri": "https://localhost:8080/"
    },
    "id": "frZBFcC5Cpy-",
    "outputId": "ae9676c5-03a7-4664-da79-7439841e96dc"
   },
   "outputs": [
    {
     "name": "stderr",
     "output_type": "stream",
     "text": [
      "<ipython-input-99-53e65685ea53>:1: FutureWarning: `tokenizer` is deprecated and will be removed in version 5.0.0 for `Trainer.__init__`. Use `processing_class` instead.\n",
      "  trainer = Trainer(\n"
     ]
    }
   ],
   "source": [
    "trainer = Trainer(\n",
    "    model = model,\n",
    "    args = training_args,\n",
    "    train_dataset = train_dataset,\n",
    "    eval_dataset = test_dataset,\n",
    "    tokenizer = tokenizer,\n",
    "    compute_metrics = compute_metrics\n",
    ")"
   ]
  },
  {
   "cell_type": "markdown",
   "metadata": {
    "id": "f1B2gTKqCpy_"
   },
   "source": [
    "Entrenamos el modelo."
   ]
  },
  {
   "cell_type": "code",
   "execution_count": 100,
   "metadata": {
    "colab": {
     "base_uri": "https://localhost:8080/",
     "height": 172
    },
    "id": "66fSbl1_Cpy_",
    "outputId": "2bb063f9-f82c-4ed2-a1b4-475242ac21f1"
   },
   "outputs": [
    {
     "data": {
      "text/html": [
       "\n",
       "    <div>\n",
       "      \n",
       "      <progress value='896' max='896' style='width:300px; height:20px; vertical-align: middle;'></progress>\n",
       "      [896/896 11:25, Epoch 2/2]\n",
       "    </div>\n",
       "    <table border=\"1\" class=\"dataframe\">\n",
       "  <thead>\n",
       " <tr style=\"text-align: left;\">\n",
       "      <th>Epoch</th>\n",
       "      <th>Training Loss</th>\n",
       "      <th>Validation Loss</th>\n",
       "      <th>Accuracy</th>\n",
       "      <th>F1</th>\n",
       "    </tr>\n",
       "  </thead>\n",
       "  <tbody>\n",
       "    <tr>\n",
       "      <td>1</td>\n",
       "      <td>No log</td>\n",
       "      <td>0.601001</td>\n",
       "      <td>0.675419</td>\n",
       "      <td>0.782152</td>\n",
       "    </tr>\n",
       "    <tr>\n",
       "      <td>2</td>\n",
       "      <td>0.625000</td>\n",
       "      <td>0.614967</td>\n",
       "      <td>0.661453</td>\n",
       "      <td>0.738116</td>\n",
       "    </tr>\n",
       "  </tbody>\n",
       "</table><p>"
      ],
      "text/plain": [
       "<IPython.core.display.HTML object>"
      ]
     },
     "metadata": {},
     "output_type": "display_data"
    },
    {
     "data": {
      "text/plain": [
       "TrainOutput(global_step=896, training_loss=0.6031361477715629, metrics={'train_runtime': 686.3498, 'train_samples_per_second': 20.864, 'train_steps_per_second': 1.305, 'total_flos': 1896933148753920.0, 'train_loss': 0.6031361477715629, 'epoch': 2.0})"
      ]
     },
     "execution_count": 100,
     "metadata": {},
     "output_type": "execute_result"
    }
   ],
   "source": [
    "trainer.train()"
   ]
  },
  {
   "cell_type": "markdown",
   "metadata": {
    "id": "A3SmvUggCpy_"
   },
   "source": [
    "Evaluamos los estadísticos establecidos previamente."
   ]
  },
  {
   "cell_type": "code",
   "execution_count": 101,
   "metadata": {
    "colab": {
     "base_uri": "https://localhost:8080/",
     "height": 158
    },
    "id": "uupsiL6BCpy_",
    "outputId": "1bb210bb-d50a-4b04-cc6b-e4ca9340ff96"
   },
   "outputs": [
    {
     "data": {
      "text/html": [
       "\n",
       "    <div>\n",
       "      \n",
       "      <progress value='56' max='56' style='width:300px; height:20px; vertical-align: middle;'></progress>\n",
       "      [56/56 00:05]\n",
       "    </div>\n",
       "    "
      ],
      "text/plain": [
       "<IPython.core.display.HTML object>"
      ]
     },
     "metadata": {},
     "output_type": "display_data"
    },
    {
     "data": {
      "text/plain": [
       "{'eval_loss': 0.6010012030601501,\n",
       " 'eval_accuracy': 0.6754189944134078,\n",
       " 'eval_f1': 0.7821522309711286,\n",
       " 'eval_runtime': 5.2653,\n",
       " 'eval_samples_per_second': 339.962,\n",
       " 'eval_steps_per_second': 10.636,\n",
       " 'epoch': 2.0}"
      ]
     },
     "execution_count": 101,
     "metadata": {},
     "output_type": "execute_result"
    }
   ],
   "source": [
    "trainer.evaluate()"
   ]
  },
  {
   "cell_type": "markdown",
   "metadata": {
    "id": "NvtdXTBLCpy_"
   },
   "source": [
    "En caso de querer almacenarlo para ser evaluados por otros."
   ]
  },
  {
   "cell_type": "raw",
   "metadata": {
    "id": "AmuVxSeZCpy_"
   },
   "source": [
    "trainer.save_model(\"roberta_caso5\")\n",
    "tokenizer.save_pretrained(\"roberta_caso5\")"
   ]
  },
  {
   "cell_type": "markdown",
   "metadata": {
    "id": "0s1-jzabCpy_",
    "jp-MarkdownHeadingCollapsed": true
   },
   "source": [
    "#### 6.5.3 Exportar CSV"
   ]
  },
  {
   "cell_type": "code",
   "execution_count": 102,
   "metadata": {
    "colab": {
     "base_uri": "https://localhost:8080/",
     "height": 17
    },
    "id": "WodLRzyBCpy_",
    "outputId": "7ebb7ac4-4ff9-4b43-d379-c5728ed4819c"
   },
   "outputs": [
    {
     "data": {
      "text/html": [],
      "text/plain": [
       "<IPython.core.display.HTML object>"
      ]
     },
     "metadata": {},
     "output_type": "display_data"
    }
   ],
   "source": [
    "predictions = trainer.predict(kaggle_dataset)\n",
    "predicted_labels = predictions.predictions.argmax(-1)"
   ]
  },
  {
   "cell_type": "code",
   "execution_count": 103,
   "metadata": {
    "id": "jC7T8PltCpy_"
   },
   "outputs": [],
   "source": [
    "df_label_caso5 = pd.DataFrame(predicted_labels, columns=['label'])\n",
    "df_id = df_test['id'].reset_index(drop=True)\n",
    "df_final_caso5 = pd.concat([df_id, df_label_caso5], axis=1)"
   ]
  },
  {
   "cell_type": "code",
   "execution_count": 104,
   "metadata": {
    "colab": {
     "base_uri": "https://localhost:8080/",
     "height": 178
    },
    "id": "GZs8mM3KCpzA",
    "outputId": "c3211c9d-7b87-400b-c9da-44c387c6b0ba"
   },
   "outputs": [
    {
     "data": {
      "text/html": [
       "<div>\n",
       "<style scoped>\n",
       "    .dataframe tbody tr th:only-of-type {\n",
       "        vertical-align: middle;\n",
       "    }\n",
       "\n",
       "    .dataframe tbody tr th {\n",
       "        vertical-align: top;\n",
       "    }\n",
       "\n",
       "    .dataframe thead th {\n",
       "        text-align: right;\n",
       "    }\n",
       "</style>\n",
       "<table border=\"1\" class=\"dataframe\">\n",
       "  <thead>\n",
       "    <tr style=\"text-align: right;\">\n",
       "      <th></th>\n",
       "      <th>count</th>\n",
       "    </tr>\n",
       "    <tr>\n",
       "      <th>label</th>\n",
       "      <th></th>\n",
       "    </tr>\n",
       "  </thead>\n",
       "  <tbody>\n",
       "    <tr>\n",
       "      <th>1</th>\n",
       "      <td>3198</td>\n",
       "    </tr>\n",
       "    <tr>\n",
       "      <th>0</th>\n",
       "      <td>638</td>\n",
       "    </tr>\n",
       "  </tbody>\n",
       "</table>\n",
       "</div><br><label><b>dtype:</b> int64</label>"
      ],
      "text/plain": [
       "label\n",
       "1    3198\n",
       "0     638\n",
       "Name: count, dtype: int64"
      ]
     },
     "execution_count": 104,
     "metadata": {},
     "output_type": "execute_result"
    }
   ],
   "source": [
    "df_final_caso5['label'].value_counts()"
   ]
  },
  {
   "cell_type": "code",
   "execution_count": 105,
   "metadata": {
    "id": "zxwd82HiCpzA"
   },
   "outputs": [],
   "source": [
    "df_final_caso5.to_csv('./submit/roberta_caso5.csv', index=False)"
   ]
  },
  {
   "cell_type": "markdown",
   "metadata": {
    "id": "CSeiNZOJCpzA",
    "jp-MarkdownHeadingCollapsed": true
   },
   "source": [
    "### 6.6 Caso 6: Statement, Speaker, Party y Speaker Job"
   ]
  },
  {
   "cell_type": "markdown",
   "metadata": {
    "id": "Blu7tPHKCpzA",
    "jp-MarkdownHeadingCollapsed": true
   },
   "source": [
    "#### 6.6.1 Carga de los datos y division en entrenamiento y test"
   ]
  },
  {
   "cell_type": "markdown",
   "metadata": {
    "id": "7XrBd9qwCpzA"
   },
   "source": [
    "Cargamos las caracteristicas seleccionadas en la variable X y el objetivo *label* en la variable y. Para la seleccion de la variable X se utilizará la función auxiliar *selStatement*, introducciendo como parámetros el caso de entrenamiento seleccionado y el *dataframe* donde estan almacenados los datos."
   ]
  },
  {
   "cell_type": "code",
   "execution_count": 106,
   "metadata": {
    "id": "XCShtfKGCpzA"
   },
   "outputs": [],
   "source": [
    "X =  selStatement(6, df)\n",
    "y = df['label']\n",
    "\n",
    "X_kaggle = selStatement(6, df_test)"
   ]
  },
  {
   "cell_type": "markdown",
   "metadata": {
    "id": "bw5gogZdCpzA"
   },
   "source": [
    "Se realiza un *iloc* para comprobar de forma sencilla que hemos escogido el caso de entrenamiento correcto"
   ]
  },
  {
   "cell_type": "code",
   "execution_count": 107,
   "metadata": {
    "colab": {
     "base_uri": "https://localhost:8080/",
     "height": 52
    },
    "id": "eAWALBXGCpzA",
    "outputId": "e46eb291-a004-4f28-8958-f833cb10e32f"
   },
   "outputs": [
    {
     "data": {
      "application/vnd.google.colaboratory.intrinsic+json": {
       "type": "string"
      },
      "text/plain": [
       "'donald-trump (President-Elect) (affiliated with the republican party) said: \"China is in the South China Sea and (building)a military fortress the likes of which perhaps the world has not seen.\"'"
      ]
     },
     "execution_count": 107,
     "metadata": {},
     "output_type": "execute_result"
    }
   ],
   "source": [
    "X.iloc[0]"
   ]
  },
  {
   "cell_type": "code",
   "execution_count": 108,
   "metadata": {
    "colab": {
     "base_uri": "https://localhost:8080/",
     "height": 35
    },
    "id": "LnNHg4SaCpzA",
    "outputId": "2b122cd4-3afd-42c3-db66-4b2b93377956"
   },
   "outputs": [
    {
     "data": {
      "application/vnd.google.colaboratory.intrinsic+json": {
       "type": "string"
      },
      "text/plain": [
       "'kasim-reed (affiliated with the democrat party) said: \"Five members of [the Common Cause Georgia] board accepted maximum campaign contributions.\"'"
      ]
     },
     "execution_count": 108,
     "metadata": {},
     "output_type": "execute_result"
    }
   ],
   "source": [
    "X_kaggle.iloc[0]"
   ]
  },
  {
   "cell_type": "markdown",
   "metadata": {
    "id": "K_y4nzuqCpzA"
   },
   "source": [
    "Se separa en entrenamiento y test."
   ]
  },
  {
   "cell_type": "code",
   "execution_count": 109,
   "metadata": {
    "id": "pygUWk1bCpzB"
   },
   "outputs": [],
   "source": [
    "X_train, X_test, y_train, y_test = train_test_split(X, y, test_size=0.2, random_state=seed)"
   ]
  },
  {
   "cell_type": "markdown",
   "metadata": {
    "id": "2g72EilQCpzB",
    "jp-MarkdownHeadingCollapsed": true
   },
   "source": [
    "#### 6.6.2 Entrenamiento"
   ]
  },
  {
   "cell_type": "markdown",
   "metadata": {
    "id": "nZWAmrfjCpzB"
   },
   "source": [
    "Seleccionamos el modelo mediante la función *selModel* y el parámetro *'deberta'*."
   ]
  },
  {
   "cell_type": "code",
   "execution_count": 110,
   "metadata": {
    "colab": {
     "base_uri": "https://localhost:8080/"
    },
    "id": "rOnXPFIQCpzB",
    "outputId": "6b0234c4-dfbf-43e0-f9b5-b240d8479db0"
   },
   "outputs": [
    {
     "name": "stdout",
     "output_type": "stream",
     "text": [
      "Modelo seleccionado: distilbert/distilroberta-base\n"
     ]
    }
   ],
   "source": [
    "model_name = selModel('roberta')\n",
    "print(\"Modelo seleccionado:\", model_name)"
   ]
  },
  {
   "cell_type": "markdown",
   "metadata": {
    "id": "ncqR3HpBCpzB"
   },
   "source": [
    "Seleccionamos el tokenizador del modelo."
   ]
  },
  {
   "cell_type": "code",
   "execution_count": 111,
   "metadata": {
    "id": "7C0pzzbPCpzB"
   },
   "outputs": [],
   "source": [
    "tokenizer = AutoTokenizer.from_pretrained(model_name)"
   ]
  },
  {
   "cell_type": "markdown",
   "metadata": {
    "id": "EE_JqzCHCpzB"
   },
   "source": [
    "Tokenizamos los textos."
   ]
  },
  {
   "cell_type": "code",
   "execution_count": 112,
   "metadata": {
    "id": "lDdz9cDbCpzB"
   },
   "outputs": [],
   "source": [
    "# Entrenamiento y evaluación\n",
    "train_encodings = tokenizer(list(X_train), truncation=True, padding=True)\n",
    "test_encodings = tokenizer(list(X_test), truncation=True, padding=True)\n",
    "\n",
    "# Kaggle\n",
    "kaggle_encodings = tokenizer(list(X_kaggle), truncation=True, padding=True)"
   ]
  },
  {
   "cell_type": "markdown",
   "metadata": {
    "id": "m0UdUYEYCpzB"
   },
   "source": [
    "Transformamos los *dataframes* en *dataset* con la funcion *OwnDataset* y con la función *KaggleDataset* (la diferencia entre ellas es que *KaggleDataset* se construye sin *labels*)."
   ]
  },
  {
   "cell_type": "code",
   "execution_count": 113,
   "metadata": {
    "id": "XukBQfTjCpzB"
   },
   "outputs": [],
   "source": [
    "train_dataset = OwnDataset(train_encodings, list(y_train))\n",
    "test_dataset = OwnDataset(test_encodings, list(y_test))\n",
    "\n",
    "kaggle_dataset = KaggleDataset(kaggle_encodings)"
   ]
  },
  {
   "cell_type": "markdown",
   "metadata": {
    "id": "7WSzlMRDCpzB"
   },
   "source": [
    "Cargamos el modelo."
   ]
  },
  {
   "cell_type": "code",
   "execution_count": 114,
   "metadata": {
    "colab": {
     "base_uri": "https://localhost:8080/"
    },
    "id": "Bjg2cF9jCpzB",
    "outputId": "f69d9565-724d-479e-c7f8-dae9f8a7686c"
   },
   "outputs": [
    {
     "name": "stderr",
     "output_type": "stream",
     "text": [
      "Some weights of RobertaForSequenceClassification were not initialized from the model checkpoint at distilbert/distilroberta-base and are newly initialized: ['classifier.dense.bias', 'classifier.dense.weight', 'classifier.out_proj.bias', 'classifier.out_proj.weight']\n",
      "You should probably TRAIN this model on a down-stream task to be able to use it for predictions and inference.\n"
     ]
    }
   ],
   "source": [
    "model = AutoModelForSequenceClassification.from_pretrained(model_name, num_labels=2)"
   ]
  },
  {
   "cell_type": "code",
   "execution_count": 115,
   "metadata": {
    "id": "dqy24EYGCpzB"
   },
   "outputs": [],
   "source": [
    "training_args = TrainingArguments(\n",
    "    output_dir=\"./results_caso6\",\n",
    "    eval_strategy=\"epoch\",\n",
    "    save_strategy=\"epoch\",\n",
    "    learning_rate=2e-5,\n",
    "    per_device_train_batch_size=16,\n",
    "    per_device_eval_batch_size=32,\n",
    "    num_train_epochs=2,\n",
    "    weight_decay=0.01,\n",
    "    report_to=\"none\",\n",
    "    load_best_model_at_end=True,\n",
    "    metric_for_best_model=\"f1\",\n",
    "    greater_is_better=True\n",
    ")"
   ]
  },
  {
   "cell_type": "markdown",
   "metadata": {
    "id": "2KqOpGANCpzC"
   },
   "source": [
    "Definimos un entrenador."
   ]
  },
  {
   "cell_type": "code",
   "execution_count": 116,
   "metadata": {
    "colab": {
     "base_uri": "https://localhost:8080/"
    },
    "id": "KwpjkUU5CpzC",
    "outputId": "7d2ddfb6-86e5-4378-e72a-ffe5c443680a"
   },
   "outputs": [
    {
     "name": "stderr",
     "output_type": "stream",
     "text": [
      "<ipython-input-116-53e65685ea53>:1: FutureWarning: `tokenizer` is deprecated and will be removed in version 5.0.0 for `Trainer.__init__`. Use `processing_class` instead.\n",
      "  trainer = Trainer(\n"
     ]
    }
   ],
   "source": [
    "trainer = Trainer(\n",
    "    model = model,\n",
    "    args = training_args,\n",
    "    train_dataset = train_dataset,\n",
    "    eval_dataset = test_dataset,\n",
    "    tokenizer = tokenizer,\n",
    "    compute_metrics = compute_metrics\n",
    ")"
   ]
  },
  {
   "cell_type": "markdown",
   "metadata": {
    "id": "hU_HQsT6CpzC"
   },
   "source": [
    "Entrenamos el modelo."
   ]
  },
  {
   "cell_type": "code",
   "execution_count": 117,
   "metadata": {
    "colab": {
     "base_uri": "https://localhost:8080/",
     "height": 172
    },
    "id": "b-AerR7WCpzC",
    "outputId": "345dec8c-383a-4ee4-e82c-4f83d97ed6d7"
   },
   "outputs": [
    {
     "data": {
      "text/html": [
       "\n",
       "    <div>\n",
       "      \n",
       "      <progress value='896' max='896' style='width:300px; height:20px; vertical-align: middle;'></progress>\n",
       "      [896/896 12:21, Epoch 2/2]\n",
       "    </div>\n",
       "    <table border=\"1\" class=\"dataframe\">\n",
       "  <thead>\n",
       " <tr style=\"text-align: left;\">\n",
       "      <th>Epoch</th>\n",
       "      <th>Training Loss</th>\n",
       "      <th>Validation Loss</th>\n",
       "      <th>Accuracy</th>\n",
       "      <th>F1</th>\n",
       "    </tr>\n",
       "  </thead>\n",
       "  <tbody>\n",
       "    <tr>\n",
       "      <td>1</td>\n",
       "      <td>No log</td>\n",
       "      <td>0.604272</td>\n",
       "      <td>0.686592</td>\n",
       "      <td>0.791682</td>\n",
       "    </tr>\n",
       "    <tr>\n",
       "      <td>2</td>\n",
       "      <td>0.621700</td>\n",
       "      <td>0.619557</td>\n",
       "      <td>0.655866</td>\n",
       "      <td>0.734711</td>\n",
       "    </tr>\n",
       "  </tbody>\n",
       "</table><p>"
      ],
      "text/plain": [
       "<IPython.core.display.HTML object>"
      ]
     },
     "metadata": {},
     "output_type": "display_data"
    },
    {
     "data": {
      "text/plain": [
       "TrainOutput(global_step=896, training_loss=0.6005993570600238, metrics={'train_runtime': 742.568, 'train_samples_per_second': 19.284, 'train_steps_per_second': 1.207, 'total_flos': 1896933148753920.0, 'train_loss': 0.6005993570600238, 'epoch': 2.0})"
      ]
     },
     "execution_count": 117,
     "metadata": {},
     "output_type": "execute_result"
    }
   ],
   "source": [
    "trainer.train()"
   ]
  },
  {
   "cell_type": "markdown",
   "metadata": {
    "id": "xa9NRMWuCpzC"
   },
   "source": [
    "Evaluamos los estadísticos establecidos previamente."
   ]
  },
  {
   "cell_type": "code",
   "execution_count": 118,
   "metadata": {
    "colab": {
     "base_uri": "https://localhost:8080/",
     "height": 158
    },
    "id": "JN7G590ICpzC",
    "outputId": "150cc539-2453-4898-8fb3-ab1c363eb08b"
   },
   "outputs": [
    {
     "data": {
      "text/html": [
       "\n",
       "    <div>\n",
       "      \n",
       "      <progress value='56' max='56' style='width:300px; height:20px; vertical-align: middle;'></progress>\n",
       "      [56/56 00:05]\n",
       "    </div>\n",
       "    "
      ],
      "text/plain": [
       "<IPython.core.display.HTML object>"
      ]
     },
     "metadata": {},
     "output_type": "display_data"
    },
    {
     "data": {
      "text/plain": [
       "{'eval_loss': 0.6042715907096863,\n",
       " 'eval_accuracy': 0.6865921787709497,\n",
       " 'eval_f1': 0.7916821388785741,\n",
       " 'eval_runtime': 5.2787,\n",
       " 'eval_samples_per_second': 339.1,\n",
       " 'eval_steps_per_second': 10.609,\n",
       " 'epoch': 2.0}"
      ]
     },
     "execution_count": 118,
     "metadata": {},
     "output_type": "execute_result"
    }
   ],
   "source": [
    "trainer.evaluate()"
   ]
  },
  {
   "cell_type": "markdown",
   "metadata": {
    "id": "5xNKKsW-CpzC"
   },
   "source": [
    "En caso de querer almacenarlo para ser evaluados por otros."
   ]
  },
  {
   "cell_type": "raw",
   "metadata": {
    "id": "M64qjmJiCpzC"
   },
   "source": [
    "trainer.save_model(\"roberta_caso6\")\n",
    "tokenizer.save_pretrained(\"roberta_caso6\")"
   ]
  },
  {
   "cell_type": "markdown",
   "metadata": {
    "id": "MgM36F8dCpzD",
    "jp-MarkdownHeadingCollapsed": true
   },
   "source": [
    "#### 6.6.3 Exportar CSV"
   ]
  },
  {
   "cell_type": "code",
   "execution_count": 119,
   "metadata": {
    "colab": {
     "base_uri": "https://localhost:8080/",
     "height": 17
    },
    "id": "RNeupeGjCpzD",
    "outputId": "f2118ea5-763a-49b2-b5f8-fb39d39b5571"
   },
   "outputs": [
    {
     "data": {
      "text/html": [],
      "text/plain": [
       "<IPython.core.display.HTML object>"
      ]
     },
     "metadata": {},
     "output_type": "display_data"
    }
   ],
   "source": [
    "predictions = trainer.predict(kaggle_dataset)\n",
    "predicted_labels = predictions.predictions.argmax(-1)"
   ]
  },
  {
   "cell_type": "code",
   "execution_count": 120,
   "metadata": {
    "id": "Lb1leVD1CpzD"
   },
   "outputs": [],
   "source": [
    "df_label_caso6 = pd.DataFrame(predicted_labels, columns=['label'])\n",
    "df_id = df_test['id'].reset_index(drop=True)\n",
    "df_final_caso6 = pd.concat([df_id, df_label_caso6], axis=1)"
   ]
  },
  {
   "cell_type": "code",
   "execution_count": 121,
   "metadata": {
    "colab": {
     "base_uri": "https://localhost:8080/",
     "height": 178
    },
    "id": "GYWA8jyaCpzD",
    "outputId": "2b72454c-48c4-4477-9c75-d00b7f4f1e60"
   },
   "outputs": [
    {
     "data": {
      "text/html": [
       "<div>\n",
       "<style scoped>\n",
       "    .dataframe tbody tr th:only-of-type {\n",
       "        vertical-align: middle;\n",
       "    }\n",
       "\n",
       "    .dataframe tbody tr th {\n",
       "        vertical-align: top;\n",
       "    }\n",
       "\n",
       "    .dataframe thead th {\n",
       "        text-align: right;\n",
       "    }\n",
       "</style>\n",
       "<table border=\"1\" class=\"dataframe\">\n",
       "  <thead>\n",
       "    <tr style=\"text-align: right;\">\n",
       "      <th></th>\n",
       "      <th>count</th>\n",
       "    </tr>\n",
       "    <tr>\n",
       "      <th>label</th>\n",
       "      <th></th>\n",
       "    </tr>\n",
       "  </thead>\n",
       "  <tbody>\n",
       "    <tr>\n",
       "      <th>1</th>\n",
       "      <td>3212</td>\n",
       "    </tr>\n",
       "    <tr>\n",
       "      <th>0</th>\n",
       "      <td>624</td>\n",
       "    </tr>\n",
       "  </tbody>\n",
       "</table>\n",
       "</div><br><label><b>dtype:</b> int64</label>"
      ],
      "text/plain": [
       "label\n",
       "1    3212\n",
       "0     624\n",
       "Name: count, dtype: int64"
      ]
     },
     "execution_count": 121,
     "metadata": {},
     "output_type": "execute_result"
    }
   ],
   "source": [
    "df_final_caso6['label'].value_counts()"
   ]
  },
  {
   "cell_type": "code",
   "execution_count": 122,
   "metadata": {
    "id": "RNxvCRdfCpzD"
   },
   "outputs": [],
   "source": [
    "df_final_caso6.to_csv('./submit/roberta_caso6.csv', index=False)"
   ]
  },
  {
   "cell_type": "markdown",
   "metadata": {
    "id": "hheRJHvwCpzD",
    "jp-MarkdownHeadingCollapsed": true
   },
   "source": [
    "### 6.7 Caso 7: Statement, Speaker, Party, Speaker Job y Subject"
   ]
  },
  {
   "cell_type": "markdown",
   "metadata": {
    "id": "lLzGKI6OCpzD",
    "jp-MarkdownHeadingCollapsed": true
   },
   "source": [
    "#### 6.7.1 Carga de los datos y division en entrenamiento y test"
   ]
  },
  {
   "cell_type": "markdown",
   "metadata": {
    "id": "LU7jZm9PCpzD"
   },
   "source": [
    "Cargamos las caracteristicas seleccionadas en la variable X y el objetivo *label* en la variable y. Para la seleccion de la variable X se utilizará la función auxiliar *selStatement*, introducciendo como parámetros el caso de entrenamiento seleccionado y el *dataframe* donde estan almacenados los datos."
   ]
  },
  {
   "cell_type": "code",
   "execution_count": 123,
   "metadata": {
    "id": "zEQYZd1tCpzD"
   },
   "outputs": [],
   "source": [
    "X =  selStatement(7, df)\n",
    "y = df['label']\n",
    "\n",
    "X_kaggle = selStatement(7, df_test)"
   ]
  },
  {
   "cell_type": "markdown",
   "metadata": {
    "id": "7ojVHyEsCpzD"
   },
   "source": [
    "Se realiza un *iloc* para comprobar de forma sencilla que hemos escogido el caso de entrenamiento correcto"
   ]
  },
  {
   "cell_type": "code",
   "execution_count": 124,
   "metadata": {
    "colab": {
     "base_uri": "https://localhost:8080/",
     "height": 52
    },
    "id": "7KVGMcDYCpzE",
    "outputId": "d4381a3e-00b6-4e06-f926-9326ce70f0b3"
   },
   "outputs": [
    {
     "data": {
      "application/vnd.google.colaboratory.intrinsic+json": {
       "type": "string"
      },
      "text/plain": [
       "'donald-trump (President-Elect) (affiliated with the republican party) said: \"China is in the South China Sea and (building)a military fortress the likes of which perhaps the world has not seen.\" The statement concerns the topics of: china,foreign-policy,military.'"
      ]
     },
     "execution_count": 124,
     "metadata": {},
     "output_type": "execute_result"
    }
   ],
   "source": [
    "X.iloc[0]"
   ]
  },
  {
   "cell_type": "code",
   "execution_count": 125,
   "metadata": {
    "colab": {
     "base_uri": "https://localhost:8080/",
     "height": 52
    },
    "id": "S6Q2pLcHCpzE",
    "outputId": "c9ccfd9d-1c9c-41a0-f6da-76163901b5e7"
   },
   "outputs": [
    {
     "data": {
      "application/vnd.google.colaboratory.intrinsic+json": {
       "type": "string"
      },
      "text/plain": [
       "'kasim-reed (affiliated with the democrat party) said: \"Five members of [the Common Cause Georgia] board accepted maximum campaign contributions.\" The statement concerns the topics of: campaign-finance,ethics,government-regulation.'"
      ]
     },
     "execution_count": 125,
     "metadata": {},
     "output_type": "execute_result"
    }
   ],
   "source": [
    "X_kaggle.iloc[0]"
   ]
  },
  {
   "cell_type": "markdown",
   "metadata": {
    "id": "E2ZnP6VECpzE"
   },
   "source": [
    "Se separa en entrenamiento y test."
   ]
  },
  {
   "cell_type": "code",
   "execution_count": 126,
   "metadata": {
    "id": "c9m-TJMTCpzE"
   },
   "outputs": [],
   "source": [
    "X_train, X_test, y_train, y_test = train_test_split(X, y, test_size=0.2, random_state=seed)"
   ]
  },
  {
   "cell_type": "markdown",
   "metadata": {
    "id": "oVE6VAbpCpzE",
    "jp-MarkdownHeadingCollapsed": true
   },
   "source": [
    "#### 6.7.2 Entrenamiento"
   ]
  },
  {
   "cell_type": "markdown",
   "metadata": {
    "id": "sE1EE-0pCpzE"
   },
   "source": [
    "Seleccionamos el modelo mediante la función *selModel* y el parámetro *'deberta'*."
   ]
  },
  {
   "cell_type": "code",
   "execution_count": 127,
   "metadata": {
    "colab": {
     "base_uri": "https://localhost:8080/"
    },
    "id": "xFHvCpB4CpzE",
    "outputId": "d32bc112-bd06-4d78-f671-2199c042e6e9"
   },
   "outputs": [
    {
     "name": "stdout",
     "output_type": "stream",
     "text": [
      "Modelo seleccionado: distilbert/distilroberta-base\n"
     ]
    }
   ],
   "source": [
    "model_name = selModel('roberta')\n",
    "print(\"Modelo seleccionado:\", model_name)"
   ]
  },
  {
   "cell_type": "markdown",
   "metadata": {
    "id": "hDrcdn2dCpzE"
   },
   "source": [
    "Seleccionamos el tokenizador del modelo."
   ]
  },
  {
   "cell_type": "code",
   "execution_count": 128,
   "metadata": {
    "id": "Ehwfk6vxCpzE"
   },
   "outputs": [],
   "source": [
    "tokenizer = AutoTokenizer.from_pretrained(model_name)"
   ]
  },
  {
   "cell_type": "markdown",
   "metadata": {
    "id": "Fsg9nJ6ACpzE"
   },
   "source": [
    "Tokenizamos los textos."
   ]
  },
  {
   "cell_type": "code",
   "execution_count": 129,
   "metadata": {
    "id": "V5JIAnwuCpzE"
   },
   "outputs": [],
   "source": [
    "# Entrenamiento y evaluación\n",
    "train_encodings = tokenizer(list(X_train), truncation=True, padding=True)\n",
    "test_encodings = tokenizer(list(X_test), truncation=True, padding=True)\n",
    "\n",
    "# Kaggle\n",
    "kaggle_encodings = tokenizer(list(X_kaggle), truncation=True, padding=True)"
   ]
  },
  {
   "cell_type": "markdown",
   "metadata": {
    "id": "eCMyC4nMCpzF"
   },
   "source": [
    "Transformamos los *dataframes* en *dataset* con la funcion *OwnDataset* y con la función *KaggleDataset* (la diferencia entre ellas es que *KaggleDataset* se construye sin *labels*)."
   ]
  },
  {
   "cell_type": "code",
   "execution_count": 130,
   "metadata": {
    "id": "M4wwAdtdCpzF"
   },
   "outputs": [],
   "source": [
    "train_dataset = OwnDataset(train_encodings, list(y_train))\n",
    "test_dataset = OwnDataset(test_encodings, list(y_test))\n",
    "\n",
    "kaggle_dataset = KaggleDataset(kaggle_encodings)"
   ]
  },
  {
   "cell_type": "markdown",
   "metadata": {
    "id": "if8GiKgzCpzF"
   },
   "source": [
    "Cargamos el modelo."
   ]
  },
  {
   "cell_type": "code",
   "execution_count": 131,
   "metadata": {
    "colab": {
     "base_uri": "https://localhost:8080/"
    },
    "id": "TpflVMeGCpzF",
    "outputId": "d3584189-92c8-4367-e901-d1bb202f8c97"
   },
   "outputs": [
    {
     "name": "stderr",
     "output_type": "stream",
     "text": [
      "Some weights of RobertaForSequenceClassification were not initialized from the model checkpoint at distilbert/distilroberta-base and are newly initialized: ['classifier.dense.bias', 'classifier.dense.weight', 'classifier.out_proj.bias', 'classifier.out_proj.weight']\n",
      "You should probably TRAIN this model on a down-stream task to be able to use it for predictions and inference.\n"
     ]
    }
   ],
   "source": [
    "model = AutoModelForSequenceClassification.from_pretrained(model_name, num_labels=2)"
   ]
  },
  {
   "cell_type": "code",
   "execution_count": 132,
   "metadata": {
    "id": "tI-0vpNUCpzF"
   },
   "outputs": [],
   "source": [
    "training_args = TrainingArguments(\n",
    "    output_dir=\"./results_caso7\",\n",
    "    eval_strategy=\"epoch\",\n",
    "    save_strategy=\"epoch\",\n",
    "    learning_rate=2e-5,\n",
    "    per_device_train_batch_size=16,\n",
    "    per_device_eval_batch_size=32,\n",
    "    num_train_epochs=2,\n",
    "    weight_decay=0.01,\n",
    "    report_to=\"none\",\n",
    "    load_best_model_at_end=True,\n",
    "    metric_for_best_model=\"f1\",\n",
    "    greater_is_better=True\n",
    ")"
   ]
  },
  {
   "cell_type": "markdown",
   "metadata": {
    "id": "_rZU1bhzCpzF"
   },
   "source": [
    "Definimos un entrenador."
   ]
  },
  {
   "cell_type": "code",
   "execution_count": 133,
   "metadata": {
    "colab": {
     "base_uri": "https://localhost:8080/"
    },
    "id": "4QGwNRh5CpzF",
    "outputId": "b98c8cf6-a8c2-44e2-ad7a-5e843b488d04"
   },
   "outputs": [
    {
     "name": "stderr",
     "output_type": "stream",
     "text": [
      "<ipython-input-133-53e65685ea53>:1: FutureWarning: `tokenizer` is deprecated and will be removed in version 5.0.0 for `Trainer.__init__`. Use `processing_class` instead.\n",
      "  trainer = Trainer(\n"
     ]
    }
   ],
   "source": [
    "trainer = Trainer(\n",
    "    model = model,\n",
    "    args = training_args,\n",
    "    train_dataset = train_dataset,\n",
    "    eval_dataset = test_dataset,\n",
    "    tokenizer = tokenizer,\n",
    "    compute_metrics = compute_metrics\n",
    ")"
   ]
  },
  {
   "cell_type": "markdown",
   "metadata": {
    "id": "yr1UYIHgCpzF"
   },
   "source": [
    "Entrenamos el modelo."
   ]
  },
  {
   "cell_type": "code",
   "execution_count": 134,
   "metadata": {
    "colab": {
     "base_uri": "https://localhost:8080/",
     "height": 172
    },
    "id": "u_JWVZK-CpzF",
    "outputId": "1895e18a-c142-4587-8fa7-988d01e5c828"
   },
   "outputs": [
    {
     "data": {
      "text/html": [
       "\n",
       "    <div>\n",
       "      \n",
       "      <progress value='896' max='896' style='width:300px; height:20px; vertical-align: middle;'></progress>\n",
       "      [896/896 12:16, Epoch 2/2]\n",
       "    </div>\n",
       "    <table border=\"1\" class=\"dataframe\">\n",
       "  <thead>\n",
       " <tr style=\"text-align: left;\">\n",
       "      <th>Epoch</th>\n",
       "      <th>Training Loss</th>\n",
       "      <th>Validation Loss</th>\n",
       "      <th>Accuracy</th>\n",
       "      <th>F1</th>\n",
       "    </tr>\n",
       "  </thead>\n",
       "  <tbody>\n",
       "    <tr>\n",
       "      <td>1</td>\n",
       "      <td>No log</td>\n",
       "      <td>0.604165</td>\n",
       "      <td>0.682123</td>\n",
       "      <td>0.789804</td>\n",
       "    </tr>\n",
       "    <tr>\n",
       "      <td>2</td>\n",
       "      <td>0.624200</td>\n",
       "      <td>0.621089</td>\n",
       "      <td>0.650279</td>\n",
       "      <td>0.729004</td>\n",
       "    </tr>\n",
       "  </tbody>\n",
       "</table><p>"
      ],
      "text/plain": [
       "<IPython.core.display.HTML object>"
      ]
     },
     "metadata": {},
     "output_type": "display_data"
    },
    {
     "data": {
      "text/plain": [
       "TrainOutput(global_step=896, training_loss=0.603698696408953, metrics={'train_runtime': 737.6993, 'train_samples_per_second': 19.412, 'train_steps_per_second': 1.215, 'total_flos': 1896933148753920.0, 'train_loss': 0.603698696408953, 'epoch': 2.0})"
      ]
     },
     "execution_count": 134,
     "metadata": {},
     "output_type": "execute_result"
    }
   ],
   "source": [
    "trainer.train()"
   ]
  },
  {
   "cell_type": "markdown",
   "metadata": {
    "id": "G--0QDBpCpzF"
   },
   "source": [
    "Evaluamos los estadísticos establecidos previamente."
   ]
  },
  {
   "cell_type": "code",
   "execution_count": 135,
   "metadata": {
    "colab": {
     "base_uri": "https://localhost:8080/",
     "height": 158
    },
    "id": "0sy5PfOACpzF",
    "outputId": "92083b6f-f8c5-4237-9ccf-946bda003ab5"
   },
   "outputs": [
    {
     "data": {
      "text/html": [
       "\n",
       "    <div>\n",
       "      \n",
       "      <progress value='56' max='56' style='width:300px; height:20px; vertical-align: middle;'></progress>\n",
       "      [56/56 00:05]\n",
       "    </div>\n",
       "    "
      ],
      "text/plain": [
       "<IPython.core.display.HTML object>"
      ]
     },
     "metadata": {},
     "output_type": "display_data"
    },
    {
     "data": {
      "text/plain": [
       "{'eval_loss': 0.6041653752326965,\n",
       " 'eval_accuracy': 0.6821229050279329,\n",
       " 'eval_f1': 0.7898042113040266,\n",
       " 'eval_runtime': 5.7459,\n",
       " 'eval_samples_per_second': 311.528,\n",
       " 'eval_steps_per_second': 9.746,\n",
       " 'epoch': 2.0}"
      ]
     },
     "execution_count": 135,
     "metadata": {},
     "output_type": "execute_result"
    }
   ],
   "source": [
    "trainer.evaluate()"
   ]
  },
  {
   "cell_type": "markdown",
   "metadata": {
    "id": "IyI4MSQvCpzG"
   },
   "source": [
    "En caso de querer almacenarlo para ser evaluados por otros."
   ]
  },
  {
   "cell_type": "raw",
   "metadata": {
    "id": "4beGjG7wCpzG"
   },
   "source": [
    "trainer.save_model(\"roberta_caso7\")\n",
    "tokenizer.save_pretrained(\"roberta_caso7\")"
   ]
  },
  {
   "cell_type": "markdown",
   "metadata": {
    "id": "KkPw6dqpCpzG",
    "jp-MarkdownHeadingCollapsed": true
   },
   "source": [
    "#### 6.7.3 Exportar CSV"
   ]
  },
  {
   "cell_type": "code",
   "execution_count": 136,
   "metadata": {
    "colab": {
     "base_uri": "https://localhost:8080/",
     "height": 17
    },
    "id": "I8DThDjUCpzG",
    "outputId": "6752944a-82ea-43b9-8a9f-093ca08e1d73"
   },
   "outputs": [
    {
     "data": {
      "text/html": [],
      "text/plain": [
       "<IPython.core.display.HTML object>"
      ]
     },
     "metadata": {},
     "output_type": "display_data"
    }
   ],
   "source": [
    "predictions = trainer.predict(kaggle_dataset)\n",
    "predicted_labels = predictions.predictions.argmax(-1)"
   ]
  },
  {
   "cell_type": "code",
   "execution_count": 137,
   "metadata": {
    "id": "-NaW8bSPCpzG"
   },
   "outputs": [],
   "source": [
    "df_label_caso7 = pd.DataFrame(predicted_labels, columns=['label'])\n",
    "df_id = df_test['id'].reset_index(drop=True)\n",
    "df_final_caso7 = pd.concat([df_id, df_label_caso7], axis=1)"
   ]
  },
  {
   "cell_type": "code",
   "execution_count": 138,
   "metadata": {
    "colab": {
     "base_uri": "https://localhost:8080/",
     "height": 178
    },
    "id": "VeyX3slxCpzG",
    "outputId": "2663ec40-62f1-4401-8b4f-e2ca2ab6162a"
   },
   "outputs": [
    {
     "data": {
      "text/html": [
       "<div>\n",
       "<style scoped>\n",
       "    .dataframe tbody tr th:only-of-type {\n",
       "        vertical-align: middle;\n",
       "    }\n",
       "\n",
       "    .dataframe tbody tr th {\n",
       "        vertical-align: top;\n",
       "    }\n",
       "\n",
       "    .dataframe thead th {\n",
       "        text-align: right;\n",
       "    }\n",
       "</style>\n",
       "<table border=\"1\" class=\"dataframe\">\n",
       "  <thead>\n",
       "    <tr style=\"text-align: right;\">\n",
       "      <th></th>\n",
       "      <th>count</th>\n",
       "    </tr>\n",
       "    <tr>\n",
       "      <th>label</th>\n",
       "      <th></th>\n",
       "    </tr>\n",
       "  </thead>\n",
       "  <tbody>\n",
       "    <tr>\n",
       "      <th>1</th>\n",
       "      <td>3245</td>\n",
       "    </tr>\n",
       "    <tr>\n",
       "      <th>0</th>\n",
       "      <td>591</td>\n",
       "    </tr>\n",
       "  </tbody>\n",
       "</table>\n",
       "</div><br><label><b>dtype:</b> int64</label>"
      ],
      "text/plain": [
       "label\n",
       "1    3245\n",
       "0     591\n",
       "Name: count, dtype: int64"
      ]
     },
     "execution_count": 138,
     "metadata": {},
     "output_type": "execute_result"
    }
   ],
   "source": [
    "df_final_caso7['label'].value_counts()"
   ]
  },
  {
   "cell_type": "code",
   "execution_count": 139,
   "metadata": {
    "id": "rTanmoVmCpzG"
   },
   "outputs": [],
   "source": [
    "df_final_caso7.to_csv('./submit/roberta_caso7.csv', index=False)"
   ]
  },
  {
   "cell_type": "markdown",
   "metadata": {
    "id": "4QY6NoyUCpyq"
   },
   "source": [
    "## 7. Entrenamiento de un caso fijo con varios modelos"
   ]
  },
  {
   "cell_type": "markdown",
   "metadata": {
    "id": "INTwSBiOCpyq"
   },
   "source": [
    "El mejor modelo obtenido en el anterior apartado fue el caso 2, por ello entrenaremos con ese caso de preprocesado para otros modelos de *Hugging Face*."
   ]
  },
  {
   "cell_type": "markdown",
   "metadata": {
    "id": "8hreRa8mCpyr",
    "jp-MarkdownHeadingCollapsed": true
   },
   "source": [
    "### 7.1 RoBERTa"
   ]
  },
  {
   "cell_type": "markdown",
   "metadata": {
    "id": "Elg2UEelCpyr",
    "jp-MarkdownHeadingCollapsed": true
   },
   "source": [
    "#### 7.1.1 Carga de los datos y division en entrenamiento y test"
   ]
  },
  {
   "cell_type": "markdown",
   "metadata": {
    "id": "kIGV7yw5Cpyr"
   },
   "source": [
    "Cargamos las caracteristicas seleccionadas en la variable X y el objetivo *label* en la variable y. Para la seleccion de la variable X se utilizará la función auxiliar *selStatement*, introducciendo como parámetros el caso de entrenamiento seleccionado y el *dataframe* donde estan almacenados los datos."
   ]
  },
  {
   "cell_type": "code",
   "execution_count": 20,
   "metadata": {
    "id": "sM-BUMbTCpyr"
   },
   "outputs": [],
   "source": [
    "X =  selStatement(2, df)\n",
    "y = df['label']\n",
    "\n",
    "X_kaggle = selStatement(2, df_test)"
   ]
  },
  {
   "cell_type": "markdown",
   "metadata": {
    "id": "CmaQ392nCpyr"
   },
   "source": [
    "Se realiza un *iloc* para comprobar de forma sencilla que hemos escogido el caso de entrenamiento correcto"
   ]
  },
  {
   "cell_type": "code",
   "execution_count": 21,
   "metadata": {
    "colab": {
     "base_uri": "https://localhost:8080/",
     "height": 35
    },
    "id": "GvhzH97NCpyr",
    "outputId": "b25c43ca-cb2b-4410-b219-c5060cc4f26d"
   },
   "outputs": [
    {
     "data": {
      "application/vnd.google.colaboratory.intrinsic+json": {
       "type": "string"
      },
      "text/plain": [
       "'China is in the South China Sea and (building)a military fortress the likes of which perhaps the world has not seen.'"
      ]
     },
     "execution_count": 21,
     "metadata": {},
     "output_type": "execute_result"
    }
   ],
   "source": [
    "X.iloc[0]"
   ]
  },
  {
   "cell_type": "code",
   "execution_count": 22,
   "metadata": {
    "colab": {
     "base_uri": "https://localhost:8080/",
     "height": 35
    },
    "id": "1W_OsiZHCpyr",
    "outputId": "d68d5fc3-dc91-418e-e9af-bd20d6b63727"
   },
   "outputs": [
    {
     "data": {
      "application/vnd.google.colaboratory.intrinsic+json": {
       "type": "string"
      },
      "text/plain": [
       "'Five members of [the Common Cause Georgia] board accepted maximum campaign contributions.'"
      ]
     },
     "execution_count": 22,
     "metadata": {},
     "output_type": "execute_result"
    }
   ],
   "source": [
    "X_kaggle.iloc[0]"
   ]
  },
  {
   "cell_type": "markdown",
   "metadata": {
    "id": "avmGkURgCpyr"
   },
   "source": [
    "Se separa en entrenamiento y test."
   ]
  },
  {
   "cell_type": "code",
   "execution_count": 23,
   "metadata": {
    "id": "Jhsg5f6hCpys"
   },
   "outputs": [],
   "source": [
    "X_train, X_test, y_train, y_test = train_test_split(X, y, test_size=0.2, random_state=seed)"
   ]
  },
  {
   "cell_type": "markdown",
   "metadata": {
    "id": "I2J8cvQaCpys",
    "jp-MarkdownHeadingCollapsed": true
   },
   "source": [
    "#### 7.1.2 Entrenamiento"
   ]
  },
  {
   "cell_type": "markdown",
   "metadata": {
    "id": "KJ5etPn3Cpys"
   },
   "source": [
    "Seleccionamos el modelo mediante la función *selModel* y el parámetro *'deberta'*."
   ]
  },
  {
   "cell_type": "code",
   "execution_count": 24,
   "metadata": {
    "colab": {
     "base_uri": "https://localhost:8080/"
    },
    "id": "AZuV70iyCpys",
    "outputId": "23094b31-de7d-4940-ecfd-f01e4c3860fe"
   },
   "outputs": [
    {
     "name": "stdout",
     "output_type": "stream",
     "text": [
      "Modelo seleccionado: distilbert/distilroberta-base\n"
     ]
    }
   ],
   "source": [
    "model_name = selModel('roberta')\n",
    "print(\"Modelo seleccionado:\", model_name)"
   ]
  },
  {
   "cell_type": "markdown",
   "metadata": {
    "id": "wxydn-jeCpys"
   },
   "source": [
    "Seleccionamos el tokenizador del modelo."
   ]
  },
  {
   "cell_type": "code",
   "execution_count": 25,
   "metadata": {
    "colab": {
     "base_uri": "https://localhost:8080/",
     "height": 301,
     "referenced_widgets": [
      "25204caba1cb48d992f626b555c5973a",
      "8d0c869c380b4f1d8046dcacbfd51a2a",
      "1e1ae15d215d417c9657cd440d956684",
      "854c564e61e0456db4e4bc0676a526e8",
      "7cb27bc290234bab82dfc350e0a3b46d",
      "facf18b9f3cf4478b60090df74cd2c07",
      "5102dc80e5074c6aa74ab0e2cf2de1df",
      "9a56d6858d0d42e9b3053200a6f00cd3",
      "574c1d61d1a34e4c8aa4bea2621510fe",
      "218a0d2898f6480db2bdf53245c8bd22",
      "ae19ab8ab6f24f1ca9565c25487e118e",
      "a50a515e6de44784a527abe76d5e753a",
      "525cebf925da45eab4d484e290d47e88",
      "6727983ee810448fa4da77a18719b74c",
      "2b588dc51d05485f9d764b9d2cbdd6dc",
      "3eedde61a5de4f59935695adc0c2a091",
      "451fc682f8974c239f73c68e39fa0418",
      "602622e4cb6545c5a354456cf84b0a3f",
      "a61b563b229e4b5f917f96f684f02533",
      "59c57ff693da41c18ccc4c6eb6d7f6e3",
      "4a74e4d76b414b258b66cd5900e54efb",
      "08ccad5e13314f5e9c4c7152a0bdb8ff",
      "e29d56c80da142e38ed4c7aa0e956387",
      "2236a4160ee24168b9bd2f5fd2c3233d",
      "6949981996c64f03ad70a89b1bbf56f3",
      "dc054598859444febaef3b0b3f4c02bd",
      "858317dd5a084e5395ff93e1f8321bac",
      "7a2d08e563fb4d64a7c92a1a011d6f68",
      "6fc4ad4e67a947c9869edb73cd8b4dd2",
      "5a73d8125182473c9433f527f0469737",
      "26d84eb49b2e43a58b3dc02c22a19939",
      "5528450e97b54ff0a97f541283ecb279",
      "e7b47ef10d5f4a8ebe39436e66817ad7",
      "493791ffe2ea4114b08ce89a9b8877ef",
      "f792119aa96e40d6b0f9bbbc46b6c24c",
      "ef3e9a858b2e42488d694d9cdbae62c5",
      "12e037f26b3e452e868e4439e68f2803",
      "38293af02fba4abdb9d011aae7af127c",
      "de892fd67bb94b7ebe205f9f4dd84319",
      "761093d092e64dc692bc2e290b07d03e",
      "70f514713c77420289b8b2df94b18257",
      "762c47a646a547be8d235538c82be59c",
      "17fb0b1fe8b74ec79bdea707d38b1e16",
      "55bc5cf6db58408487be2ee0330fa0ba",
      "4f2692790a2b48288f276cf50f9bb278",
      "eb2307cb0f08409a8659e4f1721ee1e9",
      "f826ba2288f342ddaf35a45cd31d2978",
      "296c6ba5f1a44b5a850d164cf9ecf6e8",
      "a730e1866813436faf37146ecbb08b0b",
      "743f6182287045a1825471c5be0ad0f2",
      "85205169e8504c43b5fbf36eff231ee0",
      "d07efc076b524e919b1234084319351c",
      "e88ef94ea2e043ca8cee210ac2efbc00",
      "f31c4ba9283548bd981fa484b1299f78",
      "c322667366ce456cb989547cce56df7d"
     ]
    },
    "id": "I9-DQPivCpys",
    "outputId": "d3561905-14ee-48a2-fa11-57e8e76c5ed0"
   },
   "outputs": [
    {
     "name": "stderr",
     "output_type": "stream",
     "text": [
      "/usr/local/lib/python3.11/dist-packages/huggingface_hub/utils/_auth.py:94: UserWarning: \n",
      "The secret `HF_TOKEN` does not exist in your Colab secrets.\n",
      "To authenticate with the Hugging Face Hub, create a token in your settings tab (https://huggingface.co/settings/tokens), set it as secret in your Google Colab and restart your session.\n",
      "You will be able to reuse this secret in all of your notebooks.\n",
      "Please note that authentication is recommended but still optional to access public models or datasets.\n",
      "  warnings.warn(\n"
     ]
    },
    {
     "data": {
      "application/vnd.jupyter.widget-view+json": {
       "model_id": "25204caba1cb48d992f626b555c5973a",
       "version_major": 2,
       "version_minor": 0
      },
      "text/plain": [
       "tokenizer_config.json:   0%|          | 0.00/25.0 [00:00<?, ?B/s]"
      ]
     },
     "metadata": {},
     "output_type": "display_data"
    },
    {
     "data": {
      "application/vnd.jupyter.widget-view+json": {
       "model_id": "a50a515e6de44784a527abe76d5e753a",
       "version_major": 2,
       "version_minor": 0
      },
      "text/plain": [
       "config.json:   0%|          | 0.00/480 [00:00<?, ?B/s]"
      ]
     },
     "metadata": {},
     "output_type": "display_data"
    },
    {
     "data": {
      "application/vnd.jupyter.widget-view+json": {
       "model_id": "e29d56c80da142e38ed4c7aa0e956387",
       "version_major": 2,
       "version_minor": 0
      },
      "text/plain": [
       "vocab.json:   0%|          | 0.00/899k [00:00<?, ?B/s]"
      ]
     },
     "metadata": {},
     "output_type": "display_data"
    },
    {
     "data": {
      "application/vnd.jupyter.widget-view+json": {
       "model_id": "493791ffe2ea4114b08ce89a9b8877ef",
       "version_major": 2,
       "version_minor": 0
      },
      "text/plain": [
       "merges.txt:   0%|          | 0.00/456k [00:00<?, ?B/s]"
      ]
     },
     "metadata": {},
     "output_type": "display_data"
    },
    {
     "data": {
      "application/vnd.jupyter.widget-view+json": {
       "model_id": "4f2692790a2b48288f276cf50f9bb278",
       "version_major": 2,
       "version_minor": 0
      },
      "text/plain": [
       "tokenizer.json:   0%|          | 0.00/1.36M [00:00<?, ?B/s]"
      ]
     },
     "metadata": {},
     "output_type": "display_data"
    }
   ],
   "source": [
    "tokenizer = AutoTokenizer.from_pretrained(model_name)"
   ]
  },
  {
   "cell_type": "markdown",
   "metadata": {
    "id": "kVitb_pICpyt"
   },
   "source": [
    "Tokenizamos los textos."
   ]
  },
  {
   "cell_type": "code",
   "execution_count": 26,
   "metadata": {
    "id": "eD25vtn1Cpyt"
   },
   "outputs": [],
   "source": [
    "# Entrenamiento y evaluación\n",
    "train_encodings = tokenizer(list(X_train), truncation=True, padding=True)\n",
    "test_encodings = tokenizer(list(X_test), truncation=True, padding=True)\n",
    "\n",
    "# Kaggle\n",
    "kaggle_encodings = tokenizer(list(X_kaggle), truncation=True, padding=True)"
   ]
  },
  {
   "cell_type": "markdown",
   "metadata": {
    "id": "WrGmqMXSCpyt"
   },
   "source": [
    "Transformamos los *dataframes* en *dataset* con la funcion *OwnDataset* y con la función *KaggleDataset* (la diferencia entre ellas es que *KaggleDataset* se construye sin *labels*)."
   ]
  },
  {
   "cell_type": "code",
   "execution_count": 27,
   "metadata": {
    "id": "_lBXBmFVCpyt"
   },
   "outputs": [],
   "source": [
    "train_dataset = OwnDataset(train_encodings, list(y_train))\n",
    "test_dataset = OwnDataset(test_encodings, list(y_test))\n",
    "\n",
    "kaggle_dataset = KaggleDataset(kaggle_encodings)"
   ]
  },
  {
   "cell_type": "markdown",
   "metadata": {
    "id": "GPZeP96wCpyt"
   },
   "source": [
    "Cargamos el modelo."
   ]
  },
  {
   "cell_type": "code",
   "execution_count": 28,
   "metadata": {
    "colab": {
     "base_uri": "https://localhost:8080/",
     "height": 138,
     "referenced_widgets": [
      "87f4b61e3444455f82b03c48688e30a7",
      "e5b6fcde80594c1ebd8d5b8f80d748ac",
      "0c416aceed504ff8a626736d197ce2d5",
      "c4a5b4c3980e4cf48f06ee93896b4f25",
      "4312bfd7642242f9910a91463fb3e681",
      "6d96c7a390f448adbc23cd32d4b1ecec",
      "ce54b4682632405f8bda9013d28bec09",
      "3434b968961b4c5ea7ad13e5956e7b1e",
      "b1f0371060c64fcbb8c4f9490ba7c2d7",
      "d2e0a39d6748499fbe7877b4718d2ae4",
      "ac3a5de486dd4095a7e60f8cdc666ac9"
     ]
    },
    "id": "8840d7QWCpyt",
    "outputId": "4265502f-8a01-443a-da60-51ef78b3759e"
   },
   "outputs": [
    {
     "name": "stderr",
     "output_type": "stream",
     "text": [
      "Xet Storage is enabled for this repo, but the 'hf_xet' package is not installed. Falling back to regular HTTP download. For better performance, install the package with: `pip install huggingface_hub[hf_xet]` or `pip install hf_xet`\n",
      "WARNING:huggingface_hub.file_download:Xet Storage is enabled for this repo, but the 'hf_xet' package is not installed. Falling back to regular HTTP download. For better performance, install the package with: `pip install huggingface_hub[hf_xet]` or `pip install hf_xet`\n"
     ]
    },
    {
     "data": {
      "application/vnd.jupyter.widget-view+json": {
       "model_id": "87f4b61e3444455f82b03c48688e30a7",
       "version_major": 2,
       "version_minor": 0
      },
      "text/plain": [
       "model.safetensors:   0%|          | 0.00/331M [00:00<?, ?B/s]"
      ]
     },
     "metadata": {},
     "output_type": "display_data"
    },
    {
     "name": "stderr",
     "output_type": "stream",
     "text": [
      "Some weights of RobertaForSequenceClassification were not initialized from the model checkpoint at distilbert/distilroberta-base and are newly initialized: ['classifier.dense.bias', 'classifier.dense.weight', 'classifier.out_proj.bias', 'classifier.out_proj.weight']\n",
      "You should probably TRAIN this model on a down-stream task to be able to use it for predictions and inference.\n"
     ]
    }
   ],
   "source": [
    "model = AutoModelForSequenceClassification.from_pretrained(model_name, num_labels=2)"
   ]
  },
  {
   "cell_type": "code",
   "execution_count": 29,
   "metadata": {
    "id": "yR2LgjIoCpyt"
   },
   "outputs": [],
   "source": [
    "training_args = TrainingArguments(\n",
    "    output_dir=\"./results_roberta\",\n",
    "    eval_strategy=\"epoch\",\n",
    "    save_strategy=\"epoch\",\n",
    "    learning_rate=2e-5,\n",
    "    per_device_train_batch_size=16,\n",
    "    per_device_eval_batch_size=32,\n",
    "    num_train_epochs=3,\n",
    "    weight_decay=0.01,\n",
    "    report_to=\"none\",\n",
    "    load_best_model_at_end=True,\n",
    "    metric_for_best_model=\"f1\",\n",
    "    greater_is_better=True\n",
    ")"
   ]
  },
  {
   "cell_type": "markdown",
   "metadata": {
    "id": "hSQ2okV0Cpyu"
   },
   "source": [
    "Definimos un entrenador."
   ]
  },
  {
   "cell_type": "code",
   "execution_count": 30,
   "metadata": {
    "colab": {
     "base_uri": "https://localhost:8080/"
    },
    "id": "B1F_VwgeCpyu",
    "outputId": "c8e6a697-64b8-40cc-d94a-86a4559825b8"
   },
   "outputs": [
    {
     "name": "stderr",
     "output_type": "stream",
     "text": [
      "<ipython-input-30-53e65685ea53>:1: FutureWarning: `tokenizer` is deprecated and will be removed in version 5.0.0 for `Trainer.__init__`. Use `processing_class` instead.\n",
      "  trainer = Trainer(\n"
     ]
    }
   ],
   "source": [
    "trainer = Trainer(\n",
    "    model = model,\n",
    "    args = training_args,\n",
    "    train_dataset = train_dataset,\n",
    "    eval_dataset = test_dataset,\n",
    "    tokenizer = tokenizer,\n",
    "    compute_metrics = compute_metrics\n",
    ")"
   ]
  },
  {
   "cell_type": "markdown",
   "metadata": {
    "id": "HH9-yfSDCpyu"
   },
   "source": [
    "Entrenamos el modelo."
   ]
  },
  {
   "cell_type": "code",
   "execution_count": 31,
   "metadata": {
    "colab": {
     "base_uri": "https://localhost:8080/",
     "height": 172
    },
    "id": "-KWUmDaVCpyu",
    "outputId": "fa1d03ff-c7dc-43ee-f61a-5fb4bc2ec5a1"
   },
   "outputs": [
    {
     "data": {
      "text/html": [
       "\n",
       "    <div>\n",
       "      \n",
       "      <progress value='896' max='896' style='width:300px; height:20px; vertical-align: middle;'></progress>\n",
       "      [896/896 11:17, Epoch 2/2]\n",
       "    </div>\n",
       "    <table border=\"1\" class=\"dataframe\">\n",
       "  <thead>\n",
       " <tr style=\"text-align: left;\">\n",
       "      <th>Epoch</th>\n",
       "      <th>Training Loss</th>\n",
       "      <th>Validation Loss</th>\n",
       "      <th>Accuracy</th>\n",
       "      <th>F1</th>\n",
       "    </tr>\n",
       "  </thead>\n",
       "  <tbody>\n",
       "    <tr>\n",
       "      <td>1</td>\n",
       "      <td>No log</td>\n",
       "      <td>0.609881</td>\n",
       "      <td>0.669832</td>\n",
       "      <td>0.774685</td>\n",
       "    </tr>\n",
       "    <tr>\n",
       "      <td>2</td>\n",
       "      <td>0.626900</td>\n",
       "      <td>0.621559</td>\n",
       "      <td>0.653631</td>\n",
       "      <td>0.738397</td>\n",
       "    </tr>\n",
       "  </tbody>\n",
       "</table><p>"
      ],
      "text/plain": [
       "<IPython.core.display.HTML object>"
      ]
     },
     "metadata": {},
     "output_type": "display_data"
    },
    {
     "data": {
      "text/plain": [
       "TrainOutput(global_step=896, training_loss=0.6057974440710885, metrics={'train_runtime': 679.5388, 'train_samples_per_second': 21.073, 'train_steps_per_second': 1.319, 'total_flos': 1896933148753920.0, 'train_loss': 0.6057974440710885, 'epoch': 2.0})"
      ]
     },
     "execution_count": 31,
     "metadata": {},
     "output_type": "execute_result"
    }
   ],
   "source": [
    "trainer.train()"
   ]
  },
  {
   "cell_type": "markdown",
   "metadata": {
    "id": "_QArn1wiCpyv"
   },
   "source": [
    "Evaluamos los estadísticos establecidos previamente."
   ]
  },
  {
   "cell_type": "code",
   "execution_count": 32,
   "metadata": {
    "colab": {
     "base_uri": "https://localhost:8080/",
     "height": 158
    },
    "id": "s920Y64ACpyv",
    "outputId": "bd3c5bcd-a6c6-42c7-ccc0-be70833164c2"
   },
   "outputs": [
    {
     "data": {
      "text/html": [
       "\n",
       "    <div>\n",
       "      \n",
       "      <progress value='56' max='56' style='width:300px; height:20px; vertical-align: middle;'></progress>\n",
       "      [56/56 00:04]\n",
       "    </div>\n",
       "    "
      ],
      "text/plain": [
       "<IPython.core.display.HTML object>"
      ]
     },
     "metadata": {},
     "output_type": "display_data"
    },
    {
     "data": {
      "text/plain": [
       "{'eval_loss': 0.6098808646202087,\n",
       " 'eval_accuracy': 0.6698324022346369,\n",
       " 'eval_f1': 0.7746854746473504,\n",
       " 'eval_runtime': 4.2336,\n",
       " 'eval_samples_per_second': 422.804,\n",
       " 'eval_steps_per_second': 13.227,\n",
       " 'epoch': 2.0}"
      ]
     },
     "execution_count": 32,
     "metadata": {},
     "output_type": "execute_result"
    }
   ],
   "source": [
    "trainer.evaluate()"
   ]
  },
  {
   "cell_type": "markdown",
   "metadata": {
    "id": "BL09gmymCpyv"
   },
   "source": [
    "En caso de querer almacenarlo para ser evaluados por otros."
   ]
  },
  {
   "cell_type": "raw",
   "metadata": {
    "id": "_hWuwUd7Cpyv"
   },
   "source": [
    "trainer.save_model(\"caso2_roberta\")\n",
    "tokenizer.save_pretrained(\"caso2_roberta\")"
   ]
  },
  {
   "cell_type": "markdown",
   "metadata": {
    "id": "Ax8k_VM1Cpyv",
    "jp-MarkdownHeadingCollapsed": true
   },
   "source": [
    "#### 7.1.3 Exportar CSV"
   ]
  },
  {
   "cell_type": "code",
   "execution_count": 33,
   "metadata": {
    "colab": {
     "base_uri": "https://localhost:8080/",
     "height": 17
    },
    "id": "OcK1QQQLCpyw",
    "outputId": "c315c78e-0094-405c-8599-3203ebf06f33"
   },
   "outputs": [
    {
     "data": {
      "text/html": [],
      "text/plain": [
       "<IPython.core.display.HTML object>"
      ]
     },
     "metadata": {},
     "output_type": "display_data"
    }
   ],
   "source": [
    "predictions = trainer.predict(kaggle_dataset)\n",
    "predicted_labels = predictions.predictions.argmax(-1)"
   ]
  },
  {
   "cell_type": "code",
   "execution_count": 34,
   "metadata": {
    "id": "gdxISE3-Cpyw"
   },
   "outputs": [],
   "source": [
    "df_label_roberta = pd.DataFrame(predicted_labels, columns=['label'])\n",
    "df_id = df_test['id'].reset_index(drop=True)\n",
    "df_final_roberta = pd.concat([df_id, df_label_roberta], axis=1)"
   ]
  },
  {
   "cell_type": "code",
   "execution_count": 35,
   "metadata": {
    "colab": {
     "base_uri": "https://localhost:8080/",
     "height": 178
    },
    "id": "tTIUA_QlCpyw",
    "outputId": "5d87baeb-b339-48c1-8d05-7c1e0cbe4ffd"
   },
   "outputs": [
    {
     "data": {
      "text/html": [
       "<div>\n",
       "<style scoped>\n",
       "    .dataframe tbody tr th:only-of-type {\n",
       "        vertical-align: middle;\n",
       "    }\n",
       "\n",
       "    .dataframe tbody tr th {\n",
       "        vertical-align: top;\n",
       "    }\n",
       "\n",
       "    .dataframe thead th {\n",
       "        text-align: right;\n",
       "    }\n",
       "</style>\n",
       "<table border=\"1\" class=\"dataframe\">\n",
       "  <thead>\n",
       "    <tr style=\"text-align: right;\">\n",
       "      <th></th>\n",
       "      <th>count</th>\n",
       "    </tr>\n",
       "    <tr>\n",
       "      <th>label</th>\n",
       "      <th></th>\n",
       "    </tr>\n",
       "  </thead>\n",
       "  <tbody>\n",
       "    <tr>\n",
       "      <th>1</th>\n",
       "      <td>3106</td>\n",
       "    </tr>\n",
       "    <tr>\n",
       "      <th>0</th>\n",
       "      <td>730</td>\n",
       "    </tr>\n",
       "  </tbody>\n",
       "</table>\n",
       "</div><br><label><b>dtype:</b> int64</label>"
      ],
      "text/plain": [
       "label\n",
       "1    3106\n",
       "0     730\n",
       "Name: count, dtype: int64"
      ]
     },
     "execution_count": 35,
     "metadata": {},
     "output_type": "execute_result"
    }
   ],
   "source": [
    "df_final_roberta['label'].value_counts()"
   ]
  },
  {
   "cell_type": "code",
   "execution_count": 37,
   "metadata": {
    "id": "1vGZ5nFBCpyw"
   },
   "outputs": [],
   "source": [
    "df_final_roberta.to_csv('./submit/caso2_roberta.csv', index=False)"
   ]
  },
  {
   "cell_type": "markdown",
   "metadata": {
    "id": "LuFzcR7ICpyw",
    "jp-MarkdownHeadingCollapsed": true
   },
   "source": [
    "### 7.2 BERT"
   ]
  },
  {
   "cell_type": "markdown",
   "metadata": {
    "id": "75yUQwazCpyx",
    "jp-MarkdownHeadingCollapsed": true
   },
   "source": [
    "#### 7.2.1 Carga de los datos y division en entrenamiento y test"
   ]
  },
  {
   "cell_type": "markdown",
   "metadata": {
    "id": "STdROHdgCpyx"
   },
   "source": [
    "Cargamos las caracteristicas seleccionadas en la variable X y el objetivo *label* en la variable y. Para la seleccion de la variable X se utilizará la función auxiliar *selStatement*, introducciendo como parámetros el caso de entrenamiento seleccionado y el *dataframe* donde estan almacenados los datos."
   ]
  },
  {
   "cell_type": "code",
   "execution_count": 38,
   "metadata": {
    "id": "utxdgQi4Cpyx"
   },
   "outputs": [],
   "source": [
    "X =  selStatement(2, df)\n",
    "y = df['label']\n",
    "\n",
    "X_kaggle = selStatement(2, df_test)"
   ]
  },
  {
   "cell_type": "markdown",
   "metadata": {
    "id": "zod-hCv8Cpyx"
   },
   "source": [
    "Se realiza un *iloc* para comprobar de forma sencilla que hemos escogido el caso de entrenamiento correcto"
   ]
  },
  {
   "cell_type": "code",
   "execution_count": 39,
   "metadata": {
    "colab": {
     "base_uri": "https://localhost:8080/",
     "height": 35
    },
    "id": "VSofKoJECpyx",
    "outputId": "afaf47e9-5160-4f3a-b34d-47cc8d1a17f4"
   },
   "outputs": [
    {
     "data": {
      "application/vnd.google.colaboratory.intrinsic+json": {
       "type": "string"
      },
      "text/plain": [
       "'donald-trump said: \"China is in the South China Sea and (building)a military fortress the likes of which perhaps the world has not seen.\"'"
      ]
     },
     "execution_count": 39,
     "metadata": {},
     "output_type": "execute_result"
    }
   ],
   "source": [
    "X.iloc[0]"
   ]
  },
  {
   "cell_type": "code",
   "execution_count": 40,
   "metadata": {
    "colab": {
     "base_uri": "https://localhost:8080/",
     "height": 35
    },
    "id": "DfW-KVVqCpyx",
    "outputId": "4765adcf-e234-4b00-a38c-adc6fb0619c2"
   },
   "outputs": [
    {
     "data": {
      "application/vnd.google.colaboratory.intrinsic+json": {
       "type": "string"
      },
      "text/plain": [
       "'kasim-reed said: \"Five members of [the Common Cause Georgia] board accepted maximum campaign contributions.\"'"
      ]
     },
     "execution_count": 40,
     "metadata": {},
     "output_type": "execute_result"
    }
   ],
   "source": [
    "X_kaggle.iloc[0]"
   ]
  },
  {
   "cell_type": "markdown",
   "metadata": {
    "id": "gt5VDf8dCpyy"
   },
   "source": [
    "Se separa en entrenamiento y test."
   ]
  },
  {
   "cell_type": "code",
   "execution_count": 41,
   "metadata": {
    "id": "IHgkN8OeCpyy"
   },
   "outputs": [],
   "source": [
    "X_train, X_test, y_train, y_test = train_test_split(X, y, test_size=0.2, random_state=seed)"
   ]
  },
  {
   "cell_type": "markdown",
   "metadata": {
    "id": "yXkpHehqCpyy",
    "jp-MarkdownHeadingCollapsed": true
   },
   "source": [
    "#### 7.2.2 Entrenamiento"
   ]
  },
  {
   "cell_type": "markdown",
   "metadata": {
    "id": "x_LNwy_ZCpyy"
   },
   "source": [
    "Seleccionamos el modelo mediante la función *selModel* y el parámetro *'deberta'*."
   ]
  },
  {
   "cell_type": "code",
   "execution_count": 42,
   "metadata": {
    "colab": {
     "base_uri": "https://localhost:8080/"
    },
    "id": "3zaJiowTCpyy",
    "outputId": "504b6491-2868-495c-bb58-c04cf5cfab22"
   },
   "outputs": [
    {
     "name": "stdout",
     "output_type": "stream",
     "text": [
      "Modelo seleccionado: distilbert/distilroberta-base\n"
     ]
    }
   ],
   "source": [
    "model_name = selModel('bert')\n",
    "print(\"Modelo seleccionado:\", model_name)"
   ]
  },
  {
   "cell_type": "markdown",
   "metadata": {
    "id": "OeBudZmgCpyy"
   },
   "source": [
    "Seleccionamos el tokenizador del modelo."
   ]
  },
  {
   "cell_type": "code",
   "execution_count": 43,
   "metadata": {
    "id": "aTUUNtCxCpyy"
   },
   "outputs": [],
   "source": [
    "tokenizer = AutoTokenizer.from_pretrained(model_name)"
   ]
  },
  {
   "cell_type": "markdown",
   "metadata": {
    "id": "yFw1WhUDCpyz"
   },
   "source": [
    "Tokenizamos los textos."
   ]
  },
  {
   "cell_type": "code",
   "execution_count": 44,
   "metadata": {
    "id": "x7sJMV_OCpyz"
   },
   "outputs": [],
   "source": [
    "# Entrenamiento y evaluación\n",
    "train_encodings = tokenizer(list(X_train), truncation=True, padding=True)\n",
    "test_encodings = tokenizer(list(X_test), truncation=True, padding=True)\n",
    "\n",
    "# Kaggle\n",
    "kaggle_encodings = tokenizer(list(X_kaggle), truncation=True, padding=True)"
   ]
  },
  {
   "cell_type": "markdown",
   "metadata": {
    "id": "xNXfbhspCpyz"
   },
   "source": [
    "Transformamos los *dataframes* en *dataset* con la funcion *OwnDataset* y con la función *KaggleDataset* (la diferencia entre ellas es que *KaggleDataset* se construye sin *labels*)."
   ]
  },
  {
   "cell_type": "code",
   "execution_count": 45,
   "metadata": {
    "id": "78t_k2vdCpyz"
   },
   "outputs": [],
   "source": [
    "train_dataset = OwnDataset(train_encodings, list(y_train))\n",
    "test_dataset = OwnDataset(test_encodings, list(y_test))\n",
    "\n",
    "kaggle_dataset = KaggleDataset(kaggle_encodings)"
   ]
  },
  {
   "cell_type": "markdown",
   "metadata": {
    "id": "zgZaXxSXCpyz"
   },
   "source": [
    "Cargamos el modelo."
   ]
  },
  {
   "cell_type": "code",
   "execution_count": 46,
   "metadata": {
    "colab": {
     "base_uri": "https://localhost:8080/"
    },
    "id": "4mOnPQxwCpyz",
    "outputId": "614faf59-d0d2-495a-e264-ee803ef474ad"
   },
   "outputs": [
    {
     "name": "stderr",
     "output_type": "stream",
     "text": [
      "Some weights of RobertaForSequenceClassification were not initialized from the model checkpoint at distilbert/distilroberta-base and are newly initialized: ['classifier.dense.bias', 'classifier.dense.weight', 'classifier.out_proj.bias', 'classifier.out_proj.weight']\n",
      "You should probably TRAIN this model on a down-stream task to be able to use it for predictions and inference.\n"
     ]
    }
   ],
   "source": [
    "model = AutoModelForSequenceClassification.from_pretrained(model_name, num_labels=2)"
   ]
  },
  {
   "cell_type": "code",
   "execution_count": 47,
   "metadata": {
    "id": "4T8kv1T0Cpyz"
   },
   "outputs": [],
   "source": [
    "training_args = TrainingArguments(\n",
    "    output_dir=\"./results_bert\",\n",
    "    eval_strategy=\"epoch\",\n",
    "    save_strategy=\"epoch\",\n",
    "    learning_rate=2e-5,\n",
    "    per_device_train_batch_size=16,\n",
    "    per_device_eval_batch_size=32,\n",
    "    num_train_epochs=3,\n",
    "    weight_decay=0.01,\n",
    "    report_to=\"none\",\n",
    "    load_best_model_at_end=True,\n",
    "    metric_for_best_model=\"f1\",\n",
    "    greater_is_better=True\n",
    ")"
   ]
  },
  {
   "cell_type": "markdown",
   "metadata": {
    "id": "GZC6vnTUCpyz"
   },
   "source": [
    "Definimos un entrenador."
   ]
  },
  {
   "cell_type": "code",
   "execution_count": 48,
   "metadata": {
    "colab": {
     "base_uri": "https://localhost:8080/"
    },
    "id": "hjZXjPgBCpyz",
    "outputId": "66afeb09-961f-4574-f044-f6cdbd810d7d"
   },
   "outputs": [
    {
     "name": "stderr",
     "output_type": "stream",
     "text": [
      "<ipython-input-48-53e65685ea53>:1: FutureWarning: `tokenizer` is deprecated and will be removed in version 5.0.0 for `Trainer.__init__`. Use `processing_class` instead.\n",
      "  trainer = Trainer(\n"
     ]
    }
   ],
   "source": [
    "trainer = Trainer(\n",
    "    model = model,\n",
    "    args = training_args,\n",
    "    train_dataset = train_dataset,\n",
    "    eval_dataset = test_dataset,\n",
    "    tokenizer = tokenizer,\n",
    "    compute_metrics = compute_metrics\n",
    ")"
   ]
  },
  {
   "cell_type": "markdown",
   "metadata": {
    "id": "15-SYRiuCpyz"
   },
   "source": [
    "Entrenamos el modelo."
   ]
  },
  {
   "cell_type": "code",
   "execution_count": 49,
   "metadata": {
    "colab": {
     "base_uri": "https://localhost:8080/",
     "height": 172
    },
    "id": "zY9dq8DyCpy0",
    "outputId": "6aafcfef-16bb-4375-c733-a60630796ea4"
   },
   "outputs": [
    {
     "data": {
      "text/html": [
       "\n",
       "    <div>\n",
       "      \n",
       "      <progress value='896' max='896' style='width:300px; height:20px; vertical-align: middle;'></progress>\n",
       "      [896/896 11:25, Epoch 2/2]\n",
       "    </div>\n",
       "    <table border=\"1\" class=\"dataframe\">\n",
       "  <thead>\n",
       " <tr style=\"text-align: left;\">\n",
       "      <th>Epoch</th>\n",
       "      <th>Training Loss</th>\n",
       "      <th>Validation Loss</th>\n",
       "      <th>Accuracy</th>\n",
       "      <th>F1</th>\n",
       "    </tr>\n",
       "  </thead>\n",
       "  <tbody>\n",
       "    <tr>\n",
       "      <td>1</td>\n",
       "      <td>No log</td>\n",
       "      <td>0.602166</td>\n",
       "      <td>0.676536</td>\n",
       "      <td>0.776879</td>\n",
       "    </tr>\n",
       "    <tr>\n",
       "      <td>2</td>\n",
       "      <td>0.623500</td>\n",
       "      <td>0.617187</td>\n",
       "      <td>0.650279</td>\n",
       "      <td>0.726399</td>\n",
       "    </tr>\n",
       "  </tbody>\n",
       "</table><p>"
      ],
      "text/plain": [
       "<IPython.core.display.HTML object>"
      ]
     },
     "metadata": {},
     "output_type": "display_data"
    },
    {
     "data": {
      "text/plain": [
       "TrainOutput(global_step=896, training_loss=0.6010246447154454, metrics={'train_runtime': 686.4326, 'train_samples_per_second': 20.861, 'train_steps_per_second': 1.305, 'total_flos': 1896933148753920.0, 'train_loss': 0.6010246447154454, 'epoch': 2.0})"
      ]
     },
     "execution_count": 49,
     "metadata": {},
     "output_type": "execute_result"
    }
   ],
   "source": [
    "trainer.train()"
   ]
  },
  {
   "cell_type": "markdown",
   "metadata": {
    "id": "rRrMSvjdCpy0"
   },
   "source": [
    "Evaluamos los estadísticos establecidos previamente."
   ]
  },
  {
   "cell_type": "code",
   "execution_count": 50,
   "metadata": {
    "colab": {
     "base_uri": "https://localhost:8080/",
     "height": 158
    },
    "id": "Igilf0jkCpy0",
    "outputId": "e551de9a-43ab-438d-9e92-5807e1304159"
   },
   "outputs": [
    {
     "data": {
      "text/html": [
       "\n",
       "    <div>\n",
       "      \n",
       "      <progress value='56' max='56' style='width:300px; height:20px; vertical-align: middle;'></progress>\n",
       "      [56/56 00:04]\n",
       "    </div>\n",
       "    "
      ],
      "text/plain": [
       "<IPython.core.display.HTML object>"
      ]
     },
     "metadata": {},
     "output_type": "display_data"
    },
    {
     "data": {
      "text/plain": [
       "{'eval_loss': 0.602165937423706,\n",
       " 'eval_accuracy': 0.676536312849162,\n",
       " 'eval_f1': 0.776878612716763,\n",
       " 'eval_runtime': 4.5764,\n",
       " 'eval_samples_per_second': 391.136,\n",
       " 'eval_steps_per_second': 12.237,\n",
       " 'epoch': 2.0}"
      ]
     },
     "execution_count": 50,
     "metadata": {},
     "output_type": "execute_result"
    }
   ],
   "source": [
    "trainer.evaluate()"
   ]
  },
  {
   "cell_type": "markdown",
   "metadata": {
    "id": "EmIIzysICpy0"
   },
   "source": [
    "En caso de querer almacenarlo para ser evaluados por otros."
   ]
  },
  {
   "cell_type": "raw",
   "metadata": {
    "id": "x_b6rfVHCpy0"
   },
   "source": [
    "trainer.save_model(\"caso2_bert\")\n",
    "tokenizer.save_pretrained(\"caso2_bert\")"
   ]
  },
  {
   "cell_type": "markdown",
   "metadata": {
    "id": "Wwai_o9gCpy0",
    "jp-MarkdownHeadingCollapsed": true
   },
   "source": [
    "#### 7.2.3 Exportar CSV"
   ]
  },
  {
   "cell_type": "code",
   "execution_count": 51,
   "metadata": {
    "colab": {
     "base_uri": "https://localhost:8080/",
     "height": 17
    },
    "id": "FpSd_jLWCpy0",
    "outputId": "1de6b26f-43fa-40e2-c4e3-e3aca2015b14"
   },
   "outputs": [
    {
     "data": {
      "text/html": [],
      "text/plain": [
       "<IPython.core.display.HTML object>"
      ]
     },
     "metadata": {},
     "output_type": "display_data"
    }
   ],
   "source": [
    "predictions = trainer.predict(kaggle_dataset)\n",
    "predicted_labels = predictions.predictions.argmax(-1)"
   ]
  },
  {
   "cell_type": "code",
   "execution_count": 52,
   "metadata": {
    "id": "H3s8AlRPCpy0"
   },
   "outputs": [],
   "source": [
    "df_label_bert = pd.DataFrame(predicted_labels, columns=['label'])\n",
    "df_id = df_test['id'].reset_index(drop=True)\n",
    "df_final_bert = pd.concat([df_id, df_label_bert], axis=1)"
   ]
  },
  {
   "cell_type": "code",
   "execution_count": 53,
   "metadata": {
    "colab": {
     "base_uri": "https://localhost:8080/",
     "height": 178
    },
    "id": "h8Je9y6RCpy0",
    "outputId": "780ae53d-3175-4f92-bf16-6102d245ffb6"
   },
   "outputs": [
    {
     "data": {
      "text/html": [
       "<div>\n",
       "<style scoped>\n",
       "    .dataframe tbody tr th:only-of-type {\n",
       "        vertical-align: middle;\n",
       "    }\n",
       "\n",
       "    .dataframe tbody tr th {\n",
       "        vertical-align: top;\n",
       "    }\n",
       "\n",
       "    .dataframe thead th {\n",
       "        text-align: right;\n",
       "    }\n",
       "</style>\n",
       "<table border=\"1\" class=\"dataframe\">\n",
       "  <thead>\n",
       "    <tr style=\"text-align: right;\">\n",
       "      <th></th>\n",
       "      <th>count</th>\n",
       "    </tr>\n",
       "    <tr>\n",
       "      <th>label</th>\n",
       "      <th></th>\n",
       "    </tr>\n",
       "  </thead>\n",
       "  <tbody>\n",
       "    <tr>\n",
       "      <th>1</th>\n",
       "      <td>3010</td>\n",
       "    </tr>\n",
       "    <tr>\n",
       "      <th>0</th>\n",
       "      <td>826</td>\n",
       "    </tr>\n",
       "  </tbody>\n",
       "</table>\n",
       "</div><br><label><b>dtype:</b> int64</label>"
      ],
      "text/plain": [
       "label\n",
       "1    3010\n",
       "0     826\n",
       "Name: count, dtype: int64"
      ]
     },
     "execution_count": 53,
     "metadata": {},
     "output_type": "execute_result"
    }
   ],
   "source": [
    "df_final_bert['label'].value_counts()"
   ]
  },
  {
   "cell_type": "code",
   "execution_count": 54,
   "metadata": {
    "id": "Ssxpm6tZCpy1"
   },
   "outputs": [],
   "source": [
    "df_final_bert.to_csv('./submit/case2_bert.csv', index=False)"
   ]
  },
  {
   "cell_type": "markdown",
   "metadata": {
    "id": "abtwNOURCpy1",
    "jp-MarkdownHeadingCollapsed": true
   },
   "source": [
    "### 7.3 ALBERT"
   ]
  },
  {
   "cell_type": "markdown",
   "metadata": {
    "id": "MDB9RwqSCpy1",
    "jp-MarkdownHeadingCollapsed": true
   },
   "source": [
    "#### 7.3.1 Carga de los datos y division en entrenamiento y test"
   ]
  },
  {
   "cell_type": "markdown",
   "metadata": {
    "id": "XmSb8vJTCpy1"
   },
   "source": [
    "Cargamos las caracteristicas seleccionadas en la variable X y el objetivo *label* en la variable y. Para la seleccion de la variable X se utilizará la función auxiliar *selStatement*, introducciendo como parámetros el caso de entrenamiento seleccionado y el *dataframe* donde estan almacenados los datos."
   ]
  },
  {
   "cell_type": "code",
   "execution_count": 55,
   "metadata": {
    "id": "els2wTUwCpy1"
   },
   "outputs": [],
   "source": [
    "X =  selStatement(2, df)\n",
    "y = df['label']\n",
    "\n",
    "X_kaggle = selStatement(2, df_test)"
   ]
  },
  {
   "cell_type": "markdown",
   "metadata": {
    "id": "RopuxsZFCpy1"
   },
   "source": [
    "Se realiza un *iloc* para comprobar de forma sencilla que hemos escogido el caso de entrenamiento correcto"
   ]
  },
  {
   "cell_type": "code",
   "execution_count": 56,
   "metadata": {
    "colab": {
     "base_uri": "https://localhost:8080/",
     "height": 52
    },
    "id": "RzrZzYNqCpy1",
    "outputId": "c03d128b-427e-49ea-96c3-cb7504773cde"
   },
   "outputs": [
    {
     "data": {
      "application/vnd.google.colaboratory.intrinsic+json": {
       "type": "string"
      },
      "text/plain": [
       "'donald-trump said: \"China is in the South China Sea and (building)a military fortress the likes of which perhaps the world has not seen.\" The statement concerns the topics of: china,foreign-policy,military.'"
      ]
     },
     "execution_count": 56,
     "metadata": {},
     "output_type": "execute_result"
    }
   ],
   "source": [
    "X.iloc[0]"
   ]
  },
  {
   "cell_type": "code",
   "execution_count": 57,
   "metadata": {
    "colab": {
     "base_uri": "https://localhost:8080/",
     "height": 52
    },
    "id": "df8_TWaECpy1",
    "outputId": "40ccbf0b-1f4f-4c29-b3c4-bfe27e681681"
   },
   "outputs": [
    {
     "data": {
      "application/vnd.google.colaboratory.intrinsic+json": {
       "type": "string"
      },
      "text/plain": [
       "'kasim-reed said: \"Five members of [the Common Cause Georgia] board accepted maximum campaign contributions.\" The statement concerns the topics of: campaign-finance,ethics,government-regulation.'"
      ]
     },
     "execution_count": 57,
     "metadata": {},
     "output_type": "execute_result"
    }
   ],
   "source": [
    "X_kaggle.iloc[0]"
   ]
  },
  {
   "cell_type": "markdown",
   "metadata": {
    "id": "TKxIDzvaCpy1"
   },
   "source": [
    "Se separa en entrenamiento y test."
   ]
  },
  {
   "cell_type": "code",
   "execution_count": 58,
   "metadata": {
    "id": "Ii-lAgN2Cpy1"
   },
   "outputs": [],
   "source": [
    "X_train, X_test, y_train, y_test = train_test_split(X, y, test_size=0.2, random_state=seed)"
   ]
  },
  {
   "cell_type": "markdown",
   "metadata": {
    "id": "h-KD9MlBCpy2",
    "jp-MarkdownHeadingCollapsed": true
   },
   "source": [
    "#### 7.3.2 Entrenamiento"
   ]
  },
  {
   "cell_type": "markdown",
   "metadata": {
    "id": "uH-szghGCpy2"
   },
   "source": [
    "Seleccionamos el modelo mediante la función *selModel* y el parámetro *'deberta'*."
   ]
  },
  {
   "cell_type": "code",
   "execution_count": 59,
   "metadata": {
    "colab": {
     "base_uri": "https://localhost:8080/"
    },
    "id": "VcwUclqwCpy2",
    "outputId": "cdeb7f17-aae9-45f9-912b-cfb72b469d52"
   },
   "outputs": [
    {
     "name": "stdout",
     "output_type": "stream",
     "text": [
      "Modelo seleccionado: distilbert/distilroberta-base\n"
     ]
    }
   ],
   "source": [
    "model_name = selModel('albert')\n",
    "print(\"Modelo seleccionado:\", model_name)"
   ]
  },
  {
   "cell_type": "markdown",
   "metadata": {
    "id": "CoXquX06Cpy2"
   },
   "source": [
    "Seleccionamos el tokenizador del modelo."
   ]
  },
  {
   "cell_type": "code",
   "execution_count": 60,
   "metadata": {
    "id": "qzs-seSTCpy2"
   },
   "outputs": [],
   "source": [
    "tokenizer = AutoTokenizer.from_pretrained(model_name)"
   ]
  },
  {
   "cell_type": "markdown",
   "metadata": {
    "id": "rNhkifLECpy2"
   },
   "source": [
    "Tokenizamos los textos."
   ]
  },
  {
   "cell_type": "code",
   "execution_count": 61,
   "metadata": {
    "id": "jG50u-whCpy2"
   },
   "outputs": [],
   "source": [
    "# Entrenamiento y evaluación\n",
    "train_encodings = tokenizer(list(X_train), truncation=True, padding=True)\n",
    "test_encodings = tokenizer(list(X_test), truncation=True, padding=True)\n",
    "\n",
    "# Kaggle\n",
    "kaggle_encodings = tokenizer(list(X_kaggle), truncation=True, padding=True)"
   ]
  },
  {
   "cell_type": "markdown",
   "metadata": {
    "id": "yYzePeYWCpy2"
   },
   "source": [
    "Transformamos los *dataframes* en *dataset* con la funcion *OwnDataset* y con la función *KaggleDataset* (la diferencia entre ellas es que *KaggleDataset* se construye sin *labels*)."
   ]
  },
  {
   "cell_type": "code",
   "execution_count": 62,
   "metadata": {
    "id": "mP43z5O6Cpy2"
   },
   "outputs": [],
   "source": [
    "train_dataset = OwnDataset(train_encodings, list(y_train))\n",
    "test_dataset = OwnDataset(test_encodings, list(y_test))\n",
    "\n",
    "kaggle_dataset = KaggleDataset(kaggle_encodings)"
   ]
  },
  {
   "cell_type": "markdown",
   "metadata": {
    "id": "08-l822cCpy3"
   },
   "source": [
    "Cargamos el modelo."
   ]
  },
  {
   "cell_type": "code",
   "execution_count": 63,
   "metadata": {
    "colab": {
     "base_uri": "https://localhost:8080/"
    },
    "id": "p5F-8W7GCpy3",
    "outputId": "ad54b784-2576-4a17-bf5b-1ef84b42897c"
   },
   "outputs": [
    {
     "name": "stderr",
     "output_type": "stream",
     "text": [
      "Some weights of RobertaForSequenceClassification were not initialized from the model checkpoint at distilbert/distilroberta-base and are newly initialized: ['classifier.dense.bias', 'classifier.dense.weight', 'classifier.out_proj.bias', 'classifier.out_proj.weight']\n",
      "You should probably TRAIN this model on a down-stream task to be able to use it for predictions and inference.\n"
     ]
    }
   ],
   "source": [
    "model = AutoModelForSequenceClassification.from_pretrained(model_name, num_labels=2)"
   ]
  },
  {
   "cell_type": "code",
   "execution_count": 64,
   "metadata": {
    "id": "Qt1JbzmpCpy3"
   },
   "outputs": [],
   "source": [
    "training_args = TrainingArguments(\n",
    "    output_dir=\"./results_albert\",\n",
    "    eval_strategy=\"epoch\",\n",
    "    save_strategy=\"epoch\",\n",
    "    learning_rate=2e-5,\n",
    "    per_device_train_batch_size=16,\n",
    "    per_device_eval_batch_size=32,\n",
    "    num_train_epochs=3,\n",
    "    weight_decay=0.01,\n",
    "    report_to=\"none\",\n",
    "    load_best_model_at_end=True,\n",
    "    metric_for_best_model=\"f1\",\n",
    "    greater_is_better=True\n",
    ")"
   ]
  },
  {
   "cell_type": "markdown",
   "metadata": {
    "id": "_8IvuwbHCpy3"
   },
   "source": [
    "Definimos un entrenador."
   ]
  },
  {
   "cell_type": "code",
   "execution_count": 65,
   "metadata": {
    "colab": {
     "base_uri": "https://localhost:8080/"
    },
    "id": "QOinUUsPCpy3",
    "outputId": "dfccf54e-0084-4232-dde6-205b9d7d8ad8"
   },
   "outputs": [
    {
     "name": "stderr",
     "output_type": "stream",
     "text": [
      "<ipython-input-65-53e65685ea53>:1: FutureWarning: `tokenizer` is deprecated and will be removed in version 5.0.0 for `Trainer.__init__`. Use `processing_class` instead.\n",
      "  trainer = Trainer(\n"
     ]
    }
   ],
   "source": [
    "trainer = Trainer(\n",
    "    model = model,\n",
    "    args = training_args,\n",
    "    train_dataset = train_dataset,\n",
    "    eval_dataset = test_dataset,\n",
    "    tokenizer = tokenizer,\n",
    "    compute_metrics = compute_metrics\n",
    ")"
   ]
  },
  {
   "cell_type": "markdown",
   "metadata": {
    "id": "EwEMI_FrCpy3"
   },
   "source": [
    "Entrenamos el modelo."
   ]
  },
  {
   "cell_type": "code",
   "execution_count": 66,
   "metadata": {
    "colab": {
     "base_uri": "https://localhost:8080/",
     "height": 172
    },
    "id": "8FcA7TFiCpy3",
    "outputId": "2d457112-380e-4e27-81b1-7d2754f167b8"
   },
   "outputs": [
    {
     "data": {
      "text/html": [
       "\n",
       "    <div>\n",
       "      \n",
       "      <progress value='896' max='896' style='width:300px; height:20px; vertical-align: middle;'></progress>\n",
       "      [896/896 11:25, Epoch 2/2]\n",
       "    </div>\n",
       "    <table border=\"1\" class=\"dataframe\">\n",
       "  <thead>\n",
       " <tr style=\"text-align: left;\">\n",
       "      <th>Epoch</th>\n",
       "      <th>Training Loss</th>\n",
       "      <th>Validation Loss</th>\n",
       "      <th>Accuracy</th>\n",
       "      <th>F1</th>\n",
       "    </tr>\n",
       "  </thead>\n",
       "  <tbody>\n",
       "    <tr>\n",
       "      <td>1</td>\n",
       "      <td>No log</td>\n",
       "      <td>0.602819</td>\n",
       "      <td>0.679330</td>\n",
       "      <td>0.782246</td>\n",
       "    </tr>\n",
       "    <tr>\n",
       "      <td>2</td>\n",
       "      <td>0.626300</td>\n",
       "      <td>0.620244</td>\n",
       "      <td>0.645810</td>\n",
       "      <td>0.720951</td>\n",
       "    </tr>\n",
       "  </tbody>\n",
       "</table><p>"
      ],
      "text/plain": [
       "<IPython.core.display.HTML object>"
      ]
     },
     "metadata": {},
     "output_type": "display_data"
    },
    {
     "data": {
      "text/plain": [
       "TrainOutput(global_step=896, training_loss=0.6044660125459943, metrics={'train_runtime': 686.4964, 'train_samples_per_second': 20.86, 'train_steps_per_second': 1.305, 'total_flos': 1896933148753920.0, 'train_loss': 0.6044660125459943, 'epoch': 2.0})"
      ]
     },
     "execution_count": 66,
     "metadata": {},
     "output_type": "execute_result"
    }
   ],
   "source": [
    "trainer.train()"
   ]
  },
  {
   "cell_type": "markdown",
   "metadata": {
    "id": "J0S2154tCpy3"
   },
   "source": [
    "Evaluamos los estadísticos establecidos previamente."
   ]
  },
  {
   "cell_type": "code",
   "execution_count": 67,
   "metadata": {
    "colab": {
     "base_uri": "https://localhost:8080/",
     "height": 158
    },
    "id": "NhgKqmBHCpy3",
    "outputId": "2a9967d1-e8db-469e-d04e-e8e76666abd3"
   },
   "outputs": [
    {
     "data": {
      "text/html": [
       "\n",
       "    <div>\n",
       "      \n",
       "      <progress value='56' max='56' style='width:300px; height:20px; vertical-align: middle;'></progress>\n",
       "      [56/56 00:04]\n",
       "    </div>\n",
       "    "
      ],
      "text/plain": [
       "<IPython.core.display.HTML object>"
      ]
     },
     "metadata": {},
     "output_type": "display_data"
    },
    {
     "data": {
      "text/plain": [
       "{'eval_loss': 0.6028192043304443,\n",
       " 'eval_accuracy': 0.6793296089385474,\n",
       " 'eval_f1': 0.7822458270106222,\n",
       " 'eval_runtime': 5.1324,\n",
       " 'eval_samples_per_second': 348.767,\n",
       " 'eval_steps_per_second': 10.911,\n",
       " 'epoch': 2.0}"
      ]
     },
     "execution_count": 67,
     "metadata": {},
     "output_type": "execute_result"
    }
   ],
   "source": [
    "trainer.evaluate()"
   ]
  },
  {
   "cell_type": "markdown",
   "metadata": {
    "id": "9sfcUytoCpy4"
   },
   "source": [
    "En caso de querer almacenarlo para ser evaluados por otros."
   ]
  },
  {
   "cell_type": "raw",
   "metadata": {
    "id": "dElg9G2yCpy4"
   },
   "source": [
    "trainer.save_model(\"caso2_albert\")\n",
    "tokenizer.save_pretrained(\"caso2_albert\")"
   ]
  },
  {
   "cell_type": "markdown",
   "metadata": {
    "id": "qKEM3b7_Cpy4",
    "jp-MarkdownHeadingCollapsed": true
   },
   "source": [
    "#### 7.3.3 Exportar CSV"
   ]
  },
  {
   "cell_type": "code",
   "execution_count": 68,
   "metadata": {
    "colab": {
     "base_uri": "https://localhost:8080/",
     "height": 17
    },
    "id": "248PG0HmCpy4",
    "outputId": "ca801b0a-deff-464a-f7f6-3cfaf3a88eaf"
   },
   "outputs": [
    {
     "data": {
      "text/html": [],
      "text/plain": [
       "<IPython.core.display.HTML object>"
      ]
     },
     "metadata": {},
     "output_type": "display_data"
    }
   ],
   "source": [
    "predictions = trainer.predict(kaggle_dataset)\n",
    "predicted_labels = predictions.predictions.argmax(-1)"
   ]
  },
  {
   "cell_type": "code",
   "execution_count": 69,
   "metadata": {
    "id": "2zN3SJOFCpy4"
   },
   "outputs": [],
   "source": [
    "df_label_albert = pd.DataFrame(predicted_labels, columns=['label'])\n",
    "df_id = df_test['id'].reset_index(drop=True)\n",
    "df_final_albert = pd.concat([df_id, df_label_albert], axis=1)"
   ]
  },
  {
   "cell_type": "code",
   "execution_count": 70,
   "metadata": {
    "colab": {
     "base_uri": "https://localhost:8080/",
     "height": 178
    },
    "id": "49xE86g-Cpy4",
    "outputId": "763f5d6f-d1e1-4f06-e170-54b5f400f7ae"
   },
   "outputs": [
    {
     "data": {
      "text/html": [
       "<div>\n",
       "<style scoped>\n",
       "    .dataframe tbody tr th:only-of-type {\n",
       "        vertical-align: middle;\n",
       "    }\n",
       "\n",
       "    .dataframe tbody tr th {\n",
       "        vertical-align: top;\n",
       "    }\n",
       "\n",
       "    .dataframe thead th {\n",
       "        text-align: right;\n",
       "    }\n",
       "</style>\n",
       "<table border=\"1\" class=\"dataframe\">\n",
       "  <thead>\n",
       "    <tr style=\"text-align: right;\">\n",
       "      <th></th>\n",
       "      <th>count</th>\n",
       "    </tr>\n",
       "    <tr>\n",
       "      <th>label</th>\n",
       "      <th></th>\n",
       "    </tr>\n",
       "  </thead>\n",
       "  <tbody>\n",
       "    <tr>\n",
       "      <th>1</th>\n",
       "      <td>3089</td>\n",
       "    </tr>\n",
       "    <tr>\n",
       "      <th>0</th>\n",
       "      <td>747</td>\n",
       "    </tr>\n",
       "  </tbody>\n",
       "</table>\n",
       "</div><br><label><b>dtype:</b> int64</label>"
      ],
      "text/plain": [
       "label\n",
       "1    3089\n",
       "0     747\n",
       "Name: count, dtype: int64"
      ]
     },
     "execution_count": 70,
     "metadata": {},
     "output_type": "execute_result"
    }
   ],
   "source": [
    "df_final_albert['label'].value_counts()"
   ]
  },
  {
   "cell_type": "code",
   "execution_count": 71,
   "metadata": {
    "id": "fIWk1gHiCpy4"
   },
   "outputs": [],
   "source": [
    "df_final_caso3.to_csv('./submit/case2_albert.csv', index=False)"
   ]
  },
  {
   "cell_type": "markdown",
   "metadata": {
    "id": "cMfqxIbsCpy5"
   },
   "source": [
    "### 7.4 DeBERTaV3"
   ]
  },
  {
   "cell_type": "markdown",
   "metadata": {
    "id": "qlv_DO1ZCpy5",
    "jp-MarkdownHeadingCollapsed": true
   },
   "source": [
    "#### 7.4.1 Carga de los datos y division en entrenamiento y test"
   ]
  },
  {
   "cell_type": "markdown",
   "metadata": {
    "id": "0n-qGcf4Cpy5"
   },
   "source": [
    "Cargamos las caracteristicas seleccionadas en la variable X y el objetivo *label* en la variable y. Para la seleccion de la variable X se utilizará la función auxiliar *selStatement*, introducciendo como parámetros el caso de entrenamiento seleccionado y el *dataframe* donde estan almacenados los datos."
   ]
  },
  {
   "cell_type": "code",
   "execution_count": 72,
   "metadata": {
    "id": "fhc7WZEMCpy5"
   },
   "outputs": [],
   "source": [
    "X =  selStatement(2, df)\n",
    "y = df['label']\n",
    "\n",
    "X_kaggle = selStatement(2, df_test)"
   ]
  },
  {
   "cell_type": "markdown",
   "metadata": {
    "id": "0w38KYSwCpy5"
   },
   "source": [
    "Se realiza un *iloc* para comprobar de forma sencilla que hemos escogido el caso de entrenamiento correcto"
   ]
  },
  {
   "cell_type": "code",
   "execution_count": 73,
   "metadata": {
    "colab": {
     "base_uri": "https://localhost:8080/",
     "height": 52
    },
    "id": "kBRY8B02Cpy5",
    "outputId": "26be346b-c52d-4e6e-9cd4-ef815cfd1662"
   },
   "outputs": [
    {
     "data": {
      "application/vnd.google.colaboratory.intrinsic+json": {
       "type": "string"
      },
      "text/plain": [
       "'donald-trump (affiliated with the republican party) said: \"China is in the South China Sea and (building)a military fortress the likes of which perhaps the world has not seen.\"'"
      ]
     },
     "execution_count": 73,
     "metadata": {},
     "output_type": "execute_result"
    }
   ],
   "source": [
    "X.iloc[0]"
   ]
  },
  {
   "cell_type": "code",
   "execution_count": 74,
   "metadata": {
    "colab": {
     "base_uri": "https://localhost:8080/",
     "height": 35
    },
    "id": "TWxwtZL-Cpy5",
    "outputId": "3b51c468-6746-40db-d953-5ed702cfe61c"
   },
   "outputs": [
    {
     "data": {
      "application/vnd.google.colaboratory.intrinsic+json": {
       "type": "string"
      },
      "text/plain": [
       "'kasim-reed (affiliated with the democrat party) said: \"Five members of [the Common Cause Georgia] board accepted maximum campaign contributions.\"'"
      ]
     },
     "execution_count": 74,
     "metadata": {},
     "output_type": "execute_result"
    }
   ],
   "source": [
    "X_kaggle.iloc[0]"
   ]
  },
  {
   "cell_type": "markdown",
   "metadata": {
    "id": "Qn4mAcXoCpy5"
   },
   "source": [
    "Se separa en entrenamiento y test."
   ]
  },
  {
   "cell_type": "code",
   "execution_count": 75,
   "metadata": {
    "id": "vGQzxyVZCpy5"
   },
   "outputs": [],
   "source": [
    "X_train, X_test, y_train, y_test = train_test_split(X, y, test_size=0.2, random_state=seed)"
   ]
  },
  {
   "cell_type": "markdown",
   "metadata": {
    "id": "cni_iIiECpy5",
    "jp-MarkdownHeadingCollapsed": true
   },
   "source": [
    "#### 7.4.2 Entrenamiento"
   ]
  },
  {
   "cell_type": "markdown",
   "metadata": {
    "id": "R4pqcwe6Cpy5"
   },
   "source": [
    "Seleccionamos el modelo mediante la función *selModel* y el parámetro *'deberta'*."
   ]
  },
  {
   "cell_type": "code",
   "execution_count": 76,
   "metadata": {
    "colab": {
     "base_uri": "https://localhost:8080/"
    },
    "id": "1GfwLm42Cpy5",
    "outputId": "b2f21485-2079-4bbe-ff79-794628f7c9b2"
   },
   "outputs": [
    {
     "name": "stdout",
     "output_type": "stream",
     "text": [
      "Modelo seleccionado: distilbert/distilroberta-base\n"
     ]
    }
   ],
   "source": [
    "model_name = selModel('deberta')\n",
    "print(\"Modelo seleccionado:\", model_name)"
   ]
  },
  {
   "cell_type": "markdown",
   "metadata": {
    "id": "X2KpyCDrCpy6"
   },
   "source": [
    "Seleccionamos el tokenizador del modelo."
   ]
  },
  {
   "cell_type": "code",
   "execution_count": 77,
   "metadata": {
    "id": "Cec_pFNUCpy6"
   },
   "outputs": [],
   "source": [
    "tokenizer = AutoTokenizer.from_pretrained(model_name)"
   ]
  },
  {
   "cell_type": "markdown",
   "metadata": {
    "id": "d16TdvH-Cpy6"
   },
   "source": [
    "Tokenizamos los textos."
   ]
  },
  {
   "cell_type": "code",
   "execution_count": 78,
   "metadata": {
    "id": "GMSErvynCpy6"
   },
   "outputs": [],
   "source": [
    "# Entrenamiento y evaluación\n",
    "train_encodings = tokenizer(list(X_train), truncation=True, padding=True)\n",
    "test_encodings = tokenizer(list(X_test), truncation=True, padding=True)\n",
    "\n",
    "# Kaggle\n",
    "kaggle_encodings = tokenizer(list(X_kaggle), truncation=True, padding=True)"
   ]
  },
  {
   "cell_type": "markdown",
   "metadata": {
    "id": "ABMMqiVjCpy6"
   },
   "source": [
    "Transformamos los *dataframes* en *dataset* con la funcion *OwnDataset* y con la función *KaggleDataset* (la diferencia entre ellas es que *KaggleDataset* se construye sin *labels*)."
   ]
  },
  {
   "cell_type": "code",
   "execution_count": 79,
   "metadata": {
    "id": "q6Oh1ZU4Cpy6"
   },
   "outputs": [],
   "source": [
    "train_dataset = OwnDataset(train_encodings, list(y_train))\n",
    "test_dataset = OwnDataset(test_encodings, list(y_test))\n",
    "\n",
    "kaggle_dataset = KaggleDataset(kaggle_encodings)"
   ]
  },
  {
   "cell_type": "markdown",
   "metadata": {
    "id": "Jf_Um1K2Cpy6"
   },
   "source": [
    "Cargamos el modelo."
   ]
  },
  {
   "cell_type": "code",
   "execution_count": 80,
   "metadata": {
    "colab": {
     "base_uri": "https://localhost:8080/"
    },
    "id": "twcqiyGnCpy6",
    "outputId": "2f8050b1-26e4-40ad-e700-dae8269aa3e0"
   },
   "outputs": [
    {
     "name": "stderr",
     "output_type": "stream",
     "text": [
      "Some weights of RobertaForSequenceClassification were not initialized from the model checkpoint at distilbert/distilroberta-base and are newly initialized: ['classifier.dense.bias', 'classifier.dense.weight', 'classifier.out_proj.bias', 'classifier.out_proj.weight']\n",
      "You should probably TRAIN this model on a down-stream task to be able to use it for predictions and inference.\n"
     ]
    }
   ],
   "source": [
    "model = AutoModelForSequenceClassification.from_pretrained(model_name, num_labels=2)"
   ]
  },
  {
   "cell_type": "code",
   "execution_count": 81,
   "metadata": {
    "id": "aZuF_d5CCpy7"
   },
   "outputs": [],
   "source": [
    "training_args = TrainingArguments(\n",
    "    output_dir=\"./results_deberta\",\n",
    "    eval_strategy=\"epoch\",\n",
    "    save_strategy=\"epoch\",\n",
    "    learning_rate=2e-5,\n",
    "    per_device_train_batch_size=16,\n",
    "    per_device_eval_batch_size=32,\n",
    "    num_train_epochs=2,\n",
    "    weight_decay=0.01,\n",
    "    report_to=\"none\",\n",
    "    load_best_model_at_end=True,\n",
    "    metric_for_best_model=\"f1\",\n",
    "    greater_is_better=True\n",
    ")"
   ]
  },
  {
   "cell_type": "markdown",
   "metadata": {
    "id": "tvsNTPv5Cpy7"
   },
   "source": [
    "Definimos un entrenador."
   ]
  },
  {
   "cell_type": "code",
   "execution_count": 82,
   "metadata": {
    "colab": {
     "base_uri": "https://localhost:8080/"
    },
    "id": "OS6fLyHpCpy7",
    "outputId": "34029629-853f-488b-9949-11f7013737e4"
   },
   "outputs": [
    {
     "name": "stderr",
     "output_type": "stream",
     "text": [
      "<ipython-input-82-53e65685ea53>:1: FutureWarning: `tokenizer` is deprecated and will be removed in version 5.0.0 for `Trainer.__init__`. Use `processing_class` instead.\n",
      "  trainer = Trainer(\n"
     ]
    }
   ],
   "source": [
    "trainer = Trainer(\n",
    "    model = model,\n",
    "    args = training_args,\n",
    "    train_dataset = train_dataset,\n",
    "    eval_dataset = test_dataset,\n",
    "    tokenizer = tokenizer,\n",
    "    compute_metrics = compute_metrics\n",
    ")"
   ]
  },
  {
   "cell_type": "markdown",
   "metadata": {
    "id": "kpNezrqzCpy7"
   },
   "source": [
    "Entrenamos el modelo."
   ]
  },
  {
   "cell_type": "code",
   "execution_count": 83,
   "metadata": {
    "colab": {
     "base_uri": "https://localhost:8080/",
     "height": 172
    },
    "id": "C3zOXveLCpy7",
    "outputId": "2a04761d-5791-42e4-8f6f-287f0de8f442"
   },
   "outputs": [
    {
     "data": {
      "text/html": [
       "\n",
       "    <div>\n",
       "      \n",
       "      <progress value='896' max='896' style='width:300px; height:20px; vertical-align: middle;'></progress>\n",
       "      [896/896 11:24, Epoch 2/2]\n",
       "    </div>\n",
       "    <table border=\"1\" class=\"dataframe\">\n",
       "  <thead>\n",
       " <tr style=\"text-align: left;\">\n",
       "      <th>Epoch</th>\n",
       "      <th>Training Loss</th>\n",
       "      <th>Validation Loss</th>\n",
       "      <th>Accuracy</th>\n",
       "      <th>F1</th>\n",
       "    </tr>\n",
       "  </thead>\n",
       "  <tbody>\n",
       "    <tr>\n",
       "      <td>1</td>\n",
       "      <td>No log</td>\n",
       "      <td>0.598100</td>\n",
       "      <td>0.681564</td>\n",
       "      <td>0.787789</td>\n",
       "    </tr>\n",
       "    <tr>\n",
       "      <td>2</td>\n",
       "      <td>0.624600</td>\n",
       "      <td>0.614373</td>\n",
       "      <td>0.665363</td>\n",
       "      <td>0.742144</td>\n",
       "    </tr>\n",
       "  </tbody>\n",
       "</table><p>"
      ],
      "text/plain": [
       "<IPython.core.display.HTML object>"
      ]
     },
     "metadata": {},
     "output_type": "display_data"
    },
    {
     "data": {
      "text/plain": [
       "TrainOutput(global_step=896, training_loss=0.6021936961582729, metrics={'train_runtime': 685.051, 'train_samples_per_second': 20.904, 'train_steps_per_second': 1.308, 'total_flos': 1896933148753920.0, 'train_loss': 0.6021936961582729, 'epoch': 2.0})"
      ]
     },
     "execution_count": 83,
     "metadata": {},
     "output_type": "execute_result"
    }
   ],
   "source": [
    "trainer.train()"
   ]
  },
  {
   "cell_type": "markdown",
   "metadata": {
    "id": "U3YScTKuCpy7"
   },
   "source": [
    "Evaluamos los estadísticos establecidos previamente."
   ]
  },
  {
   "cell_type": "code",
   "execution_count": 84,
   "metadata": {
    "colab": {
     "base_uri": "https://localhost:8080/",
     "height": 158
    },
    "id": "9LpbKZ-gCpy7",
    "outputId": "7072a82c-0c2b-4c9b-c870-c0e4ea298249"
   },
   "outputs": [
    {
     "data": {
      "text/html": [
       "\n",
       "    <div>\n",
       "      \n",
       "      <progress value='56' max='56' style='width:300px; height:20px; vertical-align: middle;'></progress>\n",
       "      [56/56 00:04]\n",
       "    </div>\n",
       "    "
      ],
      "text/plain": [
       "<IPython.core.display.HTML object>"
      ]
     },
     "metadata": {},
     "output_type": "display_data"
    },
    {
     "data": {
      "text/plain": [
       "{'eval_loss': 0.5981001257896423,\n",
       " 'eval_accuracy': 0.6815642458100558,\n",
       " 'eval_f1': 0.7877885331347729,\n",
       " 'eval_runtime': 4.5183,\n",
       " 'eval_samples_per_second': 396.163,\n",
       " 'eval_steps_per_second': 12.394,\n",
       " 'epoch': 2.0}"
      ]
     },
     "execution_count": 84,
     "metadata": {},
     "output_type": "execute_result"
    }
   ],
   "source": [
    "trainer.evaluate()"
   ]
  },
  {
   "cell_type": "markdown",
   "metadata": {
    "id": "_QsDXdN0Cpy7"
   },
   "source": [
    "En caso de querer almacenarlo para ser evaluados por otros."
   ]
  },
  {
   "cell_type": "raw",
   "metadata": {
    "id": "LdyxLynBCpy7"
   },
   "source": [
    "trainer.save_model(\"caso2_deberta\")\n",
    "tokenizer.save_pretrained(\"caso2_deberta\")"
   ]
  },
  {
   "cell_type": "markdown",
   "metadata": {
    "id": "tzqrAt9SCpy7",
    "jp-MarkdownHeadingCollapsed": true
   },
   "source": [
    "#### 7.4.3 Exportar CSV"
   ]
  },
  {
   "cell_type": "code",
   "execution_count": 85,
   "metadata": {
    "colab": {
     "base_uri": "https://localhost:8080/",
     "height": 17
    },
    "id": "VUfVM8CUCpy8",
    "outputId": "2f622493-4d26-463b-b2e9-ed8db88d7875"
   },
   "outputs": [
    {
     "data": {
      "text/html": [],
      "text/plain": [
       "<IPython.core.display.HTML object>"
      ]
     },
     "metadata": {},
     "output_type": "display_data"
    }
   ],
   "source": [
    "predictions = trainer.predict(kaggle_dataset)\n",
    "predicted_labels = predictions.predictions.argmax(-1)"
   ]
  },
  {
   "cell_type": "code",
   "execution_count": 86,
   "metadata": {
    "id": "2cB_1xEoCpy8"
   },
   "outputs": [],
   "source": [
    "df_label_deberta = pd.DataFrame(predicted_labels, columns=['label'])\n",
    "df_id = df_test['id'].reset_index(drop=True)\n",
    "df_final_deberta = pd.concat([df_id, df_label_deberta], axis=1)"
   ]
  },
  {
   "cell_type": "code",
   "execution_count": 87,
   "metadata": {
    "colab": {
     "base_uri": "https://localhost:8080/",
     "height": 178
    },
    "id": "UM4cJrdACpy8",
    "outputId": "af72aa61-86be-403c-b291-914a4aa873dd"
   },
   "outputs": [
    {
     "data": {
      "text/html": [
       "<div>\n",
       "<style scoped>\n",
       "    .dataframe tbody tr th:only-of-type {\n",
       "        vertical-align: middle;\n",
       "    }\n",
       "\n",
       "    .dataframe tbody tr th {\n",
       "        vertical-align: top;\n",
       "    }\n",
       "\n",
       "    .dataframe thead th {\n",
       "        text-align: right;\n",
       "    }\n",
       "</style>\n",
       "<table border=\"1\" class=\"dataframe\">\n",
       "  <thead>\n",
       "    <tr style=\"text-align: right;\">\n",
       "      <th></th>\n",
       "      <th>count</th>\n",
       "    </tr>\n",
       "    <tr>\n",
       "      <th>label</th>\n",
       "      <th></th>\n",
       "    </tr>\n",
       "  </thead>\n",
       "  <tbody>\n",
       "    <tr>\n",
       "      <th>1</th>\n",
       "      <td>3223</td>\n",
       "    </tr>\n",
       "    <tr>\n",
       "      <th>0</th>\n",
       "      <td>613</td>\n",
       "    </tr>\n",
       "  </tbody>\n",
       "</table>\n",
       "</div><br><label><b>dtype:</b> int64</label>"
      ],
      "text/plain": [
       "label\n",
       "1    3223\n",
       "0     613\n",
       "Name: count, dtype: int64"
      ]
     },
     "execution_count": 87,
     "metadata": {},
     "output_type": "execute_result"
    }
   ],
   "source": [
    "df_final_deberta['label'].value_counts()"
   ]
  },
  {
   "cell_type": "code",
   "execution_count": 88,
   "metadata": {
    "id": "rNpx3hX0Cpy8"
   },
   "outputs": [],
   "source": [
    "df_final_deberta.to_csv('./submit/caso2_deberta.csv', index=False)"
   ]
  },
  {
   "cell_type": "markdown",
   "metadata": {
    "id": "Pbkjk3O5CpzG"
   },
   "source": [
    "# 8. Referencias"
   ]
  },
  {
   "cell_type": "markdown",
   "metadata": {
    "id": "HxubjScHCpzG"
   },
   "source": [
    "* [ColumnTransformer. (s. f.). Scikit-learn.](https://scikit-learn.org/stable/modules/generated/sklearn.compose.ColumnTransformer.html)\n",
    "* [RandomForestClassifier. (s. f.). Scikit-learn.](https://scikit-learn.org/stable/modules/generated/sklearn.ensemble.RandomForestClassifier.html)\n",
    "* [RandomUnderSampler — Version 0.13.0. (s. f.). Imbalance learn.](https://imbalanced-learn.org/stable/references/generated/imblearn.under_sampling.RandomUnderSampler.html)\n",
    "* [SMOTE — Version 0.13.0. (s. f.). Imbalanced learn.](https://imbalanced-learn.org/stable/references/generated/imblearn.over_sampling.SMOTE.html)\n",
    "* [StandardScaler. (s. f.). Scikit-learn.](https://scikit-learn.org/stable/modules/generated/sklearn.preprocessing.StandardScaler.html)\n",
    "* [TfidfVectorizer. (s. f.). Scikit-learn.](https://scikit-learn.org/stable/modules/generated/sklearn.feature_extraction.text.TfidfVectorizer.html)\n",
    "* [train_test_split. (s. f.). Scikit-learn.](https://scikit-learn.org/stable/modules/generated/sklearn.model_selection.train_test_split.html)\n",
    "* [TruncatedSVD. (s. f.). Scikit-learn.](https://scikit-learn.org/stable/modules/generated/sklearn.decomposition.TruncatedSVD.html)"
   ]
  }
 ],
 "metadata": {
  "accelerator": "GPU",
  "colab": {
   "gpuType": "T4",
   "provenance": []
  },
  "kernelspec": {
   "display_name": "Python 3 (ipykernel)",
   "language": "python",
   "name": "python3"
  },
  "language_info": {
   "codemirror_mode": {
    "name": "ipython",
    "version": 3
   },
   "file_extension": ".py",
   "mimetype": "text/x-python",
   "name": "python",
   "nbconvert_exporter": "python",
   "pygments_lexer": "ipython3",
   "version": "3.12.7"
  },
  "widgets": {
   "application/vnd.jupyter.widget-state+json": {
    "08ccad5e13314f5e9c4c7152a0bdb8ff": {
     "model_module": "@jupyter-widgets/controls",
     "model_module_version": "1.5.0",
     "model_name": "DescriptionStyleModel",
     "state": {
      "_model_module": "@jupyter-widgets/controls",
      "_model_module_version": "1.5.0",
      "_model_name": "DescriptionStyleModel",
      "_view_count": null,
      "_view_module": "@jupyter-widgets/base",
      "_view_module_version": "1.2.0",
      "_view_name": "StyleView",
      "description_width": ""
     }
    },
    "0c416aceed504ff8a626736d197ce2d5": {
     "model_module": "@jupyter-widgets/controls",
     "model_module_version": "1.5.0",
     "model_name": "FloatProgressModel",
     "state": {
      "_dom_classes": [],
      "_model_module": "@jupyter-widgets/controls",
      "_model_module_version": "1.5.0",
      "_model_name": "FloatProgressModel",
      "_view_count": null,
      "_view_module": "@jupyter-widgets/controls",
      "_view_module_version": "1.5.0",
      "_view_name": "ProgressView",
      "bar_style": "success",
      "description": "",
      "description_tooltip": null,
      "layout": "IPY_MODEL_3434b968961b4c5ea7ad13e5956e7b1e",
      "max": 331055963,
      "min": 0,
      "orientation": "horizontal",
      "style": "IPY_MODEL_b1f0371060c64fcbb8c4f9490ba7c2d7",
      "value": 331055963
     }
    },
    "12e037f26b3e452e868e4439e68f2803": {
     "model_module": "@jupyter-widgets/controls",
     "model_module_version": "1.5.0",
     "model_name": "HTMLModel",
     "state": {
      "_dom_classes": [],
      "_model_module": "@jupyter-widgets/controls",
      "_model_module_version": "1.5.0",
      "_model_name": "HTMLModel",
      "_view_count": null,
      "_view_module": "@jupyter-widgets/controls",
      "_view_module_version": "1.5.0",
      "_view_name": "HTMLView",
      "description": "",
      "description_tooltip": null,
      "layout": "IPY_MODEL_17fb0b1fe8b74ec79bdea707d38b1e16",
      "placeholder": "​",
      "style": "IPY_MODEL_55bc5cf6db58408487be2ee0330fa0ba",
      "value": " 456k/456k [00:00&lt;00:00, 1.80MB/s]"
     }
    },
    "17fb0b1fe8b74ec79bdea707d38b1e16": {
     "model_module": "@jupyter-widgets/base",
     "model_module_version": "1.2.0",
     "model_name": "LayoutModel",
     "state": {
      "_model_module": "@jupyter-widgets/base",
      "_model_module_version": "1.2.0",
      "_model_name": "LayoutModel",
      "_view_count": null,
      "_view_module": "@jupyter-widgets/base",
      "_view_module_version": "1.2.0",
      "_view_name": "LayoutView",
      "align_content": null,
      "align_items": null,
      "align_self": null,
      "border": null,
      "bottom": null,
      "display": null,
      "flex": null,
      "flex_flow": null,
      "grid_area": null,
      "grid_auto_columns": null,
      "grid_auto_flow": null,
      "grid_auto_rows": null,
      "grid_column": null,
      "grid_gap": null,
      "grid_row": null,
      "grid_template_areas": null,
      "grid_template_columns": null,
      "grid_template_rows": null,
      "height": null,
      "justify_content": null,
      "justify_items": null,
      "left": null,
      "margin": null,
      "max_height": null,
      "max_width": null,
      "min_height": null,
      "min_width": null,
      "object_fit": null,
      "object_position": null,
      "order": null,
      "overflow": null,
      "overflow_x": null,
      "overflow_y": null,
      "padding": null,
      "right": null,
      "top": null,
      "visibility": null,
      "width": null
     }
    },
    "1e1ae15d215d417c9657cd440d956684": {
     "model_module": "@jupyter-widgets/controls",
     "model_module_version": "1.5.0",
     "model_name": "FloatProgressModel",
     "state": {
      "_dom_classes": [],
      "_model_module": "@jupyter-widgets/controls",
      "_model_module_version": "1.5.0",
      "_model_name": "FloatProgressModel",
      "_view_count": null,
      "_view_module": "@jupyter-widgets/controls",
      "_view_module_version": "1.5.0",
      "_view_name": "ProgressView",
      "bar_style": "success",
      "description": "",
      "description_tooltip": null,
      "layout": "IPY_MODEL_9a56d6858d0d42e9b3053200a6f00cd3",
      "max": 25,
      "min": 0,
      "orientation": "horizontal",
      "style": "IPY_MODEL_574c1d61d1a34e4c8aa4bea2621510fe",
      "value": 25
     }
    },
    "218a0d2898f6480db2bdf53245c8bd22": {
     "model_module": "@jupyter-widgets/base",
     "model_module_version": "1.2.0",
     "model_name": "LayoutModel",
     "state": {
      "_model_module": "@jupyter-widgets/base",
      "_model_module_version": "1.2.0",
      "_model_name": "LayoutModel",
      "_view_count": null,
      "_view_module": "@jupyter-widgets/base",
      "_view_module_version": "1.2.0",
      "_view_name": "LayoutView",
      "align_content": null,
      "align_items": null,
      "align_self": null,
      "border": null,
      "bottom": null,
      "display": null,
      "flex": null,
      "flex_flow": null,
      "grid_area": null,
      "grid_auto_columns": null,
      "grid_auto_flow": null,
      "grid_auto_rows": null,
      "grid_column": null,
      "grid_gap": null,
      "grid_row": null,
      "grid_template_areas": null,
      "grid_template_columns": null,
      "grid_template_rows": null,
      "height": null,
      "justify_content": null,
      "justify_items": null,
      "left": null,
      "margin": null,
      "max_height": null,
      "max_width": null,
      "min_height": null,
      "min_width": null,
      "object_fit": null,
      "object_position": null,
      "order": null,
      "overflow": null,
      "overflow_x": null,
      "overflow_y": null,
      "padding": null,
      "right": null,
      "top": null,
      "visibility": null,
      "width": null
     }
    },
    "2236a4160ee24168b9bd2f5fd2c3233d": {
     "model_module": "@jupyter-widgets/controls",
     "model_module_version": "1.5.0",
     "model_name": "HTMLModel",
     "state": {
      "_dom_classes": [],
      "_model_module": "@jupyter-widgets/controls",
      "_model_module_version": "1.5.0",
      "_model_name": "HTMLModel",
      "_view_count": null,
      "_view_module": "@jupyter-widgets/controls",
      "_view_module_version": "1.5.0",
      "_view_name": "HTMLView",
      "description": "",
      "description_tooltip": null,
      "layout": "IPY_MODEL_7a2d08e563fb4d64a7c92a1a011d6f68",
      "placeholder": "​",
      "style": "IPY_MODEL_6fc4ad4e67a947c9869edb73cd8b4dd2",
      "value": "vocab.json: 100%"
     }
    },
    "25204caba1cb48d992f626b555c5973a": {
     "model_module": "@jupyter-widgets/controls",
     "model_module_version": "1.5.0",
     "model_name": "HBoxModel",
     "state": {
      "_dom_classes": [],
      "_model_module": "@jupyter-widgets/controls",
      "_model_module_version": "1.5.0",
      "_model_name": "HBoxModel",
      "_view_count": null,
      "_view_module": "@jupyter-widgets/controls",
      "_view_module_version": "1.5.0",
      "_view_name": "HBoxView",
      "box_style": "",
      "children": [
       "IPY_MODEL_8d0c869c380b4f1d8046dcacbfd51a2a",
       "IPY_MODEL_1e1ae15d215d417c9657cd440d956684",
       "IPY_MODEL_854c564e61e0456db4e4bc0676a526e8"
      ],
      "layout": "IPY_MODEL_7cb27bc290234bab82dfc350e0a3b46d"
     }
    },
    "26d84eb49b2e43a58b3dc02c22a19939": {
     "model_module": "@jupyter-widgets/controls",
     "model_module_version": "1.5.0",
     "model_name": "ProgressStyleModel",
     "state": {
      "_model_module": "@jupyter-widgets/controls",
      "_model_module_version": "1.5.0",
      "_model_name": "ProgressStyleModel",
      "_view_count": null,
      "_view_module": "@jupyter-widgets/base",
      "_view_module_version": "1.2.0",
      "_view_name": "StyleView",
      "bar_color": null,
      "description_width": ""
     }
    },
    "296c6ba5f1a44b5a850d164cf9ecf6e8": {
     "model_module": "@jupyter-widgets/controls",
     "model_module_version": "1.5.0",
     "model_name": "HTMLModel",
     "state": {
      "_dom_classes": [],
      "_model_module": "@jupyter-widgets/controls",
      "_model_module_version": "1.5.0",
      "_model_name": "HTMLModel",
      "_view_count": null,
      "_view_module": "@jupyter-widgets/controls",
      "_view_module_version": "1.5.0",
      "_view_name": "HTMLView",
      "description": "",
      "description_tooltip": null,
      "layout": "IPY_MODEL_f31c4ba9283548bd981fa484b1299f78",
      "placeholder": "​",
      "style": "IPY_MODEL_c322667366ce456cb989547cce56df7d",
      "value": " 1.36M/1.36M [00:00&lt;00:00, 5.79MB/s]"
     }
    },
    "2b588dc51d05485f9d764b9d2cbdd6dc": {
     "model_module": "@jupyter-widgets/controls",
     "model_module_version": "1.5.0",
     "model_name": "HTMLModel",
     "state": {
      "_dom_classes": [],
      "_model_module": "@jupyter-widgets/controls",
      "_model_module_version": "1.5.0",
      "_model_name": "HTMLModel",
      "_view_count": null,
      "_view_module": "@jupyter-widgets/controls",
      "_view_module_version": "1.5.0",
      "_view_name": "HTMLView",
      "description": "",
      "description_tooltip": null,
      "layout": "IPY_MODEL_4a74e4d76b414b258b66cd5900e54efb",
      "placeholder": "​",
      "style": "IPY_MODEL_08ccad5e13314f5e9c4c7152a0bdb8ff",
      "value": " 480/480 [00:00&lt;00:00, 44.0kB/s]"
     }
    },
    "3434b968961b4c5ea7ad13e5956e7b1e": {
     "model_module": "@jupyter-widgets/base",
     "model_module_version": "1.2.0",
     "model_name": "LayoutModel",
     "state": {
      "_model_module": "@jupyter-widgets/base",
      "_model_module_version": "1.2.0",
      "_model_name": "LayoutModel",
      "_view_count": null,
      "_view_module": "@jupyter-widgets/base",
      "_view_module_version": "1.2.0",
      "_view_name": "LayoutView",
      "align_content": null,
      "align_items": null,
      "align_self": null,
      "border": null,
      "bottom": null,
      "display": null,
      "flex": null,
      "flex_flow": null,
      "grid_area": null,
      "grid_auto_columns": null,
      "grid_auto_flow": null,
      "grid_auto_rows": null,
      "grid_column": null,
      "grid_gap": null,
      "grid_row": null,
      "grid_template_areas": null,
      "grid_template_columns": null,
      "grid_template_rows": null,
      "height": null,
      "justify_content": null,
      "justify_items": null,
      "left": null,
      "margin": null,
      "max_height": null,
      "max_width": null,
      "min_height": null,
      "min_width": null,
      "object_fit": null,
      "object_position": null,
      "order": null,
      "overflow": null,
      "overflow_x": null,
      "overflow_y": null,
      "padding": null,
      "right": null,
      "top": null,
      "visibility": null,
      "width": null
     }
    },
    "38293af02fba4abdb9d011aae7af127c": {
     "model_module": "@jupyter-widgets/base",
     "model_module_version": "1.2.0",
     "model_name": "LayoutModel",
     "state": {
      "_model_module": "@jupyter-widgets/base",
      "_model_module_version": "1.2.0",
      "_model_name": "LayoutModel",
      "_view_count": null,
      "_view_module": "@jupyter-widgets/base",
      "_view_module_version": "1.2.0",
      "_view_name": "LayoutView",
      "align_content": null,
      "align_items": null,
      "align_self": null,
      "border": null,
      "bottom": null,
      "display": null,
      "flex": null,
      "flex_flow": null,
      "grid_area": null,
      "grid_auto_columns": null,
      "grid_auto_flow": null,
      "grid_auto_rows": null,
      "grid_column": null,
      "grid_gap": null,
      "grid_row": null,
      "grid_template_areas": null,
      "grid_template_columns": null,
      "grid_template_rows": null,
      "height": null,
      "justify_content": null,
      "justify_items": null,
      "left": null,
      "margin": null,
      "max_height": null,
      "max_width": null,
      "min_height": null,
      "min_width": null,
      "object_fit": null,
      "object_position": null,
      "order": null,
      "overflow": null,
      "overflow_x": null,
      "overflow_y": null,
      "padding": null,
      "right": null,
      "top": null,
      "visibility": null,
      "width": null
     }
    },
    "3eedde61a5de4f59935695adc0c2a091": {
     "model_module": "@jupyter-widgets/base",
     "model_module_version": "1.2.0",
     "model_name": "LayoutModel",
     "state": {
      "_model_module": "@jupyter-widgets/base",
      "_model_module_version": "1.2.0",
      "_model_name": "LayoutModel",
      "_view_count": null,
      "_view_module": "@jupyter-widgets/base",
      "_view_module_version": "1.2.0",
      "_view_name": "LayoutView",
      "align_content": null,
      "align_items": null,
      "align_self": null,
      "border": null,
      "bottom": null,
      "display": null,
      "flex": null,
      "flex_flow": null,
      "grid_area": null,
      "grid_auto_columns": null,
      "grid_auto_flow": null,
      "grid_auto_rows": null,
      "grid_column": null,
      "grid_gap": null,
      "grid_row": null,
      "grid_template_areas": null,
      "grid_template_columns": null,
      "grid_template_rows": null,
      "height": null,
      "justify_content": null,
      "justify_items": null,
      "left": null,
      "margin": null,
      "max_height": null,
      "max_width": null,
      "min_height": null,
      "min_width": null,
      "object_fit": null,
      "object_position": null,
      "order": null,
      "overflow": null,
      "overflow_x": null,
      "overflow_y": null,
      "padding": null,
      "right": null,
      "top": null,
      "visibility": null,
      "width": null
     }
    },
    "4312bfd7642242f9910a91463fb3e681": {
     "model_module": "@jupyter-widgets/base",
     "model_module_version": "1.2.0",
     "model_name": "LayoutModel",
     "state": {
      "_model_module": "@jupyter-widgets/base",
      "_model_module_version": "1.2.0",
      "_model_name": "LayoutModel",
      "_view_count": null,
      "_view_module": "@jupyter-widgets/base",
      "_view_module_version": "1.2.0",
      "_view_name": "LayoutView",
      "align_content": null,
      "align_items": null,
      "align_self": null,
      "border": null,
      "bottom": null,
      "display": null,
      "flex": null,
      "flex_flow": null,
      "grid_area": null,
      "grid_auto_columns": null,
      "grid_auto_flow": null,
      "grid_auto_rows": null,
      "grid_column": null,
      "grid_gap": null,
      "grid_row": null,
      "grid_template_areas": null,
      "grid_template_columns": null,
      "grid_template_rows": null,
      "height": null,
      "justify_content": null,
      "justify_items": null,
      "left": null,
      "margin": null,
      "max_height": null,
      "max_width": null,
      "min_height": null,
      "min_width": null,
      "object_fit": null,
      "object_position": null,
      "order": null,
      "overflow": null,
      "overflow_x": null,
      "overflow_y": null,
      "padding": null,
      "right": null,
      "top": null,
      "visibility": null,
      "width": null
     }
    },
    "451fc682f8974c239f73c68e39fa0418": {
     "model_module": "@jupyter-widgets/base",
     "model_module_version": "1.2.0",
     "model_name": "LayoutModel",
     "state": {
      "_model_module": "@jupyter-widgets/base",
      "_model_module_version": "1.2.0",
      "_model_name": "LayoutModel",
      "_view_count": null,
      "_view_module": "@jupyter-widgets/base",
      "_view_module_version": "1.2.0",
      "_view_name": "LayoutView",
      "align_content": null,
      "align_items": null,
      "align_self": null,
      "border": null,
      "bottom": null,
      "display": null,
      "flex": null,
      "flex_flow": null,
      "grid_area": null,
      "grid_auto_columns": null,
      "grid_auto_flow": null,
      "grid_auto_rows": null,
      "grid_column": null,
      "grid_gap": null,
      "grid_row": null,
      "grid_template_areas": null,
      "grid_template_columns": null,
      "grid_template_rows": null,
      "height": null,
      "justify_content": null,
      "justify_items": null,
      "left": null,
      "margin": null,
      "max_height": null,
      "max_width": null,
      "min_height": null,
      "min_width": null,
      "object_fit": null,
      "object_position": null,
      "order": null,
      "overflow": null,
      "overflow_x": null,
      "overflow_y": null,
      "padding": null,
      "right": null,
      "top": null,
      "visibility": null,
      "width": null
     }
    },
    "493791ffe2ea4114b08ce89a9b8877ef": {
     "model_module": "@jupyter-widgets/controls",
     "model_module_version": "1.5.0",
     "model_name": "HBoxModel",
     "state": {
      "_dom_classes": [],
      "_model_module": "@jupyter-widgets/controls",
      "_model_module_version": "1.5.0",
      "_model_name": "HBoxModel",
      "_view_count": null,
      "_view_module": "@jupyter-widgets/controls",
      "_view_module_version": "1.5.0",
      "_view_name": "HBoxView",
      "box_style": "",
      "children": [
       "IPY_MODEL_f792119aa96e40d6b0f9bbbc46b6c24c",
       "IPY_MODEL_ef3e9a858b2e42488d694d9cdbae62c5",
       "IPY_MODEL_12e037f26b3e452e868e4439e68f2803"
      ],
      "layout": "IPY_MODEL_38293af02fba4abdb9d011aae7af127c"
     }
    },
    "4a74e4d76b414b258b66cd5900e54efb": {
     "model_module": "@jupyter-widgets/base",
     "model_module_version": "1.2.0",
     "model_name": "LayoutModel",
     "state": {
      "_model_module": "@jupyter-widgets/base",
      "_model_module_version": "1.2.0",
      "_model_name": "LayoutModel",
      "_view_count": null,
      "_view_module": "@jupyter-widgets/base",
      "_view_module_version": "1.2.0",
      "_view_name": "LayoutView",
      "align_content": null,
      "align_items": null,
      "align_self": null,
      "border": null,
      "bottom": null,
      "display": null,
      "flex": null,
      "flex_flow": null,
      "grid_area": null,
      "grid_auto_columns": null,
      "grid_auto_flow": null,
      "grid_auto_rows": null,
      "grid_column": null,
      "grid_gap": null,
      "grid_row": null,
      "grid_template_areas": null,
      "grid_template_columns": null,
      "grid_template_rows": null,
      "height": null,
      "justify_content": null,
      "justify_items": null,
      "left": null,
      "margin": null,
      "max_height": null,
      "max_width": null,
      "min_height": null,
      "min_width": null,
      "object_fit": null,
      "object_position": null,
      "order": null,
      "overflow": null,
      "overflow_x": null,
      "overflow_y": null,
      "padding": null,
      "right": null,
      "top": null,
      "visibility": null,
      "width": null
     }
    },
    "4f2692790a2b48288f276cf50f9bb278": {
     "model_module": "@jupyter-widgets/controls",
     "model_module_version": "1.5.0",
     "model_name": "HBoxModel",
     "state": {
      "_dom_classes": [],
      "_model_module": "@jupyter-widgets/controls",
      "_model_module_version": "1.5.0",
      "_model_name": "HBoxModel",
      "_view_count": null,
      "_view_module": "@jupyter-widgets/controls",
      "_view_module_version": "1.5.0",
      "_view_name": "HBoxView",
      "box_style": "",
      "children": [
       "IPY_MODEL_eb2307cb0f08409a8659e4f1721ee1e9",
       "IPY_MODEL_f826ba2288f342ddaf35a45cd31d2978",
       "IPY_MODEL_296c6ba5f1a44b5a850d164cf9ecf6e8"
      ],
      "layout": "IPY_MODEL_a730e1866813436faf37146ecbb08b0b"
     }
    },
    "5102dc80e5074c6aa74ab0e2cf2de1df": {
     "model_module": "@jupyter-widgets/controls",
     "model_module_version": "1.5.0",
     "model_name": "DescriptionStyleModel",
     "state": {
      "_model_module": "@jupyter-widgets/controls",
      "_model_module_version": "1.5.0",
      "_model_name": "DescriptionStyleModel",
      "_view_count": null,
      "_view_module": "@jupyter-widgets/base",
      "_view_module_version": "1.2.0",
      "_view_name": "StyleView",
      "description_width": ""
     }
    },
    "525cebf925da45eab4d484e290d47e88": {
     "model_module": "@jupyter-widgets/controls",
     "model_module_version": "1.5.0",
     "model_name": "HTMLModel",
     "state": {
      "_dom_classes": [],
      "_model_module": "@jupyter-widgets/controls",
      "_model_module_version": "1.5.0",
      "_model_name": "HTMLModel",
      "_view_count": null,
      "_view_module": "@jupyter-widgets/controls",
      "_view_module_version": "1.5.0",
      "_view_name": "HTMLView",
      "description": "",
      "description_tooltip": null,
      "layout": "IPY_MODEL_451fc682f8974c239f73c68e39fa0418",
      "placeholder": "​",
      "style": "IPY_MODEL_602622e4cb6545c5a354456cf84b0a3f",
      "value": "config.json: 100%"
     }
    },
    "5528450e97b54ff0a97f541283ecb279": {
     "model_module": "@jupyter-widgets/base",
     "model_module_version": "1.2.0",
     "model_name": "LayoutModel",
     "state": {
      "_model_module": "@jupyter-widgets/base",
      "_model_module_version": "1.2.0",
      "_model_name": "LayoutModel",
      "_view_count": null,
      "_view_module": "@jupyter-widgets/base",
      "_view_module_version": "1.2.0",
      "_view_name": "LayoutView",
      "align_content": null,
      "align_items": null,
      "align_self": null,
      "border": null,
      "bottom": null,
      "display": null,
      "flex": null,
      "flex_flow": null,
      "grid_area": null,
      "grid_auto_columns": null,
      "grid_auto_flow": null,
      "grid_auto_rows": null,
      "grid_column": null,
      "grid_gap": null,
      "grid_row": null,
      "grid_template_areas": null,
      "grid_template_columns": null,
      "grid_template_rows": null,
      "height": null,
      "justify_content": null,
      "justify_items": null,
      "left": null,
      "margin": null,
      "max_height": null,
      "max_width": null,
      "min_height": null,
      "min_width": null,
      "object_fit": null,
      "object_position": null,
      "order": null,
      "overflow": null,
      "overflow_x": null,
      "overflow_y": null,
      "padding": null,
      "right": null,
      "top": null,
      "visibility": null,
      "width": null
     }
    },
    "55bc5cf6db58408487be2ee0330fa0ba": {
     "model_module": "@jupyter-widgets/controls",
     "model_module_version": "1.5.0",
     "model_name": "DescriptionStyleModel",
     "state": {
      "_model_module": "@jupyter-widgets/controls",
      "_model_module_version": "1.5.0",
      "_model_name": "DescriptionStyleModel",
      "_view_count": null,
      "_view_module": "@jupyter-widgets/base",
      "_view_module_version": "1.2.0",
      "_view_name": "StyleView",
      "description_width": ""
     }
    },
    "574c1d61d1a34e4c8aa4bea2621510fe": {
     "model_module": "@jupyter-widgets/controls",
     "model_module_version": "1.5.0",
     "model_name": "ProgressStyleModel",
     "state": {
      "_model_module": "@jupyter-widgets/controls",
      "_model_module_version": "1.5.0",
      "_model_name": "ProgressStyleModel",
      "_view_count": null,
      "_view_module": "@jupyter-widgets/base",
      "_view_module_version": "1.2.0",
      "_view_name": "StyleView",
      "bar_color": null,
      "description_width": ""
     }
    },
    "59c57ff693da41c18ccc4c6eb6d7f6e3": {
     "model_module": "@jupyter-widgets/controls",
     "model_module_version": "1.5.0",
     "model_name": "ProgressStyleModel",
     "state": {
      "_model_module": "@jupyter-widgets/controls",
      "_model_module_version": "1.5.0",
      "_model_name": "ProgressStyleModel",
      "_view_count": null,
      "_view_module": "@jupyter-widgets/base",
      "_view_module_version": "1.2.0",
      "_view_name": "StyleView",
      "bar_color": null,
      "description_width": ""
     }
    },
    "5a73d8125182473c9433f527f0469737": {
     "model_module": "@jupyter-widgets/base",
     "model_module_version": "1.2.0",
     "model_name": "LayoutModel",
     "state": {
      "_model_module": "@jupyter-widgets/base",
      "_model_module_version": "1.2.0",
      "_model_name": "LayoutModel",
      "_view_count": null,
      "_view_module": "@jupyter-widgets/base",
      "_view_module_version": "1.2.0",
      "_view_name": "LayoutView",
      "align_content": null,
      "align_items": null,
      "align_self": null,
      "border": null,
      "bottom": null,
      "display": null,
      "flex": null,
      "flex_flow": null,
      "grid_area": null,
      "grid_auto_columns": null,
      "grid_auto_flow": null,
      "grid_auto_rows": null,
      "grid_column": null,
      "grid_gap": null,
      "grid_row": null,
      "grid_template_areas": null,
      "grid_template_columns": null,
      "grid_template_rows": null,
      "height": null,
      "justify_content": null,
      "justify_items": null,
      "left": null,
      "margin": null,
      "max_height": null,
      "max_width": null,
      "min_height": null,
      "min_width": null,
      "object_fit": null,
      "object_position": null,
      "order": null,
      "overflow": null,
      "overflow_x": null,
      "overflow_y": null,
      "padding": null,
      "right": null,
      "top": null,
      "visibility": null,
      "width": null
     }
    },
    "602622e4cb6545c5a354456cf84b0a3f": {
     "model_module": "@jupyter-widgets/controls",
     "model_module_version": "1.5.0",
     "model_name": "DescriptionStyleModel",
     "state": {
      "_model_module": "@jupyter-widgets/controls",
      "_model_module_version": "1.5.0",
      "_model_name": "DescriptionStyleModel",
      "_view_count": null,
      "_view_module": "@jupyter-widgets/base",
      "_view_module_version": "1.2.0",
      "_view_name": "StyleView",
      "description_width": ""
     }
    },
    "6727983ee810448fa4da77a18719b74c": {
     "model_module": "@jupyter-widgets/controls",
     "model_module_version": "1.5.0",
     "model_name": "FloatProgressModel",
     "state": {
      "_dom_classes": [],
      "_model_module": "@jupyter-widgets/controls",
      "_model_module_version": "1.5.0",
      "_model_name": "FloatProgressModel",
      "_view_count": null,
      "_view_module": "@jupyter-widgets/controls",
      "_view_module_version": "1.5.0",
      "_view_name": "ProgressView",
      "bar_style": "success",
      "description": "",
      "description_tooltip": null,
      "layout": "IPY_MODEL_a61b563b229e4b5f917f96f684f02533",
      "max": 480,
      "min": 0,
      "orientation": "horizontal",
      "style": "IPY_MODEL_59c57ff693da41c18ccc4c6eb6d7f6e3",
      "value": 480
     }
    },
    "6949981996c64f03ad70a89b1bbf56f3": {
     "model_module": "@jupyter-widgets/controls",
     "model_module_version": "1.5.0",
     "model_name": "FloatProgressModel",
     "state": {
      "_dom_classes": [],
      "_model_module": "@jupyter-widgets/controls",
      "_model_module_version": "1.5.0",
      "_model_name": "FloatProgressModel",
      "_view_count": null,
      "_view_module": "@jupyter-widgets/controls",
      "_view_module_version": "1.5.0",
      "_view_name": "ProgressView",
      "bar_style": "success",
      "description": "",
      "description_tooltip": null,
      "layout": "IPY_MODEL_5a73d8125182473c9433f527f0469737",
      "max": 898823,
      "min": 0,
      "orientation": "horizontal",
      "style": "IPY_MODEL_26d84eb49b2e43a58b3dc02c22a19939",
      "value": 898823
     }
    },
    "6d96c7a390f448adbc23cd32d4b1ecec": {
     "model_module": "@jupyter-widgets/base",
     "model_module_version": "1.2.0",
     "model_name": "LayoutModel",
     "state": {
      "_model_module": "@jupyter-widgets/base",
      "_model_module_version": "1.2.0",
      "_model_name": "LayoutModel",
      "_view_count": null,
      "_view_module": "@jupyter-widgets/base",
      "_view_module_version": "1.2.0",
      "_view_name": "LayoutView",
      "align_content": null,
      "align_items": null,
      "align_self": null,
      "border": null,
      "bottom": null,
      "display": null,
      "flex": null,
      "flex_flow": null,
      "grid_area": null,
      "grid_auto_columns": null,
      "grid_auto_flow": null,
      "grid_auto_rows": null,
      "grid_column": null,
      "grid_gap": null,
      "grid_row": null,
      "grid_template_areas": null,
      "grid_template_columns": null,
      "grid_template_rows": null,
      "height": null,
      "justify_content": null,
      "justify_items": null,
      "left": null,
      "margin": null,
      "max_height": null,
      "max_width": null,
      "min_height": null,
      "min_width": null,
      "object_fit": null,
      "object_position": null,
      "order": null,
      "overflow": null,
      "overflow_x": null,
      "overflow_y": null,
      "padding": null,
      "right": null,
      "top": null,
      "visibility": null,
      "width": null
     }
    },
    "6fc4ad4e67a947c9869edb73cd8b4dd2": {
     "model_module": "@jupyter-widgets/controls",
     "model_module_version": "1.5.0",
     "model_name": "DescriptionStyleModel",
     "state": {
      "_model_module": "@jupyter-widgets/controls",
      "_model_module_version": "1.5.0",
      "_model_name": "DescriptionStyleModel",
      "_view_count": null,
      "_view_module": "@jupyter-widgets/base",
      "_view_module_version": "1.2.0",
      "_view_name": "StyleView",
      "description_width": ""
     }
    },
    "70f514713c77420289b8b2df94b18257": {
     "model_module": "@jupyter-widgets/base",
     "model_module_version": "1.2.0",
     "model_name": "LayoutModel",
     "state": {
      "_model_module": "@jupyter-widgets/base",
      "_model_module_version": "1.2.0",
      "_model_name": "LayoutModel",
      "_view_count": null,
      "_view_module": "@jupyter-widgets/base",
      "_view_module_version": "1.2.0",
      "_view_name": "LayoutView",
      "align_content": null,
      "align_items": null,
      "align_self": null,
      "border": null,
      "bottom": null,
      "display": null,
      "flex": null,
      "flex_flow": null,
      "grid_area": null,
      "grid_auto_columns": null,
      "grid_auto_flow": null,
      "grid_auto_rows": null,
      "grid_column": null,
      "grid_gap": null,
      "grid_row": null,
      "grid_template_areas": null,
      "grid_template_columns": null,
      "grid_template_rows": null,
      "height": null,
      "justify_content": null,
      "justify_items": null,
      "left": null,
      "margin": null,
      "max_height": null,
      "max_width": null,
      "min_height": null,
      "min_width": null,
      "object_fit": null,
      "object_position": null,
      "order": null,
      "overflow": null,
      "overflow_x": null,
      "overflow_y": null,
      "padding": null,
      "right": null,
      "top": null,
      "visibility": null,
      "width": null
     }
    },
    "743f6182287045a1825471c5be0ad0f2": {
     "model_module": "@jupyter-widgets/base",
     "model_module_version": "1.2.0",
     "model_name": "LayoutModel",
     "state": {
      "_model_module": "@jupyter-widgets/base",
      "_model_module_version": "1.2.0",
      "_model_name": "LayoutModel",
      "_view_count": null,
      "_view_module": "@jupyter-widgets/base",
      "_view_module_version": "1.2.0",
      "_view_name": "LayoutView",
      "align_content": null,
      "align_items": null,
      "align_self": null,
      "border": null,
      "bottom": null,
      "display": null,
      "flex": null,
      "flex_flow": null,
      "grid_area": null,
      "grid_auto_columns": null,
      "grid_auto_flow": null,
      "grid_auto_rows": null,
      "grid_column": null,
      "grid_gap": null,
      "grid_row": null,
      "grid_template_areas": null,
      "grid_template_columns": null,
      "grid_template_rows": null,
      "height": null,
      "justify_content": null,
      "justify_items": null,
      "left": null,
      "margin": null,
      "max_height": null,
      "max_width": null,
      "min_height": null,
      "min_width": null,
      "object_fit": null,
      "object_position": null,
      "order": null,
      "overflow": null,
      "overflow_x": null,
      "overflow_y": null,
      "padding": null,
      "right": null,
      "top": null,
      "visibility": null,
      "width": null
     }
    },
    "761093d092e64dc692bc2e290b07d03e": {
     "model_module": "@jupyter-widgets/controls",
     "model_module_version": "1.5.0",
     "model_name": "DescriptionStyleModel",
     "state": {
      "_model_module": "@jupyter-widgets/controls",
      "_model_module_version": "1.5.0",
      "_model_name": "DescriptionStyleModel",
      "_view_count": null,
      "_view_module": "@jupyter-widgets/base",
      "_view_module_version": "1.2.0",
      "_view_name": "StyleView",
      "description_width": ""
     }
    },
    "762c47a646a547be8d235538c82be59c": {
     "model_module": "@jupyter-widgets/controls",
     "model_module_version": "1.5.0",
     "model_name": "ProgressStyleModel",
     "state": {
      "_model_module": "@jupyter-widgets/controls",
      "_model_module_version": "1.5.0",
      "_model_name": "ProgressStyleModel",
      "_view_count": null,
      "_view_module": "@jupyter-widgets/base",
      "_view_module_version": "1.2.0",
      "_view_name": "StyleView",
      "bar_color": null,
      "description_width": ""
     }
    },
    "7a2d08e563fb4d64a7c92a1a011d6f68": {
     "model_module": "@jupyter-widgets/base",
     "model_module_version": "1.2.0",
     "model_name": "LayoutModel",
     "state": {
      "_model_module": "@jupyter-widgets/base",
      "_model_module_version": "1.2.0",
      "_model_name": "LayoutModel",
      "_view_count": null,
      "_view_module": "@jupyter-widgets/base",
      "_view_module_version": "1.2.0",
      "_view_name": "LayoutView",
      "align_content": null,
      "align_items": null,
      "align_self": null,
      "border": null,
      "bottom": null,
      "display": null,
      "flex": null,
      "flex_flow": null,
      "grid_area": null,
      "grid_auto_columns": null,
      "grid_auto_flow": null,
      "grid_auto_rows": null,
      "grid_column": null,
      "grid_gap": null,
      "grid_row": null,
      "grid_template_areas": null,
      "grid_template_columns": null,
      "grid_template_rows": null,
      "height": null,
      "justify_content": null,
      "justify_items": null,
      "left": null,
      "margin": null,
      "max_height": null,
      "max_width": null,
      "min_height": null,
      "min_width": null,
      "object_fit": null,
      "object_position": null,
      "order": null,
      "overflow": null,
      "overflow_x": null,
      "overflow_y": null,
      "padding": null,
      "right": null,
      "top": null,
      "visibility": null,
      "width": null
     }
    },
    "7cb27bc290234bab82dfc350e0a3b46d": {
     "model_module": "@jupyter-widgets/base",
     "model_module_version": "1.2.0",
     "model_name": "LayoutModel",
     "state": {
      "_model_module": "@jupyter-widgets/base",
      "_model_module_version": "1.2.0",
      "_model_name": "LayoutModel",
      "_view_count": null,
      "_view_module": "@jupyter-widgets/base",
      "_view_module_version": "1.2.0",
      "_view_name": "LayoutView",
      "align_content": null,
      "align_items": null,
      "align_self": null,
      "border": null,
      "bottom": null,
      "display": null,
      "flex": null,
      "flex_flow": null,
      "grid_area": null,
      "grid_auto_columns": null,
      "grid_auto_flow": null,
      "grid_auto_rows": null,
      "grid_column": null,
      "grid_gap": null,
      "grid_row": null,
      "grid_template_areas": null,
      "grid_template_columns": null,
      "grid_template_rows": null,
      "height": null,
      "justify_content": null,
      "justify_items": null,
      "left": null,
      "margin": null,
      "max_height": null,
      "max_width": null,
      "min_height": null,
      "min_width": null,
      "object_fit": null,
      "object_position": null,
      "order": null,
      "overflow": null,
      "overflow_x": null,
      "overflow_y": null,
      "padding": null,
      "right": null,
      "top": null,
      "visibility": null,
      "width": null
     }
    },
    "85205169e8504c43b5fbf36eff231ee0": {
     "model_module": "@jupyter-widgets/controls",
     "model_module_version": "1.5.0",
     "model_name": "DescriptionStyleModel",
     "state": {
      "_model_module": "@jupyter-widgets/controls",
      "_model_module_version": "1.5.0",
      "_model_name": "DescriptionStyleModel",
      "_view_count": null,
      "_view_module": "@jupyter-widgets/base",
      "_view_module_version": "1.2.0",
      "_view_name": "StyleView",
      "description_width": ""
     }
    },
    "854c564e61e0456db4e4bc0676a526e8": {
     "model_module": "@jupyter-widgets/controls",
     "model_module_version": "1.5.0",
     "model_name": "HTMLModel",
     "state": {
      "_dom_classes": [],
      "_model_module": "@jupyter-widgets/controls",
      "_model_module_version": "1.5.0",
      "_model_name": "HTMLModel",
      "_view_count": null,
      "_view_module": "@jupyter-widgets/controls",
      "_view_module_version": "1.5.0",
      "_view_name": "HTMLView",
      "description": "",
      "description_tooltip": null,
      "layout": "IPY_MODEL_218a0d2898f6480db2bdf53245c8bd22",
      "placeholder": "​",
      "style": "IPY_MODEL_ae19ab8ab6f24f1ca9565c25487e118e",
      "value": " 25.0/25.0 [00:00&lt;00:00, 2.35kB/s]"
     }
    },
    "858317dd5a084e5395ff93e1f8321bac": {
     "model_module": "@jupyter-widgets/base",
     "model_module_version": "1.2.0",
     "model_name": "LayoutModel",
     "state": {
      "_model_module": "@jupyter-widgets/base",
      "_model_module_version": "1.2.0",
      "_model_name": "LayoutModel",
      "_view_count": null,
      "_view_module": "@jupyter-widgets/base",
      "_view_module_version": "1.2.0",
      "_view_name": "LayoutView",
      "align_content": null,
      "align_items": null,
      "align_self": null,
      "border": null,
      "bottom": null,
      "display": null,
      "flex": null,
      "flex_flow": null,
      "grid_area": null,
      "grid_auto_columns": null,
      "grid_auto_flow": null,
      "grid_auto_rows": null,
      "grid_column": null,
      "grid_gap": null,
      "grid_row": null,
      "grid_template_areas": null,
      "grid_template_columns": null,
      "grid_template_rows": null,
      "height": null,
      "justify_content": null,
      "justify_items": null,
      "left": null,
      "margin": null,
      "max_height": null,
      "max_width": null,
      "min_height": null,
      "min_width": null,
      "object_fit": null,
      "object_position": null,
      "order": null,
      "overflow": null,
      "overflow_x": null,
      "overflow_y": null,
      "padding": null,
      "right": null,
      "top": null,
      "visibility": null,
      "width": null
     }
    },
    "87f4b61e3444455f82b03c48688e30a7": {
     "model_module": "@jupyter-widgets/controls",
     "model_module_version": "1.5.0",
     "model_name": "HBoxModel",
     "state": {
      "_dom_classes": [],
      "_model_module": "@jupyter-widgets/controls",
      "_model_module_version": "1.5.0",
      "_model_name": "HBoxModel",
      "_view_count": null,
      "_view_module": "@jupyter-widgets/controls",
      "_view_module_version": "1.5.0",
      "_view_name": "HBoxView",
      "box_style": "",
      "children": [
       "IPY_MODEL_e5b6fcde80594c1ebd8d5b8f80d748ac",
       "IPY_MODEL_0c416aceed504ff8a626736d197ce2d5",
       "IPY_MODEL_c4a5b4c3980e4cf48f06ee93896b4f25"
      ],
      "layout": "IPY_MODEL_4312bfd7642242f9910a91463fb3e681"
     }
    },
    "8d0c869c380b4f1d8046dcacbfd51a2a": {
     "model_module": "@jupyter-widgets/controls",
     "model_module_version": "1.5.0",
     "model_name": "HTMLModel",
     "state": {
      "_dom_classes": [],
      "_model_module": "@jupyter-widgets/controls",
      "_model_module_version": "1.5.0",
      "_model_name": "HTMLModel",
      "_view_count": null,
      "_view_module": "@jupyter-widgets/controls",
      "_view_module_version": "1.5.0",
      "_view_name": "HTMLView",
      "description": "",
      "description_tooltip": null,
      "layout": "IPY_MODEL_facf18b9f3cf4478b60090df74cd2c07",
      "placeholder": "​",
      "style": "IPY_MODEL_5102dc80e5074c6aa74ab0e2cf2de1df",
      "value": "tokenizer_config.json: 100%"
     }
    },
    "9a56d6858d0d42e9b3053200a6f00cd3": {
     "model_module": "@jupyter-widgets/base",
     "model_module_version": "1.2.0",
     "model_name": "LayoutModel",
     "state": {
      "_model_module": "@jupyter-widgets/base",
      "_model_module_version": "1.2.0",
      "_model_name": "LayoutModel",
      "_view_count": null,
      "_view_module": "@jupyter-widgets/base",
      "_view_module_version": "1.2.0",
      "_view_name": "LayoutView",
      "align_content": null,
      "align_items": null,
      "align_self": null,
      "border": null,
      "bottom": null,
      "display": null,
      "flex": null,
      "flex_flow": null,
      "grid_area": null,
      "grid_auto_columns": null,
      "grid_auto_flow": null,
      "grid_auto_rows": null,
      "grid_column": null,
      "grid_gap": null,
      "grid_row": null,
      "grid_template_areas": null,
      "grid_template_columns": null,
      "grid_template_rows": null,
      "height": null,
      "justify_content": null,
      "justify_items": null,
      "left": null,
      "margin": null,
      "max_height": null,
      "max_width": null,
      "min_height": null,
      "min_width": null,
      "object_fit": null,
      "object_position": null,
      "order": null,
      "overflow": null,
      "overflow_x": null,
      "overflow_y": null,
      "padding": null,
      "right": null,
      "top": null,
      "visibility": null,
      "width": null
     }
    },
    "a50a515e6de44784a527abe76d5e753a": {
     "model_module": "@jupyter-widgets/controls",
     "model_module_version": "1.5.0",
     "model_name": "HBoxModel",
     "state": {
      "_dom_classes": [],
      "_model_module": "@jupyter-widgets/controls",
      "_model_module_version": "1.5.0",
      "_model_name": "HBoxModel",
      "_view_count": null,
      "_view_module": "@jupyter-widgets/controls",
      "_view_module_version": "1.5.0",
      "_view_name": "HBoxView",
      "box_style": "",
      "children": [
       "IPY_MODEL_525cebf925da45eab4d484e290d47e88",
       "IPY_MODEL_6727983ee810448fa4da77a18719b74c",
       "IPY_MODEL_2b588dc51d05485f9d764b9d2cbdd6dc"
      ],
      "layout": "IPY_MODEL_3eedde61a5de4f59935695adc0c2a091"
     }
    },
    "a61b563b229e4b5f917f96f684f02533": {
     "model_module": "@jupyter-widgets/base",
     "model_module_version": "1.2.0",
     "model_name": "LayoutModel",
     "state": {
      "_model_module": "@jupyter-widgets/base",
      "_model_module_version": "1.2.0",
      "_model_name": "LayoutModel",
      "_view_count": null,
      "_view_module": "@jupyter-widgets/base",
      "_view_module_version": "1.2.0",
      "_view_name": "LayoutView",
      "align_content": null,
      "align_items": null,
      "align_self": null,
      "border": null,
      "bottom": null,
      "display": null,
      "flex": null,
      "flex_flow": null,
      "grid_area": null,
      "grid_auto_columns": null,
      "grid_auto_flow": null,
      "grid_auto_rows": null,
      "grid_column": null,
      "grid_gap": null,
      "grid_row": null,
      "grid_template_areas": null,
      "grid_template_columns": null,
      "grid_template_rows": null,
      "height": null,
      "justify_content": null,
      "justify_items": null,
      "left": null,
      "margin": null,
      "max_height": null,
      "max_width": null,
      "min_height": null,
      "min_width": null,
      "object_fit": null,
      "object_position": null,
      "order": null,
      "overflow": null,
      "overflow_x": null,
      "overflow_y": null,
      "padding": null,
      "right": null,
      "top": null,
      "visibility": null,
      "width": null
     }
    },
    "a730e1866813436faf37146ecbb08b0b": {
     "model_module": "@jupyter-widgets/base",
     "model_module_version": "1.2.0",
     "model_name": "LayoutModel",
     "state": {
      "_model_module": "@jupyter-widgets/base",
      "_model_module_version": "1.2.0",
      "_model_name": "LayoutModel",
      "_view_count": null,
      "_view_module": "@jupyter-widgets/base",
      "_view_module_version": "1.2.0",
      "_view_name": "LayoutView",
      "align_content": null,
      "align_items": null,
      "align_self": null,
      "border": null,
      "bottom": null,
      "display": null,
      "flex": null,
      "flex_flow": null,
      "grid_area": null,
      "grid_auto_columns": null,
      "grid_auto_flow": null,
      "grid_auto_rows": null,
      "grid_column": null,
      "grid_gap": null,
      "grid_row": null,
      "grid_template_areas": null,
      "grid_template_columns": null,
      "grid_template_rows": null,
      "height": null,
      "justify_content": null,
      "justify_items": null,
      "left": null,
      "margin": null,
      "max_height": null,
      "max_width": null,
      "min_height": null,
      "min_width": null,
      "object_fit": null,
      "object_position": null,
      "order": null,
      "overflow": null,
      "overflow_x": null,
      "overflow_y": null,
      "padding": null,
      "right": null,
      "top": null,
      "visibility": null,
      "width": null
     }
    },
    "ac3a5de486dd4095a7e60f8cdc666ac9": {
     "model_module": "@jupyter-widgets/controls",
     "model_module_version": "1.5.0",
     "model_name": "DescriptionStyleModel",
     "state": {
      "_model_module": "@jupyter-widgets/controls",
      "_model_module_version": "1.5.0",
      "_model_name": "DescriptionStyleModel",
      "_view_count": null,
      "_view_module": "@jupyter-widgets/base",
      "_view_module_version": "1.2.0",
      "_view_name": "StyleView",
      "description_width": ""
     }
    },
    "ae19ab8ab6f24f1ca9565c25487e118e": {
     "model_module": "@jupyter-widgets/controls",
     "model_module_version": "1.5.0",
     "model_name": "DescriptionStyleModel",
     "state": {
      "_model_module": "@jupyter-widgets/controls",
      "_model_module_version": "1.5.0",
      "_model_name": "DescriptionStyleModel",
      "_view_count": null,
      "_view_module": "@jupyter-widgets/base",
      "_view_module_version": "1.2.0",
      "_view_name": "StyleView",
      "description_width": ""
     }
    },
    "b1f0371060c64fcbb8c4f9490ba7c2d7": {
     "model_module": "@jupyter-widgets/controls",
     "model_module_version": "1.5.0",
     "model_name": "ProgressStyleModel",
     "state": {
      "_model_module": "@jupyter-widgets/controls",
      "_model_module_version": "1.5.0",
      "_model_name": "ProgressStyleModel",
      "_view_count": null,
      "_view_module": "@jupyter-widgets/base",
      "_view_module_version": "1.2.0",
      "_view_name": "StyleView",
      "bar_color": null,
      "description_width": ""
     }
    },
    "c322667366ce456cb989547cce56df7d": {
     "model_module": "@jupyter-widgets/controls",
     "model_module_version": "1.5.0",
     "model_name": "DescriptionStyleModel",
     "state": {
      "_model_module": "@jupyter-widgets/controls",
      "_model_module_version": "1.5.0",
      "_model_name": "DescriptionStyleModel",
      "_view_count": null,
      "_view_module": "@jupyter-widgets/base",
      "_view_module_version": "1.2.0",
      "_view_name": "StyleView",
      "description_width": ""
     }
    },
    "c4a5b4c3980e4cf48f06ee93896b4f25": {
     "model_module": "@jupyter-widgets/controls",
     "model_module_version": "1.5.0",
     "model_name": "HTMLModel",
     "state": {
      "_dom_classes": [],
      "_model_module": "@jupyter-widgets/controls",
      "_model_module_version": "1.5.0",
      "_model_name": "HTMLModel",
      "_view_count": null,
      "_view_module": "@jupyter-widgets/controls",
      "_view_module_version": "1.5.0",
      "_view_name": "HTMLView",
      "description": "",
      "description_tooltip": null,
      "layout": "IPY_MODEL_d2e0a39d6748499fbe7877b4718d2ae4",
      "placeholder": "​",
      "style": "IPY_MODEL_ac3a5de486dd4095a7e60f8cdc666ac9",
      "value": " 331M/331M [00:02&lt;00:00, 114MB/s]"
     }
    },
    "ce54b4682632405f8bda9013d28bec09": {
     "model_module": "@jupyter-widgets/controls",
     "model_module_version": "1.5.0",
     "model_name": "DescriptionStyleModel",
     "state": {
      "_model_module": "@jupyter-widgets/controls",
      "_model_module_version": "1.5.0",
      "_model_name": "DescriptionStyleModel",
      "_view_count": null,
      "_view_module": "@jupyter-widgets/base",
      "_view_module_version": "1.2.0",
      "_view_name": "StyleView",
      "description_width": ""
     }
    },
    "d07efc076b524e919b1234084319351c": {
     "model_module": "@jupyter-widgets/base",
     "model_module_version": "1.2.0",
     "model_name": "LayoutModel",
     "state": {
      "_model_module": "@jupyter-widgets/base",
      "_model_module_version": "1.2.0",
      "_model_name": "LayoutModel",
      "_view_count": null,
      "_view_module": "@jupyter-widgets/base",
      "_view_module_version": "1.2.0",
      "_view_name": "LayoutView",
      "align_content": null,
      "align_items": null,
      "align_self": null,
      "border": null,
      "bottom": null,
      "display": null,
      "flex": null,
      "flex_flow": null,
      "grid_area": null,
      "grid_auto_columns": null,
      "grid_auto_flow": null,
      "grid_auto_rows": null,
      "grid_column": null,
      "grid_gap": null,
      "grid_row": null,
      "grid_template_areas": null,
      "grid_template_columns": null,
      "grid_template_rows": null,
      "height": null,
      "justify_content": null,
      "justify_items": null,
      "left": null,
      "margin": null,
      "max_height": null,
      "max_width": null,
      "min_height": null,
      "min_width": null,
      "object_fit": null,
      "object_position": null,
      "order": null,
      "overflow": null,
      "overflow_x": null,
      "overflow_y": null,
      "padding": null,
      "right": null,
      "top": null,
      "visibility": null,
      "width": null
     }
    },
    "d2e0a39d6748499fbe7877b4718d2ae4": {
     "model_module": "@jupyter-widgets/base",
     "model_module_version": "1.2.0",
     "model_name": "LayoutModel",
     "state": {
      "_model_module": "@jupyter-widgets/base",
      "_model_module_version": "1.2.0",
      "_model_name": "LayoutModel",
      "_view_count": null,
      "_view_module": "@jupyter-widgets/base",
      "_view_module_version": "1.2.0",
      "_view_name": "LayoutView",
      "align_content": null,
      "align_items": null,
      "align_self": null,
      "border": null,
      "bottom": null,
      "display": null,
      "flex": null,
      "flex_flow": null,
      "grid_area": null,
      "grid_auto_columns": null,
      "grid_auto_flow": null,
      "grid_auto_rows": null,
      "grid_column": null,
      "grid_gap": null,
      "grid_row": null,
      "grid_template_areas": null,
      "grid_template_columns": null,
      "grid_template_rows": null,
      "height": null,
      "justify_content": null,
      "justify_items": null,
      "left": null,
      "margin": null,
      "max_height": null,
      "max_width": null,
      "min_height": null,
      "min_width": null,
      "object_fit": null,
      "object_position": null,
      "order": null,
      "overflow": null,
      "overflow_x": null,
      "overflow_y": null,
      "padding": null,
      "right": null,
      "top": null,
      "visibility": null,
      "width": null
     }
    },
    "dc054598859444febaef3b0b3f4c02bd": {
     "model_module": "@jupyter-widgets/controls",
     "model_module_version": "1.5.0",
     "model_name": "HTMLModel",
     "state": {
      "_dom_classes": [],
      "_model_module": "@jupyter-widgets/controls",
      "_model_module_version": "1.5.0",
      "_model_name": "HTMLModel",
      "_view_count": null,
      "_view_module": "@jupyter-widgets/controls",
      "_view_module_version": "1.5.0",
      "_view_name": "HTMLView",
      "description": "",
      "description_tooltip": null,
      "layout": "IPY_MODEL_5528450e97b54ff0a97f541283ecb279",
      "placeholder": "​",
      "style": "IPY_MODEL_e7b47ef10d5f4a8ebe39436e66817ad7",
      "value": " 899k/899k [00:00&lt;00:00, 8.73MB/s]"
     }
    },
    "de892fd67bb94b7ebe205f9f4dd84319": {
     "model_module": "@jupyter-widgets/base",
     "model_module_version": "1.2.0",
     "model_name": "LayoutModel",
     "state": {
      "_model_module": "@jupyter-widgets/base",
      "_model_module_version": "1.2.0",
      "_model_name": "LayoutModel",
      "_view_count": null,
      "_view_module": "@jupyter-widgets/base",
      "_view_module_version": "1.2.0",
      "_view_name": "LayoutView",
      "align_content": null,
      "align_items": null,
      "align_self": null,
      "border": null,
      "bottom": null,
      "display": null,
      "flex": null,
      "flex_flow": null,
      "grid_area": null,
      "grid_auto_columns": null,
      "grid_auto_flow": null,
      "grid_auto_rows": null,
      "grid_column": null,
      "grid_gap": null,
      "grid_row": null,
      "grid_template_areas": null,
      "grid_template_columns": null,
      "grid_template_rows": null,
      "height": null,
      "justify_content": null,
      "justify_items": null,
      "left": null,
      "margin": null,
      "max_height": null,
      "max_width": null,
      "min_height": null,
      "min_width": null,
      "object_fit": null,
      "object_position": null,
      "order": null,
      "overflow": null,
      "overflow_x": null,
      "overflow_y": null,
      "padding": null,
      "right": null,
      "top": null,
      "visibility": null,
      "width": null
     }
    },
    "e29d56c80da142e38ed4c7aa0e956387": {
     "model_module": "@jupyter-widgets/controls",
     "model_module_version": "1.5.0",
     "model_name": "HBoxModel",
     "state": {
      "_dom_classes": [],
      "_model_module": "@jupyter-widgets/controls",
      "_model_module_version": "1.5.0",
      "_model_name": "HBoxModel",
      "_view_count": null,
      "_view_module": "@jupyter-widgets/controls",
      "_view_module_version": "1.5.0",
      "_view_name": "HBoxView",
      "box_style": "",
      "children": [
       "IPY_MODEL_2236a4160ee24168b9bd2f5fd2c3233d",
       "IPY_MODEL_6949981996c64f03ad70a89b1bbf56f3",
       "IPY_MODEL_dc054598859444febaef3b0b3f4c02bd"
      ],
      "layout": "IPY_MODEL_858317dd5a084e5395ff93e1f8321bac"
     }
    },
    "e5b6fcde80594c1ebd8d5b8f80d748ac": {
     "model_module": "@jupyter-widgets/controls",
     "model_module_version": "1.5.0",
     "model_name": "HTMLModel",
     "state": {
      "_dom_classes": [],
      "_model_module": "@jupyter-widgets/controls",
      "_model_module_version": "1.5.0",
      "_model_name": "HTMLModel",
      "_view_count": null,
      "_view_module": "@jupyter-widgets/controls",
      "_view_module_version": "1.5.0",
      "_view_name": "HTMLView",
      "description": "",
      "description_tooltip": null,
      "layout": "IPY_MODEL_6d96c7a390f448adbc23cd32d4b1ecec",
      "placeholder": "​",
      "style": "IPY_MODEL_ce54b4682632405f8bda9013d28bec09",
      "value": "model.safetensors: 100%"
     }
    },
    "e7b47ef10d5f4a8ebe39436e66817ad7": {
     "model_module": "@jupyter-widgets/controls",
     "model_module_version": "1.5.0",
     "model_name": "DescriptionStyleModel",
     "state": {
      "_model_module": "@jupyter-widgets/controls",
      "_model_module_version": "1.5.0",
      "_model_name": "DescriptionStyleModel",
      "_view_count": null,
      "_view_module": "@jupyter-widgets/base",
      "_view_module_version": "1.2.0",
      "_view_name": "StyleView",
      "description_width": ""
     }
    },
    "e88ef94ea2e043ca8cee210ac2efbc00": {
     "model_module": "@jupyter-widgets/controls",
     "model_module_version": "1.5.0",
     "model_name": "ProgressStyleModel",
     "state": {
      "_model_module": "@jupyter-widgets/controls",
      "_model_module_version": "1.5.0",
      "_model_name": "ProgressStyleModel",
      "_view_count": null,
      "_view_module": "@jupyter-widgets/base",
      "_view_module_version": "1.2.0",
      "_view_name": "StyleView",
      "bar_color": null,
      "description_width": ""
     }
    },
    "eb2307cb0f08409a8659e4f1721ee1e9": {
     "model_module": "@jupyter-widgets/controls",
     "model_module_version": "1.5.0",
     "model_name": "HTMLModel",
     "state": {
      "_dom_classes": [],
      "_model_module": "@jupyter-widgets/controls",
      "_model_module_version": "1.5.0",
      "_model_name": "HTMLModel",
      "_view_count": null,
      "_view_module": "@jupyter-widgets/controls",
      "_view_module_version": "1.5.0",
      "_view_name": "HTMLView",
      "description": "",
      "description_tooltip": null,
      "layout": "IPY_MODEL_743f6182287045a1825471c5be0ad0f2",
      "placeholder": "​",
      "style": "IPY_MODEL_85205169e8504c43b5fbf36eff231ee0",
      "value": "tokenizer.json: 100%"
     }
    },
    "ef3e9a858b2e42488d694d9cdbae62c5": {
     "model_module": "@jupyter-widgets/controls",
     "model_module_version": "1.5.0",
     "model_name": "FloatProgressModel",
     "state": {
      "_dom_classes": [],
      "_model_module": "@jupyter-widgets/controls",
      "_model_module_version": "1.5.0",
      "_model_name": "FloatProgressModel",
      "_view_count": null,
      "_view_module": "@jupyter-widgets/controls",
      "_view_module_version": "1.5.0",
      "_view_name": "ProgressView",
      "bar_style": "success",
      "description": "",
      "description_tooltip": null,
      "layout": "IPY_MODEL_70f514713c77420289b8b2df94b18257",
      "max": 456318,
      "min": 0,
      "orientation": "horizontal",
      "style": "IPY_MODEL_762c47a646a547be8d235538c82be59c",
      "value": 456318
     }
    },
    "f31c4ba9283548bd981fa484b1299f78": {
     "model_module": "@jupyter-widgets/base",
     "model_module_version": "1.2.0",
     "model_name": "LayoutModel",
     "state": {
      "_model_module": "@jupyter-widgets/base",
      "_model_module_version": "1.2.0",
      "_model_name": "LayoutModel",
      "_view_count": null,
      "_view_module": "@jupyter-widgets/base",
      "_view_module_version": "1.2.0",
      "_view_name": "LayoutView",
      "align_content": null,
      "align_items": null,
      "align_self": null,
      "border": null,
      "bottom": null,
      "display": null,
      "flex": null,
      "flex_flow": null,
      "grid_area": null,
      "grid_auto_columns": null,
      "grid_auto_flow": null,
      "grid_auto_rows": null,
      "grid_column": null,
      "grid_gap": null,
      "grid_row": null,
      "grid_template_areas": null,
      "grid_template_columns": null,
      "grid_template_rows": null,
      "height": null,
      "justify_content": null,
      "justify_items": null,
      "left": null,
      "margin": null,
      "max_height": null,
      "max_width": null,
      "min_height": null,
      "min_width": null,
      "object_fit": null,
      "object_position": null,
      "order": null,
      "overflow": null,
      "overflow_x": null,
      "overflow_y": null,
      "padding": null,
      "right": null,
      "top": null,
      "visibility": null,
      "width": null
     }
    },
    "f792119aa96e40d6b0f9bbbc46b6c24c": {
     "model_module": "@jupyter-widgets/controls",
     "model_module_version": "1.5.0",
     "model_name": "HTMLModel",
     "state": {
      "_dom_classes": [],
      "_model_module": "@jupyter-widgets/controls",
      "_model_module_version": "1.5.0",
      "_model_name": "HTMLModel",
      "_view_count": null,
      "_view_module": "@jupyter-widgets/controls",
      "_view_module_version": "1.5.0",
      "_view_name": "HTMLView",
      "description": "",
      "description_tooltip": null,
      "layout": "IPY_MODEL_de892fd67bb94b7ebe205f9f4dd84319",
      "placeholder": "​",
      "style": "IPY_MODEL_761093d092e64dc692bc2e290b07d03e",
      "value": "merges.txt: 100%"
     }
    },
    "f826ba2288f342ddaf35a45cd31d2978": {
     "model_module": "@jupyter-widgets/controls",
     "model_module_version": "1.5.0",
     "model_name": "FloatProgressModel",
     "state": {
      "_dom_classes": [],
      "_model_module": "@jupyter-widgets/controls",
      "_model_module_version": "1.5.0",
      "_model_name": "FloatProgressModel",
      "_view_count": null,
      "_view_module": "@jupyter-widgets/controls",
      "_view_module_version": "1.5.0",
      "_view_name": "ProgressView",
      "bar_style": "success",
      "description": "",
      "description_tooltip": null,
      "layout": "IPY_MODEL_d07efc076b524e919b1234084319351c",
      "max": 1355863,
      "min": 0,
      "orientation": "horizontal",
      "style": "IPY_MODEL_e88ef94ea2e043ca8cee210ac2efbc00",
      "value": 1355863
     }
    },
    "facf18b9f3cf4478b60090df74cd2c07": {
     "model_module": "@jupyter-widgets/base",
     "model_module_version": "1.2.0",
     "model_name": "LayoutModel",
     "state": {
      "_model_module": "@jupyter-widgets/base",
      "_model_module_version": "1.2.0",
      "_model_name": "LayoutModel",
      "_view_count": null,
      "_view_module": "@jupyter-widgets/base",
      "_view_module_version": "1.2.0",
      "_view_name": "LayoutView",
      "align_content": null,
      "align_items": null,
      "align_self": null,
      "border": null,
      "bottom": null,
      "display": null,
      "flex": null,
      "flex_flow": null,
      "grid_area": null,
      "grid_auto_columns": null,
      "grid_auto_flow": null,
      "grid_auto_rows": null,
      "grid_column": null,
      "grid_gap": null,
      "grid_row": null,
      "grid_template_areas": null,
      "grid_template_columns": null,
      "grid_template_rows": null,
      "height": null,
      "justify_content": null,
      "justify_items": null,
      "left": null,
      "margin": null,
      "max_height": null,
      "max_width": null,
      "min_height": null,
      "min_width": null,
      "object_fit": null,
      "object_position": null,
      "order": null,
      "overflow": null,
      "overflow_x": null,
      "overflow_y": null,
      "padding": null,
      "right": null,
      "top": null,
      "visibility": null,
      "width": null
     }
    }
   }
  }
 },
 "nbformat": 4,
 "nbformat_minor": 4
}
