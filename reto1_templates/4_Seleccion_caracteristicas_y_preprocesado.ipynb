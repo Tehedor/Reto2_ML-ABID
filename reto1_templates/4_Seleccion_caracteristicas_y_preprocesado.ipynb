{
 "cells": [
  {
   "cell_type": "markdown",
   "metadata": {},
   "source": [
    "<header style=\"width:100%;position:relative\">\n",
    "  <div style=\"width:80%;float:right;\">\n",
    "    <h1>Challenge Loan Approval Prediction in Pennsylvania</h1>\n",
    "    <h3>Selección de características y preprocesado</h3>\n",
    "    <h5>Grupo 2</h5>\n",
    "  </div>\n",
    "        <img style=\"width:15%;\" src=\"images/logo.jpg\" alt=\"UPM\" />\n",
    "</header>"
   ]
  },
  {
   "cell_type": "markdown",
   "metadata": {},
   "source": [
    "# Índice"
   ]
  },
  {
   "cell_type": "markdown",
   "metadata": {},
   "source": [
    "1. [Importar librerias](#1.-Importar-librerias)\n",
    "2. [Variables globales y funciones auxiliares](#2.-Variables-globales-y-funciones-auxiliares)\n",
    "3. [Carga del dataframe](#3.-Carga-del-dataframe)\n",
    "4. [Análisis y selección de las características](#4.-Analisis-y-seleccion-de-las-caracteristicas)\n",
    "5. [Carga de los datos y división en entrenamiento y test](#5.-Carga-de-los-datos-y-division-en-entrenamiento-y-test)\n",
    "6. [Preprocesado de los datos](#6.-Preprocesado-de-los-datos)\n",
    "    * 6.1 [Introducción](#6.1-Introduccion)\n",
    "    * 6.2 [Casos de preprocesado](#6.2-Casos-de-preprocesado)\n",
    "    * 6.3 [Optimización del preprocesado](#6.3-Optimizacion-del-preprocesado)\n",
    "7. [Referencias](#7.-Referencias)\n"
   ]
  },
  {
   "cell_type": "markdown",
   "metadata": {},
   "source": [
    "## 1. Importar librerias"
   ]
  },
  {
   "cell_type": "code",
   "execution_count": 5,
   "metadata": {
    "vscode": {
     "languageId": "plaintext"
    }
   },
   "outputs": [
    {
     "name": "stdout",
     "output_type": "stream",
     "text": [
      "Todas las librerias fueron correctamente importadas.\n"
     ]
    }
   ],
   "source": [
    "# General import and load data\n",
    "import pandas as pd\n",
    "import numpy as np\n",
    "\n",
    "# Resampling\n",
    "from imblearn.under_sampling import RandomUnderSampler\n",
    "from imblearn.over_sampling import SMOTE\n",
    "\n",
    "# Preprocessing\n",
    "from sklearn.compose import ColumnTransformer\n",
    "from sklearn.decomposition import PCA\n",
    "from sklearn.preprocessing import StandardScaler\n",
    "\n",
    "# Splitting\n",
    "from sklearn.model_selection import train_test_split\n",
    "\n",
    "# Estimators\n",
    "from sklearn.ensemble import RandomForestClassifier\n",
    "\n",
    "# Evaluation\n",
    "from sklearn.model_selection import cross_val_score, KFold\n",
    "from scipy.stats import sem\n",
    "\n",
    "# Visualization\n",
    "import matplotlib.pyplot as plt\n",
    "\n",
    "print(\"Todas las librerias fueron correctamente importadas.\")"
   ]
  },
  {
   "cell_type": "markdown",
   "metadata": {},
   "source": [
    "## 2. Variables globales y funciones auxiliares"
   ]
  },
  {
   "cell_type": "markdown",
   "metadata": {},
   "source": [
    "Se fija un seed para todo el documento para fijar la aleatoriedad y así obtener resultados replicables."
   ]
  },
  {
   "cell_type": "code",
   "execution_count": 8,
   "metadata": {},
   "outputs": [],
   "source": [
    "seed = 42"
   ]
  },
  {
   "cell_type": "markdown",
   "metadata": {},
   "source": [
    "Función utilizada para el calculo de la score media tras un cross validation"
   ]
  },
  {
   "cell_type": "code",
   "execution_count": 10,
   "metadata": {},
   "outputs": [],
   "source": [
    "def mean_score(scores):\n",
    "    return (\"Score media: {0:.3f} (+/- {1:.3f})\").format(np.mean(scores), sem(scores))"
   ]
  },
  {
   "cell_type": "markdown",
   "metadata": {},
   "source": [
    "## 3. Carga del dataframe"
   ]
  },
  {
   "cell_type": "markdown",
   "metadata": {},
   "source": [
    "Se cargan los datos de la ruta *formated/train_exportado.csv*, los cuales son los datos ya procesados por uno de nuestros compañeros."
   ]
  },
  {
   "cell_type": "code",
   "execution_count": 13,
   "metadata": {},
   "outputs": [
    {
     "name": "stdout",
     "output_type": "stream",
     "text": [
      "Datos cargados correctamente\n",
      "\n"
     ]
    }
   ],
   "source": [
    "url = \"formated/train_exportado.csv\"\n",
    "df = pd.read_csv(url)\n",
    "\n",
    "print(\"Datos cargados correctamente\\n\")"
   ]
  },
  {
   "cell_type": "markdown",
   "metadata": {},
   "source": [
    "Se observan las dimensiones del dataframe."
   ]
  },
  {
   "cell_type": "code",
   "execution_count": 15,
   "metadata": {},
   "outputs": [
    {
     "name": "stdout",
     "output_type": "stream",
     "text": [
      "Dimensiones del conjunto de datos: 22575 filas y 32 columnas\n"
     ]
    }
   ],
   "source": [
    "print(f\"Dimensiones del conjunto de datos: {df.shape[0]} filas y {df.shape[1]} columnas\")"
   ]
  },
  {
   "cell_type": "markdown",
   "metadata": {},
   "source": [
    "## 4. Analisis y seleccion de las caracteristicas"
   ]
  },
  {
   "cell_type": "markdown",
   "metadata": {},
   "source": [
    "Se configura pandas para que muestre todas las columnas y después se realiza un head para ver el contenido de las mismas."
   ]
  },
  {
   "cell_type": "code",
   "execution_count": 18,
   "metadata": {},
   "outputs": [
    {
     "data": {
      "text/html": [
       "<div>\n",
       "<style scoped>\n",
       "    .dataframe tbody tr th:only-of-type {\n",
       "        vertical-align: middle;\n",
       "    }\n",
       "\n",
       "    .dataframe tbody tr th {\n",
       "        vertical-align: top;\n",
       "    }\n",
       "\n",
       "    .dataframe thead th {\n",
       "        text-align: right;\n",
       "    }\n",
       "</style>\n",
       "<table border=\"1\" class=\"dataframe\">\n",
       "  <thead>\n",
       "    <tr style=\"text-align: right;\">\n",
       "      <th></th>\n",
       "      <th>ApprovalDate</th>\n",
       "      <th>ApprovalFY</th>\n",
       "      <th>NoEmp</th>\n",
       "      <th>CreateJob</th>\n",
       "      <th>RetainedJob</th>\n",
       "      <th>DisbursementDate</th>\n",
       "      <th>DisbursementGross</th>\n",
       "      <th>Accept</th>\n",
       "      <th>NewExist_Binary</th>\n",
       "      <th>Franchise_Binary</th>\n",
       "      <th>UrbanRural_Binary</th>\n",
       "      <th>RevLineCr_Binary</th>\n",
       "      <th>LowDoc_Binary</th>\n",
       "      <th>ApprovalDate_quarter</th>\n",
       "      <th>DisbursementDate_quarter</th>\n",
       "      <th>Bank_Categorized</th>\n",
       "      <th>Bank_Categorized_cod</th>\n",
       "      <th>BankState_Categorized_cod</th>\n",
       "      <th>ApprovalFY_Grouped</th>\n",
       "      <th>ApprovalFY_Grouped_cod</th>\n",
       "      <th>NoEmp_Grouped</th>\n",
       "      <th>NoEmp_Grouped_cod</th>\n",
       "      <th>CreateJob_Binary</th>\n",
       "      <th>RetainedJob_Binary</th>\n",
       "      <th>DisbursementGross_Grouped</th>\n",
       "      <th>DisbursementGross_Grouped_cod</th>\n",
       "      <th>BankState_DE</th>\n",
       "      <th>BankState_IL</th>\n",
       "      <th>BankState_OH</th>\n",
       "      <th>BankState_Otros</th>\n",
       "      <th>BankState_RI</th>\n",
       "      <th>BankState_Categorized</th>\n",
       "    </tr>\n",
       "  </thead>\n",
       "  <tbody>\n",
       "    <tr>\n",
       "      <th>0</th>\n",
       "      <td>11</td>\n",
       "      <td>2006</td>\n",
       "      <td>2</td>\n",
       "      <td>0</td>\n",
       "      <td>2</td>\n",
       "      <td>12</td>\n",
       "      <td>8000</td>\n",
       "      <td>1</td>\n",
       "      <td>0</td>\n",
       "      <td>0</td>\n",
       "      <td>1</td>\n",
       "      <td>0</td>\n",
       "      <td>0</td>\n",
       "      <td>4</td>\n",
       "      <td>4</td>\n",
       "      <td>CITIZENS BANK NATL ASSOC</td>\n",
       "      <td>1</td>\n",
       "      <td>4</td>\n",
       "      <td>2005-2009</td>\n",
       "      <td>7</td>\n",
       "      <td>1-2</td>\n",
       "      <td>1</td>\n",
       "      <td>0</td>\n",
       "      <td>1</td>\n",
       "      <td>0-30k</td>\n",
       "      <td>0</td>\n",
       "      <td>0</td>\n",
       "      <td>0</td>\n",
       "      <td>0</td>\n",
       "      <td>0</td>\n",
       "      <td>1</td>\n",
       "      <td>RI</td>\n",
       "    </tr>\n",
       "    <tr>\n",
       "      <th>1</th>\n",
       "      <td>6</td>\n",
       "      <td>2005</td>\n",
       "      <td>2</td>\n",
       "      <td>1</td>\n",
       "      <td>2</td>\n",
       "      <td>7</td>\n",
       "      <td>166000</td>\n",
       "      <td>1</td>\n",
       "      <td>0</td>\n",
       "      <td>0</td>\n",
       "      <td>1</td>\n",
       "      <td>0</td>\n",
       "      <td>0</td>\n",
       "      <td>2</td>\n",
       "      <td>3</td>\n",
       "      <td>FIRSTMERIT BANK, N.A.</td>\n",
       "      <td>4</td>\n",
       "      <td>2</td>\n",
       "      <td>2005-2009</td>\n",
       "      <td>7</td>\n",
       "      <td>1-2</td>\n",
       "      <td>1</td>\n",
       "      <td>1</td>\n",
       "      <td>1</td>\n",
       "      <td>150k-500k</td>\n",
       "      <td>3</td>\n",
       "      <td>0</td>\n",
       "      <td>0</td>\n",
       "      <td>1</td>\n",
       "      <td>0</td>\n",
       "      <td>0</td>\n",
       "      <td>OH</td>\n",
       "    </tr>\n",
       "    <tr>\n",
       "      <th>2</th>\n",
       "      <td>3</td>\n",
       "      <td>2003</td>\n",
       "      <td>2</td>\n",
       "      <td>4</td>\n",
       "      <td>2</td>\n",
       "      <td>3</td>\n",
       "      <td>25000</td>\n",
       "      <td>1</td>\n",
       "      <td>0</td>\n",
       "      <td>0</td>\n",
       "      <td>0</td>\n",
       "      <td>1</td>\n",
       "      <td>0</td>\n",
       "      <td>1</td>\n",
       "      <td>1</td>\n",
       "      <td>PNC BANK, NATIONAL ASSOCIATION</td>\n",
       "      <td>9</td>\n",
       "      <td>2</td>\n",
       "      <td>2000-2004</td>\n",
       "      <td>6</td>\n",
       "      <td>1-2</td>\n",
       "      <td>1</td>\n",
       "      <td>1</td>\n",
       "      <td>1</td>\n",
       "      <td>0-30k</td>\n",
       "      <td>0</td>\n",
       "      <td>0</td>\n",
       "      <td>0</td>\n",
       "      <td>1</td>\n",
       "      <td>0</td>\n",
       "      <td>0</td>\n",
       "      <td>OH</td>\n",
       "    </tr>\n",
       "    <tr>\n",
       "      <th>3</th>\n",
       "      <td>6</td>\n",
       "      <td>1995</td>\n",
       "      <td>2</td>\n",
       "      <td>0</td>\n",
       "      <td>0</td>\n",
       "      <td>1</td>\n",
       "      <td>220100</td>\n",
       "      <td>1</td>\n",
       "      <td>0</td>\n",
       "      <td>0</td>\n",
       "      <td>1</td>\n",
       "      <td>0</td>\n",
       "      <td>0</td>\n",
       "      <td>2</td>\n",
       "      <td>1</td>\n",
       "      <td>THE HUNTINGTON NATIONAL BANK</td>\n",
       "      <td>10</td>\n",
       "      <td>2</td>\n",
       "      <td>1995-1999</td>\n",
       "      <td>5</td>\n",
       "      <td>1-2</td>\n",
       "      <td>1</td>\n",
       "      <td>0</td>\n",
       "      <td>0</td>\n",
       "      <td>150k-500k</td>\n",
       "      <td>3</td>\n",
       "      <td>0</td>\n",
       "      <td>0</td>\n",
       "      <td>1</td>\n",
       "      <td>0</td>\n",
       "      <td>0</td>\n",
       "      <td>OH</td>\n",
       "    </tr>\n",
       "    <tr>\n",
       "      <th>4</th>\n",
       "      <td>4</td>\n",
       "      <td>2009</td>\n",
       "      <td>0</td>\n",
       "      <td>0</td>\n",
       "      <td>0</td>\n",
       "      <td>5</td>\n",
       "      <td>25000</td>\n",
       "      <td>0</td>\n",
       "      <td>1</td>\n",
       "      <td>0</td>\n",
       "      <td>1</td>\n",
       "      <td>0</td>\n",
       "      <td>0</td>\n",
       "      <td>2</td>\n",
       "      <td>2</td>\n",
       "      <td>THE HUNTINGTON NATIONAL BANK</td>\n",
       "      <td>10</td>\n",
       "      <td>2</td>\n",
       "      <td>2005-2009</td>\n",
       "      <td>7</td>\n",
       "      <td>0</td>\n",
       "      <td>0</td>\n",
       "      <td>0</td>\n",
       "      <td>0</td>\n",
       "      <td>0-30k</td>\n",
       "      <td>0</td>\n",
       "      <td>0</td>\n",
       "      <td>0</td>\n",
       "      <td>1</td>\n",
       "      <td>0</td>\n",
       "      <td>0</td>\n",
       "      <td>OH</td>\n",
       "    </tr>\n",
       "  </tbody>\n",
       "</table>\n",
       "</div>"
      ],
      "text/plain": [
       "   ApprovalDate  ApprovalFY  NoEmp  CreateJob  RetainedJob  DisbursementDate  \\\n",
       "0            11        2006      2          0            2                12   \n",
       "1             6        2005      2          1            2                 7   \n",
       "2             3        2003      2          4            2                 3   \n",
       "3             6        1995      2          0            0                 1   \n",
       "4             4        2009      0          0            0                 5   \n",
       "\n",
       "   DisbursementGross  Accept  NewExist_Binary  Franchise_Binary  \\\n",
       "0               8000       1                0                 0   \n",
       "1             166000       1                0                 0   \n",
       "2              25000       1                0                 0   \n",
       "3             220100       1                0                 0   \n",
       "4              25000       0                1                 0   \n",
       "\n",
       "   UrbanRural_Binary  RevLineCr_Binary  LowDoc_Binary  ApprovalDate_quarter  \\\n",
       "0                  1                 0              0                     4   \n",
       "1                  1                 0              0                     2   \n",
       "2                  0                 1              0                     1   \n",
       "3                  1                 0              0                     2   \n",
       "4                  1                 0              0                     2   \n",
       "\n",
       "   DisbursementDate_quarter                Bank_Categorized  \\\n",
       "0                         4        CITIZENS BANK NATL ASSOC   \n",
       "1                         3           FIRSTMERIT BANK, N.A.   \n",
       "2                         1  PNC BANK, NATIONAL ASSOCIATION   \n",
       "3                         1    THE HUNTINGTON NATIONAL BANK   \n",
       "4                         2    THE HUNTINGTON NATIONAL BANK   \n",
       "\n",
       "   Bank_Categorized_cod  BankState_Categorized_cod ApprovalFY_Grouped  \\\n",
       "0                     1                          4          2005-2009   \n",
       "1                     4                          2          2005-2009   \n",
       "2                     9                          2          2000-2004   \n",
       "3                    10                          2          1995-1999   \n",
       "4                    10                          2          2005-2009   \n",
       "\n",
       "   ApprovalFY_Grouped_cod NoEmp_Grouped  NoEmp_Grouped_cod  CreateJob_Binary  \\\n",
       "0                       7           1-2                  1                 0   \n",
       "1                       7           1-2                  1                 1   \n",
       "2                       6           1-2                  1                 1   \n",
       "3                       5           1-2                  1                 0   \n",
       "4                       7             0                  0                 0   \n",
       "\n",
       "   RetainedJob_Binary DisbursementGross_Grouped  \\\n",
       "0                   1                     0-30k   \n",
       "1                   1                 150k-500k   \n",
       "2                   1                     0-30k   \n",
       "3                   0                 150k-500k   \n",
       "4                   0                     0-30k   \n",
       "\n",
       "   DisbursementGross_Grouped_cod  BankState_DE  BankState_IL  BankState_OH  \\\n",
       "0                              0             0             0             0   \n",
       "1                              3             0             0             1   \n",
       "2                              0             0             0             1   \n",
       "3                              3             0             0             1   \n",
       "4                              0             0             0             1   \n",
       "\n",
       "   BankState_Otros  BankState_RI BankState_Categorized  \n",
       "0                0             1                    RI  \n",
       "1                0             0                    OH  \n",
       "2                0             0                    OH  \n",
       "3                0             0                    OH  \n",
       "4                0             0                    OH  "
      ]
     },
     "execution_count": 18,
     "metadata": {},
     "output_type": "execute_result"
    }
   ],
   "source": [
    "pd.set_option('display.max_columns', None)\n",
    "df.head()"
   ]
  },
  {
   "cell_type": "markdown",
   "metadata": {},
   "source": [
    "Se muestran todas las columnas para poder observarlas."
   ]
  },
  {
   "cell_type": "code",
   "execution_count": 20,
   "metadata": {},
   "outputs": [
    {
     "data": {
      "text/plain": [
       "Index(['ApprovalDate', 'ApprovalFY', 'NoEmp', 'CreateJob', 'RetainedJob',\n",
       "       'DisbursementDate', 'DisbursementGross', 'Accept', 'NewExist_Binary',\n",
       "       'Franchise_Binary', 'UrbanRural_Binary', 'RevLineCr_Binary',\n",
       "       'LowDoc_Binary', 'ApprovalDate_quarter', 'DisbursementDate_quarter',\n",
       "       'Bank_Categorized', 'Bank_Categorized_cod', 'BankState_Categorized_cod',\n",
       "       'ApprovalFY_Grouped', 'ApprovalFY_Grouped_cod', 'NoEmp_Grouped',\n",
       "       'NoEmp_Grouped_cod', 'CreateJob_Binary', 'RetainedJob_Binary',\n",
       "       'DisbursementGross_Grouped', 'DisbursementGross_Grouped_cod',\n",
       "       'BankState_DE', 'BankState_IL', 'BankState_OH', 'BankState_Otros',\n",
       "       'BankState_RI', 'BankState_Categorized'],\n",
       "      dtype='object')"
      ]
     },
     "execution_count": 20,
     "metadata": {},
     "output_type": "execute_result"
    }
   ],
   "source": [
    "df.columns"
   ]
  },
  {
   "cell_type": "markdown",
   "metadata": {},
   "source": [
    "Se muestran todas las columnas en formato código para que sea más sencillo su uso. Además se estructuran en diversas categorias."
   ]
  },
  {
   "cell_type": "code",
   "execution_count": 22,
   "metadata": {
    "vscode": {
     "languageId": "plaintext"
    }
   },
   "outputs": [],
   "source": [
    "all_features = [\n",
    "    # Caracteristicas numericas\n",
    "    'ApprovalFY', 'NoEmp', 'CreateJob', 'RetainedJob', 'DisbursementGross',\n",
    "\n",
    "    # Caracteristicas categoricas binarias\n",
    "    'NewExist_Binary', 'Franchise_Binary', 'UrbanRural_Binary',\n",
    "    'RevLineCr_Binary', 'LowDoc_Binary', 'CreateJob_Binary',\n",
    "    'RetainedJob_Binary',\n",
    "\n",
    "    # Caracteristicas categoricas codificadas\n",
    "    'ApprovalDate', 'DisbursementDate', 'Bank_Categorized_cod', \n",
    "    'BankState_Categorized_cod', 'ApprovalFY_Grouped_cod', \n",
    "    'NoEmp_Grouped_cod', 'DisbursementGross_Grouped_cod',\n",
    "\n",
    "    # Características con relación temporal\n",
    "    'ApprovalDate_quarter', 'DisbursementDate_quarter',\n",
    "\n",
    "    # Caracteristicas categoricas sin codificadar\n",
    "    'Bank_Categorized', 'ApprovalFY_Grouped',        \n",
    "    'DisbursementGross_Grouped', 'BankState_Categorized',\n",
    "\n",
    "    # Caracteristicas relacionadas con BankState_Categorized tras un One Hot Encoding\n",
    "    'BankState_DE', 'BankState_IL', 'BankState_OH', \n",
    "    'BankState_Otros', 'BankState_RI'\n",
    "]"
   ]
  },
  {
   "cell_type": "markdown",
   "metadata": {},
   "source": [
    "Se seleccionan todas las características a excepción de las categoricas sin codificadar, al ya tener la misma információn codificada."
   ]
  },
  {
   "cell_type": "code",
   "execution_count": 24,
   "metadata": {},
   "outputs": [],
   "source": [
    "selected_features = [\n",
    "    # Caracteristicas numericas\n",
    "    'ApprovalFY', 'NoEmp', 'CreateJob', 'RetainedJob', 'DisbursementGross',\n",
    "\n",
    "    # Caracteristicas categoricas binarias\n",
    "    'NewExist_Binary', 'Franchise_Binary', 'UrbanRural_Binary',\n",
    "    'RevLineCr_Binary', 'LowDoc_Binary', 'CreateJob_Binary',\n",
    "    'RetainedJob_Binary',\n",
    "\n",
    "    # Caracteristicas categoricas codificadas\n",
    "    'Bank_Categorized_cod', 'BankState_Categorized_cod',\n",
    "    'ApprovalFY_Grouped_cod', 'NoEmp_Grouped_cod', \n",
    "    'DisbursementGross_Grouped_cod',\n",
    "\n",
    "     # Time-related features\n",
    "    'ApprovalDate_quarter', 'DisbursementDate_quarter',\n",
    "\n",
    "    # Caracteristicas relacionadas con BankState_Categorized tras un One Hot Encoding\n",
    "    'BankState_DE', 'BankState_IL', 'BankState_OH', \n",
    "    'BankState_Otros', 'BankState_RI'\n",
    "]"
   ]
  },
  {
   "cell_type": "markdown",
   "metadata": {},
   "source": [
    "De las cuales, numéricas son las siguientes:"
   ]
  },
  {
   "cell_type": "code",
   "execution_count": 26,
   "metadata": {},
   "outputs": [],
   "source": [
    "numeric_vars = ['ApprovalFY', 'NoEmp', 'CreateJob', 'RetainedJob', 'DisbursementGross']"
   ]
  },
  {
   "cell_type": "markdown",
   "metadata": {},
   "source": [
    "Comprobamos que solo tenemos tipos númericos, más especificamente enteros."
   ]
  },
  {
   "cell_type": "code",
   "execution_count": 28,
   "metadata": {},
   "outputs": [
    {
     "data": {
      "text/plain": [
       "ApprovalFY                       int64\n",
       "NoEmp                            int64\n",
       "CreateJob                        int64\n",
       "RetainedJob                      int64\n",
       "DisbursementGross                int64\n",
       "NewExist_Binary                  int64\n",
       "Franchise_Binary                 int64\n",
       "UrbanRural_Binary                int64\n",
       "RevLineCr_Binary                 int64\n",
       "LowDoc_Binary                    int64\n",
       "CreateJob_Binary                 int64\n",
       "RetainedJob_Binary               int64\n",
       "Bank_Categorized_cod             int64\n",
       "BankState_Categorized_cod        int64\n",
       "ApprovalFY_Grouped_cod           int64\n",
       "NoEmp_Grouped_cod                int64\n",
       "DisbursementGross_Grouped_cod    int64\n",
       "ApprovalDate_quarter             int64\n",
       "DisbursementDate_quarter         int64\n",
       "BankState_DE                     int64\n",
       "BankState_IL                     int64\n",
       "BankState_OH                     int64\n",
       "BankState_Otros                  int64\n",
       "BankState_RI                     int64\n",
       "dtype: object"
      ]
     },
     "execution_count": 28,
     "metadata": {},
     "output_type": "execute_result"
    }
   ],
   "source": [
    "df[selected_features].dtypes"
   ]
  },
  {
   "cell_type": "markdown",
   "metadata": {},
   "source": [
    "## 5. Carga de los datos y division en entrenamiento y test"
   ]
  },
  {
   "cell_type": "markdown",
   "metadata": {},
   "source": [
    "Cargamos las caracteristicas seleccionadas en la variable X y el objetivo *Accept* en la variable y."
   ]
  },
  {
   "cell_type": "code",
   "execution_count": 31,
   "metadata": {},
   "outputs": [],
   "source": [
    "X = df[selected_features] \n",
    "y = df['Accept'].values"
   ]
  },
  {
   "cell_type": "markdown",
   "metadata": {},
   "source": [
    "Mostramos las dimensiones de ambas variables."
   ]
  },
  {
   "cell_type": "code",
   "execution_count": 33,
   "metadata": {},
   "outputs": [
    {
     "name": "stdout",
     "output_type": "stream",
     "text": [
      "Dimensiones del conjunto de datos: 22575 filas y 24 columnas\n",
      "Dimensiones del conjunto de datos: 22575 filas y 1 columna\n"
     ]
    }
   ],
   "source": [
    "print(f\"Dimensiones del conjunto de datos: {X.shape[0]} filas y {X.shape[1]} columnas\")\n",
    "print(f\"Dimensiones del conjunto de datos: {y.shape[0]} filas y 1 columna\")"
   ]
  },
  {
   "cell_type": "markdown",
   "metadata": {},
   "source": [
    "Obtenemos la distribución del objetivo *Accept*."
   ]
  },
  {
   "cell_type": "code",
   "execution_count": 35,
   "metadata": {},
   "outputs": [
    {
     "name": "stdout",
     "output_type": "stream",
     "text": [
      "1    83.184939\n",
      "0    16.815061\n",
      "Name: count, dtype: float64\n"
     ]
    }
   ],
   "source": [
    "# Calcular los conteos de valores\n",
    "counts = pd.Series(y).value_counts()\n",
    "\n",
    "# Calcular los porcentajes\n",
    "percentages = (counts / len(y)) * 100\n",
    "\n",
    "# Mostrar los resultados\n",
    "print(percentages)"
   ]
  },
  {
   "cell_type": "markdown",
   "metadata": {},
   "source": [
    "En definitiva, observamos que esta desbalanceado"
   ]
  },
  {
   "cell_type": "markdown",
   "metadata": {},
   "source": [
    "Se separa ya en entrenamiento y test para no falsear los datos del test al realizar el balanceo."
   ]
  },
  {
   "cell_type": "code",
   "execution_count": 38,
   "metadata": {},
   "outputs": [],
   "source": [
    "X_train, X_test, y_train, y_test = train_test_split(X, y, test_size=0.2, random_state=seed)"
   ]
  },
  {
   "cell_type": "markdown",
   "metadata": {},
   "source": [
    "## 6. Preprocesado de los datos"
   ]
  },
  {
   "cell_type": "markdown",
   "metadata": {},
   "source": [
    "### 6.1 Introduccion"
   ]
  },
  {
   "cell_type": "markdown",
   "metadata": {},
   "source": [
    "Si observamos el notebook en el que se escogen qué modelos son mejores veremos que se han estándarizado todas las características y se ha realizado un oversampling mediante *SMOTE* con los hiperparámetros por defecto (es decir que hará que la proporcion final sea un 50-50). Después de ello, también se hacía un *PCA* para reducir la dimensionalidad.\n",
    "\n",
    "Al no estar seguros de si esa era la mejor opción, se han realizado seis casuísticas para analizar cual es el mejor orden. El caso 1 hace referencia a estandarizar todas las caracteristicas y realizar un *SMOTE*. El caso 2 hace referencia a estandarizar solo las caracteristicas númericas y realizar un *SMOTE*. El caso 3 hace referencia a estandarizar todas las caracteristicas y realizar un *RandomUnderSampler*. El caso 3 hace referencia a estandarizar solo las caracteristicas númericas y realizar un *RandomUnderSampler*. El caso 5 hace referencia a estandarizar todas las caracteristicas y después realizar un undersampling mediante *RandomUnderSampler* y un *SMOTE* sin los valores por defecto. El caso 6 hace referencia a estandarizar solo las caracteristicas númericas y después realizar un *RandomUnderSampler* y un *SMOTE* sin los valores por defecto.\n",
    "\n",
    "Para la evaluación se ha realizado un *K-fold* con Random Forest como modelo, al ser el modelo que mejor funcionaba en el notebook de la selección de modelos (tanto en F1-score como en ROC-AUC score).\n",
    "\n",
    "En el siguiente subapartado se han identificado todas las variables con un sufijo para determinar al caso de preprocesado al que se refiere. Los sufijos en cuestion son los siguientes:\n",
    "* *_A_O*&nbsp;:&nbsp;&nbsp;*_All_Over*, es decir, se estandarizan todas las características y se realiza solamente oversampling.\n",
    "* *_N_O*&nbsp;:&nbsp;&nbsp;*_Number_Over*, es decir, se estandarizan solo las características numericas y se realiza solamente oversampling.\n",
    "* *_A_U*&nbsp;:&nbsp;&nbsp;*_All_Under*, es decir, se estandarizan todas las características y se realiza solamente undersampling.\n",
    "* *_N_U*&nbsp;:&nbsp;&nbsp;*_Number_Under*, es decir, se estandarizan solo las características numericas y se realiza solamente undersampling.\n",
    "* *_A_OU*&nbsp;:&nbsp;&nbsp;*_All_OverUnder*, es decir, se estandarizan todas las características y se realiza tanto oversampling como undersampling.\n",
    "* *_N_OU*&nbsp;:&nbsp;&nbsp;*_Number_OverUnder*, es decir, se estandarizan solo las características numericas y se realiza tanto oversampling como undersampling."
   ]
  },
  {
   "cell_type": "markdown",
   "metadata": {},
   "source": [
    "### 6.2 Casos de preprocesado"
   ]
  },
  {
   "cell_type": "markdown",
   "metadata": {},
   "source": [
    "#### - Caso 1: Estandarización de todas las features y oversampling"
   ]
  },
  {
   "cell_type": "markdown",
   "metadata": {},
   "source": [
    "Primero escalamos *X* con el escalador estándar."
   ]
  },
  {
   "cell_type": "code",
   "execution_count": 45,
   "metadata": {},
   "outputs": [],
   "source": [
    "prep_A_O = StandardScaler().fit(X_train)\n",
    "X_scaled_A_O = prep_A_O.transform(X_train)"
   ]
  },
  {
   "cell_type": "markdown",
   "metadata": {},
   "source": [
    "Después realizamos un SMOTE para obtener una proporción 50-50."
   ]
  },
  {
   "cell_type": "code",
   "execution_count": 47,
   "metadata": {},
   "outputs": [],
   "source": [
    "ovsamp_A_O = SMOTE(random_state=seed)\n",
    "X_resampled_A_O, y_resampled_A_O = ovsamp_A_O.fit_resample(X_scaled_A_O, y_train)"
   ]
  },
  {
   "cell_type": "markdown",
   "metadata": {},
   "source": [
    "Comprobamos el balanceo de los datos."
   ]
  },
  {
   "cell_type": "code",
   "execution_count": 49,
   "metadata": {},
   "outputs": [
    {
     "name": "stdout",
     "output_type": "stream",
     "text": [
      "1    50.0\n",
      "0    50.0\n",
      "Name: count, dtype: float64\n"
     ]
    }
   ],
   "source": [
    "# Calcular los conteos de valores\n",
    "counts = pd.Series(y_resampled_A_O).value_counts()\n",
    "\n",
    "# Calcular los porcentajes\n",
    "percentages = (counts / len(y_resampled_A_O)) * 100\n",
    "\n",
    "# Mostrar los resultados\n",
    "print(percentages)"
   ]
  },
  {
   "cell_type": "markdown",
   "metadata": {},
   "source": [
    "Se realiza la reducción de características mediante *PCA*."
   ]
  },
  {
   "cell_type": "code",
   "execution_count": 51,
   "metadata": {},
   "outputs": [],
   "source": [
    "pca_A_O = PCA()\n",
    "X_pca_full_A_O = pca_A_O.fit_transform(X_resampled_A_O)"
   ]
  },
  {
   "cell_type": "markdown",
   "metadata": {},
   "source": [
    "Como ocurría en el notebook de selección de características, buscamos quedarnos solamente con los componentes que nos permitan tener un 95% de ratio de varianza.\n",
    "\n",
    "Para ello, primero vemos una representación visual."
   ]
  },
  {
   "cell_type": "code",
   "execution_count": 53,
   "metadata": {},
   "outputs": [
    {
     "data": {
      "image/png": "[encoded data removed]",
      "text/plain": [
       "<Figure size 1000x600 with 1 Axes>"
      ]
     },
     "metadata": {},
     "output_type": "display_data"
    }
   ],
   "source": [
    "# Calculate cumulative explained variance ratio\n",
    "cumulative_variance_ratio_A_O = np.cumsum(pca_A_O.explained_variance_ratio_)\n",
    "\n",
    "# Plot explained variance ratio\n",
    "plt.figure(figsize=(10, 6))\n",
    "plt.plot(range(1, len(cumulative_variance_ratio_A_O) + 1), \n",
    "         cumulative_variance_ratio_A_O, 'bo-')\n",
    "plt.xlabel('Número de Componentes')\n",
    "plt.ylabel('Ratio de Varianza Explicada Acumulada')\n",
    "plt.title('Ratio Varianza Explicada vs. Número Componentes')\n",
    "plt.grid(True)\n",
    "\n",
    "# Add threshold line\n",
    "plt.axhline(y=0.95, color='r', linestyle='--', \n",
    "            label='Umbral del 95% de varianza')\n",
    "plt.legend()\n",
    "plt.show()"
   ]
  },
  {
   "cell_type": "markdown",
   "metadata": {},
   "source": [
    "Y ahora, seleccionamos el número de componentes, así como el desglose que aporta cada uno de ellos al ratio de varianza explicada."
   ]
  },
  {
   "cell_type": "code",
   "execution_count": 55,
   "metadata": {
    "scrolled": true
   },
   "outputs": [
    {
     "name": "stdout",
     "output_type": "stream",
     "text": [
      "Número de componentes seleccionados: 17\n",
      "Varianza explicada con 17 componentes: 0.9596\n",
      "\n",
      "Varianza explicada por cada componente:\n",
      "Componente 1: 0.1635 (16.35%)\n",
      "Componente 2: 0.1273 (12.73%)\n",
      "Componente 3: 0.0807 (8.07%)\n",
      "Componente 4: 0.0704 (7.04%)\n",
      "Componente 5: 0.0666 (6.66%)\n",
      "Componente 6: 0.0568 (5.68%)\n",
      "Componente 7: 0.0557 (5.57%)\n",
      "Componente 8: 0.0529 (5.29%)\n",
      "Componente 9: 0.0490 (4.90%)\n",
      "Componente 10: 0.0430 (4.30%)\n",
      "Componente 11: 0.0378 (3.78%)\n",
      "Componente 12: 0.0312 (3.12%)\n",
      "Componente 13: 0.0300 (3.00%)\n",
      "Componente 14: 0.0261 (2.61%)\n",
      "Componente 15: 0.0254 (2.54%)\n",
      "Componente 16: 0.0230 (2.30%)\n",
      "Componente 17: 0.0204 (2.04%)\n"
     ]
    }
   ],
   "source": [
    "n_comp_A_O = np.argmax(cumulative_variance_ratio_A_O >= 0.95) + 1\n",
    "print(f\"Número de componentes seleccionados: {n_comp_A_O}\")\n",
    "print(f\"Varianza explicada con {n_comp_A_O} componentes: \"\n",
    "      f\"{cumulative_variance_ratio_A_O[n_comp_A_O-1]:.4f}\")\n",
    "\n",
    "# Display variance explained by each component\n",
    "print(\"\\nVarianza explicada por cada componente:\")\n",
    "for i, var in enumerate(pca_A_O.explained_variance_ratio_[:n_comp_A_O]):\n",
    "    print(f\"Componente {i+1}: {var:.4f} ({var*100:.2f}%)\")"
   ]
  },
  {
   "cell_type": "markdown",
   "metadata": {},
   "source": [
    "Finalmente, nos quedamos con el conjunto de componentes deseado."
   ]
  },
  {
   "cell_type": "code",
   "execution_count": 57,
   "metadata": {},
   "outputs": [],
   "source": [
    "X_pca_A_O = X_pca_full_A_O[:, :n_comp_A_O]"
   ]
  },
  {
   "cell_type": "markdown",
   "metadata": {},
   "source": [
    "#### - Caso 2: Estandarización de las features numericas y oversampling"
   ]
  },
  {
   "cell_type": "markdown",
   "metadata": {},
   "source": [
    "Ahora solamente seleccionamos las variables numericas."
   ]
  },
  {
   "cell_type": "code",
   "execution_count": 60,
   "metadata": {},
   "outputs": [],
   "source": [
    "prep_N_O = ColumnTransformer([\n",
    "    ('numericas', StandardScaler(), numeric_vars)\n",
    "], remainder='passthrough').fit(X_train) \n",
    "\n",
    "X_scaled_N_O = prep_N_O.transform(X_train) "
   ]
  },
  {
   "cell_type": "markdown",
   "metadata": {},
   "source": [
    "Volvemos a realizar un oversampling con *SMOTE* por defecto."
   ]
  },
  {
   "cell_type": "code",
   "execution_count": 62,
   "metadata": {},
   "outputs": [],
   "source": [
    "ovsamp_N_O = SMOTE(random_state=seed)\n",
    "X_resampled_N_O, y_resampled_N_O = ovsamp_N_O.fit_resample(X_scaled_N_O, y_train)"
   ]
  },
  {
   "cell_type": "markdown",
   "metadata": {},
   "source": [
    "Realizamos el *PCA*."
   ]
  },
  {
   "cell_type": "code",
   "execution_count": 64,
   "metadata": {},
   "outputs": [],
   "source": [
    "pca_N_O = PCA()\n",
    "X_pca_full_N_O = pca_N_O.fit_transform(X_resampled_N_O)"
   ]
  },
  {
   "cell_type": "markdown",
   "metadata": {},
   "source": [
    "Y obtenemos sus componentes principales."
   ]
  },
  {
   "cell_type": "code",
   "execution_count": 66,
   "metadata": {},
   "outputs": [
    {
     "data": {
      "image/png": "[encoded data removed]",
      "text/plain": [
       "<Figure size 1000x600 with 1 Axes>"
      ]
     },
     "metadata": {},
     "output_type": "display_data"
    }
   ],
   "source": [
    "# Calculate cumulative explained variance ratio\n",
    "cumulative_variance_ratio_N_O = np.cumsum(pca_N_O.explained_variance_ratio_)\n",
    "\n",
    "# Plot explained variance ratio\n",
    "plt.figure(figsize=(10, 6))\n",
    "plt.plot(range(1, len(cumulative_variance_ratio_N_O) + 1), \n",
    "         cumulative_variance_ratio_N_O, 'bo-')\n",
    "plt.xlabel('Número de Componentes')\n",
    "plt.ylabel('Ratio de Varianza Explicada Acumulada')\n",
    "plt.title('Ratio Varianza Explicada vs. Número Componentes')\n",
    "plt.grid(True)\n",
    "\n",
    "# Add threshold line\n",
    "plt.axhline(y=0.95, color='r', linestyle='--', \n",
    "            label='Umbral del 95% de varianza')\n",
    "plt.legend()\n",
    "plt.show()"
   ]
  },
  {
   "cell_type": "code",
   "execution_count": 67,
   "metadata": {},
   "outputs": [
    {
     "name": "stdout",
     "output_type": "stream",
     "text": [
      "Número de componentes seleccionados: 11\n",
      "Varianza explicada con 11 componentes: 0.9531\n",
      "\n",
      "Varianza explicada por cada componente:\n",
      "Componente 1: 0.4722 (47.22%)\n",
      "Componente 2: 0.1354 (13.54%)\n",
      "Componente 3: 0.0721 (7.21%)\n",
      "Componente 4: 0.0677 (6.77%)\n",
      "Componente 5: 0.0551 (5.51%)\n",
      "Componente 6: 0.0363 (3.63%)\n",
      "Componente 7: 0.0353 (3.53%)\n",
      "Componente 8: 0.0324 (3.24%)\n",
      "Componente 9: 0.0236 (2.36%)\n",
      "Componente 10: 0.0118 (1.18%)\n",
      "Componente 11: 0.0112 (1.12%)\n"
     ]
    }
   ],
   "source": [
    "n_comp_N_O = np.argmax(cumulative_variance_ratio_N_O >= 0.95) + 1\n",
    "print(f\"Número de componentes seleccionados: {n_comp_N_O}\")\n",
    "print(f\"Varianza explicada con {n_comp_N_O} componentes: \"\n",
    "      f\"{cumulative_variance_ratio_N_O[n_comp_N_O-1]:.4f}\")\n",
    "\n",
    "# Display variance explained by each component\n",
    "print(\"\\nVarianza explicada por cada componente:\")\n",
    "for i, var in enumerate(pca_N_O.explained_variance_ratio_[:n_comp_N_O]):\n",
    "    print(f\"Componente {i+1}: {var:.4f} ({var*100:.2f}%)\")"
   ]
  },
  {
   "cell_type": "markdown",
   "metadata": {},
   "source": [
    "Finalmente los seleccionamos."
   ]
  },
  {
   "cell_type": "code",
   "execution_count": 69,
   "metadata": {},
   "outputs": [],
   "source": [
    "X_pca_N_O = X_pca_full_N_O[:, :n_comp_N_O]"
   ]
  },
  {
   "cell_type": "markdown",
   "metadata": {},
   "source": [
    "#### - Caso 3: Estandarización de todas las features y undersampling"
   ]
  },
  {
   "cell_type": "markdown",
   "metadata": {},
   "source": [
    "Estandarizamos para todas las características."
   ]
  },
  {
   "cell_type": "code",
   "execution_count": 72,
   "metadata": {},
   "outputs": [],
   "source": [
    "prep_A_U = StandardScaler().fit(X_train)\n",
    "X_scaled_A_U = prep_A_U.transform(X_train)"
   ]
  },
  {
   "cell_type": "markdown",
   "metadata": {},
   "source": [
    "Esta vez, hacemos previamente un undersampling de los datos, buscando no ser tan agresivos al balancear el conjunto."
   ]
  },
  {
   "cell_type": "code",
   "execution_count": 74,
   "metadata": {},
   "outputs": [],
   "source": [
    "unsamp_A_U = RandomUnderSampler(sampling_strategy=0.8, random_state=seed)\n",
    "X_resampled_A_U, y_resampled_A_U = unsamp_A_U.fit_resample(X_scaled_A_U, y_train)"
   ]
  },
  {
   "cell_type": "code",
   "execution_count": 75,
   "metadata": {},
   "outputs": [
    {
     "name": "stdout",
     "output_type": "stream",
     "text": [
      "1    55.552313\n",
      "0    44.447687\n",
      "Name: count, dtype: float64\n"
     ]
    }
   ],
   "source": [
    "# Calcular los conteos de valores\n",
    "counts = pd.Series(y_resampled_A_U).value_counts()\n",
    "\n",
    "# Calcular los porcentajes\n",
    "percentages = (counts / len(y_resampled_A_U)) * 100\n",
    "\n",
    "# Mostrar los resultados\n",
    "print(percentages)"
   ]
  },
  {
   "cell_type": "markdown",
   "metadata": {},
   "source": [
    "Después realizamos un SMOTE para obtener una proporción 65-35 (aproximadamente)."
   ]
  },
  {
   "cell_type": "markdown",
   "metadata": {},
   "source": [
    "Se realiza la reducción de características mediante *PCA*."
   ]
  },
  {
   "cell_type": "code",
   "execution_count": 78,
   "metadata": {},
   "outputs": [],
   "source": [
    "pca_A_U= PCA()\n",
    "X_pca_full_A_U = pca_A_U.fit_transform(X_resampled_A_U)"
   ]
  },
  {
   "cell_type": "markdown",
   "metadata": {},
   "source": [
    "Obtenemos sus componentes principales."
   ]
  },
  {
   "cell_type": "code",
   "execution_count": 80,
   "metadata": {},
   "outputs": [
    {
     "data": {
      "image/png": "[encoded data removed]",
      "text/plain": [
       "<Figure size 1000x600 with 1 Axes>"
      ]
     },
     "metadata": {},
     "output_type": "display_data"
    }
   ],
   "source": [
    "# Calculate cumulative explained variance ratio\n",
    "cumulative_variance_ratio_A_U = np.cumsum(pca_A_U.explained_variance_ratio_)\n",
    "\n",
    "# Plot explained variance ratio\n",
    "plt.figure(figsize=(10, 6))\n",
    "plt.plot(range(1, len(cumulative_variance_ratio_A_U) + 1), \n",
    "         cumulative_variance_ratio_A_U, 'bo-')\n",
    "plt.xlabel('Número de Componentes')\n",
    "plt.ylabel('Ratio de Varianza Explicada Acumulada')\n",
    "plt.title('Ratio Varianza Explicada vs. Número Componentes')\n",
    "plt.grid(True)\n",
    "\n",
    "# Add threshold line\n",
    "plt.axhline(y=0.95, color='r', linestyle='--', \n",
    "            label='Umbral del 95% de varianza')\n",
    "plt.legend()\n",
    "plt.show()"
   ]
  },
  {
   "cell_type": "code",
   "execution_count": 81,
   "metadata": {},
   "outputs": [
    {
     "name": "stdout",
     "output_type": "stream",
     "text": [
      "Número de componentes seleccionados: 17\n",
      "Varianza explicada con 17 componentes: 0.9674\n",
      "\n",
      "Varianza explicada por cada componente:\n",
      "Componente 1: 0.1681 (16.81%)\n",
      "Componente 2: 0.1290 (12.90%)\n",
      "Componente 3: 0.0849 (8.49%)\n",
      "Componente 4: 0.0739 (7.39%)\n",
      "Componente 5: 0.0686 (6.86%)\n",
      "Componente 6: 0.0597 (5.97%)\n",
      "Componente 7: 0.0547 (5.47%)\n",
      "Componente 8: 0.0511 (5.11%)\n",
      "Componente 9: 0.0458 (4.58%)\n",
      "Componente 10: 0.0421 (4.21%)\n",
      "Componente 11: 0.0339 (3.39%)\n",
      "Componente 12: 0.0324 (3.24%)\n",
      "Componente 13: 0.0293 (2.93%)\n",
      "Componente 14: 0.0276 (2.76%)\n",
      "Componente 15: 0.0267 (2.67%)\n",
      "Componente 16: 0.0222 (2.22%)\n",
      "Componente 17: 0.0176 (1.76%)\n"
     ]
    }
   ],
   "source": [
    "n_comp_A_U = np.argmax(cumulative_variance_ratio_A_U >= 0.95) + 1\n",
    "print(f\"Número de componentes seleccionados: {n_comp_A_U}\")\n",
    "print(f\"Varianza explicada con {n_comp_A_U} componentes: \"\n",
    "      f\"{cumulative_variance_ratio_A_U[n_comp_A_U-1]:.4f}\")\n",
    "\n",
    "# Display variance explained by each component\n",
    "print(\"\\nVarianza explicada por cada componente:\")\n",
    "for i, var in enumerate(pca_A_U.explained_variance_ratio_[:n_comp_A_U]):\n",
    "    print(f\"Componente {i+1}: {var:.4f} ({var*100:.2f}%)\")"
   ]
  },
  {
   "cell_type": "markdown",
   "metadata": {},
   "source": [
    "Finalmente los seleccionamos"
   ]
  },
  {
   "cell_type": "code",
   "execution_count": 83,
   "metadata": {},
   "outputs": [],
   "source": [
    "X_pca_A_U = X_pca_full_A_U[:, :n_comp_A_U]"
   ]
  },
  {
   "cell_type": "markdown",
   "metadata": {},
   "source": [
    "#### - Caso 4: Estandarización de las features numericas y undersampling"
   ]
  },
  {
   "cell_type": "markdown",
   "metadata": {},
   "source": [
    "Estandarizamos para todas las características."
   ]
  },
  {
   "cell_type": "code",
   "execution_count": 86,
   "metadata": {},
   "outputs": [],
   "source": [
    "prep_N_U = ColumnTransformer([\n",
    "    ('numericas', StandardScaler(), numeric_vars)\n",
    "], remainder='passthrough').fit(X_train) \n",
    "\n",
    "X_scaled_N_U = prep_N_U.transform(X_train) "
   ]
  },
  {
   "cell_type": "markdown",
   "metadata": {},
   "source": [
    "Se vuelve a realizar el balanceo en dos pasos."
   ]
  },
  {
   "cell_type": "code",
   "execution_count": 88,
   "metadata": {},
   "outputs": [],
   "source": [
    "unsamp_N_U = RandomUnderSampler(sampling_strategy=0.8, random_state=seed)\n",
    "X_resampled_N_U, y_resampled_N_U = unsamp_N_U.fit_resample(X_scaled_N_U, y_train)"
   ]
  },
  {
   "cell_type": "markdown",
   "metadata": {},
   "source": [
    "Se realiza la reducción de características mediante *PCA*."
   ]
  },
  {
   "cell_type": "code",
   "execution_count": 90,
   "metadata": {},
   "outputs": [],
   "source": [
    "pca_N_U= PCA()\n",
    "X_pca_full_N_OU = pca_N_U.fit_transform(X_resampled_N_U)"
   ]
  },
  {
   "cell_type": "markdown",
   "metadata": {},
   "source": [
    "Obtenemos sus componentes principales."
   ]
  },
  {
   "cell_type": "code",
   "execution_count": 92,
   "metadata": {},
   "outputs": [
    {
     "data": {
      "image/png": "[encoded data removed]",
      "text/plain": [
       "<Figure size 1000x600 with 1 Axes>"
      ]
     },
     "metadata": {},
     "output_type": "display_data"
    }
   ],
   "source": [
    "# Calculate cumulative explained variance ratio\n",
    "cumulative_variance_ratio_N_U = np.cumsum(pca_N_U.explained_variance_ratio_)\n",
    "\n",
    "# Plot explained variance ratio\n",
    "plt.figure(figsize=(10, 6))\n",
    "plt.plot(range(1, len(cumulative_variance_ratio_N_U) + 1), \n",
    "         cumulative_variance_ratio_N_U, 'bo-')\n",
    "plt.xlabel('Número de Componentes')\n",
    "plt.ylabel('Ratio de Varianza Explicada Acumulada')\n",
    "plt.title('Ratio Varianza Explicada vs. Número Componentes')\n",
    "plt.grid(True)\n",
    "\n",
    "# Add threshold line\n",
    "plt.axhline(y=0.95, color='r', linestyle='--', \n",
    "            label='Umbral del 95% de varianza')\n",
    "plt.legend()\n",
    "plt.show()"
   ]
  },
  {
   "cell_type": "code",
   "execution_count": 93,
   "metadata": {},
   "outputs": [
    {
     "name": "stdout",
     "output_type": "stream",
     "text": [
      "Número de componentes seleccionados: 11\n",
      "Varianza explicada con 11 componentes: 0.9537\n",
      "\n",
      "Varianza explicada por cada componente:\n",
      "Componente 1: 0.4825 (48.25%)\n",
      "Componente 2: 0.1437 (14.37%)\n",
      "Componente 3: 0.0799 (7.99%)\n",
      "Componente 4: 0.0717 (7.17%)\n",
      "Componente 5: 0.0396 (3.96%)\n",
      "Componente 6: 0.0366 (3.66%)\n",
      "Componente 7: 0.0356 (3.56%)\n",
      "Componente 8: 0.0281 (2.81%)\n",
      "Componente 9: 0.0134 (1.34%)\n",
      "Componente 10: 0.0124 (1.24%)\n",
      "Componente 11: 0.0101 (1.01%)\n"
     ]
    }
   ],
   "source": [
    "n_comp_N_U = np.argmax(cumulative_variance_ratio_N_U >= 0.95) + 1\n",
    "print(f\"Número de componentes seleccionados: {n_comp_N_U}\")\n",
    "print(f\"Varianza explicada con {n_comp_N_U} componentes: \"\n",
    "      f\"{cumulative_variance_ratio_N_U[n_comp_N_U-1]:.4f}\")\n",
    "\n",
    "# Display variance explained by each component\n",
    "print(\"\\nVarianza explicada por cada componente:\")\n",
    "for i, var in enumerate(pca_N_U.explained_variance_ratio_[:n_comp_N_U]):\n",
    "    print(f\"Componente {i+1}: {var:.4f} ({var*100:.2f}%)\")"
   ]
  },
  {
   "cell_type": "markdown",
   "metadata": {},
   "source": [
    "Finalmente los seleccionamos"
   ]
  },
  {
   "cell_type": "code",
   "execution_count": 95,
   "metadata": {},
   "outputs": [],
   "source": [
    "X_pca_N_U = X_pca_full_N_OU[:, :n_comp_N_U]"
   ]
  },
  {
   "cell_type": "markdown",
   "metadata": {},
   "source": [
    "#### - Caso 5: Estandarización de todas las features y under- y oversampling"
   ]
  },
  {
   "cell_type": "markdown",
   "metadata": {},
   "source": [
    "Estandarizamos para todas las características."
   ]
  },
  {
   "cell_type": "code",
   "execution_count": 98,
   "metadata": {},
   "outputs": [],
   "source": [
    "prep_A_OU = StandardScaler().fit(X_train)\n",
    "X_scaled_A_OU = prep_A_OU.transform(X_train)"
   ]
  },
  {
   "cell_type": "markdown",
   "metadata": {},
   "source": [
    "Esta vez, hacemos previamente un undersampling de los datos, buscando no ser tan agresivos al balancear el conjunto."
   ]
  },
  {
   "cell_type": "code",
   "execution_count": 100,
   "metadata": {},
   "outputs": [],
   "source": [
    "unsamp_A_OU = RandomUnderSampler(sampling_strategy=0.25, random_state=seed)\n",
    "X_undersampled_A_OU, y_undersampled_A_OU = unsamp_A_OU.fit_resample(X_scaled_A_OU, y_train)"
   ]
  },
  {
   "cell_type": "code",
   "execution_count": 101,
   "metadata": {},
   "outputs": [
    {
     "name": "stdout",
     "output_type": "stream",
     "text": [
      "1    80.0\n",
      "0    20.0\n",
      "Name: count, dtype: float64\n"
     ]
    }
   ],
   "source": [
    "# Calcular los conteos de valores\n",
    "counts = pd.Series(y_undersampled_A_OU).value_counts()\n",
    "\n",
    "# Calcular los porcentajes\n",
    "percentages = (counts / len(y_undersampled_A_OU)) * 100\n",
    "\n",
    "# Mostrar los resultados\n",
    "print(percentages)"
   ]
  },
  {
   "cell_type": "markdown",
   "metadata": {},
   "source": [
    "Después realizamos un SMOTE para obtener una proporción 65-35 (aproximadamente)."
   ]
  },
  {
   "cell_type": "code",
   "execution_count": 103,
   "metadata": {},
   "outputs": [],
   "source": [
    "ovsamp_A_OU = SMOTE(sampling_strategy=0.5, random_state=seed)\n",
    "X_resampled_A_OU, y_resampled_A_OU = ovsamp_A_OU.fit_resample(X_undersampled_A_OU, y_undersampled_A_OU)"
   ]
  },
  {
   "cell_type": "code",
   "execution_count": 104,
   "metadata": {},
   "outputs": [
    {
     "name": "stdout",
     "output_type": "stream",
     "text": [
      "1    66.666667\n",
      "0    33.333333\n",
      "Name: count, dtype: float64\n"
     ]
    }
   ],
   "source": [
    "# Calcular los conteos de valores\n",
    "counts = pd.Series(y_resampled_A_OU).value_counts()\n",
    "\n",
    "# Calcular los porcentajes\n",
    "percentages = (counts / len(y_resampled_A_OU)) * 100\n",
    "\n",
    "# Mostrar los resultados\n",
    "print(percentages)"
   ]
  },
  {
   "cell_type": "markdown",
   "metadata": {},
   "source": [
    "Se realiza la reducción de características mediante *PCA*."
   ]
  },
  {
   "cell_type": "code",
   "execution_count": 106,
   "metadata": {},
   "outputs": [],
   "source": [
    "pca_A_OU= PCA()\n",
    "X_pca_full_A_OU = pca_A_OU.fit_transform(X_resampled_A_OU)"
   ]
  },
  {
   "cell_type": "markdown",
   "metadata": {},
   "source": [
    "Obtenemos sus componentes principales."
   ]
  },
  {
   "cell_type": "code",
   "execution_count": 108,
   "metadata": {},
   "outputs": [
    {
     "data": {
      "image/png": "[encoded data removed]",
      "text/plain": [
       "<Figure size 1000x600 with 1 Axes>"
      ]
     },
     "metadata": {},
     "output_type": "display_data"
    }
   ],
   "source": [
    "# Calculate cumulative explained variance ratio\n",
    "cumulative_variance_ratio_A_OU = np.cumsum(pca_A_OU.explained_variance_ratio_)\n",
    "\n",
    "# Plot explained variance ratio\n",
    "plt.figure(figsize=(10, 6))\n",
    "plt.plot(range(1, len(cumulative_variance_ratio_A_OU) + 1), \n",
    "         cumulative_variance_ratio_A_OU, 'bo-')\n",
    "plt.xlabel('Número de Componentes')\n",
    "plt.ylabel('Ratio de Varianza Explicada Acumulada')\n",
    "plt.title('Ratio Varianza Explicada vs. Número Componentes')\n",
    "plt.grid(True)\n",
    "\n",
    "# Add threshold line\n",
    "plt.axhline(y=0.95, color='r', linestyle='--', \n",
    "            label='Umbral del 95% de varianza')\n",
    "plt.legend()\n",
    "plt.show()"
   ]
  },
  {
   "cell_type": "code",
   "execution_count": 109,
   "metadata": {},
   "outputs": [
    {
     "name": "stdout",
     "output_type": "stream",
     "text": [
      "Número de componentes seleccionados: 17\n",
      "Varianza explicada con 17 componentes: 0.9610\n",
      "\n",
      "Varianza explicada por cada componente:\n",
      "Componente 1: 0.1590 (15.90%)\n",
      "Componente 2: 0.1159 (11.59%)\n",
      "Componente 3: 0.0852 (8.52%)\n",
      "Componente 4: 0.0747 (7.47%)\n",
      "Componente 5: 0.0711 (7.11%)\n",
      "Componente 6: 0.0620 (6.20%)\n",
      "Componente 7: 0.0550 (5.50%)\n",
      "Componente 8: 0.0500 (5.00%)\n",
      "Componente 9: 0.0486 (4.86%)\n",
      "Componente 10: 0.0431 (4.31%)\n",
      "Componente 11: 0.0399 (3.99%)\n",
      "Componente 12: 0.0335 (3.35%)\n",
      "Componente 13: 0.0307 (3.07%)\n",
      "Componente 14: 0.0285 (2.85%)\n",
      "Componente 15: 0.0257 (2.57%)\n",
      "Componente 16: 0.0211 (2.11%)\n",
      "Componente 17: 0.0170 (1.70%)\n"
     ]
    }
   ],
   "source": [
    "n_comp_A_OU = np.argmax(cumulative_variance_ratio_A_OU >= 0.95) + 1\n",
    "print(f\"Número de componentes seleccionados: {n_comp_A_OU}\")\n",
    "print(f\"Varianza explicada con {n_comp_A_OU} componentes: \"\n",
    "      f\"{cumulative_variance_ratio_A_OU[n_comp_A_OU-1]:.4f}\")\n",
    "\n",
    "# Display variance explained by each component\n",
    "print(\"\\nVarianza explicada por cada componente:\")\n",
    "for i, var in enumerate(pca_A_OU.explained_variance_ratio_[:n_comp_A_OU]):\n",
    "    print(f\"Componente {i+1}: {var:.4f} ({var*100:.2f}%)\")"
   ]
  },
  {
   "cell_type": "markdown",
   "metadata": {},
   "source": [
    "Finalmente los seleccionamos"
   ]
  },
  {
   "cell_type": "code",
   "execution_count": 111,
   "metadata": {},
   "outputs": [],
   "source": [
    "X_pca_A_OU = X_pca_full_A_OU[:, :n_comp_A_OU]"
   ]
  },
  {
   "cell_type": "markdown",
   "metadata": {},
   "source": [
    "#### - Caso 6: Estandarización de las features numericas y under- y oversampling"
   ]
  },
  {
   "cell_type": "markdown",
   "metadata": {},
   "source": [
    "Estandarizamos para todas las características."
   ]
  },
  {
   "cell_type": "code",
   "execution_count": 114,
   "metadata": {},
   "outputs": [],
   "source": [
    "prep_N_OU = ColumnTransformer([\n",
    "    ('numericas', StandardScaler(), numeric_vars)\n",
    "], remainder='passthrough').fit(X_train) \n",
    "\n",
    "X_scaled_N_OU = prep_N_OU.transform(X_train) "
   ]
  },
  {
   "cell_type": "markdown",
   "metadata": {},
   "source": [
    "Se vuelve a realizar el balanceo en dos pasos."
   ]
  },
  {
   "cell_type": "code",
   "execution_count": 116,
   "metadata": {},
   "outputs": [],
   "source": [
    "unsamp_N_OU = RandomUnderSampler(sampling_strategy=0.25, random_state=seed)\n",
    "X_undersampled_N_OU, y_undersampled_N_OU = unsamp_N_OU.fit_resample(X_scaled_N_OU, y_train)\n",
    "\n",
    "ovsamp_N_OU = SMOTE(sampling_strategy=0.5, random_state=seed)\n",
    "X_resampled_N_OU, y_resampled_N_OU = ovsamp_N_OU.fit_resample(X_undersampled_N_OU, y_undersampled_N_OU)"
   ]
  },
  {
   "cell_type": "markdown",
   "metadata": {},
   "source": [
    "Se realiza la reducción de características mediante *PCA*."
   ]
  },
  {
   "cell_type": "code",
   "execution_count": 118,
   "metadata": {},
   "outputs": [],
   "source": [
    "pca_N_OU= PCA()\n",
    "X_pca_full_N_OU = pca_N_OU.fit_transform(X_resampled_N_OU)"
   ]
  },
  {
   "cell_type": "markdown",
   "metadata": {},
   "source": [
    "Obtenemos sus componentes principales."
   ]
  },
  {
   "cell_type": "code",
   "execution_count": 120,
   "metadata": {},
   "outputs": [
    {
     "data": {
      "image/png": "[encoded data removed]",
      "text/plain": [
       "<Figure size 1000x600 with 1 Axes>"
      ]
     },
     "metadata": {},
     "output_type": "display_data"
    }
   ],
   "source": [
    "# Calculate cumulative explained variance ratio\n",
    "cumulative_variance_ratio_N_OU = np.cumsum(pca_N_OU.explained_variance_ratio_)\n",
    "\n",
    "# Plot explained variance ratio\n",
    "plt.figure(figsize=(10, 6))\n",
    "plt.plot(range(1, len(cumulative_variance_ratio_N_OU) + 1), \n",
    "         cumulative_variance_ratio_N_OU, 'bo-')\n",
    "plt.xlabel('Número de Componentes')\n",
    "plt.ylabel('Ratio de Varianza Explicada Acumulada')\n",
    "plt.title('Ratio Varianza Explicada vs. Número Componentes')\n",
    "plt.grid(True)\n",
    "\n",
    "# Add threshold line\n",
    "plt.axhline(y=0.95, color='r', linestyle='--', \n",
    "            label='Umbral del 95% de varianza')\n",
    "plt.legend()\n",
    "plt.show()"
   ]
  },
  {
   "cell_type": "code",
   "execution_count": 121,
   "metadata": {},
   "outputs": [
    {
     "name": "stdout",
     "output_type": "stream",
     "text": [
      "Número de componentes seleccionados: 11\n",
      "Varianza explicada con 11 componentes: 0.9519\n",
      "\n",
      "Varianza explicada por cada componente:\n",
      "Componente 1: 0.4467 (44.67%)\n",
      "Componente 2: 0.1439 (14.39%)\n",
      "Componente 3: 0.0800 (8.00%)\n",
      "Componente 4: 0.0719 (7.19%)\n",
      "Componente 5: 0.0667 (6.67%)\n",
      "Componente 6: 0.0373 (3.73%)\n",
      "Componente 7: 0.0352 (3.52%)\n",
      "Componente 8: 0.0334 (3.34%)\n",
      "Componente 9: 0.0134 (1.34%)\n",
      "Componente 10: 0.0121 (1.21%)\n",
      "Componente 11: 0.0115 (1.15%)\n"
     ]
    }
   ],
   "source": [
    "n_comp_N_OU = np.argmax(cumulative_variance_ratio_N_OU >= 0.95) + 1\n",
    "print(f\"Número de componentes seleccionados: {n_comp_N_OU}\")\n",
    "print(f\"Varianza explicada con {n_comp_N_OU} componentes: \"\n",
    "      f\"{cumulative_variance_ratio_N_OU[n_comp_N_OU-1]:.4f}\")\n",
    "\n",
    "# Display variance explained by each component\n",
    "print(\"\\nVarianza explicada por cada componente:\")\n",
    "for i, var in enumerate(pca_N_OU.explained_variance_ratio_[:n_comp_N_OU]):\n",
    "    print(f\"Componente {i+1}: {var:.4f} ({var*100:.2f}%)\")"
   ]
  },
  {
   "cell_type": "markdown",
   "metadata": {},
   "source": [
    "Finalmente los seleccionamos"
   ]
  },
  {
   "cell_type": "code",
   "execution_count": 123,
   "metadata": {},
   "outputs": [],
   "source": [
    "X_pca_N_OU = X_pca_full_N_OU[:, :n_comp_N_OU]"
   ]
  },
  {
   "cell_type": "markdown",
   "metadata": {},
   "source": [
    "#### - Evaluación y conclusiones"
   ]
  },
  {
   "cell_type": "markdown",
   "metadata": {},
   "source": [
    "Como se ha mencionado en la introducción de este apartado, se ha escogido Random Forest para esta evaluación al tratarse del mejor modelo del notebook anterior, tanto por F1-score como por ROC-AUX score."
   ]
  },
  {
   "cell_type": "code",
   "execution_count": 126,
   "metadata": {},
   "outputs": [],
   "source": [
    "model_sel = RandomForestClassifier(class_weight=\"balanced\", n_jobs=-1, random_state=seed)"
   ]
  },
  {
   "cell_type": "markdown",
   "metadata": {},
   "source": [
    "Se ha evaluado la score media mediante un cross validation 5-fold."
   ]
  },
  {
   "cell_type": "code",
   "execution_count": 128,
   "metadata": {},
   "outputs": [
    {
     "name": "stdout",
     "output_type": "stream",
     "text": [
      "Caso 1: Score media: 0.871 (+/- 0.002)\n",
      "Caso 2: Score media: 0.865 (+/- 0.001)\n",
      "Caso 3: Score media: 0.683 (+/- 0.003)\n",
      "Caso 4: Score media: 0.683 (+/- 0.002)\n",
      "Caso 5: Score media: 0.810 (+/- 0.001)\n",
      "Caso 6: Score media: 0.805 (+/- 0.004)\n"
     ]
    }
   ],
   "source": [
    "# Caso 1: Estandarización a todas y solo Oversampling\n",
    "cv_A_O = KFold(5, shuffle=True, random_state=seed)\n",
    "scores_A_O = cross_val_score(model_sel, X_pca_A_O, y_resampled_A_O, cv=cv_A_O)\n",
    "print(\"Caso 1:\",mean_score(scores_A_O))\n",
    "\n",
    "# Caso 2: Estandarización a las numericas y solo Oversampling\n",
    "cv_N_O = KFold(5, shuffle=True, random_state=seed)\n",
    "scores_N_O = cross_val_score(model_sel, X_pca_N_O, y_resampled_N_O, cv=cv_N_O)\n",
    "print(\"Caso 2:\",mean_score(scores_N_O))\n",
    "\n",
    "# Caso 3: Estandarización a todas y tanto under como oversampling\n",
    "cv_A_U = KFold(5, shuffle=True, random_state=seed)\n",
    "scores_A_U = cross_val_score(model_sel, X_pca_A_U, y_resampled_A_U, cv=cv_A_U)\n",
    "print(\"Caso 3:\",mean_score(scores_A_U))\n",
    "\n",
    "# Caso 4: Estandarización a las numericas y tanto under como oversampling\n",
    "cv_N_U = KFold(5, shuffle=True, random_state=seed)\n",
    "scores_N_U = cross_val_score(model_sel, X_pca_N_U, y_resampled_N_U, cv=cv_N_U)\n",
    "print(\"Caso 4:\",mean_score(scores_N_U))\n",
    "\n",
    "# Caso 5: Estandarización a todas y tanto under como oversampling\n",
    "cv_A_OU = KFold(5, shuffle=True, random_state=seed)\n",
    "scores_A_OU = cross_val_score(model_sel, X_pca_A_OU, y_resampled_A_OU, cv=cv_A_OU)\n",
    "print(\"Caso 5:\",mean_score(scores_A_OU))\n",
    "\n",
    "# Caso 6: Estandarización a las numericas y tanto under como oversampling\n",
    "cv_N_OU = KFold(5, shuffle=True, random_state=seed)\n",
    "scores_N_OU = cross_val_score(model_sel, X_pca_N_OU, y_resampled_N_OU, cv=cv_N_OU)\n",
    "print(\"Caso 6:\",mean_score(scores_N_OU))"
   ]
  },
  {
   "cell_type": "markdown",
   "metadata": {},
   "source": [
    "Se ha decidido seguir con todos los casos en siguientes apartados, el motivo principal es que tras ejecutar pruebas con los modelos en el siguiente apartado nos dimos cuenta de que las score obtenidas estaban falseadas, ya que lo que peor hace el modelo es predecir los 0s. Como en este apartado se ha realizado un *SMOTE* para balancear el conjunto de datos (excepto el caso 3 y 4), todos los valores sinteticos de 0s serán muy similares y los predice mejor de lo que realmente lo hace en el siguiente apartado. Además, como ya sabiamos, el score no es la mejor forma de evaluar el modelo al estar desbalanceado, es más importante la matriz de confusión para observar el F1-score obtenidos en los 0s."
   ]
  },
  {
   "cell_type": "markdown",
   "metadata": {},
   "source": [
    "### 6.3 Optimizacion del preprocesado"
   ]
  },
  {
   "cell_type": "markdown",
   "metadata": {},
   "source": [
    "Debido a que no se ha escogido entre ninguno de los seis casos, se ha utilizado este apartado para comprender el funcionamiento de los diferentes preprocesados utilizados para posteriormente intentar optimizar sus hiperparámetros para el modelo final. Por ello, en este apartado se uso como base el caso 5, ya que realiza los cuatro preprocesados utilizados (estandarización, undersampling, oversampling y *PCA*). En cuanto a la estandarización no se observó ningún hiperparámetro interesante para su optimización.\n",
    "\n",
    "Respecto al undersampling, el único hiperparametro interesante de optimizar el la estrategia de muestreo. Esta se representa mediante un *float*, la cual hace referencia a la proporción deseada entre la clase minoritaria respecto a la mayoritaria. Los valores obtenidos fueron:\n",
    "* sampling_strategy = 0.25 -> score = 0.810\n",
    "* sampling_strategy = 0.35 -> score = 0.770\n",
    "* sampling_strategy = 0.45 -> score = 0.735\n",
    "\n",
    "No se podían probar más valores ya que un número menor de *sampling_strategy* daba error al implicar que debería reducir también muestras de la clase minoritaria y también un número mayor implicaria reducir muestras pero en el oversampling posterior (al estar fijado el *SMOTE* a 0.5). Aun así se puede determinar que a menor *sampling_strategy* mayor es el score. Cabe recalcar que este resultado es engañoso, ya que realmente lo que ocurre es que al aumentarlo se reduce el número de 1s, es decir, se entrena el modelo con menos datos (más especificamente de 1s). Esto hace que la predicción general baje pero puede estar detectando mejor los 0s al ser una proporción más balanceada.\n",
    "\n",
    "Respecto al oversampling, los hiperparametros ha optimizar fueon tanto el *sampling_strategy* como el *k_neighbors*. Al pertenecer a la misma librería, el significado de *sampling_strategy* es el mismo que para undersampling. Con el hiperparámetro *k_neighbors* lo que significa es que internamente *SMOTE* utiliza un modelo KNN para realizar el sintetizado de los datos, es decir, que variar su valor significará variar el número de vecinos con el que balancea los datos. Los valores obtenidos para *sampling_strategy* fueron:\n",
    "* sampling_strategy = 0.5 -> score = 0.810\n",
    "* sampling_strategy = 0.7 -> score = 0.829\n",
    "* sampling_strategy = 0.9 -> score = 0.846\n",
    "\n",
    "Como suponiamos a mayor *sampling_strategy* mayor score, pero esto se debe a estar evaluandose con un k-fold y por lo tanto provocar que sea más fácil identificar los 0s falsamente. Este valor será interesante ver que provocá en la matriz de confusión y como afecta a la excactitud en el siguiente apartado donde el test no se ha preproceado con el *SMOTE*.\n",
    "\n",
    "Los valores obtenidos con *k_neighbors* fueron:\n",
    "* k_neighbors = 2 -> score = 0.821\n",
    "* k_neighbors = 5 -> score = 0.810\n",
    "* k_neighbors = 0.9 -> score = 0.797\n",
    "\n",
    "Por lo tanto a menor número de vecinos, mayor es la score. Aun así esto vuelve a ser engañoso porque al evaluarlo con un k-fold es normal que esto ocurrá, porque hace que los datos con *Accept* igual a 0 sean más similares y con ello más facil de predecir entre sí. Por consiguiente, este hiperparámetro será interesante evaluarlo también en el siguiente apartado, para ver como afecta a la matriz de confusión y a la exactitud, ya que puede ser interesante inntroducir más ruido para ver si predice mejor los 0s no conocidos.\n",
    "\n",
    "Respecto a la *PCA*, se probó a modificar el umbral del ratio de varianza explicada acumulada. Como es lógico a menor umbral, menor será la información para el entrenamiento (menos componentes de la *PCA*, menor reducción de dimensionalidad) y por lo tanto menor será el score obtenido. Se obtuvo:\n",
    "* threshold = 85% -> score = 0.804.\n",
    "* threshold = 90% -> score = 0.810.\n",
    "* threshold = 95% -> score = 0.810.\n",
    "* threshold = 99% -> score = 0.813.\n",
    "\n",
    "Se observa que, a mayor umbral, mayor es el score (ya que utiliza más componentes y por lo tanto más información). Aun así dicho aumento no es significativo. En contra parte, la perdida de score entre el 85% y el 95% tampoco es significativa, a sabiendas de que si estamos generalizando más el modelo (al reducir más la dimensionalidad) y por lo tanto reduciendo su complejidad."
   ]
  },
  {
   "cell_type": "markdown",
   "metadata": {},
   "source": [
    "# 7. Referencias"
   ]
  },
  {
   "cell_type": "markdown",
   "metadata": {},
   "source": [
    "* [ColumnTransformer. (s. f.). Scikit-learn.](https://scikit-learn.org/stable/modules/generated/sklearn.compose.ColumnTransformer.html)\n",
    "* [KFold. (s. f.). Scikit-learn.](https://scikit-learn.org/stable/modules/generated/sklearn.model_selection.KFold.html)\n",
    "* [PCA. (s. f.). Scikit-learn.](https://scikit-learn.org/stable/modules/generated/sklearn.decomposition.PCA.html)\n",
    "* [RandomForestClassifier. (s. f.). Scikit-learn.](https://scikit-learn.org/stable/modules/generated/sklearn.ensemble.RandomForestClassifier.html)\n",
    "* [RandomUnderSampler — Version 0.13.0. (s. f.). Imbalance learn.](https://imbalanced-learn.org/stable/references/generated/imblearn.under_sampling.RandomUnderSampler.html)\n",
    "* [SMOTE — Version 0.13.0. (s. f.). Imbalanced learn.](https://imbalanced-learn.org/stable/references/generated/imblearn.over_sampling.SMOTE.html)\n",
    "* [StandardScaler. (s. f.). Scikit-learn.](https://scikit-learn.org/stable/modules/generated/sklearn.preprocessing.StandardScaler.html)\n",
    "* [train_test_split. (s. f.). Scikit-learn.](https://scikit-learn.org/stable/modules/generated/sklearn.model_selection.train_test_split.html)"
   ]
  }
 ],
 "metadata": {
  "kernelspec": {
   "display_name": "Python 3 (ipykernel)",
   "language": "python",
   "name": "python3"
  },
  "language_info": {
   "codemirror_mode": {
    "name": "ipython",
    "version": 3
   },
   "file_extension": ".py",
   "mimetype": "text/x-python",
   "name": "python",
   "nbconvert_exporter": "python",
   "pygments_lexer": "ipython3",
   "version": "3.12.7"
  }
 },
 "nbformat": 4,
 "nbformat_minor": 4
}
