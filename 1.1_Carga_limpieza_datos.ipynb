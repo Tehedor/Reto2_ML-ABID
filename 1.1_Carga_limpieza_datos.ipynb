{
 "cells": [
  {
   "cell_type": "markdown",
   "metadata": {},
   "source": [
    "<header style=\"width:100%;position:relative\">\n",
    "  <div style=\"width:80%;float:right;\">\n",
    "    <h1>False Political Claim Detection</h1>\n",
    "    <h3>Carga y limpieza de los datos</h3>\n",
    "    <h5>Grupo 2</h5>\n",
    "  </div>\n",
    "        <img style=\"width:15%;\" src=\"./images/logo.jpg\" alt=\"UPM\" />\n",
    "</header>"
   ]
  },
  {
   "cell_type": "markdown",
   "metadata": {},
   "source": [
    "# Índice"
   ]
  },
  {
   "cell_type": "markdown",
   "metadata": {},
   "source": [
    "1. [Importar librerias](#1.-Importar-librerias)  \n",
    "2. [Funciones auxiliares y variables](#2.-Funciones-auxiliares-y-variables)  \n",
    "3. [Carga del Dataset](#3.-Carga-del-Dataset)  \n",
    "4. [Limpieza de los datos](#4.-Limpieza-de-los-datos)  \n",
    "   * 4.1 [Estudio de las columnas](#4.1-Estudio-de-las-columnas)  \n",
    "   * 4.2 [Tratamiento de los duplicados y de los nulos](#4.2-Tratamiento-de-los-duplicados-y-de-los-nulos)  \n",
    "   * 4.3 [Tratamiento features](#4.3-Tratamiento-features)  \n",
    "      * 4.3.1 [Feature Statement](#4.3.1-Feature-Statement)  \n",
    "      * 4.3.2 [Resto de features](#4.3.2-Resto-de-features)  \n",
    "5. [Create Test](#5.-Create-Test)  \n",
    "6. [Exportar CSV](#6.-Exportar-CSV)  \n",
    "7. [Correlacion](#7.-Correlacion)  \n",
    "8. [Referencias](#8.-Referencias)\n"
   ]
  },
  {
   "cell_type": "markdown",
   "metadata": {},
   "source": [
    "# 1. Importar librerias"
   ]
  },
  {
   "cell_type": "code",
   "execution_count": 1,
   "metadata": {},
   "outputs": [],
   "source": [
    "import pandas as pd\n",
    "import numpy as np\n",
    "\n",
    "from datetime import datetime\n",
    "import json\n",
    "\n",
    "import matplotlib.pyplot as plt\n",
    "import seaborn as sns\n",
    "\n",
    "import spacy\n",
    "\n",
    "import string\n",
    "import re\n",
    "\n",
    "from collections import defaultdict\n",
    "\n",
    "import nltk\n",
    "from nltk.sentiment import SentimentIntensityAnalyzer\n",
    "\n",
    "from sklearn.preprocessing import MultiLabelBinarizer"
   ]
  },
  {
   "cell_type": "markdown",
   "metadata": {},
   "source": [
    "# 2. Funciones auxiliares y variables"
   ]
  },
  {
   "cell_type": "markdown",
   "metadata": {},
   "source": [
    "- Funciones"
   ]
  },
  {
   "cell_type": "code",
   "execution_count": 2,
   "metadata": {},
   "outputs": [],
   "source": [
    "def create_collection(df, label, column):    \n",
    "    collection = []\n",
    "    \n",
    "    for x in df[df['label'] == label][column].str.split():\n",
    "        for i in x:\n",
    "            collection.append(i)\n",
    "    return collection\n"
   ]
  },
  {
   "cell_type": "code",
   "execution_count": 3,
   "metadata": {},
   "outputs": [],
   "source": [
    "def create_json(outputfile, dict):\n",
    "    with open(outputfile, 'w', encoding='utf-8') as f:\n",
    "        json.dump(dict, f, ensure_ascii=False, indent=2)"
   ]
  },
  {
   "cell_type": "code",
   "execution_count": 4,
   "metadata": {},
   "outputs": [],
   "source": [
    "def save_oov_to_json(oov_dict, output_file=\"./json-study-statement/oov_words_by_row.json\"):\n",
    "    \"\"\"\n",
    "    Guarda el diccionario de palabras fuera del vocabulario (OOV) en un archivo JSON.\n",
    "\n",
    "    :param oov_dict: Diccionario con las palabras OOV por fila.\n",
    "    :param output_file: Nombre del archivo JSON de salida.\n",
    "    \"\"\"\n",
    "    try:\n",
    "        with open('json/json-study-statement/oov_words_by_row.json', \"w\", encoding=\"utf-8\") as f:\n",
    "            json.dump(oov_dict, f, ensure_ascii=False, indent=4)\n",
    "        print(f\"Diccionario OOV guardado en: {output_file}\")\n",
    "    except Exception as e:\n",
    "        print(f\"Error al guardar el archivo JSON: {e}\")\n"
   ]
  },
  {
   "cell_type": "markdown",
   "metadata": {},
   "source": [
    "- variables"
   ]
  },
  {
   "cell_type": "code",
   "execution_count": 5,
   "metadata": {},
   "outputs": [],
   "source": [
    "# variables generales\n",
    "nlp = spacy.load('en_core_web_lg')\n",
    "en_stopwords = nlp.Defaults.stop_words"
   ]
  },
  {
   "cell_type": "markdown",
   "metadata": {},
   "source": [
    "# 3. Carga del Dataset"
   ]
  },
  {
   "cell_type": "code",
   "execution_count": 6,
   "metadata": {},
   "outputs": [],
   "source": [
    "url = \"data/train.csv\" \n",
    "data = pd.read_csv(url)\n",
    "df = data.copy()\n",
    "\n",
    "url2 = \"data/test_nolabel.csv\"\n",
    "df_test = pd.read_csv(url2)"
   ]
  },
  {
   "cell_type": "markdown",
   "metadata": {},
   "source": [
    "Configuramos Pandas para mostrar todas las columnas de un DataFrame al imprimirlo, y luego mostramos las primeras filas del DataFrame df."
   ]
  },
  {
   "cell_type": "code",
   "execution_count": 7,
   "metadata": {},
   "outputs": [
    {
     "data": {
      "text/html": [
       "<div>\n",
       "<style scoped>\n",
       "    .dataframe tbody tr th:only-of-type {\n",
       "        vertical-align: middle;\n",
       "    }\n",
       "\n",
       "    .dataframe tbody tr th {\n",
       "        vertical-align: top;\n",
       "    }\n",
       "\n",
       "    .dataframe thead th {\n",
       "        text-align: right;\n",
       "    }\n",
       "</style>\n",
       "<table border=\"1\" class=\"dataframe\">\n",
       "  <thead>\n",
       "    <tr style=\"text-align: right;\">\n",
       "      <th></th>\n",
       "      <th>id</th>\n",
       "      <th>label</th>\n",
       "      <th>statement</th>\n",
       "      <th>subject</th>\n",
       "      <th>speaker</th>\n",
       "      <th>speaker_job</th>\n",
       "      <th>state_info</th>\n",
       "      <th>party_affiliation</th>\n",
       "    </tr>\n",
       "  </thead>\n",
       "  <tbody>\n",
       "    <tr>\n",
       "      <th>0</th>\n",
       "      <td>81f884c64a7</td>\n",
       "      <td>1</td>\n",
       "      <td>China is in the South China Sea and (building)...</td>\n",
       "      <td>china,foreign-policy,military</td>\n",
       "      <td>donald-trump</td>\n",
       "      <td>President-Elect</td>\n",
       "      <td>New York</td>\n",
       "      <td>republican</td>\n",
       "    </tr>\n",
       "    <tr>\n",
       "      <th>1</th>\n",
       "      <td>30c2723a188</td>\n",
       "      <td>0</td>\n",
       "      <td>With the resources it takes to execute just ov...</td>\n",
       "      <td>health-care</td>\n",
       "      <td>chris-dodd</td>\n",
       "      <td>U.S. senator</td>\n",
       "      <td>Connecticut</td>\n",
       "      <td>democrat</td>\n",
       "    </tr>\n",
       "    <tr>\n",
       "      <th>2</th>\n",
       "      <td>6936b216e5d</td>\n",
       "      <td>0</td>\n",
       "      <td>The (Wisconsin) governor has proposed tax give...</td>\n",
       "      <td>corporations,pundits,taxes,abc-news-week</td>\n",
       "      <td>donna-brazile</td>\n",
       "      <td>Political commentator</td>\n",
       "      <td>Washington, D.C.</td>\n",
       "      <td>democrat</td>\n",
       "    </tr>\n",
       "    <tr>\n",
       "      <th>3</th>\n",
       "      <td>b5cd9195738</td>\n",
       "      <td>1</td>\n",
       "      <td>Says her representation of an ex-boyfriend who...</td>\n",
       "      <td>candidates-biography,children,ethics,families,...</td>\n",
       "      <td>rebecca-bradley</td>\n",
       "      <td>NaN</td>\n",
       "      <td>NaN</td>\n",
       "      <td>none</td>\n",
       "    </tr>\n",
       "    <tr>\n",
       "      <th>4</th>\n",
       "      <td>84f8dac7737</td>\n",
       "      <td>0</td>\n",
       "      <td>At protests in Wisconsin against proposed coll...</td>\n",
       "      <td>health-care,labor,state-budget</td>\n",
       "      <td>republican-party-wisconsin</td>\n",
       "      <td>NaN</td>\n",
       "      <td>Wisconsin</td>\n",
       "      <td>republican</td>\n",
       "    </tr>\n",
       "  </tbody>\n",
       "</table>\n",
       "</div>"
      ],
      "text/plain": [
       "            id  label                                          statement  \\\n",
       "0  81f884c64a7      1  China is in the South China Sea and (building)...   \n",
       "1  30c2723a188      0  With the resources it takes to execute just ov...   \n",
       "2  6936b216e5d      0  The (Wisconsin) governor has proposed tax give...   \n",
       "3  b5cd9195738      1  Says her representation of an ex-boyfriend who...   \n",
       "4  84f8dac7737      0  At protests in Wisconsin against proposed coll...   \n",
       "\n",
       "                                             subject  \\\n",
       "0                      china,foreign-policy,military   \n",
       "1                                        health-care   \n",
       "2           corporations,pundits,taxes,abc-news-week   \n",
       "3  candidates-biography,children,ethics,families,...   \n",
       "4                     health-care,labor,state-budget   \n",
       "\n",
       "                      speaker            speaker_job        state_info  \\\n",
       "0                donald-trump        President-Elect          New York   \n",
       "1                  chris-dodd           U.S. senator       Connecticut   \n",
       "2               donna-brazile  Political commentator  Washington, D.C.   \n",
       "3             rebecca-bradley                    NaN               NaN   \n",
       "4  republican-party-wisconsin                    NaN         Wisconsin   \n",
       "\n",
       "  party_affiliation  \n",
       "0        republican  \n",
       "1          democrat  \n",
       "2          democrat  \n",
       "3              none  \n",
       "4        republican  "
      ]
     },
     "execution_count": 7,
     "metadata": {},
     "output_type": "execute_result"
    }
   ],
   "source": [
    "pd.set_option('display.max_columns', None)\n",
    "df.head()"
   ]
  },
  {
   "cell_type": "markdown",
   "metadata": {},
   "source": [
    "Con *Info* desplegamos la información del dataframe para saber con que datos trabajaremos en cada una de las columnas"
   ]
  },
  {
   "cell_type": "code",
   "execution_count": 8,
   "metadata": {},
   "outputs": [
    {
     "data": {
      "text/plain": [
       "<bound method DataFrame.info of                id  label                                          statement  \\\n",
       "0     81f884c64a7      1  China is in the South China Sea and (building)...   \n",
       "1     30c2723a188      0  With the resources it takes to execute just ov...   \n",
       "2     6936b216e5d      0  The (Wisconsin) governor has proposed tax give...   \n",
       "3     b5cd9195738      1  Says her representation of an ex-boyfriend who...   \n",
       "4     84f8dac7737      0  At protests in Wisconsin against proposed coll...   \n",
       "...           ...    ...                                                ...   \n",
       "8945  44edff2b865      1  If Rhode Island does a hybrid [retirement] pla...   \n",
       "8946  4a63b5f9c16      1  The new health care law will force seniors int...   \n",
       "8947  7c57fa8e81c      0  The health insurance plan that (members of Con...   \n",
       "8948  2375e3cf4b7      1  No one in American history has moved from a Ju...   \n",
       "8949  5ae9b14e6e5      0  Says the Army is spending $7 million to sponso...   \n",
       "\n",
       "                                                subject  \\\n",
       "0                         china,foreign-policy,military   \n",
       "1                                           health-care   \n",
       "2              corporations,pundits,taxes,abc-news-week   \n",
       "3     candidates-biography,children,ethics,families,...   \n",
       "4                        health-care,labor,state-budget   \n",
       "...                                                 ...   \n",
       "8945         pensions,public-service,retirement,workers   \n",
       "8946                medicare,message-machine,retirement   \n",
       "8947                                        health-care   \n",
       "8948                                  elections,history   \n",
       "8949                            federal-budget,military   \n",
       "\n",
       "                         speaker                              speaker_job  \\\n",
       "0                   donald-trump                          President-Elect   \n",
       "1                     chris-dodd                             U.S. senator   \n",
       "2                  donna-brazile                    Political commentator   \n",
       "3                rebecca-bradley                                      NaN   \n",
       "4     republican-party-wisconsin                                      NaN   \n",
       "...                          ...                                      ...   \n",
       "8945              lincoln-chafee                                      NaN   \n",
       "8946                   dan-coats                                      NaN   \n",
       "8947           steve-southerland  U.S. Representative, Florida District 2   \n",
       "8948               newt-gingrich             Co-host on CNN's \"Crossfire\"   \n",
       "8949              betty-mccollum                      U.S. Representative   \n",
       "\n",
       "            state_info party_affiliation  \n",
       "0             New York        republican  \n",
       "1          Connecticut          democrat  \n",
       "2     Washington, D.C.          democrat  \n",
       "3                  NaN              none  \n",
       "4            Wisconsin        republican  \n",
       "...                ...               ...  \n",
       "8945      Rhode Island          democrat  \n",
       "8946           Indiana        republican  \n",
       "8947           Florida        republican  \n",
       "8948           Georgia        republican  \n",
       "8949         Minnesota          democrat  \n",
       "\n",
       "[8950 rows x 8 columns]>"
      ]
     },
     "execution_count": 8,
     "metadata": {},
     "output_type": "execute_result"
    }
   ],
   "source": [
    "df.info"
   ]
  },
  {
   "cell_type": "markdown",
   "metadata": {},
   "source": [
    "Gracias a *shape* podemos saber las dimensiones del dataframe, de esta maenra podemos saber la cantidad de filas que tenemos en un incio y la cantidad de columnas con las que trabajaremos"
   ]
  },
  {
   "cell_type": "code",
   "execution_count": 9,
   "metadata": {},
   "outputs": [
    {
     "data": {
      "text/plain": [
       "(8950, 8)"
      ]
     },
     "execution_count": 9,
     "metadata": {},
     "output_type": "execute_result"
    }
   ],
   "source": [
    "df.shape"
   ]
  },
  {
   "cell_type": "markdown",
   "metadata": {},
   "source": [
    "Visualización del nombre de todas las columnas para plantear la limpieza"
   ]
  },
  {
   "cell_type": "code",
   "execution_count": 10,
   "metadata": {},
   "outputs": [
    {
     "data": {
      "text/plain": [
       "Index(['id', 'label', 'statement', 'subject', 'speaker', 'speaker_job',\n",
       "       'state_info', 'party_affiliation'],\n",
       "      dtype='object')"
      ]
     },
     "execution_count": 10,
     "metadata": {},
     "output_type": "execute_result"
    }
   ],
   "source": [
    "df.columns"
   ]
  },
  {
   "cell_type": "markdown",
   "metadata": {},
   "source": [
    "\n",
    "Visualización del estadisticos de las columnas numericas para plantear la limpieza"
   ]
  },
  {
   "cell_type": "markdown",
   "metadata": {},
   "source": [
    "# 4. Limpieza de los datos"
   ]
  },
  {
   "cell_type": "markdown",
   "metadata": {},
   "source": [
    "## 4.1 Estudio de las columnas"
   ]
  },
  {
   "cell_type": "markdown",
   "metadata": {},
   "source": [
    "Este conjunto de datos está relacionado con la detección de afirmaciones políticas falsas y contiene declaraciones (o afirmaciones) etiquetadas junto con metadatos sobre el orador, el tema y otra información contextual. A continuación, se presenta un desglose detallado de la estructura y las características clave del conjunto de datos:\n",
    "\n",
    "| **Field Name**      | **Data Type** | **Description**                                                                 |\n",
    "|----------------------|---------------|---------------------------------------------------------------------------------|\n",
    "| **id**              | Text          | Identificador Único                                                              |\n",
    "| **label**           | Integer       | Puntuación de veracidad. Clasificación binaria: 1 = verdadero, 0 = falso                |\n",
    "| **statement**       | Text          | Texto de declaración                                                              |\n",
    "| **subject**         | Text          | Tema de la declaración                                                             |\n",
    "| **speaker**         | Text          | Persona que hace al declaración                                                        |\n",
    "| **speaker_job**     | Text          | Profesión de la persona                                                      |\n",
    "| **state_info**      | Text          | Contexto geográfico                                                             |\n",
    "| **party_affiliation** | Text        | Partido politico del *speaker*                                                 |\n"
   ]
  },
  {
   "cell_type": "markdown",
   "metadata": {},
   "source": [
    "Visualización de los tipos de cada columna"
   ]
  },
  {
   "cell_type": "code",
   "execution_count": 11,
   "metadata": {},
   "outputs": [
    {
     "data": {
      "text/plain": [
       "id                   object\n",
       "label                 int64\n",
       "statement            object\n",
       "subject              object\n",
       "speaker              object\n",
       "speaker_job          object\n",
       "state_info           object\n",
       "party_affiliation    object\n",
       "dtype: object"
      ]
     },
     "execution_count": 11,
     "metadata": {},
     "output_type": "execute_result"
    }
   ],
   "source": [
    "df.dtypes"
   ]
  },
  {
   "cell_type": "markdown",
   "metadata": {},
   "source": [
    "Visualizacón de valores distintos que tienen cada columna"
   ]
  },
  {
   "cell_type": "code",
   "execution_count": 12,
   "metadata": {},
   "outputs": [
    {
     "name": "stdout",
     "output_type": "stream",
     "text": [
      "Columna: id, Valores distintos: 8950\n",
      "Columna: label, Valores distintos: 2\n",
      "Columna: statement, Valores distintos: 8939\n",
      "Columna: subject, Valores distintos: 3409\n",
      "Columna: speaker, Valores distintos: 2634\n",
      "Columna: speaker_job, Valores distintos: 1090\n",
      "Columna: state_info, Valores distintos: 78\n",
      "Columna: party_affiliation, Valores distintos: 24\n"
     ]
    }
   ],
   "source": [
    "# Obtener el número de valores distintos de cada columna\n",
    "valores_distintos = {columna: df[columna].nunique() for columna in df.columns}\n",
    "\n",
    "# Mostrar el número de valores distintos de cada columna\n",
    "for columna, num_valores in valores_distintos.items():\n",
    "    print(f\"Columna: {columna}, Valores distintos: {num_valores}\")"
   ]
  },
  {
   "cell_type": "markdown",
   "metadata": {},
   "source": [
    "Creación del Dataset sobre el que trabajaremos"
   ]
  },
  {
   "cell_type": "code",
   "execution_count": 13,
   "metadata": {},
   "outputs": [
    {
     "data": {
      "text/html": [
       "<div>\n",
       "<style scoped>\n",
       "    .dataframe tbody tr th:only-of-type {\n",
       "        vertical-align: middle;\n",
       "    }\n",
       "\n",
       "    .dataframe tbody tr th {\n",
       "        vertical-align: top;\n",
       "    }\n",
       "\n",
       "    .dataframe thead th {\n",
       "        text-align: right;\n",
       "    }\n",
       "</style>\n",
       "<table border=\"1\" class=\"dataframe\">\n",
       "  <thead>\n",
       "    <tr style=\"text-align: right;\">\n",
       "      <th></th>\n",
       "      <th>id</th>\n",
       "      <th>label</th>\n",
       "      <th>statement</th>\n",
       "      <th>subject</th>\n",
       "      <th>speaker</th>\n",
       "      <th>speaker_job</th>\n",
       "      <th>state_info</th>\n",
       "      <th>party_affiliation</th>\n",
       "    </tr>\n",
       "  </thead>\n",
       "  <tbody>\n",
       "    <tr>\n",
       "      <th>0</th>\n",
       "      <td>81f884c64a7</td>\n",
       "      <td>1</td>\n",
       "      <td>China is in the South China Sea and (building)...</td>\n",
       "      <td>china,foreign-policy,military</td>\n",
       "      <td>donald-trump</td>\n",
       "      <td>President-Elect</td>\n",
       "      <td>New York</td>\n",
       "      <td>republican</td>\n",
       "    </tr>\n",
       "    <tr>\n",
       "      <th>1</th>\n",
       "      <td>30c2723a188</td>\n",
       "      <td>0</td>\n",
       "      <td>With the resources it takes to execute just ov...</td>\n",
       "      <td>health-care</td>\n",
       "      <td>chris-dodd</td>\n",
       "      <td>U.S. senator</td>\n",
       "      <td>Connecticut</td>\n",
       "      <td>democrat</td>\n",
       "    </tr>\n",
       "    <tr>\n",
       "      <th>2</th>\n",
       "      <td>6936b216e5d</td>\n",
       "      <td>0</td>\n",
       "      <td>The (Wisconsin) governor has proposed tax give...</td>\n",
       "      <td>corporations,pundits,taxes,abc-news-week</td>\n",
       "      <td>donna-brazile</td>\n",
       "      <td>Political commentator</td>\n",
       "      <td>Washington, D.C.</td>\n",
       "      <td>democrat</td>\n",
       "    </tr>\n",
       "    <tr>\n",
       "      <th>3</th>\n",
       "      <td>b5cd9195738</td>\n",
       "      <td>1</td>\n",
       "      <td>Says her representation of an ex-boyfriend who...</td>\n",
       "      <td>candidates-biography,children,ethics,families,...</td>\n",
       "      <td>rebecca-bradley</td>\n",
       "      <td>NaN</td>\n",
       "      <td>NaN</td>\n",
       "      <td>none</td>\n",
       "    </tr>\n",
       "    <tr>\n",
       "      <th>4</th>\n",
       "      <td>84f8dac7737</td>\n",
       "      <td>0</td>\n",
       "      <td>At protests in Wisconsin against proposed coll...</td>\n",
       "      <td>health-care,labor,state-budget</td>\n",
       "      <td>republican-party-wisconsin</td>\n",
       "      <td>NaN</td>\n",
       "      <td>Wisconsin</td>\n",
       "      <td>republican</td>\n",
       "    </tr>\n",
       "  </tbody>\n",
       "</table>\n",
       "</div>"
      ],
      "text/plain": [
       "            id  label                                          statement  \\\n",
       "0  81f884c64a7      1  China is in the South China Sea and (building)...   \n",
       "1  30c2723a188      0  With the resources it takes to execute just ov...   \n",
       "2  6936b216e5d      0  The (Wisconsin) governor has proposed tax give...   \n",
       "3  b5cd9195738      1  Says her representation of an ex-boyfriend who...   \n",
       "4  84f8dac7737      0  At protests in Wisconsin against proposed coll...   \n",
       "\n",
       "                                             subject  \\\n",
       "0                      china,foreign-policy,military   \n",
       "1                                        health-care   \n",
       "2           corporations,pundits,taxes,abc-news-week   \n",
       "3  candidates-biography,children,ethics,families,...   \n",
       "4                     health-care,labor,state-budget   \n",
       "\n",
       "                      speaker            speaker_job        state_info  \\\n",
       "0                donald-trump        President-Elect          New York   \n",
       "1                  chris-dodd           U.S. senator       Connecticut   \n",
       "2               donna-brazile  Political commentator  Washington, D.C.   \n",
       "3             rebecca-bradley                    NaN               NaN   \n",
       "4  republican-party-wisconsin                    NaN         Wisconsin   \n",
       "\n",
       "  party_affiliation  \n",
       "0        republican  \n",
       "1          democrat  \n",
       "2          democrat  \n",
       "3              none  \n",
       "4        republican  "
      ]
     },
     "execution_count": 13,
     "metadata": {},
     "output_type": "execute_result"
    }
   ],
   "source": [
    "# dfc = df.drop(columns='id')\n",
    "dfc = df\n",
    "dfc.head()"
   ]
  },
  {
   "cell_type": "markdown",
   "metadata": {},
   "source": [
    "- Obeservar si el dataset está balanceado"
   ]
  },
  {
   "cell_type": "code",
   "execution_count": 14,
   "metadata": {},
   "outputs": [
    {
     "data": {
      "image/png": "[encoded data removed]",
      "text/plain": [
       "<Figure size 640x480 with 1 Axes>"
      ]
     },
     "metadata": {},
     "output_type": "display_data"
    }
   ],
   "source": [
    "x = dfc['label'].value_counts()\n",
    "sns.barplot(x=x.index, y=x.values)\n",
    "plt.show()"
   ]
  },
  {
   "cell_type": "markdown",
   "metadata": {},
   "source": [
    "Está bastante desequilibrado; hay muchos más textos que no son bulos que son bulos."
   ]
  },
  {
   "cell_type": "markdown",
   "metadata": {},
   "source": [
    "## 4.2 Tratamiento de los duplicados y de los nulos"
   ]
  },
  {
   "cell_type": "markdown",
   "metadata": {},
   "source": [
    "Comprobación de duplicados"
   ]
  },
  {
   "cell_type": "code",
   "execution_count": 15,
   "metadata": {},
   "outputs": [
    {
     "name": "stdout",
     "output_type": "stream",
     "text": [
      "False\n"
     ]
    }
   ],
   "source": [
    "print(dfc.duplicated().any())"
   ]
  },
  {
   "cell_type": "markdown",
   "metadata": {},
   "source": [
    "No hay duplicados"
   ]
  },
  {
   "cell_type": "markdown",
   "metadata": {},
   "source": [
    "Comporbación de si existen nulos y en que columnas se encuentran"
   ]
  },
  {
   "cell_type": "code",
   "execution_count": 16,
   "metadata": {},
   "outputs": [
    {
     "data": {
      "text/plain": [
       "id                      0\n",
       "label                   0\n",
       "statement               0\n",
       "subject                 0\n",
       "speaker                 0\n",
       "speaker_job          2482\n",
       "state_info           1930\n",
       "party_affiliation       0\n",
       "dtype: int64"
      ]
     },
     "execution_count": 16,
     "metadata": {},
     "output_type": "execute_result"
    }
   ],
   "source": [
    "dfc.isnull().sum() "
   ]
  },
  {
   "cell_type": "code",
   "execution_count": 17,
   "metadata": {},
   "outputs": [
    {
     "name": "stdout",
     "output_type": "stream",
     "text": [
      "Nulos cuando label es 1:\n",
      "id                      0\n",
      "label                   0\n",
      "statement               0\n",
      "subject                 0\n",
      "speaker                 0\n",
      "speaker_job          1731\n",
      "state_info           1385\n",
      "party_affiliation       0\n",
      "dtype: int64\n",
      "\n",
      "Nulos cuando label es 0:\n",
      "id                     0\n",
      "label                  0\n",
      "statement              0\n",
      "subject                0\n",
      "speaker                0\n",
      "speaker_job          751\n",
      "state_info           545\n",
      "party_affiliation      0\n",
      "dtype: int64\n"
     ]
    }
   ],
   "source": [
    "# Calcular nulos cuando label es 1\n",
    "nulls_label_1 = dfc[dfc['label'] == 1].isnull().sum()\n",
    "\n",
    "# Calcular nulos cuando label es 0\n",
    "nulls_label_0 = dfc[dfc['label'] == 0].isnull().sum()\n",
    "\n",
    "# Mostrar resultados\n",
    "print(\"Nulos cuando label es 1:\")\n",
    "print(nulls_label_1)\n",
    "\n",
    "print(\"\\nNulos cuando label es 0:\")\n",
    "print(nulls_label_0)"
   ]
  },
  {
   "cell_type": "markdown",
   "metadata": {},
   "source": [
    "Al ser demasiados nulos intentaremos sacar la información de otras columnas"
   ]
  },
  {
   "cell_type": "markdown",
   "metadata": {},
   "source": [
    "## 4.3 Tratamiento features"
   ]
  },
  {
   "cell_type": "markdown",
   "metadata": {},
   "source": [
    "### 4.3.1 Feature Statement"
   ]
  },
  {
   "cell_type": "markdown",
   "metadata": {},
   "source": [
    "#### Tratar orignal statement"
   ]
  },
  {
   "cell_type": "markdown",
   "metadata": {},
   "source": [
    "Exportan en json todas las *statements* para que sea más fácil visualizarlas y ver como podemos tratarlas"
   ]
  },
  {
   "cell_type": "code",
   "execution_count": 18,
   "metadata": {},
   "outputs": [],
   "source": [
    "statement_counts_dict = dfc['statement'].to_dict()\n",
    "\n",
    "create_json('json/json-study-statement/statements.json',statement_counts_dict)"
   ]
  },
  {
   "cell_type": "markdown",
   "metadata": {},
   "source": [
    "Corrección de Ill a i'll"
   ]
  },
  {
   "cell_type": "code",
   "execution_count": 19,
   "metadata": {},
   "outputs": [],
   "source": [
    "dfc['statement'] = dfc['statement'].str.replace(\"Ill\", \"i'll\")\n"
   ]
  },
  {
   "cell_type": "markdown",
   "metadata": {},
   "source": [
    "Visualicación de las palabrás *stopwords* más comunes cuando no son bulos"
   ]
  },
  {
   "cell_type": "code",
   "execution_count": 20,
   "metadata": {},
   "outputs": [
    {
     "data": {
      "image/png": "[encoded data removed]",
      "text/plain": [
       "<Figure size 640x480 with 1 Axes>"
      ]
     },
     "metadata": {},
     "output_type": "display_data"
    }
   ],
   "source": [
    "#Common stopwords in no fake claims, label 0\n",
    "collection=create_collection(dfc,0,'statement')\n",
    "\n",
    "dic=defaultdict(int)\n",
    "for word in collection: \n",
    "    if word in en_stopwords:\n",
    "        dic[word]+=1\n",
    "        \n",
    "top=sorted(dic.items(), key=lambda x:x[1],reverse=True)[:10] \n",
    "\n",
    "x,y=zip(*top)\n",
    "plt.bar(x,y)\n",
    "plt.show()"
   ]
  },
  {
   "cell_type": "markdown",
   "metadata": {},
   "source": [
    "Visualicación de las palabrás *stopwords* más comunes cuando es un bulo"
   ]
  },
  {
   "cell_type": "code",
   "execution_count": 21,
   "metadata": {},
   "outputs": [
    {
     "data": {
      "image/png": "[encoded data removed]",
      "text/plain": [
       "<Figure size 640x480 with 1 Axes>"
      ]
     },
     "metadata": {},
     "output_type": "display_data"
    }
   ],
   "source": [
    "collection=collection=create_collection(dfc,1,'statement')\n",
    "\n",
    "\n",
    "dic=defaultdict(int)\n",
    "for word in collection:\n",
    "    if word in en_stopwords:\n",
    "        dic[word]+=1\n",
    "\n",
    "top=sorted(dic.items(), key=lambda x:x[1],reverse=True)[:10] \n",
    "\n",
    "x,y=zip(*top)\n",
    "plt.bar(x,y,color='orange')\n",
    "plt.show()"
   ]
  },
  {
   "cell_type": "markdown",
   "metadata": {},
   "source": [
    "Como podemos comprobar que en tanto en fake claims como en no fake claims comparten palabras *stopwords* muy similares, por lo que en raw las eliminaremos"
   ]
  },
  {
   "cell_type": "markdown",
   "metadata": {},
   "source": [
    "Diccionario de remapeo para estructurarlo de manera adecuada"
   ]
  },
  {
   "cell_type": "code",
   "execution_count": 22,
   "metadata": {},
   "outputs": [],
   "source": [
    "replacements = {\n",
    "    r'\\bim\\b': \"i'm\",\n",
    "    r'\\byoure\\b': \"you're\",\n",
    "    r'\\bhes\\b': \"he's\",\n",
    "    r'\\bshes\\b': \"she's\",\n",
    "    r'\\bits\\b': \"it's\",\n",
    "    r'\\btheyre\\b': \"they're\",\n",
    "    r'\\byoud\\b': \"you'd\",\n",
    "    r'\\bhed\\b': \"he'd\",\n",
    "    r'\\bshed\\b': \"she'd\",\n",
    "    r'\\bwed\\b': \"we'd\",\n",
    "    r'\\btheyd\\b': \"they'd\",\n",
    "    r'\\byoull\\b': \"you'll\",\n",
    "    r'\\bhell\\b': \"he'll\",\n",
    "    r'\\bshell\\b': \"she'll\",\n",
    "    r'\\bitll\\b': \"it'll\",\n",
    "    r'\\bwell\\b': \"we'll\",\n",
    "    r'\\btheyll\\b': \"they'll\",\n",
    "    # hasnt\n",
    "    r'\\bhavent\\b': \"haven't\",\n",
    "    r'\\bhasnt\\b': \"hasn't\",\n",
    "    r'\\bdidnt\\b': \"didn't\",\n",
    "    r'\\bwont\\b': \"won't\",\n",
    "    r'\\bwouldnt\\b': \"wouldn't\",\n",
    "    r'\\bcant\\b': \"can't\",\n",
    "    r'\\bcouldnt\\b': \"couldn't\",\n",
    "    r'\\bisnt\\b': \"isn't\",\n",
    "    r'\\barent\\b': \"aren't\",\n",
    "    r'\\bshouldnt\\b': \"shouldn't\",\n",
    "    r'\\bwasnt\\b': \"wasn't\",\n",
    "    r'\\bwerent\\b': \"weren't\",\n",
    "    r'\\bdont\\b': \"don't\",\n",
    "    r'\\bdoesnt\\b': \"doesn't\",\n",
    "    r'\\bmightnt\\b': \"mightn't\",\n",
    "    r'\\bmustnt\\b': \"mustn't\",\n",
    "    r'\\bneednt\\b': \"needn't\",\n",
    "    r'\\bwhyd\\b': \"why'd\",\n",
    "    r'\\bwholl\\b': \"who'll\",\n",
    "    r'\\bwhod\\b': \"who'd\",\n",
    "    r'\\bwhos\\b': \"who's\",\n",
    "    r'\\bwhats\\b': \"what's\",\n",
    "    r'\\bwhens\\b': \"when's\",\n",
    "    r'\\bwhys\\b': \"why's\",\n",
    "    r'\\bwhereas\\b': \"where's\",\n",
    "    r'\\bwhereve\\b': \"where've\",\n",
    "}\n",
    "\n",
    "# Función para aplicar los reemplazos\n",
    "def replace_words(text):\n",
    "    for pattern, replacement in replacements.items():\n",
    "        text = re.sub(pattern, replacement, text, flags=re.IGNORECASE)\n",
    "    return text"
   ]
  },
  {
   "cell_type": "markdown",
   "metadata": {},
   "source": [
    "Remapeo de las palabras en función del diccionario anterior."
   ]
  },
  {
   "cell_type": "code",
   "execution_count": 23,
   "metadata": {},
   "outputs": [
    {
     "name": "stdout",
     "output_type": "stream",
     "text": [
      "0    China is in the South China Sea and (building)...\n",
      "1    With the resources it takes to execute just ov...\n",
      "2    The (Wisconsin) governor has proposed tax give...\n",
      "3    Says her representation of an ex-boyfriend who...\n",
      "4    At protests in Wisconsin against proposed coll...\n",
      "Name: statement, dtype: object\n"
     ]
    }
   ],
   "source": [
    "# Aplicar la función a la columna 'statement'\n",
    "dfc['statement'] = dfc['statement'].apply(replace_words)\n",
    "\n",
    "# Verificar el resultado en las primeras filas\n",
    "print(dfc['statement'].head())"
   ]
  },
  {
   "cell_type": "markdown",
   "metadata": {},
   "source": [
    "Pasos realizados por la función ***preprocess***\n",
    "\n",
    "1. <u>Limpieza inicial del texto</u>:\n",
    "\n",
    "Elimina espacios en blanco adicionales y recorta los espacios al inicio y al final del texto usando re.sub(r'\\s+', ' ', text).strip().\n",
    "\n",
    "2. <u>Reemplazo de palabras específicas</u>:\n",
    "\n",
    "Aplica la función replace_words para realizar reemplazos basados en un diccionario predefinido de patrones y sustituciones (como convertir \"Ill\" a \"I'll\").\n",
    "\n",
    "3. <u>Tokenización y análisis con SpaCy</u>:\n",
    "\n",
    "Convierte el texto en un objeto doc utilizando el modelo de lenguaje de SpaCy (nlp).\n",
    "\n",
    "4. <u>Eliminación de URLs</u>:\n",
    "\n",
    "Si un token es identificado como una URL (token.like_url), se elimina y se incrementa el contador url_changes.\n",
    "\n",
    "5. <u>Eliminación de números</u>:\n",
    "\n",
    "Si un token contiene números (token.like_num o caracteres numéricos), se elimina y se incrementa el contador digit_changes.\n",
    "\n",
    "6. <u>Eliminación de puntuación</u>:\n",
    "\n",
    "Si un token es puntuación (token.is_punct o contiene caracteres de puntuación), se elimina y se incrementa el contador punct_changes.\n",
    "\n",
    "7. <u>Normalización de negaciones</u>:\n",
    "\n",
    "Detecta palabras de negación (como \"not\", \"never\") o sufijos de negación (como \"n't\") y las normaliza a \"not\". Incrementa el contador not_changes.\n",
    "\n",
    "8. <u>Eliminación de auxiliares</u>:\n",
    "\n",
    "Si un token es un verbo auxiliar (token.pos_ == \"AUX\") y cumple ciertas condiciones, se elimina.\n",
    "\n",
    "9. <u>Eliminación de stopwords</u>:\n",
    "\n",
    "Elimina stopwords (palabras comunes como \"the\", \"and\") excepto si son verbos, sustantivos, pronombres propios o negaciones. Incrementa el contador stopword_changes.\n",
    "\n",
    "10. <u>Construcción del texto procesado</u>:\n",
    "\n",
    "Los tokens restantes se agregan a una lista y se unen en una cadena de texto final.\n",
    "\n",
    "11. <u>Identificación de palabras fuera del vocabulario (OOV)</u>:\n",
    "\n",
    "Si un token no está en el vocabulario del modelo (token.is_oov), se agrega a un diccionario de palabras fuera del vocabulario (oov_words_by_row).\n",
    "\n",
    "12. <u>Retorno del texto procesado</u>:\n",
    "\n",
    "Devuelve el texto procesado como una cadena."
   ]
  },
  {
   "cell_type": "code",
   "execution_count": 24,
   "metadata": {},
   "outputs": [
    {
     "name": "stdout",
     "output_type": "stream",
     "text": [
      "Original: China is in the South China Sea and (building)a military fortress the likes of which perhaps the world has not seen.\n",
      "Procesado: China is South China Sea military fortress likes which world not seen\n",
      "\n",
      "URLs eliminadas: 0\n",
      "Puntuaciónes eliminadas: 3\n",
      "Stopwords eliminadas: 7\n",
      "Dígitos eliminados: 0\n"
     ]
    }
   ],
   "source": [
    "# Diccionario de palabras fuera del vocabulario (OOV)\n",
    "oov_words_by_row = {}\n",
    "\n",
    "# Contadores globales\n",
    "digit_changes = 0\n",
    "punct_changes = 0\n",
    "url_changes = 0\n",
    "stopword_changes = 0\n",
    "not_changes = 0\n",
    "\n",
    "# Palabras de negación completasstring.punctuation\n",
    "negation_words = {\n",
    "    \"not\", \"never\", \"no\", \"nor\", \"cannot\", \"nobody\", \"none\",\n",
    "    \"nothing\", \"nowhere\", \"neither\", \"can't\", \"dont\", \"won't\", \n",
    "    \"don't\", \"aren't\", \"isn't\", \"wasn't\", \"couldn't\", \n",
    "    \"shouldn't\", \"wouldn't\", \"didn't\", \"hasn't\", \"haven't\", \"hadn't\"\n",
    "}\n",
    "\n",
    "# También detectaremos contracciones con n't\n",
    "negation_suffixes = (\"n't\", \"'t\")\n",
    "\n",
    "\n",
    "def preprocess(text, row_number=None):\n",
    "    global digit_changes, punct_changes, url_changes, stopword_changes, not_changes\n",
    "\n",
    "    text = re.sub(r'\\s+', ' ', text).strip()\n",
    "    text = replace_words(text)  # asumes que tienes esta función\n",
    "\n",
    "    doc = nlp(text)\n",
    "    tokens = []\n",
    "    oov_tokens = []\n",
    "\n",
    "    for token in doc:\n",
    "        # Eliminar URLs\n",
    "        if token.like_url:\n",
    "            url_changes += 1\n",
    "            continue\n",
    "\n",
    "        # Eliminar números\n",
    "        if token.like_num or any(char.isdigit() for char in token.text):\n",
    "            digit_changes += 1\n",
    "            continue\n",
    "\n",
    "        # Eliminar puntuación\n",
    "        if token.is_punct or token.is_space or any(char in string.punctuation for char in token.text):\n",
    "            punct_changes += 1\n",
    "            continue\n",
    "\n",
    "        lower_token = token.text.lower()\n",
    "\n",
    "        # Detectar y normalizar negaciones\n",
    "        if lower_token in negation_words or lower_token.endswith(negation_suffixes):\n",
    "            tokens.append(\"not\")\n",
    "            not_changes += 1\n",
    "            continue\n",
    "\n",
    "        # Eliminar auxiliares si realmente lo son (usados como \"aux\")\n",
    "        if token.pos_ == \"AUX\" and token.dep_ == \"aux\":\n",
    "            continue\n",
    "\n",
    "        # Eliminar stopwords solo si no son VERB, NOUN, PROPN o negaciones\n",
    "        if token.is_stop and token.pos_ not in {\"VERB\", \"NOUN\", \"PROPN\", \"AUX\", \"PRON\"}:\n",
    "            stopword_changes += 1\n",
    "            continue\n",
    "\n",
    "\n",
    "        # # Lematizar verbos y auxiliares no auxiliares\n",
    "        # if token.pos_ in {\"VERB\", \"AUX\"}:\n",
    "        #     tokens.append(token.lemma_)\n",
    "        # else:\n",
    "        #     tokens.append(token.text)\n",
    "\n",
    "        tokens.append(token.text)\n",
    "        if token.is_oov:\n",
    "            oov_tokens.append(token.text)\n",
    "\n",
    "    if row_number is not None and oov_tokens:\n",
    "        oov_words_by_row[row_number] = oov_tokens\n",
    "\n",
    "    return ' '.join(tokens)\n",
    "\n",
    "# ------------------- Sección de pruebas -------------------\n",
    "if __name__ == \"__main__\":\n",
    "    ejemplos = [\n",
    "        \"China is in the South China Sea and (building)a military fortress the likes of which perhaps the world has not seen.\",\n",
    "        # \"I had not check library book photo ID\",\n",
    "        # \"The new Arizona immigration law \\\"says that any police officer can stop anyone who appears to them to be reasonably suspicious of being an undocumented person.\\\"\",\n",
    "        # \"Hospitals, doctors, MRIs, surgeries and so forth are more extensively used and far more expensive in this country than they are in many other countries.''\\thealth-care\\tmitt-romney\\tFormer governor\\tMassachusetts\\trepublican\\t34\\t32\\t58\\t33\\t19\\ta Fox News Sunday interview\\n9874.json\\tbarely-true\\tObamacare cuts seniors Medicare.\\thealth-care,medicare\\ted-gillespie\\tRepublican strategist\\tWashington, D.C.\\trepublican\\t2\\t3\\t2\\t2\\t1\\ta campaign email.\\n3072.json\\tmostly-true\\tThe refusal of many federal employees to fly coach costs taxpayers $146 million annually.\\tgovernment-efficiency,transparency\\tnewsmax\\tMagazine and website\\tFlorida\\tnone\\t0\\t0\\t0\\t1\\t0\\tan e-mail solicitation\\n2436.json\\tmostly-true\\tFlorida spends more than $300 million a year just on children repeating pre-K through 3rd grade.\\teducation\\talex-sink\\t\\tFlorida\\tdemocrat\\t1\\t2\\t2\\t4\\t0\\tfigures cites on campaign website\\n9721.json\\ttrue\\tMilwaukee County Sheriff David A. Clarke Jr. advised citizens to point that barrel center mass and pull the trigger because 911 is not our best option.\\tcrime,criminal-justice,guns,legal-issues\\tgreater-wisconsin-political-fund\\t\\tWisconsin\\tnone\\t3\\t3\\t3\\t1\\t1\\ta campaign TV ad\\n3627.json\\tfalse\\tAlmost 37 percent of the total income from Planned Parenthood is from abortions.\\tabortion\\tronald-renuart\\tState Representative\\tFlorida\\trepublican\\t0\\t1\\t0\\t0\\t0\\tcomments during a committee hearing\\n11900.json\\thalf-true\\tThe United States has the highest rate of childhood poverty of almost any major country on Earth.\\tchildren,poverty\\tbernie-s\\tU.S. Senator\\tVermont\\tindependent\\t18\\t12\\t22\\t41\\t0\\tcomments during the PBS Democratic debate\\n4611.json\\ttrue\\tUnder Governor Almond the RI DMV had a program that allowed undocumented [people to] use their Personal Tax Identification Number . . . to apply [for] and receive a RI drivers license.\\tcivil-rights,homeland-security,immigration,public-safety,transportation,workers\\tdavid-quiroa\\tprresident, Guatemalan-American Alliance of Rhode Island\\tRhode Island\\tnewsmaker\\t0\\t0\\t0\\t0\\t0\\ta news release\\n3168.json\\tpants-fire\\tIllegal aliens cost the state of Rhode Island $400 million a year.\\tcensus,crime,education,health-care,immigration,state-budget,taxes\\tterry-gorman\\tPresident, Rhode Islanders for Immigration Law Enforcement\\tRhode Island\\tnewsmaker\\t1\\t0\\t0\\t0\\t1\\ta radio interview\\n6832.json\\tpants-fire\\tSays Eric Cantor voted to assure Congress would be paid if the government shut down and against guaranteeing troops would be paid.\\tcongressional-rules,federal-budget,military\\twayne-powell\\tlawyer\\tVirginia\\tdemocrat\\t1\\t1\\t0\\t0\\t1\\ta debate.\\n5893.json\\tmostly-true\\tIf Congress froze the current spending level and then cut it by 2 percent annually, we could balance the budget in five years.\\tdeficit,federal-budget\\tjamie-radtke\\t\\tVirginia\\trepublican\\t1\\t1\\t1\\t2\\t0\\ta statement\\n3304.json\\ttrue\\tEvery (Wisconsin) legislator that votes for this bill will have to give up the same amount of pay as other state employees.\\tlabor,state-budget\\tjeff-fitzgerald\\tIncoming speaker of state Assembly\\tWisconsin\\trepublican\\t2\\t0\\t1\\t2\\t2\\tan interview on the Fox News Channel\\n1638.json\\thalf-true\\tMarco Rubio controlled funds that out of the $600,000 that were raised, only $4,000 went to candidates to try to improve their chances to be elected to office.\\\"\",\n",
    "    ]\n",
    "\n",
    "    for s in ejemplos:\n",
    "        print(f\"Original: {s}\")\n",
    "        resultado = preprocess(s,1)\n",
    "        print(f\"Procesado: {resultado}\\n\")\n",
    "\n",
    "    print(f\"URLs eliminadas: {url_changes}\")\n",
    "    print(f\"Puntuaciónes eliminadas: {punct_changes}\")\n",
    "    print(f\"Stopwords eliminadas: {stopword_changes}\")\n",
    "    print(f\"Dígitos eliminados: {digit_changes}\")\n"
   ]
  },
  {
   "cell_type": "markdown",
   "metadata": {},
   "source": [
    "Aplicar la función de procesamiento a la columna *'statement'* del dataset, guardandolo en *'statement-raw'* con toda las frases en minúscula"
   ]
  },
  {
   "cell_type": "code",
   "execution_count": 25,
   "metadata": {},
   "outputs": [
    {
     "name": "stdout",
     "output_type": "stream",
     "text": [
      "Diccionario OOV guardado en: ./json-study-statement/oov_words_by_row.json\n",
      "URLs eliminadas: 30\n",
      "Puntuaciones eliminadas: 23275\n",
      "Stopwords eliminadas: 47655\n",
      "Dígitos eliminados: 7956\n"
     ]
    }
   ],
   "source": [
    "dfc['statement-raw'] = dfc.apply(lambda row: preprocess(row['statement'], row.name), axis=1)\n",
    "dfc['statement-raw'] = dfc['statement-raw'].str.lower()\n",
    "save_oov_to_json(oov_words_by_row)\n",
    "\n",
    "\n",
    "\n",
    "# Mostrar los contadores\n",
    "print(f\"URLs eliminadas: {url_changes}\")\n",
    "print(f\"Puntuaciones eliminadas: {punct_changes}\")\n",
    "print(f\"Stopwords eliminadas: {stopword_changes}\")\n",
    "print(f\"Dígitos eliminados: {digit_changes}\")"
   ]
  },
  {
   "cell_type": "markdown",
   "metadata": {},
   "source": [
    "Visualicación de las palabrás más comunes cuando no es un bulo trás el procesado"
   ]
  },
  {
   "cell_type": "code",
   "execution_count": 26,
   "metadata": {},
   "outputs": [
    {
     "data": {
      "image/png": "[encoded data removed]",
      "text/plain": [
       "<Figure size 640x480 with 1 Axes>"
      ]
     },
     "metadata": {},
     "output_type": "display_data"
    }
   ],
   "source": [
    "collection=create_collection(dfc,0,'statement-raw')\n",
    "\n",
    "\n",
    "dic=defaultdict(int)\n",
    "for word in collection: \n",
    "    dic[word]+=1\n",
    "        \n",
    "top=sorted(dic.items(), key=lambda x:x[1],reverse=True)[:10] \n",
    "\n",
    "x,y=zip(*top)\n",
    "plt.bar(x,y)\n",
    "plt.show()"
   ]
  },
  {
   "cell_type": "markdown",
   "metadata": {},
   "source": [
    "Visualicación de las palabrás más comunes cuando es un bulo trás el procesado"
   ]
  },
  {
   "cell_type": "code",
   "execution_count": 27,
   "metadata": {},
   "outputs": [
    {
     "data": {
      "image/png": "[encoded data removed]",
      "text/plain": [
       "<Figure size 640x480 with 1 Axes>"
      ]
     },
     "metadata": {},
     "output_type": "display_data"
    }
   ],
   "source": [
    "collection=create_collection(dfc,1,'statement-raw')\n",
    "\n",
    "\n",
    "dic=defaultdict(int)\n",
    "for word in collection: \n",
    "    dic[word]+=1\n",
    "        \n",
    "top=sorted(dic.items(), key=lambda x:x[1],reverse=True)[:10] \n",
    "\n",
    "x,y=zip(*top)\n",
    "plt.bar(x,y, color='orange')\n",
    "plt.show()"
   ]
  },
  {
   "cell_type": "markdown",
   "metadata": {},
   "source": [
    "Creación de json para visualizarlo de manera más sencilla"
   ]
  },
  {
   "cell_type": "code",
   "execution_count": 28,
   "metadata": {},
   "outputs": [],
   "source": [
    "statement_counts_dict = dfc['statement-raw'].to_dict()\n",
    "create_json('json/json-study-statement/statements_raw.json',statement_counts_dict)"
   ]
  },
  {
   "cell_type": "markdown",
   "metadata": {},
   "source": [
    "#### Lematize"
   ]
  },
  {
   "cell_type": "markdown",
   "metadata": {},
   "source": [
    "Pasos realizados por la función ***lemmatize_verbs***\n",
    "\n",
    "1. <u>Tokenización del texto</u>:\n",
    "\n",
    "Utiliza el modelo de lenguaje SpaCy (nlp) para dividir el texto en tokens y analizar su estructura gramatical.\n",
    "\n",
    "2. <u>Inicialización de la lista de salida</u>:\n",
    "\n",
    "Crea una lista vacía lemmatized_text para almacenar los tokens procesados.\n",
    "\n",
    "3. <u>Procesamiento de cada token</u>:\n",
    "\n",
    "    - Ignorar auxiliares usados como auxiliares: \n",
    "        Si el token es un verbo auxiliar (token.pos_ == \"AUX\") y su dependencia gramatical es auxiliar (token.dep_ == \"aux\"), se omite.\n",
    "\n",
    "    - Lematización de verbos y auxiliares no auxiliares:  \n",
    "        Si el token es un verbo (VERB) o un auxiliar no auxiliar (AUX), se agrega su forma lematizada (token.lemma_) a la lista.\n",
    "\n",
    "    - Mantener otros tokens sin cambios: \n",
    "        Si el token no cumple las condiciones anteriores, se agrega tal cual (token.text) a la lista.\n",
    "\n",
    "4. <u>Construcción del texto lematizado</u>:\n",
    "\n",
    "Une los tokens procesados en una cadena de texto, separándolos por espacios.\n",
    "\n",
    "5. <u>Retorno del texto procesado</u>:\n",
    "\n",
    "Devuelve el texto lematizado como una cadena."
   ]
  },
  {
   "cell_type": "code",
   "execution_count": 29,
   "metadata": {},
   "outputs": [
    {
     "name": "stdout",
     "output_type": "stream",
     "text": [
      "Verbos lematizados: 0\n",
      "Auxiliares lematizados: 0\n"
     ]
    }
   ],
   "source": [
    "lemmatized_verbs_count = 0\n",
    "lemmatized_aux_count = 0\n",
    "\n",
    "def lemmatize_verbs(text):\n",
    "    doc = nlp(text)\n",
    "    lemmatized_text = []\n",
    "    for token in doc:\n",
    "        # Si es un auxiliar (como \"is\") pero funciona como auxiliar, lo ignoramos\n",
    "        if token.pos_ == \"AUX\" and token.dep_ == \"aux\":\n",
    "            continue\n",
    "        # Si es VERB o AUX no auxiliar, lematizamos\n",
    "        elif token.pos_ in {\"VERB\", \"AUX\"}:\n",
    "            lemmatized_text.append(token.lemma_)\n",
    "        else:\n",
    "            lemmatized_text.append(token.text)\n",
    "    return \" \".join(lemmatized_text)\n",
    "\n",
    "# ------------------- Sección de pruebas -------------------\n",
    "if __name__ == \"__main__\":\n",
    "    ejemplos = [\n",
    "        # \"China is in the South China Sea and (building)a military fortress the likes of which perhaps the world has not seen.\",\n",
    "        # \"they would had not check library book photo ID\",\n",
    "    ]\n",
    "\n",
    "    for s in ejemplos:\n",
    "        print(f\"Original: {s}\")\n",
    "        resultado = lemmatize_verbs(s)\n",
    "        print(f\"Procesado: {resultado}\\n\")\n",
    "\n",
    "print(f\"Verbos lematizados: {lemmatized_verbs_count}\")\n",
    "print(f\"Auxiliares lematizados: {lemmatized_aux_count}\")"
   ]
  },
  {
   "cell_type": "markdown",
   "metadata": {},
   "source": [
    "Aplicar la función de lematización a la columna *'statement-raw'* del dataset y lo guardamos en *'statement-lemmatize'*"
   ]
  },
  {
   "cell_type": "code",
   "execution_count": 30,
   "metadata": {},
   "outputs": [
    {
     "name": "stdout",
     "output_type": "stream",
     "text": [
      "Verbos lematizados: 0\n",
      "Auxiliares lematizados: 0\n"
     ]
    }
   ],
   "source": [
    "dfc['statement-lemmatize'] = dfc['statement-raw'].apply(lambda x: lemmatize_verbs(x))\n",
    "\n",
    "print(f\"Verbos lematizados: {lemmatized_verbs_count}\")\n",
    "print(f\"Auxiliares lematizados: {lemmatized_aux_count}\")"
   ]
  },
  {
   "cell_type": "markdown",
   "metadata": {},
   "source": [
    "Creación de json para visualizarlo de manera más sencilla"
   ]
  },
  {
   "cell_type": "code",
   "execution_count": 31,
   "metadata": {},
   "outputs": [],
   "source": [
    "statement_counts_dict = dfc['statement-lemmatize'].to_dict()\n",
    "\n",
    "create_json('json/json-study-statement/statement-lemmatize.json', statement_counts_dict)"
   ]
  },
  {
   "cell_type": "markdown",
   "metadata": {},
   "source": [
    "Visualicación de las palabrás más comunes cuando no es un bulo trás la lematización"
   ]
  },
  {
   "cell_type": "code",
   "execution_count": 32,
   "metadata": {},
   "outputs": [
    {
     "data": {
      "image/png": "[encoded data removed]",
      "text/plain": [
       "<Figure size 640x480 with 1 Axes>"
      ]
     },
     "metadata": {},
     "output_type": "display_data"
    }
   ],
   "source": [
    "collection = create_collection(dfc,0,'statement-lemmatize')\n",
    "\n",
    "dic=defaultdict(int)\n",
    "for word in collection: \n",
    "    dic[word]+=1\n",
    "        \n",
    "top=sorted(dic.items(), key=lambda x:x[1],reverse=True)[:10] \n",
    "\n",
    "x,y=zip(*top)\n",
    "plt.bar(x,y)\n",
    "plt.show()"
   ]
  },
  {
   "cell_type": "markdown",
   "metadata": {},
   "source": [
    "Visualicación de las palabrás más comunes cuando es un bulo trás la lematización"
   ]
  },
  {
   "cell_type": "code",
   "execution_count": 33,
   "metadata": {},
   "outputs": [
    {
     "data": {
      "image/png": "[encoded data removed]",
      "text/plain": [
       "<Figure size 640x480 with 1 Axes>"
      ]
     },
     "metadata": {},
     "output_type": "display_data"
    }
   ],
   "source": [
    "collection = create_collection(dfc,1,'statement-lemmatize')\n",
    "\n",
    "dic=defaultdict(int)\n",
    "for word in collection:\n",
    "    if word in en_stopwords:\n",
    "        dic[word]+=1\n",
    "\n",
    "top=sorted(dic.items(), key=lambda x:x[1],reverse=True)[:10] \n",
    "\n",
    "x,y=zip(*top)\n",
    "plt.bar(x,y,color='orange')\n",
    "plt.show()"
   ]
  },
  {
   "cell_type": "markdown",
   "metadata": {},
   "source": [
    "#### NER"
   ]
  },
  {
   "cell_type": "markdown",
   "metadata": {},
   "source": [
    "Pasos realizados por la función ***preprocess_new***: \n",
    "\n",
    "1. <u>Limpieza inicial del texto</u>:\n",
    "\n",
    "Elimina espacios en blanco adicionales y recorta los espacios al inicio y al final del texto utilizando re.sub(r'\\s+', ' ', text).strip().\n",
    "\n",
    "2. <u>Tokenización y análisis con SpaCy</u>:\n",
    "\n",
    "Convierte el texto en un objeto doc utilizando el modelo de lenguaje SpaCy (nlp), lo que permite identificar las entidades nombradas.\n",
    "\n",
    "3. <u>Extracción de entidades nombradas</u>:\n",
    "\n",
    "Recolecta las entidades nombradas (ent.text) detectadas por SpaCy en el texto y las almacena en una lista llamada labels.\n",
    "\n",
    "4. <u>Construcción de la salida</u>:\n",
    "\n",
    "Si se detectan entidades nombradas, las une en una cadena separada por espacios.\n",
    "Si no se detectan entidades, devuelve la cadena (no entities).\n",
    "\n",
    "5. <u>Retorno del resultado</u>:\n",
    "\n",
    "Devuelve una cadena con las entidades nombradas o (no entities) si no se encontraron."
   ]
  },
  {
   "cell_type": "code",
   "execution_count": 34,
   "metadata": {},
   "outputs": [
    {
     "name": "stdout",
     "output_type": "stream",
     "text": [
      "Input:    Barack Obama was born in Hawaii and served as President of the United States.\n",
      "Labels:   Barack Obama Hawaii the United States\n",
      "\n"
     ]
    }
   ],
   "source": [
    "def preprocess_ner(text):\n",
    "    \"\"\"\n",
    "    Extrae las entidades nombradas y devuelve\n",
    "    una cadena con sus labels en orden.\n",
    "    \"\"\"\n",
    "    # Limpieza básica de espacios\n",
    "    text = re.sub(r'\\s+', ' ', text).strip()\n",
    "    doc = nlp(text)\n",
    "\n",
    "    # Recolectamos solo los labels, en orden de aparición\n",
    "    labels = [ent.text for ent in doc.ents]\n",
    "\n",
    "    # Unimos en una frase (puedes cambiar el separador si prefieres comas)\n",
    "    if labels:\n",
    "        return ' '.join(labels)\n",
    "    else:\n",
    "        return '(no entities)'\n",
    "\n",
    "if __name__ == \"__main__\":\n",
    "    ejemplos = [\n",
    "        # \"Says 76 percent voters United States want Johnson Weld presidential debates\",\n",
    "        \"Barack Obama was born in Hawaii and served as President of the United States.\",\n",
    "        # \"Apple Inc. announced a new iPhone in Cupertino.\"\n",
    "        # \"says her representation ex boyfriend who was my friend family law case is something that lawyers do regular basis\",\n",
    "    ]\n",
    "\n",
    "    for s in ejemplos:\n",
    "        frase_labels = preprocess_ner(s)\n",
    "        print(f\"Input:    {s}\")\n",
    "        print(f\"Labels:   {frase_labels}\\n\")\n"
   ]
  },
  {
   "cell_type": "markdown",
   "metadata": {},
   "source": [
    "Aplicar la función de ***preprocess_ner*** extrayendo palabras de valor a la columna *'statement'* del dataset y lo guardamos en *'statement-ner'*"
   ]
  },
  {
   "cell_type": "code",
   "execution_count": 35,
   "metadata": {},
   "outputs": [],
   "source": [
    "# preprocess_ner\n",
    "dfc['statement-ner'] = df['statement'].apply(lambda x: preprocess_ner(x))\n",
    "dfc['statement-ner'] = dfc['statement-ner'].str.lower()\n"
   ]
  },
  {
   "cell_type": "markdown",
   "metadata": {},
   "source": [
    "Creación de json para visualizarlo de manera más sencilla"
   ]
  },
  {
   "cell_type": "code",
   "execution_count": 36,
   "metadata": {},
   "outputs": [],
   "source": [
    "statement_counts_dict = dfc['statement-ner'].to_dict()\n",
    "\n",
    "create_json('json/json-study-statement/statements_ner.json', statement_counts_dict)"
   ]
  },
  {
   "cell_type": "markdown",
   "metadata": {},
   "source": [
    "####  Sentimientos"
   ]
  },
  {
   "cell_type": "markdown",
   "metadata": {},
   "source": [
    "Descargar el lexico de vader.\n",
    "\n",
    "Crear una instacia del analizador de vader para utilizarlo luego."
   ]
  },
  {
   "cell_type": "code",
   "execution_count": 37,
   "metadata": {},
   "outputs": [
    {
     "name": "stderr",
     "output_type": "stream",
     "text": [
      "[nltk_data] Downloading package vader_lexicon to\n",
      "[nltk_data]     /home/sergio/nltk_data...\n",
      "[nltk_data]   Package vader_lexicon is already up-to-date!\n"
     ]
    }
   ],
   "source": [
    "nltk.download('vader_lexicon')\n",
    "sia = SentimentIntensityAnalyzer()"
   ]
  },
  {
   "cell_type": "markdown",
   "metadata": {},
   "source": [
    "Función para a través de la instancia de vader analizar el sentimiento de los textos"
   ]
  },
  {
   "cell_type": "code",
   "execution_count": 38,
   "metadata": {},
   "outputs": [
    {
     "name": "stdout",
     "output_type": "stream",
     "text": [
      "Original: Barack Obama was born in Hawaii and served as President of the United States.\n",
      "Procesado: 0.4215\n",
      "\n"
     ]
    }
   ],
   "source": [
    "def analyze_sentiment(text):\n",
    "    return sia.polarity_scores(text)['compound']\n",
    "\n",
    "if __name__ == \"__main__\":\n",
    "\n",
    "    ejemplos = [\n",
    "        \"Barack Obama was born in Hawaii and served as President of the United States.\",\n",
    "    ]\n",
    "\n",
    "    for s in ejemplos:\n",
    "        print(f\"Original: {s}\")\n",
    "        resultado = analyze_sentiment(s)\n",
    "        print(f\"Procesado: {resultado}\\n\")\n",
    "\n",
    "\n"
   ]
  },
  {
   "cell_type": "markdown",
   "metadata": {},
   "source": [
    "Aplicar la función de ***analyze_sentiment*** para analizar los sentimientos a la columna *'statement'* del dataset y lo guardamos en *'feelings'*"
   ]
  },
  {
   "cell_type": "code",
   "execution_count": 39,
   "metadata": {},
   "outputs": [],
   "source": [
    "dfc['feelings'] = df[\"statement\"]\n",
    "dfc['feelings'] = dfc[\"feelings\"].apply(lambda x: analyze_sentiment(x))"
   ]
  },
  {
   "cell_type": "markdown",
   "metadata": {},
   "source": [
    "Creación de json para visualizarlo de manera más sencilla"
   ]
  },
  {
   "cell_type": "code",
   "execution_count": 40,
   "metadata": {},
   "outputs": [],
   "source": [
    "statement_counts_dict = dfc['feelings'].to_dict()\n",
    "\n",
    "create_json('json/json-study-statement/statements_sentimientos.json', statement_counts_dict)"
   ]
  },
  {
   "cell_type": "markdown",
   "metadata": {},
   "source": [
    "### 4.3.2 Resto de features"
   ]
  },
  {
   "cell_type": "code",
   "execution_count": 41,
   "metadata": {},
   "outputs": [],
   "source": [
    "# dfc = data.copy()"
   ]
  },
  {
   "cell_type": "markdown",
   "metadata": {},
   "source": [
    "#### - subject"
   ]
  },
  {
   "cell_type": "markdown",
   "metadata": {},
   "source": [
    "Ver tipos de temáticas y como están almacenadas"
   ]
  },
  {
   "cell_type": "code",
   "execution_count": 42,
   "metadata": {},
   "outputs": [
    {
     "data": {
      "text/plain": [
       "subject\n",
       "health-care                                                                                           341\n",
       "taxes                                                                                                 244\n",
       "elections                                                                                             225\n",
       "immigration                                                                                           224\n",
       "education                                                                                             201\n",
       "                                                                                                     ... \n",
       "federal-budget,pundits,taxes,abc-news-week                                                              1\n",
       "city-government,county-government,criminal-justice,job-accomplishments,legal-issues,public-service      1\n",
       "campaign-finance,energy,oil-spill,pundits                                                               1\n",
       "financial-regulation,guns                                                                               1\n",
       "medicare,message-machine,retirement                                                                     1\n",
       "Name: count, Length: 3409, dtype: int64"
      ]
     },
     "execution_count": 42,
     "metadata": {},
     "output_type": "execute_result"
    }
   ],
   "source": [
    "dfc['subject'].value_counts()"
   ]
  },
  {
   "cell_type": "markdown",
   "metadata": {},
   "source": [
    "Ver tipos de temáticas y como están almacenadas de las primeras 10 lineas del *dataset*"
   ]
  },
  {
   "cell_type": "code",
   "execution_count": 43,
   "metadata": {},
   "outputs": [
    {
     "data": {
      "text/plain": [
       "1                                          health-care\n",
       "2             corporations,pundits,taxes,abc-news-week\n",
       "3    candidates-biography,children,ethics,families,...\n",
       "4                       health-care,labor,state-budget\n",
       "5                                 candidates-biography\n",
       "6                     legal-issues,state-budget,states\n",
       "7                                                 iraq\n",
       "8                                          immigration\n",
       "9     economy,income,retirement,social-security,wealth\n",
       "Name: subject, dtype: object"
      ]
     },
     "execution_count": 43,
     "metadata": {},
     "output_type": "execute_result"
    }
   ],
   "source": [
    "dfc['subject'].iloc[1:10]                    "
   ]
  },
  {
   "cell_type": "markdown",
   "metadata": {},
   "source": [
    "Formatear bien las temáticas más almacenarlas en una lista para luego poder manipular los diferentes tópicos"
   ]
  },
  {
   "cell_type": "code",
   "execution_count": 44,
   "metadata": {},
   "outputs": [],
   "source": [
    "dfc['subject'] = dfc['subject'].str.lower()\n",
    "dfc['subject_list'] = (\n",
    "    dfc['subject']\n",
    "    .str.split(',')\n",
    "    .apply(lambda lst: [s.strip() for s in lst if s.strip()])\n",
    ")\n"
   ]
  },
  {
   "cell_type": "markdown",
   "metadata": {},
   "source": [
    "*Explode* para tener una fila por cada etiqueta "
   ]
  },
  {
   "cell_type": "code",
   "execution_count": 45,
   "metadata": {},
   "outputs": [
    {
     "data": {
      "text/plain": [
       "0          foreign-policy\n",
       "0                military\n",
       "1             health-care\n",
       "2            corporations\n",
       "2                 pundits\n",
       "2                   taxes\n",
       "2           abc-news-week\n",
       "3    candidates-biography\n",
       "3                children\n",
       "Name: subject_list, dtype: object"
      ]
     },
     "execution_count": 45,
     "metadata": {},
     "output_type": "execute_result"
    }
   ],
   "source": [
    "subjects_exploded = dfc.explode('subject_list')\n",
    "subjects_exploded['subject_list'].iloc[1:10]"
   ]
  },
  {
   "cell_type": "markdown",
   "metadata": {},
   "source": [
    "Creación de json para visualizarlo de manera más sencilla"
   ]
  },
  {
   "cell_type": "code",
   "execution_count": 46,
   "metadata": {},
   "outputs": [],
   "source": [
    "subject_count_dict = subjects_exploded['subject_list'].value_counts().to_dict()\n",
    "with open('json/json-study/subject_counts.json', 'w', encoding='utf-8') as f:\n",
    "    json.dump(subject_count_dict, f, ensure_ascii=False, indent=2)"
   ]
  },
  {
   "cell_type": "markdown",
   "metadata": {},
   "source": [
    "Diccionario para mapear las diferntes temáticas en otrás categorías más genéricas"
   ]
  },
  {
   "cell_type": "code",
   "execution_count": 47,
   "metadata": {},
   "outputs": [],
   "source": [
    "subject_mapping = {\n",
    "    # economia_y_finanzas\n",
    "    \"economy\": \"subject-economia_y_finanzas\",\n",
    "    \"taxes\": \"subject-economia_y_finanzas\",\n",
    "    \"federal-budget\": \"subject-economia_y_finanzas\",\n",
    "    \"state-budget\": \"subject-economia_y_finanzas\",\n",
    "    \"income\": \"subject-economia_y_finanzas\",\n",
    "    \"debt\": \"subject-economia_y_finanzas\",\n",
    "    \"deficit\": \"subject-economia_y_finanzas\",\n",
    "    \"market-regulation\": \"subject-economia_y_finanzas\",\n",
    "    \"corporations\": \"subject-economia_y_finanzas\",\n",
    "    \"stimulus\": \"subject-economia_y_finanzas\",\n",
    "    \"small-business\": \"subject-economia_y_finanzas\",\n",
    "    \"bankruptcy\": \"subject-economia_y_finanzas\",\n",
    "    \"government-regulation\": \"subject-economia_y_finanzas\",\n",
    "    \"financial-regulation\": \"subject-economia_y_finanzas\",\n",
    "    \"housing\": \"subject-economia_y_finanzas\",\n",
    "    \"agriculture\": \"subject-economia_y_finanzas\",\n",
    "    \"poverty\": \"subject-economia_y_finanzas\",\n",
    "    \"retirement\": \"subject-economia_y_finanzas\",\n",
    "    \"pensions\": \"subject-economia_y_finanzas\",\n",
    "\n",
    "    # salud_y_bienestar\n",
    "    \"health-care\": \"subject-salud_y_bienestar\",\n",
    "    \"medicare\": \"subject-salud_y_bienestar\",\n",
    "    \"medicaid\": \"subject-salud_y_bienestar\",\n",
    "    \"public-health\": \"subject-salud_y_bienestar\",\n",
    "    \"disability\": \"subject-salud_y_bienestar\",\n",
    "    \"drugs\": \"subject-salud_y_bienestar\",\n",
    "    \"abortion\": \"subject-salud_y_bienestar\",\n",
    "    \"hunger\": \"subject-salud_y_bienestar\",\n",
    "    \"ebola\": \"subject-salud_y_bienestar\",\n",
    "    \"autism\": \"subject-salud_y_bienestar\",\n",
    "    \"marijuana\": \"subject-salud_y_bienestar\",\n",
    "    \"welfare\": \"subject-salud_y_bienestar\",\n",
    "\n",
    "    # Educación\n",
    "    \"education\": \"subject-educacion\",\n",
    "    \"children\": \"subject-educacion\",\n",
    "\n",
    "    # trabajo_y_empleo\n",
    "    \"jobs\": \"subject-trabajo_y_empleo\",\n",
    "    \"labor\": \"subject-trabajo_y_empleo\",\n",
    "    \"workers\": \"subject-trabajo_y_empleo\",\n",
    "    \"unions\": \"subject-trabajo_y_empleo\",\n",
    "    \"job-accomplishments\": \"subject-trabajo_y_empleo\",\n",
    "\n",
    "    # Política y Gobierno\n",
    "    \"elections\": \"subject-politica_y_gobierno\",\n",
    "    \"candidates-biography\": \"subject-politica_y_gobierno\",\n",
    "    \"congress\": \"subject-politica_y_gobierno\",\n",
    "    \"state-finances\": \"subject-politica_y_gobierno\",\n",
    "    \"city-government\": \"subject-politica_y_gobierno\",\n",
    "    \"county-government\": \"subject-politica_y_gobierno\",\n",
    "    \"campaign-finance\": \"subject-politica_y_gobierno\",\n",
    "    \"voting-record\": \"subject-politica_y_gobierno\",\n",
    "    \"transparency\": \"subject-politica_y_gobierno\",\n",
    "    \"debates\": \"subject-politica_y_gobierno\",\n",
    "    \"redistricting\": \"subject-politica_y_gobierno\",\n",
    "    \"congressional-rules\": \"subject-politica_y_gobierno\",\n",
    "    \"polls\": \"subject-politica_y_gobierno\",\n",
    "    \"government-efficiency\": \"subject-politica_y_gobierno\",\n",
    "    \"campaign-advertising\": \"subject-politica_y_gobierno\",\n",
    "    \"bipartisanship\": \"subject-politica_y_gobierno\",\n",
    "    \"infrastructure\": \"subject-politica_y_gobierno\",\n",
    "    \"transportation\": \"subject-politica_y_gobierno\",\n",
    "    \"message-machine\": \"subject-politica_y_gobierno\",\n",
    "    \"message-machine-2012\": \"subject-politica_y_gobierno\",\n",
    "    \"message-machine-2014\": \"subject-politica_y_gobierno\",\n",
    "    \"states\": \"subject-politica_y_gobierno\",\n",
    "\n",
    "    # Seguridad y Justicia\n",
    "    \"crime\": \"subject-seguridad_y_justicia\",\n",
    "    \"criminal-justice\": \"subject-seguridad_y_justicia\",\n",
    "    \"legal-issues\": \"subject-seguridad_y_justicia\",\n",
    "    \"public-safety\": \"subject-seguridad_y_justicia\",\n",
    "    \"death-penalty\": \"subject-seguridad_y_justicia\",\n",
    "    \"terrorism\": \"subject-seguridad_y_justicia\",\n",
    "    \"homeland-security\": \"subject-seguridad_y_justicia\",\n",
    "    \"supreme-court\": \"subject-seguridad_y_justicia\",\n",
    "    \"consumer-safety\": \"subject-seguridad_y_justicia\",\n",
    "    \"privacy\": \"subject-seguridad_y_justicia\",\n",
    "    \"guns\": \"subject-seguridad_y_justicia\",\n",
    "    \"social-security\": \"subject-seguridad_y_justicia\",\n",
    "\n",
    "    # Relaciones Internacionales\n",
    "    \"foreign-policy\": \"subject-relaciones_internacionales\",\n",
    "    \"military\": \"subject-relaciones_internacionales\",\n",
    "    \"iraq\": \"subject-relaciones_internacionales\",\n",
    "    \"afghanistan\": \"subject-relaciones_internacionales\",\n",
    "    \"china\": \"subject-relaciones_internacionales\",\n",
    "    \"israel\": \"subject-relaciones_internacionales\",\n",
    "    \"trade\": \"subject-relaciones_internacionales\",\n",
    "    \"nuclear\": \"subject-relaciones_internacionales\",\n",
    "    \"islam\": \"subject-relaciones_internacionales\",\n",
    "\n",
    "    # Medio Ambiente y Energía\n",
    "    \"energy\": \"subject-medio_ambiente_y_energia\",\n",
    "    \"climate-change\": \"subject-medio_ambiente_y_energia\",\n",
    "    \"oil-spill\": \"subject-medio_ambiente_y_energia\",\n",
    "    \"environment\": \"subject-medio_ambiente_y_energia\",\n",
    "    \"water\": \"subject-medio_ambiente_y_energia\",\n",
    "    \"cap-and-trade\": \"subject-medio_ambiente_y_energia\",\n",
    "    \"natural-disasters\": \"subject-medio_ambiente_y_energia\",\n",
    "\n",
    "    # Sociedad y Cultura\n",
    "    \"religion\": \"subject-sociedad_y_cultura\",\n",
    "    \"gays-and-lesbians\": \"subject-sociedad_y_cultura\",\n",
    "    \"women\": \"subject-sociedad_y_cultura\",\n",
    "    \"families\": \"subject-sociedad_y_cultura\",\n",
    "    \"marriage\": \"subject-sociedad_y_cultura\",\n",
    "    \"civil-rights\": \"subject-sociedad_y_cultura\",\n",
    "    \"immigration\": \"subject-sociedad_y_cultura\",\n",
    "    \"diversity\": \"subject-sociedad_y_cultura\",\n",
    "    \"sexuality\": \"subject-sociedad_y_cultura\",\n",
    "    \"ethics\": \"subject-sociedad_y_cultura\",\n",
    "    \"history\": \"subject-sociedad_y_cultura\",\n",
    "    \"pundits\": \"subject-sociedad_y_cultura\",\n",
    "    \"human-rights\": \"subject-sociedad_y_cultura\",\n",
    "    \"pop-culture\": \"subject-sociedad_y_cultura\",\n",
    "    \"colbert-report\": \"subject-sociedad_y_cultura\",\n",
    "    \"population\": \"subject-sociedad_y_cultura\",\n",
    "\n",
    "    # Ciencia y Tecnología\n",
    "    \"science\": \"subject-ciencia_y_tecnologia\",\n",
    "    \"space\": \"subject-ciencia_y_tecnologia\",\n",
    "\n",
    "    # Otros / Misceláneos\n",
    "    \"sports\": \"subject-otros\",\n",
    "    \"fake-news\": \"subject-otros\",\n",
    "    \"food\": \"subject-otros\",\n",
    "    \"baseball\": \"subject-otros\",\n",
    "    \"recreation\": \"subject-otros\",\n",
    "    \"weather\": \"subject-otros\",\n",
    "    \"food-safety\": \"subject-otros\",\n",
    "    \"patriotism\": \"subject-otros\",\n",
    "    \"nightlife\": \"subject-otros\",\n",
    "    \"lottery\": \"subject-otros\",\n",
    "    \"after-the-fact\": \"subject-otros\",\n",
    "    \"urban\": \"subject-otros\",\n",
    "    \"animals\": \"subject-otros\",\n",
    "    \"gambling\": \"subject-otros\",\n",
    "    \"alcohol\": \"subject-otros\",\n",
    "    \"tourism\": \"subject-otros\",\n",
    "    \"census\": \"subject-otros\",\n",
    "    \"homeless\": \"subject-otros\",\n",
    "    \"veterans\": \"subject-otros\",\n",
    "    \"wealth\": \"subject-otros\",\n",
    "    \"county-budget\": \"subject-otros\",\n",
    "    \"city-budget\": \"subject-otros\",\n",
    "    \"new-hampshire-2012\": \"subject-otros\",\n",
    "    \"sotomayor-nomination\": \"subject-otros\",\n",
    "    \"kagan-nomination\": \"subject-otros\",\n",
    "    \"occupy-wall-street\": \"subject-otros\",\n",
    "    \"florida\": \"subject-otros\",\n",
    "    \"florida-amendments\": \"subject-otros\",\n",
    "    \"public-service\": \"subject-otros\",\n",
    "    \"gas-prices\": \"subject-otros\",\n",
    "    \"bush-administration\": \"subject-otros\",\n",
    "    \"obama-birth-certificate\": \"subject-otros\",\n",
    "    \"10-news-tampa-bay\": \"subject-otros\",\n",
    "    \"abc-news-week\": \"subject-otros\",\n",
    "    \"corrections-and-updates\": \"subject-otros\",\n",
    "}\n"
   ]
  },
  {
   "cell_type": "markdown",
   "metadata": {},
   "source": [
    "Aplicar el mapeo de las temáticas y categorizarlas al *dataset*"
   ]
  },
  {
   "cell_type": "code",
   "execution_count": 48,
   "metadata": {},
   "outputs": [],
   "source": [
    "# # Aplicamos el mapeo al DataFrame\n",
    "# subjects_exploded['subject_category'] = subjects_exploded['subject_list'].map(subject_mapping).fillna('subject-otros')\n",
    "\n",
    "# # Obtenemos los conteos por nueva categoría\n",
    "# category_counts = subjects_exploded['subject_category'].value_counts()\n",
    "\n",
    "# print(category_counts)\n",
    "# subjects_exploded['subject_category'].iloc[1:10]"
   ]
  },
  {
   "cell_type": "markdown",
   "metadata": {},
   "source": [
    "Aplicar el mapeo de las temáticas y categorizarlas al *dataset*"
   ]
  },
  {
   "cell_type": "code",
   "execution_count": 49,
   "metadata": {},
   "outputs": [
    {
     "name": "stdout",
     "output_type": "stream",
     "text": [
      "                                        subject_list  \\\n",
      "0                  [china, foreign-policy, military]   \n",
      "1                                      [health-care]   \n",
      "2      [corporations, pundits, taxes, abc-news-week]   \n",
      "3  [candidates-biography, children, ethics, famil...   \n",
      "4                 [health-care, labor, state-budget]   \n",
      "\n",
      "                                  subject_categories  \n",
      "0               [subject-relaciones_internacionales]  \n",
      "1                        [subject-salud_y_bienestar]  \n",
      "2  [subject-sociedad_y_cultura, subject-otros, su...  \n",
      "3  [subject-sociedad_y_cultura, subject-educacion...  \n",
      "4  [subject-economia_y_finanzas, subject-salud_y_...  \n"
     ]
    }
   ],
   "source": [
    "dfc['subject_categories'] = dfc['subject_list'].apply(\n",
    "    lambda lst: list({\n",
    "        subject_mapping.get(s, 'subject-otros') \n",
    "        for s in lst\n",
    "    })\n",
    ")\n",
    "\n",
    "print(dfc[['subject_list','subject_categories']].head())"
   ]
  },
  {
   "cell_type": "markdown",
   "metadata": {},
   "source": [
    "One-Hot Binarizer sobre la lista de categorías "
   ]
  },
  {
   "cell_type": "code",
   "execution_count": 50,
   "metadata": {},
   "outputs": [
    {
     "data": {
      "text/html": [
       "<div>\n",
       "<style scoped>\n",
       "    .dataframe tbody tr th:only-of-type {\n",
       "        vertical-align: middle;\n",
       "    }\n",
       "\n",
       "    .dataframe tbody tr th {\n",
       "        vertical-align: top;\n",
       "    }\n",
       "\n",
       "    .dataframe thead th {\n",
       "        text-align: right;\n",
       "    }\n",
       "</style>\n",
       "<table border=\"1\" class=\"dataframe\">\n",
       "  <thead>\n",
       "    <tr style=\"text-align: right;\">\n",
       "      <th></th>\n",
       "      <th>id</th>\n",
       "      <th>label</th>\n",
       "      <th>statement</th>\n",
       "      <th>subject</th>\n",
       "      <th>speaker</th>\n",
       "      <th>speaker_job</th>\n",
       "      <th>state_info</th>\n",
       "      <th>party_affiliation</th>\n",
       "      <th>statement-raw</th>\n",
       "      <th>statement-lemmatize</th>\n",
       "      <th>statement-ner</th>\n",
       "      <th>feelings</th>\n",
       "      <th>subject_list</th>\n",
       "      <th>subject_categories</th>\n",
       "      <th>subject-ciencia_y_tecnologia</th>\n",
       "      <th>subject-economia_y_finanzas</th>\n",
       "      <th>subject-educacion</th>\n",
       "      <th>subject-medio_ambiente_y_energia</th>\n",
       "      <th>subject-otros</th>\n",
       "      <th>subject-politica_y_gobierno</th>\n",
       "      <th>subject-relaciones_internacionales</th>\n",
       "      <th>subject-salud_y_bienestar</th>\n",
       "      <th>subject-seguridad_y_justicia</th>\n",
       "      <th>subject-sociedad_y_cultura</th>\n",
       "      <th>subject-trabajo_y_empleo</th>\n",
       "    </tr>\n",
       "  </thead>\n",
       "  <tbody>\n",
       "    <tr>\n",
       "      <th>0</th>\n",
       "      <td>81f884c64a7</td>\n",
       "      <td>1</td>\n",
       "      <td>China is in the South China Sea and (building)...</td>\n",
       "      <td>china,foreign-policy,military</td>\n",
       "      <td>donald-trump</td>\n",
       "      <td>President-Elect</td>\n",
       "      <td>New York</td>\n",
       "      <td>republican</td>\n",
       "      <td>china is south china sea military fortress lik...</td>\n",
       "      <td>china be south china sea military fortress lik...</td>\n",
       "      <td>china south china sea</td>\n",
       "      <td>0.4215</td>\n",
       "      <td>[china, foreign-policy, military]</td>\n",
       "      <td>[subject-relaciones_internacionales]</td>\n",
       "      <td>0</td>\n",
       "      <td>0</td>\n",
       "      <td>0</td>\n",
       "      <td>0</td>\n",
       "      <td>0</td>\n",
       "      <td>0</td>\n",
       "      <td>1</td>\n",
       "      <td>0</td>\n",
       "      <td>0</td>\n",
       "      <td>0</td>\n",
       "      <td>0</td>\n",
       "    </tr>\n",
       "    <tr>\n",
       "      <th>1</th>\n",
       "      <td>30c2723a188</td>\n",
       "      <td>0</td>\n",
       "      <td>With the resources it takes to execute just ov...</td>\n",
       "      <td>health-care</td>\n",
       "      <td>chris-dodd</td>\n",
       "      <td>U.S. senator</td>\n",
       "      <td>Connecticut</td>\n",
       "      <td>democrat</td>\n",
       "      <td>resources it takes execute months iraq war we ...</td>\n",
       "      <td>resources it take execute months iraq war we f...</td>\n",
       "      <td>just over three months the iraq war bush</td>\n",
       "      <td>-0.4767</td>\n",
       "      <td>[health-care]</td>\n",
       "      <td>[subject-salud_y_bienestar]</td>\n",
       "      <td>0</td>\n",
       "      <td>0</td>\n",
       "      <td>0</td>\n",
       "      <td>0</td>\n",
       "      <td>0</td>\n",
       "      <td>0</td>\n",
       "      <td>0</td>\n",
       "      <td>1</td>\n",
       "      <td>0</td>\n",
       "      <td>0</td>\n",
       "      <td>0</td>\n",
       "    </tr>\n",
       "    <tr>\n",
       "      <th>2</th>\n",
       "      <td>6936b216e5d</td>\n",
       "      <td>0</td>\n",
       "      <td>The (Wisconsin) governor has proposed tax give...</td>\n",
       "      <td>corporations,pundits,taxes,abc-news-week</td>\n",
       "      <td>donna-brazile</td>\n",
       "      <td>Political commentator</td>\n",
       "      <td>Washington, D.C.</td>\n",
       "      <td>democrat</td>\n",
       "      <td>wisconsin governor proposed tax giveaways corp...</td>\n",
       "      <td>wisconsin governor propose tax giveaways corpo...</td>\n",
       "      <td>wisconsin</td>\n",
       "      <td>0.0000</td>\n",
       "      <td>[corporations, pundits, taxes, abc-news-week]</td>\n",
       "      <td>[subject-sociedad_y_cultura, subject-otros, su...</td>\n",
       "      <td>0</td>\n",
       "      <td>1</td>\n",
       "      <td>0</td>\n",
       "      <td>0</td>\n",
       "      <td>1</td>\n",
       "      <td>0</td>\n",
       "      <td>0</td>\n",
       "      <td>0</td>\n",
       "      <td>0</td>\n",
       "      <td>1</td>\n",
       "      <td>0</td>\n",
       "    </tr>\n",
       "    <tr>\n",
       "      <th>3</th>\n",
       "      <td>b5cd9195738</td>\n",
       "      <td>1</td>\n",
       "      <td>Says her representation of an ex-boyfriend who...</td>\n",
       "      <td>candidates-biography,children,ethics,families,...</td>\n",
       "      <td>rebecca-bradley</td>\n",
       "      <td>NaN</td>\n",
       "      <td>NaN</td>\n",
       "      <td>none</td>\n",
       "      <td>says her representation ex boyfriend who was m...</td>\n",
       "      <td>say her representation ex boyfriend who be my ...</td>\n",
       "      <td>(no entities)</td>\n",
       "      <td>0.4939</td>\n",
       "      <td>[candidates-biography, children, ethics, famil...</td>\n",
       "      <td>[subject-sociedad_y_cultura, subject-educacion...</td>\n",
       "      <td>0</td>\n",
       "      <td>0</td>\n",
       "      <td>1</td>\n",
       "      <td>0</td>\n",
       "      <td>0</td>\n",
       "      <td>1</td>\n",
       "      <td>0</td>\n",
       "      <td>0</td>\n",
       "      <td>1</td>\n",
       "      <td>1</td>\n",
       "      <td>0</td>\n",
       "    </tr>\n",
       "    <tr>\n",
       "      <th>4</th>\n",
       "      <td>84f8dac7737</td>\n",
       "      <td>0</td>\n",
       "      <td>At protests in Wisconsin against proposed coll...</td>\n",
       "      <td>health-care,labor,state-budget</td>\n",
       "      <td>republican-party-wisconsin</td>\n",
       "      <td>NaN</td>\n",
       "      <td>Wisconsin</td>\n",
       "      <td>republican</td>\n",
       "      <td>protests wisconsin proposed collective bargain...</td>\n",
       "      <td>protests wisconsin propose collective bargaini...</td>\n",
       "      <td>wisconsin</td>\n",
       "      <td>-0.5994</td>\n",
       "      <td>[health-care, labor, state-budget]</td>\n",
       "      <td>[subject-economia_y_finanzas, subject-salud_y_...</td>\n",
       "      <td>0</td>\n",
       "      <td>1</td>\n",
       "      <td>0</td>\n",
       "      <td>0</td>\n",
       "      <td>0</td>\n",
       "      <td>0</td>\n",
       "      <td>0</td>\n",
       "      <td>1</td>\n",
       "      <td>0</td>\n",
       "      <td>0</td>\n",
       "      <td>1</td>\n",
       "    </tr>\n",
       "  </tbody>\n",
       "</table>\n",
       "</div>"
      ],
      "text/plain": [
       "            id  label                                          statement  \\\n",
       "0  81f884c64a7      1  China is in the South China Sea and (building)...   \n",
       "1  30c2723a188      0  With the resources it takes to execute just ov...   \n",
       "2  6936b216e5d      0  The (Wisconsin) governor has proposed tax give...   \n",
       "3  b5cd9195738      1  Says her representation of an ex-boyfriend who...   \n",
       "4  84f8dac7737      0  At protests in Wisconsin against proposed coll...   \n",
       "\n",
       "                                             subject  \\\n",
       "0                      china,foreign-policy,military   \n",
       "1                                        health-care   \n",
       "2           corporations,pundits,taxes,abc-news-week   \n",
       "3  candidates-biography,children,ethics,families,...   \n",
       "4                     health-care,labor,state-budget   \n",
       "\n",
       "                      speaker            speaker_job        state_info  \\\n",
       "0                donald-trump        President-Elect          New York   \n",
       "1                  chris-dodd           U.S. senator       Connecticut   \n",
       "2               donna-brazile  Political commentator  Washington, D.C.   \n",
       "3             rebecca-bradley                    NaN               NaN   \n",
       "4  republican-party-wisconsin                    NaN         Wisconsin   \n",
       "\n",
       "  party_affiliation                                      statement-raw  \\\n",
       "0        republican  china is south china sea military fortress lik...   \n",
       "1          democrat  resources it takes execute months iraq war we ...   \n",
       "2          democrat  wisconsin governor proposed tax giveaways corp...   \n",
       "3              none  says her representation ex boyfriend who was m...   \n",
       "4        republican  protests wisconsin proposed collective bargain...   \n",
       "\n",
       "                                 statement-lemmatize  \\\n",
       "0  china be south china sea military fortress lik...   \n",
       "1  resources it take execute months iraq war we f...   \n",
       "2  wisconsin governor propose tax giveaways corpo...   \n",
       "3  say her representation ex boyfriend who be my ...   \n",
       "4  protests wisconsin propose collective bargaini...   \n",
       "\n",
       "                              statement-ner  feelings  \\\n",
       "0                     china south china sea    0.4215   \n",
       "1  just over three months the iraq war bush   -0.4767   \n",
       "2                                 wisconsin    0.0000   \n",
       "3                             (no entities)    0.4939   \n",
       "4                                 wisconsin   -0.5994   \n",
       "\n",
       "                                        subject_list  \\\n",
       "0                  [china, foreign-policy, military]   \n",
       "1                                      [health-care]   \n",
       "2      [corporations, pundits, taxes, abc-news-week]   \n",
       "3  [candidates-biography, children, ethics, famil...   \n",
       "4                 [health-care, labor, state-budget]   \n",
       "\n",
       "                                  subject_categories  \\\n",
       "0               [subject-relaciones_internacionales]   \n",
       "1                        [subject-salud_y_bienestar]   \n",
       "2  [subject-sociedad_y_cultura, subject-otros, su...   \n",
       "3  [subject-sociedad_y_cultura, subject-educacion...   \n",
       "4  [subject-economia_y_finanzas, subject-salud_y_...   \n",
       "\n",
       "   subject-ciencia_y_tecnologia  subject-economia_y_finanzas  \\\n",
       "0                             0                            0   \n",
       "1                             0                            0   \n",
       "2                             0                            1   \n",
       "3                             0                            0   \n",
       "4                             0                            1   \n",
       "\n",
       "   subject-educacion  subject-medio_ambiente_y_energia  subject-otros  \\\n",
       "0                  0                                 0              0   \n",
       "1                  0                                 0              0   \n",
       "2                  0                                 0              1   \n",
       "3                  1                                 0              0   \n",
       "4                  0                                 0              0   \n",
       "\n",
       "   subject-politica_y_gobierno  subject-relaciones_internacionales  \\\n",
       "0                            0                                   1   \n",
       "1                            0                                   0   \n",
       "2                            0                                   0   \n",
       "3                            1                                   0   \n",
       "4                            0                                   0   \n",
       "\n",
       "   subject-salud_y_bienestar  subject-seguridad_y_justicia  \\\n",
       "0                          0                             0   \n",
       "1                          1                             0   \n",
       "2                          0                             0   \n",
       "3                          0                             1   \n",
       "4                          1                             0   \n",
       "\n",
       "   subject-sociedad_y_cultura  subject-trabajo_y_empleo  \n",
       "0                           0                         0  \n",
       "1                           0                         0  \n",
       "2                           1                         0  \n",
       "3                           1                         0  \n",
       "4                           0                         1  "
      ]
     },
     "execution_count": 50,
     "metadata": {},
     "output_type": "execute_result"
    }
   ],
   "source": [
    "mlb = MultiLabelBinarizer()\n",
    "onehot = mlb.fit_transform(dfc['subject_categories'])\n",
    "\n",
    "df_onehot = pd.DataFrame(\n",
    "    onehot,\n",
    "    columns=mlb.classes_,\n",
    "    index=dfc.index\n",
    ")\n",
    "\n",
    "dfc = pd.concat([dfc, df_onehot], axis=1)\n",
    "\n",
    "dfc.head()"
   ]
  },
  {
   "cell_type": "markdown",
   "metadata": {},
   "source": [
    "Visualizar todas las columnas para comprobar que se han creado correctamente"
   ]
  },
  {
   "cell_type": "code",
   "execution_count": 51,
   "metadata": {},
   "outputs": [
    {
     "name": "stdout",
     "output_type": "stream",
     "text": [
      "Index(['id', 'label', 'statement', 'subject', 'speaker', 'speaker_job',\n",
      "       'state_info', 'party_affiliation', 'statement-raw',\n",
      "       'statement-lemmatize', 'statement-ner', 'feelings', 'subject_list',\n",
      "       'subject_categories', 'subject-ciencia_y_tecnologia',\n",
      "       'subject-economia_y_finanzas', 'subject-educacion',\n",
      "       'subject-medio_ambiente_y_energia', 'subject-otros',\n",
      "       'subject-politica_y_gobierno', 'subject-relaciones_internacionales',\n",
      "       'subject-salud_y_bienestar', 'subject-seguridad_y_justicia',\n",
      "       'subject-sociedad_y_cultura', 'subject-trabajo_y_empleo'],\n",
      "      dtype='object')\n"
     ]
    }
   ],
   "source": [
    "print(dfc.columns)"
   ]
  },
  {
   "cell_type": "markdown",
   "metadata": {},
   "source": [
    "#### - speaker"
   ]
  },
  {
   "cell_type": "markdown",
   "metadata": {},
   "source": [
    "Creación de json para visualizarlo de manera más sencilla"
   ]
  },
  {
   "cell_type": "code",
   "execution_count": 52,
   "metadata": {},
   "outputs": [],
   "source": [
    "# Crear value counts \n",
    "speaker_counts = dfc['speaker'].value_counts()\n",
    "speaker_counts_test = df_test['speaker'].value_counts()\n",
    "\n",
    "# Convertir a diccionario\n",
    "speaker_counts_dict = speaker_counts.to_dict()\n",
    "speaker_counts_test_dict = speaker_counts_test.to_dict()\n",
    "\n",
    "# Exportar a un archivo JSON\n",
    "create_json('json/json-study/speaker_counts.json', speaker_counts_dict)\n",
    "create_json('json/json-study/speaker_counts_test.json', speaker_counts_test_dict)"
   ]
  },
  {
   "cell_type": "markdown",
   "metadata": {},
   "source": [
    "Utilizando los archivos JSON json-study/speaker_counts_test.json y json-study/speaker_counts_test.json, que contienen los conteos de apariciones de cada speaker tanto en el conjunto de entrenamiento como en el de prueba, se ha obtenido la lista de los 20 speakers más frecuentes en el conjunto de prueba.\n",
    "\n",
    "Al analizar dicha lista, se observa que a partir del décimo speaker se produce una disminución significativa en la frecuencia de aparición. Por tanto, este punto podría considerarse un umbral razonable para realizar un corte: mantener los 10 speakers más frecuentes como categorías individuales y agrupar el resto bajo una categoría común, como \"other_speakers\". Esta decisión busca reducir el riesgo de overfitting y mejorar la capacidad de generalización del modelo."
   ]
  },
  {
   "cell_type": "markdown",
   "metadata": {},
   "source": [
    "<small>\n",
    "\n",
    "| ID  | Name               | dfc | df_test |\n",
    "|-----|--------------------|-----|---------|\n",
    "| 1   | barack-obama       | 435 | 176     |\n",
    "| 2   | donald-trump       | 247 | 96      |\n",
    "| 3   | hillary-clinton    | 204 | 93      |\n",
    "| 4   | mitt-romney        | 142 | 70      |\n",
    "| 5   | john-mccain        | 139 | 50      |\n",
    "| 6   | chain-email        | 128 | 50      |\n",
    "| 7   | scott-walker       | 123 | 60      |\n",
    "| 8   | rick-perry         | 117 | 56      |\n",
    "| 9   | rick-scott         | 105 | 45      |\n",
    "| 10  | marco-rubio        | 99  | 54      |\n",
    "| 11  | ted-cruz           | 82  | 36      |\n",
    "| 12  | bernie-s           | 75  | 31      |\n",
    "| 13  | facebook-posts     | 75  | 25      |\n",
    "| 14  | chris-christie     | 74  | 30      |\n",
    "| 15  | charlie-crist      | 62  | 28      |\n",
    "| 16  | newt-gingrich      | 62  | 21      |\n",
    "| 17  | jeb-bush           | 60  | 19      |\n",
    "| 18  | blog-posting       | 57  | 24      |\n",
    "| 19  | joe-biden          | 54  | 22      |\n",
    "| 20  | paul-ryan          | 50  | 20      |\n",
    "\n",
    "</small>\n"
   ]
  },
  {
   "cell_type": "markdown",
   "metadata": {},
   "source": [
    "Selección de los 10 *speakers* que más aparecen"
   ]
  },
  {
   "cell_type": "code",
   "execution_count": 53,
   "metadata": {},
   "outputs": [],
   "source": [
    "top_n = 10\n",
    "frequent_speakers = set(speaker_counts.head(top_n).index)"
   ]
  },
  {
   "cell_type": "markdown",
   "metadata": {},
   "source": [
    "Meter en *grouped* los *speakers* más frecuentes y los demás guardarlos como *'other_speakers'*"
   ]
  },
  {
   "cell_type": "code",
   "execution_count": 54,
   "metadata": {},
   "outputs": [
    {
     "data": {
      "text/plain": [
       "speaker_grouped\n",
       "other_speakers     7211\n",
       "barack-obama        435\n",
       "donald-trump        247\n",
       "hillary-clinton     204\n",
       "mitt-romney         142\n",
       "john-mccain         139\n",
       "chain-email         128\n",
       "scott-walker        123\n",
       "rick-perry          117\n",
       "rick-scott          105\n",
       "marco-rubio          99\n",
       "Name: count, dtype: int64"
      ]
     },
     "execution_count": 54,
     "metadata": {},
     "output_type": "execute_result"
    }
   ],
   "source": [
    "dfc['speaker_grouped'] = dfc['speaker'].apply(\n",
    "    lambda s: s if s in frequent_speakers else 'other_speakers'\n",
    ")\n",
    "\n",
    "dfc['speaker_grouped'].value_counts()"
   ]
  },
  {
   "cell_type": "markdown",
   "metadata": {},
   "source": [
    "Codifcar las varralbes de las columna speaker_grouped"
   ]
  },
  {
   "cell_type": "code",
   "execution_count": 55,
   "metadata": {},
   "outputs": [
    {
     "data": {
      "text/plain": [
       "speaker_grouped_cod\n",
       "7     7211\n",
       "0      435\n",
       "2      247\n",
       "3      204\n",
       "6      142\n",
       "4      139\n",
       "1      128\n",
       "10     123\n",
       "8      117\n",
       "9      105\n",
       "5       99\n",
       "Name: count, dtype: int64"
      ]
     },
     "execution_count": 55,
     "metadata": {},
     "output_type": "execute_result"
    }
   ],
   "source": [
    "dfc['speaker_grouped_cod'] = dfc['speaker_grouped'].astype('category').cat.codes.astype('int64')\n",
    "dfc['speaker_grouped_cod'].value_counts()\n"
   ]
  },
  {
   "cell_type": "markdown",
   "metadata": {},
   "source": [
    "Visualizar para comprobar que el proceso se ha hecho bien"
   ]
  },
  {
   "cell_type": "code",
   "execution_count": 56,
   "metadata": {},
   "outputs": [
    {
     "data": {
      "text/html": [
       "<div>\n",
       "<style scoped>\n",
       "    .dataframe tbody tr th:only-of-type {\n",
       "        vertical-align: middle;\n",
       "    }\n",
       "\n",
       "    .dataframe tbody tr th {\n",
       "        vertical-align: top;\n",
       "    }\n",
       "\n",
       "    .dataframe thead th {\n",
       "        text-align: right;\n",
       "    }\n",
       "</style>\n",
       "<table border=\"1\" class=\"dataframe\">\n",
       "  <thead>\n",
       "    <tr style=\"text-align: right;\">\n",
       "      <th></th>\n",
       "      <th>id</th>\n",
       "      <th>label</th>\n",
       "      <th>statement</th>\n",
       "      <th>subject</th>\n",
       "      <th>speaker</th>\n",
       "      <th>speaker_job</th>\n",
       "      <th>state_info</th>\n",
       "      <th>party_affiliation</th>\n",
       "      <th>statement-raw</th>\n",
       "      <th>statement-lemmatize</th>\n",
       "      <th>statement-ner</th>\n",
       "      <th>feelings</th>\n",
       "      <th>subject_list</th>\n",
       "      <th>subject_categories</th>\n",
       "      <th>subject-ciencia_y_tecnologia</th>\n",
       "      <th>subject-economia_y_finanzas</th>\n",
       "      <th>subject-educacion</th>\n",
       "      <th>subject-medio_ambiente_y_energia</th>\n",
       "      <th>subject-otros</th>\n",
       "      <th>subject-politica_y_gobierno</th>\n",
       "      <th>subject-relaciones_internacionales</th>\n",
       "      <th>subject-salud_y_bienestar</th>\n",
       "      <th>subject-seguridad_y_justicia</th>\n",
       "      <th>subject-sociedad_y_cultura</th>\n",
       "      <th>subject-trabajo_y_empleo</th>\n",
       "      <th>speaker_grouped</th>\n",
       "      <th>speaker_grouped_cod</th>\n",
       "    </tr>\n",
       "  </thead>\n",
       "  <tbody>\n",
       "    <tr>\n",
       "      <th>0</th>\n",
       "      <td>81f884c64a7</td>\n",
       "      <td>1</td>\n",
       "      <td>China is in the South China Sea and (building)...</td>\n",
       "      <td>china,foreign-policy,military</td>\n",
       "      <td>donald-trump</td>\n",
       "      <td>President-Elect</td>\n",
       "      <td>New York</td>\n",
       "      <td>republican</td>\n",
       "      <td>china is south china sea military fortress lik...</td>\n",
       "      <td>china be south china sea military fortress lik...</td>\n",
       "      <td>china south china sea</td>\n",
       "      <td>0.4215</td>\n",
       "      <td>[china, foreign-policy, military]</td>\n",
       "      <td>[subject-relaciones_internacionales]</td>\n",
       "      <td>0</td>\n",
       "      <td>0</td>\n",
       "      <td>0</td>\n",
       "      <td>0</td>\n",
       "      <td>0</td>\n",
       "      <td>0</td>\n",
       "      <td>1</td>\n",
       "      <td>0</td>\n",
       "      <td>0</td>\n",
       "      <td>0</td>\n",
       "      <td>0</td>\n",
       "      <td>donald-trump</td>\n",
       "      <td>2</td>\n",
       "    </tr>\n",
       "    <tr>\n",
       "      <th>1</th>\n",
       "      <td>30c2723a188</td>\n",
       "      <td>0</td>\n",
       "      <td>With the resources it takes to execute just ov...</td>\n",
       "      <td>health-care</td>\n",
       "      <td>chris-dodd</td>\n",
       "      <td>U.S. senator</td>\n",
       "      <td>Connecticut</td>\n",
       "      <td>democrat</td>\n",
       "      <td>resources it takes execute months iraq war we ...</td>\n",
       "      <td>resources it take execute months iraq war we f...</td>\n",
       "      <td>just over three months the iraq war bush</td>\n",
       "      <td>-0.4767</td>\n",
       "      <td>[health-care]</td>\n",
       "      <td>[subject-salud_y_bienestar]</td>\n",
       "      <td>0</td>\n",
       "      <td>0</td>\n",
       "      <td>0</td>\n",
       "      <td>0</td>\n",
       "      <td>0</td>\n",
       "      <td>0</td>\n",
       "      <td>0</td>\n",
       "      <td>1</td>\n",
       "      <td>0</td>\n",
       "      <td>0</td>\n",
       "      <td>0</td>\n",
       "      <td>other_speakers</td>\n",
       "      <td>7</td>\n",
       "    </tr>\n",
       "    <tr>\n",
       "      <th>2</th>\n",
       "      <td>6936b216e5d</td>\n",
       "      <td>0</td>\n",
       "      <td>The (Wisconsin) governor has proposed tax give...</td>\n",
       "      <td>corporations,pundits,taxes,abc-news-week</td>\n",
       "      <td>donna-brazile</td>\n",
       "      <td>Political commentator</td>\n",
       "      <td>Washington, D.C.</td>\n",
       "      <td>democrat</td>\n",
       "      <td>wisconsin governor proposed tax giveaways corp...</td>\n",
       "      <td>wisconsin governor propose tax giveaways corpo...</td>\n",
       "      <td>wisconsin</td>\n",
       "      <td>0.0000</td>\n",
       "      <td>[corporations, pundits, taxes, abc-news-week]</td>\n",
       "      <td>[subject-sociedad_y_cultura, subject-otros, su...</td>\n",
       "      <td>0</td>\n",
       "      <td>1</td>\n",
       "      <td>0</td>\n",
       "      <td>0</td>\n",
       "      <td>1</td>\n",
       "      <td>0</td>\n",
       "      <td>0</td>\n",
       "      <td>0</td>\n",
       "      <td>0</td>\n",
       "      <td>1</td>\n",
       "      <td>0</td>\n",
       "      <td>other_speakers</td>\n",
       "      <td>7</td>\n",
       "    </tr>\n",
       "    <tr>\n",
       "      <th>3</th>\n",
       "      <td>b5cd9195738</td>\n",
       "      <td>1</td>\n",
       "      <td>Says her representation of an ex-boyfriend who...</td>\n",
       "      <td>candidates-biography,children,ethics,families,...</td>\n",
       "      <td>rebecca-bradley</td>\n",
       "      <td>NaN</td>\n",
       "      <td>NaN</td>\n",
       "      <td>none</td>\n",
       "      <td>says her representation ex boyfriend who was m...</td>\n",
       "      <td>say her representation ex boyfriend who be my ...</td>\n",
       "      <td>(no entities)</td>\n",
       "      <td>0.4939</td>\n",
       "      <td>[candidates-biography, children, ethics, famil...</td>\n",
       "      <td>[subject-sociedad_y_cultura, subject-educacion...</td>\n",
       "      <td>0</td>\n",
       "      <td>0</td>\n",
       "      <td>1</td>\n",
       "      <td>0</td>\n",
       "      <td>0</td>\n",
       "      <td>1</td>\n",
       "      <td>0</td>\n",
       "      <td>0</td>\n",
       "      <td>1</td>\n",
       "      <td>1</td>\n",
       "      <td>0</td>\n",
       "      <td>other_speakers</td>\n",
       "      <td>7</td>\n",
       "    </tr>\n",
       "    <tr>\n",
       "      <th>4</th>\n",
       "      <td>84f8dac7737</td>\n",
       "      <td>0</td>\n",
       "      <td>At protests in Wisconsin against proposed coll...</td>\n",
       "      <td>health-care,labor,state-budget</td>\n",
       "      <td>republican-party-wisconsin</td>\n",
       "      <td>NaN</td>\n",
       "      <td>Wisconsin</td>\n",
       "      <td>republican</td>\n",
       "      <td>protests wisconsin proposed collective bargain...</td>\n",
       "      <td>protests wisconsin propose collective bargaini...</td>\n",
       "      <td>wisconsin</td>\n",
       "      <td>-0.5994</td>\n",
       "      <td>[health-care, labor, state-budget]</td>\n",
       "      <td>[subject-economia_y_finanzas, subject-salud_y_...</td>\n",
       "      <td>0</td>\n",
       "      <td>1</td>\n",
       "      <td>0</td>\n",
       "      <td>0</td>\n",
       "      <td>0</td>\n",
       "      <td>0</td>\n",
       "      <td>0</td>\n",
       "      <td>1</td>\n",
       "      <td>0</td>\n",
       "      <td>0</td>\n",
       "      <td>1</td>\n",
       "      <td>other_speakers</td>\n",
       "      <td>7</td>\n",
       "    </tr>\n",
       "  </tbody>\n",
       "</table>\n",
       "</div>"
      ],
      "text/plain": [
       "            id  label                                          statement  \\\n",
       "0  81f884c64a7      1  China is in the South China Sea and (building)...   \n",
       "1  30c2723a188      0  With the resources it takes to execute just ov...   \n",
       "2  6936b216e5d      0  The (Wisconsin) governor has proposed tax give...   \n",
       "3  b5cd9195738      1  Says her representation of an ex-boyfriend who...   \n",
       "4  84f8dac7737      0  At protests in Wisconsin against proposed coll...   \n",
       "\n",
       "                                             subject  \\\n",
       "0                      china,foreign-policy,military   \n",
       "1                                        health-care   \n",
       "2           corporations,pundits,taxes,abc-news-week   \n",
       "3  candidates-biography,children,ethics,families,...   \n",
       "4                     health-care,labor,state-budget   \n",
       "\n",
       "                      speaker            speaker_job        state_info  \\\n",
       "0                donald-trump        President-Elect          New York   \n",
       "1                  chris-dodd           U.S. senator       Connecticut   \n",
       "2               donna-brazile  Political commentator  Washington, D.C.   \n",
       "3             rebecca-bradley                    NaN               NaN   \n",
       "4  republican-party-wisconsin                    NaN         Wisconsin   \n",
       "\n",
       "  party_affiliation                                      statement-raw  \\\n",
       "0        republican  china is south china sea military fortress lik...   \n",
       "1          democrat  resources it takes execute months iraq war we ...   \n",
       "2          democrat  wisconsin governor proposed tax giveaways corp...   \n",
       "3              none  says her representation ex boyfriend who was m...   \n",
       "4        republican  protests wisconsin proposed collective bargain...   \n",
       "\n",
       "                                 statement-lemmatize  \\\n",
       "0  china be south china sea military fortress lik...   \n",
       "1  resources it take execute months iraq war we f...   \n",
       "2  wisconsin governor propose tax giveaways corpo...   \n",
       "3  say her representation ex boyfriend who be my ...   \n",
       "4  protests wisconsin propose collective bargaini...   \n",
       "\n",
       "                              statement-ner  feelings  \\\n",
       "0                     china south china sea    0.4215   \n",
       "1  just over three months the iraq war bush   -0.4767   \n",
       "2                                 wisconsin    0.0000   \n",
       "3                             (no entities)    0.4939   \n",
       "4                                 wisconsin   -0.5994   \n",
       "\n",
       "                                        subject_list  \\\n",
       "0                  [china, foreign-policy, military]   \n",
       "1                                      [health-care]   \n",
       "2      [corporations, pundits, taxes, abc-news-week]   \n",
       "3  [candidates-biography, children, ethics, famil...   \n",
       "4                 [health-care, labor, state-budget]   \n",
       "\n",
       "                                  subject_categories  \\\n",
       "0               [subject-relaciones_internacionales]   \n",
       "1                        [subject-salud_y_bienestar]   \n",
       "2  [subject-sociedad_y_cultura, subject-otros, su...   \n",
       "3  [subject-sociedad_y_cultura, subject-educacion...   \n",
       "4  [subject-economia_y_finanzas, subject-salud_y_...   \n",
       "\n",
       "   subject-ciencia_y_tecnologia  subject-economia_y_finanzas  \\\n",
       "0                             0                            0   \n",
       "1                             0                            0   \n",
       "2                             0                            1   \n",
       "3                             0                            0   \n",
       "4                             0                            1   \n",
       "\n",
       "   subject-educacion  subject-medio_ambiente_y_energia  subject-otros  \\\n",
       "0                  0                                 0              0   \n",
       "1                  0                                 0              0   \n",
       "2                  0                                 0              1   \n",
       "3                  1                                 0              0   \n",
       "4                  0                                 0              0   \n",
       "\n",
       "   subject-politica_y_gobierno  subject-relaciones_internacionales  \\\n",
       "0                            0                                   1   \n",
       "1                            0                                   0   \n",
       "2                            0                                   0   \n",
       "3                            1                                   0   \n",
       "4                            0                                   0   \n",
       "\n",
       "   subject-salud_y_bienestar  subject-seguridad_y_justicia  \\\n",
       "0                          0                             0   \n",
       "1                          1                             0   \n",
       "2                          0                             0   \n",
       "3                          0                             1   \n",
       "4                          1                             0   \n",
       "\n",
       "   subject-sociedad_y_cultura  subject-trabajo_y_empleo speaker_grouped  \\\n",
       "0                           0                         0    donald-trump   \n",
       "1                           0                         0  other_speakers   \n",
       "2                           1                         0  other_speakers   \n",
       "3                           1                         0  other_speakers   \n",
       "4                           0                         1  other_speakers   \n",
       "\n",
       "   speaker_grouped_cod  \n",
       "0                    2  \n",
       "1                    7  \n",
       "2                    7  \n",
       "3                    7  \n",
       "4                    7  "
      ]
     },
     "execution_count": 56,
     "metadata": {},
     "output_type": "execute_result"
    }
   ],
   "source": [
    "dfc.head()"
   ]
  },
  {
   "cell_type": "markdown",
   "metadata": {},
   "source": [
    "#### - speaker_job"
   ]
  },
  {
   "cell_type": "markdown",
   "metadata": {},
   "source": [
    "Formatear de manera adecuada el contenido de la columna *'speaker_job'*"
   ]
  },
  {
   "cell_type": "code",
   "execution_count": 57,
   "metadata": {},
   "outputs": [],
   "source": [
    "dfc['speaker_job'] = (\n",
    "    dfc['speaker_job']\n",
    "    .str.lower()\n",
    "    .str.strip()\n",
    "    .str.replace(r'\\s+', '_', regex=True)  # Reemplazar espacios por guiones bajos\n",
    "    .str.replace(r'\\.', '', regex=True)   # Eliminar los puntos\n",
    ")\n",
    "\n",
    "df_test['speaker_job'] = (\n",
    "    df_test['speaker_job']\n",
    "    .str.lower()\n",
    "    .str.strip()\n",
    "    .str.replace(r'\\s+', '_', regex=True)  # Reemplazar espacios por guiones bajos\n",
    "    .str.replace(r'\\.', '', regex=True)   # Eliminar los puntos\n",
    ")"
   ]
  },
  {
   "cell_type": "markdown",
   "metadata": {},
   "source": [
    "Creación de json para visualizarlo de manera más sencilla"
   ]
  },
  {
   "cell_type": "code",
   "execution_count": 58,
   "metadata": {},
   "outputs": [],
   "source": [
    "# Obtener el conteo de valores únicos de 'speaker'\n",
    "speaker_job_counts = dfc['speaker_job'].value_counts()\n",
    "speaker_job_counts_test = df_test['speaker_job'].value_counts()\n",
    "\n",
    "\n",
    "# Convertir a diccionario\n",
    "speaker_job_counts_dict = speaker_job_counts.to_dict()\n",
    "speaker_job_counts_test_dict = speaker_job_counts_test.to_dict()\n",
    "\n",
    "# Exportar a un archivo JSON\n",
    "create_json('json/json-study/speaker_job_counts.json', speaker_job_counts_dict)\n",
    "create_json('json/json-study/speaker_job_counts_test.json', speaker_job_counts_test_dict)"
   ]
  },
  {
   "cell_type": "markdown",
   "metadata": {},
   "source": [
    "Utilizando los archivos JSON json-study/speaker__job_counts_test.json y json-study/speaker_job_counts_test.json, que contienen los conteos de apariciones de cada speaker_job tanto en el conjunto de entrenamiento como en el de prueba, se ha obtenido la lista de los 20 speakers_jobs más frecuentes en el conjunto de prueba.\n",
    "\n",
    "Al analizar dicha lista, se observa que a partir del treceavo speaker_job se produce una disminución significativa en la frecuencia de aparición. Por tanto, este punto podría considerarse un umbral razonable para realizar un corte: mantener los 13 speakers_jobs más frecuentes como categorías individuales y agrupar el resto bajo una categoría común, como \"other_speakers_job\". Esta decisión busca reducir el riesgo de overfitting y mejorar la capacidad de generalización del modelo."
   ]
  },
  {
   "cell_type": "markdown",
   "metadata": {},
   "source": [
    "<small>\n",
    "\n",
    "| id  | speaker_job                                | train_count | test_count |\n",
    "|-----|--------------------------------------------|-------------|------------|\n",
    "| 1   | u_s__senator                               | 627         | 204        |\n",
    "| 2   | president                                  | 438         | 177        |\n",
    "| 3   | governor                                   | 368         | 152        |\n",
    "| 4   | u_s__representative                        | 260         | 61         |\n",
    "| 5   | president-elect                            | 247         | 96         |\n",
    "| 6   | presidential_candidate                     | 216         | 99         |\n",
    "| 7   | state_senator                              | 186         | 36         |\n",
    "| 8   | state_representative                       | 155         | 30         |\n",
    "| 9   | former_governor                            | 143         | 70         |\n",
    "| 10  | senator                                    | 129         | 64         |\n",
    "| 11  | milwaukee_county_executive                 | 123         | 60         |\n",
    "| 12  | attorney                                   | 94          | 32         |\n",
    "| 13  | u_s__house_of_representatives              | 81          | 37         |\n",
    "| 14  | social_media_posting                       | 75          | 25         |\n",
    "| 15  | governor_of_new_jersey                     | 74          | 30         |\n",
    "| 16  | congressman                                | 70          | 38         |\n",
    "| 17  | co-host_on_cnn_s__crossfire                | 66          | 22         |\n",
    "| 18  | u_s__congressman                           | 56          | 26         |\n",
    "| 19  | speaker_of_the_house_of_representatives    | 49          | 23         |\n",
    "| 20  | congresswoman                              | 49          | 18         |\n",
    "\n",
    "</small>\n"
   ]
  },
  {
   "cell_type": "markdown",
   "metadata": {},
   "source": [
    "Extraer los *'speaker_jobs'* más frecuentes"
   ]
  },
  {
   "cell_type": "code",
   "execution_count": 59,
   "metadata": {},
   "outputs": [],
   "source": [
    "# # Elegir el punto de corte (por ejemplo, los 10 más frecuentes)\n",
    "# top_n = 13\n",
    "# frequent_speaker_jobs = set(speaker_job_counts.head(top_n).index)"
   ]
  },
  {
   "cell_type": "markdown",
   "metadata": {},
   "source": [
    "Diccionario para mapear las diferntes speaker_jobs en otrás categorías más genéricas"
   ]
  },
  {
   "cell_type": "code",
   "execution_count": 60,
   "metadata": {},
   "outputs": [],
   "source": [
    "mapping_speaker_job_en = {\n",
    "    \"us_senator\": \"federal_legislator_senate\",\n",
    "    \"president\": \"president\",\n",
    "    \"governor\": \"governor\",\n",
    "    \"us_representative\": \"federal_legislator_house\",\n",
    "    \"president-elect\": \"president\",\n",
    "    \"presidential_candidate\": \"presidential_candidate\",\n",
    "    \"state_senator\": \"state_legislator_senate\",\n",
    "    \"state_representative\": \"state_legislator_house\",\n",
    "    \"former_governor\": \"governor\",\n",
    "    \"senator\": \"federal_legislator_senate\",  # Assuming federal context in absence of \"state\"\n",
    "    \"milwaukee_county_executive\": \"local_executive\",\n",
    "    \"attorney\": \"legal_professional\",\n",
    "    \"us_house_of_representatives\": \"federal_legislator_house\",\n",
    "    \"social_media_posting\": \"public_communicator\",  # Could be refined to \"non_traditional_communicator\" if relevant\n",
    "    \"governor_of_new_jersey\": \"governor\",\n",
    "    \"congressman\": \"federal_legislator_house\",\n",
    "    \"co-host_on_cnn's_\\\"crossfire\\\"\": \"public_communicator\",\n",
    "    \"us_congressman\": \"federal_legislator_house\",\n",
    "    \"congresswoman\": \"federal_legislator_house\",\n",
    "    \"speaker_of_the_house_of_representatives\": \"federal_legislative_leader\",\n",
    "    \"businessman\": \"business_professional\",\n",
    "    \"governor_of_ohio_as_of_jan_10,_2011\": \"governor\",\n",
    "    \"author\": \"public_communicator\",\n",
    "    \"lawyer\": \"legal_professional\",\n",
    "    \"candidate_for_us_senate_and_physician\": \"federal_legislative_candidate\",\n",
    "    \"us_senator_from_ohio\": \"federal_legislator_senate\",\n",
    "    \"lieutenant_governor\": \"state_executive\",\n",
    "    \"house_majority_leader\": \"federal_legislative_leader\",\n",
    "    \"us_representative,_florida_district_23\": \"federal_legislator_house\",\n",
    "    \"consultant\": \"political_advisor\",\n",
    "    \"mayor_of_providence\": \"local_executive\",\n",
    "    \"former_president\": \"president\",\n",
    "    \"columnist\": \"public_communicator\",\n",
    "    \"political_action_committee\": \"political_organization\",\n",
    "    \"radio_host\": \"public_communicator\",\n",
    "    \"madison_school_board_member\": \"local_education_official\",\n",
    "    \"secretary_of_state\": \"state_executive\",\n",
    "    \"attorney_general\": \"state_executive\",\n",
    "    \"us_house_member\": \"federal_legislator_house\",\n",
    "    \"msnbc_host\": \"public_communicator\",\n",
    "    \"senate_democratic_leader\": \"federal_legislative_leader\",\n",
    "    \"senate_minority_leader\": \"federal_legislative_leader\",\n",
    "    \"ohio_treasurer\": \"state_executive\",\n",
    "    \"state_assemblyman\": \"state_legislator_house\",\n",
    "    \"chairman,_republican_national_committee\": \"party_leader\",\n",
    "    \"us_representative,_florida_district_22\": \"federal_legislator_house\",\n",
    "    \"house_minority_leader\": \"federal_legislative_leader\",\n",
    "    \"mayor_of_milwaukee\": \"local_executive\",\n",
    "    \"lieutenant_governor-elect\": \"state_executive\",\n",
    "    \"philanthropist\": \"public_communicator\" # Could be considered \"influencer\" or \"social_actor\"\n",
    "}"
   ]
  },
  {
   "cell_type": "markdown",
   "metadata": {},
   "source": [
    "Agrupar por categorías en función del diccionario"
   ]
  },
  {
   "cell_type": "code",
   "execution_count": 61,
   "metadata": {},
   "outputs": [
    {
     "data": {
      "text/plain": [
       "speaker_job_grouped\n",
       "federal_legislator_senate        795\n",
       "president                        712\n",
       "governor                         630\n",
       "federal_legislator_house         590\n",
       "public_communicator              276\n",
       "presidential_candidate           216\n",
       "state_legislator_senate          186\n",
       "state_legislator_house           175\n",
       "local_executive                  172\n",
       "federal_legislative_leader       147\n",
       "legal_professional               134\n",
       "state_executive                  124\n",
       "business_professional             46\n",
       "federal_legislative_candidate     40\n",
       "political_advisor                 31\n",
       "political_organization            27\n",
       "local_education_official          25\n",
       "party_leader                      19\n",
       "Name: count, dtype: int64"
      ]
     },
     "execution_count": 61,
     "metadata": {},
     "output_type": "execute_result"
    }
   ],
   "source": [
    "# Combinar las dos operaciones\n",
    "dfc['speaker_job_grouped'] = dfc['speaker_job'].map(mapping_speaker_job_en)\n",
    "dfc['speaker_job_grouped'].value_counts()"
   ]
  },
  {
   "cell_type": "markdown",
   "metadata": {},
   "source": [
    "Rellenar si hay algún speaker que tenga categória en alguna fila que en otra no tenga"
   ]
  },
  {
   "cell_type": "code",
   "execution_count": 62,
   "metadata": {},
   "outputs": [
    {
     "data": {
      "text/plain": [
       "speaker_job_grouped\n",
       "federal_legislator_senate        795\n",
       "president                        712\n",
       "governor                         630\n",
       "federal_legislator_house         590\n",
       "public_communicator              276\n",
       "presidential_candidate           216\n",
       "state_legislator_senate          186\n",
       "state_legislator_house           175\n",
       "local_executive                  172\n",
       "federal_legislative_leader       147\n",
       "legal_professional               134\n",
       "state_executive                  124\n",
       "business_professional             46\n",
       "federal_legislative_candidate     40\n",
       "political_advisor                 31\n",
       "political_organization            27\n",
       "local_education_official          25\n",
       "party_leader                      19\n",
       "Name: count, dtype: int64"
      ]
     },
     "execution_count": 62,
     "metadata": {},
     "output_type": "execute_result"
    }
   ],
   "source": [
    "dfc['speaker_job_grouped'] = dfc.groupby('speaker')['speaker_job_grouped'].transform(\n",
    "    lambda x: x.fillna(x.mode()[0]) if not x.mode().empty else x\n",
    ")\n",
    "\n",
    "dfc['speaker_job_grouped'].value_counts()"
   ]
  },
  {
   "cell_type": "markdown",
   "metadata": {},
   "source": [
    "Rellenar los null con other_speaker_job"
   ]
  },
  {
   "cell_type": "code",
   "execution_count": 63,
   "metadata": {},
   "outputs": [
    {
     "data": {
      "text/plain": [
       "speaker_job_grouped\n",
       "other_speaker_job                4605\n",
       "federal_legislator_senate         795\n",
       "president                         712\n",
       "governor                          630\n",
       "federal_legislator_house          590\n",
       "public_communicator               276\n",
       "presidential_candidate            216\n",
       "state_legislator_senate           186\n",
       "state_legislator_house            175\n",
       "local_executive                   172\n",
       "federal_legislative_leader        147\n",
       "legal_professional                134\n",
       "state_executive                   124\n",
       "business_professional              46\n",
       "federal_legislative_candidate      40\n",
       "political_advisor                  31\n",
       "political_organization             27\n",
       "local_education_official           25\n",
       "party_leader                       19\n",
       "Name: count, dtype: int64"
      ]
     },
     "execution_count": 63,
     "metadata": {},
     "output_type": "execute_result"
    }
   ],
   "source": [
    "dfc['speaker_job_grouped'] = dfc['speaker_job_grouped'].fillna('other_speaker_job')\n",
    "\n",
    "# Verificar el resultado\n",
    "dfc['speaker_job_grouped'].value_counts()\n"
   ]
  },
  {
   "cell_type": "markdown",
   "metadata": {},
   "source": [
    "Codificación de las variables de speaker_job"
   ]
  },
  {
   "cell_type": "code",
   "execution_count": 64,
   "metadata": {},
   "outputs": [
    {
     "data": {
      "text/plain": [
       "speaker_job_grouped_cod\n",
       "9     4605\n",
       "4      795\n",
       "13     712\n",
       "5      630\n",
       "3      590\n",
       "15     276\n",
       "14     216\n",
       "18     186\n",
       "17     175\n",
       "8      172\n",
       "2      147\n",
       "6      134\n",
       "16     124\n",
       "0       46\n",
       "1       40\n",
       "11      31\n",
       "12      27\n",
       "7       25\n",
       "10      19\n",
       "Name: count, dtype: int64"
      ]
     },
     "execution_count": 64,
     "metadata": {},
     "output_type": "execute_result"
    }
   ],
   "source": [
    "dfc['speaker_job_grouped_cod'] = dfc['speaker_job_grouped'].astype('category').cat.codes.astype('int64')\n",
    "dfc['speaker_job_grouped_cod'].value_counts()\n"
   ]
  },
  {
   "cell_type": "markdown",
   "metadata": {},
   "source": [
    "Visualización para comprobar"
   ]
  },
  {
   "cell_type": "code",
   "execution_count": 65,
   "metadata": {},
   "outputs": [
    {
     "data": {
      "text/html": [
       "<div>\n",
       "<style scoped>\n",
       "    .dataframe tbody tr th:only-of-type {\n",
       "        vertical-align: middle;\n",
       "    }\n",
       "\n",
       "    .dataframe tbody tr th {\n",
       "        vertical-align: top;\n",
       "    }\n",
       "\n",
       "    .dataframe thead th {\n",
       "        text-align: right;\n",
       "    }\n",
       "</style>\n",
       "<table border=\"1\" class=\"dataframe\">\n",
       "  <thead>\n",
       "    <tr style=\"text-align: right;\">\n",
       "      <th></th>\n",
       "      <th>id</th>\n",
       "      <th>label</th>\n",
       "      <th>statement</th>\n",
       "      <th>subject</th>\n",
       "      <th>speaker</th>\n",
       "      <th>speaker_job</th>\n",
       "      <th>state_info</th>\n",
       "      <th>party_affiliation</th>\n",
       "      <th>statement-raw</th>\n",
       "      <th>statement-lemmatize</th>\n",
       "      <th>statement-ner</th>\n",
       "      <th>feelings</th>\n",
       "      <th>subject_list</th>\n",
       "      <th>subject_categories</th>\n",
       "      <th>subject-ciencia_y_tecnologia</th>\n",
       "      <th>subject-economia_y_finanzas</th>\n",
       "      <th>subject-educacion</th>\n",
       "      <th>subject-medio_ambiente_y_energia</th>\n",
       "      <th>subject-otros</th>\n",
       "      <th>subject-politica_y_gobierno</th>\n",
       "      <th>subject-relaciones_internacionales</th>\n",
       "      <th>subject-salud_y_bienestar</th>\n",
       "      <th>subject-seguridad_y_justicia</th>\n",
       "      <th>subject-sociedad_y_cultura</th>\n",
       "      <th>subject-trabajo_y_empleo</th>\n",
       "      <th>speaker_grouped</th>\n",
       "      <th>speaker_grouped_cod</th>\n",
       "      <th>speaker_job_grouped</th>\n",
       "      <th>speaker_job_grouped_cod</th>\n",
       "    </tr>\n",
       "  </thead>\n",
       "  <tbody>\n",
       "    <tr>\n",
       "      <th>0</th>\n",
       "      <td>81f884c64a7</td>\n",
       "      <td>1</td>\n",
       "      <td>China is in the South China Sea and (building)...</td>\n",
       "      <td>china,foreign-policy,military</td>\n",
       "      <td>donald-trump</td>\n",
       "      <td>president-elect</td>\n",
       "      <td>New York</td>\n",
       "      <td>republican</td>\n",
       "      <td>china is south china sea military fortress lik...</td>\n",
       "      <td>china be south china sea military fortress lik...</td>\n",
       "      <td>china south china sea</td>\n",
       "      <td>0.4215</td>\n",
       "      <td>[china, foreign-policy, military]</td>\n",
       "      <td>[subject-relaciones_internacionales]</td>\n",
       "      <td>0</td>\n",
       "      <td>0</td>\n",
       "      <td>0</td>\n",
       "      <td>0</td>\n",
       "      <td>0</td>\n",
       "      <td>0</td>\n",
       "      <td>1</td>\n",
       "      <td>0</td>\n",
       "      <td>0</td>\n",
       "      <td>0</td>\n",
       "      <td>0</td>\n",
       "      <td>donald-trump</td>\n",
       "      <td>2</td>\n",
       "      <td>president</td>\n",
       "      <td>13</td>\n",
       "    </tr>\n",
       "    <tr>\n",
       "      <th>1</th>\n",
       "      <td>30c2723a188</td>\n",
       "      <td>0</td>\n",
       "      <td>With the resources it takes to execute just ov...</td>\n",
       "      <td>health-care</td>\n",
       "      <td>chris-dodd</td>\n",
       "      <td>us_senator</td>\n",
       "      <td>Connecticut</td>\n",
       "      <td>democrat</td>\n",
       "      <td>resources it takes execute months iraq war we ...</td>\n",
       "      <td>resources it take execute months iraq war we f...</td>\n",
       "      <td>just over three months the iraq war bush</td>\n",
       "      <td>-0.4767</td>\n",
       "      <td>[health-care]</td>\n",
       "      <td>[subject-salud_y_bienestar]</td>\n",
       "      <td>0</td>\n",
       "      <td>0</td>\n",
       "      <td>0</td>\n",
       "      <td>0</td>\n",
       "      <td>0</td>\n",
       "      <td>0</td>\n",
       "      <td>0</td>\n",
       "      <td>1</td>\n",
       "      <td>0</td>\n",
       "      <td>0</td>\n",
       "      <td>0</td>\n",
       "      <td>other_speakers</td>\n",
       "      <td>7</td>\n",
       "      <td>federal_legislator_senate</td>\n",
       "      <td>4</td>\n",
       "    </tr>\n",
       "    <tr>\n",
       "      <th>2</th>\n",
       "      <td>6936b216e5d</td>\n",
       "      <td>0</td>\n",
       "      <td>The (Wisconsin) governor has proposed tax give...</td>\n",
       "      <td>corporations,pundits,taxes,abc-news-week</td>\n",
       "      <td>donna-brazile</td>\n",
       "      <td>political_commentator</td>\n",
       "      <td>Washington, D.C.</td>\n",
       "      <td>democrat</td>\n",
       "      <td>wisconsin governor proposed tax giveaways corp...</td>\n",
       "      <td>wisconsin governor propose tax giveaways corpo...</td>\n",
       "      <td>wisconsin</td>\n",
       "      <td>0.0000</td>\n",
       "      <td>[corporations, pundits, taxes, abc-news-week]</td>\n",
       "      <td>[subject-sociedad_y_cultura, subject-otros, su...</td>\n",
       "      <td>0</td>\n",
       "      <td>1</td>\n",
       "      <td>0</td>\n",
       "      <td>0</td>\n",
       "      <td>1</td>\n",
       "      <td>0</td>\n",
       "      <td>0</td>\n",
       "      <td>0</td>\n",
       "      <td>0</td>\n",
       "      <td>1</td>\n",
       "      <td>0</td>\n",
       "      <td>other_speakers</td>\n",
       "      <td>7</td>\n",
       "      <td>other_speaker_job</td>\n",
       "      <td>9</td>\n",
       "    </tr>\n",
       "    <tr>\n",
       "      <th>3</th>\n",
       "      <td>b5cd9195738</td>\n",
       "      <td>1</td>\n",
       "      <td>Says her representation of an ex-boyfriend who...</td>\n",
       "      <td>candidates-biography,children,ethics,families,...</td>\n",
       "      <td>rebecca-bradley</td>\n",
       "      <td>NaN</td>\n",
       "      <td>NaN</td>\n",
       "      <td>none</td>\n",
       "      <td>says her representation ex boyfriend who was m...</td>\n",
       "      <td>say her representation ex boyfriend who be my ...</td>\n",
       "      <td>(no entities)</td>\n",
       "      <td>0.4939</td>\n",
       "      <td>[candidates-biography, children, ethics, famil...</td>\n",
       "      <td>[subject-sociedad_y_cultura, subject-educacion...</td>\n",
       "      <td>0</td>\n",
       "      <td>0</td>\n",
       "      <td>1</td>\n",
       "      <td>0</td>\n",
       "      <td>0</td>\n",
       "      <td>1</td>\n",
       "      <td>0</td>\n",
       "      <td>0</td>\n",
       "      <td>1</td>\n",
       "      <td>1</td>\n",
       "      <td>0</td>\n",
       "      <td>other_speakers</td>\n",
       "      <td>7</td>\n",
       "      <td>other_speaker_job</td>\n",
       "      <td>9</td>\n",
       "    </tr>\n",
       "    <tr>\n",
       "      <th>4</th>\n",
       "      <td>84f8dac7737</td>\n",
       "      <td>0</td>\n",
       "      <td>At protests in Wisconsin against proposed coll...</td>\n",
       "      <td>health-care,labor,state-budget</td>\n",
       "      <td>republican-party-wisconsin</td>\n",
       "      <td>NaN</td>\n",
       "      <td>Wisconsin</td>\n",
       "      <td>republican</td>\n",
       "      <td>protests wisconsin proposed collective bargain...</td>\n",
       "      <td>protests wisconsin propose collective bargaini...</td>\n",
       "      <td>wisconsin</td>\n",
       "      <td>-0.5994</td>\n",
       "      <td>[health-care, labor, state-budget]</td>\n",
       "      <td>[subject-economia_y_finanzas, subject-salud_y_...</td>\n",
       "      <td>0</td>\n",
       "      <td>1</td>\n",
       "      <td>0</td>\n",
       "      <td>0</td>\n",
       "      <td>0</td>\n",
       "      <td>0</td>\n",
       "      <td>0</td>\n",
       "      <td>1</td>\n",
       "      <td>0</td>\n",
       "      <td>0</td>\n",
       "      <td>1</td>\n",
       "      <td>other_speakers</td>\n",
       "      <td>7</td>\n",
       "      <td>other_speaker_job</td>\n",
       "      <td>9</td>\n",
       "    </tr>\n",
       "  </tbody>\n",
       "</table>\n",
       "</div>"
      ],
      "text/plain": [
       "            id  label                                          statement  \\\n",
       "0  81f884c64a7      1  China is in the South China Sea and (building)...   \n",
       "1  30c2723a188      0  With the resources it takes to execute just ov...   \n",
       "2  6936b216e5d      0  The (Wisconsin) governor has proposed tax give...   \n",
       "3  b5cd9195738      1  Says her representation of an ex-boyfriend who...   \n",
       "4  84f8dac7737      0  At protests in Wisconsin against proposed coll...   \n",
       "\n",
       "                                             subject  \\\n",
       "0                      china,foreign-policy,military   \n",
       "1                                        health-care   \n",
       "2           corporations,pundits,taxes,abc-news-week   \n",
       "3  candidates-biography,children,ethics,families,...   \n",
       "4                     health-care,labor,state-budget   \n",
       "\n",
       "                      speaker            speaker_job        state_info  \\\n",
       "0                donald-trump        president-elect          New York   \n",
       "1                  chris-dodd             us_senator       Connecticut   \n",
       "2               donna-brazile  political_commentator  Washington, D.C.   \n",
       "3             rebecca-bradley                    NaN               NaN   \n",
       "4  republican-party-wisconsin                    NaN         Wisconsin   \n",
       "\n",
       "  party_affiliation                                      statement-raw  \\\n",
       "0        republican  china is south china sea military fortress lik...   \n",
       "1          democrat  resources it takes execute months iraq war we ...   \n",
       "2          democrat  wisconsin governor proposed tax giveaways corp...   \n",
       "3              none  says her representation ex boyfriend who was m...   \n",
       "4        republican  protests wisconsin proposed collective bargain...   \n",
       "\n",
       "                                 statement-lemmatize  \\\n",
       "0  china be south china sea military fortress lik...   \n",
       "1  resources it take execute months iraq war we f...   \n",
       "2  wisconsin governor propose tax giveaways corpo...   \n",
       "3  say her representation ex boyfriend who be my ...   \n",
       "4  protests wisconsin propose collective bargaini...   \n",
       "\n",
       "                              statement-ner  feelings  \\\n",
       "0                     china south china sea    0.4215   \n",
       "1  just over three months the iraq war bush   -0.4767   \n",
       "2                                 wisconsin    0.0000   \n",
       "3                             (no entities)    0.4939   \n",
       "4                                 wisconsin   -0.5994   \n",
       "\n",
       "                                        subject_list  \\\n",
       "0                  [china, foreign-policy, military]   \n",
       "1                                      [health-care]   \n",
       "2      [corporations, pundits, taxes, abc-news-week]   \n",
       "3  [candidates-biography, children, ethics, famil...   \n",
       "4                 [health-care, labor, state-budget]   \n",
       "\n",
       "                                  subject_categories  \\\n",
       "0               [subject-relaciones_internacionales]   \n",
       "1                        [subject-salud_y_bienestar]   \n",
       "2  [subject-sociedad_y_cultura, subject-otros, su...   \n",
       "3  [subject-sociedad_y_cultura, subject-educacion...   \n",
       "4  [subject-economia_y_finanzas, subject-salud_y_...   \n",
       "\n",
       "   subject-ciencia_y_tecnologia  subject-economia_y_finanzas  \\\n",
       "0                             0                            0   \n",
       "1                             0                            0   \n",
       "2                             0                            1   \n",
       "3                             0                            0   \n",
       "4                             0                            1   \n",
       "\n",
       "   subject-educacion  subject-medio_ambiente_y_energia  subject-otros  \\\n",
       "0                  0                                 0              0   \n",
       "1                  0                                 0              0   \n",
       "2                  0                                 0              1   \n",
       "3                  1                                 0              0   \n",
       "4                  0                                 0              0   \n",
       "\n",
       "   subject-politica_y_gobierno  subject-relaciones_internacionales  \\\n",
       "0                            0                                   1   \n",
       "1                            0                                   0   \n",
       "2                            0                                   0   \n",
       "3                            1                                   0   \n",
       "4                            0                                   0   \n",
       "\n",
       "   subject-salud_y_bienestar  subject-seguridad_y_justicia  \\\n",
       "0                          0                             0   \n",
       "1                          1                             0   \n",
       "2                          0                             0   \n",
       "3                          0                             1   \n",
       "4                          1                             0   \n",
       "\n",
       "   subject-sociedad_y_cultura  subject-trabajo_y_empleo speaker_grouped  \\\n",
       "0                           0                         0    donald-trump   \n",
       "1                           0                         0  other_speakers   \n",
       "2                           1                         0  other_speakers   \n",
       "3                           1                         0  other_speakers   \n",
       "4                           0                         1  other_speakers   \n",
       "\n",
       "   speaker_grouped_cod        speaker_job_grouped  speaker_job_grouped_cod  \n",
       "0                    2                  president                       13  \n",
       "1                    7  federal_legislator_senate                        4  \n",
       "2                    7          other_speaker_job                        9  \n",
       "3                    7          other_speaker_job                        9  \n",
       "4                    7          other_speaker_job                        9  "
      ]
     },
     "execution_count": 65,
     "metadata": {},
     "output_type": "execute_result"
    }
   ],
   "source": [
    "dfc.head()"
   ]
  },
  {
   "cell_type": "markdown",
   "metadata": {},
   "source": [
    "#### - state_info"
   ]
  },
  {
   "cell_type": "markdown",
   "metadata": {},
   "source": [
    "Función para limipiar le contenido de la columna *state_info*"
   ]
  },
  {
   "cell_type": "code",
   "execution_count": 66,
   "metadata": {},
   "outputs": [],
   "source": [
    "def clean_state_info(text):\n",
    "    if isinstance(text, str):  # Verifica que el valor sea una cadena\n",
    "        text = re.sub(r'[^\\w\\s]', '', text)  # Reemplaza cualquier carácter que no sea palabra o espacio\n",
    "        return text.strip()  # Elimina espacios al principio y al final\n",
    "    return text  # Devuelve el valor original si no es una cadena\n"
   ]
  },
  {
   "cell_type": "markdown",
   "metadata": {},
   "source": [
    "Limpieza de los valores de la columna *state_info* y poner en minúscula"
   ]
  },
  {
   "cell_type": "code",
   "execution_count": 67,
   "metadata": {},
   "outputs": [],
   "source": [
    "dfc['state_info'] = dfc['state_info'].str.lower()\n",
    "dfc['state_info'] = dfc['state_info'].apply(clean_state_info)\n",
    "df_test['state_info'] = df_test['state_info'].str.lower()\n",
    "df_test['state_info'] = df_test['state_info'].apply(clean_state_info)"
   ]
  },
  {
   "cell_type": "markdown",
   "metadata": {},
   "source": [
    "Creación de json para visualizarlo de manera más sencilla"
   ]
  },
  {
   "cell_type": "code",
   "execution_count": 68,
   "metadata": {},
   "outputs": [],
   "source": [
    "# Obtener el conteo de valores únicos de 'speaker'\n",
    "state_info_counts = dfc['state_info'].value_counts()\n",
    "state_info_counts_test = df_test['state_info'].value_counts()\n",
    "\n",
    "\n",
    "# Convertir a diccionario\n",
    "state_info_counts_dict = state_info_counts.to_dict()\n",
    "state_info_counts_test_dict = state_info_counts_test.to_dict()\n",
    "\n",
    "# Exportar a un archivo JSON\n",
    "create_json('json/json-study/state_info_counts.json', state_info_counts_dict)\n",
    "create_json('json/json-study/state_info_counts_test.json', state_info_counts_test_dict)"
   ]
  },
  {
   "cell_type": "markdown",
   "metadata": {},
   "source": [
    "| Número | Estado               | Train | Test |\n",
    "|--------|----------------------|-------|------|\n",
    "| 1      | Texas                | 879   | 380  |\n",
    "| 2      | Florida              | 853   | 378  |\n",
    "| 3      | Wisconsin            | 648   | 252  |\n",
    "| 4      | New York             | 579   | 250  |\n",
    "| 5      | Illinois             | 487   | 205  |\n",
    "| 6      | Ohio                 | 408   | 178  |\n",
    "| 7      | Georgia              | 381   | 164  |\n",
    "| 8      | Virginia             | 368   | 144  |\n",
    "| 9      | Rhode Island         | 317   | 135  |\n",
    "| 10     | New Jersey           | 209   | 96   |\n",
    "| 11     | Oregon               | 220   | 87   |\n",
    "| 12     | Massachusetts        | 167   | 83   |\n",
    "| 13     | Arizona              | 160   | 68   |\n",
    "| 14     | California           | 121   | 59   |\n",
    "| 15     | Washington, D.C.     | 89    | 52   |\n",
    "| 16     | Vermont              | 80    | 37   |\n",
    "| 17     | New Hampshire        | 79    | 28   |\n",
    "| 18     | Pennsylvania         | 79    | 33   |\n",
    "| 19     | Arkansas             | 77    | 26   |\n",
    "| 20     | Kentucky             | 72    | 26   |\n"
   ]
  },
  {
   "cell_type": "markdown",
   "metadata": {},
   "source": [
    "Utilizando los archivos JSON json-study/state_info_counts_test.json y json-study/state_info_counts.json, que contienen los conteos de apariciones de cada estado tanto en el conjunto de entrenamiento como en el de prueba, se ha obtenido la lista de los 20 estados más frecuentes en el conjunto de prueba.\n",
    "\n",
    "Al analizar dicha lista, se observa que a partir del quinceavo estado se produce una disminución significativa en la frecuencia de aparición. Por tanto, este punto podría considerarse un umbral razonable para realizar un corte: mantener los 15 estados más frecuentes como categorías individuales y agrupar el resto bajo una categoría común, como \"other_states\". Esta decisión busca reducir el riesgo de overfitting y mejorar la capacidad de generalización del modelo."
   ]
  },
  {
   "cell_type": "markdown",
   "metadata": {},
   "source": [
    "Extraer los *states_info* más comunes"
   ]
  },
  {
   "cell_type": "code",
   "execution_count": 69,
   "metadata": {},
   "outputs": [],
   "source": [
    "# Obtener el conteo de valores únicos de 'state_info'\n",
    "state_info_counts = dfc['state_info'].value_counts()\n",
    "\n",
    "# Elegir el punto de corte (por ejemplo, los 10 más frecuentes)\n",
    "top_n = 15\n",
    "frequent_state_info = set(state_info_counts.head(top_n).index)"
   ]
  },
  {
   "cell_type": "markdown",
   "metadata": {},
   "source": [
    "Ver como se distribulle la frecuencia de las variables"
   ]
  },
  {
   "cell_type": "code",
   "execution_count": 70,
   "metadata": {},
   "outputs": [
    {
     "data": {
      "text/plain": [
       "state_info\n",
       "texas                879\n",
       "florida              857\n",
       "wisconsin            649\n",
       "new york             580\n",
       "illinois             489\n",
       "                    ... \n",
       "china                  1\n",
       "montana                1\n",
       "atlanta                1\n",
       "the united states      1\n",
       "russia                 1\n",
       "Name: count, Length: 61, dtype: int64"
      ]
     },
     "execution_count": 70,
     "metadata": {},
     "output_type": "execute_result"
    }
   ],
   "source": [
    "dfc['state_info'].value_counts()"
   ]
  },
  {
   "cell_type": "markdown",
   "metadata": {},
   "source": [
    "Rellenar si hay algún speaker que tenga state_info en alguna fila que en otra no tenga"
   ]
  },
  {
   "cell_type": "code",
   "execution_count": 71,
   "metadata": {},
   "outputs": [
    {
     "data": {
      "text/plain": [
       "state_info\n",
       "texas                879\n",
       "florida              857\n",
       "wisconsin            649\n",
       "new york             580\n",
       "illinois             489\n",
       "                    ... \n",
       "china                  1\n",
       "montana                1\n",
       "atlanta                1\n",
       "the united states      1\n",
       "russia                 1\n",
       "Name: count, Length: 61, dtype: int64"
      ]
     },
     "execution_count": 71,
     "metadata": {},
     "output_type": "execute_result"
    }
   ],
   "source": [
    "dfc['state_info'] = dfc.groupby('speaker')['state_info'].transform(\n",
    "    lambda x: x.fillna(x.mode()[0]) if not x.mode().empty else x\n",
    ")\n",
    "\n",
    "dfc['state_info'].value_counts()\n"
   ]
  },
  {
   "cell_type": "markdown",
   "metadata": {},
   "source": [
    "Rellenar los nulos con *'other_state_info'*"
   ]
  },
  {
   "cell_type": "code",
   "execution_count": 72,
   "metadata": {},
   "outputs": [
    {
     "data": {
      "text/plain": [
       "state_info_grouped\n",
       "other_state_info    3013\n",
       "texas                879\n",
       "florida              857\n",
       "wisconsin            649\n",
       "new york             580\n",
       "illinois             489\n",
       "ohio                 410\n",
       "georgia              398\n",
       "virginia             369\n",
       "rhode island         319\n",
       "oregon               222\n",
       "new jersey           209\n",
       "massachusetts        172\n",
       "arizona              160\n",
       "california           122\n",
       "washington dc        102\n",
       "Name: count, dtype: int64"
      ]
     },
     "execution_count": 72,
     "metadata": {},
     "output_type": "execute_result"
    }
   ],
   "source": [
    "# Agrupar los menos frecuentes como 'other_state_info'\n",
    "dfc['state_info_grouped'] = dfc['state_info'].apply(\n",
    "    lambda info: info if info in frequent_state_info else 'other_state_info'\n",
    ")\n",
    "\n",
    "# 6. Ver el resultado final\n",
    "dfc['state_info_grouped'].value_counts()"
   ]
  },
  {
   "cell_type": "markdown",
   "metadata": {},
   "source": [
    "Codificaión de las variables de state_info"
   ]
  },
  {
   "cell_type": "code",
   "execution_count": 73,
   "metadata": {},
   "outputs": [
    {
     "data": {
      "text/plain": [
       "state_info_grouped_cod\n",
       "10    3013\n",
       "12     879\n",
       "2      857\n",
       "15     649\n",
       "7      580\n",
       "4      489\n",
       "8      410\n",
       "3      398\n",
       "13     369\n",
       "11     319\n",
       "9      222\n",
       "6      209\n",
       "5      172\n",
       "0      160\n",
       "1      122\n",
       "14     102\n",
       "Name: count, dtype: int64"
      ]
     },
     "execution_count": 73,
     "metadata": {},
     "output_type": "execute_result"
    }
   ],
   "source": [
    "dfc['state_info_grouped_cod'] = dfc['state_info_grouped'].astype('category').cat.codes.astype('int64')\n",
    "dfc['state_info_grouped_cod'].value_counts()\n"
   ]
  },
  {
   "cell_type": "markdown",
   "metadata": {},
   "source": [
    "Visualizción para comprobar"
   ]
  },
  {
   "cell_type": "code",
   "execution_count": 74,
   "metadata": {},
   "outputs": [
    {
     "data": {
      "text/html": [
       "<div>\n",
       "<style scoped>\n",
       "    .dataframe tbody tr th:only-of-type {\n",
       "        vertical-align: middle;\n",
       "    }\n",
       "\n",
       "    .dataframe tbody tr th {\n",
       "        vertical-align: top;\n",
       "    }\n",
       "\n",
       "    .dataframe thead th {\n",
       "        text-align: right;\n",
       "    }\n",
       "</style>\n",
       "<table border=\"1\" class=\"dataframe\">\n",
       "  <thead>\n",
       "    <tr style=\"text-align: right;\">\n",
       "      <th></th>\n",
       "      <th>id</th>\n",
       "      <th>label</th>\n",
       "      <th>statement</th>\n",
       "      <th>subject</th>\n",
       "      <th>speaker</th>\n",
       "      <th>speaker_job</th>\n",
       "      <th>state_info</th>\n",
       "      <th>party_affiliation</th>\n",
       "      <th>statement-raw</th>\n",
       "      <th>statement-lemmatize</th>\n",
       "      <th>statement-ner</th>\n",
       "      <th>feelings</th>\n",
       "      <th>subject_list</th>\n",
       "      <th>subject_categories</th>\n",
       "      <th>subject-ciencia_y_tecnologia</th>\n",
       "      <th>subject-economia_y_finanzas</th>\n",
       "      <th>subject-educacion</th>\n",
       "      <th>subject-medio_ambiente_y_energia</th>\n",
       "      <th>subject-otros</th>\n",
       "      <th>subject-politica_y_gobierno</th>\n",
       "      <th>subject-relaciones_internacionales</th>\n",
       "      <th>subject-salud_y_bienestar</th>\n",
       "      <th>subject-seguridad_y_justicia</th>\n",
       "      <th>subject-sociedad_y_cultura</th>\n",
       "      <th>subject-trabajo_y_empleo</th>\n",
       "      <th>speaker_grouped</th>\n",
       "      <th>speaker_grouped_cod</th>\n",
       "      <th>speaker_job_grouped</th>\n",
       "      <th>speaker_job_grouped_cod</th>\n",
       "      <th>state_info_grouped</th>\n",
       "      <th>state_info_grouped_cod</th>\n",
       "    </tr>\n",
       "  </thead>\n",
       "  <tbody>\n",
       "    <tr>\n",
       "      <th>0</th>\n",
       "      <td>81f884c64a7</td>\n",
       "      <td>1</td>\n",
       "      <td>China is in the South China Sea and (building)...</td>\n",
       "      <td>china,foreign-policy,military</td>\n",
       "      <td>donald-trump</td>\n",
       "      <td>president-elect</td>\n",
       "      <td>new york</td>\n",
       "      <td>republican</td>\n",
       "      <td>china is south china sea military fortress lik...</td>\n",
       "      <td>china be south china sea military fortress lik...</td>\n",
       "      <td>china south china sea</td>\n",
       "      <td>0.4215</td>\n",
       "      <td>[china, foreign-policy, military]</td>\n",
       "      <td>[subject-relaciones_internacionales]</td>\n",
       "      <td>0</td>\n",
       "      <td>0</td>\n",
       "      <td>0</td>\n",
       "      <td>0</td>\n",
       "      <td>0</td>\n",
       "      <td>0</td>\n",
       "      <td>1</td>\n",
       "      <td>0</td>\n",
       "      <td>0</td>\n",
       "      <td>0</td>\n",
       "      <td>0</td>\n",
       "      <td>donald-trump</td>\n",
       "      <td>2</td>\n",
       "      <td>president</td>\n",
       "      <td>13</td>\n",
       "      <td>new york</td>\n",
       "      <td>7</td>\n",
       "    </tr>\n",
       "    <tr>\n",
       "      <th>1</th>\n",
       "      <td>30c2723a188</td>\n",
       "      <td>0</td>\n",
       "      <td>With the resources it takes to execute just ov...</td>\n",
       "      <td>health-care</td>\n",
       "      <td>chris-dodd</td>\n",
       "      <td>us_senator</td>\n",
       "      <td>connecticut</td>\n",
       "      <td>democrat</td>\n",
       "      <td>resources it takes execute months iraq war we ...</td>\n",
       "      <td>resources it take execute months iraq war we f...</td>\n",
       "      <td>just over three months the iraq war bush</td>\n",
       "      <td>-0.4767</td>\n",
       "      <td>[health-care]</td>\n",
       "      <td>[subject-salud_y_bienestar]</td>\n",
       "      <td>0</td>\n",
       "      <td>0</td>\n",
       "      <td>0</td>\n",
       "      <td>0</td>\n",
       "      <td>0</td>\n",
       "      <td>0</td>\n",
       "      <td>0</td>\n",
       "      <td>1</td>\n",
       "      <td>0</td>\n",
       "      <td>0</td>\n",
       "      <td>0</td>\n",
       "      <td>other_speakers</td>\n",
       "      <td>7</td>\n",
       "      <td>federal_legislator_senate</td>\n",
       "      <td>4</td>\n",
       "      <td>other_state_info</td>\n",
       "      <td>10</td>\n",
       "    </tr>\n",
       "    <tr>\n",
       "      <th>2</th>\n",
       "      <td>6936b216e5d</td>\n",
       "      <td>0</td>\n",
       "      <td>The (Wisconsin) governor has proposed tax give...</td>\n",
       "      <td>corporations,pundits,taxes,abc-news-week</td>\n",
       "      <td>donna-brazile</td>\n",
       "      <td>political_commentator</td>\n",
       "      <td>washington dc</td>\n",
       "      <td>democrat</td>\n",
       "      <td>wisconsin governor proposed tax giveaways corp...</td>\n",
       "      <td>wisconsin governor propose tax giveaways corpo...</td>\n",
       "      <td>wisconsin</td>\n",
       "      <td>0.0000</td>\n",
       "      <td>[corporations, pundits, taxes, abc-news-week]</td>\n",
       "      <td>[subject-sociedad_y_cultura, subject-otros, su...</td>\n",
       "      <td>0</td>\n",
       "      <td>1</td>\n",
       "      <td>0</td>\n",
       "      <td>0</td>\n",
       "      <td>1</td>\n",
       "      <td>0</td>\n",
       "      <td>0</td>\n",
       "      <td>0</td>\n",
       "      <td>0</td>\n",
       "      <td>1</td>\n",
       "      <td>0</td>\n",
       "      <td>other_speakers</td>\n",
       "      <td>7</td>\n",
       "      <td>other_speaker_job</td>\n",
       "      <td>9</td>\n",
       "      <td>washington dc</td>\n",
       "      <td>14</td>\n",
       "    </tr>\n",
       "    <tr>\n",
       "      <th>3</th>\n",
       "      <td>b5cd9195738</td>\n",
       "      <td>1</td>\n",
       "      <td>Says her representation of an ex-boyfriend who...</td>\n",
       "      <td>candidates-biography,children,ethics,families,...</td>\n",
       "      <td>rebecca-bradley</td>\n",
       "      <td>NaN</td>\n",
       "      <td>NaN</td>\n",
       "      <td>none</td>\n",
       "      <td>says her representation ex boyfriend who was m...</td>\n",
       "      <td>say her representation ex boyfriend who be my ...</td>\n",
       "      <td>(no entities)</td>\n",
       "      <td>0.4939</td>\n",
       "      <td>[candidates-biography, children, ethics, famil...</td>\n",
       "      <td>[subject-sociedad_y_cultura, subject-educacion...</td>\n",
       "      <td>0</td>\n",
       "      <td>0</td>\n",
       "      <td>1</td>\n",
       "      <td>0</td>\n",
       "      <td>0</td>\n",
       "      <td>1</td>\n",
       "      <td>0</td>\n",
       "      <td>0</td>\n",
       "      <td>1</td>\n",
       "      <td>1</td>\n",
       "      <td>0</td>\n",
       "      <td>other_speakers</td>\n",
       "      <td>7</td>\n",
       "      <td>other_speaker_job</td>\n",
       "      <td>9</td>\n",
       "      <td>other_state_info</td>\n",
       "      <td>10</td>\n",
       "    </tr>\n",
       "    <tr>\n",
       "      <th>4</th>\n",
       "      <td>84f8dac7737</td>\n",
       "      <td>0</td>\n",
       "      <td>At protests in Wisconsin against proposed coll...</td>\n",
       "      <td>health-care,labor,state-budget</td>\n",
       "      <td>republican-party-wisconsin</td>\n",
       "      <td>NaN</td>\n",
       "      <td>wisconsin</td>\n",
       "      <td>republican</td>\n",
       "      <td>protests wisconsin proposed collective bargain...</td>\n",
       "      <td>protests wisconsin propose collective bargaini...</td>\n",
       "      <td>wisconsin</td>\n",
       "      <td>-0.5994</td>\n",
       "      <td>[health-care, labor, state-budget]</td>\n",
       "      <td>[subject-economia_y_finanzas, subject-salud_y_...</td>\n",
       "      <td>0</td>\n",
       "      <td>1</td>\n",
       "      <td>0</td>\n",
       "      <td>0</td>\n",
       "      <td>0</td>\n",
       "      <td>0</td>\n",
       "      <td>0</td>\n",
       "      <td>1</td>\n",
       "      <td>0</td>\n",
       "      <td>0</td>\n",
       "      <td>1</td>\n",
       "      <td>other_speakers</td>\n",
       "      <td>7</td>\n",
       "      <td>other_speaker_job</td>\n",
       "      <td>9</td>\n",
       "      <td>wisconsin</td>\n",
       "      <td>15</td>\n",
       "    </tr>\n",
       "  </tbody>\n",
       "</table>\n",
       "</div>"
      ],
      "text/plain": [
       "            id  label                                          statement  \\\n",
       "0  81f884c64a7      1  China is in the South China Sea and (building)...   \n",
       "1  30c2723a188      0  With the resources it takes to execute just ov...   \n",
       "2  6936b216e5d      0  The (Wisconsin) governor has proposed tax give...   \n",
       "3  b5cd9195738      1  Says her representation of an ex-boyfriend who...   \n",
       "4  84f8dac7737      0  At protests in Wisconsin against proposed coll...   \n",
       "\n",
       "                                             subject  \\\n",
       "0                      china,foreign-policy,military   \n",
       "1                                        health-care   \n",
       "2           corporations,pundits,taxes,abc-news-week   \n",
       "3  candidates-biography,children,ethics,families,...   \n",
       "4                     health-care,labor,state-budget   \n",
       "\n",
       "                      speaker            speaker_job     state_info  \\\n",
       "0                donald-trump        president-elect       new york   \n",
       "1                  chris-dodd             us_senator    connecticut   \n",
       "2               donna-brazile  political_commentator  washington dc   \n",
       "3             rebecca-bradley                    NaN            NaN   \n",
       "4  republican-party-wisconsin                    NaN      wisconsin   \n",
       "\n",
       "  party_affiliation                                      statement-raw  \\\n",
       "0        republican  china is south china sea military fortress lik...   \n",
       "1          democrat  resources it takes execute months iraq war we ...   \n",
       "2          democrat  wisconsin governor proposed tax giveaways corp...   \n",
       "3              none  says her representation ex boyfriend who was m...   \n",
       "4        republican  protests wisconsin proposed collective bargain...   \n",
       "\n",
       "                                 statement-lemmatize  \\\n",
       "0  china be south china sea military fortress lik...   \n",
       "1  resources it take execute months iraq war we f...   \n",
       "2  wisconsin governor propose tax giveaways corpo...   \n",
       "3  say her representation ex boyfriend who be my ...   \n",
       "4  protests wisconsin propose collective bargaini...   \n",
       "\n",
       "                              statement-ner  feelings  \\\n",
       "0                     china south china sea    0.4215   \n",
       "1  just over three months the iraq war bush   -0.4767   \n",
       "2                                 wisconsin    0.0000   \n",
       "3                             (no entities)    0.4939   \n",
       "4                                 wisconsin   -0.5994   \n",
       "\n",
       "                                        subject_list  \\\n",
       "0                  [china, foreign-policy, military]   \n",
       "1                                      [health-care]   \n",
       "2      [corporations, pundits, taxes, abc-news-week]   \n",
       "3  [candidates-biography, children, ethics, famil...   \n",
       "4                 [health-care, labor, state-budget]   \n",
       "\n",
       "                                  subject_categories  \\\n",
       "0               [subject-relaciones_internacionales]   \n",
       "1                        [subject-salud_y_bienestar]   \n",
       "2  [subject-sociedad_y_cultura, subject-otros, su...   \n",
       "3  [subject-sociedad_y_cultura, subject-educacion...   \n",
       "4  [subject-economia_y_finanzas, subject-salud_y_...   \n",
       "\n",
       "   subject-ciencia_y_tecnologia  subject-economia_y_finanzas  \\\n",
       "0                             0                            0   \n",
       "1                             0                            0   \n",
       "2                             0                            1   \n",
       "3                             0                            0   \n",
       "4                             0                            1   \n",
       "\n",
       "   subject-educacion  subject-medio_ambiente_y_energia  subject-otros  \\\n",
       "0                  0                                 0              0   \n",
       "1                  0                                 0              0   \n",
       "2                  0                                 0              1   \n",
       "3                  1                                 0              0   \n",
       "4                  0                                 0              0   \n",
       "\n",
       "   subject-politica_y_gobierno  subject-relaciones_internacionales  \\\n",
       "0                            0                                   1   \n",
       "1                            0                                   0   \n",
       "2                            0                                   0   \n",
       "3                            1                                   0   \n",
       "4                            0                                   0   \n",
       "\n",
       "   subject-salud_y_bienestar  subject-seguridad_y_justicia  \\\n",
       "0                          0                             0   \n",
       "1                          1                             0   \n",
       "2                          0                             0   \n",
       "3                          0                             1   \n",
       "4                          1                             0   \n",
       "\n",
       "   subject-sociedad_y_cultura  subject-trabajo_y_empleo speaker_grouped  \\\n",
       "0                           0                         0    donald-trump   \n",
       "1                           0                         0  other_speakers   \n",
       "2                           1                         0  other_speakers   \n",
       "3                           1                         0  other_speakers   \n",
       "4                           0                         1  other_speakers   \n",
       "\n",
       "   speaker_grouped_cod        speaker_job_grouped  speaker_job_grouped_cod  \\\n",
       "0                    2                  president                       13   \n",
       "1                    7  federal_legislator_senate                        4   \n",
       "2                    7          other_speaker_job                        9   \n",
       "3                    7          other_speaker_job                        9   \n",
       "4                    7          other_speaker_job                        9   \n",
       "\n",
       "  state_info_grouped  state_info_grouped_cod  \n",
       "0           new york                       7  \n",
       "1   other_state_info                      10  \n",
       "2      washington dc                      14  \n",
       "3   other_state_info                      10  \n",
       "4          wisconsin                      15  "
      ]
     },
     "execution_count": 74,
     "metadata": {},
     "output_type": "execute_result"
    }
   ],
   "source": [
    "dfc.head()"
   ]
  },
  {
   "cell_type": "markdown",
   "metadata": {},
   "source": [
    "#### - party_affiliation"
   ]
  },
  {
   "cell_type": "markdown",
   "metadata": {},
   "source": [
    "Creación de json para visualizarlo de manera más sencilla"
   ]
  },
  {
   "cell_type": "code",
   "execution_count": 75,
   "metadata": {},
   "outputs": [],
   "source": [
    "# Obtener el conteo de valores únicos de 'speaker'\n",
    "party_affiliation_counts = dfc['party_affiliation'].value_counts()\n",
    "party_affiliation_counts_test = df_test['party_affiliation'].value_counts()\n",
    "\n",
    "\n",
    "# Convertir a diccionario\n",
    "party_affiliation_counts_dict = party_affiliation_counts.to_dict()\n",
    "party_affiliation_counts_dict_test = party_affiliation_counts_test.to_dict()\n",
    "\n",
    "# Exportar a un archivo JSON\n",
    "create_json('json/json-study/party_affiliation_counts.json', party_affiliation_counts_dict)\n",
    "create_json('json/json-study/party_affiliation_counts_test.json', party_affiliation_counts_dict_test)\n"
   ]
  },
  {
   "cell_type": "markdown",
   "metadata": {},
   "source": [
    "Diccionario para mapear las diferernetes partidos en otrás categorías más genéricas"
   ]
  },
  {
   "cell_type": "code",
   "execution_count": 76,
   "metadata": {},
   "outputs": [],
   "source": [
    "mapping = {\n",
    "    # Major parties\n",
    "    'republican': 'republican',\n",
    "    'democrat': 'democrat',\n",
    "    'democratic-farmer-labor': 'democrat',\n",
    "\n",
    "    # Independents / None\n",
    "    'none': 'independent_None',\n",
    "    'independent': 'independent_None',\n",
    "\n",
    "    # Media\n",
    "    'newsmaker': 'media',\n",
    "    'journalist': 'media',\n",
    "    'columnist': 'media',\n",
    "    'activist': 'media',\n",
    "    'talk-show-host': 'media',\n",
    "    \n",
    "    # Third parties\n",
    "    'libertarian': 'third_Party',\n",
    "    'green': 'third_Party',\n",
    "    'constitution-party': 'third_Party',\n",
    "    'liberal-party-canada': 'third_Party',\n",
    "\n",
    "    # Organizations\n",
    "    'organization': 'organization',\n",
    "    \n",
    "    # Officials  \n",
    "    'state-official': 'official',\n",
    "    'business-leader': 'official',\n",
    "    'labor-leader': 'official',\n",
    "    'education-official': 'official',\n",
    "    'government-body': 'official',\n",
    "\n",
    "    # Tea Party\n",
    "    'tea-party-member': 'republican',\n",
    "    'ocean-state-tea-party-action': 'republican',\n",
    "}"
   ]
  },
  {
   "cell_type": "markdown",
   "metadata": {},
   "source": [
    "Función para agrupar partidos"
   ]
  },
  {
   "cell_type": "code",
   "execution_count": 77,
   "metadata": {},
   "outputs": [],
   "source": [
    "def group_party(x):\n",
    "    return mapping.get(x, 'other')  # anything else → 'Other'"
   ]
  },
  {
   "cell_type": "markdown",
   "metadata": {},
   "source": [
    "Agrupación de los partidos del dataset por la función *group_party*"
   ]
  },
  {
   "cell_type": "code",
   "execution_count": 78,
   "metadata": {},
   "outputs": [
    {
     "name": "stdout",
     "output_type": "stream",
     "text": [
      "party_group\n",
      "republican          3956\n",
      "democrat            2899\n",
      "independent_None    1661\n",
      "organization         197\n",
      "media                163\n",
      "third_Party           40\n",
      "official              32\n",
      "other                  2\n",
      "Name: count, dtype: int64\n"
     ]
    }
   ],
   "source": [
    "dfc['party_group'] = dfc['party_affiliation'].apply(group_party)\n",
    "\n",
    "# Recuento de las nuevas categorías\n",
    "print(dfc['party_group'].value_counts())\n"
   ]
  },
  {
   "cell_type": "markdown",
   "metadata": {},
   "source": [
    "Codficiación de las variables de party_affiliation"
   ]
  },
  {
   "cell_type": "code",
   "execution_count": 79,
   "metadata": {},
   "outputs": [],
   "source": [
    "dfc['party_group_cod'] = dfc['party_group'].astype('category').cat.codes.astype('int64')"
   ]
  },
  {
   "cell_type": "markdown",
   "metadata": {},
   "source": [
    "Visualización para comprobación"
   ]
  },
  {
   "cell_type": "code",
   "execution_count": 80,
   "metadata": {},
   "outputs": [
    {
     "data": {
      "text/html": [
       "<div>\n",
       "<style scoped>\n",
       "    .dataframe tbody tr th:only-of-type {\n",
       "        vertical-align: middle;\n",
       "    }\n",
       "\n",
       "    .dataframe tbody tr th {\n",
       "        vertical-align: top;\n",
       "    }\n",
       "\n",
       "    .dataframe thead th {\n",
       "        text-align: right;\n",
       "    }\n",
       "</style>\n",
       "<table border=\"1\" class=\"dataframe\">\n",
       "  <thead>\n",
       "    <tr style=\"text-align: right;\">\n",
       "      <th></th>\n",
       "      <th>id</th>\n",
       "      <th>label</th>\n",
       "      <th>statement</th>\n",
       "      <th>subject</th>\n",
       "      <th>speaker</th>\n",
       "      <th>speaker_job</th>\n",
       "      <th>state_info</th>\n",
       "      <th>party_affiliation</th>\n",
       "      <th>statement-raw</th>\n",
       "      <th>statement-lemmatize</th>\n",
       "      <th>statement-ner</th>\n",
       "      <th>feelings</th>\n",
       "      <th>subject_list</th>\n",
       "      <th>subject_categories</th>\n",
       "      <th>subject-ciencia_y_tecnologia</th>\n",
       "      <th>subject-economia_y_finanzas</th>\n",
       "      <th>subject-educacion</th>\n",
       "      <th>subject-medio_ambiente_y_energia</th>\n",
       "      <th>subject-otros</th>\n",
       "      <th>subject-politica_y_gobierno</th>\n",
       "      <th>subject-relaciones_internacionales</th>\n",
       "      <th>subject-salud_y_bienestar</th>\n",
       "      <th>subject-seguridad_y_justicia</th>\n",
       "      <th>subject-sociedad_y_cultura</th>\n",
       "      <th>subject-trabajo_y_empleo</th>\n",
       "      <th>speaker_grouped</th>\n",
       "      <th>speaker_grouped_cod</th>\n",
       "      <th>speaker_job_grouped</th>\n",
       "      <th>speaker_job_grouped_cod</th>\n",
       "      <th>state_info_grouped</th>\n",
       "      <th>state_info_grouped_cod</th>\n",
       "      <th>party_group</th>\n",
       "      <th>party_group_cod</th>\n",
       "    </tr>\n",
       "  </thead>\n",
       "  <tbody>\n",
       "    <tr>\n",
       "      <th>0</th>\n",
       "      <td>81f884c64a7</td>\n",
       "      <td>1</td>\n",
       "      <td>China is in the South China Sea and (building)...</td>\n",
       "      <td>china,foreign-policy,military</td>\n",
       "      <td>donald-trump</td>\n",
       "      <td>president-elect</td>\n",
       "      <td>new york</td>\n",
       "      <td>republican</td>\n",
       "      <td>china is south china sea military fortress lik...</td>\n",
       "      <td>china be south china sea military fortress lik...</td>\n",
       "      <td>china south china sea</td>\n",
       "      <td>0.4215</td>\n",
       "      <td>[china, foreign-policy, military]</td>\n",
       "      <td>[subject-relaciones_internacionales]</td>\n",
       "      <td>0</td>\n",
       "      <td>0</td>\n",
       "      <td>0</td>\n",
       "      <td>0</td>\n",
       "      <td>0</td>\n",
       "      <td>0</td>\n",
       "      <td>1</td>\n",
       "      <td>0</td>\n",
       "      <td>0</td>\n",
       "      <td>0</td>\n",
       "      <td>0</td>\n",
       "      <td>donald-trump</td>\n",
       "      <td>2</td>\n",
       "      <td>president</td>\n",
       "      <td>13</td>\n",
       "      <td>new york</td>\n",
       "      <td>7</td>\n",
       "      <td>republican</td>\n",
       "      <td>6</td>\n",
       "    </tr>\n",
       "    <tr>\n",
       "      <th>1</th>\n",
       "      <td>30c2723a188</td>\n",
       "      <td>0</td>\n",
       "      <td>With the resources it takes to execute just ov...</td>\n",
       "      <td>health-care</td>\n",
       "      <td>chris-dodd</td>\n",
       "      <td>us_senator</td>\n",
       "      <td>connecticut</td>\n",
       "      <td>democrat</td>\n",
       "      <td>resources it takes execute months iraq war we ...</td>\n",
       "      <td>resources it take execute months iraq war we f...</td>\n",
       "      <td>just over three months the iraq war bush</td>\n",
       "      <td>-0.4767</td>\n",
       "      <td>[health-care]</td>\n",
       "      <td>[subject-salud_y_bienestar]</td>\n",
       "      <td>0</td>\n",
       "      <td>0</td>\n",
       "      <td>0</td>\n",
       "      <td>0</td>\n",
       "      <td>0</td>\n",
       "      <td>0</td>\n",
       "      <td>0</td>\n",
       "      <td>1</td>\n",
       "      <td>0</td>\n",
       "      <td>0</td>\n",
       "      <td>0</td>\n",
       "      <td>other_speakers</td>\n",
       "      <td>7</td>\n",
       "      <td>federal_legislator_senate</td>\n",
       "      <td>4</td>\n",
       "      <td>other_state_info</td>\n",
       "      <td>10</td>\n",
       "      <td>democrat</td>\n",
       "      <td>0</td>\n",
       "    </tr>\n",
       "    <tr>\n",
       "      <th>2</th>\n",
       "      <td>6936b216e5d</td>\n",
       "      <td>0</td>\n",
       "      <td>The (Wisconsin) governor has proposed tax give...</td>\n",
       "      <td>corporations,pundits,taxes,abc-news-week</td>\n",
       "      <td>donna-brazile</td>\n",
       "      <td>political_commentator</td>\n",
       "      <td>washington dc</td>\n",
       "      <td>democrat</td>\n",
       "      <td>wisconsin governor proposed tax giveaways corp...</td>\n",
       "      <td>wisconsin governor propose tax giveaways corpo...</td>\n",
       "      <td>wisconsin</td>\n",
       "      <td>0.0000</td>\n",
       "      <td>[corporations, pundits, taxes, abc-news-week]</td>\n",
       "      <td>[subject-sociedad_y_cultura, subject-otros, su...</td>\n",
       "      <td>0</td>\n",
       "      <td>1</td>\n",
       "      <td>0</td>\n",
       "      <td>0</td>\n",
       "      <td>1</td>\n",
       "      <td>0</td>\n",
       "      <td>0</td>\n",
       "      <td>0</td>\n",
       "      <td>0</td>\n",
       "      <td>1</td>\n",
       "      <td>0</td>\n",
       "      <td>other_speakers</td>\n",
       "      <td>7</td>\n",
       "      <td>other_speaker_job</td>\n",
       "      <td>9</td>\n",
       "      <td>washington dc</td>\n",
       "      <td>14</td>\n",
       "      <td>democrat</td>\n",
       "      <td>0</td>\n",
       "    </tr>\n",
       "    <tr>\n",
       "      <th>3</th>\n",
       "      <td>b5cd9195738</td>\n",
       "      <td>1</td>\n",
       "      <td>Says her representation of an ex-boyfriend who...</td>\n",
       "      <td>candidates-biography,children,ethics,families,...</td>\n",
       "      <td>rebecca-bradley</td>\n",
       "      <td>NaN</td>\n",
       "      <td>NaN</td>\n",
       "      <td>none</td>\n",
       "      <td>says her representation ex boyfriend who was m...</td>\n",
       "      <td>say her representation ex boyfriend who be my ...</td>\n",
       "      <td>(no entities)</td>\n",
       "      <td>0.4939</td>\n",
       "      <td>[candidates-biography, children, ethics, famil...</td>\n",
       "      <td>[subject-sociedad_y_cultura, subject-educacion...</td>\n",
       "      <td>0</td>\n",
       "      <td>0</td>\n",
       "      <td>1</td>\n",
       "      <td>0</td>\n",
       "      <td>0</td>\n",
       "      <td>1</td>\n",
       "      <td>0</td>\n",
       "      <td>0</td>\n",
       "      <td>1</td>\n",
       "      <td>1</td>\n",
       "      <td>0</td>\n",
       "      <td>other_speakers</td>\n",
       "      <td>7</td>\n",
       "      <td>other_speaker_job</td>\n",
       "      <td>9</td>\n",
       "      <td>other_state_info</td>\n",
       "      <td>10</td>\n",
       "      <td>independent_None</td>\n",
       "      <td>1</td>\n",
       "    </tr>\n",
       "    <tr>\n",
       "      <th>4</th>\n",
       "      <td>84f8dac7737</td>\n",
       "      <td>0</td>\n",
       "      <td>At protests in Wisconsin against proposed coll...</td>\n",
       "      <td>health-care,labor,state-budget</td>\n",
       "      <td>republican-party-wisconsin</td>\n",
       "      <td>NaN</td>\n",
       "      <td>wisconsin</td>\n",
       "      <td>republican</td>\n",
       "      <td>protests wisconsin proposed collective bargain...</td>\n",
       "      <td>protests wisconsin propose collective bargaini...</td>\n",
       "      <td>wisconsin</td>\n",
       "      <td>-0.5994</td>\n",
       "      <td>[health-care, labor, state-budget]</td>\n",
       "      <td>[subject-economia_y_finanzas, subject-salud_y_...</td>\n",
       "      <td>0</td>\n",
       "      <td>1</td>\n",
       "      <td>0</td>\n",
       "      <td>0</td>\n",
       "      <td>0</td>\n",
       "      <td>0</td>\n",
       "      <td>0</td>\n",
       "      <td>1</td>\n",
       "      <td>0</td>\n",
       "      <td>0</td>\n",
       "      <td>1</td>\n",
       "      <td>other_speakers</td>\n",
       "      <td>7</td>\n",
       "      <td>other_speaker_job</td>\n",
       "      <td>9</td>\n",
       "      <td>wisconsin</td>\n",
       "      <td>15</td>\n",
       "      <td>republican</td>\n",
       "      <td>6</td>\n",
       "    </tr>\n",
       "  </tbody>\n",
       "</table>\n",
       "</div>"
      ],
      "text/plain": [
       "            id  label                                          statement  \\\n",
       "0  81f884c64a7      1  China is in the South China Sea and (building)...   \n",
       "1  30c2723a188      0  With the resources it takes to execute just ov...   \n",
       "2  6936b216e5d      0  The (Wisconsin) governor has proposed tax give...   \n",
       "3  b5cd9195738      1  Says her representation of an ex-boyfriend who...   \n",
       "4  84f8dac7737      0  At protests in Wisconsin against proposed coll...   \n",
       "\n",
       "                                             subject  \\\n",
       "0                      china,foreign-policy,military   \n",
       "1                                        health-care   \n",
       "2           corporations,pundits,taxes,abc-news-week   \n",
       "3  candidates-biography,children,ethics,families,...   \n",
       "4                     health-care,labor,state-budget   \n",
       "\n",
       "                      speaker            speaker_job     state_info  \\\n",
       "0                donald-trump        president-elect       new york   \n",
       "1                  chris-dodd             us_senator    connecticut   \n",
       "2               donna-brazile  political_commentator  washington dc   \n",
       "3             rebecca-bradley                    NaN            NaN   \n",
       "4  republican-party-wisconsin                    NaN      wisconsin   \n",
       "\n",
       "  party_affiliation                                      statement-raw  \\\n",
       "0        republican  china is south china sea military fortress lik...   \n",
       "1          democrat  resources it takes execute months iraq war we ...   \n",
       "2          democrat  wisconsin governor proposed tax giveaways corp...   \n",
       "3              none  says her representation ex boyfriend who was m...   \n",
       "4        republican  protests wisconsin proposed collective bargain...   \n",
       "\n",
       "                                 statement-lemmatize  \\\n",
       "0  china be south china sea military fortress lik...   \n",
       "1  resources it take execute months iraq war we f...   \n",
       "2  wisconsin governor propose tax giveaways corpo...   \n",
       "3  say her representation ex boyfriend who be my ...   \n",
       "4  protests wisconsin propose collective bargaini...   \n",
       "\n",
       "                              statement-ner  feelings  \\\n",
       "0                     china south china sea    0.4215   \n",
       "1  just over three months the iraq war bush   -0.4767   \n",
       "2                                 wisconsin    0.0000   \n",
       "3                             (no entities)    0.4939   \n",
       "4                                 wisconsin   -0.5994   \n",
       "\n",
       "                                        subject_list  \\\n",
       "0                  [china, foreign-policy, military]   \n",
       "1                                      [health-care]   \n",
       "2      [corporations, pundits, taxes, abc-news-week]   \n",
       "3  [candidates-biography, children, ethics, famil...   \n",
       "4                 [health-care, labor, state-budget]   \n",
       "\n",
       "                                  subject_categories  \\\n",
       "0               [subject-relaciones_internacionales]   \n",
       "1                        [subject-salud_y_bienestar]   \n",
       "2  [subject-sociedad_y_cultura, subject-otros, su...   \n",
       "3  [subject-sociedad_y_cultura, subject-educacion...   \n",
       "4  [subject-economia_y_finanzas, subject-salud_y_...   \n",
       "\n",
       "   subject-ciencia_y_tecnologia  subject-economia_y_finanzas  \\\n",
       "0                             0                            0   \n",
       "1                             0                            0   \n",
       "2                             0                            1   \n",
       "3                             0                            0   \n",
       "4                             0                            1   \n",
       "\n",
       "   subject-educacion  subject-medio_ambiente_y_energia  subject-otros  \\\n",
       "0                  0                                 0              0   \n",
       "1                  0                                 0              0   \n",
       "2                  0                                 0              1   \n",
       "3                  1                                 0              0   \n",
       "4                  0                                 0              0   \n",
       "\n",
       "   subject-politica_y_gobierno  subject-relaciones_internacionales  \\\n",
       "0                            0                                   1   \n",
       "1                            0                                   0   \n",
       "2                            0                                   0   \n",
       "3                            1                                   0   \n",
       "4                            0                                   0   \n",
       "\n",
       "   subject-salud_y_bienestar  subject-seguridad_y_justicia  \\\n",
       "0                          0                             0   \n",
       "1                          1                             0   \n",
       "2                          0                             0   \n",
       "3                          0                             1   \n",
       "4                          1                             0   \n",
       "\n",
       "   subject-sociedad_y_cultura  subject-trabajo_y_empleo speaker_grouped  \\\n",
       "0                           0                         0    donald-trump   \n",
       "1                           0                         0  other_speakers   \n",
       "2                           1                         0  other_speakers   \n",
       "3                           1                         0  other_speakers   \n",
       "4                           0                         1  other_speakers   \n",
       "\n",
       "   speaker_grouped_cod        speaker_job_grouped  speaker_job_grouped_cod  \\\n",
       "0                    2                  president                       13   \n",
       "1                    7  federal_legislator_senate                        4   \n",
       "2                    7          other_speaker_job                        9   \n",
       "3                    7          other_speaker_job                        9   \n",
       "4                    7          other_speaker_job                        9   \n",
       "\n",
       "  state_info_grouped  state_info_grouped_cod       party_group  \\\n",
       "0           new york                       7        republican   \n",
       "1   other_state_info                      10          democrat   \n",
       "2      washington dc                      14          democrat   \n",
       "3   other_state_info                      10  independent_None   \n",
       "4          wisconsin                      15        republican   \n",
       "\n",
       "   party_group_cod  \n",
       "0                6  \n",
       "1                0  \n",
       "2                0  \n",
       "3                1  \n",
       "4                6  "
      ]
     },
     "execution_count": 80,
     "metadata": {},
     "output_type": "execute_result"
    }
   ],
   "source": [
    "dfc.head()"
   ]
  },
  {
   "cell_type": "markdown",
   "metadata": {},
   "source": [
    "#### - Drop columns"
   ]
  },
  {
   "cell_type": "markdown",
   "metadata": {},
   "source": [
    "Eliminar columnas inecesarias"
   ]
  },
  {
   "cell_type": "code",
   "execution_count": 81,
   "metadata": {},
   "outputs": [],
   "source": [
    "dfc.drop(columns='subject', inplace=True)\n",
    "dfc.drop(columns='subject_list', inplace=True)\n",
    "dfc.drop(columns='subject_categories', inplace=True)\n",
    "\n",
    "dfc.drop(columns='speaker', inplace=True)\n",
    "dfc.drop(columns='speaker_job', inplace=True)\n",
    "dfc.drop(columns='state_info', inplace=True)\n",
    "dfc.drop(columns='party_affiliation', inplace=True)\n"
   ]
  },
  {
   "cell_type": "markdown",
   "metadata": {},
   "source": [
    "# 5. Create Test"
   ]
  },
  {
   "cell_type": "code",
   "execution_count": 82,
   "metadata": {},
   "outputs": [
    {
     "data": {
      "text/plain": [
       "id                   object\n",
       "party_affiliation    object\n",
       "speaker              object\n",
       "speaker_job          object\n",
       "state_info           object\n",
       "statement            object\n",
       "subject              object\n",
       "dtype: object"
      ]
     },
     "execution_count": 82,
     "metadata": {},
     "output_type": "execute_result"
    }
   ],
   "source": [
    "dfa = df_test.copy() # Backup del dataframe original\n",
    "dfa.dtypes.sort_index()"
   ]
  },
  {
   "cell_type": "code",
   "execution_count": 83,
   "metadata": {},
   "outputs": [
    {
     "name": "stdout",
     "output_type": "stream",
     "text": [
      "id                      0\n",
      "statement               0\n",
      "subject                 0\n",
      "speaker                 0\n",
      "speaker_job          1082\n",
      "state_info            818\n",
      "party_affiliation       0\n",
      "dtype: int64\n"
     ]
    }
   ],
   "source": [
    "# Opcional: Eliminar filas con valores nulos en el DataFrame 'df_test'\n",
    "# df_test = df_test.dropna()\n",
    "\n",
    "# # Mostrar la cantidad de valores nulos restantes en 'df_test'\n",
    "print(df_test.isnull().sum())"
   ]
  },
  {
   "cell_type": "markdown",
   "metadata": {},
   "source": [
    "### - statements"
   ]
  },
  {
   "cell_type": "markdown",
   "metadata": {},
   "source": [
    "Raw"
   ]
  },
  {
   "cell_type": "code",
   "execution_count": 84,
   "metadata": {},
   "outputs": [
    {
     "name": "stdout",
     "output_type": "stream",
     "text": [
      "URLs eliminadas: 54\n",
      "Puntuaciones eliminadas: 33336\n",
      "Stopwords eliminadas: 68048\n",
      "Dígitos eliminados: 11536\n"
     ]
    }
   ],
   "source": [
    "dfa['statement'] = dfa['statement'].str.replace(\"Ill\", \"i'll\")\n",
    "\n",
    "dfa['statement'] = dfa.apply(lambda row: preprocess(row['statement'], row.name), axis=1)\n",
    "dfa['statement-raw']  = dfa['statement']\n",
    "# dfa['statement-raw'] = dfa['statement-raw'].apply(lambda x: x.lower())\n",
    "dfa['statement-raw'] = dfa['statement-raw'].str.lower()\n",
    "\n",
    "# Mostrar los contadores\n",
    "print(f\"URLs eliminadas: {url_changes}\")\n",
    "print(f\"Puntuaciones eliminadas: {punct_changes}\")\n",
    "print(f\"Stopwords eliminadas: {stopword_changes}\")\n",
    "print(f\"Dígitos eliminados: {digit_changes}\")"
   ]
  },
  {
   "cell_type": "markdown",
   "metadata": {},
   "source": [
    "leamtize"
   ]
  },
  {
   "cell_type": "code",
   "execution_count": 85,
   "metadata": {},
   "outputs": [],
   "source": [
    "dfa['statement-lemmatize'] = dfa['statement-raw'].apply(lambda x: lemmatize_verbs(x))\n",
    "# dfa['statement-leamtize'] = dfa['statement-leamtize'].apply(lambda x: x.lower())"
   ]
  },
  {
   "cell_type": "markdown",
   "metadata": {},
   "source": [
    "ner"
   ]
  },
  {
   "cell_type": "code",
   "execution_count": 86,
   "metadata": {},
   "outputs": [],
   "source": [
    "dfa['statement-ner'] = df_test['statement'].apply(lambda x: preprocess_ner(x))\n",
    "dfa['statement-ner'] = dfa['statement-ner'].str.lower()"
   ]
  },
  {
   "cell_type": "markdown",
   "metadata": {},
   "source": [
    "sentimientos"
   ]
  },
  {
   "cell_type": "code",
   "execution_count": 87,
   "metadata": {},
   "outputs": [],
   "source": [
    "dfa['feelings'] = df_test[\"statement\"]\n",
    "dfa['feelings'] = dfa[\"feelings\"].apply(lambda x: analyze_sentiment(x))"
   ]
  },
  {
   "cell_type": "markdown",
   "metadata": {},
   "source": [
    "### - subject"
   ]
  },
  {
   "cell_type": "code",
   "execution_count": 88,
   "metadata": {},
   "outputs": [
    {
     "name": "stdout",
     "output_type": "stream",
     "text": [
      "                                        subject_list  \\\n",
      "0  [campaign-finance, ethics, government-regulation]   \n",
      "1                                        [elections]   \n",
      "2          [health-care, immigration, public-health]   \n",
      "3        [federal-budget, medicare, social-security]   \n",
      "4               [federal-budget, new-hampshire-2012]   \n",
      "\n",
      "                                  subject_categories  \n",
      "0  [subject-sociedad_y_cultura, subject-economia_...  \n",
      "1                      [subject-politica_y_gobierno]  \n",
      "2  [subject-sociedad_y_cultura, subject-salud_y_b...  \n",
      "3  [subject-seguridad_y_justicia, subject-salud_y...  \n",
      "4       [subject-otros, subject-economia_y_finanzas]  \n",
      "(3836, 24)\n"
     ]
    },
    {
     "data": {
      "text/html": [
       "<div>\n",
       "<style scoped>\n",
       "    .dataframe tbody tr th:only-of-type {\n",
       "        vertical-align: middle;\n",
       "    }\n",
       "\n",
       "    .dataframe tbody tr th {\n",
       "        vertical-align: top;\n",
       "    }\n",
       "\n",
       "    .dataframe thead th {\n",
       "        text-align: right;\n",
       "    }\n",
       "</style>\n",
       "<table border=\"1\" class=\"dataframe\">\n",
       "  <thead>\n",
       "    <tr style=\"text-align: right;\">\n",
       "      <th></th>\n",
       "      <th>id</th>\n",
       "      <th>statement</th>\n",
       "      <th>subject</th>\n",
       "      <th>speaker</th>\n",
       "      <th>speaker_job</th>\n",
       "      <th>state_info</th>\n",
       "      <th>party_affiliation</th>\n",
       "      <th>statement-raw</th>\n",
       "      <th>statement-lemmatize</th>\n",
       "      <th>statement-ner</th>\n",
       "      <th>feelings</th>\n",
       "      <th>subject_list</th>\n",
       "      <th>subject_categories</th>\n",
       "      <th>subject-ciencia_y_tecnologia</th>\n",
       "      <th>subject-economia_y_finanzas</th>\n",
       "      <th>subject-educacion</th>\n",
       "      <th>subject-medio_ambiente_y_energia</th>\n",
       "      <th>subject-otros</th>\n",
       "      <th>subject-politica_y_gobierno</th>\n",
       "      <th>subject-relaciones_internacionales</th>\n",
       "      <th>subject-salud_y_bienestar</th>\n",
       "      <th>subject-seguridad_y_justicia</th>\n",
       "      <th>subject-sociedad_y_cultura</th>\n",
       "      <th>subject-trabajo_y_empleo</th>\n",
       "    </tr>\n",
       "  </thead>\n",
       "  <tbody>\n",
       "    <tr>\n",
       "      <th>0</th>\n",
       "      <td>dc32e5ffa8b</td>\n",
       "      <td>members Common Cause Georgia board accepted ma...</td>\n",
       "      <td>campaign-finance,ethics,government-regulation</td>\n",
       "      <td>kasim-reed</td>\n",
       "      <td>NaN</td>\n",
       "      <td>NaN</td>\n",
       "      <td>democrat</td>\n",
       "      <td>members common cause georgia board accepted ma...</td>\n",
       "      <td>members common cause georgia board accept maxi...</td>\n",
       "      <td>five georgia</td>\n",
       "      <td>0.2732</td>\n",
       "      <td>[campaign-finance, ethics, government-regulation]</td>\n",
       "      <td>[subject-sociedad_y_cultura, subject-economia_...</td>\n",
       "      <td>0</td>\n",
       "      <td>1</td>\n",
       "      <td>0</td>\n",
       "      <td>0</td>\n",
       "      <td>0</td>\n",
       "      <td>1</td>\n",
       "      <td>0</td>\n",
       "      <td>0</td>\n",
       "      <td>0</td>\n",
       "      <td>1</td>\n",
       "      <td>0</td>\n",
       "    </tr>\n",
       "    <tr>\n",
       "      <th>1</th>\n",
       "      <td>aa49bb41cab</td>\n",
       "      <td>There s not negative advertising my campaign</td>\n",
       "      <td>elections</td>\n",
       "      <td>bill-mccollum</td>\n",
       "      <td>NaN</td>\n",
       "      <td>florida</td>\n",
       "      <td>republican</td>\n",
       "      <td>there s not negative advertising my campaign</td>\n",
       "      <td>there s not negative advertising my campaign</td>\n",
       "      <td>(no entities)</td>\n",
       "      <td>-0.7096</td>\n",
       "      <td>[elections]</td>\n",
       "      <td>[subject-politica_y_gobierno]</td>\n",
       "      <td>0</td>\n",
       "      <td>0</td>\n",
       "      <td>0</td>\n",
       "      <td>0</td>\n",
       "      <td>0</td>\n",
       "      <td>1</td>\n",
       "      <td>0</td>\n",
       "      <td>0</td>\n",
       "      <td>0</td>\n",
       "      <td>0</td>\n",
       "      <td>0</td>\n",
       "    </tr>\n",
       "    <tr>\n",
       "      <th>2</th>\n",
       "      <td>dddc8d12ac1</td>\n",
       "      <td>Leticia Van de Putte voted give illegal immigr...</td>\n",
       "      <td>health-care,immigration,public-health</td>\n",
       "      <td>dan-patrick</td>\n",
       "      <td>lieutenant_governor-elect</td>\n",
       "      <td>texas</td>\n",
       "      <td>republican</td>\n",
       "      <td>leticia van de putte voted give illegal immigr...</td>\n",
       "      <td>leticia van de putte vote give illegal immigra...</td>\n",
       "      <td>leticia van de putte</td>\n",
       "      <td>0.8720</td>\n",
       "      <td>[health-care, immigration, public-health]</td>\n",
       "      <td>[subject-sociedad_y_cultura, subject-salud_y_b...</td>\n",
       "      <td>0</td>\n",
       "      <td>0</td>\n",
       "      <td>0</td>\n",
       "      <td>0</td>\n",
       "      <td>0</td>\n",
       "      <td>0</td>\n",
       "      <td>0</td>\n",
       "      <td>1</td>\n",
       "      <td>0</td>\n",
       "      <td>1</td>\n",
       "      <td>0</td>\n",
       "    </tr>\n",
       "    <tr>\n",
       "      <th>3</th>\n",
       "      <td>bcfe8f51667</td>\n",
       "      <td>Fiorinas plan mean slashing Social Security Me...</td>\n",
       "      <td>federal-budget,medicare,social-security</td>\n",
       "      <td>barbara-boxer</td>\n",
       "      <td>us_senator</td>\n",
       "      <td>california</td>\n",
       "      <td>democrat</td>\n",
       "      <td>fiorinas plan mean slashing social security me...</td>\n",
       "      <td>fiorinas plan mean slash social security medicare</td>\n",
       "      <td>fiorinas social security medicare</td>\n",
       "      <td>0.0772</td>\n",
       "      <td>[federal-budget, medicare, social-security]</td>\n",
       "      <td>[subject-seguridad_y_justicia, subject-salud_y...</td>\n",
       "      <td>0</td>\n",
       "      <td>1</td>\n",
       "      <td>0</td>\n",
       "      <td>0</td>\n",
       "      <td>0</td>\n",
       "      <td>0</td>\n",
       "      <td>0</td>\n",
       "      <td>1</td>\n",
       "      <td>1</td>\n",
       "      <td>0</td>\n",
       "      <td>0</td>\n",
       "    </tr>\n",
       "    <tr>\n",
       "      <th>4</th>\n",
       "      <td>eedbbaff5ab</td>\n",
       "      <td>end his term President Obama added debt prior ...</td>\n",
       "      <td>federal-budget,new-hampshire-2012</td>\n",
       "      <td>mitt-romney</td>\n",
       "      <td>former_governor</td>\n",
       "      <td>massachusetts</td>\n",
       "      <td>republican</td>\n",
       "      <td>end his term president obama added debt prior ...</td>\n",
       "      <td>end his term president obama add debt prior pr...</td>\n",
       "      <td>the end of his first obama 43</td>\n",
       "      <td>-0.3612</td>\n",
       "      <td>[federal-budget, new-hampshire-2012]</td>\n",
       "      <td>[subject-otros, subject-economia_y_finanzas]</td>\n",
       "      <td>0</td>\n",
       "      <td>1</td>\n",
       "      <td>0</td>\n",
       "      <td>0</td>\n",
       "      <td>1</td>\n",
       "      <td>0</td>\n",
       "      <td>0</td>\n",
       "      <td>0</td>\n",
       "      <td>0</td>\n",
       "      <td>0</td>\n",
       "      <td>0</td>\n",
       "    </tr>\n",
       "  </tbody>\n",
       "</table>\n",
       "</div>"
      ],
      "text/plain": [
       "            id                                          statement  \\\n",
       "0  dc32e5ffa8b  members Common Cause Georgia board accepted ma...   \n",
       "1  aa49bb41cab       There s not negative advertising my campaign   \n",
       "2  dddc8d12ac1  Leticia Van de Putte voted give illegal immigr...   \n",
       "3  bcfe8f51667  Fiorinas plan mean slashing Social Security Me...   \n",
       "4  eedbbaff5ab  end his term President Obama added debt prior ...   \n",
       "\n",
       "                                         subject        speaker  \\\n",
       "0  campaign-finance,ethics,government-regulation     kasim-reed   \n",
       "1                                      elections  bill-mccollum   \n",
       "2          health-care,immigration,public-health    dan-patrick   \n",
       "3        federal-budget,medicare,social-security  barbara-boxer   \n",
       "4              federal-budget,new-hampshire-2012    mitt-romney   \n",
       "\n",
       "                 speaker_job     state_info party_affiliation  \\\n",
       "0                        NaN            NaN          democrat   \n",
       "1                        NaN        florida        republican   \n",
       "2  lieutenant_governor-elect          texas        republican   \n",
       "3                 us_senator     california          democrat   \n",
       "4            former_governor  massachusetts        republican   \n",
       "\n",
       "                                       statement-raw  \\\n",
       "0  members common cause georgia board accepted ma...   \n",
       "1       there s not negative advertising my campaign   \n",
       "2  leticia van de putte voted give illegal immigr...   \n",
       "3  fiorinas plan mean slashing social security me...   \n",
       "4  end his term president obama added debt prior ...   \n",
       "\n",
       "                                 statement-lemmatize  \\\n",
       "0  members common cause georgia board accept maxi...   \n",
       "1       there s not negative advertising my campaign   \n",
       "2  leticia van de putte vote give illegal immigra...   \n",
       "3  fiorinas plan mean slash social security medicare   \n",
       "4  end his term president obama add debt prior pr...   \n",
       "\n",
       "                       statement-ner  feelings  \\\n",
       "0                       five georgia    0.2732   \n",
       "1                      (no entities)   -0.7096   \n",
       "2               leticia van de putte    0.8720   \n",
       "3  fiorinas social security medicare    0.0772   \n",
       "4      the end of his first obama 43   -0.3612   \n",
       "\n",
       "                                        subject_list  \\\n",
       "0  [campaign-finance, ethics, government-regulation]   \n",
       "1                                        [elections]   \n",
       "2          [health-care, immigration, public-health]   \n",
       "3        [federal-budget, medicare, social-security]   \n",
       "4               [federal-budget, new-hampshire-2012]   \n",
       "\n",
       "                                  subject_categories  \\\n",
       "0  [subject-sociedad_y_cultura, subject-economia_...   \n",
       "1                      [subject-politica_y_gobierno]   \n",
       "2  [subject-sociedad_y_cultura, subject-salud_y_b...   \n",
       "3  [subject-seguridad_y_justicia, subject-salud_y...   \n",
       "4       [subject-otros, subject-economia_y_finanzas]   \n",
       "\n",
       "   subject-ciencia_y_tecnologia  subject-economia_y_finanzas  \\\n",
       "0                             0                            1   \n",
       "1                             0                            0   \n",
       "2                             0                            0   \n",
       "3                             0                            1   \n",
       "4                             0                            1   \n",
       "\n",
       "   subject-educacion  subject-medio_ambiente_y_energia  subject-otros  \\\n",
       "0                  0                                 0              0   \n",
       "1                  0                                 0              0   \n",
       "2                  0                                 0              0   \n",
       "3                  0                                 0              0   \n",
       "4                  0                                 0              1   \n",
       "\n",
       "   subject-politica_y_gobierno  subject-relaciones_internacionales  \\\n",
       "0                            1                                   0   \n",
       "1                            1                                   0   \n",
       "2                            0                                   0   \n",
       "3                            0                                   0   \n",
       "4                            0                                   0   \n",
       "\n",
       "   subject-salud_y_bienestar  subject-seguridad_y_justicia  \\\n",
       "0                          0                             0   \n",
       "1                          0                             0   \n",
       "2                          1                             0   \n",
       "3                          1                             1   \n",
       "4                          0                             0   \n",
       "\n",
       "   subject-sociedad_y_cultura  subject-trabajo_y_empleo  \n",
       "0                           1                         0  \n",
       "1                           0                         0  \n",
       "2                           1                         0  \n",
       "3                           0                         0  \n",
       "4                           0                         0  "
      ]
     },
     "execution_count": 88,
     "metadata": {},
     "output_type": "execute_result"
    }
   ],
   "source": [
    "dfa['subject'] = dfa['subject'].str.lower()\n",
    "dfa['subject_list'] = (\n",
    "    dfa['subject']\n",
    "    .str.split(',')\n",
    "    .apply(lambda lst: [s.strip() for s in lst if s.strip()])\n",
    ")\n",
    "\n",
    "# --- 2) Mapea cada subject a su categoría y quita duplicados ---\n",
    "dfa['subject_categories'] = dfa['subject_list'].apply(\n",
    "    lambda lst: list({\n",
    "        subject_mapping.get(s, 'subject-otros') \n",
    "        for s in lst\n",
    "    })\n",
    ")\n",
    "\n",
    "# (Opcional) echa un vistazo:\n",
    "print(dfa[['subject_list','subject_categories']].head())\n",
    "\n",
    "# --- 3) One-Hot Binarizer sobre la lista de categorías ---\n",
    "mlb = MultiLabelBinarizer()\n",
    "onehot = mlb.fit_transform(dfa['subject_categories'])\n",
    "\n",
    "# Construye el DataFrame de one-hot\n",
    "dfa_onehot = pd.DataFrame(\n",
    "    onehot,\n",
    "    columns=mlb.classes_,\n",
    "    index=dfa.index\n",
    ")\n",
    "\n",
    "\n",
    "dfa = pd.concat([dfa, dfa_onehot], axis=1)\n",
    "\n",
    "print(dfa.shape)\n",
    "dfa.head()\n"
   ]
  },
  {
   "cell_type": "markdown",
   "metadata": {},
   "source": [
    "### - speaker"
   ]
  },
  {
   "cell_type": "code",
   "execution_count": 89,
   "metadata": {},
   "outputs": [
    {
     "data": {
      "text/plain": [
       "speaker_grouped\n",
       "other_speakers     3086\n",
       "barack-obama        176\n",
       "donald-trump         96\n",
       "hillary-clinton      93\n",
       "mitt-romney          70\n",
       "scott-walker         60\n",
       "rick-perry           56\n",
       "marco-rubio          54\n",
       "john-mccain          50\n",
       "chain-email          50\n",
       "rick-scott           45\n",
       "Name: count, dtype: int64"
      ]
     },
     "execution_count": 89,
     "metadata": {},
     "output_type": "execute_result"
    }
   ],
   "source": [
    "# 4. Agrupar los menos frecuentes como 'other_speakers'\n",
    "dfa['speaker_grouped'] = dfa['speaker'].apply(\n",
    "    lambda s: s if s in frequent_speakers else 'other_speakers'\n",
    ")\n",
    "dfa['speaker_grouped_cod'] = dfa['speaker_grouped'].astype('category').cat.codes.astype('int64')\n",
    "\n",
    "dfa['speaker_grouped'].value_counts()"
   ]
  },
  {
   "cell_type": "markdown",
   "metadata": {},
   "source": [
    "### - speaker_job"
   ]
  },
  {
   "cell_type": "code",
   "execution_count": 90,
   "metadata": {},
   "outputs": [
    {
     "data": {
      "text/plain": [
       "speaker_job_grouped\n",
       "other_speaker_job                1974\n",
       "federal_legislator_senate         369\n",
       "governor                          291\n",
       "president                         287\n",
       "federal_legislator_house          266\n",
       "presidential_candidate             99\n",
       "public_communicator                83\n",
       "state_legislator_house             81\n",
       "local_executive                    73\n",
       "state_legislator_senate            71\n",
       "federal_legislative_leader         59\n",
       "state_executive                    57\n",
       "legal_professional                 57\n",
       "political_organization             15\n",
       "business_professional              14\n",
       "federal_legislative_candidate      12\n",
       "political_advisor                  11\n",
       "local_education_official            9\n",
       "party_leader                        8\n",
       "Name: count, dtype: int64"
      ]
     },
     "execution_count": 90,
     "metadata": {},
     "output_type": "execute_result"
    }
   ],
   "source": [
    "# Agrupar los menos frecuentes como 'other_speaker_jobs'\n",
    "# dfa['speaker_job_grouped'] = dfa['speaker_job'].apply(\n",
    "#     lambda job: job if job in frequent_speaker_jobs else 'other_speaker_jobs'\n",
    "# )\n",
    "dfa['speaker_job_grouped'] = dfa['speaker_job'].map(mapping_speaker_job_en)\n",
    "\n",
    "dfa['speaker_job_grouped'] = dfa.groupby('speaker')['speaker_job_grouped'].transform(\n",
    "    lambda x: x.fillna(x.mode()[0]) if not x.mode().empty else x\n",
    ")\n",
    "dfa['speaker_job_grouped'] = dfa['speaker_job_grouped'].fillna('other_speaker_job')\n",
    "\n",
    "\n",
    "dfa['speaker_job_grouped_cod'] = dfa['speaker_job_grouped'].astype('category').cat.codes.astype('int64')\n",
    "\n",
    "# Ver el resultado final\n",
    "dfa['speaker_job_grouped'].value_counts()"
   ]
  },
  {
   "cell_type": "markdown",
   "metadata": {},
   "source": [
    "### - state_info"
   ]
  },
  {
   "cell_type": "code",
   "execution_count": 91,
   "metadata": {},
   "outputs": [
    {
     "data": {
      "text/plain": [
       "state_info_grouped\n",
       "other_state_info    1283\n",
       "florida              380\n",
       "texas                380\n",
       "wisconsin            253\n",
       "new york             251\n",
       "illinois             206\n",
       "ohio                 179\n",
       "georgia              168\n",
       "virginia             144\n",
       "rhode island         135\n",
       "new jersey            96\n",
       "oregon                88\n",
       "massachusetts         84\n",
       "arizona               68\n",
       "california            62\n",
       "washington dc         59\n",
       "Name: count, dtype: int64"
      ]
     },
     "execution_count": 91,
     "metadata": {},
     "output_type": "execute_result"
    }
   ],
   "source": [
    "# Agrupar los menos frecuentes como 'other_state_info'\n",
    "dfa['state_info_grouped'] = dfa['state_info'].apply(\n",
    "    lambda info: info if info in frequent_state_info else 'other_state_info'\n",
    ")\n",
    "\n",
    "dfa['state_info_grouped_cod'] = dfa['state_info_grouped'].astype('category').cat.codes.astype('int64')\n",
    "\n",
    "# 6. Ver el resultado final\n",
    "dfa['state_info_grouped'].value_counts()"
   ]
  },
  {
   "cell_type": "markdown",
   "metadata": {},
   "source": [
    "### - party_affiliation"
   ]
  },
  {
   "cell_type": "code",
   "execution_count": 92,
   "metadata": {},
   "outputs": [
    {
     "name": "stdout",
     "output_type": "stream",
     "text": [
      "party_group\n",
      "republican          1718\n",
      "democrat            1238\n",
      "independent_None     700\n",
      "media                 71\n",
      "organization          67\n",
      "official              23\n",
      "third_Party           18\n",
      "other                  1\n",
      "Name: count, dtype: int64\n"
     ]
    }
   ],
   "source": [
    "dfa['party_group'] = dfa['party_affiliation'].apply(group_party)\n",
    "\n",
    "# Recuento de las nuevas categorías\n",
    "print(dfa['party_group'].value_counts())\n",
    "\n",
    "dfa['party_group_cod'] = dfa['party_group'].astype('category').cat.codes.astype('int64')\n"
   ]
  },
  {
   "cell_type": "code",
   "execution_count": 93,
   "metadata": {},
   "outputs": [],
   "source": [
    "dfa.drop(columns='subject', inplace=True)\n",
    "dfa.drop(columns='subject_list', inplace=True)\n",
    "dfa.drop(columns='subject_categories', inplace=True)\n",
    "dfa.drop(columns='speaker', inplace=True)\n",
    "dfa.drop(columns='speaker_job', inplace=True)\n",
    "dfa.drop(columns='state_info', inplace=True)\n",
    "dfa.drop(columns='party_affiliation', inplace=True)\n"
   ]
  },
  {
   "cell_type": "markdown",
   "metadata": {},
   "source": [
    "# 6. Exportar CSV"
   ]
  },
  {
   "cell_type": "markdown",
   "metadata": {},
   "source": [
    "Comparar los dos dataset para ver que todo esta bien"
   ]
  },
  {
   "cell_type": "code",
   "execution_count": 94,
   "metadata": {},
   "outputs": [
    {
     "name": "stdout",
     "output_type": "stream",
     "text": [
      "Existen otras diferencias en las columnas: {'label'}\n",
      "Columnas en dfc pero no en dfa: {'label'}\n",
      "Columnas en dfa pero no en dfc: set()\n"
     ]
    }
   ],
   "source": [
    "# Comparar las columnas de dfc y dfa\n",
    "columns_dfc = set(dfc.columns)\n",
    "columns_dfa = set(dfa.columns)\n",
    "\n",
    "# Encontrar las diferencias\n",
    "differences = columns_dfc.symmetric_difference(columns_dfa)\n",
    "\n",
    "# Verificar si la única diferencia es 'id' y 'label'\n",
    "if differences == {'id', 'label'}:\n",
    "    print(\"La única diferencia entre las columnas es 'id' y 'label'.\")\n",
    "else:\n",
    "    print(\"Existen otras diferencias en las columnas:\", differences)\n",
    "    print(\"Columnas en dfc pero no en dfa:\", columns_dfc - columns_dfa)\n",
    "    print(\"Columnas en dfa pero no en dfc:\", columns_dfa - columns_dfc)"
   ]
  },
  {
   "cell_type": "markdown",
   "metadata": {},
   "source": [
    "Guardar en *formated* los csv train y test"
   ]
  },
  {
   "cell_type": "code",
   "execution_count": 95,
   "metadata": {},
   "outputs": [],
   "source": [
    "# Exportar el DataFrame 'dfn' a un archivo CSV\n",
    "dfc.to_csv('./formated/train_exportado.csv', index=False)\n",
    "\n",
    "dfa.to_csv('./formated/test_exportado.csv', index=False)"
   ]
  },
  {
   "cell_type": "markdown",
   "metadata": {},
   "source": [
    "Todas las features:"
   ]
  },
  {
   "cell_type": "code",
   "execution_count": 96,
   "metadata": {},
   "outputs": [],
   "source": [
    "df_train_f = pd.read_csv(\"formated/train_exportado.csv\")\n",
    "df_train_llm = pd.read_csv(\"formated/llm_train_backup.csv\")\n",
    "\n",
    "df_train_combined = pd.concat([df_train_f, df_train_llm], axis=1)\n",
    "# print(df_train_combined.columns)\n",
    "df_train_combined.to_csv('./formated/train_exportado.csv', index=False)\n",
    "\n",
    "\n",
    "\n",
    "\n",
    "df_test_f = pd.read_csv(\"formated/test_exportado.csv\")\n",
    "df_test_llm = pd.read_csv(\"formated/llm_test_backup.csv\")\n",
    "df_test_combined = pd.concat([df_test_f, df_test_llm], axis=1)\n",
    "# print(df_test_combined.columns)\n",
    "df_test_combined.to_csv('./formated/test_exportado.csv', index=False)\n"
   ]
  },
  {
   "cell_type": "markdown",
   "metadata": {},
   "source": [
    "# 7. Correlacion"
   ]
  },
  {
   "cell_type": "code",
   "execution_count": 97,
   "metadata": {},
   "outputs": [],
   "source": [
    "df_train_c = pd.read_csv(\"formated/train_exportado.csv\")"
   ]
  },
  {
   "cell_type": "code",
   "execution_count": 98,
   "metadata": {},
   "outputs": [
    {
     "data": {
      "text/plain": [
       "id                                     object\n",
       "label                                   int64\n",
       "statement                              object\n",
       "statement-raw                          object\n",
       "statement-lemmatize                    object\n",
       "statement-ner                          object\n",
       "feelings                              float64\n",
       "subject-ciencia_y_tecnologia            int64\n",
       "subject-economia_y_finanzas             int64\n",
       "subject-educacion                       int64\n",
       "subject-medio_ambiente_y_energia        int64\n",
       "subject-otros                           int64\n",
       "subject-politica_y_gobierno             int64\n",
       "subject-relaciones_internacionales      int64\n",
       "subject-salud_y_bienestar               int64\n",
       "subject-seguridad_y_justicia            int64\n",
       "subject-sociedad_y_cultura              int64\n",
       "subject-trabajo_y_empleo                int64\n",
       "speaker_grouped                        object\n",
       "speaker_grouped_cod                     int64\n",
       "speaker_job_grouped                    object\n",
       "speaker_job_grouped_cod                 int64\n",
       "state_info_grouped                     object\n",
       "state_info_grouped_cod                  int64\n",
       "party_group                            object\n",
       "party_group_cod                         int64\n",
       "speaker_job-llm                        object\n",
       "speaker_job_cod-llm                     int64\n",
       "state_info-llm                         object\n",
       "state_info_cod-llm                      int64\n",
       "party_affiliation-llm                  object\n",
       "party_affiliation_cod-llm               int64\n",
       "dtype: object"
      ]
     },
     "execution_count": 98,
     "metadata": {},
     "output_type": "execute_result"
    }
   ],
   "source": [
    "df_train_c.dtypes"
   ]
  },
  {
   "cell_type": "code",
   "execution_count": 99,
   "metadata": {},
   "outputs": [
    {
     "data": {
      "text/plain": [
       "label                                   int64\n",
       "feelings                              float64\n",
       "subject-ciencia_y_tecnologia            int64\n",
       "subject-economia_y_finanzas             int64\n",
       "subject-educacion                       int64\n",
       "subject-medio_ambiente_y_energia        int64\n",
       "subject-otros                           int64\n",
       "subject-politica_y_gobierno             int64\n",
       "subject-relaciones_internacionales      int64\n",
       "subject-salud_y_bienestar               int64\n",
       "subject-seguridad_y_justicia            int64\n",
       "subject-sociedad_y_cultura              int64\n",
       "subject-trabajo_y_empleo                int64\n",
       "speaker_grouped_cod                     int64\n",
       "speaker_job_grouped_cod                 int64\n",
       "state_info_grouped_cod                  int64\n",
       "party_group_cod                         int64\n",
       "speaker_job_cod-llm                     int64\n",
       "state_info_cod-llm                      int64\n",
       "party_affiliation_cod-llm               int64\n",
       "dtype: object"
      ]
     },
     "execution_count": 99,
     "metadata": {},
     "output_type": "execute_result"
    }
   ],
   "source": [
    "df_train_c = df_train_c.select_dtypes(include=[int,float]) \n",
    "df_train_c.dtypes"
   ]
  },
  {
   "cell_type": "code",
   "execution_count": 100,
   "metadata": {},
   "outputs": [
    {
     "name": "stdout",
     "output_type": "stream",
     "text": [
      "                                       label  feelings  \\\n",
      "label                               1.000000  0.001213   \n",
      "feelings                            0.001213  1.000000   \n",
      "subject-ciencia_y_tecnologia       -0.014268  0.001815   \n",
      "subject-economia_y_finanzas        -0.022243 -0.004584   \n",
      "subject-educacion                  -0.014711  0.004042   \n",
      "subject-medio_ambiente_y_energia    0.001103  0.041213   \n",
      "subject-otros                       0.014778 -0.026224   \n",
      "subject-politica_y_gobierno         0.010353  0.059621   \n",
      "subject-relaciones_internacionales  0.012793 -0.052143   \n",
      "subject-salud_y_bienestar           0.048077  0.084811   \n",
      "subject-seguridad_y_justicia        0.007649 -0.163818   \n",
      "subject-sociedad_y_cultura          0.030828 -0.026036   \n",
      "subject-trabajo_y_empleo            0.007827 -0.008482   \n",
      "speaker_grouped_cod                 0.002056 -0.001721   \n",
      "speaker_job_grouped_cod             0.006904 -0.027568   \n",
      "state_info_grouped_cod              0.058899  0.001229   \n",
      "party_group_cod                     0.106078 -0.003217   \n",
      "speaker_job_cod-llm                 0.021949 -0.035974   \n",
      "state_info_cod-llm                  0.051963  0.003302   \n",
      "party_affiliation_cod-llm           0.126064 -0.007192   \n",
      "\n",
      "                                    subject-ciencia_y_tecnologia  \\\n",
      "label                                                  -0.014268   \n",
      "feelings                                                0.001815   \n",
      "subject-ciencia_y_tecnologia                            1.000000   \n",
      "subject-economia_y_finanzas                            -0.017348   \n",
      "subject-educacion                                       0.003359   \n",
      "subject-medio_ambiente_y_energia                        0.095058   \n",
      "subject-otros                                           0.060686   \n",
      "subject-politica_y_gobierno                            -0.029728   \n",
      "subject-relaciones_internacionales                     -0.012344   \n",
      "subject-salud_y_bienestar                               0.021400   \n",
      "subject-seguridad_y_justicia                           -0.020328   \n",
      "subject-sociedad_y_cultura                              0.026936   \n",
      "subject-trabajo_y_empleo                               -0.023544   \n",
      "speaker_grouped_cod                                     0.011581   \n",
      "speaker_job_grouped_cod                                -0.006266   \n",
      "state_info_grouped_cod                                 -0.005218   \n",
      "party_group_cod                                        -0.009861   \n",
      "speaker_job_cod-llm                                    -0.001004   \n",
      "state_info_cod-llm                                     -0.006483   \n",
      "party_affiliation_cod-llm                               0.007001   \n",
      "\n",
      "                                    subject-economia_y_finanzas  \\\n",
      "label                                                 -0.022243   \n",
      "feelings                                              -0.004584   \n",
      "subject-ciencia_y_tecnologia                          -0.017348   \n",
      "subject-economia_y_finanzas                            1.000000   \n",
      "subject-educacion                                     -0.002950   \n",
      "subject-medio_ambiente_y_energia                      -0.056298   \n",
      "subject-otros                                         -0.015276   \n",
      "subject-politica_y_gobierno                           -0.087123   \n",
      "subject-relaciones_internacionales                    -0.133687   \n",
      "subject-salud_y_bienestar                             -0.090259   \n",
      "subject-seguridad_y_justicia                          -0.200546   \n",
      "subject-sociedad_y_cultura                            -0.166264   \n",
      "subject-trabajo_y_empleo                               0.171675   \n",
      "speaker_grouped_cod                                    0.057785   \n",
      "speaker_job_grouped_cod                               -0.057430   \n",
      "state_info_grouped_cod                                 0.054924   \n",
      "party_group_cod                                        0.042502   \n",
      "speaker_job_cod-llm                                   -0.075872   \n",
      "state_info_cod-llm                                     0.068455   \n",
      "party_affiliation_cod-llm                              0.008018   \n",
      "\n",
      "                                    subject-educacion  \\\n",
      "label                                       -0.014711   \n",
      "feelings                                     0.004042   \n",
      "subject-ciencia_y_tecnologia                 0.003359   \n",
      "subject-economia_y_finanzas                 -0.002950   \n",
      "subject-educacion                            1.000000   \n",
      "subject-medio_ambiente_y_energia            -0.066345   \n",
      "subject-otros                               -0.011105   \n",
      "subject-politica_y_gobierno                 -0.083621   \n",
      "subject-relaciones_internacionales          -0.077842   \n",
      "subject-salud_y_bienestar                   -0.047882   \n",
      "subject-seguridad_y_justicia                -0.051898   \n",
      "subject-sociedad_y_cultura                  -0.012945   \n",
      "subject-trabajo_y_empleo                    -0.034064   \n",
      "speaker_grouped_cod                          0.057209   \n",
      "speaker_job_grouped_cod                      0.056390   \n",
      "state_info_grouped_cod                       0.040964   \n",
      "party_group_cod                             -0.035006   \n",
      "speaker_job_cod-llm                          0.050746   \n",
      "state_info_cod-llm                           0.040359   \n",
      "party_affiliation_cod-llm                   -0.027576   \n",
      "\n",
      "                                    subject-medio_ambiente_y_energia  \\\n",
      "label                                                       0.001103   \n",
      "feelings                                                    0.041213   \n",
      "subject-ciencia_y_tecnologia                                0.095058   \n",
      "subject-economia_y_finanzas                                -0.056298   \n",
      "subject-educacion                                          -0.066345   \n",
      "subject-medio_ambiente_y_energia                            1.000000   \n",
      "subject-otros                                               0.020338   \n",
      "subject-politica_y_gobierno                                -0.058937   \n",
      "subject-relaciones_internacionales                         -0.019812   \n",
      "subject-salud_y_bienestar                                  -0.091155   \n",
      "subject-seguridad_y_justicia                               -0.082412   \n",
      "subject-sociedad_y_cultura                                 -0.094904   \n",
      "subject-trabajo_y_empleo                                   -0.045975   \n",
      "speaker_grouped_cod                                        -0.021742   \n",
      "speaker_job_grouped_cod                                     0.010289   \n",
      "state_info_grouped_cod                                     -0.020720   \n",
      "party_group_cod                                            -0.022311   \n",
      "speaker_job_cod-llm                                         0.007216   \n",
      "state_info_cod-llm                                         -0.019494   \n",
      "party_affiliation_cod-llm                                  -0.016489   \n",
      "\n",
      "                                    subject-otros  \\\n",
      "label                                    0.014778   \n",
      "feelings                                -0.026224   \n",
      "subject-ciencia_y_tecnologia             0.060686   \n",
      "subject-economia_y_finanzas             -0.015276   \n",
      "subject-educacion                       -0.011105   \n",
      "subject-medio_ambiente_y_energia         0.020338   \n",
      "subject-otros                            1.000000   \n",
      "subject-politica_y_gobierno             -0.020535   \n",
      "subject-relaciones_internacionales      -0.014830   \n",
      "subject-salud_y_bienestar               -0.060051   \n",
      "subject-seguridad_y_justicia             0.009078   \n",
      "subject-sociedad_y_cultura              -0.010874   \n",
      "subject-trabajo_y_empleo                -0.035540   \n",
      "speaker_grouped_cod                      0.028990   \n",
      "speaker_job_grouped_cod                  0.029099   \n",
      "state_info_grouped_cod                   0.016721   \n",
      "party_group_cod                         -0.039698   \n",
      "speaker_job_cod-llm                      0.053560   \n",
      "state_info_cod-llm                       0.011315   \n",
      "party_affiliation_cod-llm               -0.006881   \n",
      "\n",
      "                                    subject-politica_y_gobierno  \\\n",
      "label                                                  0.010353   \n",
      "feelings                                               0.059621   \n",
      "subject-ciencia_y_tecnologia                          -0.029728   \n",
      "subject-economia_y_finanzas                           -0.087123   \n",
      "subject-educacion                                     -0.083621   \n",
      "subject-medio_ambiente_y_energia                      -0.058937   \n",
      "subject-otros                                         -0.020535   \n",
      "subject-politica_y_gobierno                            1.000000   \n",
      "subject-relaciones_internacionales                    -0.103047   \n",
      "subject-salud_y_bienestar                             -0.118353   \n",
      "subject-seguridad_y_justicia                          -0.078790   \n",
      "subject-sociedad_y_cultura                            -0.067685   \n",
      "subject-trabajo_y_empleo                              -0.028608   \n",
      "speaker_grouped_cod                                    0.057153   \n",
      "speaker_job_grouped_cod                                0.050176   \n",
      "state_info_grouped_cod                                 0.050372   \n",
      "party_group_cod                                       -0.010467   \n",
      "speaker_job_cod-llm                                    0.043550   \n",
      "state_info_cod-llm                                     0.060128   \n",
      "party_affiliation_cod-llm                             -0.018877   \n",
      "\n",
      "                                    subject-relaciones_internacionales  \\\n",
      "label                                                         0.012793   \n",
      "feelings                                                     -0.052143   \n",
      "subject-ciencia_y_tecnologia                                 -0.012344   \n",
      "subject-economia_y_finanzas                                  -0.133687   \n",
      "subject-educacion                                            -0.077842   \n",
      "subject-medio_ambiente_y_energia                             -0.019812   \n",
      "subject-otros                                                -0.014830   \n",
      "subject-politica_y_gobierno                                  -0.103047   \n",
      "subject-relaciones_internacionales                            1.000000   \n",
      "subject-salud_y_bienestar                                    -0.115516   \n",
      "subject-seguridad_y_justicia                                  0.052389   \n",
      "subject-sociedad_y_cultura                                   -0.001868   \n",
      "subject-trabajo_y_empleo                                     -0.074595   \n",
      "speaker_grouped_cod                                          -0.133613   \n",
      "speaker_job_grouped_cod                                      -0.016756   \n",
      "state_info_grouped_cod                                       -0.046223   \n",
      "party_group_cod                                               0.013830   \n",
      "speaker_job_cod-llm                                          -0.015407   \n",
      "state_info_cod-llm                                           -0.049535   \n",
      "party_affiliation_cod-llm                                     0.011870   \n",
      "\n",
      "                                    subject-salud_y_bienestar  \\\n",
      "label                                                0.048077   \n",
      "feelings                                             0.084811   \n",
      "subject-ciencia_y_tecnologia                         0.021400   \n",
      "subject-economia_y_finanzas                         -0.090259   \n",
      "subject-educacion                                   -0.047882   \n",
      "subject-medio_ambiente_y_energia                    -0.091155   \n",
      "subject-otros                                       -0.060051   \n",
      "subject-politica_y_gobierno                         -0.118353   \n",
      "subject-relaciones_internacionales                  -0.115516   \n",
      "subject-salud_y_bienestar                            1.000000   \n",
      "subject-seguridad_y_justicia                        -0.062410   \n",
      "subject-sociedad_y_cultura                          -0.062787   \n",
      "subject-trabajo_y_empleo                            -0.113274   \n",
      "speaker_grouped_cod                                  0.023099   \n",
      "speaker_job_grouped_cod                             -0.022208   \n",
      "state_info_grouped_cod                               0.023710   \n",
      "party_group_cod                                     -0.006661   \n",
      "speaker_job_cod-llm                                 -0.003516   \n",
      "state_info_cod-llm                                   0.013837   \n",
      "party_affiliation_cod-llm                            0.003463   \n",
      "\n",
      "                                    subject-seguridad_y_justicia  \\\n",
      "label                                                   0.007649   \n",
      "feelings                                               -0.163818   \n",
      "subject-ciencia_y_tecnologia                           -0.020328   \n",
      "subject-economia_y_finanzas                            -0.200546   \n",
      "subject-educacion                                      -0.051898   \n",
      "subject-medio_ambiente_y_energia                       -0.082412   \n",
      "subject-otros                                           0.009078   \n",
      "subject-politica_y_gobierno                            -0.078790   \n",
      "subject-relaciones_internacionales                      0.052389   \n",
      "subject-salud_y_bienestar                              -0.062410   \n",
      "subject-seguridad_y_justicia                            1.000000   \n",
      "subject-sociedad_y_cultura                              0.067654   \n",
      "subject-trabajo_y_empleo                               -0.098319   \n",
      "speaker_grouped_cod                                     0.014610   \n",
      "speaker_job_grouped_cod                                 0.009933   \n",
      "state_info_grouped_cod                                  0.036057   \n",
      "party_group_cod                                        -0.032036   \n",
      "speaker_job_cod-llm                                     0.031832   \n",
      "state_info_cod-llm                                      0.031321   \n",
      "party_affiliation_cod-llm                              -0.008191   \n",
      "\n",
      "                                    subject-sociedad_y_cultura  \\\n",
      "label                                                 0.030828   \n",
      "feelings                                             -0.026036   \n",
      "subject-ciencia_y_tecnologia                          0.026936   \n",
      "subject-economia_y_finanzas                          -0.166264   \n",
      "subject-educacion                                    -0.012945   \n",
      "subject-medio_ambiente_y_energia                     -0.094904   \n",
      "subject-otros                                        -0.010874   \n",
      "subject-politica_y_gobierno                          -0.067685   \n",
      "subject-relaciones_internacionales                   -0.001868   \n",
      "subject-salud_y_bienestar                            -0.062787   \n",
      "subject-seguridad_y_justicia                          0.067654   \n",
      "subject-sociedad_y_cultura                            1.000000   \n",
      "subject-trabajo_y_empleo                             -0.041631   \n",
      "speaker_grouped_cod                                  -0.026327   \n",
      "speaker_job_grouped_cod                               0.057145   \n",
      "state_info_grouped_cod                                0.025510   \n",
      "party_group_cod                                      -0.021426   \n",
      "speaker_job_cod-llm                                   0.065643   \n",
      "state_info_cod-llm                                    0.017603   \n",
      "party_affiliation_cod-llm                            -0.004233   \n",
      "\n",
      "                                    subject-trabajo_y_empleo  \\\n",
      "label                                               0.007827   \n",
      "feelings                                           -0.008482   \n",
      "subject-ciencia_y_tecnologia                       -0.023544   \n",
      "subject-economia_y_finanzas                         0.171675   \n",
      "subject-educacion                                  -0.034064   \n",
      "subject-medio_ambiente_y_energia                   -0.045975   \n",
      "subject-otros                                      -0.035540   \n",
      "subject-politica_y_gobierno                        -0.028608   \n",
      "subject-relaciones_internacionales                 -0.074595   \n",
      "subject-salud_y_bienestar                          -0.113274   \n",
      "subject-seguridad_y_justicia                       -0.098319   \n",
      "subject-sociedad_y_cultura                         -0.041631   \n",
      "subject-trabajo_y_empleo                            1.000000   \n",
      "speaker_grouped_cod                                 0.067556   \n",
      "speaker_job_grouped_cod                            -0.011181   \n",
      "state_info_grouped_cod                              0.097030   \n",
      "party_group_cod                                    -0.023562   \n",
      "speaker_job_cod-llm                                -0.025559   \n",
      "state_info_cod-llm                                  0.111332   \n",
      "party_affiliation_cod-llm                          -0.042346   \n",
      "\n",
      "                                    speaker_grouped_cod  \\\n",
      "label                                          0.002056   \n",
      "feelings                                      -0.001721   \n",
      "subject-ciencia_y_tecnologia                   0.011581   \n",
      "subject-economia_y_finanzas                    0.057785   \n",
      "subject-educacion                              0.057209   \n",
      "subject-medio_ambiente_y_energia              -0.021742   \n",
      "subject-otros                                  0.028990   \n",
      "subject-politica_y_gobierno                    0.057153   \n",
      "subject-relaciones_internacionales            -0.133613   \n",
      "subject-salud_y_bienestar                      0.023099   \n",
      "subject-seguridad_y_justicia                   0.014610   \n",
      "subject-sociedad_y_cultura                    -0.026327   \n",
      "subject-trabajo_y_empleo                       0.067556   \n",
      "speaker_grouped_cod                            1.000000   \n",
      "speaker_job_grouped_cod                       -0.319012   \n",
      "state_info_grouped_cod                         0.326635   \n",
      "party_group_cod                                0.188345   \n",
      "speaker_job_cod-llm                           -0.265898   \n",
      "state_info_cod-llm                             0.290100   \n",
      "party_affiliation_cod-llm                      0.201076   \n",
      "\n",
      "                                    speaker_job_grouped_cod  \\\n",
      "label                                              0.006904   \n",
      "feelings                                          -0.027568   \n",
      "subject-ciencia_y_tecnologia                      -0.006266   \n",
      "subject-economia_y_finanzas                       -0.057430   \n",
      "subject-educacion                                  0.056390   \n",
      "subject-medio_ambiente_y_energia                   0.010289   \n",
      "subject-otros                                      0.029099   \n",
      "subject-politica_y_gobierno                        0.050176   \n",
      "subject-relaciones_internacionales                -0.016756   \n",
      "subject-salud_y_bienestar                         -0.022208   \n",
      "subject-seguridad_y_justicia                       0.009933   \n",
      "subject-sociedad_y_cultura                         0.057145   \n",
      "subject-trabajo_y_empleo                          -0.011181   \n",
      "speaker_grouped_cod                               -0.319012   \n",
      "speaker_job_grouped_cod                            1.000000   \n",
      "state_info_grouped_cod                            -0.051334   \n",
      "party_group_cod                                   -0.199925   \n",
      "speaker_job_cod-llm                                0.905097   \n",
      "state_info_cod-llm                                -0.058727   \n",
      "party_affiliation_cod-llm                         -0.171228   \n",
      "\n",
      "                                    state_info_grouped_cod  party_group_cod  \\\n",
      "label                                             0.058899         0.106078   \n",
      "feelings                                          0.001229        -0.003217   \n",
      "subject-ciencia_y_tecnologia                     -0.005218        -0.009861   \n",
      "subject-economia_y_finanzas                       0.054924         0.042502   \n",
      "subject-educacion                                 0.040964        -0.035006   \n",
      "subject-medio_ambiente_y_energia                 -0.020720        -0.022311   \n",
      "subject-otros                                     0.016721        -0.039698   \n",
      "subject-politica_y_gobierno                       0.050372        -0.010467   \n",
      "subject-relaciones_internacionales               -0.046223         0.013830   \n",
      "subject-salud_y_bienestar                         0.023710        -0.006661   \n",
      "subject-seguridad_y_justicia                      0.036057        -0.032036   \n",
      "subject-sociedad_y_cultura                        0.025510        -0.021426   \n",
      "subject-trabajo_y_empleo                          0.097030        -0.023562   \n",
      "speaker_grouped_cod                               0.326635         0.188345   \n",
      "speaker_job_grouped_cod                          -0.051334        -0.199925   \n",
      "state_info_grouped_cod                            1.000000        -0.010454   \n",
      "party_group_cod                                  -0.010454         1.000000   \n",
      "speaker_job_cod-llm                              -0.007286        -0.197370   \n",
      "state_info_cod-llm                                0.917994        -0.000122   \n",
      "party_affiliation_cod-llm                         0.032822         0.885877   \n",
      "\n",
      "                                    speaker_job_cod-llm  state_info_cod-llm  \\\n",
      "label                                          0.021949            0.051963   \n",
      "feelings                                      -0.035974            0.003302   \n",
      "subject-ciencia_y_tecnologia                  -0.001004           -0.006483   \n",
      "subject-economia_y_finanzas                   -0.075872            0.068455   \n",
      "subject-educacion                              0.050746            0.040359   \n",
      "subject-medio_ambiente_y_energia               0.007216           -0.019494   \n",
      "subject-otros                                  0.053560            0.011315   \n",
      "subject-politica_y_gobierno                    0.043550            0.060128   \n",
      "subject-relaciones_internacionales            -0.015407           -0.049535   \n",
      "subject-salud_y_bienestar                     -0.003516            0.013837   \n",
      "subject-seguridad_y_justicia                   0.031832            0.031321   \n",
      "subject-sociedad_y_cultura                     0.065643            0.017603   \n",
      "subject-trabajo_y_empleo                      -0.025559            0.111332   \n",
      "speaker_grouped_cod                           -0.265898            0.290100   \n",
      "speaker_job_grouped_cod                        0.905097           -0.058727   \n",
      "state_info_grouped_cod                        -0.007286            0.917994   \n",
      "party_group_cod                               -0.197370           -0.000122   \n",
      "speaker_job_cod-llm                            1.000000           -0.039945   \n",
      "state_info_cod-llm                            -0.039945            1.000000   \n",
      "party_affiliation_cod-llm                     -0.150939            0.017974   \n",
      "\n",
      "                                    party_affiliation_cod-llm  \n",
      "label                                                0.126064  \n",
      "feelings                                            -0.007192  \n",
      "subject-ciencia_y_tecnologia                         0.007001  \n",
      "subject-economia_y_finanzas                          0.008018  \n",
      "subject-educacion                                   -0.027576  \n",
      "subject-medio_ambiente_y_energia                    -0.016489  \n",
      "subject-otros                                       -0.006881  \n",
      "subject-politica_y_gobierno                         -0.018877  \n",
      "subject-relaciones_internacionales                   0.011870  \n",
      "subject-salud_y_bienestar                            0.003463  \n",
      "subject-seguridad_y_justicia                        -0.008191  \n",
      "subject-sociedad_y_cultura                          -0.004233  \n",
      "subject-trabajo_y_empleo                            -0.042346  \n",
      "speaker_grouped_cod                                  0.201076  \n",
      "speaker_job_grouped_cod                             -0.171228  \n",
      "state_info_grouped_cod                               0.032822  \n",
      "party_group_cod                                      0.885877  \n",
      "speaker_job_cod-llm                                 -0.150939  \n",
      "state_info_cod-llm                                   0.017974  \n",
      "party_affiliation_cod-llm                            1.000000  \n"
     ]
    }
   ],
   "source": [
    "corrMatrix = df_train_c.corr()\n",
    "print(corrMatrix)   "
   ]
  },
  {
   "cell_type": "code",
   "execution_count": 101,
   "metadata": {},
   "outputs": [
    {
     "data": {
      "image/png": "[encoded data removed]",
      "text/plain": [
       "<Figure size 2000x2000 with 4 Axes>"
      ]
     },
     "metadata": {},
     "output_type": "display_data"
    }
   ],
   "source": [
    "sns.clustermap(corrMatrix, annot=True, figsize=(20,20))\n",
    "plt.show()"
   ]
  },
  {
   "cell_type": "markdown",
   "metadata": {},
   "source": [
    "# 8. Referencias"
   ]
  },
  {
   "cell_type": "markdown",
   "metadata": {},
   "source": [
    "* [pandas documentation — pandas 2.2.3 documentation. (s. f.).](https://pandas.pydata.org/docs/)  \n",
    "* [“DoC · SPACY API documentation,” Doc.](https://spacy.io/api/doc)"
   ]
  }
 ],
 "metadata": {
  "kernelspec": {
   "display_name": "Python 3 (ipykernel)",
   "language": "python",
   "name": "python3"
  },
  "language_info": {
   "codemirror_mode": {
    "name": "ipython",
    "version": 3
   },
   "file_extension": ".py",
   "mimetype": "text/x-python",
   "name": "python",
   "nbconvert_exporter": "python",
   "pygments_lexer": "ipython3",
   "version": "3.12.7"
  }
 },
 "nbformat": 4,
 "nbformat_minor": 4
}
