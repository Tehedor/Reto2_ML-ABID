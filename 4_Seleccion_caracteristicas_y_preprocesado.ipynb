{
 "cells": [
  {
   "cell_type": "markdown",
   "metadata": {},
   "source": [
    "<header style=\"width:100%;position:relative\">\n",
    "  <div style=\"width:80%;float:right;\">\n",
    "    <h1>False Political Claim Detection</h1>\n",
    "    <h3>Selección de características y preprocesado</h3>\n",
    "    <h5>Grupo 2</h5>\n",
    "  </div>\n",
    "        <img style=\"width:15%;\" src=\"images/logo.jpg\" alt=\"UPM\" />\n",
    "</header>"
   ]
  },
  {
   "cell_type": "markdown",
   "metadata": {},
   "source": [
    "# Índice"
   ]
  },
  {
   "cell_type": "markdown",
   "metadata": {},
   "source": [
    "1. [Importar librerias](#1.-Importar-librerias)\n",
    "2. [Variables globales](#2.-Variables-globales)\n",
    "3. [Carga del dataframe](#3.-Carga-del-dataframe)\n",
    "4. [Análisis y selección de las características](#4.-Analisis-y-seleccion-de-las-caracteristicas)\n",
    "5. [Carga de los datos y división en entrenamiento y test](#5.-Carga-de-los-datos-y-division-en-entrenamiento-y-test)\n",
    "6. [Preprocesado de los datos](#6.-Preprocesado-de-los-datos)\n",
    "    * 6.1 [Introducción](#6.1-Introduccion)\n",
    "    * 6.2 [Casos de preprocesado](#6.2-Casos-de-preprocesado)\n",
    "    * 6.3 [Conclusiones](#6.3-Conclusiones)\n",
    "7. [Referencias](#7.-Referencias)\n"
   ]
  },
  {
   "cell_type": "markdown",
   "metadata": {},
   "source": [
    "## 1. Importar librerias"
   ]
  },
  {
   "cell_type": "code",
   "execution_count": 5,
   "metadata": {
    "vscode": {
     "languageId": "plaintext"
    }
   },
   "outputs": [
    {
     "name": "stdout",
     "output_type": "stream",
     "text": [
      "Todas las librerias fueron correctamente importadas.\n"
     ]
    }
   ],
   "source": [
    "# General import and load data\n",
    "import pandas as pd\n",
    "import numpy as np\n",
    "\n",
    "# Resampling\n",
    "from imblearn.under_sampling import RandomUnderSampler\n",
    "from imblearn.over_sampling import SMOTE\n",
    "\n",
    "# Preprocessing\n",
    "from sklearn.compose import ColumnTransformer\n",
    "from sklearn.preprocessing import StandardScaler\n",
    "from sklearn.feature_extraction.text import TfidfVectorizer\n",
    "from sklearn.decomposition import TruncatedSVD\n",
    "\n",
    "# Splitting\n",
    "from sklearn.model_selection import train_test_split\n",
    "\n",
    "# Estimators\n",
    "from sklearn.ensemble import RandomForestClassifier\n",
    "\n",
    "# Evaluation\n",
    "from sklearn.metrics import classification_report\n",
    "\n",
    "# Visualization\n",
    "import matplotlib.pyplot as plt\n",
    "\n",
    "print(\"Todas las librerias fueron correctamente importadas.\")"
   ]
  },
  {
   "cell_type": "markdown",
   "metadata": {},
   "source": [
    "## 2. Variables globales"
   ]
  },
  {
   "cell_type": "markdown",
   "metadata": {},
   "source": [
    "Se fija un *seed* para todo el documento para fijar la aleatoriedad y así obtener resultados replicables."
   ]
  },
  {
   "cell_type": "code",
   "execution_count": 8,
   "metadata": {},
   "outputs": [],
   "source": [
    "seed = 42"
   ]
  },
  {
   "cell_type": "markdown",
   "metadata": {},
   "source": [
    "## 3. Carga del dataframe"
   ]
  },
  {
   "cell_type": "markdown",
   "metadata": {},
   "source": [
    "Se cargan los datos de la ruta *formated/train_exportado.csv*, los cuales son los datos ya procesados por uno de nuestros compañeros."
   ]
  },
  {
   "cell_type": "code",
   "execution_count": 11,
   "metadata": {},
   "outputs": [
    {
     "name": "stdout",
     "output_type": "stream",
     "text": [
      "Datos cargados correctamente\n",
      "\n"
     ]
    }
   ],
   "source": [
    "url = \"formated/train_exportado.csv\"\n",
    "df = pd.read_csv(url)\n",
    "\n",
    "print(\"Datos cargados correctamente\\n\")"
   ]
  },
  {
   "cell_type": "markdown",
   "metadata": {},
   "source": [
    "Se observan las dimensiones del *dataframe*."
   ]
  },
  {
   "cell_type": "code",
   "execution_count": 13,
   "metadata": {},
   "outputs": [
    {
     "name": "stdout",
     "output_type": "stream",
     "text": [
      "Dimensiones del conjunto de datos: 8950 filas y 32 columnas\n"
     ]
    }
   ],
   "source": [
    "print(f\"Dimensiones del conjunto de datos: {df.shape[0]} filas y {df.shape[1]} columnas\")"
   ]
  },
  {
   "cell_type": "markdown",
   "metadata": {},
   "source": [
    "## 4. Analisis y seleccion de las caracteristicas"
   ]
  },
  {
   "cell_type": "markdown",
   "metadata": {},
   "source": [
    "Se configura pandas para que muestre todas las columnas y después se realiza un head para ver el contenido de las mismas."
   ]
  },
  {
   "cell_type": "code",
   "execution_count": 16,
   "metadata": {},
   "outputs": [
    {
     "data": {
      "text/html": [
       "<div>\n",
       "<style scoped>\n",
       "    .dataframe tbody tr th:only-of-type {\n",
       "        vertical-align: middle;\n",
       "    }\n",
       "\n",
       "    .dataframe tbody tr th {\n",
       "        vertical-align: top;\n",
       "    }\n",
       "\n",
       "    .dataframe thead th {\n",
       "        text-align: right;\n",
       "    }\n",
       "</style>\n",
       "<table border=\"1\" class=\"dataframe\">\n",
       "  <thead>\n",
       "    <tr style=\"text-align: right;\">\n",
       "      <th></th>\n",
       "      <th>id</th>\n",
       "      <th>label</th>\n",
       "      <th>statement</th>\n",
       "      <th>statement-raw</th>\n",
       "      <th>statement-lemmatize</th>\n",
       "      <th>statement-ner</th>\n",
       "      <th>feelings</th>\n",
       "      <th>subject-ciencia_y_tecnologia</th>\n",
       "      <th>subject-economia_y_finanzas</th>\n",
       "      <th>subject-educacion</th>\n",
       "      <th>subject-medio_ambiente_y_energia</th>\n",
       "      <th>subject-otros</th>\n",
       "      <th>subject-politica_y_gobierno</th>\n",
       "      <th>subject-relaciones_internacionales</th>\n",
       "      <th>subject-salud_y_bienestar</th>\n",
       "      <th>subject-seguridad_y_justicia</th>\n",
       "      <th>subject-sociedad_y_cultura</th>\n",
       "      <th>subject-trabajo_y_empleo</th>\n",
       "      <th>speaker_grouped</th>\n",
       "      <th>speaker_grouped_cod</th>\n",
       "      <th>speaker_job_grouped</th>\n",
       "      <th>speaker_job_grouped_cod</th>\n",
       "      <th>state_info_grouped</th>\n",
       "      <th>state_info_grouped_cod</th>\n",
       "      <th>party_group</th>\n",
       "      <th>party_group_cod</th>\n",
       "      <th>speaker_job-llm</th>\n",
       "      <th>speaker_job_cod-llm</th>\n",
       "      <th>state_info-llm</th>\n",
       "      <th>state_info_cod-llm</th>\n",
       "      <th>party_affiliation-llm</th>\n",
       "      <th>party_affiliation_cod-llm</th>\n",
       "    </tr>\n",
       "  </thead>\n",
       "  <tbody>\n",
       "    <tr>\n",
       "      <th>0</th>\n",
       "      <td>81f884c64a7</td>\n",
       "      <td>1</td>\n",
       "      <td>China is South China Sea military fortress lik...</td>\n",
       "      <td>china is south china sea military fortress lik...</td>\n",
       "      <td>china be south china sea military fortress lik...</td>\n",
       "      <td>china south china sea</td>\n",
       "      <td>0.4215</td>\n",
       "      <td>0</td>\n",
       "      <td>0</td>\n",
       "      <td>0</td>\n",
       "      <td>0</td>\n",
       "      <td>0</td>\n",
       "      <td>0</td>\n",
       "      <td>1</td>\n",
       "      <td>0</td>\n",
       "      <td>0</td>\n",
       "      <td>0</td>\n",
       "      <td>0</td>\n",
       "      <td>donald-trump</td>\n",
       "      <td>2</td>\n",
       "      <td>president</td>\n",
       "      <td>13</td>\n",
       "      <td>new york</td>\n",
       "      <td>7</td>\n",
       "      <td>republican</td>\n",
       "      <td>6</td>\n",
       "      <td>president</td>\n",
       "      <td>639</td>\n",
       "      <td>new york</td>\n",
       "      <td>7</td>\n",
       "      <td>republican</td>\n",
       "      <td>6</td>\n",
       "    </tr>\n",
       "    <tr>\n",
       "      <th>1</th>\n",
       "      <td>30c2723a188</td>\n",
       "      <td>0</td>\n",
       "      <td>resources it takes execute months Iraq war we ...</td>\n",
       "      <td>resources it takes execute months iraq war we ...</td>\n",
       "      <td>resources it take execute months iraq war we f...</td>\n",
       "      <td>months iraq bush</td>\n",
       "      <td>-0.4767</td>\n",
       "      <td>0</td>\n",
       "      <td>0</td>\n",
       "      <td>0</td>\n",
       "      <td>0</td>\n",
       "      <td>0</td>\n",
       "      <td>0</td>\n",
       "      <td>0</td>\n",
       "      <td>1</td>\n",
       "      <td>0</td>\n",
       "      <td>0</td>\n",
       "      <td>0</td>\n",
       "      <td>other_speakers</td>\n",
       "      <td>7</td>\n",
       "      <td>federal_legislator_senate</td>\n",
       "      <td>4</td>\n",
       "      <td>other_state_info</td>\n",
       "      <td>10</td>\n",
       "      <td>democrat</td>\n",
       "      <td>0</td>\n",
       "      <td>federal_legislator_senate</td>\n",
       "      <td>326</td>\n",
       "      <td>other</td>\n",
       "      <td>10</td>\n",
       "      <td>democrat</td>\n",
       "      <td>0</td>\n",
       "    </tr>\n",
       "    <tr>\n",
       "      <th>2</th>\n",
       "      <td>6936b216e5d</td>\n",
       "      <td>0</td>\n",
       "      <td>Wisconsin governor proposed tax giveaways corp...</td>\n",
       "      <td>wisconsin governor proposed tax giveaways corp...</td>\n",
       "      <td>wisconsin governor propose tax giveaways corpo...</td>\n",
       "      <td>wisconsin</td>\n",
       "      <td>0.0000</td>\n",
       "      <td>0</td>\n",
       "      <td>1</td>\n",
       "      <td>0</td>\n",
       "      <td>0</td>\n",
       "      <td>1</td>\n",
       "      <td>0</td>\n",
       "      <td>0</td>\n",
       "      <td>0</td>\n",
       "      <td>0</td>\n",
       "      <td>1</td>\n",
       "      <td>0</td>\n",
       "      <td>other_speakers</td>\n",
       "      <td>7</td>\n",
       "      <td>other_speaker_job</td>\n",
       "      <td>9</td>\n",
       "      <td>washington dc</td>\n",
       "      <td>14</td>\n",
       "      <td>democrat</td>\n",
       "      <td>0</td>\n",
       "      <td>political_commentator</td>\n",
       "      <td>629</td>\n",
       "      <td>washington dc</td>\n",
       "      <td>14</td>\n",
       "      <td>democrat</td>\n",
       "      <td>0</td>\n",
       "    </tr>\n",
       "    <tr>\n",
       "      <th>3</th>\n",
       "      <td>b5cd9195738</td>\n",
       "      <td>1</td>\n",
       "      <td>Says her representation ex boyfriend who was m...</td>\n",
       "      <td>says her representation ex boyfriend who was m...</td>\n",
       "      <td>say her representation ex boyfriend who be my ...</td>\n",
       "      <td>(no entities)</td>\n",
       "      <td>0.4939</td>\n",
       "      <td>0</td>\n",
       "      <td>0</td>\n",
       "      <td>1</td>\n",
       "      <td>0</td>\n",
       "      <td>0</td>\n",
       "      <td>1</td>\n",
       "      <td>0</td>\n",
       "      <td>0</td>\n",
       "      <td>1</td>\n",
       "      <td>1</td>\n",
       "      <td>0</td>\n",
       "      <td>other_speakers</td>\n",
       "      <td>7</td>\n",
       "      <td>other_speaker_job</td>\n",
       "      <td>9</td>\n",
       "      <td>other_state_info</td>\n",
       "      <td>10</td>\n",
       "      <td>independent_None</td>\n",
       "      <td>1</td>\n",
       "      <td>political_organization</td>\n",
       "      <td>634</td>\n",
       "      <td>other</td>\n",
       "      <td>10</td>\n",
       "      <td>official</td>\n",
       "      <td>3</td>\n",
       "    </tr>\n",
       "    <tr>\n",
       "      <th>4</th>\n",
       "      <td>84f8dac7737</td>\n",
       "      <td>0</td>\n",
       "      <td>protests Wisconsin proposed collective bargain...</td>\n",
       "      <td>protests wisconsin proposed collective bargain...</td>\n",
       "      <td>protests wisconsin propose collective bargaini...</td>\n",
       "      <td>wisconsin</td>\n",
       "      <td>-0.5994</td>\n",
       "      <td>0</td>\n",
       "      <td>1</td>\n",
       "      <td>0</td>\n",
       "      <td>0</td>\n",
       "      <td>0</td>\n",
       "      <td>0</td>\n",
       "      <td>0</td>\n",
       "      <td>1</td>\n",
       "      <td>0</td>\n",
       "      <td>0</td>\n",
       "      <td>1</td>\n",
       "      <td>other_speakers</td>\n",
       "      <td>7</td>\n",
       "      <td>other_speaker_job</td>\n",
       "      <td>9</td>\n",
       "      <td>wisconsin</td>\n",
       "      <td>15</td>\n",
       "      <td>republican</td>\n",
       "      <td>6</td>\n",
       "      <td>political_organization</td>\n",
       "      <td>634</td>\n",
       "      <td>wisconsin</td>\n",
       "      <td>15</td>\n",
       "      <td>republican</td>\n",
       "      <td>6</td>\n",
       "    </tr>\n",
       "  </tbody>\n",
       "</table>\n",
       "</div>"
      ],
      "text/plain": [
       "            id  label                                          statement  \\\n",
       "0  81f884c64a7      1  China is South China Sea military fortress lik...   \n",
       "1  30c2723a188      0  resources it takes execute months Iraq war we ...   \n",
       "2  6936b216e5d      0  Wisconsin governor proposed tax giveaways corp...   \n",
       "3  b5cd9195738      1  Says her representation ex boyfriend who was m...   \n",
       "4  84f8dac7737      0  protests Wisconsin proposed collective bargain...   \n",
       "\n",
       "                                       statement-raw  \\\n",
       "0  china is south china sea military fortress lik...   \n",
       "1  resources it takes execute months iraq war we ...   \n",
       "2  wisconsin governor proposed tax giveaways corp...   \n",
       "3  says her representation ex boyfriend who was m...   \n",
       "4  protests wisconsin proposed collective bargain...   \n",
       "\n",
       "                                 statement-lemmatize          statement-ner  \\\n",
       "0  china be south china sea military fortress lik...  china south china sea   \n",
       "1  resources it take execute months iraq war we f...       months iraq bush   \n",
       "2  wisconsin governor propose tax giveaways corpo...              wisconsin   \n",
       "3  say her representation ex boyfriend who be my ...          (no entities)   \n",
       "4  protests wisconsin propose collective bargaini...              wisconsin   \n",
       "\n",
       "   feelings  subject-ciencia_y_tecnologia  subject-economia_y_finanzas  \\\n",
       "0    0.4215                             0                            0   \n",
       "1   -0.4767                             0                            0   \n",
       "2    0.0000                             0                            1   \n",
       "3    0.4939                             0                            0   \n",
       "4   -0.5994                             0                            1   \n",
       "\n",
       "   subject-educacion  subject-medio_ambiente_y_energia  subject-otros  \\\n",
       "0                  0                                 0              0   \n",
       "1                  0                                 0              0   \n",
       "2                  0                                 0              1   \n",
       "3                  1                                 0              0   \n",
       "4                  0                                 0              0   \n",
       "\n",
       "   subject-politica_y_gobierno  subject-relaciones_internacionales  \\\n",
       "0                            0                                   1   \n",
       "1                            0                                   0   \n",
       "2                            0                                   0   \n",
       "3                            1                                   0   \n",
       "4                            0                                   0   \n",
       "\n",
       "   subject-salud_y_bienestar  subject-seguridad_y_justicia  \\\n",
       "0                          0                             0   \n",
       "1                          1                             0   \n",
       "2                          0                             0   \n",
       "3                          0                             1   \n",
       "4                          1                             0   \n",
       "\n",
       "   subject-sociedad_y_cultura  subject-trabajo_y_empleo speaker_grouped  \\\n",
       "0                           0                         0    donald-trump   \n",
       "1                           0                         0  other_speakers   \n",
       "2                           1                         0  other_speakers   \n",
       "3                           1                         0  other_speakers   \n",
       "4                           0                         1  other_speakers   \n",
       "\n",
       "   speaker_grouped_cod        speaker_job_grouped  speaker_job_grouped_cod  \\\n",
       "0                    2                  president                       13   \n",
       "1                    7  federal_legislator_senate                        4   \n",
       "2                    7          other_speaker_job                        9   \n",
       "3                    7          other_speaker_job                        9   \n",
       "4                    7          other_speaker_job                        9   \n",
       "\n",
       "  state_info_grouped  state_info_grouped_cod       party_group  \\\n",
       "0           new york                       7        republican   \n",
       "1   other_state_info                      10          democrat   \n",
       "2      washington dc                      14          democrat   \n",
       "3   other_state_info                      10  independent_None   \n",
       "4          wisconsin                      15        republican   \n",
       "\n",
       "   party_group_cod            speaker_job-llm  speaker_job_cod-llm  \\\n",
       "0                6                  president                  639   \n",
       "1                0  federal_legislator_senate                  326   \n",
       "2                0      political_commentator                  629   \n",
       "3                1     political_organization                  634   \n",
       "4                6     political_organization                  634   \n",
       "\n",
       "  state_info-llm  state_info_cod-llm party_affiliation-llm  \\\n",
       "0       new york                   7            republican   \n",
       "1          other                  10              democrat   \n",
       "2  washington dc                  14              democrat   \n",
       "3          other                  10              official   \n",
       "4      wisconsin                  15            republican   \n",
       "\n",
       "   party_affiliation_cod-llm  \n",
       "0                          6  \n",
       "1                          0  \n",
       "2                          0  \n",
       "3                          3  \n",
       "4                          6  "
      ]
     },
     "execution_count": 16,
     "metadata": {},
     "output_type": "execute_result"
    }
   ],
   "source": [
    "pd.set_option('display.max_columns', None)\n",
    "df.head()"
   ]
  },
  {
   "cell_type": "markdown",
   "metadata": {},
   "source": [
    "Se muestran todas las columnas para poder observarlas."
   ]
  },
  {
   "cell_type": "code",
   "execution_count": 18,
   "metadata": {},
   "outputs": [
    {
     "data": {
      "text/plain": [
       "Index(['id', 'label', 'statement', 'statement-raw', 'statement-lemmatize',\n",
       "       'statement-ner', 'feelings', 'subject-ciencia_y_tecnologia',\n",
       "       'subject-economia_y_finanzas', 'subject-educacion',\n",
       "       'subject-medio_ambiente_y_energia', 'subject-otros',\n",
       "       'subject-politica_y_gobierno', 'subject-relaciones_internacionales',\n",
       "       'subject-salud_y_bienestar', 'subject-seguridad_y_justicia',\n",
       "       'subject-sociedad_y_cultura', 'subject-trabajo_y_empleo',\n",
       "       'speaker_grouped', 'speaker_grouped_cod', 'speaker_job_grouped',\n",
       "       'speaker_job_grouped_cod', 'state_info_grouped',\n",
       "       'state_info_grouped_cod', 'party_group', 'party_group_cod',\n",
       "       'speaker_job-llm', 'speaker_job_cod-llm', 'state_info-llm',\n",
       "       'state_info_cod-llm', 'party_affiliation-llm',\n",
       "       'party_affiliation_cod-llm'],\n",
       "      dtype='object')"
      ]
     },
     "execution_count": 18,
     "metadata": {},
     "output_type": "execute_result"
    }
   ],
   "source": [
    "df.columns"
   ]
  },
  {
   "cell_type": "markdown",
   "metadata": {},
   "source": [
    "Se muestran todas las columnas en formato código para que sea más sencillo su uso. Además se estructuran en diversas categorias."
   ]
  },
  {
   "cell_type": "code",
   "execution_count": 20,
   "metadata": {
    "vscode": {
     "languageId": "plaintext"
    }
   },
   "outputs": [],
   "source": [
    "all_features = [\n",
    "    # Identificador\n",
    "    'id',\n",
    "\n",
    "    # Etiqueta objetivo\n",
    "    'label',\n",
    "\n",
    "    # Texto original y procesado\n",
    "    'statement', 'statement-raw', 'statement-lemmatize', \n",
    "\n",
    "    # Features derivados del texto\n",
    "    'statement-ner', 'feelings',\n",
    "\n",
    "    # One-hot encoded de los temas reagrupados del texto \n",
    "    'subject-ciencia_y_tecnologia', 'subject-economia_y_finanzas',\n",
    "    'subject-educacion', 'subject-medio_ambiente_y_energia', 'subject-otros',\n",
    "    'subject-politica_y_gobierno', 'subject-relaciones_internacionales',\n",
    "    'subject-salud_y_bienestar', 'subject-seguridad_y_justicia',\n",
    "    'subject-sociedad_y_cultura', 'subject-trabajo_y_empleo',\n",
    "\n",
    "    # Resto de las categoricas agrupadas\n",
    "    'speaker_grouped', 'speaker_job_grouped', 'state_info_grouped', 'party_group',\n",
    "\n",
    "    # Resto de las categoricas agrupadas y codificadas\n",
    "    'speaker_grouped_cod', 'speaker_job_grouped_cod',\n",
    "    'state_info_grouped_cod', 'party_group_cod',\n",
    "\n",
    "    # Variables generadas por LLM los null\n",
    "    'speaker_job-llm', 'speaker_job_cod-llm',\n",
    "    'state_info-llm', 'state_info_cod-llm',\n",
    "    'party_affiliation-llm', 'party_affiliation_cod-llm'\n",
    "]"
   ]
  },
  {
   "cell_type": "markdown",
   "metadata": {},
   "source": [
    "Se seleccionan todas las categorias menos: \n",
    "* ***id***: no aporta ningún valor.\n",
    "* ***label***: variable a predecir.\n",
    "* ***statement***: esta *feature* esta por si nos es necesario en algun momento futuro tener el texto sin procesar.\n",
    "* ***statement-lemmatize***: esta *feature* solo esta para probar en notebooks posteriores si clasifica mejor o peor con las raices de las palabras.\n",
    "* ***statement-ner***: esta *feature* esta para ver si el clasificador funciona mejor con el NER por separado.\n",
    "* ***speaker_grouped***, ***speaker_job_grouped***, ***state_info_grouped***, ***party_group***: suponemos que tenemos la misma información ya codificada.\n",
    "* ***speaker_job-llm***, ***speaker_job_cod-llm***, ***state_info-llm***, ***state_info_cod-llm***, ***party_affiliation-llm***, ***party_affiliation_cod-llm***: esta información ya esta en otras *features*, la diferencia esta en como se tratan los nulos asi que se analizará cual funciona mejor si con LLM o sin ellos durante el apartado de clasificación."
   ]
  },
  {
   "cell_type": "code",
   "execution_count": 22,
   "metadata": {},
   "outputs": [],
   "source": [
    "selected_features = [\n",
    "    # Texto\n",
    "    'statement-raw',\n",
    "\n",
    "    # Features derivados del texto\n",
    "    'feelings',\n",
    "\n",
    "    # One-hot encoded de los temas reagrupados del texto \n",
    "    'subject-ciencia_y_tecnologia', 'subject-economia_y_finanzas',\n",
    "    'subject-educacion', 'subject-medio_ambiente_y_energia', 'subject-otros',\n",
    "    'subject-politica_y_gobierno', 'subject-relaciones_internacionales',\n",
    "    'subject-salud_y_bienestar', 'subject-seguridad_y_justicia',\n",
    "    'subject-sociedad_y_cultura', 'subject-trabajo_y_empleo',\n",
    "\n",
    "    # Resto de las categoricas agrupadas y codificadas\n",
    "    'speaker_grouped_cod', 'speaker_job_grouped_cod',\n",
    "    'state_info_grouped_cod', 'party_group_cod'\n",
    "]"
   ]
  },
  {
   "cell_type": "markdown",
   "metadata": {},
   "source": [
    "De las cuales, no se corresponden con el texto."
   ]
  },
  {
   "cell_type": "code",
   "execution_count": 24,
   "metadata": {},
   "outputs": [],
   "source": [
    "no_text = [\n",
    "    # Features derivados del texto\n",
    "    'feelings',\n",
    "\n",
    "    # One-hot encoded de los temas reagrupados del texto \n",
    "    'subject-ciencia_y_tecnologia', 'subject-economia_y_finanzas',\n",
    "    'subject-educacion', 'subject-medio_ambiente_y_energia', 'subject-otros',\n",
    "    'subject-politica_y_gobierno', 'subject-relaciones_internacionales',\n",
    "    'subject-salud_y_bienestar', 'subject-seguridad_y_justicia',\n",
    "    'subject-sociedad_y_cultura', 'subject-trabajo_y_empleo',\n",
    "\n",
    "    # Resto de las categoricas agrupadas y codificadas\n",
    "    'speaker_grouped_cod', 'speaker_job_grouped_cod',\n",
    "    'state_info_grouped_cod', 'party_group_cod'\n",
    "]"
   ]
  },
  {
   "cell_type": "markdown",
   "metadata": {},
   "source": [
    "De las cuales, numéricas (y sin normalizar) solamente son las codificadas:"
   ]
  },
  {
   "cell_type": "code",
   "execution_count": 26,
   "metadata": {},
   "outputs": [],
   "source": [
    "numeric_vars = [\n",
    "    'speaker_grouped_cod', 'speaker_job_grouped_cod',\n",
    "    'state_info_grouped_cod', 'party_group_cod'\n",
    "]"
   ]
  },
  {
   "cell_type": "markdown",
   "metadata": {},
   "source": [
    "Comprobamos que solo tenemos tipos númericos, más especificamente enteros."
   ]
  },
  {
   "cell_type": "code",
   "execution_count": 28,
   "metadata": {},
   "outputs": [
    {
     "data": {
      "text/plain": [
       "statement-raw                          object\n",
       "feelings                              float64\n",
       "subject-ciencia_y_tecnologia            int64\n",
       "subject-economia_y_finanzas             int64\n",
       "subject-educacion                       int64\n",
       "subject-medio_ambiente_y_energia        int64\n",
       "subject-otros                           int64\n",
       "subject-politica_y_gobierno             int64\n",
       "subject-relaciones_internacionales      int64\n",
       "subject-salud_y_bienestar               int64\n",
       "subject-seguridad_y_justicia            int64\n",
       "subject-sociedad_y_cultura              int64\n",
       "subject-trabajo_y_empleo                int64\n",
       "speaker_grouped_cod                     int64\n",
       "speaker_job_grouped_cod                 int64\n",
       "state_info_grouped_cod                  int64\n",
       "party_group_cod                         int64\n",
       "dtype: object"
      ]
     },
     "execution_count": 28,
     "metadata": {},
     "output_type": "execute_result"
    }
   ],
   "source": [
    "df[selected_features].dtypes"
   ]
  },
  {
   "cell_type": "markdown",
   "metadata": {},
   "source": [
    "Volvemos a observar el *dataframe* pero solamente con las *features* seleccionadas."
   ]
  },
  {
   "cell_type": "code",
   "execution_count": 30,
   "metadata": {},
   "outputs": [
    {
     "data": {
      "text/html": [
       "<div>\n",
       "<style scoped>\n",
       "    .dataframe tbody tr th:only-of-type {\n",
       "        vertical-align: middle;\n",
       "    }\n",
       "\n",
       "    .dataframe tbody tr th {\n",
       "        vertical-align: top;\n",
       "    }\n",
       "\n",
       "    .dataframe thead th {\n",
       "        text-align: right;\n",
       "    }\n",
       "</style>\n",
       "<table border=\"1\" class=\"dataframe\">\n",
       "  <thead>\n",
       "    <tr style=\"text-align: right;\">\n",
       "      <th></th>\n",
       "      <th>statement-raw</th>\n",
       "      <th>feelings</th>\n",
       "      <th>subject-ciencia_y_tecnologia</th>\n",
       "      <th>subject-economia_y_finanzas</th>\n",
       "      <th>subject-educacion</th>\n",
       "      <th>subject-medio_ambiente_y_energia</th>\n",
       "      <th>subject-otros</th>\n",
       "      <th>subject-politica_y_gobierno</th>\n",
       "      <th>subject-relaciones_internacionales</th>\n",
       "      <th>subject-salud_y_bienestar</th>\n",
       "      <th>subject-seguridad_y_justicia</th>\n",
       "      <th>subject-sociedad_y_cultura</th>\n",
       "      <th>subject-trabajo_y_empleo</th>\n",
       "      <th>speaker_grouped_cod</th>\n",
       "      <th>speaker_job_grouped_cod</th>\n",
       "      <th>state_info_grouped_cod</th>\n",
       "      <th>party_group_cod</th>\n",
       "    </tr>\n",
       "  </thead>\n",
       "  <tbody>\n",
       "    <tr>\n",
       "      <th>0</th>\n",
       "      <td>china is south china sea military fortress lik...</td>\n",
       "      <td>0.4215</td>\n",
       "      <td>0</td>\n",
       "      <td>0</td>\n",
       "      <td>0</td>\n",
       "      <td>0</td>\n",
       "      <td>0</td>\n",
       "      <td>0</td>\n",
       "      <td>1</td>\n",
       "      <td>0</td>\n",
       "      <td>0</td>\n",
       "      <td>0</td>\n",
       "      <td>0</td>\n",
       "      <td>2</td>\n",
       "      <td>13</td>\n",
       "      <td>7</td>\n",
       "      <td>6</td>\n",
       "    </tr>\n",
       "    <tr>\n",
       "      <th>1</th>\n",
       "      <td>resources it takes execute months iraq war we ...</td>\n",
       "      <td>-0.4767</td>\n",
       "      <td>0</td>\n",
       "      <td>0</td>\n",
       "      <td>0</td>\n",
       "      <td>0</td>\n",
       "      <td>0</td>\n",
       "      <td>0</td>\n",
       "      <td>0</td>\n",
       "      <td>1</td>\n",
       "      <td>0</td>\n",
       "      <td>0</td>\n",
       "      <td>0</td>\n",
       "      <td>7</td>\n",
       "      <td>4</td>\n",
       "      <td>10</td>\n",
       "      <td>0</td>\n",
       "    </tr>\n",
       "    <tr>\n",
       "      <th>2</th>\n",
       "      <td>wisconsin governor proposed tax giveaways corp...</td>\n",
       "      <td>0.0000</td>\n",
       "      <td>0</td>\n",
       "      <td>1</td>\n",
       "      <td>0</td>\n",
       "      <td>0</td>\n",
       "      <td>1</td>\n",
       "      <td>0</td>\n",
       "      <td>0</td>\n",
       "      <td>0</td>\n",
       "      <td>0</td>\n",
       "      <td>1</td>\n",
       "      <td>0</td>\n",
       "      <td>7</td>\n",
       "      <td>9</td>\n",
       "      <td>14</td>\n",
       "      <td>0</td>\n",
       "    </tr>\n",
       "    <tr>\n",
       "      <th>3</th>\n",
       "      <td>says her representation ex boyfriend who was m...</td>\n",
       "      <td>0.4939</td>\n",
       "      <td>0</td>\n",
       "      <td>0</td>\n",
       "      <td>1</td>\n",
       "      <td>0</td>\n",
       "      <td>0</td>\n",
       "      <td>1</td>\n",
       "      <td>0</td>\n",
       "      <td>0</td>\n",
       "      <td>1</td>\n",
       "      <td>1</td>\n",
       "      <td>0</td>\n",
       "      <td>7</td>\n",
       "      <td>9</td>\n",
       "      <td>10</td>\n",
       "      <td>1</td>\n",
       "    </tr>\n",
       "    <tr>\n",
       "      <th>4</th>\n",
       "      <td>protests wisconsin proposed collective bargain...</td>\n",
       "      <td>-0.5994</td>\n",
       "      <td>0</td>\n",
       "      <td>1</td>\n",
       "      <td>0</td>\n",
       "      <td>0</td>\n",
       "      <td>0</td>\n",
       "      <td>0</td>\n",
       "      <td>0</td>\n",
       "      <td>1</td>\n",
       "      <td>0</td>\n",
       "      <td>0</td>\n",
       "      <td>1</td>\n",
       "      <td>7</td>\n",
       "      <td>9</td>\n",
       "      <td>15</td>\n",
       "      <td>6</td>\n",
       "    </tr>\n",
       "  </tbody>\n",
       "</table>\n",
       "</div>"
      ],
      "text/plain": [
       "                                       statement-raw  feelings  \\\n",
       "0  china is south china sea military fortress lik...    0.4215   \n",
       "1  resources it takes execute months iraq war we ...   -0.4767   \n",
       "2  wisconsin governor proposed tax giveaways corp...    0.0000   \n",
       "3  says her representation ex boyfriend who was m...    0.4939   \n",
       "4  protests wisconsin proposed collective bargain...   -0.5994   \n",
       "\n",
       "   subject-ciencia_y_tecnologia  subject-economia_y_finanzas  \\\n",
       "0                             0                            0   \n",
       "1                             0                            0   \n",
       "2                             0                            1   \n",
       "3                             0                            0   \n",
       "4                             0                            1   \n",
       "\n",
       "   subject-educacion  subject-medio_ambiente_y_energia  subject-otros  \\\n",
       "0                  0                                 0              0   \n",
       "1                  0                                 0              0   \n",
       "2                  0                                 0              1   \n",
       "3                  1                                 0              0   \n",
       "4                  0                                 0              0   \n",
       "\n",
       "   subject-politica_y_gobierno  subject-relaciones_internacionales  \\\n",
       "0                            0                                   1   \n",
       "1                            0                                   0   \n",
       "2                            0                                   0   \n",
       "3                            1                                   0   \n",
       "4                            0                                   0   \n",
       "\n",
       "   subject-salud_y_bienestar  subject-seguridad_y_justicia  \\\n",
       "0                          0                             0   \n",
       "1                          1                             0   \n",
       "2                          0                             0   \n",
       "3                          0                             1   \n",
       "4                          1                             0   \n",
       "\n",
       "   subject-sociedad_y_cultura  subject-trabajo_y_empleo  speaker_grouped_cod  \\\n",
       "0                           0                         0                    2   \n",
       "1                           0                         0                    7   \n",
       "2                           1                         0                    7   \n",
       "3                           1                         0                    7   \n",
       "4                           0                         1                    7   \n",
       "\n",
       "   speaker_job_grouped_cod  state_info_grouped_cod  party_group_cod  \n",
       "0                       13                       7                6  \n",
       "1                        4                      10                0  \n",
       "2                        9                      14                0  \n",
       "3                        9                      10                1  \n",
       "4                        9                      15                6  "
      ]
     },
     "execution_count": 30,
     "metadata": {},
     "output_type": "execute_result"
    }
   ],
   "source": [
    "df[selected_features].head()"
   ]
  },
  {
   "cell_type": "markdown",
   "metadata": {},
   "source": [
    "## 5. Carga de los datos y division en entrenamiento y test"
   ]
  },
  {
   "cell_type": "markdown",
   "metadata": {},
   "source": [
    "Cargamos las caracteristicas seleccionadas en la variable X y el objetivo *Accept* en la variable y."
   ]
  },
  {
   "cell_type": "code",
   "execution_count": 33,
   "metadata": {},
   "outputs": [],
   "source": [
    "X = df[selected_features] \n",
    "y = df['label']"
   ]
  },
  {
   "cell_type": "markdown",
   "metadata": {},
   "source": [
    "Mostramos las dimensiones de ambas variables."
   ]
  },
  {
   "cell_type": "code",
   "execution_count": 35,
   "metadata": {},
   "outputs": [
    {
     "name": "stdout",
     "output_type": "stream",
     "text": [
      "Dimensiones del conjunto de datos: 8950 filas y 17 columnas\n",
      "Dimensiones del conjunto de datos: 8950 filas y 1 columna\n"
     ]
    }
   ],
   "source": [
    "print(f\"Dimensiones del conjunto de datos: {X.shape[0]} filas y {X.shape[1]} columnas\")\n",
    "print(f\"Dimensiones del conjunto de datos: {y.shape[0]} filas y 1 columna\")"
   ]
  },
  {
   "cell_type": "markdown",
   "metadata": {},
   "source": [
    "Obtenemos la distribución del objetivo *label*."
   ]
  },
  {
   "cell_type": "code",
   "execution_count": 37,
   "metadata": {},
   "outputs": [
    {
     "name": "stdout",
     "output_type": "stream",
     "text": [
      "label\n",
      "1    64.748603\n",
      "0    35.251397\n",
      "Name: count, dtype: float64\n"
     ]
    }
   ],
   "source": [
    "# Calcular los conteos de valores\n",
    "counts = pd.Series(y).value_counts()\n",
    "\n",
    "# Calcular los porcentajes\n",
    "percentages = (counts / len(y)) * 100\n",
    "\n",
    "# Mostrar los resultados\n",
    "print(percentages)"
   ]
  },
  {
   "cell_type": "markdown",
   "metadata": {},
   "source": [
    "En definitiva, observamos que esta desbalanceado, aunque menos que en el primer *challenge*."
   ]
  },
  {
   "cell_type": "markdown",
   "metadata": {},
   "source": [
    "Se separa ya en entrenamiento y test para no falsear los datos del test al realizar el balanceo."
   ]
  },
  {
   "cell_type": "code",
   "execution_count": 40,
   "metadata": {},
   "outputs": [],
   "source": [
    "X_train, X_test, y_train, y_test = train_test_split(X, y, test_size=0.2, random_state=seed)"
   ]
  },
  {
   "cell_type": "markdown",
   "metadata": {},
   "source": [
    "## 6. Preprocesado de los datos"
   ]
  },
  {
   "cell_type": "markdown",
   "metadata": {},
   "source": [
    "### 6.1 Introduccion"
   ]
  },
  {
   "cell_type": "markdown",
   "metadata": {},
   "source": [
    "Durante el anterior *challenge*, nos dimos cuenta que fue un error realizar la selección de clasificadores antes de uniformar el preprocesado de los mismos. Por ello, esta vez este *notebook* se está realizando antes.\n",
    "\n",
    "Se va a reutilizar el trabajo realizado en el anterior *challenge*, adaptándolo a las nuevas necesidades de este reto. En esta ocasión, todos los preprocesamientos requieren aplicar TF-IDF sobre el statement para que pueda ser clasificado correctamente. Además, se continuará utilizando *SMOTE* y *RandomUnderSampler* para equilibrar el conjunto de entrenamiento, teniendo en cuenta que, como se comentó en el apartado anterior, este dataset no presenta un desbalance tan acusado.\n",
    "\n",
    "Para reducir la dimensionalidad tras aplicar la TF-IDF se utilizaba una *PCA* (ya que es lo que se utilizó para el primer *challenge*). Tras avanzar en las clases teóricas vimos que para el procesamiento de texto funciona mejor aplicar técnicas de *LSA*, por ello cambiamos el uso de la *PCA* por una reducción por *SVD* de *sklearn*, especificamente *TruncatedSVD*.\n",
    "\n",
    "Además, en el notebook referido a este mismo apartado del anterior *challenge* se utilizaba un K-fold para evaluar los distintos preprocesados. Como ya nos dimos en cuenta el usar *SMOTE* falseaba dichos resultados ya que generaba más valores de la clase minoritaria pero al ser tan similares los adivinaba mucho mejor de lo que realmente lo hacia con los datos nuevos. Por ello esta vez se va a evaluar directamente con el *train_test_split*. Hay que tener en cuenta que esto otorga otros inconvenientes como tener unos resultados con una mayor varianza y menos fiables.\n",
    "\n",
    "Se va a añadir \"_S\" o \"_N\" para si se estandarizan o no los variables codificadas y \"_O\", \"_U\" y \"_OU\" como en el anetrio *challenge* para el remuestreo, quedando por lo tanto los siguientes casos de preprocesado.\n",
    "* *_S_O*&nbsp;:&nbsp;&nbsp;*_Standard_Over*, es decir, se estandarizan las variables codificadas y se realiza solamente oversampling.\n",
    "* *_N_O*&nbsp;:&nbsp;&nbsp;*_NonStandard_Over*, es decir, no se estandariza nada y se realiza solamente oversampling.\n",
    "* *_S_U*&nbsp;:&nbsp;&nbsp;*_Standard_Under*, es decir, se estandarizan las variables codificadas y se realiza solamente undersampling.\n",
    "* *_N_U*&nbsp;:&nbsp;&nbsp;*_NonStandard_Under*, es decir, no se estandariza nada y se realiza solamente undersampling.\n",
    "* *_S_OU*&nbsp;:&nbsp;&nbsp;*_Standard_OverUnder*, es decir, se estandarizan las variables codificadas y se realiza tanto oversampling como undersampling.\n",
    "* *_N_OU*&nbsp;:&nbsp;&nbsp;*_NonStandard_UnderOver*, es decir, no se estandariza nada y se realiza tanto oversampling como undersampling.\n",
    "\n",
    "También cabe mencionar, que se empezó a ejecutar el primer caso pero tardaba demasiado tiempo en hacer la reducción de dimensionalidad. Esto se debe a que estabamos introduciendo 9000 features tras aplicar el TF-IDF. \n",
    "\n",
    "Por ello, se decidió añadir los parámetros *min_df* para fijar el número de documentos en los que al menos debia aparecer, *max_df* el porcentaje de frencuencía máximo que debia aparecer (no hacia nada ya que durante la limpieza de los datos ya se quitaron las *stopwords* que es lo que se suele eliminar con ello) y *ngram_range* para no analizar solamente palabras sino también parejas de palabras. \n",
    "\n",
    "Además se añadio un *n_components* en el *TruncatedSVD* para recortar bastante tiempo. La idea era quedarnos con un ratio de explicabilidad entorno al 65% y el 85% (un valor más alto no reduciría casi dimensionalidad), asi que fijamos un *n_components* a 1000. Con este valor nos orientamos de forma aproximada de cuanto podemos aumentarlo para fijar bien el ratio. Si pusieramos un valor superior a 4000 sería absurdo porque superaría con creces el ratio , y aumentaría con ello el tiempo de ejecución, para posteriormente recortar el número de componentes.\n",
    "\n",
    "Asimismo, se pensó que era mejor aplicar la reducción de dimensionalidad a las *features* resultantes del TF-IDF por separado. Esto se debe a que al ser tantas columnas pensamos que podría provocar que se perdiese la información del resto de *features*."
   ]
  },
  {
   "cell_type": "markdown",
   "metadata": {},
   "source": [
    "### 6.2 Casos de preprocesado"
   ]
  },
  {
   "cell_type": "markdown",
   "metadata": {},
   "source": [
    "#### - Tratamiento común"
   ]
  },
  {
   "cell_type": "markdown",
   "metadata": {},
   "source": [
    "Tratamos solamente el texto del conjunto de train y test."
   ]
  },
  {
   "cell_type": "markdown",
   "metadata": {},
   "source": [
    "Primero vemos las dimensiones para corroborar que solo hemos cogido el texto."
   ]
  },
  {
   "cell_type": "code",
   "execution_count": 48,
   "metadata": {},
   "outputs": [
    {
     "name": "stdout",
     "output_type": "stream",
     "text": [
      "Dimensiones del conjunto de datos: 7160 filas y 1 columna\n",
      "Dimensiones del conjunto de datos: 1790 filas y 1 columna\n"
     ]
    }
   ],
   "source": [
    "print(f\"Dimensiones del conjunto de datos: {X_train['statement-raw'].shape[0]} filas y 1 columna\")\n",
    "print(f\"Dimensiones del conjunto de datos: {X_test['statement-raw'].shape[0]} filas y 1 columna\")"
   ]
  },
  {
   "cell_type": "markdown",
   "metadata": {},
   "source": [
    "Después, aplicamos el *TF-IDF*."
   ]
  },
  {
   "cell_type": "code",
   "execution_count": 50,
   "metadata": {},
   "outputs": [],
   "source": [
    "vectorizador = TfidfVectorizer(min_df=5, max_df=0.8, ngram_range=(1,2))\n",
    "vectorizador.fit(X_train['statement-raw'])\n",
    "\n",
    "X_text_train = vectorizador.transform(X_train['statement-raw'])\n",
    "X_text_test = vectorizador.transform(X_test['statement-raw'])"
   ]
  },
  {
   "cell_type": "markdown",
   "metadata": {},
   "source": [
    "Corroboramos las dimensiones tras aplicar el *TF-IDF*."
   ]
  },
  {
   "cell_type": "code",
   "execution_count": 52,
   "metadata": {},
   "outputs": [
    {
     "name": "stdout",
     "output_type": "stream",
     "text": [
      "Dimensiones del conjunto de datos: 7160 filas y 3657 columnas\n",
      "Dimensiones del conjunto de datos: 1790 filas y 3657 columnas\n"
     ]
    }
   ],
   "source": [
    "print(f\"Dimensiones del conjunto de datos: {X_text_train.shape[0]} filas y {X_text_train.shape[1]} columnas\")\n",
    "print(f\"Dimensiones del conjunto de datos: {X_text_test.shape[0]} filas y {X_text_test.shape[1]} columnas\")"
   ]
  },
  {
   "cell_type": "markdown",
   "metadata": {},
   "source": [
    "Aplicamos un *SVD* para reducir la dimensionalidad."
   ]
  },
  {
   "cell_type": "code",
   "execution_count": 54,
   "metadata": {},
   "outputs": [],
   "source": [
    "svd = TruncatedSVD(n_components=1000, random_state=seed)\n",
    "svd.fit(X_text_train)\n",
    "\n",
    "X_svd_full_train = svd.transform(X_text_train)\n",
    "X_svd_full_test = svd.transform(X_text_test)"
   ]
  },
  {
   "cell_type": "markdown",
   "metadata": {},
   "source": [
    "Buscamos quedarnos solamente con los componentes que nos permitan tener un de ratio de explicabilidad determinado."
   ]
  },
  {
   "cell_type": "code",
   "execution_count": 56,
   "metadata": {},
   "outputs": [
    {
     "data": {
      "image/png": "[encoded data removed]",
      "text/plain": [
       "<Figure size 1000x600 with 1 Axes>"
      ]
     },
     "metadata": {},
     "output_type": "display_data"
    }
   ],
   "source": [
    "# Calculate cumulative explained variance ratio\n",
    "cumulative_variance_ratio = np.cumsum(svd.explained_variance_ratio_)\n",
    "\n",
    "# Plot explained variance ratio\n",
    "plt.figure(figsize=(10, 6))\n",
    "plt.plot(range(1, len(cumulative_variance_ratio) + 1), \n",
    "         cumulative_variance_ratio, 'bo-')\n",
    "plt.xlabel('Número de Componentes')\n",
    "plt.ylabel('Ratio de Varianza Explicada Acumulada')\n",
    "plt.title('Ratio Varianza Explicada vs. Número Componentes')\n",
    "plt.grid(True)\n",
    "\n",
    "# Add threshold line\n",
    "plt.axhline(y=0.7, color='r', linestyle='--', \n",
    "            label='Umbral del 70% de varianza')\n",
    "plt.legend()\n",
    "plt.show()"
   ]
  },
  {
   "cell_type": "markdown",
   "metadata": {},
   "source": [
    "Y ahora, seleccionamos el número de componentes, así como el desglose que aporta cada uno de ellos al ratio de  explicabilidad."
   ]
  },
  {
   "cell_type": "code",
   "execution_count": 58,
   "metadata": {
    "scrolled": true
   },
   "outputs": [
    {
     "name": "stdout",
     "output_type": "stream",
     "text": [
      "Número de componentes seleccionados: 898\n",
      "Varianza explicada con 898 componentes: 0.7001\n",
      "\n",
      "Varianza explicada por cada componente:\n",
      "Componente 1: 0.0023 (0.23%)\n",
      "Componente 2: 0.0064 (0.64%)\n",
      "Componente 3: 0.0062 (0.62%)\n",
      "Componente 4: 0.0051 (0.51%)\n",
      "Componente 5: 0.0047 (0.47%)\n",
      "Componente 6: 0.0046 (0.46%)\n",
      "Componente 7: 0.0043 (0.43%)\n",
      "Componente 8: 0.0042 (0.42%)\n",
      "Componente 9: 0.0039 (0.39%)\n",
      "Componente 10: 0.0038 (0.38%)\n",
      "Componente 11: 0.0036 (0.36%)\n",
      "Componente 12: 0.0035 (0.35%)\n",
      "Componente 13: 0.0034 (0.34%)\n",
      "Componente 14: 0.0033 (0.33%)\n",
      "Componente 15: 0.0032 (0.32%)\n",
      "Componente 16: 0.0032 (0.32%)\n",
      "Componente 17: 0.0030 (0.30%)\n",
      "Componente 18: 0.0030 (0.30%)\n",
      "Componente 19: 0.0030 (0.30%)\n",
      "Componente 20: 0.0029 (0.29%)\n",
      "Componente 21: 0.0028 (0.28%)\n",
      "Componente 22: 0.0028 (0.28%)\n",
      "Componente 23: 0.0028 (0.28%)\n",
      "Componente 24: 0.0027 (0.27%)\n",
      "Componente 25: 0.0027 (0.27%)\n",
      "Componente 26: 0.0027 (0.27%)\n",
      "Componente 27: 0.0026 (0.26%)\n",
      "Componente 28: 0.0026 (0.26%)\n",
      "Componente 29: 0.0026 (0.26%)\n",
      "Componente 30: 0.0025 (0.25%)\n",
      "Componente 31: 0.0025 (0.25%)\n",
      "Componente 32: 0.0025 (0.25%)\n",
      "Componente 33: 0.0024 (0.24%)\n",
      "Componente 34: 0.0024 (0.24%)\n",
      "Componente 35: 0.0024 (0.24%)\n",
      "Componente 36: 0.0023 (0.23%)\n",
      "Componente 37: 0.0023 (0.23%)\n",
      "Componente 38: 0.0023 (0.23%)\n",
      "Componente 39: 0.0023 (0.23%)\n",
      "Componente 40: 0.0022 (0.22%)\n",
      "Componente 41: 0.0022 (0.22%)\n",
      "Componente 42: 0.0022 (0.22%)\n",
      "Componente 43: 0.0022 (0.22%)\n",
      "Componente 44: 0.0021 (0.21%)\n",
      "Componente 45: 0.0021 (0.21%)\n",
      "Componente 46: 0.0021 (0.21%)\n",
      "Componente 47: 0.0021 (0.21%)\n",
      "Componente 48: 0.0021 (0.21%)\n",
      "Componente 49: 0.0020 (0.20%)\n",
      "Componente 50: 0.0020 (0.20%)\n",
      "Componente 51: 0.0020 (0.20%)\n",
      "Componente 52: 0.0020 (0.20%)\n",
      "Componente 53: 0.0019 (0.19%)\n",
      "Componente 54: 0.0019 (0.19%)\n",
      "Componente 55: 0.0019 (0.19%)\n",
      "Componente 56: 0.0019 (0.19%)\n",
      "Componente 57: 0.0019 (0.19%)\n",
      "Componente 58: 0.0019 (0.19%)\n",
      "Componente 59: 0.0019 (0.19%)\n",
      "Componente 60: 0.0019 (0.19%)\n",
      "Componente 61: 0.0018 (0.18%)\n",
      "Componente 62: 0.0018 (0.18%)\n",
      "Componente 63: 0.0018 (0.18%)\n",
      "Componente 64: 0.0018 (0.18%)\n",
      "Componente 65: 0.0018 (0.18%)\n",
      "Componente 66: 0.0018 (0.18%)\n",
      "Componente 67: 0.0017 (0.17%)\n",
      "Componente 68: 0.0017 (0.17%)\n",
      "Componente 69: 0.0017 (0.17%)\n",
      "Componente 70: 0.0017 (0.17%)\n",
      "Componente 71: 0.0017 (0.17%)\n",
      "Componente 72: 0.0017 (0.17%)\n",
      "Componente 73: 0.0017 (0.17%)\n",
      "Componente 74: 0.0017 (0.17%)\n",
      "Componente 75: 0.0016 (0.16%)\n",
      "Componente 76: 0.0016 (0.16%)\n",
      "Componente 77: 0.0016 (0.16%)\n",
      "Componente 78: 0.0016 (0.16%)\n",
      "Componente 79: 0.0016 (0.16%)\n",
      "Componente 80: 0.0016 (0.16%)\n",
      "Componente 81: 0.0016 (0.16%)\n",
      "Componente 82: 0.0016 (0.16%)\n",
      "Componente 83: 0.0016 (0.16%)\n",
      "Componente 84: 0.0015 (0.15%)\n",
      "Componente 85: 0.0015 (0.15%)\n",
      "Componente 86: 0.0015 (0.15%)\n",
      "Componente 87: 0.0015 (0.15%)\n",
      "Componente 88: 0.0015 (0.15%)\n",
      "Componente 89: 0.0015 (0.15%)\n",
      "Componente 90: 0.0015 (0.15%)\n",
      "Componente 91: 0.0015 (0.15%)\n",
      "Componente 92: 0.0015 (0.15%)\n",
      "Componente 93: 0.0015 (0.15%)\n",
      "Componente 94: 0.0015 (0.15%)\n",
      "Componente 95: 0.0015 (0.15%)\n",
      "Componente 96: 0.0014 (0.14%)\n",
      "Componente 97: 0.0014 (0.14%)\n",
      "Componente 98: 0.0014 (0.14%)\n",
      "Componente 99: 0.0014 (0.14%)\n",
      "Componente 100: 0.0014 (0.14%)\n",
      "Componente 101: 0.0014 (0.14%)\n",
      "Componente 102: 0.0014 (0.14%)\n",
      "Componente 103: 0.0014 (0.14%)\n",
      "Componente 104: 0.0014 (0.14%)\n",
      "Componente 105: 0.0014 (0.14%)\n",
      "Componente 106: 0.0014 (0.14%)\n",
      "Componente 107: 0.0014 (0.14%)\n",
      "Componente 108: 0.0014 (0.14%)\n",
      "Componente 109: 0.0013 (0.13%)\n",
      "Componente 110: 0.0013 (0.13%)\n",
      "Componente 111: 0.0013 (0.13%)\n",
      "Componente 112: 0.0013 (0.13%)\n",
      "Componente 113: 0.0013 (0.13%)\n",
      "Componente 114: 0.0013 (0.13%)\n",
      "Componente 115: 0.0013 (0.13%)\n",
      "Componente 116: 0.0013 (0.13%)\n",
      "Componente 117: 0.0013 (0.13%)\n",
      "Componente 118: 0.0013 (0.13%)\n",
      "Componente 119: 0.0013 (0.13%)\n",
      "Componente 120: 0.0013 (0.13%)\n",
      "Componente 121: 0.0013 (0.13%)\n",
      "Componente 122: 0.0013 (0.13%)\n",
      "Componente 123: 0.0012 (0.12%)\n",
      "Componente 124: 0.0012 (0.12%)\n",
      "Componente 125: 0.0012 (0.12%)\n",
      "Componente 126: 0.0012 (0.12%)\n",
      "Componente 127: 0.0012 (0.12%)\n",
      "Componente 128: 0.0012 (0.12%)\n",
      "Componente 129: 0.0012 (0.12%)\n",
      "Componente 130: 0.0012 (0.12%)\n",
      "Componente 131: 0.0012 (0.12%)\n",
      "Componente 132: 0.0012 (0.12%)\n",
      "Componente 133: 0.0012 (0.12%)\n",
      "Componente 134: 0.0012 (0.12%)\n",
      "Componente 135: 0.0012 (0.12%)\n",
      "Componente 136: 0.0012 (0.12%)\n",
      "Componente 137: 0.0012 (0.12%)\n",
      "Componente 138: 0.0012 (0.12%)\n",
      "Componente 139: 0.0012 (0.12%)\n",
      "Componente 140: 0.0012 (0.12%)\n",
      "Componente 141: 0.0012 (0.12%)\n",
      "Componente 142: 0.0011 (0.11%)\n",
      "Componente 143: 0.0011 (0.11%)\n",
      "Componente 144: 0.0011 (0.11%)\n",
      "Componente 145: 0.0011 (0.11%)\n",
      "Componente 146: 0.0011 (0.11%)\n",
      "Componente 147: 0.0011 (0.11%)\n",
      "Componente 148: 0.0011 (0.11%)\n",
      "Componente 149: 0.0011 (0.11%)\n",
      "Componente 150: 0.0011 (0.11%)\n",
      "Componente 151: 0.0011 (0.11%)\n",
      "Componente 152: 0.0011 (0.11%)\n",
      "Componente 153: 0.0011 (0.11%)\n",
      "Componente 154: 0.0011 (0.11%)\n",
      "Componente 155: 0.0011 (0.11%)\n",
      "Componente 156: 0.0011 (0.11%)\n",
      "Componente 157: 0.0011 (0.11%)\n",
      "Componente 158: 0.0011 (0.11%)\n",
      "Componente 159: 0.0011 (0.11%)\n",
      "Componente 160: 0.0011 (0.11%)\n",
      "Componente 161: 0.0011 (0.11%)\n",
      "Componente 162: 0.0011 (0.11%)\n",
      "Componente 163: 0.0011 (0.11%)\n",
      "Componente 164: 0.0010 (0.10%)\n",
      "Componente 165: 0.0010 (0.10%)\n",
      "Componente 166: 0.0010 (0.10%)\n",
      "Componente 167: 0.0010 (0.10%)\n",
      "Componente 168: 0.0010 (0.10%)\n",
      "Componente 169: 0.0010 (0.10%)\n",
      "Componente 170: 0.0010 (0.10%)\n",
      "Componente 171: 0.0010 (0.10%)\n",
      "Componente 172: 0.0010 (0.10%)\n",
      "Componente 173: 0.0010 (0.10%)\n",
      "Componente 174: 0.0010 (0.10%)\n",
      "Componente 175: 0.0010 (0.10%)\n",
      "Componente 176: 0.0010 (0.10%)\n",
      "Componente 177: 0.0010 (0.10%)\n",
      "Componente 178: 0.0010 (0.10%)\n",
      "Componente 179: 0.0010 (0.10%)\n",
      "Componente 180: 0.0010 (0.10%)\n",
      "Componente 181: 0.0010 (0.10%)\n",
      "Componente 182: 0.0010 (0.10%)\n",
      "Componente 183: 0.0010 (0.10%)\n",
      "Componente 184: 0.0010 (0.10%)\n",
      "Componente 185: 0.0010 (0.10%)\n",
      "Componente 186: 0.0010 (0.10%)\n",
      "Componente 187: 0.0010 (0.10%)\n",
      "Componente 188: 0.0010 (0.10%)\n",
      "Componente 189: 0.0010 (0.10%)\n",
      "Componente 190: 0.0010 (0.10%)\n",
      "Componente 191: 0.0010 (0.10%)\n",
      "Componente 192: 0.0010 (0.10%)\n",
      "Componente 193: 0.0010 (0.10%)\n",
      "Componente 194: 0.0010 (0.10%)\n",
      "Componente 195: 0.0010 (0.10%)\n",
      "Componente 196: 0.0009 (0.09%)\n",
      "Componente 197: 0.0009 (0.09%)\n",
      "Componente 198: 0.0009 (0.09%)\n",
      "Componente 199: 0.0009 (0.09%)\n",
      "Componente 200: 0.0009 (0.09%)\n",
      "Componente 201: 0.0009 (0.09%)\n",
      "Componente 202: 0.0009 (0.09%)\n",
      "Componente 203: 0.0009 (0.09%)\n",
      "Componente 204: 0.0009 (0.09%)\n",
      "Componente 205: 0.0009 (0.09%)\n",
      "Componente 206: 0.0009 (0.09%)\n",
      "Componente 207: 0.0009 (0.09%)\n",
      "Componente 208: 0.0009 (0.09%)\n",
      "Componente 209: 0.0009 (0.09%)\n",
      "Componente 210: 0.0009 (0.09%)\n",
      "Componente 211: 0.0009 (0.09%)\n",
      "Componente 212: 0.0009 (0.09%)\n",
      "Componente 213: 0.0009 (0.09%)\n",
      "Componente 214: 0.0009 (0.09%)\n",
      "Componente 215: 0.0009 (0.09%)\n",
      "Componente 216: 0.0009 (0.09%)\n",
      "Componente 217: 0.0009 (0.09%)\n",
      "Componente 218: 0.0009 (0.09%)\n",
      "Componente 219: 0.0009 (0.09%)\n",
      "Componente 220: 0.0009 (0.09%)\n",
      "Componente 221: 0.0009 (0.09%)\n",
      "Componente 222: 0.0009 (0.09%)\n",
      "Componente 223: 0.0009 (0.09%)\n",
      "Componente 224: 0.0009 (0.09%)\n",
      "Componente 225: 0.0009 (0.09%)\n",
      "Componente 226: 0.0009 (0.09%)\n",
      "Componente 227: 0.0009 (0.09%)\n",
      "Componente 228: 0.0009 (0.09%)\n",
      "Componente 229: 0.0009 (0.09%)\n",
      "Componente 230: 0.0009 (0.09%)\n",
      "Componente 231: 0.0009 (0.09%)\n",
      "Componente 232: 0.0008 (0.08%)\n",
      "Componente 233: 0.0008 (0.08%)\n",
      "Componente 234: 0.0008 (0.08%)\n",
      "Componente 235: 0.0008 (0.08%)\n",
      "Componente 236: 0.0008 (0.08%)\n",
      "Componente 237: 0.0008 (0.08%)\n",
      "Componente 238: 0.0008 (0.08%)\n",
      "Componente 239: 0.0008 (0.08%)\n",
      "Componente 240: 0.0008 (0.08%)\n",
      "Componente 241: 0.0008 (0.08%)\n",
      "Componente 242: 0.0008 (0.08%)\n",
      "Componente 243: 0.0008 (0.08%)\n",
      "Componente 244: 0.0008 (0.08%)\n",
      "Componente 245: 0.0008 (0.08%)\n",
      "Componente 246: 0.0008 (0.08%)\n",
      "Componente 247: 0.0008 (0.08%)\n",
      "Componente 248: 0.0008 (0.08%)\n",
      "Componente 249: 0.0008 (0.08%)\n",
      "Componente 250: 0.0008 (0.08%)\n",
      "Componente 251: 0.0008 (0.08%)\n",
      "Componente 252: 0.0008 (0.08%)\n",
      "Componente 253: 0.0008 (0.08%)\n",
      "Componente 254: 0.0008 (0.08%)\n",
      "Componente 255: 0.0008 (0.08%)\n",
      "Componente 256: 0.0008 (0.08%)\n",
      "Componente 257: 0.0008 (0.08%)\n",
      "Componente 258: 0.0008 (0.08%)\n",
      "Componente 259: 0.0008 (0.08%)\n",
      "Componente 260: 0.0008 (0.08%)\n",
      "Componente 261: 0.0008 (0.08%)\n",
      "Componente 262: 0.0008 (0.08%)\n",
      "Componente 263: 0.0008 (0.08%)\n",
      "Componente 264: 0.0008 (0.08%)\n",
      "Componente 265: 0.0008 (0.08%)\n",
      "Componente 266: 0.0008 (0.08%)\n",
      "Componente 267: 0.0008 (0.08%)\n",
      "Componente 268: 0.0008 (0.08%)\n",
      "Componente 269: 0.0008 (0.08%)\n",
      "Componente 270: 0.0008 (0.08%)\n",
      "Componente 271: 0.0008 (0.08%)\n",
      "Componente 272: 0.0008 (0.08%)\n",
      "Componente 273: 0.0008 (0.08%)\n",
      "Componente 274: 0.0008 (0.08%)\n",
      "Componente 275: 0.0008 (0.08%)\n",
      "Componente 276: 0.0008 (0.08%)\n",
      "Componente 277: 0.0007 (0.07%)\n",
      "Componente 278: 0.0007 (0.07%)\n",
      "Componente 279: 0.0007 (0.07%)\n",
      "Componente 280: 0.0007 (0.07%)\n",
      "Componente 281: 0.0007 (0.07%)\n",
      "Componente 282: 0.0007 (0.07%)\n",
      "Componente 283: 0.0007 (0.07%)\n",
      "Componente 284: 0.0007 (0.07%)\n",
      "Componente 285: 0.0007 (0.07%)\n",
      "Componente 286: 0.0007 (0.07%)\n",
      "Componente 287: 0.0007 (0.07%)\n",
      "Componente 288: 0.0007 (0.07%)\n",
      "Componente 289: 0.0007 (0.07%)\n",
      "Componente 290: 0.0007 (0.07%)\n",
      "Componente 291: 0.0007 (0.07%)\n",
      "Componente 292: 0.0007 (0.07%)\n",
      "Componente 293: 0.0007 (0.07%)\n",
      "Componente 294: 0.0007 (0.07%)\n",
      "Componente 295: 0.0007 (0.07%)\n",
      "Componente 296: 0.0007 (0.07%)\n",
      "Componente 297: 0.0007 (0.07%)\n",
      "Componente 298: 0.0007 (0.07%)\n",
      "Componente 299: 0.0007 (0.07%)\n",
      "Componente 300: 0.0007 (0.07%)\n",
      "Componente 301: 0.0007 (0.07%)\n",
      "Componente 302: 0.0007 (0.07%)\n",
      "Componente 303: 0.0007 (0.07%)\n",
      "Componente 304: 0.0007 (0.07%)\n",
      "Componente 305: 0.0007 (0.07%)\n",
      "Componente 306: 0.0007 (0.07%)\n",
      "Componente 307: 0.0007 (0.07%)\n",
      "Componente 308: 0.0007 (0.07%)\n",
      "Componente 309: 0.0007 (0.07%)\n",
      "Componente 310: 0.0007 (0.07%)\n",
      "Componente 311: 0.0007 (0.07%)\n",
      "Componente 312: 0.0007 (0.07%)\n",
      "Componente 313: 0.0007 (0.07%)\n",
      "Componente 314: 0.0007 (0.07%)\n",
      "Componente 315: 0.0007 (0.07%)\n",
      "Componente 316: 0.0007 (0.07%)\n",
      "Componente 317: 0.0007 (0.07%)\n",
      "Componente 318: 0.0007 (0.07%)\n",
      "Componente 319: 0.0007 (0.07%)\n",
      "Componente 320: 0.0007 (0.07%)\n",
      "Componente 321: 0.0007 (0.07%)\n",
      "Componente 322: 0.0007 (0.07%)\n",
      "Componente 323: 0.0007 (0.07%)\n",
      "Componente 324: 0.0007 (0.07%)\n",
      "Componente 325: 0.0007 (0.07%)\n",
      "Componente 326: 0.0007 (0.07%)\n",
      "Componente 327: 0.0007 (0.07%)\n",
      "Componente 328: 0.0007 (0.07%)\n",
      "Componente 329: 0.0007 (0.07%)\n",
      "Componente 330: 0.0007 (0.07%)\n",
      "Componente 331: 0.0007 (0.07%)\n",
      "Componente 332: 0.0007 (0.07%)\n",
      "Componente 333: 0.0007 (0.07%)\n",
      "Componente 334: 0.0007 (0.07%)\n",
      "Componente 335: 0.0007 (0.07%)\n",
      "Componente 336: 0.0007 (0.07%)\n",
      "Componente 337: 0.0007 (0.07%)\n",
      "Componente 338: 0.0007 (0.07%)\n",
      "Componente 339: 0.0007 (0.07%)\n",
      "Componente 340: 0.0007 (0.07%)\n",
      "Componente 341: 0.0007 (0.07%)\n",
      "Componente 342: 0.0007 (0.07%)\n",
      "Componente 343: 0.0007 (0.07%)\n",
      "Componente 344: 0.0006 (0.06%)\n",
      "Componente 345: 0.0006 (0.06%)\n",
      "Componente 346: 0.0006 (0.06%)\n",
      "Componente 347: 0.0006 (0.06%)\n",
      "Componente 348: 0.0006 (0.06%)\n",
      "Componente 349: 0.0006 (0.06%)\n",
      "Componente 350: 0.0006 (0.06%)\n",
      "Componente 351: 0.0006 (0.06%)\n",
      "Componente 352: 0.0006 (0.06%)\n",
      "Componente 353: 0.0006 (0.06%)\n",
      "Componente 354: 0.0006 (0.06%)\n",
      "Componente 355: 0.0006 (0.06%)\n",
      "Componente 356: 0.0006 (0.06%)\n",
      "Componente 357: 0.0006 (0.06%)\n",
      "Componente 358: 0.0006 (0.06%)\n",
      "Componente 359: 0.0006 (0.06%)\n",
      "Componente 360: 0.0006 (0.06%)\n",
      "Componente 361: 0.0006 (0.06%)\n",
      "Componente 362: 0.0006 (0.06%)\n",
      "Componente 363: 0.0006 (0.06%)\n",
      "Componente 364: 0.0006 (0.06%)\n",
      "Componente 365: 0.0006 (0.06%)\n",
      "Componente 366: 0.0006 (0.06%)\n",
      "Componente 367: 0.0006 (0.06%)\n",
      "Componente 368: 0.0006 (0.06%)\n",
      "Componente 369: 0.0006 (0.06%)\n",
      "Componente 370: 0.0006 (0.06%)\n",
      "Componente 371: 0.0006 (0.06%)\n",
      "Componente 372: 0.0006 (0.06%)\n",
      "Componente 373: 0.0006 (0.06%)\n",
      "Componente 374: 0.0006 (0.06%)\n",
      "Componente 375: 0.0006 (0.06%)\n",
      "Componente 376: 0.0006 (0.06%)\n",
      "Componente 377: 0.0006 (0.06%)\n",
      "Componente 378: 0.0006 (0.06%)\n",
      "Componente 379: 0.0006 (0.06%)\n",
      "Componente 380: 0.0006 (0.06%)\n",
      "Componente 381: 0.0006 (0.06%)\n",
      "Componente 382: 0.0006 (0.06%)\n",
      "Componente 383: 0.0006 (0.06%)\n",
      "Componente 384: 0.0006 (0.06%)\n",
      "Componente 385: 0.0006 (0.06%)\n",
      "Componente 386: 0.0006 (0.06%)\n",
      "Componente 387: 0.0006 (0.06%)\n",
      "Componente 388: 0.0006 (0.06%)\n",
      "Componente 389: 0.0006 (0.06%)\n",
      "Componente 390: 0.0006 (0.06%)\n",
      "Componente 391: 0.0006 (0.06%)\n",
      "Componente 392: 0.0006 (0.06%)\n",
      "Componente 393: 0.0006 (0.06%)\n",
      "Componente 394: 0.0006 (0.06%)\n",
      "Componente 395: 0.0006 (0.06%)\n",
      "Componente 396: 0.0006 (0.06%)\n",
      "Componente 397: 0.0006 (0.06%)\n",
      "Componente 398: 0.0006 (0.06%)\n",
      "Componente 399: 0.0006 (0.06%)\n",
      "Componente 400: 0.0006 (0.06%)\n",
      "Componente 401: 0.0006 (0.06%)\n",
      "Componente 402: 0.0006 (0.06%)\n",
      "Componente 403: 0.0006 (0.06%)\n",
      "Componente 404: 0.0006 (0.06%)\n",
      "Componente 405: 0.0006 (0.06%)\n",
      "Componente 406: 0.0006 (0.06%)\n",
      "Componente 407: 0.0006 (0.06%)\n",
      "Componente 408: 0.0006 (0.06%)\n",
      "Componente 409: 0.0006 (0.06%)\n",
      "Componente 410: 0.0006 (0.06%)\n",
      "Componente 411: 0.0006 (0.06%)\n",
      "Componente 412: 0.0006 (0.06%)\n",
      "Componente 413: 0.0006 (0.06%)\n",
      "Componente 414: 0.0006 (0.06%)\n",
      "Componente 415: 0.0006 (0.06%)\n",
      "Componente 416: 0.0006 (0.06%)\n",
      "Componente 417: 0.0006 (0.06%)\n",
      "Componente 418: 0.0006 (0.06%)\n",
      "Componente 419: 0.0006 (0.06%)\n",
      "Componente 420: 0.0006 (0.06%)\n",
      "Componente 421: 0.0006 (0.06%)\n",
      "Componente 422: 0.0006 (0.06%)\n",
      "Componente 423: 0.0006 (0.06%)\n",
      "Componente 424: 0.0006 (0.06%)\n",
      "Componente 425: 0.0006 (0.06%)\n",
      "Componente 426: 0.0006 (0.06%)\n",
      "Componente 427: 0.0006 (0.06%)\n",
      "Componente 428: 0.0006 (0.06%)\n",
      "Componente 429: 0.0006 (0.06%)\n",
      "Componente 430: 0.0006 (0.06%)\n",
      "Componente 431: 0.0006 (0.06%)\n",
      "Componente 432: 0.0006 (0.06%)\n",
      "Componente 433: 0.0006 (0.06%)\n",
      "Componente 434: 0.0006 (0.06%)\n",
      "Componente 435: 0.0006 (0.06%)\n",
      "Componente 436: 0.0006 (0.06%)\n",
      "Componente 437: 0.0006 (0.06%)\n",
      "Componente 438: 0.0005 (0.05%)\n",
      "Componente 439: 0.0005 (0.05%)\n",
      "Componente 440: 0.0005 (0.05%)\n",
      "Componente 441: 0.0005 (0.05%)\n",
      "Componente 442: 0.0005 (0.05%)\n",
      "Componente 443: 0.0005 (0.05%)\n",
      "Componente 444: 0.0005 (0.05%)\n",
      "Componente 445: 0.0005 (0.05%)\n",
      "Componente 446: 0.0005 (0.05%)\n",
      "Componente 447: 0.0005 (0.05%)\n",
      "Componente 448: 0.0005 (0.05%)\n",
      "Componente 449: 0.0005 (0.05%)\n",
      "Componente 450: 0.0005 (0.05%)\n",
      "Componente 451: 0.0005 (0.05%)\n",
      "Componente 452: 0.0005 (0.05%)\n",
      "Componente 453: 0.0005 (0.05%)\n",
      "Componente 454: 0.0005 (0.05%)\n",
      "Componente 455: 0.0005 (0.05%)\n",
      "Componente 456: 0.0005 (0.05%)\n",
      "Componente 457: 0.0005 (0.05%)\n",
      "Componente 458: 0.0005 (0.05%)\n",
      "Componente 459: 0.0005 (0.05%)\n",
      "Componente 460: 0.0005 (0.05%)\n",
      "Componente 461: 0.0005 (0.05%)\n",
      "Componente 462: 0.0005 (0.05%)\n",
      "Componente 463: 0.0005 (0.05%)\n",
      "Componente 464: 0.0005 (0.05%)\n",
      "Componente 465: 0.0005 (0.05%)\n",
      "Componente 466: 0.0005 (0.05%)\n",
      "Componente 467: 0.0005 (0.05%)\n",
      "Componente 468: 0.0005 (0.05%)\n",
      "Componente 469: 0.0005 (0.05%)\n",
      "Componente 470: 0.0005 (0.05%)\n",
      "Componente 471: 0.0005 (0.05%)\n",
      "Componente 472: 0.0005 (0.05%)\n",
      "Componente 473: 0.0005 (0.05%)\n",
      "Componente 474: 0.0005 (0.05%)\n",
      "Componente 475: 0.0005 (0.05%)\n",
      "Componente 476: 0.0005 (0.05%)\n",
      "Componente 477: 0.0005 (0.05%)\n",
      "Componente 478: 0.0005 (0.05%)\n",
      "Componente 479: 0.0005 (0.05%)\n",
      "Componente 480: 0.0005 (0.05%)\n",
      "Componente 481: 0.0005 (0.05%)\n",
      "Componente 482: 0.0005 (0.05%)\n",
      "Componente 483: 0.0005 (0.05%)\n",
      "Componente 484: 0.0005 (0.05%)\n",
      "Componente 485: 0.0005 (0.05%)\n",
      "Componente 486: 0.0005 (0.05%)\n",
      "Componente 487: 0.0005 (0.05%)\n",
      "Componente 488: 0.0005 (0.05%)\n",
      "Componente 489: 0.0005 (0.05%)\n",
      "Componente 490: 0.0005 (0.05%)\n",
      "Componente 491: 0.0005 (0.05%)\n",
      "Componente 492: 0.0005 (0.05%)\n",
      "Componente 493: 0.0005 (0.05%)\n",
      "Componente 494: 0.0005 (0.05%)\n",
      "Componente 495: 0.0005 (0.05%)\n",
      "Componente 496: 0.0005 (0.05%)\n",
      "Componente 497: 0.0005 (0.05%)\n",
      "Componente 498: 0.0005 (0.05%)\n",
      "Componente 499: 0.0005 (0.05%)\n",
      "Componente 500: 0.0005 (0.05%)\n",
      "Componente 501: 0.0005 (0.05%)\n",
      "Componente 502: 0.0005 (0.05%)\n",
      "Componente 503: 0.0005 (0.05%)\n",
      "Componente 504: 0.0005 (0.05%)\n",
      "Componente 505: 0.0005 (0.05%)\n",
      "Componente 506: 0.0005 (0.05%)\n",
      "Componente 507: 0.0005 (0.05%)\n",
      "Componente 508: 0.0005 (0.05%)\n",
      "Componente 509: 0.0005 (0.05%)\n",
      "Componente 510: 0.0005 (0.05%)\n",
      "Componente 511: 0.0005 (0.05%)\n",
      "Componente 512: 0.0005 (0.05%)\n",
      "Componente 513: 0.0005 (0.05%)\n",
      "Componente 514: 0.0005 (0.05%)\n",
      "Componente 515: 0.0005 (0.05%)\n",
      "Componente 516: 0.0005 (0.05%)\n",
      "Componente 517: 0.0005 (0.05%)\n",
      "Componente 518: 0.0005 (0.05%)\n",
      "Componente 519: 0.0005 (0.05%)\n",
      "Componente 520: 0.0005 (0.05%)\n",
      "Componente 521: 0.0005 (0.05%)\n",
      "Componente 522: 0.0005 (0.05%)\n",
      "Componente 523: 0.0005 (0.05%)\n",
      "Componente 524: 0.0005 (0.05%)\n",
      "Componente 525: 0.0005 (0.05%)\n",
      "Componente 526: 0.0005 (0.05%)\n",
      "Componente 527: 0.0005 (0.05%)\n",
      "Componente 528: 0.0005 (0.05%)\n",
      "Componente 529: 0.0005 (0.05%)\n",
      "Componente 530: 0.0005 (0.05%)\n",
      "Componente 531: 0.0005 (0.05%)\n",
      "Componente 532: 0.0005 (0.05%)\n",
      "Componente 533: 0.0005 (0.05%)\n",
      "Componente 534: 0.0005 (0.05%)\n",
      "Componente 535: 0.0005 (0.05%)\n",
      "Componente 536: 0.0005 (0.05%)\n",
      "Componente 537: 0.0005 (0.05%)\n",
      "Componente 538: 0.0005 (0.05%)\n",
      "Componente 539: 0.0005 (0.05%)\n",
      "Componente 540: 0.0005 (0.05%)\n",
      "Componente 541: 0.0005 (0.05%)\n",
      "Componente 542: 0.0005 (0.05%)\n",
      "Componente 543: 0.0005 (0.05%)\n",
      "Componente 544: 0.0005 (0.05%)\n",
      "Componente 545: 0.0005 (0.05%)\n",
      "Componente 546: 0.0005 (0.05%)\n",
      "Componente 547: 0.0005 (0.05%)\n",
      "Componente 548: 0.0005 (0.05%)\n",
      "Componente 549: 0.0005 (0.05%)\n",
      "Componente 550: 0.0005 (0.05%)\n",
      "Componente 551: 0.0005 (0.05%)\n",
      "Componente 552: 0.0005 (0.05%)\n",
      "Componente 553: 0.0005 (0.05%)\n",
      "Componente 554: 0.0005 (0.05%)\n",
      "Componente 555: 0.0005 (0.05%)\n",
      "Componente 556: 0.0005 (0.05%)\n",
      "Componente 557: 0.0005 (0.05%)\n",
      "Componente 558: 0.0005 (0.05%)\n",
      "Componente 559: 0.0005 (0.05%)\n",
      "Componente 560: 0.0005 (0.05%)\n",
      "Componente 561: 0.0005 (0.05%)\n",
      "Componente 562: 0.0005 (0.05%)\n",
      "Componente 563: 0.0005 (0.05%)\n",
      "Componente 564: 0.0005 (0.05%)\n",
      "Componente 565: 0.0005 (0.05%)\n",
      "Componente 566: 0.0005 (0.05%)\n",
      "Componente 567: 0.0005 (0.05%)\n",
      "Componente 568: 0.0005 (0.05%)\n",
      "Componente 569: 0.0005 (0.05%)\n",
      "Componente 570: 0.0005 (0.05%)\n",
      "Componente 571: 0.0005 (0.05%)\n",
      "Componente 572: 0.0005 (0.05%)\n",
      "Componente 573: 0.0005 (0.05%)\n",
      "Componente 574: 0.0005 (0.05%)\n",
      "Componente 575: 0.0005 (0.05%)\n",
      "Componente 576: 0.0005 (0.05%)\n",
      "Componente 577: 0.0005 (0.05%)\n",
      "Componente 578: 0.0004 (0.04%)\n",
      "Componente 579: 0.0004 (0.04%)\n",
      "Componente 580: 0.0004 (0.04%)\n",
      "Componente 581: 0.0004 (0.04%)\n",
      "Componente 582: 0.0004 (0.04%)\n",
      "Componente 583: 0.0004 (0.04%)\n",
      "Componente 584: 0.0004 (0.04%)\n",
      "Componente 585: 0.0004 (0.04%)\n",
      "Componente 586: 0.0004 (0.04%)\n",
      "Componente 587: 0.0004 (0.04%)\n",
      "Componente 588: 0.0004 (0.04%)\n",
      "Componente 589: 0.0004 (0.04%)\n",
      "Componente 590: 0.0004 (0.04%)\n",
      "Componente 591: 0.0004 (0.04%)\n",
      "Componente 592: 0.0004 (0.04%)\n",
      "Componente 593: 0.0004 (0.04%)\n",
      "Componente 594: 0.0004 (0.04%)\n",
      "Componente 595: 0.0004 (0.04%)\n",
      "Componente 596: 0.0004 (0.04%)\n",
      "Componente 597: 0.0004 (0.04%)\n",
      "Componente 598: 0.0004 (0.04%)\n",
      "Componente 599: 0.0004 (0.04%)\n",
      "Componente 600: 0.0004 (0.04%)\n",
      "Componente 601: 0.0004 (0.04%)\n",
      "Componente 602: 0.0004 (0.04%)\n",
      "Componente 603: 0.0004 (0.04%)\n",
      "Componente 604: 0.0004 (0.04%)\n",
      "Componente 605: 0.0004 (0.04%)\n",
      "Componente 606: 0.0004 (0.04%)\n",
      "Componente 607: 0.0004 (0.04%)\n",
      "Componente 608: 0.0004 (0.04%)\n",
      "Componente 609: 0.0004 (0.04%)\n",
      "Componente 610: 0.0004 (0.04%)\n",
      "Componente 611: 0.0004 (0.04%)\n",
      "Componente 612: 0.0004 (0.04%)\n",
      "Componente 613: 0.0004 (0.04%)\n",
      "Componente 614: 0.0004 (0.04%)\n",
      "Componente 615: 0.0004 (0.04%)\n",
      "Componente 616: 0.0004 (0.04%)\n",
      "Componente 617: 0.0004 (0.04%)\n",
      "Componente 618: 0.0004 (0.04%)\n",
      "Componente 619: 0.0004 (0.04%)\n",
      "Componente 620: 0.0004 (0.04%)\n",
      "Componente 621: 0.0004 (0.04%)\n",
      "Componente 622: 0.0004 (0.04%)\n",
      "Componente 623: 0.0004 (0.04%)\n",
      "Componente 624: 0.0004 (0.04%)\n",
      "Componente 625: 0.0004 (0.04%)\n",
      "Componente 626: 0.0004 (0.04%)\n",
      "Componente 627: 0.0004 (0.04%)\n",
      "Componente 628: 0.0004 (0.04%)\n",
      "Componente 629: 0.0004 (0.04%)\n",
      "Componente 630: 0.0004 (0.04%)\n",
      "Componente 631: 0.0004 (0.04%)\n",
      "Componente 632: 0.0004 (0.04%)\n",
      "Componente 633: 0.0004 (0.04%)\n",
      "Componente 634: 0.0004 (0.04%)\n",
      "Componente 635: 0.0004 (0.04%)\n",
      "Componente 636: 0.0004 (0.04%)\n",
      "Componente 637: 0.0004 (0.04%)\n",
      "Componente 638: 0.0004 (0.04%)\n",
      "Componente 639: 0.0004 (0.04%)\n",
      "Componente 640: 0.0004 (0.04%)\n",
      "Componente 641: 0.0004 (0.04%)\n",
      "Componente 642: 0.0004 (0.04%)\n",
      "Componente 643: 0.0004 (0.04%)\n",
      "Componente 644: 0.0004 (0.04%)\n",
      "Componente 645: 0.0004 (0.04%)\n",
      "Componente 646: 0.0004 (0.04%)\n",
      "Componente 647: 0.0004 (0.04%)\n",
      "Componente 648: 0.0004 (0.04%)\n",
      "Componente 649: 0.0004 (0.04%)\n",
      "Componente 650: 0.0004 (0.04%)\n",
      "Componente 651: 0.0004 (0.04%)\n",
      "Componente 652: 0.0004 (0.04%)\n",
      "Componente 653: 0.0004 (0.04%)\n",
      "Componente 654: 0.0004 (0.04%)\n",
      "Componente 655: 0.0004 (0.04%)\n",
      "Componente 656: 0.0004 (0.04%)\n",
      "Componente 657: 0.0004 (0.04%)\n",
      "Componente 658: 0.0004 (0.04%)\n",
      "Componente 659: 0.0004 (0.04%)\n",
      "Componente 660: 0.0004 (0.04%)\n",
      "Componente 661: 0.0004 (0.04%)\n",
      "Componente 662: 0.0004 (0.04%)\n",
      "Componente 663: 0.0004 (0.04%)\n",
      "Componente 664: 0.0004 (0.04%)\n",
      "Componente 665: 0.0004 (0.04%)\n",
      "Componente 666: 0.0004 (0.04%)\n",
      "Componente 667: 0.0004 (0.04%)\n",
      "Componente 668: 0.0004 (0.04%)\n",
      "Componente 669: 0.0004 (0.04%)\n",
      "Componente 670: 0.0004 (0.04%)\n",
      "Componente 671: 0.0004 (0.04%)\n",
      "Componente 672: 0.0004 (0.04%)\n",
      "Componente 673: 0.0004 (0.04%)\n",
      "Componente 674: 0.0004 (0.04%)\n",
      "Componente 675: 0.0004 (0.04%)\n",
      "Componente 676: 0.0004 (0.04%)\n",
      "Componente 677: 0.0004 (0.04%)\n",
      "Componente 678: 0.0004 (0.04%)\n",
      "Componente 679: 0.0004 (0.04%)\n",
      "Componente 680: 0.0004 (0.04%)\n",
      "Componente 681: 0.0004 (0.04%)\n",
      "Componente 682: 0.0004 (0.04%)\n",
      "Componente 683: 0.0004 (0.04%)\n",
      "Componente 684: 0.0004 (0.04%)\n",
      "Componente 685: 0.0004 (0.04%)\n",
      "Componente 686: 0.0004 (0.04%)\n",
      "Componente 687: 0.0004 (0.04%)\n",
      "Componente 688: 0.0004 (0.04%)\n",
      "Componente 689: 0.0004 (0.04%)\n",
      "Componente 690: 0.0004 (0.04%)\n",
      "Componente 691: 0.0004 (0.04%)\n",
      "Componente 692: 0.0004 (0.04%)\n",
      "Componente 693: 0.0004 (0.04%)\n",
      "Componente 694: 0.0004 (0.04%)\n",
      "Componente 695: 0.0004 (0.04%)\n",
      "Componente 696: 0.0004 (0.04%)\n",
      "Componente 697: 0.0004 (0.04%)\n",
      "Componente 698: 0.0004 (0.04%)\n",
      "Componente 699: 0.0004 (0.04%)\n",
      "Componente 700: 0.0004 (0.04%)\n",
      "Componente 701: 0.0004 (0.04%)\n",
      "Componente 702: 0.0004 (0.04%)\n",
      "Componente 703: 0.0004 (0.04%)\n",
      "Componente 704: 0.0004 (0.04%)\n",
      "Componente 705: 0.0004 (0.04%)\n",
      "Componente 706: 0.0004 (0.04%)\n",
      "Componente 707: 0.0004 (0.04%)\n",
      "Componente 708: 0.0004 (0.04%)\n",
      "Componente 709: 0.0004 (0.04%)\n",
      "Componente 710: 0.0004 (0.04%)\n",
      "Componente 711: 0.0004 (0.04%)\n",
      "Componente 712: 0.0004 (0.04%)\n",
      "Componente 713: 0.0004 (0.04%)\n",
      "Componente 714: 0.0004 (0.04%)\n",
      "Componente 715: 0.0004 (0.04%)\n",
      "Componente 716: 0.0004 (0.04%)\n",
      "Componente 717: 0.0004 (0.04%)\n",
      "Componente 718: 0.0004 (0.04%)\n",
      "Componente 719: 0.0004 (0.04%)\n",
      "Componente 720: 0.0004 (0.04%)\n",
      "Componente 721: 0.0004 (0.04%)\n",
      "Componente 722: 0.0004 (0.04%)\n",
      "Componente 723: 0.0004 (0.04%)\n",
      "Componente 724: 0.0004 (0.04%)\n",
      "Componente 725: 0.0004 (0.04%)\n",
      "Componente 726: 0.0004 (0.04%)\n",
      "Componente 727: 0.0004 (0.04%)\n",
      "Componente 728: 0.0004 (0.04%)\n",
      "Componente 729: 0.0004 (0.04%)\n",
      "Componente 730: 0.0004 (0.04%)\n",
      "Componente 731: 0.0004 (0.04%)\n",
      "Componente 732: 0.0004 (0.04%)\n",
      "Componente 733: 0.0004 (0.04%)\n",
      "Componente 734: 0.0004 (0.04%)\n",
      "Componente 735: 0.0004 (0.04%)\n",
      "Componente 736: 0.0004 (0.04%)\n",
      "Componente 737: 0.0004 (0.04%)\n",
      "Componente 738: 0.0004 (0.04%)\n",
      "Componente 739: 0.0004 (0.04%)\n",
      "Componente 740: 0.0004 (0.04%)\n",
      "Componente 741: 0.0004 (0.04%)\n",
      "Componente 742: 0.0004 (0.04%)\n",
      "Componente 743: 0.0004 (0.04%)\n",
      "Componente 744: 0.0004 (0.04%)\n",
      "Componente 745: 0.0004 (0.04%)\n",
      "Componente 746: 0.0004 (0.04%)\n",
      "Componente 747: 0.0004 (0.04%)\n",
      "Componente 748: 0.0004 (0.04%)\n",
      "Componente 749: 0.0004 (0.04%)\n",
      "Componente 750: 0.0004 (0.04%)\n",
      "Componente 751: 0.0004 (0.04%)\n",
      "Componente 752: 0.0004 (0.04%)\n",
      "Componente 753: 0.0004 (0.04%)\n",
      "Componente 754: 0.0004 (0.04%)\n",
      "Componente 755: 0.0004 (0.04%)\n",
      "Componente 756: 0.0004 (0.04%)\n",
      "Componente 757: 0.0004 (0.04%)\n",
      "Componente 758: 0.0004 (0.04%)\n",
      "Componente 759: 0.0004 (0.04%)\n",
      "Componente 760: 0.0004 (0.04%)\n",
      "Componente 761: 0.0004 (0.04%)\n",
      "Componente 762: 0.0004 (0.04%)\n",
      "Componente 763: 0.0004 (0.04%)\n",
      "Componente 764: 0.0004 (0.04%)\n",
      "Componente 765: 0.0004 (0.04%)\n",
      "Componente 766: 0.0004 (0.04%)\n",
      "Componente 767: 0.0004 (0.04%)\n",
      "Componente 768: 0.0004 (0.04%)\n",
      "Componente 769: 0.0004 (0.04%)\n",
      "Componente 770: 0.0004 (0.04%)\n",
      "Componente 771: 0.0004 (0.04%)\n",
      "Componente 772: 0.0004 (0.04%)\n",
      "Componente 773: 0.0004 (0.04%)\n",
      "Componente 774: 0.0004 (0.04%)\n",
      "Componente 775: 0.0004 (0.04%)\n",
      "Componente 776: 0.0004 (0.04%)\n",
      "Componente 777: 0.0004 (0.04%)\n",
      "Componente 778: 0.0004 (0.04%)\n",
      "Componente 779: 0.0004 (0.04%)\n",
      "Componente 780: 0.0004 (0.04%)\n",
      "Componente 781: 0.0004 (0.04%)\n",
      "Componente 782: 0.0004 (0.04%)\n",
      "Componente 783: 0.0004 (0.04%)\n",
      "Componente 784: 0.0004 (0.04%)\n",
      "Componente 785: 0.0003 (0.03%)\n",
      "Componente 786: 0.0003 (0.03%)\n",
      "Componente 787: 0.0003 (0.03%)\n",
      "Componente 788: 0.0003 (0.03%)\n",
      "Componente 789: 0.0003 (0.03%)\n",
      "Componente 790: 0.0003 (0.03%)\n",
      "Componente 791: 0.0003 (0.03%)\n",
      "Componente 792: 0.0003 (0.03%)\n",
      "Componente 793: 0.0003 (0.03%)\n",
      "Componente 794: 0.0003 (0.03%)\n",
      "Componente 795: 0.0003 (0.03%)\n",
      "Componente 796: 0.0003 (0.03%)\n",
      "Componente 797: 0.0003 (0.03%)\n",
      "Componente 798: 0.0003 (0.03%)\n",
      "Componente 799: 0.0003 (0.03%)\n",
      "Componente 800: 0.0003 (0.03%)\n",
      "Componente 801: 0.0003 (0.03%)\n",
      "Componente 802: 0.0003 (0.03%)\n",
      "Componente 803: 0.0003 (0.03%)\n",
      "Componente 804: 0.0003 (0.03%)\n",
      "Componente 805: 0.0003 (0.03%)\n",
      "Componente 806: 0.0003 (0.03%)\n",
      "Componente 807: 0.0003 (0.03%)\n",
      "Componente 808: 0.0003 (0.03%)\n",
      "Componente 809: 0.0003 (0.03%)\n",
      "Componente 810: 0.0003 (0.03%)\n",
      "Componente 811: 0.0003 (0.03%)\n",
      "Componente 812: 0.0003 (0.03%)\n",
      "Componente 813: 0.0003 (0.03%)\n",
      "Componente 814: 0.0003 (0.03%)\n",
      "Componente 815: 0.0003 (0.03%)\n",
      "Componente 816: 0.0003 (0.03%)\n",
      "Componente 817: 0.0003 (0.03%)\n",
      "Componente 818: 0.0003 (0.03%)\n",
      "Componente 819: 0.0003 (0.03%)\n",
      "Componente 820: 0.0003 (0.03%)\n",
      "Componente 821: 0.0003 (0.03%)\n",
      "Componente 822: 0.0003 (0.03%)\n",
      "Componente 823: 0.0003 (0.03%)\n",
      "Componente 824: 0.0003 (0.03%)\n",
      "Componente 825: 0.0003 (0.03%)\n",
      "Componente 826: 0.0003 (0.03%)\n",
      "Componente 827: 0.0003 (0.03%)\n",
      "Componente 828: 0.0003 (0.03%)\n",
      "Componente 829: 0.0003 (0.03%)\n",
      "Componente 830: 0.0003 (0.03%)\n",
      "Componente 831: 0.0003 (0.03%)\n",
      "Componente 832: 0.0003 (0.03%)\n",
      "Componente 833: 0.0003 (0.03%)\n",
      "Componente 834: 0.0003 (0.03%)\n",
      "Componente 835: 0.0003 (0.03%)\n",
      "Componente 836: 0.0003 (0.03%)\n",
      "Componente 837: 0.0003 (0.03%)\n",
      "Componente 838: 0.0003 (0.03%)\n",
      "Componente 839: 0.0003 (0.03%)\n",
      "Componente 840: 0.0003 (0.03%)\n",
      "Componente 841: 0.0003 (0.03%)\n",
      "Componente 842: 0.0003 (0.03%)\n",
      "Componente 843: 0.0003 (0.03%)\n",
      "Componente 844: 0.0003 (0.03%)\n",
      "Componente 845: 0.0003 (0.03%)\n",
      "Componente 846: 0.0003 (0.03%)\n",
      "Componente 847: 0.0003 (0.03%)\n",
      "Componente 848: 0.0003 (0.03%)\n",
      "Componente 849: 0.0003 (0.03%)\n",
      "Componente 850: 0.0003 (0.03%)\n",
      "Componente 851: 0.0003 (0.03%)\n",
      "Componente 852: 0.0003 (0.03%)\n",
      "Componente 853: 0.0003 (0.03%)\n",
      "Componente 854: 0.0003 (0.03%)\n",
      "Componente 855: 0.0003 (0.03%)\n",
      "Componente 856: 0.0003 (0.03%)\n",
      "Componente 857: 0.0003 (0.03%)\n",
      "Componente 858: 0.0003 (0.03%)\n",
      "Componente 859: 0.0003 (0.03%)\n",
      "Componente 860: 0.0003 (0.03%)\n",
      "Componente 861: 0.0003 (0.03%)\n",
      "Componente 862: 0.0003 (0.03%)\n",
      "Componente 863: 0.0003 (0.03%)\n",
      "Componente 864: 0.0003 (0.03%)\n",
      "Componente 865: 0.0003 (0.03%)\n",
      "Componente 866: 0.0003 (0.03%)\n",
      "Componente 867: 0.0003 (0.03%)\n",
      "Componente 868: 0.0003 (0.03%)\n",
      "Componente 869: 0.0003 (0.03%)\n",
      "Componente 870: 0.0003 (0.03%)\n",
      "Componente 871: 0.0003 (0.03%)\n",
      "Componente 872: 0.0003 (0.03%)\n",
      "Componente 873: 0.0003 (0.03%)\n",
      "Componente 874: 0.0003 (0.03%)\n",
      "Componente 875: 0.0003 (0.03%)\n",
      "Componente 876: 0.0003 (0.03%)\n",
      "Componente 877: 0.0003 (0.03%)\n",
      "Componente 878: 0.0003 (0.03%)\n",
      "Componente 879: 0.0003 (0.03%)\n",
      "Componente 880: 0.0003 (0.03%)\n",
      "Componente 881: 0.0003 (0.03%)\n",
      "Componente 882: 0.0003 (0.03%)\n",
      "Componente 883: 0.0003 (0.03%)\n",
      "Componente 884: 0.0003 (0.03%)\n",
      "Componente 885: 0.0003 (0.03%)\n",
      "Componente 886: 0.0003 (0.03%)\n",
      "Componente 887: 0.0003 (0.03%)\n",
      "Componente 888: 0.0003 (0.03%)\n",
      "Componente 889: 0.0003 (0.03%)\n",
      "Componente 890: 0.0003 (0.03%)\n",
      "Componente 891: 0.0003 (0.03%)\n",
      "Componente 892: 0.0003 (0.03%)\n",
      "Componente 893: 0.0003 (0.03%)\n",
      "Componente 894: 0.0003 (0.03%)\n",
      "Componente 895: 0.0003 (0.03%)\n",
      "Componente 896: 0.0003 (0.03%)\n",
      "Componente 897: 0.0003 (0.03%)\n",
      "Componente 898: 0.0003 (0.03%)\n"
     ]
    }
   ],
   "source": [
    "n_comp = np.argmax(cumulative_variance_ratio >= 0.7) + 1\n",
    "print(f\"Número de componentes seleccionados: {n_comp}\")\n",
    "print(f\"Varianza explicada con {n_comp} componentes: \"\n",
    "      f\"{cumulative_variance_ratio[n_comp-1]:.4f}\")\n",
    "\n",
    "# Display variance explained by each component\n",
    "print(\"\\nVarianza explicada por cada componente:\")\n",
    "for i, var in enumerate(svd.explained_variance_ratio_[:n_comp]):\n",
    "    print(f\"Componente {i+1}: {var:.4f} ({var*100:.2f}%)\")"
   ]
  },
  {
   "cell_type": "markdown",
   "metadata": {},
   "source": [
    "Finalmente, nos quedamos con el conjunto de componentes deseado."
   ]
  },
  {
   "cell_type": "code",
   "execution_count": 60,
   "metadata": {},
   "outputs": [],
   "source": [
    "X_svd_train = X_svd_full_train[:, :n_comp]\n",
    "X_svd_test = X_svd_full_test[:, :n_comp]"
   ]
  },
  {
   "cell_type": "markdown",
   "metadata": {},
   "source": [
    "Una vez finalizado elt ratamiento del texto, volvemos a juntarlo al resto de carácteristicas."
   ]
  },
  {
   "cell_type": "code",
   "execution_count": 62,
   "metadata": {},
   "outputs": [],
   "source": [
    "# Train\n",
    "X_svd_train = pd.DataFrame(X_svd_train, columns=[f\"svd_{i}\" for i in range(X_svd_train.shape[1])])\n",
    "X_rest_train = X_train[no_text].reset_index(drop=True)\n",
    "\n",
    "# Test\n",
    "X_svd_test = pd.DataFrame(X_svd_test, columns=[f\"svd_{i}\" for i in range(X_svd_test.shape[1])])\n",
    "X_rest_test = X_test[no_text].reset_index(drop=True)\n",
    "\n",
    "# Text + Resto de features\n",
    "X_final_train = pd.concat([X_svd_train, X_rest_train], axis=1)\n",
    "X_final_test = pd.concat([X_svd_test, X_rest_test], axis=1)"
   ]
  },
  {
   "cell_type": "markdown",
   "metadata": {},
   "source": [
    "#### - Caso 1: Estandarización de todas las features codificadas y oversampling"
   ]
  },
  {
   "cell_type": "markdown",
   "metadata": {},
   "source": [
    "Primero escalamos *X* con el escalador estándar."
   ]
  },
  {
   "cell_type": "code",
   "execution_count": 65,
   "metadata": {},
   "outputs": [],
   "source": [
    "prep_S_O = ColumnTransformer([\n",
    "    ('numericas', StandardScaler(), numeric_vars)\n",
    "], remainder='passthrough').fit(X_final_train) \n",
    "\n",
    "X_scaled_S_O = prep_S_O.transform(X_final_train)\n",
    "X_test_S_O = prep_S_O.transform(X_final_test)"
   ]
  },
  {
   "cell_type": "markdown",
   "metadata": {},
   "source": [
    "Después realizamos un SMOTE para obtener una proporción 50-50."
   ]
  },
  {
   "cell_type": "code",
   "execution_count": 67,
   "metadata": {},
   "outputs": [],
   "source": [
    "over_S_O = SMOTE(random_state=seed)\n",
    "X_resampled_S_O, y_resampled_S_O = over_S_O.fit_resample(X_scaled_S_O, y_train)"
   ]
  },
  {
   "cell_type": "markdown",
   "metadata": {},
   "source": [
    "Comprobamos el balanceo de los datos."
   ]
  },
  {
   "cell_type": "code",
   "execution_count": 69,
   "metadata": {},
   "outputs": [
    {
     "name": "stdout",
     "output_type": "stream",
     "text": [
      "label\n",
      "1    50.0\n",
      "0    50.0\n",
      "Name: count, dtype: float64\n"
     ]
    }
   ],
   "source": [
    "# Calcular los conteos de valores\n",
    "counts = pd.Series(y_resampled_S_O).value_counts()\n",
    "\n",
    "# Calcular los porcentajes\n",
    "percentages = (counts / len(y_resampled_S_O)) * 100\n",
    "\n",
    "# Mostrar los resultados\n",
    "print(percentages)"
   ]
  },
  {
   "cell_type": "markdown",
   "metadata": {},
   "source": [
    "#### - Caso 2: Sin estandarización y con oversampling"
   ]
  },
  {
   "cell_type": "markdown",
   "metadata": {},
   "source": [
    "Volvemos a realizar un oversampling con *SMOTE* por defecto."
   ]
  },
  {
   "cell_type": "code",
   "execution_count": 72,
   "metadata": {},
   "outputs": [],
   "source": [
    "over_N_O = SMOTE(random_state=seed)\n",
    "X_resampled_N_O, y_resampled_N_O = over_N_O.fit_resample(X_final_train, y_train)"
   ]
  },
  {
   "cell_type": "markdown",
   "metadata": {},
   "source": [
    "Comprobamos el balanceo de los datos."
   ]
  },
  {
   "cell_type": "code",
   "execution_count": 74,
   "metadata": {},
   "outputs": [
    {
     "name": "stdout",
     "output_type": "stream",
     "text": [
      "label\n",
      "1    50.0\n",
      "0    50.0\n",
      "Name: count, dtype: float64\n"
     ]
    }
   ],
   "source": [
    "# Calcular los conteos de valores\n",
    "counts = pd.Series(y_resampled_N_O).value_counts()\n",
    "\n",
    "# Calcular los porcentajes\n",
    "percentages = (counts / len(y_resampled_N_O)) * 100\n",
    "\n",
    "# Mostrar los resultados\n",
    "print(percentages)"
   ]
  },
  {
   "cell_type": "markdown",
   "metadata": {},
   "source": [
    "#### - Caso 3: Estandarización de todas las features codificadas y undersampling"
   ]
  },
  {
   "cell_type": "markdown",
   "metadata": {},
   "source": [
    "Primero escalamos X con el escalador estándar."
   ]
  },
  {
   "cell_type": "code",
   "execution_count": 77,
   "metadata": {},
   "outputs": [],
   "source": [
    "prep_S_U = ColumnTransformer([\n",
    "    ('numericas', StandardScaler(), numeric_vars)\n",
    "], remainder='passthrough').fit(X_final_train) \n",
    "\n",
    "X_scaled_S_U = prep_S_U.transform(X_final_train)\n",
    "X_test_S_U = prep_S_U.transform(X_final_test)"
   ]
  },
  {
   "cell_type": "markdown",
   "metadata": {},
   "source": [
    "Esta vez, aplicamos un undersampling de los datos."
   ]
  },
  {
   "cell_type": "code",
   "execution_count": 79,
   "metadata": {},
   "outputs": [],
   "source": [
    "under_S_U = RandomUnderSampler(sampling_strategy=0.7, random_state=seed)\n",
    "X_resampled_S_U, y_resampled_S_U = under_S_U.fit_resample(X_scaled_S_U, y_train)"
   ]
  },
  {
   "cell_type": "markdown",
   "metadata": {},
   "source": [
    "Comprobamos el balanceo de los datos."
   ]
  },
  {
   "cell_type": "code",
   "execution_count": 81,
   "metadata": {},
   "outputs": [
    {
     "name": "stdout",
     "output_type": "stream",
     "text": [
      "label\n",
      "1    58.821625\n",
      "0    41.178375\n",
      "Name: count, dtype: float64\n"
     ]
    }
   ],
   "source": [
    "# Calcular los conteos de valores\n",
    "counts = pd.Series(y_resampled_S_U).value_counts()\n",
    "\n",
    "# Calcular los porcentajes\n",
    "percentages = (counts / len(y_resampled_S_U)) * 100\n",
    "\n",
    "# Mostrar los resultados\n",
    "print(percentages)"
   ]
  },
  {
   "cell_type": "markdown",
   "metadata": {},
   "source": [
    "#### - Caso 4: Sin estandarización y con undersampling"
   ]
  },
  {
   "cell_type": "markdown",
   "metadata": {},
   "source": [
    "Volvemos a realizar un undersampling con *RandomUnderSampler*."
   ]
  },
  {
   "cell_type": "code",
   "execution_count": 84,
   "metadata": {},
   "outputs": [],
   "source": [
    "under_N_U = RandomUnderSampler(sampling_strategy=0.8, random_state=seed)\n",
    "X_resampled_N_U, y_resampled_N_U = under_N_U.fit_resample(X_final_train, y_train)"
   ]
  },
  {
   "cell_type": "markdown",
   "metadata": {},
   "source": [
    "Comprobamos el balanceo de los datos."
   ]
  },
  {
   "cell_type": "code",
   "execution_count": 86,
   "metadata": {},
   "outputs": [
    {
     "name": "stdout",
     "output_type": "stream",
     "text": [
      "label\n",
      "1    55.555556\n",
      "0    44.444444\n",
      "Name: count, dtype: float64\n"
     ]
    }
   ],
   "source": [
    "# Calcular los conteos de valores\n",
    "counts = pd.Series(y_resampled_N_U).value_counts()\n",
    "\n",
    "# Calcular los porcentajes\n",
    "percentages = (counts / len(y_resampled_N_U)) * 100\n",
    "\n",
    "# Mostrar los resultados\n",
    "print(percentages)"
   ]
  },
  {
   "cell_type": "markdown",
   "metadata": {},
   "source": [
    "#### - Caso 5: Estandarización de todas las features codificadas y under- y oversampling"
   ]
  },
  {
   "cell_type": "markdown",
   "metadata": {},
   "source": [
    "Primero escalamos *X* con el escalador estándar."
   ]
  },
  {
   "cell_type": "code",
   "execution_count": 89,
   "metadata": {},
   "outputs": [],
   "source": [
    "prep_S_OU = ColumnTransformer([\n",
    "    ('numericas', StandardScaler(), numeric_vars)\n",
    "], remainder='passthrough').fit(X_final_train) \n",
    "\n",
    "X_scaled_S_OU = prep_S_OU.transform(X_final_train)\n",
    "X_test_S_OU = prep_S_OU.transform(X_final_test)"
   ]
  },
  {
   "cell_type": "markdown",
   "metadata": {},
   "source": [
    "Esta vez, hacemos previamente un undersampling de los datos, buscando no ser tan agresivos al balancear el conjunto."
   ]
  },
  {
   "cell_type": "code",
   "execution_count": 91,
   "metadata": {},
   "outputs": [],
   "source": [
    "under_S_OU = RandomUnderSampler(sampling_strategy=0.65, random_state=seed)\n",
    "X_under_S_OU, y_under_S_OU = under_S_OU.fit_resample(X_scaled_S_OU, y_train)"
   ]
  },
  {
   "cell_type": "markdown",
   "metadata": {},
   "source": [
    "Comprobamos el balanceo de los datos."
   ]
  },
  {
   "cell_type": "code",
   "execution_count": 93,
   "metadata": {},
   "outputs": [
    {
     "name": "stdout",
     "output_type": "stream",
     "text": [
      "label\n",
      "1    60.600898\n",
      "0    39.399102\n",
      "Name: count, dtype: float64\n"
     ]
    }
   ],
   "source": [
    "# Calcular los conteos de valores\n",
    "counts = pd.Series(y_under_S_OU).value_counts()\n",
    "\n",
    "# Calcular los porcentajes\n",
    "percentages = (counts / len(y_under_S_OU)) * 100\n",
    "\n",
    "# Mostrar los resultados\n",
    "print(percentages)"
   ]
  },
  {
   "cell_type": "markdown",
   "metadata": {},
   "source": [
    "Después realizamos un SMOTE para obtener una proporción más equitativa."
   ]
  },
  {
   "cell_type": "code",
   "execution_count": 95,
   "metadata": {},
   "outputs": [],
   "source": [
    "over_S_OU = SMOTE(sampling_strategy=0.8, random_state=seed)\n",
    "X_resampled_S_OU, y_resampled_S_OU = over_S_OU.fit_resample(X_under_S_OU, y_under_S_OU)"
   ]
  },
  {
   "cell_type": "markdown",
   "metadata": {},
   "source": [
    "Y volvemos a comprobar el balanceo de los datos."
   ]
  },
  {
   "cell_type": "code",
   "execution_count": 97,
   "metadata": {},
   "outputs": [
    {
     "name": "stdout",
     "output_type": "stream",
     "text": [
      "label\n",
      "1    55.558711\n",
      "0    44.441289\n",
      "Name: count, dtype: float64\n"
     ]
    }
   ],
   "source": [
    "# Calcular los conteos de valores\n",
    "counts = pd.Series(y_resampled_S_OU).value_counts()\n",
    "\n",
    "# Calcular los porcentajes\n",
    "percentages = (counts / len(y_resampled_S_OU)) * 100\n",
    "\n",
    "# Mostrar los resultados\n",
    "print(percentages)"
   ]
  },
  {
   "cell_type": "markdown",
   "metadata": {},
   "source": [
    "#### - Caso 6: Sin estandarización y con under- y oversampling"
   ]
  },
  {
   "cell_type": "markdown",
   "metadata": {},
   "source": [
    "Se vuelve a realizar el balanceo en dos pasos."
   ]
  },
  {
   "cell_type": "code",
   "execution_count": 100,
   "metadata": {},
   "outputs": [],
   "source": [
    "# Undersampling\n",
    "under_N_OU = RandomUnderSampler(sampling_strategy=0.65, random_state=seed)\n",
    "X_under_N_OU, y_under_N_OU = under_N_OU.fit_resample(X_final_train, y_train)\n",
    "\n",
    "# Oversampling\n",
    "over_N_OU = SMOTE(sampling_strategy=0.8, random_state=seed)\n",
    "X_resampled_N_OU, y_resampled_N_OU = over_N_OU.fit_resample(X_under_N_OU, y_under_N_OU)"
   ]
  },
  {
   "cell_type": "markdown",
   "metadata": {},
   "source": [
    "Y volvemos a comprobar el balanceo de los datos."
   ]
  },
  {
   "cell_type": "code",
   "execution_count": 102,
   "metadata": {},
   "outputs": [
    {
     "name": "stdout",
     "output_type": "stream",
     "text": [
      "label\n",
      "1    55.558711\n",
      "0    44.441289\n",
      "Name: count, dtype: float64\n"
     ]
    }
   ],
   "source": [
    "# Calcular los conteos de valores\n",
    "counts = pd.Series(y_resampled_N_OU).value_counts()\n",
    "\n",
    "# Calcular los porcentajes\n",
    "percentages = (counts / len(y_resampled_N_OU)) * 100\n",
    "\n",
    "# Mostrar los resultados\n",
    "print(percentages)"
   ]
  },
  {
   "cell_type": "markdown",
   "metadata": {},
   "source": [
    "#### - Evaluación"
   ]
  },
  {
   "cell_type": "markdown",
   "metadata": {},
   "source": [
    "Creamos el modelo *Random Forest* que se utilizará para evaluar los distintos preprocesados."
   ]
  },
  {
   "cell_type": "code",
   "execution_count": 105,
   "metadata": {},
   "outputs": [],
   "source": [
    "model_Forest  = RandomForestClassifier(class_weight=\"balanced\", n_jobs=-1, random_state=seed)"
   ]
  },
  {
   "cell_type": "markdown",
   "metadata": {},
   "source": [
    "* **Caso 1: Estandarización de todas las features codificadas y oversampling**"
   ]
  },
  {
   "cell_type": "markdown",
   "metadata": {},
   "source": [
    "Entrenamos el modelo con los datos del caso 1."
   ]
  },
  {
   "cell_type": "code",
   "execution_count": 108,
   "metadata": {},
   "outputs": [],
   "source": [
    "model_Forest.fit(X_resampled_S_O, y_resampled_S_O)\n",
    "\n",
    "predicted_S_O = model_Forest.predict(X_test_S_O)\n",
    "expected_S_O = y_test"
   ]
  },
  {
   "cell_type": "markdown",
   "metadata": {},
   "source": [
    "Y observamos su reporte de clasificación."
   ]
  },
  {
   "cell_type": "code",
   "execution_count": 110,
   "metadata": {},
   "outputs": [
    {
     "name": "stdout",
     "output_type": "stream",
     "text": [
      "              precision    recall  f1-score   support\n",
      "\n",
      "           0       0.38      0.40      0.39       611\n",
      "           1       0.68      0.66      0.67      1179\n",
      "\n",
      "    accuracy                           0.57      1790\n",
      "   macro avg       0.53      0.53      0.53      1790\n",
      "weighted avg       0.58      0.57      0.58      1790\n",
      "\n"
     ]
    }
   ],
   "source": [
    "print(classification_report(expected_S_O, predicted_S_O))"
   ]
  },
  {
   "cell_type": "markdown",
   "metadata": {},
   "source": [
    "* **Caso 2: Sin estandarización y con oversampling**"
   ]
  },
  {
   "cell_type": "markdown",
   "metadata": {},
   "source": [
    "Entrenamos el modelo con los datos del caso 2."
   ]
  },
  {
   "cell_type": "code",
   "execution_count": 113,
   "metadata": {},
   "outputs": [],
   "source": [
    "model_Forest.fit(X_resampled_N_O, y_resampled_N_O)\n",
    "\n",
    "predicted_N_O = model_Forest.predict(X_final_test)\n",
    "expected_N_O = y_test"
   ]
  },
  {
   "cell_type": "markdown",
   "metadata": {},
   "source": [
    "Y observamos su reporte de clasificación."
   ]
  },
  {
   "cell_type": "code",
   "execution_count": 115,
   "metadata": {},
   "outputs": [
    {
     "name": "stdout",
     "output_type": "stream",
     "text": [
      "              precision    recall  f1-score   support\n",
      "\n",
      "           0       0.37      0.40      0.39       611\n",
      "           1       0.68      0.65      0.66      1179\n",
      "\n",
      "    accuracy                           0.56      1790\n",
      "   macro avg       0.52      0.52      0.52      1790\n",
      "weighted avg       0.57      0.56      0.57      1790\n",
      "\n"
     ]
    }
   ],
   "source": [
    "print(classification_report(expected_N_O, predicted_N_O))"
   ]
  },
  {
   "cell_type": "markdown",
   "metadata": {},
   "source": [
    "* **Caso 3: Estandarización de todas las features codificadas y undersampling**"
   ]
  },
  {
   "cell_type": "markdown",
   "metadata": {},
   "source": [
    "Entrenamos el modelo con los datos del caso 3."
   ]
  },
  {
   "cell_type": "code",
   "execution_count": 118,
   "metadata": {},
   "outputs": [],
   "source": [
    "model_Forest.fit(X_resampled_S_U, y_resampled_S_U)\n",
    "\n",
    "predicted_S_U = model_Forest.predict(X_test_S_U)\n",
    "expected_S_U = y_test"
   ]
  },
  {
   "cell_type": "markdown",
   "metadata": {},
   "source": [
    "Y observamos su reporte de clasificación."
   ]
  },
  {
   "cell_type": "code",
   "execution_count": 120,
   "metadata": {},
   "outputs": [
    {
     "name": "stdout",
     "output_type": "stream",
     "text": [
      "              precision    recall  f1-score   support\n",
      "\n",
      "           0       0.45      0.15      0.22       611\n",
      "           1       0.67      0.91      0.77      1179\n",
      "\n",
      "    accuracy                           0.65      1790\n",
      "   macro avg       0.56      0.53      0.50      1790\n",
      "weighted avg       0.59      0.65      0.58      1790\n",
      "\n"
     ]
    }
   ],
   "source": [
    "print(classification_report(expected_S_U, predicted_S_U))"
   ]
  },
  {
   "cell_type": "markdown",
   "metadata": {},
   "source": [
    "* **Caso 4: Sin estandarización y con undersampling**"
   ]
  },
  {
   "cell_type": "markdown",
   "metadata": {},
   "source": [
    "Entrenamos el modelo con los datos del caso 4."
   ]
  },
  {
   "cell_type": "code",
   "execution_count": 123,
   "metadata": {},
   "outputs": [],
   "source": [
    "model_Forest.fit(X_resampled_N_U, y_resampled_N_U)\n",
    "\n",
    "predicted_N_U = model_Forest.predict(X_final_test)\n",
    "expected_N_U = y_test"
   ]
  },
  {
   "cell_type": "markdown",
   "metadata": {},
   "source": [
    "Y observamos su reporte de clasificación."
   ]
  },
  {
   "cell_type": "code",
   "execution_count": 125,
   "metadata": {},
   "outputs": [
    {
     "name": "stdout",
     "output_type": "stream",
     "text": [
      "              precision    recall  f1-score   support\n",
      "\n",
      "           0       0.43      0.30      0.35       611\n",
      "           1       0.69      0.80      0.74      1179\n",
      "\n",
      "    accuracy                           0.63      1790\n",
      "   macro avg       0.56      0.55      0.55      1790\n",
      "weighted avg       0.60      0.63      0.61      1790\n",
      "\n"
     ]
    }
   ],
   "source": [
    "print(classification_report(expected_N_U, predicted_N_U))"
   ]
  },
  {
   "cell_type": "markdown",
   "metadata": {},
   "source": [
    "* **Caso 5: Estandarización de todas las features codificadas y under- y oversampling**"
   ]
  },
  {
   "cell_type": "markdown",
   "metadata": {},
   "source": [
    "Entrenamos el modelo con los datos del caso 5."
   ]
  },
  {
   "cell_type": "code",
   "execution_count": 128,
   "metadata": {},
   "outputs": [],
   "source": [
    "model_Forest.fit(X_resampled_S_OU, y_resampled_S_OU)\n",
    "\n",
    "predicted_S_OU = model_Forest.predict(X_test_S_OU)\n",
    "expected_S_OU = y_test"
   ]
  },
  {
   "cell_type": "markdown",
   "metadata": {},
   "source": [
    "Y observamos su reporte de clasificación."
   ]
  },
  {
   "cell_type": "code",
   "execution_count": 130,
   "metadata": {},
   "outputs": [
    {
     "name": "stdout",
     "output_type": "stream",
     "text": [
      "              precision    recall  f1-score   support\n",
      "\n",
      "           0       0.41      0.27      0.33       611\n",
      "           1       0.68      0.79      0.73      1179\n",
      "\n",
      "    accuracy                           0.62      1790\n",
      "   macro avg       0.54      0.53      0.53      1790\n",
      "weighted avg       0.59      0.62      0.59      1790\n",
      "\n"
     ]
    }
   ],
   "source": [
    "print(classification_report(expected_S_OU, predicted_S_OU))"
   ]
  },
  {
   "cell_type": "markdown",
   "metadata": {},
   "source": [
    "* **Caso 6: Sin estandarización y con under- y oversampling**"
   ]
  },
  {
   "cell_type": "markdown",
   "metadata": {},
   "source": [
    "Entrenamos el modelo con los datos del caso 6."
   ]
  },
  {
   "cell_type": "code",
   "execution_count": 133,
   "metadata": {},
   "outputs": [],
   "source": [
    "model_Forest.fit(X_resampled_N_OU, y_resampled_N_OU)\n",
    "\n",
    "predicted_N_OU = model_Forest.predict(X_final_test)\n",
    "expected_N_OU = y_test"
   ]
  },
  {
   "cell_type": "markdown",
   "metadata": {},
   "source": [
    "Y observamos su reporte de clasificación."
   ]
  },
  {
   "cell_type": "code",
   "execution_count": 135,
   "metadata": {},
   "outputs": [
    {
     "name": "stdout",
     "output_type": "stream",
     "text": [
      "              precision    recall  f1-score   support\n",
      "\n",
      "           0       0.42      0.30      0.35       611\n",
      "           1       0.68      0.78      0.73      1179\n",
      "\n",
      "    accuracy                           0.62      1790\n",
      "   macro avg       0.55      0.54      0.54      1790\n",
      "weighted avg       0.59      0.62      0.60      1790\n",
      "\n"
     ]
    }
   ],
   "source": [
    "print(classification_report(expected_N_OU, predicted_N_OU))"
   ]
  },
  {
   "cell_type": "markdown",
   "metadata": {},
   "source": [
    "### 6.3 Conclusiones"
   ]
  },
  {
   "cell_type": "markdown",
   "metadata": {},
   "source": [
    "Al contrario de lo que ocurría en el anterior *challenge*, en este caso si que se observa que es mejor el caso 5 y 6 frente a los demás, tanto por *accurracy* como por el *f1-score* en los 0s. Además, en este *challenge* es menos importante balancear el dataset, ya que hay una diferencia menor entre ambas posibilidades (en el anterior eran 80% de 1s y 20% de 0s y en este la proporción es del 65% de 1s frente al 35% de 0s).\n",
    "\n",
    "Por ello, se ha decidido que, a diferencia del anterior *challenge*, en los siguientes apartados se continuará únicamente con un único caso de preprocesamiento: el caso 5. Esta elección se debe a que, aunque su rendimiento fue ligeramente inferior al del caso 6, consideramos que estandarizar las variables codificadas podría ser más beneficioso con ciertos clasificadores. En caso de que los mejores modelos resulten ser clasificadores basados en árboles de decisión, se retomará el caso 6 para comprobar si ofrece una mejora en ese contexto.\n",
    "\n",
    "A su vez, como no se ha conseguido reducir en demasía la dimensionalidad se ha pensado probar *word2vec* para procesar el texto."
   ]
  },
  {
   "cell_type": "markdown",
   "metadata": {},
   "source": [
    "# 7. Referencias"
   ]
  },
  {
   "cell_type": "markdown",
   "metadata": {},
   "source": [
    "* [ColumnTransformer. (s. f.). Scikit-learn.](https://scikit-learn.org/stable/modules/generated/sklearn.compose.ColumnTransformer.html)\n",
    "* [RandomForestClassifier. (s. f.). Scikit-learn.](https://scikit-learn.org/stable/modules/generated/sklearn.ensemble.RandomForestClassifier.html)\n",
    "* [RandomUnderSampler — Version 0.13.0. (s. f.). Imbalance learn.](https://imbalanced-learn.org/stable/references/generated/imblearn.under_sampling.RandomUnderSampler.html)\n",
    "* [SMOTE — Version 0.13.0. (s. f.). Imbalanced learn.](https://imbalanced-learn.org/stable/references/generated/imblearn.over_sampling.SMOTE.html)\n",
    "* [StandardScaler. (s. f.). Scikit-learn.](https://scikit-learn.org/stable/modules/generated/sklearn.preprocessing.StandardScaler.html)\n",
    "* [TfidfVectorizer. (s. f.). Scikit-learn.](https://scikit-learn.org/stable/modules/generated/sklearn.feature_extraction.text.TfidfVectorizer.html)\n",
    "* [train_test_split. (s. f.). Scikit-learn.](https://scikit-learn.org/stable/modules/generated/sklearn.model_selection.train_test_split.html)\n",
    "* [TruncatedSVD. (s. f.). Scikit-learn.](https://scikit-learn.org/stable/modules/generated/sklearn.decomposition.TruncatedSVD.html)"
   ]
  }
 ],
 "metadata": {
  "kernelspec": {
   "display_name": "Python 3 (ipykernel)",
   "language": "python",
   "name": "python3"
  },
  "language_info": {
   "codemirror_mode": {
    "name": "ipython",
    "version": 3
   },
   "file_extension": ".py",
   "mimetype": "text/x-python",
   "name": "python",
   "nbconvert_exporter": "python",
   "pygments_lexer": "ipython3",
   "version": "3.12.7"
  }
 },
 "nbformat": 4,
 "nbformat_minor": 4
}
