{
 "cells": [
  {
   "cell_type": "markdown",
   "metadata": {},
   "source": [
    "<header style=\"width:100%;position:relative\">\n",
    "  <div style=\"width:80%;float:right;\">\n",
    "    <h1>False Political Claim Detection</h1>\n",
    "    <h3>Entrenamiento y evaluación de los modelos</h3>\n",
    "    <h5>Grupo 2</h5>\n",
    "  </div>\n",
    "        <img style=\"width:15%;\" src=\"./images/logo.jpg\" alt=\"UPM\" />\n",
    "</header>"
   ]
  },
  {
   "cell_type": "markdown",
   "metadata": {},
   "source": [
    "# Índice"
   ]
  },
  {
   "cell_type": "markdown",
   "metadata": {},
   "source": [
    "1. [Importar librerias](#1.-Importar-librerias)\n",
    "2. [Variables globales y funciones auxiliares](#2.-Variables-globales-y-funciones-auxiliares)\n",
    "3. [Carga del dataframe](#3.-Carga-del-dataframe)\n",
    "4. [Selección de las características](#4.-Seleccion-de-las-caracteristicas)\n",
    "5. [Carga de los datos y división en entrenamiento y test](#5.-Carga-de-los-datos-y-division-en-entrenamiento-y-test)\n",
    "6. [Preprocesado](#6.-Preprocesado)\n",
    "    * 6.1 [Tratamiento de los textos](#6.1-Tratamiento-de-los-textos)\n",
    "    * 6.2 [Remuestreo](#6.2-Remuestreo)\n",
    "7. [Modelos seleccionados](#7.-Modelos-seleccionados)\n",
    "    * 7.1 [Introducción](#7.1-Introduccion)\n",
    "    * 7.2 [Asignacion de las variables](#7.2-Asignacion-de-las-variables)\n",
    "    * 7.3 [Clasificador Random Forest](#7.3-Clasificador-Random-Forest)\n",
    "    * 7.4 [Clasificador XGBoost](#7.4-Clasificador-XGBoost)\n",
    "    * 7.5 [Clasificador Gradient Boosting](#7.5-Clasificador-Gradient-Boosting)\n",
    "8. [Exportar CSV](#8.-Exportar-CSV)\n",
    "    * 8.1 [Asignacion de las variables](#8.1-Asignacion-de-las-variables)\n",
    "    * 8.2 [Clasificador Random Forest](#8.2-Clasificador-Random-Forest)\n",
    "    * 8.3 [Clasificador XGBoost](#8.3-Clasificador-XGBoost)\n",
    "    * 8.4 [Clasificador Gradient-Boosting](#8.4-Clasificador-Gradient-Boosting)\n",
    "9. [Referencias](#9.-Referencias)"
   ]
  },
  {
   "cell_type": "markdown",
   "metadata": {},
   "source": [
    "# 1. Importar librerias"
   ]
  },
  {
   "cell_type": "code",
   "execution_count": 7,
   "metadata": {
    "vscode": {
     "languageId": "plaintext"
    }
   },
   "outputs": [
    {
     "name": "stdout",
     "output_type": "stream",
     "text": [
      "Todas las librerias fueron correctamente importadas.\n"
     ]
    }
   ],
   "source": [
    "# General import and load data\n",
    "import pandas as pd\n",
    "import numpy as np\n",
    "\n",
    "# Resampling\n",
    "from imblearn.under_sampling import RandomUnderSampler\n",
    "from imblearn.over_sampling import SMOTE\n",
    "\n",
    "# Preprocessing\n",
    "from sklearn.compose import ColumnTransformer\n",
    "from sklearn.preprocessing import StandardScaler\n",
    "from sklearn.feature_extraction.text import TfidfVectorizer\n",
    "from sklearn.decomposition import TruncatedSVD\n",
    "\n",
    "# Splitting\n",
    "from sklearn.model_selection import train_test_split\n",
    "\n",
    "# Estimators\n",
    "from sklearn.ensemble import RandomForestClassifier, GradientBoostingClassifier\n",
    "from xgboost import XGBClassifier\n",
    "\n",
    "# Evaluation\n",
    "from sklearn.metrics import accuracy_score, confusion_matrix, classification_report\n",
    "from sklearn.metrics import make_scorer, f1_score, recall_score, roc_curve, roc_auc_score\n",
    "\n",
    "# Optimization\n",
    "from sklearn.model_selection import GridSearchCV, PredefinedSplit\n",
    "\n",
    "# Visualization\n",
    "import matplotlib.pyplot as plt\n",
    "\n",
    "# Time optimization\n",
    "import time\n",
    "\n",
    "print(\"Todas las librerias fueron correctamente importadas.\")"
   ]
  },
  {
   "cell_type": "markdown",
   "metadata": {},
   "source": [
    "# 2. Variables globales y funciones auxiliares"
   ]
  },
  {
   "cell_type": "markdown",
   "metadata": {},
   "source": [
    "Se fija un seed para todo el documento para fijar la aleatoriedad y así obtener resultados replicables."
   ]
  },
  {
   "cell_type": "code",
   "execution_count": 8,
   "metadata": {},
   "outputs": [],
   "source": [
    "seed = 42"
   ]
  },
  {
   "cell_type": "markdown",
   "metadata": {},
   "source": [
    "Función utilizado para evaluar los distintos umbrales en la curva de ROC."
   ]
  },
  {
   "cell_type": "code",
   "execution_count": 10,
   "metadata": {},
   "outputs": [],
   "source": [
    "def evaluate_threshold(threshold):\n",
    "    print('Sensitivity:', tpr[thresholds > threshold][-1])\n",
    "    print('Recall:', 1 - fpr[thresholds > threshold][-1])"
   ]
  },
  {
   "cell_type": "markdown",
   "metadata": {},
   "source": [
    "# 3. Carga del dataframe"
   ]
  },
  {
   "cell_type": "markdown",
   "metadata": {},
   "source": [
    "Se cargan los datos de la ruta *formated/train_exportado.csv*, los cuales son los datos ya procesados por uno de nuestros compañeros."
   ]
  },
  {
   "cell_type": "code",
   "execution_count": 13,
   "metadata": {},
   "outputs": [
    {
     "name": "stdout",
     "output_type": "stream",
     "text": [
      "Datos cargados correctamente\n",
      "\n"
     ]
    }
   ],
   "source": [
    "url = \"formated/train_exportado.csv\"\n",
    "df = pd.read_csv(url)\n",
    "\n",
    "print(\"Datos cargados correctamente\\n\")"
   ]
  },
  {
   "cell_type": "markdown",
   "metadata": {},
   "source": [
    "También cargamos el test que debemos predecir para Kaggle de la ruta *formated/test_exportado.csv*."
   ]
  },
  {
   "cell_type": "code",
   "execution_count": 15,
   "metadata": {},
   "outputs": [
    {
     "name": "stdout",
     "output_type": "stream",
     "text": [
      "Test cargado correctamente\n",
      "\n"
     ]
    }
   ],
   "source": [
    "url = \"formated/test_exportado.csv\"\n",
    "df_test = pd.read_csv(url)\n",
    "\n",
    "print(\"Test cargado correctamente\\n\")"
   ]
  },
  {
   "cell_type": "markdown",
   "metadata": {},
   "source": [
    "# 4. Seleccion de las caracteristicas"
   ]
  },
  {
   "cell_type": "markdown",
   "metadata": {},
   "source": [
    "En el siguiente array se muestran todas las caracteristicas por si se decide realizar pruebas con otras *features*."
   ]
  },
  {
   "cell_type": "code",
   "execution_count": 18,
   "metadata": {},
   "outputs": [],
   "source": [
    "all_features = [\n",
    "    # Identificador\n",
    "    'id',\n",
    "\n",
    "    # Etiqueta objetivo\n",
    "    'label',\n",
    "\n",
    "    # Texto original y procesado\n",
    "    'statement', 'statement-raw', 'statement-lemmatize', \n",
    "\n",
    "    # Features derivados del texto\n",
    "    'statement-ner', 'feelings',\n",
    "\n",
    "    # One-hot encoded de los temas reagrupados del texto \n",
    "    'subject-ciencia_y_tecnologia', 'subject-economia_y_finanzas',\n",
    "    'subject-educacion', 'subject-medio_ambiente_y_energia', 'subject-otros',\n",
    "    'subject-politica_y_gobierno', 'subject-relaciones_internacionales',\n",
    "    'subject-salud_y_bienestar', 'subject-seguridad_y_justicia',\n",
    "    'subject-sociedad_y_cultura', 'subject-trabajo_y_empleo',\n",
    "\n",
    "    # Resto de las categoricas agrupadas\n",
    "    'speaker_grouped', 'speaker_job_grouped', 'state_info_grouped', 'party_group',\n",
    "\n",
    "    # Resto de las categoricas agrupadas y codificadas\n",
    "    'speaker_grouped_cod', 'speaker_job_grouped_cod',\n",
    "    'state_info_grouped_cod', 'party_group_cod',\n",
    "\n",
    "    # Variables generadas por LLM los null\n",
    "    'speaker_job-llm', 'speaker_job_cod-llm',\n",
    "    'state_info-llm', 'state_info_cod-llm',\n",
    "    'party_affiliation-llm', 'party_affiliation_cod-llm'\n",
    "]"
   ]
  },
  {
   "cell_type": "markdown",
   "metadata": {},
   "source": [
    "Se seleccionan todas las categorias menos: \n",
    "* ***id***: no aporta ningún valor.\n",
    "* ***label***: variable a predecir.\n",
    "* ***statement***: esta *feature* esta por si nos es necesario en algun momento futuro tener el texto sin procesar.\n",
    "* ***statement-lemmatize***: esta *feature* solo esta para probar en notebooks posteriores si clasifica mejor o peor con las raices de las palabras.\n",
    "* ***statement-ner***: esta *feature* esta para ver si el clasificador funciona mejor con el NER por separado.\n",
    "* ***speaker_grouped***, ***speaker_job_grouped***, ***state_info_grouped***, ***party_group***: suponemos que tenemos la misma información ya codificada.\n",
    "* ***speaker_job-llm***, ***speaker_job_cod-llm***, ***state_info-llm***, ***state_info_cod-llm***, ***party_affiliation-llm***, ***party_affiliation_cod-llm***: esta información ya esta en otras *features*, la diferencia esta en como se tratan los nulos asi que se analizará cual funciona mejor si con LLM o sin ellos durante el apartado de clasificación."
   ]
  },
  {
   "cell_type": "code",
   "execution_count": 20,
   "metadata": {},
   "outputs": [],
   "source": [
    "selected_features = [\n",
    "    # Texto\n",
    "    'statement-raw',\n",
    "        \n",
    "    # Features derivados del texto\n",
    "    'feelings',\n",
    "\n",
    "    # One-hot encoded de los temas reagrupados del texto \n",
    "    'subject-ciencia_y_tecnologia', 'subject-economia_y_finanzas',\n",
    "    'subject-educacion', 'subject-medio_ambiente_y_energia', 'subject-otros',\n",
    "    'subject-politica_y_gobierno', 'subject-relaciones_internacionales',\n",
    "    'subject-salud_y_bienestar', 'subject-seguridad_y_justicia',\n",
    "    'subject-sociedad_y_cultura', 'subject-trabajo_y_empleo',\n",
    "\n",
    "    # Resto de las categoricas agrupadas y codificadas\n",
    "    'speaker_grouped_cod', 'speaker_job_grouped_cod',\n",
    "    'state_info_grouped_cod', 'party_group_cod'\n",
    "]"
   ]
  },
  {
   "cell_type": "markdown",
   "metadata": {},
   "source": [
    "En caso de querer probar si funcionan mejor las de los LLM, se sustituirán por su simil. También si se quiere probar el texto lematizado se sustituira por el *raw*."
   ]
  },
  {
   "cell_type": "markdown",
   "metadata": {},
   "source": [
    "De las cuales texto es:"
   ]
  },
  {
   "cell_type": "code",
   "execution_count": 23,
   "metadata": {},
   "outputs": [],
   "source": [
    "text = 'statement-raw'"
   ]
  },
  {
   "cell_type": "markdown",
   "metadata": {},
   "source": [
    "Y las que no se corresponden con texto son:"
   ]
  },
  {
   "cell_type": "code",
   "execution_count": 25,
   "metadata": {},
   "outputs": [],
   "source": [
    "no_text = [\n",
    "    # Features derivados del texto\n",
    "    'feelings',\n",
    "\n",
    "    # One-hot encoded de los temas reagrupados del texto \n",
    "    'subject-ciencia_y_tecnologia', 'subject-economia_y_finanzas',\n",
    "    'subject-educacion', 'subject-medio_ambiente_y_energia', 'subject-otros',\n",
    "    'subject-politica_y_gobierno', 'subject-relaciones_internacionales',\n",
    "    'subject-salud_y_bienestar', 'subject-seguridad_y_justicia',\n",
    "    'subject-sociedad_y_cultura', 'subject-trabajo_y_empleo',\n",
    "\n",
    "    # Resto de las categoricas agrupadas y codificadas\n",
    "     'speaker_grouped_cod', 'speaker_job_grouped_cod',\n",
    "     'state_info_grouped_cod', 'party_group_cod'\n",
    "]"
   ]
  },
  {
   "cell_type": "markdown",
   "metadata": {},
   "source": [
    "Y de las cuales, numéricas son las siguientes:"
   ]
  },
  {
   "cell_type": "code",
   "execution_count": 27,
   "metadata": {},
   "outputs": [],
   "source": [
    "numeric_vars = [\n",
    "    'speaker_grouped_cod', 'speaker_job_grouped_cod',\n",
    "    'state_info_grouped_cod', 'party_group_cod'\n",
    "]"
   ]
  },
  {
   "cell_type": "markdown",
   "metadata": {},
   "source": [
    "# 5. Carga de los datos y division en entrenamiento y test"
   ]
  },
  {
   "cell_type": "markdown",
   "metadata": {},
   "source": [
    "Cargamos las caracteristicas seleccionadas en la variable X y el objetivo *Accept* en la variable y."
   ]
  },
  {
   "cell_type": "code",
   "execution_count": 30,
   "metadata": {},
   "outputs": [],
   "source": [
    "X = df[selected_features] \n",
    "y = df['label'].values"
   ]
  },
  {
   "cell_type": "markdown",
   "metadata": {},
   "source": [
    "Se separa ya en entrenamiento y test para no falsear los datos del test al realizar el balanceo."
   ]
  },
  {
   "cell_type": "code",
   "execution_count": 32,
   "metadata": {},
   "outputs": [],
   "source": [
    "X_train, X_test, y_train, y_test = train_test_split(X, y, test_size=0.2, random_state=seed)"
   ]
  },
  {
   "cell_type": "markdown",
   "metadata": {},
   "source": [
    "A la hora de subir el modelo a Kaggle, ya se nos da dividido el entrenamiento y el test. Por ello, se utilizarán todos los datos tratados como entrenamiento (aunque también se le aplicará el mejor caso de preprocesado para cada modelo)."
   ]
  },
  {
   "cell_type": "code",
   "execution_count": 34,
   "metadata": {},
   "outputs": [],
   "source": [
    "X_train_final = X\n",
    "y_train_final = y\n",
    "\n",
    "X_test_final = df_test[selected_features] "
   ]
  },
  {
   "cell_type": "markdown",
   "metadata": {},
   "source": [
    "# 6. Preprocesado"
   ]
  },
  {
   "cell_type": "markdown",
   "metadata": {},
   "source": [
    "Como se menciona en el notebook dedicado al preprocesamiento, primero se tratará el texto, después se reducirá su dimensionalidad con un *TruncatedSVD*, se estandarizarán las variables codificadas mediante un *StandardScaler* y, finalmente, se realizará un remuestreo mediante *SMOTE* y *RandomUnderSampler*. \n",
    "\n",
    "En caso de querer probar el caso de preprocesamiento 6, será necesario eliminar el *StandardScaler* junto al *ColumnTransformer*."
   ]
  },
  {
   "cell_type": "markdown",
   "metadata": {},
   "source": [
    "## 6.1 Tratamiento de los textos"
   ]
  },
  {
   "cell_type": "markdown",
   "metadata": {},
   "source": [
    "### 6.1.1 Vectorización"
   ]
  },
  {
   "cell_type": "markdown",
   "metadata": {},
   "source": [
    "Primero tratamos el texto para los análisis de los modelos."
   ]
  },
  {
   "cell_type": "code",
   "execution_count": 40,
   "metadata": {},
   "outputs": [],
   "source": [
    "# Tratamiento del texto para el analisis de los modelos\n",
    "vect = TfidfVectorizer(min_df=5, max_df=0.8, ngram_range=(1,2))\n",
    "vect.fit(X_train[text])\n",
    "\n",
    "X_txt_train = vect.transform(X_train[text])\n",
    "X_txt_test = vect.transform(X_test[text])"
   ]
  },
  {
   "cell_type": "markdown",
   "metadata": {},
   "source": [
    "Después para el dataset que se utilizará para subir a Kaggle."
   ]
  },
  {
   "cell_type": "code",
   "execution_count": 42,
   "metadata": {},
   "outputs": [],
   "source": [
    "# Tratamiento del texto para Kaggle\n",
    "vect_final = TfidfVectorizer(min_df=5, max_df=0.8, ngram_range=(1,2))\n",
    "vect_final.fit(X_train_final[text])\n",
    "\n",
    "X_txt_tr_final = vect_final.transform(X_train_final[text])\n",
    "X_txt_te_final = vect_final.transform(X_test_final[text])"
   ]
  },
  {
   "cell_type": "markdown",
   "metadata": {},
   "source": [
    "### 6.1.2 Reducción de la dimensionalidad"
   ]
  },
  {
   "cell_type": "markdown",
   "metadata": {},
   "source": [
    "Aplicamos un *SVD* para reducir la dimensionalidad, empezando para los conjuntos de análisis."
   ]
  },
  {
   "cell_type": "code",
   "execution_count": 45,
   "metadata": {},
   "outputs": [],
   "source": [
    "svd = TruncatedSVD(n_components=1000, random_state=seed)\n",
    "svd.fit(X_txt_train)\n",
    "\n",
    "X_svd_full_train = svd.transform(X_txt_train)\n",
    "X_svd_full_test = svd.transform(X_txt_test)"
   ]
  },
  {
   "cell_type": "markdown",
   "metadata": {},
   "source": [
    "Continuando con la de Kaggle."
   ]
  },
  {
   "cell_type": "code",
   "execution_count": 47,
   "metadata": {},
   "outputs": [],
   "source": [
    "svd_final = TruncatedSVD(n_components=2000, random_state=seed)\n",
    "svd_final.fit(X_txt_tr_final)\n",
    "\n",
    "X_svd_full_tr_final = svd_final.transform(X_txt_tr_final)\n",
    "X_svd_full_te_final = svd_final.transform(X_txt_te_final)"
   ]
  },
  {
   "cell_type": "markdown",
   "metadata": {},
   "source": [
    "Nos quedamos solamente con los componentes que nos permitan tener un de ratio de explicabilidad determinado. Primero el de análisis."
   ]
  },
  {
   "cell_type": "code",
   "execution_count": 49,
   "metadata": {},
   "outputs": [
    {
     "data": {
      "image/png": "[encoded data removed]",
      "text/plain": [
       "<Figure size 1000x600 with 1 Axes>"
      ]
     },
     "metadata": {},
     "output_type": "display_data"
    }
   ],
   "source": [
    "# Calculate cumulative explained variance ratio\n",
    "cumulative_variance_ratio = np.cumsum(svd.explained_variance_ratio_)\n",
    "\n",
    "# Plot explained variance ratio\n",
    "plt.figure(figsize=(10, 6))\n",
    "plt.plot(range(1, len(cumulative_variance_ratio) + 1), \n",
    "         cumulative_variance_ratio, 'bo-')\n",
    "plt.xlabel('Número de Componentes')\n",
    "plt.ylabel('Ratio de Varianza Explicada Acumulada')\n",
    "plt.title('Ratio Varianza Explicada vs. Número Componentes')\n",
    "plt.grid(True)\n",
    "\n",
    "# Add threshold line\n",
    "plt.axhline(y=0.7, color='r', linestyle='--', \n",
    "            label='Umbral del 70% de varianza')\n",
    "plt.legend()\n",
    "plt.show()"
   ]
  },
  {
   "cell_type": "markdown",
   "metadata": {},
   "source": [
    "Continuando con el de Kaggle."
   ]
  },
  {
   "cell_type": "code",
   "execution_count": 51,
   "metadata": {},
   "outputs": [
    {
     "data": {
      "image/png": "[encoded data removed]",
      "text/plain": [
       "<Figure size 1000x600 with 1 Axes>"
      ]
     },
     "metadata": {},
     "output_type": "display_data"
    }
   ],
   "source": [
    "# Calculate cumulative explained variance ratio\n",
    "cumulative_variance_ratio_final = np.cumsum(svd_final.explained_variance_ratio_)\n",
    "\n",
    "# Plot explained variance ratio\n",
    "plt.figure(figsize=(10, 6))\n",
    "plt.plot(range(1, len(cumulative_variance_ratio_final) + 1), \n",
    "         cumulative_variance_ratio_final, 'bo-')\n",
    "plt.xlabel('Número de Componentes')\n",
    "plt.ylabel('Ratio de Varianza Explicada Acumulada')\n",
    "plt.title('Ratio Varianza Explicada vs. Número Componentes')\n",
    "plt.grid(True)\n",
    "\n",
    "# Add threshold line\n",
    "plt.axhline(y=0.7, color='r', linestyle='--', \n",
    "            label='Umbral del 70% de varianza')\n",
    "plt.legend()\n",
    "plt.show()"
   ]
  },
  {
   "cell_type": "markdown",
   "metadata": {},
   "source": [
    "Y ahora, seleccionamos el número de componentes, así como el desglose que aporta cada uno de ellos al ratio de  explicabilidad. Primero el de análisis."
   ]
  },
  {
   "cell_type": "code",
   "execution_count": 53,
   "metadata": {
    "scrolled": true
   },
   "outputs": [
    {
     "name": "stdout",
     "output_type": "stream",
     "text": [
      "Número de componentes seleccionados: 898\n",
      "Varianza explicada con 898 componentes: 0.7001\n",
      "\n",
      "Varianza explicada por cada componente:\n",
      "Componente 1: 0.0023 (0.23%)\n",
      "Componente 2: 0.0064 (0.64%)\n",
      "Componente 3: 0.0062 (0.62%)\n",
      "Componente 4: 0.0051 (0.51%)\n",
      "Componente 5: 0.0047 (0.47%)\n",
      "Componente 6: 0.0046 (0.46%)\n",
      "Componente 7: 0.0043 (0.43%)\n",
      "Componente 8: 0.0042 (0.42%)\n",
      "Componente 9: 0.0039 (0.39%)\n",
      "Componente 10: 0.0038 (0.38%)\n",
      "Componente 11: 0.0036 (0.36%)\n",
      "Componente 12: 0.0035 (0.35%)\n",
      "Componente 13: 0.0034 (0.34%)\n",
      "Componente 14: 0.0033 (0.33%)\n",
      "Componente 15: 0.0032 (0.32%)\n",
      "Componente 16: 0.0032 (0.32%)\n",
      "Componente 17: 0.0030 (0.30%)\n",
      "Componente 18: 0.0030 (0.30%)\n",
      "Componente 19: 0.0030 (0.30%)\n",
      "Componente 20: 0.0029 (0.29%)\n",
      "Componente 21: 0.0028 (0.28%)\n",
      "Componente 22: 0.0028 (0.28%)\n",
      "Componente 23: 0.0028 (0.28%)\n",
      "Componente 24: 0.0027 (0.27%)\n",
      "Componente 25: 0.0027 (0.27%)\n",
      "Componente 26: 0.0027 (0.27%)\n",
      "Componente 27: 0.0026 (0.26%)\n",
      "Componente 28: 0.0026 (0.26%)\n",
      "Componente 29: 0.0026 (0.26%)\n",
      "Componente 30: 0.0025 (0.25%)\n",
      "Componente 31: 0.0025 (0.25%)\n",
      "Componente 32: 0.0025 (0.25%)\n",
      "Componente 33: 0.0024 (0.24%)\n",
      "Componente 34: 0.0024 (0.24%)\n",
      "Componente 35: 0.0024 (0.24%)\n",
      "Componente 36: 0.0023 (0.23%)\n",
      "Componente 37: 0.0023 (0.23%)\n",
      "Componente 38: 0.0023 (0.23%)\n",
      "Componente 39: 0.0023 (0.23%)\n",
      "Componente 40: 0.0022 (0.22%)\n",
      "Componente 41: 0.0022 (0.22%)\n",
      "Componente 42: 0.0022 (0.22%)\n",
      "Componente 43: 0.0022 (0.22%)\n",
      "Componente 44: 0.0021 (0.21%)\n",
      "Componente 45: 0.0021 (0.21%)\n",
      "Componente 46: 0.0021 (0.21%)\n",
      "Componente 47: 0.0021 (0.21%)\n",
      "Componente 48: 0.0021 (0.21%)\n",
      "Componente 49: 0.0020 (0.20%)\n",
      "Componente 50: 0.0020 (0.20%)\n",
      "Componente 51: 0.0020 (0.20%)\n",
      "Componente 52: 0.0020 (0.20%)\n",
      "Componente 53: 0.0019 (0.19%)\n",
      "Componente 54: 0.0019 (0.19%)\n",
      "Componente 55: 0.0019 (0.19%)\n",
      "Componente 56: 0.0019 (0.19%)\n",
      "Componente 57: 0.0019 (0.19%)\n",
      "Componente 58: 0.0019 (0.19%)\n",
      "Componente 59: 0.0019 (0.19%)\n",
      "Componente 60: 0.0019 (0.19%)\n",
      "Componente 61: 0.0018 (0.18%)\n",
      "Componente 62: 0.0018 (0.18%)\n",
      "Componente 63: 0.0018 (0.18%)\n",
      "Componente 64: 0.0018 (0.18%)\n",
      "Componente 65: 0.0018 (0.18%)\n",
      "Componente 66: 0.0018 (0.18%)\n",
      "Componente 67: 0.0017 (0.17%)\n",
      "Componente 68: 0.0017 (0.17%)\n",
      "Componente 69: 0.0017 (0.17%)\n",
      "Componente 70: 0.0017 (0.17%)\n",
      "Componente 71: 0.0017 (0.17%)\n",
      "Componente 72: 0.0017 (0.17%)\n",
      "Componente 73: 0.0017 (0.17%)\n",
      "Componente 74: 0.0017 (0.17%)\n",
      "Componente 75: 0.0016 (0.16%)\n",
      "Componente 76: 0.0016 (0.16%)\n",
      "Componente 77: 0.0016 (0.16%)\n",
      "Componente 78: 0.0016 (0.16%)\n",
      "Componente 79: 0.0016 (0.16%)\n",
      "Componente 80: 0.0016 (0.16%)\n",
      "Componente 81: 0.0016 (0.16%)\n",
      "Componente 82: 0.0016 (0.16%)\n",
      "Componente 83: 0.0016 (0.16%)\n",
      "Componente 84: 0.0015 (0.15%)\n",
      "Componente 85: 0.0015 (0.15%)\n",
      "Componente 86: 0.0015 (0.15%)\n",
      "Componente 87: 0.0015 (0.15%)\n",
      "Componente 88: 0.0015 (0.15%)\n",
      "Componente 89: 0.0015 (0.15%)\n",
      "Componente 90: 0.0015 (0.15%)\n",
      "Componente 91: 0.0015 (0.15%)\n",
      "Componente 92: 0.0015 (0.15%)\n",
      "Componente 93: 0.0015 (0.15%)\n",
      "Componente 94: 0.0015 (0.15%)\n",
      "Componente 95: 0.0015 (0.15%)\n",
      "Componente 96: 0.0014 (0.14%)\n",
      "Componente 97: 0.0014 (0.14%)\n",
      "Componente 98: 0.0014 (0.14%)\n",
      "Componente 99: 0.0014 (0.14%)\n",
      "Componente 100: 0.0014 (0.14%)\n",
      "Componente 101: 0.0014 (0.14%)\n",
      "Componente 102: 0.0014 (0.14%)\n",
      "Componente 103: 0.0014 (0.14%)\n",
      "Componente 104: 0.0014 (0.14%)\n",
      "Componente 105: 0.0014 (0.14%)\n",
      "Componente 106: 0.0014 (0.14%)\n",
      "Componente 107: 0.0014 (0.14%)\n",
      "Componente 108: 0.0014 (0.14%)\n",
      "Componente 109: 0.0013 (0.13%)\n",
      "Componente 110: 0.0013 (0.13%)\n",
      "Componente 111: 0.0013 (0.13%)\n",
      "Componente 112: 0.0013 (0.13%)\n",
      "Componente 113: 0.0013 (0.13%)\n",
      "Componente 114: 0.0013 (0.13%)\n",
      "Componente 115: 0.0013 (0.13%)\n",
      "Componente 116: 0.0013 (0.13%)\n",
      "Componente 117: 0.0013 (0.13%)\n",
      "Componente 118: 0.0013 (0.13%)\n",
      "Componente 119: 0.0013 (0.13%)\n",
      "Componente 120: 0.0013 (0.13%)\n",
      "Componente 121: 0.0013 (0.13%)\n",
      "Componente 122: 0.0013 (0.13%)\n",
      "Componente 123: 0.0012 (0.12%)\n",
      "Componente 124: 0.0012 (0.12%)\n",
      "Componente 125: 0.0012 (0.12%)\n",
      "Componente 126: 0.0012 (0.12%)\n",
      "Componente 127: 0.0012 (0.12%)\n",
      "Componente 128: 0.0012 (0.12%)\n",
      "Componente 129: 0.0012 (0.12%)\n",
      "Componente 130: 0.0012 (0.12%)\n",
      "Componente 131: 0.0012 (0.12%)\n",
      "Componente 132: 0.0012 (0.12%)\n",
      "Componente 133: 0.0012 (0.12%)\n",
      "Componente 134: 0.0012 (0.12%)\n",
      "Componente 135: 0.0012 (0.12%)\n",
      "Componente 136: 0.0012 (0.12%)\n",
      "Componente 137: 0.0012 (0.12%)\n",
      "Componente 138: 0.0012 (0.12%)\n",
      "Componente 139: 0.0012 (0.12%)\n",
      "Componente 140: 0.0012 (0.12%)\n",
      "Componente 141: 0.0012 (0.12%)\n",
      "Componente 142: 0.0011 (0.11%)\n",
      "Componente 143: 0.0011 (0.11%)\n",
      "Componente 144: 0.0011 (0.11%)\n",
      "Componente 145: 0.0011 (0.11%)\n",
      "Componente 146: 0.0011 (0.11%)\n",
      "Componente 147: 0.0011 (0.11%)\n",
      "Componente 148: 0.0011 (0.11%)\n",
      "Componente 149: 0.0011 (0.11%)\n",
      "Componente 150: 0.0011 (0.11%)\n",
      "Componente 151: 0.0011 (0.11%)\n",
      "Componente 152: 0.0011 (0.11%)\n",
      "Componente 153: 0.0011 (0.11%)\n",
      "Componente 154: 0.0011 (0.11%)\n",
      "Componente 155: 0.0011 (0.11%)\n",
      "Componente 156: 0.0011 (0.11%)\n",
      "Componente 157: 0.0011 (0.11%)\n",
      "Componente 158: 0.0011 (0.11%)\n",
      "Componente 159: 0.0011 (0.11%)\n",
      "Componente 160: 0.0011 (0.11%)\n",
      "Componente 161: 0.0011 (0.11%)\n",
      "Componente 162: 0.0011 (0.11%)\n",
      "Componente 163: 0.0011 (0.11%)\n",
      "Componente 164: 0.0010 (0.10%)\n",
      "Componente 165: 0.0010 (0.10%)\n",
      "Componente 166: 0.0010 (0.10%)\n",
      "Componente 167: 0.0010 (0.10%)\n",
      "Componente 168: 0.0010 (0.10%)\n",
      "Componente 169: 0.0010 (0.10%)\n",
      "Componente 170: 0.0010 (0.10%)\n",
      "Componente 171: 0.0010 (0.10%)\n",
      "Componente 172: 0.0010 (0.10%)\n",
      "Componente 173: 0.0010 (0.10%)\n",
      "Componente 174: 0.0010 (0.10%)\n",
      "Componente 175: 0.0010 (0.10%)\n",
      "Componente 176: 0.0010 (0.10%)\n",
      "Componente 177: 0.0010 (0.10%)\n",
      "Componente 178: 0.0010 (0.10%)\n",
      "Componente 179: 0.0010 (0.10%)\n",
      "Componente 180: 0.0010 (0.10%)\n",
      "Componente 181: 0.0010 (0.10%)\n",
      "Componente 182: 0.0010 (0.10%)\n",
      "Componente 183: 0.0010 (0.10%)\n",
      "Componente 184: 0.0010 (0.10%)\n",
      "Componente 185: 0.0010 (0.10%)\n",
      "Componente 186: 0.0010 (0.10%)\n",
      "Componente 187: 0.0010 (0.10%)\n",
      "Componente 188: 0.0010 (0.10%)\n",
      "Componente 189: 0.0010 (0.10%)\n",
      "Componente 190: 0.0010 (0.10%)\n",
      "Componente 191: 0.0010 (0.10%)\n",
      "Componente 192: 0.0010 (0.10%)\n",
      "Componente 193: 0.0010 (0.10%)\n",
      "Componente 194: 0.0010 (0.10%)\n",
      "Componente 195: 0.0010 (0.10%)\n",
      "Componente 196: 0.0009 (0.09%)\n",
      "Componente 197: 0.0009 (0.09%)\n",
      "Componente 198: 0.0009 (0.09%)\n",
      "Componente 199: 0.0009 (0.09%)\n",
      "Componente 200: 0.0009 (0.09%)\n",
      "Componente 201: 0.0009 (0.09%)\n",
      "Componente 202: 0.0009 (0.09%)\n",
      "Componente 203: 0.0009 (0.09%)\n",
      "Componente 204: 0.0009 (0.09%)\n",
      "Componente 205: 0.0009 (0.09%)\n",
      "Componente 206: 0.0009 (0.09%)\n",
      "Componente 207: 0.0009 (0.09%)\n",
      "Componente 208: 0.0009 (0.09%)\n",
      "Componente 209: 0.0009 (0.09%)\n",
      "Componente 210: 0.0009 (0.09%)\n",
      "Componente 211: 0.0009 (0.09%)\n",
      "Componente 212: 0.0009 (0.09%)\n",
      "Componente 213: 0.0009 (0.09%)\n",
      "Componente 214: 0.0009 (0.09%)\n",
      "Componente 215: 0.0009 (0.09%)\n",
      "Componente 216: 0.0009 (0.09%)\n",
      "Componente 217: 0.0009 (0.09%)\n",
      "Componente 218: 0.0009 (0.09%)\n",
      "Componente 219: 0.0009 (0.09%)\n",
      "Componente 220: 0.0009 (0.09%)\n",
      "Componente 221: 0.0009 (0.09%)\n",
      "Componente 222: 0.0009 (0.09%)\n",
      "Componente 223: 0.0009 (0.09%)\n",
      "Componente 224: 0.0009 (0.09%)\n",
      "Componente 225: 0.0009 (0.09%)\n",
      "Componente 226: 0.0009 (0.09%)\n",
      "Componente 227: 0.0009 (0.09%)\n",
      "Componente 228: 0.0009 (0.09%)\n",
      "Componente 229: 0.0009 (0.09%)\n",
      "Componente 230: 0.0009 (0.09%)\n",
      "Componente 231: 0.0009 (0.09%)\n",
      "Componente 232: 0.0008 (0.08%)\n",
      "Componente 233: 0.0008 (0.08%)\n",
      "Componente 234: 0.0008 (0.08%)\n",
      "Componente 235: 0.0008 (0.08%)\n",
      "Componente 236: 0.0008 (0.08%)\n",
      "Componente 237: 0.0008 (0.08%)\n",
      "Componente 238: 0.0008 (0.08%)\n",
      "Componente 239: 0.0008 (0.08%)\n",
      "Componente 240: 0.0008 (0.08%)\n",
      "Componente 241: 0.0008 (0.08%)\n",
      "Componente 242: 0.0008 (0.08%)\n",
      "Componente 243: 0.0008 (0.08%)\n",
      "Componente 244: 0.0008 (0.08%)\n",
      "Componente 245: 0.0008 (0.08%)\n",
      "Componente 246: 0.0008 (0.08%)\n",
      "Componente 247: 0.0008 (0.08%)\n",
      "Componente 248: 0.0008 (0.08%)\n",
      "Componente 249: 0.0008 (0.08%)\n",
      "Componente 250: 0.0008 (0.08%)\n",
      "Componente 251: 0.0008 (0.08%)\n",
      "Componente 252: 0.0008 (0.08%)\n",
      "Componente 253: 0.0008 (0.08%)\n",
      "Componente 254: 0.0008 (0.08%)\n",
      "Componente 255: 0.0008 (0.08%)\n",
      "Componente 256: 0.0008 (0.08%)\n",
      "Componente 257: 0.0008 (0.08%)\n",
      "Componente 258: 0.0008 (0.08%)\n",
      "Componente 259: 0.0008 (0.08%)\n",
      "Componente 260: 0.0008 (0.08%)\n",
      "Componente 261: 0.0008 (0.08%)\n",
      "Componente 262: 0.0008 (0.08%)\n",
      "Componente 263: 0.0008 (0.08%)\n",
      "Componente 264: 0.0008 (0.08%)\n",
      "Componente 265: 0.0008 (0.08%)\n",
      "Componente 266: 0.0008 (0.08%)\n",
      "Componente 267: 0.0008 (0.08%)\n",
      "Componente 268: 0.0008 (0.08%)\n",
      "Componente 269: 0.0008 (0.08%)\n",
      "Componente 270: 0.0008 (0.08%)\n",
      "Componente 271: 0.0008 (0.08%)\n",
      "Componente 272: 0.0008 (0.08%)\n",
      "Componente 273: 0.0008 (0.08%)\n",
      "Componente 274: 0.0008 (0.08%)\n",
      "Componente 275: 0.0008 (0.08%)\n",
      "Componente 276: 0.0008 (0.08%)\n",
      "Componente 277: 0.0007 (0.07%)\n",
      "Componente 278: 0.0007 (0.07%)\n",
      "Componente 279: 0.0007 (0.07%)\n",
      "Componente 280: 0.0007 (0.07%)\n",
      "Componente 281: 0.0007 (0.07%)\n",
      "Componente 282: 0.0007 (0.07%)\n",
      "Componente 283: 0.0007 (0.07%)\n",
      "Componente 284: 0.0007 (0.07%)\n",
      "Componente 285: 0.0007 (0.07%)\n",
      "Componente 286: 0.0007 (0.07%)\n",
      "Componente 287: 0.0007 (0.07%)\n",
      "Componente 288: 0.0007 (0.07%)\n",
      "Componente 289: 0.0007 (0.07%)\n",
      "Componente 290: 0.0007 (0.07%)\n",
      "Componente 291: 0.0007 (0.07%)\n",
      "Componente 292: 0.0007 (0.07%)\n",
      "Componente 293: 0.0007 (0.07%)\n",
      "Componente 294: 0.0007 (0.07%)\n",
      "Componente 295: 0.0007 (0.07%)\n",
      "Componente 296: 0.0007 (0.07%)\n",
      "Componente 297: 0.0007 (0.07%)\n",
      "Componente 298: 0.0007 (0.07%)\n",
      "Componente 299: 0.0007 (0.07%)\n",
      "Componente 300: 0.0007 (0.07%)\n",
      "Componente 301: 0.0007 (0.07%)\n",
      "Componente 302: 0.0007 (0.07%)\n",
      "Componente 303: 0.0007 (0.07%)\n",
      "Componente 304: 0.0007 (0.07%)\n",
      "Componente 305: 0.0007 (0.07%)\n",
      "Componente 306: 0.0007 (0.07%)\n",
      "Componente 307: 0.0007 (0.07%)\n",
      "Componente 308: 0.0007 (0.07%)\n",
      "Componente 309: 0.0007 (0.07%)\n",
      "Componente 310: 0.0007 (0.07%)\n",
      "Componente 311: 0.0007 (0.07%)\n",
      "Componente 312: 0.0007 (0.07%)\n",
      "Componente 313: 0.0007 (0.07%)\n",
      "Componente 314: 0.0007 (0.07%)\n",
      "Componente 315: 0.0007 (0.07%)\n",
      "Componente 316: 0.0007 (0.07%)\n",
      "Componente 317: 0.0007 (0.07%)\n",
      "Componente 318: 0.0007 (0.07%)\n",
      "Componente 319: 0.0007 (0.07%)\n",
      "Componente 320: 0.0007 (0.07%)\n",
      "Componente 321: 0.0007 (0.07%)\n",
      "Componente 322: 0.0007 (0.07%)\n",
      "Componente 323: 0.0007 (0.07%)\n",
      "Componente 324: 0.0007 (0.07%)\n",
      "Componente 325: 0.0007 (0.07%)\n",
      "Componente 326: 0.0007 (0.07%)\n",
      "Componente 327: 0.0007 (0.07%)\n",
      "Componente 328: 0.0007 (0.07%)\n",
      "Componente 329: 0.0007 (0.07%)\n",
      "Componente 330: 0.0007 (0.07%)\n",
      "Componente 331: 0.0007 (0.07%)\n",
      "Componente 332: 0.0007 (0.07%)\n",
      "Componente 333: 0.0007 (0.07%)\n",
      "Componente 334: 0.0007 (0.07%)\n",
      "Componente 335: 0.0007 (0.07%)\n",
      "Componente 336: 0.0007 (0.07%)\n",
      "Componente 337: 0.0007 (0.07%)\n",
      "Componente 338: 0.0007 (0.07%)\n",
      "Componente 339: 0.0007 (0.07%)\n",
      "Componente 340: 0.0007 (0.07%)\n",
      "Componente 341: 0.0007 (0.07%)\n",
      "Componente 342: 0.0007 (0.07%)\n",
      "Componente 343: 0.0007 (0.07%)\n",
      "Componente 344: 0.0006 (0.06%)\n",
      "Componente 345: 0.0006 (0.06%)\n",
      "Componente 346: 0.0006 (0.06%)\n",
      "Componente 347: 0.0006 (0.06%)\n",
      "Componente 348: 0.0006 (0.06%)\n",
      "Componente 349: 0.0006 (0.06%)\n",
      "Componente 350: 0.0006 (0.06%)\n",
      "Componente 351: 0.0006 (0.06%)\n",
      "Componente 352: 0.0006 (0.06%)\n",
      "Componente 353: 0.0006 (0.06%)\n",
      "Componente 354: 0.0006 (0.06%)\n",
      "Componente 355: 0.0006 (0.06%)\n",
      "Componente 356: 0.0006 (0.06%)\n",
      "Componente 357: 0.0006 (0.06%)\n",
      "Componente 358: 0.0006 (0.06%)\n",
      "Componente 359: 0.0006 (0.06%)\n",
      "Componente 360: 0.0006 (0.06%)\n",
      "Componente 361: 0.0006 (0.06%)\n",
      "Componente 362: 0.0006 (0.06%)\n",
      "Componente 363: 0.0006 (0.06%)\n",
      "Componente 364: 0.0006 (0.06%)\n",
      "Componente 365: 0.0006 (0.06%)\n",
      "Componente 366: 0.0006 (0.06%)\n",
      "Componente 367: 0.0006 (0.06%)\n",
      "Componente 368: 0.0006 (0.06%)\n",
      "Componente 369: 0.0006 (0.06%)\n",
      "Componente 370: 0.0006 (0.06%)\n",
      "Componente 371: 0.0006 (0.06%)\n",
      "Componente 372: 0.0006 (0.06%)\n",
      "Componente 373: 0.0006 (0.06%)\n",
      "Componente 374: 0.0006 (0.06%)\n",
      "Componente 375: 0.0006 (0.06%)\n",
      "Componente 376: 0.0006 (0.06%)\n",
      "Componente 377: 0.0006 (0.06%)\n",
      "Componente 378: 0.0006 (0.06%)\n",
      "Componente 379: 0.0006 (0.06%)\n",
      "Componente 380: 0.0006 (0.06%)\n",
      "Componente 381: 0.0006 (0.06%)\n",
      "Componente 382: 0.0006 (0.06%)\n",
      "Componente 383: 0.0006 (0.06%)\n",
      "Componente 384: 0.0006 (0.06%)\n",
      "Componente 385: 0.0006 (0.06%)\n",
      "Componente 386: 0.0006 (0.06%)\n",
      "Componente 387: 0.0006 (0.06%)\n",
      "Componente 388: 0.0006 (0.06%)\n",
      "Componente 389: 0.0006 (0.06%)\n",
      "Componente 390: 0.0006 (0.06%)\n",
      "Componente 391: 0.0006 (0.06%)\n",
      "Componente 392: 0.0006 (0.06%)\n",
      "Componente 393: 0.0006 (0.06%)\n",
      "Componente 394: 0.0006 (0.06%)\n",
      "Componente 395: 0.0006 (0.06%)\n",
      "Componente 396: 0.0006 (0.06%)\n",
      "Componente 397: 0.0006 (0.06%)\n",
      "Componente 398: 0.0006 (0.06%)\n",
      "Componente 399: 0.0006 (0.06%)\n",
      "Componente 400: 0.0006 (0.06%)\n",
      "Componente 401: 0.0006 (0.06%)\n",
      "Componente 402: 0.0006 (0.06%)\n",
      "Componente 403: 0.0006 (0.06%)\n",
      "Componente 404: 0.0006 (0.06%)\n",
      "Componente 405: 0.0006 (0.06%)\n",
      "Componente 406: 0.0006 (0.06%)\n",
      "Componente 407: 0.0006 (0.06%)\n",
      "Componente 408: 0.0006 (0.06%)\n",
      "Componente 409: 0.0006 (0.06%)\n",
      "Componente 410: 0.0006 (0.06%)\n",
      "Componente 411: 0.0006 (0.06%)\n",
      "Componente 412: 0.0006 (0.06%)\n",
      "Componente 413: 0.0006 (0.06%)\n",
      "Componente 414: 0.0006 (0.06%)\n",
      "Componente 415: 0.0006 (0.06%)\n",
      "Componente 416: 0.0006 (0.06%)\n",
      "Componente 417: 0.0006 (0.06%)\n",
      "Componente 418: 0.0006 (0.06%)\n",
      "Componente 419: 0.0006 (0.06%)\n",
      "Componente 420: 0.0006 (0.06%)\n",
      "Componente 421: 0.0006 (0.06%)\n",
      "Componente 422: 0.0006 (0.06%)\n",
      "Componente 423: 0.0006 (0.06%)\n",
      "Componente 424: 0.0006 (0.06%)\n",
      "Componente 425: 0.0006 (0.06%)\n",
      "Componente 426: 0.0006 (0.06%)\n",
      "Componente 427: 0.0006 (0.06%)\n",
      "Componente 428: 0.0006 (0.06%)\n",
      "Componente 429: 0.0006 (0.06%)\n",
      "Componente 430: 0.0006 (0.06%)\n",
      "Componente 431: 0.0006 (0.06%)\n",
      "Componente 432: 0.0006 (0.06%)\n",
      "Componente 433: 0.0006 (0.06%)\n",
      "Componente 434: 0.0006 (0.06%)\n",
      "Componente 435: 0.0006 (0.06%)\n",
      "Componente 436: 0.0006 (0.06%)\n",
      "Componente 437: 0.0006 (0.06%)\n",
      "Componente 438: 0.0005 (0.05%)\n",
      "Componente 439: 0.0005 (0.05%)\n",
      "Componente 440: 0.0005 (0.05%)\n",
      "Componente 441: 0.0005 (0.05%)\n",
      "Componente 442: 0.0005 (0.05%)\n",
      "Componente 443: 0.0005 (0.05%)\n",
      "Componente 444: 0.0005 (0.05%)\n",
      "Componente 445: 0.0005 (0.05%)\n",
      "Componente 446: 0.0005 (0.05%)\n",
      "Componente 447: 0.0005 (0.05%)\n",
      "Componente 448: 0.0005 (0.05%)\n",
      "Componente 449: 0.0005 (0.05%)\n",
      "Componente 450: 0.0005 (0.05%)\n",
      "Componente 451: 0.0005 (0.05%)\n",
      "Componente 452: 0.0005 (0.05%)\n",
      "Componente 453: 0.0005 (0.05%)\n",
      "Componente 454: 0.0005 (0.05%)\n",
      "Componente 455: 0.0005 (0.05%)\n",
      "Componente 456: 0.0005 (0.05%)\n",
      "Componente 457: 0.0005 (0.05%)\n",
      "Componente 458: 0.0005 (0.05%)\n",
      "Componente 459: 0.0005 (0.05%)\n",
      "Componente 460: 0.0005 (0.05%)\n",
      "Componente 461: 0.0005 (0.05%)\n",
      "Componente 462: 0.0005 (0.05%)\n",
      "Componente 463: 0.0005 (0.05%)\n",
      "Componente 464: 0.0005 (0.05%)\n",
      "Componente 465: 0.0005 (0.05%)\n",
      "Componente 466: 0.0005 (0.05%)\n",
      "Componente 467: 0.0005 (0.05%)\n",
      "Componente 468: 0.0005 (0.05%)\n",
      "Componente 469: 0.0005 (0.05%)\n",
      "Componente 470: 0.0005 (0.05%)\n",
      "Componente 471: 0.0005 (0.05%)\n",
      "Componente 472: 0.0005 (0.05%)\n",
      "Componente 473: 0.0005 (0.05%)\n",
      "Componente 474: 0.0005 (0.05%)\n",
      "Componente 475: 0.0005 (0.05%)\n",
      "Componente 476: 0.0005 (0.05%)\n",
      "Componente 477: 0.0005 (0.05%)\n",
      "Componente 478: 0.0005 (0.05%)\n",
      "Componente 479: 0.0005 (0.05%)\n",
      "Componente 480: 0.0005 (0.05%)\n",
      "Componente 481: 0.0005 (0.05%)\n",
      "Componente 482: 0.0005 (0.05%)\n",
      "Componente 483: 0.0005 (0.05%)\n",
      "Componente 484: 0.0005 (0.05%)\n",
      "Componente 485: 0.0005 (0.05%)\n",
      "Componente 486: 0.0005 (0.05%)\n",
      "Componente 487: 0.0005 (0.05%)\n",
      "Componente 488: 0.0005 (0.05%)\n",
      "Componente 489: 0.0005 (0.05%)\n",
      "Componente 490: 0.0005 (0.05%)\n",
      "Componente 491: 0.0005 (0.05%)\n",
      "Componente 492: 0.0005 (0.05%)\n",
      "Componente 493: 0.0005 (0.05%)\n",
      "Componente 494: 0.0005 (0.05%)\n",
      "Componente 495: 0.0005 (0.05%)\n",
      "Componente 496: 0.0005 (0.05%)\n",
      "Componente 497: 0.0005 (0.05%)\n",
      "Componente 498: 0.0005 (0.05%)\n",
      "Componente 499: 0.0005 (0.05%)\n",
      "Componente 500: 0.0005 (0.05%)\n",
      "Componente 501: 0.0005 (0.05%)\n",
      "Componente 502: 0.0005 (0.05%)\n",
      "Componente 503: 0.0005 (0.05%)\n",
      "Componente 504: 0.0005 (0.05%)\n",
      "Componente 505: 0.0005 (0.05%)\n",
      "Componente 506: 0.0005 (0.05%)\n",
      "Componente 507: 0.0005 (0.05%)\n",
      "Componente 508: 0.0005 (0.05%)\n",
      "Componente 509: 0.0005 (0.05%)\n",
      "Componente 510: 0.0005 (0.05%)\n",
      "Componente 511: 0.0005 (0.05%)\n",
      "Componente 512: 0.0005 (0.05%)\n",
      "Componente 513: 0.0005 (0.05%)\n",
      "Componente 514: 0.0005 (0.05%)\n",
      "Componente 515: 0.0005 (0.05%)\n",
      "Componente 516: 0.0005 (0.05%)\n",
      "Componente 517: 0.0005 (0.05%)\n",
      "Componente 518: 0.0005 (0.05%)\n",
      "Componente 519: 0.0005 (0.05%)\n",
      "Componente 520: 0.0005 (0.05%)\n",
      "Componente 521: 0.0005 (0.05%)\n",
      "Componente 522: 0.0005 (0.05%)\n",
      "Componente 523: 0.0005 (0.05%)\n",
      "Componente 524: 0.0005 (0.05%)\n",
      "Componente 525: 0.0005 (0.05%)\n",
      "Componente 526: 0.0005 (0.05%)\n",
      "Componente 527: 0.0005 (0.05%)\n",
      "Componente 528: 0.0005 (0.05%)\n",
      "Componente 529: 0.0005 (0.05%)\n",
      "Componente 530: 0.0005 (0.05%)\n",
      "Componente 531: 0.0005 (0.05%)\n",
      "Componente 532: 0.0005 (0.05%)\n",
      "Componente 533: 0.0005 (0.05%)\n",
      "Componente 534: 0.0005 (0.05%)\n",
      "Componente 535: 0.0005 (0.05%)\n",
      "Componente 536: 0.0005 (0.05%)\n",
      "Componente 537: 0.0005 (0.05%)\n",
      "Componente 538: 0.0005 (0.05%)\n",
      "Componente 539: 0.0005 (0.05%)\n",
      "Componente 540: 0.0005 (0.05%)\n",
      "Componente 541: 0.0005 (0.05%)\n",
      "Componente 542: 0.0005 (0.05%)\n",
      "Componente 543: 0.0005 (0.05%)\n",
      "Componente 544: 0.0005 (0.05%)\n",
      "Componente 545: 0.0005 (0.05%)\n",
      "Componente 546: 0.0005 (0.05%)\n",
      "Componente 547: 0.0005 (0.05%)\n",
      "Componente 548: 0.0005 (0.05%)\n",
      "Componente 549: 0.0005 (0.05%)\n",
      "Componente 550: 0.0005 (0.05%)\n",
      "Componente 551: 0.0005 (0.05%)\n",
      "Componente 552: 0.0005 (0.05%)\n",
      "Componente 553: 0.0005 (0.05%)\n",
      "Componente 554: 0.0005 (0.05%)\n",
      "Componente 555: 0.0005 (0.05%)\n",
      "Componente 556: 0.0005 (0.05%)\n",
      "Componente 557: 0.0005 (0.05%)\n",
      "Componente 558: 0.0005 (0.05%)\n",
      "Componente 559: 0.0005 (0.05%)\n",
      "Componente 560: 0.0005 (0.05%)\n",
      "Componente 561: 0.0005 (0.05%)\n",
      "Componente 562: 0.0005 (0.05%)\n",
      "Componente 563: 0.0005 (0.05%)\n",
      "Componente 564: 0.0005 (0.05%)\n",
      "Componente 565: 0.0005 (0.05%)\n",
      "Componente 566: 0.0005 (0.05%)\n",
      "Componente 567: 0.0005 (0.05%)\n",
      "Componente 568: 0.0005 (0.05%)\n",
      "Componente 569: 0.0005 (0.05%)\n",
      "Componente 570: 0.0005 (0.05%)\n",
      "Componente 571: 0.0005 (0.05%)\n",
      "Componente 572: 0.0005 (0.05%)\n",
      "Componente 573: 0.0005 (0.05%)\n",
      "Componente 574: 0.0005 (0.05%)\n",
      "Componente 575: 0.0005 (0.05%)\n",
      "Componente 576: 0.0005 (0.05%)\n",
      "Componente 577: 0.0005 (0.05%)\n",
      "Componente 578: 0.0004 (0.04%)\n",
      "Componente 579: 0.0004 (0.04%)\n",
      "Componente 580: 0.0004 (0.04%)\n",
      "Componente 581: 0.0004 (0.04%)\n",
      "Componente 582: 0.0004 (0.04%)\n",
      "Componente 583: 0.0004 (0.04%)\n",
      "Componente 584: 0.0004 (0.04%)\n",
      "Componente 585: 0.0004 (0.04%)\n",
      "Componente 586: 0.0004 (0.04%)\n",
      "Componente 587: 0.0004 (0.04%)\n",
      "Componente 588: 0.0004 (0.04%)\n",
      "Componente 589: 0.0004 (0.04%)\n",
      "Componente 590: 0.0004 (0.04%)\n",
      "Componente 591: 0.0004 (0.04%)\n",
      "Componente 592: 0.0004 (0.04%)\n",
      "Componente 593: 0.0004 (0.04%)\n",
      "Componente 594: 0.0004 (0.04%)\n",
      "Componente 595: 0.0004 (0.04%)\n",
      "Componente 596: 0.0004 (0.04%)\n",
      "Componente 597: 0.0004 (0.04%)\n",
      "Componente 598: 0.0004 (0.04%)\n",
      "Componente 599: 0.0004 (0.04%)\n",
      "Componente 600: 0.0004 (0.04%)\n",
      "Componente 601: 0.0004 (0.04%)\n",
      "Componente 602: 0.0004 (0.04%)\n",
      "Componente 603: 0.0004 (0.04%)\n",
      "Componente 604: 0.0004 (0.04%)\n",
      "Componente 605: 0.0004 (0.04%)\n",
      "Componente 606: 0.0004 (0.04%)\n",
      "Componente 607: 0.0004 (0.04%)\n",
      "Componente 608: 0.0004 (0.04%)\n",
      "Componente 609: 0.0004 (0.04%)\n",
      "Componente 610: 0.0004 (0.04%)\n",
      "Componente 611: 0.0004 (0.04%)\n",
      "Componente 612: 0.0004 (0.04%)\n",
      "Componente 613: 0.0004 (0.04%)\n",
      "Componente 614: 0.0004 (0.04%)\n",
      "Componente 615: 0.0004 (0.04%)\n",
      "Componente 616: 0.0004 (0.04%)\n",
      "Componente 617: 0.0004 (0.04%)\n",
      "Componente 618: 0.0004 (0.04%)\n",
      "Componente 619: 0.0004 (0.04%)\n",
      "Componente 620: 0.0004 (0.04%)\n",
      "Componente 621: 0.0004 (0.04%)\n",
      "Componente 622: 0.0004 (0.04%)\n",
      "Componente 623: 0.0004 (0.04%)\n",
      "Componente 624: 0.0004 (0.04%)\n",
      "Componente 625: 0.0004 (0.04%)\n",
      "Componente 626: 0.0004 (0.04%)\n",
      "Componente 627: 0.0004 (0.04%)\n",
      "Componente 628: 0.0004 (0.04%)\n",
      "Componente 629: 0.0004 (0.04%)\n",
      "Componente 630: 0.0004 (0.04%)\n",
      "Componente 631: 0.0004 (0.04%)\n",
      "Componente 632: 0.0004 (0.04%)\n",
      "Componente 633: 0.0004 (0.04%)\n",
      "Componente 634: 0.0004 (0.04%)\n",
      "Componente 635: 0.0004 (0.04%)\n",
      "Componente 636: 0.0004 (0.04%)\n",
      "Componente 637: 0.0004 (0.04%)\n",
      "Componente 638: 0.0004 (0.04%)\n",
      "Componente 639: 0.0004 (0.04%)\n",
      "Componente 640: 0.0004 (0.04%)\n",
      "Componente 641: 0.0004 (0.04%)\n",
      "Componente 642: 0.0004 (0.04%)\n",
      "Componente 643: 0.0004 (0.04%)\n",
      "Componente 644: 0.0004 (0.04%)\n",
      "Componente 645: 0.0004 (0.04%)\n",
      "Componente 646: 0.0004 (0.04%)\n",
      "Componente 647: 0.0004 (0.04%)\n",
      "Componente 648: 0.0004 (0.04%)\n",
      "Componente 649: 0.0004 (0.04%)\n",
      "Componente 650: 0.0004 (0.04%)\n",
      "Componente 651: 0.0004 (0.04%)\n",
      "Componente 652: 0.0004 (0.04%)\n",
      "Componente 653: 0.0004 (0.04%)\n",
      "Componente 654: 0.0004 (0.04%)\n",
      "Componente 655: 0.0004 (0.04%)\n",
      "Componente 656: 0.0004 (0.04%)\n",
      "Componente 657: 0.0004 (0.04%)\n",
      "Componente 658: 0.0004 (0.04%)\n",
      "Componente 659: 0.0004 (0.04%)\n",
      "Componente 660: 0.0004 (0.04%)\n",
      "Componente 661: 0.0004 (0.04%)\n",
      "Componente 662: 0.0004 (0.04%)\n",
      "Componente 663: 0.0004 (0.04%)\n",
      "Componente 664: 0.0004 (0.04%)\n",
      "Componente 665: 0.0004 (0.04%)\n",
      "Componente 666: 0.0004 (0.04%)\n",
      "Componente 667: 0.0004 (0.04%)\n",
      "Componente 668: 0.0004 (0.04%)\n",
      "Componente 669: 0.0004 (0.04%)\n",
      "Componente 670: 0.0004 (0.04%)\n",
      "Componente 671: 0.0004 (0.04%)\n",
      "Componente 672: 0.0004 (0.04%)\n",
      "Componente 673: 0.0004 (0.04%)\n",
      "Componente 674: 0.0004 (0.04%)\n",
      "Componente 675: 0.0004 (0.04%)\n",
      "Componente 676: 0.0004 (0.04%)\n",
      "Componente 677: 0.0004 (0.04%)\n",
      "Componente 678: 0.0004 (0.04%)\n",
      "Componente 679: 0.0004 (0.04%)\n",
      "Componente 680: 0.0004 (0.04%)\n",
      "Componente 681: 0.0004 (0.04%)\n",
      "Componente 682: 0.0004 (0.04%)\n",
      "Componente 683: 0.0004 (0.04%)\n",
      "Componente 684: 0.0004 (0.04%)\n",
      "Componente 685: 0.0004 (0.04%)\n",
      "Componente 686: 0.0004 (0.04%)\n",
      "Componente 687: 0.0004 (0.04%)\n",
      "Componente 688: 0.0004 (0.04%)\n",
      "Componente 689: 0.0004 (0.04%)\n",
      "Componente 690: 0.0004 (0.04%)\n",
      "Componente 691: 0.0004 (0.04%)\n",
      "Componente 692: 0.0004 (0.04%)\n",
      "Componente 693: 0.0004 (0.04%)\n",
      "Componente 694: 0.0004 (0.04%)\n",
      "Componente 695: 0.0004 (0.04%)\n",
      "Componente 696: 0.0004 (0.04%)\n",
      "Componente 697: 0.0004 (0.04%)\n",
      "Componente 698: 0.0004 (0.04%)\n",
      "Componente 699: 0.0004 (0.04%)\n",
      "Componente 700: 0.0004 (0.04%)\n",
      "Componente 701: 0.0004 (0.04%)\n",
      "Componente 702: 0.0004 (0.04%)\n",
      "Componente 703: 0.0004 (0.04%)\n",
      "Componente 704: 0.0004 (0.04%)\n",
      "Componente 705: 0.0004 (0.04%)\n",
      "Componente 706: 0.0004 (0.04%)\n",
      "Componente 707: 0.0004 (0.04%)\n",
      "Componente 708: 0.0004 (0.04%)\n",
      "Componente 709: 0.0004 (0.04%)\n",
      "Componente 710: 0.0004 (0.04%)\n",
      "Componente 711: 0.0004 (0.04%)\n",
      "Componente 712: 0.0004 (0.04%)\n",
      "Componente 713: 0.0004 (0.04%)\n",
      "Componente 714: 0.0004 (0.04%)\n",
      "Componente 715: 0.0004 (0.04%)\n",
      "Componente 716: 0.0004 (0.04%)\n",
      "Componente 717: 0.0004 (0.04%)\n",
      "Componente 718: 0.0004 (0.04%)\n",
      "Componente 719: 0.0004 (0.04%)\n",
      "Componente 720: 0.0004 (0.04%)\n",
      "Componente 721: 0.0004 (0.04%)\n",
      "Componente 722: 0.0004 (0.04%)\n",
      "Componente 723: 0.0004 (0.04%)\n",
      "Componente 724: 0.0004 (0.04%)\n",
      "Componente 725: 0.0004 (0.04%)\n",
      "Componente 726: 0.0004 (0.04%)\n",
      "Componente 727: 0.0004 (0.04%)\n",
      "Componente 728: 0.0004 (0.04%)\n",
      "Componente 729: 0.0004 (0.04%)\n",
      "Componente 730: 0.0004 (0.04%)\n",
      "Componente 731: 0.0004 (0.04%)\n",
      "Componente 732: 0.0004 (0.04%)\n",
      "Componente 733: 0.0004 (0.04%)\n",
      "Componente 734: 0.0004 (0.04%)\n",
      "Componente 735: 0.0004 (0.04%)\n",
      "Componente 736: 0.0004 (0.04%)\n",
      "Componente 737: 0.0004 (0.04%)\n",
      "Componente 738: 0.0004 (0.04%)\n",
      "Componente 739: 0.0004 (0.04%)\n",
      "Componente 740: 0.0004 (0.04%)\n",
      "Componente 741: 0.0004 (0.04%)\n",
      "Componente 742: 0.0004 (0.04%)\n",
      "Componente 743: 0.0004 (0.04%)\n",
      "Componente 744: 0.0004 (0.04%)\n",
      "Componente 745: 0.0004 (0.04%)\n",
      "Componente 746: 0.0004 (0.04%)\n",
      "Componente 747: 0.0004 (0.04%)\n",
      "Componente 748: 0.0004 (0.04%)\n",
      "Componente 749: 0.0004 (0.04%)\n",
      "Componente 750: 0.0004 (0.04%)\n",
      "Componente 751: 0.0004 (0.04%)\n",
      "Componente 752: 0.0004 (0.04%)\n",
      "Componente 753: 0.0004 (0.04%)\n",
      "Componente 754: 0.0004 (0.04%)\n",
      "Componente 755: 0.0004 (0.04%)\n",
      "Componente 756: 0.0004 (0.04%)\n",
      "Componente 757: 0.0004 (0.04%)\n",
      "Componente 758: 0.0004 (0.04%)\n",
      "Componente 759: 0.0004 (0.04%)\n",
      "Componente 760: 0.0004 (0.04%)\n",
      "Componente 761: 0.0004 (0.04%)\n",
      "Componente 762: 0.0004 (0.04%)\n",
      "Componente 763: 0.0004 (0.04%)\n",
      "Componente 764: 0.0004 (0.04%)\n",
      "Componente 765: 0.0004 (0.04%)\n",
      "Componente 766: 0.0004 (0.04%)\n",
      "Componente 767: 0.0004 (0.04%)\n",
      "Componente 768: 0.0004 (0.04%)\n",
      "Componente 769: 0.0004 (0.04%)\n",
      "Componente 770: 0.0004 (0.04%)\n",
      "Componente 771: 0.0004 (0.04%)\n",
      "Componente 772: 0.0004 (0.04%)\n",
      "Componente 773: 0.0004 (0.04%)\n",
      "Componente 774: 0.0004 (0.04%)\n",
      "Componente 775: 0.0004 (0.04%)\n",
      "Componente 776: 0.0004 (0.04%)\n",
      "Componente 777: 0.0004 (0.04%)\n",
      "Componente 778: 0.0004 (0.04%)\n",
      "Componente 779: 0.0004 (0.04%)\n",
      "Componente 780: 0.0004 (0.04%)\n",
      "Componente 781: 0.0004 (0.04%)\n",
      "Componente 782: 0.0004 (0.04%)\n",
      "Componente 783: 0.0004 (0.04%)\n",
      "Componente 784: 0.0004 (0.04%)\n",
      "Componente 785: 0.0003 (0.03%)\n",
      "Componente 786: 0.0003 (0.03%)\n",
      "Componente 787: 0.0003 (0.03%)\n",
      "Componente 788: 0.0003 (0.03%)\n",
      "Componente 789: 0.0003 (0.03%)\n",
      "Componente 790: 0.0003 (0.03%)\n",
      "Componente 791: 0.0003 (0.03%)\n",
      "Componente 792: 0.0003 (0.03%)\n",
      "Componente 793: 0.0003 (0.03%)\n",
      "Componente 794: 0.0003 (0.03%)\n",
      "Componente 795: 0.0003 (0.03%)\n",
      "Componente 796: 0.0003 (0.03%)\n",
      "Componente 797: 0.0003 (0.03%)\n",
      "Componente 798: 0.0003 (0.03%)\n",
      "Componente 799: 0.0003 (0.03%)\n",
      "Componente 800: 0.0003 (0.03%)\n",
      "Componente 801: 0.0003 (0.03%)\n",
      "Componente 802: 0.0003 (0.03%)\n",
      "Componente 803: 0.0003 (0.03%)\n",
      "Componente 804: 0.0003 (0.03%)\n",
      "Componente 805: 0.0003 (0.03%)\n",
      "Componente 806: 0.0003 (0.03%)\n",
      "Componente 807: 0.0003 (0.03%)\n",
      "Componente 808: 0.0003 (0.03%)\n",
      "Componente 809: 0.0003 (0.03%)\n",
      "Componente 810: 0.0003 (0.03%)\n",
      "Componente 811: 0.0003 (0.03%)\n",
      "Componente 812: 0.0003 (0.03%)\n",
      "Componente 813: 0.0003 (0.03%)\n",
      "Componente 814: 0.0003 (0.03%)\n",
      "Componente 815: 0.0003 (0.03%)\n",
      "Componente 816: 0.0003 (0.03%)\n",
      "Componente 817: 0.0003 (0.03%)\n",
      "Componente 818: 0.0003 (0.03%)\n",
      "Componente 819: 0.0003 (0.03%)\n",
      "Componente 820: 0.0003 (0.03%)\n",
      "Componente 821: 0.0003 (0.03%)\n",
      "Componente 822: 0.0003 (0.03%)\n",
      "Componente 823: 0.0003 (0.03%)\n",
      "Componente 824: 0.0003 (0.03%)\n",
      "Componente 825: 0.0003 (0.03%)\n",
      "Componente 826: 0.0003 (0.03%)\n",
      "Componente 827: 0.0003 (0.03%)\n",
      "Componente 828: 0.0003 (0.03%)\n",
      "Componente 829: 0.0003 (0.03%)\n",
      "Componente 830: 0.0003 (0.03%)\n",
      "Componente 831: 0.0003 (0.03%)\n",
      "Componente 832: 0.0003 (0.03%)\n",
      "Componente 833: 0.0003 (0.03%)\n",
      "Componente 834: 0.0003 (0.03%)\n",
      "Componente 835: 0.0003 (0.03%)\n",
      "Componente 836: 0.0003 (0.03%)\n",
      "Componente 837: 0.0003 (0.03%)\n",
      "Componente 838: 0.0003 (0.03%)\n",
      "Componente 839: 0.0003 (0.03%)\n",
      "Componente 840: 0.0003 (0.03%)\n",
      "Componente 841: 0.0003 (0.03%)\n",
      "Componente 842: 0.0003 (0.03%)\n",
      "Componente 843: 0.0003 (0.03%)\n",
      "Componente 844: 0.0003 (0.03%)\n",
      "Componente 845: 0.0003 (0.03%)\n",
      "Componente 846: 0.0003 (0.03%)\n",
      "Componente 847: 0.0003 (0.03%)\n",
      "Componente 848: 0.0003 (0.03%)\n",
      "Componente 849: 0.0003 (0.03%)\n",
      "Componente 850: 0.0003 (0.03%)\n",
      "Componente 851: 0.0003 (0.03%)\n",
      "Componente 852: 0.0003 (0.03%)\n",
      "Componente 853: 0.0003 (0.03%)\n",
      "Componente 854: 0.0003 (0.03%)\n",
      "Componente 855: 0.0003 (0.03%)\n",
      "Componente 856: 0.0003 (0.03%)\n",
      "Componente 857: 0.0003 (0.03%)\n",
      "Componente 858: 0.0003 (0.03%)\n",
      "Componente 859: 0.0003 (0.03%)\n",
      "Componente 860: 0.0003 (0.03%)\n",
      "Componente 861: 0.0003 (0.03%)\n",
      "Componente 862: 0.0003 (0.03%)\n",
      "Componente 863: 0.0003 (0.03%)\n",
      "Componente 864: 0.0003 (0.03%)\n",
      "Componente 865: 0.0003 (0.03%)\n",
      "Componente 866: 0.0003 (0.03%)\n",
      "Componente 867: 0.0003 (0.03%)\n",
      "Componente 868: 0.0003 (0.03%)\n",
      "Componente 869: 0.0003 (0.03%)\n",
      "Componente 870: 0.0003 (0.03%)\n",
      "Componente 871: 0.0003 (0.03%)\n",
      "Componente 872: 0.0003 (0.03%)\n",
      "Componente 873: 0.0003 (0.03%)\n",
      "Componente 874: 0.0003 (0.03%)\n",
      "Componente 875: 0.0003 (0.03%)\n",
      "Componente 876: 0.0003 (0.03%)\n",
      "Componente 877: 0.0003 (0.03%)\n",
      "Componente 878: 0.0003 (0.03%)\n",
      "Componente 879: 0.0003 (0.03%)\n",
      "Componente 880: 0.0003 (0.03%)\n",
      "Componente 881: 0.0003 (0.03%)\n",
      "Componente 882: 0.0003 (0.03%)\n",
      "Componente 883: 0.0003 (0.03%)\n",
      "Componente 884: 0.0003 (0.03%)\n",
      "Componente 885: 0.0003 (0.03%)\n",
      "Componente 886: 0.0003 (0.03%)\n",
      "Componente 887: 0.0003 (0.03%)\n",
      "Componente 888: 0.0003 (0.03%)\n",
      "Componente 889: 0.0003 (0.03%)\n",
      "Componente 890: 0.0003 (0.03%)\n",
      "Componente 891: 0.0003 (0.03%)\n",
      "Componente 892: 0.0003 (0.03%)\n",
      "Componente 893: 0.0003 (0.03%)\n",
      "Componente 894: 0.0003 (0.03%)\n",
      "Componente 895: 0.0003 (0.03%)\n",
      "Componente 896: 0.0003 (0.03%)\n",
      "Componente 897: 0.0003 (0.03%)\n",
      "Componente 898: 0.0003 (0.03%)\n"
     ]
    }
   ],
   "source": [
    "n_comp = np.argmax(cumulative_variance_ratio >= 0.7) + 1\n",
    "print(f\"Número de componentes seleccionados: {n_comp}\")\n",
    "print(f\"Varianza explicada con {n_comp} componentes: \"\n",
    "      f\"{cumulative_variance_ratio[n_comp-1]:.4f}\")\n",
    "\n",
    "# Display variance explained by each component\n",
    "print(\"\\nVarianza explicada por cada componente:\")\n",
    "for i, var in enumerate(svd.explained_variance_ratio_[:n_comp]):\n",
    "    print(f\"Componente {i+1}: {var:.4f} ({var*100:.2f}%)\")"
   ]
  },
  {
   "cell_type": "markdown",
   "metadata": {},
   "source": [
    "Y despues el de Kaggle."
   ]
  },
  {
   "cell_type": "code",
   "execution_count": 55,
   "metadata": {
    "scrolled": true
   },
   "outputs": [
    {
     "name": "stdout",
     "output_type": "stream",
     "text": [
      "Número de componentes seleccionados: 1063\n",
      "Varianza explicada con 1063 componentes: 0.7000\n",
      "\n",
      "Varianza explicada por cada componente:\n",
      "Componente 1: 0.0022 (0.22%)\n",
      "Componente 2: 0.0061 (0.61%)\n",
      "Componente 3: 0.0059 (0.59%)\n",
      "Componente 4: 0.0048 (0.48%)\n",
      "Componente 5: 0.0044 (0.44%)\n",
      "Componente 6: 0.0043 (0.43%)\n",
      "Componente 7: 0.0041 (0.41%)\n",
      "Componente 8: 0.0038 (0.38%)\n",
      "Componente 9: 0.0036 (0.36%)\n",
      "Componente 10: 0.0035 (0.35%)\n",
      "Componente 11: 0.0034 (0.34%)\n",
      "Componente 12: 0.0033 (0.33%)\n",
      "Componente 13: 0.0032 (0.32%)\n",
      "Componente 14: 0.0031 (0.31%)\n",
      "Componente 15: 0.0030 (0.30%)\n",
      "Componente 16: 0.0029 (0.29%)\n",
      "Componente 17: 0.0028 (0.28%)\n",
      "Componente 18: 0.0028 (0.28%)\n",
      "Componente 19: 0.0028 (0.28%)\n",
      "Componente 20: 0.0027 (0.27%)\n",
      "Componente 21: 0.0027 (0.27%)\n",
      "Componente 22: 0.0026 (0.26%)\n",
      "Componente 23: 0.0026 (0.26%)\n",
      "Componente 24: 0.0026 (0.26%)\n",
      "Componente 25: 0.0025 (0.25%)\n",
      "Componente 26: 0.0025 (0.25%)\n",
      "Componente 27: 0.0024 (0.24%)\n",
      "Componente 28: 0.0024 (0.24%)\n",
      "Componente 29: 0.0024 (0.24%)\n",
      "Componente 30: 0.0024 (0.24%)\n",
      "Componente 31: 0.0023 (0.23%)\n",
      "Componente 32: 0.0023 (0.23%)\n",
      "Componente 33: 0.0023 (0.23%)\n",
      "Componente 34: 0.0022 (0.22%)\n",
      "Componente 35: 0.0022 (0.22%)\n",
      "Componente 36: 0.0022 (0.22%)\n",
      "Componente 37: 0.0022 (0.22%)\n",
      "Componente 38: 0.0021 (0.21%)\n",
      "Componente 39: 0.0021 (0.21%)\n",
      "Componente 40: 0.0021 (0.21%)\n",
      "Componente 41: 0.0021 (0.21%)\n",
      "Componente 42: 0.0020 (0.20%)\n",
      "Componente 43: 0.0020 (0.20%)\n",
      "Componente 44: 0.0020 (0.20%)\n",
      "Componente 45: 0.0020 (0.20%)\n",
      "Componente 46: 0.0019 (0.19%)\n",
      "Componente 47: 0.0019 (0.19%)\n",
      "Componente 48: 0.0019 (0.19%)\n",
      "Componente 49: 0.0019 (0.19%)\n",
      "Componente 50: 0.0019 (0.19%)\n",
      "Componente 51: 0.0018 (0.18%)\n",
      "Componente 52: 0.0018 (0.18%)\n",
      "Componente 53: 0.0018 (0.18%)\n",
      "Componente 54: 0.0018 (0.18%)\n",
      "Componente 55: 0.0018 (0.18%)\n",
      "Componente 56: 0.0018 (0.18%)\n",
      "Componente 57: 0.0017 (0.17%)\n",
      "Componente 58: 0.0017 (0.17%)\n",
      "Componente 59: 0.0017 (0.17%)\n",
      "Componente 60: 0.0017 (0.17%)\n",
      "Componente 61: 0.0017 (0.17%)\n",
      "Componente 62: 0.0017 (0.17%)\n",
      "Componente 63: 0.0017 (0.17%)\n",
      "Componente 64: 0.0017 (0.17%)\n",
      "Componente 65: 0.0017 (0.17%)\n",
      "Componente 66: 0.0016 (0.16%)\n",
      "Componente 67: 0.0016 (0.16%)\n",
      "Componente 68: 0.0016 (0.16%)\n",
      "Componente 69: 0.0016 (0.16%)\n",
      "Componente 70: 0.0016 (0.16%)\n",
      "Componente 71: 0.0016 (0.16%)\n",
      "Componente 72: 0.0016 (0.16%)\n",
      "Componente 73: 0.0015 (0.15%)\n",
      "Componente 74: 0.0015 (0.15%)\n",
      "Componente 75: 0.0015 (0.15%)\n",
      "Componente 76: 0.0015 (0.15%)\n",
      "Componente 77: 0.0015 (0.15%)\n",
      "Componente 78: 0.0015 (0.15%)\n",
      "Componente 79: 0.0015 (0.15%)\n",
      "Componente 80: 0.0015 (0.15%)\n",
      "Componente 81: 0.0015 (0.15%)\n",
      "Componente 82: 0.0015 (0.15%)\n",
      "Componente 83: 0.0014 (0.14%)\n",
      "Componente 84: 0.0014 (0.14%)\n",
      "Componente 85: 0.0014 (0.14%)\n",
      "Componente 86: 0.0014 (0.14%)\n",
      "Componente 87: 0.0014 (0.14%)\n",
      "Componente 88: 0.0014 (0.14%)\n",
      "Componente 89: 0.0014 (0.14%)\n",
      "Componente 90: 0.0014 (0.14%)\n",
      "Componente 91: 0.0014 (0.14%)\n",
      "Componente 92: 0.0014 (0.14%)\n",
      "Componente 93: 0.0013 (0.13%)\n",
      "Componente 94: 0.0013 (0.13%)\n",
      "Componente 95: 0.0013 (0.13%)\n",
      "Componente 96: 0.0013 (0.13%)\n",
      "Componente 97: 0.0013 (0.13%)\n",
      "Componente 98: 0.0013 (0.13%)\n",
      "Componente 99: 0.0013 (0.13%)\n",
      "Componente 100: 0.0013 (0.13%)\n",
      "Componente 101: 0.0013 (0.13%)\n",
      "Componente 102: 0.0013 (0.13%)\n",
      "Componente 103: 0.0013 (0.13%)\n",
      "Componente 104: 0.0013 (0.13%)\n",
      "Componente 105: 0.0013 (0.13%)\n",
      "Componente 106: 0.0013 (0.13%)\n",
      "Componente 107: 0.0012 (0.12%)\n",
      "Componente 108: 0.0012 (0.12%)\n",
      "Componente 109: 0.0012 (0.12%)\n",
      "Componente 110: 0.0012 (0.12%)\n",
      "Componente 111: 0.0012 (0.12%)\n",
      "Componente 112: 0.0012 (0.12%)\n",
      "Componente 113: 0.0012 (0.12%)\n",
      "Componente 114: 0.0012 (0.12%)\n",
      "Componente 115: 0.0012 (0.12%)\n",
      "Componente 116: 0.0012 (0.12%)\n",
      "Componente 117: 0.0012 (0.12%)\n",
      "Componente 118: 0.0012 (0.12%)\n",
      "Componente 119: 0.0012 (0.12%)\n",
      "Componente 120: 0.0012 (0.12%)\n",
      "Componente 121: 0.0012 (0.12%)\n",
      "Componente 122: 0.0012 (0.12%)\n",
      "Componente 123: 0.0011 (0.11%)\n",
      "Componente 124: 0.0011 (0.11%)\n",
      "Componente 125: 0.0011 (0.11%)\n",
      "Componente 126: 0.0011 (0.11%)\n",
      "Componente 127: 0.0011 (0.11%)\n",
      "Componente 128: 0.0011 (0.11%)\n",
      "Componente 129: 0.0011 (0.11%)\n",
      "Componente 130: 0.0011 (0.11%)\n",
      "Componente 131: 0.0011 (0.11%)\n",
      "Componente 132: 0.0011 (0.11%)\n",
      "Componente 133: 0.0011 (0.11%)\n",
      "Componente 134: 0.0011 (0.11%)\n",
      "Componente 135: 0.0011 (0.11%)\n",
      "Componente 136: 0.0011 (0.11%)\n",
      "Componente 137: 0.0011 (0.11%)\n",
      "Componente 138: 0.0011 (0.11%)\n",
      "Componente 139: 0.0011 (0.11%)\n",
      "Componente 140: 0.0011 (0.11%)\n",
      "Componente 141: 0.0011 (0.11%)\n",
      "Componente 142: 0.0011 (0.11%)\n",
      "Componente 143: 0.0011 (0.11%)\n",
      "Componente 144: 0.0010 (0.10%)\n",
      "Componente 145: 0.0010 (0.10%)\n",
      "Componente 146: 0.0010 (0.10%)\n",
      "Componente 147: 0.0010 (0.10%)\n",
      "Componente 148: 0.0010 (0.10%)\n",
      "Componente 149: 0.0010 (0.10%)\n",
      "Componente 150: 0.0010 (0.10%)\n",
      "Componente 151: 0.0010 (0.10%)\n",
      "Componente 152: 0.0010 (0.10%)\n",
      "Componente 153: 0.0010 (0.10%)\n",
      "Componente 154: 0.0010 (0.10%)\n",
      "Componente 155: 0.0010 (0.10%)\n",
      "Componente 156: 0.0010 (0.10%)\n",
      "Componente 157: 0.0010 (0.10%)\n",
      "Componente 158: 0.0010 (0.10%)\n",
      "Componente 159: 0.0010 (0.10%)\n",
      "Componente 160: 0.0010 (0.10%)\n",
      "Componente 161: 0.0010 (0.10%)\n",
      "Componente 162: 0.0010 (0.10%)\n",
      "Componente 163: 0.0010 (0.10%)\n",
      "Componente 164: 0.0010 (0.10%)\n",
      "Componente 165: 0.0010 (0.10%)\n",
      "Componente 166: 0.0010 (0.10%)\n",
      "Componente 167: 0.0010 (0.10%)\n",
      "Componente 168: 0.0010 (0.10%)\n",
      "Componente 169: 0.0010 (0.10%)\n",
      "Componente 170: 0.0010 (0.10%)\n",
      "Componente 171: 0.0010 (0.10%)\n",
      "Componente 172: 0.0010 (0.10%)\n",
      "Componente 173: 0.0009 (0.09%)\n",
      "Componente 174: 0.0009 (0.09%)\n",
      "Componente 175: 0.0009 (0.09%)\n",
      "Componente 176: 0.0009 (0.09%)\n",
      "Componente 177: 0.0009 (0.09%)\n",
      "Componente 178: 0.0009 (0.09%)\n",
      "Componente 179: 0.0009 (0.09%)\n",
      "Componente 180: 0.0009 (0.09%)\n",
      "Componente 181: 0.0009 (0.09%)\n",
      "Componente 182: 0.0009 (0.09%)\n",
      "Componente 183: 0.0009 (0.09%)\n",
      "Componente 184: 0.0009 (0.09%)\n",
      "Componente 185: 0.0009 (0.09%)\n",
      "Componente 186: 0.0009 (0.09%)\n",
      "Componente 187: 0.0009 (0.09%)\n",
      "Componente 188: 0.0009 (0.09%)\n",
      "Componente 189: 0.0009 (0.09%)\n",
      "Componente 190: 0.0009 (0.09%)\n",
      "Componente 191: 0.0009 (0.09%)\n",
      "Componente 192: 0.0009 (0.09%)\n",
      "Componente 193: 0.0009 (0.09%)\n",
      "Componente 194: 0.0009 (0.09%)\n",
      "Componente 195: 0.0009 (0.09%)\n",
      "Componente 196: 0.0009 (0.09%)\n",
      "Componente 197: 0.0009 (0.09%)\n",
      "Componente 198: 0.0009 (0.09%)\n",
      "Componente 199: 0.0009 (0.09%)\n",
      "Componente 200: 0.0009 (0.09%)\n",
      "Componente 201: 0.0009 (0.09%)\n",
      "Componente 202: 0.0009 (0.09%)\n",
      "Componente 203: 0.0009 (0.09%)\n",
      "Componente 204: 0.0009 (0.09%)\n",
      "Componente 205: 0.0009 (0.09%)\n",
      "Componente 206: 0.0009 (0.09%)\n",
      "Componente 207: 0.0009 (0.09%)\n",
      "Componente 208: 0.0008 (0.08%)\n",
      "Componente 209: 0.0008 (0.08%)\n",
      "Componente 210: 0.0008 (0.08%)\n",
      "Componente 211: 0.0008 (0.08%)\n",
      "Componente 212: 0.0008 (0.08%)\n",
      "Componente 213: 0.0008 (0.08%)\n",
      "Componente 214: 0.0008 (0.08%)\n",
      "Componente 215: 0.0008 (0.08%)\n",
      "Componente 216: 0.0008 (0.08%)\n",
      "Componente 217: 0.0008 (0.08%)\n",
      "Componente 218: 0.0008 (0.08%)\n",
      "Componente 219: 0.0008 (0.08%)\n",
      "Componente 220: 0.0008 (0.08%)\n",
      "Componente 221: 0.0008 (0.08%)\n",
      "Componente 222: 0.0008 (0.08%)\n",
      "Componente 223: 0.0008 (0.08%)\n",
      "Componente 224: 0.0008 (0.08%)\n",
      "Componente 225: 0.0008 (0.08%)\n",
      "Componente 226: 0.0008 (0.08%)\n",
      "Componente 227: 0.0008 (0.08%)\n",
      "Componente 228: 0.0008 (0.08%)\n",
      "Componente 229: 0.0008 (0.08%)\n",
      "Componente 230: 0.0008 (0.08%)\n",
      "Componente 231: 0.0008 (0.08%)\n",
      "Componente 232: 0.0008 (0.08%)\n",
      "Componente 233: 0.0008 (0.08%)\n",
      "Componente 234: 0.0008 (0.08%)\n",
      "Componente 235: 0.0008 (0.08%)\n",
      "Componente 236: 0.0008 (0.08%)\n",
      "Componente 237: 0.0008 (0.08%)\n",
      "Componente 238: 0.0008 (0.08%)\n",
      "Componente 239: 0.0008 (0.08%)\n",
      "Componente 240: 0.0008 (0.08%)\n",
      "Componente 241: 0.0008 (0.08%)\n",
      "Componente 242: 0.0008 (0.08%)\n",
      "Componente 243: 0.0008 (0.08%)\n",
      "Componente 244: 0.0008 (0.08%)\n",
      "Componente 245: 0.0008 (0.08%)\n",
      "Componente 246: 0.0008 (0.08%)\n",
      "Componente 247: 0.0008 (0.08%)\n",
      "Componente 248: 0.0008 (0.08%)\n",
      "Componente 249: 0.0008 (0.08%)\n",
      "Componente 250: 0.0007 (0.07%)\n",
      "Componente 251: 0.0007 (0.07%)\n",
      "Componente 252: 0.0007 (0.07%)\n",
      "Componente 253: 0.0007 (0.07%)\n",
      "Componente 254: 0.0007 (0.07%)\n",
      "Componente 255: 0.0007 (0.07%)\n",
      "Componente 256: 0.0007 (0.07%)\n",
      "Componente 257: 0.0007 (0.07%)\n",
      "Componente 258: 0.0007 (0.07%)\n",
      "Componente 259: 0.0007 (0.07%)\n",
      "Componente 260: 0.0007 (0.07%)\n",
      "Componente 261: 0.0007 (0.07%)\n",
      "Componente 262: 0.0007 (0.07%)\n",
      "Componente 263: 0.0007 (0.07%)\n",
      "Componente 264: 0.0007 (0.07%)\n",
      "Componente 265: 0.0007 (0.07%)\n",
      "Componente 266: 0.0007 (0.07%)\n",
      "Componente 267: 0.0007 (0.07%)\n",
      "Componente 268: 0.0007 (0.07%)\n",
      "Componente 269: 0.0007 (0.07%)\n",
      "Componente 270: 0.0007 (0.07%)\n",
      "Componente 271: 0.0007 (0.07%)\n",
      "Componente 272: 0.0007 (0.07%)\n",
      "Componente 273: 0.0007 (0.07%)\n",
      "Componente 274: 0.0007 (0.07%)\n",
      "Componente 275: 0.0007 (0.07%)\n",
      "Componente 276: 0.0007 (0.07%)\n",
      "Componente 277: 0.0007 (0.07%)\n",
      "Componente 278: 0.0007 (0.07%)\n",
      "Componente 279: 0.0007 (0.07%)\n",
      "Componente 280: 0.0007 (0.07%)\n",
      "Componente 281: 0.0007 (0.07%)\n",
      "Componente 282: 0.0007 (0.07%)\n",
      "Componente 283: 0.0007 (0.07%)\n",
      "Componente 284: 0.0007 (0.07%)\n",
      "Componente 285: 0.0007 (0.07%)\n",
      "Componente 286: 0.0007 (0.07%)\n",
      "Componente 287: 0.0007 (0.07%)\n",
      "Componente 288: 0.0007 (0.07%)\n",
      "Componente 289: 0.0007 (0.07%)\n",
      "Componente 290: 0.0007 (0.07%)\n",
      "Componente 291: 0.0007 (0.07%)\n",
      "Componente 292: 0.0007 (0.07%)\n",
      "Componente 293: 0.0007 (0.07%)\n",
      "Componente 294: 0.0007 (0.07%)\n",
      "Componente 295: 0.0007 (0.07%)\n",
      "Componente 296: 0.0007 (0.07%)\n",
      "Componente 297: 0.0007 (0.07%)\n",
      "Componente 298: 0.0007 (0.07%)\n",
      "Componente 299: 0.0007 (0.07%)\n",
      "Componente 300: 0.0007 (0.07%)\n",
      "Componente 301: 0.0007 (0.07%)\n",
      "Componente 302: 0.0007 (0.07%)\n",
      "Componente 303: 0.0007 (0.07%)\n",
      "Componente 304: 0.0007 (0.07%)\n",
      "Componente 305: 0.0007 (0.07%)\n",
      "Componente 306: 0.0007 (0.07%)\n",
      "Componente 307: 0.0006 (0.06%)\n",
      "Componente 308: 0.0006 (0.06%)\n",
      "Componente 309: 0.0006 (0.06%)\n",
      "Componente 310: 0.0006 (0.06%)\n",
      "Componente 311: 0.0006 (0.06%)\n",
      "Componente 312: 0.0006 (0.06%)\n",
      "Componente 313: 0.0006 (0.06%)\n",
      "Componente 314: 0.0006 (0.06%)\n",
      "Componente 315: 0.0006 (0.06%)\n",
      "Componente 316: 0.0006 (0.06%)\n",
      "Componente 317: 0.0006 (0.06%)\n",
      "Componente 318: 0.0006 (0.06%)\n",
      "Componente 319: 0.0006 (0.06%)\n",
      "Componente 320: 0.0006 (0.06%)\n",
      "Componente 321: 0.0006 (0.06%)\n",
      "Componente 322: 0.0006 (0.06%)\n",
      "Componente 323: 0.0006 (0.06%)\n",
      "Componente 324: 0.0006 (0.06%)\n",
      "Componente 325: 0.0006 (0.06%)\n",
      "Componente 326: 0.0006 (0.06%)\n",
      "Componente 327: 0.0006 (0.06%)\n",
      "Componente 328: 0.0006 (0.06%)\n",
      "Componente 329: 0.0006 (0.06%)\n",
      "Componente 330: 0.0006 (0.06%)\n",
      "Componente 331: 0.0006 (0.06%)\n",
      "Componente 332: 0.0006 (0.06%)\n",
      "Componente 333: 0.0006 (0.06%)\n",
      "Componente 334: 0.0006 (0.06%)\n",
      "Componente 335: 0.0006 (0.06%)\n",
      "Componente 336: 0.0006 (0.06%)\n",
      "Componente 337: 0.0006 (0.06%)\n",
      "Componente 338: 0.0006 (0.06%)\n",
      "Componente 339: 0.0006 (0.06%)\n",
      "Componente 340: 0.0006 (0.06%)\n",
      "Componente 341: 0.0006 (0.06%)\n",
      "Componente 342: 0.0006 (0.06%)\n",
      "Componente 343: 0.0006 (0.06%)\n",
      "Componente 344: 0.0006 (0.06%)\n",
      "Componente 345: 0.0006 (0.06%)\n",
      "Componente 346: 0.0006 (0.06%)\n",
      "Componente 347: 0.0006 (0.06%)\n",
      "Componente 348: 0.0006 (0.06%)\n",
      "Componente 349: 0.0006 (0.06%)\n",
      "Componente 350: 0.0006 (0.06%)\n",
      "Componente 351: 0.0006 (0.06%)\n",
      "Componente 352: 0.0006 (0.06%)\n",
      "Componente 353: 0.0006 (0.06%)\n",
      "Componente 354: 0.0006 (0.06%)\n",
      "Componente 355: 0.0006 (0.06%)\n",
      "Componente 356: 0.0006 (0.06%)\n",
      "Componente 357: 0.0006 (0.06%)\n",
      "Componente 358: 0.0006 (0.06%)\n",
      "Componente 359: 0.0006 (0.06%)\n",
      "Componente 360: 0.0006 (0.06%)\n",
      "Componente 361: 0.0006 (0.06%)\n",
      "Componente 362: 0.0006 (0.06%)\n",
      "Componente 363: 0.0006 (0.06%)\n",
      "Componente 364: 0.0006 (0.06%)\n",
      "Componente 365: 0.0006 (0.06%)\n",
      "Componente 366: 0.0006 (0.06%)\n",
      "Componente 367: 0.0006 (0.06%)\n",
      "Componente 368: 0.0006 (0.06%)\n",
      "Componente 369: 0.0006 (0.06%)\n",
      "Componente 370: 0.0006 (0.06%)\n",
      "Componente 371: 0.0006 (0.06%)\n",
      "Componente 372: 0.0006 (0.06%)\n",
      "Componente 373: 0.0006 (0.06%)\n",
      "Componente 374: 0.0006 (0.06%)\n",
      "Componente 375: 0.0006 (0.06%)\n",
      "Componente 376: 0.0006 (0.06%)\n",
      "Componente 377: 0.0006 (0.06%)\n",
      "Componente 378: 0.0006 (0.06%)\n",
      "Componente 379: 0.0006 (0.06%)\n",
      "Componente 380: 0.0006 (0.06%)\n",
      "Componente 381: 0.0006 (0.06%)\n",
      "Componente 382: 0.0006 (0.06%)\n",
      "Componente 383: 0.0006 (0.06%)\n",
      "Componente 384: 0.0006 (0.06%)\n",
      "Componente 385: 0.0006 (0.06%)\n",
      "Componente 386: 0.0006 (0.06%)\n",
      "Componente 387: 0.0006 (0.06%)\n",
      "Componente 388: 0.0006 (0.06%)\n",
      "Componente 389: 0.0006 (0.06%)\n",
      "Componente 390: 0.0006 (0.06%)\n",
      "Componente 391: 0.0006 (0.06%)\n",
      "Componente 392: 0.0006 (0.06%)\n",
      "Componente 393: 0.0006 (0.06%)\n",
      "Componente 394: 0.0006 (0.06%)\n",
      "Componente 395: 0.0006 (0.06%)\n",
      "Componente 396: 0.0005 (0.05%)\n",
      "Componente 397: 0.0005 (0.05%)\n",
      "Componente 398: 0.0005 (0.05%)\n",
      "Componente 399: 0.0005 (0.05%)\n",
      "Componente 400: 0.0005 (0.05%)\n",
      "Componente 401: 0.0005 (0.05%)\n",
      "Componente 402: 0.0005 (0.05%)\n",
      "Componente 403: 0.0005 (0.05%)\n",
      "Componente 404: 0.0005 (0.05%)\n",
      "Componente 405: 0.0005 (0.05%)\n",
      "Componente 406: 0.0005 (0.05%)\n",
      "Componente 407: 0.0005 (0.05%)\n",
      "Componente 408: 0.0005 (0.05%)\n",
      "Componente 409: 0.0005 (0.05%)\n",
      "Componente 410: 0.0005 (0.05%)\n",
      "Componente 411: 0.0005 (0.05%)\n",
      "Componente 412: 0.0005 (0.05%)\n",
      "Componente 413: 0.0005 (0.05%)\n",
      "Componente 414: 0.0005 (0.05%)\n",
      "Componente 415: 0.0005 (0.05%)\n",
      "Componente 416: 0.0005 (0.05%)\n",
      "Componente 417: 0.0005 (0.05%)\n",
      "Componente 418: 0.0005 (0.05%)\n",
      "Componente 419: 0.0005 (0.05%)\n",
      "Componente 420: 0.0005 (0.05%)\n",
      "Componente 421: 0.0005 (0.05%)\n",
      "Componente 422: 0.0005 (0.05%)\n",
      "Componente 423: 0.0005 (0.05%)\n",
      "Componente 424: 0.0005 (0.05%)\n",
      "Componente 425: 0.0005 (0.05%)\n",
      "Componente 426: 0.0005 (0.05%)\n",
      "Componente 427: 0.0005 (0.05%)\n",
      "Componente 428: 0.0005 (0.05%)\n",
      "Componente 429: 0.0005 (0.05%)\n",
      "Componente 430: 0.0005 (0.05%)\n",
      "Componente 431: 0.0005 (0.05%)\n",
      "Componente 432: 0.0005 (0.05%)\n",
      "Componente 433: 0.0005 (0.05%)\n",
      "Componente 434: 0.0005 (0.05%)\n",
      "Componente 435: 0.0005 (0.05%)\n",
      "Componente 436: 0.0005 (0.05%)\n",
      "Componente 437: 0.0005 (0.05%)\n",
      "Componente 438: 0.0005 (0.05%)\n",
      "Componente 439: 0.0005 (0.05%)\n",
      "Componente 440: 0.0005 (0.05%)\n",
      "Componente 441: 0.0005 (0.05%)\n",
      "Componente 442: 0.0005 (0.05%)\n",
      "Componente 443: 0.0005 (0.05%)\n",
      "Componente 444: 0.0005 (0.05%)\n",
      "Componente 445: 0.0005 (0.05%)\n",
      "Componente 446: 0.0005 (0.05%)\n",
      "Componente 447: 0.0005 (0.05%)\n",
      "Componente 448: 0.0005 (0.05%)\n",
      "Componente 449: 0.0005 (0.05%)\n",
      "Componente 450: 0.0005 (0.05%)\n",
      "Componente 451: 0.0005 (0.05%)\n",
      "Componente 452: 0.0005 (0.05%)\n",
      "Componente 453: 0.0005 (0.05%)\n",
      "Componente 454: 0.0005 (0.05%)\n",
      "Componente 455: 0.0005 (0.05%)\n",
      "Componente 456: 0.0005 (0.05%)\n",
      "Componente 457: 0.0005 (0.05%)\n",
      "Componente 458: 0.0005 (0.05%)\n",
      "Componente 459: 0.0005 (0.05%)\n",
      "Componente 460: 0.0005 (0.05%)\n",
      "Componente 461: 0.0005 (0.05%)\n",
      "Componente 462: 0.0005 (0.05%)\n",
      "Componente 463: 0.0005 (0.05%)\n",
      "Componente 464: 0.0005 (0.05%)\n",
      "Componente 465: 0.0005 (0.05%)\n",
      "Componente 466: 0.0005 (0.05%)\n",
      "Componente 467: 0.0005 (0.05%)\n",
      "Componente 468: 0.0005 (0.05%)\n",
      "Componente 469: 0.0005 (0.05%)\n",
      "Componente 470: 0.0005 (0.05%)\n",
      "Componente 471: 0.0005 (0.05%)\n",
      "Componente 472: 0.0005 (0.05%)\n",
      "Componente 473: 0.0005 (0.05%)\n",
      "Componente 474: 0.0005 (0.05%)\n",
      "Componente 475: 0.0005 (0.05%)\n",
      "Componente 476: 0.0005 (0.05%)\n",
      "Componente 477: 0.0005 (0.05%)\n",
      "Componente 478: 0.0005 (0.05%)\n",
      "Componente 479: 0.0005 (0.05%)\n",
      "Componente 480: 0.0005 (0.05%)\n",
      "Componente 481: 0.0005 (0.05%)\n",
      "Componente 482: 0.0005 (0.05%)\n",
      "Componente 483: 0.0005 (0.05%)\n",
      "Componente 484: 0.0005 (0.05%)\n",
      "Componente 485: 0.0005 (0.05%)\n",
      "Componente 486: 0.0005 (0.05%)\n",
      "Componente 487: 0.0005 (0.05%)\n",
      "Componente 488: 0.0005 (0.05%)\n",
      "Componente 489: 0.0005 (0.05%)\n",
      "Componente 490: 0.0005 (0.05%)\n",
      "Componente 491: 0.0005 (0.05%)\n",
      "Componente 492: 0.0005 (0.05%)\n",
      "Componente 493: 0.0005 (0.05%)\n",
      "Componente 494: 0.0005 (0.05%)\n",
      "Componente 495: 0.0005 (0.05%)\n",
      "Componente 496: 0.0005 (0.05%)\n",
      "Componente 497: 0.0005 (0.05%)\n",
      "Componente 498: 0.0005 (0.05%)\n",
      "Componente 499: 0.0005 (0.05%)\n",
      "Componente 500: 0.0005 (0.05%)\n",
      "Componente 501: 0.0005 (0.05%)\n",
      "Componente 502: 0.0005 (0.05%)\n",
      "Componente 503: 0.0005 (0.05%)\n",
      "Componente 504: 0.0005 (0.05%)\n",
      "Componente 505: 0.0005 (0.05%)\n",
      "Componente 506: 0.0005 (0.05%)\n",
      "Componente 507: 0.0005 (0.05%)\n",
      "Componente 508: 0.0005 (0.05%)\n",
      "Componente 509: 0.0005 (0.05%)\n",
      "Componente 510: 0.0005 (0.05%)\n",
      "Componente 511: 0.0005 (0.05%)\n",
      "Componente 512: 0.0005 (0.05%)\n",
      "Componente 513: 0.0005 (0.05%)\n",
      "Componente 514: 0.0005 (0.05%)\n",
      "Componente 515: 0.0005 (0.05%)\n",
      "Componente 516: 0.0005 (0.05%)\n",
      "Componente 517: 0.0005 (0.05%)\n",
      "Componente 518: 0.0005 (0.05%)\n",
      "Componente 519: 0.0005 (0.05%)\n",
      "Componente 520: 0.0005 (0.05%)\n",
      "Componente 521: 0.0005 (0.05%)\n",
      "Componente 522: 0.0005 (0.05%)\n",
      "Componente 523: 0.0005 (0.05%)\n",
      "Componente 524: 0.0005 (0.05%)\n",
      "Componente 525: 0.0005 (0.05%)\n",
      "Componente 526: 0.0005 (0.05%)\n",
      "Componente 527: 0.0005 (0.05%)\n",
      "Componente 528: 0.0005 (0.05%)\n",
      "Componente 529: 0.0004 (0.04%)\n",
      "Componente 530: 0.0004 (0.04%)\n",
      "Componente 531: 0.0004 (0.04%)\n",
      "Componente 532: 0.0004 (0.04%)\n",
      "Componente 533: 0.0004 (0.04%)\n",
      "Componente 534: 0.0004 (0.04%)\n",
      "Componente 535: 0.0004 (0.04%)\n",
      "Componente 536: 0.0004 (0.04%)\n",
      "Componente 537: 0.0004 (0.04%)\n",
      "Componente 538: 0.0004 (0.04%)\n",
      "Componente 539: 0.0004 (0.04%)\n",
      "Componente 540: 0.0004 (0.04%)\n",
      "Componente 541: 0.0004 (0.04%)\n",
      "Componente 542: 0.0004 (0.04%)\n",
      "Componente 543: 0.0004 (0.04%)\n",
      "Componente 544: 0.0004 (0.04%)\n",
      "Componente 545: 0.0004 (0.04%)\n",
      "Componente 546: 0.0004 (0.04%)\n",
      "Componente 547: 0.0004 (0.04%)\n",
      "Componente 548: 0.0004 (0.04%)\n",
      "Componente 549: 0.0004 (0.04%)\n",
      "Componente 550: 0.0004 (0.04%)\n",
      "Componente 551: 0.0004 (0.04%)\n",
      "Componente 552: 0.0004 (0.04%)\n",
      "Componente 553: 0.0004 (0.04%)\n",
      "Componente 554: 0.0004 (0.04%)\n",
      "Componente 555: 0.0004 (0.04%)\n",
      "Componente 556: 0.0004 (0.04%)\n",
      "Componente 557: 0.0004 (0.04%)\n",
      "Componente 558: 0.0004 (0.04%)\n",
      "Componente 559: 0.0004 (0.04%)\n",
      "Componente 560: 0.0004 (0.04%)\n",
      "Componente 561: 0.0004 (0.04%)\n",
      "Componente 562: 0.0004 (0.04%)\n",
      "Componente 563: 0.0004 (0.04%)\n",
      "Componente 564: 0.0004 (0.04%)\n",
      "Componente 565: 0.0004 (0.04%)\n",
      "Componente 566: 0.0004 (0.04%)\n",
      "Componente 567: 0.0004 (0.04%)\n",
      "Componente 568: 0.0004 (0.04%)\n",
      "Componente 569: 0.0004 (0.04%)\n",
      "Componente 570: 0.0004 (0.04%)\n",
      "Componente 571: 0.0004 (0.04%)\n",
      "Componente 572: 0.0004 (0.04%)\n",
      "Componente 573: 0.0004 (0.04%)\n",
      "Componente 574: 0.0004 (0.04%)\n",
      "Componente 575: 0.0004 (0.04%)\n",
      "Componente 576: 0.0004 (0.04%)\n",
      "Componente 577: 0.0004 (0.04%)\n",
      "Componente 578: 0.0004 (0.04%)\n",
      "Componente 579: 0.0004 (0.04%)\n",
      "Componente 580: 0.0004 (0.04%)\n",
      "Componente 581: 0.0004 (0.04%)\n",
      "Componente 582: 0.0004 (0.04%)\n",
      "Componente 583: 0.0004 (0.04%)\n",
      "Componente 584: 0.0004 (0.04%)\n",
      "Componente 585: 0.0004 (0.04%)\n",
      "Componente 586: 0.0004 (0.04%)\n",
      "Componente 587: 0.0004 (0.04%)\n",
      "Componente 588: 0.0004 (0.04%)\n",
      "Componente 589: 0.0004 (0.04%)\n",
      "Componente 590: 0.0004 (0.04%)\n",
      "Componente 591: 0.0004 (0.04%)\n",
      "Componente 592: 0.0004 (0.04%)\n",
      "Componente 593: 0.0004 (0.04%)\n",
      "Componente 594: 0.0004 (0.04%)\n",
      "Componente 595: 0.0004 (0.04%)\n",
      "Componente 596: 0.0004 (0.04%)\n",
      "Componente 597: 0.0004 (0.04%)\n",
      "Componente 598: 0.0004 (0.04%)\n",
      "Componente 599: 0.0004 (0.04%)\n",
      "Componente 600: 0.0004 (0.04%)\n",
      "Componente 601: 0.0004 (0.04%)\n",
      "Componente 602: 0.0004 (0.04%)\n",
      "Componente 603: 0.0004 (0.04%)\n",
      "Componente 604: 0.0004 (0.04%)\n",
      "Componente 605: 0.0004 (0.04%)\n",
      "Componente 606: 0.0004 (0.04%)\n",
      "Componente 607: 0.0004 (0.04%)\n",
      "Componente 608: 0.0004 (0.04%)\n",
      "Componente 609: 0.0004 (0.04%)\n",
      "Componente 610: 0.0004 (0.04%)\n",
      "Componente 611: 0.0004 (0.04%)\n",
      "Componente 612: 0.0004 (0.04%)\n",
      "Componente 613: 0.0004 (0.04%)\n",
      "Componente 614: 0.0004 (0.04%)\n",
      "Componente 615: 0.0004 (0.04%)\n",
      "Componente 616: 0.0004 (0.04%)\n",
      "Componente 617: 0.0004 (0.04%)\n",
      "Componente 618: 0.0004 (0.04%)\n",
      "Componente 619: 0.0004 (0.04%)\n",
      "Componente 620: 0.0004 (0.04%)\n",
      "Componente 621: 0.0004 (0.04%)\n",
      "Componente 622: 0.0004 (0.04%)\n",
      "Componente 623: 0.0004 (0.04%)\n",
      "Componente 624: 0.0004 (0.04%)\n",
      "Componente 625: 0.0004 (0.04%)\n",
      "Componente 626: 0.0004 (0.04%)\n",
      "Componente 627: 0.0004 (0.04%)\n",
      "Componente 628: 0.0004 (0.04%)\n",
      "Componente 629: 0.0004 (0.04%)\n",
      "Componente 630: 0.0004 (0.04%)\n",
      "Componente 631: 0.0004 (0.04%)\n",
      "Componente 632: 0.0004 (0.04%)\n",
      "Componente 633: 0.0004 (0.04%)\n",
      "Componente 634: 0.0004 (0.04%)\n",
      "Componente 635: 0.0004 (0.04%)\n",
      "Componente 636: 0.0004 (0.04%)\n",
      "Componente 637: 0.0004 (0.04%)\n",
      "Componente 638: 0.0004 (0.04%)\n",
      "Componente 639: 0.0004 (0.04%)\n",
      "Componente 640: 0.0004 (0.04%)\n",
      "Componente 641: 0.0004 (0.04%)\n",
      "Componente 642: 0.0004 (0.04%)\n",
      "Componente 643: 0.0004 (0.04%)\n",
      "Componente 644: 0.0004 (0.04%)\n",
      "Componente 645: 0.0004 (0.04%)\n",
      "Componente 646: 0.0004 (0.04%)\n",
      "Componente 647: 0.0004 (0.04%)\n",
      "Componente 648: 0.0004 (0.04%)\n",
      "Componente 649: 0.0004 (0.04%)\n",
      "Componente 650: 0.0004 (0.04%)\n",
      "Componente 651: 0.0004 (0.04%)\n",
      "Componente 652: 0.0004 (0.04%)\n",
      "Componente 653: 0.0004 (0.04%)\n",
      "Componente 654: 0.0004 (0.04%)\n",
      "Componente 655: 0.0004 (0.04%)\n",
      "Componente 656: 0.0004 (0.04%)\n",
      "Componente 657: 0.0004 (0.04%)\n",
      "Componente 658: 0.0004 (0.04%)\n",
      "Componente 659: 0.0004 (0.04%)\n",
      "Componente 660: 0.0004 (0.04%)\n",
      "Componente 661: 0.0004 (0.04%)\n",
      "Componente 662: 0.0004 (0.04%)\n",
      "Componente 663: 0.0004 (0.04%)\n",
      "Componente 664: 0.0004 (0.04%)\n",
      "Componente 665: 0.0004 (0.04%)\n",
      "Componente 666: 0.0004 (0.04%)\n",
      "Componente 667: 0.0004 (0.04%)\n",
      "Componente 668: 0.0004 (0.04%)\n",
      "Componente 669: 0.0004 (0.04%)\n",
      "Componente 670: 0.0004 (0.04%)\n",
      "Componente 671: 0.0004 (0.04%)\n",
      "Componente 672: 0.0004 (0.04%)\n",
      "Componente 673: 0.0004 (0.04%)\n",
      "Componente 674: 0.0004 (0.04%)\n",
      "Componente 675: 0.0004 (0.04%)\n",
      "Componente 676: 0.0004 (0.04%)\n",
      "Componente 677: 0.0004 (0.04%)\n",
      "Componente 678: 0.0004 (0.04%)\n",
      "Componente 679: 0.0004 (0.04%)\n",
      "Componente 680: 0.0004 (0.04%)\n",
      "Componente 681: 0.0004 (0.04%)\n",
      "Componente 682: 0.0004 (0.04%)\n",
      "Componente 683: 0.0004 (0.04%)\n",
      "Componente 684: 0.0004 (0.04%)\n",
      "Componente 685: 0.0004 (0.04%)\n",
      "Componente 686: 0.0004 (0.04%)\n",
      "Componente 687: 0.0004 (0.04%)\n",
      "Componente 688: 0.0004 (0.04%)\n",
      "Componente 689: 0.0004 (0.04%)\n",
      "Componente 690: 0.0004 (0.04%)\n",
      "Componente 691: 0.0004 (0.04%)\n",
      "Componente 692: 0.0004 (0.04%)\n",
      "Componente 693: 0.0004 (0.04%)\n",
      "Componente 694: 0.0004 (0.04%)\n",
      "Componente 695: 0.0004 (0.04%)\n",
      "Componente 696: 0.0004 (0.04%)\n",
      "Componente 697: 0.0004 (0.04%)\n",
      "Componente 698: 0.0004 (0.04%)\n",
      "Componente 699: 0.0004 (0.04%)\n",
      "Componente 700: 0.0004 (0.04%)\n",
      "Componente 701: 0.0004 (0.04%)\n",
      "Componente 702: 0.0004 (0.04%)\n",
      "Componente 703: 0.0004 (0.04%)\n",
      "Componente 704: 0.0004 (0.04%)\n",
      "Componente 705: 0.0004 (0.04%)\n",
      "Componente 706: 0.0004 (0.04%)\n",
      "Componente 707: 0.0004 (0.04%)\n",
      "Componente 708: 0.0004 (0.04%)\n",
      "Componente 709: 0.0004 (0.04%)\n",
      "Componente 710: 0.0004 (0.04%)\n",
      "Componente 711: 0.0004 (0.04%)\n",
      "Componente 712: 0.0004 (0.04%)\n",
      "Componente 713: 0.0004 (0.04%)\n",
      "Componente 714: 0.0004 (0.04%)\n",
      "Componente 715: 0.0004 (0.04%)\n",
      "Componente 716: 0.0004 (0.04%)\n",
      "Componente 717: 0.0004 (0.04%)\n",
      "Componente 718: 0.0004 (0.04%)\n",
      "Componente 719: 0.0004 (0.04%)\n",
      "Componente 720: 0.0004 (0.04%)\n",
      "Componente 721: 0.0004 (0.04%)\n",
      "Componente 722: 0.0004 (0.04%)\n",
      "Componente 723: 0.0004 (0.04%)\n",
      "Componente 724: 0.0004 (0.04%)\n",
      "Componente 725: 0.0004 (0.04%)\n",
      "Componente 726: 0.0004 (0.04%)\n",
      "Componente 727: 0.0004 (0.04%)\n",
      "Componente 728: 0.0004 (0.04%)\n",
      "Componente 729: 0.0004 (0.04%)\n",
      "Componente 730: 0.0004 (0.04%)\n",
      "Componente 731: 0.0004 (0.04%)\n",
      "Componente 732: 0.0004 (0.04%)\n",
      "Componente 733: 0.0004 (0.04%)\n",
      "Componente 734: 0.0004 (0.04%)\n",
      "Componente 735: 0.0004 (0.04%)\n",
      "Componente 736: 0.0004 (0.04%)\n",
      "Componente 737: 0.0004 (0.04%)\n",
      "Componente 738: 0.0004 (0.04%)\n",
      "Componente 739: 0.0004 (0.04%)\n",
      "Componente 740: 0.0004 (0.04%)\n",
      "Componente 741: 0.0004 (0.04%)\n",
      "Componente 742: 0.0004 (0.04%)\n",
      "Componente 743: 0.0004 (0.04%)\n",
      "Componente 744: 0.0003 (0.03%)\n",
      "Componente 745: 0.0003 (0.03%)\n",
      "Componente 746: 0.0003 (0.03%)\n",
      "Componente 747: 0.0003 (0.03%)\n",
      "Componente 748: 0.0003 (0.03%)\n",
      "Componente 749: 0.0003 (0.03%)\n",
      "Componente 750: 0.0003 (0.03%)\n",
      "Componente 751: 0.0003 (0.03%)\n",
      "Componente 752: 0.0003 (0.03%)\n",
      "Componente 753: 0.0003 (0.03%)\n",
      "Componente 754: 0.0003 (0.03%)\n",
      "Componente 755: 0.0003 (0.03%)\n",
      "Componente 756: 0.0003 (0.03%)\n",
      "Componente 757: 0.0003 (0.03%)\n",
      "Componente 758: 0.0003 (0.03%)\n",
      "Componente 759: 0.0003 (0.03%)\n",
      "Componente 760: 0.0003 (0.03%)\n",
      "Componente 761: 0.0003 (0.03%)\n",
      "Componente 762: 0.0003 (0.03%)\n",
      "Componente 763: 0.0003 (0.03%)\n",
      "Componente 764: 0.0003 (0.03%)\n",
      "Componente 765: 0.0003 (0.03%)\n",
      "Componente 766: 0.0003 (0.03%)\n",
      "Componente 767: 0.0003 (0.03%)\n",
      "Componente 768: 0.0003 (0.03%)\n",
      "Componente 769: 0.0003 (0.03%)\n",
      "Componente 770: 0.0003 (0.03%)\n",
      "Componente 771: 0.0003 (0.03%)\n",
      "Componente 772: 0.0003 (0.03%)\n",
      "Componente 773: 0.0003 (0.03%)\n",
      "Componente 774: 0.0003 (0.03%)\n",
      "Componente 775: 0.0003 (0.03%)\n",
      "Componente 776: 0.0003 (0.03%)\n",
      "Componente 777: 0.0003 (0.03%)\n",
      "Componente 778: 0.0003 (0.03%)\n",
      "Componente 779: 0.0003 (0.03%)\n",
      "Componente 780: 0.0003 (0.03%)\n",
      "Componente 781: 0.0003 (0.03%)\n",
      "Componente 782: 0.0003 (0.03%)\n",
      "Componente 783: 0.0003 (0.03%)\n",
      "Componente 784: 0.0003 (0.03%)\n",
      "Componente 785: 0.0003 (0.03%)\n",
      "Componente 786: 0.0003 (0.03%)\n",
      "Componente 787: 0.0003 (0.03%)\n",
      "Componente 788: 0.0003 (0.03%)\n",
      "Componente 789: 0.0003 (0.03%)\n",
      "Componente 790: 0.0003 (0.03%)\n",
      "Componente 791: 0.0003 (0.03%)\n",
      "Componente 792: 0.0003 (0.03%)\n",
      "Componente 793: 0.0003 (0.03%)\n",
      "Componente 794: 0.0003 (0.03%)\n",
      "Componente 795: 0.0003 (0.03%)\n",
      "Componente 796: 0.0003 (0.03%)\n",
      "Componente 797: 0.0003 (0.03%)\n",
      "Componente 798: 0.0003 (0.03%)\n",
      "Componente 799: 0.0003 (0.03%)\n",
      "Componente 800: 0.0003 (0.03%)\n",
      "Componente 801: 0.0003 (0.03%)\n",
      "Componente 802: 0.0003 (0.03%)\n",
      "Componente 803: 0.0003 (0.03%)\n",
      "Componente 804: 0.0003 (0.03%)\n",
      "Componente 805: 0.0003 (0.03%)\n",
      "Componente 806: 0.0003 (0.03%)\n",
      "Componente 807: 0.0003 (0.03%)\n",
      "Componente 808: 0.0003 (0.03%)\n",
      "Componente 809: 0.0003 (0.03%)\n",
      "Componente 810: 0.0003 (0.03%)\n",
      "Componente 811: 0.0003 (0.03%)\n",
      "Componente 812: 0.0003 (0.03%)\n",
      "Componente 813: 0.0003 (0.03%)\n",
      "Componente 814: 0.0003 (0.03%)\n",
      "Componente 815: 0.0003 (0.03%)\n",
      "Componente 816: 0.0003 (0.03%)\n",
      "Componente 817: 0.0003 (0.03%)\n",
      "Componente 818: 0.0003 (0.03%)\n",
      "Componente 819: 0.0003 (0.03%)\n",
      "Componente 820: 0.0003 (0.03%)\n",
      "Componente 821: 0.0003 (0.03%)\n",
      "Componente 822: 0.0003 (0.03%)\n",
      "Componente 823: 0.0003 (0.03%)\n",
      "Componente 824: 0.0003 (0.03%)\n",
      "Componente 825: 0.0003 (0.03%)\n",
      "Componente 826: 0.0003 (0.03%)\n",
      "Componente 827: 0.0003 (0.03%)\n",
      "Componente 828: 0.0003 (0.03%)\n",
      "Componente 829: 0.0003 (0.03%)\n",
      "Componente 830: 0.0003 (0.03%)\n",
      "Componente 831: 0.0003 (0.03%)\n",
      "Componente 832: 0.0003 (0.03%)\n",
      "Componente 833: 0.0003 (0.03%)\n",
      "Componente 834: 0.0003 (0.03%)\n",
      "Componente 835: 0.0003 (0.03%)\n",
      "Componente 836: 0.0003 (0.03%)\n",
      "Componente 837: 0.0003 (0.03%)\n",
      "Componente 838: 0.0003 (0.03%)\n",
      "Componente 839: 0.0003 (0.03%)\n",
      "Componente 840: 0.0003 (0.03%)\n",
      "Componente 841: 0.0003 (0.03%)\n",
      "Componente 842: 0.0003 (0.03%)\n",
      "Componente 843: 0.0003 (0.03%)\n",
      "Componente 844: 0.0003 (0.03%)\n",
      "Componente 845: 0.0003 (0.03%)\n",
      "Componente 846: 0.0003 (0.03%)\n",
      "Componente 847: 0.0003 (0.03%)\n",
      "Componente 848: 0.0003 (0.03%)\n",
      "Componente 849: 0.0003 (0.03%)\n",
      "Componente 850: 0.0003 (0.03%)\n",
      "Componente 851: 0.0003 (0.03%)\n",
      "Componente 852: 0.0003 (0.03%)\n",
      "Componente 853: 0.0003 (0.03%)\n",
      "Componente 854: 0.0003 (0.03%)\n",
      "Componente 855: 0.0003 (0.03%)\n",
      "Componente 856: 0.0003 (0.03%)\n",
      "Componente 857: 0.0003 (0.03%)\n",
      "Componente 858: 0.0003 (0.03%)\n",
      "Componente 859: 0.0003 (0.03%)\n",
      "Componente 860: 0.0003 (0.03%)\n",
      "Componente 861: 0.0003 (0.03%)\n",
      "Componente 862: 0.0003 (0.03%)\n",
      "Componente 863: 0.0003 (0.03%)\n",
      "Componente 864: 0.0003 (0.03%)\n",
      "Componente 865: 0.0003 (0.03%)\n",
      "Componente 866: 0.0003 (0.03%)\n",
      "Componente 867: 0.0003 (0.03%)\n",
      "Componente 868: 0.0003 (0.03%)\n",
      "Componente 869: 0.0003 (0.03%)\n",
      "Componente 870: 0.0003 (0.03%)\n",
      "Componente 871: 0.0003 (0.03%)\n",
      "Componente 872: 0.0003 (0.03%)\n",
      "Componente 873: 0.0003 (0.03%)\n",
      "Componente 874: 0.0003 (0.03%)\n",
      "Componente 875: 0.0003 (0.03%)\n",
      "Componente 876: 0.0003 (0.03%)\n",
      "Componente 877: 0.0003 (0.03%)\n",
      "Componente 878: 0.0003 (0.03%)\n",
      "Componente 879: 0.0003 (0.03%)\n",
      "Componente 880: 0.0003 (0.03%)\n",
      "Componente 881: 0.0003 (0.03%)\n",
      "Componente 882: 0.0003 (0.03%)\n",
      "Componente 883: 0.0003 (0.03%)\n",
      "Componente 884: 0.0003 (0.03%)\n",
      "Componente 885: 0.0003 (0.03%)\n",
      "Componente 886: 0.0003 (0.03%)\n",
      "Componente 887: 0.0003 (0.03%)\n",
      "Componente 888: 0.0003 (0.03%)\n",
      "Componente 889: 0.0003 (0.03%)\n",
      "Componente 890: 0.0003 (0.03%)\n",
      "Componente 891: 0.0003 (0.03%)\n",
      "Componente 892: 0.0003 (0.03%)\n",
      "Componente 893: 0.0003 (0.03%)\n",
      "Componente 894: 0.0003 (0.03%)\n",
      "Componente 895: 0.0003 (0.03%)\n",
      "Componente 896: 0.0003 (0.03%)\n",
      "Componente 897: 0.0003 (0.03%)\n",
      "Componente 898: 0.0003 (0.03%)\n",
      "Componente 899: 0.0003 (0.03%)\n",
      "Componente 900: 0.0003 (0.03%)\n",
      "Componente 901: 0.0003 (0.03%)\n",
      "Componente 902: 0.0003 (0.03%)\n",
      "Componente 903: 0.0003 (0.03%)\n",
      "Componente 904: 0.0003 (0.03%)\n",
      "Componente 905: 0.0003 (0.03%)\n",
      "Componente 906: 0.0003 (0.03%)\n",
      "Componente 907: 0.0003 (0.03%)\n",
      "Componente 908: 0.0003 (0.03%)\n",
      "Componente 909: 0.0003 (0.03%)\n",
      "Componente 910: 0.0003 (0.03%)\n",
      "Componente 911: 0.0003 (0.03%)\n",
      "Componente 912: 0.0003 (0.03%)\n",
      "Componente 913: 0.0003 (0.03%)\n",
      "Componente 914: 0.0003 (0.03%)\n",
      "Componente 915: 0.0003 (0.03%)\n",
      "Componente 916: 0.0003 (0.03%)\n",
      "Componente 917: 0.0003 (0.03%)\n",
      "Componente 918: 0.0003 (0.03%)\n",
      "Componente 919: 0.0003 (0.03%)\n",
      "Componente 920: 0.0003 (0.03%)\n",
      "Componente 921: 0.0003 (0.03%)\n",
      "Componente 922: 0.0003 (0.03%)\n",
      "Componente 923: 0.0003 (0.03%)\n",
      "Componente 924: 0.0003 (0.03%)\n",
      "Componente 925: 0.0003 (0.03%)\n",
      "Componente 926: 0.0003 (0.03%)\n",
      "Componente 927: 0.0003 (0.03%)\n",
      "Componente 928: 0.0003 (0.03%)\n",
      "Componente 929: 0.0003 (0.03%)\n",
      "Componente 930: 0.0003 (0.03%)\n",
      "Componente 931: 0.0003 (0.03%)\n",
      "Componente 932: 0.0003 (0.03%)\n",
      "Componente 933: 0.0003 (0.03%)\n",
      "Componente 934: 0.0003 (0.03%)\n",
      "Componente 935: 0.0003 (0.03%)\n",
      "Componente 936: 0.0003 (0.03%)\n",
      "Componente 937: 0.0003 (0.03%)\n",
      "Componente 938: 0.0003 (0.03%)\n",
      "Componente 939: 0.0003 (0.03%)\n",
      "Componente 940: 0.0003 (0.03%)\n",
      "Componente 941: 0.0003 (0.03%)\n",
      "Componente 942: 0.0003 (0.03%)\n",
      "Componente 943: 0.0003 (0.03%)\n",
      "Componente 944: 0.0003 (0.03%)\n",
      "Componente 945: 0.0003 (0.03%)\n",
      "Componente 946: 0.0003 (0.03%)\n",
      "Componente 947: 0.0003 (0.03%)\n",
      "Componente 948: 0.0003 (0.03%)\n",
      "Componente 949: 0.0003 (0.03%)\n",
      "Componente 950: 0.0003 (0.03%)\n",
      "Componente 951: 0.0003 (0.03%)\n",
      "Componente 952: 0.0003 (0.03%)\n",
      "Componente 953: 0.0003 (0.03%)\n",
      "Componente 954: 0.0003 (0.03%)\n",
      "Componente 955: 0.0003 (0.03%)\n",
      "Componente 956: 0.0003 (0.03%)\n",
      "Componente 957: 0.0003 (0.03%)\n",
      "Componente 958: 0.0003 (0.03%)\n",
      "Componente 959: 0.0003 (0.03%)\n",
      "Componente 960: 0.0003 (0.03%)\n",
      "Componente 961: 0.0003 (0.03%)\n",
      "Componente 962: 0.0003 (0.03%)\n",
      "Componente 963: 0.0003 (0.03%)\n",
      "Componente 964: 0.0003 (0.03%)\n",
      "Componente 965: 0.0003 (0.03%)\n",
      "Componente 966: 0.0003 (0.03%)\n",
      "Componente 967: 0.0003 (0.03%)\n",
      "Componente 968: 0.0003 (0.03%)\n",
      "Componente 969: 0.0003 (0.03%)\n",
      "Componente 970: 0.0003 (0.03%)\n",
      "Componente 971: 0.0003 (0.03%)\n",
      "Componente 972: 0.0003 (0.03%)\n",
      "Componente 973: 0.0003 (0.03%)\n",
      "Componente 974: 0.0003 (0.03%)\n",
      "Componente 975: 0.0003 (0.03%)\n",
      "Componente 976: 0.0003 (0.03%)\n",
      "Componente 977: 0.0003 (0.03%)\n",
      "Componente 978: 0.0003 (0.03%)\n",
      "Componente 979: 0.0003 (0.03%)\n",
      "Componente 980: 0.0003 (0.03%)\n",
      "Componente 981: 0.0003 (0.03%)\n",
      "Componente 982: 0.0003 (0.03%)\n",
      "Componente 983: 0.0003 (0.03%)\n",
      "Componente 984: 0.0003 (0.03%)\n",
      "Componente 985: 0.0003 (0.03%)\n",
      "Componente 986: 0.0003 (0.03%)\n",
      "Componente 987: 0.0003 (0.03%)\n",
      "Componente 988: 0.0003 (0.03%)\n",
      "Componente 989: 0.0003 (0.03%)\n",
      "Componente 990: 0.0003 (0.03%)\n",
      "Componente 991: 0.0003 (0.03%)\n",
      "Componente 992: 0.0003 (0.03%)\n",
      "Componente 993: 0.0003 (0.03%)\n",
      "Componente 994: 0.0003 (0.03%)\n",
      "Componente 995: 0.0003 (0.03%)\n",
      "Componente 996: 0.0003 (0.03%)\n",
      "Componente 997: 0.0003 (0.03%)\n",
      "Componente 998: 0.0003 (0.03%)\n",
      "Componente 999: 0.0003 (0.03%)\n",
      "Componente 1000: 0.0003 (0.03%)\n",
      "Componente 1001: 0.0003 (0.03%)\n",
      "Componente 1002: 0.0003 (0.03%)\n",
      "Componente 1003: 0.0003 (0.03%)\n",
      "Componente 1004: 0.0003 (0.03%)\n",
      "Componente 1005: 0.0003 (0.03%)\n",
      "Componente 1006: 0.0003 (0.03%)\n",
      "Componente 1007: 0.0003 (0.03%)\n",
      "Componente 1008: 0.0003 (0.03%)\n",
      "Componente 1009: 0.0003 (0.03%)\n",
      "Componente 1010: 0.0003 (0.03%)\n",
      "Componente 1011: 0.0003 (0.03%)\n",
      "Componente 1012: 0.0003 (0.03%)\n",
      "Componente 1013: 0.0003 (0.03%)\n",
      "Componente 1014: 0.0003 (0.03%)\n",
      "Componente 1015: 0.0003 (0.03%)\n",
      "Componente 1016: 0.0003 (0.03%)\n",
      "Componente 1017: 0.0003 (0.03%)\n",
      "Componente 1018: 0.0003 (0.03%)\n",
      "Componente 1019: 0.0003 (0.03%)\n",
      "Componente 1020: 0.0003 (0.03%)\n",
      "Componente 1021: 0.0003 (0.03%)\n",
      "Componente 1022: 0.0003 (0.03%)\n",
      "Componente 1023: 0.0003 (0.03%)\n",
      "Componente 1024: 0.0003 (0.03%)\n",
      "Componente 1025: 0.0003 (0.03%)\n",
      "Componente 1026: 0.0003 (0.03%)\n",
      "Componente 1027: 0.0003 (0.03%)\n",
      "Componente 1028: 0.0003 (0.03%)\n",
      "Componente 1029: 0.0003 (0.03%)\n",
      "Componente 1030: 0.0003 (0.03%)\n",
      "Componente 1031: 0.0003 (0.03%)\n",
      "Componente 1032: 0.0003 (0.03%)\n",
      "Componente 1033: 0.0003 (0.03%)\n",
      "Componente 1034: 0.0003 (0.03%)\n",
      "Componente 1035: 0.0003 (0.03%)\n",
      "Componente 1036: 0.0003 (0.03%)\n",
      "Componente 1037: 0.0003 (0.03%)\n",
      "Componente 1038: 0.0003 (0.03%)\n",
      "Componente 1039: 0.0003 (0.03%)\n",
      "Componente 1040: 0.0003 (0.03%)\n",
      "Componente 1041: 0.0003 (0.03%)\n",
      "Componente 1042: 0.0003 (0.03%)\n",
      "Componente 1043: 0.0003 (0.03%)\n",
      "Componente 1044: 0.0003 (0.03%)\n",
      "Componente 1045: 0.0003 (0.03%)\n",
      "Componente 1046: 0.0003 (0.03%)\n",
      "Componente 1047: 0.0003 (0.03%)\n",
      "Componente 1048: 0.0003 (0.03%)\n",
      "Componente 1049: 0.0003 (0.03%)\n",
      "Componente 1050: 0.0003 (0.03%)\n",
      "Componente 1051: 0.0003 (0.03%)\n",
      "Componente 1052: 0.0003 (0.03%)\n",
      "Componente 1053: 0.0003 (0.03%)\n",
      "Componente 1054: 0.0003 (0.03%)\n",
      "Componente 1055: 0.0003 (0.03%)\n",
      "Componente 1056: 0.0003 (0.03%)\n",
      "Componente 1057: 0.0003 (0.03%)\n",
      "Componente 1058: 0.0003 (0.03%)\n",
      "Componente 1059: 0.0003 (0.03%)\n",
      "Componente 1060: 0.0003 (0.03%)\n",
      "Componente 1061: 0.0003 (0.03%)\n",
      "Componente 1062: 0.0003 (0.03%)\n",
      "Componente 1063: 0.0003 (0.03%)\n"
     ]
    }
   ],
   "source": [
    "n_comp_final = np.argmax(cumulative_variance_ratio_final >= 0.7) + 1\n",
    "print(f\"Número de componentes seleccionados: {n_comp_final}\")\n",
    "print(f\"Varianza explicada con {n_comp_final} componentes: \"\n",
    "      f\"{cumulative_variance_ratio_final[n_comp_final-1]:.4f}\")\n",
    "\n",
    "# Display variance explained by each component\n",
    "print(\"\\nVarianza explicada por cada componente:\")\n",
    "for i, var in enumerate(svd_final.explained_variance_ratio_[:n_comp_final]):\n",
    "    print(f\"Componente {i+1}: {var:.4f} ({var*100:.2f}%)\")"
   ]
  },
  {
   "cell_type": "markdown",
   "metadata": {},
   "source": [
    "Finalmente, nos quedamos con el conjunto de componentes deseado y lo unificamos con el resto de características. Primero el de análisis."
   ]
  },
  {
   "cell_type": "code",
   "execution_count": 57,
   "metadata": {},
   "outputs": [],
   "source": [
    "# Reduccion a las componentes deseadas.\n",
    "X_svd_train = X_svd_full_train[:, :n_comp]\n",
    "X_svd_test = X_svd_full_test[:, :n_comp]\n",
    "\n",
    "# Train\n",
    "X_svd_train = pd.DataFrame(X_svd_train, columns=[f\"svd_{i}\" for i in range(X_svd_train.shape[1])])\n",
    "X_rest_train = X_train[no_text].reset_index(drop=True)\n",
    "\n",
    "# Test\n",
    "X_svd_test = pd.DataFrame(X_svd_test, columns=[f\"svd_{i}\" for i in range(X_svd_test.shape[1])])\n",
    "X_rest_test = X_test[no_text].reset_index(drop=True)\n",
    "\n",
    "# Text + Resto de features\n",
    "X_total_train = pd.concat([X_svd_train, X_rest_train], axis=1)\n",
    "X_total_test = pd.concat([X_svd_test, X_rest_test], axis=1)"
   ]
  },
  {
   "cell_type": "markdown",
   "metadata": {},
   "source": [
    "Y después Kaggle."
   ]
  },
  {
   "cell_type": "code",
   "execution_count": 59,
   "metadata": {},
   "outputs": [],
   "source": [
    "# Reduccion a las componentes deseadas.\n",
    "X_svd_tr_final = X_svd_full_tr_final[:, :n_comp_final]\n",
    "X_svd_te_final = X_svd_full_te_final[:, :n_comp_final]\n",
    "\n",
    "# Train\n",
    "X_svd_tr_final = pd.DataFrame(X_svd_tr_final, columns=[f\"svd_{i}\" for i in range(X_svd_tr_final.shape[1])])\n",
    "X_rest_tr_final = X_train_final[no_text].reset_index(drop=True)\n",
    "\n",
    "# Test\n",
    "X_svd_te_final = pd.DataFrame(X_svd_te_final, columns=[f\"svd_{i}\" for i in range(X_svd_te_final.shape[1])])\n",
    "X_rest_te_final = X_test_final[no_text].reset_index(drop=True)\n",
    "\n",
    "# Text + Resto de features\n",
    "X_tot_tr_final = pd.concat([X_svd_tr_final, X_rest_tr_final], axis=1)\n",
    "X_tot_te_final = pd.concat([X_svd_te_final, X_rest_te_final], axis=1)"
   ]
  },
  {
   "cell_type": "markdown",
   "metadata": {},
   "source": [
    "## 6.2 Remuestreo"
   ]
  },
  {
   "cell_type": "markdown",
   "metadata": {},
   "source": [
    "### 6.2.1 Estandarizacion"
   ]
  },
  {
   "cell_type": "markdown",
   "metadata": {},
   "source": [
    "Primero se estandarizan el conjunto para el análisis."
   ]
  },
  {
   "cell_type": "code",
   "execution_count": 63,
   "metadata": {},
   "outputs": [],
   "source": [
    "prep = ColumnTransformer([\n",
    "    ('numericas', StandardScaler(), numeric_vars)\n",
    "], remainder='passthrough').fit(X_total_train) \n",
    "\n",
    "X_scaled_train = prep.transform(X_total_train)\n",
    "X_scaled_test = prep.transform(X_total_test)"
   ]
  },
  {
   "cell_type": "markdown",
   "metadata": {},
   "source": [
    "Después el de Kaggle."
   ]
  },
  {
   "cell_type": "code",
   "execution_count": 65,
   "metadata": {},
   "outputs": [],
   "source": [
    "prep_final = ColumnTransformer([\n",
    "    ('numericas', StandardScaler(), numeric_vars)\n",
    "], remainder='passthrough').fit(X_tot_tr_final) \n",
    "\n",
    "X_scaled_tr_final = prep_final.transform(X_tot_tr_final)\n",
    "X_scaled_te_final = prep_final.transform(X_tot_te_final)"
   ]
  },
  {
   "cell_type": "markdown",
   "metadata": {},
   "source": [
    "### 6.2.2 Undersampling"
   ]
  },
  {
   "cell_type": "markdown",
   "metadata": {},
   "source": [
    "Primero se realiza un undersampling al conjunto para el análisis."
   ]
  },
  {
   "cell_type": "code",
   "execution_count": 68,
   "metadata": {},
   "outputs": [],
   "source": [
    "under = RandomUnderSampler(sampling_strategy=0.65, random_state=seed)\n",
    "X_under, y_under = under.fit_resample(X_scaled_train, y_train)"
   ]
  },
  {
   "cell_type": "markdown",
   "metadata": {},
   "source": [
    "Después el de Kaggle."
   ]
  },
  {
   "cell_type": "code",
   "execution_count": 70,
   "metadata": {},
   "outputs": [],
   "source": [
    "under_final = RandomUnderSampler(sampling_strategy=0.7, random_state=seed)\n",
    "X_under_final, y_under_final = under_final.fit_resample(X_scaled_tr_final, y_train_final)"
   ]
  },
  {
   "cell_type": "markdown",
   "metadata": {},
   "source": [
    "### 6.2.3 Oversampling"
   ]
  },
  {
   "cell_type": "markdown",
   "metadata": {},
   "source": [
    "Primero se realiza un oversampling al conjunto para el análisis."
   ]
  },
  {
   "cell_type": "code",
   "execution_count": 73,
   "metadata": {},
   "outputs": [],
   "source": [
    "over = SMOTE(sampling_strategy=0.8, random_state=seed)\n",
    "X_resampled, y_resampled = over.fit_resample(X_under, y_under)"
   ]
  },
  {
   "cell_type": "markdown",
   "metadata": {},
   "source": [
    "Después el de Kaggle."
   ]
  },
  {
   "cell_type": "code",
   "execution_count": 75,
   "metadata": {},
   "outputs": [],
   "source": [
    "over_final = SMOTE(sampling_strategy=0.9, k_neighbors=5, random_state=seed)\n",
    "X_res_final, y_res_final = over_final.fit_resample(X_under_final, y_under_final)"
   ]
  },
  {
   "cell_type": "markdown",
   "metadata": {},
   "source": [
    "# 7. Modelos seleccionados"
   ]
  },
  {
   "cell_type": "markdown",
   "metadata": {
    "jp-MarkdownHeadingCollapsed": true
   },
   "source": [
    "## 7.1 Introduccion"
   ]
  },
  {
   "cell_type": "markdown",
   "metadata": {},
   "source": [
    "En el anterior notebook se evaluaron una serie de modelos tanto por F1 score como por ROC-AUC score. Los modelos con mejores resultados para ambas categorías fueron:\n",
    "* Random Forest.\n",
    "* GradientBoosting.\n",
    "* XGBoost.\n",
    "* LogisticRegression.\n",
    "* SVC con kernel rbf.\n",
    "\n",
    "Por lo tanto nos dispondremos a probar dichos modelos a continuación."
   ]
  },
  {
   "cell_type": "markdown",
   "metadata": {
    "jp-MarkdownHeadingCollapsed": true
   },
   "source": [
    "## 7.2 Asignacion de las variables"
   ]
  },
  {
   "cell_type": "markdown",
   "metadata": {},
   "source": [
    "Asignamos las variables para el analisis en función del desarrollo del apartado del preprocesado."
   ]
  },
  {
   "cell_type": "code",
   "execution_count": 81,
   "metadata": {},
   "outputs": [],
   "source": [
    "X_model = X_resampled\n",
    "y_model = y_resampled\n",
    "\n",
    "X_model_test = X_scaled_test\n",
    "expected = y_test"
   ]
  },
  {
   "cell_type": "markdown",
   "metadata": {
    "jp-MarkdownHeadingCollapsed": true
   },
   "source": [
    "## 7.3 Clasificador Random Forest"
   ]
  },
  {
   "cell_type": "markdown",
   "metadata": {},
   "source": [
    "### 7.3.1 Definicion"
   ]
  },
  {
   "cell_type": "markdown",
   "metadata": {},
   "source": [
    "Definimos el modelo con los hiperparámetros *random_state* fijado y *class_weigth* balanceado. También se escoje *n_jobs* con valor -1 para utilizar todos los procesadores."
   ]
  },
  {
   "cell_type": "code",
   "execution_count": 85,
   "metadata": {
    "vscode": {
     "languageId": "plaintext"
    }
   },
   "outputs": [],
   "source": [
    "model_Forest = RandomForestClassifier(class_weight=\"balanced\", n_jobs=-1, random_state=seed)"
   ]
  },
  {
   "cell_type": "markdown",
   "metadata": {},
   "source": [
    "### 7.3.2 Entrenamiento y evaluacion"
   ]
  },
  {
   "cell_type": "markdown",
   "metadata": {},
   "source": [
    "Entrenamos el modelo y comprobamos su exactitud."
   ]
  },
  {
   "cell_type": "code",
   "execution_count": 88,
   "metadata": {
    "vscode": {
     "languageId": "plaintext"
    }
   },
   "outputs": [],
   "source": [
    "model_Forest.fit(X_model, y_model)\n",
    "\n",
    "predicted_Forest = model_Forest.predict(X_model_test)"
   ]
  },
  {
   "cell_type": "code",
   "execution_count": 89,
   "metadata": {
    "vscode": {
     "languageId": "plaintext"
    }
   },
   "outputs": [
    {
     "data": {
      "text/plain": [
       "0.6262569832402235"
      ]
     },
     "execution_count": 89,
     "metadata": {},
     "output_type": "execute_result"
    }
   ],
   "source": [
    "accuracy_score(expected, predicted_Forest)"
   ]
  },
  {
   "cell_type": "markdown",
   "metadata": {},
   "source": [
    "### 7.3.3 Null accuracy"
   ]
  },
  {
   "cell_type": "markdown",
   "metadata": {},
   "source": [
    "Ahora se va a evaluar si  el modelo siempre predice la clase más frecuente."
   ]
  },
  {
   "cell_type": "code",
   "execution_count": 92,
   "metadata": {
    "vscode": {
     "languageId": "plaintext"
    }
   },
   "outputs": [
    {
     "data": {
      "text/plain": [
       "1    1179\n",
       "0     611\n",
       "Name: count, dtype: int64"
      ]
     },
     "execution_count": 92,
     "metadata": {},
     "output_type": "execute_result"
    }
   ],
   "source": [
    "s_y_test = pd.Series(y_test)\n",
    "s_y_test.value_counts()"
   ]
  },
  {
   "cell_type": "code",
   "execution_count": 93,
   "metadata": {
    "vscode": {
     "languageId": "plaintext"
    }
   },
   "outputs": [
    {
     "data": {
      "text/plain": [
       "0.658659217877095"
      ]
     },
     "execution_count": 93,
     "metadata": {},
     "output_type": "execute_result"
    }
   ],
   "source": [
    "y_test.mean()"
   ]
  },
  {
   "cell_type": "code",
   "execution_count": 94,
   "metadata": {
    "vscode": {
     "languageId": "plaintext"
    }
   },
   "outputs": [
    {
     "data": {
      "text/plain": [
       "0.341340782122905"
      ]
     },
     "execution_count": 94,
     "metadata": {},
     "output_type": "execute_result"
    }
   ],
   "source": [
    "1 - y_test.mean() "
   ]
  },
  {
   "cell_type": "code",
   "execution_count": 95,
   "metadata": {},
   "outputs": [
    {
     "data": {
      "text/plain": [
       "0.658659217877095"
      ]
     },
     "execution_count": 95,
     "metadata": {},
     "output_type": "execute_result"
    }
   ],
   "source": [
    "max(y_test.mean(), 1 - y_test.mean())"
   ]
  },
  {
   "cell_type": "code",
   "execution_count": 96,
   "metadata": {
    "vscode": {
     "languageId": "plaintext"
    }
   },
   "outputs": [
    {
     "data": {
      "text/plain": [
       "1    0.658659\n",
       "Name: count, dtype: float64"
      ]
     },
     "execution_count": 96,
     "metadata": {},
     "output_type": "execute_result"
    }
   ],
   "source": [
    "s_y_test.value_counts().head(1) / len(y_test)"
   ]
  },
  {
   "cell_type": "markdown",
   "metadata": {},
   "source": [
    "Nuestra exactitud es de 0.626, la cual es peor que la *null accuracy*, es decir, ahora mismo no tenemos un buen modelo ya que se predecirían un mayor número de resultados en el caso de siempre predecir la clase mayoritaria."
   ]
  },
  {
   "cell_type": "markdown",
   "metadata": {},
   "source": [
    "### 7.3.4 Matriz de confusion y F-score"
   ]
  },
  {
   "cell_type": "markdown",
   "metadata": {},
   "source": [
    "Se muestra la matriz de confusión y el informe de clasificación."
   ]
  },
  {
   "cell_type": "code",
   "execution_count": 100,
   "metadata": {
    "vscode": {
     "languageId": "plaintext"
    }
   },
   "outputs": [
    {
     "name": "stdout",
     "output_type": "stream",
     "text": [
      "[[177 434]\n",
      " [235 944]]\n"
     ]
    }
   ],
   "source": [
    "print(confusion_matrix(expected, predicted_Forest))"
   ]
  },
  {
   "cell_type": "code",
   "execution_count": 101,
   "metadata": {
    "vscode": {
     "languageId": "plaintext"
    }
   },
   "outputs": [
    {
     "name": "stdout",
     "output_type": "stream",
     "text": [
      "              precision    recall  f1-score   support\n",
      "\n",
      "           0       0.43      0.29      0.35       611\n",
      "           1       0.69      0.80      0.74      1179\n",
      "\n",
      "    accuracy                           0.63      1790\n",
      "   macro avg       0.56      0.55      0.54      1790\n",
      "weighted avg       0.60      0.63      0.60      1790\n",
      "\n"
     ]
    }
   ],
   "source": [
    "print(classification_report(expected, predicted_Forest))"
   ]
  },
  {
   "cell_type": "markdown",
   "metadata": {},
   "source": [
    "Se observa que estamos identificando erroneamente los 0s ya que tenemos un f1-score del 0.74 para los 1s mientras que estamos obteniendo un 0.35 para los 0s"
   ]
  },
  {
   "cell_type": "markdown",
   "metadata": {},
   "source": [
    "### 7.3.5 ROC y AUC"
   ]
  },
  {
   "cell_type": "markdown",
   "metadata": {},
   "source": [
    "Evaluamos la ROC-AUC score. Para ello representamos primero la curva de ROC."
   ]
  },
  {
   "cell_type": "code",
   "execution_count": 105,
   "metadata": {
    "vscode": {
     "languageId": "plaintext"
    }
   },
   "outputs": [
    {
     "data": {
      "image/png": "[encoded data removed]",
      "text/plain": [
       "<Figure size 640x480 with 1 Axes>"
      ]
     },
     "metadata": {},
     "output_type": "display_data"
    }
   ],
   "source": [
    "y_pred_prob_Forest = model_Forest.predict_proba(X_model_test)[:,1]\n",
    "fpr, tpr, thresholds = roc_curve(expected, y_pred_prob_Forest)\n",
    "plt.plot(fpr, tpr)\n",
    "plt.xlim([0.0, 1.0])\n",
    "plt.ylim([0.0, 1.0])\n",
    "plt.title('Curva ROC')\n",
    "plt.xlabel('Ratio de FP (1 - Recall)')\n",
    "plt.ylabel('Ratio TP (Sensitivity)')\n",
    "plt.grid(True)\n",
    "plt.show()"
   ]
  },
  {
   "cell_type": "markdown",
   "metadata": {},
   "source": [
    "Y mostramos sus thresholds."
   ]
  },
  {
   "cell_type": "code",
   "execution_count": 107,
   "metadata": {
    "vscode": {
     "languageId": "plaintext"
    }
   },
   "outputs": [
    {
     "data": {
      "text/plain": [
       "array([ inf, 0.9 , 0.77, 0.76, 0.75, 0.74, 0.73, 0.72, 0.71, 0.7 , 0.69,\n",
       "       0.68, 0.67, 0.66, 0.65, 0.64, 0.63, 0.62, 0.61, 0.6 , 0.59, 0.58,\n",
       "       0.57, 0.56, 0.55, 0.54, 0.53, 0.52, 0.51, 0.5 , 0.49, 0.48, 0.47,\n",
       "       0.46, 0.45, 0.44, 0.43, 0.42, 0.41, 0.4 , 0.39, 0.38, 0.37, 0.36,\n",
       "       0.35, 0.34, 0.33, 0.31, 0.29, 0.14])"
      ]
     },
     "execution_count": 107,
     "metadata": {},
     "output_type": "execute_result"
    }
   ],
   "source": [
    "thresholds"
   ]
  },
  {
   "cell_type": "markdown",
   "metadata": {},
   "source": [
    "Como se observa el resultado no es bueno ya que estamos obteniendo practicamente una recta en vez de una curva en forma de 'L' invertida."
   ]
  },
  {
   "cell_type": "markdown",
   "metadata": {},
   "source": [
    "La siguiente gráfica muestra las probabilidades de predicción en función de los umbrales."
   ]
  },
  {
   "cell_type": "code",
   "execution_count": 110,
   "metadata": {
    "vscode": {
     "languageId": "plaintext"
    }
   },
   "outputs": [
    {
     "data": {
      "text/plain": [
       "array([<Axes: title={'center': '0'}>, <Axes: title={'center': '1'}>],\n",
       "      dtype=object)"
      ]
     },
     "execution_count": 110,
     "metadata": {},
     "output_type": "execute_result"
    },
    {
     "data": {
      "image/png": "[encoded data removed]",
      "text/plain": [
       "<Figure size 640x480 with 2 Axes>"
      ]
     },
     "metadata": {},
     "output_type": "display_data"
    }
   ],
   "source": [
    "dprob = pd.DataFrame(data = {'probability':y_pred_prob_Forest, 'actual':y_test})\n",
    "dprob.probability.hist(by=dprob.actual, sharex=True, sharey=True)"
   ]
  },
  {
   "cell_type": "markdown",
   "metadata": {},
   "source": [
    "Se muestra que los mejores resultados para ambas clases se obtiene con el *threshold* igual a 0.5 aproximandamente (es decir, el valor por defecto)."
   ]
  },
  {
   "cell_type": "code",
   "execution_count": 112,
   "metadata": {
    "vscode": {
     "languageId": "plaintext"
    }
   },
   "outputs": [
    {
     "name": "stdout",
     "output_type": "stream",
     "text": [
      "Sensitivity: 0.8006785411365565\n",
      "Recall: 0.28968903436988547\n"
     ]
    }
   ],
   "source": [
    "best_thres_Random = 0.5\n",
    "\n",
    "evaluate_threshold(best_thres_Random)"
   ]
  },
  {
   "cell_type": "markdown",
   "metadata": {},
   "source": [
    "Con este valor se obtienen los siguientes resultados. Primero se recalculan las predicciones."
   ]
  },
  {
   "cell_type": "code",
   "execution_count": 114,
   "metadata": {},
   "outputs": [],
   "source": [
    "probs_Forest = model_Forest.predict_proba(X_model_test)[:, 1]  \n",
    "pred_thres_Forest = (probs_Forest >= best_thres_Random).astype(int) "
   ]
  },
  {
   "cell_type": "markdown",
   "metadata": {},
   "source": [
    "Se evalua la matriz de confusión."
   ]
  },
  {
   "cell_type": "code",
   "execution_count": 116,
   "metadata": {},
   "outputs": [
    {
     "name": "stdout",
     "output_type": "stream",
     "text": [
      "[[147 464]\n",
      " [185 994]]\n"
     ]
    }
   ],
   "source": [
    "print(confusion_matrix(expected, pred_thres_Forest))"
   ]
  },
  {
   "cell_type": "markdown",
   "metadata": {},
   "source": [
    "Y también se analiza el informe de la clasificación."
   ]
  },
  {
   "cell_type": "code",
   "execution_count": 118,
   "metadata": {},
   "outputs": [
    {
     "name": "stdout",
     "output_type": "stream",
     "text": [
      "              precision    recall  f1-score   support\n",
      "\n",
      "           0       0.44      0.24      0.31       611\n",
      "           1       0.68      0.84      0.75      1179\n",
      "\n",
      "    accuracy                           0.64      1790\n",
      "   macro avg       0.56      0.54      0.53      1790\n",
      "weighted avg       0.60      0.64      0.60      1790\n",
      "\n"
     ]
    }
   ],
   "source": [
    "print(classification_report(expected, pred_thres_Forest))"
   ]
  },
  {
   "cell_type": "markdown",
   "metadata": {},
   "source": [
    "Obviamente son los mismos, ya que no estamos modificando el umbral realmente."
   ]
  },
  {
   "cell_type": "markdown",
   "metadata": {},
   "source": [
    "Finalmente se calcula el valor de AUC."
   ]
  },
  {
   "cell_type": "code",
   "execution_count": 121,
   "metadata": {
    "vscode": {
     "languageId": "plaintext"
    }
   },
   "outputs": [
    {
     "name": "stdout",
     "output_type": "stream",
     "text": [
      "0.545183787753221\n"
     ]
    }
   ],
   "source": [
    "print(roc_auc_score(expected, predicted_Forest))"
   ]
  },
  {
   "cell_type": "markdown",
   "metadata": {},
   "source": [
    "Se ha obtenido un valor entre 0.5 y 0.6, es decir, el modelo se considerá como fallido o *F*."
   ]
  },
  {
   "cell_type": "markdown",
   "metadata": {},
   "source": [
    "### 7.3.6 Optimizacion"
   ]
  },
  {
   "cell_type": "markdown",
   "metadata": {},
   "source": [
    "Antes de nada, observamos cuales son los parámetros de nuestro modelo."
   ]
  },
  {
   "cell_type": "code",
   "execution_count": 125,
   "metadata": {
    "vscode": {
     "languageId": "plaintext"
    }
   },
   "outputs": [
    {
     "data": {
      "text/plain": [
       "{'bootstrap': True,\n",
       " 'ccp_alpha': 0.0,\n",
       " 'class_weight': 'balanced',\n",
       " 'criterion': 'gini',\n",
       " 'max_depth': None,\n",
       " 'max_features': 'sqrt',\n",
       " 'max_leaf_nodes': None,\n",
       " 'max_samples': None,\n",
       " 'min_impurity_decrease': 0.0,\n",
       " 'min_samples_leaf': 1,\n",
       " 'min_samples_split': 2,\n",
       " 'min_weight_fraction_leaf': 0.0,\n",
       " 'monotonic_cst': None,\n",
       " 'n_estimators': 100,\n",
       " 'n_jobs': -1,\n",
       " 'oob_score': False,\n",
       " 'random_state': 42,\n",
       " 'verbose': 0,\n",
       " 'warm_start': False}"
      ]
     },
     "execution_count": 125,
     "metadata": {},
     "output_type": "execute_result"
    }
   ],
   "source": [
    "model_Forest.get_params()"
   ]
  },
  {
   "cell_type": "markdown",
   "metadata": {},
   "source": [
    "También creemos que es interesante saber la profundidad media de nuestro modelo Random Forest, para así poder estimar mejor rango de valores en este apartado."
   ]
  },
  {
   "cell_type": "code",
   "execution_count": 127,
   "metadata": {},
   "outputs": [
    {
     "name": "stdout",
     "output_type": "stream",
     "text": [
      "Profundidad media de los árboles: 38.36\n"
     ]
    }
   ],
   "source": [
    "arboles_decision = model_Forest.estimators_\n",
    "\n",
    "profundidades = [arbol.tree_.max_depth for arbol in arboles_decision]\n",
    "profundidad_media = np.mean(profundidades)\n",
    "\n",
    "print(f\"Profundidad media de los árboles: {profundidad_media}\")"
   ]
  },
  {
   "cell_type": "markdown",
   "metadata": {},
   "source": [
    "Ahora seleccionamos los hiperparámetros a evaluar mediante un GridSearchCV. Además, se ha añadido la librería *time* para saber el tiempo que tardo en realizar la busqueda de mejores parámetros.\n",
    "\n",
    "Estos hiperparámetros son:\n",
    "* ***n_estimator***: número de árboles.\n",
    "* ***max_depth***: máxima profundidad de cada árbol.\n",
    "* ***min_samples_split***: número de muestras mínimas para dividir un nodo interno.\n",
    "* ***min_samples_leaf***: número de muestras mínimas de un nodo hoja.\n",
    "* ***max_features***: número de características a tener en cuenta a la hora de buscar la mejor división.\n",
    "* ***class_weight***: pesos asignados a las clases."
   ]
  },
  {
   "cell_type": "raw",
   "metadata": {
    "vscode": {
     "languageId": "plaintext"
    }
   },
   "source": [
    "optm_Forest = RandomForestClassifier(n_jobs=-1, random_state=seed)\n",
    "\n",
    "param_grid = {\n",
    "    'n_estimators': [200, 250, 300],\n",
    "    'max_depth': [25, 35],\n",
    "    'min_samples_split': [2, 5],\n",
    "    'min_samples_leaf': [2, 4],\n",
    "    'max_features': [14, 20, 30, 50],\n",
    "    'class_weight': ['balanced', 'balanced_subsample']\n",
    "}\n",
    "\n",
    "grid_search = GridSearchCV(optm_Forest, param_grid=param_grid, cv=3, scoring=make_scorer(f1_score, average='weighted'), n_jobs=-1)\n",
    "\n",
    "inicio = time.time()\n",
    "grid_search.fit(X_model, y_model)\n",
    "fin = time.time()"
   ]
  },
  {
   "cell_type": "markdown",
   "metadata": {},
   "source": [
    "Se calcula el tiempo que ha tardado en minutos."
   ]
  },
  {
   "cell_type": "raw",
   "metadata": {},
   "source": [
    "tiempo_total = (fin - inicio) / 60\n",
    "print(f\"La celda tardó {tiempo_total} minutos en ejecutarse.\")"
   ]
  },
  {
   "cell_type": "markdown",
   "metadata": {},
   "source": [
    "Se escoge el mejor parámetro y su  precisión asociada."
   ]
  },
  {
   "cell_type": "raw",
   "metadata": {
    "vscode": {
     "languageId": "plaintext"
    }
   },
   "source": [
    "print(\"Mejores parámetros: \", grid_search.best_params_)\n",
    "print(\"Mejor score: \", grid_search.best_score_)"
   ]
  },
  {
   "cell_type": "markdown",
   "metadata": {},
   "source": [
    "Observamos los mejores 10 casos para analizar varias posibilidades."
   ]
  },
  {
   "cell_type": "raw",
   "metadata": {},
   "source": [
    "results_df = pd.DataFrame(grid_search.cv_results_)"
   ]
  },
  {
   "cell_type": "raw",
   "metadata": {},
   "source": [
    "top_10_models = results_df.nlargest(10, \"mean_test_score\")\n",
    "\n",
    "print(\"\\nLos 10 mejores modelos:\")\n",
    "for index, row in top_10_models.iterrows():\n",
    "    print(\"\\nModelo:\")\n",
    "    print(f\"Parámetros: {row['params']}\")\n",
    "    print(f\"Puntuación media de prueba: {row['mean_test_score']}\")"
   ]
  },
  {
   "cell_type": "markdown",
   "metadata": {},
   "source": [
    "### 7.3.7 Entrenamiento y evaluacion con hiperparametros optimizados"
   ]
  },
  {
   "cell_type": "markdown",
   "metadata": {},
   "source": [
    "#### - Definicion"
   ]
  },
  {
   "cell_type": "markdown",
   "metadata": {},
   "source": [
    "Definimos los mejores parámetros (no se define con *grid_search.best_params_* para probar varias opciones de forma sencilla)."
   ]
  },
  {
   "cell_type": "code",
   "execution_count": 135,
   "metadata": {
    "vscode": {
     "languageId": "plaintext"
    }
   },
   "outputs": [],
   "source": [
    "params_final_Forest = {\n",
    "    'class_weight': 'balanced',\n",
    "    'max_depth': 25,\n",
    "    'max_features': 50,\n",
    "    'min_samples_leaf': 4,\n",
    "    'min_samples_split': 2,\n",
    "    'n_estimators': 300,\n",
    "    'n_jobs': -1,\n",
    "    'random_state': seed\n",
    "}"
   ]
  },
  {
   "cell_type": "markdown",
   "metadata": {},
   "source": [
    "Definimos el modelo desagregando el diccionario."
   ]
  },
  {
   "cell_type": "code",
   "execution_count": 137,
   "metadata": {},
   "outputs": [],
   "source": [
    "final_Forest = RandomForestClassifier(**params_final_Forest)"
   ]
  },
  {
   "cell_type": "markdown",
   "metadata": {},
   "source": [
    "#### - Entrenamiento y evaluacion"
   ]
  },
  {
   "cell_type": "markdown",
   "metadata": {},
   "source": [
    "Entrenamos el modelo y comprobamos su exactitud."
   ]
  },
  {
   "cell_type": "code",
   "execution_count": 140,
   "metadata": {
    "vscode": {
     "languageId": "plaintext"
    }
   },
   "outputs": [],
   "source": [
    "final_Forest.fit(X_model, y_model)\n",
    "\n",
    "predicted_For_opt = final_Forest.predict(X_model_test)"
   ]
  },
  {
   "cell_type": "code",
   "execution_count": 141,
   "metadata": {
    "vscode": {
     "languageId": "plaintext"
    }
   },
   "outputs": [
    {
     "data": {
      "text/plain": [
       "0.629608938547486"
      ]
     },
     "execution_count": 141,
     "metadata": {},
     "output_type": "execute_result"
    }
   ],
   "source": [
    "accuracy_score(expected, predicted_For_opt)"
   ]
  },
  {
   "cell_type": "markdown",
   "metadata": {},
   "source": [
    "#### - Null accuracy"
   ]
  },
  {
   "cell_type": "markdown",
   "metadata": {},
   "source": [
    "La accuracy es similar a la anterior. Además, sigue siendo peor que la *null accuracy*."
   ]
  },
  {
   "cell_type": "markdown",
   "metadata": {},
   "source": [
    "#### - Matriz de confusion y F-score"
   ]
  },
  {
   "cell_type": "markdown",
   "metadata": {},
   "source": [
    "La matriz de confusión y el informe de clasificación también es muy similar."
   ]
  },
  {
   "cell_type": "code",
   "execution_count": 146,
   "metadata": {},
   "outputs": [
    {
     "name": "stdout",
     "output_type": "stream",
     "text": [
      "[[199 412]\n",
      " [251 928]]\n"
     ]
    }
   ],
   "source": [
    "print(confusion_matrix(expected, predicted_For_opt))"
   ]
  },
  {
   "cell_type": "code",
   "execution_count": 147,
   "metadata": {
    "vscode": {
     "languageId": "plaintext"
    }
   },
   "outputs": [
    {
     "name": "stdout",
     "output_type": "stream",
     "text": [
      "              precision    recall  f1-score   support\n",
      "\n",
      "           0       0.44      0.33      0.38       611\n",
      "           1       0.69      0.79      0.74      1179\n",
      "\n",
      "    accuracy                           0.63      1790\n",
      "   macro avg       0.57      0.56      0.56      1790\n",
      "weighted avg       0.61      0.63      0.61      1790\n",
      "\n"
     ]
    }
   ],
   "source": [
    "print(classification_report(expected, predicted_For_opt))"
   ]
  },
  {
   "cell_type": "markdown",
   "metadata": {},
   "source": [
    "#### - ROC y AUC"
   ]
  },
  {
   "cell_type": "markdown",
   "metadata": {},
   "source": [
    "Se calcula el ROC y se reajusta el umbral de probabilidad."
   ]
  },
  {
   "cell_type": "code",
   "execution_count": 150,
   "metadata": {
    "vscode": {
     "languageId": "plaintext"
    }
   },
   "outputs": [
    {
     "data": {
      "image/png": "[encoded data removed]",
      "text/plain": [
       "<Figure size 640x480 with 1 Axes>"
      ]
     },
     "metadata": {},
     "output_type": "display_data"
    }
   ],
   "source": [
    "y_pred_prob_Forest = final_Forest.predict_proba(X_model_test)[:,1]\n",
    "fpr, tpr, thresholds = roc_curve(y_test, y_pred_prob_Forest)\n",
    "plt.plot(fpr, tpr)\n",
    "plt.xlim([0.0, 1.0])\n",
    "plt.ylim([0.0, 1.0])\n",
    "plt.title('Curva ROC')\n",
    "plt.xlabel('Ratio de FP (1 - Recall)')\n",
    "plt.ylabel('Ratio TP (Sensitivity)')\n",
    "plt.grid(True)\n",
    "plt.show()"
   ]
  },
  {
   "cell_type": "code",
   "execution_count": 151,
   "metadata": {
    "vscode": {
     "languageId": "plaintext"
    }
   },
   "outputs": [
    {
     "data": {
      "text/plain": [
       "array([       inf, 0.72087463, 0.69409647, 0.69096869, 0.6888998 ,\n",
       "       0.68806231, 0.68430822, 0.68381416, 0.66848821, 0.66618381,\n",
       "       0.66524085, 0.66462071, 0.66428692, 0.66398805, 0.65761849,\n",
       "       0.6549101 , 0.65456067, 0.65449121, 0.6527797 , 0.65206243,\n",
       "       0.65009672, 0.64934659, 0.64885107, 0.64846503, 0.64779004,\n",
       "       0.64771564, 0.64567479, 0.64539872, 0.64459377, 0.64413234,\n",
       "       0.6415937 , 0.64124336, 0.64064498, 0.6397654 , 0.63940314,\n",
       "       0.63938486, 0.63915958, 0.63881814, 0.63404314, 0.63381731,\n",
       "       0.63308882, 0.63291237, 0.62821374, 0.62785768, 0.62778789,\n",
       "       0.62716766, 0.62714466, 0.62662114, 0.62585631, 0.62563059,\n",
       "       0.62444988, 0.62391734, 0.62345299, 0.62337092, 0.62302119,\n",
       "       0.62300889, 0.62295852, 0.62217072, 0.62211053, 0.62190987,\n",
       "       0.62150765, 0.62094192, 0.61904799, 0.61879522, 0.61734205,\n",
       "       0.61733748, 0.61702116, 0.61681297, 0.61671533, 0.61651649,\n",
       "       0.6159302 , 0.61563564, 0.61551914, 0.61531592, 0.61450279,\n",
       "       0.61440473, 0.61322203, 0.61264269, 0.61174379, 0.61145354,\n",
       "       0.6102159 , 0.61019148, 0.60966106, 0.60965357, 0.60964908,\n",
       "       0.60962848, 0.60946068, 0.60922875, 0.60851576, 0.60843967,\n",
       "       0.60833889, 0.60824304, 0.60808796, 0.60799108, 0.60760758,\n",
       "       0.60760012, 0.60667067, 0.60656327, 0.60644857, 0.60625111,\n",
       "       0.60574918, 0.60535813, 0.60468912, 0.60448797, 0.60437322,\n",
       "       0.60410387, 0.60392367, 0.60391324, 0.60388947, 0.60371999,\n",
       "       0.60164722, 0.60119234, 0.60050417, 0.60005637, 0.59963271,\n",
       "       0.59946518, 0.59928809, 0.59924871, 0.59899276, 0.59872771,\n",
       "       0.59754591, 0.5970904 , 0.5967933 , 0.5966558 , 0.59659159,\n",
       "       0.5965607 , 0.59628805, 0.59612329, 0.59542172, 0.59536861,\n",
       "       0.59532175, 0.59513984, 0.59413044, 0.59381942, 0.59253086,\n",
       "       0.5924636 , 0.59233276, 0.59230235, 0.59226093, 0.59134117,\n",
       "       0.59129812, 0.59120071, 0.59009748, 0.58996047, 0.58995616,\n",
       "       0.58991245, 0.58986025, 0.58979328, 0.58844625, 0.5883674 ,\n",
       "       0.58792824, 0.58790356, 0.58763178, 0.58757198, 0.5863847 ,\n",
       "       0.58587979, 0.58565332, 0.5854792 , 0.58510777, 0.58493886,\n",
       "       0.58477241, 0.58475923, 0.58474184, 0.58465889, 0.58449739,\n",
       "       0.5844741 , 0.58429392, 0.58427775, 0.58297345, 0.58282913,\n",
       "       0.58256957, 0.58206091, 0.58171783, 0.58169559, 0.58155662,\n",
       "       0.58139632, 0.58109301, 0.58101389, 0.58092827, 0.58088991,\n",
       "       0.58058954, 0.58046512, 0.57962899, 0.57950843, 0.57924313,\n",
       "       0.5786077 , 0.57860517, 0.57850773, 0.57848453, 0.57848311,\n",
       "       0.57834918, 0.57821524, 0.57782976, 0.57735513, 0.57725364,\n",
       "       0.57723204, 0.57656947, 0.5763262 , 0.57608781, 0.57607577,\n",
       "       0.575694  , 0.57565284, 0.57509062, 0.57496787, 0.57448117,\n",
       "       0.57446056, 0.57445328, 0.57412521, 0.57394226, 0.57356429,\n",
       "       0.57328983, 0.57318037, 0.57306753, 0.57287125, 0.57285987,\n",
       "       0.57285405, 0.57261739, 0.57259293, 0.57231466, 0.5723144 ,\n",
       "       0.5721984 , 0.572069  , 0.57171689, 0.57164961, 0.57103779,\n",
       "       0.57098046, 0.57096539, 0.57074512, 0.57058144, 0.57051379,\n",
       "       0.57050766, 0.5704532 , 0.57030327, 0.5702555 , 0.57017649,\n",
       "       0.57004948, 0.57000459, 0.56999419, 0.56974943, 0.56968343,\n",
       "       0.5688156 , 0.56879257, 0.56809586, 0.56808128, 0.56790796,\n",
       "       0.56779571, 0.56767478, 0.56756836, 0.56755895, 0.56713536,\n",
       "       0.56667731, 0.56646699, 0.5661211 , 0.56605615, 0.56492949,\n",
       "       0.5649261 , 0.56432588, 0.56423918, 0.56416373, 0.56381913,\n",
       "       0.56379849, 0.56379733, 0.56376528, 0.56370263, 0.56354921,\n",
       "       0.56340373, 0.56305635, 0.5629128 , 0.5628426 , 0.56269728,\n",
       "       0.56255208, 0.56254617, 0.56201305, 0.5618453 , 0.56164701,\n",
       "       0.56134119, 0.56023514, 0.56007258, 0.55989049, 0.55976932,\n",
       "       0.55933142, 0.55912015, 0.55896844, 0.55881982, 0.55832211,\n",
       "       0.55792955, 0.55772948, 0.55750061, 0.55738042, 0.5570871 ,\n",
       "       0.55686778, 0.55676658, 0.55664606, 0.55628513, 0.55593687,\n",
       "       0.55569484, 0.5556848 , 0.55532863, 0.55506514, 0.55478562,\n",
       "       0.55443421, 0.55419506, 0.55413506, 0.5540444 , 0.55393331,\n",
       "       0.55393301, 0.55383783, 0.55381961, 0.55300901, 0.5528084 ,\n",
       "       0.55267454, 0.55216347, 0.55205935, 0.55198219, 0.55175883,\n",
       "       0.5516334 , 0.5508911 , 0.550885  , 0.55077472, 0.55071004,\n",
       "       0.55041752, 0.55021758, 0.54997872, 0.54997164, 0.54967777,\n",
       "       0.54956227, 0.54927963, 0.54910694, 0.54898748, 0.5488936 ,\n",
       "       0.548649  , 0.54853061, 0.54809013, 0.54794016, 0.54784278,\n",
       "       0.54778504, 0.54763654, 0.5475174 , 0.54723268, 0.54717768,\n",
       "       0.54687825, 0.54686962, 0.54680604, 0.54676462, 0.54670765,\n",
       "       0.54661438, 0.54660948, 0.54660651, 0.54641684, 0.54627443,\n",
       "       0.54613899, 0.54609764, 0.54542577, 0.54541971, 0.54499051,\n",
       "       0.54493026, 0.54428713, 0.54407235, 0.54386691, 0.54382537,\n",
       "       0.54382329, 0.54375046, 0.54311404, 0.54308742, 0.54296454,\n",
       "       0.54242795, 0.54227964, 0.54220621, 0.54220002, 0.54212984,\n",
       "       0.54211439, 0.54206324, 0.54192886, 0.54165559, 0.54161012,\n",
       "       0.5415189 , 0.541441  , 0.54136089, 0.54109003, 0.54077857,\n",
       "       0.54077282, 0.54073227, 0.54057667, 0.54032839, 0.53979511,\n",
       "       0.53964005, 0.5384725 , 0.53843224, 0.53814194, 0.53756118,\n",
       "       0.53744107, 0.53733879, 0.53732413, 0.53695472, 0.53668729,\n",
       "       0.53658801, 0.53633943, 0.53627267, 0.53621062, 0.53617653,\n",
       "       0.53610864, 0.53593934, 0.5359296 , 0.53590639, 0.5358382 ,\n",
       "       0.53550609, 0.53529455, 0.53508128, 0.53501215, 0.53484117,\n",
       "       0.53471372, 0.53424567, 0.53358528, 0.53326034, 0.53316418,\n",
       "       0.53306418, 0.53291798, 0.53277559, 0.53266776, 0.53239168,\n",
       "       0.53204081, 0.53198739, 0.53187349, 0.53187137, 0.53148312,\n",
       "       0.53144116, 0.53122476, 0.53119271, 0.53101368, 0.5309792 ,\n",
       "       0.53096474, 0.53092775, 0.53048709, 0.53041579, 0.53027507,\n",
       "       0.53012498, 0.52940158, 0.52914553, 0.5287026 , 0.5285773 ,\n",
       "       0.52835079, 0.5282329 , 0.52820027, 0.52817229, 0.52808131,\n",
       "       0.52798362, 0.52792824, 0.52792148, 0.52789223, 0.52775709,\n",
       "       0.52745614, 0.52736193, 0.52709872, 0.52701711, 0.52691728,\n",
       "       0.5268732 , 0.52665974, 0.52646332, 0.52641195, 0.52628069,\n",
       "       0.52626384, 0.52619854, 0.52602236, 0.5258307 , 0.52531221,\n",
       "       0.52500644, 0.5232981 , 0.52306789, 0.522809  , 0.5227524 ,\n",
       "       0.52240078, 0.52238428, 0.52204721, 0.52200603, 0.52178852,\n",
       "       0.52176348, 0.52145461, 0.52117218, 0.52073537, 0.52063841,\n",
       "       0.51999636, 0.51987941, 0.51966852, 0.51950119, 0.51944681,\n",
       "       0.51925835, 0.51913973, 0.51906316, 0.5189666 , 0.5186437 ,\n",
       "       0.51836677, 0.51835382, 0.51769165, 0.51767562, 0.51658482,\n",
       "       0.51637745, 0.51631135, 0.51584372, 0.51563276, 0.5156151 ,\n",
       "       0.51547746, 0.51522814, 0.51469837, 0.51452693, 0.5142106 ,\n",
       "       0.51415324, 0.51412724, 0.5137352 , 0.5134769 , 0.51343198,\n",
       "       0.51306358, 0.51268615, 0.51217785, 0.51212185, 0.51194167,\n",
       "       0.51188813, 0.51187028, 0.51186822, 0.51096935, 0.51054925,\n",
       "       0.51040216, 0.51027213, 0.50892901, 0.50870538, 0.50852421,\n",
       "       0.50833354, 0.50784256, 0.50774661, 0.50756011, 0.50734908,\n",
       "       0.50645137, 0.50642213, 0.50641252, 0.50637525, 0.50632065,\n",
       "       0.50621557, 0.50620805, 0.5061082 , 0.50601521, 0.50583159,\n",
       "       0.50536544, 0.50490678, 0.50483195, 0.50451939, 0.50448888,\n",
       "       0.50445537, 0.50420847, 0.50404692, 0.5040054 , 0.50377595,\n",
       "       0.50358546, 0.50349569, 0.50333245, 0.50313182, 0.50288237,\n",
       "       0.5027955 , 0.50166142, 0.50165916, 0.50146051, 0.5013224 ,\n",
       "       0.50128275, 0.50043474, 0.49967323, 0.49952469, 0.49944267,\n",
       "       0.49941998, 0.49912534, 0.49910116, 0.49877055, 0.49854723,\n",
       "       0.49848115, 0.4978987 , 0.49785862, 0.49705248, 0.4966603 ,\n",
       "       0.49657877, 0.49657006, 0.49618833, 0.49613509, 0.49582984,\n",
       "       0.49553367, 0.49537162, 0.49510644, 0.49491724, 0.49462128,\n",
       "       0.49461751, 0.49461228, 0.49460893, 0.49448632, 0.49446532,\n",
       "       0.49407105, 0.4940524 , 0.49366088, 0.49340737, 0.49330074,\n",
       "       0.49316942, 0.4931089 , 0.49306777, 0.49262919, 0.49257456,\n",
       "       0.49225071, 0.49219944, 0.49175401, 0.49161278, 0.4913649 ,\n",
       "       0.49109315, 0.49104849, 0.49072935, 0.49056868, 0.48888757,\n",
       "       0.48816577, 0.48814449, 0.48736928, 0.48718137, 0.48703307,\n",
       "       0.48676162, 0.48603271, 0.48585967, 0.48571705, 0.48565801,\n",
       "       0.48518287, 0.48483097, 0.48446049, 0.48419328, 0.48414409,\n",
       "       0.48401005, 0.48377385, 0.48328067, 0.48320109, 0.48305201,\n",
       "       0.4824224 , 0.48210734, 0.48182711, 0.48150022, 0.4814623 ,\n",
       "       0.48138648, 0.48068701, 0.4805887 , 0.48034456, 0.47961218,\n",
       "       0.479051  , 0.47897022, 0.47740721, 0.47707224, 0.4768572 ,\n",
       "       0.47577429, 0.47492754, 0.47472613, 0.47444693, 0.47440732,\n",
       "       0.47392834, 0.47372333, 0.473069  , 0.4730676 , 0.47182212,\n",
       "       0.47152627, 0.4706217 , 0.47028304, 0.47019091, 0.47007952,\n",
       "       0.46986681, 0.4698188 , 0.46971838, 0.46961388, 0.4694394 ,\n",
       "       0.46897113, 0.46849543, 0.46788146, 0.46701099, 0.46436323,\n",
       "       0.46404877, 0.46373143, 0.46369449, 0.46355619, 0.46332125,\n",
       "       0.46315382, 0.4629191 , 0.46185069, 0.46165516, 0.46138477,\n",
       "       0.46112544, 0.46108379, 0.46057756, 0.4603696 , 0.4591109 ,\n",
       "       0.45896342, 0.45847292, 0.45703077, 0.45644696, 0.45618691,\n",
       "       0.4537743 , 0.45364951, 0.45208823, 0.4520577 , 0.45168624,\n",
       "       0.45011125, 0.44804963, 0.44791175, 0.44692242, 0.44680404,\n",
       "       0.44662728, 0.44660906, 0.44604957, 0.44599454, 0.44538587,\n",
       "       0.44467115, 0.44409696, 0.44309968, 0.44163832, 0.44126705,\n",
       "       0.44107235, 0.44101746, 0.44043763, 0.43961864, 0.43758498,\n",
       "       0.43631586, 0.43574058, 0.43488833, 0.43432579, 0.43351408,\n",
       "       0.4334774 , 0.43339781, 0.43044518, 0.43042978, 0.4297207 ,\n",
       "       0.42939741, 0.42638123, 0.42623699, 0.42615997, 0.42540708,\n",
       "       0.42455633, 0.42333778, 0.42198381, 0.42191992, 0.42161876,\n",
       "       0.42089785, 0.42079878, 0.41758345, 0.41675413, 0.41592833,\n",
       "       0.40899827, 0.40788565, 0.40607237, 0.40186608, 0.40027932,\n",
       "       0.39894287, 0.395832  , 0.39435861, 0.39243233, 0.3912207 ,\n",
       "       0.3894529 , 0.38795951, 0.38648206, 0.3849662 , 0.38300501,\n",
       "       0.38275126, 0.3694302 , 0.36782348, 0.36766801, 0.36118258,\n",
       "       0.35691621, 0.35102357, 0.34827392, 0.34300171, 0.33472671,\n",
       "       0.33116388, 0.32125263, 0.31641554, 0.31007794, 0.22879776])"
      ]
     },
     "execution_count": 151,
     "metadata": {},
     "output_type": "execute_result"
    }
   ],
   "source": [
    "thresholds"
   ]
  },
  {
   "cell_type": "code",
   "execution_count": 152,
   "metadata": {
    "vscode": {
     "languageId": "plaintext"
    }
   },
   "outputs": [
    {
     "data": {
      "text/plain": [
       "array([<Axes: title={'center': '0'}>, <Axes: title={'center': '1'}>],\n",
       "      dtype=object)"
      ]
     },
     "execution_count": 152,
     "metadata": {},
     "output_type": "execute_result"
    },
    {
     "data": {
      "image/png": "[encoded data removed]",
      "text/plain": [
       "<Figure size 640x480 with 2 Axes>"
      ]
     },
     "metadata": {},
     "output_type": "display_data"
    }
   ],
   "source": [
    "dprob = pd.DataFrame(data = {'probability':y_pred_prob_Forest, 'actual':y_test})\n",
    "dprob.probability.hist(by=dprob.actual, sharex=True, sharey=True)"
   ]
  },
  {
   "cell_type": "code",
   "execution_count": 153,
   "metadata": {
    "vscode": {
     "languageId": "plaintext"
    }
   },
   "outputs": [
    {
     "name": "stdout",
     "output_type": "stream",
     "text": [
      "Sensitivity: 0.7871077184054284\n",
      "Recall: 0.32569558101472995\n"
     ]
    }
   ],
   "source": [
    "op_thres_Random = 0.5\n",
    "\n",
    "evaluate_threshold(op_thres_Random)"
   ]
  },
  {
   "cell_type": "code",
   "execution_count": 154,
   "metadata": {},
   "outputs": [],
   "source": [
    "probs_For_opt = final_Forest.predict_proba(X_model_test)[:, 1]  \n",
    "pred_thres_For_opt = (probs_For_opt >= op_thres_Random).astype(int) "
   ]
  },
  {
   "cell_type": "code",
   "execution_count": 155,
   "metadata": {},
   "outputs": [
    {
     "name": "stdout",
     "output_type": "stream",
     "text": [
      "[[199 412]\n",
      " [251 928]]\n"
     ]
    }
   ],
   "source": [
    "print(confusion_matrix(expected, pred_thres_For_opt))"
   ]
  },
  {
   "cell_type": "code",
   "execution_count": 156,
   "metadata": {},
   "outputs": [
    {
     "name": "stdout",
     "output_type": "stream",
     "text": [
      "              precision    recall  f1-score   support\n",
      "\n",
      "           0       0.44      0.33      0.38       611\n",
      "           1       0.69      0.79      0.74      1179\n",
      "\n",
      "    accuracy                           0.63      1790\n",
      "   macro avg       0.57      0.56      0.56      1790\n",
      "weighted avg       0.61      0.63      0.61      1790\n",
      "\n"
     ]
    }
   ],
   "source": [
    "print(classification_report(expected, pred_thres_For_opt))"
   ]
  },
  {
   "cell_type": "markdown",
   "metadata": {},
   "source": [
    "Se obtienen los mismos resultados porque sigue siendo el mejor caso con umbral igual a 0,5."
   ]
  },
  {
   "cell_type": "markdown",
   "metadata": {},
   "source": [
    "Se calcula la AUC score."
   ]
  },
  {
   "cell_type": "code",
   "execution_count": 159,
   "metadata": {
    "vscode": {
     "languageId": "plaintext"
    }
   },
   "outputs": [
    {
     "name": "stdout",
     "output_type": "stream",
     "text": [
      "0.5564016497100791\n"
     ]
    }
   ],
   "source": [
    "print(roc_auc_score(expected, predicted_For_opt))"
   ]
  },
  {
   "cell_type": "markdown",
   "metadata": {},
   "source": [
    "También ha tenido una pequeña mejora, pero sigue en el mismo intervalo. Es decir, sigue siendo un modelo *F*."
   ]
  },
  {
   "cell_type": "markdown",
   "metadata": {},
   "source": [
    "### 7.3.8 Conclusiones del modelo"
   ]
  },
  {
   "cell_type": "markdown",
   "metadata": {},
   "source": [
    "Tal y como esta el modelo no se estan obteniendo buenos resultados debido a la escasez de entradas y la gran cantidad de dimensiones que presenta el dataset. Estamos obteniendo prácticamente los mismos resultados que si decidieramos clasificar al azar."
   ]
  },
  {
   "cell_type": "markdown",
   "metadata": {
    "jp-MarkdownHeadingCollapsed": true
   },
   "source": [
    "## 7.4 Clasificador XGBoost"
   ]
  },
  {
   "cell_type": "markdown",
   "metadata": {},
   "source": [
    "### 7.4.1 Definicion"
   ]
  },
  {
   "cell_type": "markdown",
   "metadata": {},
   "source": [
    "Definimos el modelo con los hiperparámetros *random_state* fijado y *class_weigth* balanceado. También se escoje *n_jobs* con valor -1 para utilizar todos los procesadores."
   ]
  },
  {
   "cell_type": "code",
   "execution_count": 166,
   "metadata": {
    "vscode": {
     "languageId": "plaintext"
    }
   },
   "outputs": [],
   "source": [
    "model_XG = XGBClassifier(objective='binary:logistic', eval_metric='logloss', random_state=seed)"
   ]
  },
  {
   "cell_type": "markdown",
   "metadata": {},
   "source": [
    "### 7.4.2 Entrenamiento y evaluacion"
   ]
  },
  {
   "cell_type": "markdown",
   "metadata": {},
   "source": [
    "Entrenamos el modelo y comprobamos su exactitud."
   ]
  },
  {
   "cell_type": "code",
   "execution_count": 169,
   "metadata": {
    "vscode": {
     "languageId": "plaintext"
    }
   },
   "outputs": [],
   "source": [
    "model_XG.fit(X_model, y_model)\n",
    "\n",
    "predicted_XG = model_XG.predict(X_model_test)"
   ]
  },
  {
   "cell_type": "code",
   "execution_count": 170,
   "metadata": {
    "vscode": {
     "languageId": "plaintext"
    }
   },
   "outputs": [
    {
     "data": {
      "text/plain": [
       "0.587709497206704"
      ]
     },
     "execution_count": 170,
     "metadata": {},
     "output_type": "execute_result"
    }
   ],
   "source": [
    "accuracy_score(expected, predicted_XG)"
   ]
  },
  {
   "cell_type": "markdown",
   "metadata": {},
   "source": [
    "### 7.4.3 Null accuracy"
   ]
  },
  {
   "cell_type": "markdown",
   "metadata": {},
   "source": [
    "Nuestra exactitud es de 0.587, la cual es peor que la *null accuracy*, es decir, ahora mismo no tenemos un buen modelo ya que se predecirían un mayor número de resultados en el caso de siempre predecir la clase mayoritaria."
   ]
  },
  {
   "cell_type": "markdown",
   "metadata": {},
   "source": [
    "### 7.4.4 Matriz de confusion y F-score"
   ]
  },
  {
   "cell_type": "markdown",
   "metadata": {},
   "source": [
    "Se muestra la matriz de confusión y el informe de clasificación."
   ]
  },
  {
   "cell_type": "code",
   "execution_count": 175,
   "metadata": {
    "vscode": {
     "languageId": "plaintext"
    }
   },
   "outputs": [
    {
     "name": "stdout",
     "output_type": "stream",
     "text": [
      "[[281 330]\n",
      " [408 771]]\n"
     ]
    }
   ],
   "source": [
    "print(confusion_matrix(expected, predicted_XG))"
   ]
  },
  {
   "cell_type": "code",
   "execution_count": 176,
   "metadata": {
    "vscode": {
     "languageId": "plaintext"
    }
   },
   "outputs": [
    {
     "name": "stdout",
     "output_type": "stream",
     "text": [
      "              precision    recall  f1-score   support\n",
      "\n",
      "           0       0.41      0.46      0.43       611\n",
      "           1       0.70      0.65      0.68      1179\n",
      "\n",
      "    accuracy                           0.59      1790\n",
      "   macro avg       0.55      0.56      0.55      1790\n",
      "weighted avg       0.60      0.59      0.59      1790\n",
      "\n"
     ]
    }
   ],
   "source": [
    "print(classification_report(expected, predicted_XG))"
   ]
  },
  {
   "cell_type": "markdown",
   "metadata": {},
   "source": [
    "Se observa que estamos identificando erroneamente los 0s ya que tenemos un f1-score del 0.68 para los 1s mientras que estamos obteniendo un 0.43 para los 0s"
   ]
  },
  {
   "cell_type": "markdown",
   "metadata": {},
   "source": [
    "### 7.4.5 ROC y AUC"
   ]
  },
  {
   "cell_type": "markdown",
   "metadata": {},
   "source": [
    "Evaluamos la ROC-AUC score. Para ello representamos primero la curva de ROC."
   ]
  },
  {
   "cell_type": "code",
   "execution_count": 180,
   "metadata": {
    "vscode": {
     "languageId": "plaintext"
    }
   },
   "outputs": [
    {
     "data": {
      "image/png": "[encoded data removed]",
      "text/plain": [
       "<Figure size 640x480 with 1 Axes>"
      ]
     },
     "metadata": {},
     "output_type": "display_data"
    }
   ],
   "source": [
    "y_pred_prob_XG = model_XG.predict_proba(X_model_test)[:,1]\n",
    "fpr, tpr, thresholds = roc_curve(expected, y_pred_prob_XG)\n",
    "plt.plot(fpr, tpr)\n",
    "plt.xlim([0.0, 1.0])\n",
    "plt.ylim([0.0, 1.0])\n",
    "plt.title('Curva ROC')\n",
    "plt.xlabel('Ratio de FP (1 - Recall)')\n",
    "plt.ylabel('Ratio TP (Sensitivity)')\n",
    "plt.grid(True)\n",
    "plt.show()"
   ]
  },
  {
   "cell_type": "markdown",
   "metadata": {},
   "source": [
    "Y mostramos sus thresholds."
   ]
  },
  {
   "cell_type": "code",
   "execution_count": 182,
   "metadata": {
    "vscode": {
     "languageId": "plaintext"
    }
   },
   "outputs": [
    {
     "data": {
      "text/plain": [
       "array([       inf, 0.99828255, 0.98959094, 0.98912734, 0.98807204,\n",
       "       0.9873784 , 0.9846368 , 0.98315525, 0.9802468 , 0.9793411 ,\n",
       "       0.97873676, 0.97763026, 0.97542477, 0.97487974, 0.9738937 ,\n",
       "       0.973504  , 0.9734307 , 0.9734152 , 0.97320795, 0.9728703 ,\n",
       "       0.9695197 , 0.9684548 , 0.9675909 , 0.9674494 , 0.96737784,\n",
       "       0.9669954 , 0.9659155 , 0.9656308 , 0.9642416 , 0.9636496 ,\n",
       "       0.9628227 , 0.9626494 , 0.9619896 , 0.96103704, 0.95967627,\n",
       "       0.9596047 , 0.95828134, 0.95770675, 0.95576197, 0.9538133 ,\n",
       "       0.95343566, 0.9532988 , 0.95257   , 0.9521601 , 0.95011973,\n",
       "       0.9500675 , 0.94910794, 0.94880885, 0.94717455, 0.946969  ,\n",
       "       0.9460614 , 0.9455319 , 0.94342554, 0.9433851 , 0.94295406,\n",
       "       0.94243824, 0.9412729 , 0.9404558 , 0.93930775, 0.93822396,\n",
       "       0.93747514, 0.93724984, 0.93584526, 0.93525356, 0.9344151 ,\n",
       "       0.9344101 , 0.9327633 , 0.9324678 , 0.93197477, 0.93125933,\n",
       "       0.9270187 , 0.92680323, 0.92647636, 0.92631036, 0.92429024,\n",
       "       0.9241355 , 0.9240842 , 0.9240807 , 0.9234915 , 0.9232796 ,\n",
       "       0.922786  , 0.9225561 , 0.92226255, 0.9220891 , 0.9191206 ,\n",
       "       0.9190161 , 0.9184269 , 0.9171146 , 0.91551596, 0.91538846,\n",
       "       0.91303694, 0.91109276, 0.9102477 , 0.9094031 , 0.90673655,\n",
       "       0.9066597 , 0.90658313, 0.9063248 , 0.9046747 , 0.903049  ,\n",
       "       0.90302145, 0.90301204, 0.8962576 , 0.8962209 , 0.8954037 ,\n",
       "       0.8949751 , 0.89447486, 0.8929954 , 0.8926979 , 0.89225876,\n",
       "       0.8922364 , 0.89141184, 0.8858285 , 0.8853994 , 0.88381284,\n",
       "       0.8837037 , 0.8820777 , 0.8818041 , 0.8800827 , 0.87875926,\n",
       "       0.8766463 , 0.8763887 , 0.8739556 , 0.87353414, 0.87317026,\n",
       "       0.87289715, 0.87275356, 0.8717764 , 0.871577  , 0.87098914,\n",
       "       0.8695672 , 0.86899006, 0.86896145, 0.8681974 , 0.86806107,\n",
       "       0.8669607 , 0.8664219 , 0.8660477 , 0.8659797 , 0.86509407,\n",
       "       0.86493754, 0.86483043, 0.86446834, 0.8643507 , 0.85986394,\n",
       "       0.859757  , 0.85940313, 0.85868394, 0.8561414 , 0.8557639 ,\n",
       "       0.8555535 , 0.8553828 , 0.85243064, 0.8523023 , 0.85168236,\n",
       "       0.8514393 , 0.84719497, 0.84702384, 0.8464687 , 0.8460619 ,\n",
       "       0.8400563 , 0.83989435, 0.8395743 , 0.8387875 , 0.8351856 ,\n",
       "       0.8345961 , 0.8340009 , 0.8328918 , 0.8323711 , 0.8323153 ,\n",
       "       0.83145475, 0.8307328 , 0.8268898 , 0.82669204, 0.8264082 ,\n",
       "       0.8252664 , 0.8249375 , 0.82399327, 0.82338643, 0.82333815,\n",
       "       0.8221339 , 0.8216835 , 0.81805235, 0.81762195, 0.8145538 ,\n",
       "       0.81453216, 0.8143261 , 0.8141479 , 0.8126622 , 0.8124803 ,\n",
       "       0.81158566, 0.8114939 , 0.8102198 , 0.80917084, 0.80908036,\n",
       "       0.8086856 , 0.80728745, 0.8072233 , 0.80538446, 0.8038889 ,\n",
       "       0.8015949 , 0.8012438 , 0.8003425 , 0.8002706 , 0.799934  ,\n",
       "       0.79924035, 0.79857635, 0.79820895, 0.79766697, 0.79757935,\n",
       "       0.7932015 , 0.7924859 , 0.7907409 , 0.7906126 , 0.79029065,\n",
       "       0.7857417 , 0.7843911 , 0.7821855 , 0.7800587 , 0.7796739 ,\n",
       "       0.7788961 , 0.7783094 , 0.77810156, 0.77801615, 0.7777627 ,\n",
       "       0.77460027, 0.77364445, 0.7734135 , 0.7733995 , 0.7724594 ,\n",
       "       0.7707387 , 0.7706514 , 0.76974756, 0.768703  , 0.7655041 ,\n",
       "       0.7648081 , 0.76409084, 0.7636778 , 0.762534  , 0.7623547 ,\n",
       "       0.7612081 , 0.7593961 , 0.7577361 , 0.7559764 , 0.75228256,\n",
       "       0.75155336, 0.74831176, 0.7472386 , 0.74345934, 0.74249005,\n",
       "       0.7414977 , 0.7398952 , 0.73988837, 0.7385526 , 0.7371583 ,\n",
       "       0.7370472 , 0.73645335, 0.7360769 , 0.73270893, 0.73136544,\n",
       "       0.7308905 , 0.7308343 , 0.7287584 , 0.72812974, 0.7269197 ,\n",
       "       0.7267233 , 0.7204756 , 0.72041345, 0.71901006, 0.71782905,\n",
       "       0.7146301 , 0.7143655 , 0.7139628 , 0.7135263 , 0.71206003,\n",
       "       0.7116444 , 0.7115805 , 0.71022415, 0.70986617, 0.7093072 ,\n",
       "       0.7080769 , 0.7077717 , 0.7073735 , 0.70679575, 0.7065473 ,\n",
       "       0.70408595, 0.70402306, 0.70328367, 0.6938581 , 0.6935733 ,\n",
       "       0.6919877 , 0.69146025, 0.6905967 , 0.6904409 , 0.69017524,\n",
       "       0.6894725 , 0.6847245 , 0.6842493 , 0.6824203 , 0.68222004,\n",
       "       0.6811832 , 0.6805126 , 0.6797899 , 0.67863053, 0.67823714,\n",
       "       0.6778098 , 0.6777288 , 0.67754513, 0.6769499 , 0.6763008 ,\n",
       "       0.67249227, 0.67168856, 0.6703117 , 0.6702938 , 0.6687806 ,\n",
       "       0.66842884, 0.6674612 , 0.6671281 , 0.6658083 , 0.66579604,\n",
       "       0.6653411 , 0.6645209 , 0.6640023 , 0.6637301 , 0.6636834 ,\n",
       "       0.6635949 , 0.661223  , 0.6607086 , 0.65783715, 0.65616935,\n",
       "       0.6549399 , 0.6540231 , 0.65157396, 0.65142643, 0.6507665 ,\n",
       "       0.65074044, 0.6505203 , 0.6501275 , 0.6500504 , 0.6486393 ,\n",
       "       0.6454514 , 0.6448716 , 0.6409926 , 0.6408862 , 0.6405539 ,\n",
       "       0.64050525, 0.6387722 , 0.6387282 , 0.6376053 , 0.6372674 ,\n",
       "       0.6365974 , 0.6350015 , 0.63425744, 0.63390326, 0.63365036,\n",
       "       0.6335992 , 0.63238055, 0.6317048 , 0.62761104, 0.6271626 ,\n",
       "       0.62273705, 0.6199793 , 0.61974627, 0.61935717, 0.61658436,\n",
       "       0.61516905, 0.6147459 , 0.61428446, 0.6140796 , 0.61375004,\n",
       "       0.61109453, 0.60987884, 0.60865605, 0.60723317, 0.6055974 ,\n",
       "       0.60497564, 0.6048713 , 0.6038591 , 0.6017754 , 0.6017303 ,\n",
       "       0.6012162 , 0.6002172 , 0.59769094, 0.595278  , 0.59514844,\n",
       "       0.59460276, 0.5896935 , 0.5890837 , 0.58630466, 0.5854345 ,\n",
       "       0.58539546, 0.5851565 , 0.5851195 , 0.5831163 , 0.5823767 ,\n",
       "       0.5823696 , 0.5800631 , 0.57700706, 0.5769377 , 0.57533604,\n",
       "       0.57518536, 0.574212  , 0.57364947, 0.5726608 , 0.5683458 ,\n",
       "       0.5679392 , 0.5669802 , 0.56379175, 0.56278896, 0.5622518 ,\n",
       "       0.56154597, 0.5615171 , 0.56127596, 0.56062263, 0.56000286,\n",
       "       0.5593312 , 0.55759126, 0.55742455, 0.55554706, 0.5552599 ,\n",
       "       0.5548394 , 0.5546659 , 0.55340844, 0.55281   , 0.550184  ,\n",
       "       0.5499319 , 0.54919696, 0.5476073 , 0.54669976, 0.54653114,\n",
       "       0.54503983, 0.5420201 , 0.53865343, 0.5379981 , 0.53794354,\n",
       "       0.53679866, 0.5364991 , 0.53604555, 0.5339041 , 0.5338343 ,\n",
       "       0.5322631 , 0.5317831 , 0.5311761 , 0.53089577, 0.5302046 ,\n",
       "       0.5291001 , 0.52791476, 0.52702546, 0.5244998 , 0.5241392 ,\n",
       "       0.52149224, 0.5205304 , 0.5203017 , 0.52018356, 0.5198455 ,\n",
       "       0.5160873 , 0.511451  , 0.5107359 , 0.5080482 , 0.5078481 ,\n",
       "       0.5056821 , 0.50558466, 0.50341964, 0.5019681 , 0.5013806 ,\n",
       "       0.5002305 , 0.4947649 , 0.49340805, 0.49300858, 0.49128023,\n",
       "       0.49090475, 0.48978165, 0.48867404, 0.4846852 , 0.48380992,\n",
       "       0.48065966, 0.48014897, 0.47696984, 0.473992  , 0.47297603,\n",
       "       0.47238004, 0.47207594, 0.46652296, 0.4665005 , 0.46536005,\n",
       "       0.46424618, 0.4614437 , 0.45784718, 0.45762977, 0.45667666,\n",
       "       0.453544  , 0.45306703, 0.4525363 , 0.4515553 , 0.4498196 ,\n",
       "       0.44962558, 0.44816154, 0.44814038, 0.44655544, 0.4446622 ,\n",
       "       0.44407168, 0.4435952 , 0.44297552, 0.4413597 , 0.44103995,\n",
       "       0.43912902, 0.43462652, 0.43334273, 0.43280962, 0.43233028,\n",
       "       0.4315768 , 0.430935  , 0.4276422 , 0.42757484, 0.4271403 ,\n",
       "       0.4267192 , 0.42646438, 0.4257653 , 0.4255214 , 0.42459738,\n",
       "       0.423265  , 0.42325172, 0.4218834 , 0.4218436 , 0.4205866 ,\n",
       "       0.42028904, 0.41690356, 0.4158844 , 0.4152652 , 0.41518882,\n",
       "       0.41410297, 0.41302684, 0.4113115 , 0.41012233, 0.40937394,\n",
       "       0.40767476, 0.40642765, 0.4058111 , 0.4054757 , 0.40485513,\n",
       "       0.40167823, 0.400785  , 0.40043366, 0.39942762, 0.39725322,\n",
       "       0.3959701 , 0.39567438, 0.39550838, 0.39465716, 0.39321455,\n",
       "       0.3923293 , 0.39101976, 0.39042377, 0.38995007, 0.38970333,\n",
       "       0.3895375 , 0.38865283, 0.38841507, 0.38828242, 0.38799003,\n",
       "       0.3781597 , 0.37777287, 0.37770823, 0.37677577, 0.37555587,\n",
       "       0.37459862, 0.37261194, 0.3719051 , 0.37081853, 0.37068477,\n",
       "       0.36875746, 0.36815476, 0.3663961 , 0.36551893, 0.36238047,\n",
       "       0.36187398, 0.36063135, 0.35935807, 0.35745552, 0.35618898,\n",
       "       0.35598934, 0.35552758, 0.35528058, 0.35501522, 0.3513509 ,\n",
       "       0.34980822, 0.34967774, 0.3492959 , 0.3482561 , 0.34721193,\n",
       "       0.34669715, 0.3464274 , 0.3457422 , 0.34553903, 0.34509972,\n",
       "       0.344989  , 0.3404237 , 0.34036043, 0.33901128, 0.338981  ,\n",
       "       0.33574414, 0.33515006, 0.3326433 , 0.33242425, 0.33001626,\n",
       "       0.32814524, 0.327468  , 0.32719332, 0.32640728, 0.3260926 ,\n",
       "       0.32591322, 0.321378  , 0.3172486 , 0.3165345 , 0.31581935,\n",
       "       0.3147519 , 0.31347525, 0.31222895, 0.3117715 , 0.3117585 ,\n",
       "       0.3115456 , 0.31149185, 0.30707037, 0.30695757, 0.30636218,\n",
       "       0.306032  , 0.30554172, 0.30508235, 0.30275413, 0.30083403,\n",
       "       0.30038917, 0.30024543, 0.29977593, 0.2981749 , 0.29661596,\n",
       "       0.2955487 , 0.29458094, 0.29280666, 0.2920829 , 0.29115403,\n",
       "       0.28955656, 0.2889407 , 0.2877162 , 0.2860122 , 0.28438073,\n",
       "       0.28264594, 0.2825144 , 0.27801204, 0.27609003, 0.2753489 ,\n",
       "       0.2733062 , 0.2714554 , 0.2710374 , 0.26999843, 0.26984477,\n",
       "       0.26869935, 0.26861688, 0.2671409 , 0.2636279 , 0.26298785,\n",
       "       0.25777766, 0.2561208 , 0.25220048, 0.25173983, 0.25103694,\n",
       "       0.2503085 , 0.2500848 , 0.24866417, 0.2472208 , 0.24693322,\n",
       "       0.24380971, 0.2421811 , 0.24126041, 0.24092941, 0.23958394,\n",
       "       0.23858127, 0.23786154, 0.23753442, 0.23682019, 0.23567244,\n",
       "       0.23437454, 0.23260838, 0.2326019 , 0.23236124, 0.2313288 ,\n",
       "       0.23127283, 0.23088759, 0.23025131, 0.22773172, 0.22759134,\n",
       "       0.22402124, 0.22320694, 0.2220151 , 0.22149023, 0.21529076,\n",
       "       0.21483713, 0.21412343, 0.21356909, 0.21034531, 0.20979154,\n",
       "       0.20890571, 0.20717384, 0.2070707 , 0.2067803 , 0.20662884,\n",
       "       0.20608531, 0.20545754, 0.20386536, 0.19886808, 0.19873148,\n",
       "       0.19512697, 0.19282985, 0.19224615, 0.19182353, 0.19126038,\n",
       "       0.19121343, 0.18925932, 0.18798943, 0.18601815, 0.1831505 ,\n",
       "       0.18191516, 0.18042944, 0.1792143 , 0.17735653, 0.17701216,\n",
       "       0.17265978, 0.17238046, 0.1704166 , 0.16862333, 0.166447  ,\n",
       "       0.1660431 , 0.16592982, 0.16373749, 0.16173367, 0.1614243 ,\n",
       "       0.16127664, 0.16126382, 0.16077393, 0.16010644, 0.15699308,\n",
       "       0.15315874, 0.15289678, 0.15233645, 0.15223157, 0.15130007,\n",
       "       0.15036185, 0.14964354, 0.14912657, 0.14813825, 0.14672025,\n",
       "       0.14481759, 0.14288825, 0.14260042, 0.14168155, 0.13989472,\n",
       "       0.1396033 , 0.13918431, 0.13855952, 0.1381066 , 0.13464998,\n",
       "       0.13417001, 0.13389373, 0.13245283, 0.1316154 , 0.13149731,\n",
       "       0.13147536, 0.1278103 , 0.12556262, 0.11835952, 0.11773586,\n",
       "       0.11632715, 0.11615556, 0.11591137, 0.11375038, 0.11053003,\n",
       "       0.10991979, 0.1085365 , 0.10171316, 0.10148685, 0.10003635,\n",
       "       0.09820908, 0.09536539, 0.08727435, 0.08722064, 0.08665823,\n",
       "       0.08589452, 0.08490143, 0.08348283, 0.0809814 , 0.08054642,\n",
       "       0.07224717, 0.06995498, 0.06673174, 0.05924593, 0.05747194,\n",
       "       0.05527532, 0.05337158, 0.05275295, 0.05140353, 0.04999962,\n",
       "       0.04828007, 0.04606087, 0.04598999, 0.0449223 , 0.04093748,\n",
       "       0.03968265, 0.03948079, 0.03789306, 0.02152379, 0.0143641 ],\n",
       "      dtype=float32)"
      ]
     },
     "execution_count": 182,
     "metadata": {},
     "output_type": "execute_result"
    }
   ],
   "source": [
    "thresholds"
   ]
  },
  {
   "cell_type": "markdown",
   "metadata": {},
   "source": [
    "Al igual que con el Random Forest, el resultado obtenido no es bueno ya que estamos obteniendo practicamente una recta en vez de una curva en forma de 'L' invertida."
   ]
  },
  {
   "cell_type": "markdown",
   "metadata": {},
   "source": [
    "La siguiente gráfica muestra las probabilidades de predicción en función de los umbrales."
   ]
  },
  {
   "cell_type": "code",
   "execution_count": 185,
   "metadata": {
    "vscode": {
     "languageId": "plaintext"
    }
   },
   "outputs": [
    {
     "data": {
      "text/plain": [
       "array([<Axes: title={'center': '0'}>, <Axes: title={'center': '1'}>],\n",
       "      dtype=object)"
      ]
     },
     "execution_count": 185,
     "metadata": {},
     "output_type": "execute_result"
    },
    {
     "data": {
      "image/png": "[encoded data removed]",
      "text/plain": [
       "<Figure size 640x480 with 2 Axes>"
      ]
     },
     "metadata": {},
     "output_type": "display_data"
    }
   ],
   "source": [
    "dprob = pd.DataFrame(data = {'probability':y_pred_prob_XG, 'actual':y_test})\n",
    "dprob.probability.hist(by=dprob.actual, sharex=True, sharey=True)"
   ]
  },
  {
   "cell_type": "markdown",
   "metadata": {},
   "source": [
    "Se muestra que los mejores resultados para ambas clases se obtiene con el *threshold* igual a 0.5 aproximandamente (es decir, el valor por defecto)."
   ]
  },
  {
   "cell_type": "code",
   "execution_count": 187,
   "metadata": {
    "vscode": {
     "languageId": "plaintext"
    }
   },
   "outputs": [
    {
     "name": "stdout",
     "output_type": "stream",
     "text": [
      "Sensitivity: 0.6530958439355385\n",
      "Recall: 0.4599018003273322\n"
     ]
    }
   ],
   "source": [
    "best_thres_XG = 0.5\n",
    "\n",
    "evaluate_threshold(best_thres_XG)"
   ]
  },
  {
   "cell_type": "markdown",
   "metadata": {},
   "source": [
    "Con este valor se obtienen los siguientes resultados. Primero se recalculan las predicciones."
   ]
  },
  {
   "cell_type": "code",
   "execution_count": 189,
   "metadata": {},
   "outputs": [],
   "source": [
    "probs_XG = model_XG.predict_proba(X_model_test)[:, 1]  \n",
    "pred_thres_XG= (probs_XG >= best_thres_XG).astype(int) "
   ]
  },
  {
   "cell_type": "markdown",
   "metadata": {},
   "source": [
    "Se evalua la matriz de confusión."
   ]
  },
  {
   "cell_type": "code",
   "execution_count": 191,
   "metadata": {},
   "outputs": [
    {
     "name": "stdout",
     "output_type": "stream",
     "text": [
      "[[281 330]\n",
      " [408 771]]\n"
     ]
    }
   ],
   "source": [
    "print(confusion_matrix(expected, pred_thres_XG))"
   ]
  },
  {
   "cell_type": "markdown",
   "metadata": {},
   "source": [
    "Y también se analiza el informe de la clasificación."
   ]
  },
  {
   "cell_type": "code",
   "execution_count": 193,
   "metadata": {},
   "outputs": [
    {
     "name": "stdout",
     "output_type": "stream",
     "text": [
      "              precision    recall  f1-score   support\n",
      "\n",
      "           0       0.41      0.46      0.43       611\n",
      "           1       0.70      0.65      0.68      1179\n",
      "\n",
      "    accuracy                           0.59      1790\n",
      "   macro avg       0.55      0.56      0.55      1790\n",
      "weighted avg       0.60      0.59      0.59      1790\n",
      "\n"
     ]
    }
   ],
   "source": [
    "print(classification_report(expected, pred_thres_XG))"
   ]
  },
  {
   "cell_type": "markdown",
   "metadata": {},
   "source": [
    "Obviamente son los mismos, ya que no estamos modificando el umbral realmente."
   ]
  },
  {
   "cell_type": "markdown",
   "metadata": {},
   "source": [
    "Finalmente se calcula el valor de AUC."
   ]
  },
  {
   "cell_type": "code",
   "execution_count": 196,
   "metadata": {
    "vscode": {
     "languageId": "plaintext"
    }
   },
   "outputs": [
    {
     "name": "stdout",
     "output_type": "stream",
     "text": [
      "0.5569229103417832\n"
     ]
    }
   ],
   "source": [
    "print(roc_auc_score(expected, predicted_XG))"
   ]
  },
  {
   "cell_type": "markdown",
   "metadata": {},
   "source": [
    "Se ha obtenido un valor entre 0.5 y 0.6, es decir, el modelo se considerá como fallido o *F*."
   ]
  },
  {
   "cell_type": "markdown",
   "metadata": {},
   "source": [
    "### 7.4.6 Optimizacion"
   ]
  },
  {
   "cell_type": "markdown",
   "metadata": {},
   "source": [
    "Ahora seleccionamos los hiperparámetros a evaluar mediante un GridSearchCV. Además, se ha añadido la librería *time* para saber el tiempo que tardo en realizar la busqueda de mejores parámetros.\n",
    "\n",
    "Estos hiperparámetros son:\n",
    "* ***max_depth***: máxima profundidad de cada árbol.\n",
    "* ***eta***: también llamado *learning_rate*,es un factor de escala que regula cuánto se actualizan los pesos en cada paso de boosting.\n",
    "* ***n_estimators***: número de árboles.\n",
    "* ***subsample***: proporción usada para entrenar cada árbol.\n",
    "* ***colsample_bytree***: fracción de columnas utilizadas para construir cada árbol."
   ]
  },
  {
   "cell_type": "markdown",
   "metadata": {},
   "source": [
    "Cabe mencionar que, para evitar tiempos de ejecución excesivos, se fueron iterando los parámetros focalizándose progresivamente en las combinaciones más prometedoras."
   ]
  },
  {
   "cell_type": "markdown",
   "metadata": {},
   "source": [
    "Primero se probó con:"
   ]
  },
  {
   "cell_type": "raw",
   "metadata": {},
   "source": [
    "param_grid = {\n",
    "    'max_depth': [3, 5],\n",
    "    'eta': [0.05, 0.1, 0.2],\n",
    "    'n_estimators': [100, 200],\n",
    "    'subsample': [0.8, 1.0],\n",
    "    'colsample_bytree': [0.8, 1.0],\n",
    "}"
   ]
  },
  {
   "cell_type": "markdown",
   "metadata": {},
   "source": [
    "Y el resultado obtenido para el caso mejor fue:"
   ]
  },
  {
   "cell_type": "raw",
   "metadata": {},
   "source": [
    "Parámetros: {'colsample_bytree': 0.8, 'eta': 0.2, 'max_depth': 5, 'n_estimators': 200, 'subsample': 1.0}\n",
    "Puntuación media de prueba: 0.6393393015636232"
   ]
  },
  {
   "cell_type": "markdown",
   "metadata": {},
   "source": [
    "Después se probó con:"
   ]
  },
  {
   "cell_type": "raw",
   "metadata": {},
   "source": [
    "param_grid = {\n",
    "    'max_depth': [5],\n",
    "    'eta': [0.08, 0.1, 0.12, 0.15, 0.18, 0.2],\n",
    "    'n_estimators': [200, 500],\n",
    "    'subsample': [0.9, 1.0],\n",
    "    'colsample_bytree': [0.9, 1.0],\n",
    "}"
   ]
  },
  {
   "cell_type": "markdown",
   "metadata": {},
   "source": [
    "Y el resultado obtenido para el caso mejor fue:"
   ]
  },
  {
   "cell_type": "raw",
   "metadata": {},
   "source": [
    "Parámetros: {'colsample_bytree': 0.9, 'eta': 0.08, 'max_depth': 5, 'n_estimators': 500, 'subsample': 0.9}\n",
    "Puntuación media de prueba: 0.6524460684447896"
   ]
  },
  {
   "cell_type": "markdown",
   "metadata": {},
   "source": [
    "Y finalmente se probó con:"
   ]
  },
  {
   "cell_type": "raw",
   "metadata": {},
   "source": [
    "param_grid = {\n",
    "    'max_depth': [5],\n",
    "    'eta': [0.06, 0.07, 0.08, 0.09, 0.1],\n",
    "    'n_estimators': [500, 600, 700],\n",
    "    'subsample': [0.9],\n",
    "    'colsample_bytree': [0.9],\n",
    "}"
   ]
  },
  {
   "cell_type": "markdown",
   "metadata": {},
   "source": [
    "Y el resultado obtenido para el caso mejor fue:"
   ]
  },
  {
   "cell_type": "raw",
   "metadata": {},
   "source": [
    "Parámetros: {'colsample_bytree': 0.9, 'eta': 0.08, 'max_depth': 5, 'n_estimators': 700, 'subsample': 0.9}\n",
    "Puntuación media de prueba: 0.6530071357325483"
   ]
  },
  {
   "cell_type": "markdown",
   "metadata": {},
   "source": [
    "El codigo correspondiente a la última ejecución es el siguiente:"
   ]
  },
  {
   "cell_type": "raw",
   "metadata": {
    "vscode": {
     "languageId": "plaintext"
    }
   },
   "source": [
    "optm_XG = XGBClassifier(\n",
    "    objective='binary:logistic',\n",
    "    eval_metric='auc',\n",
    "    random_state=seed\n",
    ")\n",
    "\n",
    "param_grid = {\n",
    "    'max_depth': [5],\n",
    "    'eta': [0.06, 0.07, 0.08, 0.09, 0.1],\n",
    "    'n_estimators': [500, 600, 700],\n",
    "    'subsample': [0.9],\n",
    "    'colsample_bytree': [0.9],\n",
    "}\n",
    "\n",
    "grid_search = GridSearchCV(optm_XG, param_grid=param_grid, scoring=make_scorer(f1_score, average='weighted'), cv=3, n_jobs=-1)\n",
    "\n",
    "inicio = time.time()\n",
    "grid_search.fit(X_model, y_model)\n",
    "fin = time.time()"
   ]
  },
  {
   "cell_type": "markdown",
   "metadata": {},
   "source": [
    "Se calcula el tiempo que ha tardado en minutos."
   ]
  },
  {
   "cell_type": "raw",
   "metadata": {},
   "source": [
    "tiempo_total = (fin - inicio) / 60\n",
    "print(f\"La celda tardó {tiempo_total} minutos en ejecutarse.\")"
   ]
  },
  {
   "cell_type": "markdown",
   "metadata": {},
   "source": [
    "Se escoge el mejor parámetro y su  precisión asociada."
   ]
  },
  {
   "cell_type": "raw",
   "metadata": {
    "vscode": {
     "languageId": "plaintext"
    }
   },
   "source": [
    "print(\"Mejores parámetros: \", grid_search.best_params_)\n",
    "print(\"Mejor score: \", grid_search.best_score_)"
   ]
  },
  {
   "cell_type": "markdown",
   "metadata": {},
   "source": [
    "Observamos los mejores 10 casos para analizar varias posibilidades."
   ]
  },
  {
   "cell_type": "raw",
   "metadata": {},
   "source": [
    "results_df = pd.DataFrame(grid_search.cv_results_)"
   ]
  },
  {
   "cell_type": "raw",
   "metadata": {
    "scrolled": true
   },
   "source": [
    "top_10_models = results_df.nlargest(10, \"mean_test_score\")\n",
    "\n",
    "print(\"\\nLos 10 mejores modelos:\")\n",
    "for index, row in top_10_models.iterrows():\n",
    "    print(\"\\nModelo:\")\n",
    "    print(f\"Parámetros: {row['params']}\")\n",
    "    print(f\"Puntuación media de prueba: {row['mean_test_score']}\")"
   ]
  },
  {
   "cell_type": "markdown",
   "metadata": {},
   "source": [
    "### 7.4.7 Entrenamiento y evaluacion con hiperparametros optimizados"
   ]
  },
  {
   "cell_type": "markdown",
   "metadata": {},
   "source": [
    "#### - Definicion"
   ]
  },
  {
   "cell_type": "markdown",
   "metadata": {},
   "source": [
    "Definimos los mejores parámetros (no se define con *grid_search.best_params_* para probar varias opciones de forma sencilla)."
   ]
  },
  {
   "cell_type": "code",
   "execution_count": 214,
   "metadata": {
    "vscode": {
     "languageId": "plaintext"
    }
   },
   "outputs": [],
   "source": [
    "params_final_XG = {\n",
    "    'objective': 'binary:logistic',\n",
    "    'eval_metric': 'auc',\n",
    "    'max_depth': 5,\n",
    "    'eta': 0.08,\n",
    "    'n_estimators': 700,\n",
    "    'subsample': 1.0,\n",
    "    'colsample_bytree': 0.9,\n",
    "    'random_state': seed\n",
    "}"
   ]
  },
  {
   "cell_type": "markdown",
   "metadata": {},
   "source": [
    "Definimos el modelo desagregando el diccionario."
   ]
  },
  {
   "cell_type": "code",
   "execution_count": 216,
   "metadata": {},
   "outputs": [],
   "source": [
    "final_XG = XGBClassifier(**params_final_XG)"
   ]
  },
  {
   "cell_type": "markdown",
   "metadata": {},
   "source": [
    "#### - Entrenamiento y evaluacion"
   ]
  },
  {
   "cell_type": "markdown",
   "metadata": {},
   "source": [
    "Entrenamos el modelo y comprobamos su exactitud."
   ]
  },
  {
   "cell_type": "code",
   "execution_count": 219,
   "metadata": {
    "vscode": {
     "languageId": "plaintext"
    }
   },
   "outputs": [],
   "source": [
    "final_XG.fit(X_model, y_model)\n",
    "\n",
    "predicted_XG_opt = final_XG.predict(X_model_test)"
   ]
  },
  {
   "cell_type": "code",
   "execution_count": 220,
   "metadata": {
    "vscode": {
     "languageId": "plaintext"
    }
   },
   "outputs": [
    {
     "data": {
      "text/plain": [
       "0.5977653631284916"
      ]
     },
     "execution_count": 220,
     "metadata": {},
     "output_type": "execute_result"
    }
   ],
   "source": [
    "accuracy_score(expected, predicted_XG_opt)"
   ]
  },
  {
   "cell_type": "markdown",
   "metadata": {},
   "source": [
    "#### - Null accuracy"
   ]
  },
  {
   "cell_type": "markdown",
   "metadata": {},
   "source": [
    "La accuracy es similar a la anterior. Además, sigue siendo peor que la *null accuracy*."
   ]
  },
  {
   "cell_type": "markdown",
   "metadata": {},
   "source": [
    "#### - Matriz de confusion y F-score"
   ]
  },
  {
   "cell_type": "markdown",
   "metadata": {},
   "source": [
    "La matriz de confusión y el informe de clasificación también es muy similar."
   ]
  },
  {
   "cell_type": "code",
   "execution_count": 225,
   "metadata": {},
   "outputs": [
    {
     "name": "stdout",
     "output_type": "stream",
     "text": [
      "[[275 336]\n",
      " [384 795]]\n"
     ]
    }
   ],
   "source": [
    "print(confusion_matrix(expected, predicted_XG_opt))"
   ]
  },
  {
   "cell_type": "code",
   "execution_count": 226,
   "metadata": {
    "vscode": {
     "languageId": "plaintext"
    }
   },
   "outputs": [
    {
     "name": "stdout",
     "output_type": "stream",
     "text": [
      "              precision    recall  f1-score   support\n",
      "\n",
      "           0       0.42      0.45      0.43       611\n",
      "           1       0.70      0.67      0.69      1179\n",
      "\n",
      "    accuracy                           0.60      1790\n",
      "   macro avg       0.56      0.56      0.56      1790\n",
      "weighted avg       0.61      0.60      0.60      1790\n",
      "\n"
     ]
    }
   ],
   "source": [
    "print(classification_report(expected, predicted_XG_opt))"
   ]
  },
  {
   "cell_type": "markdown",
   "metadata": {},
   "source": [
    "#### - ROC y AUC"
   ]
  },
  {
   "cell_type": "markdown",
   "metadata": {},
   "source": [
    "Se calcula el ROC y se reajusta el umbral de probabilidad."
   ]
  },
  {
   "cell_type": "code",
   "execution_count": 229,
   "metadata": {
    "vscode": {
     "languageId": "plaintext"
    }
   },
   "outputs": [
    {
     "data": {
      "image/png": "[encoded data removed]",
      "text/plain": [
       "<Figure size 640x480 with 1 Axes>"
      ]
     },
     "metadata": {},
     "output_type": "display_data"
    }
   ],
   "source": [
    "y_pred_prob_XG = final_XG.predict_proba(X_model_test)[:,1]\n",
    "fpr, tpr, thresholds = roc_curve(y_test, y_pred_prob_XG)\n",
    "plt.plot(fpr, tpr)\n",
    "plt.xlim([0.0, 1.0])\n",
    "plt.ylim([0.0, 1.0])\n",
    "plt.title('Curva ROC')\n",
    "plt.xlabel('Ratio de FP (1 - Recall)')\n",
    "plt.ylabel('Ratio TP (Sensitivity)')\n",
    "plt.grid(True)\n",
    "plt.show()"
   ]
  },
  {
   "cell_type": "code",
   "execution_count": 230,
   "metadata": {
    "vscode": {
     "languageId": "plaintext"
    }
   },
   "outputs": [
    {
     "data": {
      "text/plain": [
       "array([       inf, 0.9971796 , 0.9885861 , 0.9865609 , 0.9864862 ,\n",
       "       0.985746  , 0.9849915 , 0.98270667, 0.9796942 , 0.9793819 ,\n",
       "       0.9770349 , 0.9764931 , 0.972841  , 0.97278374, 0.97235006,\n",
       "       0.97100055, 0.9665238 , 0.96625304, 0.96590906, 0.9656357 ,\n",
       "       0.96289694, 0.9614885 , 0.95875436, 0.9584272 , 0.95342684,\n",
       "       0.95226616, 0.9514506 , 0.95103997, 0.9492585 , 0.94902515,\n",
       "       0.9429046 , 0.9425319 , 0.94070214, 0.94034857, 0.9387047 ,\n",
       "       0.9382968 , 0.9362805 , 0.93496627, 0.9345087 , 0.93448967,\n",
       "       0.9339551 , 0.9338517 , 0.9294891 , 0.9283154 , 0.9260186 ,\n",
       "       0.9257536 , 0.9233841 , 0.9230322 , 0.9224211 , 0.9211611 ,\n",
       "       0.92114645, 0.92063135, 0.91736203, 0.91726947, 0.9152806 ,\n",
       "       0.91474164, 0.912651  , 0.9120653 , 0.9095653 , 0.9094709 ,\n",
       "       0.90786165, 0.90770435, 0.9021171 , 0.90202576, 0.9017446 ,\n",
       "       0.90104   , 0.9005749 , 0.9002559 , 0.89871246, 0.8978892 ,\n",
       "       0.8978772 , 0.8973556 , 0.8952272 , 0.8944327 , 0.89422274,\n",
       "       0.89380115, 0.8937331 , 0.8935913 , 0.8922248 , 0.8908579 ,\n",
       "       0.8905831 , 0.89020544, 0.8861987 , 0.8857166 , 0.8848791 ,\n",
       "       0.8829992 , 0.8828574 , 0.88272554, 0.8826059 , 0.88240296,\n",
       "       0.8823728 , 0.8812468 , 0.880995  , 0.88073516, 0.87688774,\n",
       "       0.8758166 , 0.87572664, 0.87568563, 0.87478745, 0.87435746,\n",
       "       0.86671716, 0.8665272 , 0.86626154, 0.86582243, 0.86483616,\n",
       "       0.8646329 , 0.8636237 , 0.86358464, 0.8627354 , 0.862553  ,\n",
       "       0.8625271 , 0.86213773, 0.8613114 , 0.86103016, 0.8606995 ,\n",
       "       0.8604038 , 0.8583487 , 0.85817367, 0.85768765, 0.857486  ,\n",
       "       0.85444003, 0.8542877 , 0.85174525, 0.85161805, 0.85154843,\n",
       "       0.8510952 , 0.8499532 , 0.8499498 , 0.8490045 , 0.8489605 ,\n",
       "       0.84572226, 0.8453267 , 0.84488076, 0.84469426, 0.84268737,\n",
       "       0.8420196 , 0.8405497 , 0.84051865, 0.8391299 , 0.83855855,\n",
       "       0.83804387, 0.83749217, 0.8365431 , 0.8356082 , 0.83321106,\n",
       "       0.8331494 , 0.83045024, 0.8283412 , 0.8264756 , 0.8258663 ,\n",
       "       0.8255245 , 0.8250106 , 0.8239591 , 0.82372284, 0.82299435,\n",
       "       0.8224831 , 0.8221604 , 0.8217918 , 0.8217731 , 0.82169896,\n",
       "       0.81822747, 0.8182223 , 0.81584984, 0.8157734 , 0.81346357,\n",
       "       0.8134281 , 0.81024283, 0.8099797 , 0.8071629 , 0.80653006,\n",
       "       0.8041369 , 0.8040898 , 0.8020028 , 0.8017545 , 0.79925746,\n",
       "       0.7979979 , 0.79691297, 0.7962974 , 0.79484165, 0.7946587 ,\n",
       "       0.79413974, 0.7938718 , 0.79371154, 0.7934272 , 0.79201233,\n",
       "       0.7906574 , 0.7856079 , 0.7852212 , 0.78486615, 0.7844085 ,\n",
       "       0.7823292 , 0.78191453, 0.7819088 , 0.7807652 , 0.78064054,\n",
       "       0.7799692 , 0.7797215 , 0.7794133 , 0.7789532 , 0.77873284,\n",
       "       0.7779915 , 0.7777703 , 0.77727556, 0.7758026 , 0.7748677 ,\n",
       "       0.7741206 , 0.77102125, 0.7709774 , 0.7696054 , 0.7680867 ,\n",
       "       0.76766616, 0.76721394, 0.76535547, 0.7645479 , 0.76432365,\n",
       "       0.7624534 , 0.7609041 , 0.76018596, 0.75996304, 0.7596799 ,\n",
       "       0.7593293 , 0.75842375, 0.75814867, 0.75737303, 0.75597256,\n",
       "       0.7558223 , 0.75437653, 0.754099  , 0.7533476 , 0.75330466,\n",
       "       0.75318444, 0.7529326 , 0.7510037 , 0.7498332 , 0.74882734,\n",
       "       0.74830097, 0.74765337, 0.74753505, 0.74661344, 0.74630827,\n",
       "       0.7454127 , 0.7432262 , 0.7429003 , 0.74288046, 0.7425355 ,\n",
       "       0.74241596, 0.73788404, 0.7377119 , 0.7366867 , 0.73574156,\n",
       "       0.7355238 , 0.7337892 , 0.7331423 , 0.7318638 , 0.7294133 ,\n",
       "       0.7286943 , 0.72862774, 0.72844803, 0.7266034 , 0.72523177,\n",
       "       0.7250142 , 0.7243515 , 0.724109  , 0.7240733 , 0.7224231 ,\n",
       "       0.7217694 , 0.7189043 , 0.7183256 , 0.717469  , 0.7168245 ,\n",
       "       0.7160691 , 0.7159839 , 0.7149836 , 0.71459556, 0.71324384,\n",
       "       0.71136934, 0.71134245, 0.71039987, 0.70856094, 0.70795804,\n",
       "       0.7069453 , 0.7062483 , 0.70564675, 0.7054728 , 0.7033589 ,\n",
       "       0.70328563, 0.70314556, 0.70247924, 0.700471  , 0.70021117,\n",
       "       0.69895566, 0.69751835, 0.6973432 , 0.69709045, 0.6962301 ,\n",
       "       0.6958826 , 0.69180614, 0.6915359 , 0.6901807 , 0.68984413,\n",
       "       0.689794  , 0.6892281 , 0.68823594, 0.68785685, 0.68505543,\n",
       "       0.6843669 , 0.68100846, 0.6807331 , 0.68067193, 0.6801453 ,\n",
       "       0.67931914, 0.6788654 , 0.67741925, 0.6771995 , 0.6768197 ,\n",
       "       0.6765697 , 0.67389214, 0.67343944, 0.67343456, 0.67320454,\n",
       "       0.67041415, 0.67040634, 0.6701382 , 0.66907907, 0.6677762 ,\n",
       "       0.66585046, 0.6650399 , 0.66479117, 0.664608  , 0.66436917,\n",
       "       0.6640675 , 0.6628824 , 0.662354  , 0.6616983 , 0.66162825,\n",
       "       0.6615363 , 0.65991247, 0.6598401 , 0.65937644, 0.6593589 ,\n",
       "       0.65932226, 0.6583182 , 0.657605  , 0.6575538 , 0.65709347,\n",
       "       0.6567623 , 0.6567551 , 0.6561152 , 0.6532059 , 0.6529575 ,\n",
       "       0.65256095, 0.65236026, 0.651704  , 0.65150857, 0.6515025 ,\n",
       "       0.6514683 , 0.6465364 , 0.64226264, 0.6422581 , 0.64166695,\n",
       "       0.64151096, 0.6412335 , 0.64091235, 0.6395541 , 0.6394697 ,\n",
       "       0.6379824 , 0.63494396, 0.6347908 , 0.63450867, 0.6335352 ,\n",
       "       0.6332169 , 0.63276917, 0.63082033, 0.6308117 , 0.630804  ,\n",
       "       0.6303949 , 0.629325  , 0.6288766 , 0.62825024, 0.62823516,\n",
       "       0.62728   , 0.6267863 , 0.6255518 , 0.62540853, 0.6248111 ,\n",
       "       0.62476003, 0.6244354 , 0.6243849 , 0.62387246, 0.6212679 ,\n",
       "       0.62033135, 0.618976  , 0.6166153 , 0.6163342 , 0.6125248 ,\n",
       "       0.61196256, 0.60985863, 0.60850936, 0.6040696 , 0.60331374,\n",
       "       0.6020918 , 0.60195285, 0.5985183 , 0.59375274, 0.5931501 ,\n",
       "       0.59177554, 0.5917382 , 0.59171456, 0.5877981 , 0.58750725,\n",
       "       0.58610576, 0.58608544, 0.5856975 , 0.58515304, 0.5850082 ,\n",
       "       0.58432895, 0.58343416, 0.5827322 , 0.5810022 , 0.58046925,\n",
       "       0.57873625, 0.57851833, 0.57742685, 0.5771182 , 0.5751177 ,\n",
       "       0.57467127, 0.5746137 , 0.57306796, 0.57290244, 0.57088196,\n",
       "       0.5708497 , 0.5708423 , 0.5708196 , 0.5686614 , 0.5662578 ,\n",
       "       0.5660676 , 0.56437415, 0.5637857 , 0.5631248 , 0.5605933 ,\n",
       "       0.5570757 , 0.5570477 , 0.5562872 , 0.5557499 , 0.552809  ,\n",
       "       0.5527608 , 0.5496005 , 0.5495385 , 0.54892087, 0.5437997 ,\n",
       "       0.5427993 , 0.541451  , 0.541073  , 0.54085314, 0.5366551 ,\n",
       "       0.5364899 , 0.53579634, 0.53557956, 0.5345304 , 0.5344009 ,\n",
       "       0.5339104 , 0.5337027 , 0.53079766, 0.5305803 , 0.53051746,\n",
       "       0.53045595, 0.5301225 , 0.5298494 , 0.52852464, 0.5283867 ,\n",
       "       0.528385  , 0.52821803, 0.5278229 , 0.5276899 , 0.52729565,\n",
       "       0.5266928 , 0.5263866 , 0.5245993 , 0.522729  , 0.52080405,\n",
       "       0.5201961 , 0.5201452 , 0.5195505 , 0.5184414 , 0.51680255,\n",
       "       0.5161753 , 0.5148362 , 0.51266253, 0.5083617 , 0.5055176 ,\n",
       "       0.5053552 , 0.5042897 , 0.5034537 , 0.50342023, 0.5017352 ,\n",
       "       0.5009601 , 0.4978202 , 0.49741775, 0.49573797, 0.49472043,\n",
       "       0.49152952, 0.4902542 , 0.48782754, 0.48561552, 0.48324743,\n",
       "       0.48307782, 0.48238292, 0.48224372, 0.48218316, 0.4818156 ,\n",
       "       0.48094484, 0.47906324, 0.47538528, 0.47519016, 0.47452718,\n",
       "       0.47408757, 0.47401986, 0.47368908, 0.47212473, 0.4712337 ,\n",
       "       0.47101322, 0.4697881 , 0.46907732, 0.4680471 , 0.4672399 ,\n",
       "       0.46722052, 0.466881  , 0.46422216, 0.46200112, 0.45969146,\n",
       "       0.45952532, 0.45951518, 0.45721766, 0.45422003, 0.4502416 ,\n",
       "       0.44970572, 0.44877365, 0.4486484 , 0.44668803, 0.44627756,\n",
       "       0.44089726, 0.44086486, 0.439132  , 0.43801028, 0.4349963 ,\n",
       "       0.43490246, 0.43472278, 0.43413836, 0.43364188, 0.43353873,\n",
       "       0.43108523, 0.43024716, 0.4274382 , 0.42726743, 0.42578033,\n",
       "       0.4246403 , 0.42367828, 0.42218497, 0.4207654 , 0.42009524,\n",
       "       0.4200344 , 0.41850433, 0.41716236, 0.4169275 , 0.41583928,\n",
       "       0.41579345, 0.4097974 , 0.40966097, 0.40837988, 0.40812176,\n",
       "       0.40622768, 0.40601107, 0.40530267, 0.40466377, 0.40372688,\n",
       "       0.4012695 , 0.40125   , 0.3991735 , 0.39845392, 0.39806738,\n",
       "       0.39735857, 0.3966041 , 0.39449227, 0.39278516, 0.39241064,\n",
       "       0.3916717 , 0.39082062, 0.38881657, 0.38846767, 0.38801208,\n",
       "       0.38724178, 0.3862477 , 0.38559997, 0.38529083, 0.38333678,\n",
       "       0.38282344, 0.38049033, 0.37950382, 0.3754087 , 0.37505442,\n",
       "       0.3746289 , 0.3743241 , 0.37387317, 0.37356701, 0.37262297,\n",
       "       0.37233976, 0.37055618, 0.36483222, 0.36231995, 0.3619341 ,\n",
       "       0.3619052 , 0.3587344 , 0.3581768 , 0.3558065 , 0.35498428,\n",
       "       0.35345772, 0.35279694, 0.35012794, 0.34785333, 0.34780395,\n",
       "       0.34734252, 0.34700367, 0.34564456, 0.34321707, 0.34306407,\n",
       "       0.34218594, 0.3415711 , 0.34147674, 0.34080622, 0.33602786,\n",
       "       0.3354065 , 0.33367765, 0.33241257, 0.33163288, 0.3283279 ,\n",
       "       0.32809594, 0.3273207 , 0.3270405 , 0.3263706 , 0.3255529 ,\n",
       "       0.3241817 , 0.32209983, 0.31967598, 0.31922767, 0.31564736,\n",
       "       0.3148464 , 0.31238538, 0.31144452, 0.30411196, 0.30340108,\n",
       "       0.3024073 , 0.30068815, 0.2984636 , 0.2984626 , 0.29367608,\n",
       "       0.2930036 , 0.29250747, 0.29247808, 0.2894762 , 0.28747   ,\n",
       "       0.28680736, 0.2857508 , 0.2852132 , 0.2841986 , 0.28184417,\n",
       "       0.28155303, 0.27975503, 0.27945352, 0.2774144 , 0.2759074 ,\n",
       "       0.27503064, 0.274311  , 0.27242225, 0.27203354, 0.269322  ,\n",
       "       0.26918462, 0.26462787, 0.2642579 , 0.26345044, 0.2633945 ,\n",
       "       0.26335812, 0.26068348, 0.2582327 , 0.25812   , 0.25623834,\n",
       "       0.25618312, 0.25326902, 0.25229198, 0.24998614, 0.24620405,\n",
       "       0.24283296, 0.2413415 , 0.23754992, 0.2366776 , 0.23480926,\n",
       "       0.23433834, 0.23357081, 0.23264277, 0.23191395, 0.2317237 ,\n",
       "       0.23113716, 0.23072979, 0.22834426, 0.22814445, 0.22413926,\n",
       "       0.22410417, 0.2214669 , 0.22079156, 0.21933004, 0.21889886,\n",
       "       0.2161605 , 0.21590684, 0.21456844, 0.21379697, 0.2129494 ,\n",
       "       0.21179813, 0.2106316 , 0.21010028, 0.20716596, 0.20386156,\n",
       "       0.20285615, 0.20095322, 0.19989184, 0.1967687 , 0.19418256,\n",
       "       0.193869  , 0.19338532, 0.19217268, 0.19045883, 0.18882401,\n",
       "       0.1883199 , 0.18791848, 0.18667518, 0.18493348, 0.18360789,\n",
       "       0.18080162, 0.18046708, 0.17954983, 0.17778786, 0.1772141 ,\n",
       "       0.17471811, 0.17246199, 0.17232724, 0.17187658, 0.1715197 ,\n",
       "       0.17095035, 0.17028132, 0.16819404, 0.16569653, 0.16350774,\n",
       "       0.16178828, 0.16067575, 0.1595219 , 0.15902169, 0.1563596 ,\n",
       "       0.1557643 , 0.15341502, 0.15298444, 0.15240052, 0.15167767,\n",
       "       0.14954464, 0.1474678 , 0.14563857, 0.1451076 , 0.14350308,\n",
       "       0.14249568, 0.1401373 , 0.13932489, 0.1370781 , 0.1353738 ,\n",
       "       0.13454442, 0.13425907, 0.1300117 , 0.1295868 , 0.12809122,\n",
       "       0.1248778 , 0.12176804, 0.12064049, 0.11962532, 0.11907493,\n",
       "       0.11553716, 0.11522309, 0.11232222, 0.10279402, 0.10036615,\n",
       "       0.09865876, 0.09215039, 0.08601888, 0.08584185, 0.08547209,\n",
       "       0.08155879, 0.06491139, 0.06406339, 0.06184198, 0.05688751,\n",
       "       0.05548994, 0.04238489, 0.03831074, 0.03540448, 0.01166889],\n",
       "      dtype=float32)"
      ]
     },
     "execution_count": 230,
     "metadata": {},
     "output_type": "execute_result"
    }
   ],
   "source": [
    "thresholds"
   ]
  },
  {
   "cell_type": "code",
   "execution_count": 231,
   "metadata": {
    "vscode": {
     "languageId": "plaintext"
    }
   },
   "outputs": [
    {
     "data": {
      "text/plain": [
       "array([<Axes: title={'center': '0'}>, <Axes: title={'center': '1'}>],\n",
       "      dtype=object)"
      ]
     },
     "execution_count": 231,
     "metadata": {},
     "output_type": "execute_result"
    },
    {
     "data": {
      "image/png": "[encoded data removed]",
      "text/plain": [
       "<Figure size 640x480 with 2 Axes>"
      ]
     },
     "metadata": {},
     "output_type": "display_data"
    }
   ],
   "source": [
    "dprob = pd.DataFrame(data = {'probability':y_pred_prob_XG, 'actual':y_test})\n",
    "dprob.probability.hist(by=dprob.actual, sharex=True, sharey=True)"
   ]
  },
  {
   "cell_type": "code",
   "execution_count": 232,
   "metadata": {
    "vscode": {
     "languageId": "plaintext"
    }
   },
   "outputs": [
    {
     "name": "stdout",
     "output_type": "stream",
     "text": [
      "Sensitivity: 0.6734520780322307\n",
      "Recall: 0.4500818330605565\n"
     ]
    }
   ],
   "source": [
    "op_thres_XG = 0.5\n",
    "\n",
    "evaluate_threshold(op_thres_XG)"
   ]
  },
  {
   "cell_type": "code",
   "execution_count": 233,
   "metadata": {},
   "outputs": [],
   "source": [
    "probs_XG_opt = final_XG.predict_proba(X_model_test)[:, 1]  \n",
    "pred_thres_XG_opt = (probs_XG_opt >= op_thres_XG).astype(int) "
   ]
  },
  {
   "cell_type": "code",
   "execution_count": 234,
   "metadata": {},
   "outputs": [
    {
     "name": "stdout",
     "output_type": "stream",
     "text": [
      "[[275 336]\n",
      " [384 795]]\n"
     ]
    }
   ],
   "source": [
    "print(confusion_matrix(expected, pred_thres_XG_opt))"
   ]
  },
  {
   "cell_type": "code",
   "execution_count": 235,
   "metadata": {},
   "outputs": [
    {
     "name": "stdout",
     "output_type": "stream",
     "text": [
      "              precision    recall  f1-score   support\n",
      "\n",
      "           0       0.42      0.45      0.43       611\n",
      "           1       0.70      0.67      0.69      1179\n",
      "\n",
      "    accuracy                           0.60      1790\n",
      "   macro avg       0.56      0.56      0.56      1790\n",
      "weighted avg       0.61      0.60      0.60      1790\n",
      "\n"
     ]
    }
   ],
   "source": [
    "print(classification_report(expected, pred_thres_XG_opt))"
   ]
  },
  {
   "cell_type": "markdown",
   "metadata": {},
   "source": [
    "Se obtienen los mismos resultados porque sigue siendo el mejor caso con umbral igual a 0,5."
   ]
  },
  {
   "cell_type": "markdown",
   "metadata": {},
   "source": [
    "Se calcula la AUC score."
   ]
  },
  {
   "cell_type": "code",
   "execution_count": 238,
   "metadata": {
    "vscode": {
     "languageId": "plaintext"
    }
   },
   "outputs": [
    {
     "name": "stdout",
     "output_type": "stream",
     "text": [
      "0.5621910437567413\n"
     ]
    }
   ],
   "source": [
    "print(roc_auc_score(expected, predicted_XG_opt))"
   ]
  },
  {
   "cell_type": "markdown",
   "metadata": {},
   "source": [
    "También ha tenido una pequeña mejora, pero sigue en el mismo intervalo. Es decir, sigue siendo un modelo *F*."
   ]
  },
  {
   "cell_type": "markdown",
   "metadata": {},
   "source": [
    "### 7.4.8 Conclusiones del modelo"
   ]
  },
  {
   "cell_type": "markdown",
   "metadata": {},
   "source": [
    "Tal y como esta el modelo no se estan obteniendo buenos resultados debido a la escasez de entradas y la gran cantidad de dimensiones que presenta el dataset. Estamos obteniendo prácticamente los mismos resultados que si decidieramos clasificar al azar.\n",
    "\n",
    "Aun así cabe resaltar que puede llegar a funcionar mejor que el Random Forest debido a que predice mejor los 0s. Además existe un mayor margen de trabajo a la hora de modificar el umbral de probabilidad."
   ]
  },
  {
   "cell_type": "markdown",
   "metadata": {},
   "source": [
    "## 7.5 Clasificador Gradient Boosting"
   ]
  },
  {
   "cell_type": "markdown",
   "metadata": {},
   "source": [
    "### 7.5.1 Definicion"
   ]
  },
  {
   "cell_type": "markdown",
   "metadata": {},
   "source": [
    "Definimos el modelo con el hiperparámetro *random_state* fijado."
   ]
  },
  {
   "cell_type": "code",
   "execution_count": null,
   "metadata": {},
   "outputs": [],
   "source": [
    "model_GBC = GradientBoostingClassifier(random_state=seed)"
   ]
  },
  {
   "cell_type": "markdown",
   "metadata": {},
   "source": [
    "### 7.5.2 Entrenamiento y evaluacion"
   ]
  },
  {
   "cell_type": "markdown",
   "metadata": {},
   "source": [
    "Entrenamos el modelo y comprobamos su exactitud.\n"
   ]
  },
  {
   "cell_type": "code",
   "execution_count": null,
   "metadata": {},
   "outputs": [],
   "source": [
    "model_GBC.fit(X_model, y_model)\n",
    "\n",
    "predicted_GBC = model_GBC.predict(X_model_test)"
   ]
  },
  {
   "cell_type": "code",
   "execution_count": null,
   "metadata": {},
   "outputs": [
    {
     "data": {
      "text/plain": [
       "0.6"
      ]
     },
     "metadata": {},
     "output_type": "display_data"
    }
   ],
   "source": [
    "accuracy_score(expected, predicted_GBC)"
   ]
  },
  {
   "cell_type": "markdown",
   "metadata": {},
   "source": [
    "### 7.5.3 Null accuracy"
   ]
  },
  {
   "cell_type": "markdown",
   "metadata": {},
   "source": [
    "Nuestra exactitud es de 0.6, la cual es peor que la *null accuracy*, es decir, ahora mismo no tenemos un buen modelo ya que se predecirían un mayor número de resultados en el caso de siempre predecir la clase mayoritaria."
   ]
  },
  {
   "cell_type": "markdown",
   "metadata": {},
   "source": [
    "### 7.5.4 Matriz de confusion y F-score"
   ]
  },
  {
   "cell_type": "markdown",
   "metadata": {},
   "source": [
    "Se muestra la matriz de confusión y el informe de clasificación."
   ]
  },
  {
   "cell_type": "code",
   "execution_count": null,
   "metadata": {},
   "outputs": [
    {
     "name": "stdout",
     "output_type": "stream",
     "text": [
      "[[264 347]\n",
      " [369 810]]\n"
     ]
    }
   ],
   "source": [
    "print(confusion_matrix(expected, predicted_GBC))"
   ]
  },
  {
   "cell_type": "code",
   "execution_count": null,
   "metadata": {},
   "outputs": [
    {
     "name": "stdout",
     "output_type": "stream",
     "text": [
      "              precision    recall  f1-score   support\n",
      "\n",
      "           0       0.42      0.43      0.42       611\n",
      "           1       0.70      0.69      0.69      1179\n",
      "\n",
      "    accuracy                           0.60      1790\n",
      "   macro avg       0.56      0.56      0.56      1790\n",
      "weighted avg       0.60      0.60      0.60      1790\n",
      "\n"
     ]
    }
   ],
   "source": [
    "print(classification_report(expected, predicted_GBC))"
   ]
  },
  {
   "cell_type": "markdown",
   "metadata": {},
   "source": [
    "Se observa que estamos identificando erroneamente los 0s ya que tenemos un f1-score del 0.69 para los 1s mientras que estamos obteniendo un 0.42 para los 0s."
   ]
  },
  {
   "cell_type": "markdown",
   "metadata": {},
   "source": [
    "### 7.5.5 ROC y AUC"
   ]
  },
  {
   "cell_type": "code",
   "execution_count": null,
   "metadata": {},
   "outputs": [
    {
     "data": {
      "image/png": "[encoded data removed]",
      "text/plain": [
       "<Figure size 640x480 with 1 Axes>"
      ]
     },
     "metadata": {},
     "output_type": "display_data"
    }
   ],
   "source": [
    "y_pred_prob_GBC = model_GBC.predict_proba(X_model_test)[:,1]\n",
    "fpr, tpr, thresholds = roc_curve(expected, y_pred_prob_GBC)\n",
    "plt.plot(fpr, tpr)\n",
    "plt.xlim([0.0, 1.0])\n",
    "plt.ylim([0.0, 1.0])\n",
    "plt.title('Curva ROC')\n",
    "plt.xlabel('Ratio de FP (1 - Recall)')\n",
    "plt.ylabel('Ratio TP (Sensitivity)')\n",
    "plt.grid(True)\n",
    "plt.show()"
   ]
  },
  {
   "cell_type": "markdown",
   "metadata": {},
   "source": [
    "Y mostramos sus thresholds."
   ]
  },
  {
   "cell_type": "code",
   "execution_count": null,
   "metadata": {},
   "outputs": [
    {
     "data": {
      "text/plain": [
       "array([       inf, 0.87747631, 0.81963937, 0.81678302, 0.81515265,\n",
       "       0.80900465, 0.80536455, 0.80131358, 0.78929443, 0.78765792,\n",
       "       0.77902456, 0.77803979, 0.77444914, 0.77337616, 0.7726755 ,\n",
       "       0.77102542, 0.75280025, 0.75275985, 0.74580527, 0.74492692,\n",
       "       0.74232951, 0.74128734, 0.74069442, 0.74048948, 0.73697692,\n",
       "       0.73695932, 0.72947029, 0.72939559, 0.72383892, 0.72339464,\n",
       "       0.72067336, 0.72002355, 0.71738493, 0.71705165, 0.71660552,\n",
       "       0.71650591, 0.71303881, 0.71274753, 0.71192412, 0.71173121,\n",
       "       0.71118202, 0.71113116, 0.71100426, 0.71098584, 0.71017385,\n",
       "       0.70973865, 0.70079397, 0.69978321, 0.69797365, 0.69785538,\n",
       "       0.69702635, 0.69664876, 0.69549099, 0.69537348, 0.69511651,\n",
       "       0.69448956, 0.69417842, 0.69414066, 0.69335616, 0.69245734,\n",
       "       0.68955604, 0.68911588, 0.6884213 , 0.68690188, 0.68688511,\n",
       "       0.68685247, 0.68529666, 0.68529066, 0.68447835, 0.68378589,\n",
       "       0.67990985, 0.67981079, 0.67826517, 0.6780333 , 0.67783211,\n",
       "       0.67762317, 0.67592583, 0.67518448, 0.67480273, 0.67478895,\n",
       "       0.67400206, 0.67373306, 0.67256942, 0.67181421, 0.66925192,\n",
       "       0.66861793, 0.66778834, 0.667606  , 0.66674287, 0.66612166,\n",
       "       0.66557007, 0.66546522, 0.66240789, 0.66231259, 0.66138293,\n",
       "       0.6608057 , 0.66033312, 0.65984782, 0.65949851, 0.6594884 ,\n",
       "       0.65919299, 0.65811605, 0.65759361, 0.65725029, 0.65696199,\n",
       "       0.65688154, 0.65634621, 0.65613294, 0.65591194, 0.65586852,\n",
       "       0.65466933, 0.65459366, 0.65446737, 0.65443052, 0.65377917,\n",
       "       0.65344554, 0.65302605, 0.65277011, 0.65249776, 0.65224885,\n",
       "       0.65193296, 0.65192615, 0.65159413, 0.65130597, 0.64926695,\n",
       "       0.64892574, 0.6481496 , 0.64778772, 0.64632849, 0.64632695,\n",
       "       0.64560497, 0.645348  , 0.64471964, 0.64415531, 0.64339127,\n",
       "       0.64310937, 0.64308753, 0.6429591 , 0.64203154, 0.64167213,\n",
       "       0.64155624, 0.64151249, 0.63974228, 0.63953794, 0.63944647,\n",
       "       0.63920249, 0.63893715, 0.63889629, 0.63849911, 0.63798788,\n",
       "       0.63736671, 0.6364652 , 0.63460142, 0.63411373, 0.63385998,\n",
       "       0.6338293 , 0.63381791, 0.63322402, 0.63280136, 0.63232997,\n",
       "       0.6308642 , 0.63085842, 0.63077189, 0.63059063, 0.63055583,\n",
       "       0.63024327, 0.63003329, 0.6297334 , 0.62924761, 0.62907902,\n",
       "       0.62874518, 0.6283843 , 0.62828569, 0.62759541, 0.62734925,\n",
       "       0.62685887, 0.62665577, 0.62576838, 0.62559588, 0.62558437,\n",
       "       0.62304368, 0.62304004, 0.62134436, 0.62119774, 0.62011892,\n",
       "       0.62001884, 0.61947193, 0.61870393, 0.61821051, 0.61742158,\n",
       "       0.61680291, 0.61666222, 0.61589981, 0.61581832, 0.61447992,\n",
       "       0.61404822, 0.61401428, 0.61337229, 0.61328412, 0.61324837,\n",
       "       0.61323254, 0.61305843, 0.61109205, 0.61103149, 0.61020261,\n",
       "       0.61002878, 0.60968022, 0.60964277, 0.6088781 , 0.60860185,\n",
       "       0.60801977, 0.60797952, 0.60721041, 0.60707288, 0.60511796,\n",
       "       0.60471662, 0.60332105, 0.60293289, 0.60288636, 0.60277102,\n",
       "       0.60135688, 0.60132379, 0.60125324, 0.60118629, 0.59980457,\n",
       "       0.59943581, 0.59935833, 0.59914894, 0.59790935, 0.59733261,\n",
       "       0.59623136, 0.59580111, 0.59478244, 0.59455152, 0.59419084,\n",
       "       0.59408298, 0.59402471, 0.5939617 , 0.59257563, 0.59217299,\n",
       "       0.59215501, 0.59151491, 0.59115262, 0.59108052, 0.59094922,\n",
       "       0.59088872, 0.58920517, 0.58908041, 0.58854704, 0.5884352 ,\n",
       "       0.58735848, 0.58718383, 0.58663222, 0.58610747, 0.58497503,\n",
       "       0.58472414, 0.58454759, 0.58442561, 0.58348896, 0.58347668,\n",
       "       0.58312333, 0.5829094 , 0.58248042, 0.58221481, 0.58192679,\n",
       "       0.58188815, 0.58007981, 0.57988216, 0.57742158, 0.57730968,\n",
       "       0.57726146, 0.5769362 , 0.57651858, 0.57621587, 0.57576686,\n",
       "       0.57511887, 0.57434117, 0.57396931, 0.57388679, 0.57325747,\n",
       "       0.57242133, 0.57235184, 0.5717439 , 0.57113429, 0.5703738 ,\n",
       "       0.5702427 , 0.5702381 , 0.57020468, 0.57005812, 0.56987722,\n",
       "       0.56952829, 0.56930397, 0.56889199, 0.56849464, 0.56829189,\n",
       "       0.56806809, 0.56737292, 0.56708717, 0.56674017, 0.56651741,\n",
       "       0.5656228 , 0.56547243, 0.56530316, 0.56502896, 0.56461094,\n",
       "       0.56411724, 0.56406921, 0.56402602, 0.56385793, 0.56372933,\n",
       "       0.56316585, 0.5624392 , 0.56237904, 0.5622466 , 0.56216764,\n",
       "       0.56199557, 0.56018553, 0.56017941, 0.55997775, 0.55970772,\n",
       "       0.55931413, 0.55931367, 0.55860087, 0.55820901, 0.55802371,\n",
       "       0.55721368, 0.55607586, 0.55602154, 0.55600998, 0.55590202,\n",
       "       0.55587919, 0.55548808, 0.555405  , 0.55527386, 0.55462965,\n",
       "       0.55461993, 0.55384916, 0.55380262, 0.55379311, 0.55378286,\n",
       "       0.55374999, 0.55372708, 0.55368224, 0.55339438, 0.55326386,\n",
       "       0.55296337, 0.55284247, 0.55259087, 0.55252266, 0.55200862,\n",
       "       0.55124705, 0.55123136, 0.55059678, 0.55029296, 0.5493576 ,\n",
       "       0.549345  , 0.54911334, 0.54901907, 0.54822612, 0.54805623,\n",
       "       0.54790725, 0.54777065, 0.54762373, 0.54762169, 0.5474722 ,\n",
       "       0.54742387, 0.54701849, 0.54677047, 0.54577778, 0.54569102,\n",
       "       0.54420676, 0.54397939, 0.54361114, 0.54345558, 0.54294958,\n",
       "       0.54277346, 0.54234188, 0.54132714, 0.54094754, 0.54052206,\n",
       "       0.54013465, 0.54005144, 0.53910861, 0.5380828 , 0.53670175,\n",
       "       0.53661614, 0.53599996, 0.53598059, 0.53573813, 0.5356084 ,\n",
       "       0.53536077, 0.53528754, 0.53522782, 0.53488078, 0.53433737,\n",
       "       0.53431033, 0.53365501, 0.53362107, 0.53353969, 0.5334737 ,\n",
       "       0.53278393, 0.53242711, 0.53225099, 0.53224263, 0.53134368,\n",
       "       0.53109343, 0.53077886, 0.53069633, 0.53065483, 0.53064063,\n",
       "       0.53032721, 0.5301991 , 0.52955749, 0.52928143, 0.52905374,\n",
       "       0.52839643, 0.52680931, 0.52662027, 0.52510213, 0.52501027,\n",
       "       0.52339815, 0.52300793, 0.52268835, 0.52266459, 0.52251711,\n",
       "       0.52205723, 0.52180339, 0.52140869, 0.52116454, 0.52068377,\n",
       "       0.5205181 , 0.5205096 , 0.5202459 , 0.52018076, 0.51992629,\n",
       "       0.51978525, 0.51913799, 0.51818582, 0.51730332, 0.51720338,\n",
       "       0.5168669 , 0.51609153, 0.5160295 , 0.51533883, 0.51481351,\n",
       "       0.51478562, 0.51475979, 0.51460544, 0.51451605, 0.51422292,\n",
       "       0.5141495 , 0.51394903, 0.51275836, 0.51272679, 0.51131834,\n",
       "       0.51054631, 0.50989446, 0.50987233, 0.5097816 , 0.50963736,\n",
       "       0.50949485, 0.50918467, 0.50879495, 0.50774894, 0.50771632,\n",
       "       0.50741956, 0.50736788, 0.50655783, 0.50623438, 0.50574128,\n",
       "       0.50537359, 0.50497575, 0.50462199, 0.50429065, 0.50415265,\n",
       "       0.50406557, 0.50390796, 0.50383353, 0.5033654 , 0.50328574,\n",
       "       0.50326749, 0.50326311, 0.50310988, 0.50301031, 0.50190148,\n",
       "       0.50179412, 0.50121597, 0.50091962, 0.50058071, 0.50049603,\n",
       "       0.49951093, 0.4994021 , 0.49910341, 0.49868838, 0.49853854,\n",
       "       0.49825901, 0.4967072 , 0.49641952, 0.49632949, 0.49594383,\n",
       "       0.49589569, 0.49565916, 0.49561361, 0.49547618, 0.49522954,\n",
       "       0.49498927, 0.49413877, 0.49412055, 0.49360599, 0.49356261,\n",
       "       0.49334672, 0.4932339 , 0.49308463, 0.49292182, 0.49224904,\n",
       "       0.49223098, 0.49169986, 0.49158472, 0.4910754 , 0.49075118,\n",
       "       0.48998915, 0.48959306, 0.48947585, 0.48899001, 0.48870893,\n",
       "       0.48834489, 0.4879796 , 0.48788913, 0.48784617, 0.4876297 ,\n",
       "       0.48749219, 0.48657541, 0.48619493, 0.48566666, 0.48543438,\n",
       "       0.48509104, 0.48351517, 0.48293189, 0.48282032, 0.48272266,\n",
       "       0.48235985, 0.48225914, 0.48117239, 0.48112206, 0.48108853,\n",
       "       0.48085154, 0.48074743, 0.48047793, 0.47995372, 0.47977433,\n",
       "       0.47973488, 0.47969553, 0.47918309, 0.47849914, 0.47817602,\n",
       "       0.4781681 , 0.47814886, 0.47790436, 0.47787153, 0.47691475,\n",
       "       0.47627251, 0.47587066, 0.47559879, 0.47496357, 0.47352872,\n",
       "       0.47350421, 0.47260183, 0.47259469, 0.47182203, 0.47178857,\n",
       "       0.47166575, 0.47130869, 0.47106062, 0.47088479, 0.47065777,\n",
       "       0.47060478, 0.4705568 , 0.47049396, 0.47040219, 0.47026673,\n",
       "       0.47011679, 0.46901025, 0.46867315, 0.46862237, 0.46843593,\n",
       "       0.46839046, 0.46779092, 0.46769209, 0.46759265, 0.46713434,\n",
       "       0.46691391, 0.46655454, 0.46490754, 0.46451337, 0.46371258,\n",
       "       0.46364065, 0.46240536, 0.46210242, 0.46140982, 0.46138651,\n",
       "       0.46052408, 0.46016689, 0.46009327, 0.46004127, 0.46000923,\n",
       "       0.45988146, 0.45986968, 0.45977755, 0.45976585, 0.45976486,\n",
       "       0.45946267, 0.45932914, 0.45871079, 0.45810498, 0.45797253,\n",
       "       0.45795803, 0.45722826, 0.45692563, 0.45523574, 0.45523492,\n",
       "       0.45261863, 0.45164416, 0.45112348, 0.45095367, 0.45052665,\n",
       "       0.45020521, 0.45008203, 0.449286  , 0.4491091 , 0.4486957 ,\n",
       "       0.44864729, 0.44833242, 0.44797991, 0.44741786, 0.44735474,\n",
       "       0.44674924, 0.44630421, 0.44620107, 0.44607414, 0.44567379,\n",
       "       0.44545277, 0.44426157, 0.44193109, 0.44132041, 0.44105124,\n",
       "       0.4405508 , 0.44030951, 0.44006732, 0.43982875, 0.43952547,\n",
       "       0.43881346, 0.43794356, 0.43678227, 0.43615503, 0.43605674,\n",
       "       0.43586651, 0.43569175, 0.43446474, 0.43428258, 0.43393209,\n",
       "       0.43362165, 0.43344079, 0.4333504 , 0.43331696, 0.43191592,\n",
       "       0.43178321, 0.4315209 , 0.43127363, 0.43093117, 0.43053319,\n",
       "       0.42972478, 0.42910472, 0.42846044, 0.42831098, 0.42762648,\n",
       "       0.42758327, 0.42732703, 0.42677949, 0.42676371, 0.42641218,\n",
       "       0.42596464, 0.42517515, 0.42480254, 0.42479891, 0.42456995,\n",
       "       0.42379793, 0.42370947, 0.423498  , 0.42180127, 0.42179354,\n",
       "       0.42163156, 0.42102792, 0.42095712, 0.42054334, 0.41967209,\n",
       "       0.41928169, 0.41894489, 0.41859082, 0.41840122, 0.41827736,\n",
       "       0.41746246, 0.41744179, 0.4173098 , 0.41703728, 0.41702159,\n",
       "       0.41666496, 0.41608117, 0.41544523, 0.41489656, 0.41474648,\n",
       "       0.4144125 , 0.4143409 , 0.41397713, 0.41318058, 0.41131836,\n",
       "       0.41105824, 0.40926386, 0.40911273, 0.40852306, 0.40736503,\n",
       "       0.40580296, 0.40578113, 0.40540092, 0.40482806, 0.40393347,\n",
       "       0.40370328, 0.40262691, 0.40247162, 0.40189539, 0.40019281,\n",
       "       0.40005099, 0.39938823, 0.39829794, 0.39810498, 0.39776461,\n",
       "       0.3963349 , 0.39580244, 0.3957052 , 0.39485554, 0.3946409 ,\n",
       "       0.39307216, 0.39279807, 0.39273915, 0.39151041, 0.39054387,\n",
       "       0.38947167, 0.38908342, 0.38827337, 0.38826061, 0.38812245,\n",
       "       0.38804664, 0.38797818, 0.38734648, 0.38679352, 0.38547597,\n",
       "       0.38530844, 0.3846296 , 0.3831545 , 0.382068  , 0.38093333,\n",
       "       0.38012381, 0.379905  , 0.37805477, 0.37471441, 0.3741894 ,\n",
       "       0.3737231 , 0.37332456, 0.37216576, 0.37179143, 0.37126119,\n",
       "       0.36801075, 0.36732467, 0.3648552 , 0.36392716, 0.36354988,\n",
       "       0.36264495, 0.36172004, 0.36127853, 0.36057333, 0.35886814,\n",
       "       0.35697522, 0.35670058, 0.35642937, 0.35182373, 0.35065266,\n",
       "       0.3506441 , 0.34762731, 0.345423  , 0.34470715, 0.3445661 ,\n",
       "       0.34117905, 0.34048693, 0.33824091, 0.33810965, 0.33803461,\n",
       "       0.33716658, 0.33709286, 0.33389227, 0.33296756, 0.33190586,\n",
       "       0.33187124, 0.32585694, 0.32578231, 0.3238775 , 0.32137387,\n",
       "       0.31878751, 0.31435566, 0.31121306, 0.3050697 , 0.26382857])"
      ]
     },
     "metadata": {},
     "output_type": "display_data"
    }
   ],
   "source": [
    "thresholds"
   ]
  },
  {
   "cell_type": "markdown",
   "metadata": {},
   "source": [
    "Como se observa el resultado no es bueno ya que estamos obteniendo practicamente una recta en vez de una curva en forma de 'L' invertida."
   ]
  },
  {
   "cell_type": "markdown",
   "metadata": {},
   "source": [
    "La siguiente gráfica muestra las probabilidades de predicción en función de los umbrales."
   ]
  },
  {
   "cell_type": "code",
   "execution_count": null,
   "metadata": {},
   "outputs": [
    {
     "data": {
      "text/plain": [
       "array([<Axes: title={'center': '0'}>, <Axes: title={'center': '1'}>],\n",
       "      dtype=object)"
      ]
     },
     "metadata": {},
     "output_type": "display_data"
    },
    {
     "data": {
      "image/png": "[encoded data removed]",
      "text/plain": [
       "<Figure size 640x480 with 2 Axes>"
      ]
     },
     "metadata": {},
     "output_type": "display_data"
    }
   ],
   "source": [
    "dprob = pd.DataFrame(data = {'probability':y_pred_prob_GBC, 'actual':y_test})\n",
    "dprob.probability.hist(by=dprob.actual, sharex=True, sharey=True)"
   ]
  },
  {
   "cell_type": "markdown",
   "metadata": {},
   "source": [
    "Se muestra que los mejores resultados para ambas clases se obtiene con el *threshold* igual a 0.5 aproximandamente (es decir, el valor por defecto)."
   ]
  },
  {
   "cell_type": "code",
   "execution_count": null,
   "metadata": {},
   "outputs": [
    {
     "name": "stdout",
     "output_type": "stream",
     "text": [
      "Sensitivity: 0.6853265479219678\n",
      "Recall: 0.43207855973813425\n"
     ]
    }
   ],
   "source": [
    "best_thres_Random = 0.5\n",
    "\n",
    "evaluate_threshold(best_thres_Random)"
   ]
  },
  {
   "cell_type": "markdown",
   "metadata": {},
   "source": [
    "Con este valor se obtienen los siguientes resultados. Primero se recalculan las predicciones."
   ]
  },
  {
   "cell_type": "code",
   "execution_count": null,
   "metadata": {},
   "outputs": [],
   "source": [
    "probs_GBC = model_GBC.predict_proba(X_model_test)[:, 1]  \n",
    "pred_thres_GBC = (probs_GBC >= best_thres_Random).astype(int) "
   ]
  },
  {
   "cell_type": "markdown",
   "metadata": {},
   "source": [
    "Se evalua la matriz de confusión."
   ]
  },
  {
   "cell_type": "code",
   "execution_count": null,
   "metadata": {},
   "outputs": [
    {
     "name": "stdout",
     "output_type": "stream",
     "text": [
      "[[264 347]\n",
      " [369 810]]\n"
     ]
    }
   ],
   "source": [
    "print(confusion_matrix(expected, pred_thres_GBC))"
   ]
  },
  {
   "cell_type": "markdown",
   "metadata": {},
   "source": [
    "Y también se analiza el informe de la clasificación."
   ]
  },
  {
   "cell_type": "code",
   "execution_count": null,
   "metadata": {},
   "outputs": [
    {
     "name": "stdout",
     "output_type": "stream",
     "text": [
      "              precision    recall  f1-score   support\n",
      "\n",
      "           0       0.42      0.43      0.42       611\n",
      "           1       0.70      0.69      0.69      1179\n",
      "\n",
      "    accuracy                           0.60      1790\n",
      "   macro avg       0.56      0.56      0.56      1790\n",
      "weighted avg       0.60      0.60      0.60      1790\n",
      "\n"
     ]
    }
   ],
   "source": [
    "print(classification_report(expected, pred_thres_GBC))"
   ]
  },
  {
   "cell_type": "markdown",
   "metadata": {},
   "source": [
    "Obviamente son los mismos, ya que no estamos modificando el umbral realmente."
   ]
  },
  {
   "cell_type": "markdown",
   "metadata": {},
   "source": [
    "Finalmente se calcula el valor de AUC."
   ]
  },
  {
   "cell_type": "code",
   "execution_count": null,
   "metadata": {},
   "outputs": [
    {
     "name": "stdout",
     "output_type": "stream",
     "text": [
      "0.5595507302507465\n"
     ]
    }
   ],
   "source": [
    "print(roc_auc_score(expected, predicted_GBC))"
   ]
  },
  {
   "cell_type": "markdown",
   "metadata": {},
   "source": [
    "Se ha obtenido un valor entre 0.5 y 0.6, es decir, el modelo se considerá como fallido o *F*."
   ]
  },
  {
   "cell_type": "markdown",
   "metadata": {},
   "source": [
    "### 7.5.6 Optimizacion"
   ]
  },
  {
   "cell_type": "markdown",
   "metadata": {},
   "source": [
    "Antes de nada, observamos cuales son los parámetros de nuestro modelo."
   ]
  },
  {
   "cell_type": "code",
   "execution_count": null,
   "metadata": {},
   "outputs": [
    {
     "data": {
      "text/plain": [
       "{'ccp_alpha': 0.0,\n",
       " 'criterion': 'friedman_mse',\n",
       " 'init': None,\n",
       " 'learning_rate': 0.1,\n",
       " 'loss': 'log_loss',\n",
       " 'max_depth': 3,\n",
       " 'max_features': None,\n",
       " 'max_leaf_nodes': None,\n",
       " 'min_impurity_decrease': 0.0,\n",
       " 'min_samples_leaf': 1,\n",
       " 'min_samples_split': 2,\n",
       " 'min_weight_fraction_leaf': 0.0,\n",
       " 'n_estimators': 100,\n",
       " 'n_iter_no_change': None,\n",
       " 'random_state': 42,\n",
       " 'subsample': 1.0,\n",
       " 'tol': 0.0001,\n",
       " 'validation_fraction': 0.1,\n",
       " 'verbose': 0,\n",
       " 'warm_start': False}"
      ]
     },
     "metadata": {},
     "output_type": "display_data"
    }
   ],
   "source": [
    "model_GBC.get_params()"
   ]
  },
  {
   "cell_type": "markdown",
   "metadata": {},
   "source": [
    "También creemos que es interesante saber la profundidad media de nuestro modelo GradientBoosting, para así poder estimar mejor rango de valores en este apartado."
   ]
  },
  {
   "cell_type": "code",
   "execution_count": null,
   "metadata": {},
   "outputs": [
    {
     "name": "stdout",
     "output_type": "stream",
     "text": [
      "Profundidad media de los árboles: 3.0\n"
     ]
    }
   ],
   "source": [
    "arboles_decision = model_GBC.estimators_[:, 0]\n",
    "\n",
    "profundidades = [arbol.tree_.max_depth for arbol in arboles_decision]\n",
    "profundidad_media = np.mean(profundidades)\n",
    "\n",
    "print(f\"Profundidad media de los árboles: {profundidad_media}\")"
   ]
  },
  {
   "cell_type": "markdown",
   "metadata": {},
   "source": [
    "Ahora seleccionamos los hiperparámetros a evaluar mediante un GridSearchCV. Además, se ha añadido la librería *time* para saber el tiempo que tardo en realizar la busqueda de mejores parámetros.\n",
    "\n",
    "Estos son los hiperparámetros más importantes:\n",
    "* learning_rate: Controla la contribución de cada árbol para evitar sobreajuste.ç\n",
    "* n_estimators: Número de árboles en el modelo, afectando la capacidad de aprendizaje.\n",
    "* max_depth: Profundidad máxima de los árboles, evitando sobreajuste o subajuste.\n",
    "* min_samples_split: Mínimo de muestras necesarias para dividir un nodo, regulando la complejidad.\n",
    "* min_samples_leaf: Mínimo de muestras en una hoja para evitar divisiones insignificantes.\n",
    "* subsample: Proporción de datos usados en cada iteración, reduciendo varianza.\n",
    "* loss: Función de pérdida optimizada (ej. log_loss para clasificación).\n"
   ]
  },
  {
   "cell_type": "raw",
   "metadata": {},
   "source": [
    "# Definir los hiperparámetros a probar\n",
    "param_grid = {\n",
    "    'n_estimators': [100],             # good default\n",
    "    'learning_rate': [0.05, 0.1],      # controls step size\n",
    "    'max_depth': [3, 4],               # typical for GBC\n",
    "    'subsample': [0.8, 1.0],           # helps generalization\n",
    "}\n",
    "\n",
    "# Definir los métodos de evaluación con average='weighted'\n",
    "scorers = {\n",
    "    'f1': make_scorer(f1_score, average='weighted'),\n",
    "    'accuracy': make_scorer(accuracy_score),\n",
    "    'recall': make_scorer(recall_score, average='weighted', zero_division=0)\n",
    "}\n",
    "\n",
    "# Aplicar GridSearchCV, se optimiza según F1-score\n",
    "grid_search_GBC = GridSearchCV(\n",
    "    GradientBoostingClassifier(),\n",
    "    param_grid,\n",
    "    cv=5,\n",
    "    n_jobs=-1,\n",
    "    scoring=scorers,\n",
    "    refit='f1',\n",
    "    verbose=1\n",
    ")\n",
    "\n",
    "inicio = time.time()\n",
    "grid_search_GBC.fit(X_model, y_model)\n",
    "fin = time.time()\n",
    "\n",
    "# Mostrar los mejores parámetros encontrados\n",
    "print(\"Mejores parámetros encontrados:\", grid_search_GBC.best_params_)\n",
    "\n",
    "# Convertir los resultados en un DataFrame\n",
    "results = pd.DataFrame(grid_search_GBC.cv_results_)\n",
    "\n",
    "# Ordenar por cada métrica y mostrar los 5 mejores modelos\n",
    "for metric in ['mean_test_f1', 'mean_test_accuracy', 'mean_test_recall']:\n",
    "    print(f\"\\nTop 5 modelos según {metric}:\")\n",
    "    sorted_results = results.sort_values(by=metric, ascending=False)\n",
    "\n",
    "    for mean_score, std_score, params in zip(\n",
    "        sorted_results[metric].head(5),\n",
    "        sorted_results[f\"std_test_{metric.split('_')[-1]}\"].head(5),\n",
    "        sorted_results[\"params\"].head(5)\n",
    "    ):\n",
    "        print(f\"{mean_score:.3f} (+/-{std_score * 2:.3f}) para {params}\")"
   ]
  },
  {
   "cell_type": "markdown",
   "metadata": {},
   "source": [
    "Se calcula el tiempo que ha tardado en minutos."
   ]
  },
  {
   "cell_type": "raw",
   "metadata": {},
   "source": [
    "tiempo_total = (fin - inicio) / 60\n",
    "print(f\"La celda tardó {tiempo_total} minutos en ejecutarse.\")"
   ]
  },
  {
   "cell_type": "markdown",
   "metadata": {},
   "source": [
    "Se escoge el mejor parámetro y su  precisión asociada."
   ]
  },
  {
   "cell_type": "raw",
   "metadata": {},
   "source": [
    "print(\"Mejores parámetros: \", grid_search_GBC.best_params_)\n",
    "print(\"Mejor score: \", grid_search_GBC.best_score_)"
   ]
  },
  {
   "cell_type": "markdown",
   "metadata": {},
   "source": [
    "Observamos los mejores 10 casos para analizar varias posibilidades."
   ]
  },
  {
   "cell_type": "raw",
   "metadata": {},
   "source": [
    "results_df = pd.DataFrame(grid_search_GBC.cv_results_)"
   ]
  },
  {
   "cell_type": "raw",
   "metadata": {},
   "source": [
    "top_10_models = results_df.nlargest(10, \"mean_score\")\n",
    "\n",
    "print(\"\\nLos 10 mejores modelos:\")\n",
    "for index, row in top_10_models.iterrows():\n",
    "    print(\"\\nModelo:\")\n",
    "    print(f\"Parámetros: {row['params']}\")\n",
    "    print(f\"Puntuación media de prueba: {row['mean_test_score']}\")"
   ]
  },
  {
   "cell_type": "markdown",
   "metadata": {},
   "source": [
    "### 7.5.7 Entrenamiento y evaluacion con hiperparametros optimizados"
   ]
  },
  {
   "cell_type": "markdown",
   "metadata": {},
   "source": [
    "#### - Definicion"
   ]
  },
  {
   "cell_type": "markdown",
   "metadata": {},
   "source": [
    "Definimos los mejores parámetros (no se define con *grid_search.best_params_* para probar varias opciones de forma sencilla)."
   ]
  },
  {
   "cell_type": "code",
   "execution_count": null,
   "metadata": {},
   "outputs": [],
   "source": [
    "params_final_GBC = {\n",
    "    'ccp_alpha': 0.0,\n",
    "    'criterion': 'friedman_mse',\n",
    "    'n_estimators': 100,\n",
    "    'learning_rate': 0.1,\n",
    "    'max_depth': 4,\n",
    "    'min_samples_split': 3,\n",
    "    'min_samples_leaf': 1,\n",
    "    'subsample': 1,\n",
    "    'max_features': 'sqrt',\n",
    "    'min_impurity_decrease': 0.01,\n",
    "    'n_iter_no_change': None,\n",
    "    'validation_fraction': 0.2,\n",
    "    \n",
    "}"
   ]
  },
  {
   "cell_type": "markdown",
   "metadata": {},
   "source": [
    "Definimos el modelo desagregando el diccionario."
   ]
  },
  {
   "cell_type": "code",
   "execution_count": null,
   "metadata": {},
   "outputs": [],
   "source": [
    "final_GBC = GradientBoostingClassifier(**params_final_GBC)"
   ]
  },
  {
   "cell_type": "markdown",
   "metadata": {},
   "source": [
    "#### - Entrenamiento y evaluacion"
   ]
  },
  {
   "cell_type": "markdown",
   "metadata": {},
   "source": [
    "Entrenamos el modelo y comprobamos su exactitud."
   ]
  },
  {
   "cell_type": "code",
   "execution_count": null,
   "metadata": {},
   "outputs": [],
   "source": [
    "final_GBC.fit(X_model, y_model)\n",
    "\n",
    "predicted_GBC_opt = final_GBC.predict(X_model_test)"
   ]
  },
  {
   "cell_type": "code",
   "execution_count": null,
   "metadata": {},
   "outputs": [
    {
     "data": {
      "text/plain": [
       "0.6083798882681565"
      ]
     },
     "metadata": {},
     "output_type": "display_data"
    }
   ],
   "source": [
    "accuracy_score(expected, predicted_GBC_opt)"
   ]
  },
  {
   "cell_type": "markdown",
   "metadata": {},
   "source": [
    "#### - Null accuracy"
   ]
  },
  {
   "cell_type": "markdown",
   "metadata": {},
   "source": [
    "La accuracy es similar a la anterior. Además, sigue siendo peor que la *null accuracy*."
   ]
  },
  {
   "cell_type": "markdown",
   "metadata": {},
   "source": [
    "#### - Matriz de confusion y F-score"
   ]
  },
  {
   "cell_type": "markdown",
   "metadata": {},
   "source": [
    "La matriz de confusión y el informe de clasificación también es muy similar."
   ]
  },
  {
   "cell_type": "code",
   "execution_count": null,
   "metadata": {},
   "outputs": [
    {
     "name": "stdout",
     "output_type": "stream",
     "text": [
      "[[254 357]\n",
      " [344 835]]\n"
     ]
    }
   ],
   "source": [
    "print(confusion_matrix(expected, predicted_GBC_opt))"
   ]
  },
  {
   "cell_type": "code",
   "execution_count": null,
   "metadata": {},
   "outputs": [
    {
     "name": "stdout",
     "output_type": "stream",
     "text": [
      "              precision    recall  f1-score   support\n",
      "\n",
      "           0       0.42      0.42      0.42       611\n",
      "           1       0.70      0.71      0.70      1179\n",
      "\n",
      "    accuracy                           0.61      1790\n",
      "   macro avg       0.56      0.56      0.56      1790\n",
      "weighted avg       0.61      0.61      0.61      1790\n",
      "\n"
     ]
    }
   ],
   "source": [
    "print(classification_report(expected, predicted_GBC_opt))"
   ]
  },
  {
   "cell_type": "markdown",
   "metadata": {},
   "source": [
    "#### - ROC y AUC"
   ]
  },
  {
   "cell_type": "markdown",
   "metadata": {},
   "source": [
    "Se calcula el ROC y se reajusta el umbral de probabilidad."
   ]
  },
  {
   "cell_type": "code",
   "execution_count": null,
   "metadata": {},
   "outputs": [
    {
     "data": {
      "image/png": "[encoded data removed]",
      "text/plain": [
       "<Figure size 640x480 with 1 Axes>"
      ]
     },
     "metadata": {},
     "output_type": "display_data"
    }
   ],
   "source": [
    "y_pred_prob_GBC = final_GBC.predict_proba(X_model_test)[:,1]\n",
    "fpr, tpr, thresholds = roc_curve(y_test, y_pred_prob_GBC)\n",
    "plt.plot(fpr, tpr)\n",
    "plt.xlim([0.0, 1.0])\n",
    "plt.ylim([0.0, 1.0])\n",
    "plt.title('Curva ROC')\n",
    "plt.xlabel('Ratio de FP (1 - Recall)')\n",
    "plt.ylabel('Ratio TP (Sensitivity)')\n",
    "plt.grid(True)\n",
    "plt.show()"
   ]
  },
  {
   "cell_type": "code",
   "execution_count": null,
   "metadata": {},
   "outputs": [
    {
     "data": {
      "text/plain": [
       "array([       inf, 0.87684089, 0.85969596, 0.82008949, 0.81832887,\n",
       "       0.76273661, 0.76082721, 0.75390422, 0.75368081, 0.75366838,\n",
       "       0.75353652, 0.75060876, 0.74873495, 0.74820467, 0.7480303 ,\n",
       "       0.74508105, 0.74486697, 0.74073579, 0.74028812, 0.73631177,\n",
       "       0.73627773, 0.73212191, 0.73154655, 0.73051535, 0.72897937,\n",
       "       0.72833248, 0.72754387, 0.72583907, 0.72550072, 0.72382287,\n",
       "       0.72362939, 0.72095126, 0.71981297, 0.71746976, 0.7172193 ,\n",
       "       0.71632799, 0.7158718 , 0.71385061, 0.71319066, 0.71057103,\n",
       "       0.71017534, 0.70502151, 0.70500349, 0.70478636, 0.7047132 ,\n",
       "       0.70359089, 0.70357604, 0.70206053, 0.70202236, 0.70086985,\n",
       "       0.70083617, 0.70055553, 0.70014677, 0.69860397, 0.69859852,\n",
       "       0.69826799, 0.69812817, 0.69787515, 0.69772207, 0.69603724,\n",
       "       0.6958279 , 0.69574914, 0.69535256, 0.69438321, 0.69366569,\n",
       "       0.69366099, 0.69319365, 0.69235735, 0.69187156, 0.69175025,\n",
       "       0.69132959, 0.69055168, 0.69054626, 0.69031112, 0.68975651,\n",
       "       0.68755455, 0.68731775, 0.68717762, 0.6869034 , 0.68508771,\n",
       "       0.68503321, 0.68486949, 0.68462801, 0.68451016, 0.68437211,\n",
       "       0.68434452, 0.68414392, 0.68185484, 0.68092121, 0.68049642,\n",
       "       0.68025882, 0.67878344, 0.67840421, 0.67779229, 0.67774235,\n",
       "       0.67748865, 0.677356  , 0.67701734, 0.67701638, 0.67297662,\n",
       "       0.67205974, 0.67143154, 0.67141769, 0.67043876, 0.6700288 ,\n",
       "       0.66965632, 0.66956371, 0.66953635, 0.66948674, 0.66848357,\n",
       "       0.66848285, 0.66345206, 0.66342952, 0.65970769, 0.65957256,\n",
       "       0.65900751, 0.65824897, 0.6536908 , 0.65355813, 0.65335354,\n",
       "       0.65318707, 0.65299596, 0.65290145, 0.6525208 , 0.65080687,\n",
       "       0.65038018, 0.65023994, 0.65005749, 0.65003954, 0.64975841,\n",
       "       0.64950547, 0.64911319, 0.64901   , 0.64878236, 0.64855531,\n",
       "       0.64826366, 0.6481081 , 0.64702212, 0.64699778, 0.64564137,\n",
       "       0.64484784, 0.64433483, 0.64364127, 0.64290153, 0.64271676,\n",
       "       0.64225189, 0.64212027, 0.64205193, 0.64167107, 0.64142461,\n",
       "       0.64139774, 0.64114   , 0.64112223, 0.64026601, 0.63991182,\n",
       "       0.63873092, 0.63821006, 0.63611811, 0.63610105, 0.63521522,\n",
       "       0.63517771, 0.63468556, 0.63448745, 0.63194868, 0.6314566 ,\n",
       "       0.63145506, 0.63126966, 0.6287129 , 0.62790442, 0.62768338,\n",
       "       0.6276216 , 0.62428857, 0.62422959, 0.62408847, 0.62359356,\n",
       "       0.62347102, 0.62313887, 0.62302199, 0.62300032, 0.6197547 ,\n",
       "       0.61967315, 0.61929203, 0.61908008, 0.61864394, 0.61820796,\n",
       "       0.61796149, 0.61787869, 0.6165007 , 0.61631579, 0.61615683,\n",
       "       0.61615652, 0.61484218, 0.61481075, 0.61339898, 0.61247117,\n",
       "       0.61210395, 0.61185357, 0.61128738, 0.61119179, 0.61025793,\n",
       "       0.61021136, 0.60966148, 0.6096259 , 0.60907277, 0.6088708 ,\n",
       "       0.60816011, 0.60794922, 0.60736733, 0.60704532, 0.60682649,\n",
       "       0.60609413, 0.60556233, 0.60549549, 0.6054378 , 0.60536161,\n",
       "       0.60447396, 0.6044509 , 0.60436611, 0.60435374, 0.603699  ,\n",
       "       0.60281721, 0.60114655, 0.60088362, 0.60036251, 0.60022984,\n",
       "       0.5997996 , 0.59897163, 0.59728182, 0.59724824, 0.59687727,\n",
       "       0.59613377, 0.59593259, 0.59577506, 0.59463112, 0.59445155,\n",
       "       0.59422976, 0.59391118, 0.59344909, 0.59329079, 0.59242886,\n",
       "       0.59204082, 0.5916078 , 0.59141074, 0.5912843 , 0.5911468 ,\n",
       "       0.59091232, 0.59056075, 0.59051142, 0.59027053, 0.58880934,\n",
       "       0.58802649, 0.5880177 , 0.58775279, 0.58769143, 0.5874964 ,\n",
       "       0.58528575, 0.5850904 , 0.58497118, 0.58472168, 0.58457458,\n",
       "       0.58371687, 0.58318399, 0.58313777, 0.58118771, 0.5811384 ,\n",
       "       0.58104317, 0.58085581, 0.58058297, 0.58056309, 0.57833237,\n",
       "       0.57787474, 0.57655616, 0.57622787, 0.57533881, 0.575293  ,\n",
       "       0.57513892, 0.57469526, 0.57464714, 0.57454977, 0.5745165 ,\n",
       "       0.57405515, 0.57286173, 0.57252195, 0.57248752, 0.57234447,\n",
       "       0.57165082, 0.57154697, 0.57134342, 0.57129118, 0.57122847,\n",
       "       0.57093475, 0.57093236, 0.57091766, 0.57018333, 0.56973726,\n",
       "       0.56710368, 0.56678133, 0.56665489, 0.56665042, 0.56652206,\n",
       "       0.56642017, 0.56616826, 0.56608728, 0.56536427, 0.56507056,\n",
       "       0.56388991, 0.56356872, 0.56273888, 0.56258627, 0.56188731,\n",
       "       0.56168043, 0.56134029, 0.56129634, 0.56112849, 0.56109105,\n",
       "       0.560918  , 0.56066209, 0.56040205, 0.56034695, 0.56012209,\n",
       "       0.55955546, 0.55897098, 0.55878842, 0.55762563, 0.55758612,\n",
       "       0.55748204, 0.55706028, 0.55697717, 0.55690928, 0.55642684,\n",
       "       0.55622921, 0.55580513, 0.55577818, 0.55517686, 0.55499335,\n",
       "       0.55490646, 0.55479586, 0.55456494, 0.55393686, 0.55382711,\n",
       "       0.55381036, 0.55204892, 0.55128855, 0.55086661, 0.55050397,\n",
       "       0.55034092, 0.55003496, 0.54883372, 0.54862907, 0.54824137,\n",
       "       0.5482066 , 0.54779372, 0.54642304, 0.54610507, 0.5449573 ,\n",
       "       0.5446775 , 0.54441915, 0.54421939, 0.54420314, 0.5438006 ,\n",
       "       0.54331181, 0.54302284, 0.54249688, 0.54215278, 0.54197859,\n",
       "       0.54175778, 0.54160021, 0.54121554, 0.5409156 , 0.53945693,\n",
       "       0.53885192, 0.53869802, 0.53839464, 0.53736883, 0.53699805,\n",
       "       0.53649886, 0.53636368, 0.5360746 , 0.53575729, 0.53529051,\n",
       "       0.53517468, 0.5350067 , 0.53475502, 0.53451591, 0.53438563,\n",
       "       0.53433682, 0.5340502 , 0.53391002, 0.53388909, 0.53371929,\n",
       "       0.53340728, 0.53288122, 0.5313755 , 0.53133549, 0.53091341,\n",
       "       0.53061475, 0.53037796, 0.53037093, 0.53033111, 0.52988395,\n",
       "       0.5294941 , 0.52940738, 0.52929208, 0.5284678 , 0.52819291,\n",
       "       0.52767389, 0.52741835, 0.52737311, 0.52730005, 0.52579157,\n",
       "       0.52577492, 0.52549021, 0.5254371 , 0.52542649, 0.52534201,\n",
       "       0.52527491, 0.52456965, 0.52430084, 0.52378225, 0.52361368,\n",
       "       0.52316233, 0.52195723, 0.52157053, 0.52081935, 0.52060665,\n",
       "       0.51997426, 0.51991277, 0.51914488, 0.51875838, 0.51800418,\n",
       "       0.51717288, 0.51578129, 0.51578114, 0.51526018, 0.51468897,\n",
       "       0.51340509, 0.51311573, 0.51262309, 0.51241683, 0.51240823,\n",
       "       0.51125638, 0.51057491, 0.51016694, 0.50952899, 0.50944501,\n",
       "       0.50893743, 0.5088358 , 0.5083972 , 0.50796952, 0.50766808,\n",
       "       0.50737817, 0.50730254, 0.50720061, 0.50696557, 0.50690128,\n",
       "       0.50475315, 0.50471362, 0.5043567 , 0.50432332, 0.50421972,\n",
       "       0.50373254, 0.5034318 , 0.50323218, 0.5021865 , 0.50213535,\n",
       "       0.50191537, 0.50187581, 0.50178512, 0.5011529 , 0.50040789,\n",
       "       0.4999916 , 0.49986089, 0.49892361, 0.49870871, 0.49850339,\n",
       "       0.4983752 , 0.49793753, 0.49766959, 0.49695072, 0.49656523,\n",
       "       0.49635768, 0.49565206, 0.49564867, 0.49560995, 0.49538655,\n",
       "       0.49504543, 0.49493665, 0.49459454, 0.4937023 , 0.49310509,\n",
       "       0.49298797, 0.49241118, 0.49233076, 0.49221378, 0.49185217,\n",
       "       0.49178481, 0.49132604, 0.49099003, 0.49097961, 0.48973912,\n",
       "       0.48935802, 0.48911009, 0.4880519 , 0.48761616, 0.48760163,\n",
       "       0.48741777, 0.48731469, 0.48694104, 0.48658548, 0.48605763,\n",
       "       0.48577743, 0.48512428, 0.48435179, 0.48432079, 0.48409597,\n",
       "       0.48268102, 0.48265938, 0.481791  , 0.4817396 , 0.4789189 ,\n",
       "       0.47867668, 0.47851833, 0.47803737, 0.47778152, 0.47714394,\n",
       "       0.47681441, 0.47679987, 0.4766499 , 0.47650827, 0.47559655,\n",
       "       0.47530063, 0.47519688, 0.47509807, 0.47447737, 0.4743019 ,\n",
       "       0.474182  , 0.47371185, 0.47318501, 0.47262576, 0.4702821 ,\n",
       "       0.47024118, 0.46981373, 0.46963152, 0.4688322 , 0.46795216,\n",
       "       0.46772408, 0.46698446, 0.46679063, 0.46604823, 0.46567281,\n",
       "       0.46550023, 0.46455828, 0.46445562, 0.46387787, 0.46346678,\n",
       "       0.46340836, 0.46290627, 0.46265826, 0.4622823 , 0.46118583,\n",
       "       0.46114985, 0.46009578, 0.4597102 , 0.45902899, 0.45868079,\n",
       "       0.45867319, 0.45856676, 0.45764301, 0.45746155, 0.45701635,\n",
       "       0.45634731, 0.45553813, 0.45506343, 0.45470604, 0.45431074,\n",
       "       0.45384917, 0.45304114, 0.45227172, 0.45219684, 0.45211092,\n",
       "       0.45209366, 0.4506368 , 0.45060476, 0.45048555, 0.45034369,\n",
       "       0.44998282, 0.44928115, 0.44919344, 0.44912174, 0.4487262 ,\n",
       "       0.44707448, 0.44668284, 0.44650782, 0.4443257 , 0.44364673,\n",
       "       0.4434775 , 0.44289622, 0.44226527, 0.44188018, 0.44149263,\n",
       "       0.44045398, 0.44016997, 0.44008101, 0.43965827, 0.43922654,\n",
       "       0.43851963, 0.43814255, 0.43752382, 0.4373558 , 0.43733713,\n",
       "       0.43692501, 0.43502393, 0.43468238, 0.43445431, 0.43435941,\n",
       "       0.43424307, 0.43386952, 0.43273644, 0.43219773, 0.43155399,\n",
       "       0.43122719, 0.43011939, 0.42927569, 0.42801211, 0.42760133,\n",
       "       0.42736081, 0.42692939, 0.42617374, 0.42421772, 0.42210675,\n",
       "       0.42120994, 0.42057646, 0.42052568, 0.42021414, 0.42001041,\n",
       "       0.41956131, 0.41912668, 0.41889857, 0.41882139, 0.41806676,\n",
       "       0.41701552, 0.41660764, 0.41630064, 0.41618282, 0.41488228,\n",
       "       0.41431145, 0.41403312, 0.41401765, 0.41392462, 0.4123306 ,\n",
       "       0.4123128 , 0.41218655, 0.41210898, 0.41182379, 0.41115875,\n",
       "       0.41030312, 0.41009222, 0.40990882, 0.40966822, 0.40853037,\n",
       "       0.4079408 , 0.40786628, 0.4077546 , 0.40689954, 0.40583936,\n",
       "       0.40552424, 0.40465457, 0.40407956, 0.40377615, 0.4034338 ,\n",
       "       0.40265565, 0.40058988, 0.4004495 , 0.40016688, 0.40002209,\n",
       "       0.39824805, 0.39802774, 0.3972787 , 0.39694165, 0.3967214 ,\n",
       "       0.39544917, 0.39511472, 0.39422234, 0.39410602, 0.39400065,\n",
       "       0.39261547, 0.39136047, 0.39087015, 0.39078911, 0.38880555,\n",
       "       0.3883066 , 0.38622728, 0.38610892, 0.38504079, 0.38480987,\n",
       "       0.38148852, 0.38040607, 0.38040264, 0.37897218, 0.37772722,\n",
       "       0.377671  , 0.37721807, 0.37710195, 0.37654642, 0.37607745,\n",
       "       0.37520102, 0.3751847 , 0.37476245, 0.37333826, 0.36788431,\n",
       "       0.36643297, 0.36607333, 0.3648479 , 0.36453488, 0.36314524,\n",
       "       0.36214966, 0.36022699, 0.35833089, 0.35715996, 0.3555918 ,\n",
       "       0.35558943, 0.34969124, 0.34806697, 0.34488777, 0.34386009,\n",
       "       0.34277029, 0.33776564, 0.33515187, 0.33411769, 0.33309024,\n",
       "       0.33107155, 0.32916494, 0.3282095 , 0.327911  , 0.32156457,\n",
       "       0.3139639 , 0.30938631, 0.30863033, 0.30862772, 0.30840323,\n",
       "       0.30805908, 0.30364716, 0.30022556, 0.29501663, 0.27936807,\n",
       "       0.2769463 , 0.27393003, 0.26844238, 0.26471351, 0.2636364 ,\n",
       "       0.26357625, 0.26181209, 0.22942022])"
      ]
     },
     "metadata": {},
     "output_type": "display_data"
    }
   ],
   "source": [
    "thresholds"
   ]
  },
  {
   "cell_type": "code",
   "execution_count": null,
   "metadata": {},
   "outputs": [
    {
     "data": {
      "text/plain": [
       "array([<Axes: title={'center': '0'}>, <Axes: title={'center': '1'}>],\n",
       "      dtype=object)"
      ]
     },
     "metadata": {},
     "output_type": "display_data"
    },
    {
     "data": {
      "image/png": "[encoded data removed]",
      "text/plain": [
       "<Figure size 640x480 with 2 Axes>"
      ]
     },
     "metadata": {},
     "output_type": "display_data"
    }
   ],
   "source": [
    "dprob = pd.DataFrame(data = {'probability':y_pred_prob_GBC, 'actual':y_test})\n",
    "dprob.probability.hist(by=dprob.actual, sharex=True, sharey=True)"
   ]
  },
  {
   "cell_type": "code",
   "execution_count": null,
   "metadata": {},
   "outputs": [
    {
     "name": "stdout",
     "output_type": "stream",
     "text": [
      "Sensitivity: 0.7082273112807463\n",
      "Recall: 0.4189852700490998\n"
     ]
    }
   ],
   "source": [
    "op_thres_Random = 0.5\n",
    "\n",
    "evaluate_threshold(op_thres_Random)"
   ]
  },
  {
   "cell_type": "code",
   "execution_count": null,
   "metadata": {},
   "outputs": [],
   "source": [
    "probs_GBC_opt = final_GBC.predict_proba(X_model_test)[:, 1]  \n",
    "pred_thres_GBC_opt = (probs_GBC_opt >= op_thres_Random).astype(int) "
   ]
  },
  {
   "cell_type": "code",
   "execution_count": null,
   "metadata": {},
   "outputs": [
    {
     "name": "stdout",
     "output_type": "stream",
     "text": [
      "[[254 357]\n",
      " [344 835]]\n"
     ]
    }
   ],
   "source": [
    "print(confusion_matrix(expected, pred_thres_GBC_opt))"
   ]
  },
  {
   "cell_type": "code",
   "execution_count": null,
   "metadata": {},
   "outputs": [
    {
     "name": "stdout",
     "output_type": "stream",
     "text": [
      "              precision    recall  f1-score   support\n",
      "\n",
      "           0       0.42      0.42      0.42       611\n",
      "           1       0.70      0.71      0.70      1179\n",
      "\n",
      "    accuracy                           0.61      1790\n",
      "   macro avg       0.56      0.56      0.56      1790\n",
      "weighted avg       0.61      0.61      0.61      1790\n",
      "\n"
     ]
    }
   ],
   "source": [
    "print(classification_report(expected, pred_thres_GBC_opt))"
   ]
  },
  {
   "cell_type": "markdown",
   "metadata": {},
   "source": [
    "Se obtienen los mismos resultados porque sigue siendo el mejor caso con umbral igual a 0,5."
   ]
  },
  {
   "cell_type": "markdown",
   "metadata": {},
   "source": [
    "Se calcula la AUC score."
   ]
  },
  {
   "cell_type": "code",
   "execution_count": null,
   "metadata": {},
   "outputs": [
    {
     "name": "stdout",
     "output_type": "stream",
     "text": [
      "0.5619696294537939\n"
     ]
    }
   ],
   "source": [
    "print(roc_auc_score(expected, predicted_GBC_opt))"
   ]
  },
  {
   "cell_type": "markdown",
   "metadata": {},
   "source": [
    "Sigue en el mismo intervalo 0.5-0.6. "
   ]
  },
  {
   "cell_type": "markdown",
   "metadata": {},
   "source": [
    "### 7.5.8 Conclusiones del modelo"
   ]
  },
  {
   "cell_type": "markdown",
   "metadata": {},
   "source": [
    "El model no obtiene buenos resultados a la escasez de entradas y la gran cantidad de dimensiones que presenta el dataset. Después de la optimización, sigue siendo un modelo *F*."
   ]
  },
  {
   "cell_type": "markdown",
   "metadata": {},
   "source": [
    "# 8. Exportar CSV"
   ]
  },
  {
   "cell_type": "markdown",
   "metadata": {},
   "source": [
    "## 8.1 Asignacion de las variables"
   ]
  },
  {
   "cell_type": "markdown",
   "metadata": {},
   "source": [
    "Asignamos las variables para el analisis en función del desarrollo del apartado del preprocesado."
   ]
  },
  {
   "cell_type": "code",
   "execution_count": 245,
   "metadata": {},
   "outputs": [],
   "source": [
    "X_kaggle = X_res_final\n",
    "y_kaggle = y_res_final\n",
    "\n",
    "X_kaggle_test = X_scaled_te_final"
   ]
  },
  {
   "cell_type": "markdown",
   "metadata": {},
   "source": [
    "## 8.2 Clasificador Random Forest"
   ]
  },
  {
   "cell_type": "markdown",
   "metadata": {},
   "source": [
    "Se entrena con los nuevos valores de train y test, y se modifica el umbral de probabilidades. En un principio, el valor del umbral era el de la variable *op_thres_Random*, pero se decidió finalmente que el valor del umbral fueran valores numéricos para que fuera más sencillo hacer diversas pruebas en Kaggle."
   ]
  },
  {
   "cell_type": "code",
   "execution_count": 248,
   "metadata": {},
   "outputs": [],
   "source": [
    "final_Forest.fit(X_kaggle, y_kaggle)\n",
    "\n",
    "probs_For_final = final_Forest.predict_proba(X_kaggle_test)[:, 1]  \n",
    "pred_thres_For_final = (probs_For_final >= 0.5).astype(int) "
   ]
  },
  {
   "cell_type": "markdown",
   "metadata": {},
   "source": [
    "Se crea un *dataframe* con las predicciones obtenidas con su correspondiente *id*."
   ]
  },
  {
   "cell_type": "code",
   "execution_count": 250,
   "metadata": {},
   "outputs": [],
   "source": [
    "df_label_Random = pd.DataFrame(pred_thres_For_final, columns=['label'])"
   ]
  },
  {
   "cell_type": "code",
   "execution_count": 251,
   "metadata": {},
   "outputs": [],
   "source": [
    "df_id = df_test['id'].reset_index(drop=True)"
   ]
  },
  {
   "cell_type": "code",
   "execution_count": 252,
   "metadata": {},
   "outputs": [],
   "source": [
    "df_final_Random = pd.concat([df_id, df_label_Random], axis=1)"
   ]
  },
  {
   "cell_type": "markdown",
   "metadata": {},
   "source": [
    "Mostramos los resultados obtenidos para tener una idea de la proporción de 1s y 0s de Kaggle."
   ]
  },
  {
   "cell_type": "code",
   "execution_count": 254,
   "metadata": {},
   "outputs": [
    {
     "data": {
      "text/plain": [
       "label\n",
       "1    2508\n",
       "0    1328\n",
       "Name: count, dtype: int64"
      ]
     },
     "execution_count": 254,
     "metadata": {},
     "output_type": "execute_result"
    }
   ],
   "source": [
    "df_final_Random['label'].value_counts()"
   ]
  },
  {
   "cell_type": "markdown",
   "metadata": {},
   "source": [
    "Se transforma el *dataframe* a un archivo *CSV*."
   ]
  },
  {
   "cell_type": "code",
   "execution_count": 256,
   "metadata": {},
   "outputs": [],
   "source": [
    "df_final_Random.to_csv('./submit/random.csv', index=False)"
   ]
  },
  {
   "cell_type": "markdown",
   "metadata": {},
   "source": [
    "## 8.3 Clasificador XGBoost"
   ]
  },
  {
   "cell_type": "code",
   "execution_count": 258,
   "metadata": {},
   "outputs": [],
   "source": [
    "final_XG.fit(X_kaggle, y_kaggle)\n",
    "\n",
    "probs_XG_final = final_XG.predict_proba(X_kaggle_test)[:, 1]  \n",
    "pred_thres_XG_final = (probs_XG_final >= 0.5).astype(int) "
   ]
  },
  {
   "cell_type": "markdown",
   "metadata": {},
   "source": [
    "Se crea un *dataframe* con las predicciones obtenidas con su correspondiente *id*."
   ]
  },
  {
   "cell_type": "code",
   "execution_count": 260,
   "metadata": {},
   "outputs": [],
   "source": [
    "df_label_XG = pd.DataFrame(pred_thres_XG_final, columns=['label'])"
   ]
  },
  {
   "cell_type": "code",
   "execution_count": 261,
   "metadata": {},
   "outputs": [],
   "source": [
    "df_id = df_test['id'].reset_index(drop=True)"
   ]
  },
  {
   "cell_type": "code",
   "execution_count": 262,
   "metadata": {},
   "outputs": [],
   "source": [
    "df_final_XG = pd.concat([df_id, df_label_XG], axis=1)"
   ]
  },
  {
   "cell_type": "markdown",
   "metadata": {},
   "source": [
    "Mostramos los resultados obtenidos para tener una idea de la proporción de 1s y 0s de Kaggle."
   ]
  },
  {
   "cell_type": "code",
   "execution_count": 264,
   "metadata": {},
   "outputs": [
    {
     "data": {
      "text/plain": [
       "label\n",
       "1    2092\n",
       "0    1744\n",
       "Name: count, dtype: int64"
      ]
     },
     "execution_count": 264,
     "metadata": {},
     "output_type": "execute_result"
    }
   ],
   "source": [
    "df_final_XG['label'].value_counts()"
   ]
  },
  {
   "cell_type": "markdown",
   "metadata": {},
   "source": [
    "Se transforma el *dataframe* a un archivo *CSV*."
   ]
  },
  {
   "cell_type": "code",
   "execution_count": 266,
   "metadata": {},
   "outputs": [],
   "source": [
    "df_final_XG.to_csv('./submit/xgboost.csv', index=False)"
   ]
  },
  {
   "cell_type": "markdown",
   "metadata": {},
   "source": [
    "## 8.4 Clasificador Gradient Boosting"
   ]
  },
  {
   "cell_type": "code",
   "execution_count": null,
   "metadata": {},
   "outputs": [],
   "source": [
    "final_GBC.fit(X_kaggle, y_kaggle)\n",
    "\n",
    "probs_GBC_final = final_GBC.predict_proba(X_kaggle_test)[:, 1]  \n",
    "pred_thres_GBC_final = (probs_GBC_final >= 0.5).astype(int) "
   ]
  },
  {
   "cell_type": "code",
   "execution_count": null,
   "metadata": {},
   "outputs": [],
   "source": [
    "df_label_GBC = pd.DataFrame(pred_thres_GBC_final, columns=['label'])\n",
    "df_id = df_test['id'].reset_index(drop=True)\n",
    "df_final_GBC = pd.concat([df_id, df_label_GBC], axis=1)"
   ]
  },
  {
   "cell_type": "markdown",
   "metadata": {},
   "source": [
    "Mostramos los resultados obtenidos para tener una idea de la proporción de 1s y 0s de Kaggle."
   ]
  },
  {
   "cell_type": "code",
   "execution_count": null,
   "metadata": {},
   "outputs": [
    {
     "data": {
      "text/plain": [
       "label\n",
       "1    2530\n",
       "0    1306\n",
       "Name: count, dtype: int64"
      ]
     },
     "metadata": {},
     "output_type": "display_data"
    }
   ],
   "source": [
    "df_final_GBC['label'].value_counts()"
   ]
  },
  {
   "cell_type": "code",
   "execution_count": null,
   "metadata": {},
   "outputs": [],
   "source": [
    "df_final_GBC.to_csv('./submit/gbc.csv', index=False)"
   ]
  },
  {
   "cell_type": "markdown",
   "metadata": {},
   "source": [
    "# 9. Referencias"
   ]
  },
  {
   "cell_type": "markdown",
   "metadata": {},
   "source": [
    "* [ColumnTransformer. (s. f.). Scikit-learn.](https://scikit-learn.org/stable/modules/generated/sklearn.compose.ColumnTransformer.html)\n",
    "* [GradientBoostingClassifier. (s. f.). Scikit-learn.](https://scikit-learn.org/stable/modules/generated/sklearn.ensemble.GradientBoostingClassifier.html)\n",
    "* [GridSearchCV. (s. f.). Scikit-learn.](https://scikit-learn.org/stable/modules/generated/sklearn.model_selection.GridSearchCV.html)\n",
    "* [RandomForestClassifier. (s. f.). Scikit-learn.](https://scikit-learn.org/stable/modules/generated/sklearn.ensemble.RandomForestClassifier.html)\n",
    "* [RandomUnderSampler — Version 0.13.0. (s. f.). Imbalance learn.](https://imbalanced-learn.org/stable/references/generated/imblearn.under_sampling.RandomUnderSampler.html)\n",
    "* [SMOTE — Version 0.13.0. (s. f.). Imbalanced learn.](https://imbalanced-learn.org/stable/references/generated/imblearn.over_sampling.SMOTE.html)\n",
    "* [StandardScaler. (s. f.). Scikit-learn.](https://scikit-learn.org/stable/modules/generated/sklearn.preprocessing.StandardScaler.html)\n",
    "* [train_test_split. (s. f.). Scikit-learn.](https://scikit-learn.org/stable/modules/generated/sklearn.model_selection.train_test_split.html)\n",
    "* [TfidfVectorizer. (s. f.). Scikit-learn.](https://scikit-learn.org/stable/modules/generated/sklearn.feature_extraction.text.TfidfVectorizer.html)\n",
    "* [TruncatedSVD. (s. f.). Scikit-learn.](https://scikit-learn.org/stable/modules/generated/sklearn.decomposition.TruncatedSVD.html)\n",
    "* [XGBoost Parameters — xgboost 3.0.0 documentation. (s. f.).](https://xgboost.readthedocs.io/en/release_3.0.0/parameter.html)"
   ]
  }
 ],
 "metadata": {
  "kernelspec": {
   "display_name": "Python 3 (ipykernel)",
   "language": "python",
   "name": "python3"
  },
  "language_info": {
   "codemirror_mode": {
    "name": "ipython",
    "version": 3
   },
   "file_extension": ".py",
   "mimetype": "text/x-python",
   "name": "python",
   "nbconvert_exporter": "python",
   "pygments_lexer": "ipython3",
   "version": "3.12.7"
  }
 },
 "nbformat": 4,
 "nbformat_minor": 4
}
