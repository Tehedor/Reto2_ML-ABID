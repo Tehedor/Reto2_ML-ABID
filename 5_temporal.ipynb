{
 "cells": [
  {
   "cell_type": "markdown",
   "metadata": {},
   "source": [
    "<header style=\"width:100%;position:relative\">\n",
    "  <div style=\"width:80%;float:right;\">\n",
    "    <h1>Challenge Loan Approval Prediction in Pennsylvania</h1>\n",
    "    <h3>Entrenamiento y evaluación de los modelos</h3>\n",
    "    <h5>Grupo 2</h5>\n",
    "  </div>\n",
    "        <img style=\"width:15%;\" src=\"./images/logo.jpg\" alt=\"UPM\" />\n",
    "</header>"
   ]
  },
  {
   "cell_type": "markdown",
   "metadata": {},
   "source": [
    "# Índice"
   ]
  },
  {
   "cell_type": "markdown",
   "metadata": {},
   "source": [
    "1. [Importar librerias](#1.-Importar-librerias)\n",
    "2. [Variables globales y funciones auxiliares](#2.-Variables-globales-y-funciones-auxiliares)\n",
    "3. [Carga del dataframe](#3.-Carga-del-dataframe)\n",
    "4. [Selección de las características](#4.-Seleccion-de-las-caracteristicas)\n",
    "5. [Carga de los datos y división en entrenamiento y test](#5.-Carga-de-los-datos-y-division-en-entrenamiento-y-test)\n",
    "6. [Modelos seleccionados](#6.-Modelos-seleccionados)\n",
    "    * 6.1 [Introducción](#6.1-Introduccion)\n",
    "    * 6.2 [Clasificador Random Forest](#6.2-Clasificador-Random-Forest)\n",
    "    * 6.3 [Clasificador MLP](#6.3-Clasificador-MLP)\n",
    "    * 6.4 [Clasificador KNN](#6.4-Clasificador-KNN)\n",
    "    * 6.5 [Clasificador GBC](#6.5-Clasificador-GBC)\n",
    "    * 6.6 [Clasificador LinearSVC](#6.6-Clasificador-LinearSVC)\n",
    "7. [Exportar CSV](#7.-Exportar-CSV)\n",
    "    * 7.1 [Clasificador Random Forest](#7.1-Clasificador-Random-Forest)\n",
    "    * 7.2 [Clasificador MLP](#7.2-Clasificador-MLP)\n",
    "    * 7.3 [Clasificador KNN](#7.3-Clasificador-KNN)\n",
    "    * 7.4 [Clasificador GBC](#7.4-Clasificador-GBC)\n",
    "    * 7.5 [Clasificador LinearSVC](#7.5-Clasificador-LinearSVC)\n",
    "8. [Referencias](#8.-Referencias)"
   ]
  },
  {
   "cell_type": "markdown",
   "metadata": {},
   "source": [
    "# 1. Importar librerias"
   ]
  },
  {
   "cell_type": "code",
   "execution_count": 70,
   "metadata": {
    "vscode": {
     "languageId": "plaintext"
    }
   },
   "outputs": [
    {
     "name": "stdout",
     "output_type": "stream",
     "text": [
      "Todas las librerias fueron correctamente importadas.\n"
     ]
    }
   ],
   "source": [
    "# General import and load data\n",
    "import pandas as pd\n",
    "import numpy as np\n",
    "\n",
    "# Resampling\n",
    "from imblearn.under_sampling import RandomUnderSampler\n",
    "from imblearn.over_sampling import SMOTE\n",
    "\n",
    "# Preprocessing\n",
    "from sklearn.compose import ColumnTransformer\n",
    "from sklearn.preprocessing import StandardScaler\n",
    "from sklearn.feature_extraction.text import TfidfVectorizer\n",
    "from sklearn.decomposition import TruncatedSVD\n",
    "\n",
    "# Splitting\n",
    "from sklearn.model_selection import train_test_split\n",
    "\n",
    "# Estimators\n",
    "from sklearn.svm import LinearSVC\n",
    "from sklearn.neural_network import MLPClassifier\n",
    "from sklearn.neighbors import KNeighborsClassifier\n",
    "from sklearn.ensemble import RandomForestClassifier, GradientBoostingClassifier, VotingClassifier\n",
    "\n",
    "# Evaluation\n",
    "from sklearn.metrics import accuracy_score, confusion_matrix, classification_report\n",
    "from sklearn.metrics import make_scorer, f1_score, recall_score, roc_curve, roc_auc_score\n",
    "\n",
    "# Optimization\n",
    "from sklearn.model_selection import GridSearchCV, PredefinedSplit\n",
    "\n",
    "# Visualization\n",
    "import matplotlib.pyplot as plt\n",
    "\n",
    "# Time optimization\n",
    "import time\n",
    "\n",
    "print(\"Todas las librerias fueron correctamente importadas.\")"
   ]
  },
  {
   "cell_type": "markdown",
   "metadata": {},
   "source": [
    "# 2. Variables globales y funciones auxiliares"
   ]
  },
  {
   "cell_type": "markdown",
   "metadata": {},
   "source": [
    "Se fija un seed para todo el documento para fijar la aleatoriedad y así obtener resultados replicables."
   ]
  },
  {
   "cell_type": "code",
   "execution_count": 74,
   "metadata": {},
   "outputs": [],
   "source": [
    "seed = 42"
   ]
  },
  {
   "cell_type": "markdown",
   "metadata": {},
   "source": [
    "Función utilizado para evaluar los distintos umbrales en la curva de ROC."
   ]
  },
  {
   "cell_type": "code",
   "execution_count": 212,
   "metadata": {},
   "outputs": [],
   "source": [
    "def evaluate_threshold(threshold):\n",
    "    print('Sensitivity:', tpr[thresholds > threshold][-1])\n",
    "    print('Recall:', 1 - fpr[thresholds > threshold][-1])"
   ]
  },
  {
   "cell_type": "markdown",
   "metadata": {},
   "source": [
    "# 3. Carga del dataframe"
   ]
  },
  {
   "cell_type": "markdown",
   "metadata": {},
   "source": [
    "Se cargan los datos de la ruta *formated/train_exportado.csv*, los cuales son los datos ya procesados por uno de nuestros compañeros."
   ]
  },
  {
   "cell_type": "code",
   "execution_count": 77,
   "metadata": {},
   "outputs": [
    {
     "name": "stdout",
     "output_type": "stream",
     "text": [
      "Datos cargados correctamente\n",
      "\n"
     ]
    }
   ],
   "source": [
    "url = \"formated/train_exportado.csv\"\n",
    "df = pd.read_csv(url)\n",
    "\n",
    "print(\"Datos cargados correctamente\\n\")"
   ]
  },
  {
   "cell_type": "markdown",
   "metadata": {},
   "source": [
    "También cargamos el test que debemos predecir para Kaggle de la ruta *formated/test_exportado.csv*."
   ]
  },
  {
   "cell_type": "code",
   "execution_count": 79,
   "metadata": {},
   "outputs": [
    {
     "name": "stdout",
     "output_type": "stream",
     "text": [
      "Test cargado correctamente\n",
      "\n"
     ]
    }
   ],
   "source": [
    "url = \"formated/test_exportado.csv\"\n",
    "df_test = pd.read_csv(url)\n",
    "\n",
    "print(\"Test cargado correctamente\\n\")"
   ]
  },
  {
   "cell_type": "markdown",
   "metadata": {},
   "source": [
    "# 4. Seleccion de las caracteristicas"
   ]
  },
  {
   "cell_type": "markdown",
   "metadata": {},
   "source": [
    "En el siguiente array se muestran todas las caracteristicas por si se decide realizar pruebas con otras *features*."
   ]
  },
  {
   "cell_type": "code",
   "execution_count": 82,
   "metadata": {},
   "outputs": [],
   "source": [
    "all_features = [\n",
    "    # Identificador\n",
    "    'id',\n",
    "\n",
    "    # Etiqueta objetivo\n",
    "    'label',\n",
    "\n",
    "    # Texto original y procesado\n",
    "    'statement', 'statement-raw', 'statement-lemmatize', \n",
    "\n",
    "    # Features derivados del texto\n",
    "    'statement-ner', 'feelings',\n",
    "\n",
    "    # One-hot encoded de los temas reagrupados del texto \n",
    "    'subject-ciencia_y_tecnologia', 'subject-economia_y_finanzas',\n",
    "    'subject-educacion', 'subject-medio_ambiente_y_energia', 'subject-otros',\n",
    "    'subject-politica_y_gobierno', 'subject-relaciones_internacionales',\n",
    "    'subject-salud_y_bienestar', 'subject-seguridad_y_justicia',\n",
    "    'subject-sociedad_y_cultura', 'subject-trabajo_y_empleo',\n",
    "\n",
    "    # Resto de las categoricas agrupadas\n",
    "    'speaker_grouped', 'speaker_job_grouped', 'state_info_grouped', 'party_group',\n",
    "\n",
    "    # Resto de las categoricas agrupadas y codificadas\n",
    "    'speaker_grouped_cod', 'speaker_job_grouped_cod',\n",
    "    'state_info_grouped_cod', 'party_group_cod',\n",
    "\n",
    "    # Variables generadas por LLM los null\n",
    "    'speaker_job-llm', 'speaker_job_cod-llm',\n",
    "    'state_info-llm', 'state_info_cod-llm',\n",
    "    'party_affiliation-llm', 'party_affiliation_cod-llm'\n",
    "]"
   ]
  },
  {
   "cell_type": "markdown",
   "metadata": {},
   "source": [
    "Se seleccionan todas las categorias menos: \n",
    "* ***id***: no aporta ningún valor.\n",
    "* ***label***: variable a predecir.\n",
    "* ***statement***: esta *feature* esta por si nos es necesario en algun momento futuro tener el texto sin procesar.\n",
    "* ***statement-lemmatize***: esta *feature* solo esta para probar en notebooks posteriores si clasifica mejor o peor con las raices de las palabras.\n",
    "* ***statement-ner***: esta *feature* esta para ver si el clasificador funciona mejor con el NER por separado.\n",
    "* ***speaker_grouped***, ***speaker_job_grouped***, ***state_info_grouped***, ***party_group***: suponemos que tenemos la misma información ya codificada.\n",
    "* ***speaker_job-llm***, ***speaker_job_cod-llm***, ***state_info-llm***, ***state_info_cod-llm***, ***party_affiliation-llm***, ***party_affiliation_cod-llm***: esta información ya esta en otras *features*, la diferencia esta en como se tratan los nulos asi que se analizará cual funciona mejor si con LLM o sin ellos durante el apartado de clasificación."
   ]
  },
  {
   "cell_type": "code",
   "execution_count": 84,
   "metadata": {},
   "outputs": [],
   "source": [
    "selected_features = [\n",
    "    # Texto\n",
    "    'statement-raw',\n",
    "\n",
    "    # Features derivados del texto\n",
    "    'feelings',\n",
    "\n",
    "    # One-hot encoded de los temas reagrupados del texto \n",
    "    'subject-ciencia_y_tecnologia', 'subject-economia_y_finanzas',\n",
    "    'subject-educacion', 'subject-medio_ambiente_y_energia', 'subject-otros',\n",
    "    'subject-politica_y_gobierno', 'subject-relaciones_internacionales',\n",
    "    'subject-salud_y_bienestar', 'subject-seguridad_y_justicia',\n",
    "    'subject-sociedad_y_cultura', 'subject-trabajo_y_empleo',\n",
    "\n",
    "    # Resto de las categoricas agrupadas y codificadas\n",
    "    'speaker_grouped_cod', 'speaker_job_grouped_cod',\n",
    "    'state_info_grouped_cod', 'party_group_cod'\n",
    "]"
   ]
  },
  {
   "cell_type": "markdown",
   "metadata": {},
   "source": [
    "En caso de querer probar si funcionan mejor las de los LLM, se sustituirán por su simil. También si se quiere probar el texto lematizado se sustituira por el *raw*."
   ]
  },
  {
   "cell_type": "markdown",
   "metadata": {},
   "source": [
    "De las cuales texto es:"
   ]
  },
  {
   "cell_type": "code",
   "execution_count": 87,
   "metadata": {},
   "outputs": [],
   "source": [
    "text = 'statement-raw'"
   ]
  },
  {
   "cell_type": "markdown",
   "metadata": {},
   "source": [
    "Y las que no se corresponden con texto son:"
   ]
  },
  {
   "cell_type": "code",
   "execution_count": 89,
   "metadata": {},
   "outputs": [],
   "source": [
    "no_text = [\n",
    "    # Features derivados del texto\n",
    "    'feelings',\n",
    "\n",
    "    # One-hot encoded de los temas reagrupados del texto \n",
    "    'subject-ciencia_y_tecnologia', 'subject-economia_y_finanzas',\n",
    "    'subject-educacion', 'subject-medio_ambiente_y_energia', 'subject-otros',\n",
    "    'subject-politica_y_gobierno', 'subject-relaciones_internacionales',\n",
    "    'subject-salud_y_bienestar', 'subject-seguridad_y_justicia',\n",
    "    'subject-sociedad_y_cultura', 'subject-trabajo_y_empleo',\n",
    "\n",
    "    # Resto de las categoricas agrupadas y codificadas\n",
    "    'speaker_grouped_cod', 'speaker_job_grouped_cod',\n",
    "    'state_info_grouped_cod', 'party_group_cod'\n",
    "]"
   ]
  },
  {
   "cell_type": "markdown",
   "metadata": {},
   "source": [
    "Y de las cuales, numéricas son las siguientes:"
   ]
  },
  {
   "cell_type": "code",
   "execution_count": 91,
   "metadata": {},
   "outputs": [],
   "source": [
    "numeric_vars = [\n",
    "    'speaker_grouped_cod', 'speaker_job_grouped_cod',\n",
    "    'state_info_grouped_cod', 'party_group_cod'\n",
    "]"
   ]
  },
  {
   "cell_type": "markdown",
   "metadata": {},
   "source": [
    "# 5. Carga de los datos y division en entrenamiento y test"
   ]
  },
  {
   "cell_type": "markdown",
   "metadata": {},
   "source": [
    "Cargamos las caracteristicas seleccionadas en la variable X y el objetivo *Accept* en la variable y."
   ]
  },
  {
   "cell_type": "code",
   "execution_count": 94,
   "metadata": {},
   "outputs": [],
   "source": [
    "X = df[selected_features] \n",
    "y = df['label'].values"
   ]
  },
  {
   "cell_type": "markdown",
   "metadata": {},
   "source": [
    "Se separa ya en entrenamiento y test para no falsear los datos del test al realizar el balanceo."
   ]
  },
  {
   "cell_type": "code",
   "execution_count": 96,
   "metadata": {},
   "outputs": [],
   "source": [
    "X_train, X_test, y_train, y_test = train_test_split(X, y, test_size=0.2, random_state=seed)"
   ]
  },
  {
   "cell_type": "markdown",
   "metadata": {},
   "source": [
    "A la hora de subir el modelo a Kaggle, ya se nos da dividido el entrenamiento y el test. Por ello, se utilizarán todos los datos tratados como entrenamiento (aunque también se le aplicará el mejor caso de preprocesado para cada modelo)."
   ]
  },
  {
   "cell_type": "code",
   "execution_count": 98,
   "metadata": {},
   "outputs": [],
   "source": [
    "X_train_final = X\n",
    "y_train_final = y\n",
    "\n",
    "X_test_final = df_test[selected_features] "
   ]
  },
  {
   "cell_type": "markdown",
   "metadata": {},
   "source": [
    "# 6. Preprocesado"
   ]
  },
  {
   "cell_type": "markdown",
   "metadata": {},
   "source": [
    "Como se menciona en el notebook dedicado al preprocesamiento, primero se tratará el texto, después se reducirá su dimensionalidad con un *TruncatedSVD*, se estandarizarán las variables codificadas mediante un *StandardScaler* y, finalmente, se realizará un remuestreo mediante *SMOTE* y *RandomUnderSampler*. \n",
    "\n",
    "En caso de querer probar el caso de preprocesamiento 6, será necesario eliminar el *StandardScaler* junto al *ColumnTransformer*."
   ]
  },
  {
   "cell_type": "markdown",
   "metadata": {},
   "source": [
    "## 6.1 Tratamiento de los textos"
   ]
  },
  {
   "cell_type": "markdown",
   "metadata": {},
   "source": [
    "### 6.1.1 Vectorización"
   ]
  },
  {
   "cell_type": "markdown",
   "metadata": {},
   "source": [
    "Primero tratamos el texto para los análisis de los modelos."
   ]
  },
  {
   "cell_type": "code",
   "execution_count": 104,
   "metadata": {},
   "outputs": [],
   "source": [
    "# Tratamiento del texto para el analisis de los modelos\n",
    "vect = TfidfVectorizer(min_df=5, max_df=0.8, ngram_range=(1,2))\n",
    "vect.fit(X_train[text])\n",
    "\n",
    "X_txt_train = vect.transform(X_train[text])\n",
    "X_txt_test = vect.transform(X_test[text])"
   ]
  },
  {
   "cell_type": "markdown",
   "metadata": {},
   "source": [
    "Después para el dataset que se utilizará para subir a Kaggle."
   ]
  },
  {
   "cell_type": "code",
   "execution_count": 106,
   "metadata": {},
   "outputs": [],
   "source": [
    "# Tratamiento del texto para Kaggle\n",
    "vect_final = TfidfVectorizer(min_df=5, max_df=0.8, ngram_range=(1,2))\n",
    "vect_final.fit(X_train_final[text])\n",
    "\n",
    "X_txt_tr_final = vect_final.transform(X_train_final[text])\n",
    "X_txt_te_final = vect_final.transform(X_test_final[text])"
   ]
  },
  {
   "cell_type": "markdown",
   "metadata": {},
   "source": [
    "### 6.1.2 Reducción de la dimensionalidad"
   ]
  },
  {
   "cell_type": "markdown",
   "metadata": {},
   "source": [
    "Aplicamos un *SVD* para reducir la dimensionalidad, empezando para los conjuntos de análisis."
   ]
  },
  {
   "cell_type": "code",
   "execution_count": 116,
   "metadata": {},
   "outputs": [],
   "source": [
    "svd = TruncatedSVD(n_components=1000, random_state=seed)\n",
    "svd.fit(X_txt_train)\n",
    "\n",
    "X_svd_full_train = svd.transform(X_txt_train)\n",
    "X_svd_full_test = svd.transform(X_txt_test)"
   ]
  },
  {
   "cell_type": "markdown",
   "metadata": {},
   "source": [
    "Continuando con la de Kaggle."
   ]
  },
  {
   "cell_type": "code",
   "execution_count": 119,
   "metadata": {},
   "outputs": [],
   "source": [
    "svd_final = TruncatedSVD(n_components=2000, random_state=seed)\n",
    "svd_final.fit(X_txt_tr_final)\n",
    "\n",
    "X_svd_full_tr_final = svd_final.transform(X_txt_tr_final)\n",
    "X_svd_full_te_final = svd_final.transform(X_txt_te_final)"
   ]
  },
  {
   "cell_type": "markdown",
   "metadata": {},
   "source": [
    "Nos quedamos solamente con los componentes que nos permitan tener un de ratio de explicabilidad determinado. Primero el de análisis."
   ]
  },
  {
   "cell_type": "code",
   "execution_count": 123,
   "metadata": {},
   "outputs": [
    {
     "data": {
      "image/png": "[encoded data removed]",
      "text/plain": [
       "<Figure size 1000x600 with 1 Axes>"
      ]
     },
     "metadata": {},
     "output_type": "display_data"
    }
   ],
   "source": [
    "# Calculate cumulative explained variance ratio\n",
    "cumulative_variance_ratio = np.cumsum(svd.explained_variance_ratio_)\n",
    "\n",
    "# Plot explained variance ratio\n",
    "plt.figure(figsize=(10, 6))\n",
    "plt.plot(range(1, len(cumulative_variance_ratio) + 1), \n",
    "         cumulative_variance_ratio, 'bo-')\n",
    "plt.xlabel('Número de Componentes')\n",
    "plt.ylabel('Ratio de Varianza Explicada Acumulada')\n",
    "plt.title('Ratio Varianza Explicada vs. Número Componentes')\n",
    "plt.grid(True)\n",
    "\n",
    "# Add threshold line\n",
    "plt.axhline(y=0.7, color='r', linestyle='--', \n",
    "            label='Umbral del 70% de varianza')\n",
    "plt.legend()\n",
    "plt.show()"
   ]
  },
  {
   "cell_type": "markdown",
   "metadata": {},
   "source": [
    "Continuando con el de Kaggle."
   ]
  },
  {
   "cell_type": "code",
   "execution_count": 126,
   "metadata": {},
   "outputs": [
    {
     "data": {
      "image/png": "[encoded data removed]",
      "text/plain": [
       "<Figure size 1000x600 with 1 Axes>"
      ]
     },
     "metadata": {},
     "output_type": "display_data"
    }
   ],
   "source": [
    "# Calculate cumulative explained variance ratio\n",
    "cumulative_variance_ratio_final = np.cumsum(svd_final.explained_variance_ratio_)\n",
    "\n",
    "# Plot explained variance ratio\n",
    "plt.figure(figsize=(10, 6))\n",
    "plt.plot(range(1, len(cumulative_variance_ratio_final) + 1), \n",
    "         cumulative_variance_ratio_final, 'bo-')\n",
    "plt.xlabel('Número de Componentes')\n",
    "plt.ylabel('Ratio de Varianza Explicada Acumulada')\n",
    "plt.title('Ratio Varianza Explicada vs. Número Componentes')\n",
    "plt.grid(True)\n",
    "\n",
    "# Add threshold line\n",
    "plt.axhline(y=0.7, color='r', linestyle='--', \n",
    "            label='Umbral del 70% de varianza')\n",
    "plt.legend()\n",
    "plt.show()"
   ]
  },
  {
   "cell_type": "markdown",
   "metadata": {},
   "source": [
    "Y ahora, seleccionamos el número de componentes, así como el desglose que aporta cada uno de ellos al ratio de  explicabilidad. Primero el de análisis."
   ]
  },
  {
   "cell_type": "code",
   "execution_count": 128,
   "metadata": {
    "scrolled": true
   },
   "outputs": [
    {
     "name": "stdout",
     "output_type": "stream",
     "text": [
      "Número de componentes seleccionados: 898\n",
      "Varianza explicada con 898 componentes: 0.7001\n",
      "\n",
      "Varianza explicada por cada componente:\n",
      "Componente 1: 0.0023 (0.23%)\n",
      "Componente 2: 0.0064 (0.64%)\n",
      "Componente 3: 0.0062 (0.62%)\n",
      "Componente 4: 0.0051 (0.51%)\n",
      "Componente 5: 0.0047 (0.47%)\n",
      "Componente 6: 0.0046 (0.46%)\n",
      "Componente 7: 0.0043 (0.43%)\n",
      "Componente 8: 0.0042 (0.42%)\n",
      "Componente 9: 0.0039 (0.39%)\n",
      "Componente 10: 0.0038 (0.38%)\n",
      "Componente 11: 0.0036 (0.36%)\n",
      "Componente 12: 0.0035 (0.35%)\n",
      "Componente 13: 0.0034 (0.34%)\n",
      "Componente 14: 0.0033 (0.33%)\n",
      "Componente 15: 0.0032 (0.32%)\n",
      "Componente 16: 0.0032 (0.32%)\n",
      "Componente 17: 0.0030 (0.30%)\n",
      "Componente 18: 0.0030 (0.30%)\n",
      "Componente 19: 0.0030 (0.30%)\n",
      "Componente 20: 0.0029 (0.29%)\n",
      "Componente 21: 0.0028 (0.28%)\n",
      "Componente 22: 0.0028 (0.28%)\n",
      "Componente 23: 0.0028 (0.28%)\n",
      "Componente 24: 0.0027 (0.27%)\n",
      "Componente 25: 0.0027 (0.27%)\n",
      "Componente 26: 0.0027 (0.27%)\n",
      "Componente 27: 0.0026 (0.26%)\n",
      "Componente 28: 0.0026 (0.26%)\n",
      "Componente 29: 0.0026 (0.26%)\n",
      "Componente 30: 0.0025 (0.25%)\n",
      "Componente 31: 0.0025 (0.25%)\n",
      "Componente 32: 0.0025 (0.25%)\n",
      "Componente 33: 0.0024 (0.24%)\n",
      "Componente 34: 0.0024 (0.24%)\n",
      "Componente 35: 0.0024 (0.24%)\n",
      "Componente 36: 0.0023 (0.23%)\n",
      "Componente 37: 0.0023 (0.23%)\n",
      "Componente 38: 0.0023 (0.23%)\n",
      "Componente 39: 0.0023 (0.23%)\n",
      "Componente 40: 0.0022 (0.22%)\n",
      "Componente 41: 0.0022 (0.22%)\n",
      "Componente 42: 0.0022 (0.22%)\n",
      "Componente 43: 0.0022 (0.22%)\n",
      "Componente 44: 0.0021 (0.21%)\n",
      "Componente 45: 0.0021 (0.21%)\n",
      "Componente 46: 0.0021 (0.21%)\n",
      "Componente 47: 0.0021 (0.21%)\n",
      "Componente 48: 0.0021 (0.21%)\n",
      "Componente 49: 0.0020 (0.20%)\n",
      "Componente 50: 0.0020 (0.20%)\n",
      "Componente 51: 0.0020 (0.20%)\n",
      "Componente 52: 0.0020 (0.20%)\n",
      "Componente 53: 0.0019 (0.19%)\n",
      "Componente 54: 0.0019 (0.19%)\n",
      "Componente 55: 0.0019 (0.19%)\n",
      "Componente 56: 0.0019 (0.19%)\n",
      "Componente 57: 0.0019 (0.19%)\n",
      "Componente 58: 0.0019 (0.19%)\n",
      "Componente 59: 0.0019 (0.19%)\n",
      "Componente 60: 0.0019 (0.19%)\n",
      "Componente 61: 0.0018 (0.18%)\n",
      "Componente 62: 0.0018 (0.18%)\n",
      "Componente 63: 0.0018 (0.18%)\n",
      "Componente 64: 0.0018 (0.18%)\n",
      "Componente 65: 0.0018 (0.18%)\n",
      "Componente 66: 0.0018 (0.18%)\n",
      "Componente 67: 0.0017 (0.17%)\n",
      "Componente 68: 0.0017 (0.17%)\n",
      "Componente 69: 0.0017 (0.17%)\n",
      "Componente 70: 0.0017 (0.17%)\n",
      "Componente 71: 0.0017 (0.17%)\n",
      "Componente 72: 0.0017 (0.17%)\n",
      "Componente 73: 0.0017 (0.17%)\n",
      "Componente 74: 0.0017 (0.17%)\n",
      "Componente 75: 0.0016 (0.16%)\n",
      "Componente 76: 0.0016 (0.16%)\n",
      "Componente 77: 0.0016 (0.16%)\n",
      "Componente 78: 0.0016 (0.16%)\n",
      "Componente 79: 0.0016 (0.16%)\n",
      "Componente 80: 0.0016 (0.16%)\n",
      "Componente 81: 0.0016 (0.16%)\n",
      "Componente 82: 0.0016 (0.16%)\n",
      "Componente 83: 0.0016 (0.16%)\n",
      "Componente 84: 0.0015 (0.15%)\n",
      "Componente 85: 0.0015 (0.15%)\n",
      "Componente 86: 0.0015 (0.15%)\n",
      "Componente 87: 0.0015 (0.15%)\n",
      "Componente 88: 0.0015 (0.15%)\n",
      "Componente 89: 0.0015 (0.15%)\n",
      "Componente 90: 0.0015 (0.15%)\n",
      "Componente 91: 0.0015 (0.15%)\n",
      "Componente 92: 0.0015 (0.15%)\n",
      "Componente 93: 0.0015 (0.15%)\n",
      "Componente 94: 0.0015 (0.15%)\n",
      "Componente 95: 0.0015 (0.15%)\n",
      "Componente 96: 0.0014 (0.14%)\n",
      "Componente 97: 0.0014 (0.14%)\n",
      "Componente 98: 0.0014 (0.14%)\n",
      "Componente 99: 0.0014 (0.14%)\n",
      "Componente 100: 0.0014 (0.14%)\n",
      "Componente 101: 0.0014 (0.14%)\n",
      "Componente 102: 0.0014 (0.14%)\n",
      "Componente 103: 0.0014 (0.14%)\n",
      "Componente 104: 0.0014 (0.14%)\n",
      "Componente 105: 0.0014 (0.14%)\n",
      "Componente 106: 0.0014 (0.14%)\n",
      "Componente 107: 0.0014 (0.14%)\n",
      "Componente 108: 0.0014 (0.14%)\n",
      "Componente 109: 0.0013 (0.13%)\n",
      "Componente 110: 0.0013 (0.13%)\n",
      "Componente 111: 0.0013 (0.13%)\n",
      "Componente 112: 0.0013 (0.13%)\n",
      "Componente 113: 0.0013 (0.13%)\n",
      "Componente 114: 0.0013 (0.13%)\n",
      "Componente 115: 0.0013 (0.13%)\n",
      "Componente 116: 0.0013 (0.13%)\n",
      "Componente 117: 0.0013 (0.13%)\n",
      "Componente 118: 0.0013 (0.13%)\n",
      "Componente 119: 0.0013 (0.13%)\n",
      "Componente 120: 0.0013 (0.13%)\n",
      "Componente 121: 0.0013 (0.13%)\n",
      "Componente 122: 0.0013 (0.13%)\n",
      "Componente 123: 0.0012 (0.12%)\n",
      "Componente 124: 0.0012 (0.12%)\n",
      "Componente 125: 0.0012 (0.12%)\n",
      "Componente 126: 0.0012 (0.12%)\n",
      "Componente 127: 0.0012 (0.12%)\n",
      "Componente 128: 0.0012 (0.12%)\n",
      "Componente 129: 0.0012 (0.12%)\n",
      "Componente 130: 0.0012 (0.12%)\n",
      "Componente 131: 0.0012 (0.12%)\n",
      "Componente 132: 0.0012 (0.12%)\n",
      "Componente 133: 0.0012 (0.12%)\n",
      "Componente 134: 0.0012 (0.12%)\n",
      "Componente 135: 0.0012 (0.12%)\n",
      "Componente 136: 0.0012 (0.12%)\n",
      "Componente 137: 0.0012 (0.12%)\n",
      "Componente 138: 0.0012 (0.12%)\n",
      "Componente 139: 0.0012 (0.12%)\n",
      "Componente 140: 0.0012 (0.12%)\n",
      "Componente 141: 0.0012 (0.12%)\n",
      "Componente 142: 0.0011 (0.11%)\n",
      "Componente 143: 0.0011 (0.11%)\n",
      "Componente 144: 0.0011 (0.11%)\n",
      "Componente 145: 0.0011 (0.11%)\n",
      "Componente 146: 0.0011 (0.11%)\n",
      "Componente 147: 0.0011 (0.11%)\n",
      "Componente 148: 0.0011 (0.11%)\n",
      "Componente 149: 0.0011 (0.11%)\n",
      "Componente 150: 0.0011 (0.11%)\n",
      "Componente 151: 0.0011 (0.11%)\n",
      "Componente 152: 0.0011 (0.11%)\n",
      "Componente 153: 0.0011 (0.11%)\n",
      "Componente 154: 0.0011 (0.11%)\n",
      "Componente 155: 0.0011 (0.11%)\n",
      "Componente 156: 0.0011 (0.11%)\n",
      "Componente 157: 0.0011 (0.11%)\n",
      "Componente 158: 0.0011 (0.11%)\n",
      "Componente 159: 0.0011 (0.11%)\n",
      "Componente 160: 0.0011 (0.11%)\n",
      "Componente 161: 0.0011 (0.11%)\n",
      "Componente 162: 0.0011 (0.11%)\n",
      "Componente 163: 0.0011 (0.11%)\n",
      "Componente 164: 0.0010 (0.10%)\n",
      "Componente 165: 0.0010 (0.10%)\n",
      "Componente 166: 0.0010 (0.10%)\n",
      "Componente 167: 0.0010 (0.10%)\n",
      "Componente 168: 0.0010 (0.10%)\n",
      "Componente 169: 0.0010 (0.10%)\n",
      "Componente 170: 0.0010 (0.10%)\n",
      "Componente 171: 0.0010 (0.10%)\n",
      "Componente 172: 0.0010 (0.10%)\n",
      "Componente 173: 0.0010 (0.10%)\n",
      "Componente 174: 0.0010 (0.10%)\n",
      "Componente 175: 0.0010 (0.10%)\n",
      "Componente 176: 0.0010 (0.10%)\n",
      "Componente 177: 0.0010 (0.10%)\n",
      "Componente 178: 0.0010 (0.10%)\n",
      "Componente 179: 0.0010 (0.10%)\n",
      "Componente 180: 0.0010 (0.10%)\n",
      "Componente 181: 0.0010 (0.10%)\n",
      "Componente 182: 0.0010 (0.10%)\n",
      "Componente 183: 0.0010 (0.10%)\n",
      "Componente 184: 0.0010 (0.10%)\n",
      "Componente 185: 0.0010 (0.10%)\n",
      "Componente 186: 0.0010 (0.10%)\n",
      "Componente 187: 0.0010 (0.10%)\n",
      "Componente 188: 0.0010 (0.10%)\n",
      "Componente 189: 0.0010 (0.10%)\n",
      "Componente 190: 0.0010 (0.10%)\n",
      "Componente 191: 0.0010 (0.10%)\n",
      "Componente 192: 0.0010 (0.10%)\n",
      "Componente 193: 0.0010 (0.10%)\n",
      "Componente 194: 0.0010 (0.10%)\n",
      "Componente 195: 0.0010 (0.10%)\n",
      "Componente 196: 0.0009 (0.09%)\n",
      "Componente 197: 0.0009 (0.09%)\n",
      "Componente 198: 0.0009 (0.09%)\n",
      "Componente 199: 0.0009 (0.09%)\n",
      "Componente 200: 0.0009 (0.09%)\n",
      "Componente 201: 0.0009 (0.09%)\n",
      "Componente 202: 0.0009 (0.09%)\n",
      "Componente 203: 0.0009 (0.09%)\n",
      "Componente 204: 0.0009 (0.09%)\n",
      "Componente 205: 0.0009 (0.09%)\n",
      "Componente 206: 0.0009 (0.09%)\n",
      "Componente 207: 0.0009 (0.09%)\n",
      "Componente 208: 0.0009 (0.09%)\n",
      "Componente 209: 0.0009 (0.09%)\n",
      "Componente 210: 0.0009 (0.09%)\n",
      "Componente 211: 0.0009 (0.09%)\n",
      "Componente 212: 0.0009 (0.09%)\n",
      "Componente 213: 0.0009 (0.09%)\n",
      "Componente 214: 0.0009 (0.09%)\n",
      "Componente 215: 0.0009 (0.09%)\n",
      "Componente 216: 0.0009 (0.09%)\n",
      "Componente 217: 0.0009 (0.09%)\n",
      "Componente 218: 0.0009 (0.09%)\n",
      "Componente 219: 0.0009 (0.09%)\n",
      "Componente 220: 0.0009 (0.09%)\n",
      "Componente 221: 0.0009 (0.09%)\n",
      "Componente 222: 0.0009 (0.09%)\n",
      "Componente 223: 0.0009 (0.09%)\n",
      "Componente 224: 0.0009 (0.09%)\n",
      "Componente 225: 0.0009 (0.09%)\n",
      "Componente 226: 0.0009 (0.09%)\n",
      "Componente 227: 0.0009 (0.09%)\n",
      "Componente 228: 0.0009 (0.09%)\n",
      "Componente 229: 0.0009 (0.09%)\n",
      "Componente 230: 0.0009 (0.09%)\n",
      "Componente 231: 0.0009 (0.09%)\n",
      "Componente 232: 0.0008 (0.08%)\n",
      "Componente 233: 0.0008 (0.08%)\n",
      "Componente 234: 0.0008 (0.08%)\n",
      "Componente 235: 0.0008 (0.08%)\n",
      "Componente 236: 0.0008 (0.08%)\n",
      "Componente 237: 0.0008 (0.08%)\n",
      "Componente 238: 0.0008 (0.08%)\n",
      "Componente 239: 0.0008 (0.08%)\n",
      "Componente 240: 0.0008 (0.08%)\n",
      "Componente 241: 0.0008 (0.08%)\n",
      "Componente 242: 0.0008 (0.08%)\n",
      "Componente 243: 0.0008 (0.08%)\n",
      "Componente 244: 0.0008 (0.08%)\n",
      "Componente 245: 0.0008 (0.08%)\n",
      "Componente 246: 0.0008 (0.08%)\n",
      "Componente 247: 0.0008 (0.08%)\n",
      "Componente 248: 0.0008 (0.08%)\n",
      "Componente 249: 0.0008 (0.08%)\n",
      "Componente 250: 0.0008 (0.08%)\n",
      "Componente 251: 0.0008 (0.08%)\n",
      "Componente 252: 0.0008 (0.08%)\n",
      "Componente 253: 0.0008 (0.08%)\n",
      "Componente 254: 0.0008 (0.08%)\n",
      "Componente 255: 0.0008 (0.08%)\n",
      "Componente 256: 0.0008 (0.08%)\n",
      "Componente 257: 0.0008 (0.08%)\n",
      "Componente 258: 0.0008 (0.08%)\n",
      "Componente 259: 0.0008 (0.08%)\n",
      "Componente 260: 0.0008 (0.08%)\n",
      "Componente 261: 0.0008 (0.08%)\n",
      "Componente 262: 0.0008 (0.08%)\n",
      "Componente 263: 0.0008 (0.08%)\n",
      "Componente 264: 0.0008 (0.08%)\n",
      "Componente 265: 0.0008 (0.08%)\n",
      "Componente 266: 0.0008 (0.08%)\n",
      "Componente 267: 0.0008 (0.08%)\n",
      "Componente 268: 0.0008 (0.08%)\n",
      "Componente 269: 0.0008 (0.08%)\n",
      "Componente 270: 0.0008 (0.08%)\n",
      "Componente 271: 0.0008 (0.08%)\n",
      "Componente 272: 0.0008 (0.08%)\n",
      "Componente 273: 0.0008 (0.08%)\n",
      "Componente 274: 0.0008 (0.08%)\n",
      "Componente 275: 0.0008 (0.08%)\n",
      "Componente 276: 0.0008 (0.08%)\n",
      "Componente 277: 0.0007 (0.07%)\n",
      "Componente 278: 0.0007 (0.07%)\n",
      "Componente 279: 0.0007 (0.07%)\n",
      "Componente 280: 0.0007 (0.07%)\n",
      "Componente 281: 0.0007 (0.07%)\n",
      "Componente 282: 0.0007 (0.07%)\n",
      "Componente 283: 0.0007 (0.07%)\n",
      "Componente 284: 0.0007 (0.07%)\n",
      "Componente 285: 0.0007 (0.07%)\n",
      "Componente 286: 0.0007 (0.07%)\n",
      "Componente 287: 0.0007 (0.07%)\n",
      "Componente 288: 0.0007 (0.07%)\n",
      "Componente 289: 0.0007 (0.07%)\n",
      "Componente 290: 0.0007 (0.07%)\n",
      "Componente 291: 0.0007 (0.07%)\n",
      "Componente 292: 0.0007 (0.07%)\n",
      "Componente 293: 0.0007 (0.07%)\n",
      "Componente 294: 0.0007 (0.07%)\n",
      "Componente 295: 0.0007 (0.07%)\n",
      "Componente 296: 0.0007 (0.07%)\n",
      "Componente 297: 0.0007 (0.07%)\n",
      "Componente 298: 0.0007 (0.07%)\n",
      "Componente 299: 0.0007 (0.07%)\n",
      "Componente 300: 0.0007 (0.07%)\n",
      "Componente 301: 0.0007 (0.07%)\n",
      "Componente 302: 0.0007 (0.07%)\n",
      "Componente 303: 0.0007 (0.07%)\n",
      "Componente 304: 0.0007 (0.07%)\n",
      "Componente 305: 0.0007 (0.07%)\n",
      "Componente 306: 0.0007 (0.07%)\n",
      "Componente 307: 0.0007 (0.07%)\n",
      "Componente 308: 0.0007 (0.07%)\n",
      "Componente 309: 0.0007 (0.07%)\n",
      "Componente 310: 0.0007 (0.07%)\n",
      "Componente 311: 0.0007 (0.07%)\n",
      "Componente 312: 0.0007 (0.07%)\n",
      "Componente 313: 0.0007 (0.07%)\n",
      "Componente 314: 0.0007 (0.07%)\n",
      "Componente 315: 0.0007 (0.07%)\n",
      "Componente 316: 0.0007 (0.07%)\n",
      "Componente 317: 0.0007 (0.07%)\n",
      "Componente 318: 0.0007 (0.07%)\n",
      "Componente 319: 0.0007 (0.07%)\n",
      "Componente 320: 0.0007 (0.07%)\n",
      "Componente 321: 0.0007 (0.07%)\n",
      "Componente 322: 0.0007 (0.07%)\n",
      "Componente 323: 0.0007 (0.07%)\n",
      "Componente 324: 0.0007 (0.07%)\n",
      "Componente 325: 0.0007 (0.07%)\n",
      "Componente 326: 0.0007 (0.07%)\n",
      "Componente 327: 0.0007 (0.07%)\n",
      "Componente 328: 0.0007 (0.07%)\n",
      "Componente 329: 0.0007 (0.07%)\n",
      "Componente 330: 0.0007 (0.07%)\n",
      "Componente 331: 0.0007 (0.07%)\n",
      "Componente 332: 0.0007 (0.07%)\n",
      "Componente 333: 0.0007 (0.07%)\n",
      "Componente 334: 0.0007 (0.07%)\n",
      "Componente 335: 0.0007 (0.07%)\n",
      "Componente 336: 0.0007 (0.07%)\n",
      "Componente 337: 0.0007 (0.07%)\n",
      "Componente 338: 0.0007 (0.07%)\n",
      "Componente 339: 0.0007 (0.07%)\n",
      "Componente 340: 0.0007 (0.07%)\n",
      "Componente 341: 0.0007 (0.07%)\n",
      "Componente 342: 0.0007 (0.07%)\n",
      "Componente 343: 0.0007 (0.07%)\n",
      "Componente 344: 0.0006 (0.06%)\n",
      "Componente 345: 0.0006 (0.06%)\n",
      "Componente 346: 0.0006 (0.06%)\n",
      "Componente 347: 0.0006 (0.06%)\n",
      "Componente 348: 0.0006 (0.06%)\n",
      "Componente 349: 0.0006 (0.06%)\n",
      "Componente 350: 0.0006 (0.06%)\n",
      "Componente 351: 0.0006 (0.06%)\n",
      "Componente 352: 0.0006 (0.06%)\n",
      "Componente 353: 0.0006 (0.06%)\n",
      "Componente 354: 0.0006 (0.06%)\n",
      "Componente 355: 0.0006 (0.06%)\n",
      "Componente 356: 0.0006 (0.06%)\n",
      "Componente 357: 0.0006 (0.06%)\n",
      "Componente 358: 0.0006 (0.06%)\n",
      "Componente 359: 0.0006 (0.06%)\n",
      "Componente 360: 0.0006 (0.06%)\n",
      "Componente 361: 0.0006 (0.06%)\n",
      "Componente 362: 0.0006 (0.06%)\n",
      "Componente 363: 0.0006 (0.06%)\n",
      "Componente 364: 0.0006 (0.06%)\n",
      "Componente 365: 0.0006 (0.06%)\n",
      "Componente 366: 0.0006 (0.06%)\n",
      "Componente 367: 0.0006 (0.06%)\n",
      "Componente 368: 0.0006 (0.06%)\n",
      "Componente 369: 0.0006 (0.06%)\n",
      "Componente 370: 0.0006 (0.06%)\n",
      "Componente 371: 0.0006 (0.06%)\n",
      "Componente 372: 0.0006 (0.06%)\n",
      "Componente 373: 0.0006 (0.06%)\n",
      "Componente 374: 0.0006 (0.06%)\n",
      "Componente 375: 0.0006 (0.06%)\n",
      "Componente 376: 0.0006 (0.06%)\n",
      "Componente 377: 0.0006 (0.06%)\n",
      "Componente 378: 0.0006 (0.06%)\n",
      "Componente 379: 0.0006 (0.06%)\n",
      "Componente 380: 0.0006 (0.06%)\n",
      "Componente 381: 0.0006 (0.06%)\n",
      "Componente 382: 0.0006 (0.06%)\n",
      "Componente 383: 0.0006 (0.06%)\n",
      "Componente 384: 0.0006 (0.06%)\n",
      "Componente 385: 0.0006 (0.06%)\n",
      "Componente 386: 0.0006 (0.06%)\n",
      "Componente 387: 0.0006 (0.06%)\n",
      "Componente 388: 0.0006 (0.06%)\n",
      "Componente 389: 0.0006 (0.06%)\n",
      "Componente 390: 0.0006 (0.06%)\n",
      "Componente 391: 0.0006 (0.06%)\n",
      "Componente 392: 0.0006 (0.06%)\n",
      "Componente 393: 0.0006 (0.06%)\n",
      "Componente 394: 0.0006 (0.06%)\n",
      "Componente 395: 0.0006 (0.06%)\n",
      "Componente 396: 0.0006 (0.06%)\n",
      "Componente 397: 0.0006 (0.06%)\n",
      "Componente 398: 0.0006 (0.06%)\n",
      "Componente 399: 0.0006 (0.06%)\n",
      "Componente 400: 0.0006 (0.06%)\n",
      "Componente 401: 0.0006 (0.06%)\n",
      "Componente 402: 0.0006 (0.06%)\n",
      "Componente 403: 0.0006 (0.06%)\n",
      "Componente 404: 0.0006 (0.06%)\n",
      "Componente 405: 0.0006 (0.06%)\n",
      "Componente 406: 0.0006 (0.06%)\n",
      "Componente 407: 0.0006 (0.06%)\n",
      "Componente 408: 0.0006 (0.06%)\n",
      "Componente 409: 0.0006 (0.06%)\n",
      "Componente 410: 0.0006 (0.06%)\n",
      "Componente 411: 0.0006 (0.06%)\n",
      "Componente 412: 0.0006 (0.06%)\n",
      "Componente 413: 0.0006 (0.06%)\n",
      "Componente 414: 0.0006 (0.06%)\n",
      "Componente 415: 0.0006 (0.06%)\n",
      "Componente 416: 0.0006 (0.06%)\n",
      "Componente 417: 0.0006 (0.06%)\n",
      "Componente 418: 0.0006 (0.06%)\n",
      "Componente 419: 0.0006 (0.06%)\n",
      "Componente 420: 0.0006 (0.06%)\n",
      "Componente 421: 0.0006 (0.06%)\n",
      "Componente 422: 0.0006 (0.06%)\n",
      "Componente 423: 0.0006 (0.06%)\n",
      "Componente 424: 0.0006 (0.06%)\n",
      "Componente 425: 0.0006 (0.06%)\n",
      "Componente 426: 0.0006 (0.06%)\n",
      "Componente 427: 0.0006 (0.06%)\n",
      "Componente 428: 0.0006 (0.06%)\n",
      "Componente 429: 0.0006 (0.06%)\n",
      "Componente 430: 0.0006 (0.06%)\n",
      "Componente 431: 0.0006 (0.06%)\n",
      "Componente 432: 0.0006 (0.06%)\n",
      "Componente 433: 0.0006 (0.06%)\n",
      "Componente 434: 0.0006 (0.06%)\n",
      "Componente 435: 0.0006 (0.06%)\n",
      "Componente 436: 0.0006 (0.06%)\n",
      "Componente 437: 0.0006 (0.06%)\n",
      "Componente 438: 0.0005 (0.05%)\n",
      "Componente 439: 0.0005 (0.05%)\n",
      "Componente 440: 0.0005 (0.05%)\n",
      "Componente 441: 0.0005 (0.05%)\n",
      "Componente 442: 0.0005 (0.05%)\n",
      "Componente 443: 0.0005 (0.05%)\n",
      "Componente 444: 0.0005 (0.05%)\n",
      "Componente 445: 0.0005 (0.05%)\n",
      "Componente 446: 0.0005 (0.05%)\n",
      "Componente 447: 0.0005 (0.05%)\n",
      "Componente 448: 0.0005 (0.05%)\n",
      "Componente 449: 0.0005 (0.05%)\n",
      "Componente 450: 0.0005 (0.05%)\n",
      "Componente 451: 0.0005 (0.05%)\n",
      "Componente 452: 0.0005 (0.05%)\n",
      "Componente 453: 0.0005 (0.05%)\n",
      "Componente 454: 0.0005 (0.05%)\n",
      "Componente 455: 0.0005 (0.05%)\n",
      "Componente 456: 0.0005 (0.05%)\n",
      "Componente 457: 0.0005 (0.05%)\n",
      "Componente 458: 0.0005 (0.05%)\n",
      "Componente 459: 0.0005 (0.05%)\n",
      "Componente 460: 0.0005 (0.05%)\n",
      "Componente 461: 0.0005 (0.05%)\n",
      "Componente 462: 0.0005 (0.05%)\n",
      "Componente 463: 0.0005 (0.05%)\n",
      "Componente 464: 0.0005 (0.05%)\n",
      "Componente 465: 0.0005 (0.05%)\n",
      "Componente 466: 0.0005 (0.05%)\n",
      "Componente 467: 0.0005 (0.05%)\n",
      "Componente 468: 0.0005 (0.05%)\n",
      "Componente 469: 0.0005 (0.05%)\n",
      "Componente 470: 0.0005 (0.05%)\n",
      "Componente 471: 0.0005 (0.05%)\n",
      "Componente 472: 0.0005 (0.05%)\n",
      "Componente 473: 0.0005 (0.05%)\n",
      "Componente 474: 0.0005 (0.05%)\n",
      "Componente 475: 0.0005 (0.05%)\n",
      "Componente 476: 0.0005 (0.05%)\n",
      "Componente 477: 0.0005 (0.05%)\n",
      "Componente 478: 0.0005 (0.05%)\n",
      "Componente 479: 0.0005 (0.05%)\n",
      "Componente 480: 0.0005 (0.05%)\n",
      "Componente 481: 0.0005 (0.05%)\n",
      "Componente 482: 0.0005 (0.05%)\n",
      "Componente 483: 0.0005 (0.05%)\n",
      "Componente 484: 0.0005 (0.05%)\n",
      "Componente 485: 0.0005 (0.05%)\n",
      "Componente 486: 0.0005 (0.05%)\n",
      "Componente 487: 0.0005 (0.05%)\n",
      "Componente 488: 0.0005 (0.05%)\n",
      "Componente 489: 0.0005 (0.05%)\n",
      "Componente 490: 0.0005 (0.05%)\n",
      "Componente 491: 0.0005 (0.05%)\n",
      "Componente 492: 0.0005 (0.05%)\n",
      "Componente 493: 0.0005 (0.05%)\n",
      "Componente 494: 0.0005 (0.05%)\n",
      "Componente 495: 0.0005 (0.05%)\n",
      "Componente 496: 0.0005 (0.05%)\n",
      "Componente 497: 0.0005 (0.05%)\n",
      "Componente 498: 0.0005 (0.05%)\n",
      "Componente 499: 0.0005 (0.05%)\n",
      "Componente 500: 0.0005 (0.05%)\n",
      "Componente 501: 0.0005 (0.05%)\n",
      "Componente 502: 0.0005 (0.05%)\n",
      "Componente 503: 0.0005 (0.05%)\n",
      "Componente 504: 0.0005 (0.05%)\n",
      "Componente 505: 0.0005 (0.05%)\n",
      "Componente 506: 0.0005 (0.05%)\n",
      "Componente 507: 0.0005 (0.05%)\n",
      "Componente 508: 0.0005 (0.05%)\n",
      "Componente 509: 0.0005 (0.05%)\n",
      "Componente 510: 0.0005 (0.05%)\n",
      "Componente 511: 0.0005 (0.05%)\n",
      "Componente 512: 0.0005 (0.05%)\n",
      "Componente 513: 0.0005 (0.05%)\n",
      "Componente 514: 0.0005 (0.05%)\n",
      "Componente 515: 0.0005 (0.05%)\n",
      "Componente 516: 0.0005 (0.05%)\n",
      "Componente 517: 0.0005 (0.05%)\n",
      "Componente 518: 0.0005 (0.05%)\n",
      "Componente 519: 0.0005 (0.05%)\n",
      "Componente 520: 0.0005 (0.05%)\n",
      "Componente 521: 0.0005 (0.05%)\n",
      "Componente 522: 0.0005 (0.05%)\n",
      "Componente 523: 0.0005 (0.05%)\n",
      "Componente 524: 0.0005 (0.05%)\n",
      "Componente 525: 0.0005 (0.05%)\n",
      "Componente 526: 0.0005 (0.05%)\n",
      "Componente 527: 0.0005 (0.05%)\n",
      "Componente 528: 0.0005 (0.05%)\n",
      "Componente 529: 0.0005 (0.05%)\n",
      "Componente 530: 0.0005 (0.05%)\n",
      "Componente 531: 0.0005 (0.05%)\n",
      "Componente 532: 0.0005 (0.05%)\n",
      "Componente 533: 0.0005 (0.05%)\n",
      "Componente 534: 0.0005 (0.05%)\n",
      "Componente 535: 0.0005 (0.05%)\n",
      "Componente 536: 0.0005 (0.05%)\n",
      "Componente 537: 0.0005 (0.05%)\n",
      "Componente 538: 0.0005 (0.05%)\n",
      "Componente 539: 0.0005 (0.05%)\n",
      "Componente 540: 0.0005 (0.05%)\n",
      "Componente 541: 0.0005 (0.05%)\n",
      "Componente 542: 0.0005 (0.05%)\n",
      "Componente 543: 0.0005 (0.05%)\n",
      "Componente 544: 0.0005 (0.05%)\n",
      "Componente 545: 0.0005 (0.05%)\n",
      "Componente 546: 0.0005 (0.05%)\n",
      "Componente 547: 0.0005 (0.05%)\n",
      "Componente 548: 0.0005 (0.05%)\n",
      "Componente 549: 0.0005 (0.05%)\n",
      "Componente 550: 0.0005 (0.05%)\n",
      "Componente 551: 0.0005 (0.05%)\n",
      "Componente 552: 0.0005 (0.05%)\n",
      "Componente 553: 0.0005 (0.05%)\n",
      "Componente 554: 0.0005 (0.05%)\n",
      "Componente 555: 0.0005 (0.05%)\n",
      "Componente 556: 0.0005 (0.05%)\n",
      "Componente 557: 0.0005 (0.05%)\n",
      "Componente 558: 0.0005 (0.05%)\n",
      "Componente 559: 0.0005 (0.05%)\n",
      "Componente 560: 0.0005 (0.05%)\n",
      "Componente 561: 0.0005 (0.05%)\n",
      "Componente 562: 0.0005 (0.05%)\n",
      "Componente 563: 0.0005 (0.05%)\n",
      "Componente 564: 0.0005 (0.05%)\n",
      "Componente 565: 0.0005 (0.05%)\n",
      "Componente 566: 0.0005 (0.05%)\n",
      "Componente 567: 0.0005 (0.05%)\n",
      "Componente 568: 0.0005 (0.05%)\n",
      "Componente 569: 0.0005 (0.05%)\n",
      "Componente 570: 0.0005 (0.05%)\n",
      "Componente 571: 0.0005 (0.05%)\n",
      "Componente 572: 0.0005 (0.05%)\n",
      "Componente 573: 0.0005 (0.05%)\n",
      "Componente 574: 0.0005 (0.05%)\n",
      "Componente 575: 0.0005 (0.05%)\n",
      "Componente 576: 0.0005 (0.05%)\n",
      "Componente 577: 0.0005 (0.05%)\n",
      "Componente 578: 0.0004 (0.04%)\n",
      "Componente 579: 0.0004 (0.04%)\n",
      "Componente 580: 0.0004 (0.04%)\n",
      "Componente 581: 0.0004 (0.04%)\n",
      "Componente 582: 0.0004 (0.04%)\n",
      "Componente 583: 0.0004 (0.04%)\n",
      "Componente 584: 0.0004 (0.04%)\n",
      "Componente 585: 0.0004 (0.04%)\n",
      "Componente 586: 0.0004 (0.04%)\n",
      "Componente 587: 0.0004 (0.04%)\n",
      "Componente 588: 0.0004 (0.04%)\n",
      "Componente 589: 0.0004 (0.04%)\n",
      "Componente 590: 0.0004 (0.04%)\n",
      "Componente 591: 0.0004 (0.04%)\n",
      "Componente 592: 0.0004 (0.04%)\n",
      "Componente 593: 0.0004 (0.04%)\n",
      "Componente 594: 0.0004 (0.04%)\n",
      "Componente 595: 0.0004 (0.04%)\n",
      "Componente 596: 0.0004 (0.04%)\n",
      "Componente 597: 0.0004 (0.04%)\n",
      "Componente 598: 0.0004 (0.04%)\n",
      "Componente 599: 0.0004 (0.04%)\n",
      "Componente 600: 0.0004 (0.04%)\n",
      "Componente 601: 0.0004 (0.04%)\n",
      "Componente 602: 0.0004 (0.04%)\n",
      "Componente 603: 0.0004 (0.04%)\n",
      "Componente 604: 0.0004 (0.04%)\n",
      "Componente 605: 0.0004 (0.04%)\n",
      "Componente 606: 0.0004 (0.04%)\n",
      "Componente 607: 0.0004 (0.04%)\n",
      "Componente 608: 0.0004 (0.04%)\n",
      "Componente 609: 0.0004 (0.04%)\n",
      "Componente 610: 0.0004 (0.04%)\n",
      "Componente 611: 0.0004 (0.04%)\n",
      "Componente 612: 0.0004 (0.04%)\n",
      "Componente 613: 0.0004 (0.04%)\n",
      "Componente 614: 0.0004 (0.04%)\n",
      "Componente 615: 0.0004 (0.04%)\n",
      "Componente 616: 0.0004 (0.04%)\n",
      "Componente 617: 0.0004 (0.04%)\n",
      "Componente 618: 0.0004 (0.04%)\n",
      "Componente 619: 0.0004 (0.04%)\n",
      "Componente 620: 0.0004 (0.04%)\n",
      "Componente 621: 0.0004 (0.04%)\n",
      "Componente 622: 0.0004 (0.04%)\n",
      "Componente 623: 0.0004 (0.04%)\n",
      "Componente 624: 0.0004 (0.04%)\n",
      "Componente 625: 0.0004 (0.04%)\n",
      "Componente 626: 0.0004 (0.04%)\n",
      "Componente 627: 0.0004 (0.04%)\n",
      "Componente 628: 0.0004 (0.04%)\n",
      "Componente 629: 0.0004 (0.04%)\n",
      "Componente 630: 0.0004 (0.04%)\n",
      "Componente 631: 0.0004 (0.04%)\n",
      "Componente 632: 0.0004 (0.04%)\n",
      "Componente 633: 0.0004 (0.04%)\n",
      "Componente 634: 0.0004 (0.04%)\n",
      "Componente 635: 0.0004 (0.04%)\n",
      "Componente 636: 0.0004 (0.04%)\n",
      "Componente 637: 0.0004 (0.04%)\n",
      "Componente 638: 0.0004 (0.04%)\n",
      "Componente 639: 0.0004 (0.04%)\n",
      "Componente 640: 0.0004 (0.04%)\n",
      "Componente 641: 0.0004 (0.04%)\n",
      "Componente 642: 0.0004 (0.04%)\n",
      "Componente 643: 0.0004 (0.04%)\n",
      "Componente 644: 0.0004 (0.04%)\n",
      "Componente 645: 0.0004 (0.04%)\n",
      "Componente 646: 0.0004 (0.04%)\n",
      "Componente 647: 0.0004 (0.04%)\n",
      "Componente 648: 0.0004 (0.04%)\n",
      "Componente 649: 0.0004 (0.04%)\n",
      "Componente 650: 0.0004 (0.04%)\n",
      "Componente 651: 0.0004 (0.04%)\n",
      "Componente 652: 0.0004 (0.04%)\n",
      "Componente 653: 0.0004 (0.04%)\n",
      "Componente 654: 0.0004 (0.04%)\n",
      "Componente 655: 0.0004 (0.04%)\n",
      "Componente 656: 0.0004 (0.04%)\n",
      "Componente 657: 0.0004 (0.04%)\n",
      "Componente 658: 0.0004 (0.04%)\n",
      "Componente 659: 0.0004 (0.04%)\n",
      "Componente 660: 0.0004 (0.04%)\n",
      "Componente 661: 0.0004 (0.04%)\n",
      "Componente 662: 0.0004 (0.04%)\n",
      "Componente 663: 0.0004 (0.04%)\n",
      "Componente 664: 0.0004 (0.04%)\n",
      "Componente 665: 0.0004 (0.04%)\n",
      "Componente 666: 0.0004 (0.04%)\n",
      "Componente 667: 0.0004 (0.04%)\n",
      "Componente 668: 0.0004 (0.04%)\n",
      "Componente 669: 0.0004 (0.04%)\n",
      "Componente 670: 0.0004 (0.04%)\n",
      "Componente 671: 0.0004 (0.04%)\n",
      "Componente 672: 0.0004 (0.04%)\n",
      "Componente 673: 0.0004 (0.04%)\n",
      "Componente 674: 0.0004 (0.04%)\n",
      "Componente 675: 0.0004 (0.04%)\n",
      "Componente 676: 0.0004 (0.04%)\n",
      "Componente 677: 0.0004 (0.04%)\n",
      "Componente 678: 0.0004 (0.04%)\n",
      "Componente 679: 0.0004 (0.04%)\n",
      "Componente 680: 0.0004 (0.04%)\n",
      "Componente 681: 0.0004 (0.04%)\n",
      "Componente 682: 0.0004 (0.04%)\n",
      "Componente 683: 0.0004 (0.04%)\n",
      "Componente 684: 0.0004 (0.04%)\n",
      "Componente 685: 0.0004 (0.04%)\n",
      "Componente 686: 0.0004 (0.04%)\n",
      "Componente 687: 0.0004 (0.04%)\n",
      "Componente 688: 0.0004 (0.04%)\n",
      "Componente 689: 0.0004 (0.04%)\n",
      "Componente 690: 0.0004 (0.04%)\n",
      "Componente 691: 0.0004 (0.04%)\n",
      "Componente 692: 0.0004 (0.04%)\n",
      "Componente 693: 0.0004 (0.04%)\n",
      "Componente 694: 0.0004 (0.04%)\n",
      "Componente 695: 0.0004 (0.04%)\n",
      "Componente 696: 0.0004 (0.04%)\n",
      "Componente 697: 0.0004 (0.04%)\n",
      "Componente 698: 0.0004 (0.04%)\n",
      "Componente 699: 0.0004 (0.04%)\n",
      "Componente 700: 0.0004 (0.04%)\n",
      "Componente 701: 0.0004 (0.04%)\n",
      "Componente 702: 0.0004 (0.04%)\n",
      "Componente 703: 0.0004 (0.04%)\n",
      "Componente 704: 0.0004 (0.04%)\n",
      "Componente 705: 0.0004 (0.04%)\n",
      "Componente 706: 0.0004 (0.04%)\n",
      "Componente 707: 0.0004 (0.04%)\n",
      "Componente 708: 0.0004 (0.04%)\n",
      "Componente 709: 0.0004 (0.04%)\n",
      "Componente 710: 0.0004 (0.04%)\n",
      "Componente 711: 0.0004 (0.04%)\n",
      "Componente 712: 0.0004 (0.04%)\n",
      "Componente 713: 0.0004 (0.04%)\n",
      "Componente 714: 0.0004 (0.04%)\n",
      "Componente 715: 0.0004 (0.04%)\n",
      "Componente 716: 0.0004 (0.04%)\n",
      "Componente 717: 0.0004 (0.04%)\n",
      "Componente 718: 0.0004 (0.04%)\n",
      "Componente 719: 0.0004 (0.04%)\n",
      "Componente 720: 0.0004 (0.04%)\n",
      "Componente 721: 0.0004 (0.04%)\n",
      "Componente 722: 0.0004 (0.04%)\n",
      "Componente 723: 0.0004 (0.04%)\n",
      "Componente 724: 0.0004 (0.04%)\n",
      "Componente 725: 0.0004 (0.04%)\n",
      "Componente 726: 0.0004 (0.04%)\n",
      "Componente 727: 0.0004 (0.04%)\n",
      "Componente 728: 0.0004 (0.04%)\n",
      "Componente 729: 0.0004 (0.04%)\n",
      "Componente 730: 0.0004 (0.04%)\n",
      "Componente 731: 0.0004 (0.04%)\n",
      "Componente 732: 0.0004 (0.04%)\n",
      "Componente 733: 0.0004 (0.04%)\n",
      "Componente 734: 0.0004 (0.04%)\n",
      "Componente 735: 0.0004 (0.04%)\n",
      "Componente 736: 0.0004 (0.04%)\n",
      "Componente 737: 0.0004 (0.04%)\n",
      "Componente 738: 0.0004 (0.04%)\n",
      "Componente 739: 0.0004 (0.04%)\n",
      "Componente 740: 0.0004 (0.04%)\n",
      "Componente 741: 0.0004 (0.04%)\n",
      "Componente 742: 0.0004 (0.04%)\n",
      "Componente 743: 0.0004 (0.04%)\n",
      "Componente 744: 0.0004 (0.04%)\n",
      "Componente 745: 0.0004 (0.04%)\n",
      "Componente 746: 0.0004 (0.04%)\n",
      "Componente 747: 0.0004 (0.04%)\n",
      "Componente 748: 0.0004 (0.04%)\n",
      "Componente 749: 0.0004 (0.04%)\n",
      "Componente 750: 0.0004 (0.04%)\n",
      "Componente 751: 0.0004 (0.04%)\n",
      "Componente 752: 0.0004 (0.04%)\n",
      "Componente 753: 0.0004 (0.04%)\n",
      "Componente 754: 0.0004 (0.04%)\n",
      "Componente 755: 0.0004 (0.04%)\n",
      "Componente 756: 0.0004 (0.04%)\n",
      "Componente 757: 0.0004 (0.04%)\n",
      "Componente 758: 0.0004 (0.04%)\n",
      "Componente 759: 0.0004 (0.04%)\n",
      "Componente 760: 0.0004 (0.04%)\n",
      "Componente 761: 0.0004 (0.04%)\n",
      "Componente 762: 0.0004 (0.04%)\n",
      "Componente 763: 0.0004 (0.04%)\n",
      "Componente 764: 0.0004 (0.04%)\n",
      "Componente 765: 0.0004 (0.04%)\n",
      "Componente 766: 0.0004 (0.04%)\n",
      "Componente 767: 0.0004 (0.04%)\n",
      "Componente 768: 0.0004 (0.04%)\n",
      "Componente 769: 0.0004 (0.04%)\n",
      "Componente 770: 0.0004 (0.04%)\n",
      "Componente 771: 0.0004 (0.04%)\n",
      "Componente 772: 0.0004 (0.04%)\n",
      "Componente 773: 0.0004 (0.04%)\n",
      "Componente 774: 0.0004 (0.04%)\n",
      "Componente 775: 0.0004 (0.04%)\n",
      "Componente 776: 0.0004 (0.04%)\n",
      "Componente 777: 0.0004 (0.04%)\n",
      "Componente 778: 0.0004 (0.04%)\n",
      "Componente 779: 0.0004 (0.04%)\n",
      "Componente 780: 0.0004 (0.04%)\n",
      "Componente 781: 0.0004 (0.04%)\n",
      "Componente 782: 0.0004 (0.04%)\n",
      "Componente 783: 0.0004 (0.04%)\n",
      "Componente 784: 0.0004 (0.04%)\n",
      "Componente 785: 0.0003 (0.03%)\n",
      "Componente 786: 0.0003 (0.03%)\n",
      "Componente 787: 0.0003 (0.03%)\n",
      "Componente 788: 0.0003 (0.03%)\n",
      "Componente 789: 0.0003 (0.03%)\n",
      "Componente 790: 0.0003 (0.03%)\n",
      "Componente 791: 0.0003 (0.03%)\n",
      "Componente 792: 0.0003 (0.03%)\n",
      "Componente 793: 0.0003 (0.03%)\n",
      "Componente 794: 0.0003 (0.03%)\n",
      "Componente 795: 0.0003 (0.03%)\n",
      "Componente 796: 0.0003 (0.03%)\n",
      "Componente 797: 0.0003 (0.03%)\n",
      "Componente 798: 0.0003 (0.03%)\n",
      "Componente 799: 0.0003 (0.03%)\n",
      "Componente 800: 0.0003 (0.03%)\n",
      "Componente 801: 0.0003 (0.03%)\n",
      "Componente 802: 0.0003 (0.03%)\n",
      "Componente 803: 0.0003 (0.03%)\n",
      "Componente 804: 0.0003 (0.03%)\n",
      "Componente 805: 0.0003 (0.03%)\n",
      "Componente 806: 0.0003 (0.03%)\n",
      "Componente 807: 0.0003 (0.03%)\n",
      "Componente 808: 0.0003 (0.03%)\n",
      "Componente 809: 0.0003 (0.03%)\n",
      "Componente 810: 0.0003 (0.03%)\n",
      "Componente 811: 0.0003 (0.03%)\n",
      "Componente 812: 0.0003 (0.03%)\n",
      "Componente 813: 0.0003 (0.03%)\n",
      "Componente 814: 0.0003 (0.03%)\n",
      "Componente 815: 0.0003 (0.03%)\n",
      "Componente 816: 0.0003 (0.03%)\n",
      "Componente 817: 0.0003 (0.03%)\n",
      "Componente 818: 0.0003 (0.03%)\n",
      "Componente 819: 0.0003 (0.03%)\n",
      "Componente 820: 0.0003 (0.03%)\n",
      "Componente 821: 0.0003 (0.03%)\n",
      "Componente 822: 0.0003 (0.03%)\n",
      "Componente 823: 0.0003 (0.03%)\n",
      "Componente 824: 0.0003 (0.03%)\n",
      "Componente 825: 0.0003 (0.03%)\n",
      "Componente 826: 0.0003 (0.03%)\n",
      "Componente 827: 0.0003 (0.03%)\n",
      "Componente 828: 0.0003 (0.03%)\n",
      "Componente 829: 0.0003 (0.03%)\n",
      "Componente 830: 0.0003 (0.03%)\n",
      "Componente 831: 0.0003 (0.03%)\n",
      "Componente 832: 0.0003 (0.03%)\n",
      "Componente 833: 0.0003 (0.03%)\n",
      "Componente 834: 0.0003 (0.03%)\n",
      "Componente 835: 0.0003 (0.03%)\n",
      "Componente 836: 0.0003 (0.03%)\n",
      "Componente 837: 0.0003 (0.03%)\n",
      "Componente 838: 0.0003 (0.03%)\n",
      "Componente 839: 0.0003 (0.03%)\n",
      "Componente 840: 0.0003 (0.03%)\n",
      "Componente 841: 0.0003 (0.03%)\n",
      "Componente 842: 0.0003 (0.03%)\n",
      "Componente 843: 0.0003 (0.03%)\n",
      "Componente 844: 0.0003 (0.03%)\n",
      "Componente 845: 0.0003 (0.03%)\n",
      "Componente 846: 0.0003 (0.03%)\n",
      "Componente 847: 0.0003 (0.03%)\n",
      "Componente 848: 0.0003 (0.03%)\n",
      "Componente 849: 0.0003 (0.03%)\n",
      "Componente 850: 0.0003 (0.03%)\n",
      "Componente 851: 0.0003 (0.03%)\n",
      "Componente 852: 0.0003 (0.03%)\n",
      "Componente 853: 0.0003 (0.03%)\n",
      "Componente 854: 0.0003 (0.03%)\n",
      "Componente 855: 0.0003 (0.03%)\n",
      "Componente 856: 0.0003 (0.03%)\n",
      "Componente 857: 0.0003 (0.03%)\n",
      "Componente 858: 0.0003 (0.03%)\n",
      "Componente 859: 0.0003 (0.03%)\n",
      "Componente 860: 0.0003 (0.03%)\n",
      "Componente 861: 0.0003 (0.03%)\n",
      "Componente 862: 0.0003 (0.03%)\n",
      "Componente 863: 0.0003 (0.03%)\n",
      "Componente 864: 0.0003 (0.03%)\n",
      "Componente 865: 0.0003 (0.03%)\n",
      "Componente 866: 0.0003 (0.03%)\n",
      "Componente 867: 0.0003 (0.03%)\n",
      "Componente 868: 0.0003 (0.03%)\n",
      "Componente 869: 0.0003 (0.03%)\n",
      "Componente 870: 0.0003 (0.03%)\n",
      "Componente 871: 0.0003 (0.03%)\n",
      "Componente 872: 0.0003 (0.03%)\n",
      "Componente 873: 0.0003 (0.03%)\n",
      "Componente 874: 0.0003 (0.03%)\n",
      "Componente 875: 0.0003 (0.03%)\n",
      "Componente 876: 0.0003 (0.03%)\n",
      "Componente 877: 0.0003 (0.03%)\n",
      "Componente 878: 0.0003 (0.03%)\n",
      "Componente 879: 0.0003 (0.03%)\n",
      "Componente 880: 0.0003 (0.03%)\n",
      "Componente 881: 0.0003 (0.03%)\n",
      "Componente 882: 0.0003 (0.03%)\n",
      "Componente 883: 0.0003 (0.03%)\n",
      "Componente 884: 0.0003 (0.03%)\n",
      "Componente 885: 0.0003 (0.03%)\n",
      "Componente 886: 0.0003 (0.03%)\n",
      "Componente 887: 0.0003 (0.03%)\n",
      "Componente 888: 0.0003 (0.03%)\n",
      "Componente 889: 0.0003 (0.03%)\n",
      "Componente 890: 0.0003 (0.03%)\n",
      "Componente 891: 0.0003 (0.03%)\n",
      "Componente 892: 0.0003 (0.03%)\n",
      "Componente 893: 0.0003 (0.03%)\n",
      "Componente 894: 0.0003 (0.03%)\n",
      "Componente 895: 0.0003 (0.03%)\n",
      "Componente 896: 0.0003 (0.03%)\n",
      "Componente 897: 0.0003 (0.03%)\n",
      "Componente 898: 0.0003 (0.03%)\n"
     ]
    }
   ],
   "source": [
    "n_comp = np.argmax(cumulative_variance_ratio >= 0.7) + 1\n",
    "print(f\"Número de componentes seleccionados: {n_comp}\")\n",
    "print(f\"Varianza explicada con {n_comp} componentes: \"\n",
    "      f\"{cumulative_variance_ratio[n_comp-1]:.4f}\")\n",
    "\n",
    "# Display variance explained by each component\n",
    "print(\"\\nVarianza explicada por cada componente:\")\n",
    "for i, var in enumerate(svd.explained_variance_ratio_[:n_comp]):\n",
    "    print(f\"Componente {i+1}: {var:.4f} ({var*100:.2f}%)\")"
   ]
  },
  {
   "cell_type": "markdown",
   "metadata": {},
   "source": [
    "Y despues el de Kaggle."
   ]
  },
  {
   "cell_type": "code",
   "execution_count": 130,
   "metadata": {
    "scrolled": true
   },
   "outputs": [
    {
     "name": "stdout",
     "output_type": "stream",
     "text": [
      "Número de componentes seleccionados: 1063\n",
      "Varianza explicada con 1063 componentes: 0.7000\n",
      "\n",
      "Varianza explicada por cada componente:\n",
      "Componente 1: 0.0022 (0.22%)\n",
      "Componente 2: 0.0061 (0.61%)\n",
      "Componente 3: 0.0059 (0.59%)\n",
      "Componente 4: 0.0048 (0.48%)\n",
      "Componente 5: 0.0044 (0.44%)\n",
      "Componente 6: 0.0043 (0.43%)\n",
      "Componente 7: 0.0041 (0.41%)\n",
      "Componente 8: 0.0038 (0.38%)\n",
      "Componente 9: 0.0036 (0.36%)\n",
      "Componente 10: 0.0035 (0.35%)\n",
      "Componente 11: 0.0034 (0.34%)\n",
      "Componente 12: 0.0033 (0.33%)\n",
      "Componente 13: 0.0032 (0.32%)\n",
      "Componente 14: 0.0031 (0.31%)\n",
      "Componente 15: 0.0030 (0.30%)\n",
      "Componente 16: 0.0029 (0.29%)\n",
      "Componente 17: 0.0028 (0.28%)\n",
      "Componente 18: 0.0028 (0.28%)\n",
      "Componente 19: 0.0028 (0.28%)\n",
      "Componente 20: 0.0027 (0.27%)\n",
      "Componente 21: 0.0027 (0.27%)\n",
      "Componente 22: 0.0026 (0.26%)\n",
      "Componente 23: 0.0026 (0.26%)\n",
      "Componente 24: 0.0026 (0.26%)\n",
      "Componente 25: 0.0025 (0.25%)\n",
      "Componente 26: 0.0025 (0.25%)\n",
      "Componente 27: 0.0024 (0.24%)\n",
      "Componente 28: 0.0024 (0.24%)\n",
      "Componente 29: 0.0024 (0.24%)\n",
      "Componente 30: 0.0024 (0.24%)\n",
      "Componente 31: 0.0023 (0.23%)\n",
      "Componente 32: 0.0023 (0.23%)\n",
      "Componente 33: 0.0023 (0.23%)\n",
      "Componente 34: 0.0022 (0.22%)\n",
      "Componente 35: 0.0022 (0.22%)\n",
      "Componente 36: 0.0022 (0.22%)\n",
      "Componente 37: 0.0022 (0.22%)\n",
      "Componente 38: 0.0021 (0.21%)\n",
      "Componente 39: 0.0021 (0.21%)\n",
      "Componente 40: 0.0021 (0.21%)\n",
      "Componente 41: 0.0021 (0.21%)\n",
      "Componente 42: 0.0020 (0.20%)\n",
      "Componente 43: 0.0020 (0.20%)\n",
      "Componente 44: 0.0020 (0.20%)\n",
      "Componente 45: 0.0020 (0.20%)\n",
      "Componente 46: 0.0019 (0.19%)\n",
      "Componente 47: 0.0019 (0.19%)\n",
      "Componente 48: 0.0019 (0.19%)\n",
      "Componente 49: 0.0019 (0.19%)\n",
      "Componente 50: 0.0019 (0.19%)\n",
      "Componente 51: 0.0018 (0.18%)\n",
      "Componente 52: 0.0018 (0.18%)\n",
      "Componente 53: 0.0018 (0.18%)\n",
      "Componente 54: 0.0018 (0.18%)\n",
      "Componente 55: 0.0018 (0.18%)\n",
      "Componente 56: 0.0018 (0.18%)\n",
      "Componente 57: 0.0017 (0.17%)\n",
      "Componente 58: 0.0017 (0.17%)\n",
      "Componente 59: 0.0017 (0.17%)\n",
      "Componente 60: 0.0017 (0.17%)\n",
      "Componente 61: 0.0017 (0.17%)\n",
      "Componente 62: 0.0017 (0.17%)\n",
      "Componente 63: 0.0017 (0.17%)\n",
      "Componente 64: 0.0017 (0.17%)\n",
      "Componente 65: 0.0017 (0.17%)\n",
      "Componente 66: 0.0016 (0.16%)\n",
      "Componente 67: 0.0016 (0.16%)\n",
      "Componente 68: 0.0016 (0.16%)\n",
      "Componente 69: 0.0016 (0.16%)\n",
      "Componente 70: 0.0016 (0.16%)\n",
      "Componente 71: 0.0016 (0.16%)\n",
      "Componente 72: 0.0016 (0.16%)\n",
      "Componente 73: 0.0015 (0.15%)\n",
      "Componente 74: 0.0015 (0.15%)\n",
      "Componente 75: 0.0015 (0.15%)\n",
      "Componente 76: 0.0015 (0.15%)\n",
      "Componente 77: 0.0015 (0.15%)\n",
      "Componente 78: 0.0015 (0.15%)\n",
      "Componente 79: 0.0015 (0.15%)\n",
      "Componente 80: 0.0015 (0.15%)\n",
      "Componente 81: 0.0015 (0.15%)\n",
      "Componente 82: 0.0015 (0.15%)\n",
      "Componente 83: 0.0014 (0.14%)\n",
      "Componente 84: 0.0014 (0.14%)\n",
      "Componente 85: 0.0014 (0.14%)\n",
      "Componente 86: 0.0014 (0.14%)\n",
      "Componente 87: 0.0014 (0.14%)\n",
      "Componente 88: 0.0014 (0.14%)\n",
      "Componente 89: 0.0014 (0.14%)\n",
      "Componente 90: 0.0014 (0.14%)\n",
      "Componente 91: 0.0014 (0.14%)\n",
      "Componente 92: 0.0014 (0.14%)\n",
      "Componente 93: 0.0013 (0.13%)\n",
      "Componente 94: 0.0013 (0.13%)\n",
      "Componente 95: 0.0013 (0.13%)\n",
      "Componente 96: 0.0013 (0.13%)\n",
      "Componente 97: 0.0013 (0.13%)\n",
      "Componente 98: 0.0013 (0.13%)\n",
      "Componente 99: 0.0013 (0.13%)\n",
      "Componente 100: 0.0013 (0.13%)\n",
      "Componente 101: 0.0013 (0.13%)\n",
      "Componente 102: 0.0013 (0.13%)\n",
      "Componente 103: 0.0013 (0.13%)\n",
      "Componente 104: 0.0013 (0.13%)\n",
      "Componente 105: 0.0013 (0.13%)\n",
      "Componente 106: 0.0013 (0.13%)\n",
      "Componente 107: 0.0012 (0.12%)\n",
      "Componente 108: 0.0012 (0.12%)\n",
      "Componente 109: 0.0012 (0.12%)\n",
      "Componente 110: 0.0012 (0.12%)\n",
      "Componente 111: 0.0012 (0.12%)\n",
      "Componente 112: 0.0012 (0.12%)\n",
      "Componente 113: 0.0012 (0.12%)\n",
      "Componente 114: 0.0012 (0.12%)\n",
      "Componente 115: 0.0012 (0.12%)\n",
      "Componente 116: 0.0012 (0.12%)\n",
      "Componente 117: 0.0012 (0.12%)\n",
      "Componente 118: 0.0012 (0.12%)\n",
      "Componente 119: 0.0012 (0.12%)\n",
      "Componente 120: 0.0012 (0.12%)\n",
      "Componente 121: 0.0012 (0.12%)\n",
      "Componente 122: 0.0012 (0.12%)\n",
      "Componente 123: 0.0011 (0.11%)\n",
      "Componente 124: 0.0011 (0.11%)\n",
      "Componente 125: 0.0011 (0.11%)\n",
      "Componente 126: 0.0011 (0.11%)\n",
      "Componente 127: 0.0011 (0.11%)\n",
      "Componente 128: 0.0011 (0.11%)\n",
      "Componente 129: 0.0011 (0.11%)\n",
      "Componente 130: 0.0011 (0.11%)\n",
      "Componente 131: 0.0011 (0.11%)\n",
      "Componente 132: 0.0011 (0.11%)\n",
      "Componente 133: 0.0011 (0.11%)\n",
      "Componente 134: 0.0011 (0.11%)\n",
      "Componente 135: 0.0011 (0.11%)\n",
      "Componente 136: 0.0011 (0.11%)\n",
      "Componente 137: 0.0011 (0.11%)\n",
      "Componente 138: 0.0011 (0.11%)\n",
      "Componente 139: 0.0011 (0.11%)\n",
      "Componente 140: 0.0011 (0.11%)\n",
      "Componente 141: 0.0011 (0.11%)\n",
      "Componente 142: 0.0011 (0.11%)\n",
      "Componente 143: 0.0011 (0.11%)\n",
      "Componente 144: 0.0010 (0.10%)\n",
      "Componente 145: 0.0010 (0.10%)\n",
      "Componente 146: 0.0010 (0.10%)\n",
      "Componente 147: 0.0010 (0.10%)\n",
      "Componente 148: 0.0010 (0.10%)\n",
      "Componente 149: 0.0010 (0.10%)\n",
      "Componente 150: 0.0010 (0.10%)\n",
      "Componente 151: 0.0010 (0.10%)\n",
      "Componente 152: 0.0010 (0.10%)\n",
      "Componente 153: 0.0010 (0.10%)\n",
      "Componente 154: 0.0010 (0.10%)\n",
      "Componente 155: 0.0010 (0.10%)\n",
      "Componente 156: 0.0010 (0.10%)\n",
      "Componente 157: 0.0010 (0.10%)\n",
      "Componente 158: 0.0010 (0.10%)\n",
      "Componente 159: 0.0010 (0.10%)\n",
      "Componente 160: 0.0010 (0.10%)\n",
      "Componente 161: 0.0010 (0.10%)\n",
      "Componente 162: 0.0010 (0.10%)\n",
      "Componente 163: 0.0010 (0.10%)\n",
      "Componente 164: 0.0010 (0.10%)\n",
      "Componente 165: 0.0010 (0.10%)\n",
      "Componente 166: 0.0010 (0.10%)\n",
      "Componente 167: 0.0010 (0.10%)\n",
      "Componente 168: 0.0010 (0.10%)\n",
      "Componente 169: 0.0010 (0.10%)\n",
      "Componente 170: 0.0010 (0.10%)\n",
      "Componente 171: 0.0010 (0.10%)\n",
      "Componente 172: 0.0010 (0.10%)\n",
      "Componente 173: 0.0009 (0.09%)\n",
      "Componente 174: 0.0009 (0.09%)\n",
      "Componente 175: 0.0009 (0.09%)\n",
      "Componente 176: 0.0009 (0.09%)\n",
      "Componente 177: 0.0009 (0.09%)\n",
      "Componente 178: 0.0009 (0.09%)\n",
      "Componente 179: 0.0009 (0.09%)\n",
      "Componente 180: 0.0009 (0.09%)\n",
      "Componente 181: 0.0009 (0.09%)\n",
      "Componente 182: 0.0009 (0.09%)\n",
      "Componente 183: 0.0009 (0.09%)\n",
      "Componente 184: 0.0009 (0.09%)\n",
      "Componente 185: 0.0009 (0.09%)\n",
      "Componente 186: 0.0009 (0.09%)\n",
      "Componente 187: 0.0009 (0.09%)\n",
      "Componente 188: 0.0009 (0.09%)\n",
      "Componente 189: 0.0009 (0.09%)\n",
      "Componente 190: 0.0009 (0.09%)\n",
      "Componente 191: 0.0009 (0.09%)\n",
      "Componente 192: 0.0009 (0.09%)\n",
      "Componente 193: 0.0009 (0.09%)\n",
      "Componente 194: 0.0009 (0.09%)\n",
      "Componente 195: 0.0009 (0.09%)\n",
      "Componente 196: 0.0009 (0.09%)\n",
      "Componente 197: 0.0009 (0.09%)\n",
      "Componente 198: 0.0009 (0.09%)\n",
      "Componente 199: 0.0009 (0.09%)\n",
      "Componente 200: 0.0009 (0.09%)\n",
      "Componente 201: 0.0009 (0.09%)\n",
      "Componente 202: 0.0009 (0.09%)\n",
      "Componente 203: 0.0009 (0.09%)\n",
      "Componente 204: 0.0009 (0.09%)\n",
      "Componente 205: 0.0009 (0.09%)\n",
      "Componente 206: 0.0009 (0.09%)\n",
      "Componente 207: 0.0009 (0.09%)\n",
      "Componente 208: 0.0008 (0.08%)\n",
      "Componente 209: 0.0008 (0.08%)\n",
      "Componente 210: 0.0008 (0.08%)\n",
      "Componente 211: 0.0008 (0.08%)\n",
      "Componente 212: 0.0008 (0.08%)\n",
      "Componente 213: 0.0008 (0.08%)\n",
      "Componente 214: 0.0008 (0.08%)\n",
      "Componente 215: 0.0008 (0.08%)\n",
      "Componente 216: 0.0008 (0.08%)\n",
      "Componente 217: 0.0008 (0.08%)\n",
      "Componente 218: 0.0008 (0.08%)\n",
      "Componente 219: 0.0008 (0.08%)\n",
      "Componente 220: 0.0008 (0.08%)\n",
      "Componente 221: 0.0008 (0.08%)\n",
      "Componente 222: 0.0008 (0.08%)\n",
      "Componente 223: 0.0008 (0.08%)\n",
      "Componente 224: 0.0008 (0.08%)\n",
      "Componente 225: 0.0008 (0.08%)\n",
      "Componente 226: 0.0008 (0.08%)\n",
      "Componente 227: 0.0008 (0.08%)\n",
      "Componente 228: 0.0008 (0.08%)\n",
      "Componente 229: 0.0008 (0.08%)\n",
      "Componente 230: 0.0008 (0.08%)\n",
      "Componente 231: 0.0008 (0.08%)\n",
      "Componente 232: 0.0008 (0.08%)\n",
      "Componente 233: 0.0008 (0.08%)\n",
      "Componente 234: 0.0008 (0.08%)\n",
      "Componente 235: 0.0008 (0.08%)\n",
      "Componente 236: 0.0008 (0.08%)\n",
      "Componente 237: 0.0008 (0.08%)\n",
      "Componente 238: 0.0008 (0.08%)\n",
      "Componente 239: 0.0008 (0.08%)\n",
      "Componente 240: 0.0008 (0.08%)\n",
      "Componente 241: 0.0008 (0.08%)\n",
      "Componente 242: 0.0008 (0.08%)\n",
      "Componente 243: 0.0008 (0.08%)\n",
      "Componente 244: 0.0008 (0.08%)\n",
      "Componente 245: 0.0008 (0.08%)\n",
      "Componente 246: 0.0008 (0.08%)\n",
      "Componente 247: 0.0008 (0.08%)\n",
      "Componente 248: 0.0008 (0.08%)\n",
      "Componente 249: 0.0008 (0.08%)\n",
      "Componente 250: 0.0007 (0.07%)\n",
      "Componente 251: 0.0007 (0.07%)\n",
      "Componente 252: 0.0007 (0.07%)\n",
      "Componente 253: 0.0007 (0.07%)\n",
      "Componente 254: 0.0007 (0.07%)\n",
      "Componente 255: 0.0007 (0.07%)\n",
      "Componente 256: 0.0007 (0.07%)\n",
      "Componente 257: 0.0007 (0.07%)\n",
      "Componente 258: 0.0007 (0.07%)\n",
      "Componente 259: 0.0007 (0.07%)\n",
      "Componente 260: 0.0007 (0.07%)\n",
      "Componente 261: 0.0007 (0.07%)\n",
      "Componente 262: 0.0007 (0.07%)\n",
      "Componente 263: 0.0007 (0.07%)\n",
      "Componente 264: 0.0007 (0.07%)\n",
      "Componente 265: 0.0007 (0.07%)\n",
      "Componente 266: 0.0007 (0.07%)\n",
      "Componente 267: 0.0007 (0.07%)\n",
      "Componente 268: 0.0007 (0.07%)\n",
      "Componente 269: 0.0007 (0.07%)\n",
      "Componente 270: 0.0007 (0.07%)\n",
      "Componente 271: 0.0007 (0.07%)\n",
      "Componente 272: 0.0007 (0.07%)\n",
      "Componente 273: 0.0007 (0.07%)\n",
      "Componente 274: 0.0007 (0.07%)\n",
      "Componente 275: 0.0007 (0.07%)\n",
      "Componente 276: 0.0007 (0.07%)\n",
      "Componente 277: 0.0007 (0.07%)\n",
      "Componente 278: 0.0007 (0.07%)\n",
      "Componente 279: 0.0007 (0.07%)\n",
      "Componente 280: 0.0007 (0.07%)\n",
      "Componente 281: 0.0007 (0.07%)\n",
      "Componente 282: 0.0007 (0.07%)\n",
      "Componente 283: 0.0007 (0.07%)\n",
      "Componente 284: 0.0007 (0.07%)\n",
      "Componente 285: 0.0007 (0.07%)\n",
      "Componente 286: 0.0007 (0.07%)\n",
      "Componente 287: 0.0007 (0.07%)\n",
      "Componente 288: 0.0007 (0.07%)\n",
      "Componente 289: 0.0007 (0.07%)\n",
      "Componente 290: 0.0007 (0.07%)\n",
      "Componente 291: 0.0007 (0.07%)\n",
      "Componente 292: 0.0007 (0.07%)\n",
      "Componente 293: 0.0007 (0.07%)\n",
      "Componente 294: 0.0007 (0.07%)\n",
      "Componente 295: 0.0007 (0.07%)\n",
      "Componente 296: 0.0007 (0.07%)\n",
      "Componente 297: 0.0007 (0.07%)\n",
      "Componente 298: 0.0007 (0.07%)\n",
      "Componente 299: 0.0007 (0.07%)\n",
      "Componente 300: 0.0007 (0.07%)\n",
      "Componente 301: 0.0007 (0.07%)\n",
      "Componente 302: 0.0007 (0.07%)\n",
      "Componente 303: 0.0007 (0.07%)\n",
      "Componente 304: 0.0007 (0.07%)\n",
      "Componente 305: 0.0007 (0.07%)\n",
      "Componente 306: 0.0007 (0.07%)\n",
      "Componente 307: 0.0006 (0.06%)\n",
      "Componente 308: 0.0006 (0.06%)\n",
      "Componente 309: 0.0006 (0.06%)\n",
      "Componente 310: 0.0006 (0.06%)\n",
      "Componente 311: 0.0006 (0.06%)\n",
      "Componente 312: 0.0006 (0.06%)\n",
      "Componente 313: 0.0006 (0.06%)\n",
      "Componente 314: 0.0006 (0.06%)\n",
      "Componente 315: 0.0006 (0.06%)\n",
      "Componente 316: 0.0006 (0.06%)\n",
      "Componente 317: 0.0006 (0.06%)\n",
      "Componente 318: 0.0006 (0.06%)\n",
      "Componente 319: 0.0006 (0.06%)\n",
      "Componente 320: 0.0006 (0.06%)\n",
      "Componente 321: 0.0006 (0.06%)\n",
      "Componente 322: 0.0006 (0.06%)\n",
      "Componente 323: 0.0006 (0.06%)\n",
      "Componente 324: 0.0006 (0.06%)\n",
      "Componente 325: 0.0006 (0.06%)\n",
      "Componente 326: 0.0006 (0.06%)\n",
      "Componente 327: 0.0006 (0.06%)\n",
      "Componente 328: 0.0006 (0.06%)\n",
      "Componente 329: 0.0006 (0.06%)\n",
      "Componente 330: 0.0006 (0.06%)\n",
      "Componente 331: 0.0006 (0.06%)\n",
      "Componente 332: 0.0006 (0.06%)\n",
      "Componente 333: 0.0006 (0.06%)\n",
      "Componente 334: 0.0006 (0.06%)\n",
      "Componente 335: 0.0006 (0.06%)\n",
      "Componente 336: 0.0006 (0.06%)\n",
      "Componente 337: 0.0006 (0.06%)\n",
      "Componente 338: 0.0006 (0.06%)\n",
      "Componente 339: 0.0006 (0.06%)\n",
      "Componente 340: 0.0006 (0.06%)\n",
      "Componente 341: 0.0006 (0.06%)\n",
      "Componente 342: 0.0006 (0.06%)\n",
      "Componente 343: 0.0006 (0.06%)\n",
      "Componente 344: 0.0006 (0.06%)\n",
      "Componente 345: 0.0006 (0.06%)\n",
      "Componente 346: 0.0006 (0.06%)\n",
      "Componente 347: 0.0006 (0.06%)\n",
      "Componente 348: 0.0006 (0.06%)\n",
      "Componente 349: 0.0006 (0.06%)\n",
      "Componente 350: 0.0006 (0.06%)\n",
      "Componente 351: 0.0006 (0.06%)\n",
      "Componente 352: 0.0006 (0.06%)\n",
      "Componente 353: 0.0006 (0.06%)\n",
      "Componente 354: 0.0006 (0.06%)\n",
      "Componente 355: 0.0006 (0.06%)\n",
      "Componente 356: 0.0006 (0.06%)\n",
      "Componente 357: 0.0006 (0.06%)\n",
      "Componente 358: 0.0006 (0.06%)\n",
      "Componente 359: 0.0006 (0.06%)\n",
      "Componente 360: 0.0006 (0.06%)\n",
      "Componente 361: 0.0006 (0.06%)\n",
      "Componente 362: 0.0006 (0.06%)\n",
      "Componente 363: 0.0006 (0.06%)\n",
      "Componente 364: 0.0006 (0.06%)\n",
      "Componente 365: 0.0006 (0.06%)\n",
      "Componente 366: 0.0006 (0.06%)\n",
      "Componente 367: 0.0006 (0.06%)\n",
      "Componente 368: 0.0006 (0.06%)\n",
      "Componente 369: 0.0006 (0.06%)\n",
      "Componente 370: 0.0006 (0.06%)\n",
      "Componente 371: 0.0006 (0.06%)\n",
      "Componente 372: 0.0006 (0.06%)\n",
      "Componente 373: 0.0006 (0.06%)\n",
      "Componente 374: 0.0006 (0.06%)\n",
      "Componente 375: 0.0006 (0.06%)\n",
      "Componente 376: 0.0006 (0.06%)\n",
      "Componente 377: 0.0006 (0.06%)\n",
      "Componente 378: 0.0006 (0.06%)\n",
      "Componente 379: 0.0006 (0.06%)\n",
      "Componente 380: 0.0006 (0.06%)\n",
      "Componente 381: 0.0006 (0.06%)\n",
      "Componente 382: 0.0006 (0.06%)\n",
      "Componente 383: 0.0006 (0.06%)\n",
      "Componente 384: 0.0006 (0.06%)\n",
      "Componente 385: 0.0006 (0.06%)\n",
      "Componente 386: 0.0006 (0.06%)\n",
      "Componente 387: 0.0006 (0.06%)\n",
      "Componente 388: 0.0006 (0.06%)\n",
      "Componente 389: 0.0006 (0.06%)\n",
      "Componente 390: 0.0006 (0.06%)\n",
      "Componente 391: 0.0006 (0.06%)\n",
      "Componente 392: 0.0006 (0.06%)\n",
      "Componente 393: 0.0006 (0.06%)\n",
      "Componente 394: 0.0006 (0.06%)\n",
      "Componente 395: 0.0006 (0.06%)\n",
      "Componente 396: 0.0005 (0.05%)\n",
      "Componente 397: 0.0005 (0.05%)\n",
      "Componente 398: 0.0005 (0.05%)\n",
      "Componente 399: 0.0005 (0.05%)\n",
      "Componente 400: 0.0005 (0.05%)\n",
      "Componente 401: 0.0005 (0.05%)\n",
      "Componente 402: 0.0005 (0.05%)\n",
      "Componente 403: 0.0005 (0.05%)\n",
      "Componente 404: 0.0005 (0.05%)\n",
      "Componente 405: 0.0005 (0.05%)\n",
      "Componente 406: 0.0005 (0.05%)\n",
      "Componente 407: 0.0005 (0.05%)\n",
      "Componente 408: 0.0005 (0.05%)\n",
      "Componente 409: 0.0005 (0.05%)\n",
      "Componente 410: 0.0005 (0.05%)\n",
      "Componente 411: 0.0005 (0.05%)\n",
      "Componente 412: 0.0005 (0.05%)\n",
      "Componente 413: 0.0005 (0.05%)\n",
      "Componente 414: 0.0005 (0.05%)\n",
      "Componente 415: 0.0005 (0.05%)\n",
      "Componente 416: 0.0005 (0.05%)\n",
      "Componente 417: 0.0005 (0.05%)\n",
      "Componente 418: 0.0005 (0.05%)\n",
      "Componente 419: 0.0005 (0.05%)\n",
      "Componente 420: 0.0005 (0.05%)\n",
      "Componente 421: 0.0005 (0.05%)\n",
      "Componente 422: 0.0005 (0.05%)\n",
      "Componente 423: 0.0005 (0.05%)\n",
      "Componente 424: 0.0005 (0.05%)\n",
      "Componente 425: 0.0005 (0.05%)\n",
      "Componente 426: 0.0005 (0.05%)\n",
      "Componente 427: 0.0005 (0.05%)\n",
      "Componente 428: 0.0005 (0.05%)\n",
      "Componente 429: 0.0005 (0.05%)\n",
      "Componente 430: 0.0005 (0.05%)\n",
      "Componente 431: 0.0005 (0.05%)\n",
      "Componente 432: 0.0005 (0.05%)\n",
      "Componente 433: 0.0005 (0.05%)\n",
      "Componente 434: 0.0005 (0.05%)\n",
      "Componente 435: 0.0005 (0.05%)\n",
      "Componente 436: 0.0005 (0.05%)\n",
      "Componente 437: 0.0005 (0.05%)\n",
      "Componente 438: 0.0005 (0.05%)\n",
      "Componente 439: 0.0005 (0.05%)\n",
      "Componente 440: 0.0005 (0.05%)\n",
      "Componente 441: 0.0005 (0.05%)\n",
      "Componente 442: 0.0005 (0.05%)\n",
      "Componente 443: 0.0005 (0.05%)\n",
      "Componente 444: 0.0005 (0.05%)\n",
      "Componente 445: 0.0005 (0.05%)\n",
      "Componente 446: 0.0005 (0.05%)\n",
      "Componente 447: 0.0005 (0.05%)\n",
      "Componente 448: 0.0005 (0.05%)\n",
      "Componente 449: 0.0005 (0.05%)\n",
      "Componente 450: 0.0005 (0.05%)\n",
      "Componente 451: 0.0005 (0.05%)\n",
      "Componente 452: 0.0005 (0.05%)\n",
      "Componente 453: 0.0005 (0.05%)\n",
      "Componente 454: 0.0005 (0.05%)\n",
      "Componente 455: 0.0005 (0.05%)\n",
      "Componente 456: 0.0005 (0.05%)\n",
      "Componente 457: 0.0005 (0.05%)\n",
      "Componente 458: 0.0005 (0.05%)\n",
      "Componente 459: 0.0005 (0.05%)\n",
      "Componente 460: 0.0005 (0.05%)\n",
      "Componente 461: 0.0005 (0.05%)\n",
      "Componente 462: 0.0005 (0.05%)\n",
      "Componente 463: 0.0005 (0.05%)\n",
      "Componente 464: 0.0005 (0.05%)\n",
      "Componente 465: 0.0005 (0.05%)\n",
      "Componente 466: 0.0005 (0.05%)\n",
      "Componente 467: 0.0005 (0.05%)\n",
      "Componente 468: 0.0005 (0.05%)\n",
      "Componente 469: 0.0005 (0.05%)\n",
      "Componente 470: 0.0005 (0.05%)\n",
      "Componente 471: 0.0005 (0.05%)\n",
      "Componente 472: 0.0005 (0.05%)\n",
      "Componente 473: 0.0005 (0.05%)\n",
      "Componente 474: 0.0005 (0.05%)\n",
      "Componente 475: 0.0005 (0.05%)\n",
      "Componente 476: 0.0005 (0.05%)\n",
      "Componente 477: 0.0005 (0.05%)\n",
      "Componente 478: 0.0005 (0.05%)\n",
      "Componente 479: 0.0005 (0.05%)\n",
      "Componente 480: 0.0005 (0.05%)\n",
      "Componente 481: 0.0005 (0.05%)\n",
      "Componente 482: 0.0005 (0.05%)\n",
      "Componente 483: 0.0005 (0.05%)\n",
      "Componente 484: 0.0005 (0.05%)\n",
      "Componente 485: 0.0005 (0.05%)\n",
      "Componente 486: 0.0005 (0.05%)\n",
      "Componente 487: 0.0005 (0.05%)\n",
      "Componente 488: 0.0005 (0.05%)\n",
      "Componente 489: 0.0005 (0.05%)\n",
      "Componente 490: 0.0005 (0.05%)\n",
      "Componente 491: 0.0005 (0.05%)\n",
      "Componente 492: 0.0005 (0.05%)\n",
      "Componente 493: 0.0005 (0.05%)\n",
      "Componente 494: 0.0005 (0.05%)\n",
      "Componente 495: 0.0005 (0.05%)\n",
      "Componente 496: 0.0005 (0.05%)\n",
      "Componente 497: 0.0005 (0.05%)\n",
      "Componente 498: 0.0005 (0.05%)\n",
      "Componente 499: 0.0005 (0.05%)\n",
      "Componente 500: 0.0005 (0.05%)\n",
      "Componente 501: 0.0005 (0.05%)\n",
      "Componente 502: 0.0005 (0.05%)\n",
      "Componente 503: 0.0005 (0.05%)\n",
      "Componente 504: 0.0005 (0.05%)\n",
      "Componente 505: 0.0005 (0.05%)\n",
      "Componente 506: 0.0005 (0.05%)\n",
      "Componente 507: 0.0005 (0.05%)\n",
      "Componente 508: 0.0005 (0.05%)\n",
      "Componente 509: 0.0005 (0.05%)\n",
      "Componente 510: 0.0005 (0.05%)\n",
      "Componente 511: 0.0005 (0.05%)\n",
      "Componente 512: 0.0005 (0.05%)\n",
      "Componente 513: 0.0005 (0.05%)\n",
      "Componente 514: 0.0005 (0.05%)\n",
      "Componente 515: 0.0005 (0.05%)\n",
      "Componente 516: 0.0005 (0.05%)\n",
      "Componente 517: 0.0005 (0.05%)\n",
      "Componente 518: 0.0005 (0.05%)\n",
      "Componente 519: 0.0005 (0.05%)\n",
      "Componente 520: 0.0005 (0.05%)\n",
      "Componente 521: 0.0005 (0.05%)\n",
      "Componente 522: 0.0005 (0.05%)\n",
      "Componente 523: 0.0005 (0.05%)\n",
      "Componente 524: 0.0005 (0.05%)\n",
      "Componente 525: 0.0005 (0.05%)\n",
      "Componente 526: 0.0005 (0.05%)\n",
      "Componente 527: 0.0005 (0.05%)\n",
      "Componente 528: 0.0005 (0.05%)\n",
      "Componente 529: 0.0004 (0.04%)\n",
      "Componente 530: 0.0004 (0.04%)\n",
      "Componente 531: 0.0004 (0.04%)\n",
      "Componente 532: 0.0004 (0.04%)\n",
      "Componente 533: 0.0004 (0.04%)\n",
      "Componente 534: 0.0004 (0.04%)\n",
      "Componente 535: 0.0004 (0.04%)\n",
      "Componente 536: 0.0004 (0.04%)\n",
      "Componente 537: 0.0004 (0.04%)\n",
      "Componente 538: 0.0004 (0.04%)\n",
      "Componente 539: 0.0004 (0.04%)\n",
      "Componente 540: 0.0004 (0.04%)\n",
      "Componente 541: 0.0004 (0.04%)\n",
      "Componente 542: 0.0004 (0.04%)\n",
      "Componente 543: 0.0004 (0.04%)\n",
      "Componente 544: 0.0004 (0.04%)\n",
      "Componente 545: 0.0004 (0.04%)\n",
      "Componente 546: 0.0004 (0.04%)\n",
      "Componente 547: 0.0004 (0.04%)\n",
      "Componente 548: 0.0004 (0.04%)\n",
      "Componente 549: 0.0004 (0.04%)\n",
      "Componente 550: 0.0004 (0.04%)\n",
      "Componente 551: 0.0004 (0.04%)\n",
      "Componente 552: 0.0004 (0.04%)\n",
      "Componente 553: 0.0004 (0.04%)\n",
      "Componente 554: 0.0004 (0.04%)\n",
      "Componente 555: 0.0004 (0.04%)\n",
      "Componente 556: 0.0004 (0.04%)\n",
      "Componente 557: 0.0004 (0.04%)\n",
      "Componente 558: 0.0004 (0.04%)\n",
      "Componente 559: 0.0004 (0.04%)\n",
      "Componente 560: 0.0004 (0.04%)\n",
      "Componente 561: 0.0004 (0.04%)\n",
      "Componente 562: 0.0004 (0.04%)\n",
      "Componente 563: 0.0004 (0.04%)\n",
      "Componente 564: 0.0004 (0.04%)\n",
      "Componente 565: 0.0004 (0.04%)\n",
      "Componente 566: 0.0004 (0.04%)\n",
      "Componente 567: 0.0004 (0.04%)\n",
      "Componente 568: 0.0004 (0.04%)\n",
      "Componente 569: 0.0004 (0.04%)\n",
      "Componente 570: 0.0004 (0.04%)\n",
      "Componente 571: 0.0004 (0.04%)\n",
      "Componente 572: 0.0004 (0.04%)\n",
      "Componente 573: 0.0004 (0.04%)\n",
      "Componente 574: 0.0004 (0.04%)\n",
      "Componente 575: 0.0004 (0.04%)\n",
      "Componente 576: 0.0004 (0.04%)\n",
      "Componente 577: 0.0004 (0.04%)\n",
      "Componente 578: 0.0004 (0.04%)\n",
      "Componente 579: 0.0004 (0.04%)\n",
      "Componente 580: 0.0004 (0.04%)\n",
      "Componente 581: 0.0004 (0.04%)\n",
      "Componente 582: 0.0004 (0.04%)\n",
      "Componente 583: 0.0004 (0.04%)\n",
      "Componente 584: 0.0004 (0.04%)\n",
      "Componente 585: 0.0004 (0.04%)\n",
      "Componente 586: 0.0004 (0.04%)\n",
      "Componente 587: 0.0004 (0.04%)\n",
      "Componente 588: 0.0004 (0.04%)\n",
      "Componente 589: 0.0004 (0.04%)\n",
      "Componente 590: 0.0004 (0.04%)\n",
      "Componente 591: 0.0004 (0.04%)\n",
      "Componente 592: 0.0004 (0.04%)\n",
      "Componente 593: 0.0004 (0.04%)\n",
      "Componente 594: 0.0004 (0.04%)\n",
      "Componente 595: 0.0004 (0.04%)\n",
      "Componente 596: 0.0004 (0.04%)\n",
      "Componente 597: 0.0004 (0.04%)\n",
      "Componente 598: 0.0004 (0.04%)\n",
      "Componente 599: 0.0004 (0.04%)\n",
      "Componente 600: 0.0004 (0.04%)\n",
      "Componente 601: 0.0004 (0.04%)\n",
      "Componente 602: 0.0004 (0.04%)\n",
      "Componente 603: 0.0004 (0.04%)\n",
      "Componente 604: 0.0004 (0.04%)\n",
      "Componente 605: 0.0004 (0.04%)\n",
      "Componente 606: 0.0004 (0.04%)\n",
      "Componente 607: 0.0004 (0.04%)\n",
      "Componente 608: 0.0004 (0.04%)\n",
      "Componente 609: 0.0004 (0.04%)\n",
      "Componente 610: 0.0004 (0.04%)\n",
      "Componente 611: 0.0004 (0.04%)\n",
      "Componente 612: 0.0004 (0.04%)\n",
      "Componente 613: 0.0004 (0.04%)\n",
      "Componente 614: 0.0004 (0.04%)\n",
      "Componente 615: 0.0004 (0.04%)\n",
      "Componente 616: 0.0004 (0.04%)\n",
      "Componente 617: 0.0004 (0.04%)\n",
      "Componente 618: 0.0004 (0.04%)\n",
      "Componente 619: 0.0004 (0.04%)\n",
      "Componente 620: 0.0004 (0.04%)\n",
      "Componente 621: 0.0004 (0.04%)\n",
      "Componente 622: 0.0004 (0.04%)\n",
      "Componente 623: 0.0004 (0.04%)\n",
      "Componente 624: 0.0004 (0.04%)\n",
      "Componente 625: 0.0004 (0.04%)\n",
      "Componente 626: 0.0004 (0.04%)\n",
      "Componente 627: 0.0004 (0.04%)\n",
      "Componente 628: 0.0004 (0.04%)\n",
      "Componente 629: 0.0004 (0.04%)\n",
      "Componente 630: 0.0004 (0.04%)\n",
      "Componente 631: 0.0004 (0.04%)\n",
      "Componente 632: 0.0004 (0.04%)\n",
      "Componente 633: 0.0004 (0.04%)\n",
      "Componente 634: 0.0004 (0.04%)\n",
      "Componente 635: 0.0004 (0.04%)\n",
      "Componente 636: 0.0004 (0.04%)\n",
      "Componente 637: 0.0004 (0.04%)\n",
      "Componente 638: 0.0004 (0.04%)\n",
      "Componente 639: 0.0004 (0.04%)\n",
      "Componente 640: 0.0004 (0.04%)\n",
      "Componente 641: 0.0004 (0.04%)\n",
      "Componente 642: 0.0004 (0.04%)\n",
      "Componente 643: 0.0004 (0.04%)\n",
      "Componente 644: 0.0004 (0.04%)\n",
      "Componente 645: 0.0004 (0.04%)\n",
      "Componente 646: 0.0004 (0.04%)\n",
      "Componente 647: 0.0004 (0.04%)\n",
      "Componente 648: 0.0004 (0.04%)\n",
      "Componente 649: 0.0004 (0.04%)\n",
      "Componente 650: 0.0004 (0.04%)\n",
      "Componente 651: 0.0004 (0.04%)\n",
      "Componente 652: 0.0004 (0.04%)\n",
      "Componente 653: 0.0004 (0.04%)\n",
      "Componente 654: 0.0004 (0.04%)\n",
      "Componente 655: 0.0004 (0.04%)\n",
      "Componente 656: 0.0004 (0.04%)\n",
      "Componente 657: 0.0004 (0.04%)\n",
      "Componente 658: 0.0004 (0.04%)\n",
      "Componente 659: 0.0004 (0.04%)\n",
      "Componente 660: 0.0004 (0.04%)\n",
      "Componente 661: 0.0004 (0.04%)\n",
      "Componente 662: 0.0004 (0.04%)\n",
      "Componente 663: 0.0004 (0.04%)\n",
      "Componente 664: 0.0004 (0.04%)\n",
      "Componente 665: 0.0004 (0.04%)\n",
      "Componente 666: 0.0004 (0.04%)\n",
      "Componente 667: 0.0004 (0.04%)\n",
      "Componente 668: 0.0004 (0.04%)\n",
      "Componente 669: 0.0004 (0.04%)\n",
      "Componente 670: 0.0004 (0.04%)\n",
      "Componente 671: 0.0004 (0.04%)\n",
      "Componente 672: 0.0004 (0.04%)\n",
      "Componente 673: 0.0004 (0.04%)\n",
      "Componente 674: 0.0004 (0.04%)\n",
      "Componente 675: 0.0004 (0.04%)\n",
      "Componente 676: 0.0004 (0.04%)\n",
      "Componente 677: 0.0004 (0.04%)\n",
      "Componente 678: 0.0004 (0.04%)\n",
      "Componente 679: 0.0004 (0.04%)\n",
      "Componente 680: 0.0004 (0.04%)\n",
      "Componente 681: 0.0004 (0.04%)\n",
      "Componente 682: 0.0004 (0.04%)\n",
      "Componente 683: 0.0004 (0.04%)\n",
      "Componente 684: 0.0004 (0.04%)\n",
      "Componente 685: 0.0004 (0.04%)\n",
      "Componente 686: 0.0004 (0.04%)\n",
      "Componente 687: 0.0004 (0.04%)\n",
      "Componente 688: 0.0004 (0.04%)\n",
      "Componente 689: 0.0004 (0.04%)\n",
      "Componente 690: 0.0004 (0.04%)\n",
      "Componente 691: 0.0004 (0.04%)\n",
      "Componente 692: 0.0004 (0.04%)\n",
      "Componente 693: 0.0004 (0.04%)\n",
      "Componente 694: 0.0004 (0.04%)\n",
      "Componente 695: 0.0004 (0.04%)\n",
      "Componente 696: 0.0004 (0.04%)\n",
      "Componente 697: 0.0004 (0.04%)\n",
      "Componente 698: 0.0004 (0.04%)\n",
      "Componente 699: 0.0004 (0.04%)\n",
      "Componente 700: 0.0004 (0.04%)\n",
      "Componente 701: 0.0004 (0.04%)\n",
      "Componente 702: 0.0004 (0.04%)\n",
      "Componente 703: 0.0004 (0.04%)\n",
      "Componente 704: 0.0004 (0.04%)\n",
      "Componente 705: 0.0004 (0.04%)\n",
      "Componente 706: 0.0004 (0.04%)\n",
      "Componente 707: 0.0004 (0.04%)\n",
      "Componente 708: 0.0004 (0.04%)\n",
      "Componente 709: 0.0004 (0.04%)\n",
      "Componente 710: 0.0004 (0.04%)\n",
      "Componente 711: 0.0004 (0.04%)\n",
      "Componente 712: 0.0004 (0.04%)\n",
      "Componente 713: 0.0004 (0.04%)\n",
      "Componente 714: 0.0004 (0.04%)\n",
      "Componente 715: 0.0004 (0.04%)\n",
      "Componente 716: 0.0004 (0.04%)\n",
      "Componente 717: 0.0004 (0.04%)\n",
      "Componente 718: 0.0004 (0.04%)\n",
      "Componente 719: 0.0004 (0.04%)\n",
      "Componente 720: 0.0004 (0.04%)\n",
      "Componente 721: 0.0004 (0.04%)\n",
      "Componente 722: 0.0004 (0.04%)\n",
      "Componente 723: 0.0004 (0.04%)\n",
      "Componente 724: 0.0004 (0.04%)\n",
      "Componente 725: 0.0004 (0.04%)\n",
      "Componente 726: 0.0004 (0.04%)\n",
      "Componente 727: 0.0004 (0.04%)\n",
      "Componente 728: 0.0004 (0.04%)\n",
      "Componente 729: 0.0004 (0.04%)\n",
      "Componente 730: 0.0004 (0.04%)\n",
      "Componente 731: 0.0004 (0.04%)\n",
      "Componente 732: 0.0004 (0.04%)\n",
      "Componente 733: 0.0004 (0.04%)\n",
      "Componente 734: 0.0004 (0.04%)\n",
      "Componente 735: 0.0004 (0.04%)\n",
      "Componente 736: 0.0004 (0.04%)\n",
      "Componente 737: 0.0004 (0.04%)\n",
      "Componente 738: 0.0004 (0.04%)\n",
      "Componente 739: 0.0004 (0.04%)\n",
      "Componente 740: 0.0004 (0.04%)\n",
      "Componente 741: 0.0004 (0.04%)\n",
      "Componente 742: 0.0004 (0.04%)\n",
      "Componente 743: 0.0004 (0.04%)\n",
      "Componente 744: 0.0003 (0.03%)\n",
      "Componente 745: 0.0003 (0.03%)\n",
      "Componente 746: 0.0003 (0.03%)\n",
      "Componente 747: 0.0003 (0.03%)\n",
      "Componente 748: 0.0003 (0.03%)\n",
      "Componente 749: 0.0003 (0.03%)\n",
      "Componente 750: 0.0003 (0.03%)\n",
      "Componente 751: 0.0003 (0.03%)\n",
      "Componente 752: 0.0003 (0.03%)\n",
      "Componente 753: 0.0003 (0.03%)\n",
      "Componente 754: 0.0003 (0.03%)\n",
      "Componente 755: 0.0003 (0.03%)\n",
      "Componente 756: 0.0003 (0.03%)\n",
      "Componente 757: 0.0003 (0.03%)\n",
      "Componente 758: 0.0003 (0.03%)\n",
      "Componente 759: 0.0003 (0.03%)\n",
      "Componente 760: 0.0003 (0.03%)\n",
      "Componente 761: 0.0003 (0.03%)\n",
      "Componente 762: 0.0003 (0.03%)\n",
      "Componente 763: 0.0003 (0.03%)\n",
      "Componente 764: 0.0003 (0.03%)\n",
      "Componente 765: 0.0003 (0.03%)\n",
      "Componente 766: 0.0003 (0.03%)\n",
      "Componente 767: 0.0003 (0.03%)\n",
      "Componente 768: 0.0003 (0.03%)\n",
      "Componente 769: 0.0003 (0.03%)\n",
      "Componente 770: 0.0003 (0.03%)\n",
      "Componente 771: 0.0003 (0.03%)\n",
      "Componente 772: 0.0003 (0.03%)\n",
      "Componente 773: 0.0003 (0.03%)\n",
      "Componente 774: 0.0003 (0.03%)\n",
      "Componente 775: 0.0003 (0.03%)\n",
      "Componente 776: 0.0003 (0.03%)\n",
      "Componente 777: 0.0003 (0.03%)\n",
      "Componente 778: 0.0003 (0.03%)\n",
      "Componente 779: 0.0003 (0.03%)\n",
      "Componente 780: 0.0003 (0.03%)\n",
      "Componente 781: 0.0003 (0.03%)\n",
      "Componente 782: 0.0003 (0.03%)\n",
      "Componente 783: 0.0003 (0.03%)\n",
      "Componente 784: 0.0003 (0.03%)\n",
      "Componente 785: 0.0003 (0.03%)\n",
      "Componente 786: 0.0003 (0.03%)\n",
      "Componente 787: 0.0003 (0.03%)\n",
      "Componente 788: 0.0003 (0.03%)\n",
      "Componente 789: 0.0003 (0.03%)\n",
      "Componente 790: 0.0003 (0.03%)\n",
      "Componente 791: 0.0003 (0.03%)\n",
      "Componente 792: 0.0003 (0.03%)\n",
      "Componente 793: 0.0003 (0.03%)\n",
      "Componente 794: 0.0003 (0.03%)\n",
      "Componente 795: 0.0003 (0.03%)\n",
      "Componente 796: 0.0003 (0.03%)\n",
      "Componente 797: 0.0003 (0.03%)\n",
      "Componente 798: 0.0003 (0.03%)\n",
      "Componente 799: 0.0003 (0.03%)\n",
      "Componente 800: 0.0003 (0.03%)\n",
      "Componente 801: 0.0003 (0.03%)\n",
      "Componente 802: 0.0003 (0.03%)\n",
      "Componente 803: 0.0003 (0.03%)\n",
      "Componente 804: 0.0003 (0.03%)\n",
      "Componente 805: 0.0003 (0.03%)\n",
      "Componente 806: 0.0003 (0.03%)\n",
      "Componente 807: 0.0003 (0.03%)\n",
      "Componente 808: 0.0003 (0.03%)\n",
      "Componente 809: 0.0003 (0.03%)\n",
      "Componente 810: 0.0003 (0.03%)\n",
      "Componente 811: 0.0003 (0.03%)\n",
      "Componente 812: 0.0003 (0.03%)\n",
      "Componente 813: 0.0003 (0.03%)\n",
      "Componente 814: 0.0003 (0.03%)\n",
      "Componente 815: 0.0003 (0.03%)\n",
      "Componente 816: 0.0003 (0.03%)\n",
      "Componente 817: 0.0003 (0.03%)\n",
      "Componente 818: 0.0003 (0.03%)\n",
      "Componente 819: 0.0003 (0.03%)\n",
      "Componente 820: 0.0003 (0.03%)\n",
      "Componente 821: 0.0003 (0.03%)\n",
      "Componente 822: 0.0003 (0.03%)\n",
      "Componente 823: 0.0003 (0.03%)\n",
      "Componente 824: 0.0003 (0.03%)\n",
      "Componente 825: 0.0003 (0.03%)\n",
      "Componente 826: 0.0003 (0.03%)\n",
      "Componente 827: 0.0003 (0.03%)\n",
      "Componente 828: 0.0003 (0.03%)\n",
      "Componente 829: 0.0003 (0.03%)\n",
      "Componente 830: 0.0003 (0.03%)\n",
      "Componente 831: 0.0003 (0.03%)\n",
      "Componente 832: 0.0003 (0.03%)\n",
      "Componente 833: 0.0003 (0.03%)\n",
      "Componente 834: 0.0003 (0.03%)\n",
      "Componente 835: 0.0003 (0.03%)\n",
      "Componente 836: 0.0003 (0.03%)\n",
      "Componente 837: 0.0003 (0.03%)\n",
      "Componente 838: 0.0003 (0.03%)\n",
      "Componente 839: 0.0003 (0.03%)\n",
      "Componente 840: 0.0003 (0.03%)\n",
      "Componente 841: 0.0003 (0.03%)\n",
      "Componente 842: 0.0003 (0.03%)\n",
      "Componente 843: 0.0003 (0.03%)\n",
      "Componente 844: 0.0003 (0.03%)\n",
      "Componente 845: 0.0003 (0.03%)\n",
      "Componente 846: 0.0003 (0.03%)\n",
      "Componente 847: 0.0003 (0.03%)\n",
      "Componente 848: 0.0003 (0.03%)\n",
      "Componente 849: 0.0003 (0.03%)\n",
      "Componente 850: 0.0003 (0.03%)\n",
      "Componente 851: 0.0003 (0.03%)\n",
      "Componente 852: 0.0003 (0.03%)\n",
      "Componente 853: 0.0003 (0.03%)\n",
      "Componente 854: 0.0003 (0.03%)\n",
      "Componente 855: 0.0003 (0.03%)\n",
      "Componente 856: 0.0003 (0.03%)\n",
      "Componente 857: 0.0003 (0.03%)\n",
      "Componente 858: 0.0003 (0.03%)\n",
      "Componente 859: 0.0003 (0.03%)\n",
      "Componente 860: 0.0003 (0.03%)\n",
      "Componente 861: 0.0003 (0.03%)\n",
      "Componente 862: 0.0003 (0.03%)\n",
      "Componente 863: 0.0003 (0.03%)\n",
      "Componente 864: 0.0003 (0.03%)\n",
      "Componente 865: 0.0003 (0.03%)\n",
      "Componente 866: 0.0003 (0.03%)\n",
      "Componente 867: 0.0003 (0.03%)\n",
      "Componente 868: 0.0003 (0.03%)\n",
      "Componente 869: 0.0003 (0.03%)\n",
      "Componente 870: 0.0003 (0.03%)\n",
      "Componente 871: 0.0003 (0.03%)\n",
      "Componente 872: 0.0003 (0.03%)\n",
      "Componente 873: 0.0003 (0.03%)\n",
      "Componente 874: 0.0003 (0.03%)\n",
      "Componente 875: 0.0003 (0.03%)\n",
      "Componente 876: 0.0003 (0.03%)\n",
      "Componente 877: 0.0003 (0.03%)\n",
      "Componente 878: 0.0003 (0.03%)\n",
      "Componente 879: 0.0003 (0.03%)\n",
      "Componente 880: 0.0003 (0.03%)\n",
      "Componente 881: 0.0003 (0.03%)\n",
      "Componente 882: 0.0003 (0.03%)\n",
      "Componente 883: 0.0003 (0.03%)\n",
      "Componente 884: 0.0003 (0.03%)\n",
      "Componente 885: 0.0003 (0.03%)\n",
      "Componente 886: 0.0003 (0.03%)\n",
      "Componente 887: 0.0003 (0.03%)\n",
      "Componente 888: 0.0003 (0.03%)\n",
      "Componente 889: 0.0003 (0.03%)\n",
      "Componente 890: 0.0003 (0.03%)\n",
      "Componente 891: 0.0003 (0.03%)\n",
      "Componente 892: 0.0003 (0.03%)\n",
      "Componente 893: 0.0003 (0.03%)\n",
      "Componente 894: 0.0003 (0.03%)\n",
      "Componente 895: 0.0003 (0.03%)\n",
      "Componente 896: 0.0003 (0.03%)\n",
      "Componente 897: 0.0003 (0.03%)\n",
      "Componente 898: 0.0003 (0.03%)\n",
      "Componente 899: 0.0003 (0.03%)\n",
      "Componente 900: 0.0003 (0.03%)\n",
      "Componente 901: 0.0003 (0.03%)\n",
      "Componente 902: 0.0003 (0.03%)\n",
      "Componente 903: 0.0003 (0.03%)\n",
      "Componente 904: 0.0003 (0.03%)\n",
      "Componente 905: 0.0003 (0.03%)\n",
      "Componente 906: 0.0003 (0.03%)\n",
      "Componente 907: 0.0003 (0.03%)\n",
      "Componente 908: 0.0003 (0.03%)\n",
      "Componente 909: 0.0003 (0.03%)\n",
      "Componente 910: 0.0003 (0.03%)\n",
      "Componente 911: 0.0003 (0.03%)\n",
      "Componente 912: 0.0003 (0.03%)\n",
      "Componente 913: 0.0003 (0.03%)\n",
      "Componente 914: 0.0003 (0.03%)\n",
      "Componente 915: 0.0003 (0.03%)\n",
      "Componente 916: 0.0003 (0.03%)\n",
      "Componente 917: 0.0003 (0.03%)\n",
      "Componente 918: 0.0003 (0.03%)\n",
      "Componente 919: 0.0003 (0.03%)\n",
      "Componente 920: 0.0003 (0.03%)\n",
      "Componente 921: 0.0003 (0.03%)\n",
      "Componente 922: 0.0003 (0.03%)\n",
      "Componente 923: 0.0003 (0.03%)\n",
      "Componente 924: 0.0003 (0.03%)\n",
      "Componente 925: 0.0003 (0.03%)\n",
      "Componente 926: 0.0003 (0.03%)\n",
      "Componente 927: 0.0003 (0.03%)\n",
      "Componente 928: 0.0003 (0.03%)\n",
      "Componente 929: 0.0003 (0.03%)\n",
      "Componente 930: 0.0003 (0.03%)\n",
      "Componente 931: 0.0003 (0.03%)\n",
      "Componente 932: 0.0003 (0.03%)\n",
      "Componente 933: 0.0003 (0.03%)\n",
      "Componente 934: 0.0003 (0.03%)\n",
      "Componente 935: 0.0003 (0.03%)\n",
      "Componente 936: 0.0003 (0.03%)\n",
      "Componente 937: 0.0003 (0.03%)\n",
      "Componente 938: 0.0003 (0.03%)\n",
      "Componente 939: 0.0003 (0.03%)\n",
      "Componente 940: 0.0003 (0.03%)\n",
      "Componente 941: 0.0003 (0.03%)\n",
      "Componente 942: 0.0003 (0.03%)\n",
      "Componente 943: 0.0003 (0.03%)\n",
      "Componente 944: 0.0003 (0.03%)\n",
      "Componente 945: 0.0003 (0.03%)\n",
      "Componente 946: 0.0003 (0.03%)\n",
      "Componente 947: 0.0003 (0.03%)\n",
      "Componente 948: 0.0003 (0.03%)\n",
      "Componente 949: 0.0003 (0.03%)\n",
      "Componente 950: 0.0003 (0.03%)\n",
      "Componente 951: 0.0003 (0.03%)\n",
      "Componente 952: 0.0003 (0.03%)\n",
      "Componente 953: 0.0003 (0.03%)\n",
      "Componente 954: 0.0003 (0.03%)\n",
      "Componente 955: 0.0003 (0.03%)\n",
      "Componente 956: 0.0003 (0.03%)\n",
      "Componente 957: 0.0003 (0.03%)\n",
      "Componente 958: 0.0003 (0.03%)\n",
      "Componente 959: 0.0003 (0.03%)\n",
      "Componente 960: 0.0003 (0.03%)\n",
      "Componente 961: 0.0003 (0.03%)\n",
      "Componente 962: 0.0003 (0.03%)\n",
      "Componente 963: 0.0003 (0.03%)\n",
      "Componente 964: 0.0003 (0.03%)\n",
      "Componente 965: 0.0003 (0.03%)\n",
      "Componente 966: 0.0003 (0.03%)\n",
      "Componente 967: 0.0003 (0.03%)\n",
      "Componente 968: 0.0003 (0.03%)\n",
      "Componente 969: 0.0003 (0.03%)\n",
      "Componente 970: 0.0003 (0.03%)\n",
      "Componente 971: 0.0003 (0.03%)\n",
      "Componente 972: 0.0003 (0.03%)\n",
      "Componente 973: 0.0003 (0.03%)\n",
      "Componente 974: 0.0003 (0.03%)\n",
      "Componente 975: 0.0003 (0.03%)\n",
      "Componente 976: 0.0003 (0.03%)\n",
      "Componente 977: 0.0003 (0.03%)\n",
      "Componente 978: 0.0003 (0.03%)\n",
      "Componente 979: 0.0003 (0.03%)\n",
      "Componente 980: 0.0003 (0.03%)\n",
      "Componente 981: 0.0003 (0.03%)\n",
      "Componente 982: 0.0003 (0.03%)\n",
      "Componente 983: 0.0003 (0.03%)\n",
      "Componente 984: 0.0003 (0.03%)\n",
      "Componente 985: 0.0003 (0.03%)\n",
      "Componente 986: 0.0003 (0.03%)\n",
      "Componente 987: 0.0003 (0.03%)\n",
      "Componente 988: 0.0003 (0.03%)\n",
      "Componente 989: 0.0003 (0.03%)\n",
      "Componente 990: 0.0003 (0.03%)\n",
      "Componente 991: 0.0003 (0.03%)\n",
      "Componente 992: 0.0003 (0.03%)\n",
      "Componente 993: 0.0003 (0.03%)\n",
      "Componente 994: 0.0003 (0.03%)\n",
      "Componente 995: 0.0003 (0.03%)\n",
      "Componente 996: 0.0003 (0.03%)\n",
      "Componente 997: 0.0003 (0.03%)\n",
      "Componente 998: 0.0003 (0.03%)\n",
      "Componente 999: 0.0003 (0.03%)\n",
      "Componente 1000: 0.0003 (0.03%)\n",
      "Componente 1001: 0.0003 (0.03%)\n",
      "Componente 1002: 0.0003 (0.03%)\n",
      "Componente 1003: 0.0003 (0.03%)\n",
      "Componente 1004: 0.0003 (0.03%)\n",
      "Componente 1005: 0.0003 (0.03%)\n",
      "Componente 1006: 0.0003 (0.03%)\n",
      "Componente 1007: 0.0003 (0.03%)\n",
      "Componente 1008: 0.0003 (0.03%)\n",
      "Componente 1009: 0.0003 (0.03%)\n",
      "Componente 1010: 0.0003 (0.03%)\n",
      "Componente 1011: 0.0003 (0.03%)\n",
      "Componente 1012: 0.0003 (0.03%)\n",
      "Componente 1013: 0.0003 (0.03%)\n",
      "Componente 1014: 0.0003 (0.03%)\n",
      "Componente 1015: 0.0003 (0.03%)\n",
      "Componente 1016: 0.0003 (0.03%)\n",
      "Componente 1017: 0.0003 (0.03%)\n",
      "Componente 1018: 0.0003 (0.03%)\n",
      "Componente 1019: 0.0003 (0.03%)\n",
      "Componente 1020: 0.0003 (0.03%)\n",
      "Componente 1021: 0.0003 (0.03%)\n",
      "Componente 1022: 0.0003 (0.03%)\n",
      "Componente 1023: 0.0003 (0.03%)\n",
      "Componente 1024: 0.0003 (0.03%)\n",
      "Componente 1025: 0.0003 (0.03%)\n",
      "Componente 1026: 0.0003 (0.03%)\n",
      "Componente 1027: 0.0003 (0.03%)\n",
      "Componente 1028: 0.0003 (0.03%)\n",
      "Componente 1029: 0.0003 (0.03%)\n",
      "Componente 1030: 0.0003 (0.03%)\n",
      "Componente 1031: 0.0003 (0.03%)\n",
      "Componente 1032: 0.0003 (0.03%)\n",
      "Componente 1033: 0.0003 (0.03%)\n",
      "Componente 1034: 0.0003 (0.03%)\n",
      "Componente 1035: 0.0003 (0.03%)\n",
      "Componente 1036: 0.0003 (0.03%)\n",
      "Componente 1037: 0.0003 (0.03%)\n",
      "Componente 1038: 0.0003 (0.03%)\n",
      "Componente 1039: 0.0003 (0.03%)\n",
      "Componente 1040: 0.0003 (0.03%)\n",
      "Componente 1041: 0.0003 (0.03%)\n",
      "Componente 1042: 0.0003 (0.03%)\n",
      "Componente 1043: 0.0003 (0.03%)\n",
      "Componente 1044: 0.0003 (0.03%)\n",
      "Componente 1045: 0.0003 (0.03%)\n",
      "Componente 1046: 0.0003 (0.03%)\n",
      "Componente 1047: 0.0003 (0.03%)\n",
      "Componente 1048: 0.0003 (0.03%)\n",
      "Componente 1049: 0.0003 (0.03%)\n",
      "Componente 1050: 0.0003 (0.03%)\n",
      "Componente 1051: 0.0003 (0.03%)\n",
      "Componente 1052: 0.0003 (0.03%)\n",
      "Componente 1053: 0.0003 (0.03%)\n",
      "Componente 1054: 0.0003 (0.03%)\n",
      "Componente 1055: 0.0003 (0.03%)\n",
      "Componente 1056: 0.0003 (0.03%)\n",
      "Componente 1057: 0.0003 (0.03%)\n",
      "Componente 1058: 0.0003 (0.03%)\n",
      "Componente 1059: 0.0003 (0.03%)\n",
      "Componente 1060: 0.0003 (0.03%)\n",
      "Componente 1061: 0.0003 (0.03%)\n",
      "Componente 1062: 0.0003 (0.03%)\n",
      "Componente 1063: 0.0003 (0.03%)\n"
     ]
    }
   ],
   "source": [
    "n_comp_final = np.argmax(cumulative_variance_ratio_final >= 0.7) + 1\n",
    "print(f\"Número de componentes seleccionados: {n_comp_final}\")\n",
    "print(f\"Varianza explicada con {n_comp_final} componentes: \"\n",
    "      f\"{cumulative_variance_ratio_final[n_comp_final-1]:.4f}\")\n",
    "\n",
    "# Display variance explained by each component\n",
    "print(\"\\nVarianza explicada por cada componente:\")\n",
    "for i, var in enumerate(svd_final.explained_variance_ratio_[:n_comp_final]):\n",
    "    print(f\"Componente {i+1}: {var:.4f} ({var*100:.2f}%)\")"
   ]
  },
  {
   "cell_type": "markdown",
   "metadata": {},
   "source": [
    "Finalmente, nos quedamos con el conjunto de componentes deseado y lo unificamos con el resto de características. Primero el de análisis."
   ]
  },
  {
   "cell_type": "code",
   "execution_count": 132,
   "metadata": {},
   "outputs": [],
   "source": [
    "# Reduccion a las componentes deseadas.\n",
    "X_svd_train = X_svd_full_train[:, :n_comp]\n",
    "X_svd_test = X_svd_full_test[:, :n_comp]\n",
    "\n",
    "# Train\n",
    "X_svd_train = pd.DataFrame(X_svd_train, columns=[f\"svd_{i}\" for i in range(X_svd_train.shape[1])])\n",
    "X_rest_train = X_train[no_text].reset_index(drop=True)\n",
    "\n",
    "# Test\n",
    "X_svd_test = pd.DataFrame(X_svd_test, columns=[f\"svd_{i}\" for i in range(X_svd_test.shape[1])])\n",
    "X_rest_test = X_test[no_text].reset_index(drop=True)\n",
    "\n",
    "# Text + Resto de features\n",
    "X_total_train = pd.concat([X_svd_train, X_rest_train], axis=1)\n",
    "X_total_test = pd.concat([X_svd_test, X_rest_test], axis=1)"
   ]
  },
  {
   "cell_type": "markdown",
   "metadata": {},
   "source": [
    "Y después Kaggle."
   ]
  },
  {
   "cell_type": "code",
   "execution_count": 134,
   "metadata": {},
   "outputs": [],
   "source": [
    "# Reduccion a las componentes deseadas.\n",
    "X_svd_tr_final = X_svd_full_tr_final[:, :n_comp_final]\n",
    "X_svd_te_final = X_svd_full_te_final[:, :n_comp_final]\n",
    "\n",
    "# Train\n",
    "X_svd_tr_final = pd.DataFrame(X_svd_tr_final, columns=[f\"svd_{i}\" for i in range(X_svd_tr_final.shape[1])])\n",
    "X_rest_tr_final = X_train_final[no_text].reset_index(drop=True)\n",
    "\n",
    "# Test\n",
    "X_svd_te_final = pd.DataFrame(X_svd_te_final, columns=[f\"svd_{i}\" for i in range(X_svd_te_final.shape[1])])\n",
    "X_rest_te_final = X_test_final[no_text].reset_index(drop=True)\n",
    "\n",
    "# Text + Resto de features\n",
    "X_tot_tr_final = pd.concat([X_svd_tr_final, X_rest_tr_final], axis=1)\n",
    "X_tot_te_final = pd.concat([X_svd_te_final, X_rest_te_final], axis=1)"
   ]
  },
  {
   "cell_type": "markdown",
   "metadata": {},
   "source": [
    "## 6.2 Remuestro"
   ]
  },
  {
   "cell_type": "markdown",
   "metadata": {},
   "source": [
    "### 6.2.1 Estandarizacion"
   ]
  },
  {
   "cell_type": "markdown",
   "metadata": {},
   "source": [
    "Primero se estandarizan el conjunto para el análisis."
   ]
  },
  {
   "cell_type": "code",
   "execution_count": 138,
   "metadata": {},
   "outputs": [],
   "source": [
    "prep = ColumnTransformer([\n",
    "    ('numericas', StandardScaler(), numeric_vars)\n",
    "], remainder='passthrough').fit(X_total_train) \n",
    "\n",
    "X_scaled_train = prep.transform(X_total_train)\n",
    "X_scaled_test = prep.transform(X_total_test)"
   ]
  },
  {
   "cell_type": "markdown",
   "metadata": {},
   "source": [
    "Después el de Kaggle."
   ]
  },
  {
   "cell_type": "code",
   "execution_count": 143,
   "metadata": {},
   "outputs": [],
   "source": [
    "prep_final = ColumnTransformer([\n",
    "    ('numericas', StandardScaler(), numeric_vars)\n",
    "], remainder='passthrough').fit(X_tot_tr_final) \n",
    "\n",
    "X_scaled_tr_final = prep_final.transform(X_tot_tr_final)\n",
    "X_scaled_te_final = prep_final.transform(X_tot_te_final)"
   ]
  },
  {
   "cell_type": "markdown",
   "metadata": {},
   "source": [
    "### 6.2.2 Undersampling"
   ]
  },
  {
   "cell_type": "markdown",
   "metadata": {},
   "source": [
    "Primero se realiza un undersampling al conjunto para el análisis."
   ]
  },
  {
   "cell_type": "code",
   "execution_count": 146,
   "metadata": {},
   "outputs": [],
   "source": [
    "under = RandomUnderSampler(sampling_strategy=0.65, random_state=seed)\n",
    "X_under, y_under = under.fit_resample(X_scaled_train, y_train)"
   ]
  },
  {
   "cell_type": "markdown",
   "metadata": {},
   "source": [
    "Después el de Kaggle."
   ]
  },
  {
   "cell_type": "code",
   "execution_count": 154,
   "metadata": {},
   "outputs": [],
   "source": [
    "under_final = RandomUnderSampler(sampling_strategy=0.65, random_state=seed)\n",
    "X_under_final, y_under_final = under_final.fit_resample(X_scaled_tr_final, y_train_final)"
   ]
  },
  {
   "cell_type": "markdown",
   "metadata": {},
   "source": [
    "### 6.2.3 Oversampling"
   ]
  },
  {
   "cell_type": "markdown",
   "metadata": {},
   "source": [
    "Primero se realiza un oversampling al conjunto para el análisis."
   ]
  },
  {
   "cell_type": "code",
   "execution_count": 152,
   "metadata": {},
   "outputs": [],
   "source": [
    "over = SMOTE(sampling_strategy=0.8, random_state=seed)\n",
    "X_resampled, y_resampled = over.fit_resample(X_under, y_under)"
   ]
  },
  {
   "cell_type": "markdown",
   "metadata": {},
   "source": [
    "Después el de Kaggle."
   ]
  },
  {
   "cell_type": "code",
   "execution_count": 156,
   "metadata": {},
   "outputs": [],
   "source": [
    "over_final = SMOTE(sampling_strategy=0.8, random_state=seed)\n",
    "X_res_final, y_res_final = over_final.fit_resample(X_under_final, y_under_final)"
   ]
  },
  {
   "cell_type": "markdown",
   "metadata": {},
   "source": [
    "# 7. Modelos seleccionados"
   ]
  },
  {
   "cell_type": "markdown",
   "metadata": {
    "jp-MarkdownHeadingCollapsed": true
   },
   "source": [
    "## 7.1 Introduccion"
   ]
  },
  {
   "cell_type": "markdown",
   "metadata": {},
   "source": [
    "TO DO"
   ]
  },
  {
   "cell_type": "markdown",
   "metadata": {
    "jp-MarkdownHeadingCollapsed": true
   },
   "source": [
    "## 7.2 Asignacion de las variables"
   ]
  },
  {
   "cell_type": "code",
   "execution_count": 168,
   "metadata": {},
   "outputs": [],
   "source": [
    "X_model = X_resampled\n",
    "y_model = y_resampled\n",
    "\n",
    "X_model_test = X_scaled_test\n",
    "expected = y_test"
   ]
  },
  {
   "cell_type": "markdown",
   "metadata": {},
   "source": [
    "## 7.3 Clasificador Random Forest"
   ]
  },
  {
   "cell_type": "markdown",
   "metadata": {
    "jp-MarkdownHeadingCollapsed": true
   },
   "source": [
    "### 7.3.1 Definicion"
   ]
  },
  {
   "cell_type": "markdown",
   "metadata": {},
   "source": [
    "Definimos el modelo con los hiperparámetros *random_state* fijado y *class_weigth* balanceado. También se escoje *n_jobs* con valor -1 para utilizar todos los procesadores."
   ]
  },
  {
   "cell_type": "code",
   "execution_count": 165,
   "metadata": {
    "vscode": {
     "languageId": "plaintext"
    }
   },
   "outputs": [],
   "source": [
    "model_Forest = RandomForestClassifier(class_weight=\"balanced\", n_jobs=-1, random_state=seed)"
   ]
  },
  {
   "cell_type": "markdown",
   "metadata": {
    "jp-MarkdownHeadingCollapsed": true
   },
   "source": [
    "### 7.3.2 Entrenamiento y evaluacion"
   ]
  },
  {
   "cell_type": "markdown",
   "metadata": {},
   "source": [
    "Entrenamos el modelo y comprobamos su exactitud."
   ]
  },
  {
   "cell_type": "code",
   "execution_count": 170,
   "metadata": {
    "vscode": {
     "languageId": "plaintext"
    }
   },
   "outputs": [],
   "source": [
    "model_Forest.fit(X_model, y_model)\n",
    "\n",
    "predicted_Forest = model_Forest.predict(X_model_test)"
   ]
  },
  {
   "cell_type": "code",
   "execution_count": 172,
   "metadata": {
    "vscode": {
     "languageId": "plaintext"
    }
   },
   "outputs": [
    {
     "data": {
      "text/plain": [
       "0.6262569832402235"
      ]
     },
     "execution_count": 172,
     "metadata": {},
     "output_type": "execute_result"
    }
   ],
   "source": [
    "accuracy_score(expected, predicted_Forest)"
   ]
  },
  {
   "cell_type": "markdown",
   "metadata": {
    "jp-MarkdownHeadingCollapsed": true
   },
   "source": [
    "### 7.3.3 Null accuracy"
   ]
  },
  {
   "cell_type": "markdown",
   "metadata": {},
   "source": [
    "Ahora se va a evaluar si  el modelo siempre predice la clase más frecuente."
   ]
  },
  {
   "cell_type": "code",
   "execution_count": 178,
   "metadata": {
    "vscode": {
     "languageId": "plaintext"
    }
   },
   "outputs": [
    {
     "data": {
      "text/plain": [
       "1    1179\n",
       "0     611\n",
       "Name: count, dtype: int64"
      ]
     },
     "execution_count": 178,
     "metadata": {},
     "output_type": "execute_result"
    }
   ],
   "source": [
    "s_y_test = pd.Series(y_test)\n",
    "s_y_test.value_counts()"
   ]
  },
  {
   "cell_type": "code",
   "execution_count": 180,
   "metadata": {
    "vscode": {
     "languageId": "plaintext"
    }
   },
   "outputs": [
    {
     "data": {
      "text/plain": [
       "0.658659217877095"
      ]
     },
     "execution_count": 180,
     "metadata": {},
     "output_type": "execute_result"
    }
   ],
   "source": [
    "y_test.mean()"
   ]
  },
  {
   "cell_type": "code",
   "execution_count": 182,
   "metadata": {
    "vscode": {
     "languageId": "plaintext"
    }
   },
   "outputs": [
    {
     "data": {
      "text/plain": [
       "0.341340782122905"
      ]
     },
     "execution_count": 182,
     "metadata": {},
     "output_type": "execute_result"
    }
   ],
   "source": [
    "1 - y_test.mean() "
   ]
  },
  {
   "cell_type": "code",
   "execution_count": 184,
   "metadata": {},
   "outputs": [
    {
     "data": {
      "text/plain": [
       "0.658659217877095"
      ]
     },
     "execution_count": 184,
     "metadata": {},
     "output_type": "execute_result"
    }
   ],
   "source": [
    "max(y_test.mean(), 1 - y_test.mean())"
   ]
  },
  {
   "cell_type": "code",
   "execution_count": 186,
   "metadata": {
    "vscode": {
     "languageId": "plaintext"
    }
   },
   "outputs": [
    {
     "data": {
      "text/plain": [
       "1    0.658659\n",
       "Name: count, dtype: float64"
      ]
     },
     "execution_count": 186,
     "metadata": {},
     "output_type": "execute_result"
    }
   ],
   "source": [
    "s_y_test.value_counts().head(1) / len(y_test)"
   ]
  },
  {
   "cell_type": "markdown",
   "metadata": {},
   "source": [
    "Nuestra exactitud es de 0.733, la cual es peor que la *null accuracy*, es decir, ahora mismo no tenemos un buen modelo ya que se predecirían un mayor número de resultados en el caso de siempre predecir la clase mayoritaria."
   ]
  },
  {
   "cell_type": "markdown",
   "metadata": {
    "jp-MarkdownHeadingCollapsed": true
   },
   "source": [
    "### 7.3.4 Matriz de confusion y F-score"
   ]
  },
  {
   "cell_type": "markdown",
   "metadata": {},
   "source": [
    "Se muestra la matriz de confusión y el informe de clasificación."
   ]
  },
  {
   "cell_type": "code",
   "execution_count": 191,
   "metadata": {
    "vscode": {
     "languageId": "plaintext"
    }
   },
   "outputs": [
    {
     "name": "stdout",
     "output_type": "stream",
     "text": [
      "[[177 434]\n",
      " [235 944]]\n"
     ]
    }
   ],
   "source": [
    "print(confusion_matrix(expected, predicted_Forest))"
   ]
  },
  {
   "cell_type": "code",
   "execution_count": 193,
   "metadata": {
    "vscode": {
     "languageId": "plaintext"
    }
   },
   "outputs": [
    {
     "name": "stdout",
     "output_type": "stream",
     "text": [
      "              precision    recall  f1-score   support\n",
      "\n",
      "           0       0.43      0.29      0.35       611\n",
      "           1       0.69      0.80      0.74      1179\n",
      "\n",
      "    accuracy                           0.63      1790\n",
      "   macro avg       0.56      0.55      0.54      1790\n",
      "weighted avg       0.60      0.63      0.60      1790\n",
      "\n"
     ]
    }
   ],
   "source": [
    "print(classification_report(expected, predicted_Forest))"
   ]
  },
  {
   "cell_type": "markdown",
   "metadata": {},
   "source": [
    "Se observa lo que hemos estado comentando durante todo el documento, tenemos un f1-score del 0.83 para los 1s mientras que estamos obteniendo un 0.42 para los 0s"
   ]
  },
  {
   "cell_type": "markdown",
   "metadata": {
    "jp-MarkdownHeadingCollapsed": true
   },
   "source": [
    "### 7.3.5 ROC y AUC"
   ]
  },
  {
   "cell_type": "markdown",
   "metadata": {},
   "source": [
    "Evaluamos la ROC-AUC score. Para ello representamos primero la curva de ROC."
   ]
  },
  {
   "cell_type": "code",
   "execution_count": 198,
   "metadata": {
    "vscode": {
     "languageId": "plaintext"
    }
   },
   "outputs": [
    {
     "data": {
      "image/png": "[encoded data removed]",
      "text/plain": [
       "<Figure size 640x480 with 1 Axes>"
      ]
     },
     "metadata": {},
     "output_type": "display_data"
    }
   ],
   "source": [
    "y_pred_prob_Forest = model_Forest.predict_proba(X_model_test)[:,1]\n",
    "fpr, tpr, thresholds = roc_curve(expected, y_pred_prob_Forest)\n",
    "plt.plot(fpr, tpr)\n",
    "plt.xlim([0.0, 1.0])\n",
    "plt.ylim([0.0, 1.0])\n",
    "plt.title('Curva ROC')\n",
    "plt.xlabel('Ratio de FP (1 - Recall)')\n",
    "plt.ylabel('Ratio TP (Sensitivity)')\n",
    "plt.grid(True)\n",
    "plt.show()"
   ]
  },
  {
   "cell_type": "markdown",
   "metadata": {},
   "source": [
    "Y mostramos sus thresholds."
   ]
  },
  {
   "cell_type": "code",
   "execution_count": 201,
   "metadata": {
    "vscode": {
     "languageId": "plaintext"
    }
   },
   "outputs": [
    {
     "data": {
      "text/plain": [
       "array([ inf, 0.9 , 0.77, 0.76, 0.75, 0.74, 0.73, 0.72, 0.71, 0.7 , 0.69,\n",
       "       0.68, 0.67, 0.66, 0.65, 0.64, 0.63, 0.62, 0.61, 0.6 , 0.59, 0.58,\n",
       "       0.57, 0.56, 0.55, 0.54, 0.53, 0.52, 0.51, 0.5 , 0.49, 0.48, 0.47,\n",
       "       0.46, 0.45, 0.44, 0.43, 0.42, 0.41, 0.4 , 0.39, 0.38, 0.37, 0.36,\n",
       "       0.35, 0.34, 0.33, 0.31, 0.29, 0.14])"
      ]
     },
     "execution_count": 201,
     "metadata": {},
     "output_type": "execute_result"
    }
   ],
   "source": [
    "thresholds"
   ]
  },
  {
   "cell_type": "markdown",
   "metadata": {},
   "source": [
    "Sorprendentemente, el modelo muestra un mejor rendimiento del esperado, aunque se aboserva la situación con los 0s al aumentar más rápido el eje *x* respecto al eje *y*."
   ]
  },
  {
   "cell_type": "markdown",
   "metadata": {},
   "source": [
    "La siguiente gráfica muestra las probabilidades de predicción en función de los umbrales."
   ]
  },
  {
   "cell_type": "code",
   "execution_count": 205,
   "metadata": {
    "vscode": {
     "languageId": "plaintext"
    }
   },
   "outputs": [
    {
     "data": {
      "text/plain": [
       "array([<Axes: title={'center': '0'}>, <Axes: title={'center': '1'}>],\n",
       "      dtype=object)"
      ]
     },
     "execution_count": 205,
     "metadata": {},
     "output_type": "execute_result"
    },
    {
     "data": {
      "image/png": "[encoded data removed]",
      "text/plain": [
       "<Figure size 640x480 with 2 Axes>"
      ]
     },
     "metadata": {},
     "output_type": "display_data"
    }
   ],
   "source": [
    "dprob = pd.DataFrame(data = {'probability':y_pred_prob_Forest, 'actual':y_test})\n",
    "dprob.probability.hist(by=dprob.actual, sharex=True, sharey=True)"
   ]
  },
  {
   "cell_type": "markdown",
   "metadata": {},
   "source": [
    "Se muestra que los mejores resultados para ambas clases se obtiene con el *threshold* igual a 0.75."
   ]
  },
  {
   "cell_type": "code",
   "execution_count": 228,
   "metadata": {
    "vscode": {
     "languageId": "plaintext"
    }
   },
   "outputs": [
    {
     "name": "stdout",
     "output_type": "stream",
     "text": [
      "Sensitivity: 0.8006785411365565\n",
      "Recall: 0.28968903436988547\n"
     ]
    }
   ],
   "source": [
    "best_thres_Random = 0.5\n",
    "\n",
    "evaluate_threshold(best_thres_Random)"
   ]
  },
  {
   "cell_type": "markdown",
   "metadata": {},
   "source": [
    "Con este valor se obtienen los siguientes resultados. Primero se recalculan las predicciones."
   ]
  },
  {
   "cell_type": "code",
   "execution_count": 231,
   "metadata": {},
   "outputs": [],
   "source": [
    "probs_Forest = model_Forest.predict_proba(X_model_test)[:, 1]  \n",
    "pred_thres_Forest = (probs_Forest >= best_thres_Random).astype(int) "
   ]
  },
  {
   "cell_type": "markdown",
   "metadata": {},
   "source": [
    "Se evalua la matriz de confusión."
   ]
  },
  {
   "cell_type": "code",
   "execution_count": 233,
   "metadata": {},
   "outputs": [
    {
     "name": "stdout",
     "output_type": "stream",
     "text": [
      "[[147 464]\n",
      " [185 994]]\n"
     ]
    }
   ],
   "source": [
    "print(confusion_matrix(expected, pred_thres_Forest))"
   ]
  },
  {
   "cell_type": "markdown",
   "metadata": {},
   "source": [
    "Y también se analiza el informe de la clasificación."
   ]
  },
  {
   "cell_type": "code",
   "execution_count": 237,
   "metadata": {},
   "outputs": [
    {
     "name": "stdout",
     "output_type": "stream",
     "text": [
      "              precision    recall  f1-score   support\n",
      "\n",
      "           0       0.44      0.24      0.31       611\n",
      "           1       0.68      0.84      0.75      1179\n",
      "\n",
      "    accuracy                           0.64      1790\n",
      "   macro avg       0.56      0.54      0.53      1790\n",
      "weighted avg       0.60      0.64      0.60      1790\n",
      "\n"
     ]
    }
   ],
   "source": [
    "print(classification_report(expected, pred_thres_Forest))"
   ]
  },
  {
   "cell_type": "markdown",
   "metadata": {},
   "source": [
    "Es decir, se obtiene una mejora significatica de la exactitud, a costa de empeorar 0.01 en la f1-score de los 0s."
   ]
  },
  {
   "cell_type": "markdown",
   "metadata": {},
   "source": [
    "Finalmente se calcula el valor de AUC."
   ]
  },
  {
   "cell_type": "code",
   "execution_count": 243,
   "metadata": {
    "vscode": {
     "languageId": "plaintext"
    }
   },
   "outputs": [
    {
     "name": "stdout",
     "output_type": "stream",
     "text": [
      "0.545183787753221\n"
     ]
    }
   ],
   "source": [
    "print(roc_auc_score(expected, predicted_Forest))"
   ]
  },
  {
   "cell_type": "markdown",
   "metadata": {},
   "source": [
    "Se ha obtenido un valor entre 0.6 y 0.7, es decir, el modelo se considerá como pobre o *D*."
   ]
  },
  {
   "cell_type": "markdown",
   "metadata": {
    "jp-MarkdownHeadingCollapsed": true
   },
   "source": [
    "### 7.3.6 Optimizacion"
   ]
  },
  {
   "cell_type": "markdown",
   "metadata": {},
   "source": [
    "Antes de nada, observamos cuales son los parámetros de nuestro modelo."
   ]
  },
  {
   "cell_type": "code",
   "execution_count": 93,
   "metadata": {
    "vscode": {
     "languageId": "plaintext"
    }
   },
   "outputs": [
    {
     "data": {
      "text/plain": [
       "{'bootstrap': True,\n",
       " 'ccp_alpha': 0.0,\n",
       " 'class_weight': 'balanced',\n",
       " 'criterion': 'gini',\n",
       " 'max_depth': None,\n",
       " 'max_features': 'sqrt',\n",
       " 'max_leaf_nodes': None,\n",
       " 'max_samples': None,\n",
       " 'min_impurity_decrease': 0.0,\n",
       " 'min_samples_leaf': 1,\n",
       " 'min_samples_split': 2,\n",
       " 'min_weight_fraction_leaf': 0.0,\n",
       " 'monotonic_cst': None,\n",
       " 'n_estimators': 100,\n",
       " 'n_jobs': -1,\n",
       " 'oob_score': False,\n",
       " 'random_state': 42,\n",
       " 'verbose': 0,\n",
       " 'warm_start': False}"
      ]
     },
     "execution_count": 93,
     "metadata": {},
     "output_type": "execute_result"
    }
   ],
   "source": [
    "model_Forest.get_params()"
   ]
  },
  {
   "cell_type": "markdown",
   "metadata": {},
   "source": [
    "También creemos que es interesante saber la profundidad media de nuestro modelo Random Forest, para así poder estimar mejor rango de valores en este apartado."
   ]
  },
  {
   "cell_type": "code",
   "execution_count": 95,
   "metadata": {},
   "outputs": [
    {
     "name": "stdout",
     "output_type": "stream",
     "text": [
      "Profundidad media de los árboles: 29.12\n"
     ]
    }
   ],
   "source": [
    "arboles_decision = model_Forest.estimators_\n",
    "\n",
    "profundidades = [arbol.tree_.max_depth for arbol in arboles_decision]\n",
    "profundidad_media = np.mean(profundidades)\n",
    "\n",
    "print(f\"Profundidad media de los árboles: {profundidad_media}\")"
   ]
  },
  {
   "cell_type": "markdown",
   "metadata": {},
   "source": [
    "Ahora seleccionamos los hiperparámetros a evaluar mediante un GridSearchCV. Como se evalua mediante un *cross validation*, siempre escogeremos los casos 3 o 4 de preprocesado para falsear menos los datos. Además, se ha añadido la librería *time* para saber el tiempo que tardo en realizar la busqueda de mejores parámetros.\n",
    "\n",
    "Estos hiperparámetros son:\n",
    "* ***n_estimator***: número de árboles.\n",
    "* ***criterion***: función para medir la calidad de una partición.\n",
    "* ***max_depth***: máxima profundidad de cada árbol.\n",
    "* ***min_samples_split***: número de muestras mínimas para dividir un nodo interno.\n",
    "* ***min_samples_leaf***: número de muestras mínimas de un nodo hoja.\n",
    "* ***max_features***: número de características a tener en cuenta a la hora de buscar la mejor división.\n",
    "* ***class_weight***: pesos asignados a las clases."
   ]
  },
  {
   "cell_type": "raw",
   "metadata": {
    "vscode": {
     "languageId": "plaintext"
    }
   },
   "source": [
    "optm_Forest = RandomForestClassifier(n_jobs=-1, random_state=seed)\n",
    "\n",
    "param_grid = {\n",
    "    'n_estimators': [150, 200, 250, 300],\n",
    "    'criterion': ['gini', 'entropy', 'log_loss'],\n",
    "    'max_depth': [25, 35],\n",
    "    'min_samples_split': [2, 5, 10],\n",
    "    'min_samples_leaf': [2, 4],\n",
    "    'max_features': [4, 10, 14],\n",
    "    'class_weight': ['balanced', 'balanced_subsample']\n",
    "}\n",
    "\n",
    "grid_search = GridSearchCV(optm_Forest, param_grid=param_grid, scoring=make_scorer(f1_score, average='weighted'), n_jobs=-1)\n",
    "\n",
    "inicio = time.time()\n",
    "grid_search.fit(X_pca, y_resampled)\n",
    "fin = time.time()"
   ]
  },
  {
   "cell_type": "markdown",
   "metadata": {},
   "source": [
    "Se calcula el tiempo que ha tardado en minutos."
   ]
  },
  {
   "cell_type": "raw",
   "metadata": {},
   "source": [
    "tiempo_total = (fin - inicio) / 60\n",
    "print(f\"La celda tardó {tiempo_total} minutos en ejecutarse.\")"
   ]
  },
  {
   "cell_type": "markdown",
   "metadata": {},
   "source": [
    "Se escoge el mejor parámetro y su  precisión asociada."
   ]
  },
  {
   "cell_type": "raw",
   "metadata": {
    "vscode": {
     "languageId": "plaintext"
    }
   },
   "source": [
    "print(\"Mejores parámetros: \", grid_search.best_params_)\n",
    "print(\"Mejor score: \", grid_search.best_score_)"
   ]
  },
  {
   "cell_type": "markdown",
   "metadata": {},
   "source": [
    "Observamos los mejores 10 casos para analizar varias posibilidades."
   ]
  },
  {
   "cell_type": "raw",
   "metadata": {},
   "source": [
    "results_df = pd.DataFrame(grid_search.cv_results_)"
   ]
  },
  {
   "cell_type": "raw",
   "metadata": {},
   "source": [
    "top_10_models = results_df.nlargest(10, \"mean_test_score\")\n",
    "\n",
    "print(\"\\nLos 10 mejores modelos:\")\n",
    "for index, row in top_10_models.iterrows():\n",
    "    print(\"\\nModelo:\")\n",
    "    print(f\"Parámetros: {row['params']}\")\n",
    "    print(f\"Puntuación media de prueba: {row['mean_test_score']}\")"
   ]
  },
  {
   "cell_type": "markdown",
   "metadata": {
    "jp-MarkdownHeadingCollapsed": true
   },
   "source": [
    "### 7.3.7 Entrenamiento y evaluacion con hiperparametros optimizados"
   ]
  },
  {
   "cell_type": "markdown",
   "metadata": {
    "jp-MarkdownHeadingCollapsed": true
   },
   "source": [
    "#### - Definicion"
   ]
  },
  {
   "cell_type": "markdown",
   "metadata": {},
   "source": [
    "Definimos los mejores parámetros (no se define con *grid_search.best_params_* para probar varias opciones de forma sencilla)."
   ]
  },
  {
   "cell_type": "code",
   "execution_count": 273,
   "metadata": {
    "vscode": {
     "languageId": "plaintext"
    }
   },
   "outputs": [],
   "source": [
    "params_final_Forest = {\n",
    "    'class_weight': 'balanced_subsample',\n",
    "    'max_depth': 25,\n",
    "    'max_features': 4,\n",
    "    'min_samples_leaf': 4,\n",
    "    'min_samples_split': 2,\n",
    "    'n_estimators': 300,\n",
    "    'n_jobs': -1,\n",
    "    'random_state': seed\n",
    "}"
   ]
  },
  {
   "cell_type": "markdown",
   "metadata": {},
   "source": [
    "Definimos el modelo desagregando el diccionario."
   ]
  },
  {
   "cell_type": "code",
   "execution_count": 276,
   "metadata": {},
   "outputs": [],
   "source": [
    "final_Forest = RandomForestClassifier(**params_final_Forest)"
   ]
  },
  {
   "cell_type": "markdown",
   "metadata": {},
   "source": [
    "#### - Entrenamiento y evaluacion"
   ]
  },
  {
   "cell_type": "markdown",
   "metadata": {},
   "source": [
    "Entrenamos el modelo y comprobamos su exactitud."
   ]
  },
  {
   "cell_type": "code",
   "execution_count": 108,
   "metadata": {
    "vscode": {
     "languageId": "plaintext"
    }
   },
   "outputs": [],
   "source": [
    "final_Forest.fit(X_pca, y_resampled)\n",
    "\n",
    "predicted_For_opt = final_Forest.predict(X_test_pca)\n",
    "expected_For_opt = y_test"
   ]
  },
  {
   "cell_type": "code",
   "execution_count": 109,
   "metadata": {
    "vscode": {
     "languageId": "plaintext"
    }
   },
   "outputs": [
    {
     "data": {
      "text/plain": [
       "0.7271317829457364"
      ]
     },
     "execution_count": 109,
     "metadata": {},
     "output_type": "execute_result"
    }
   ],
   "source": [
    "accuracy_score(expected_For_opt, predicted_For_opt)"
   ]
  },
  {
   "cell_type": "markdown",
   "metadata": {},
   "source": [
    "#### - Null accuracy"
   ]
  },
  {
   "cell_type": "markdown",
   "metadata": {},
   "source": [
    "La accuracy es similar a la anterior. Además, sigue siendo peor que la *null accuracy*."
   ]
  },
  {
   "cell_type": "markdown",
   "metadata": {},
   "source": [
    "#### - Matriz de confusion y F-score"
   ]
  },
  {
   "cell_type": "markdown",
   "metadata": {},
   "source": [
    "La matriz de confusión y el informe de clasificación también es muy similar."
   ]
  },
  {
   "cell_type": "code",
   "execution_count": 114,
   "metadata": {},
   "outputs": [
    {
     "name": "stdout",
     "output_type": "stream",
     "text": [
      "[[ 480  270]\n",
      " [ 962 2803]]\n"
     ]
    }
   ],
   "source": [
    "print(confusion_matrix(expected_For_opt, predicted_For_opt))"
   ]
  },
  {
   "cell_type": "code",
   "execution_count": 115,
   "metadata": {
    "vscode": {
     "languageId": "plaintext"
    }
   },
   "outputs": [
    {
     "name": "stdout",
     "output_type": "stream",
     "text": [
      "              precision    recall  f1-score   support\n",
      "\n",
      "           0       0.33      0.64      0.44       750\n",
      "           1       0.91      0.74      0.82      3765\n",
      "\n",
      "    accuracy                           0.73      4515\n",
      "   macro avg       0.62      0.69      0.63      4515\n",
      "weighted avg       0.82      0.73      0.76      4515\n",
      "\n"
     ]
    }
   ],
   "source": [
    "print(classification_report(expected_For_opt, predicted_For_opt))"
   ]
  },
  {
   "cell_type": "markdown",
   "metadata": {},
   "source": [
    "#### - ROC y AUC"
   ]
  },
  {
   "cell_type": "markdown",
   "metadata": {},
   "source": [
    "Se calcula el ROC y se reajusta el umbral de probabilidad."
   ]
  },
  {
   "cell_type": "code",
   "execution_count": 118,
   "metadata": {
    "vscode": {
     "languageId": "plaintext"
    }
   },
   "outputs": [
    {
     "data": {
      "image/png": "[encoded data removed]",
      "text/plain": [
       "<Figure size 640x480 with 1 Axes>"
      ]
     },
     "metadata": {},
     "output_type": "display_data"
    }
   ],
   "source": [
    "y_pred_prob_Forest = final_Forest.predict_proba(X_test_pca)[:,1]\n",
    "fpr, tpr, thresholds = roc_curve(y_test, y_pred_prob_Forest)\n",
    "plt.plot(fpr, tpr)\n",
    "plt.xlim([0.0, 1.0])\n",
    "plt.ylim([0.0, 1.0])\n",
    "plt.title('Curva ROC')\n",
    "plt.xlabel('Ratio de FP (1 - Recall)')\n",
    "plt.ylabel('Ratio TP (Sensitivity)')\n",
    "plt.grid(True)\n",
    "plt.show()"
   ]
  },
  {
   "cell_type": "code",
   "execution_count": 119,
   "metadata": {
    "vscode": {
     "languageId": "plaintext"
    }
   },
   "outputs": [
    {
     "data": {
      "text/plain": [
       "array([       inf, 0.99886249, 0.96947076, ..., 0.02323376, 0.02268602,\n",
       "       0.00257233])"
      ]
     },
     "execution_count": 119,
     "metadata": {},
     "output_type": "execute_result"
    }
   ],
   "source": [
    "thresholds"
   ]
  },
  {
   "cell_type": "code",
   "execution_count": 120,
   "metadata": {
    "vscode": {
     "languageId": "plaintext"
    }
   },
   "outputs": [
    {
     "data": {
      "text/plain": [
       "array([<Axes: title={'center': '0'}>, <Axes: title={'center': '1'}>],\n",
       "      dtype=object)"
      ]
     },
     "execution_count": 120,
     "metadata": {},
     "output_type": "execute_result"
    },
    {
     "data": {
      "image/png": "[encoded data removed]",
      "text/plain": [
       "<Figure size 640x480 with 2 Axes>"
      ]
     },
     "metadata": {},
     "output_type": "display_data"
    }
   ],
   "source": [
    "dprob = pd.DataFrame(data = {'probability':y_pred_prob_Forest, 'actual':y_test})\n",
    "dprob.probability.hist(by=dprob.actual, sharex=True, sharey=True)"
   ]
  },
  {
   "cell_type": "code",
   "execution_count": 121,
   "metadata": {
    "vscode": {
     "languageId": "plaintext"
    }
   },
   "outputs": [
    {
     "name": "stdout",
     "output_type": "stream",
     "text": [
      "Sensitivity: 0.8900398406374502\n",
      "Recall: 0.41466666666666663\n"
     ]
    }
   ],
   "source": [
    "op_thres_Random = 0.35\n",
    "\n",
    "evaluate_threshold(op_thres_Random)"
   ]
  },
  {
   "cell_type": "code",
   "execution_count": 122,
   "metadata": {},
   "outputs": [],
   "source": [
    "probs_For_opt = final_Forest.predict_proba(X_test_pca)[:, 1]  \n",
    "pred_thres_For_opt = (probs_For_opt >= op_thres_Random).astype(int) "
   ]
  },
  {
   "cell_type": "code",
   "execution_count": 123,
   "metadata": {},
   "outputs": [
    {
     "name": "stdout",
     "output_type": "stream",
     "text": [
      "[[ 309  441]\n",
      " [ 414 3351]]\n"
     ]
    }
   ],
   "source": [
    "print(confusion_matrix(expected_For_opt, pred_thres_For_opt))"
   ]
  },
  {
   "cell_type": "code",
   "execution_count": 124,
   "metadata": {},
   "outputs": [
    {
     "name": "stdout",
     "output_type": "stream",
     "text": [
      "              precision    recall  f1-score   support\n",
      "\n",
      "           0       0.43      0.41      0.42       750\n",
      "           1       0.88      0.89      0.89      3765\n",
      "\n",
      "    accuracy                           0.81      4515\n",
      "   macro avg       0.66      0.65      0.65      4515\n",
      "weighted avg       0.81      0.81      0.81      4515\n",
      "\n"
     ]
    }
   ],
   "source": [
    "print(classification_report(expected_For_opt, pred_thres_For_opt))"
   ]
  },
  {
   "cell_type": "markdown",
   "metadata": {},
   "source": [
    "Se obtiene la misma accuracy aunque mejora la *f1 score* en los 0s."
   ]
  },
  {
   "cell_type": "markdown",
   "metadata": {},
   "source": [
    "Se calcula la AUC score."
   ]
  },
  {
   "cell_type": "code",
   "execution_count": 127,
   "metadata": {
    "vscode": {
     "languageId": "plaintext"
    }
   },
   "outputs": [
    {
     "name": "stdout",
     "output_type": "stream",
     "text": [
      "0.6922443559096946\n"
     ]
    }
   ],
   "source": [
    "print(roc_auc_score(expected_For_opt, predicted_For_opt))"
   ]
  },
  {
   "cell_type": "markdown",
   "metadata": {},
   "source": [
    "También ha tenido una pequeña mejora, pero sigue en el mismo intervalo. Es decir, sigue siendo un modelo *D*."
   ]
  },
  {
   "cell_type": "markdown",
   "metadata": {
    "jp-MarkdownHeadingCollapsed": true
   },
   "source": [
    "### 7.3.8 Conclusiones"
   ]
  },
  {
   "cell_type": "markdown",
   "metadata": {},
   "source": [
    "A continuación se muestra los resultados de los modelos optimizados y sin optimizar. Cabe recalcar que se probaron otros cuatro conjuntos de hiperparámetros para la mayoria de los casos de preprocesado, pero se acabó considerando absurdo porque mejoraba o empeoraba 0.01 en diversos valores."
   ]
  },
  {
   "cell_type": "markdown",
   "metadata": {},
   "source": [
    "Caso X: accuracy - f1 score 0s - aux score - accuracy y f1 score 0s (threshold)\n",
    "\n",
    "Caso 1: \n",
    "* Normal:      0.78 - 0.35 - 0.612 - 0.75 y 0,38 (0.6)\n",
    "* Optimizado:  0.78 - 0.40 - 0.642 - 0.78 y 0.40 (0.5)\n",
    "\n",
    "Caso 2: \n",
    "* Normal:      0.78 - 0.38 - 0.627 - 0.75 y 0,40 (0.6)\n",
    "* Optimizado:  0.77 - 0.40 - 0.645 - 0.77 y 0.40 (0.5)\n",
    "\n",
    "Caso 3:\n",
    "* Normal:      0.72 - 0.41 - 0.666 - 0.78 y 0,41 (0.4)\n",
    "* Optimizado:  0.72 - 0.43 - 0.689 - 0.80 y 0.40 (0.35)\n",
    "\n",
    "Caso 4: \n",
    "* Normal:      0.73 - 0.42 - 0.676 - 0.79 y 0,41 (0.4)\n",
    "* Optimizado:  0.73 - 0.43 - 0.684 - 0.81 y 0.41 (0.35)\n",
    "\n",
    "Caso 5: \n",
    "* Normal:      0.80 - 0.34 - 0.602 - 0.78 y 0,37 (0.6)\n",
    "* Optimizado:  0.79 - 0.38 - 0.632 - 0.77 y 0.40 (0.55)\n",
    "\n",
    "Caso 6: \n",
    "* Normal:      0.81 - 0.37 - 0.619 - 0.78 y 0,39 (0.6)\n",
    "* Optimizado:  0.78 - 0.40 - 0.684 - 0.76 y 0.41 (0.55)\n",
    "\n",
    "Caso 3-2 (undersampling = 0.6): \n",
    "* Normal:      0.77 - 0.40 - 0.664 - 0.78 y 0,41 (0.4)\n",
    "* Optimizado:  0.72 - 0.43 - 0.689 - 0.79 y 0.40 (0.4)\n",
    "\n",
    "Caso 4-2 (undersampling = 0.6):\n",
    "* Normal:      0.78 - 0.42 - 0.664 - 0.80 y 0,40 (0.45)\n",
    "* Optimizado:  0.75 - 0.42 - 0.670 - 0.80 y 0.42 (0.4)\n",
    "\n",
    "Caso 5-2 (undersampling = 0.6 y oversampling = 0.8): \n",
    "* Normal:      0.75 - 0.40 - 0.651 - 0.80 y 0,39 (0.4)\n",
    "* Optimizado:  0.74 - 0.42 - 0.672 - 0.79 y 0.41 (0.55)\n",
    "\n",
    "Caso 6-2 (undersampling = 0.6 y oversampling = 0.8): \n",
    "* Normal:      0.75 - 0.41 - 0.659 - 0.78 y 0,41 (0.45)\n",
    "* Optimizado:  0.74 - 0.43 - 0.676 - 0.81 y 0.39 (0.35)"
   ]
  },
  {
   "cell_type": "markdown",
   "metadata": {},
   "source": [
    "Se observa que para este modelo todos son valores muy similares. Por ello se probará primero a la hora de subirlo con el caso mejor (el cuatro) pero también se realizarán pruebas sobre Kaggle con el resto."
   ]
  },
  {
   "cell_type": "markdown",
   "metadata": {},
   "source": [
    "# 8. Exportar CSV"
   ]
  },
  {
   "cell_type": "markdown",
   "metadata": {},
   "source": [
    "## 8.1 Asignacion de las variables"
   ]
  },
  {
   "cell_type": "code",
   "execution_count": 265,
   "metadata": {},
   "outputs": [],
   "source": [
    "X_kaggle = X_res_final\n",
    "y_kaggle = y_res_final\n",
    "\n",
    "X_kaggle_test = X_scaled_te_final"
   ]
  },
  {
   "cell_type": "markdown",
   "metadata": {},
   "source": [
    "## 8.2 Clasificador Random Forest"
   ]
  },
  {
   "cell_type": "markdown",
   "metadata": {},
   "source": [
    "### 8.2.1 Entrenamiento y exportacion de las predicciones"
   ]
  },
  {
   "cell_type": "markdown",
   "metadata": {},
   "source": [
    "Se entrena con los nuevos valores de train y test, y se modifica el umbral de probabilidades. En un principio, el valor del umbral era el de la variable *op_thres_Random*, pero se decidió finalmente que el valor del umbral fueran valores numéricos para que fuera más sencillo hacer diversas pruebas en Kaggle."
   ]
  },
  {
   "cell_type": "code",
   "execution_count": 335,
   "metadata": {},
   "outputs": [],
   "source": [
    "final_Forest.fit(X_kaggle, y_kaggle)\n",
    "\n",
    "probs_For_final = final_Forest.predict_proba(X_kaggle_test)[:, 1]  \n",
    "pred_thres_For_final = (probs_For_final >= 0.55).astype(int) "
   ]
  },
  {
   "cell_type": "markdown",
   "metadata": {},
   "source": [
    "Se crea un *dataframe* con las predicciones obtenidas con su correspondiente *id*."
   ]
  },
  {
   "cell_type": "code",
   "execution_count": 337,
   "metadata": {},
   "outputs": [],
   "source": [
    "df_label_Random = pd.DataFrame(pred_thres_For_final, columns=['label'])"
   ]
  },
  {
   "cell_type": "code",
   "execution_count": 338,
   "metadata": {},
   "outputs": [],
   "source": [
    "url = \"formated/test_nolabel.csv\"\n",
    "df_aux = pd.read_csv(url)"
   ]
  },
  {
   "cell_type": "code",
   "execution_count": 339,
   "metadata": {},
   "outputs": [],
   "source": [
    "df_id = df_aux['id'].reset_index(drop=True)"
   ]
  },
  {
   "cell_type": "code",
   "execution_count": 340,
   "metadata": {},
   "outputs": [],
   "source": [
    "df_final_Random = pd.concat([df_id, df_label_Random], axis=1)"
   ]
  },
  {
   "cell_type": "markdown",
   "metadata": {},
   "source": [
    "Mostramos los resultados obtenidos para tener una idea de la proporción de 1s y 0s de Kaggle."
   ]
  },
  {
   "cell_type": "code",
   "execution_count": 342,
   "metadata": {},
   "outputs": [
    {
     "data": {
      "text/plain": [
       "label\n",
       "0    2580\n",
       "1    1256\n",
       "Name: count, dtype: int64"
      ]
     },
     "execution_count": 342,
     "metadata": {},
     "output_type": "execute_result"
    }
   ],
   "source": [
    "df_final_Random['label'].value_counts()"
   ]
  },
  {
   "cell_type": "markdown",
   "metadata": {},
   "source": [
    "Se transforma el *dataframe* a un archivo *CSV*."
   ]
  },
  {
   "cell_type": "code",
   "execution_count": 344,
   "metadata": {},
   "outputs": [],
   "source": [
    "df_final_Random.to_csv('./submit/random.csv', index=False)"
   ]
  },
  {
   "cell_type": "markdown",
   "metadata": {},
   "source": [
    "# 8. Referencias"
   ]
  },
  {
   "cell_type": "markdown",
   "metadata": {},
   "source": [
    "* [ColumnTransformer. (s. f.). Scikit-learn.](https://scikit-learn.org/stable/modules/generated/sklearn.compose.ColumnTransformer.html)\n",
    "* [GradientBoostingClassifier. (s. f.). Scikit-learn.](https://scikit-learn.org/stable/modules/generated/sklearn.ensemble.GradientBoostingClassifier.html)\n",
    "* [GridSearchCV. (s. f.). Scikit-learn.](https://scikit-learn.org/stable/modules/generated/sklearn.model_selection.GridSearchCV.html)\n",
    "* [KNeighborsClassifier. (s. f.). Scikit-learn.](https://scikit-learn.org/stable/modules/generated/sklearn.neighbors.KNeighborsClassifier.html)\n",
    "* [LinearSVC. (s. f.). Scikit-learn.](https://scikit-learn.org/stable/modules/generated/sklearn.svm.LinearSVC.html)\n",
    "* [MLPClassifier. (s. f.). Scikit-learn.](https://scikit-learn.org/stable/modules/generated/sklearn.neural_network.MLPClassifier.html)\n",
    "* [PCA. (s. f.). Scikit-learn.](https://scikit-learn.org/stable/modules/generated/sklearn.decomposition.PCA.html)\n",
    "* [RandomForestClassifier. (s. f.). Scikit-learn.](https://scikit-learn.org/stable/modules/generated/sklearn.ensemble.RandomForestClassifier.html)\n",
    "* [RandomUnderSampler — Version 0.13.0. (s. f.). Imbalance learn.](https://imbalanced-learn.org/stable/references/generated/imblearn.under_sampling.RandomUnderSampler.html)\n",
    "* [SMOTE — Version 0.13.0. (s. f.). Imbalanced learn.](https://imbalanced-learn.org/stable/references/generated/imblearn.over_sampling.SMOTE.html)\n",
    "* [StandardScaler. (s. f.). Scikit-learn.](https://scikit-learn.org/stable/modules/generated/sklearn.preprocessing.StandardScaler.html)\n",
    "* [train_test_split. (s. f.). Scikit-learn.](https://scikit-learn.org/stable/modules/generated/sklearn.model_selection.train_test_split.html)\n",
    "* [VotingClassifier. (s. f.). Scikit-learn.](https://scikit-learn.org/stable/modules/generated/sklearn.ensemble.VotingClassifier.html)"
   ]
  }
 ],
 "metadata": {
  "kernelspec": {
   "display_name": "Python 3 (ipykernel)",
   "language": "python",
   "name": "python3"
  },
  "language_info": {
   "codemirror_mode": {
    "name": "ipython",
    "version": 3
   },
   "file_extension": ".py",
   "mimetype": "text/x-python",
   "name": "python",
   "nbconvert_exporter": "python",
   "pygments_lexer": "ipython3",
   "version": "3.12.7"
  }
 },
 "nbformat": 4,
 "nbformat_minor": 4
}
