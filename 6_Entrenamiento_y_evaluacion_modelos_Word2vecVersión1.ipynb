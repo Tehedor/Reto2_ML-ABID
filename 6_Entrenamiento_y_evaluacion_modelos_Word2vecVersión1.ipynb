{
 "cells": [
  {
   "cell_type": "markdown",
   "metadata": {},
   "source": [
    "<header style=\"width:100%;position:relative\">\n",
    "  <div style=\"width:80%;float:right;\">\n",
    "    <h1>False Political Claim Detection</h1>\n",
    "    <h3>Entrenamiento y evaluación de los modelos</h3>\n",
    "    <h5>Grupo 2</h5>\n",
    "  </div>\n",
    "        <img style=\"width:15%;\" src=\"./images/logo.jpg\" alt=\"UPM\" />\n",
    "</header>"
   ]
  },
  {
   "cell_type": "markdown",
   "metadata": {},
   "source": [
    "# Índice"
   ]
  },
  {
   "cell_type": "markdown",
   "metadata": {},
   "source": [
    "1. [Importar librerias](#1.-Importar-librerias)\n",
    "2. [Variables globales y funciones auxiliares](#2.-Variables-globales-y-funciones-auxiliares)\n",
    "3. [Carga del dataframe](#3.-Carga-del-dataframe)\n",
    "4. [Selección de las características](#4.-Seleccion-de-las-caracteristicas)\n",
    "5. [Carga de los datos y división en entrenamiento y test](#5.-Carga-de-los-datos-y-division-en-entrenamiento-y-test)\n",
    "6. [Preprocesado](#6.-Preprocesado)\n",
    "    * 6.1 [Tratamiento de los textos](#6.1-Tratamiento-de-los-textos)\n",
    "    * 6.2 [Remuestreo](#6.2-Remuestreo)\n",
    "7. [Modelos seleccionados](#7.-Modelos-seleccionados)\n",
    "    * 7.1 [Introducción](#7.1-Introduccion)\n",
    "    * 7.2 [Asignacion de las variables](#7.2-Asignacion-de-las-variables)\n",
    "    * 7.3 [Clasificador Random Forest](#7.3-Clasificador-Random-Forest)\n",
    "8. [Exportar CSV](#8.-Exportar-CSV)\n",
    "    * 8.1 [Asignacion de las variables](#8.1-Asignacion-de-las-variables)\n",
    "    * 8.2 [Clasificador Random Forest](#8.2-Clasificador-Random-Forest)\n",
    "9. [Referencias](#9.-Referencias)"
   ]
  },
  {
   "cell_type": "markdown",
   "metadata": {},
   "source": [
    "# 1. Importar librerias"
   ]
  },
  {
   "cell_type": "code",
   "execution_count": 912,
   "metadata": {},
   "outputs": [
    {
     "name": "stdout",
     "output_type": "stream",
     "text": [
      "Todas las librerias fueron correctamente importadas.\n"
     ]
    }
   ],
   "source": [
    "# General import and load data\n",
    "import pandas as pd\n",
    "import numpy as np\n",
    "\n",
    "# Resampling\n",
    "from imblearn.under_sampling import RandomUnderSampler\n",
    "from imblearn.over_sampling import SMOTE\n",
    "\n",
    "# Preprocessing\n",
    "from sklearn.compose import ColumnTransformer\n",
    "from sklearn.preprocessing import StandardScaler\n",
    "from sklearn.feature_extraction.text import TfidfVectorizer\n",
    "from sklearn.decomposition import TruncatedSVD\n",
    "\n",
    "# Splitting\n",
    "from sklearn.model_selection import train_test_split\n",
    "\n",
    "# Estimators\n",
    "from sklearn.svm import LinearSVC\n",
    "from sklearn.neural_network import MLPClassifier\n",
    "from sklearn.neighbors import KNeighborsClassifier\n",
    "from sklearn.ensemble import RandomForestClassifier, GradientBoostingClassifier, VotingClassifier\n",
    "\n",
    "# Evaluation\n",
    "from sklearn.metrics import accuracy_score, confusion_matrix, classification_report\n",
    "from sklearn.metrics import make_scorer, f1_score, recall_score, roc_curve, roc_auc_score\n",
    "\n",
    "# Optimization\n",
    "from sklearn.model_selection import GridSearchCV, PredefinedSplit\n",
    "\n",
    "# Visualization\n",
    "import matplotlib.pyplot as plt\n",
    "\n",
    "# Time optimization\n",
    "import time\n",
    "\n",
    "# word2vec\n",
    "from gensim.models import Word2Vec\n",
    "import gensim\n",
    "import numpy as np\n",
    "from nltk.tokenize import word_tokenize\n",
    "import nltk\n",
    "from nltk.tokenize import word_tokenize\n",
    "\n",
    "\n",
    "print(\"Todas las librerias fueron correctamente importadas.\")"
   ]
  },
  {
   "cell_type": "markdown",
   "metadata": {},
   "source": [
    "# 2. Variables globales y funciones auxiliares"
   ]
  },
  {
   "cell_type": "markdown",
   "metadata": {},
   "source": [
    "Se fija un seed para todo el documento para fijar la aleatoriedad y así obtener resultados replicables."
   ]
  },
  {
   "cell_type": "code",
   "execution_count": 913,
   "metadata": {},
   "outputs": [],
   "source": [
    "seed = 42"
   ]
  },
  {
   "cell_type": "markdown",
   "metadata": {},
   "source": [
    "Función utilizado para evaluar los distintos umbrales en la curva de ROC."
   ]
  },
  {
   "cell_type": "code",
   "execution_count": 914,
   "metadata": {},
   "outputs": [],
   "source": [
    "def evaluate_threshold(threshold):\n",
    "    print('Sensitivity:', tpr[thresholds > threshold][-1])\n",
    "    print('Recall:', 1 - fpr[thresholds > threshold][-1])"
   ]
  },
  {
   "cell_type": "markdown",
   "metadata": {},
   "source": [
    "# 3. Carga del dataframe"
   ]
  },
  {
   "cell_type": "markdown",
   "metadata": {},
   "source": [
    "Se cargan los datos de la ruta *formated/train_exportado.csv*, los cuales son los datos ya procesados por uno de nuestros compañeros."
   ]
  },
  {
   "cell_type": "code",
   "execution_count": 915,
   "metadata": {},
   "outputs": [
    {
     "name": "stdout",
     "output_type": "stream",
     "text": [
      "Datos cargados correctamente\n",
      "\n"
     ]
    }
   ],
   "source": [
    "url = \"formated/train_exportado.csv\"\n",
    "df = pd.read_csv(url)\n",
    "\n",
    "print(\"Datos cargados correctamente\\n\")"
   ]
  },
  {
   "cell_type": "markdown",
   "metadata": {},
   "source": [
    "También cargamos el test que debemos predecir para Kaggle de la ruta *formated/test_exportado.csv*."
   ]
  },
  {
   "cell_type": "code",
   "execution_count": 916,
   "metadata": {},
   "outputs": [
    {
     "name": "stdout",
     "output_type": "stream",
     "text": [
      "Test cargado correctamente\n",
      "\n"
     ]
    }
   ],
   "source": [
    "url = \"formated/test_exportado.csv\"\n",
    "df_test = pd.read_csv(url)\n",
    "\n",
    "print(\"Test cargado correctamente\\n\")"
   ]
  },
  {
   "cell_type": "markdown",
   "metadata": {},
   "source": [
    "# 4. Seleccion de las caracteristicas"
   ]
  },
  {
   "cell_type": "markdown",
   "metadata": {},
   "source": [
    "En el siguiente array se muestran todas las caracteristicas por si se decide realizar pruebas con otras *features*."
   ]
  },
  {
   "cell_type": "code",
   "execution_count": 917,
   "metadata": {},
   "outputs": [],
   "source": [
    "all_features = [\n",
    "    # Identificador\n",
    "    'id',\n",
    "\n",
    "    # Etiqueta objetivo\n",
    "    'label',\n",
    "\n",
    "    # Texto original y procesado\n",
    "    'statement', 'statement-raw', 'statement-lemmatize', \n",
    "\n",
    "    # Features derivados del texto\n",
    "    'statement-ner', 'feelings',\n",
    "\n",
    "    # One-hot encoded de los temas reagrupados del texto \n",
    "    'subject-ciencia_y_tecnologia', 'subject-economia_y_finanzas',\n",
    "    'subject-educacion', 'subject-medio_ambiente_y_energia', 'subject-otros',\n",
    "    'subject-politica_y_gobierno', 'subject-relaciones_internacionales',\n",
    "    'subject-salud_y_bienestar', 'subject-seguridad_y_justicia',\n",
    "    'subject-sociedad_y_cultura', 'subject-trabajo_y_empleo',\n",
    "\n",
    "    # Resto de las categoricas agrupadas\n",
    "    'speaker_grouped', 'speaker_job_grouped', 'state_info_grouped', 'party_group',\n",
    "\n",
    "    # Resto de las categoricas agrupadas y codificadas\n",
    "    'speaker_grouped_cod', 'speaker_job_grouped_cod',\n",
    "    'state_info_grouped_cod', 'party_group_cod',\n",
    "\n",
    "    # Variables generadas por LLM los null\n",
    "    'speaker_job-llm', 'speaker_job_cod-llm',\n",
    "    'state_info-llm', 'state_info_cod-llm',\n",
    "    'party_affiliation-llm', 'party_affiliation_cod-llm'\n",
    "]"
   ]
  },
  {
   "cell_type": "markdown",
   "metadata": {},
   "source": [
    "Se seleccionan todas las categorias menos: \n",
    "* ***id***: no aporta ningún valor.\n",
    "* ***label***: variable a predecir.\n",
    "* ***statement***: esta *feature* esta por si nos es necesario en algun momento futuro tener el texto sin procesar.\n",
    "* ***statement-lemmatize***: esta *feature* solo esta para probar en notebooks posteriores si clasifica mejor o peor con las raices de las palabras.\n",
    "* ***statement-ner***: esta *feature* esta para ver si el clasificador funciona mejor con el NER por separado.\n",
    "* ***speaker_grouped***, ***speaker_job_grouped***, ***state_info_grouped***, ***party_group***: suponemos que tenemos la misma información ya codificada.\n",
    "* ***speaker_job-llm***, ***speaker_job_cod-llm***, ***state_info-llm***, ***state_info_cod-llm***, ***party_affiliation-llm***, ***party_affiliation_cod-llm***: esta información ya esta en otras *features*, la diferencia esta en como se tratan los nulos asi que se analizará cual funciona mejor si con LLM o sin ellos durante el apartado de clasificación."
   ]
  },
  {
   "cell_type": "code",
   "execution_count": 918,
   "metadata": {},
   "outputs": [],
   "source": [
    "selected_features = [\n",
    "    # Texto\n",
    "    'statement-raw',\n",
    "    'statement-lemmatize',\n",
    "    # Features derivados del texto\n",
    "    'feelings',\n",
    "\n",
    "    # One-hot encoded de los temas reagrupados del texto \n",
    "    'subject-ciencia_y_tecnologia', 'subject-economia_y_finanzas',\n",
    "    'subject-educacion', 'subject-medio_ambiente_y_energia', 'subject-otros',\n",
    "    'subject-politica_y_gobierno', 'subject-relaciones_internacionales',\n",
    "    'subject-salud_y_bienestar', 'subject-seguridad_y_justicia',\n",
    "    'subject-sociedad_y_cultura', 'subject-trabajo_y_empleo',\n",
    "\n",
    "    # Resto de las categoricas agrupadas y codificadas\n",
    "    'speaker_grouped_cod', 'speaker_job_grouped_cod',\n",
    "    'state_info_grouped_cod', 'party_group_cod'\n",
    "]"
   ]
  },
  {
   "cell_type": "markdown",
   "metadata": {},
   "source": [
    "En caso de querer probar si funcionan mejor las de los LLM, se sustituirán por su simil. También si se quiere probar el texto lematizado se sustituira por el *raw*."
   ]
  },
  {
   "cell_type": "markdown",
   "metadata": {},
   "source": [
    "De las cuales texto es:"
   ]
  },
  {
   "cell_type": "code",
   "execution_count": 919,
   "metadata": {},
   "outputs": [],
   "source": [
    "text = 'statement-raw'"
   ]
  },
  {
   "cell_type": "markdown",
   "metadata": {},
   "source": [
    "Y las que no se corresponden con texto son:"
   ]
  },
  {
   "cell_type": "code",
   "execution_count": 920,
   "metadata": {},
   "outputs": [],
   "source": [
    "no_text = [\n",
    "    # Features derivados del texto\n",
    "    'feelings',\n",
    "\n",
    "    # One-hot encoded de los temas reagrupados del texto \n",
    "    'subject-ciencia_y_tecnologia', 'subject-economia_y_finanzas',\n",
    "    'subject-educacion', 'subject-medio_ambiente_y_energia', 'subject-otros',\n",
    "    'subject-politica_y_gobierno', 'subject-relaciones_internacionales',\n",
    "    'subject-salud_y_bienestar', 'subject-seguridad_y_justicia',\n",
    "    'subject-sociedad_y_cultura', 'subject-trabajo_y_empleo',\n",
    "\n",
    "    # Resto de las categoricas agrupadas y codificadas\n",
    "     'speaker_grouped_cod', 'speaker_job_grouped_cod',\n",
    "     'state_info_grouped_cod', 'party_group_cod'\n",
    "]"
   ]
  },
  {
   "cell_type": "markdown",
   "metadata": {},
   "source": [
    "Y de las cuales, numéricas son las siguientes:"
   ]
  },
  {
   "cell_type": "code",
   "execution_count": null,
   "metadata": {},
   "outputs": [],
   "source": []
  },
  {
   "cell_type": "code",
   "execution_count": 921,
   "metadata": {},
   "outputs": [],
   "source": [
    "numeric_vars = [\n",
    "    'speaker_grouped_cod', 'speaker_job_grouped_cod',\n",
    "    'state_info_grouped_cod', 'party_group_cod'\n",
    "]"
   ]
  },
  {
   "cell_type": "markdown",
   "metadata": {},
   "source": [
    "# 5. Carga de los datos y division en entrenamiento y test"
   ]
  },
  {
   "cell_type": "markdown",
   "metadata": {},
   "source": [
    "Cargamos las caracteristicas seleccionadas en la variable X y el objetivo *Accept* en la variable y."
   ]
  },
  {
   "cell_type": "code",
   "execution_count": 922,
   "metadata": {},
   "outputs": [],
   "source": [
    "X = df[selected_features] \n",
    "y = df['label'].values"
   ]
  },
  {
   "cell_type": "markdown",
   "metadata": {},
   "source": [
    "Se separa ya en entrenamiento y test para no falsear los datos del test al realizar el balanceo."
   ]
  },
  {
   "cell_type": "code",
   "execution_count": 923,
   "metadata": {},
   "outputs": [],
   "source": [
    "X_train, X_test, y_train, y_test = train_test_split(X, y, test_size=0.2, random_state=seed)"
   ]
  },
  {
   "cell_type": "markdown",
   "metadata": {},
   "source": [
    "A la hora de subir el modelo a Kaggle, ya se nos da dividido el entrenamiento y el test. Por ello, se utilizarán todos los datos tratados como entrenamiento (aunque también se le aplicará el mejor caso de preprocesado para cada modelo)."
   ]
  },
  {
   "cell_type": "code",
   "execution_count": 924,
   "metadata": {},
   "outputs": [],
   "source": [
    "X_train_final = X\n",
    "y_train_final = y\n",
    "\n",
    "X_test_final = df_test[selected_features] "
   ]
  },
  {
   "cell_type": "markdown",
   "metadata": {},
   "source": [
    "# 6. Preprocesado"
   ]
  },
  {
   "cell_type": "markdown",
   "metadata": {},
   "source": [
    "Como se menciona en el notebook dedicado al preprocesamiento, primero se tratará el texto, después se reducirá su dimensionalidad con un *TruncatedSVD*, se estandarizarán las variables codificadas mediante un *StandardScaler* y, finalmente, se realizará un remuestreo mediante *SMOTE* y *RandomUnderSampler*. \n",
    "\n",
    "En caso de querer probar el caso de preprocesamiento 6, será necesario eliminar el *StandardScaler* junto al *ColumnTransformer*."
   ]
  },
  {
   "cell_type": "markdown",
   "metadata": {},
   "source": [
    "## 6.1 Tratamiento de los textos"
   ]
  },
  {
   "cell_type": "markdown",
   "metadata": {},
   "source": [
    "### 6.1.1 Vectorización"
   ]
  },
  {
   "cell_type": "markdown",
   "metadata": {},
   "source": [
    "Primero tokenizamos el texto para Word2Vec"
   ]
  },
  {
   "cell_type": "code",
   "execution_count": 925,
   "metadata": {},
   "outputs": [],
   "source": [
    "# Tokeniza el texto \n",
    "X_train_tokens = X_train[text].apply(lambda x: x.split())\n",
    "X_test_tokens = X_test[text].apply(lambda x: x.split())\n"
   ]
  },
  {
   "cell_type": "code",
   "execution_count": 926,
   "metadata": {},
   "outputs": [],
   "source": [
    "w2v_model = Word2Vec(sentences=X_train_tokens, vector_size=200, window=5, min_count=2, workers=4, seed=42)\n",
    "\n",
    "\n",
    "# Palabras conocidas\n",
    "vocab = set(w2v_model.wv.index_to_key)\n",
    "\n",
    "def sentence_vector(tokens, model, size=200):\n",
    "    vectors = [model.wv[w] for w in tokens if w in vocab]\n",
    "    if len(vectors) == 0:\n",
    "        return np.zeros(size)\n",
    "    else:\n",
    "        return np.mean(vectors, axis=0)\n",
    "\n",
    "# Aplica a train y test\n",
    "X_txt_train = np.vstack(X_train_tokens.apply(lambda x: sentence_vector(x, w2v_model)))\n",
    "X_txt_test = np.vstack(X_test_tokens.apply(lambda x: sentence_vector(x, w2v_model)))\n"
   ]
  },
  {
   "cell_type": "markdown",
   "metadata": {},
   "source": [
    "Después para el dataset que se utilizará para subir a Kaggle."
   ]
  },
  {
   "cell_type": "code",
   "execution_count": 927,
   "metadata": {},
   "outputs": [],
   "source": [
    "# Tokeniza el texto \n",
    "X_train_tokens_final = X_train_final[text].apply(lambda x: x.split())\n",
    "X_test_tokens_final = X_test_final[text].apply(lambda x: x.split())"
   ]
  },
  {
   "cell_type": "code",
   "execution_count": 928,
   "metadata": {},
   "outputs": [],
   "source": [
    "w2v_model_final = Word2Vec(sentences=X_train_tokens_final, vector_size=200, window=5, min_count=2, workers=4, seed=42)\n",
    "\n",
    "\n",
    "# Palabras conocidas\n",
    "vocab_final = set(w2v_model_final.wv.index_to_key)\n",
    "\n",
    "def sentence_vector(tokens, model, size=200):\n",
    "    vectors = [model.wv[w] for w in tokens if w in vocab_final]\n",
    "    if len(vectors) == 0:\n",
    "        return np.zeros(size)\n",
    "    else:\n",
    "        return np.mean(vectors, axis=0)\n",
    "\n",
    "# Aplica a train y test\n",
    "X_txt_tr_final = np.vstack(X_train_tokens_final.apply(lambda x: sentence_vector(x, w2v_model_final)))\n",
    "X_txt_te_final = np.vstack(X_test_tokens_final.apply(lambda x: sentence_vector(x, w2v_model_final)))\n",
    "\n",
    "\n"
   ]
  },
  {
   "cell_type": "markdown",
   "metadata": {},
   "source": [
    "### 6.1.2 Unificación de características"
   ]
  },
  {
   "cell_type": "code",
   "execution_count": 929,
   "metadata": {},
   "outputs": [],
   "source": [
    "\n",
    "# Train\n",
    "X_svd_train = pd.DataFrame(X_txt_train, columns=[f\"svd_{i}\" for i in range(X_txt_train.shape[1])])\n",
    "X_rest_train = X_train[no_text].reset_index(drop=True)\n",
    "\n",
    "# Test\n",
    "X_svd_test = pd.DataFrame(X_txt_test, columns=[f\"svd_{i}\" for i in range(X_txt_test.shape[1])])\n",
    "X_rest_test = X_test[no_text].reset_index(drop=True)\n",
    "\n",
    "# Text + Resto de features\n",
    "X_total_train = pd.concat([X_svd_train, X_rest_train], axis=1)\n",
    "X_total_test = pd.concat([X_svd_test, X_rest_test], axis=1)"
   ]
  },
  {
   "cell_type": "markdown",
   "metadata": {},
   "source": [
    "Ahora kaggle"
   ]
  },
  {
   "cell_type": "code",
   "execution_count": 930,
   "metadata": {},
   "outputs": [],
   "source": [
    "# Train\n",
    "X_svd_tr_final = pd.DataFrame(X_txt_tr_final, columns=[f\"svd_{i}\" for i in range(X_txt_tr_final.shape[1])])\n",
    "X_rest_tr_final = X_train_final[no_text].reset_index(drop=True)\n",
    "\n",
    "# Test\n",
    "X_svd_te_final = pd.DataFrame(X_txt_te_final, columns=[f\"svd_{i}\" for i in range(X_txt_te_final.shape[1])])\n",
    "X_rest_te_final = X_test_final[no_text].reset_index(drop=True)\n",
    "\n",
    "# Text + Resto de features\n",
    "X_tot_tr_final = pd.concat([X_svd_tr_final, X_rest_tr_final], axis=1)\n",
    "X_tot_te_final = pd.concat([X_svd_te_final, X_rest_te_final], axis=1)"
   ]
  },
  {
   "cell_type": "markdown",
   "metadata": {},
   "source": [
    "## 6.2 Remuestreo"
   ]
  },
  {
   "cell_type": "markdown",
   "metadata": {},
   "source": [
    "### 6.2.1 Estandarizacion"
   ]
  },
  {
   "cell_type": "markdown",
   "metadata": {},
   "source": [
    "Primero se estandarizan el conjunto para el análisis."
   ]
  },
  {
   "cell_type": "code",
   "execution_count": null,
   "metadata": {},
   "outputs": [],
   "source": [
    "prep = ColumnTransformer([\n",
    "    ('numericas', StandardScaler(), numeric_vars)\n",
    "], remainder='passthrough').fit(X_total_train) \n",
    "\n",
    "X_scaled_train = prep.transform(X_total_train)\n",
    "X_scaled_test = prep.transform(X_total_test)"
   ]
  },
  {
   "cell_type": "markdown",
   "metadata": {},
   "source": [
    "Después el de Kaggle"
   ]
  },
  {
   "cell_type": "code",
   "execution_count": null,
   "metadata": {},
   "outputs": [],
   "source": [
    "prep_final = ColumnTransformer([\n",
    "    ('numericas', StandardScaler(), numeric_vars)\n",
    "], remainder='passthrough').fit(X_tot_tr_final) \n",
    "\n",
    "X_scaled_tr_final = prep_final.transform(X_tot_tr_final)\n",
    "X_scaled_te_final = prep_final.transform(X_tot_te_final)"
   ]
  },
  {
   "cell_type": "markdown",
   "metadata": {},
   "source": [
    "### 6.2.2 Undersampling"
   ]
  },
  {
   "cell_type": "markdown",
   "metadata": {},
   "source": [
    "Primero se realiza un undersampling al conjunto para el análisis."
   ]
  },
  {
   "cell_type": "code",
   "execution_count": 933,
   "metadata": {},
   "outputs": [
    {
     "name": "stderr",
     "output_type": "stream",
     "text": [
      "c:\\Users\\david\\anaconda3\\Lib\\site-packages\\sklearn\\base.py:484: FutureWarning: `BaseEstimator._check_n_features` is deprecated in 1.6 and will be removed in 1.7. Use `sklearn.utils.validation._check_n_features` instead.\n",
      "  warnings.warn(\n",
      "c:\\Users\\david\\anaconda3\\Lib\\site-packages\\sklearn\\base.py:493: FutureWarning: `BaseEstimator._check_feature_names` is deprecated in 1.6 and will be removed in 1.7. Use `sklearn.utils.validation._check_feature_names` instead.\n",
      "  warnings.warn(\n"
     ]
    }
   ],
   "source": [
    "under = RandomUnderSampler(sampling_strategy=0.65, random_state=seed)\n",
    "X_under, y_under = under.fit_resample(X_scaled_train, y_train)"
   ]
  },
  {
   "cell_type": "markdown",
   "metadata": {},
   "source": [
    "Después el de Kaggle."
   ]
  },
  {
   "cell_type": "code",
   "execution_count": 934,
   "metadata": {},
   "outputs": [
    {
     "name": "stderr",
     "output_type": "stream",
     "text": [
      "c:\\Users\\david\\anaconda3\\Lib\\site-packages\\sklearn\\base.py:484: FutureWarning: `BaseEstimator._check_n_features` is deprecated in 1.6 and will be removed in 1.7. Use `sklearn.utils.validation._check_n_features` instead.\n",
      "  warnings.warn(\n",
      "c:\\Users\\david\\anaconda3\\Lib\\site-packages\\sklearn\\base.py:493: FutureWarning: `BaseEstimator._check_feature_names` is deprecated in 1.6 and will be removed in 1.7. Use `sklearn.utils.validation._check_feature_names` instead.\n",
      "  warnings.warn(\n"
     ]
    }
   ],
   "source": [
    "under_final = RandomUnderSampler(sampling_strategy=0.8, random_state=seed)\n",
    "X_under_final, y_under_final = under_final.fit_resample(X_scaled_tr_final, y_train_final)"
   ]
  },
  {
   "cell_type": "markdown",
   "metadata": {},
   "source": [
    "### 6.2.3 Oversampling"
   ]
  },
  {
   "cell_type": "markdown",
   "metadata": {},
   "source": [
    "Primero se realiza un oversampling al conjunto para el análisis."
   ]
  },
  {
   "cell_type": "code",
   "execution_count": 935,
   "metadata": {},
   "outputs": [
    {
     "name": "stderr",
     "output_type": "stream",
     "text": [
      "c:\\Users\\david\\anaconda3\\Lib\\site-packages\\sklearn\\base.py:474: FutureWarning: `BaseEstimator._validate_data` is deprecated in 1.6 and will be removed in 1.7. Use `sklearn.utils.validation.validate_data` instead. This function becomes public and is part of the scikit-learn developer API.\n",
      "  warnings.warn(\n"
     ]
    }
   ],
   "source": [
    "over = SMOTE(sampling_strategy=0.8, random_state=seed)\n",
    "X_resampled, y_resampled = over.fit_resample(X_under, y_under)"
   ]
  },
  {
   "cell_type": "markdown",
   "metadata": {},
   "source": [
    "Después el de Kaggle."
   ]
  },
  {
   "cell_type": "code",
   "execution_count": 936,
   "metadata": {},
   "outputs": [
    {
     "name": "stderr",
     "output_type": "stream",
     "text": [
      "c:\\Users\\david\\anaconda3\\Lib\\site-packages\\sklearn\\base.py:474: FutureWarning: `BaseEstimator._validate_data` is deprecated in 1.6 and will be removed in 1.7. Use `sklearn.utils.validation.validate_data` instead. This function becomes public and is part of the scikit-learn developer API.\n",
      "  warnings.warn(\n"
     ]
    }
   ],
   "source": [
    "over_final = SMOTE(sampling_strategy=0.9, k_neighbors=5, random_state=seed)\n",
    "X_res_final, y_res_final = over_final.fit_resample(X_under_final, y_under_final)"
   ]
  },
  {
   "cell_type": "markdown",
   "metadata": {},
   "source": [
    "# 7. Modelos seleccionados"
   ]
  },
  {
   "cell_type": "markdown",
   "metadata": {},
   "source": [
    "## 7.1 Introduccion"
   ]
  },
  {
   "cell_type": "markdown",
   "metadata": {},
   "source": [
    "En el anterior notebook se evaluaron una serie de modelos tanto por F1 score como por ROC-AUC score. Los modelos con mejores resultados para ambas categorías fueron:\n",
    "* Random Forest.\n",
    "* GradientBoosting.\n",
    "* XGBoost.\n",
    "* LogisticRegression.\n",
    "* SVC con kernel rbf.\n",
    "\n",
    "Por lo tanto nos dispondremos a probar dichos modelos a continuación."
   ]
  },
  {
   "cell_type": "markdown",
   "metadata": {},
   "source": [
    "## 7.2 Asignacion de las variables"
   ]
  },
  {
   "cell_type": "markdown",
   "metadata": {},
   "source": [
    "Asignamos las variables para el analisis en función del desarrollo del apartado del preprocesado."
   ]
  },
  {
   "cell_type": "code",
   "execution_count": 937,
   "metadata": {},
   "outputs": [],
   "source": [
    "X_model = X_resampled\n",
    "y_model = y_resampled\n",
    "\n",
    "X_model_test = X_scaled_test\n",
    "expected = y_test"
   ]
  },
  {
   "cell_type": "markdown",
   "metadata": {},
   "source": [
    "## 7.3 Clasificador Random Forest"
   ]
  },
  {
   "cell_type": "markdown",
   "metadata": {},
   "source": [
    "### 7.3.1 Definicion"
   ]
  },
  {
   "cell_type": "markdown",
   "metadata": {},
   "source": [
    "Definimos el modelo con los hiperparámetros *random_state* fijado y *class_weigth* balanceado. También se escoje *n_jobs* con valor -1 para utilizar todos los procesadores."
   ]
  },
  {
   "cell_type": "code",
   "execution_count": 938,
   "metadata": {},
   "outputs": [],
   "source": [
    "model_Forest = RandomForestClassifier(class_weight=\"balanced\", n_jobs=-1, random_state=seed)"
   ]
  },
  {
   "cell_type": "markdown",
   "metadata": {},
   "source": [
    "### 7.3.2 Entrenamiento y evaluacion"
   ]
  },
  {
   "cell_type": "markdown",
   "metadata": {},
   "source": [
    "Entrenamos el modelo y comprobamos su exactitud."
   ]
  },
  {
   "cell_type": "code",
   "execution_count": 939,
   "metadata": {},
   "outputs": [],
   "source": [
    "model_Forest.fit(X_model, y_model)\n",
    "\n",
    "predicted_Forest = model_Forest.predict(X_model_test)"
   ]
  },
  {
   "cell_type": "code",
   "execution_count": 940,
   "metadata": {},
   "outputs": [
    {
     "data": {
      "text/plain": [
       "0.6262569832402235"
      ]
     },
     "execution_count": 940,
     "metadata": {},
     "output_type": "execute_result"
    }
   ],
   "source": [
    "accuracy_score(expected, predicted_Forest)"
   ]
  },
  {
   "cell_type": "markdown",
   "metadata": {},
   "source": [
    "### 7.3.3 Null accuracy"
   ]
  },
  {
   "cell_type": "markdown",
   "metadata": {},
   "source": [
    "Ahora se va a evaluar si  el modelo siempre predice la clase más frecuente."
   ]
  },
  {
   "cell_type": "code",
   "execution_count": 941,
   "metadata": {},
   "outputs": [
    {
     "data": {
      "text/plain": [
       "1    1179\n",
       "0     611\n",
       "Name: count, dtype: int64"
      ]
     },
     "execution_count": 941,
     "metadata": {},
     "output_type": "execute_result"
    }
   ],
   "source": [
    "s_y_test = pd.Series(y_test)\n",
    "s_y_test.value_counts()"
   ]
  },
  {
   "cell_type": "code",
   "execution_count": 942,
   "metadata": {},
   "outputs": [
    {
     "data": {
      "text/plain": [
       "0.658659217877095"
      ]
     },
     "execution_count": 942,
     "metadata": {},
     "output_type": "execute_result"
    }
   ],
   "source": [
    "y_test.mean()"
   ]
  },
  {
   "cell_type": "code",
   "execution_count": 943,
   "metadata": {},
   "outputs": [
    {
     "data": {
      "text/plain": [
       "0.341340782122905"
      ]
     },
     "execution_count": 943,
     "metadata": {},
     "output_type": "execute_result"
    }
   ],
   "source": [
    "1 - y_test.mean() "
   ]
  },
  {
   "cell_type": "code",
   "execution_count": 944,
   "metadata": {},
   "outputs": [
    {
     "data": {
      "text/plain": [
       "0.658659217877095"
      ]
     },
     "execution_count": 944,
     "metadata": {},
     "output_type": "execute_result"
    }
   ],
   "source": [
    "max(y_test.mean(), 1 - y_test.mean())"
   ]
  },
  {
   "cell_type": "code",
   "execution_count": 945,
   "metadata": {},
   "outputs": [
    {
     "data": {
      "text/plain": [
       "1    0.658659\n",
       "Name: count, dtype: float64"
      ]
     },
     "execution_count": 945,
     "metadata": {},
     "output_type": "execute_result"
    }
   ],
   "source": [
    "s_y_test.value_counts().head(1) / len(y_test)"
   ]
  },
  {
   "cell_type": "markdown",
   "metadata": {},
   "source": [
    "Nuestra exactitud es de 0.626, la cual es peor que la *null accuracy*, es decir, ahora mismo no tenemos un buen modelo ya que se predecirían un mayor número de resultados en el caso de siempre predecir la clase mayoritaria."
   ]
  },
  {
   "cell_type": "markdown",
   "metadata": {},
   "source": [
    "### 7.3.4 Matriz de confusion y F-score"
   ]
  },
  {
   "cell_type": "markdown",
   "metadata": {},
   "source": [
    "Se muestra la matriz de confusión y el informe de clasificación."
   ]
  },
  {
   "cell_type": "code",
   "execution_count": 946,
   "metadata": {},
   "outputs": [
    {
     "name": "stdout",
     "output_type": "stream",
     "text": [
      "[[244 367]\n",
      " [302 877]]\n"
     ]
    }
   ],
   "source": [
    "print(confusion_matrix(expected, predicted_Forest))"
   ]
  },
  {
   "cell_type": "code",
   "execution_count": 947,
   "metadata": {},
   "outputs": [
    {
     "name": "stdout",
     "output_type": "stream",
     "text": [
      "              precision    recall  f1-score   support\n",
      "\n",
      "           0       0.45      0.40      0.42       611\n",
      "           1       0.70      0.74      0.72      1179\n",
      "\n",
      "    accuracy                           0.63      1790\n",
      "   macro avg       0.58      0.57      0.57      1790\n",
      "weighted avg       0.62      0.63      0.62      1790\n",
      "\n"
     ]
    }
   ],
   "source": [
    "print(classification_report(expected, predicted_Forest))"
   ]
  },
  {
   "cell_type": "markdown",
   "metadata": {},
   "source": [
    "Se observa que estamos identificando erroneamente los 0s ya que tenemos un f1-score del 0.74 para los 1s mientras que estamos obteniendo un 0.35 para los 0s"
   ]
  },
  {
   "cell_type": "markdown",
   "metadata": {},
   "source": [
    "### 7.3.5 ROC y AUC"
   ]
  },
  {
   "cell_type": "markdown",
   "metadata": {},
   "source": [
    "Evaluamos la ROC-AUC score. Para ello representamos primero la curva de ROC."
   ]
  },
  {
   "cell_type": "code",
   "execution_count": 948,
   "metadata": {},
   "outputs": [
    {
     "data": {
      "image/png": "[encoded data removed]",
      "text/plain": [
       "<Figure size 640x480 with 1 Axes>"
      ]
     },
     "metadata": {},
     "output_type": "display_data"
    }
   ],
   "source": [
    "y_pred_prob_Forest = model_Forest.predict_proba(X_model_test)[:,1]\n",
    "fpr, tpr, thresholds = roc_curve(expected, y_pred_prob_Forest)\n",
    "plt.plot(fpr, tpr)\n",
    "plt.xlim([0.0, 1.0])\n",
    "plt.ylim([0.0, 1.0])\n",
    "plt.title('Curva ROC')\n",
    "plt.xlabel('Ratio de FP (1 - Recall)')\n",
    "plt.ylabel('Ratio TP (Sensitivity)')\n",
    "plt.grid(True)\n",
    "plt.show()"
   ]
  },
  {
   "cell_type": "markdown",
   "metadata": {},
   "source": [
    "Y mostramos sus thresholds."
   ]
  },
  {
   "cell_type": "code",
   "execution_count": 949,
   "metadata": {},
   "outputs": [
    {
     "data": {
      "text/plain": [
       "array([ inf, 0.96, 0.94, 0.93, 0.9 , 0.89, 0.88, 0.87, 0.86, 0.85, 0.84,\n",
       "       0.83, 0.82, 0.81, 0.8 , 0.79, 0.78, 0.77, 0.76, 0.75, 0.74, 0.73,\n",
       "       0.72, 0.71, 0.7 , 0.69, 0.68, 0.67, 0.66, 0.65, 0.64, 0.63, 0.62,\n",
       "       0.61, 0.6 , 0.59, 0.58, 0.57, 0.56, 0.55, 0.54, 0.53, 0.52, 0.51,\n",
       "       0.5 , 0.49, 0.48, 0.47, 0.46, 0.45, 0.44, 0.43, 0.42, 0.41, 0.4 ,\n",
       "       0.39, 0.38, 0.37, 0.36, 0.35, 0.34, 0.33, 0.32, 0.31, 0.3 , 0.29,\n",
       "       0.28, 0.27, 0.26, 0.25, 0.24, 0.23, 0.21, 0.19])"
      ]
     },
     "execution_count": 949,
     "metadata": {},
     "output_type": "execute_result"
    }
   ],
   "source": [
    "thresholds"
   ]
  },
  {
   "cell_type": "markdown",
   "metadata": {},
   "source": [
    "Como se observa el resultado no es bueno ya que estamos obteniendo practicamente una recta en vez de una curva en forma de 'L' invertida."
   ]
  },
  {
   "cell_type": "markdown",
   "metadata": {},
   "source": [
    "La siguiente gráfica muestra las probabilidades de predicción en función de los umbrales."
   ]
  },
  {
   "cell_type": "code",
   "execution_count": 950,
   "metadata": {},
   "outputs": [
    {
     "data": {
      "text/plain": [
       "array([<Axes: title={'center': '0'}>, <Axes: title={'center': '1'}>],\n",
       "      dtype=object)"
      ]
     },
     "execution_count": 950,
     "metadata": {},
     "output_type": "execute_result"
    },
    {
     "data": {
      "image/png": "[encoded data removed]",
      "text/plain": [
       "<Figure size 640x480 with 2 Axes>"
      ]
     },
     "metadata": {},
     "output_type": "display_data"
    }
   ],
   "source": [
    "dprob = pd.DataFrame(data = {'probability':y_pred_prob_Forest, 'actual':y_test})\n",
    "dprob.probability.hist(by=dprob.actual, sharex=True, sharey=True)"
   ]
  },
  {
   "cell_type": "markdown",
   "metadata": {},
   "source": [
    "Se muestra que los mejores resultados para ambas clases se obtiene con el *threshold* igual a 0.5 aproximandamente (es decir, el valor por defecto)."
   ]
  },
  {
   "cell_type": "code",
   "execution_count": 951,
   "metadata": {},
   "outputs": [
    {
     "name": "stdout",
     "output_type": "stream",
     "text": [
      "Sensitivity: 0.7438507209499576\n",
      "Recall: 0.3993453355155483\n"
     ]
    }
   ],
   "source": [
    "best_thres_Random = 0.5\n",
    "\n",
    "evaluate_threshold(best_thres_Random)"
   ]
  },
  {
   "cell_type": "markdown",
   "metadata": {},
   "source": [
    "Con este valor se obtienen los siguientes resultados. Primero se recalculan las predicciones."
   ]
  },
  {
   "cell_type": "code",
   "execution_count": 952,
   "metadata": {},
   "outputs": [],
   "source": [
    "probs_Forest = model_Forest.predict_proba(X_model_test)[:, 1]  \n",
    "pred_thres_Forest = (probs_Forest >= best_thres_Random).astype(int) "
   ]
  },
  {
   "cell_type": "markdown",
   "metadata": {},
   "source": [
    "Se evalua la matriz de confusión."
   ]
  },
  {
   "cell_type": "code",
   "execution_count": 953,
   "metadata": {},
   "outputs": [
    {
     "name": "stdout",
     "output_type": "stream",
     "text": [
      "[[225 386]\n",
      " [265 914]]\n"
     ]
    }
   ],
   "source": [
    "print(confusion_matrix(expected, pred_thres_Forest))"
   ]
  },
  {
   "cell_type": "markdown",
   "metadata": {},
   "source": [
    "Y también se analiza el informe de la clasificación."
   ]
  },
  {
   "cell_type": "code",
   "execution_count": 954,
   "metadata": {},
   "outputs": [
    {
     "name": "stdout",
     "output_type": "stream",
     "text": [
      "              precision    recall  f1-score   support\n",
      "\n",
      "           0       0.46      0.37      0.41       611\n",
      "           1       0.70      0.78      0.74      1179\n",
      "\n",
      "    accuracy                           0.64      1790\n",
      "   macro avg       0.58      0.57      0.57      1790\n",
      "weighted avg       0.62      0.64      0.63      1790\n",
      "\n"
     ]
    }
   ],
   "source": [
    "print(classification_report(expected, pred_thres_Forest))"
   ]
  },
  {
   "cell_type": "markdown",
   "metadata": {},
   "source": [
    "Obviamente son los mismos, ya que no estamos modificando el umbral realmente."
   ]
  },
  {
   "cell_type": "markdown",
   "metadata": {},
   "source": [
    "Finalmente se calcula el valor de AUC."
   ]
  },
  {
   "cell_type": "code",
   "execution_count": 955,
   "metadata": {},
   "outputs": [
    {
     "name": "stdout",
     "output_type": "stream",
     "text": [
      "0.571598028232753\n"
     ]
    }
   ],
   "source": [
    "print(roc_auc_score(expected, predicted_Forest))"
   ]
  },
  {
   "cell_type": "markdown",
   "metadata": {},
   "source": [
    "Se ha obtenido un valor entre 0.5 y 0.6, es decir, el modelo se considerá como fallido o *F*."
   ]
  },
  {
   "cell_type": "markdown",
   "metadata": {},
   "source": [
    "### 7.3.6 Optimizacion"
   ]
  },
  {
   "cell_type": "markdown",
   "metadata": {},
   "source": [
    "Antes de nada, observamos cuales son los parámetros de nuestro modelo."
   ]
  },
  {
   "cell_type": "code",
   "execution_count": 956,
   "metadata": {},
   "outputs": [
    {
     "data": {
      "text/plain": [
       "{'bootstrap': True,\n",
       " 'ccp_alpha': 0.0,\n",
       " 'class_weight': 'balanced',\n",
       " 'criterion': 'gini',\n",
       " 'max_depth': None,\n",
       " 'max_features': 'sqrt',\n",
       " 'max_leaf_nodes': None,\n",
       " 'max_samples': None,\n",
       " 'min_impurity_decrease': 0.0,\n",
       " 'min_samples_leaf': 1,\n",
       " 'min_samples_split': 2,\n",
       " 'min_weight_fraction_leaf': 0.0,\n",
       " 'monotonic_cst': None,\n",
       " 'n_estimators': 100,\n",
       " 'n_jobs': -1,\n",
       " 'oob_score': False,\n",
       " 'random_state': 42,\n",
       " 'verbose': 0,\n",
       " 'warm_start': False}"
      ]
     },
     "execution_count": 956,
     "metadata": {},
     "output_type": "execute_result"
    }
   ],
   "source": [
    "model_Forest.get_params()"
   ]
  },
  {
   "cell_type": "markdown",
   "metadata": {},
   "source": [
    "También creemos que es interesante saber la profundidad media de nuestro modelo Random Forest, para así poder estimar mejor rango de valores en este apartado."
   ]
  },
  {
   "cell_type": "code",
   "execution_count": 957,
   "metadata": {},
   "outputs": [
    {
     "name": "stdout",
     "output_type": "stream",
     "text": [
      "Profundidad media de los árboles: 30.17\n"
     ]
    }
   ],
   "source": [
    "arboles_decision = model_Forest.estimators_\n",
    "\n",
    "profundidades = [arbol.tree_.max_depth for arbol in arboles_decision]\n",
    "profundidad_media = np.mean(profundidades)\n",
    "\n",
    "print(f\"Profundidad media de los árboles: {profundidad_media}\")"
   ]
  },
  {
   "cell_type": "markdown",
   "metadata": {},
   "source": [
    "Ahora seleccionamos los hiperparámetros a evaluar mediante un GridSearchCV. Además, se ha añadido la librería *time* para saber el tiempo que tardo en realizar la busqueda de mejores parámetros.\n",
    "\n",
    "Estos hiperparámetros son:\n",
    "* ***n_estimator***: número de árboles.\n",
    "* ***max_depth***: máxima profundidad de cada árbol.\n",
    "* ***min_samples_split***: número de muestras mínimas para dividir un nodo interno.\n",
    "* ***min_samples_leaf***: número de muestras mínimas de un nodo hoja.\n",
    "* ***max_features***: número de características a tener en cuenta a la hora de buscar la mejor división.\n",
    "* ***class_weight***: pesos asignados a las clases."
   ]
  },
  {
   "cell_type": "raw",
   "metadata": {
    "vscode": {
     "languageId": "raw"
    }
   },
   "source": [
    "from sklearn.ensemble import RandomForestClassifier\n",
    "from sklearn.model_selection import GridSearchCV\n",
    "from sklearn.metrics import f1_score, make_scorer\n",
    "import time\n",
    "optm_Forest = RandomForestClassifier(n_jobs=-1, random_state=seed)\n",
    "\n",
    "param_grid = {\n",
    "    'n_estimators': [ 200, 300],\n",
    "    'max_depth': [10, 20, 25],\n",
    "    'min_samples_split': [2, 4],\n",
    "    'min_samples_leaf': [1, 2],\n",
    "    'max_features': ['sqrt', 10, 15, 20],  \n",
    "    'class_weight': ['balanced']\n",
    "\n",
    "}\n",
    "\n",
    "grid_search = GridSearchCV(optm_Forest, param_grid=param_grid, cv=3, scoring=make_scorer(f1_score, average='weighted'), n_jobs=-1)\n",
    "\n",
    "inicio = time.time()\n",
    "grid_search.fit(X_model, y_model)\n",
    "fin = time.time()"
   ]
  },
  {
   "cell_type": "markdown",
   "metadata": {},
   "source": [
    "Se calcula el tiempo que ha tardado en minutos."
   ]
  },
  {
   "cell_type": "raw",
   "metadata": {
    "vscode": {
     "languageId": "raw"
    }
   },
   "source": [
    "tiempo_total = (fin - inicio) / 60\n",
    "print(f\"La celda tardó {tiempo_total} minutos en ejecutarse.\")"
   ]
  },
  {
   "cell_type": "markdown",
   "metadata": {},
   "source": [
    "Se escoge el mejor parámetro y su  precisión asociada."
   ]
  },
  {
   "cell_type": "raw",
   "metadata": {
    "vscode": {
     "languageId": "raw"
    }
   },
   "source": [
    "print(\"Mejores parámetros: \", grid_search.best_params_)\n",
    "print(\"Mejor score: \", grid_search.best_score_)"
   ]
  },
  {
   "cell_type": "markdown",
   "metadata": {},
   "source": [
    "Observamos los mejores 10 casos para analizar varias posibilidades."
   ]
  },
  {
   "cell_type": "raw",
   "metadata": {
    "vscode": {
     "languageId": "raw"
    }
   },
   "source": [
    "results_df = pd.DataFrame(grid_search.cv_results_)"
   ]
  },
  {
   "cell_type": "raw",
   "metadata": {
    "vscode": {
     "languageId": "raw"
    }
   },
   "source": [
    "top_10_models = results_df.nlargest(10, \"mean_test_score\")\n",
    "\n",
    "print(\"\\nLos 10 mejores modelos:\")\n",
    "for index, row in top_10_models.iterrows():\n",
    "    print(\"\\nModelo:\")\n",
    "    print(f\"Parámetros: {row['params']}\")\n",
    "    print(f\"Puntuación media de prueba: {row['mean_test_score']}\")"
   ]
  },
  {
   "cell_type": "markdown",
   "metadata": {},
   "source": [
    "### 7.3.7 Entrenamiento y evaluacion con hiperparametros optimizados"
   ]
  },
  {
   "cell_type": "markdown",
   "metadata": {},
   "source": [
    "#### - Definicion"
   ]
  },
  {
   "cell_type": "markdown",
   "metadata": {},
   "source": [
    "Definimos los mejores parámetros (no se define con *grid_search.best_params_* para probar varias opciones de forma sencilla)."
   ]
  },
  {
   "cell_type": "code",
   "execution_count": 958,
   "metadata": {},
   "outputs": [],
   "source": [
    "params_final_Forest = {\n",
    "    'class_weight': 'balanced',\n",
    "    'max_depth': 20,\n",
    "    'max_features': 20,\n",
    "    'min_samples_leaf': 2,\n",
    "    'min_samples_split': 2,\n",
    "    'n_estimators': 200,\n",
    "    'n_jobs': -1,\n",
    "    'random_state': seed\n",
    "}\n"
   ]
  },
  {
   "cell_type": "markdown",
   "metadata": {},
   "source": [
    "Definimos el modelo desagregando el diccionario."
   ]
  },
  {
   "cell_type": "code",
   "execution_count": 959,
   "metadata": {},
   "outputs": [],
   "source": [
    "final_Forest = RandomForestClassifier(**params_final_Forest)"
   ]
  },
  {
   "cell_type": "markdown",
   "metadata": {},
   "source": [
    "#### - Entrenamiento y evaluacion"
   ]
  },
  {
   "cell_type": "markdown",
   "metadata": {},
   "source": [
    "Entrenamos el modelo y comprobamos su exactitud."
   ]
  },
  {
   "cell_type": "code",
   "execution_count": 960,
   "metadata": {},
   "outputs": [],
   "source": [
    "final_Forest.fit(X_model, y_model)\n",
    "\n",
    "predicted_For_opt = final_Forest.predict(X_model_test)"
   ]
  },
  {
   "cell_type": "code",
   "execution_count": 961,
   "metadata": {},
   "outputs": [
    {
     "data": {
      "text/plain": [
       "0.6189944134078212"
      ]
     },
     "execution_count": 961,
     "metadata": {},
     "output_type": "execute_result"
    }
   ],
   "source": [
    "accuracy_score(expected, predicted_For_opt)"
   ]
  },
  {
   "cell_type": "markdown",
   "metadata": {},
   "source": [
    "#### - Null accuracy"
   ]
  },
  {
   "cell_type": "markdown",
   "metadata": {},
   "source": [
    "La accuracy es similar a la anterior. Además, sigue siendo peor que la *null accuracy*."
   ]
  },
  {
   "cell_type": "markdown",
   "metadata": {},
   "source": [
    "#### - Matriz de confusion y F-score"
   ]
  },
  {
   "cell_type": "markdown",
   "metadata": {},
   "source": [
    "La matriz de confusión y el informe de clasificación también es muy similar."
   ]
  },
  {
   "cell_type": "code",
   "execution_count": 962,
   "metadata": {},
   "outputs": [
    {
     "name": "stdout",
     "output_type": "stream",
     "text": [
      "[[245 366]\n",
      " [316 863]]\n"
     ]
    }
   ],
   "source": [
    "print(confusion_matrix(expected, predicted_For_opt))"
   ]
  },
  {
   "cell_type": "code",
   "execution_count": 963,
   "metadata": {},
   "outputs": [
    {
     "name": "stdout",
     "output_type": "stream",
     "text": [
      "              precision    recall  f1-score   support\n",
      "\n",
      "           0       0.44      0.40      0.42       611\n",
      "           1       0.70      0.73      0.72      1179\n",
      "\n",
      "    accuracy                           0.62      1790\n",
      "   macro avg       0.57      0.57      0.57      1790\n",
      "weighted avg       0.61      0.62      0.61      1790\n",
      "\n"
     ]
    }
   ],
   "source": [
    "print(classification_report(expected, predicted_For_opt))"
   ]
  },
  {
   "cell_type": "markdown",
   "metadata": {},
   "source": [
    "#### - ROC y AUC"
   ]
  },
  {
   "cell_type": "markdown",
   "metadata": {},
   "source": [
    "Se calcula el ROC y se reajusta el umbral de probabilidad."
   ]
  },
  {
   "cell_type": "code",
   "execution_count": 964,
   "metadata": {},
   "outputs": [
    {
     "data": {
      "image/png": "[encoded data removed]",
      "text/plain": [
       "<Figure size 640x480 with 1 Axes>"
      ]
     },
     "metadata": {},
     "output_type": "display_data"
    }
   ],
   "source": [
    "y_pred_prob_Forest = final_Forest.predict_proba(X_model_test)[:,1]\n",
    "fpr, tpr, thresholds = roc_curve(y_test, y_pred_prob_Forest)\n",
    "plt.plot(fpr, tpr)\n",
    "plt.xlim([0.0, 1.0])\n",
    "plt.ylim([0.0, 1.0])\n",
    "plt.title('Curva ROC')\n",
    "plt.xlabel('Ratio de FP (1 - Recall)')\n",
    "plt.ylabel('Ratio TP (Sensitivity)')\n",
    "plt.grid(True)\n",
    "plt.show()"
   ]
  },
  {
   "cell_type": "code",
   "execution_count": 965,
   "metadata": {},
   "outputs": [
    {
     "data": {
      "text/plain": [
       "array([       inf, 0.90980827, 0.90788947, 0.89727267, 0.87146507,\n",
       "       0.8643745 , 0.8490621 , 0.84031199, 0.8395887 , 0.83527574,\n",
       "       0.83512736, 0.83473047, 0.83297312, 0.82848001, 0.8219089 ,\n",
       "       0.82149236, 0.81743936, 0.81517591, 0.81123341, 0.81038704,\n",
       "       0.81025165, 0.80959542, 0.80389232, 0.80139055, 0.79854963,\n",
       "       0.79769408, 0.79344343, 0.78960951, 0.78103627, 0.7808458 ,\n",
       "       0.7792507 , 0.77916025, 0.76556916, 0.76478078, 0.76393555,\n",
       "       0.76355722, 0.75231823, 0.75120162, 0.75086581, 0.74992539,\n",
       "       0.74788041, 0.74760439, 0.7432755 , 0.74318085, 0.74200304,\n",
       "       0.74152196, 0.73982396, 0.73915234, 0.73479447, 0.73426214,\n",
       "       0.727878  , 0.72724045, 0.72612367, 0.72514404, 0.72418881,\n",
       "       0.72069382, 0.71552226, 0.71414591, 0.71395116, 0.71334587,\n",
       "       0.71244138, 0.71225042, 0.70853321, 0.70767366, 0.70567613,\n",
       "       0.70453803, 0.70287975, 0.70242696, 0.69677893, 0.69614623,\n",
       "       0.69500048, 0.69484647, 0.69416269, 0.69366665, 0.69230915,\n",
       "       0.69222099, 0.69157588, 0.69149463, 0.69101735, 0.69078724,\n",
       "       0.68953668, 0.68928452, 0.68888493, 0.68862164, 0.68760284,\n",
       "       0.68739392, 0.68650107, 0.68633696, 0.6853785 , 0.68430971,\n",
       "       0.68365143, 0.68276174, 0.68165313, 0.68024536, 0.6791482 ,\n",
       "       0.67902699, 0.67878626, 0.67838226, 0.67824352, 0.67807305,\n",
       "       0.67586242, 0.67586228, 0.67557263, 0.67548649, 0.67462668,\n",
       "       0.67402802, 0.67361001, 0.67314268, 0.67080014, 0.67070701,\n",
       "       0.67039925, 0.67016733, 0.66994264, 0.66963988, 0.66940056,\n",
       "       0.6690446 , 0.66491534, 0.66442552, 0.6637224 , 0.66331804,\n",
       "       0.66303262, 0.66287192, 0.66192932, 0.66191183, 0.66151963,\n",
       "       0.66126519, 0.65949663, 0.65915692, 0.65911206, 0.65782708,\n",
       "       0.65688105, 0.65685062, 0.65383933, 0.65359131, 0.65307239,\n",
       "       0.65305206, 0.65302285, 0.65251204, 0.6520069 , 0.65151177,\n",
       "       0.65068142, 0.65046357, 0.65046117, 0.65012836, 0.64961802,\n",
       "       0.64935582, 0.64918426, 0.64889981, 0.64771362, 0.64708783,\n",
       "       0.64398502, 0.64349735, 0.64139245, 0.64091059, 0.64010385,\n",
       "       0.63988047, 0.63938785, 0.63903979, 0.63818188, 0.63809317,\n",
       "       0.63793894, 0.63756377, 0.6368794 , 0.63660874, 0.63573395,\n",
       "       0.63503738, 0.6340684 , 0.63393458, 0.63322611, 0.63317642,\n",
       "       0.63102558, 0.63004237, 0.62968791, 0.62960448, 0.62655338,\n",
       "       0.62618341, 0.62570774, 0.6250896 , 0.62407927, 0.62389085,\n",
       "       0.62261127, 0.6225289 , 0.62195139, 0.62170703, 0.62139744,\n",
       "       0.62138252, 0.62079257, 0.62060212, 0.62057041, 0.62033209,\n",
       "       0.62029207, 0.62013899, 0.62009807, 0.62006655, 0.61944514,\n",
       "       0.61915971, 0.61871498, 0.61867191, 0.61828449, 0.61827202,\n",
       "       0.61825116, 0.6181256 , 0.6170662 , 0.61682808, 0.61637332,\n",
       "       0.61604724, 0.61582712, 0.61555191, 0.61414126, 0.61410274,\n",
       "       0.61399058, 0.61370604, 0.61369949, 0.61347306, 0.61307799,\n",
       "       0.61250776, 0.61248859, 0.6119567 , 0.61114393, 0.61093972,\n",
       "       0.60773241, 0.6076377 , 0.60749984, 0.60741843, 0.60730856,\n",
       "       0.6073054 , 0.60504417, 0.60477499, 0.60404093, 0.6037711 ,\n",
       "       0.60373462, 0.60353309, 0.60198642, 0.60192913, 0.60136221,\n",
       "       0.60108642, 0.60052171, 0.60046251, 0.60010783, 0.59992368,\n",
       "       0.59899327, 0.5984953 , 0.59783917, 0.5976438 , 0.59754995,\n",
       "       0.59711208, 0.59686621, 0.59686231, 0.59557824, 0.59554764,\n",
       "       0.59453627, 0.59444183, 0.59274549, 0.59173521, 0.59157706,\n",
       "       0.59152261, 0.59057929, 0.59044754, 0.59015271, 0.5900556 ,\n",
       "       0.58917386, 0.58913853, 0.58698742, 0.58678153, 0.58648089,\n",
       "       0.58537803, 0.58508253, 0.58498394, 0.58468812, 0.58413639,\n",
       "       0.5840276 , 0.583967  , 0.58388851, 0.58363428, 0.58339658,\n",
       "       0.58312778, 0.5826198 , 0.58088102, 0.57919401, 0.57909996,\n",
       "       0.5785923 , 0.57852428, 0.57832757, 0.57794251, 0.57791292,\n",
       "       0.57753801, 0.57656712, 0.57588802, 0.57569246, 0.574596  ,\n",
       "       0.57454674, 0.57429531, 0.57405799, 0.57344716, 0.5718515 ,\n",
       "       0.57167508, 0.5711793 , 0.57107986, 0.57098668, 0.57085046,\n",
       "       0.57075761, 0.57054898, 0.57050585, 0.57049193, 0.56892034,\n",
       "       0.56883889, 0.56857909, 0.56852683, 0.56842836, 0.56833668,\n",
       "       0.56782143, 0.5676253 , 0.5666517 , 0.56657786, 0.56594614,\n",
       "       0.56594242, 0.56507525, 0.56505799, 0.56460249, 0.56405937,\n",
       "       0.56345292, 0.56299366, 0.56238643, 0.56224032, 0.56064978,\n",
       "       0.56014462, 0.55976878, 0.55960353, 0.55945177, 0.55936436,\n",
       "       0.55791078, 0.55789547, 0.55701365, 0.55683921, 0.55553436,\n",
       "       0.55523543, 0.5547621 , 0.55460844, 0.55455096, 0.55454292,\n",
       "       0.55449363, 0.55445214, 0.5537477 , 0.55343283, 0.55229676,\n",
       "       0.55218546, 0.55148975, 0.55135135, 0.55119616, 0.55090663,\n",
       "       0.55040255, 0.55037568, 0.55023719, 0.54998599, 0.54997175,\n",
       "       0.54996106, 0.54995843, 0.54929667, 0.54919795, 0.54896322,\n",
       "       0.54889337, 0.54884377, 0.54853215, 0.54843074, 0.54796519,\n",
       "       0.54775728, 0.54755476, 0.5474129 , 0.54688568, 0.54685827,\n",
       "       0.5466542 , 0.54652824, 0.54598812, 0.54597785, 0.54568502,\n",
       "       0.54558931, 0.54524805, 0.54518395, 0.54513587, 0.54512325,\n",
       "       0.54491283, 0.54453594, 0.54422695, 0.54397169, 0.54382177,\n",
       "       0.54301124, 0.54286553, 0.54256721, 0.54235617, 0.54233807,\n",
       "       0.54233678, 0.5422701 , 0.54014328, 0.53960113, 0.53920607,\n",
       "       0.53919664, 0.53887435, 0.53853156, 0.53847942, 0.53841477,\n",
       "       0.5383993 , 0.53833413, 0.53814598, 0.53801242, 0.53796095,\n",
       "       0.53746536, 0.53717128, 0.53707799, 0.53705613, 0.53687709,\n",
       "       0.53676775, 0.53575278, 0.53561258, 0.53528285, 0.53517484,\n",
       "       0.53508202, 0.53501191, 0.53480558, 0.53422719, 0.53420083,\n",
       "       0.53354964, 0.53320679, 0.53314964, 0.53311285, 0.53285422,\n",
       "       0.53264529, 0.53257909, 0.53243692, 0.53157915, 0.53151532,\n",
       "       0.53066851, 0.53044771, 0.52973082, 0.52947691, 0.52903538,\n",
       "       0.52795889, 0.52778631, 0.52698403, 0.5266615 , 0.52617408,\n",
       "       0.52605718, 0.52588764, 0.52555148, 0.52522494, 0.52482771,\n",
       "       0.52443408, 0.52420164, 0.52416854, 0.52393114, 0.52390875,\n",
       "       0.52389369, 0.52340671, 0.52295556, 0.52265913, 0.52260509,\n",
       "       0.5224277 , 0.52193051, 0.52119842, 0.52055698, 0.52049043,\n",
       "       0.52026608, 0.51985767, 0.51969786, 0.51942891, 0.51941512,\n",
       "       0.51910634, 0.51869992, 0.51855362, 0.51833062, 0.51832725,\n",
       "       0.51754862, 0.51743443, 0.51722184, 0.51689827, 0.51671189,\n",
       "       0.51625579, 0.51619758, 0.51560713, 0.51501024, 0.51466992,\n",
       "       0.51368476, 0.51296706, 0.51177092, 0.51157578, 0.51120993,\n",
       "       0.51091918, 0.51080252, 0.51073738, 0.51072199, 0.50996775,\n",
       "       0.5075378 , 0.50739653, 0.50710111, 0.50699133, 0.50649515,\n",
       "       0.50623031, 0.50549232, 0.5052857 , 0.50519517, 0.50512055,\n",
       "       0.50508019, 0.50502777, 0.50497521, 0.50494584, 0.50435981,\n",
       "       0.50432914, 0.50420759, 0.50392595, 0.50384081, 0.50378661,\n",
       "       0.50371651, 0.50365445, 0.50315375, 0.50299844, 0.50255729,\n",
       "       0.50197041, 0.50171256, 0.50167885, 0.50150619, 0.50142426,\n",
       "       0.50082584, 0.50071909, 0.50035157, 0.50014552, 0.49950558,\n",
       "       0.49864742, 0.49860226, 0.49844476, 0.4981783 , 0.49816103,\n",
       "       0.49812005, 0.49803681, 0.4974637 , 0.49682294, 0.4967296 ,\n",
       "       0.49632551, 0.49621554, 0.49531428, 0.49476049, 0.49470179,\n",
       "       0.49420884, 0.49408813, 0.494072  , 0.49347748, 0.49262532,\n",
       "       0.49247081, 0.49207614, 0.49103657, 0.49029787, 0.49021132,\n",
       "       0.49015084, 0.49010087, 0.48998942, 0.48978657, 0.48886258,\n",
       "       0.48875444, 0.48861861, 0.4884347 , 0.48829036, 0.48790444,\n",
       "       0.48743088, 0.48737269, 0.48727996, 0.48722382, 0.48708499,\n",
       "       0.48705693, 0.48618277, 0.48614152, 0.48514991, 0.48511223,\n",
       "       0.48346898, 0.4833858 , 0.48328991, 0.48326785, 0.48324654,\n",
       "       0.48302256, 0.48282605, 0.48241322, 0.4823627 , 0.48155326,\n",
       "       0.48141693, 0.48111366, 0.48093466, 0.48049778, 0.47999107,\n",
       "       0.4791591 , 0.47874017, 0.47853158, 0.47713035, 0.47671957,\n",
       "       0.47640115, 0.47622408, 0.47511715, 0.47487225, 0.47403439,\n",
       "       0.47338248, 0.47308329, 0.47299214, 0.47288682, 0.47229333,\n",
       "       0.47116883, 0.47094501, 0.47024973, 0.46989876, 0.46923249,\n",
       "       0.46873375, 0.46830853, 0.46800948, 0.46797851, 0.46726877,\n",
       "       0.46683629, 0.46625975, 0.46418597, 0.46345741, 0.46325924,\n",
       "       0.46205188, 0.46071341, 0.4604832 , 0.45946823, 0.45920644,\n",
       "       0.45769754, 0.45764139, 0.45677858, 0.45668812, 0.456604  ,\n",
       "       0.45624834, 0.45487067, 0.45407601, 0.45403458, 0.45399763,\n",
       "       0.45331926, 0.45290376, 0.45238505, 0.45225368, 0.45141022,\n",
       "       0.45114556, 0.45096666, 0.4506007 , 0.44954463, 0.44803785,\n",
       "       0.44794715, 0.44779198, 0.44738013, 0.44640898, 0.4463888 ,\n",
       "       0.4462248 , 0.44471707, 0.44367364, 0.44295249, 0.44293213,\n",
       "       0.44204867, 0.44151407, 0.44124717, 0.44109512, 0.44038563,\n",
       "       0.43919168, 0.43914733, 0.43852455, 0.43793585, 0.43764388,\n",
       "       0.43718946, 0.4371748 , 0.43702689, 0.43622908, 0.43568302,\n",
       "       0.43497031, 0.43493791, 0.4345376 , 0.43385072, 0.43146967,\n",
       "       0.43066333, 0.43000647, 0.42990917, 0.42921582, 0.42844996,\n",
       "       0.42775102, 0.42522571, 0.42331985, 0.42318922, 0.42316362,\n",
       "       0.42277431, 0.42192374, 0.42148489, 0.41972569, 0.41908499,\n",
       "       0.41890902, 0.41775923, 0.41764886, 0.41721254, 0.41718786,\n",
       "       0.41696963, 0.41642792, 0.41548336, 0.41503031, 0.41427895,\n",
       "       0.41364302, 0.41169866, 0.40996797, 0.40967867, 0.40938803,\n",
       "       0.40860238, 0.40769671, 0.40284154, 0.40240168, 0.40231346,\n",
       "       0.40166512, 0.40080181, 0.39739706, 0.39724165, 0.39628461,\n",
       "       0.39562567, 0.39362662, 0.39342025, 0.39326001, 0.39280583,\n",
       "       0.39132141, 0.39093253, 0.3902264 , 0.39000325, 0.38978862,\n",
       "       0.38849805, 0.38810928, 0.38715655, 0.38711814, 0.38597321,\n",
       "       0.38583753, 0.38505431, 0.38498929, 0.3848897 , 0.3836765 ,\n",
       "       0.38236606, 0.38181973, 0.38022433, 0.37959437, 0.37904109,\n",
       "       0.37902099, 0.37814664, 0.37645943, 0.3755832 , 0.37521085,\n",
       "       0.37004197, 0.36989504, 0.36861984, 0.36593721, 0.36500111,\n",
       "       0.36487007, 0.36432138, 0.36351362, 0.359765  , 0.35922278,\n",
       "       0.35866424, 0.35848775, 0.35541606, 0.35482989, 0.35402215,\n",
       "       0.35372132, 0.35367232, 0.350941  , 0.34965904, 0.34937564,\n",
       "       0.34851805, 0.34799819, 0.34725378, 0.34680479, 0.34628262,\n",
       "       0.3410618 , 0.34021133, 0.3396912 , 0.3379355 , 0.337243  ,\n",
       "       0.33677814, 0.33566201, 0.33435269, 0.33024745, 0.32874145,\n",
       "       0.32873049, 0.3256936 , 0.32445465, 0.3231532 , 0.32143192,\n",
       "       0.32102397, 0.3203048 , 0.31923206, 0.31332945, 0.3120072 ,\n",
       "       0.30169352, 0.29837802, 0.29316986, 0.29042248, 0.27085937,\n",
       "       0.2257198 ])"
      ]
     },
     "execution_count": 965,
     "metadata": {},
     "output_type": "execute_result"
    }
   ],
   "source": [
    "thresholds"
   ]
  },
  {
   "cell_type": "code",
   "execution_count": 966,
   "metadata": {},
   "outputs": [
    {
     "data": {
      "text/plain": [
       "array([<Axes: title={'center': '0'}>, <Axes: title={'center': '1'}>],\n",
       "      dtype=object)"
      ]
     },
     "execution_count": 966,
     "metadata": {},
     "output_type": "execute_result"
    },
    {
     "data": {
      "image/png": "[encoded data removed]",
      "text/plain": [
       "<Figure size 640x480 with 2 Axes>"
      ]
     },
     "metadata": {},
     "output_type": "display_data"
    }
   ],
   "source": [
    "dprob = pd.DataFrame(data = {'probability':y_pred_prob_Forest, 'actual':y_test})\n",
    "dprob.probability.hist(by=dprob.actual, sharex=True, sharey=True)"
   ]
  },
  {
   "cell_type": "code",
   "execution_count": 967,
   "metadata": {},
   "outputs": [
    {
     "name": "stdout",
     "output_type": "stream",
     "text": [
      "Sensitivity: 0.731128074639525\n",
      "Recall: 0.40098199672667756\n"
     ]
    }
   ],
   "source": [
    "op_thres_Random = 0.5\n",
    "\n",
    "evaluate_threshold(op_thres_Random)"
   ]
  },
  {
   "cell_type": "code",
   "execution_count": 968,
   "metadata": {},
   "outputs": [],
   "source": [
    "probs_For_opt = final_Forest.predict_proba(X_model_test)[:, 1]  \n",
    "pred_thres_For_opt = (probs_For_opt >= op_thres_Random).astype(int) "
   ]
  },
  {
   "cell_type": "code",
   "execution_count": 969,
   "metadata": {},
   "outputs": [
    {
     "name": "stdout",
     "output_type": "stream",
     "text": [
      "[[245 366]\n",
      " [316 863]]\n"
     ]
    }
   ],
   "source": [
    "print(confusion_matrix(expected, pred_thres_For_opt))"
   ]
  },
  {
   "cell_type": "code",
   "execution_count": 970,
   "metadata": {},
   "outputs": [
    {
     "name": "stdout",
     "output_type": "stream",
     "text": [
      "              precision    recall  f1-score   support\n",
      "\n",
      "           0       0.44      0.40      0.42       611\n",
      "           1       0.70      0.73      0.72      1179\n",
      "\n",
      "    accuracy                           0.62      1790\n",
      "   macro avg       0.57      0.57      0.57      1790\n",
      "weighted avg       0.61      0.62      0.61      1790\n",
      "\n"
     ]
    }
   ],
   "source": [
    "print(classification_report(expected, pred_thres_For_opt))"
   ]
  },
  {
   "cell_type": "markdown",
   "metadata": {},
   "source": [
    "Se obtienen los mismos resultados porque sigue siendo el mejor caso con umbral igual a 0,5."
   ]
  },
  {
   "cell_type": "markdown",
   "metadata": {},
   "source": [
    "Se calcula la AUC score."
   ]
  },
  {
   "cell_type": "code",
   "execution_count": 971,
   "metadata": {},
   "outputs": [
    {
     "name": "stdout",
     "output_type": "stream",
     "text": [
      "0.5664791238934491\n"
     ]
    }
   ],
   "source": [
    "print(roc_auc_score(expected, predicted_For_opt))"
   ]
  },
  {
   "cell_type": "markdown",
   "metadata": {},
   "source": [
    "También ha tenido una pequeña mejora, pero sigue en el mismo intervalo. Es decir, sigue siendo un modelo *F*."
   ]
  },
  {
   "cell_type": "markdown",
   "metadata": {},
   "source": [
    "### 7.3.8 Conclusiones del modelo"
   ]
  },
  {
   "cell_type": "markdown",
   "metadata": {},
   "source": [
    "Tal y como esta el modelo no se estan obteniendo buenos resultados debido a la escasez de entradas y la gran cantidad de dimensiones que presenta el dataset. Estamos obteniendo prácticamente los mismos resultados que si decidieramos clasificar al azar."
   ]
  },
  {
   "cell_type": "markdown",
   "metadata": {},
   "source": [
    "# 8. Exportar CSV"
   ]
  },
  {
   "cell_type": "markdown",
   "metadata": {},
   "source": [
    "## 8.1 Asignacion de las variables"
   ]
  },
  {
   "cell_type": "markdown",
   "metadata": {},
   "source": [
    "Asignamos las variables para el analisis en función del desarrollo del apartado del preprocesado."
   ]
  },
  {
   "cell_type": "code",
   "execution_count": 972,
   "metadata": {},
   "outputs": [],
   "source": [
    "X_kaggle = X_res_final\n",
    "y_kaggle = y_res_final\n",
    "\n",
    "X_kaggle_test = X_scaled_te_final"
   ]
  },
  {
   "cell_type": "markdown",
   "metadata": {},
   "source": [
    "## 8.2 Clasificador Random Forest"
   ]
  },
  {
   "cell_type": "markdown",
   "metadata": {},
   "source": [
    "Se entrena con los nuevos valores de train y test, y se modifica el umbral de probabilidades. En un principio, el valor del umbral era el de la variable *op_thres_Random*, pero se decidió finalmente que el valor del umbral fueran valores numéricos para que fuera más sencillo hacer diversas pruebas en Kaggle."
   ]
  },
  {
   "cell_type": "code",
   "execution_count": 973,
   "metadata": {},
   "outputs": [],
   "source": [
    "final_Forest.fit(X_kaggle, y_kaggle)\n",
    "\n",
    "probs_For_final = final_Forest.predict_proba(X_kaggle_test)[:, 1]  \n",
    "pred_thres_For_final = (probs_For_final >= 0.5).astype(int) "
   ]
  },
  {
   "cell_type": "markdown",
   "metadata": {},
   "source": [
    "Se crea un *dataframe* con las predicciones obtenidas con su correspondiente *id*."
   ]
  },
  {
   "cell_type": "code",
   "execution_count": 974,
   "metadata": {},
   "outputs": [],
   "source": [
    "df_label_Random = pd.DataFrame(pred_thres_For_final, columns=['label'])"
   ]
  },
  {
   "cell_type": "code",
   "execution_count": 975,
   "metadata": {},
   "outputs": [],
   "source": [
    "df_id = df_test['id'].reset_index(drop=True)"
   ]
  },
  {
   "cell_type": "code",
   "execution_count": 976,
   "metadata": {},
   "outputs": [],
   "source": [
    "df_final_Random = pd.concat([df_id, df_label_Random], axis=1)"
   ]
  },
  {
   "cell_type": "markdown",
   "metadata": {},
   "source": [
    "Mostramos los resultados obtenidos para tener una idea de la proporción de 1s y 0s de Kaggle."
   ]
  },
  {
   "cell_type": "code",
   "execution_count": 977,
   "metadata": {},
   "outputs": [
    {
     "data": {
      "text/plain": [
       "label\n",
       "1    2206\n",
       "0    1630\n",
       "Name: count, dtype: int64"
      ]
     },
     "execution_count": 977,
     "metadata": {},
     "output_type": "execute_result"
    }
   ],
   "source": [
    "df_final_Random['label'].value_counts()"
   ]
  },
  {
   "cell_type": "markdown",
   "metadata": {},
   "source": [
    "Se transforma el *dataframe* a un archivo *CSV*."
   ]
  },
  {
   "cell_type": "code",
   "execution_count": 978,
   "metadata": {},
   "outputs": [],
   "source": [
    "df_final_Random.to_csv('./submit/randomWord2vec.csv', index=False)"
   ]
  },
  {
   "cell_type": "markdown",
   "metadata": {},
   "source": [
    "# 9. Reducción dimensionalidad"
   ]
  },
  {
   "cell_type": "code",
   "execution_count": 979,
   "metadata": {},
   "outputs": [
    {
     "name": "stdout",
     "output_type": "stream",
     "text": [
      "Varianza explicada acumulada (primeros 30 componentes):\n",
      "Componente  1: 0.8405\n",
      "Componente  2: 0.8784\n",
      "Componente  3: 0.9095\n",
      "Componente  4: 0.9173\n",
      "Componente  5: 0.9237\n",
      "Componente  6: 0.9296\n",
      "Componente  7: 0.9352\n",
      "Componente  8: 0.9406\n",
      "Componente  9: 0.9457\n",
      "Componente 10: 0.9505\n",
      "Componente 11: 0.9552\n",
      "Componente 12: 0.9596\n",
      "Componente 13: 0.9639\n",
      "Componente 14: 0.9680\n",
      "Componente 15: 0.9718\n",
      "Componente 16: 0.9756\n",
      "Componente 17: 0.9792\n",
      "Componente 18: 0.9827\n",
      "Componente 19: 0.9852\n",
      "Componente 20: 0.9873\n",
      "Componente 21: 0.9891\n",
      "Componente 22: 0.9906\n",
      "Componente 23: 0.9918\n",
      "Componente 24: 0.9928\n",
      "Componente 25: 0.9936\n",
      "Componente 26: 0.9942\n",
      "Componente 27: 0.9948\n",
      "Componente 28: 0.9952\n",
      "Componente 29: 0.9955\n",
      "Componente 30: 0.9958\n",
      "\n",
      "Para explicar al menos el 95% de la varianza, se necesitan 10 componentes.\n"
     ]
    }
   ],
   "source": [
    "from sklearn.decomposition import PCA\n",
    "from sklearn.preprocessing import StandardScaler\n",
    "\n",
    "# 1. Escalamos antes PCA solo las features numéricas (todas lo son) para mejor resultado\n",
    "scaler = StandardScaler()\n",
    "X_total_train_scaled = scaler.fit_transform(X_total_train)\n",
    "X_total_test_scaled = scaler.transform(X_total_test)\n",
    "\n",
    "# 2. PCA sin límite para evaluar varianza explicada\n",
    "pca_temp = PCA(random_state=seed)\n",
    "pca_temp.fit(X_total_train_scaled)\n",
    "explained = np.cumsum(pca_temp.explained_variance_ratio_)\n",
    "\n",
    "# 3. Mostrar varianza explicada acumulada (primeros 30 componentes)\n",
    "print(\"Varianza explicada acumulada (primeros 30 componentes):\")\n",
    "for i in range(min(30, len(explained))):\n",
    "    print(f\"Componente {i+1:2d}: {explained[i]:.4f}\")\n",
    "\n",
    "# 4. Elegir número mínimo de componentes para explicar 95% (ajusta si quieres otro umbral)\n",
    "threshold = 0.95\n",
    "n_components = np.argmax(explained >= threshold) + 1\n",
    "print(f\"\\nPara explicar al menos el {int(threshold*100)}% de la varianza, se necesitan {n_components} componentes.\")\n",
    "\n",
    "# 5. Aplicar PCA final con número óptimo de componentes\n",
    "pca = PCA(n_components=n_components, random_state=seed)\n",
    "X_total_train_pca = pca.fit_transform(X_total_train_scaled)\n",
    "X_total_test_pca = pca.transform(X_total_test_scaled)\n",
    "\n",
    "# 6. Convertir resultado PCA a DataFrame y reasignar los nombres originales\n",
    "X_total_train = pd.DataFrame(X_total_train_pca, columns=[f'pca_{i}' for i in range(X_total_train_pca.shape[1])])\n",
    "X_total_test = pd.DataFrame(X_total_test_pca, columns=[f'pca_{i}' for i in range(X_total_test_pca.shape[1])])\n"
   ]
  },
  {
   "cell_type": "markdown",
   "metadata": {},
   "source": [
    "Ahora para kaggle"
   ]
  },
  {
   "cell_type": "code",
   "execution_count": 980,
   "metadata": {},
   "outputs": [
    {
     "name": "stdout",
     "output_type": "stream",
     "text": [
      "Varianza explicada acumulada (primeros 30 componentes) - dataset final:\n",
      "Componente  1: 0.7267\n",
      "Componente  2: 0.8144\n",
      "Componente  3: 0.8970\n",
      "Componente  4: 0.9082\n",
      "Componente  5: 0.9164\n",
      "Componente  6: 0.9232\n",
      "Componente  7: 0.9295\n",
      "Componente  8: 0.9351\n",
      "Componente  9: 0.9404\n",
      "Componente 10: 0.9453\n",
      "Componente 11: 0.9501\n",
      "Componente 12: 0.9548\n",
      "Componente 13: 0.9592\n",
      "Componente 14: 0.9635\n",
      "Componente 15: 0.9675\n",
      "Componente 16: 0.9714\n",
      "Componente 17: 0.9751\n",
      "Componente 18: 0.9788\n",
      "Componente 19: 0.9823\n",
      "Componente 20: 0.9849\n",
      "Componente 21: 0.9873\n",
      "Componente 22: 0.9894\n",
      "Componente 23: 0.9913\n",
      "Componente 24: 0.9926\n",
      "Componente 25: 0.9937\n",
      "Componente 26: 0.9945\n",
      "Componente 27: 0.9951\n",
      "Componente 28: 0.9956\n",
      "Componente 29: 0.9960\n",
      "Componente 30: 0.9964\n",
      "\n",
      "Para explicar al menos el 95% de la varianza, se necesitan 11 componentes en dataset final.\n"
     ]
    }
   ],
   "source": [
    "# 1. Escalar antes de PCA\n",
    "scaler_final = StandardScaler()\n",
    "X_tot_tr_final_scaled = scaler_final.fit_transform(X_tot_tr_final)\n",
    "X_tot_te_final_scaled = scaler_final.transform(X_tot_te_final)\n",
    "\n",
    "# 2. PCA sin límite para evaluar varianza explicada\n",
    "pca_temp_final = PCA(random_state=seed)\n",
    "pca_temp_final.fit(X_tot_tr_final_scaled)\n",
    "explained_final = np.cumsum(pca_temp_final.explained_variance_ratio_)\n",
    "\n",
    "# 3. Mostrar varianza explicada acumulada (primeros 30 componentes)\n",
    "print(\"Varianza explicada acumulada (primeros 30 componentes) - dataset final:\")\n",
    "for i in range(min(30, len(explained_final))):\n",
    "    print(f\"Componente {i+1:2d}: {explained_final[i]:.4f}\")\n",
    "\n",
    "# 4. Elegir número mínimo de componentes para explicar 95% (ajusta si quieres otro umbral)\n",
    "threshold = 0.95\n",
    "n_components_final = np.argmax(explained_final >= threshold) + 1\n",
    "print(f\"\\nPara explicar al menos el {int(threshold*100)}% de la varianza, se necesitan {n_components_final} componentes en dataset final.\")\n",
    "\n",
    "# 5. Aplicar PCA final con número óptimo de componentes\n",
    "pca_final = PCA(n_components=n_components_final, random_state=seed)\n",
    "X_tot_tr_final_pca = pca_final.fit_transform(X_tot_tr_final_scaled)\n",
    "X_tot_te_final_pca = pca_final.transform(X_tot_te_final_scaled)\n",
    "\n",
    "# 6. Convertir resultado PCA a DataFrame y reasignar los nombres originales\n",
    "X_tot_tr_final = pd.DataFrame(X_tot_tr_final_pca, columns=[f'pca_{i}' for i in range(X_tot_tr_final_pca.shape[1])])\n",
    "X_tot_te_final = pd.DataFrame(X_tot_te_final_pca, columns=[f'pca_{i}' for i in range(X_tot_te_final_pca.shape[1])])"
   ]
  },
  {
   "cell_type": "markdown",
   "metadata": {},
   "source": [
    "# 10. Referencias"
   ]
  },
  {
   "cell_type": "markdown",
   "metadata": {},
   "source": [
    "* [ColumnTransformer. (s. f.). Scikit-learn.](https://scikit-learn.org/stable/modules/generated/sklearn.compose.ColumnTransformer.html)\n",
    "* [GridSearchCV. (s. f.). Scikit-learn.](https://scikit-learn.org/stable/modules/generated/sklearn.model_selection.GridSearchCV.html)\n",
    "* [RandomForestClassifier. (s. f.). Scikit-learn.](https://scikit-learn.org/stable/modules/generated/sklearn.ensemble.RandomForestClassifier.html)\n",
    "* [RandomUnderSampler — Version 0.13.0. (s. f.). Imbalance learn.](https://imbalanced-learn.org/stable/references/generated/imblearn.under_sampling.RandomUnderSampler.html)\n",
    "* [SMOTE — Version 0.13.0. (s. f.). Imbalanced learn.](https://imbalanced-learn.org/stable/references/generated/imblearn.over_sampling.SMOTE.html)\n",
    "* [StandardScaler. (s. f.). Scikit-learn.](https://scikit-learn.org/stable/modules/generated/sklearn.preprocessing.StandardScaler.html)\n",
    "* [train_test_split. (s. f.). Scikit-learn.](https://scikit-learn.org/stable/modules/generated/sklearn.model_selection.train_test_split.html)\n",
    "* [TfidfVectorizer. (s. f.). Scikit-learn.](https://scikit-learn.org/stable/modules/generated/sklearn.feature_extraction.text.TfidfVectorizer.html)\n",
    "* [TruncatedSVD. (s. f.). Scikit-learn.](https://scikit-learn.org/stable/modules/generated/sklearn.decomposition.TruncatedSVD.html)"
   ]
  },
  {
   "cell_type": "markdown",
   "metadata": {},
   "source": []
  },
  {
   "cell_type": "markdown",
   "metadata": {},
   "source": []
  },
  {
   "cell_type": "markdown",
   "metadata": {},
   "source": []
  }
 ],
 "metadata": {
  "kernelspec": {
   "display_name": "base",
   "language": "python",
   "name": "python3"
  },
  "language_info": {
   "codemirror_mode": {
    "name": "ipython",
    "version": 3
   },
   "file_extension": ".py",
   "mimetype": "text/x-python",
   "name": "python",
   "nbconvert_exporter": "python",
   "pygments_lexer": "ipython3",
   "version": "3.12.7"
  }
 },
 "nbformat": 4,
 "nbformat_minor": 4
}
