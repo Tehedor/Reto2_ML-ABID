{
 "cells": [
  {
   "cell_type": "markdown",
   "metadata": {},
   "source": [
    "<header style=\"width:100%;position:relative\">\n",
    "  <div style=\"width:80%;float:right;\">\n",
    "    <h1>False Political Claim Detection</h1>\n",
    "    <h3>Entrenamiento y evaluación de los modelos</h3>\n",
    "    <h5>Grupo 2</h5>\n",
    "  </div>\n",
    "        <img style=\"width:15%;\" src=\"./images/logo.jpg\" alt=\"UPM\" />\n",
    "</header>"
   ]
  },
  {
   "cell_type": "markdown",
   "metadata": {},
   "source": [
    "# Índice"
   ]
  },
  {
   "cell_type": "markdown",
   "metadata": {},
   "source": [
    "1. [Importar librerias](#1.-Importar-librerias)\n",
    "2. [Variables globales y funciones auxiliares](#2.-Variables-globales-y-funciones-auxiliares)\n",
    "3. [Carga del dataframe](#3.-Carga-del-dataframe)\n",
    "4. [Selección de las características](#4.-Seleccion-de-las-caracteristicas)\n",
    "5. [Carga de los datos y división en entrenamiento y test](#5.-Carga-de-los-datos-y-division-en-entrenamiento-y-test)\n",
    "6. [Preprocesado](#6.-Preprocesado)\n",
    "    * 6.1 [Tratamiento de los textos](#6.1-Tratamiento-de-los-textos)\n",
    "    * 6.2 [Remuestreo](#6.2-Remuestreo)\n",
    "7. [Modelos seleccionados](#7.-Modelos-seleccionados)\n",
    "    * 7.1 [Introducción](#7.1-Introduccion)\n",
    "    * 7.2 [Asignacion de las variables](#7.2-Asignacion-de-las-variables)\n",
    "    * 7.3 [Clasificador Random Forest](#7.3-Clasificador-Random-Forest)\n",
    "    * 7.4 [Clasificador Gradient Boosting](#7.4-Clasificador-Gradient-Boosting)\n",
    "    * 7.5 [Clasificador Logistic Regression](#7.5-Clasificador-Logistic-Regression)\n",
    "    * 7.6 [Clasificador SVC](#7.6-Clasificador-SVC)\n",
    "\n",
    "\n",
    "8. [Exportar CSV](#8.-Exportar-CSV)\n",
    "    * 8.1 [Asignacion de las variables](#8.1-Asignacion-de-las-variables)\n",
    "    * 8.2 [Clasificador Random Forest](#8.2-Clasificador-Random-Forest)\n",
    "    * 8.3 [Clasificador Gradient Boosting](#8.3-Clasificador-Gradient-Boosting)\n",
    "    * 8.4 [Clasificador Logistic Regression](#8.4-Clasificador-Logistic-Regression)\n",
    "    * 8.5 [Clasificador SVC](#8.5-Clasificador-SVC)\n",
    "\n",
    "9. [Referencias](#9.-Referencias)"
   ]
  },
  {
   "cell_type": "markdown",
   "metadata": {},
   "source": [
    "# 1. Importar librerias"
   ]
  },
  {
   "cell_type": "code",
   "execution_count": 352,
   "metadata": {},
   "outputs": [
    {
     "name": "stdout",
     "output_type": "stream",
     "text": [
      "Todas las librerias fueron correctamente importadas.\n"
     ]
    }
   ],
   "source": [
    "# General import and load data\n",
    "import pandas as pd\n",
    "import numpy as np\n",
    "\n",
    "# Resampling\n",
    "from imblearn.under_sampling import RandomUnderSampler\n",
    "from imblearn.over_sampling import SMOTE\n",
    "\n",
    "# Preprocessing\n",
    "from sklearn.compose import ColumnTransformer\n",
    "from sklearn.preprocessing import StandardScaler\n",
    "from sklearn.feature_extraction.text import TfidfVectorizer\n",
    "from sklearn.decomposition import TruncatedSVD\n",
    "\n",
    "# Splitting\n",
    "from sklearn.model_selection import train_test_split\n",
    "\n",
    "# Estimators\n",
    "from sklearn.svm import LinearSVC, SVC\n",
    "from sklearn.neural_network import MLPClassifier\n",
    "from sklearn.neighbors import KNeighborsClassifier\n",
    "from sklearn.ensemble import RandomForestClassifier, GradientBoostingClassifier, VotingClassifier\n",
    "from sklearn.linear_model import LogisticRegression\n",
    "\n",
    "# Evaluation\n",
    "from sklearn.metrics import accuracy_score, confusion_matrix, classification_report\n",
    "from sklearn.metrics import make_scorer, f1_score, recall_score, roc_curve, roc_auc_score\n",
    "\n",
    "# Optimization\n",
    "from sklearn.model_selection import GridSearchCV, PredefinedSplit\n",
    "\n",
    "# Visualization\n",
    "import matplotlib.pyplot as plt\n",
    "\n",
    "# Time optimization\n",
    "import time\n",
    "\n",
    "print(\"Todas las librerias fueron correctamente importadas.\")"
   ]
  },
  {
   "cell_type": "markdown",
   "metadata": {},
   "source": [
    "# 2. Variables globales y funciones auxiliares"
   ]
  },
  {
   "cell_type": "markdown",
   "metadata": {},
   "source": [
    "Se fija un seed para todo el documento para fijar la aleatoriedad y así obtener resultados replicables."
   ]
  },
  {
   "cell_type": "code",
   "execution_count": 3,
   "metadata": {},
   "outputs": [],
   "source": [
    "seed = 42"
   ]
  },
  {
   "cell_type": "markdown",
   "metadata": {},
   "source": [
    "Función utilizado para evaluar los distintos umbrales en la curva de ROC."
   ]
  },
  {
   "cell_type": "code",
   "execution_count": 4,
   "metadata": {},
   "outputs": [],
   "source": [
    "def evaluate_threshold(threshold):\n",
    "    print('Sensitivity:', tpr[thresholds > threshold][-1])\n",
    "    print('Recall:', 1 - fpr[thresholds > threshold][-1])"
   ]
  },
  {
   "cell_type": "markdown",
   "metadata": {},
   "source": [
    "# 3. Carga del dataframe"
   ]
  },
  {
   "cell_type": "markdown",
   "metadata": {},
   "source": [
    "Se cargan los datos de la ruta *formated/train_exportado.csv*, los cuales son los datos ya procesados por uno de nuestros compañeros."
   ]
  },
  {
   "cell_type": "code",
   "execution_count": 5,
   "metadata": {},
   "outputs": [
    {
     "name": "stdout",
     "output_type": "stream",
     "text": [
      "Datos cargados correctamente\n",
      "\n"
     ]
    }
   ],
   "source": [
    "url = \"formated/train_exportado.csv\"\n",
    "df = pd.read_csv(url)\n",
    "\n",
    "print(\"Datos cargados correctamente\\n\")"
   ]
  },
  {
   "cell_type": "markdown",
   "metadata": {},
   "source": [
    "También cargamos el test que debemos predecir para Kaggle de la ruta *formated/test_exportado.csv*."
   ]
  },
  {
   "cell_type": "code",
   "execution_count": 6,
   "metadata": {},
   "outputs": [
    {
     "name": "stdout",
     "output_type": "stream",
     "text": [
      "Test cargado correctamente\n",
      "\n"
     ]
    }
   ],
   "source": [
    "url = \"formated/test_exportado.csv\"\n",
    "df_test = pd.read_csv(url)\n",
    "\n",
    "print(\"Test cargado correctamente\\n\")"
   ]
  },
  {
   "cell_type": "markdown",
   "metadata": {},
   "source": [
    "# 4. Seleccion de las caracteristicas"
   ]
  },
  {
   "cell_type": "markdown",
   "metadata": {},
   "source": [
    "En el siguiente array se muestran todas las caracteristicas por si se decide realizar pruebas con otras *features*."
   ]
  },
  {
   "cell_type": "code",
   "execution_count": 7,
   "metadata": {},
   "outputs": [],
   "source": [
    "all_features = [\n",
    "    # Identificador\n",
    "    'id',\n",
    "\n",
    "    # Etiqueta objetivo\n",
    "    'label',\n",
    "\n",
    "    # Texto original y procesado\n",
    "    'statement', 'statement-raw', 'statement-lemmatize', \n",
    "\n",
    "    # Features derivados del texto\n",
    "    'statement-ner', 'feelings',\n",
    "\n",
    "    # One-hot encoded de los temas reagrupados del texto \n",
    "    'subject-ciencia_y_tecnologia', 'subject-economia_y_finanzas',\n",
    "    'subject-educacion', 'subject-medio_ambiente_y_energia', 'subject-otros',\n",
    "    'subject-politica_y_gobierno', 'subject-relaciones_internacionales',\n",
    "    'subject-salud_y_bienestar', 'subject-seguridad_y_justicia',\n",
    "    'subject-sociedad_y_cultura', 'subject-trabajo_y_empleo',\n",
    "\n",
    "    # Resto de las categoricas agrupadas\n",
    "    'speaker_grouped', 'speaker_job_grouped', 'state_info_grouped', 'party_group',\n",
    "\n",
    "    # Resto de las categoricas agrupadas y codificadas\n",
    "    'speaker_grouped_cod', 'speaker_job_grouped_cod',\n",
    "    'state_info_grouped_cod', 'party_group_cod',\n",
    "\n",
    "    # Variables generadas por LLM los null\n",
    "    'speaker_job-llm', 'speaker_job_cod-llm',\n",
    "    'state_info-llm', 'state_info_cod-llm',\n",
    "    'party_affiliation-llm', 'party_affiliation_cod-llm'\n",
    "]"
   ]
  },
  {
   "cell_type": "markdown",
   "metadata": {},
   "source": [
    "Se seleccionan todas las categorias menos: \n",
    "* ***id***: no aporta ningún valor.\n",
    "* ***label***: variable a predecir.\n",
    "* ***statement***: esta *feature* esta por si nos es necesario en algun momento futuro tener el texto sin procesar.\n",
    "* ***statement-lemmatize***: esta *feature* solo esta para probar en notebooks posteriores si clasifica mejor o peor con las raices de las palabras.\n",
    "* ***statement-ner***: esta *feature* esta para ver si el clasificador funciona mejor con el NER por separado.\n",
    "* ***speaker_grouped***, ***speaker_job_grouped***, ***state_info_grouped***, ***party_group***: suponemos que tenemos la misma información ya codificada.\n",
    "* ***speaker_job-llm***, ***speaker_job_cod-llm***, ***state_info-llm***, ***state_info_cod-llm***, ***party_affiliation-llm***, ***party_affiliation_cod-llm***: esta información ya esta en otras *features*, la diferencia esta en como se tratan los nulos asi que se analizará cual funciona mejor si con LLM o sin ellos durante el apartado de clasificación."
   ]
  },
  {
   "cell_type": "code",
   "execution_count": 8,
   "metadata": {},
   "outputs": [],
   "source": [
    "selected_features = [\n",
    "    # Texto\n",
    "    'statement-raw',\n",
    "        \n",
    "    # Features derivados del texto\n",
    "    'feelings',\n",
    "\n",
    "    # One-hot encoded de los temas reagrupados del texto \n",
    "    'subject-ciencia_y_tecnologia', 'subject-economia_y_finanzas',\n",
    "    'subject-educacion', 'subject-medio_ambiente_y_energia', 'subject-otros',\n",
    "    'subject-politica_y_gobierno', 'subject-relaciones_internacionales',\n",
    "    'subject-salud_y_bienestar', 'subject-seguridad_y_justicia',\n",
    "    'subject-sociedad_y_cultura', 'subject-trabajo_y_empleo',\n",
    "\n",
    "    # Resto de las categoricas agrupadas y codificadas\n",
    "    'speaker_grouped_cod', 'speaker_job_grouped_cod',\n",
    "    'state_info_grouped_cod', 'party_group_cod'\n",
    "]"
   ]
  },
  {
   "cell_type": "markdown",
   "metadata": {},
   "source": [
    "En caso de querer probar si funcionan mejor las de los LLM, se sustituirán por su simil. También si se quiere probar el texto lematizado se sustituira por el *raw*."
   ]
  },
  {
   "cell_type": "markdown",
   "metadata": {},
   "source": [
    "De las cuales texto es:"
   ]
  },
  {
   "cell_type": "code",
   "execution_count": 9,
   "metadata": {},
   "outputs": [],
   "source": [
    "text = 'statement-raw'"
   ]
  },
  {
   "cell_type": "markdown",
   "metadata": {},
   "source": [
    "Y las que no se corresponden con texto son:"
   ]
  },
  {
   "cell_type": "code",
   "execution_count": 10,
   "metadata": {},
   "outputs": [],
   "source": [
    "no_text = [\n",
    "    # Features derivados del texto\n",
    "    'feelings',\n",
    "\n",
    "    # One-hot encoded de los temas reagrupados del texto \n",
    "    'subject-ciencia_y_tecnologia', 'subject-economia_y_finanzas',\n",
    "    'subject-educacion', 'subject-medio_ambiente_y_energia', 'subject-otros',\n",
    "    'subject-politica_y_gobierno', 'subject-relaciones_internacionales',\n",
    "    'subject-salud_y_bienestar', 'subject-seguridad_y_justicia',\n",
    "    'subject-sociedad_y_cultura', 'subject-trabajo_y_empleo',\n",
    "\n",
    "    # Resto de las categoricas agrupadas y codificadas\n",
    "     'speaker_grouped_cod', 'speaker_job_grouped_cod',\n",
    "     'state_info_grouped_cod', 'party_group_cod'\n",
    "]"
   ]
  },
  {
   "cell_type": "markdown",
   "metadata": {},
   "source": [
    "Y de las cuales, numéricas son las siguientes:"
   ]
  },
  {
   "cell_type": "code",
   "execution_count": 11,
   "metadata": {},
   "outputs": [],
   "source": [
    "numeric_vars = [\n",
    "    'speaker_grouped_cod', 'speaker_job_grouped_cod',\n",
    "    'state_info_grouped_cod', 'party_group_cod'\n",
    "]"
   ]
  },
  {
   "cell_type": "markdown",
   "metadata": {},
   "source": [
    "# 5. Carga de los datos y division en entrenamiento y test"
   ]
  },
  {
   "cell_type": "markdown",
   "metadata": {},
   "source": [
    "Cargamos las caracteristicas seleccionadas en la variable X y el objetivo *Accept* en la variable y."
   ]
  },
  {
   "cell_type": "code",
   "execution_count": 12,
   "metadata": {},
   "outputs": [],
   "source": [
    "X = df[selected_features] \n",
    "y = df['label'].values"
   ]
  },
  {
   "cell_type": "markdown",
   "metadata": {},
   "source": [
    "Se separa ya en entrenamiento y test para no falsear los datos del test al realizar el balanceo."
   ]
  },
  {
   "cell_type": "code",
   "execution_count": 13,
   "metadata": {},
   "outputs": [],
   "source": [
    "X_train, X_test, y_train, y_test = train_test_split(X, y, test_size=0.2, random_state=seed)"
   ]
  },
  {
   "cell_type": "markdown",
   "metadata": {},
   "source": [
    "A la hora de subir el modelo a Kaggle, ya se nos da dividido el entrenamiento y el test. Por ello, se utilizarán todos los datos tratados como entrenamiento (aunque también se le aplicará el mejor caso de preprocesado para cada modelo)."
   ]
  },
  {
   "cell_type": "code",
   "execution_count": 14,
   "metadata": {},
   "outputs": [],
   "source": [
    "X_train_final = X\n",
    "y_train_final = y\n",
    "\n",
    "X_test_final = df_test[selected_features] "
   ]
  },
  {
   "cell_type": "markdown",
   "metadata": {},
   "source": [
    "# 6. Preprocesado"
   ]
  },
  {
   "cell_type": "markdown",
   "metadata": {},
   "source": [
    "Como se menciona en el notebook dedicado al preprocesamiento, primero se tratará el texto, después se reducirá su dimensionalidad con un *TruncatedSVD*, se estandarizarán las variables codificadas mediante un *StandardScaler* y, finalmente, se realizará un remuestreo mediante *SMOTE* y *RandomUnderSampler*. \n",
    "\n",
    "En caso de querer probar el caso de preprocesamiento 6, será necesario eliminar el *StandardScaler* junto al *ColumnTransformer*."
   ]
  },
  {
   "cell_type": "markdown",
   "metadata": {},
   "source": [
    "## 6.1 Tratamiento de los textos"
   ]
  },
  {
   "cell_type": "markdown",
   "metadata": {},
   "source": [
    "### 6.1.1 Vectorización"
   ]
  },
  {
   "cell_type": "markdown",
   "metadata": {},
   "source": [
    "Primero tratamos el texto para los análisis de los modelos."
   ]
  },
  {
   "cell_type": "code",
   "execution_count": 15,
   "metadata": {},
   "outputs": [],
   "source": [
    "# Tratamiento del texto para el analisis de los modelos\n",
    "vect = TfidfVectorizer(min_df=5, max_df=0.8, ngram_range=(1,2))\n",
    "vect.fit(X_train[text])\n",
    "\n",
    "X_txt_train = vect.transform(X_train[text])\n",
    "X_txt_test = vect.transform(X_test[text])"
   ]
  },
  {
   "cell_type": "markdown",
   "metadata": {},
   "source": [
    "Después para el dataset que se utilizará para subir a Kaggle."
   ]
  },
  {
   "cell_type": "code",
   "execution_count": 16,
   "metadata": {},
   "outputs": [],
   "source": [
    "# Tratamiento del texto para Kaggle\n",
    "vect_final = TfidfVectorizer(min_df=5, max_df=0.8, ngram_range=(1,2))\n",
    "vect_final.fit(X_train_final[text])\n",
    "\n",
    "X_txt_tr_final = vect_final.transform(X_train_final[text])\n",
    "X_txt_te_final = vect_final.transform(X_test_final[text])"
   ]
  },
  {
   "cell_type": "markdown",
   "metadata": {},
   "source": [
    "### 6.1.2 Reducción de la dimensionalidad"
   ]
  },
  {
   "cell_type": "markdown",
   "metadata": {},
   "source": [
    "Aplicamos un *SVD* para reducir la dimensionalidad, empezando para los conjuntos de análisis."
   ]
  },
  {
   "cell_type": "code",
   "execution_count": 17,
   "metadata": {},
   "outputs": [],
   "source": [
    "svd = TruncatedSVD(n_components=1000, random_state=seed)\n",
    "svd.fit(X_txt_train)\n",
    "\n",
    "X_svd_full_train = svd.transform(X_txt_train)\n",
    "X_svd_full_test = svd.transform(X_txt_test)"
   ]
  },
  {
   "cell_type": "markdown",
   "metadata": {},
   "source": [
    "Continuando con la de Kaggle."
   ]
  },
  {
   "cell_type": "code",
   "execution_count": 18,
   "metadata": {},
   "outputs": [],
   "source": [
    "svd_final = TruncatedSVD(n_components=2000, random_state=seed)\n",
    "svd_final.fit(X_txt_tr_final)\n",
    "\n",
    "X_svd_full_tr_final = svd_final.transform(X_txt_tr_final)\n",
    "X_svd_full_te_final = svd_final.transform(X_txt_te_final)"
   ]
  },
  {
   "cell_type": "markdown",
   "metadata": {},
   "source": [
    "Nos quedamos solamente con los componentes que nos permitan tener un de ratio de explicabilidad determinado. Primero el de análisis."
   ]
  },
  {
   "cell_type": "code",
   "execution_count": 19,
   "metadata": {},
   "outputs": [
    {
     "data": {
      "image/png": "[encoded data removed]",
      "text/plain": [
       "<Figure size 1000x600 with 1 Axes>"
      ]
     },
     "metadata": {},
     "output_type": "display_data"
    }
   ],
   "source": [
    "# Calculate cumulative explained variance ratio\n",
    "cumulative_variance_ratio = np.cumsum(svd.explained_variance_ratio_)\n",
    "\n",
    "# Plot explained variance ratio\n",
    "plt.figure(figsize=(10, 6))\n",
    "plt.plot(range(1, len(cumulative_variance_ratio) + 1), \n",
    "         cumulative_variance_ratio, 'bo-')\n",
    "plt.xlabel('Número de Componentes')\n",
    "plt.ylabel('Ratio de Varianza Explicada Acumulada')\n",
    "plt.title('Ratio Varianza Explicada vs. Número Componentes')\n",
    "plt.grid(True)\n",
    "\n",
    "# Add threshold line\n",
    "plt.axhline(y=0.7, color='r', linestyle='--', \n",
    "            label='Umbral del 70% de varianza')\n",
    "plt.legend()\n",
    "plt.show()"
   ]
  },
  {
   "cell_type": "markdown",
   "metadata": {},
   "source": [
    "Continuando con el de Kaggle."
   ]
  },
  {
   "cell_type": "code",
   "execution_count": 20,
   "metadata": {},
   "outputs": [
    {
     "data": {
      "image/png": "[encoded data removed]",
      "text/plain": [
       "<Figure size 1000x600 with 1 Axes>"
      ]
     },
     "metadata": {},
     "output_type": "display_data"
    }
   ],
   "source": [
    "# Calculate cumulative explained variance ratio\n",
    "cumulative_variance_ratio_final = np.cumsum(svd_final.explained_variance_ratio_)\n",
    "\n",
    "# Plot explained variance ratio\n",
    "plt.figure(figsize=(10, 6))\n",
    "plt.plot(range(1, len(cumulative_variance_ratio_final) + 1), \n",
    "         cumulative_variance_ratio_final, 'bo-')\n",
    "plt.xlabel('Número de Componentes')\n",
    "plt.ylabel('Ratio de Varianza Explicada Acumulada')\n",
    "plt.title('Ratio Varianza Explicada vs. Número Componentes')\n",
    "plt.grid(True)\n",
    "\n",
    "# Add threshold line\n",
    "plt.axhline(y=0.7, color='r', linestyle='--', \n",
    "            label='Umbral del 70% de varianza')\n",
    "plt.legend()\n",
    "plt.show()"
   ]
  },
  {
   "cell_type": "markdown",
   "metadata": {},
   "source": [
    "Y ahora, seleccionamos el número de componentes, así como el desglose que aporta cada uno de ellos al ratio de  explicabilidad. Primero el de análisis."
   ]
  },
  {
   "cell_type": "code",
   "execution_count": 21,
   "metadata": {
    "scrolled": true
   },
   "outputs": [
    {
     "name": "stdout",
     "output_type": "stream",
     "text": [
      "Número de componentes seleccionados: 898\n",
      "Varianza explicada con 898 componentes: 0.7001\n",
      "\n",
      "Varianza explicada por cada componente:\n",
      "Componente 1: 0.0023 (0.23%)\n",
      "Componente 2: 0.0064 (0.64%)\n",
      "Componente 3: 0.0062 (0.62%)\n",
      "Componente 4: 0.0051 (0.51%)\n",
      "Componente 5: 0.0047 (0.47%)\n",
      "Componente 6: 0.0046 (0.46%)\n",
      "Componente 7: 0.0043 (0.43%)\n",
      "Componente 8: 0.0042 (0.42%)\n",
      "Componente 9: 0.0039 (0.39%)\n",
      "Componente 10: 0.0038 (0.38%)\n",
      "Componente 11: 0.0036 (0.36%)\n",
      "Componente 12: 0.0035 (0.35%)\n",
      "Componente 13: 0.0034 (0.34%)\n",
      "Componente 14: 0.0033 (0.33%)\n",
      "Componente 15: 0.0032 (0.32%)\n",
      "Componente 16: 0.0032 (0.32%)\n",
      "Componente 17: 0.0030 (0.30%)\n",
      "Componente 18: 0.0030 (0.30%)\n",
      "Componente 19: 0.0030 (0.30%)\n",
      "Componente 20: 0.0029 (0.29%)\n",
      "Componente 21: 0.0028 (0.28%)\n",
      "Componente 22: 0.0028 (0.28%)\n",
      "Componente 23: 0.0028 (0.28%)\n",
      "Componente 24: 0.0027 (0.27%)\n",
      "Componente 25: 0.0027 (0.27%)\n",
      "Componente 26: 0.0027 (0.27%)\n",
      "Componente 27: 0.0026 (0.26%)\n",
      "Componente 28: 0.0026 (0.26%)\n",
      "Componente 29: 0.0026 (0.26%)\n",
      "Componente 30: 0.0025 (0.25%)\n",
      "Componente 31: 0.0025 (0.25%)\n",
      "Componente 32: 0.0025 (0.25%)\n",
      "Componente 33: 0.0024 (0.24%)\n",
      "Componente 34: 0.0024 (0.24%)\n",
      "Componente 35: 0.0024 (0.24%)\n",
      "Componente 36: 0.0023 (0.23%)\n",
      "Componente 37: 0.0023 (0.23%)\n",
      "Componente 38: 0.0023 (0.23%)\n",
      "Componente 39: 0.0023 (0.23%)\n",
      "Componente 40: 0.0022 (0.22%)\n",
      "Componente 41: 0.0022 (0.22%)\n",
      "Componente 42: 0.0022 (0.22%)\n",
      "Componente 43: 0.0022 (0.22%)\n",
      "Componente 44: 0.0021 (0.21%)\n",
      "Componente 45: 0.0021 (0.21%)\n",
      "Componente 46: 0.0021 (0.21%)\n",
      "Componente 47: 0.0021 (0.21%)\n",
      "Componente 48: 0.0021 (0.21%)\n",
      "Componente 49: 0.0020 (0.20%)\n",
      "Componente 50: 0.0020 (0.20%)\n",
      "Componente 51: 0.0020 (0.20%)\n",
      "Componente 52: 0.0020 (0.20%)\n",
      "Componente 53: 0.0019 (0.19%)\n",
      "Componente 54: 0.0019 (0.19%)\n",
      "Componente 55: 0.0019 (0.19%)\n",
      "Componente 56: 0.0019 (0.19%)\n",
      "Componente 57: 0.0019 (0.19%)\n",
      "Componente 58: 0.0019 (0.19%)\n",
      "Componente 59: 0.0019 (0.19%)\n",
      "Componente 60: 0.0019 (0.19%)\n",
      "Componente 61: 0.0018 (0.18%)\n",
      "Componente 62: 0.0018 (0.18%)\n",
      "Componente 63: 0.0018 (0.18%)\n",
      "Componente 64: 0.0018 (0.18%)\n",
      "Componente 65: 0.0018 (0.18%)\n",
      "Componente 66: 0.0018 (0.18%)\n",
      "Componente 67: 0.0017 (0.17%)\n",
      "Componente 68: 0.0017 (0.17%)\n",
      "Componente 69: 0.0017 (0.17%)\n",
      "Componente 70: 0.0017 (0.17%)\n",
      "Componente 71: 0.0017 (0.17%)\n",
      "Componente 72: 0.0017 (0.17%)\n",
      "Componente 73: 0.0017 (0.17%)\n",
      "Componente 74: 0.0017 (0.17%)\n",
      "Componente 75: 0.0016 (0.16%)\n",
      "Componente 76: 0.0016 (0.16%)\n",
      "Componente 77: 0.0016 (0.16%)\n",
      "Componente 78: 0.0016 (0.16%)\n",
      "Componente 79: 0.0016 (0.16%)\n",
      "Componente 80: 0.0016 (0.16%)\n",
      "Componente 81: 0.0016 (0.16%)\n",
      "Componente 82: 0.0016 (0.16%)\n",
      "Componente 83: 0.0016 (0.16%)\n",
      "Componente 84: 0.0015 (0.15%)\n",
      "Componente 85: 0.0015 (0.15%)\n",
      "Componente 86: 0.0015 (0.15%)\n",
      "Componente 87: 0.0015 (0.15%)\n",
      "Componente 88: 0.0015 (0.15%)\n",
      "Componente 89: 0.0015 (0.15%)\n",
      "Componente 90: 0.0015 (0.15%)\n",
      "Componente 91: 0.0015 (0.15%)\n",
      "Componente 92: 0.0015 (0.15%)\n",
      "Componente 93: 0.0015 (0.15%)\n",
      "Componente 94: 0.0015 (0.15%)\n",
      "Componente 95: 0.0015 (0.15%)\n",
      "Componente 96: 0.0014 (0.14%)\n",
      "Componente 97: 0.0014 (0.14%)\n",
      "Componente 98: 0.0014 (0.14%)\n",
      "Componente 99: 0.0014 (0.14%)\n",
      "Componente 100: 0.0014 (0.14%)\n",
      "Componente 101: 0.0014 (0.14%)\n",
      "Componente 102: 0.0014 (0.14%)\n",
      "Componente 103: 0.0014 (0.14%)\n",
      "Componente 104: 0.0014 (0.14%)\n",
      "Componente 105: 0.0014 (0.14%)\n",
      "Componente 106: 0.0014 (0.14%)\n",
      "Componente 107: 0.0014 (0.14%)\n",
      "Componente 108: 0.0014 (0.14%)\n",
      "Componente 109: 0.0013 (0.13%)\n",
      "Componente 110: 0.0013 (0.13%)\n",
      "Componente 111: 0.0013 (0.13%)\n",
      "Componente 112: 0.0013 (0.13%)\n",
      "Componente 113: 0.0013 (0.13%)\n",
      "Componente 114: 0.0013 (0.13%)\n",
      "Componente 115: 0.0013 (0.13%)\n",
      "Componente 116: 0.0013 (0.13%)\n",
      "Componente 117: 0.0013 (0.13%)\n",
      "Componente 118: 0.0013 (0.13%)\n",
      "Componente 119: 0.0013 (0.13%)\n",
      "Componente 120: 0.0013 (0.13%)\n",
      "Componente 121: 0.0013 (0.13%)\n",
      "Componente 122: 0.0013 (0.13%)\n",
      "Componente 123: 0.0012 (0.12%)\n",
      "Componente 124: 0.0012 (0.12%)\n",
      "Componente 125: 0.0012 (0.12%)\n",
      "Componente 126: 0.0012 (0.12%)\n",
      "Componente 127: 0.0012 (0.12%)\n",
      "Componente 128: 0.0012 (0.12%)\n",
      "Componente 129: 0.0012 (0.12%)\n",
      "Componente 130: 0.0012 (0.12%)\n",
      "Componente 131: 0.0012 (0.12%)\n",
      "Componente 132: 0.0012 (0.12%)\n",
      "Componente 133: 0.0012 (0.12%)\n",
      "Componente 134: 0.0012 (0.12%)\n",
      "Componente 135: 0.0012 (0.12%)\n",
      "Componente 136: 0.0012 (0.12%)\n",
      "Componente 137: 0.0012 (0.12%)\n",
      "Componente 138: 0.0012 (0.12%)\n",
      "Componente 139: 0.0012 (0.12%)\n",
      "Componente 140: 0.0012 (0.12%)\n",
      "Componente 141: 0.0012 (0.12%)\n",
      "Componente 142: 0.0011 (0.11%)\n",
      "Componente 143: 0.0011 (0.11%)\n",
      "Componente 144: 0.0011 (0.11%)\n",
      "Componente 145: 0.0011 (0.11%)\n",
      "Componente 146: 0.0011 (0.11%)\n",
      "Componente 147: 0.0011 (0.11%)\n",
      "Componente 148: 0.0011 (0.11%)\n",
      "Componente 149: 0.0011 (0.11%)\n",
      "Componente 150: 0.0011 (0.11%)\n",
      "Componente 151: 0.0011 (0.11%)\n",
      "Componente 152: 0.0011 (0.11%)\n",
      "Componente 153: 0.0011 (0.11%)\n",
      "Componente 154: 0.0011 (0.11%)\n",
      "Componente 155: 0.0011 (0.11%)\n",
      "Componente 156: 0.0011 (0.11%)\n",
      "Componente 157: 0.0011 (0.11%)\n",
      "Componente 158: 0.0011 (0.11%)\n",
      "Componente 159: 0.0011 (0.11%)\n",
      "Componente 160: 0.0011 (0.11%)\n",
      "Componente 161: 0.0011 (0.11%)\n",
      "Componente 162: 0.0011 (0.11%)\n",
      "Componente 163: 0.0011 (0.11%)\n",
      "Componente 164: 0.0010 (0.10%)\n",
      "Componente 165: 0.0010 (0.10%)\n",
      "Componente 166: 0.0010 (0.10%)\n",
      "Componente 167: 0.0010 (0.10%)\n",
      "Componente 168: 0.0010 (0.10%)\n",
      "Componente 169: 0.0010 (0.10%)\n",
      "Componente 170: 0.0010 (0.10%)\n",
      "Componente 171: 0.0010 (0.10%)\n",
      "Componente 172: 0.0010 (0.10%)\n",
      "Componente 173: 0.0010 (0.10%)\n",
      "Componente 174: 0.0010 (0.10%)\n",
      "Componente 175: 0.0010 (0.10%)\n",
      "Componente 176: 0.0010 (0.10%)\n",
      "Componente 177: 0.0010 (0.10%)\n",
      "Componente 178: 0.0010 (0.10%)\n",
      "Componente 179: 0.0010 (0.10%)\n",
      "Componente 180: 0.0010 (0.10%)\n",
      "Componente 181: 0.0010 (0.10%)\n",
      "Componente 182: 0.0010 (0.10%)\n",
      "Componente 183: 0.0010 (0.10%)\n",
      "Componente 184: 0.0010 (0.10%)\n",
      "Componente 185: 0.0010 (0.10%)\n",
      "Componente 186: 0.0010 (0.10%)\n",
      "Componente 187: 0.0010 (0.10%)\n",
      "Componente 188: 0.0010 (0.10%)\n",
      "Componente 189: 0.0010 (0.10%)\n",
      "Componente 190: 0.0010 (0.10%)\n",
      "Componente 191: 0.0010 (0.10%)\n",
      "Componente 192: 0.0010 (0.10%)\n",
      "Componente 193: 0.0010 (0.10%)\n",
      "Componente 194: 0.0010 (0.10%)\n",
      "Componente 195: 0.0010 (0.10%)\n",
      "Componente 196: 0.0009 (0.09%)\n",
      "Componente 197: 0.0009 (0.09%)\n",
      "Componente 198: 0.0009 (0.09%)\n",
      "Componente 199: 0.0009 (0.09%)\n",
      "Componente 200: 0.0009 (0.09%)\n",
      "Componente 201: 0.0009 (0.09%)\n",
      "Componente 202: 0.0009 (0.09%)\n",
      "Componente 203: 0.0009 (0.09%)\n",
      "Componente 204: 0.0009 (0.09%)\n",
      "Componente 205: 0.0009 (0.09%)\n",
      "Componente 206: 0.0009 (0.09%)\n",
      "Componente 207: 0.0009 (0.09%)\n",
      "Componente 208: 0.0009 (0.09%)\n",
      "Componente 209: 0.0009 (0.09%)\n",
      "Componente 210: 0.0009 (0.09%)\n",
      "Componente 211: 0.0009 (0.09%)\n",
      "Componente 212: 0.0009 (0.09%)\n",
      "Componente 213: 0.0009 (0.09%)\n",
      "Componente 214: 0.0009 (0.09%)\n",
      "Componente 215: 0.0009 (0.09%)\n",
      "Componente 216: 0.0009 (0.09%)\n",
      "Componente 217: 0.0009 (0.09%)\n",
      "Componente 218: 0.0009 (0.09%)\n",
      "Componente 219: 0.0009 (0.09%)\n",
      "Componente 220: 0.0009 (0.09%)\n",
      "Componente 221: 0.0009 (0.09%)\n",
      "Componente 222: 0.0009 (0.09%)\n",
      "Componente 223: 0.0009 (0.09%)\n",
      "Componente 224: 0.0009 (0.09%)\n",
      "Componente 225: 0.0009 (0.09%)\n",
      "Componente 226: 0.0009 (0.09%)\n",
      "Componente 227: 0.0009 (0.09%)\n",
      "Componente 228: 0.0009 (0.09%)\n",
      "Componente 229: 0.0009 (0.09%)\n",
      "Componente 230: 0.0009 (0.09%)\n",
      "Componente 231: 0.0009 (0.09%)\n",
      "Componente 232: 0.0008 (0.08%)\n",
      "Componente 233: 0.0008 (0.08%)\n",
      "Componente 234: 0.0008 (0.08%)\n",
      "Componente 235: 0.0008 (0.08%)\n",
      "Componente 236: 0.0008 (0.08%)\n",
      "Componente 237: 0.0008 (0.08%)\n",
      "Componente 238: 0.0008 (0.08%)\n",
      "Componente 239: 0.0008 (0.08%)\n",
      "Componente 240: 0.0008 (0.08%)\n",
      "Componente 241: 0.0008 (0.08%)\n",
      "Componente 242: 0.0008 (0.08%)\n",
      "Componente 243: 0.0008 (0.08%)\n",
      "Componente 244: 0.0008 (0.08%)\n",
      "Componente 245: 0.0008 (0.08%)\n",
      "Componente 246: 0.0008 (0.08%)\n",
      "Componente 247: 0.0008 (0.08%)\n",
      "Componente 248: 0.0008 (0.08%)\n",
      "Componente 249: 0.0008 (0.08%)\n",
      "Componente 250: 0.0008 (0.08%)\n",
      "Componente 251: 0.0008 (0.08%)\n",
      "Componente 252: 0.0008 (0.08%)\n",
      "Componente 253: 0.0008 (0.08%)\n",
      "Componente 254: 0.0008 (0.08%)\n",
      "Componente 255: 0.0008 (0.08%)\n",
      "Componente 256: 0.0008 (0.08%)\n",
      "Componente 257: 0.0008 (0.08%)\n",
      "Componente 258: 0.0008 (0.08%)\n",
      "Componente 259: 0.0008 (0.08%)\n",
      "Componente 260: 0.0008 (0.08%)\n",
      "Componente 261: 0.0008 (0.08%)\n",
      "Componente 262: 0.0008 (0.08%)\n",
      "Componente 263: 0.0008 (0.08%)\n",
      "Componente 264: 0.0008 (0.08%)\n",
      "Componente 265: 0.0008 (0.08%)\n",
      "Componente 266: 0.0008 (0.08%)\n",
      "Componente 267: 0.0008 (0.08%)\n",
      "Componente 268: 0.0008 (0.08%)\n",
      "Componente 269: 0.0008 (0.08%)\n",
      "Componente 270: 0.0008 (0.08%)\n",
      "Componente 271: 0.0008 (0.08%)\n",
      "Componente 272: 0.0008 (0.08%)\n",
      "Componente 273: 0.0008 (0.08%)\n",
      "Componente 274: 0.0008 (0.08%)\n",
      "Componente 275: 0.0008 (0.08%)\n",
      "Componente 276: 0.0008 (0.08%)\n",
      "Componente 277: 0.0007 (0.07%)\n",
      "Componente 278: 0.0007 (0.07%)\n",
      "Componente 279: 0.0007 (0.07%)\n",
      "Componente 280: 0.0007 (0.07%)\n",
      "Componente 281: 0.0007 (0.07%)\n",
      "Componente 282: 0.0007 (0.07%)\n",
      "Componente 283: 0.0007 (0.07%)\n",
      "Componente 284: 0.0007 (0.07%)\n",
      "Componente 285: 0.0007 (0.07%)\n",
      "Componente 286: 0.0007 (0.07%)\n",
      "Componente 287: 0.0007 (0.07%)\n",
      "Componente 288: 0.0007 (0.07%)\n",
      "Componente 289: 0.0007 (0.07%)\n",
      "Componente 290: 0.0007 (0.07%)\n",
      "Componente 291: 0.0007 (0.07%)\n",
      "Componente 292: 0.0007 (0.07%)\n",
      "Componente 293: 0.0007 (0.07%)\n",
      "Componente 294: 0.0007 (0.07%)\n",
      "Componente 295: 0.0007 (0.07%)\n",
      "Componente 296: 0.0007 (0.07%)\n",
      "Componente 297: 0.0007 (0.07%)\n",
      "Componente 298: 0.0007 (0.07%)\n",
      "Componente 299: 0.0007 (0.07%)\n",
      "Componente 300: 0.0007 (0.07%)\n",
      "Componente 301: 0.0007 (0.07%)\n",
      "Componente 302: 0.0007 (0.07%)\n",
      "Componente 303: 0.0007 (0.07%)\n",
      "Componente 304: 0.0007 (0.07%)\n",
      "Componente 305: 0.0007 (0.07%)\n",
      "Componente 306: 0.0007 (0.07%)\n",
      "Componente 307: 0.0007 (0.07%)\n",
      "Componente 308: 0.0007 (0.07%)\n",
      "Componente 309: 0.0007 (0.07%)\n",
      "Componente 310: 0.0007 (0.07%)\n",
      "Componente 311: 0.0007 (0.07%)\n",
      "Componente 312: 0.0007 (0.07%)\n",
      "Componente 313: 0.0007 (0.07%)\n",
      "Componente 314: 0.0007 (0.07%)\n",
      "Componente 315: 0.0007 (0.07%)\n",
      "Componente 316: 0.0007 (0.07%)\n",
      "Componente 317: 0.0007 (0.07%)\n",
      "Componente 318: 0.0007 (0.07%)\n",
      "Componente 319: 0.0007 (0.07%)\n",
      "Componente 320: 0.0007 (0.07%)\n",
      "Componente 321: 0.0007 (0.07%)\n",
      "Componente 322: 0.0007 (0.07%)\n",
      "Componente 323: 0.0007 (0.07%)\n",
      "Componente 324: 0.0007 (0.07%)\n",
      "Componente 325: 0.0007 (0.07%)\n",
      "Componente 326: 0.0007 (0.07%)\n",
      "Componente 327: 0.0007 (0.07%)\n",
      "Componente 328: 0.0007 (0.07%)\n",
      "Componente 329: 0.0007 (0.07%)\n",
      "Componente 330: 0.0007 (0.07%)\n",
      "Componente 331: 0.0007 (0.07%)\n",
      "Componente 332: 0.0007 (0.07%)\n",
      "Componente 333: 0.0007 (0.07%)\n",
      "Componente 334: 0.0007 (0.07%)\n",
      "Componente 335: 0.0007 (0.07%)\n",
      "Componente 336: 0.0007 (0.07%)\n",
      "Componente 337: 0.0007 (0.07%)\n",
      "Componente 338: 0.0007 (0.07%)\n",
      "Componente 339: 0.0007 (0.07%)\n",
      "Componente 340: 0.0007 (0.07%)\n",
      "Componente 341: 0.0007 (0.07%)\n",
      "Componente 342: 0.0007 (0.07%)\n",
      "Componente 343: 0.0007 (0.07%)\n",
      "Componente 344: 0.0006 (0.06%)\n",
      "Componente 345: 0.0006 (0.06%)\n",
      "Componente 346: 0.0006 (0.06%)\n",
      "Componente 347: 0.0006 (0.06%)\n",
      "Componente 348: 0.0006 (0.06%)\n",
      "Componente 349: 0.0006 (0.06%)\n",
      "Componente 350: 0.0006 (0.06%)\n",
      "Componente 351: 0.0006 (0.06%)\n",
      "Componente 352: 0.0006 (0.06%)\n",
      "Componente 353: 0.0006 (0.06%)\n",
      "Componente 354: 0.0006 (0.06%)\n",
      "Componente 355: 0.0006 (0.06%)\n",
      "Componente 356: 0.0006 (0.06%)\n",
      "Componente 357: 0.0006 (0.06%)\n",
      "Componente 358: 0.0006 (0.06%)\n",
      "Componente 359: 0.0006 (0.06%)\n",
      "Componente 360: 0.0006 (0.06%)\n",
      "Componente 361: 0.0006 (0.06%)\n",
      "Componente 362: 0.0006 (0.06%)\n",
      "Componente 363: 0.0006 (0.06%)\n",
      "Componente 364: 0.0006 (0.06%)\n",
      "Componente 365: 0.0006 (0.06%)\n",
      "Componente 366: 0.0006 (0.06%)\n",
      "Componente 367: 0.0006 (0.06%)\n",
      "Componente 368: 0.0006 (0.06%)\n",
      "Componente 369: 0.0006 (0.06%)\n",
      "Componente 370: 0.0006 (0.06%)\n",
      "Componente 371: 0.0006 (0.06%)\n",
      "Componente 372: 0.0006 (0.06%)\n",
      "Componente 373: 0.0006 (0.06%)\n",
      "Componente 374: 0.0006 (0.06%)\n",
      "Componente 375: 0.0006 (0.06%)\n",
      "Componente 376: 0.0006 (0.06%)\n",
      "Componente 377: 0.0006 (0.06%)\n",
      "Componente 378: 0.0006 (0.06%)\n",
      "Componente 379: 0.0006 (0.06%)\n",
      "Componente 380: 0.0006 (0.06%)\n",
      "Componente 381: 0.0006 (0.06%)\n",
      "Componente 382: 0.0006 (0.06%)\n",
      "Componente 383: 0.0006 (0.06%)\n",
      "Componente 384: 0.0006 (0.06%)\n",
      "Componente 385: 0.0006 (0.06%)\n",
      "Componente 386: 0.0006 (0.06%)\n",
      "Componente 387: 0.0006 (0.06%)\n",
      "Componente 388: 0.0006 (0.06%)\n",
      "Componente 389: 0.0006 (0.06%)\n",
      "Componente 390: 0.0006 (0.06%)\n",
      "Componente 391: 0.0006 (0.06%)\n",
      "Componente 392: 0.0006 (0.06%)\n",
      "Componente 393: 0.0006 (0.06%)\n",
      "Componente 394: 0.0006 (0.06%)\n",
      "Componente 395: 0.0006 (0.06%)\n",
      "Componente 396: 0.0006 (0.06%)\n",
      "Componente 397: 0.0006 (0.06%)\n",
      "Componente 398: 0.0006 (0.06%)\n",
      "Componente 399: 0.0006 (0.06%)\n",
      "Componente 400: 0.0006 (0.06%)\n",
      "Componente 401: 0.0006 (0.06%)\n",
      "Componente 402: 0.0006 (0.06%)\n",
      "Componente 403: 0.0006 (0.06%)\n",
      "Componente 404: 0.0006 (0.06%)\n",
      "Componente 405: 0.0006 (0.06%)\n",
      "Componente 406: 0.0006 (0.06%)\n",
      "Componente 407: 0.0006 (0.06%)\n",
      "Componente 408: 0.0006 (0.06%)\n",
      "Componente 409: 0.0006 (0.06%)\n",
      "Componente 410: 0.0006 (0.06%)\n",
      "Componente 411: 0.0006 (0.06%)\n",
      "Componente 412: 0.0006 (0.06%)\n",
      "Componente 413: 0.0006 (0.06%)\n",
      "Componente 414: 0.0006 (0.06%)\n",
      "Componente 415: 0.0006 (0.06%)\n",
      "Componente 416: 0.0006 (0.06%)\n",
      "Componente 417: 0.0006 (0.06%)\n",
      "Componente 418: 0.0006 (0.06%)\n",
      "Componente 419: 0.0006 (0.06%)\n",
      "Componente 420: 0.0006 (0.06%)\n",
      "Componente 421: 0.0006 (0.06%)\n",
      "Componente 422: 0.0006 (0.06%)\n",
      "Componente 423: 0.0006 (0.06%)\n",
      "Componente 424: 0.0006 (0.06%)\n",
      "Componente 425: 0.0006 (0.06%)\n",
      "Componente 426: 0.0006 (0.06%)\n",
      "Componente 427: 0.0006 (0.06%)\n",
      "Componente 428: 0.0006 (0.06%)\n",
      "Componente 429: 0.0006 (0.06%)\n",
      "Componente 430: 0.0006 (0.06%)\n",
      "Componente 431: 0.0006 (0.06%)\n",
      "Componente 432: 0.0006 (0.06%)\n",
      "Componente 433: 0.0006 (0.06%)\n",
      "Componente 434: 0.0006 (0.06%)\n",
      "Componente 435: 0.0006 (0.06%)\n",
      "Componente 436: 0.0006 (0.06%)\n",
      "Componente 437: 0.0006 (0.06%)\n",
      "Componente 438: 0.0005 (0.05%)\n",
      "Componente 439: 0.0005 (0.05%)\n",
      "Componente 440: 0.0005 (0.05%)\n",
      "Componente 441: 0.0005 (0.05%)\n",
      "Componente 442: 0.0005 (0.05%)\n",
      "Componente 443: 0.0005 (0.05%)\n",
      "Componente 444: 0.0005 (0.05%)\n",
      "Componente 445: 0.0005 (0.05%)\n",
      "Componente 446: 0.0005 (0.05%)\n",
      "Componente 447: 0.0005 (0.05%)\n",
      "Componente 448: 0.0005 (0.05%)\n",
      "Componente 449: 0.0005 (0.05%)\n",
      "Componente 450: 0.0005 (0.05%)\n",
      "Componente 451: 0.0005 (0.05%)\n",
      "Componente 452: 0.0005 (0.05%)\n",
      "Componente 453: 0.0005 (0.05%)\n",
      "Componente 454: 0.0005 (0.05%)\n",
      "Componente 455: 0.0005 (0.05%)\n",
      "Componente 456: 0.0005 (0.05%)\n",
      "Componente 457: 0.0005 (0.05%)\n",
      "Componente 458: 0.0005 (0.05%)\n",
      "Componente 459: 0.0005 (0.05%)\n",
      "Componente 460: 0.0005 (0.05%)\n",
      "Componente 461: 0.0005 (0.05%)\n",
      "Componente 462: 0.0005 (0.05%)\n",
      "Componente 463: 0.0005 (0.05%)\n",
      "Componente 464: 0.0005 (0.05%)\n",
      "Componente 465: 0.0005 (0.05%)\n",
      "Componente 466: 0.0005 (0.05%)\n",
      "Componente 467: 0.0005 (0.05%)\n",
      "Componente 468: 0.0005 (0.05%)\n",
      "Componente 469: 0.0005 (0.05%)\n",
      "Componente 470: 0.0005 (0.05%)\n",
      "Componente 471: 0.0005 (0.05%)\n",
      "Componente 472: 0.0005 (0.05%)\n",
      "Componente 473: 0.0005 (0.05%)\n",
      "Componente 474: 0.0005 (0.05%)\n",
      "Componente 475: 0.0005 (0.05%)\n",
      "Componente 476: 0.0005 (0.05%)\n",
      "Componente 477: 0.0005 (0.05%)\n",
      "Componente 478: 0.0005 (0.05%)\n",
      "Componente 479: 0.0005 (0.05%)\n",
      "Componente 480: 0.0005 (0.05%)\n",
      "Componente 481: 0.0005 (0.05%)\n",
      "Componente 482: 0.0005 (0.05%)\n",
      "Componente 483: 0.0005 (0.05%)\n",
      "Componente 484: 0.0005 (0.05%)\n",
      "Componente 485: 0.0005 (0.05%)\n",
      "Componente 486: 0.0005 (0.05%)\n",
      "Componente 487: 0.0005 (0.05%)\n",
      "Componente 488: 0.0005 (0.05%)\n",
      "Componente 489: 0.0005 (0.05%)\n",
      "Componente 490: 0.0005 (0.05%)\n",
      "Componente 491: 0.0005 (0.05%)\n",
      "Componente 492: 0.0005 (0.05%)\n",
      "Componente 493: 0.0005 (0.05%)\n",
      "Componente 494: 0.0005 (0.05%)\n",
      "Componente 495: 0.0005 (0.05%)\n",
      "Componente 496: 0.0005 (0.05%)\n",
      "Componente 497: 0.0005 (0.05%)\n",
      "Componente 498: 0.0005 (0.05%)\n",
      "Componente 499: 0.0005 (0.05%)\n",
      "Componente 500: 0.0005 (0.05%)\n",
      "Componente 501: 0.0005 (0.05%)\n",
      "Componente 502: 0.0005 (0.05%)\n",
      "Componente 503: 0.0005 (0.05%)\n",
      "Componente 504: 0.0005 (0.05%)\n",
      "Componente 505: 0.0005 (0.05%)\n",
      "Componente 506: 0.0005 (0.05%)\n",
      "Componente 507: 0.0005 (0.05%)\n",
      "Componente 508: 0.0005 (0.05%)\n",
      "Componente 509: 0.0005 (0.05%)\n",
      "Componente 510: 0.0005 (0.05%)\n",
      "Componente 511: 0.0005 (0.05%)\n",
      "Componente 512: 0.0005 (0.05%)\n",
      "Componente 513: 0.0005 (0.05%)\n",
      "Componente 514: 0.0005 (0.05%)\n",
      "Componente 515: 0.0005 (0.05%)\n",
      "Componente 516: 0.0005 (0.05%)\n",
      "Componente 517: 0.0005 (0.05%)\n",
      "Componente 518: 0.0005 (0.05%)\n",
      "Componente 519: 0.0005 (0.05%)\n",
      "Componente 520: 0.0005 (0.05%)\n",
      "Componente 521: 0.0005 (0.05%)\n",
      "Componente 522: 0.0005 (0.05%)\n",
      "Componente 523: 0.0005 (0.05%)\n",
      "Componente 524: 0.0005 (0.05%)\n",
      "Componente 525: 0.0005 (0.05%)\n",
      "Componente 526: 0.0005 (0.05%)\n",
      "Componente 527: 0.0005 (0.05%)\n",
      "Componente 528: 0.0005 (0.05%)\n",
      "Componente 529: 0.0005 (0.05%)\n",
      "Componente 530: 0.0005 (0.05%)\n",
      "Componente 531: 0.0005 (0.05%)\n",
      "Componente 532: 0.0005 (0.05%)\n",
      "Componente 533: 0.0005 (0.05%)\n",
      "Componente 534: 0.0005 (0.05%)\n",
      "Componente 535: 0.0005 (0.05%)\n",
      "Componente 536: 0.0005 (0.05%)\n",
      "Componente 537: 0.0005 (0.05%)\n",
      "Componente 538: 0.0005 (0.05%)\n",
      "Componente 539: 0.0005 (0.05%)\n",
      "Componente 540: 0.0005 (0.05%)\n",
      "Componente 541: 0.0005 (0.05%)\n",
      "Componente 542: 0.0005 (0.05%)\n",
      "Componente 543: 0.0005 (0.05%)\n",
      "Componente 544: 0.0005 (0.05%)\n",
      "Componente 545: 0.0005 (0.05%)\n",
      "Componente 546: 0.0005 (0.05%)\n",
      "Componente 547: 0.0005 (0.05%)\n",
      "Componente 548: 0.0005 (0.05%)\n",
      "Componente 549: 0.0005 (0.05%)\n",
      "Componente 550: 0.0005 (0.05%)\n",
      "Componente 551: 0.0005 (0.05%)\n",
      "Componente 552: 0.0005 (0.05%)\n",
      "Componente 553: 0.0005 (0.05%)\n",
      "Componente 554: 0.0005 (0.05%)\n",
      "Componente 555: 0.0005 (0.05%)\n",
      "Componente 556: 0.0005 (0.05%)\n",
      "Componente 557: 0.0005 (0.05%)\n",
      "Componente 558: 0.0005 (0.05%)\n",
      "Componente 559: 0.0005 (0.05%)\n",
      "Componente 560: 0.0005 (0.05%)\n",
      "Componente 561: 0.0005 (0.05%)\n",
      "Componente 562: 0.0005 (0.05%)\n",
      "Componente 563: 0.0005 (0.05%)\n",
      "Componente 564: 0.0005 (0.05%)\n",
      "Componente 565: 0.0005 (0.05%)\n",
      "Componente 566: 0.0005 (0.05%)\n",
      "Componente 567: 0.0005 (0.05%)\n",
      "Componente 568: 0.0005 (0.05%)\n",
      "Componente 569: 0.0005 (0.05%)\n",
      "Componente 570: 0.0005 (0.05%)\n",
      "Componente 571: 0.0005 (0.05%)\n",
      "Componente 572: 0.0005 (0.05%)\n",
      "Componente 573: 0.0005 (0.05%)\n",
      "Componente 574: 0.0005 (0.05%)\n",
      "Componente 575: 0.0005 (0.05%)\n",
      "Componente 576: 0.0005 (0.05%)\n",
      "Componente 577: 0.0005 (0.05%)\n",
      "Componente 578: 0.0004 (0.04%)\n",
      "Componente 579: 0.0004 (0.04%)\n",
      "Componente 580: 0.0004 (0.04%)\n",
      "Componente 581: 0.0004 (0.04%)\n",
      "Componente 582: 0.0004 (0.04%)\n",
      "Componente 583: 0.0004 (0.04%)\n",
      "Componente 584: 0.0004 (0.04%)\n",
      "Componente 585: 0.0004 (0.04%)\n",
      "Componente 586: 0.0004 (0.04%)\n",
      "Componente 587: 0.0004 (0.04%)\n",
      "Componente 588: 0.0004 (0.04%)\n",
      "Componente 589: 0.0004 (0.04%)\n",
      "Componente 590: 0.0004 (0.04%)\n",
      "Componente 591: 0.0004 (0.04%)\n",
      "Componente 592: 0.0004 (0.04%)\n",
      "Componente 593: 0.0004 (0.04%)\n",
      "Componente 594: 0.0004 (0.04%)\n",
      "Componente 595: 0.0004 (0.04%)\n",
      "Componente 596: 0.0004 (0.04%)\n",
      "Componente 597: 0.0004 (0.04%)\n",
      "Componente 598: 0.0004 (0.04%)\n",
      "Componente 599: 0.0004 (0.04%)\n",
      "Componente 600: 0.0004 (0.04%)\n",
      "Componente 601: 0.0004 (0.04%)\n",
      "Componente 602: 0.0004 (0.04%)\n",
      "Componente 603: 0.0004 (0.04%)\n",
      "Componente 604: 0.0004 (0.04%)\n",
      "Componente 605: 0.0004 (0.04%)\n",
      "Componente 606: 0.0004 (0.04%)\n",
      "Componente 607: 0.0004 (0.04%)\n",
      "Componente 608: 0.0004 (0.04%)\n",
      "Componente 609: 0.0004 (0.04%)\n",
      "Componente 610: 0.0004 (0.04%)\n",
      "Componente 611: 0.0004 (0.04%)\n",
      "Componente 612: 0.0004 (0.04%)\n",
      "Componente 613: 0.0004 (0.04%)\n",
      "Componente 614: 0.0004 (0.04%)\n",
      "Componente 615: 0.0004 (0.04%)\n",
      "Componente 616: 0.0004 (0.04%)\n",
      "Componente 617: 0.0004 (0.04%)\n",
      "Componente 618: 0.0004 (0.04%)\n",
      "Componente 619: 0.0004 (0.04%)\n",
      "Componente 620: 0.0004 (0.04%)\n",
      "Componente 621: 0.0004 (0.04%)\n",
      "Componente 622: 0.0004 (0.04%)\n",
      "Componente 623: 0.0004 (0.04%)\n",
      "Componente 624: 0.0004 (0.04%)\n",
      "Componente 625: 0.0004 (0.04%)\n",
      "Componente 626: 0.0004 (0.04%)\n",
      "Componente 627: 0.0004 (0.04%)\n",
      "Componente 628: 0.0004 (0.04%)\n",
      "Componente 629: 0.0004 (0.04%)\n",
      "Componente 630: 0.0004 (0.04%)\n",
      "Componente 631: 0.0004 (0.04%)\n",
      "Componente 632: 0.0004 (0.04%)\n",
      "Componente 633: 0.0004 (0.04%)\n",
      "Componente 634: 0.0004 (0.04%)\n",
      "Componente 635: 0.0004 (0.04%)\n",
      "Componente 636: 0.0004 (0.04%)\n",
      "Componente 637: 0.0004 (0.04%)\n",
      "Componente 638: 0.0004 (0.04%)\n",
      "Componente 639: 0.0004 (0.04%)\n",
      "Componente 640: 0.0004 (0.04%)\n",
      "Componente 641: 0.0004 (0.04%)\n",
      "Componente 642: 0.0004 (0.04%)\n",
      "Componente 643: 0.0004 (0.04%)\n",
      "Componente 644: 0.0004 (0.04%)\n",
      "Componente 645: 0.0004 (0.04%)\n",
      "Componente 646: 0.0004 (0.04%)\n",
      "Componente 647: 0.0004 (0.04%)\n",
      "Componente 648: 0.0004 (0.04%)\n",
      "Componente 649: 0.0004 (0.04%)\n",
      "Componente 650: 0.0004 (0.04%)\n",
      "Componente 651: 0.0004 (0.04%)\n",
      "Componente 652: 0.0004 (0.04%)\n",
      "Componente 653: 0.0004 (0.04%)\n",
      "Componente 654: 0.0004 (0.04%)\n",
      "Componente 655: 0.0004 (0.04%)\n",
      "Componente 656: 0.0004 (0.04%)\n",
      "Componente 657: 0.0004 (0.04%)\n",
      "Componente 658: 0.0004 (0.04%)\n",
      "Componente 659: 0.0004 (0.04%)\n",
      "Componente 660: 0.0004 (0.04%)\n",
      "Componente 661: 0.0004 (0.04%)\n",
      "Componente 662: 0.0004 (0.04%)\n",
      "Componente 663: 0.0004 (0.04%)\n",
      "Componente 664: 0.0004 (0.04%)\n",
      "Componente 665: 0.0004 (0.04%)\n",
      "Componente 666: 0.0004 (0.04%)\n",
      "Componente 667: 0.0004 (0.04%)\n",
      "Componente 668: 0.0004 (0.04%)\n",
      "Componente 669: 0.0004 (0.04%)\n",
      "Componente 670: 0.0004 (0.04%)\n",
      "Componente 671: 0.0004 (0.04%)\n",
      "Componente 672: 0.0004 (0.04%)\n",
      "Componente 673: 0.0004 (0.04%)\n",
      "Componente 674: 0.0004 (0.04%)\n",
      "Componente 675: 0.0004 (0.04%)\n",
      "Componente 676: 0.0004 (0.04%)\n",
      "Componente 677: 0.0004 (0.04%)\n",
      "Componente 678: 0.0004 (0.04%)\n",
      "Componente 679: 0.0004 (0.04%)\n",
      "Componente 680: 0.0004 (0.04%)\n",
      "Componente 681: 0.0004 (0.04%)\n",
      "Componente 682: 0.0004 (0.04%)\n",
      "Componente 683: 0.0004 (0.04%)\n",
      "Componente 684: 0.0004 (0.04%)\n",
      "Componente 685: 0.0004 (0.04%)\n",
      "Componente 686: 0.0004 (0.04%)\n",
      "Componente 687: 0.0004 (0.04%)\n",
      "Componente 688: 0.0004 (0.04%)\n",
      "Componente 689: 0.0004 (0.04%)\n",
      "Componente 690: 0.0004 (0.04%)\n",
      "Componente 691: 0.0004 (0.04%)\n",
      "Componente 692: 0.0004 (0.04%)\n",
      "Componente 693: 0.0004 (0.04%)\n",
      "Componente 694: 0.0004 (0.04%)\n",
      "Componente 695: 0.0004 (0.04%)\n",
      "Componente 696: 0.0004 (0.04%)\n",
      "Componente 697: 0.0004 (0.04%)\n",
      "Componente 698: 0.0004 (0.04%)\n",
      "Componente 699: 0.0004 (0.04%)\n",
      "Componente 700: 0.0004 (0.04%)\n",
      "Componente 701: 0.0004 (0.04%)\n",
      "Componente 702: 0.0004 (0.04%)\n",
      "Componente 703: 0.0004 (0.04%)\n",
      "Componente 704: 0.0004 (0.04%)\n",
      "Componente 705: 0.0004 (0.04%)\n",
      "Componente 706: 0.0004 (0.04%)\n",
      "Componente 707: 0.0004 (0.04%)\n",
      "Componente 708: 0.0004 (0.04%)\n",
      "Componente 709: 0.0004 (0.04%)\n",
      "Componente 710: 0.0004 (0.04%)\n",
      "Componente 711: 0.0004 (0.04%)\n",
      "Componente 712: 0.0004 (0.04%)\n",
      "Componente 713: 0.0004 (0.04%)\n",
      "Componente 714: 0.0004 (0.04%)\n",
      "Componente 715: 0.0004 (0.04%)\n",
      "Componente 716: 0.0004 (0.04%)\n",
      "Componente 717: 0.0004 (0.04%)\n",
      "Componente 718: 0.0004 (0.04%)\n",
      "Componente 719: 0.0004 (0.04%)\n",
      "Componente 720: 0.0004 (0.04%)\n",
      "Componente 721: 0.0004 (0.04%)\n",
      "Componente 722: 0.0004 (0.04%)\n",
      "Componente 723: 0.0004 (0.04%)\n",
      "Componente 724: 0.0004 (0.04%)\n",
      "Componente 725: 0.0004 (0.04%)\n",
      "Componente 726: 0.0004 (0.04%)\n",
      "Componente 727: 0.0004 (0.04%)\n",
      "Componente 728: 0.0004 (0.04%)\n",
      "Componente 729: 0.0004 (0.04%)\n",
      "Componente 730: 0.0004 (0.04%)\n",
      "Componente 731: 0.0004 (0.04%)\n",
      "Componente 732: 0.0004 (0.04%)\n",
      "Componente 733: 0.0004 (0.04%)\n",
      "Componente 734: 0.0004 (0.04%)\n",
      "Componente 735: 0.0004 (0.04%)\n",
      "Componente 736: 0.0004 (0.04%)\n",
      "Componente 737: 0.0004 (0.04%)\n",
      "Componente 738: 0.0004 (0.04%)\n",
      "Componente 739: 0.0004 (0.04%)\n",
      "Componente 740: 0.0004 (0.04%)\n",
      "Componente 741: 0.0004 (0.04%)\n",
      "Componente 742: 0.0004 (0.04%)\n",
      "Componente 743: 0.0004 (0.04%)\n",
      "Componente 744: 0.0004 (0.04%)\n",
      "Componente 745: 0.0004 (0.04%)\n",
      "Componente 746: 0.0004 (0.04%)\n",
      "Componente 747: 0.0004 (0.04%)\n",
      "Componente 748: 0.0004 (0.04%)\n",
      "Componente 749: 0.0004 (0.04%)\n",
      "Componente 750: 0.0004 (0.04%)\n",
      "Componente 751: 0.0004 (0.04%)\n",
      "Componente 752: 0.0004 (0.04%)\n",
      "Componente 753: 0.0004 (0.04%)\n",
      "Componente 754: 0.0004 (0.04%)\n",
      "Componente 755: 0.0004 (0.04%)\n",
      "Componente 756: 0.0004 (0.04%)\n",
      "Componente 757: 0.0004 (0.04%)\n",
      "Componente 758: 0.0004 (0.04%)\n",
      "Componente 759: 0.0004 (0.04%)\n",
      "Componente 760: 0.0004 (0.04%)\n",
      "Componente 761: 0.0004 (0.04%)\n",
      "Componente 762: 0.0004 (0.04%)\n",
      "Componente 763: 0.0004 (0.04%)\n",
      "Componente 764: 0.0004 (0.04%)\n",
      "Componente 765: 0.0004 (0.04%)\n",
      "Componente 766: 0.0004 (0.04%)\n",
      "Componente 767: 0.0004 (0.04%)\n",
      "Componente 768: 0.0004 (0.04%)\n",
      "Componente 769: 0.0004 (0.04%)\n",
      "Componente 770: 0.0004 (0.04%)\n",
      "Componente 771: 0.0004 (0.04%)\n",
      "Componente 772: 0.0004 (0.04%)\n",
      "Componente 773: 0.0004 (0.04%)\n",
      "Componente 774: 0.0004 (0.04%)\n",
      "Componente 775: 0.0004 (0.04%)\n",
      "Componente 776: 0.0004 (0.04%)\n",
      "Componente 777: 0.0004 (0.04%)\n",
      "Componente 778: 0.0004 (0.04%)\n",
      "Componente 779: 0.0004 (0.04%)\n",
      "Componente 780: 0.0004 (0.04%)\n",
      "Componente 781: 0.0004 (0.04%)\n",
      "Componente 782: 0.0004 (0.04%)\n",
      "Componente 783: 0.0004 (0.04%)\n",
      "Componente 784: 0.0004 (0.04%)\n",
      "Componente 785: 0.0003 (0.03%)\n",
      "Componente 786: 0.0003 (0.03%)\n",
      "Componente 787: 0.0003 (0.03%)\n",
      "Componente 788: 0.0003 (0.03%)\n",
      "Componente 789: 0.0003 (0.03%)\n",
      "Componente 790: 0.0003 (0.03%)\n",
      "Componente 791: 0.0003 (0.03%)\n",
      "Componente 792: 0.0003 (0.03%)\n",
      "Componente 793: 0.0003 (0.03%)\n",
      "Componente 794: 0.0003 (0.03%)\n",
      "Componente 795: 0.0003 (0.03%)\n",
      "Componente 796: 0.0003 (0.03%)\n",
      "Componente 797: 0.0003 (0.03%)\n",
      "Componente 798: 0.0003 (0.03%)\n",
      "Componente 799: 0.0003 (0.03%)\n",
      "Componente 800: 0.0003 (0.03%)\n",
      "Componente 801: 0.0003 (0.03%)\n",
      "Componente 802: 0.0003 (0.03%)\n",
      "Componente 803: 0.0003 (0.03%)\n",
      "Componente 804: 0.0003 (0.03%)\n",
      "Componente 805: 0.0003 (0.03%)\n",
      "Componente 806: 0.0003 (0.03%)\n",
      "Componente 807: 0.0003 (0.03%)\n",
      "Componente 808: 0.0003 (0.03%)\n",
      "Componente 809: 0.0003 (0.03%)\n",
      "Componente 810: 0.0003 (0.03%)\n",
      "Componente 811: 0.0003 (0.03%)\n",
      "Componente 812: 0.0003 (0.03%)\n",
      "Componente 813: 0.0003 (0.03%)\n",
      "Componente 814: 0.0003 (0.03%)\n",
      "Componente 815: 0.0003 (0.03%)\n",
      "Componente 816: 0.0003 (0.03%)\n",
      "Componente 817: 0.0003 (0.03%)\n",
      "Componente 818: 0.0003 (0.03%)\n",
      "Componente 819: 0.0003 (0.03%)\n",
      "Componente 820: 0.0003 (0.03%)\n",
      "Componente 821: 0.0003 (0.03%)\n",
      "Componente 822: 0.0003 (0.03%)\n",
      "Componente 823: 0.0003 (0.03%)\n",
      "Componente 824: 0.0003 (0.03%)\n",
      "Componente 825: 0.0003 (0.03%)\n",
      "Componente 826: 0.0003 (0.03%)\n",
      "Componente 827: 0.0003 (0.03%)\n",
      "Componente 828: 0.0003 (0.03%)\n",
      "Componente 829: 0.0003 (0.03%)\n",
      "Componente 830: 0.0003 (0.03%)\n",
      "Componente 831: 0.0003 (0.03%)\n",
      "Componente 832: 0.0003 (0.03%)\n",
      "Componente 833: 0.0003 (0.03%)\n",
      "Componente 834: 0.0003 (0.03%)\n",
      "Componente 835: 0.0003 (0.03%)\n",
      "Componente 836: 0.0003 (0.03%)\n",
      "Componente 837: 0.0003 (0.03%)\n",
      "Componente 838: 0.0003 (0.03%)\n",
      "Componente 839: 0.0003 (0.03%)\n",
      "Componente 840: 0.0003 (0.03%)\n",
      "Componente 841: 0.0003 (0.03%)\n",
      "Componente 842: 0.0003 (0.03%)\n",
      "Componente 843: 0.0003 (0.03%)\n",
      "Componente 844: 0.0003 (0.03%)\n",
      "Componente 845: 0.0003 (0.03%)\n",
      "Componente 846: 0.0003 (0.03%)\n",
      "Componente 847: 0.0003 (0.03%)\n",
      "Componente 848: 0.0003 (0.03%)\n",
      "Componente 849: 0.0003 (0.03%)\n",
      "Componente 850: 0.0003 (0.03%)\n",
      "Componente 851: 0.0003 (0.03%)\n",
      "Componente 852: 0.0003 (0.03%)\n",
      "Componente 853: 0.0003 (0.03%)\n",
      "Componente 854: 0.0003 (0.03%)\n",
      "Componente 855: 0.0003 (0.03%)\n",
      "Componente 856: 0.0003 (0.03%)\n",
      "Componente 857: 0.0003 (0.03%)\n",
      "Componente 858: 0.0003 (0.03%)\n",
      "Componente 859: 0.0003 (0.03%)\n",
      "Componente 860: 0.0003 (0.03%)\n",
      "Componente 861: 0.0003 (0.03%)\n",
      "Componente 862: 0.0003 (0.03%)\n",
      "Componente 863: 0.0003 (0.03%)\n",
      "Componente 864: 0.0003 (0.03%)\n",
      "Componente 865: 0.0003 (0.03%)\n",
      "Componente 866: 0.0003 (0.03%)\n",
      "Componente 867: 0.0003 (0.03%)\n",
      "Componente 868: 0.0003 (0.03%)\n",
      "Componente 869: 0.0003 (0.03%)\n",
      "Componente 870: 0.0003 (0.03%)\n",
      "Componente 871: 0.0003 (0.03%)\n",
      "Componente 872: 0.0003 (0.03%)\n",
      "Componente 873: 0.0003 (0.03%)\n",
      "Componente 874: 0.0003 (0.03%)\n",
      "Componente 875: 0.0003 (0.03%)\n",
      "Componente 876: 0.0003 (0.03%)\n",
      "Componente 877: 0.0003 (0.03%)\n",
      "Componente 878: 0.0003 (0.03%)\n",
      "Componente 879: 0.0003 (0.03%)\n",
      "Componente 880: 0.0003 (0.03%)\n",
      "Componente 881: 0.0003 (0.03%)\n",
      "Componente 882: 0.0003 (0.03%)\n",
      "Componente 883: 0.0003 (0.03%)\n",
      "Componente 884: 0.0003 (0.03%)\n",
      "Componente 885: 0.0003 (0.03%)\n",
      "Componente 886: 0.0003 (0.03%)\n",
      "Componente 887: 0.0003 (0.03%)\n",
      "Componente 888: 0.0003 (0.03%)\n",
      "Componente 889: 0.0003 (0.03%)\n",
      "Componente 890: 0.0003 (0.03%)\n",
      "Componente 891: 0.0003 (0.03%)\n",
      "Componente 892: 0.0003 (0.03%)\n",
      "Componente 893: 0.0003 (0.03%)\n",
      "Componente 894: 0.0003 (0.03%)\n",
      "Componente 895: 0.0003 (0.03%)\n",
      "Componente 896: 0.0003 (0.03%)\n",
      "Componente 897: 0.0003 (0.03%)\n",
      "Componente 898: 0.0003 (0.03%)\n"
     ]
    }
   ],
   "source": [
    "n_comp = np.argmax(cumulative_variance_ratio >= 0.7) + 1\n",
    "print(f\"Número de componentes seleccionados: {n_comp}\")\n",
    "print(f\"Varianza explicada con {n_comp} componentes: \"\n",
    "      f\"{cumulative_variance_ratio[n_comp-1]:.4f}\")\n",
    "\n",
    "# Display variance explained by each component\n",
    "print(\"\\nVarianza explicada por cada componente:\")\n",
    "for i, var in enumerate(svd.explained_variance_ratio_[:n_comp]):\n",
    "    print(f\"Componente {i+1}: {var:.4f} ({var*100:.2f}%)\")"
   ]
  },
  {
   "cell_type": "markdown",
   "metadata": {},
   "source": [
    "Y despues el de Kaggle."
   ]
  },
  {
   "cell_type": "code",
   "execution_count": 22,
   "metadata": {
    "scrolled": true
   },
   "outputs": [
    {
     "name": "stdout",
     "output_type": "stream",
     "text": [
      "Número de componentes seleccionados: 1063\n",
      "Varianza explicada con 1063 componentes: 0.7000\n",
      "\n",
      "Varianza explicada por cada componente:\n",
      "Componente 1: 0.0022 (0.22%)\n",
      "Componente 2: 0.0061 (0.61%)\n",
      "Componente 3: 0.0059 (0.59%)\n",
      "Componente 4: 0.0048 (0.48%)\n",
      "Componente 5: 0.0044 (0.44%)\n",
      "Componente 6: 0.0043 (0.43%)\n",
      "Componente 7: 0.0041 (0.41%)\n",
      "Componente 8: 0.0038 (0.38%)\n",
      "Componente 9: 0.0036 (0.36%)\n",
      "Componente 10: 0.0035 (0.35%)\n",
      "Componente 11: 0.0034 (0.34%)\n",
      "Componente 12: 0.0033 (0.33%)\n",
      "Componente 13: 0.0032 (0.32%)\n",
      "Componente 14: 0.0031 (0.31%)\n",
      "Componente 15: 0.0030 (0.30%)\n",
      "Componente 16: 0.0029 (0.29%)\n",
      "Componente 17: 0.0028 (0.28%)\n",
      "Componente 18: 0.0028 (0.28%)\n",
      "Componente 19: 0.0028 (0.28%)\n",
      "Componente 20: 0.0027 (0.27%)\n",
      "Componente 21: 0.0027 (0.27%)\n",
      "Componente 22: 0.0026 (0.26%)\n",
      "Componente 23: 0.0026 (0.26%)\n",
      "Componente 24: 0.0026 (0.26%)\n",
      "Componente 25: 0.0025 (0.25%)\n",
      "Componente 26: 0.0025 (0.25%)\n",
      "Componente 27: 0.0024 (0.24%)\n",
      "Componente 28: 0.0024 (0.24%)\n",
      "Componente 29: 0.0024 (0.24%)\n",
      "Componente 30: 0.0024 (0.24%)\n",
      "Componente 31: 0.0023 (0.23%)\n",
      "Componente 32: 0.0023 (0.23%)\n",
      "Componente 33: 0.0023 (0.23%)\n",
      "Componente 34: 0.0022 (0.22%)\n",
      "Componente 35: 0.0022 (0.22%)\n",
      "Componente 36: 0.0022 (0.22%)\n",
      "Componente 37: 0.0022 (0.22%)\n",
      "Componente 38: 0.0021 (0.21%)\n",
      "Componente 39: 0.0021 (0.21%)\n",
      "Componente 40: 0.0021 (0.21%)\n",
      "Componente 41: 0.0021 (0.21%)\n",
      "Componente 42: 0.0020 (0.20%)\n",
      "Componente 43: 0.0020 (0.20%)\n",
      "Componente 44: 0.0020 (0.20%)\n",
      "Componente 45: 0.0020 (0.20%)\n",
      "Componente 46: 0.0019 (0.19%)\n",
      "Componente 47: 0.0019 (0.19%)\n",
      "Componente 48: 0.0019 (0.19%)\n",
      "Componente 49: 0.0019 (0.19%)\n",
      "Componente 50: 0.0019 (0.19%)\n",
      "Componente 51: 0.0018 (0.18%)\n",
      "Componente 52: 0.0018 (0.18%)\n",
      "Componente 53: 0.0018 (0.18%)\n",
      "Componente 54: 0.0018 (0.18%)\n",
      "Componente 55: 0.0018 (0.18%)\n",
      "Componente 56: 0.0018 (0.18%)\n",
      "Componente 57: 0.0017 (0.17%)\n",
      "Componente 58: 0.0017 (0.17%)\n",
      "Componente 59: 0.0017 (0.17%)\n",
      "Componente 60: 0.0017 (0.17%)\n",
      "Componente 61: 0.0017 (0.17%)\n",
      "Componente 62: 0.0017 (0.17%)\n",
      "Componente 63: 0.0017 (0.17%)\n",
      "Componente 64: 0.0017 (0.17%)\n",
      "Componente 65: 0.0017 (0.17%)\n",
      "Componente 66: 0.0016 (0.16%)\n",
      "Componente 67: 0.0016 (0.16%)\n",
      "Componente 68: 0.0016 (0.16%)\n",
      "Componente 69: 0.0016 (0.16%)\n",
      "Componente 70: 0.0016 (0.16%)\n",
      "Componente 71: 0.0016 (0.16%)\n",
      "Componente 72: 0.0016 (0.16%)\n",
      "Componente 73: 0.0015 (0.15%)\n",
      "Componente 74: 0.0015 (0.15%)\n",
      "Componente 75: 0.0015 (0.15%)\n",
      "Componente 76: 0.0015 (0.15%)\n",
      "Componente 77: 0.0015 (0.15%)\n",
      "Componente 78: 0.0015 (0.15%)\n",
      "Componente 79: 0.0015 (0.15%)\n",
      "Componente 80: 0.0015 (0.15%)\n",
      "Componente 81: 0.0015 (0.15%)\n",
      "Componente 82: 0.0015 (0.15%)\n",
      "Componente 83: 0.0014 (0.14%)\n",
      "Componente 84: 0.0014 (0.14%)\n",
      "Componente 85: 0.0014 (0.14%)\n",
      "Componente 86: 0.0014 (0.14%)\n",
      "Componente 87: 0.0014 (0.14%)\n",
      "Componente 88: 0.0014 (0.14%)\n",
      "Componente 89: 0.0014 (0.14%)\n",
      "Componente 90: 0.0014 (0.14%)\n",
      "Componente 91: 0.0014 (0.14%)\n",
      "Componente 92: 0.0014 (0.14%)\n",
      "Componente 93: 0.0013 (0.13%)\n",
      "Componente 94: 0.0013 (0.13%)\n",
      "Componente 95: 0.0013 (0.13%)\n",
      "Componente 96: 0.0013 (0.13%)\n",
      "Componente 97: 0.0013 (0.13%)\n",
      "Componente 98: 0.0013 (0.13%)\n",
      "Componente 99: 0.0013 (0.13%)\n",
      "Componente 100: 0.0013 (0.13%)\n",
      "Componente 101: 0.0013 (0.13%)\n",
      "Componente 102: 0.0013 (0.13%)\n",
      "Componente 103: 0.0013 (0.13%)\n",
      "Componente 104: 0.0013 (0.13%)\n",
      "Componente 105: 0.0013 (0.13%)\n",
      "Componente 106: 0.0013 (0.13%)\n",
      "Componente 107: 0.0012 (0.12%)\n",
      "Componente 108: 0.0012 (0.12%)\n",
      "Componente 109: 0.0012 (0.12%)\n",
      "Componente 110: 0.0012 (0.12%)\n",
      "Componente 111: 0.0012 (0.12%)\n",
      "Componente 112: 0.0012 (0.12%)\n",
      "Componente 113: 0.0012 (0.12%)\n",
      "Componente 114: 0.0012 (0.12%)\n",
      "Componente 115: 0.0012 (0.12%)\n",
      "Componente 116: 0.0012 (0.12%)\n",
      "Componente 117: 0.0012 (0.12%)\n",
      "Componente 118: 0.0012 (0.12%)\n",
      "Componente 119: 0.0012 (0.12%)\n",
      "Componente 120: 0.0012 (0.12%)\n",
      "Componente 121: 0.0012 (0.12%)\n",
      "Componente 122: 0.0012 (0.12%)\n",
      "Componente 123: 0.0011 (0.11%)\n",
      "Componente 124: 0.0011 (0.11%)\n",
      "Componente 125: 0.0011 (0.11%)\n",
      "Componente 126: 0.0011 (0.11%)\n",
      "Componente 127: 0.0011 (0.11%)\n",
      "Componente 128: 0.0011 (0.11%)\n",
      "Componente 129: 0.0011 (0.11%)\n",
      "Componente 130: 0.0011 (0.11%)\n",
      "Componente 131: 0.0011 (0.11%)\n",
      "Componente 132: 0.0011 (0.11%)\n",
      "Componente 133: 0.0011 (0.11%)\n",
      "Componente 134: 0.0011 (0.11%)\n",
      "Componente 135: 0.0011 (0.11%)\n",
      "Componente 136: 0.0011 (0.11%)\n",
      "Componente 137: 0.0011 (0.11%)\n",
      "Componente 138: 0.0011 (0.11%)\n",
      "Componente 139: 0.0011 (0.11%)\n",
      "Componente 140: 0.0011 (0.11%)\n",
      "Componente 141: 0.0011 (0.11%)\n",
      "Componente 142: 0.0011 (0.11%)\n",
      "Componente 143: 0.0011 (0.11%)\n",
      "Componente 144: 0.0010 (0.10%)\n",
      "Componente 145: 0.0010 (0.10%)\n",
      "Componente 146: 0.0010 (0.10%)\n",
      "Componente 147: 0.0010 (0.10%)\n",
      "Componente 148: 0.0010 (0.10%)\n",
      "Componente 149: 0.0010 (0.10%)\n",
      "Componente 150: 0.0010 (0.10%)\n",
      "Componente 151: 0.0010 (0.10%)\n",
      "Componente 152: 0.0010 (0.10%)\n",
      "Componente 153: 0.0010 (0.10%)\n",
      "Componente 154: 0.0010 (0.10%)\n",
      "Componente 155: 0.0010 (0.10%)\n",
      "Componente 156: 0.0010 (0.10%)\n",
      "Componente 157: 0.0010 (0.10%)\n",
      "Componente 158: 0.0010 (0.10%)\n",
      "Componente 159: 0.0010 (0.10%)\n",
      "Componente 160: 0.0010 (0.10%)\n",
      "Componente 161: 0.0010 (0.10%)\n",
      "Componente 162: 0.0010 (0.10%)\n",
      "Componente 163: 0.0010 (0.10%)\n",
      "Componente 164: 0.0010 (0.10%)\n",
      "Componente 165: 0.0010 (0.10%)\n",
      "Componente 166: 0.0010 (0.10%)\n",
      "Componente 167: 0.0010 (0.10%)\n",
      "Componente 168: 0.0010 (0.10%)\n",
      "Componente 169: 0.0010 (0.10%)\n",
      "Componente 170: 0.0010 (0.10%)\n",
      "Componente 171: 0.0010 (0.10%)\n",
      "Componente 172: 0.0010 (0.10%)\n",
      "Componente 173: 0.0009 (0.09%)\n",
      "Componente 174: 0.0009 (0.09%)\n",
      "Componente 175: 0.0009 (0.09%)\n",
      "Componente 176: 0.0009 (0.09%)\n",
      "Componente 177: 0.0009 (0.09%)\n",
      "Componente 178: 0.0009 (0.09%)\n",
      "Componente 179: 0.0009 (0.09%)\n",
      "Componente 180: 0.0009 (0.09%)\n",
      "Componente 181: 0.0009 (0.09%)\n",
      "Componente 182: 0.0009 (0.09%)\n",
      "Componente 183: 0.0009 (0.09%)\n",
      "Componente 184: 0.0009 (0.09%)\n",
      "Componente 185: 0.0009 (0.09%)\n",
      "Componente 186: 0.0009 (0.09%)\n",
      "Componente 187: 0.0009 (0.09%)\n",
      "Componente 188: 0.0009 (0.09%)\n",
      "Componente 189: 0.0009 (0.09%)\n",
      "Componente 190: 0.0009 (0.09%)\n",
      "Componente 191: 0.0009 (0.09%)\n",
      "Componente 192: 0.0009 (0.09%)\n",
      "Componente 193: 0.0009 (0.09%)\n",
      "Componente 194: 0.0009 (0.09%)\n",
      "Componente 195: 0.0009 (0.09%)\n",
      "Componente 196: 0.0009 (0.09%)\n",
      "Componente 197: 0.0009 (0.09%)\n",
      "Componente 198: 0.0009 (0.09%)\n",
      "Componente 199: 0.0009 (0.09%)\n",
      "Componente 200: 0.0009 (0.09%)\n",
      "Componente 201: 0.0009 (0.09%)\n",
      "Componente 202: 0.0009 (0.09%)\n",
      "Componente 203: 0.0009 (0.09%)\n",
      "Componente 204: 0.0009 (0.09%)\n",
      "Componente 205: 0.0009 (0.09%)\n",
      "Componente 206: 0.0009 (0.09%)\n",
      "Componente 207: 0.0009 (0.09%)\n",
      "Componente 208: 0.0008 (0.08%)\n",
      "Componente 209: 0.0008 (0.08%)\n",
      "Componente 210: 0.0008 (0.08%)\n",
      "Componente 211: 0.0008 (0.08%)\n",
      "Componente 212: 0.0008 (0.08%)\n",
      "Componente 213: 0.0008 (0.08%)\n",
      "Componente 214: 0.0008 (0.08%)\n",
      "Componente 215: 0.0008 (0.08%)\n",
      "Componente 216: 0.0008 (0.08%)\n",
      "Componente 217: 0.0008 (0.08%)\n",
      "Componente 218: 0.0008 (0.08%)\n",
      "Componente 219: 0.0008 (0.08%)\n",
      "Componente 220: 0.0008 (0.08%)\n",
      "Componente 221: 0.0008 (0.08%)\n",
      "Componente 222: 0.0008 (0.08%)\n",
      "Componente 223: 0.0008 (0.08%)\n",
      "Componente 224: 0.0008 (0.08%)\n",
      "Componente 225: 0.0008 (0.08%)\n",
      "Componente 226: 0.0008 (0.08%)\n",
      "Componente 227: 0.0008 (0.08%)\n",
      "Componente 228: 0.0008 (0.08%)\n",
      "Componente 229: 0.0008 (0.08%)\n",
      "Componente 230: 0.0008 (0.08%)\n",
      "Componente 231: 0.0008 (0.08%)\n",
      "Componente 232: 0.0008 (0.08%)\n",
      "Componente 233: 0.0008 (0.08%)\n",
      "Componente 234: 0.0008 (0.08%)\n",
      "Componente 235: 0.0008 (0.08%)\n",
      "Componente 236: 0.0008 (0.08%)\n",
      "Componente 237: 0.0008 (0.08%)\n",
      "Componente 238: 0.0008 (0.08%)\n",
      "Componente 239: 0.0008 (0.08%)\n",
      "Componente 240: 0.0008 (0.08%)\n",
      "Componente 241: 0.0008 (0.08%)\n",
      "Componente 242: 0.0008 (0.08%)\n",
      "Componente 243: 0.0008 (0.08%)\n",
      "Componente 244: 0.0008 (0.08%)\n",
      "Componente 245: 0.0008 (0.08%)\n",
      "Componente 246: 0.0008 (0.08%)\n",
      "Componente 247: 0.0008 (0.08%)\n",
      "Componente 248: 0.0008 (0.08%)\n",
      "Componente 249: 0.0008 (0.08%)\n",
      "Componente 250: 0.0007 (0.07%)\n",
      "Componente 251: 0.0007 (0.07%)\n",
      "Componente 252: 0.0007 (0.07%)\n",
      "Componente 253: 0.0007 (0.07%)\n",
      "Componente 254: 0.0007 (0.07%)\n",
      "Componente 255: 0.0007 (0.07%)\n",
      "Componente 256: 0.0007 (0.07%)\n",
      "Componente 257: 0.0007 (0.07%)\n",
      "Componente 258: 0.0007 (0.07%)\n",
      "Componente 259: 0.0007 (0.07%)\n",
      "Componente 260: 0.0007 (0.07%)\n",
      "Componente 261: 0.0007 (0.07%)\n",
      "Componente 262: 0.0007 (0.07%)\n",
      "Componente 263: 0.0007 (0.07%)\n",
      "Componente 264: 0.0007 (0.07%)\n",
      "Componente 265: 0.0007 (0.07%)\n",
      "Componente 266: 0.0007 (0.07%)\n",
      "Componente 267: 0.0007 (0.07%)\n",
      "Componente 268: 0.0007 (0.07%)\n",
      "Componente 269: 0.0007 (0.07%)\n",
      "Componente 270: 0.0007 (0.07%)\n",
      "Componente 271: 0.0007 (0.07%)\n",
      "Componente 272: 0.0007 (0.07%)\n",
      "Componente 273: 0.0007 (0.07%)\n",
      "Componente 274: 0.0007 (0.07%)\n",
      "Componente 275: 0.0007 (0.07%)\n",
      "Componente 276: 0.0007 (0.07%)\n",
      "Componente 277: 0.0007 (0.07%)\n",
      "Componente 278: 0.0007 (0.07%)\n",
      "Componente 279: 0.0007 (0.07%)\n",
      "Componente 280: 0.0007 (0.07%)\n",
      "Componente 281: 0.0007 (0.07%)\n",
      "Componente 282: 0.0007 (0.07%)\n",
      "Componente 283: 0.0007 (0.07%)\n",
      "Componente 284: 0.0007 (0.07%)\n",
      "Componente 285: 0.0007 (0.07%)\n",
      "Componente 286: 0.0007 (0.07%)\n",
      "Componente 287: 0.0007 (0.07%)\n",
      "Componente 288: 0.0007 (0.07%)\n",
      "Componente 289: 0.0007 (0.07%)\n",
      "Componente 290: 0.0007 (0.07%)\n",
      "Componente 291: 0.0007 (0.07%)\n",
      "Componente 292: 0.0007 (0.07%)\n",
      "Componente 293: 0.0007 (0.07%)\n",
      "Componente 294: 0.0007 (0.07%)\n",
      "Componente 295: 0.0007 (0.07%)\n",
      "Componente 296: 0.0007 (0.07%)\n",
      "Componente 297: 0.0007 (0.07%)\n",
      "Componente 298: 0.0007 (0.07%)\n",
      "Componente 299: 0.0007 (0.07%)\n",
      "Componente 300: 0.0007 (0.07%)\n",
      "Componente 301: 0.0007 (0.07%)\n",
      "Componente 302: 0.0007 (0.07%)\n",
      "Componente 303: 0.0007 (0.07%)\n",
      "Componente 304: 0.0007 (0.07%)\n",
      "Componente 305: 0.0007 (0.07%)\n",
      "Componente 306: 0.0007 (0.07%)\n",
      "Componente 307: 0.0006 (0.06%)\n",
      "Componente 308: 0.0006 (0.06%)\n",
      "Componente 309: 0.0006 (0.06%)\n",
      "Componente 310: 0.0006 (0.06%)\n",
      "Componente 311: 0.0006 (0.06%)\n",
      "Componente 312: 0.0006 (0.06%)\n",
      "Componente 313: 0.0006 (0.06%)\n",
      "Componente 314: 0.0006 (0.06%)\n",
      "Componente 315: 0.0006 (0.06%)\n",
      "Componente 316: 0.0006 (0.06%)\n",
      "Componente 317: 0.0006 (0.06%)\n",
      "Componente 318: 0.0006 (0.06%)\n",
      "Componente 319: 0.0006 (0.06%)\n",
      "Componente 320: 0.0006 (0.06%)\n",
      "Componente 321: 0.0006 (0.06%)\n",
      "Componente 322: 0.0006 (0.06%)\n",
      "Componente 323: 0.0006 (0.06%)\n",
      "Componente 324: 0.0006 (0.06%)\n",
      "Componente 325: 0.0006 (0.06%)\n",
      "Componente 326: 0.0006 (0.06%)\n",
      "Componente 327: 0.0006 (0.06%)\n",
      "Componente 328: 0.0006 (0.06%)\n",
      "Componente 329: 0.0006 (0.06%)\n",
      "Componente 330: 0.0006 (0.06%)\n",
      "Componente 331: 0.0006 (0.06%)\n",
      "Componente 332: 0.0006 (0.06%)\n",
      "Componente 333: 0.0006 (0.06%)\n",
      "Componente 334: 0.0006 (0.06%)\n",
      "Componente 335: 0.0006 (0.06%)\n",
      "Componente 336: 0.0006 (0.06%)\n",
      "Componente 337: 0.0006 (0.06%)\n",
      "Componente 338: 0.0006 (0.06%)\n",
      "Componente 339: 0.0006 (0.06%)\n",
      "Componente 340: 0.0006 (0.06%)\n",
      "Componente 341: 0.0006 (0.06%)\n",
      "Componente 342: 0.0006 (0.06%)\n",
      "Componente 343: 0.0006 (0.06%)\n",
      "Componente 344: 0.0006 (0.06%)\n",
      "Componente 345: 0.0006 (0.06%)\n",
      "Componente 346: 0.0006 (0.06%)\n",
      "Componente 347: 0.0006 (0.06%)\n",
      "Componente 348: 0.0006 (0.06%)\n",
      "Componente 349: 0.0006 (0.06%)\n",
      "Componente 350: 0.0006 (0.06%)\n",
      "Componente 351: 0.0006 (0.06%)\n",
      "Componente 352: 0.0006 (0.06%)\n",
      "Componente 353: 0.0006 (0.06%)\n",
      "Componente 354: 0.0006 (0.06%)\n",
      "Componente 355: 0.0006 (0.06%)\n",
      "Componente 356: 0.0006 (0.06%)\n",
      "Componente 357: 0.0006 (0.06%)\n",
      "Componente 358: 0.0006 (0.06%)\n",
      "Componente 359: 0.0006 (0.06%)\n",
      "Componente 360: 0.0006 (0.06%)\n",
      "Componente 361: 0.0006 (0.06%)\n",
      "Componente 362: 0.0006 (0.06%)\n",
      "Componente 363: 0.0006 (0.06%)\n",
      "Componente 364: 0.0006 (0.06%)\n",
      "Componente 365: 0.0006 (0.06%)\n",
      "Componente 366: 0.0006 (0.06%)\n",
      "Componente 367: 0.0006 (0.06%)\n",
      "Componente 368: 0.0006 (0.06%)\n",
      "Componente 369: 0.0006 (0.06%)\n",
      "Componente 370: 0.0006 (0.06%)\n",
      "Componente 371: 0.0006 (0.06%)\n",
      "Componente 372: 0.0006 (0.06%)\n",
      "Componente 373: 0.0006 (0.06%)\n",
      "Componente 374: 0.0006 (0.06%)\n",
      "Componente 375: 0.0006 (0.06%)\n",
      "Componente 376: 0.0006 (0.06%)\n",
      "Componente 377: 0.0006 (0.06%)\n",
      "Componente 378: 0.0006 (0.06%)\n",
      "Componente 379: 0.0006 (0.06%)\n",
      "Componente 380: 0.0006 (0.06%)\n",
      "Componente 381: 0.0006 (0.06%)\n",
      "Componente 382: 0.0006 (0.06%)\n",
      "Componente 383: 0.0006 (0.06%)\n",
      "Componente 384: 0.0006 (0.06%)\n",
      "Componente 385: 0.0006 (0.06%)\n",
      "Componente 386: 0.0006 (0.06%)\n",
      "Componente 387: 0.0006 (0.06%)\n",
      "Componente 388: 0.0006 (0.06%)\n",
      "Componente 389: 0.0006 (0.06%)\n",
      "Componente 390: 0.0006 (0.06%)\n",
      "Componente 391: 0.0006 (0.06%)\n",
      "Componente 392: 0.0006 (0.06%)\n",
      "Componente 393: 0.0006 (0.06%)\n",
      "Componente 394: 0.0006 (0.06%)\n",
      "Componente 395: 0.0006 (0.06%)\n",
      "Componente 396: 0.0005 (0.05%)\n",
      "Componente 397: 0.0005 (0.05%)\n",
      "Componente 398: 0.0005 (0.05%)\n",
      "Componente 399: 0.0005 (0.05%)\n",
      "Componente 400: 0.0005 (0.05%)\n",
      "Componente 401: 0.0005 (0.05%)\n",
      "Componente 402: 0.0005 (0.05%)\n",
      "Componente 403: 0.0005 (0.05%)\n",
      "Componente 404: 0.0005 (0.05%)\n",
      "Componente 405: 0.0005 (0.05%)\n",
      "Componente 406: 0.0005 (0.05%)\n",
      "Componente 407: 0.0005 (0.05%)\n",
      "Componente 408: 0.0005 (0.05%)\n",
      "Componente 409: 0.0005 (0.05%)\n",
      "Componente 410: 0.0005 (0.05%)\n",
      "Componente 411: 0.0005 (0.05%)\n",
      "Componente 412: 0.0005 (0.05%)\n",
      "Componente 413: 0.0005 (0.05%)\n",
      "Componente 414: 0.0005 (0.05%)\n",
      "Componente 415: 0.0005 (0.05%)\n",
      "Componente 416: 0.0005 (0.05%)\n",
      "Componente 417: 0.0005 (0.05%)\n",
      "Componente 418: 0.0005 (0.05%)\n",
      "Componente 419: 0.0005 (0.05%)\n",
      "Componente 420: 0.0005 (0.05%)\n",
      "Componente 421: 0.0005 (0.05%)\n",
      "Componente 422: 0.0005 (0.05%)\n",
      "Componente 423: 0.0005 (0.05%)\n",
      "Componente 424: 0.0005 (0.05%)\n",
      "Componente 425: 0.0005 (0.05%)\n",
      "Componente 426: 0.0005 (0.05%)\n",
      "Componente 427: 0.0005 (0.05%)\n",
      "Componente 428: 0.0005 (0.05%)\n",
      "Componente 429: 0.0005 (0.05%)\n",
      "Componente 430: 0.0005 (0.05%)\n",
      "Componente 431: 0.0005 (0.05%)\n",
      "Componente 432: 0.0005 (0.05%)\n",
      "Componente 433: 0.0005 (0.05%)\n",
      "Componente 434: 0.0005 (0.05%)\n",
      "Componente 435: 0.0005 (0.05%)\n",
      "Componente 436: 0.0005 (0.05%)\n",
      "Componente 437: 0.0005 (0.05%)\n",
      "Componente 438: 0.0005 (0.05%)\n",
      "Componente 439: 0.0005 (0.05%)\n",
      "Componente 440: 0.0005 (0.05%)\n",
      "Componente 441: 0.0005 (0.05%)\n",
      "Componente 442: 0.0005 (0.05%)\n",
      "Componente 443: 0.0005 (0.05%)\n",
      "Componente 444: 0.0005 (0.05%)\n",
      "Componente 445: 0.0005 (0.05%)\n",
      "Componente 446: 0.0005 (0.05%)\n",
      "Componente 447: 0.0005 (0.05%)\n",
      "Componente 448: 0.0005 (0.05%)\n",
      "Componente 449: 0.0005 (0.05%)\n",
      "Componente 450: 0.0005 (0.05%)\n",
      "Componente 451: 0.0005 (0.05%)\n",
      "Componente 452: 0.0005 (0.05%)\n",
      "Componente 453: 0.0005 (0.05%)\n",
      "Componente 454: 0.0005 (0.05%)\n",
      "Componente 455: 0.0005 (0.05%)\n",
      "Componente 456: 0.0005 (0.05%)\n",
      "Componente 457: 0.0005 (0.05%)\n",
      "Componente 458: 0.0005 (0.05%)\n",
      "Componente 459: 0.0005 (0.05%)\n",
      "Componente 460: 0.0005 (0.05%)\n",
      "Componente 461: 0.0005 (0.05%)\n",
      "Componente 462: 0.0005 (0.05%)\n",
      "Componente 463: 0.0005 (0.05%)\n",
      "Componente 464: 0.0005 (0.05%)\n",
      "Componente 465: 0.0005 (0.05%)\n",
      "Componente 466: 0.0005 (0.05%)\n",
      "Componente 467: 0.0005 (0.05%)\n",
      "Componente 468: 0.0005 (0.05%)\n",
      "Componente 469: 0.0005 (0.05%)\n",
      "Componente 470: 0.0005 (0.05%)\n",
      "Componente 471: 0.0005 (0.05%)\n",
      "Componente 472: 0.0005 (0.05%)\n",
      "Componente 473: 0.0005 (0.05%)\n",
      "Componente 474: 0.0005 (0.05%)\n",
      "Componente 475: 0.0005 (0.05%)\n",
      "Componente 476: 0.0005 (0.05%)\n",
      "Componente 477: 0.0005 (0.05%)\n",
      "Componente 478: 0.0005 (0.05%)\n",
      "Componente 479: 0.0005 (0.05%)\n",
      "Componente 480: 0.0005 (0.05%)\n",
      "Componente 481: 0.0005 (0.05%)\n",
      "Componente 482: 0.0005 (0.05%)\n",
      "Componente 483: 0.0005 (0.05%)\n",
      "Componente 484: 0.0005 (0.05%)\n",
      "Componente 485: 0.0005 (0.05%)\n",
      "Componente 486: 0.0005 (0.05%)\n",
      "Componente 487: 0.0005 (0.05%)\n",
      "Componente 488: 0.0005 (0.05%)\n",
      "Componente 489: 0.0005 (0.05%)\n",
      "Componente 490: 0.0005 (0.05%)\n",
      "Componente 491: 0.0005 (0.05%)\n",
      "Componente 492: 0.0005 (0.05%)\n",
      "Componente 493: 0.0005 (0.05%)\n",
      "Componente 494: 0.0005 (0.05%)\n",
      "Componente 495: 0.0005 (0.05%)\n",
      "Componente 496: 0.0005 (0.05%)\n",
      "Componente 497: 0.0005 (0.05%)\n",
      "Componente 498: 0.0005 (0.05%)\n",
      "Componente 499: 0.0005 (0.05%)\n",
      "Componente 500: 0.0005 (0.05%)\n",
      "Componente 501: 0.0005 (0.05%)\n",
      "Componente 502: 0.0005 (0.05%)\n",
      "Componente 503: 0.0005 (0.05%)\n",
      "Componente 504: 0.0005 (0.05%)\n",
      "Componente 505: 0.0005 (0.05%)\n",
      "Componente 506: 0.0005 (0.05%)\n",
      "Componente 507: 0.0005 (0.05%)\n",
      "Componente 508: 0.0005 (0.05%)\n",
      "Componente 509: 0.0005 (0.05%)\n",
      "Componente 510: 0.0005 (0.05%)\n",
      "Componente 511: 0.0005 (0.05%)\n",
      "Componente 512: 0.0005 (0.05%)\n",
      "Componente 513: 0.0005 (0.05%)\n",
      "Componente 514: 0.0005 (0.05%)\n",
      "Componente 515: 0.0005 (0.05%)\n",
      "Componente 516: 0.0005 (0.05%)\n",
      "Componente 517: 0.0005 (0.05%)\n",
      "Componente 518: 0.0005 (0.05%)\n",
      "Componente 519: 0.0005 (0.05%)\n",
      "Componente 520: 0.0005 (0.05%)\n",
      "Componente 521: 0.0005 (0.05%)\n",
      "Componente 522: 0.0005 (0.05%)\n",
      "Componente 523: 0.0005 (0.05%)\n",
      "Componente 524: 0.0005 (0.05%)\n",
      "Componente 525: 0.0005 (0.05%)\n",
      "Componente 526: 0.0005 (0.05%)\n",
      "Componente 527: 0.0005 (0.05%)\n",
      "Componente 528: 0.0005 (0.05%)\n",
      "Componente 529: 0.0004 (0.04%)\n",
      "Componente 530: 0.0004 (0.04%)\n",
      "Componente 531: 0.0004 (0.04%)\n",
      "Componente 532: 0.0004 (0.04%)\n",
      "Componente 533: 0.0004 (0.04%)\n",
      "Componente 534: 0.0004 (0.04%)\n",
      "Componente 535: 0.0004 (0.04%)\n",
      "Componente 536: 0.0004 (0.04%)\n",
      "Componente 537: 0.0004 (0.04%)\n",
      "Componente 538: 0.0004 (0.04%)\n",
      "Componente 539: 0.0004 (0.04%)\n",
      "Componente 540: 0.0004 (0.04%)\n",
      "Componente 541: 0.0004 (0.04%)\n",
      "Componente 542: 0.0004 (0.04%)\n",
      "Componente 543: 0.0004 (0.04%)\n",
      "Componente 544: 0.0004 (0.04%)\n",
      "Componente 545: 0.0004 (0.04%)\n",
      "Componente 546: 0.0004 (0.04%)\n",
      "Componente 547: 0.0004 (0.04%)\n",
      "Componente 548: 0.0004 (0.04%)\n",
      "Componente 549: 0.0004 (0.04%)\n",
      "Componente 550: 0.0004 (0.04%)\n",
      "Componente 551: 0.0004 (0.04%)\n",
      "Componente 552: 0.0004 (0.04%)\n",
      "Componente 553: 0.0004 (0.04%)\n",
      "Componente 554: 0.0004 (0.04%)\n",
      "Componente 555: 0.0004 (0.04%)\n",
      "Componente 556: 0.0004 (0.04%)\n",
      "Componente 557: 0.0004 (0.04%)\n",
      "Componente 558: 0.0004 (0.04%)\n",
      "Componente 559: 0.0004 (0.04%)\n",
      "Componente 560: 0.0004 (0.04%)\n",
      "Componente 561: 0.0004 (0.04%)\n",
      "Componente 562: 0.0004 (0.04%)\n",
      "Componente 563: 0.0004 (0.04%)\n",
      "Componente 564: 0.0004 (0.04%)\n",
      "Componente 565: 0.0004 (0.04%)\n",
      "Componente 566: 0.0004 (0.04%)\n",
      "Componente 567: 0.0004 (0.04%)\n",
      "Componente 568: 0.0004 (0.04%)\n",
      "Componente 569: 0.0004 (0.04%)\n",
      "Componente 570: 0.0004 (0.04%)\n",
      "Componente 571: 0.0004 (0.04%)\n",
      "Componente 572: 0.0004 (0.04%)\n",
      "Componente 573: 0.0004 (0.04%)\n",
      "Componente 574: 0.0004 (0.04%)\n",
      "Componente 575: 0.0004 (0.04%)\n",
      "Componente 576: 0.0004 (0.04%)\n",
      "Componente 577: 0.0004 (0.04%)\n",
      "Componente 578: 0.0004 (0.04%)\n",
      "Componente 579: 0.0004 (0.04%)\n",
      "Componente 580: 0.0004 (0.04%)\n",
      "Componente 581: 0.0004 (0.04%)\n",
      "Componente 582: 0.0004 (0.04%)\n",
      "Componente 583: 0.0004 (0.04%)\n",
      "Componente 584: 0.0004 (0.04%)\n",
      "Componente 585: 0.0004 (0.04%)\n",
      "Componente 586: 0.0004 (0.04%)\n",
      "Componente 587: 0.0004 (0.04%)\n",
      "Componente 588: 0.0004 (0.04%)\n",
      "Componente 589: 0.0004 (0.04%)\n",
      "Componente 590: 0.0004 (0.04%)\n",
      "Componente 591: 0.0004 (0.04%)\n",
      "Componente 592: 0.0004 (0.04%)\n",
      "Componente 593: 0.0004 (0.04%)\n",
      "Componente 594: 0.0004 (0.04%)\n",
      "Componente 595: 0.0004 (0.04%)\n",
      "Componente 596: 0.0004 (0.04%)\n",
      "Componente 597: 0.0004 (0.04%)\n",
      "Componente 598: 0.0004 (0.04%)\n",
      "Componente 599: 0.0004 (0.04%)\n",
      "Componente 600: 0.0004 (0.04%)\n",
      "Componente 601: 0.0004 (0.04%)\n",
      "Componente 602: 0.0004 (0.04%)\n",
      "Componente 603: 0.0004 (0.04%)\n",
      "Componente 604: 0.0004 (0.04%)\n",
      "Componente 605: 0.0004 (0.04%)\n",
      "Componente 606: 0.0004 (0.04%)\n",
      "Componente 607: 0.0004 (0.04%)\n",
      "Componente 608: 0.0004 (0.04%)\n",
      "Componente 609: 0.0004 (0.04%)\n",
      "Componente 610: 0.0004 (0.04%)\n",
      "Componente 611: 0.0004 (0.04%)\n",
      "Componente 612: 0.0004 (0.04%)\n",
      "Componente 613: 0.0004 (0.04%)\n",
      "Componente 614: 0.0004 (0.04%)\n",
      "Componente 615: 0.0004 (0.04%)\n",
      "Componente 616: 0.0004 (0.04%)\n",
      "Componente 617: 0.0004 (0.04%)\n",
      "Componente 618: 0.0004 (0.04%)\n",
      "Componente 619: 0.0004 (0.04%)\n",
      "Componente 620: 0.0004 (0.04%)\n",
      "Componente 621: 0.0004 (0.04%)\n",
      "Componente 622: 0.0004 (0.04%)\n",
      "Componente 623: 0.0004 (0.04%)\n",
      "Componente 624: 0.0004 (0.04%)\n",
      "Componente 625: 0.0004 (0.04%)\n",
      "Componente 626: 0.0004 (0.04%)\n",
      "Componente 627: 0.0004 (0.04%)\n",
      "Componente 628: 0.0004 (0.04%)\n",
      "Componente 629: 0.0004 (0.04%)\n",
      "Componente 630: 0.0004 (0.04%)\n",
      "Componente 631: 0.0004 (0.04%)\n",
      "Componente 632: 0.0004 (0.04%)\n",
      "Componente 633: 0.0004 (0.04%)\n",
      "Componente 634: 0.0004 (0.04%)\n",
      "Componente 635: 0.0004 (0.04%)\n",
      "Componente 636: 0.0004 (0.04%)\n",
      "Componente 637: 0.0004 (0.04%)\n",
      "Componente 638: 0.0004 (0.04%)\n",
      "Componente 639: 0.0004 (0.04%)\n",
      "Componente 640: 0.0004 (0.04%)\n",
      "Componente 641: 0.0004 (0.04%)\n",
      "Componente 642: 0.0004 (0.04%)\n",
      "Componente 643: 0.0004 (0.04%)\n",
      "Componente 644: 0.0004 (0.04%)\n",
      "Componente 645: 0.0004 (0.04%)\n",
      "Componente 646: 0.0004 (0.04%)\n",
      "Componente 647: 0.0004 (0.04%)\n",
      "Componente 648: 0.0004 (0.04%)\n",
      "Componente 649: 0.0004 (0.04%)\n",
      "Componente 650: 0.0004 (0.04%)\n",
      "Componente 651: 0.0004 (0.04%)\n",
      "Componente 652: 0.0004 (0.04%)\n",
      "Componente 653: 0.0004 (0.04%)\n",
      "Componente 654: 0.0004 (0.04%)\n",
      "Componente 655: 0.0004 (0.04%)\n",
      "Componente 656: 0.0004 (0.04%)\n",
      "Componente 657: 0.0004 (0.04%)\n",
      "Componente 658: 0.0004 (0.04%)\n",
      "Componente 659: 0.0004 (0.04%)\n",
      "Componente 660: 0.0004 (0.04%)\n",
      "Componente 661: 0.0004 (0.04%)\n",
      "Componente 662: 0.0004 (0.04%)\n",
      "Componente 663: 0.0004 (0.04%)\n",
      "Componente 664: 0.0004 (0.04%)\n",
      "Componente 665: 0.0004 (0.04%)\n",
      "Componente 666: 0.0004 (0.04%)\n",
      "Componente 667: 0.0004 (0.04%)\n",
      "Componente 668: 0.0004 (0.04%)\n",
      "Componente 669: 0.0004 (0.04%)\n",
      "Componente 670: 0.0004 (0.04%)\n",
      "Componente 671: 0.0004 (0.04%)\n",
      "Componente 672: 0.0004 (0.04%)\n",
      "Componente 673: 0.0004 (0.04%)\n",
      "Componente 674: 0.0004 (0.04%)\n",
      "Componente 675: 0.0004 (0.04%)\n",
      "Componente 676: 0.0004 (0.04%)\n",
      "Componente 677: 0.0004 (0.04%)\n",
      "Componente 678: 0.0004 (0.04%)\n",
      "Componente 679: 0.0004 (0.04%)\n",
      "Componente 680: 0.0004 (0.04%)\n",
      "Componente 681: 0.0004 (0.04%)\n",
      "Componente 682: 0.0004 (0.04%)\n",
      "Componente 683: 0.0004 (0.04%)\n",
      "Componente 684: 0.0004 (0.04%)\n",
      "Componente 685: 0.0004 (0.04%)\n",
      "Componente 686: 0.0004 (0.04%)\n",
      "Componente 687: 0.0004 (0.04%)\n",
      "Componente 688: 0.0004 (0.04%)\n",
      "Componente 689: 0.0004 (0.04%)\n",
      "Componente 690: 0.0004 (0.04%)\n",
      "Componente 691: 0.0004 (0.04%)\n",
      "Componente 692: 0.0004 (0.04%)\n",
      "Componente 693: 0.0004 (0.04%)\n",
      "Componente 694: 0.0004 (0.04%)\n",
      "Componente 695: 0.0004 (0.04%)\n",
      "Componente 696: 0.0004 (0.04%)\n",
      "Componente 697: 0.0004 (0.04%)\n",
      "Componente 698: 0.0004 (0.04%)\n",
      "Componente 699: 0.0004 (0.04%)\n",
      "Componente 700: 0.0004 (0.04%)\n",
      "Componente 701: 0.0004 (0.04%)\n",
      "Componente 702: 0.0004 (0.04%)\n",
      "Componente 703: 0.0004 (0.04%)\n",
      "Componente 704: 0.0004 (0.04%)\n",
      "Componente 705: 0.0004 (0.04%)\n",
      "Componente 706: 0.0004 (0.04%)\n",
      "Componente 707: 0.0004 (0.04%)\n",
      "Componente 708: 0.0004 (0.04%)\n",
      "Componente 709: 0.0004 (0.04%)\n",
      "Componente 710: 0.0004 (0.04%)\n",
      "Componente 711: 0.0004 (0.04%)\n",
      "Componente 712: 0.0004 (0.04%)\n",
      "Componente 713: 0.0004 (0.04%)\n",
      "Componente 714: 0.0004 (0.04%)\n",
      "Componente 715: 0.0004 (0.04%)\n",
      "Componente 716: 0.0004 (0.04%)\n",
      "Componente 717: 0.0004 (0.04%)\n",
      "Componente 718: 0.0004 (0.04%)\n",
      "Componente 719: 0.0004 (0.04%)\n",
      "Componente 720: 0.0004 (0.04%)\n",
      "Componente 721: 0.0004 (0.04%)\n",
      "Componente 722: 0.0004 (0.04%)\n",
      "Componente 723: 0.0004 (0.04%)\n",
      "Componente 724: 0.0004 (0.04%)\n",
      "Componente 725: 0.0004 (0.04%)\n",
      "Componente 726: 0.0004 (0.04%)\n",
      "Componente 727: 0.0004 (0.04%)\n",
      "Componente 728: 0.0004 (0.04%)\n",
      "Componente 729: 0.0004 (0.04%)\n",
      "Componente 730: 0.0004 (0.04%)\n",
      "Componente 731: 0.0004 (0.04%)\n",
      "Componente 732: 0.0004 (0.04%)\n",
      "Componente 733: 0.0004 (0.04%)\n",
      "Componente 734: 0.0004 (0.04%)\n",
      "Componente 735: 0.0004 (0.04%)\n",
      "Componente 736: 0.0004 (0.04%)\n",
      "Componente 737: 0.0004 (0.04%)\n",
      "Componente 738: 0.0004 (0.04%)\n",
      "Componente 739: 0.0004 (0.04%)\n",
      "Componente 740: 0.0004 (0.04%)\n",
      "Componente 741: 0.0004 (0.04%)\n",
      "Componente 742: 0.0004 (0.04%)\n",
      "Componente 743: 0.0004 (0.04%)\n",
      "Componente 744: 0.0003 (0.03%)\n",
      "Componente 745: 0.0003 (0.03%)\n",
      "Componente 746: 0.0003 (0.03%)\n",
      "Componente 747: 0.0003 (0.03%)\n",
      "Componente 748: 0.0003 (0.03%)\n",
      "Componente 749: 0.0003 (0.03%)\n",
      "Componente 750: 0.0003 (0.03%)\n",
      "Componente 751: 0.0003 (0.03%)\n",
      "Componente 752: 0.0003 (0.03%)\n",
      "Componente 753: 0.0003 (0.03%)\n",
      "Componente 754: 0.0003 (0.03%)\n",
      "Componente 755: 0.0003 (0.03%)\n",
      "Componente 756: 0.0003 (0.03%)\n",
      "Componente 757: 0.0003 (0.03%)\n",
      "Componente 758: 0.0003 (0.03%)\n",
      "Componente 759: 0.0003 (0.03%)\n",
      "Componente 760: 0.0003 (0.03%)\n",
      "Componente 761: 0.0003 (0.03%)\n",
      "Componente 762: 0.0003 (0.03%)\n",
      "Componente 763: 0.0003 (0.03%)\n",
      "Componente 764: 0.0003 (0.03%)\n",
      "Componente 765: 0.0003 (0.03%)\n",
      "Componente 766: 0.0003 (0.03%)\n",
      "Componente 767: 0.0003 (0.03%)\n",
      "Componente 768: 0.0003 (0.03%)\n",
      "Componente 769: 0.0003 (0.03%)\n",
      "Componente 770: 0.0003 (0.03%)\n",
      "Componente 771: 0.0003 (0.03%)\n",
      "Componente 772: 0.0003 (0.03%)\n",
      "Componente 773: 0.0003 (0.03%)\n",
      "Componente 774: 0.0003 (0.03%)\n",
      "Componente 775: 0.0003 (0.03%)\n",
      "Componente 776: 0.0003 (0.03%)\n",
      "Componente 777: 0.0003 (0.03%)\n",
      "Componente 778: 0.0003 (0.03%)\n",
      "Componente 779: 0.0003 (0.03%)\n",
      "Componente 780: 0.0003 (0.03%)\n",
      "Componente 781: 0.0003 (0.03%)\n",
      "Componente 782: 0.0003 (0.03%)\n",
      "Componente 783: 0.0003 (0.03%)\n",
      "Componente 784: 0.0003 (0.03%)\n",
      "Componente 785: 0.0003 (0.03%)\n",
      "Componente 786: 0.0003 (0.03%)\n",
      "Componente 787: 0.0003 (0.03%)\n",
      "Componente 788: 0.0003 (0.03%)\n",
      "Componente 789: 0.0003 (0.03%)\n",
      "Componente 790: 0.0003 (0.03%)\n",
      "Componente 791: 0.0003 (0.03%)\n",
      "Componente 792: 0.0003 (0.03%)\n",
      "Componente 793: 0.0003 (0.03%)\n",
      "Componente 794: 0.0003 (0.03%)\n",
      "Componente 795: 0.0003 (0.03%)\n",
      "Componente 796: 0.0003 (0.03%)\n",
      "Componente 797: 0.0003 (0.03%)\n",
      "Componente 798: 0.0003 (0.03%)\n",
      "Componente 799: 0.0003 (0.03%)\n",
      "Componente 800: 0.0003 (0.03%)\n",
      "Componente 801: 0.0003 (0.03%)\n",
      "Componente 802: 0.0003 (0.03%)\n",
      "Componente 803: 0.0003 (0.03%)\n",
      "Componente 804: 0.0003 (0.03%)\n",
      "Componente 805: 0.0003 (0.03%)\n",
      "Componente 806: 0.0003 (0.03%)\n",
      "Componente 807: 0.0003 (0.03%)\n",
      "Componente 808: 0.0003 (0.03%)\n",
      "Componente 809: 0.0003 (0.03%)\n",
      "Componente 810: 0.0003 (0.03%)\n",
      "Componente 811: 0.0003 (0.03%)\n",
      "Componente 812: 0.0003 (0.03%)\n",
      "Componente 813: 0.0003 (0.03%)\n",
      "Componente 814: 0.0003 (0.03%)\n",
      "Componente 815: 0.0003 (0.03%)\n",
      "Componente 816: 0.0003 (0.03%)\n",
      "Componente 817: 0.0003 (0.03%)\n",
      "Componente 818: 0.0003 (0.03%)\n",
      "Componente 819: 0.0003 (0.03%)\n",
      "Componente 820: 0.0003 (0.03%)\n",
      "Componente 821: 0.0003 (0.03%)\n",
      "Componente 822: 0.0003 (0.03%)\n",
      "Componente 823: 0.0003 (0.03%)\n",
      "Componente 824: 0.0003 (0.03%)\n",
      "Componente 825: 0.0003 (0.03%)\n",
      "Componente 826: 0.0003 (0.03%)\n",
      "Componente 827: 0.0003 (0.03%)\n",
      "Componente 828: 0.0003 (0.03%)\n",
      "Componente 829: 0.0003 (0.03%)\n",
      "Componente 830: 0.0003 (0.03%)\n",
      "Componente 831: 0.0003 (0.03%)\n",
      "Componente 832: 0.0003 (0.03%)\n",
      "Componente 833: 0.0003 (0.03%)\n",
      "Componente 834: 0.0003 (0.03%)\n",
      "Componente 835: 0.0003 (0.03%)\n",
      "Componente 836: 0.0003 (0.03%)\n",
      "Componente 837: 0.0003 (0.03%)\n",
      "Componente 838: 0.0003 (0.03%)\n",
      "Componente 839: 0.0003 (0.03%)\n",
      "Componente 840: 0.0003 (0.03%)\n",
      "Componente 841: 0.0003 (0.03%)\n",
      "Componente 842: 0.0003 (0.03%)\n",
      "Componente 843: 0.0003 (0.03%)\n",
      "Componente 844: 0.0003 (0.03%)\n",
      "Componente 845: 0.0003 (0.03%)\n",
      "Componente 846: 0.0003 (0.03%)\n",
      "Componente 847: 0.0003 (0.03%)\n",
      "Componente 848: 0.0003 (0.03%)\n",
      "Componente 849: 0.0003 (0.03%)\n",
      "Componente 850: 0.0003 (0.03%)\n",
      "Componente 851: 0.0003 (0.03%)\n",
      "Componente 852: 0.0003 (0.03%)\n",
      "Componente 853: 0.0003 (0.03%)\n",
      "Componente 854: 0.0003 (0.03%)\n",
      "Componente 855: 0.0003 (0.03%)\n",
      "Componente 856: 0.0003 (0.03%)\n",
      "Componente 857: 0.0003 (0.03%)\n",
      "Componente 858: 0.0003 (0.03%)\n",
      "Componente 859: 0.0003 (0.03%)\n",
      "Componente 860: 0.0003 (0.03%)\n",
      "Componente 861: 0.0003 (0.03%)\n",
      "Componente 862: 0.0003 (0.03%)\n",
      "Componente 863: 0.0003 (0.03%)\n",
      "Componente 864: 0.0003 (0.03%)\n",
      "Componente 865: 0.0003 (0.03%)\n",
      "Componente 866: 0.0003 (0.03%)\n",
      "Componente 867: 0.0003 (0.03%)\n",
      "Componente 868: 0.0003 (0.03%)\n",
      "Componente 869: 0.0003 (0.03%)\n",
      "Componente 870: 0.0003 (0.03%)\n",
      "Componente 871: 0.0003 (0.03%)\n",
      "Componente 872: 0.0003 (0.03%)\n",
      "Componente 873: 0.0003 (0.03%)\n",
      "Componente 874: 0.0003 (0.03%)\n",
      "Componente 875: 0.0003 (0.03%)\n",
      "Componente 876: 0.0003 (0.03%)\n",
      "Componente 877: 0.0003 (0.03%)\n",
      "Componente 878: 0.0003 (0.03%)\n",
      "Componente 879: 0.0003 (0.03%)\n",
      "Componente 880: 0.0003 (0.03%)\n",
      "Componente 881: 0.0003 (0.03%)\n",
      "Componente 882: 0.0003 (0.03%)\n",
      "Componente 883: 0.0003 (0.03%)\n",
      "Componente 884: 0.0003 (0.03%)\n",
      "Componente 885: 0.0003 (0.03%)\n",
      "Componente 886: 0.0003 (0.03%)\n",
      "Componente 887: 0.0003 (0.03%)\n",
      "Componente 888: 0.0003 (0.03%)\n",
      "Componente 889: 0.0003 (0.03%)\n",
      "Componente 890: 0.0003 (0.03%)\n",
      "Componente 891: 0.0003 (0.03%)\n",
      "Componente 892: 0.0003 (0.03%)\n",
      "Componente 893: 0.0003 (0.03%)\n",
      "Componente 894: 0.0003 (0.03%)\n",
      "Componente 895: 0.0003 (0.03%)\n",
      "Componente 896: 0.0003 (0.03%)\n",
      "Componente 897: 0.0003 (0.03%)\n",
      "Componente 898: 0.0003 (0.03%)\n",
      "Componente 899: 0.0003 (0.03%)\n",
      "Componente 900: 0.0003 (0.03%)\n",
      "Componente 901: 0.0003 (0.03%)\n",
      "Componente 902: 0.0003 (0.03%)\n",
      "Componente 903: 0.0003 (0.03%)\n",
      "Componente 904: 0.0003 (0.03%)\n",
      "Componente 905: 0.0003 (0.03%)\n",
      "Componente 906: 0.0003 (0.03%)\n",
      "Componente 907: 0.0003 (0.03%)\n",
      "Componente 908: 0.0003 (0.03%)\n",
      "Componente 909: 0.0003 (0.03%)\n",
      "Componente 910: 0.0003 (0.03%)\n",
      "Componente 911: 0.0003 (0.03%)\n",
      "Componente 912: 0.0003 (0.03%)\n",
      "Componente 913: 0.0003 (0.03%)\n",
      "Componente 914: 0.0003 (0.03%)\n",
      "Componente 915: 0.0003 (0.03%)\n",
      "Componente 916: 0.0003 (0.03%)\n",
      "Componente 917: 0.0003 (0.03%)\n",
      "Componente 918: 0.0003 (0.03%)\n",
      "Componente 919: 0.0003 (0.03%)\n",
      "Componente 920: 0.0003 (0.03%)\n",
      "Componente 921: 0.0003 (0.03%)\n",
      "Componente 922: 0.0003 (0.03%)\n",
      "Componente 923: 0.0003 (0.03%)\n",
      "Componente 924: 0.0003 (0.03%)\n",
      "Componente 925: 0.0003 (0.03%)\n",
      "Componente 926: 0.0003 (0.03%)\n",
      "Componente 927: 0.0003 (0.03%)\n",
      "Componente 928: 0.0003 (0.03%)\n",
      "Componente 929: 0.0003 (0.03%)\n",
      "Componente 930: 0.0003 (0.03%)\n",
      "Componente 931: 0.0003 (0.03%)\n",
      "Componente 932: 0.0003 (0.03%)\n",
      "Componente 933: 0.0003 (0.03%)\n",
      "Componente 934: 0.0003 (0.03%)\n",
      "Componente 935: 0.0003 (0.03%)\n",
      "Componente 936: 0.0003 (0.03%)\n",
      "Componente 937: 0.0003 (0.03%)\n",
      "Componente 938: 0.0003 (0.03%)\n",
      "Componente 939: 0.0003 (0.03%)\n",
      "Componente 940: 0.0003 (0.03%)\n",
      "Componente 941: 0.0003 (0.03%)\n",
      "Componente 942: 0.0003 (0.03%)\n",
      "Componente 943: 0.0003 (0.03%)\n",
      "Componente 944: 0.0003 (0.03%)\n",
      "Componente 945: 0.0003 (0.03%)\n",
      "Componente 946: 0.0003 (0.03%)\n",
      "Componente 947: 0.0003 (0.03%)\n",
      "Componente 948: 0.0003 (0.03%)\n",
      "Componente 949: 0.0003 (0.03%)\n",
      "Componente 950: 0.0003 (0.03%)\n",
      "Componente 951: 0.0003 (0.03%)\n",
      "Componente 952: 0.0003 (0.03%)\n",
      "Componente 953: 0.0003 (0.03%)\n",
      "Componente 954: 0.0003 (0.03%)\n",
      "Componente 955: 0.0003 (0.03%)\n",
      "Componente 956: 0.0003 (0.03%)\n",
      "Componente 957: 0.0003 (0.03%)\n",
      "Componente 958: 0.0003 (0.03%)\n",
      "Componente 959: 0.0003 (0.03%)\n",
      "Componente 960: 0.0003 (0.03%)\n",
      "Componente 961: 0.0003 (0.03%)\n",
      "Componente 962: 0.0003 (0.03%)\n",
      "Componente 963: 0.0003 (0.03%)\n",
      "Componente 964: 0.0003 (0.03%)\n",
      "Componente 965: 0.0003 (0.03%)\n",
      "Componente 966: 0.0003 (0.03%)\n",
      "Componente 967: 0.0003 (0.03%)\n",
      "Componente 968: 0.0003 (0.03%)\n",
      "Componente 969: 0.0003 (0.03%)\n",
      "Componente 970: 0.0003 (0.03%)\n",
      "Componente 971: 0.0003 (0.03%)\n",
      "Componente 972: 0.0003 (0.03%)\n",
      "Componente 973: 0.0003 (0.03%)\n",
      "Componente 974: 0.0003 (0.03%)\n",
      "Componente 975: 0.0003 (0.03%)\n",
      "Componente 976: 0.0003 (0.03%)\n",
      "Componente 977: 0.0003 (0.03%)\n",
      "Componente 978: 0.0003 (0.03%)\n",
      "Componente 979: 0.0003 (0.03%)\n",
      "Componente 980: 0.0003 (0.03%)\n",
      "Componente 981: 0.0003 (0.03%)\n",
      "Componente 982: 0.0003 (0.03%)\n",
      "Componente 983: 0.0003 (0.03%)\n",
      "Componente 984: 0.0003 (0.03%)\n",
      "Componente 985: 0.0003 (0.03%)\n",
      "Componente 986: 0.0003 (0.03%)\n",
      "Componente 987: 0.0003 (0.03%)\n",
      "Componente 988: 0.0003 (0.03%)\n",
      "Componente 989: 0.0003 (0.03%)\n",
      "Componente 990: 0.0003 (0.03%)\n",
      "Componente 991: 0.0003 (0.03%)\n",
      "Componente 992: 0.0003 (0.03%)\n",
      "Componente 993: 0.0003 (0.03%)\n",
      "Componente 994: 0.0003 (0.03%)\n",
      "Componente 995: 0.0003 (0.03%)\n",
      "Componente 996: 0.0003 (0.03%)\n",
      "Componente 997: 0.0003 (0.03%)\n",
      "Componente 998: 0.0003 (0.03%)\n",
      "Componente 999: 0.0003 (0.03%)\n",
      "Componente 1000: 0.0003 (0.03%)\n",
      "Componente 1001: 0.0003 (0.03%)\n",
      "Componente 1002: 0.0003 (0.03%)\n",
      "Componente 1003: 0.0003 (0.03%)\n",
      "Componente 1004: 0.0003 (0.03%)\n",
      "Componente 1005: 0.0003 (0.03%)\n",
      "Componente 1006: 0.0003 (0.03%)\n",
      "Componente 1007: 0.0003 (0.03%)\n",
      "Componente 1008: 0.0003 (0.03%)\n",
      "Componente 1009: 0.0003 (0.03%)\n",
      "Componente 1010: 0.0003 (0.03%)\n",
      "Componente 1011: 0.0003 (0.03%)\n",
      "Componente 1012: 0.0003 (0.03%)\n",
      "Componente 1013: 0.0003 (0.03%)\n",
      "Componente 1014: 0.0003 (0.03%)\n",
      "Componente 1015: 0.0003 (0.03%)\n",
      "Componente 1016: 0.0003 (0.03%)\n",
      "Componente 1017: 0.0003 (0.03%)\n",
      "Componente 1018: 0.0003 (0.03%)\n",
      "Componente 1019: 0.0003 (0.03%)\n",
      "Componente 1020: 0.0003 (0.03%)\n",
      "Componente 1021: 0.0003 (0.03%)\n",
      "Componente 1022: 0.0003 (0.03%)\n",
      "Componente 1023: 0.0003 (0.03%)\n",
      "Componente 1024: 0.0003 (0.03%)\n",
      "Componente 1025: 0.0003 (0.03%)\n",
      "Componente 1026: 0.0003 (0.03%)\n",
      "Componente 1027: 0.0003 (0.03%)\n",
      "Componente 1028: 0.0003 (0.03%)\n",
      "Componente 1029: 0.0003 (0.03%)\n",
      "Componente 1030: 0.0003 (0.03%)\n",
      "Componente 1031: 0.0003 (0.03%)\n",
      "Componente 1032: 0.0003 (0.03%)\n",
      "Componente 1033: 0.0003 (0.03%)\n",
      "Componente 1034: 0.0003 (0.03%)\n",
      "Componente 1035: 0.0003 (0.03%)\n",
      "Componente 1036: 0.0003 (0.03%)\n",
      "Componente 1037: 0.0003 (0.03%)\n",
      "Componente 1038: 0.0003 (0.03%)\n",
      "Componente 1039: 0.0003 (0.03%)\n",
      "Componente 1040: 0.0003 (0.03%)\n",
      "Componente 1041: 0.0003 (0.03%)\n",
      "Componente 1042: 0.0003 (0.03%)\n",
      "Componente 1043: 0.0003 (0.03%)\n",
      "Componente 1044: 0.0003 (0.03%)\n",
      "Componente 1045: 0.0003 (0.03%)\n",
      "Componente 1046: 0.0003 (0.03%)\n",
      "Componente 1047: 0.0003 (0.03%)\n",
      "Componente 1048: 0.0003 (0.03%)\n",
      "Componente 1049: 0.0003 (0.03%)\n",
      "Componente 1050: 0.0003 (0.03%)\n",
      "Componente 1051: 0.0003 (0.03%)\n",
      "Componente 1052: 0.0003 (0.03%)\n",
      "Componente 1053: 0.0003 (0.03%)\n",
      "Componente 1054: 0.0003 (0.03%)\n",
      "Componente 1055: 0.0003 (0.03%)\n",
      "Componente 1056: 0.0003 (0.03%)\n",
      "Componente 1057: 0.0003 (0.03%)\n",
      "Componente 1058: 0.0003 (0.03%)\n",
      "Componente 1059: 0.0003 (0.03%)\n",
      "Componente 1060: 0.0003 (0.03%)\n",
      "Componente 1061: 0.0003 (0.03%)\n",
      "Componente 1062: 0.0003 (0.03%)\n",
      "Componente 1063: 0.0003 (0.03%)\n"
     ]
    }
   ],
   "source": [
    "n_comp_final = np.argmax(cumulative_variance_ratio_final >= 0.7) + 1\n",
    "print(f\"Número de componentes seleccionados: {n_comp_final}\")\n",
    "print(f\"Varianza explicada con {n_comp_final} componentes: \"\n",
    "      f\"{cumulative_variance_ratio_final[n_comp_final-1]:.4f}\")\n",
    "\n",
    "# Display variance explained by each component\n",
    "print(\"\\nVarianza explicada por cada componente:\")\n",
    "for i, var in enumerate(svd_final.explained_variance_ratio_[:n_comp_final]):\n",
    "    print(f\"Componente {i+1}: {var:.4f} ({var*100:.2f}%)\")"
   ]
  },
  {
   "cell_type": "markdown",
   "metadata": {},
   "source": [
    "Finalmente, nos quedamos con el conjunto de componentes deseado y lo unificamos con el resto de características. Primero el de análisis."
   ]
  },
  {
   "cell_type": "code",
   "execution_count": 23,
   "metadata": {},
   "outputs": [],
   "source": [
    "# Reduccion a las componentes deseadas.\n",
    "X_svd_train = X_svd_full_train[:, :n_comp]\n",
    "X_svd_test = X_svd_full_test[:, :n_comp]\n",
    "\n",
    "# Train\n",
    "X_svd_train = pd.DataFrame(X_svd_train, columns=[f\"svd_{i}\" for i in range(X_svd_train.shape[1])])\n",
    "X_rest_train = X_train[no_text].reset_index(drop=True)\n",
    "\n",
    "# Test\n",
    "X_svd_test = pd.DataFrame(X_svd_test, columns=[f\"svd_{i}\" for i in range(X_svd_test.shape[1])])\n",
    "X_rest_test = X_test[no_text].reset_index(drop=True)\n",
    "\n",
    "# Text + Resto de features\n",
    "X_total_train = pd.concat([X_svd_train, X_rest_train], axis=1)\n",
    "X_total_test = pd.concat([X_svd_test, X_rest_test], axis=1)"
   ]
  },
  {
   "cell_type": "markdown",
   "metadata": {},
   "source": [
    "Y después Kaggle."
   ]
  },
  {
   "cell_type": "code",
   "execution_count": 24,
   "metadata": {},
   "outputs": [],
   "source": [
    "# Reduccion a las componentes deseadas.\n",
    "X_svd_tr_final = X_svd_full_tr_final[:, :n_comp_final]\n",
    "X_svd_te_final = X_svd_full_te_final[:, :n_comp_final]\n",
    "\n",
    "# Train\n",
    "X_svd_tr_final = pd.DataFrame(X_svd_tr_final, columns=[f\"svd_{i}\" for i in range(X_svd_tr_final.shape[1])])\n",
    "X_rest_tr_final = X_train_final[no_text].reset_index(drop=True)\n",
    "\n",
    "# Test\n",
    "X_svd_te_final = pd.DataFrame(X_svd_te_final, columns=[f\"svd_{i}\" for i in range(X_svd_te_final.shape[1])])\n",
    "X_rest_te_final = X_test_final[no_text].reset_index(drop=True)\n",
    "\n",
    "# Text + Resto de features\n",
    "X_tot_tr_final = pd.concat([X_svd_tr_final, X_rest_tr_final], axis=1)\n",
    "X_tot_te_final = pd.concat([X_svd_te_final, X_rest_te_final], axis=1)"
   ]
  },
  {
   "cell_type": "markdown",
   "metadata": {},
   "source": [
    "## 6.2 Remuestreo"
   ]
  },
  {
   "cell_type": "markdown",
   "metadata": {},
   "source": [
    "### 6.2.1 Estandarizacion"
   ]
  },
  {
   "cell_type": "markdown",
   "metadata": {},
   "source": [
    "Primero se estandarizan el conjunto para el análisis."
   ]
  },
  {
   "cell_type": "code",
   "execution_count": 25,
   "metadata": {},
   "outputs": [],
   "source": [
    "prep = ColumnTransformer([\n",
    "    ('numericas', StandardScaler(), numeric_vars)\n",
    "], remainder='passthrough').fit(X_total_train) \n",
    "\n",
    "X_scaled_train = prep.transform(X_total_train)\n",
    "X_scaled_test = prep.transform(X_total_test)"
   ]
  },
  {
   "cell_type": "markdown",
   "metadata": {},
   "source": [
    "Después el de Kaggle."
   ]
  },
  {
   "cell_type": "code",
   "execution_count": 26,
   "metadata": {},
   "outputs": [],
   "source": [
    "prep_final = ColumnTransformer([\n",
    "    ('numericas', StandardScaler(), numeric_vars)\n",
    "], remainder='passthrough').fit(X_tot_tr_final) \n",
    "\n",
    "X_scaled_tr_final = prep_final.transform(X_tot_tr_final)\n",
    "X_scaled_te_final = prep_final.transform(X_tot_te_final)"
   ]
  },
  {
   "cell_type": "markdown",
   "metadata": {},
   "source": [
    "### 6.2.2 Undersampling"
   ]
  },
  {
   "cell_type": "markdown",
   "metadata": {},
   "source": [
    "Primero se realiza un undersampling al conjunto para el análisis."
   ]
  },
  {
   "cell_type": "code",
   "execution_count": 27,
   "metadata": {},
   "outputs": [],
   "source": [
    "under = RandomUnderSampler(sampling_strategy=0.65, random_state=seed)\n",
    "X_under, y_under = under.fit_resample(X_scaled_train, y_train)"
   ]
  },
  {
   "cell_type": "markdown",
   "metadata": {},
   "source": [
    "Después el de Kaggle."
   ]
  },
  {
   "cell_type": "code",
   "execution_count": 529,
   "metadata": {},
   "outputs": [],
   "source": [
    "under_final = RandomUnderSampler(sampling_strategy=0.7, random_state=seed)\n",
    "X_under_final, y_under_final = under_final.fit_resample(X_scaled_tr_final, y_train_final)"
   ]
  },
  {
   "cell_type": "markdown",
   "metadata": {},
   "source": [
    "### 6.2.3 Oversampling"
   ]
  },
  {
   "cell_type": "markdown",
   "metadata": {},
   "source": [
    "Primero se realiza un oversampling al conjunto para el análisis."
   ]
  },
  {
   "cell_type": "code",
   "execution_count": 531,
   "metadata": {},
   "outputs": [],
   "source": [
    "over = SMOTE(sampling_strategy=0.8, random_state=seed)\n",
    "X_resampled, y_resampled = over.fit_resample(X_under, y_under)"
   ]
  },
  {
   "cell_type": "markdown",
   "metadata": {},
   "source": [
    "Después el de Kaggle."
   ]
  },
  {
   "cell_type": "code",
   "execution_count": 615,
   "metadata": {},
   "outputs": [],
   "source": [
    "over_final = SMOTE(sampling_strategy=0.8, k_neighbors=10, random_state=seed)\n",
    "X_res_final, y_res_final = over_final.fit_resample(X_under_final, y_under_final)"
   ]
  },
  {
   "cell_type": "markdown",
   "metadata": {},
   "source": [
    "# 7. Modelos seleccionados"
   ]
  },
  {
   "cell_type": "markdown",
   "metadata": {},
   "source": [
    "## 7.1 Introduccion"
   ]
  },
  {
   "cell_type": "markdown",
   "metadata": {},
   "source": [
    "En el anterior notebook se evaluaron una serie de modelos tanto por F1 score como por ROC-AUC score. Los modelos con mejores resultados para ambas categorías fueron:\n",
    "* Random Forest.\n",
    "* GradientBoosting.\n",
    "* XGBoost.\n",
    "* LogisticRegression.\n",
    "* SVC con kernel rbf.\n",
    "\n",
    "Por lo tanto nos dispondremos a probar dichos modelos a continuación."
   ]
  },
  {
   "cell_type": "markdown",
   "metadata": {},
   "source": [
    "## 7.2 Asignacion de las variables"
   ]
  },
  {
   "cell_type": "markdown",
   "metadata": {},
   "source": [
    "Asignamos las variables para el analisis en función del desarrollo del apartado del preprocesado."
   ]
  },
  {
   "cell_type": "code",
   "execution_count": 716,
   "metadata": {},
   "outputs": [],
   "source": [
    "X_model = X_resampled\n",
    "y_model = y_resampled\n",
    "\n",
    "X_model_test = X_scaled_test\n",
    "expected = y_test"
   ]
  },
  {
   "cell_type": "markdown",
   "metadata": {},
   "source": [
    "## 7.3 Clasificador Random Forest"
   ]
  },
  {
   "cell_type": "markdown",
   "metadata": {},
   "source": [
    "### 7.3.1 Definicion"
   ]
  },
  {
   "cell_type": "markdown",
   "metadata": {},
   "source": [
    "Definimos el modelo con los hiperparámetros *random_state* fijado y *class_weigth* balanceado. También se escoje *n_jobs* con valor -1 para utilizar todos los procesadores."
   ]
  },
  {
   "cell_type": "code",
   "execution_count": 32,
   "metadata": {},
   "outputs": [],
   "source": [
    "model_Forest = RandomForestClassifier(class_weight=\"balanced\", n_jobs=-1, random_state=seed)"
   ]
  },
  {
   "cell_type": "markdown",
   "metadata": {},
   "source": [
    "### 7.3.2 Entrenamiento y evaluacion"
   ]
  },
  {
   "cell_type": "markdown",
   "metadata": {},
   "source": [
    "Entrenamos el modelo y comprobamos su exactitud."
   ]
  },
  {
   "cell_type": "code",
   "execution_count": 33,
   "metadata": {},
   "outputs": [],
   "source": [
    "model_Forest.fit(X_model, y_model)\n",
    "\n",
    "predicted_Forest = model_Forest.predict(X_model_test)"
   ]
  },
  {
   "cell_type": "code",
   "execution_count": 34,
   "metadata": {},
   "outputs": [
    {
     "data": {
      "text/plain": [
       "0.6245810055865921"
      ]
     },
     "execution_count": 34,
     "metadata": {},
     "output_type": "execute_result"
    }
   ],
   "source": [
    "accuracy_score(expected, predicted_Forest)"
   ]
  },
  {
   "cell_type": "markdown",
   "metadata": {},
   "source": [
    "### 7.3.3 Null accuracy"
   ]
  },
  {
   "cell_type": "markdown",
   "metadata": {},
   "source": [
    "Ahora se va a evaluar si  el modelo siempre predice la clase más frecuente."
   ]
  },
  {
   "cell_type": "code",
   "execution_count": 35,
   "metadata": {},
   "outputs": [
    {
     "data": {
      "text/plain": [
       "1    1179\n",
       "0     611\n",
       "Name: count, dtype: int64"
      ]
     },
     "execution_count": 35,
     "metadata": {},
     "output_type": "execute_result"
    }
   ],
   "source": [
    "s_y_test = pd.Series(y_test)\n",
    "s_y_test.value_counts()"
   ]
  },
  {
   "cell_type": "code",
   "execution_count": 36,
   "metadata": {},
   "outputs": [
    {
     "data": {
      "text/plain": [
       "np.float64(0.658659217877095)"
      ]
     },
     "execution_count": 36,
     "metadata": {},
     "output_type": "execute_result"
    }
   ],
   "source": [
    "y_test.mean()"
   ]
  },
  {
   "cell_type": "code",
   "execution_count": 37,
   "metadata": {},
   "outputs": [
    {
     "data": {
      "text/plain": [
       "np.float64(0.341340782122905)"
      ]
     },
     "execution_count": 37,
     "metadata": {},
     "output_type": "execute_result"
    }
   ],
   "source": [
    "1 - y_test.mean() "
   ]
  },
  {
   "cell_type": "code",
   "execution_count": 38,
   "metadata": {},
   "outputs": [
    {
     "data": {
      "text/plain": [
       "np.float64(0.658659217877095)"
      ]
     },
     "execution_count": 38,
     "metadata": {},
     "output_type": "execute_result"
    }
   ],
   "source": [
    "max(y_test.mean(), 1 - y_test.mean())"
   ]
  },
  {
   "cell_type": "code",
   "execution_count": 39,
   "metadata": {},
   "outputs": [
    {
     "data": {
      "text/plain": [
       "1    0.658659\n",
       "Name: count, dtype: float64"
      ]
     },
     "execution_count": 39,
     "metadata": {},
     "output_type": "execute_result"
    }
   ],
   "source": [
    "s_y_test.value_counts().head(1) / len(y_test)"
   ]
  },
  {
   "cell_type": "markdown",
   "metadata": {},
   "source": [
    "Nuestra exactitud es de 0.626, la cual es peor que la *null accuracy*, es decir, ahora mismo no tenemos un buen modelo ya que se predecirían un mayor número de resultados en el caso de siempre predecir la clase mayoritaria."
   ]
  },
  {
   "cell_type": "markdown",
   "metadata": {},
   "source": [
    "### 7.3.4 Matriz de confusion y F-score"
   ]
  },
  {
   "cell_type": "markdown",
   "metadata": {},
   "source": [
    "Se muestra la matriz de confusión y el informe de clasificación."
   ]
  },
  {
   "cell_type": "code",
   "execution_count": 40,
   "metadata": {},
   "outputs": [
    {
     "name": "stdout",
     "output_type": "stream",
     "text": [
      "[[172 439]\n",
      " [233 946]]\n"
     ]
    }
   ],
   "source": [
    "print(confusion_matrix(expected, predicted_Forest))"
   ]
  },
  {
   "cell_type": "code",
   "execution_count": 41,
   "metadata": {},
   "outputs": [
    {
     "name": "stdout",
     "output_type": "stream",
     "text": [
      "              precision    recall  f1-score   support\n",
      "\n",
      "           0       0.42      0.28      0.34       611\n",
      "           1       0.68      0.80      0.74      1179\n",
      "\n",
      "    accuracy                           0.62      1790\n",
      "   macro avg       0.55      0.54      0.54      1790\n",
      "weighted avg       0.59      0.62      0.60      1790\n",
      "\n"
     ]
    }
   ],
   "source": [
    "print(classification_report(expected, predicted_Forest))"
   ]
  },
  {
   "cell_type": "markdown",
   "metadata": {},
   "source": [
    "Se observa que estamos identificando erroneamente los 0s ya que tenemos un f1-score del 0.74 para los 1s mientras que estamos obteniendo un 0.35 para los 0s"
   ]
  },
  {
   "cell_type": "markdown",
   "metadata": {},
   "source": [
    "### 7.3.5 ROC y AUC"
   ]
  },
  {
   "cell_type": "markdown",
   "metadata": {},
   "source": [
    "Evaluamos la ROC-AUC score. Para ello representamos primero la curva de ROC."
   ]
  },
  {
   "cell_type": "code",
   "execution_count": 42,
   "metadata": {},
   "outputs": [
    {
     "data": {
      "image/png": "[encoded data removed]",
      "text/plain": [
       "<Figure size 640x480 with 1 Axes>"
      ]
     },
     "metadata": {},
     "output_type": "display_data"
    }
   ],
   "source": [
    "y_pred_prob_Forest = model_Forest.predict_proba(X_model_test)[:,1]\n",
    "fpr, tpr, thresholds = roc_curve(expected, y_pred_prob_Forest)\n",
    "plt.plot(fpr, tpr)\n",
    "plt.xlim([0.0, 1.0])\n",
    "plt.ylim([0.0, 1.0])\n",
    "plt.title('Curva ROC')\n",
    "plt.xlabel('Ratio de FP (1 - Recall)')\n",
    "plt.ylabel('Ratio TP (Sensitivity)')\n",
    "plt.grid(True)\n",
    "plt.show()"
   ]
  },
  {
   "cell_type": "markdown",
   "metadata": {},
   "source": [
    "Y mostramos sus thresholds."
   ]
  },
  {
   "cell_type": "code",
   "execution_count": 43,
   "metadata": {},
   "outputs": [
    {
     "data": {
      "text/plain": [
       "array([ inf, 0.9 , 0.77, 0.76, 0.75, 0.74, 0.73, 0.72, 0.71, 0.7 , 0.69,\n",
       "       0.68, 0.67, 0.66, 0.65, 0.64, 0.63, 0.62, 0.61, 0.6 , 0.59, 0.58,\n",
       "       0.57, 0.56, 0.55, 0.54, 0.53, 0.52, 0.51, 0.5 , 0.49, 0.48, 0.47,\n",
       "       0.46, 0.45, 0.44, 0.43, 0.42, 0.41, 0.4 , 0.39, 0.38, 0.37, 0.36,\n",
       "       0.35, 0.32, 0.31, 0.3 , 0.15])"
      ]
     },
     "execution_count": 43,
     "metadata": {},
     "output_type": "execute_result"
    }
   ],
   "source": [
    "thresholds"
   ]
  },
  {
   "cell_type": "markdown",
   "metadata": {},
   "source": [
    "Como se observa el resultado no es bueno ya que estamos obteniendo practicamente una recta en vez de una curva en forma de 'L' invertida."
   ]
  },
  {
   "cell_type": "markdown",
   "metadata": {},
   "source": [
    "La siguiente gráfica muestra las probabilidades de predicción en función de los umbrales."
   ]
  },
  {
   "cell_type": "code",
   "execution_count": 44,
   "metadata": {},
   "outputs": [
    {
     "data": {
      "text/plain": [
       "array([<Axes: title={'center': '0'}>, <Axes: title={'center': '1'}>],\n",
       "      dtype=object)"
      ]
     },
     "execution_count": 44,
     "metadata": {},
     "output_type": "execute_result"
    },
    {
     "data": {
      "image/png": "[encoded data removed]",
      "text/plain": [
       "<Figure size 640x480 with 2 Axes>"
      ]
     },
     "metadata": {},
     "output_type": "display_data"
    }
   ],
   "source": [
    "dprob = pd.DataFrame(data = {'probability':y_pred_prob_Forest, 'actual':y_test})\n",
    "dprob.probability.hist(by=dprob.actual, sharex=True, sharey=True)"
   ]
  },
  {
   "cell_type": "markdown",
   "metadata": {},
   "source": [
    "Se muestra que los mejores resultados para ambas clases se obtiene con el *threshold* igual a 0.5 aproximandamente (es decir, el valor por defecto)."
   ]
  },
  {
   "cell_type": "code",
   "execution_count": 45,
   "metadata": {},
   "outputs": [
    {
     "name": "stdout",
     "output_type": "stream",
     "text": [
      "Sensitivity: 0.8023748939779474\n",
      "Recall: 0.2815057283142389\n"
     ]
    }
   ],
   "source": [
    "best_thres_Random = 0.5\n",
    "\n",
    "evaluate_threshold(best_thres_Random)"
   ]
  },
  {
   "cell_type": "markdown",
   "metadata": {},
   "source": [
    "Con este valor se obtienen los siguientes resultados. Primero se recalculan las predicciones."
   ]
  },
  {
   "cell_type": "code",
   "execution_count": 46,
   "metadata": {},
   "outputs": [],
   "source": [
    "probs_Forest = model_Forest.predict_proba(X_model_test)[:, 1]  \n",
    "pred_thres_Forest = (probs_Forest >= best_thres_Random).astype(int) "
   ]
  },
  {
   "cell_type": "markdown",
   "metadata": {},
   "source": [
    "Se evalua la matriz de confusión."
   ]
  },
  {
   "cell_type": "code",
   "execution_count": 47,
   "metadata": {},
   "outputs": [
    {
     "name": "stdout",
     "output_type": "stream",
     "text": [
      "[[146 465]\n",
      " [187 992]]\n"
     ]
    }
   ],
   "source": [
    "print(confusion_matrix(expected, pred_thres_Forest))"
   ]
  },
  {
   "cell_type": "markdown",
   "metadata": {},
   "source": [
    "Y también se analiza el informe de la clasificación."
   ]
  },
  {
   "cell_type": "code",
   "execution_count": 48,
   "metadata": {},
   "outputs": [
    {
     "name": "stdout",
     "output_type": "stream",
     "text": [
      "              precision    recall  f1-score   support\n",
      "\n",
      "           0       0.44      0.24      0.31       611\n",
      "           1       0.68      0.84      0.75      1179\n",
      "\n",
      "    accuracy                           0.64      1790\n",
      "   macro avg       0.56      0.54      0.53      1790\n",
      "weighted avg       0.60      0.64      0.60      1790\n",
      "\n"
     ]
    }
   ],
   "source": [
    "print(classification_report(expected, pred_thres_Forest))"
   ]
  },
  {
   "cell_type": "markdown",
   "metadata": {},
   "source": [
    "Obviamente son los mismos, ya que no estamos modificando el umbral realmente."
   ]
  },
  {
   "cell_type": "markdown",
   "metadata": {},
   "source": [
    "Finalmente se calcula el valor de AUC."
   ]
  },
  {
   "cell_type": "code",
   "execution_count": 49,
   "metadata": {},
   "outputs": [
    {
     "name": "stdout",
     "output_type": "stream",
     "text": [
      "0.5419403111460932\n"
     ]
    }
   ],
   "source": [
    "print(roc_auc_score(expected, predicted_Forest))"
   ]
  },
  {
   "cell_type": "markdown",
   "metadata": {},
   "source": [
    "Se ha obtenido un valor entre 0.5 y 0.6, es decir, el modelo se considerá como fallido o *F*."
   ]
  },
  {
   "cell_type": "markdown",
   "metadata": {},
   "source": [
    "### 7.3.6 Optimizacion"
   ]
  },
  {
   "cell_type": "markdown",
   "metadata": {},
   "source": [
    "Antes de nada, observamos cuales son los parámetros de nuestro modelo."
   ]
  },
  {
   "cell_type": "code",
   "execution_count": 50,
   "metadata": {},
   "outputs": [
    {
     "data": {
      "text/plain": [
       "{'bootstrap': True,\n",
       " 'ccp_alpha': 0.0,\n",
       " 'class_weight': 'balanced',\n",
       " 'criterion': 'gini',\n",
       " 'max_depth': None,\n",
       " 'max_features': 'sqrt',\n",
       " 'max_leaf_nodes': None,\n",
       " 'max_samples': None,\n",
       " 'min_impurity_decrease': 0.0,\n",
       " 'min_samples_leaf': 1,\n",
       " 'min_samples_split': 2,\n",
       " 'min_weight_fraction_leaf': 0.0,\n",
       " 'monotonic_cst': None,\n",
       " 'n_estimators': 100,\n",
       " 'n_jobs': -1,\n",
       " 'oob_score': False,\n",
       " 'random_state': 42,\n",
       " 'verbose': 0,\n",
       " 'warm_start': False}"
      ]
     },
     "execution_count": 50,
     "metadata": {},
     "output_type": "execute_result"
    }
   ],
   "source": [
    "model_Forest.get_params()"
   ]
  },
  {
   "cell_type": "markdown",
   "metadata": {},
   "source": [
    "También creemos que es interesante saber la profundidad media de nuestro modelo Random Forest, para así poder estimar mejor rango de valores en este apartado."
   ]
  },
  {
   "cell_type": "code",
   "execution_count": 51,
   "metadata": {},
   "outputs": [
    {
     "name": "stdout",
     "output_type": "stream",
     "text": [
      "Profundidad media de los árboles: 38.35\n"
     ]
    }
   ],
   "source": [
    "arboles_decision = model_Forest.estimators_\n",
    "\n",
    "profundidades = [arbol.tree_.max_depth for arbol in arboles_decision]\n",
    "profundidad_media = np.mean(profundidades)\n",
    "\n",
    "print(f\"Profundidad media de los árboles: {profundidad_media}\")"
   ]
  },
  {
   "cell_type": "markdown",
   "metadata": {},
   "source": [
    "Ahora seleccionamos los hiperparámetros a evaluar mediante un GridSearchCV. Además, se ha añadido la librería *time* para saber el tiempo que tardo en realizar la busqueda de mejores parámetros.\n",
    "\n",
    "Estos hiperparámetros son:\n",
    "* ***n_estimator***: número de árboles.\n",
    "* ***max_depth***: máxima profundidad de cada árbol.\n",
    "* ***min_samples_split***: número de muestras mínimas para dividir un nodo interno.\n",
    "* ***min_samples_leaf***: número de muestras mínimas de un nodo hoja.\n",
    "* ***max_features***: número de características a tener en cuenta a la hora de buscar la mejor división.\n",
    "* ***class_weight***: pesos asignados a las clases."
   ]
  },
  {
   "cell_type": "code",
   "execution_count": null,
   "metadata": {},
   "outputs": [],
   "source": [
    "optm_Forest = RandomForestClassifier(n_jobs=-1, random_state=seed)\n",
    "\n",
    "param_grid = {\n",
    "    'n_estimators': [200, 250, 300],\n",
    "    'max_depth': [25, 35],\n",
    "    'min_samples_split': [2, 5],\n",
    "    'min_samples_leaf': [2, 4],\n",
    "    'max_features': [14, 20, 30, 50],\n",
    "    'class_weight': ['balanced', 'balanced_subsample']\n",
    "}\n",
    "\n",
    "grid_search = GridSearchCV(optm_Forest, param_grid=param_grid, cv=3, scoring=make_scorer(f1_score, average='weighted'), n_jobs=-1)\n",
    "\n",
    "inicio = time.time()\n",
    "grid_search.fit(X_model, y_model)\n",
    "fin = time.time()"
   ]
  },
  {
   "cell_type": "markdown",
   "metadata": {},
   "source": [
    "Se calcula el tiempo que ha tardado en minutos."
   ]
  },
  {
   "cell_type": "raw",
   "metadata": {},
   "source": [
    "tiempo_total = (fin - inicio) / 60\n",
    "print(f\"La celda tardó {tiempo_total} minutos en ejecutarse.\")"
   ]
  },
  {
   "cell_type": "markdown",
   "metadata": {},
   "source": [
    "Se escoge el mejor parámetro y su  precisión asociada."
   ]
  },
  {
   "cell_type": "raw",
   "metadata": {
    "vscode": {
     "languageId": "plaintext"
    }
   },
   "source": [
    "print(\"Mejores parámetros: \", grid_search.best_params_)\n",
    "print(\"Mejor score: \", grid_search.best_score_)"
   ]
  },
  {
   "cell_type": "markdown",
   "metadata": {},
   "source": [
    "Observamos los mejores 10 casos para analizar varias posibilidades."
   ]
  },
  {
   "cell_type": "raw",
   "metadata": {},
   "source": [
    "results_df = pd.DataFrame(grid_search.cv_results_)"
   ]
  },
  {
   "cell_type": "raw",
   "metadata": {},
   "source": [
    "top_10_models = results_df.nlargest(10, \"mean_test_score\")\n",
    "\n",
    "print(\"\\nLos 10 mejores modelos:\")\n",
    "for index, row in top_10_models.iterrows():\n",
    "    print(\"\\nModelo:\")\n",
    "    print(f\"Parámetros: {row['params']}\")\n",
    "    print(f\"Puntuación media de prueba: {row['mean_test_score']}\")"
   ]
  },
  {
   "cell_type": "markdown",
   "metadata": {},
   "source": [
    "### 7.3.7 Entrenamiento y evaluacion con hiperparametros optimizados"
   ]
  },
  {
   "cell_type": "markdown",
   "metadata": {},
   "source": [
    "#### - Definicion"
   ]
  },
  {
   "cell_type": "markdown",
   "metadata": {},
   "source": [
    "Definimos los mejores parámetros (no se define con *grid_search.best_params_* para probar varias opciones de forma sencilla)."
   ]
  },
  {
   "cell_type": "code",
   "execution_count": 52,
   "metadata": {},
   "outputs": [],
   "source": [
    "params_final_Forest = {\n",
    "    'class_weight': 'balanced',\n",
    "    'max_depth': 25,\n",
    "    'max_features': 50,\n",
    "    'min_samples_leaf': 4,\n",
    "    'min_samples_split': 2,\n",
    "    'n_estimators': 300,\n",
    "    'n_jobs': -1,\n",
    "    'random_state': seed\n",
    "}"
   ]
  },
  {
   "cell_type": "markdown",
   "metadata": {},
   "source": [
    "Definimos el modelo desagregando el diccionario."
   ]
  },
  {
   "cell_type": "code",
   "execution_count": 53,
   "metadata": {},
   "outputs": [],
   "source": [
    "final_Forest = RandomForestClassifier(**params_final_Forest)"
   ]
  },
  {
   "cell_type": "markdown",
   "metadata": {},
   "source": [
    "#### - Entrenamiento y evaluacion"
   ]
  },
  {
   "cell_type": "markdown",
   "metadata": {},
   "source": [
    "Entrenamos el modelo y comprobamos su exactitud."
   ]
  },
  {
   "cell_type": "code",
   "execution_count": 54,
   "metadata": {},
   "outputs": [],
   "source": [
    "final_Forest.fit(X_model, y_model)\n",
    "\n",
    "predicted_For_opt = final_Forest.predict(X_model_test)"
   ]
  },
  {
   "cell_type": "code",
   "execution_count": 55,
   "metadata": {},
   "outputs": [
    {
     "data": {
      "text/plain": [
       "0.6301675977653631"
      ]
     },
     "execution_count": 55,
     "metadata": {},
     "output_type": "execute_result"
    }
   ],
   "source": [
    "accuracy_score(expected, predicted_For_opt)"
   ]
  },
  {
   "cell_type": "markdown",
   "metadata": {},
   "source": [
    "#### - Null accuracy"
   ]
  },
  {
   "cell_type": "markdown",
   "metadata": {},
   "source": [
    "La accuracy es similar a la anterior. Además, sigue siendo peor que la *null accuracy*."
   ]
  },
  {
   "cell_type": "markdown",
   "metadata": {},
   "source": [
    "#### - Matriz de confusion y F-score"
   ]
  },
  {
   "cell_type": "markdown",
   "metadata": {},
   "source": [
    "La matriz de confusión y el informe de clasificación también es muy similar."
   ]
  },
  {
   "cell_type": "code",
   "execution_count": 56,
   "metadata": {},
   "outputs": [
    {
     "name": "stdout",
     "output_type": "stream",
     "text": [
      "[[195 416]\n",
      " [246 933]]\n"
     ]
    }
   ],
   "source": [
    "print(confusion_matrix(expected, predicted_For_opt))"
   ]
  },
  {
   "cell_type": "code",
   "execution_count": 57,
   "metadata": {},
   "outputs": [
    {
     "name": "stdout",
     "output_type": "stream",
     "text": [
      "              precision    recall  f1-score   support\n",
      "\n",
      "           0       0.44      0.32      0.37       611\n",
      "           1       0.69      0.79      0.74      1179\n",
      "\n",
      "    accuracy                           0.63      1790\n",
      "   macro avg       0.57      0.56      0.55      1790\n",
      "weighted avg       0.61      0.63      0.61      1790\n",
      "\n"
     ]
    }
   ],
   "source": [
    "print(classification_report(expected, predicted_For_opt))"
   ]
  },
  {
   "cell_type": "markdown",
   "metadata": {},
   "source": [
    "#### - ROC y AUC"
   ]
  },
  {
   "cell_type": "markdown",
   "metadata": {},
   "source": [
    "Se calcula el ROC y se reajusta el umbral de probabilidad."
   ]
  },
  {
   "cell_type": "code",
   "execution_count": 58,
   "metadata": {},
   "outputs": [
    {
     "data": {
      "image/png": "[encoded data removed]",
      "text/plain": [
       "<Figure size 640x480 with 1 Axes>"
      ]
     },
     "metadata": {},
     "output_type": "display_data"
    }
   ],
   "source": [
    "y_pred_prob_Forest = final_Forest.predict_proba(X_model_test)[:,1]\n",
    "fpr, tpr, thresholds = roc_curve(y_test, y_pred_prob_Forest)\n",
    "plt.plot(fpr, tpr)\n",
    "plt.xlim([0.0, 1.0])\n",
    "plt.ylim([0.0, 1.0])\n",
    "plt.title('Curva ROC')\n",
    "plt.xlabel('Ratio de FP (1 - Recall)')\n",
    "plt.ylabel('Ratio TP (Sensitivity)')\n",
    "plt.grid(True)\n",
    "plt.show()"
   ]
  },
  {
   "cell_type": "code",
   "execution_count": 59,
   "metadata": {},
   "outputs": [
    {
     "data": {
      "text/plain": [
       "array([       inf, 0.72260355, 0.69139816, 0.69088788, 0.6867049 ,\n",
       "       0.68607289, 0.66625969, 0.66605241, 0.6652151 , 0.66504427,\n",
       "       0.66495714, 0.66381557, 0.66184975, 0.66112491, 0.65952202,\n",
       "       0.65872099, 0.65604426, 0.65561671, 0.65422382, 0.6526832 ,\n",
       "       0.65181809, 0.65121853, 0.64647077, 0.64618591, 0.64414027,\n",
       "       0.6437938 , 0.64358098, 0.64337382, 0.64192949, 0.64181953,\n",
       "       0.64157676, 0.64104704, 0.63901294, 0.63899365, 0.63862099,\n",
       "       0.63840198, 0.63603445, 0.63601645, 0.63543922, 0.6353589 ,\n",
       "       0.63357296, 0.63317326, 0.63177399, 0.63152005, 0.62940919,\n",
       "       0.62910199, 0.62857167, 0.62817793, 0.62792938, 0.62773655,\n",
       "       0.62712476, 0.62711044, 0.62618687, 0.62592199, 0.62539543,\n",
       "       0.62476567, 0.62367977, 0.62347542, 0.62326101, 0.62321134,\n",
       "       0.62274838, 0.62272345, 0.62228905, 0.62214515, 0.62157051,\n",
       "       0.62125675, 0.62013341, 0.62011945, 0.61902828, 0.61881464,\n",
       "       0.61854917, 0.61840265, 0.61786141, 0.61786089, 0.61735548,\n",
       "       0.61725975, 0.61709007, 0.61688678, 0.61685731, 0.61656256,\n",
       "       0.61611208, 0.61602787, 0.61596678, 0.61586196, 0.61378908,\n",
       "       0.61376184, 0.61366178, 0.61364531, 0.61255488, 0.61243869,\n",
       "       0.61242739, 0.61240583, 0.6107033 , 0.61052645, 0.61002117,\n",
       "       0.60998881, 0.60937495, 0.6088432 , 0.60813127, 0.6081217 ,\n",
       "       0.6078534 , 0.60721009, 0.60718829, 0.60683056, 0.60676999,\n",
       "       0.60645672, 0.60633343, 0.60624224, 0.60580451, 0.60531085,\n",
       "       0.60410128, 0.60368883, 0.60317328, 0.60296148, 0.60255969,\n",
       "       0.60245316, 0.60225939, 0.60225219, 0.60184896, 0.60184308,\n",
       "       0.60172313, 0.6016948 , 0.60131787, 0.60130899, 0.6012474 ,\n",
       "       0.60109408, 0.60107708, 0.60096575, 0.60089474, 0.60087671,\n",
       "       0.600395  , 0.60027765, 0.59871248, 0.59837105, 0.59756456,\n",
       "       0.59744448, 0.59742052, 0.5974109 , 0.5966098 , 0.59656418,\n",
       "       0.59649667, 0.59645423, 0.59618352, 0.59606994, 0.59599007,\n",
       "       0.59561216, 0.59495182, 0.5947724 , 0.5944718 , 0.59444969,\n",
       "       0.59436749, 0.59417715, 0.59002324, 0.58996047, 0.58914078,\n",
       "       0.58913433, 0.58906914, 0.58851144, 0.58809278, 0.58770067,\n",
       "       0.58735   , 0.58734732, 0.58683999, 0.5866306 , 0.58654087,\n",
       "       0.5864359 , 0.58590146, 0.5858673 , 0.58557685, 0.58539923,\n",
       "       0.5852056 , 0.58519668, 0.58473874, 0.58469277, 0.58449949,\n",
       "       0.58438434, 0.58409234, 0.5840744 , 0.58403007, 0.58399685,\n",
       "       0.58363593, 0.58350604, 0.5832479 , 0.58292184, 0.58285949,\n",
       "       0.58283863, 0.58274458, 0.58264995, 0.58249015, 0.58239095,\n",
       "       0.58211334, 0.58196821, 0.58157698, 0.58107907, 0.58070749,\n",
       "       0.58066626, 0.58049952, 0.58024638, 0.57994836, 0.57976269,\n",
       "       0.57960631, 0.57946802, 0.57933188, 0.57925156, 0.57905298,\n",
       "       0.57903795, 0.57903135, 0.5788991 , 0.57877631, 0.57863863,\n",
       "       0.57826788, 0.57812912, 0.57798141, 0.57779954, 0.57672867,\n",
       "       0.57641095, 0.5764028 , 0.57584746, 0.57568556, 0.57565681,\n",
       "       0.57448924, 0.57437677, 0.57424547, 0.57413528, 0.57401919,\n",
       "       0.57395875, 0.57389687, 0.57387763, 0.57372273, 0.57357177,\n",
       "       0.57341676, 0.57313045, 0.57300117, 0.57294726, 0.57289413,\n",
       "       0.57281557, 0.5727184 , 0.57256117, 0.57204068, 0.57203869,\n",
       "       0.5716173 , 0.57159719, 0.57068048, 0.5705012 , 0.57031417,\n",
       "       0.57020809, 0.57002918, 0.56970399, 0.56909253, 0.56907201,\n",
       "       0.56905576, 0.56901599, 0.56777493, 0.5676117 , 0.56728204,\n",
       "       0.56716045, 0.56681976, 0.56680591, 0.56663754, 0.56660771,\n",
       "       0.5659674 , 0.56569543, 0.56530357, 0.56527823, 0.56498769,\n",
       "       0.56439812, 0.56355876, 0.56350079, 0.56301096, 0.56293429,\n",
       "       0.56289241, 0.5627799 , 0.56225799, 0.56220696, 0.56212595,\n",
       "       0.56187292, 0.56161727, 0.56146591, 0.56142337, 0.56126288,\n",
       "       0.56069201, 0.56063525, 0.5606056 , 0.5605701 , 0.55991986,\n",
       "       0.5598456 , 0.55902702, 0.55899915, 0.55783179, 0.55748508,\n",
       "       0.55746601, 0.55743308, 0.55733056, 0.55693496, 0.55685798,\n",
       "       0.55680379, 0.55672721, 0.55672159, 0.55622364, 0.55606408,\n",
       "       0.55584557, 0.55583721, 0.55567874, 0.55562784, 0.55551133,\n",
       "       0.55521707, 0.55477576, 0.55465959, 0.5546327 , 0.55433436,\n",
       "       0.55431805, 0.55370556, 0.55354492, 0.55353067, 0.5534282 ,\n",
       "       0.55342206, 0.55332124, 0.55331502, 0.55330968, 0.55319081,\n",
       "       0.55243838, 0.55230165, 0.55214232, 0.55213075, 0.55196206,\n",
       "       0.55178926, 0.5516679 , 0.55141022, 0.55133854, 0.55131249,\n",
       "       0.55121954, 0.55089298, 0.55088746, 0.55085614, 0.55026815,\n",
       "       0.55025783, 0.54978828, 0.54973845, 0.54952328, 0.54948616,\n",
       "       0.54823088, 0.54804654, 0.5478391 , 0.54774426, 0.54762056,\n",
       "       0.54753984, 0.54744795, 0.547282  , 0.5468635 , 0.54648407,\n",
       "       0.54647393, 0.5464252 , 0.54641722, 0.54629134, 0.54590894,\n",
       "       0.54533553, 0.54530911, 0.54508615, 0.54505143, 0.54501632,\n",
       "       0.54484685, 0.54480677, 0.54474743, 0.54456273, 0.54436752,\n",
       "       0.54433097, 0.54423321, 0.54420923, 0.54405786, 0.54397422,\n",
       "       0.54389133, 0.54378204, 0.54349415, 0.54347051, 0.54330628,\n",
       "       0.54322658, 0.54312537, 0.5429495 , 0.54275252, 0.54272296,\n",
       "       0.54173993, 0.54166297, 0.54156256, 0.54151362, 0.54102466,\n",
       "       0.54027761, 0.54001754, 0.53992743, 0.53962199, 0.53954528,\n",
       "       0.53930135, 0.53927828, 0.53898763, 0.53883447, 0.53878106,\n",
       "       0.53866927, 0.53859417, 0.53807784, 0.53782352, 0.53763705,\n",
       "       0.53762882, 0.53739231, 0.53736297, 0.53727577, 0.53721334,\n",
       "       0.53721167, 0.5371823 , 0.53717575, 0.53704358, 0.53698593,\n",
       "       0.53691537, 0.53687304, 0.53658199, 0.53654032, 0.5364735 ,\n",
       "       0.53641116, 0.53602139, 0.53601508, 0.53588636, 0.53582591,\n",
       "       0.53559226, 0.53555982, 0.53549033, 0.53526129, 0.53501781,\n",
       "       0.53496242, 0.53475225, 0.53474632, 0.53438274, 0.53433967,\n",
       "       0.53404331, 0.53371089, 0.53354803, 0.53313639, 0.53300561,\n",
       "       0.53277559, 0.53250612, 0.53230285, 0.5321684 , 0.53176445,\n",
       "       0.53076793, 0.53060088, 0.5301622 , 0.53012117, 0.52996001,\n",
       "       0.52994133, 0.52991405, 0.52975044, 0.52961323, 0.52941068,\n",
       "       0.52888949, 0.52870304, 0.52851299, 0.52845488, 0.52820805,\n",
       "       0.52787142, 0.52779657, 0.52726834, 0.52719049, 0.52712241,\n",
       "       0.52711674, 0.52705896, 0.52689356, 0.52687796, 0.52682944,\n",
       "       0.52627851, 0.52610604, 0.52597985, 0.52584531, 0.52555265,\n",
       "       0.52532036, 0.52524558, 0.5250506 , 0.52461763, 0.52459445,\n",
       "       0.52448333, 0.52445757, 0.52441603, 0.52350365, 0.52339288,\n",
       "       0.52288661, 0.52224381, 0.52209261, 0.52208472, 0.52172113,\n",
       "       0.52165058, 0.52124966, 0.5211026 , 0.52076974, 0.52057824,\n",
       "       0.52052107, 0.5204013 , 0.51999782, 0.51994562, 0.51978591,\n",
       "       0.51968124, 0.51871935, 0.51832162, 0.51829849, 0.51821525,\n",
       "       0.51820467, 0.5180203 , 0.51778426, 0.51766799, 0.51725681,\n",
       "       0.51714792, 0.51674543, 0.5163996 , 0.51623304, 0.51592502,\n",
       "       0.51558344, 0.51551388, 0.51507427, 0.51505768, 0.51497007,\n",
       "       0.51494081, 0.51423676, 0.51358818, 0.51313838, 0.51288228,\n",
       "       0.51282932, 0.51269319, 0.51260057, 0.51256132, 0.51247357,\n",
       "       0.51246747, 0.51209018, 0.51173217, 0.5103695 , 0.5101649 ,\n",
       "       0.509825  , 0.5095489 , 0.50953246, 0.50953166, 0.50934415,\n",
       "       0.50915644, 0.5089523 , 0.50893779, 0.50847966, 0.50832956,\n",
       "       0.50760396, 0.50734304, 0.50724565, 0.50720282, 0.50646233,\n",
       "       0.50642874, 0.5063514 , 0.50629039, 0.50625663, 0.50597114,\n",
       "       0.50588499, 0.50545412, 0.50512233, 0.50460413, 0.50459408,\n",
       "       0.50428317, 0.5042294 , 0.5040224 , 0.50393181, 0.50388702,\n",
       "       0.50372095, 0.50313824, 0.50277496, 0.50265169, 0.50231442,\n",
       "       0.50194885, 0.50154102, 0.50152666, 0.50123176, 0.50117888,\n",
       "       0.50094687, 0.50086329, 0.50080248, 0.50053637, 0.50028278,\n",
       "       0.50019622, 0.50007525, 0.49986466, 0.49966545, 0.49961522,\n",
       "       0.49926239, 0.49924955, 0.49923301, 0.49916611, 0.49880092,\n",
       "       0.49861358, 0.49840279, 0.49782276, 0.49709158, 0.49705248,\n",
       "       0.49698699, 0.49670477, 0.4964198 , 0.49636744, 0.49635959,\n",
       "       0.49602736, 0.49568141, 0.49565952, 0.49531568, 0.49474023,\n",
       "       0.49455695, 0.49454915, 0.49451631, 0.49443821, 0.49429872,\n",
       "       0.49401005, 0.49336867, 0.49292349, 0.49264417, 0.49224354,\n",
       "       0.4920027 , 0.49199608, 0.49194871, 0.49175648, 0.49147756,\n",
       "       0.49133293, 0.49125425, 0.49112513, 0.49089523, 0.49083403,\n",
       "       0.49080798, 0.49018548, 0.48996741, 0.489961  , 0.48948652,\n",
       "       0.48879952, 0.48872215, 0.48836357, 0.48790164, 0.4877859 ,\n",
       "       0.48697641, 0.48690625, 0.48670525, 0.48666841, 0.48623378,\n",
       "       0.48598312, 0.48590096, 0.48563352, 0.4856218 , 0.48521238,\n",
       "       0.48465102, 0.48441057, 0.48419809, 0.48414126, 0.48360346,\n",
       "       0.48345192, 0.48289812, 0.48211341, 0.48162907, 0.48146413,\n",
       "       0.48141466, 0.48126636, 0.48121975, 0.48110068, 0.48081027,\n",
       "       0.48069805, 0.48056926, 0.48049433, 0.47924991, 0.47919014,\n",
       "       0.47912311, 0.47896013, 0.47726167, 0.47705667, 0.47488899,\n",
       "       0.47448571, 0.47330597, 0.47131801, 0.47087556, 0.47060149,\n",
       "       0.4701977 , 0.46993428, 0.46985741, 0.46985426, 0.46981714,\n",
       "       0.46948903, 0.46943479, 0.46918298, 0.46877073, 0.46832985,\n",
       "       0.46799541, 0.46706476, 0.46701714, 0.46698377, 0.46690773,\n",
       "       0.46678491, 0.46650867, 0.46433657, 0.46348338, 0.46264741,\n",
       "       0.46237073, 0.46226226, 0.46162067, 0.46157508, 0.46109371,\n",
       "       0.46092125, 0.46054755, 0.46011692, 0.45993338, 0.4593186 ,\n",
       "       0.45894691, 0.4586801 , 0.45865028, 0.45760096, 0.45686436,\n",
       "       0.45673093, 0.45559477, 0.45508379, 0.4549375 , 0.45487326,\n",
       "       0.45224073, 0.45215456, 0.45187534, 0.45147274, 0.45040973,\n",
       "       0.44981526, 0.44931244, 0.44924672, 0.44779861, 0.44777285,\n",
       "       0.44684341, 0.44675388, 0.44602687, 0.44593212, 0.44554145,\n",
       "       0.44539154, 0.44491358, 0.44481503, 0.44471747, 0.44457842,\n",
       "       0.44435471, 0.44268451, 0.44155736, 0.44068145, 0.44063889,\n",
       "       0.44061838, 0.43905066, 0.43869937, 0.437973  , 0.43746914,\n",
       "       0.43696182, 0.43562908, 0.43546146, 0.43511228, 0.43412623,\n",
       "       0.43242082, 0.43143636, 0.43129761, 0.43038751, 0.4302688 ,\n",
       "       0.42724146, 0.42259174, 0.42256278, 0.42254562, 0.42226624,\n",
       "       0.42070131, 0.42043894, 0.42013709, 0.41915848, 0.41849781,\n",
       "       0.41640531, 0.41388208, 0.41341473, 0.41259499, 0.40725359,\n",
       "       0.40560545, 0.40353276, 0.39791265, 0.39564185, 0.39441363,\n",
       "       0.39108853, 0.39104859, 0.38940596, 0.38688675, 0.38303099,\n",
       "       0.38287993, 0.37753863, 0.3774388 , 0.37502777, 0.37364688,\n",
       "       0.37127657, 0.37115681, 0.36827087, 0.35983262, 0.34693507,\n",
       "       0.34480352, 0.34113858, 0.33528754, 0.33498127, 0.33132481,\n",
       "       0.32283946, 0.32019999, 0.30739887, 0.23265262])"
      ]
     },
     "execution_count": 59,
     "metadata": {},
     "output_type": "execute_result"
    }
   ],
   "source": [
    "thresholds"
   ]
  },
  {
   "cell_type": "code",
   "execution_count": 60,
   "metadata": {},
   "outputs": [
    {
     "data": {
      "text/plain": [
       "array([<Axes: title={'center': '0'}>, <Axes: title={'center': '1'}>],\n",
       "      dtype=object)"
      ]
     },
     "execution_count": 60,
     "metadata": {},
     "output_type": "execute_result"
    },
    {
     "data": {
      "image/png": "[encoded data removed]",
      "text/plain": [
       "<Figure size 640x480 with 2 Axes>"
      ]
     },
     "metadata": {},
     "output_type": "display_data"
    }
   ],
   "source": [
    "dprob = pd.DataFrame(data = {'probability':y_pred_prob_Forest, 'actual':y_test})\n",
    "dprob.probability.hist(by=dprob.actual, sharex=True, sharey=True)"
   ]
  },
  {
   "cell_type": "code",
   "execution_count": 61,
   "metadata": {},
   "outputs": [
    {
     "name": "stdout",
     "output_type": "stream",
     "text": [
      "Sensitivity: 0.7913486005089059\n",
      "Recall: 0.3191489361702128\n"
     ]
    }
   ],
   "source": [
    "op_thres_Random = 0.5\n",
    "\n",
    "evaluate_threshold(op_thres_Random)"
   ]
  },
  {
   "cell_type": "code",
   "execution_count": 62,
   "metadata": {},
   "outputs": [],
   "source": [
    "probs_For_opt = final_Forest.predict_proba(X_model_test)[:, 1]  \n",
    "pred_thres_For_opt = (probs_For_opt >= op_thres_Random).astype(int) "
   ]
  },
  {
   "cell_type": "code",
   "execution_count": 63,
   "metadata": {},
   "outputs": [
    {
     "name": "stdout",
     "output_type": "stream",
     "text": [
      "[[195 416]\n",
      " [246 933]]\n"
     ]
    }
   ],
   "source": [
    "print(confusion_matrix(expected, pred_thres_For_opt))"
   ]
  },
  {
   "cell_type": "code",
   "execution_count": 64,
   "metadata": {},
   "outputs": [
    {
     "name": "stdout",
     "output_type": "stream",
     "text": [
      "              precision    recall  f1-score   support\n",
      "\n",
      "           0       0.44      0.32      0.37       611\n",
      "           1       0.69      0.79      0.74      1179\n",
      "\n",
      "    accuracy                           0.63      1790\n",
      "   macro avg       0.57      0.56      0.55      1790\n",
      "weighted avg       0.61      0.63      0.61      1790\n",
      "\n"
     ]
    }
   ],
   "source": [
    "print(classification_report(expected, pred_thres_For_opt))"
   ]
  },
  {
   "cell_type": "markdown",
   "metadata": {},
   "source": [
    "Se obtienen los mismos resultados porque sigue siendo el mejor caso con umbral igual a 0,5."
   ]
  },
  {
   "cell_type": "markdown",
   "metadata": {},
   "source": [
    "Se calcula la AUC score."
   ]
  },
  {
   "cell_type": "code",
   "execution_count": 65,
   "metadata": {},
   "outputs": [
    {
     "name": "stdout",
     "output_type": "stream",
     "text": [
      "0.5552487683395593\n"
     ]
    }
   ],
   "source": [
    "print(roc_auc_score(expected, predicted_For_opt))"
   ]
  },
  {
   "cell_type": "markdown",
   "metadata": {},
   "source": [
    "También ha tenido una pequeña mejora, pero sigue en el mismo intervalo. Es decir, sigue siendo un modelo *F*."
   ]
  },
  {
   "cell_type": "markdown",
   "metadata": {},
   "source": [
    "### 7.3.8 Conclusiones del modelo"
   ]
  },
  {
   "cell_type": "markdown",
   "metadata": {},
   "source": [
    "Tal y como esta el modelo no se estan obteniendo buenos resultados debido a la escasez de entradas y la gran cantidad de dimensiones que presenta el dataset. Estamos obteniendo prácticamente los mismos resultados que si decidieramos clasificar al azar."
   ]
  },
  {
   "cell_type": "markdown",
   "metadata": {},
   "source": [
    "## 7.4 Clasificador GradientBoosting"
   ]
  },
  {
   "cell_type": "markdown",
   "metadata": {},
   "source": [
    "### 7.4.1 Definicion"
   ]
  },
  {
   "cell_type": "markdown",
   "metadata": {},
   "source": [
    "Definimos el modelo con el hiperparámetro *random_state* fijado."
   ]
  },
  {
   "cell_type": "code",
   "execution_count": 66,
   "metadata": {},
   "outputs": [],
   "source": [
    "model_GBC = GradientBoostingClassifier(random_state=seed)"
   ]
  },
  {
   "cell_type": "markdown",
   "metadata": {},
   "source": [
    "### 7.4.2 Entrenamiento y evaluacion"
   ]
  },
  {
   "cell_type": "markdown",
   "metadata": {},
   "source": [
    "Entrenamos el modelo y comprobamos su exactitud.\n"
   ]
  },
  {
   "cell_type": "code",
   "execution_count": null,
   "metadata": {},
   "outputs": [],
   "source": [
    "model_GBC.fit(X_model, y_model)\n",
    "\n",
    "predicted_GBC = model_GBC.predict(X_model_test)"
   ]
  },
  {
   "cell_type": "code",
   "execution_count": null,
   "metadata": {},
   "outputs": [
    {
     "data": {
      "text/plain": [
       "0.6"
      ]
     },
     "execution_count": 264,
     "metadata": {},
     "output_type": "execute_result"
    }
   ],
   "source": [
    "accuracy_score(expected, predicted_GBC)"
   ]
  },
  {
   "cell_type": "markdown",
   "metadata": {},
   "source": [
    "### 7.4.3 Null accuracy"
   ]
  },
  {
   "cell_type": "markdown",
   "metadata": {},
   "source": [
    "Nuestra exactitud es de 0.6, la cual es peor que la *null accuracy*, es decir, ahora mismo no tenemos un buen modelo ya que se predecirían un mayor número de resultados en el caso de siempre predecir la clase mayoritaria."
   ]
  },
  {
   "cell_type": "markdown",
   "metadata": {},
   "source": [
    "### 7.4.4 Matriz de confusion y F-score"
   ]
  },
  {
   "cell_type": "markdown",
   "metadata": {},
   "source": [
    "Se muestra la matriz de confusión y el informe de clasificación."
   ]
  },
  {
   "cell_type": "code",
   "execution_count": null,
   "metadata": {},
   "outputs": [
    {
     "name": "stdout",
     "output_type": "stream",
     "text": [
      "[[264 347]\n",
      " [369 810]]\n"
     ]
    }
   ],
   "source": [
    "print(confusion_matrix(expected, predicted_GBC))"
   ]
  },
  {
   "cell_type": "code",
   "execution_count": null,
   "metadata": {},
   "outputs": [
    {
     "name": "stdout",
     "output_type": "stream",
     "text": [
      "              precision    recall  f1-score   support\n",
      "\n",
      "           0       0.42      0.43      0.42       611\n",
      "           1       0.70      0.69      0.69      1179\n",
      "\n",
      "    accuracy                           0.60      1790\n",
      "   macro avg       0.56      0.56      0.56      1790\n",
      "weighted avg       0.60      0.60      0.60      1790\n",
      "\n"
     ]
    }
   ],
   "source": [
    "print(classification_report(expected, predicted_GBC))"
   ]
  },
  {
   "cell_type": "markdown",
   "metadata": {},
   "source": [
    "Se observa que estamos identificando erroneamente los 0s ya que tenemos un f1-score del 0.69 para los 1s mientras que estamos obteniendo un 0.42 para los 0s."
   ]
  },
  {
   "cell_type": "markdown",
   "metadata": {},
   "source": [
    "### 7.4.5 ROC y AUC"
   ]
  },
  {
   "cell_type": "code",
   "execution_count": null,
   "metadata": {},
   "outputs": [
    {
     "data": {
      "image/png": "[encoded data removed]",
      "text/plain": [
       "<Figure size 640x480 with 1 Axes>"
      ]
     },
     "metadata": {},
     "output_type": "display_data"
    }
   ],
   "source": [
    "y_pred_prob_GBC = model_GBC.predict_proba(X_model_test)[:,1]\n",
    "fpr, tpr, thresholds = roc_curve(expected, y_pred_prob_GBC)\n",
    "plt.plot(fpr, tpr)\n",
    "plt.xlim([0.0, 1.0])\n",
    "plt.ylim([0.0, 1.0])\n",
    "plt.title('Curva ROC')\n",
    "plt.xlabel('Ratio de FP (1 - Recall)')\n",
    "plt.ylabel('Ratio TP (Sensitivity)')\n",
    "plt.grid(True)\n",
    "plt.show()"
   ]
  },
  {
   "cell_type": "markdown",
   "metadata": {},
   "source": [
    "Y mostramos sus thresholds."
   ]
  },
  {
   "cell_type": "code",
   "execution_count": null,
   "metadata": {},
   "outputs": [
    {
     "data": {
      "text/plain": [
       "array([       inf, 0.87747631, 0.81963937, 0.81678302, 0.81515265,\n",
       "       0.80900465, 0.80536455, 0.80131358, 0.78929443, 0.78765792,\n",
       "       0.77902456, 0.77803979, 0.77444914, 0.77337616, 0.7726755 ,\n",
       "       0.77102542, 0.75280025, 0.75275985, 0.74580527, 0.74492692,\n",
       "       0.74232951, 0.74128734, 0.74069442, 0.74048948, 0.73697692,\n",
       "       0.73695932, 0.72947029, 0.72939559, 0.72383892, 0.72339464,\n",
       "       0.72067336, 0.72002355, 0.71738493, 0.71705165, 0.71660552,\n",
       "       0.71650591, 0.71303881, 0.71274753, 0.71192412, 0.71173121,\n",
       "       0.71118202, 0.71113116, 0.71100426, 0.71098584, 0.71017385,\n",
       "       0.70973865, 0.70079397, 0.69978321, 0.69797365, 0.69785538,\n",
       "       0.69702635, 0.69664876, 0.69549099, 0.69537348, 0.69511651,\n",
       "       0.69448956, 0.69417842, 0.69414066, 0.69335616, 0.69245734,\n",
       "       0.68955604, 0.68911588, 0.6884213 , 0.68690188, 0.68688511,\n",
       "       0.68685247, 0.68529666, 0.68529066, 0.68447835, 0.68378589,\n",
       "       0.67990985, 0.67981079, 0.67826517, 0.6780333 , 0.67783211,\n",
       "       0.67762317, 0.67592583, 0.67518448, 0.67480273, 0.67478895,\n",
       "       0.67400206, 0.67373306, 0.67256942, 0.67181421, 0.66925192,\n",
       "       0.66861793, 0.66778834, 0.667606  , 0.66674287, 0.66612166,\n",
       "       0.66557007, 0.66546522, 0.66240789, 0.66231259, 0.66138293,\n",
       "       0.6608057 , 0.66033312, 0.65984782, 0.65949851, 0.6594884 ,\n",
       "       0.65919299, 0.65811605, 0.65759361, 0.65725029, 0.65696199,\n",
       "       0.65688154, 0.65634621, 0.65613294, 0.65591194, 0.65586852,\n",
       "       0.65466933, 0.65459366, 0.65446737, 0.65443052, 0.65377917,\n",
       "       0.65344554, 0.65302605, 0.65277011, 0.65249776, 0.65224885,\n",
       "       0.65193296, 0.65192615, 0.65159413, 0.65130597, 0.64926695,\n",
       "       0.64892574, 0.6481496 , 0.64778772, 0.64632849, 0.64632695,\n",
       "       0.64560497, 0.645348  , 0.64471964, 0.64415531, 0.64339127,\n",
       "       0.64310937, 0.64308753, 0.6429591 , 0.64203154, 0.64167213,\n",
       "       0.64155624, 0.64151249, 0.63974228, 0.63953794, 0.63944647,\n",
       "       0.63920249, 0.63893715, 0.63889629, 0.63849911, 0.63798788,\n",
       "       0.63736671, 0.6364652 , 0.63460142, 0.63411373, 0.63385998,\n",
       "       0.6338293 , 0.63381791, 0.63322402, 0.63280136, 0.63232997,\n",
       "       0.6308642 , 0.63085842, 0.63077189, 0.63059063, 0.63055583,\n",
       "       0.63024327, 0.63003329, 0.6297334 , 0.62924761, 0.62907902,\n",
       "       0.62874518, 0.6283843 , 0.62828569, 0.62759541, 0.62734925,\n",
       "       0.62685887, 0.62665577, 0.62576838, 0.62559588, 0.62558437,\n",
       "       0.62304368, 0.62304004, 0.62134436, 0.62119774, 0.62011892,\n",
       "       0.62001884, 0.61947193, 0.61870393, 0.61821051, 0.61742158,\n",
       "       0.61680291, 0.61666222, 0.61589981, 0.61581832, 0.61447992,\n",
       "       0.61404822, 0.61401428, 0.61337229, 0.61328412, 0.61324837,\n",
       "       0.61323254, 0.61305843, 0.61109205, 0.61103149, 0.61020261,\n",
       "       0.61002878, 0.60968022, 0.60964277, 0.6088781 , 0.60860185,\n",
       "       0.60801977, 0.60797952, 0.60721041, 0.60707288, 0.60511796,\n",
       "       0.60471662, 0.60332105, 0.60293289, 0.60288636, 0.60277102,\n",
       "       0.60135688, 0.60132379, 0.60125324, 0.60118629, 0.59980457,\n",
       "       0.59943581, 0.59935833, 0.59914894, 0.59790935, 0.59733261,\n",
       "       0.59623136, 0.59580111, 0.59478244, 0.59455152, 0.59419084,\n",
       "       0.59408298, 0.59402471, 0.5939617 , 0.59257563, 0.59217299,\n",
       "       0.59215501, 0.59151491, 0.59115262, 0.59108052, 0.59094922,\n",
       "       0.59088872, 0.58920517, 0.58908041, 0.58854704, 0.5884352 ,\n",
       "       0.58735848, 0.58718383, 0.58663222, 0.58610747, 0.58497503,\n",
       "       0.58472414, 0.58454759, 0.58442561, 0.58348896, 0.58347668,\n",
       "       0.58312333, 0.5829094 , 0.58248042, 0.58221481, 0.58192679,\n",
       "       0.58188815, 0.58007981, 0.57988216, 0.57742158, 0.57730968,\n",
       "       0.57726146, 0.5769362 , 0.57651858, 0.57621587, 0.57576686,\n",
       "       0.57511887, 0.57434117, 0.57396931, 0.57388679, 0.57325747,\n",
       "       0.57242133, 0.57235184, 0.5717439 , 0.57113429, 0.5703738 ,\n",
       "       0.5702427 , 0.5702381 , 0.57020468, 0.57005812, 0.56987722,\n",
       "       0.56952829, 0.56930397, 0.56889199, 0.56849464, 0.56829189,\n",
       "       0.56806809, 0.56737292, 0.56708717, 0.56674017, 0.56651741,\n",
       "       0.5656228 , 0.56547243, 0.56530316, 0.56502896, 0.56461094,\n",
       "       0.56411724, 0.56406921, 0.56402602, 0.56385793, 0.56372933,\n",
       "       0.56316585, 0.5624392 , 0.56237904, 0.5622466 , 0.56216764,\n",
       "       0.56199557, 0.56018553, 0.56017941, 0.55997775, 0.55970772,\n",
       "       0.55931413, 0.55931367, 0.55860087, 0.55820901, 0.55802371,\n",
       "       0.55721368, 0.55607586, 0.55602154, 0.55600998, 0.55590202,\n",
       "       0.55587919, 0.55548808, 0.555405  , 0.55527386, 0.55462965,\n",
       "       0.55461993, 0.55384916, 0.55380262, 0.55379311, 0.55378286,\n",
       "       0.55374999, 0.55372708, 0.55368224, 0.55339438, 0.55326386,\n",
       "       0.55296337, 0.55284247, 0.55259087, 0.55252266, 0.55200862,\n",
       "       0.55124705, 0.55123136, 0.55059678, 0.55029296, 0.5493576 ,\n",
       "       0.549345  , 0.54911334, 0.54901907, 0.54822612, 0.54805623,\n",
       "       0.54790725, 0.54777065, 0.54762373, 0.54762169, 0.5474722 ,\n",
       "       0.54742387, 0.54701849, 0.54677047, 0.54577778, 0.54569102,\n",
       "       0.54420676, 0.54397939, 0.54361114, 0.54345558, 0.54294958,\n",
       "       0.54277346, 0.54234188, 0.54132714, 0.54094754, 0.54052206,\n",
       "       0.54013465, 0.54005144, 0.53910861, 0.5380828 , 0.53670175,\n",
       "       0.53661614, 0.53599996, 0.53598059, 0.53573813, 0.5356084 ,\n",
       "       0.53536077, 0.53528754, 0.53522782, 0.53488078, 0.53433737,\n",
       "       0.53431033, 0.53365501, 0.53362107, 0.53353969, 0.5334737 ,\n",
       "       0.53278393, 0.53242711, 0.53225099, 0.53224263, 0.53134368,\n",
       "       0.53109343, 0.53077886, 0.53069633, 0.53065483, 0.53064063,\n",
       "       0.53032721, 0.5301991 , 0.52955749, 0.52928143, 0.52905374,\n",
       "       0.52839643, 0.52680931, 0.52662027, 0.52510213, 0.52501027,\n",
       "       0.52339815, 0.52300793, 0.52268835, 0.52266459, 0.52251711,\n",
       "       0.52205723, 0.52180339, 0.52140869, 0.52116454, 0.52068377,\n",
       "       0.5205181 , 0.5205096 , 0.5202459 , 0.52018076, 0.51992629,\n",
       "       0.51978525, 0.51913799, 0.51818582, 0.51730332, 0.51720338,\n",
       "       0.5168669 , 0.51609153, 0.5160295 , 0.51533883, 0.51481351,\n",
       "       0.51478562, 0.51475979, 0.51460544, 0.51451605, 0.51422292,\n",
       "       0.5141495 , 0.51394903, 0.51275836, 0.51272679, 0.51131834,\n",
       "       0.51054631, 0.50989446, 0.50987233, 0.5097816 , 0.50963736,\n",
       "       0.50949485, 0.50918467, 0.50879495, 0.50774894, 0.50771632,\n",
       "       0.50741956, 0.50736788, 0.50655783, 0.50623438, 0.50574128,\n",
       "       0.50537359, 0.50497575, 0.50462199, 0.50429065, 0.50415265,\n",
       "       0.50406557, 0.50390796, 0.50383353, 0.5033654 , 0.50328574,\n",
       "       0.50326749, 0.50326311, 0.50310988, 0.50301031, 0.50190148,\n",
       "       0.50179412, 0.50121597, 0.50091962, 0.50058071, 0.50049603,\n",
       "       0.49951093, 0.4994021 , 0.49910341, 0.49868838, 0.49853854,\n",
       "       0.49825901, 0.4967072 , 0.49641952, 0.49632949, 0.49594383,\n",
       "       0.49589569, 0.49565916, 0.49561361, 0.49547618, 0.49522954,\n",
       "       0.49498927, 0.49413877, 0.49412055, 0.49360599, 0.49356261,\n",
       "       0.49334672, 0.4932339 , 0.49308463, 0.49292182, 0.49224904,\n",
       "       0.49223098, 0.49169986, 0.49158472, 0.4910754 , 0.49075118,\n",
       "       0.48998915, 0.48959306, 0.48947585, 0.48899001, 0.48870893,\n",
       "       0.48834489, 0.4879796 , 0.48788913, 0.48784617, 0.4876297 ,\n",
       "       0.48749219, 0.48657541, 0.48619493, 0.48566666, 0.48543438,\n",
       "       0.48509104, 0.48351517, 0.48293189, 0.48282032, 0.48272266,\n",
       "       0.48235985, 0.48225914, 0.48117239, 0.48112206, 0.48108853,\n",
       "       0.48085154, 0.48074743, 0.48047793, 0.47995372, 0.47977433,\n",
       "       0.47973488, 0.47969553, 0.47918309, 0.47849914, 0.47817602,\n",
       "       0.4781681 , 0.47814886, 0.47790436, 0.47787153, 0.47691475,\n",
       "       0.47627251, 0.47587066, 0.47559879, 0.47496357, 0.47352872,\n",
       "       0.47350421, 0.47260183, 0.47259469, 0.47182203, 0.47178857,\n",
       "       0.47166575, 0.47130869, 0.47106062, 0.47088479, 0.47065777,\n",
       "       0.47060478, 0.4705568 , 0.47049396, 0.47040219, 0.47026673,\n",
       "       0.47011679, 0.46901025, 0.46867315, 0.46862237, 0.46843593,\n",
       "       0.46839046, 0.46779092, 0.46769209, 0.46759265, 0.46713434,\n",
       "       0.46691391, 0.46655454, 0.46490754, 0.46451337, 0.46371258,\n",
       "       0.46364065, 0.46240536, 0.46210242, 0.46140982, 0.46138651,\n",
       "       0.46052408, 0.46016689, 0.46009327, 0.46004127, 0.46000923,\n",
       "       0.45988146, 0.45986968, 0.45977755, 0.45976585, 0.45976486,\n",
       "       0.45946267, 0.45932914, 0.45871079, 0.45810498, 0.45797253,\n",
       "       0.45795803, 0.45722826, 0.45692563, 0.45523574, 0.45523492,\n",
       "       0.45261863, 0.45164416, 0.45112348, 0.45095367, 0.45052665,\n",
       "       0.45020521, 0.45008203, 0.449286  , 0.4491091 , 0.4486957 ,\n",
       "       0.44864729, 0.44833242, 0.44797991, 0.44741786, 0.44735474,\n",
       "       0.44674924, 0.44630421, 0.44620107, 0.44607414, 0.44567379,\n",
       "       0.44545277, 0.44426157, 0.44193109, 0.44132041, 0.44105124,\n",
       "       0.4405508 , 0.44030951, 0.44006732, 0.43982875, 0.43952547,\n",
       "       0.43881346, 0.43794356, 0.43678227, 0.43615503, 0.43605674,\n",
       "       0.43586651, 0.43569175, 0.43446474, 0.43428258, 0.43393209,\n",
       "       0.43362165, 0.43344079, 0.4333504 , 0.43331696, 0.43191592,\n",
       "       0.43178321, 0.4315209 , 0.43127363, 0.43093117, 0.43053319,\n",
       "       0.42972478, 0.42910472, 0.42846044, 0.42831098, 0.42762648,\n",
       "       0.42758327, 0.42732703, 0.42677949, 0.42676371, 0.42641218,\n",
       "       0.42596464, 0.42517515, 0.42480254, 0.42479891, 0.42456995,\n",
       "       0.42379793, 0.42370947, 0.423498  , 0.42180127, 0.42179354,\n",
       "       0.42163156, 0.42102792, 0.42095712, 0.42054334, 0.41967209,\n",
       "       0.41928169, 0.41894489, 0.41859082, 0.41840122, 0.41827736,\n",
       "       0.41746246, 0.41744179, 0.4173098 , 0.41703728, 0.41702159,\n",
       "       0.41666496, 0.41608117, 0.41544523, 0.41489656, 0.41474648,\n",
       "       0.4144125 , 0.4143409 , 0.41397713, 0.41318058, 0.41131836,\n",
       "       0.41105824, 0.40926386, 0.40911273, 0.40852306, 0.40736503,\n",
       "       0.40580296, 0.40578113, 0.40540092, 0.40482806, 0.40393347,\n",
       "       0.40370328, 0.40262691, 0.40247162, 0.40189539, 0.40019281,\n",
       "       0.40005099, 0.39938823, 0.39829794, 0.39810498, 0.39776461,\n",
       "       0.3963349 , 0.39580244, 0.3957052 , 0.39485554, 0.3946409 ,\n",
       "       0.39307216, 0.39279807, 0.39273915, 0.39151041, 0.39054387,\n",
       "       0.38947167, 0.38908342, 0.38827337, 0.38826061, 0.38812245,\n",
       "       0.38804664, 0.38797818, 0.38734648, 0.38679352, 0.38547597,\n",
       "       0.38530844, 0.3846296 , 0.3831545 , 0.382068  , 0.38093333,\n",
       "       0.38012381, 0.379905  , 0.37805477, 0.37471441, 0.3741894 ,\n",
       "       0.3737231 , 0.37332456, 0.37216576, 0.37179143, 0.37126119,\n",
       "       0.36801075, 0.36732467, 0.3648552 , 0.36392716, 0.36354988,\n",
       "       0.36264495, 0.36172004, 0.36127853, 0.36057333, 0.35886814,\n",
       "       0.35697522, 0.35670058, 0.35642937, 0.35182373, 0.35065266,\n",
       "       0.3506441 , 0.34762731, 0.345423  , 0.34470715, 0.3445661 ,\n",
       "       0.34117905, 0.34048693, 0.33824091, 0.33810965, 0.33803461,\n",
       "       0.33716658, 0.33709286, 0.33389227, 0.33296756, 0.33190586,\n",
       "       0.33187124, 0.32585694, 0.32578231, 0.3238775 , 0.32137387,\n",
       "       0.31878751, 0.31435566, 0.31121306, 0.3050697 , 0.26382857])"
      ]
     },
     "execution_count": 268,
     "metadata": {},
     "output_type": "execute_result"
    }
   ],
   "source": [
    "thresholds"
   ]
  },
  {
   "cell_type": "markdown",
   "metadata": {},
   "source": [
    "Como se observa el resultado no es bueno ya que estamos obteniendo practicamente una recta en vez de una curva en forma de 'L' invertida."
   ]
  },
  {
   "cell_type": "markdown",
   "metadata": {},
   "source": [
    "La siguiente gráfica muestra las probabilidades de predicción en función de los umbrales."
   ]
  },
  {
   "cell_type": "code",
   "execution_count": null,
   "metadata": {},
   "outputs": [
    {
     "data": {
      "text/plain": [
       "array([<Axes: title={'center': '0'}>, <Axes: title={'center': '1'}>],\n",
       "      dtype=object)"
      ]
     },
     "execution_count": 269,
     "metadata": {},
     "output_type": "execute_result"
    },
    {
     "data": {
      "image/png": "[encoded data removed]",
      "text/plain": [
       "<Figure size 640x480 with 2 Axes>"
      ]
     },
     "metadata": {},
     "output_type": "display_data"
    }
   ],
   "source": [
    "dprob = pd.DataFrame(data = {'probability':y_pred_prob_GBC, 'actual':y_test})\n",
    "dprob.probability.hist(by=dprob.actual, sharex=True, sharey=True)"
   ]
  },
  {
   "cell_type": "markdown",
   "metadata": {},
   "source": [
    "Se muestra que los mejores resultados para ambas clases se obtiene con el *threshold* igual a 0.5 aproximandamente (es decir, el valor por defecto)."
   ]
  },
  {
   "cell_type": "code",
   "execution_count": 693,
   "metadata": {},
   "outputs": [
    {
     "name": "stdout",
     "output_type": "stream",
     "text": [
      "Sensitivity: 0.8295165394402035\n",
      "Recall: 0.2880523731587561\n"
     ]
    }
   ],
   "source": [
    "best_thres_Random = 0.45\n",
    "\n",
    "evaluate_threshold(best_thres_Random)"
   ]
  },
  {
   "cell_type": "markdown",
   "metadata": {},
   "source": [
    "Con este valor se obtienen los siguientes resultados. Primero se recalculan las predicciones."
   ]
  },
  {
   "cell_type": "code",
   "execution_count": null,
   "metadata": {},
   "outputs": [],
   "source": [
    "probs_GBC = model_GBC.predict_proba(X_model_test)[:, 1]  \n",
    "pred_thres_GBC = (probs_GBC >= best_thres_Random).astype(int) "
   ]
  },
  {
   "cell_type": "markdown",
   "metadata": {},
   "source": [
    "Se evalua la matriz de confusión."
   ]
  },
  {
   "cell_type": "code",
   "execution_count": null,
   "metadata": {},
   "outputs": [
    {
     "name": "stdout",
     "output_type": "stream",
     "text": [
      "[[264 347]\n",
      " [369 810]]\n"
     ]
    }
   ],
   "source": [
    "print(confusion_matrix(expected, pred_thres_GBC))"
   ]
  },
  {
   "cell_type": "markdown",
   "metadata": {},
   "source": [
    "Y también se analiza el informe de la clasificación."
   ]
  },
  {
   "cell_type": "code",
   "execution_count": null,
   "metadata": {},
   "outputs": [
    {
     "name": "stdout",
     "output_type": "stream",
     "text": [
      "              precision    recall  f1-score   support\n",
      "\n",
      "           0       0.42      0.43      0.42       611\n",
      "           1       0.70      0.69      0.69      1179\n",
      "\n",
      "    accuracy                           0.60      1790\n",
      "   macro avg       0.56      0.56      0.56      1790\n",
      "weighted avg       0.60      0.60      0.60      1790\n",
      "\n"
     ]
    }
   ],
   "source": [
    "print(classification_report(expected, pred_thres_GBC))"
   ]
  },
  {
   "cell_type": "markdown",
   "metadata": {},
   "source": [
    "Obviamente son los mismos, ya que no estamos modificando el umbral realmente."
   ]
  },
  {
   "cell_type": "markdown",
   "metadata": {},
   "source": [
    "Finalmente se calcula el valor de AUC."
   ]
  },
  {
   "cell_type": "code",
   "execution_count": null,
   "metadata": {},
   "outputs": [
    {
     "name": "stdout",
     "output_type": "stream",
     "text": [
      "0.5595507302507465\n"
     ]
    }
   ],
   "source": [
    "print(roc_auc_score(expected, predicted_GBC))"
   ]
  },
  {
   "cell_type": "markdown",
   "metadata": {},
   "source": [
    "Se ha obtenido un valor entre 0.5 y 0.6, es decir, el modelo se considerá como fallido o *F*."
   ]
  },
  {
   "cell_type": "markdown",
   "metadata": {},
   "source": [
    "### 7.4.6 Optimizacion"
   ]
  },
  {
   "cell_type": "markdown",
   "metadata": {},
   "source": [
    "Antes de nada, observamos cuales son los parámetros de nuestro modelo."
   ]
  },
  {
   "cell_type": "code",
   "execution_count": null,
   "metadata": {},
   "outputs": [
    {
     "data": {
      "text/plain": [
       "{'ccp_alpha': 0.0,\n",
       " 'criterion': 'friedman_mse',\n",
       " 'init': None,\n",
       " 'learning_rate': 0.1,\n",
       " 'loss': 'log_loss',\n",
       " 'max_depth': 3,\n",
       " 'max_features': None,\n",
       " 'max_leaf_nodes': None,\n",
       " 'min_impurity_decrease': 0.0,\n",
       " 'min_samples_leaf': 1,\n",
       " 'min_samples_split': 2,\n",
       " 'min_weight_fraction_leaf': 0.0,\n",
       " 'n_estimators': 100,\n",
       " 'n_iter_no_change': None,\n",
       " 'random_state': 42,\n",
       " 'subsample': 1.0,\n",
       " 'tol': 0.0001,\n",
       " 'validation_fraction': 0.1,\n",
       " 'verbose': 0,\n",
       " 'warm_start': False}"
      ]
     },
     "execution_count": 275,
     "metadata": {},
     "output_type": "execute_result"
    }
   ],
   "source": [
    "model_GBC.get_params()"
   ]
  },
  {
   "cell_type": "markdown",
   "metadata": {},
   "source": [
    "También creemos que es interesante saber la profundidad media de nuestro modelo GradientBoosting, para así poder estimar mejor rango de valores en este apartado."
   ]
  },
  {
   "cell_type": "code",
   "execution_count": null,
   "metadata": {},
   "outputs": [
    {
     "name": "stdout",
     "output_type": "stream",
     "text": [
      "Profundidad media de los árboles: 3.0\n"
     ]
    }
   ],
   "source": [
    "arboles_decision = model_GBC.estimators_[:, 0]\n",
    "\n",
    "profundidades = [arbol.tree_.max_depth for arbol in arboles_decision]\n",
    "profundidad_media = np.mean(profundidades)\n",
    "\n",
    "print(f\"Profundidad media de los árboles: {profundidad_media}\")"
   ]
  },
  {
   "cell_type": "markdown",
   "metadata": {},
   "source": [
    "Ahora seleccionamos los hiperparámetros a evaluar mediante un GridSearchCV. Además, se ha añadido la librería *time* para saber el tiempo que tardo en realizar la busqueda de mejores parámetros.\n",
    "\n",
    "Estos son los hiperparámetros más importantes:\n",
    "* learning_rate: Controla la contribución de cada árbol para evitar sobreajuste.ç\n",
    "* n_estimators: Número de árboles en el modelo, afectando la capacidad de aprendizaje.\n",
    "* max_depth: Profundidad máxima de los árboles, evitando sobreajuste o subajuste.\n",
    "* min_samples_split: Mínimo de muestras necesarias para dividir un nodo, regulando la complejidad.\n",
    "* min_samples_leaf: Mínimo de muestras en una hoja para evitar divisiones insignificantes.\n",
    "* subsample: Proporción de datos usados en cada iteración, reduciendo varianza.\n",
    "* loss: Función de pérdida optimizada (ej. log_loss para clasificación).\n"
   ]
  },
  {
   "cell_type": "raw",
   "metadata": {
    "vscode": {
     "languageId": "raw"
    }
   },
   "source": [
    "# Definir los hiperparámetros a probar\n",
    "param_grid = {\n",
    "    'n_estimators': [100],             # good default\n",
    "    'learning_rate': [0.05, 0.1],      # controls step size\n",
    "    'max_depth': [3, 4],               # typical for GBC\n",
    "    'subsample': [0.8, 1.0],           # helps generalization\n",
    "}\n",
    "\n",
    "# Definir los métodos de evaluación con average='weighted'\n",
    "scorers = {\n",
    "    'f1': make_scorer(f1_score, average='weighted'),\n",
    "    'accuracy': make_scorer(accuracy_score),\n",
    "    'recall': make_scorer(recall_score, average='weighted', zero_division=0)\n",
    "}\n",
    "\n",
    "# Aplicar GridSearchCV, se optimiza según F1-score\n",
    "grid_search_GBC = GridSearchCV(\n",
    "    GradientBoostingClassifier(),\n",
    "    param_grid,\n",
    "    cv=5,\n",
    "    n_jobs=-1,\n",
    "    scoring=scorers,\n",
    "    refit='f1',\n",
    "    verbose=1\n",
    ")\n",
    "\n",
    "inicio = time.time()\n",
    "grid_search_GBC.fit(X_model, y_model)\n",
    "fin = time.time()\n",
    "\n",
    "# Mostrar los mejores parámetros encontrados\n",
    "print(\"Mejores parámetros encontrados:\", grid_search_GBC.best_params_)\n",
    "\n",
    "# Convertir los resultados en un DataFrame\n",
    "results = pd.DataFrame(grid_search_GBC.cv_results_)\n",
    "\n",
    "# Ordenar por cada métrica y mostrar los 5 mejores modelos\n",
    "for metric in ['mean_test_f1', 'mean_test_accuracy', 'mean_test_recall']:\n",
    "    print(f\"\\nTop 5 modelos según {metric}:\")\n",
    "    sorted_results = results.sort_values(by=metric, ascending=False)\n",
    "\n",
    "    for mean_score, std_score, params in zip(\n",
    "        sorted_results[metric].head(5),\n",
    "        sorted_results[f\"std_test_{metric.split('_')[-1]}\"].head(5),\n",
    "        sorted_results[\"params\"].head(5)\n",
    "    ):\n",
    "        print(f\"{mean_score:.3f} (+/-{std_score * 2:.3f}) para {params}\")"
   ]
  },
  {
   "cell_type": "markdown",
   "metadata": {},
   "source": [
    "Se calcula el tiempo que ha tardado en minutos."
   ]
  },
  {
   "cell_type": "raw",
   "metadata": {
    "vscode": {
     "languageId": "raw"
    }
   },
   "source": [
    "tiempo_total = (fin - inicio) / 60\n",
    "print(f\"La celda tardó {tiempo_total} minutos en ejecutarse.\")"
   ]
  },
  {
   "cell_type": "markdown",
   "metadata": {},
   "source": [
    "Se escoge el mejor parámetro y su  precisión asociada."
   ]
  },
  {
   "cell_type": "raw",
   "metadata": {
    "vscode": {
     "languageId": "raw"
    }
   },
   "source": [
    "print(\"Mejores parámetros: \", grid_search_GBC.best_params_)\n",
    "print(\"Mejor score: \", grid_search_GBC.best_score_)"
   ]
  },
  {
   "cell_type": "markdown",
   "metadata": {},
   "source": [
    "Observamos los mejores 10 casos para analizar varias posibilidades."
   ]
  },
  {
   "cell_type": "raw",
   "metadata": {
    "vscode": {
     "languageId": "raw"
    }
   },
   "source": [
    "results_df = pd.DataFrame(grid_search_GBC.cv_results_)"
   ]
  },
  {
   "cell_type": "raw",
   "metadata": {
    "vscode": {
     "languageId": "raw"
    }
   },
   "source": [
    "top_10_models = results_df.nlargest(10, \"mean_score\")\n",
    "\n",
    "print(\"\\nLos 10 mejores modelos:\")\n",
    "for index, row in top_10_models.iterrows():\n",
    "    print(\"\\nModelo:\")\n",
    "    print(f\"Parámetros: {row['params']}\")\n",
    "    print(f\"Puntuación media de prueba: {row['mean_test_score']}\")"
   ]
  },
  {
   "cell_type": "markdown",
   "metadata": {},
   "source": [
    "### 7.4.7 Entrenamiento y evaluacion con hiperparametros optimizados"
   ]
  },
  {
   "cell_type": "markdown",
   "metadata": {},
   "source": [
    "#### - Definicion"
   ]
  },
  {
   "cell_type": "markdown",
   "metadata": {},
   "source": [
    "Definimos los mejores parámetros (no se define con *grid_search.best_params_* para probar varias opciones de forma sencilla)."
   ]
  },
  {
   "cell_type": "code",
   "execution_count": null,
   "metadata": {},
   "outputs": [],
   "source": [
    "params_final_GBC = {\n",
    "    'ccp_alpha': 0.0,\n",
    "    'criterion': 'friedman_mse',\n",
    "    'n_estimators': 100,\n",
    "    'learning_rate': 0.1,\n",
    "    'max_depth': 4,\n",
    "    'min_samples_split': 3,\n",
    "    'min_samples_leaf': 1,\n",
    "    'subsample': 1,\n",
    "    'max_features': 'sqrt',\n",
    "    'min_impurity_decrease': 0.01,\n",
    "    'n_iter_no_change': None,\n",
    "    'validation_fraction': 0.2,\n",
    "    \n",
    "}"
   ]
  },
  {
   "cell_type": "markdown",
   "metadata": {},
   "source": [
    "Definimos el modelo desagregando el diccionario."
   ]
  },
  {
   "cell_type": "code",
   "execution_count": null,
   "metadata": {},
   "outputs": [],
   "source": [
    "final_GBC = GradientBoostingClassifier(**params_final_GBC)"
   ]
  },
  {
   "cell_type": "markdown",
   "metadata": {},
   "source": [
    "#### - Entrenamiento y evaluacion"
   ]
  },
  {
   "cell_type": "markdown",
   "metadata": {},
   "source": [
    "Entrenamos el modelo y comprobamos su exactitud."
   ]
  },
  {
   "cell_type": "code",
   "execution_count": null,
   "metadata": {},
   "outputs": [],
   "source": [
    "final_GBC.fit(X_model, y_model)\n",
    "\n",
    "predicted_GBC_opt = final_GBC.predict(X_model_test)"
   ]
  },
  {
   "cell_type": "code",
   "execution_count": null,
   "metadata": {},
   "outputs": [
    {
     "data": {
      "text/plain": [
       "0.6083798882681565"
      ]
     },
     "execution_count": 280,
     "metadata": {},
     "output_type": "execute_result"
    }
   ],
   "source": [
    "accuracy_score(expected, predicted_GBC_opt)"
   ]
  },
  {
   "cell_type": "markdown",
   "metadata": {},
   "source": [
    "#### - Null accuracy"
   ]
  },
  {
   "cell_type": "markdown",
   "metadata": {},
   "source": [
    "La accuracy es similar a la anterior. Además, sigue siendo peor que la *null accuracy*."
   ]
  },
  {
   "cell_type": "markdown",
   "metadata": {},
   "source": [
    "#### - Matriz de confusion y F-score"
   ]
  },
  {
   "cell_type": "markdown",
   "metadata": {},
   "source": [
    "La matriz de confusión y el informe de clasificación también es muy similar."
   ]
  },
  {
   "cell_type": "code",
   "execution_count": null,
   "metadata": {},
   "outputs": [
    {
     "name": "stdout",
     "output_type": "stream",
     "text": [
      "[[254 357]\n",
      " [344 835]]\n"
     ]
    }
   ],
   "source": [
    "print(confusion_matrix(expected, predicted_GBC_opt))"
   ]
  },
  {
   "cell_type": "code",
   "execution_count": null,
   "metadata": {},
   "outputs": [
    {
     "name": "stdout",
     "output_type": "stream",
     "text": [
      "              precision    recall  f1-score   support\n",
      "\n",
      "           0       0.42      0.42      0.42       611\n",
      "           1       0.70      0.71      0.70      1179\n",
      "\n",
      "    accuracy                           0.61      1790\n",
      "   macro avg       0.56      0.56      0.56      1790\n",
      "weighted avg       0.61      0.61      0.61      1790\n",
      "\n"
     ]
    }
   ],
   "source": [
    "print(classification_report(expected, predicted_GBC_opt))"
   ]
  },
  {
   "cell_type": "markdown",
   "metadata": {},
   "source": [
    "#### - ROC y AUC"
   ]
  },
  {
   "cell_type": "markdown",
   "metadata": {},
   "source": [
    "Se calcula el ROC y se reajusta el umbral de probabilidad."
   ]
  },
  {
   "cell_type": "code",
   "execution_count": null,
   "metadata": {},
   "outputs": [
    {
     "data": {
      "image/png": "[encoded data removed]",
      "text/plain": [
       "<Figure size 640x480 with 1 Axes>"
      ]
     },
     "metadata": {},
     "output_type": "display_data"
    }
   ],
   "source": [
    "y_pred_prob_GBC = final_GBC.predict_proba(X_model_test)[:,1]\n",
    "fpr, tpr, thresholds = roc_curve(y_test, y_pred_prob_GBC)\n",
    "plt.plot(fpr, tpr)\n",
    "plt.xlim([0.0, 1.0])\n",
    "plt.ylim([0.0, 1.0])\n",
    "plt.title('Curva ROC')\n",
    "plt.xlabel('Ratio de FP (1 - Recall)')\n",
    "plt.ylabel('Ratio TP (Sensitivity)')\n",
    "plt.grid(True)\n",
    "plt.show()"
   ]
  },
  {
   "cell_type": "code",
   "execution_count": null,
   "metadata": {},
   "outputs": [
    {
     "data": {
      "text/plain": [
       "array([       inf, 0.87684089, 0.85969596, 0.82008949, 0.81832887,\n",
       "       0.76273661, 0.76082721, 0.75390422, 0.75368081, 0.75366838,\n",
       "       0.75353652, 0.75060876, 0.74873495, 0.74820467, 0.7480303 ,\n",
       "       0.74508105, 0.74486697, 0.74073579, 0.74028812, 0.73631177,\n",
       "       0.73627773, 0.73212191, 0.73154655, 0.73051535, 0.72897937,\n",
       "       0.72833248, 0.72754387, 0.72583907, 0.72550072, 0.72382287,\n",
       "       0.72362939, 0.72095126, 0.71981297, 0.71746976, 0.7172193 ,\n",
       "       0.71632799, 0.7158718 , 0.71385061, 0.71319066, 0.71057103,\n",
       "       0.71017534, 0.70502151, 0.70500349, 0.70478636, 0.7047132 ,\n",
       "       0.70359089, 0.70357604, 0.70206053, 0.70202236, 0.70086985,\n",
       "       0.70083617, 0.70055553, 0.70014677, 0.69860397, 0.69859852,\n",
       "       0.69826799, 0.69812817, 0.69787515, 0.69772207, 0.69603724,\n",
       "       0.6958279 , 0.69574914, 0.69535256, 0.69438321, 0.69366569,\n",
       "       0.69366099, 0.69319365, 0.69235735, 0.69187156, 0.69175025,\n",
       "       0.69132959, 0.69055168, 0.69054626, 0.69031112, 0.68975651,\n",
       "       0.68755455, 0.68731775, 0.68717762, 0.6869034 , 0.68508771,\n",
       "       0.68503321, 0.68486949, 0.68462801, 0.68451016, 0.68437211,\n",
       "       0.68434452, 0.68414392, 0.68185484, 0.68092121, 0.68049642,\n",
       "       0.68025882, 0.67878344, 0.67840421, 0.67779229, 0.67774235,\n",
       "       0.67748865, 0.677356  , 0.67701734, 0.67701638, 0.67297662,\n",
       "       0.67205974, 0.67143154, 0.67141769, 0.67043876, 0.6700288 ,\n",
       "       0.66965632, 0.66956371, 0.66953635, 0.66948674, 0.66848357,\n",
       "       0.66848285, 0.66345206, 0.66342952, 0.65970769, 0.65957256,\n",
       "       0.65900751, 0.65824897, 0.6536908 , 0.65355813, 0.65335354,\n",
       "       0.65318707, 0.65299596, 0.65290145, 0.6525208 , 0.65080687,\n",
       "       0.65038018, 0.65023994, 0.65005749, 0.65003954, 0.64975841,\n",
       "       0.64950547, 0.64911319, 0.64901   , 0.64878236, 0.64855531,\n",
       "       0.64826366, 0.6481081 , 0.64702212, 0.64699778, 0.64564137,\n",
       "       0.64484784, 0.64433483, 0.64364127, 0.64290153, 0.64271676,\n",
       "       0.64225189, 0.64212027, 0.64205193, 0.64167107, 0.64142461,\n",
       "       0.64139774, 0.64114   , 0.64112223, 0.64026601, 0.63991182,\n",
       "       0.63873092, 0.63821006, 0.63611811, 0.63610105, 0.63521522,\n",
       "       0.63517771, 0.63468556, 0.63448745, 0.63194868, 0.6314566 ,\n",
       "       0.63145506, 0.63126966, 0.6287129 , 0.62790442, 0.62768338,\n",
       "       0.6276216 , 0.62428857, 0.62422959, 0.62408847, 0.62359356,\n",
       "       0.62347102, 0.62313887, 0.62302199, 0.62300032, 0.6197547 ,\n",
       "       0.61967315, 0.61929203, 0.61908008, 0.61864394, 0.61820796,\n",
       "       0.61796149, 0.61787869, 0.6165007 , 0.61631579, 0.61615683,\n",
       "       0.61615652, 0.61484218, 0.61481075, 0.61339898, 0.61247117,\n",
       "       0.61210395, 0.61185357, 0.61128738, 0.61119179, 0.61025793,\n",
       "       0.61021136, 0.60966148, 0.6096259 , 0.60907277, 0.6088708 ,\n",
       "       0.60816011, 0.60794922, 0.60736733, 0.60704532, 0.60682649,\n",
       "       0.60609413, 0.60556233, 0.60549549, 0.6054378 , 0.60536161,\n",
       "       0.60447396, 0.6044509 , 0.60436611, 0.60435374, 0.603699  ,\n",
       "       0.60281721, 0.60114655, 0.60088362, 0.60036251, 0.60022984,\n",
       "       0.5997996 , 0.59897163, 0.59728182, 0.59724824, 0.59687727,\n",
       "       0.59613377, 0.59593259, 0.59577506, 0.59463112, 0.59445155,\n",
       "       0.59422976, 0.59391118, 0.59344909, 0.59329079, 0.59242886,\n",
       "       0.59204082, 0.5916078 , 0.59141074, 0.5912843 , 0.5911468 ,\n",
       "       0.59091232, 0.59056075, 0.59051142, 0.59027053, 0.58880934,\n",
       "       0.58802649, 0.5880177 , 0.58775279, 0.58769143, 0.5874964 ,\n",
       "       0.58528575, 0.5850904 , 0.58497118, 0.58472168, 0.58457458,\n",
       "       0.58371687, 0.58318399, 0.58313777, 0.58118771, 0.5811384 ,\n",
       "       0.58104317, 0.58085581, 0.58058297, 0.58056309, 0.57833237,\n",
       "       0.57787474, 0.57655616, 0.57622787, 0.57533881, 0.575293  ,\n",
       "       0.57513892, 0.57469526, 0.57464714, 0.57454977, 0.5745165 ,\n",
       "       0.57405515, 0.57286173, 0.57252195, 0.57248752, 0.57234447,\n",
       "       0.57165082, 0.57154697, 0.57134342, 0.57129118, 0.57122847,\n",
       "       0.57093475, 0.57093236, 0.57091766, 0.57018333, 0.56973726,\n",
       "       0.56710368, 0.56678133, 0.56665489, 0.56665042, 0.56652206,\n",
       "       0.56642017, 0.56616826, 0.56608728, 0.56536427, 0.56507056,\n",
       "       0.56388991, 0.56356872, 0.56273888, 0.56258627, 0.56188731,\n",
       "       0.56168043, 0.56134029, 0.56129634, 0.56112849, 0.56109105,\n",
       "       0.560918  , 0.56066209, 0.56040205, 0.56034695, 0.56012209,\n",
       "       0.55955546, 0.55897098, 0.55878842, 0.55762563, 0.55758612,\n",
       "       0.55748204, 0.55706028, 0.55697717, 0.55690928, 0.55642684,\n",
       "       0.55622921, 0.55580513, 0.55577818, 0.55517686, 0.55499335,\n",
       "       0.55490646, 0.55479586, 0.55456494, 0.55393686, 0.55382711,\n",
       "       0.55381036, 0.55204892, 0.55128855, 0.55086661, 0.55050397,\n",
       "       0.55034092, 0.55003496, 0.54883372, 0.54862907, 0.54824137,\n",
       "       0.5482066 , 0.54779372, 0.54642304, 0.54610507, 0.5449573 ,\n",
       "       0.5446775 , 0.54441915, 0.54421939, 0.54420314, 0.5438006 ,\n",
       "       0.54331181, 0.54302284, 0.54249688, 0.54215278, 0.54197859,\n",
       "       0.54175778, 0.54160021, 0.54121554, 0.5409156 , 0.53945693,\n",
       "       0.53885192, 0.53869802, 0.53839464, 0.53736883, 0.53699805,\n",
       "       0.53649886, 0.53636368, 0.5360746 , 0.53575729, 0.53529051,\n",
       "       0.53517468, 0.5350067 , 0.53475502, 0.53451591, 0.53438563,\n",
       "       0.53433682, 0.5340502 , 0.53391002, 0.53388909, 0.53371929,\n",
       "       0.53340728, 0.53288122, 0.5313755 , 0.53133549, 0.53091341,\n",
       "       0.53061475, 0.53037796, 0.53037093, 0.53033111, 0.52988395,\n",
       "       0.5294941 , 0.52940738, 0.52929208, 0.5284678 , 0.52819291,\n",
       "       0.52767389, 0.52741835, 0.52737311, 0.52730005, 0.52579157,\n",
       "       0.52577492, 0.52549021, 0.5254371 , 0.52542649, 0.52534201,\n",
       "       0.52527491, 0.52456965, 0.52430084, 0.52378225, 0.52361368,\n",
       "       0.52316233, 0.52195723, 0.52157053, 0.52081935, 0.52060665,\n",
       "       0.51997426, 0.51991277, 0.51914488, 0.51875838, 0.51800418,\n",
       "       0.51717288, 0.51578129, 0.51578114, 0.51526018, 0.51468897,\n",
       "       0.51340509, 0.51311573, 0.51262309, 0.51241683, 0.51240823,\n",
       "       0.51125638, 0.51057491, 0.51016694, 0.50952899, 0.50944501,\n",
       "       0.50893743, 0.5088358 , 0.5083972 , 0.50796952, 0.50766808,\n",
       "       0.50737817, 0.50730254, 0.50720061, 0.50696557, 0.50690128,\n",
       "       0.50475315, 0.50471362, 0.5043567 , 0.50432332, 0.50421972,\n",
       "       0.50373254, 0.5034318 , 0.50323218, 0.5021865 , 0.50213535,\n",
       "       0.50191537, 0.50187581, 0.50178512, 0.5011529 , 0.50040789,\n",
       "       0.4999916 , 0.49986089, 0.49892361, 0.49870871, 0.49850339,\n",
       "       0.4983752 , 0.49793753, 0.49766959, 0.49695072, 0.49656523,\n",
       "       0.49635768, 0.49565206, 0.49564867, 0.49560995, 0.49538655,\n",
       "       0.49504543, 0.49493665, 0.49459454, 0.4937023 , 0.49310509,\n",
       "       0.49298797, 0.49241118, 0.49233076, 0.49221378, 0.49185217,\n",
       "       0.49178481, 0.49132604, 0.49099003, 0.49097961, 0.48973912,\n",
       "       0.48935802, 0.48911009, 0.4880519 , 0.48761616, 0.48760163,\n",
       "       0.48741777, 0.48731469, 0.48694104, 0.48658548, 0.48605763,\n",
       "       0.48577743, 0.48512428, 0.48435179, 0.48432079, 0.48409597,\n",
       "       0.48268102, 0.48265938, 0.481791  , 0.4817396 , 0.4789189 ,\n",
       "       0.47867668, 0.47851833, 0.47803737, 0.47778152, 0.47714394,\n",
       "       0.47681441, 0.47679987, 0.4766499 , 0.47650827, 0.47559655,\n",
       "       0.47530063, 0.47519688, 0.47509807, 0.47447737, 0.4743019 ,\n",
       "       0.474182  , 0.47371185, 0.47318501, 0.47262576, 0.4702821 ,\n",
       "       0.47024118, 0.46981373, 0.46963152, 0.4688322 , 0.46795216,\n",
       "       0.46772408, 0.46698446, 0.46679063, 0.46604823, 0.46567281,\n",
       "       0.46550023, 0.46455828, 0.46445562, 0.46387787, 0.46346678,\n",
       "       0.46340836, 0.46290627, 0.46265826, 0.4622823 , 0.46118583,\n",
       "       0.46114985, 0.46009578, 0.4597102 , 0.45902899, 0.45868079,\n",
       "       0.45867319, 0.45856676, 0.45764301, 0.45746155, 0.45701635,\n",
       "       0.45634731, 0.45553813, 0.45506343, 0.45470604, 0.45431074,\n",
       "       0.45384917, 0.45304114, 0.45227172, 0.45219684, 0.45211092,\n",
       "       0.45209366, 0.4506368 , 0.45060476, 0.45048555, 0.45034369,\n",
       "       0.44998282, 0.44928115, 0.44919344, 0.44912174, 0.4487262 ,\n",
       "       0.44707448, 0.44668284, 0.44650782, 0.4443257 , 0.44364673,\n",
       "       0.4434775 , 0.44289622, 0.44226527, 0.44188018, 0.44149263,\n",
       "       0.44045398, 0.44016997, 0.44008101, 0.43965827, 0.43922654,\n",
       "       0.43851963, 0.43814255, 0.43752382, 0.4373558 , 0.43733713,\n",
       "       0.43692501, 0.43502393, 0.43468238, 0.43445431, 0.43435941,\n",
       "       0.43424307, 0.43386952, 0.43273644, 0.43219773, 0.43155399,\n",
       "       0.43122719, 0.43011939, 0.42927569, 0.42801211, 0.42760133,\n",
       "       0.42736081, 0.42692939, 0.42617374, 0.42421772, 0.42210675,\n",
       "       0.42120994, 0.42057646, 0.42052568, 0.42021414, 0.42001041,\n",
       "       0.41956131, 0.41912668, 0.41889857, 0.41882139, 0.41806676,\n",
       "       0.41701552, 0.41660764, 0.41630064, 0.41618282, 0.41488228,\n",
       "       0.41431145, 0.41403312, 0.41401765, 0.41392462, 0.4123306 ,\n",
       "       0.4123128 , 0.41218655, 0.41210898, 0.41182379, 0.41115875,\n",
       "       0.41030312, 0.41009222, 0.40990882, 0.40966822, 0.40853037,\n",
       "       0.4079408 , 0.40786628, 0.4077546 , 0.40689954, 0.40583936,\n",
       "       0.40552424, 0.40465457, 0.40407956, 0.40377615, 0.4034338 ,\n",
       "       0.40265565, 0.40058988, 0.4004495 , 0.40016688, 0.40002209,\n",
       "       0.39824805, 0.39802774, 0.3972787 , 0.39694165, 0.3967214 ,\n",
       "       0.39544917, 0.39511472, 0.39422234, 0.39410602, 0.39400065,\n",
       "       0.39261547, 0.39136047, 0.39087015, 0.39078911, 0.38880555,\n",
       "       0.3883066 , 0.38622728, 0.38610892, 0.38504079, 0.38480987,\n",
       "       0.38148852, 0.38040607, 0.38040264, 0.37897218, 0.37772722,\n",
       "       0.377671  , 0.37721807, 0.37710195, 0.37654642, 0.37607745,\n",
       "       0.37520102, 0.3751847 , 0.37476245, 0.37333826, 0.36788431,\n",
       "       0.36643297, 0.36607333, 0.3648479 , 0.36453488, 0.36314524,\n",
       "       0.36214966, 0.36022699, 0.35833089, 0.35715996, 0.3555918 ,\n",
       "       0.35558943, 0.34969124, 0.34806697, 0.34488777, 0.34386009,\n",
       "       0.34277029, 0.33776564, 0.33515187, 0.33411769, 0.33309024,\n",
       "       0.33107155, 0.32916494, 0.3282095 , 0.327911  , 0.32156457,\n",
       "       0.3139639 , 0.30938631, 0.30863033, 0.30862772, 0.30840323,\n",
       "       0.30805908, 0.30364716, 0.30022556, 0.29501663, 0.27936807,\n",
       "       0.2769463 , 0.27393003, 0.26844238, 0.26471351, 0.2636364 ,\n",
       "       0.26357625, 0.26181209, 0.22942022])"
      ]
     },
     "execution_count": 284,
     "metadata": {},
     "output_type": "execute_result"
    }
   ],
   "source": [
    "thresholds"
   ]
  },
  {
   "cell_type": "code",
   "execution_count": null,
   "metadata": {},
   "outputs": [
    {
     "data": {
      "text/plain": [
       "array([<Axes: title={'center': '0'}>, <Axes: title={'center': '1'}>],\n",
       "      dtype=object)"
      ]
     },
     "execution_count": 285,
     "metadata": {},
     "output_type": "execute_result"
    },
    {
     "data": {
      "image/png": "[encoded data removed]",
      "text/plain": [
       "<Figure size 640x480 with 2 Axes>"
      ]
     },
     "metadata": {},
     "output_type": "display_data"
    }
   ],
   "source": [
    "dprob = pd.DataFrame(data = {'probability':y_pred_prob_GBC, 'actual':y_test})\n",
    "dprob.probability.hist(by=dprob.actual, sharex=True, sharey=True)"
   ]
  },
  {
   "cell_type": "code",
   "execution_count": null,
   "metadata": {},
   "outputs": [
    {
     "name": "stdout",
     "output_type": "stream",
     "text": [
      "Sensitivity: 0.7082273112807463\n",
      "Recall: 0.4189852700490998\n"
     ]
    }
   ],
   "source": [
    "op_thres_Random = 0.5\n",
    "\n",
    "evaluate_threshold(op_thres_Random)"
   ]
  },
  {
   "cell_type": "code",
   "execution_count": null,
   "metadata": {},
   "outputs": [],
   "source": [
    "probs_GBC_opt = final_GBC.predict_proba(X_model_test)[:, 1]  \n",
    "pred_thres_GBC_opt = (probs_GBC_opt >= op_thres_Random).astype(int) "
   ]
  },
  {
   "cell_type": "code",
   "execution_count": null,
   "metadata": {},
   "outputs": [
    {
     "name": "stdout",
     "output_type": "stream",
     "text": [
      "[[254 357]\n",
      " [344 835]]\n"
     ]
    }
   ],
   "source": [
    "print(confusion_matrix(expected, pred_thres_GBC_opt))"
   ]
  },
  {
   "cell_type": "code",
   "execution_count": null,
   "metadata": {},
   "outputs": [
    {
     "name": "stdout",
     "output_type": "stream",
     "text": [
      "              precision    recall  f1-score   support\n",
      "\n",
      "           0       0.42      0.42      0.42       611\n",
      "           1       0.70      0.71      0.70      1179\n",
      "\n",
      "    accuracy                           0.61      1790\n",
      "   macro avg       0.56      0.56      0.56      1790\n",
      "weighted avg       0.61      0.61      0.61      1790\n",
      "\n"
     ]
    }
   ],
   "source": [
    "print(classification_report(expected, pred_thres_GBC_opt))"
   ]
  },
  {
   "cell_type": "markdown",
   "metadata": {},
   "source": [
    "Se obtienen los mismos resultados porque sigue siendo el mejor caso con umbral igual a 0,5."
   ]
  },
  {
   "cell_type": "markdown",
   "metadata": {},
   "source": [
    "Se calcula la AUC score."
   ]
  },
  {
   "cell_type": "code",
   "execution_count": null,
   "metadata": {},
   "outputs": [
    {
     "name": "stdout",
     "output_type": "stream",
     "text": [
      "0.5619696294537939\n"
     ]
    }
   ],
   "source": [
    "print(roc_auc_score(expected, predicted_GBC_opt))"
   ]
  },
  {
   "cell_type": "markdown",
   "metadata": {},
   "source": [
    "Sigue en el mismo intervalo 0.5-0.6. "
   ]
  },
  {
   "cell_type": "markdown",
   "metadata": {},
   "source": [
    "### 7.4.8 Conclusiones del modelo"
   ]
  },
  {
   "cell_type": "markdown",
   "metadata": {},
   "source": [
    "El model no obtiene buenos resultados a la escasez de entradas y la gran cantidad de dimensiones que presenta el dataset. Después de la optimización, sigue siendo un modelo *F*."
   ]
  },
  {
   "cell_type": "markdown",
   "metadata": {},
   "source": [
    "# 7.5 Clasificador Logistic Regression "
   ]
  },
  {
   "cell_type": "markdown",
   "metadata": {},
   "source": [
    "### 7.5.1 Definicion"
   ]
  },
  {
   "cell_type": "markdown",
   "metadata": {},
   "source": [
    "Definimos el modelo con los hiperparámetros *random_state* y *max_iter* fijado. También se escoje *n_jobs* con valor -1 para utilizar todos los procesadores."
   ]
  },
  {
   "cell_type": "code",
   "execution_count": 727,
   "metadata": {},
   "outputs": [],
   "source": [
    "model_LR = LogisticRegression(max_iter=200,random_state=42, n_jobs=-1)"
   ]
  },
  {
   "cell_type": "markdown",
   "metadata": {},
   "source": [
    "### 7.5.2 Entrenamiento y evaluacion"
   ]
  },
  {
   "cell_type": "markdown",
   "metadata": {},
   "source": [
    "Entrenamos el modelo y comprobamos su exactitud."
   ]
  },
  {
   "cell_type": "code",
   "execution_count": 728,
   "metadata": {},
   "outputs": [],
   "source": [
    "model_LR.fit(X_model, y_model)\n",
    "\n",
    "predicted_LR = model_LR.predict(X_model_test)"
   ]
  },
  {
   "cell_type": "code",
   "execution_count": 729,
   "metadata": {},
   "outputs": [
    {
     "data": {
      "text/plain": [
       "0.6385474860335195"
      ]
     },
     "execution_count": 729,
     "metadata": {},
     "output_type": "execute_result"
    }
   ],
   "source": [
    "accuracy_score(expected, predicted_LR)"
   ]
  },
  {
   "cell_type": "markdown",
   "metadata": {},
   "source": [
    "### 7.5.3 Null accuracy"
   ]
  },
  {
   "cell_type": "code",
   "execution_count": 620,
   "metadata": {},
   "outputs": [
    {
     "data": {
      "text/plain": [
       "1    0.658659\n",
       "Name: count, dtype: float64"
      ]
     },
     "execution_count": 620,
     "metadata": {},
     "output_type": "execute_result"
    }
   ],
   "source": [
    "s_y_test.value_counts().head(1) / len(y_test)"
   ]
  },
  {
   "cell_type": "markdown",
   "metadata": {},
   "source": [
    "Nuestra exactitud es de 0.638, la cual es peor que la *null accuracy*, es decir, ahora mismo no tenemos un buen modelo ya que se predecirían un mayor número de resultados en el caso de siempre predecir la clase mayoritaria."
   ]
  },
  {
   "cell_type": "markdown",
   "metadata": {},
   "source": [
    "### 7.5.4 Matriz de confusion y F-score"
   ]
  },
  {
   "cell_type": "markdown",
   "metadata": {},
   "source": [
    "Se muestra la matriz de confusión y el informe de clasificación."
   ]
  },
  {
   "cell_type": "code",
   "execution_count": 730,
   "metadata": {},
   "outputs": [
    {
     "name": "stdout",
     "output_type": "stream",
     "text": [
      "[[272 339]\n",
      " [308 871]]\n"
     ]
    }
   ],
   "source": [
    "print(confusion_matrix(expected, predicted_LR))"
   ]
  },
  {
   "cell_type": "code",
   "execution_count": 731,
   "metadata": {},
   "outputs": [
    {
     "name": "stdout",
     "output_type": "stream",
     "text": [
      "              precision    recall  f1-score   support\n",
      "\n",
      "           0       0.47      0.45      0.46       611\n",
      "           1       0.72      0.74      0.73      1179\n",
      "\n",
      "    accuracy                           0.64      1790\n",
      "   macro avg       0.59      0.59      0.59      1790\n",
      "weighted avg       0.63      0.64      0.64      1790\n",
      "\n"
     ]
    }
   ],
   "source": [
    "print(classification_report(expected, predicted_LR))"
   ]
  },
  {
   "cell_type": "markdown",
   "metadata": {},
   "source": [
    "Se observa que estamos identificando erroneamente los 0s ya que tenemos un f1-score del 0.73 para los 1s mientras que estamos obteniendo un 0.46 para los 0s"
   ]
  },
  {
   "cell_type": "markdown",
   "metadata": {},
   "source": [
    "### 7.5.5 ROC y AUC"
   ]
  },
  {
   "cell_type": "markdown",
   "metadata": {},
   "source": [
    "Evaluamos la ROC-AUC score. Para ello representamos primero la curva de ROC."
   ]
  },
  {
   "cell_type": "code",
   "execution_count": 623,
   "metadata": {},
   "outputs": [
    {
     "data": {
      "image/png": "[encoded data removed]",
      "text/plain": [
       "<Figure size 640x480 with 1 Axes>"
      ]
     },
     "metadata": {},
     "output_type": "display_data"
    }
   ],
   "source": [
    "y_pred_prob_LR = model_LR.predict_proba(X_model_test)[:,1]\n",
    "fpr, tpr, thresholds = roc_curve(expected, y_pred_prob_LR)\n",
    "plt.plot(fpr, tpr)\n",
    "plt.xlim([0.0, 1.0])\n",
    "plt.ylim([0.0, 1.0])\n",
    "plt.title('Curva ROC')\n",
    "plt.xlabel('Ratio de FP (1 - Recall)')\n",
    "plt.ylabel('Ratio TP (Sensitivity)')\n",
    "plt.grid(True)\n",
    "plt.show()"
   ]
  },
  {
   "cell_type": "markdown",
   "metadata": {},
   "source": [
    "Y mostramos sus thresholds."
   ]
  },
  {
   "cell_type": "code",
   "execution_count": 624,
   "metadata": {},
   "outputs": [
    {
     "data": {
      "text/plain": [
       "array([       inf, 0.93036166, 0.92510528, 0.92170588, 0.89877873,\n",
       "       0.89057228, 0.87316538, 0.87259046, 0.87189516, 0.87039867,\n",
       "       0.8695621 , 0.86861258, 0.85254977, 0.85220224, 0.84383332,\n",
       "       0.84160884, 0.83640341, 0.83632441, 0.83315613, 0.83279882,\n",
       "       0.82800086, 0.82748224, 0.82170053, 0.8214789 , 0.81373026,\n",
       "       0.81238202, 0.8106463 , 0.80927142, 0.80695432, 0.805864  ,\n",
       "       0.80578096, 0.80433085, 0.80254104, 0.80249197, 0.80019972,\n",
       "       0.79954346, 0.79788937, 0.79721182, 0.79642515, 0.7942037 ,\n",
       "       0.79289189, 0.79244953, 0.78979751, 0.78849397, 0.78764965,\n",
       "       0.78759611, 0.78552928, 0.78512564, 0.78195625, 0.7816859 ,\n",
       "       0.77919936, 0.77869564, 0.77683349, 0.77666183, 0.77656701,\n",
       "       0.7762719 , 0.77500881, 0.77468749, 0.7737063 , 0.77270584,\n",
       "       0.77251393, 0.77229814, 0.7718064 , 0.77166635, 0.76810166,\n",
       "       0.76783665, 0.76696738, 0.76598874, 0.76418765, 0.7640365 ,\n",
       "       0.76227783, 0.7620108 , 0.75685053, 0.75665639, 0.75511294,\n",
       "       0.75486734, 0.75087459, 0.74936475, 0.74492654, 0.74477045,\n",
       "       0.74403403, 0.74357989, 0.74321416, 0.7430048 , 0.73832488,\n",
       "       0.73782298, 0.73366069, 0.73226998, 0.72963019, 0.72923168,\n",
       "       0.72662731, 0.72633765, 0.72374876, 0.72363893, 0.72223902,\n",
       "       0.72216175, 0.72202401, 0.72196342, 0.72104043, 0.72080122,\n",
       "       0.72018978, 0.72007951, 0.71865428, 0.71856717, 0.71707898,\n",
       "       0.71696213, 0.71615402, 0.71446402, 0.71165678, 0.71163149,\n",
       "       0.70999248, 0.70930611, 0.70760113, 0.70714422, 0.70680346,\n",
       "       0.70663064, 0.70564718, 0.70531246, 0.704887  , 0.70474689,\n",
       "       0.70444749, 0.70421968, 0.70311921, 0.70311071, 0.7028826 ,\n",
       "       0.70265918, 0.70261759, 0.70185644, 0.69783524, 0.6967291 ,\n",
       "       0.69303729, 0.69284689, 0.69252509, 0.69229027, 0.69134771,\n",
       "       0.69125443, 0.69058105, 0.69014681, 0.68938367, 0.68923168,\n",
       "       0.68918376, 0.6889268 , 0.68735655, 0.68710133, 0.68303673,\n",
       "       0.6826724 , 0.6816501 , 0.68146637, 0.6811241 , 0.68075418,\n",
       "       0.67940288, 0.67926472, 0.6779318 , 0.6778604 , 0.67727448,\n",
       "       0.67712585, 0.67613841, 0.675462  , 0.67433137, 0.6743204 ,\n",
       "       0.67427461, 0.67347673, 0.67332851, 0.67268247, 0.67253539,\n",
       "       0.67251637, 0.6721341 , 0.67181792, 0.66994343, 0.66894125,\n",
       "       0.66837023, 0.66824122, 0.66818141, 0.66748516, 0.66739894,\n",
       "       0.66737115, 0.66722341, 0.66697067, 0.66483326, 0.66469121,\n",
       "       0.66429421, 0.66425019, 0.66386695, 0.66369588, 0.66365098,\n",
       "       0.66360161, 0.66317828, 0.66312441, 0.66259731, 0.66243312,\n",
       "       0.66093433, 0.65996919, 0.6595852 , 0.65929634, 0.65885237,\n",
       "       0.65846769, 0.65845831, 0.65835646, 0.65538796, 0.65486768,\n",
       "       0.65484641, 0.65454234, 0.65249351, 0.65238443, 0.65079125,\n",
       "       0.65037051, 0.65035536, 0.64952675, 0.64920013, 0.64850567,\n",
       "       0.6476523 , 0.64746377, 0.64635715, 0.64566498, 0.64519485,\n",
       "       0.64508303, 0.64477925, 0.64461502, 0.6437162 , 0.64276831,\n",
       "       0.64180306, 0.64139968, 0.6407894 , 0.63989431, 0.63932406,\n",
       "       0.63916069, 0.63772189, 0.63739046, 0.63725657, 0.63712802,\n",
       "       0.63688476, 0.63675369, 0.63642861, 0.63551028, 0.63545018,\n",
       "       0.6345215 , 0.63366124, 0.63357996, 0.63168488, 0.63134442,\n",
       "       0.63115885, 0.63113029, 0.63059107, 0.6305889 , 0.63027919,\n",
       "       0.6301243 , 0.62800887, 0.62786925, 0.62689464, 0.62687441,\n",
       "       0.62587569, 0.62537714, 0.62469412, 0.62461411, 0.62381622,\n",
       "       0.62349596, 0.6231734 , 0.62260909, 0.62205373, 0.62165921,\n",
       "       0.62164841, 0.62112377, 0.62018452, 0.62017756, 0.62004412,\n",
       "       0.61979098, 0.61864599, 0.61863556, 0.61704565, 0.61698693,\n",
       "       0.61636419, 0.61633032, 0.61628702, 0.61612124, 0.61611357,\n",
       "       0.6155524 , 0.61542505, 0.61536347, 0.61490197, 0.61370387,\n",
       "       0.61340833, 0.61326787, 0.61275187, 0.61267791, 0.61201906,\n",
       "       0.61193175, 0.61045558, 0.60911321, 0.60906776, 0.60880376,\n",
       "       0.60735062, 0.60668658, 0.60583753, 0.60554185, 0.60301093,\n",
       "       0.60265788, 0.60256662, 0.60246535, 0.60216569, 0.60211652,\n",
       "       0.60176644, 0.60152978, 0.60131097, 0.60127044, 0.60103942,\n",
       "       0.6009508 , 0.60040033, 0.59897446, 0.59885064, 0.59869284,\n",
       "       0.59867888, 0.59853037, 0.5981956 , 0.59794853, 0.59740814,\n",
       "       0.59732036, 0.59650777, 0.59628387, 0.59596567, 0.59590649,\n",
       "       0.59577914, 0.59547577, 0.59509436, 0.59493182, 0.5936923 ,\n",
       "       0.59368253, 0.59234719, 0.59229343, 0.59111572, 0.58943031,\n",
       "       0.58902077, 0.58793898, 0.586104  , 0.5859361 , 0.5855566 ,\n",
       "       0.58459608, 0.5843804 , 0.58427684, 0.58419826, 0.58412012,\n",
       "       0.581937  , 0.58188033, 0.58142804, 0.58089756, 0.58045363,\n",
       "       0.58032072, 0.57931012, 0.57864056, 0.5780232 , 0.57790582,\n",
       "       0.57767912, 0.57765855, 0.57684108, 0.5766488 , 0.57603827,\n",
       "       0.57571544, 0.57401681, 0.57349075, 0.57291841, 0.57228692,\n",
       "       0.57164115, 0.57141809, 0.57133303, 0.57117861, 0.57110352,\n",
       "       0.57100608, 0.57081615, 0.56917832, 0.56903645, 0.56841866,\n",
       "       0.56823411, 0.56788973, 0.56748655, 0.56742476, 0.56577195,\n",
       "       0.56551753, 0.56490988, 0.56447452, 0.56188495, 0.56168746,\n",
       "       0.55998301, 0.55981118, 0.55853517, 0.55843809, 0.55840357,\n",
       "       0.55784393, 0.55726775, 0.55662558, 0.5565549 , 0.55588663,\n",
       "       0.55557524, 0.55522875, 0.55273517, 0.55250641, 0.55211522,\n",
       "       0.55200999, 0.55156913, 0.55099728, 0.55053004, 0.55037593,\n",
       "       0.5502796 , 0.55009649, 0.54927009, 0.54924609, 0.5482413 ,\n",
       "       0.54735175, 0.54556116, 0.54546693, 0.54384389, 0.54351754,\n",
       "       0.54273597, 0.54261549, 0.54257228, 0.54198896, 0.54125632,\n",
       "       0.54119325, 0.54099454, 0.54076645, 0.54055914, 0.54054388,\n",
       "       0.54054166, 0.54043562, 0.53979794, 0.53939769, 0.5378556 ,\n",
       "       0.53762499, 0.53642293, 0.53560694, 0.53520093, 0.53364032,\n",
       "       0.53339505, 0.53322248, 0.5324758 , 0.53215714, 0.53114813,\n",
       "       0.5308244 , 0.52903894, 0.52863828, 0.52549896, 0.52538848,\n",
       "       0.52508359, 0.52410769, 0.52344274, 0.52222719, 0.52135322,\n",
       "       0.52130365, 0.52120842, 0.52100222, 0.52015149, 0.51968689,\n",
       "       0.51915421, 0.51843402, 0.51798707, 0.51745538, 0.51732652,\n",
       "       0.51727127, 0.51699392, 0.51604712, 0.51575876, 0.51471254,\n",
       "       0.51398571, 0.51397126, 0.51277109, 0.51217622, 0.51212684,\n",
       "       0.511748  , 0.51170404, 0.51162487, 0.51147287, 0.51135814,\n",
       "       0.51097236, 0.51062391, 0.50951858, 0.50942091, 0.50911845,\n",
       "       0.50894102, 0.5083322 , 0.50830175, 0.50816549, 0.50758755,\n",
       "       0.50754205, 0.50601542, 0.50374943, 0.5032264 , 0.50293334,\n",
       "       0.50243297, 0.50010216, 0.50003259, 0.49996189, 0.49861251,\n",
       "       0.49828528, 0.49802311, 0.49801163, 0.49768751, 0.4975385 ,\n",
       "       0.4966832 , 0.49566323, 0.49554071, 0.49341038, 0.49322907,\n",
       "       0.49298177, 0.49158441, 0.49090904, 0.49073786, 0.4906002 ,\n",
       "       0.49032678, 0.48926661, 0.48903977, 0.48840694, 0.48710538,\n",
       "       0.48651065, 0.48640991, 0.48412091, 0.48322766, 0.48194649,\n",
       "       0.48167806, 0.48067838, 0.48067739, 0.48053265, 0.48052428,\n",
       "       0.47938892, 0.47912954, 0.47859061, 0.47829609, 0.47668451,\n",
       "       0.47651517, 0.47607302, 0.47561469, 0.47511437, 0.47387374,\n",
       "       0.47372175, 0.47305402, 0.47259682, 0.47242508, 0.47237338,\n",
       "       0.47193847, 0.47128734, 0.47127536, 0.47100745, 0.470959  ,\n",
       "       0.47055559, 0.47017776, 0.46948782, 0.46873072, 0.46862779,\n",
       "       0.46832897, 0.467422  , 0.46680714, 0.46639078, 0.46566349,\n",
       "       0.46038144, 0.4602108 , 0.46011945, 0.45949035, 0.45871416,\n",
       "       0.45744418, 0.45727967, 0.45724345, 0.45556797, 0.45346555,\n",
       "       0.45313978, 0.4512947 , 0.45104593, 0.45047785, 0.45047719,\n",
       "       0.44890254, 0.4460896 , 0.4460627 , 0.44569001, 0.445055  ,\n",
       "       0.4448693 , 0.44365883, 0.44290481, 0.44183107, 0.44181921,\n",
       "       0.44168305, 0.44039738, 0.4401514 , 0.43959966, 0.43938711,\n",
       "       0.43913097, 0.43851729, 0.43847394, 0.43841205, 0.43692432,\n",
       "       0.43685153, 0.43681136, 0.436136  , 0.43564644, 0.43518736,\n",
       "       0.43406121, 0.43404346, 0.43245294, 0.4319921 , 0.43188754,\n",
       "       0.43102328, 0.43092334, 0.43059874, 0.42972389, 0.42858877,\n",
       "       0.42690682, 0.42679225, 0.42641325, 0.42637442, 0.42573425,\n",
       "       0.42317443, 0.42271457, 0.421516  , 0.41851757, 0.41760161,\n",
       "       0.41704161, 0.41696145, 0.41646837, 0.41636791, 0.41530479,\n",
       "       0.4153038 , 0.4145659 , 0.41282753, 0.41264831, 0.41263727,\n",
       "       0.4116659 , 0.41135298, 0.411205  , 0.40850328, 0.40438064,\n",
       "       0.40412961, 0.40387797, 0.40294922, 0.40242653, 0.40239615,\n",
       "       0.40087897, 0.40035938, 0.39867438, 0.39852206, 0.39807327,\n",
       "       0.3965995 , 0.39542101, 0.39506799, 0.39481158, 0.3947192 ,\n",
       "       0.39147702, 0.39113793, 0.38914056, 0.38786241, 0.38756782,\n",
       "       0.38727564, 0.38632484, 0.38615121, 0.3845195 , 0.38272553,\n",
       "       0.38215672, 0.38175024, 0.38174531, 0.38164876, 0.38164295,\n",
       "       0.38037025, 0.37947557, 0.37897023, 0.37827748, 0.37597402,\n",
       "       0.37425518, 0.37350841, 0.37146057, 0.36966353, 0.36954521,\n",
       "       0.36933729, 0.36873042, 0.36834889, 0.36754548, 0.36431273,\n",
       "       0.36416027, 0.3634268 , 0.36250113, 0.36182821, 0.36085947,\n",
       "       0.35900745, 0.35836689, 0.35794295, 0.35788792, 0.35787851,\n",
       "       0.35628477, 0.35628409, 0.35547724, 0.35293328, 0.35128863,\n",
       "       0.35054229, 0.35047104, 0.34768219, 0.34753136, 0.34752374,\n",
       "       0.34578928, 0.34299161, 0.34176722, 0.34079778, 0.34050921,\n",
       "       0.34000092, 0.33957507, 0.33874508, 0.33818619, 0.33770818,\n",
       "       0.33592291, 0.33558684, 0.3334587 , 0.33273142, 0.33256617,\n",
       "       0.32947089, 0.32774359, 0.32734132, 0.32701418, 0.32608948,\n",
       "       0.32447878, 0.32412873, 0.32376079, 0.32170773, 0.32069946,\n",
       "       0.32007972, 0.3193676 , 0.316101  , 0.31382075, 0.31335246,\n",
       "       0.31201698, 0.31063434, 0.31005315, 0.3076605 , 0.30651828,\n",
       "       0.30598605, 0.30460794, 0.30429   , 0.30325515, 0.30198805,\n",
       "       0.30176218, 0.30005007, 0.29732355, 0.29685497, 0.29336395,\n",
       "       0.29171344, 0.29003926, 0.28988657, 0.28849677, 0.28786097,\n",
       "       0.28721651, 0.28517988, 0.28165679, 0.28146119, 0.28068026,\n",
       "       0.27956372, 0.27546832, 0.27030117, 0.26756039, 0.2675494 ,\n",
       "       0.26257446, 0.25863111, 0.25611711, 0.25147732, 0.24748004,\n",
       "       0.24414224, 0.24191162, 0.22520975, 0.22373886, 0.21448793,\n",
       "       0.20109756, 0.19995503, 0.19917384, 0.19666683, 0.18732067,\n",
       "       0.18547543, 0.16615804, 0.15938551, 0.13689148, 0.12968437])"
      ]
     },
     "execution_count": 624,
     "metadata": {},
     "output_type": "execute_result"
    }
   ],
   "source": [
    "thresholds"
   ]
  },
  {
   "cell_type": "markdown",
   "metadata": {},
   "source": [
    "Como se observa el resultado no es bueno ya que estamos obteniendo practicamente una recta en vez de una curva en forma de 'L' invertida."
   ]
  },
  {
   "cell_type": "markdown",
   "metadata": {},
   "source": [
    "La siguiente gráfica muestra las probabilidades de predicción en función de los umbrales."
   ]
  },
  {
   "cell_type": "code",
   "execution_count": 625,
   "metadata": {},
   "outputs": [
    {
     "data": {
      "text/plain": [
       "array([<Axes: title={'center': '0'}>, <Axes: title={'center': '1'}>],\n",
       "      dtype=object)"
      ]
     },
     "execution_count": 625,
     "metadata": {},
     "output_type": "execute_result"
    },
    {
     "data": {
      "image/png": "[encoded data removed]",
      "text/plain": [
       "<Figure size 640x480 with 2 Axes>"
      ]
     },
     "metadata": {},
     "output_type": "display_data"
    }
   ],
   "source": [
    "dprob = pd.DataFrame(data = {'probability':y_pred_prob_LR, 'actual':y_test})\n",
    "dprob.probability.hist(by=dprob.actual, sharex=True, sharey=True)"
   ]
  },
  {
   "cell_type": "markdown",
   "metadata": {},
   "source": [
    "Se muestra que los mejores resultados para ambas clases se obtiene con el *threshold* igual a 0.5 aproximandamente para los 0s y 0.6 para los 1s."
   ]
  },
  {
   "cell_type": "code",
   "execution_count": 734,
   "metadata": {},
   "outputs": [
    {
     "name": "stdout",
     "output_type": "stream",
     "text": [
      "Sensitivity: 0.8295165394402035\n",
      "Recall: 0.2880523731587561\n"
     ]
    }
   ],
   "source": [
    "best_thres_LR = 0.45\n",
    "\n",
    "evaluate_threshold(best_thres_LR)"
   ]
  },
  {
   "cell_type": "markdown",
   "metadata": {},
   "source": [
    "Con este valor se obtienen los siguientes resultados. Primero se recalculan las predicciones."
   ]
  },
  {
   "cell_type": "code",
   "execution_count": 735,
   "metadata": {},
   "outputs": [],
   "source": [
    "probs_LR = model_LR.predict_proba(X_model_test)[:, 1]  \n",
    "pred_thres_LR = (probs_LR >= best_thres_LR).astype(int) "
   ]
  },
  {
   "cell_type": "markdown",
   "metadata": {},
   "source": [
    "Se evalua la matriz de confusión."
   ]
  },
  {
   "cell_type": "code",
   "execution_count": 736,
   "metadata": {},
   "outputs": [
    {
     "name": "stdout",
     "output_type": "stream",
     "text": [
      "[[190 421]\n",
      " [208 971]]\n"
     ]
    }
   ],
   "source": [
    "print(confusion_matrix(expected, pred_thres_LR))"
   ]
  },
  {
   "cell_type": "markdown",
   "metadata": {},
   "source": [
    "Y también se analiza el informe de la clasificación."
   ]
  },
  {
   "cell_type": "code",
   "execution_count": 737,
   "metadata": {},
   "outputs": [
    {
     "name": "stdout",
     "output_type": "stream",
     "text": [
      "              precision    recall  f1-score   support\n",
      "\n",
      "           0       0.48      0.31      0.38       611\n",
      "           1       0.70      0.82      0.76      1179\n",
      "\n",
      "    accuracy                           0.65      1790\n",
      "   macro avg       0.59      0.57      0.57      1790\n",
      "weighted avg       0.62      0.65      0.63      1790\n",
      "\n"
     ]
    }
   ],
   "source": [
    "print(classification_report(expected, pred_thres_LR))"
   ]
  },
  {
   "cell_type": "markdown",
   "metadata": {},
   "source": [
    "Finalmente se calcula el valor de AUC."
   ]
  },
  {
   "cell_type": "code",
   "execution_count": 738,
   "metadata": {},
   "outputs": [
    {
     "name": "stdout",
     "output_type": "stream",
     "text": [
      "0.5919667559264765\n"
     ]
    }
   ],
   "source": [
    "print(roc_auc_score(expected, predicted_LR))"
   ]
  },
  {
   "cell_type": "markdown",
   "metadata": {},
   "source": [
    "Se ha obtenido un valor entre 0.5 y 0.6, es decir, el modelo se considerá como fallido o *F*."
   ]
  },
  {
   "cell_type": "markdown",
   "metadata": {},
   "source": [
    "### 7.5.6 Optimizacion"
   ]
  },
  {
   "cell_type": "markdown",
   "metadata": {},
   "source": [
    "Antes de nada, observamos cuales son los parámetros de nuestro modelo."
   ]
  },
  {
   "cell_type": "code",
   "execution_count": 631,
   "metadata": {},
   "outputs": [
    {
     "data": {
      "text/plain": [
       "{'C': 1.0,\n",
       " 'class_weight': None,\n",
       " 'dual': False,\n",
       " 'fit_intercept': True,\n",
       " 'intercept_scaling': 1,\n",
       " 'l1_ratio': None,\n",
       " 'max_iter': 200,\n",
       " 'multi_class': 'deprecated',\n",
       " 'n_jobs': -1,\n",
       " 'penalty': 'l2',\n",
       " 'random_state': 42,\n",
       " 'solver': 'lbfgs',\n",
       " 'tol': 0.0001,\n",
       " 'verbose': 0,\n",
       " 'warm_start': False}"
      ]
     },
     "execution_count": 631,
     "metadata": {},
     "output_type": "execute_result"
    }
   ],
   "source": [
    "model_LR.get_params()"
   ]
  },
  {
   "cell_type": "markdown",
   "metadata": {},
   "source": [
    "Ahora seleccionamos los hiperparámetros a evaluar mediante un GridSearchCV. Además, se ha añadido la librería *time* para saber el tiempo que tardo en realizar la busqueda de mejores parámetros.\n",
    "\n",
    "Estos hiperparámetros son:\n",
    "* ***penalty***: tipo de regularización (penaliza coeficientes grandes para evitar overfitting)\n",
    "* ***C***: inverso de la fuerza de regularización (más pequeño = más regularización)\n",
    "* ***solver***: algoritmo de optimización\n",
    "* ***min_samples_leaf***: número de muestras mínimas de un nodo hoja.\n",
    "* ***max_iter***: máximo número de iteraciones para converger"
   ]
  },
  {
   "cell_type": "raw",
   "metadata": {
    "vscode": {
     "languageId": "raw"
    }
   },
   "source": [
    "optm_LR = LogisticRegression(random_state=42, n_jobs=-1)\n",
    "\n",
    "param_grid = {\n",
    "    'penalty': ['l1', 'l2', 'elasticnet', 'none'],\n",
    "    'C': [0.01, 0.1, 1, 10, 100],\n",
    "    'solver': ['liblinear', 'saga'],\n",
    "    'l1_ratio': [0, 0.5, 1],  # solo se usa con penalty='elasticnet'\n",
    "    'max_iter': [100, 500, 1000]\n",
    "}\n",
    "\n",
    "grid_search = GridSearchCV(optm_LR, param_grid=param_grid, cv=3, scoring=make_scorer(f1_score, average='weighted'), n_jobs=-1)\n",
    "\n",
    "inicio = time.time()\n",
    "grid_search.fit(X_model, y_model)\n",
    "fin = time.time()"
   ]
  },
  {
   "cell_type": "markdown",
   "metadata": {},
   "source": [
    "Se calcula el tiempo que ha tardado en minutos."
   ]
  },
  {
   "cell_type": "raw",
   "metadata": {
    "vscode": {
     "languageId": "raw"
    }
   },
   "source": [
    "tiempo_total = (fin - inicio) / 60\n",
    "print(f\"La celda tardó {tiempo_total} minutos en ejecutarse.\")"
   ]
  },
  {
   "cell_type": "markdown",
   "metadata": {},
   "source": [
    "Se escoge el mejor parámetro y su  precisión asociada."
   ]
  },
  {
   "cell_type": "raw",
   "metadata": {
    "vscode": {
     "languageId": "raw"
    }
   },
   "source": [
    "print(\"Mejores parámetros: \", grid_search.best_params_)\n",
    "print(\"Mejor score: \", grid_search.best_score_)"
   ]
  },
  {
   "cell_type": "markdown",
   "metadata": {},
   "source": [
    "Observamos los mejores 10 casos para analizar varias posibilidades."
   ]
  },
  {
   "cell_type": "raw",
   "metadata": {
    "vscode": {
     "languageId": "raw"
    }
   },
   "source": [
    "results_df = pd.DataFrame(grid_search.cv_results_)"
   ]
  },
  {
   "cell_type": "raw",
   "metadata": {
    "vscode": {
     "languageId": "raw"
    }
   },
   "source": [
    "top_10_models = results_df.nlargest(10, \"mean_test_score\")\n",
    "\n",
    "print(\"\\nLos 10 mejores modelos:\")\n",
    "for index, row in top_10_models.iterrows():\n",
    "    print(\"\\nModelo:\")\n",
    "    print(f\"Parámetros: {row['params']}\")\n",
    "    print(f\"Puntuación media de prueba: {row['mean_test_score']}\")"
   ]
  },
  {
   "cell_type": "markdown",
   "metadata": {},
   "source": [
    "### 7.5.7 Entrenamiento y evaluacion con hiperparametros optimizados"
   ]
  },
  {
   "cell_type": "markdown",
   "metadata": {},
   "source": [
    "#### - Definicion"
   ]
  },
  {
   "cell_type": "markdown",
   "metadata": {},
   "source": [
    "Definimos los mejores parámetros (no se define con *grid_search.best_params_* para probar varias opciones de forma sencilla)."
   ]
  },
  {
   "cell_type": "code",
   "execution_count": 739,
   "metadata": {},
   "outputs": [],
   "source": [
    "params_final_LR = {\n",
    "    'penalty': 'elasticnet',\n",
    "    'C': 10,\n",
    "    'solver':  'saga',\n",
    "    'l1_ratio': 0.5,\n",
    "    'max_iter': 500, \n",
    "}"
   ]
  },
  {
   "cell_type": "markdown",
   "metadata": {},
   "source": [
    "Definimos el modelo desagregando el diccionario."
   ]
  },
  {
   "cell_type": "code",
   "execution_count": 740,
   "metadata": {},
   "outputs": [],
   "source": [
    "final_LR = LogisticRegression(**params_final_LR)"
   ]
  },
  {
   "cell_type": "markdown",
   "metadata": {},
   "source": [
    "#### - Entrenamiento y evaluacion"
   ]
  },
  {
   "cell_type": "markdown",
   "metadata": {},
   "source": [
    "Entrenamos el modelo y comprobamos su exactitud."
   ]
  },
  {
   "cell_type": "code",
   "execution_count": 741,
   "metadata": {},
   "outputs": [],
   "source": [
    "final_LR.fit(X_model, y_model)\n",
    "\n",
    "predicted_LR_opt = final_LR.predict(X_model_test)"
   ]
  },
  {
   "cell_type": "code",
   "execution_count": 742,
   "metadata": {},
   "outputs": [
    {
     "data": {
      "text/plain": [
       "0.6050279329608939"
      ]
     },
     "execution_count": 742,
     "metadata": {},
     "output_type": "execute_result"
    }
   ],
   "source": [
    "accuracy_score(expected, predicted_LR_opt)"
   ]
  },
  {
   "cell_type": "markdown",
   "metadata": {},
   "source": [
    "#### - Null accuracy"
   ]
  },
  {
   "cell_type": "markdown",
   "metadata": {},
   "source": [
    "La accuracy es un poco mejor pero similar a la anterior. Además, sigue siendo peor que la *null accuracy*."
   ]
  },
  {
   "cell_type": "markdown",
   "metadata": {},
   "source": [
    "#### - Matriz de confusion y F-score"
   ]
  },
  {
   "cell_type": "markdown",
   "metadata": {},
   "source": [
    "La matriz de confusión y el informe de clasificación también es muy similar."
   ]
  },
  {
   "cell_type": "code",
   "execution_count": 743,
   "metadata": {},
   "outputs": [
    {
     "name": "stdout",
     "output_type": "stream",
     "text": [
      "[[268 343]\n",
      " [364 815]]\n"
     ]
    }
   ],
   "source": [
    "print(confusion_matrix(expected, predicted_LR_opt))"
   ]
  },
  {
   "cell_type": "code",
   "execution_count": 744,
   "metadata": {},
   "outputs": [
    {
     "name": "stdout",
     "output_type": "stream",
     "text": [
      "              precision    recall  f1-score   support\n",
      "\n",
      "           0       0.42      0.44      0.43       611\n",
      "           1       0.70      0.69      0.70      1179\n",
      "\n",
      "    accuracy                           0.61      1790\n",
      "   macro avg       0.56      0.56      0.56      1790\n",
      "weighted avg       0.61      0.61      0.61      1790\n",
      "\n"
     ]
    }
   ],
   "source": [
    "print(classification_report(expected, predicted_LR_opt))"
   ]
  },
  {
   "cell_type": "markdown",
   "metadata": {},
   "source": [
    "#### - ROC y AUC"
   ]
  },
  {
   "cell_type": "markdown",
   "metadata": {},
   "source": [
    "Se calcula el ROC y se reajusta el umbral de probabilidad."
   ]
  },
  {
   "cell_type": "code",
   "execution_count": 745,
   "metadata": {},
   "outputs": [
    {
     "data": {
      "image/png": "[encoded data removed]",
      "text/plain": [
       "<Figure size 640x480 with 1 Axes>"
      ]
     },
     "metadata": {},
     "output_type": "display_data"
    }
   ],
   "source": [
    "y_pred_prob_LR = final_LR.predict_proba(X_model_test)[:,1]\n",
    "fpr, tpr, thresholds = roc_curve(y_test, y_pred_prob_LR)\n",
    "plt.plot(fpr, tpr)\n",
    "plt.xlim([0.0, 1.0])\n",
    "plt.ylim([0.0, 1.0])\n",
    "plt.title('Curva ROC')\n",
    "plt.xlabel('Ratio de FP (1 - Recall)')\n",
    "plt.ylabel('Ratio TP (Sensitivity)')\n",
    "plt.grid(True)\n",
    "plt.show()"
   ]
  },
  {
   "cell_type": "code",
   "execution_count": 746,
   "metadata": {},
   "outputs": [
    {
     "data": {
      "text/plain": [
       "array([       inf, 0.98995556, 0.97692401, 0.97587281, 0.96900134,\n",
       "       0.96894325, 0.96645482, 0.9644974 , 0.95568188, 0.95489985,\n",
       "       0.94991407, 0.94876673, 0.94338038, 0.94249997, 0.94209949,\n",
       "       0.94087936, 0.93682445, 0.93671715, 0.93516986, 0.93435294,\n",
       "       0.93382605, 0.93338072, 0.92553384, 0.9254546 , 0.92326881,\n",
       "       0.92221879, 0.92099645, 0.92082737, 0.91349308, 0.91267224,\n",
       "       0.91170551, 0.91144577, 0.89824811, 0.89773875, 0.89721221,\n",
       "       0.89687484, 0.89411881, 0.89410126, 0.89289649, 0.8922367 ,\n",
       "       0.88319624, 0.88304419, 0.87998899, 0.87979757, 0.87912922,\n",
       "       0.87883018, 0.87861936, 0.87857495, 0.87643088, 0.87633245,\n",
       "       0.87619876, 0.87378161, 0.86914858, 0.86913573, 0.86800805,\n",
       "       0.86734762, 0.86268689, 0.86193623, 0.86166544, 0.86164582,\n",
       "       0.86013871, 0.85972283, 0.85774636, 0.85743097, 0.85720978,\n",
       "       0.85592413, 0.85494556, 0.85437829, 0.84751423, 0.8474286 ,\n",
       "       0.84662353, 0.84630245, 0.84518523, 0.84476255, 0.84378587,\n",
       "       0.84253259, 0.84096952, 0.84069079, 0.83895667, 0.83880777,\n",
       "       0.83876984, 0.83839657, 0.83677437, 0.83669907, 0.83570898,\n",
       "       0.83480017, 0.83440153, 0.83407453, 0.83146276, 0.83101255,\n",
       "       0.82935679, 0.82895965, 0.8289496 , 0.82876936, 0.82695571,\n",
       "       0.82579212, 0.82401971, 0.8239206 , 0.81835926, 0.81822793,\n",
       "       0.81716172, 0.81652715, 0.81615282, 0.81576285, 0.81569588,\n",
       "       0.81510389, 0.81383   , 0.81065453, 0.80914072, 0.8091311 ,\n",
       "       0.8086641 , 0.80828113, 0.80783353, 0.80675254, 0.80656052,\n",
       "       0.80590342, 0.80464919, 0.80428896, 0.80409119, 0.80401933,\n",
       "       0.80201361, 0.80155067, 0.80047189, 0.79966515, 0.79893633,\n",
       "       0.79886265, 0.79855805, 0.79847534, 0.79513182, 0.79481319,\n",
       "       0.79478983, 0.79460676, 0.79273936, 0.79231855, 0.78757771,\n",
       "       0.78748926, 0.7874305 , 0.78656711, 0.78406341, 0.78350815,\n",
       "       0.78261885, 0.78190754, 0.78122279, 0.78082642, 0.77916805,\n",
       "       0.77900404, 0.77576724, 0.77348006, 0.77266018, 0.77173593,\n",
       "       0.77152591, 0.77123266, 0.77028434, 0.76998361, 0.76949806,\n",
       "       0.76802187, 0.76743076, 0.76718421, 0.76573326, 0.76536205,\n",
       "       0.76325918, 0.7631405 , 0.75809215, 0.75802547, 0.75395606,\n",
       "       0.75351243, 0.75294759, 0.75289618, 0.75141364, 0.75125736,\n",
       "       0.75022455, 0.74945378, 0.74737675, 0.74603767, 0.74531842,\n",
       "       0.74437161, 0.74392058, 0.74354092, 0.74329933, 0.74230005,\n",
       "       0.74216959, 0.74191178, 0.74143936, 0.74065728, 0.7401292 ,\n",
       "       0.73996441, 0.73818508, 0.73720298, 0.7370451 , 0.73698829,\n",
       "       0.73672689, 0.73542098, 0.73335261, 0.73280353, 0.73159637,\n",
       "       0.73007644, 0.72846434, 0.72843221, 0.72815898, 0.72742006,\n",
       "       0.72577575, 0.72571231, 0.72533714, 0.724888  , 0.724251  ,\n",
       "       0.72368884, 0.72029139, 0.7196774 , 0.71957859, 0.71896395,\n",
       "       0.71757564, 0.71697937, 0.71691961, 0.71667586, 0.71651275,\n",
       "       0.71629772, 0.71605053, 0.71561682, 0.71306924, 0.71279452,\n",
       "       0.71191016, 0.71143142, 0.70964336, 0.70939816, 0.70820346,\n",
       "       0.70716082, 0.70362891, 0.70316228, 0.70302434, 0.70135125,\n",
       "       0.70075082, 0.7001618 , 0.69901173, 0.69887219, 0.69877575,\n",
       "       0.69855281, 0.69849128, 0.69797947, 0.69766334, 0.69757155,\n",
       "       0.69703722, 0.69601728, 0.69434723, 0.69425112, 0.69403698,\n",
       "       0.69302785, 0.69247646, 0.69141723, 0.68909213, 0.68839075,\n",
       "       0.68717132, 0.68705433, 0.68579352, 0.68502229, 0.68244422,\n",
       "       0.68167804, 0.67933634, 0.67904067, 0.67686699, 0.67667672,\n",
       "       0.67495015, 0.67482706, 0.67328394, 0.6729029 , 0.67262916,\n",
       "       0.67227711, 0.67139938, 0.67061976, 0.66861592, 0.66844568,\n",
       "       0.66812249, 0.66721416, 0.66686955, 0.6659296 , 0.66360343,\n",
       "       0.6622365 , 0.66213722, 0.66023301, 0.65913779, 0.65800387,\n",
       "       0.65765836, 0.6568506 , 0.6555644 , 0.6554632 , 0.65080169,\n",
       "       0.64996777, 0.64554997, 0.64377751, 0.64335264, 0.64293277,\n",
       "       0.64209728, 0.64125665, 0.63984468, 0.63937073, 0.63862671,\n",
       "       0.63806071, 0.6375701 , 0.63749466, 0.63517489, 0.63447584,\n",
       "       0.6304438 , 0.6304084 , 0.63006755, 0.63005945, 0.62836268,\n",
       "       0.6277766 , 0.62399846, 0.62322213, 0.62113947, 0.61987699,\n",
       "       0.61923028, 0.61919677, 0.61893746, 0.61804453, 0.61746819,\n",
       "       0.615148  , 0.61414303, 0.61358288, 0.60535299, 0.60525376,\n",
       "       0.60468099, 0.6038145 , 0.6019024 , 0.60189675, 0.60068579,\n",
       "       0.60057677, 0.60050197, 0.59970539, 0.59793811, 0.59713231,\n",
       "       0.59652423, 0.59642857, 0.59604487, 0.59586354, 0.59580479,\n",
       "       0.59557689, 0.5944    , 0.59248416, 0.59242102, 0.59213482,\n",
       "       0.59070436, 0.59069322, 0.59042914, 0.590382  , 0.58960351,\n",
       "       0.58940829, 0.5886869 , 0.58792979, 0.58579036, 0.58488088,\n",
       "       0.58461785, 0.58423088, 0.58328561, 0.58246801, 0.58189105,\n",
       "       0.5818278 , 0.58160567, 0.57917736, 0.57828076, 0.5771975 ,\n",
       "       0.57590945, 0.57586016, 0.57415605, 0.57223752, 0.57216462,\n",
       "       0.57145699, 0.57134363, 0.5712056 , 0.57114617, 0.57057789,\n",
       "       0.57011401, 0.56998959, 0.56997786, 0.56994952, 0.56974207,\n",
       "       0.56934208, 0.56907018, 0.56721901, 0.56473734, 0.56455476,\n",
       "       0.5640003 , 0.5636395 , 0.560028  , 0.55951452, 0.55755234,\n",
       "       0.5570051 , 0.55671628, 0.55655206, 0.55553824, 0.55459648,\n",
       "       0.55453571, 0.5544427 , 0.55367524, 0.55366427, 0.55328387,\n",
       "       0.55319435, 0.55309711, 0.55219622, 0.55160818, 0.54935234,\n",
       "       0.54894684, 0.54884264, 0.54796524, 0.54649473, 0.54645651,\n",
       "       0.54559274, 0.54443287, 0.5436574 , 0.54305704, 0.5430499 ,\n",
       "       0.54290396, 0.54226645, 0.54129512, 0.54019001, 0.53820791,\n",
       "       0.53776655, 0.53770508, 0.53770429, 0.53662295, 0.53622318,\n",
       "       0.53615263, 0.53468612, 0.5341628 , 0.53384807, 0.53367154,\n",
       "       0.53217402, 0.5309598 , 0.53052985, 0.52948039, 0.52846964,\n",
       "       0.52730142, 0.52711735, 0.52561196, 0.52179709, 0.52172338,\n",
       "       0.52136712, 0.52045313, 0.51925576, 0.51925347, 0.51914894,\n",
       "       0.51849529, 0.51825099, 0.51774055, 0.51771408, 0.5165128 ,\n",
       "       0.51623158, 0.51529398, 0.51528807, 0.51423099, 0.51338005,\n",
       "       0.51335842, 0.51333045, 0.51113792, 0.51071776, 0.50864639,\n",
       "       0.50859146, 0.50711486, 0.50643397, 0.50510941, 0.50496845,\n",
       "       0.50454264, 0.50336114, 0.50146349, 0.49970614, 0.49824707,\n",
       "       0.49811262, 0.4978287 , 0.49752842, 0.49653712, 0.49611905,\n",
       "       0.49186917, 0.49158636, 0.49060273, 0.49026159, 0.49015797,\n",
       "       0.48961816, 0.48921196, 0.48854819, 0.48841235, 0.48770511,\n",
       "       0.48695626, 0.48660542, 0.48633998, 0.4855886 , 0.48409705,\n",
       "       0.48405004, 0.4837063 , 0.4836671 , 0.48099918, 0.48098068,\n",
       "       0.48061062, 0.47941399, 0.47890464, 0.47879918, 0.47871843,\n",
       "       0.47671442, 0.47568481, 0.47552175, 0.47343096, 0.4724834 ,\n",
       "       0.4704726 , 0.46967552, 0.46653526, 0.46475918, 0.46448254,\n",
       "       0.46408301, 0.46120864, 0.4600299 , 0.45955279, 0.45846375,\n",
       "       0.45779633, 0.45588655, 0.45487505, 0.45407552, 0.45247695,\n",
       "       0.45101098, 0.45088456, 0.45066474, 0.44716257, 0.44699403,\n",
       "       0.4464371 , 0.44621091, 0.44596014, 0.44572737, 0.4455362 ,\n",
       "       0.44459558, 0.44375695, 0.4435263 , 0.44109679, 0.44041361,\n",
       "       0.43969918, 0.43872182, 0.43856474, 0.43719172, 0.43339705,\n",
       "       0.43192981, 0.42815303, 0.42810584, 0.42750478, 0.4270938 ,\n",
       "       0.42106761, 0.42073062, 0.42009698, 0.42001263, 0.41772915,\n",
       "       0.41771795, 0.41677826, 0.41566189, 0.41442092, 0.41349378,\n",
       "       0.41061306, 0.41040499, 0.41029987, 0.40917838, 0.4084667 ,\n",
       "       0.40814936, 0.40310725, 0.40265475, 0.40244624, 0.40212342,\n",
       "       0.39928725, 0.39810014, 0.39782686, 0.39631201, 0.39580796,\n",
       "       0.39553823, 0.39462195, 0.3946115 , 0.39446219, 0.39431612,\n",
       "       0.39358165, 0.39254923, 0.39196156, 0.39093186, 0.39023304,\n",
       "       0.39020538, 0.38854663, 0.38725348, 0.38563484, 0.38494447,\n",
       "       0.38414704, 0.38339892, 0.38313471, 0.38223214, 0.38169556,\n",
       "       0.38052049, 0.37972579, 0.37766323, 0.37721495, 0.37656148,\n",
       "       0.37564853, 0.37056212, 0.36744757, 0.36710564, 0.36620238,\n",
       "       0.36525364, 0.36409182, 0.36371997, 0.362452  , 0.36242984,\n",
       "       0.3587107 , 0.35824993, 0.35680859, 0.3566183 , 0.35621309,\n",
       "       0.35442403, 0.35428677, 0.35400495, 0.35358589, 0.34847166,\n",
       "       0.34801287, 0.34706997, 0.34661209, 0.34592278, 0.34569078,\n",
       "       0.34302909, 0.34302796, 0.34301103, 0.33971272, 0.33536823,\n",
       "       0.33304022, 0.33254245, 0.32875355, 0.32827702, 0.32780974,\n",
       "       0.32742444, 0.32596435, 0.32368587, 0.32294162, 0.32015134,\n",
       "       0.31474211, 0.31440838, 0.3138391 , 0.30713297, 0.3070127 ,\n",
       "       0.30538871, 0.30537918, 0.30312639, 0.30178202, 0.29923877,\n",
       "       0.29712478, 0.29447642, 0.2940222 , 0.29359337, 0.29307743,\n",
       "       0.29293217, 0.29045727, 0.28953236, 0.28623606, 0.28601526,\n",
       "       0.28551541, 0.28241936, 0.28182524, 0.28121432, 0.28101627,\n",
       "       0.28065083, 0.27770434, 0.27740633, 0.27725381, 0.27679641,\n",
       "       0.27664576, 0.27622393, 0.27522499, 0.27418684, 0.27128102,\n",
       "       0.26845518, 0.26643456, 0.26625684, 0.26588578, 0.26477303,\n",
       "       0.26293101, 0.26288964, 0.25974252, 0.25703985, 0.25254003,\n",
       "       0.25013519, 0.24995015, 0.24916428, 0.24816991, 0.24773578,\n",
       "       0.24725158, 0.24688349, 0.24419198, 0.24403254, 0.23573258,\n",
       "       0.23340022, 0.2307165 , 0.2302069 , 0.22882394, 0.22838479,\n",
       "       0.22792693, 0.2256651 , 0.22390046, 0.22321514, 0.22260039,\n",
       "       0.22182826, 0.22162575, 0.22051469, 0.22015025, 0.21921523,\n",
       "       0.21512904, 0.21214437, 0.20889798, 0.20680749, 0.20546605,\n",
       "       0.20465818, 0.20421354, 0.20370758, 0.2016033 , 0.2012599 ,\n",
       "       0.20120922, 0.19855375, 0.19689181, 0.1953693 , 0.19324602,\n",
       "       0.19231974, 0.18823474, 0.18763118, 0.18693015, 0.18527006,\n",
       "       0.18369949, 0.18312441, 0.18257966, 0.18235291, 0.17959855,\n",
       "       0.17765135, 0.17135285, 0.17092943, 0.17057702, 0.16979645,\n",
       "       0.16500405, 0.16489909, 0.16143089, 0.15775406, 0.15727465,\n",
       "       0.15509954, 0.15338608, 0.15182181, 0.14256049, 0.13357323,\n",
       "       0.13215797, 0.13018392, 0.12845584, 0.12600249, 0.12321098,\n",
       "       0.12058298, 0.11759185, 0.1111174 , 0.11043956, 0.10883547,\n",
       "       0.10534771, 0.09753998, 0.09319177, 0.08737168, 0.0813838 ,\n",
       "       0.07732622, 0.07490069, 0.04156503, 0.01759366])"
      ]
     },
     "execution_count": 746,
     "metadata": {},
     "output_type": "execute_result"
    }
   ],
   "source": [
    "thresholds"
   ]
  },
  {
   "cell_type": "code",
   "execution_count": 747,
   "metadata": {},
   "outputs": [
    {
     "data": {
      "text/plain": [
       "array([<Axes: title={'center': '0'}>, <Axes: title={'center': '1'}>],\n",
       "      dtype=object)"
      ]
     },
     "execution_count": 747,
     "metadata": {},
     "output_type": "execute_result"
    },
    {
     "data": {
      "image/png": "[encoded data removed]",
      "text/plain": [
       "<Figure size 640x480 with 2 Axes>"
      ]
     },
     "metadata": {},
     "output_type": "display_data"
    }
   ],
   "source": [
    "dprob = pd.DataFrame(data = {'probability':y_pred_prob_LR, 'actual':y_test})\n",
    "dprob.probability.hist(by=dprob.actual, sharex=True, sharey=True)"
   ]
  },
  {
   "cell_type": "code",
   "execution_count": 748,
   "metadata": {},
   "outputs": [
    {
     "name": "stdout",
     "output_type": "stream",
     "text": [
      "Sensitivity: 0.6912637828668363\n",
      "Recall: 0.4402618657937807\n"
     ]
    }
   ],
   "source": [
    "op_thres_LR = 0.5\n",
    "\n",
    "evaluate_threshold(op_thres_LR)"
   ]
  },
  {
   "cell_type": "code",
   "execution_count": 749,
   "metadata": {},
   "outputs": [],
   "source": [
    "probs_LR_opt = final_LR.predict_proba(X_model_test)[:, 1] \n",
    "pred_thres_LR_opt = (probs_LR_opt >= op_thres_LR).astype(int) "
   ]
  },
  {
   "cell_type": "code",
   "execution_count": 750,
   "metadata": {},
   "outputs": [
    {
     "name": "stdout",
     "output_type": "stream",
     "text": [
      "[[268 343]\n",
      " [364 815]]\n"
     ]
    }
   ],
   "source": [
    "print(confusion_matrix(expected, pred_thres_LR_opt))"
   ]
  },
  {
   "cell_type": "code",
   "execution_count": 751,
   "metadata": {},
   "outputs": [
    {
     "name": "stdout",
     "output_type": "stream",
     "text": [
      "              precision    recall  f1-score   support\n",
      "\n",
      "           0       0.42      0.44      0.43       611\n",
      "           1       0.70      0.69      0.70      1179\n",
      "\n",
      "    accuracy                           0.61      1790\n",
      "   macro avg       0.56      0.56      0.56      1790\n",
      "weighted avg       0.61      0.61      0.61      1790\n",
      "\n"
     ]
    }
   ],
   "source": [
    "print(classification_report(expected, pred_thres_LR_opt))"
   ]
  },
  {
   "cell_type": "markdown",
   "metadata": {},
   "source": [
    "Se obtienen resultados similares porque sigue siendo el mejor caso con umbral igual a 0,5."
   ]
  },
  {
   "cell_type": "markdown",
   "metadata": {},
   "source": [
    "Se calcula la AUC score."
   ]
  },
  {
   "cell_type": "code",
   "execution_count": 752,
   "metadata": {},
   "outputs": [
    {
     "name": "stdout",
     "output_type": "stream",
     "text": [
      "0.5649444937247439\n"
     ]
    }
   ],
   "source": [
    "print(roc_auc_score(expected, predicted_LR_opt))"
   ]
  },
  {
   "cell_type": "markdown",
   "metadata": {},
   "source": [
    "Sigue en el mismo intervalo. Es decir, sigue siendo un modelo *F*."
   ]
  },
  {
   "cell_type": "markdown",
   "metadata": {},
   "source": [
    "### 7.5.8 Conclusiones del modelo"
   ]
  },
  {
   "cell_type": "markdown",
   "metadata": {},
   "source": [
    "Tal y como esta el modelo no se estan obteniendo buenos resultados debido a la escasez de entradas y la gran cantidad de dimensiones que presenta el dataset. Estamos obteniendo prácticamente los mismos resultados que si decidieramos clasificar al azar."
   ]
  },
  {
   "cell_type": "markdown",
   "metadata": {},
   "source": [
    "## 7.6 Clasificador SVC"
   ]
  },
  {
   "cell_type": "markdown",
   "metadata": {},
   "source": [
    "### 7.6.1 Definicion"
   ]
  },
  {
   "cell_type": "markdown",
   "metadata": {},
   "source": [
    "Definimos el modelo con el hiperparámetro *random_state* fijado y con un kernel RBF."
   ]
  },
  {
   "cell_type": "code",
   "execution_count": 753,
   "metadata": {},
   "outputs": [],
   "source": [
    "model_SVC = SVC(kernel='rbf', random_state=42, probability = True)"
   ]
  },
  {
   "cell_type": "markdown",
   "metadata": {},
   "source": [
    "### 7.6.2 Entrenamiento y evaluacion"
   ]
  },
  {
   "cell_type": "markdown",
   "metadata": {},
   "source": [
    "Entrenamos el modelo y comprobamos su exactitud.\n"
   ]
  },
  {
   "cell_type": "code",
   "execution_count": 754,
   "metadata": {},
   "outputs": [],
   "source": [
    "model_SVC.fit(X_model, y_model)\n",
    "\n",
    "predicted_SVC = model_SVC.predict(X_model_test)"
   ]
  },
  {
   "cell_type": "code",
   "execution_count": 755,
   "metadata": {},
   "outputs": [
    {
     "data": {
      "text/plain": [
       "0.6441340782122905"
      ]
     },
     "execution_count": 755,
     "metadata": {},
     "output_type": "execute_result"
    }
   ],
   "source": [
    "accuracy_score(expected, predicted_SVC)"
   ]
  },
  {
   "cell_type": "markdown",
   "metadata": {},
   "source": [
    "### 7.6.3 Null accuracy"
   ]
  },
  {
   "cell_type": "markdown",
   "metadata": {},
   "source": [
    "Nuestra exactitud es de 0.623, la cual es peor que la *null accuracy*, es decir, ahora mismo no tenemos un buen modelo ya que se predecirían un mayor número de resultados en el caso de siempre predecir la clase mayoritaria."
   ]
  },
  {
   "cell_type": "markdown",
   "metadata": {},
   "source": [
    "### 7.6.4 Matriz de confusion y F-score"
   ]
  },
  {
   "cell_type": "markdown",
   "metadata": {},
   "source": [
    "Se muestra la matriz de confusión y el informe de clasificación."
   ]
  },
  {
   "cell_type": "code",
   "execution_count": 756,
   "metadata": {},
   "outputs": [
    {
     "name": "stdout",
     "output_type": "stream",
     "text": [
      "[[230 381]\n",
      " [256 923]]\n"
     ]
    }
   ],
   "source": [
    "print(confusion_matrix(expected, predicted_SVC))"
   ]
  },
  {
   "cell_type": "code",
   "execution_count": 757,
   "metadata": {},
   "outputs": [
    {
     "name": "stdout",
     "output_type": "stream",
     "text": [
      "              precision    recall  f1-score   support\n",
      "\n",
      "           0       0.47      0.38      0.42       611\n",
      "           1       0.71      0.78      0.74      1179\n",
      "\n",
      "    accuracy                           0.64      1790\n",
      "   macro avg       0.59      0.58      0.58      1790\n",
      "weighted avg       0.63      0.64      0.63      1790\n",
      "\n"
     ]
    }
   ],
   "source": [
    "print(classification_report(expected, predicted_SVC))"
   ]
  },
  {
   "cell_type": "markdown",
   "metadata": {},
   "source": [
    "Se observa que estamos identificando erroneamente los 0s ya que tenemos un f1-score del 0.71 para los 1s mientras que estamos obteniendo un 0.46 para los 0s."
   ]
  },
  {
   "cell_type": "markdown",
   "metadata": {},
   "source": [
    "### 7.6.5 ROC y AUC"
   ]
  },
  {
   "cell_type": "code",
   "execution_count": 758,
   "metadata": {},
   "outputs": [
    {
     "data": {
      "image/png": "[encoded data removed]",
      "text/plain": [
       "<Figure size 640x480 with 1 Axes>"
      ]
     },
     "metadata": {},
     "output_type": "display_data"
    }
   ],
   "source": [
    "y_pred_prob_SVC = model_SVC.predict_proba(X_model_test)[:,1]\n",
    "fpr, tpr, thresholds = roc_curve(expected, y_pred_prob_SVC)\n",
    "plt.plot(fpr, tpr)\n",
    "plt.xlim([0.0, 1.0])\n",
    "plt.ylim([0.0, 1.0])\n",
    "plt.title('Curva ROC')\n",
    "plt.xlabel('Ratio de FP (1 - Recall)')\n",
    "plt.ylabel('Ratio TP (Sensitivity)')\n",
    "plt.grid(True)\n",
    "plt.show()"
   ]
  },
  {
   "cell_type": "markdown",
   "metadata": {},
   "source": [
    "Y mostramos sus thresholds."
   ]
  },
  {
   "cell_type": "code",
   "execution_count": 759,
   "metadata": {},
   "outputs": [
    {
     "data": {
      "text/plain": [
       "array([       inf, 0.81989978, 0.81032261, 0.79161717, 0.78825088,\n",
       "       0.77127486, 0.76991199, 0.76895458, 0.76875237, 0.76832282,\n",
       "       0.76814249, 0.76658243, 0.76638891, 0.76479723, 0.76426629,\n",
       "       0.76420545, 0.76350234, 0.76159093, 0.75836372, 0.75380039,\n",
       "       0.75325439, 0.75086891, 0.75046713, 0.74995455, 0.74977113,\n",
       "       0.74921272, 0.74811362, 0.74752228, 0.74717687, 0.74608755,\n",
       "       0.74514991, 0.74362353, 0.74305629, 0.74184343, 0.74142313,\n",
       "       0.74128335, 0.74087506, 0.7393469 , 0.73899799, 0.7333245 ,\n",
       "       0.7326847 , 0.73229288, 0.73161929, 0.73022774, 0.72998101,\n",
       "       0.72932135, 0.72910043, 0.72731419, 0.72718006, 0.726985  ,\n",
       "       0.72674304, 0.72514583, 0.72471887, 0.72433108, 0.72427097,\n",
       "       0.72339908, 0.7233831 , 0.72314375, 0.72314004, 0.72078731,\n",
       "       0.72066922, 0.72060942, 0.72057832, 0.72053982, 0.72035098,\n",
       "       0.72034418, 0.72022505, 0.71959523, 0.71841371, 0.71836088,\n",
       "       0.71806475, 0.71795624, 0.71790265, 0.71743723, 0.71732149,\n",
       "       0.71727827, 0.71713982, 0.71626404, 0.71626325, 0.71598245,\n",
       "       0.71585526, 0.71566922, 0.71515491, 0.7150321 , 0.71503135,\n",
       "       0.71443567, 0.71439915, 0.7086633 , 0.70837411, 0.70780247,\n",
       "       0.70771026, 0.70687468, 0.7068746 , 0.70661946, 0.70623468,\n",
       "       0.70445308, 0.70399629, 0.70317043, 0.70296645, 0.70282869,\n",
       "       0.70202644, 0.70198449, 0.70177711, 0.70153006, 0.70137289,\n",
       "       0.70054523, 0.70054225, 0.69976796, 0.69955841, 0.69782613,\n",
       "       0.69732165, 0.69566153, 0.69542822, 0.69517706, 0.69511836,\n",
       "       0.69441915, 0.69441435, 0.69432519, 0.69404366, 0.69328471,\n",
       "       0.69320275, 0.69309997, 0.69274702, 0.6926833 , 0.69203658,\n",
       "       0.69079098, 0.69071137, 0.68946641, 0.68934876, 0.68900895,\n",
       "       0.68882351, 0.68829554, 0.68815306, 0.68778881, 0.68762893,\n",
       "       0.68710563, 0.68699023, 0.68587602, 0.68554931, 0.68452154,\n",
       "       0.6842825 , 0.68427968, 0.68409922, 0.68370673, 0.68364612,\n",
       "       0.68299071, 0.68294343, 0.68264793, 0.68262378, 0.68260114,\n",
       "       0.68253042, 0.68063465, 0.6804065 , 0.67997141, 0.67981789,\n",
       "       0.67727273, 0.67718267, 0.67700534, 0.67681307, 0.67644947,\n",
       "       0.67616631, 0.67558472, 0.67556647, 0.67503677, 0.67502926,\n",
       "       0.6747838 , 0.67459715, 0.67418207, 0.6741434 , 0.67392443,\n",
       "       0.67356778, 0.67332697, 0.67316923, 0.673067  , 0.67292779,\n",
       "       0.67278821, 0.67271442, 0.67256911, 0.67247008, 0.67157987,\n",
       "       0.67157062, 0.67112425, 0.67047615, 0.66971275, 0.66865069,\n",
       "       0.66753268, 0.66724019, 0.6665796 , 0.66606807, 0.66485026,\n",
       "       0.6644413 , 0.66434046, 0.66432552, 0.66357947, 0.66315632,\n",
       "       0.66222336, 0.66220772, 0.66187674, 0.66187087, 0.6615636 ,\n",
       "       0.66136269, 0.66113607, 0.66024486, 0.66024377, 0.66008003,\n",
       "       0.65973733, 0.65964612, 0.65958814, 0.65944338, 0.65929451,\n",
       "       0.65863806, 0.65580722, 0.6557979 , 0.65564456, 0.65543359,\n",
       "       0.65393059, 0.65287731, 0.65222907, 0.65171858, 0.65148317,\n",
       "       0.65143437, 0.65130659, 0.65112564, 0.6503974 , 0.65016417,\n",
       "       0.64922642, 0.64915617, 0.64899088, 0.64875393, 0.64840118,\n",
       "       0.64830351, 0.64808027, 0.64776554, 0.64774457, 0.6477419 ,\n",
       "       0.64761845, 0.64752097, 0.64740023, 0.64737614, 0.64721524,\n",
       "       0.64717397, 0.64691819, 0.64681555, 0.64647729, 0.64646339,\n",
       "       0.64639221, 0.6463824 , 0.64628608, 0.64625009, 0.64624851,\n",
       "       0.64619388, 0.64450252, 0.64430861, 0.64377179, 0.64368058,\n",
       "       0.64213153, 0.64180932, 0.64119062, 0.64085762, 0.63923719,\n",
       "       0.63923147, 0.63890113, 0.6384634 , 0.63837027, 0.63827244,\n",
       "       0.63768668, 0.63753721, 0.63643284, 0.63638688, 0.63612257,\n",
       "       0.63584136, 0.63523576, 0.63502331, 0.63359951, 0.63356519,\n",
       "       0.63347382, 0.63344513, 0.63332492, 0.63284897, 0.63259756,\n",
       "       0.63227352, 0.6314879 , 0.63145272, 0.63129638, 0.63045318,\n",
       "       0.63008562, 0.62994568, 0.62937514, 0.62924929, 0.62851382,\n",
       "       0.62842124, 0.62738081, 0.62701851, 0.62669074, 0.62630441,\n",
       "       0.62544154, 0.62542618, 0.62521874, 0.62505954, 0.62505007,\n",
       "       0.62476361, 0.62434144, 0.62395885, 0.62365588, 0.62330966,\n",
       "       0.62212111, 0.62189555, 0.62078179, 0.62076949, 0.62047902,\n",
       "       0.62013505, 0.61955196, 0.61888857, 0.61820143, 0.61650704,\n",
       "       0.61612487, 0.61603536, 0.61597992, 0.61569968, 0.61544485,\n",
       "       0.61494681, 0.61428457, 0.61385386, 0.6121964 , 0.612196  ,\n",
       "       0.61163376, 0.61147405, 0.60950833, 0.60947496, 0.60906281,\n",
       "       0.6090382 , 0.60841693, 0.60820052, 0.60762487, 0.60744526,\n",
       "       0.60472864, 0.60472758, 0.60462262, 0.6045513 , 0.60227795,\n",
       "       0.60204671, 0.60138877, 0.60126611, 0.60103081, 0.60102846,\n",
       "       0.60021013, 0.59912616, 0.59860389, 0.59843023, 0.59809121,\n",
       "       0.59799622, 0.59679278, 0.59659456, 0.59592604, 0.59577667,\n",
       "       0.59484337, 0.59463356, 0.59444842, 0.59404755, 0.5936656 ,\n",
       "       0.59325218, 0.5932299 , 0.5908432 , 0.59062274, 0.59030011,\n",
       "       0.59027059, 0.59024305, 0.58868133, 0.58807367, 0.58757229,\n",
       "       0.58750912, 0.58750285, 0.58689251, 0.58644128, 0.5864379 ,\n",
       "       0.58384012, 0.5836084 , 0.58324115, 0.58301624, 0.58168717,\n",
       "       0.5812444 , 0.57916397, 0.57908047, 0.57866313, 0.57836535,\n",
       "       0.57825633, 0.57810219, 0.57805404, 0.57789986, 0.57649728,\n",
       "       0.57636702, 0.57544236, 0.57488394, 0.57421319, 0.57397822,\n",
       "       0.57254426, 0.57128013, 0.57076281, 0.57070378, 0.57067352,\n",
       "       0.57032554, 0.56963516, 0.56957306, 0.56895505, 0.56884271,\n",
       "       0.56881408, 0.56811873, 0.5673227 , 0.56726185, 0.5671237 ,\n",
       "       0.56664274, 0.56618691, 0.56601095, 0.56534363, 0.56525899,\n",
       "       0.56380704, 0.56379493, 0.55988242, 0.55986277, 0.55964129,\n",
       "       0.55845226, 0.55773279, 0.55766414, 0.55617604, 0.55590229,\n",
       "       0.55586959, 0.55527128, 0.55446892, 0.55355886, 0.55344222,\n",
       "       0.55292097, 0.55141974, 0.54980069, 0.5490775 , 0.54773207,\n",
       "       0.54759655, 0.54653503, 0.54579284, 0.54555933, 0.54526268,\n",
       "       0.54508161, 0.54470072, 0.54463219, 0.54364475, 0.54345721,\n",
       "       0.54256203, 0.54125988, 0.54113444, 0.54107228, 0.54063592,\n",
       "       0.53963163, 0.53959016, 0.53927203, 0.53922457, 0.53890287,\n",
       "       0.53854953, 0.53808794, 0.53681762, 0.53662941, 0.53630096,\n",
       "       0.53625888, 0.53564231, 0.5354667 , 0.53474904, 0.53472453,\n",
       "       0.53428334, 0.53422164, 0.53309431, 0.53275809, 0.53211985,\n",
       "       0.53201831, 0.53160678, 0.52998081, 0.52708536, 0.52651617,\n",
       "       0.52650705, 0.52583984, 0.525554  , 0.52553288, 0.5233681 ,\n",
       "       0.52213762, 0.52212829, 0.52035445, 0.51887617, 0.51841037,\n",
       "       0.51723707, 0.51668805, 0.51667081, 0.51666371, 0.51650739,\n",
       "       0.51598977, 0.51256914, 0.51252083, 0.51237139, 0.51079312,\n",
       "       0.51019422, 0.51016589, 0.50853466, 0.50846252, 0.50761112,\n",
       "       0.50677849, 0.50625335, 0.5059066 , 0.50568154, 0.50555244,\n",
       "       0.50518586, 0.50505027, 0.50503403, 0.5       , 0.49473189,\n",
       "       0.49303201, 0.49263093, 0.49226261, 0.49113696, 0.49054249,\n",
       "       0.48896182, 0.48890833, 0.48886819, 0.48854816, 0.48759648,\n",
       "       0.4875589 , 0.48557481, 0.48406167, 0.48215032, 0.48136168,\n",
       "       0.47994922, 0.47940856, 0.47832766, 0.47749447, 0.47746467,\n",
       "       0.47741111, 0.4765906 , 0.47408681, 0.47322538, 0.47145277,\n",
       "       0.47024183, 0.46970144, 0.46896187, 0.46885164, 0.46772074,\n",
       "       0.46612638, 0.46508903, 0.46492337, 0.46350907, 0.4632544 ,\n",
       "       0.46264878, 0.46226783, 0.46080992, 0.46067436, 0.46065199,\n",
       "       0.45971787, 0.45921523, 0.45917506, 0.45733422, 0.4552227 ,\n",
       "       0.45498995, 0.45468785, 0.45390833, 0.45257356, 0.45134342,\n",
       "       0.45087343, 0.45006415, 0.44949815, 0.44930113, 0.44797169,\n",
       "       0.44792897, 0.44704224, 0.44584683, 0.44449294, 0.44186695,\n",
       "       0.44148919, 0.44109682, 0.43941915, 0.43940193, 0.43925546,\n",
       "       0.43754758, 0.43657401, 0.43409697, 0.43336495, 0.43252702,\n",
       "       0.43114602, 0.4286907 , 0.42846994, 0.42793034, 0.42742867,\n",
       "       0.42373917, 0.4230218 , 0.42293003, 0.42182004, 0.42087924,\n",
       "       0.42081435, 0.42006739, 0.41997944, 0.41946638, 0.41938683,\n",
       "       0.41935725, 0.4188018 , 0.41816961, 0.41801397, 0.41790685,\n",
       "       0.41703369, 0.41659186, 0.4149992 , 0.41306554, 0.41138568,\n",
       "       0.40801152, 0.40780701, 0.40719662, 0.40667204, 0.40639862,\n",
       "       0.40533666, 0.40494209, 0.40229542, 0.40051539, 0.40050289,\n",
       "       0.39679973, 0.39605644, 0.39411781, 0.39395518, 0.39305012,\n",
       "       0.39243392, 0.39195301, 0.39153968, 0.38797276, 0.38773593,\n",
       "       0.38742119, 0.38477803, 0.38457594, 0.38427529, 0.38372433,\n",
       "       0.38362891, 0.38269631, 0.38170424, 0.38167918, 0.38077559,\n",
       "       0.38004724, 0.37986776, 0.3794663 , 0.37933139, 0.37910442,\n",
       "       0.37855098, 0.37653354, 0.37395093, 0.37382162, 0.3734694 ,\n",
       "       0.37182919, 0.37160789, 0.37117138, 0.3699147 , 0.36788492,\n",
       "       0.36766677, 0.36740344, 0.36662514, 0.36647718, 0.36512774,\n",
       "       0.36451192, 0.36386321, 0.36280464, 0.36128955, 0.36112763,\n",
       "       0.36110313, 0.36037032, 0.35881142, 0.35306672, 0.35198635,\n",
       "       0.35125148, 0.34954192, 0.34939655, 0.34892304, 0.34876507,\n",
       "       0.34828678, 0.34554473, 0.3452181 , 0.34515883, 0.34484688,\n",
       "       0.34386035, 0.34354705, 0.34337858, 0.34326652, 0.34063185,\n",
       "       0.33915641, 0.33840053, 0.33805975, 0.33790376, 0.33748495,\n",
       "       0.33610856, 0.33562512, 0.33371154, 0.33173484, 0.33097878,\n",
       "       0.33083793, 0.33019436, 0.3296747 , 0.32948121, 0.32852134,\n",
       "       0.32823612, 0.32210349, 0.3210853 , 0.32052728, 0.31862419,\n",
       "       0.31846921, 0.31830563, 0.31682241, 0.31646308, 0.31546313,\n",
       "       0.31545549, 0.31484851, 0.31325287, 0.31299185, 0.3125256 ,\n",
       "       0.31212857, 0.30847243, 0.30454661, 0.30423281, 0.30362208,\n",
       "       0.30131182, 0.29994812, 0.29824336, 0.29467968, 0.29459633,\n",
       "       0.2936851 , 0.29342705, 0.2914733 , 0.29040913, 0.29032174,\n",
       "       0.28930552, 0.28711062, 0.28691786, 0.27848634, 0.27477418,\n",
       "       0.26636633, 0.26521002, 0.26371192, 0.26326989, 0.26167906,\n",
       "       0.2605391 , 0.25958955, 0.25543744, 0.23439998, 0.23302011,\n",
       "       0.22603637, 0.22531848, 0.20835335, 0.18157749])"
      ]
     },
     "execution_count": 759,
     "metadata": {},
     "output_type": "execute_result"
    }
   ],
   "source": [
    "thresholds"
   ]
  },
  {
   "cell_type": "markdown",
   "metadata": {},
   "source": [
    "Como se observa el resultado no es bueno ya que estamos obteniendo practicamente una recta en vez de una curva en forma de 'L' invertida."
   ]
  },
  {
   "cell_type": "markdown",
   "metadata": {},
   "source": [
    "La siguiente gráfica muestra las probabilidades de predicción en función de los umbrales."
   ]
  },
  {
   "cell_type": "code",
   "execution_count": 760,
   "metadata": {},
   "outputs": [
    {
     "data": {
      "text/plain": [
       "array([<Axes: title={'center': '0'}>, <Axes: title={'center': '1'}>],\n",
       "      dtype=object)"
      ]
     },
     "execution_count": 760,
     "metadata": {},
     "output_type": "execute_result"
    },
    {
     "data": {
      "image/png": "[encoded data removed]",
      "text/plain": [
       "<Figure size 640x480 with 2 Axes>"
      ]
     },
     "metadata": {},
     "output_type": "display_data"
    }
   ],
   "source": [
    "dprob = pd.DataFrame(data = {'probability':y_pred_prob_SVC, 'actual':y_test})\n",
    "dprob.probability.hist(by=dprob.actual, sharex=True, sharey=True)"
   ]
  },
  {
   "cell_type": "markdown",
   "metadata": {},
   "source": [
    "Se muestra que los mejores resultados para ambas clases se obtiene con el *threshold* igual a 0.5 aproximandamente (es decir, el valor por defecto)."
   ]
  },
  {
   "cell_type": "code",
   "execution_count": 761,
   "metadata": {},
   "outputs": [
    {
     "name": "stdout",
     "output_type": "stream",
     "text": [
      "Sensitivity: 0.8405428329092451\n",
      "Recall: 0.31587561374795414\n"
     ]
    }
   ],
   "source": [
    "best_thres_SVC = 0.45\n",
    "\n",
    "evaluate_threshold(best_thres_SVC)"
   ]
  },
  {
   "cell_type": "markdown",
   "metadata": {},
   "source": [
    "Con este valor se obtienen los siguientes resultados. Primero se recalculan las predicciones."
   ]
  },
  {
   "cell_type": "code",
   "execution_count": 762,
   "metadata": {},
   "outputs": [],
   "source": [
    "probs_SVC = model_SVC.predict_proba(X_model_test)[:, 1]  \n",
    "pred_thres_SVC = (probs_SVC >= best_thres_SVC).astype(int) "
   ]
  },
  {
   "cell_type": "markdown",
   "metadata": {},
   "source": [
    "Se evalua la matriz de confusión."
   ]
  },
  {
   "cell_type": "code",
   "execution_count": 763,
   "metadata": {},
   "outputs": [
    {
     "name": "stdout",
     "output_type": "stream",
     "text": [
      "[[193 418]\n",
      " [188 991]]\n"
     ]
    }
   ],
   "source": [
    "print(confusion_matrix(expected, pred_thres_SVC))"
   ]
  },
  {
   "cell_type": "markdown",
   "metadata": {},
   "source": [
    "Y también se analiza el informe de la clasificación."
   ]
  },
  {
   "cell_type": "code",
   "execution_count": 764,
   "metadata": {},
   "outputs": [
    {
     "name": "stdout",
     "output_type": "stream",
     "text": [
      "              precision    recall  f1-score   support\n",
      "\n",
      "           0       0.51      0.32      0.39       611\n",
      "           1       0.70      0.84      0.77      1179\n",
      "\n",
      "    accuracy                           0.66      1790\n",
      "   macro avg       0.60      0.58      0.58      1790\n",
      "weighted avg       0.64      0.66      0.64      1790\n",
      "\n"
     ]
    }
   ],
   "source": [
    "print(classification_report(expected, pred_thres_SVC))"
   ]
  },
  {
   "cell_type": "markdown",
   "metadata": {},
   "source": [
    "Obviamente son los mismos, ya que no estamos modificando el umbral realmente."
   ]
  },
  {
   "cell_type": "markdown",
   "metadata": {},
   "source": [
    "Finalmente se calcula el valor de AUC."
   ]
  },
  {
   "cell_type": "code",
   "execution_count": 765,
   "metadata": {},
   "outputs": [
    {
     "name": "stdout",
     "output_type": "stream",
     "text": [
      "0.5796494574308444\n"
     ]
    }
   ],
   "source": [
    "print(roc_auc_score(expected, predicted_SVC))"
   ]
  },
  {
   "cell_type": "markdown",
   "metadata": {},
   "source": [
    "Se ha obtenido un valor entre 0.5 y 0.6, es decir, el modelo se considerá como fallido o *F*."
   ]
  },
  {
   "cell_type": "markdown",
   "metadata": {},
   "source": [
    "### 7.6.6 Optimizacion"
   ]
  },
  {
   "cell_type": "markdown",
   "metadata": {},
   "source": [
    "Antes de nada, observamos cuales son los parámetros de nuestro modelo."
   ]
  },
  {
   "cell_type": "code",
   "execution_count": 766,
   "metadata": {},
   "outputs": [
    {
     "data": {
      "text/plain": [
       "{'C': 1.0,\n",
       " 'break_ties': False,\n",
       " 'cache_size': 200,\n",
       " 'class_weight': None,\n",
       " 'coef0': 0.0,\n",
       " 'decision_function_shape': 'ovr',\n",
       " 'degree': 3,\n",
       " 'gamma': 'scale',\n",
       " 'kernel': 'rbf',\n",
       " 'max_iter': -1,\n",
       " 'probability': True,\n",
       " 'random_state': 42,\n",
       " 'shrinking': True,\n",
       " 'tol': 0.001,\n",
       " 'verbose': False}"
      ]
     },
     "execution_count": 766,
     "metadata": {},
     "output_type": "execute_result"
    }
   ],
   "source": [
    "model_SVC.get_params()"
   ]
  },
  {
   "cell_type": "markdown",
   "metadata": {},
   "source": [
    "Ahora seleccionamos los hiperparámetros a evaluar mediante un GridSearchCV. Además, se ha añadido la librería *time* para saber el tiempo que tardo en realizar la busqueda de mejores parámetros.\n",
    "\n",
    "Estos son los hiperparámetros más importantes:\n",
    "* C: regularización (penaliza errores en clasificación)\n",
    "* gamma: influencia de cada ejemplo (sólo para kernel RBF)\n",
    "* kernel: tipo de función de transformación, aquí RBF\n",
    "* class_weight: penalización según clase (si hay desbalance)\n",
    "* probability: si el modelo calcula probabilidades (predict_proba)\n",
    "\n"
   ]
  },
  {
   "cell_type": "raw",
   "metadata": {
    "vscode": {
     "languageId": "raw"
    }
   },
   "source": [
    "# Definir los hiperparámetros a probar\n",
    "param_grid = {\n",
    "    'C': [1, 10],\n",
    "    'gamma': [0.01, 0.1],\n",
    "    'kernel': ['rbf']\n",
    "}\n",
    "\n",
    "# Definir los métodos de evaluación con average='weighted'\n",
    "scorers = {\n",
    "    'f1': make_scorer(f1_score, average='weighted'),\n",
    "    'accuracy': make_scorer(accuracy_score),\n",
    "    'recall': make_scorer(recall_score, average='weighted', zero_division=0)\n",
    "}\n",
    "\n",
    "# Aplicar GridSearchCV, se optimiza según F1-score\n",
    "grid_search_SVC = GridSearchCV(\n",
    "    SVC(),\n",
    "    param_grid,\n",
    "    cv=5,\n",
    "    n_jobs=-1,\n",
    "    scoring=scorers,\n",
    "    refit='f1',\n",
    "    verbose=1\n",
    ")\n",
    "\n",
    "inicio = time.time()\n",
    "grid_search_SVC.fit(X_model, y_model)\n",
    "fin = time.time()\n",
    "\n",
    "# Mostrar los mejores parámetros encontrados\n",
    "print(\"Mejores parámetros encontrados:\", grid_search_SVC.best_params_)\n",
    "\n",
    "# Convertir los resultados en un DataFrame\n",
    "results = pd.DataFrame(grid_search_SVC.cv_results_)\n",
    "\n",
    "# Ordenar por cada métrica y mostrar los 5 mejores modelos\n",
    "for metric in ['mean_test_f1', 'mean_test_accuracy', 'mean_test_recall']:\n",
    "    print(f\"\\nTop 5 modelos según {metric}:\")\n",
    "    sorted_results = results.sort_values(by=metric, ascending=False)\n",
    "\n",
    "    for mean_score, std_score, params in zip(\n",
    "        sorted_results[metric].head(5),\n",
    "        sorted_results[f\"std_test_{metric.split('_')[-1]}\"].head(5),\n",
    "        sorted_results[\"params\"].head(5)\n",
    "    ):\n",
    "        print(f\"{mean_score:.3f} (+/-{std_score * 2:.3f}) para {params}\")"
   ]
  },
  {
   "cell_type": "markdown",
   "metadata": {},
   "source": [
    "Se calcula el tiempo que ha tardado en minutos."
   ]
  },
  {
   "cell_type": "raw",
   "metadata": {
    "vscode": {
     "languageId": "raw"
    }
   },
   "source": [
    "tiempo_total = (fin - inicio) / 60\n",
    "print(f\"La celda tardó {tiempo_total} minutos en ejecutarse.\")"
   ]
  },
  {
   "cell_type": "markdown",
   "metadata": {},
   "source": [
    "Se escoge el mejor parámetro y su  precisión asociada."
   ]
  },
  {
   "cell_type": "raw",
   "metadata": {
    "vscode": {
     "languageId": "raw"
    }
   },
   "source": [
    "print(\"Mejores parámetros: \", grid_search_SVC.best_params_)\n",
    "print(\"Mejor score: \", grid_search_SVC.best_score_)"
   ]
  },
  {
   "cell_type": "markdown",
   "metadata": {},
   "source": [
    "Observamos los mejores 10 casos para analizar varias posibilidades."
   ]
  },
  {
   "cell_type": "raw",
   "metadata": {
    "vscode": {
     "languageId": "raw"
    }
   },
   "source": [
    "results_df = pd.DataFrame(grid_search_SVC.cv_results_)"
   ]
  },
  {
   "cell_type": "markdown",
   "metadata": {},
   "source": [
    "### 7.6.7 Entrenamiento y evaluacion con hiperparametros optimizados"
   ]
  },
  {
   "cell_type": "markdown",
   "metadata": {},
   "source": [
    "#### - Definicion"
   ]
  },
  {
   "cell_type": "markdown",
   "metadata": {},
   "source": [
    "Definimos los mejores parámetros (no se define con *grid_search.best_params_* para probar varias opciones de forma sencilla)."
   ]
  },
  {
   "cell_type": "code",
   "execution_count": 767,
   "metadata": {},
   "outputs": [],
   "source": [
    "params_final_SVC = {\n",
    "    'C': 10,\n",
    "    'gamma': 0.1,\n",
    "    'kernel': 'rbf',\n",
    "    'probability' : True\n",
    "}"
   ]
  },
  {
   "cell_type": "markdown",
   "metadata": {},
   "source": [
    "Definimos el modelo desagregando el diccionario."
   ]
  },
  {
   "cell_type": "code",
   "execution_count": 768,
   "metadata": {},
   "outputs": [],
   "source": [
    "final_SVC = SVC(**params_final_SVC)"
   ]
  },
  {
   "cell_type": "markdown",
   "metadata": {},
   "source": [
    "#### - Entrenamiento y evaluacion"
   ]
  },
  {
   "cell_type": "markdown",
   "metadata": {},
   "source": [
    "Entrenamos el modelo y comprobamos su exactitud."
   ]
  },
  {
   "cell_type": "code",
   "execution_count": 769,
   "metadata": {},
   "outputs": [],
   "source": [
    "final_SVC.fit(X_model, y_model)\n",
    "\n",
    "predicted_SVC_opt = final_SVC.predict(X_model_test)"
   ]
  },
  {
   "cell_type": "code",
   "execution_count": 770,
   "metadata": {},
   "outputs": [
    {
     "data": {
      "text/plain": [
       "0.6189944134078212"
      ]
     },
     "execution_count": 770,
     "metadata": {},
     "output_type": "execute_result"
    }
   ],
   "source": [
    "accuracy_score(expected, predicted_SVC_opt)"
   ]
  },
  {
   "cell_type": "markdown",
   "metadata": {},
   "source": [
    "#### - Null accuracy"
   ]
  },
  {
   "cell_type": "markdown",
   "metadata": {},
   "source": [
    "La accuracy es similar a la anterior. Además, sigue siendo peor que la *null accuracy*."
   ]
  },
  {
   "cell_type": "markdown",
   "metadata": {},
   "source": [
    "#### - Matriz de confusion y F-score"
   ]
  },
  {
   "cell_type": "markdown",
   "metadata": {},
   "source": [
    "La matriz de confusión y el informe de clasificación también es muy similar."
   ]
  },
  {
   "cell_type": "code",
   "execution_count": 771,
   "metadata": {},
   "outputs": [
    {
     "name": "stdout",
     "output_type": "stream",
     "text": [
      "[[288 323]\n",
      " [359 820]]\n"
     ]
    }
   ],
   "source": [
    "print(confusion_matrix(expected, predicted_SVC_opt))"
   ]
  },
  {
   "cell_type": "code",
   "execution_count": 772,
   "metadata": {},
   "outputs": [
    {
     "name": "stdout",
     "output_type": "stream",
     "text": [
      "              precision    recall  f1-score   support\n",
      "\n",
      "           0       0.45      0.47      0.46       611\n",
      "           1       0.72      0.70      0.71      1179\n",
      "\n",
      "    accuracy                           0.62      1790\n",
      "   macro avg       0.58      0.58      0.58      1790\n",
      "weighted avg       0.62      0.62      0.62      1790\n",
      "\n"
     ]
    }
   ],
   "source": [
    "print(classification_report(expected, predicted_SVC_opt))"
   ]
  },
  {
   "cell_type": "markdown",
   "metadata": {},
   "source": [
    "#### - ROC y AUC"
   ]
  },
  {
   "cell_type": "markdown",
   "metadata": {},
   "source": [
    "Se calcula el ROC y se reajusta el umbral de probabilidad."
   ]
  },
  {
   "cell_type": "code",
   "execution_count": 773,
   "metadata": {},
   "outputs": [
    {
     "data": {
      "image/png": "[encoded data removed]",
      "text/plain": [
       "<Figure size 640x480 with 1 Axes>"
      ]
     },
     "metadata": {},
     "output_type": "display_data"
    }
   ],
   "source": [
    "y_pred_prob_SVC = final_SVC.predict_proba(X_model_test)[:,1]\n",
    "fpr, tpr, thresholds = roc_curve(y_test, y_pred_prob_SVC)\n",
    "plt.plot(fpr, tpr)\n",
    "plt.xlim([0.0, 1.0])\n",
    "plt.ylim([0.0, 1.0])\n",
    "plt.title('Curva ROC')\n",
    "plt.xlabel('Ratio de FP (1 - Recall)')\n",
    "plt.ylabel('Ratio TP (Sensitivity)')\n",
    "plt.grid(True)\n",
    "plt.show()"
   ]
  },
  {
   "cell_type": "code",
   "execution_count": 774,
   "metadata": {},
   "outputs": [
    {
     "data": {
      "text/plain": [
       "array([       inf, 0.94281411, 0.91344362, 0.9076036 , 0.89162776,\n",
       "       0.88515605, 0.88070967, 0.879392  , 0.87448603, 0.87409822,\n",
       "       0.86883313, 0.86879531, 0.85717159, 0.85701219, 0.85186143,\n",
       "       0.85169893, 0.8500063 , 0.84948607, 0.84648088, 0.84640024,\n",
       "       0.84619366, 0.84538387, 0.84186375, 0.84180185, 0.84115811,\n",
       "       0.84002384, 0.83753199, 0.83580912, 0.83446597, 0.83440729,\n",
       "       0.82809922, 0.8264774 , 0.82056171, 0.82024735, 0.81694818,\n",
       "       0.81672075, 0.81587345, 0.81585006, 0.81374728, 0.81300023,\n",
       "       0.81193224, 0.81143646, 0.81136106, 0.81117128, 0.8092056 ,\n",
       "       0.80842925, 0.80756403, 0.80608856, 0.80419291, 0.8031623 ,\n",
       "       0.80284642, 0.80282301, 0.80213076, 0.80190849, 0.80015744,\n",
       "       0.7995749 , 0.7991362 , 0.79694767, 0.79641889, 0.7959323 ,\n",
       "       0.79427458, 0.79417741, 0.79185135, 0.79173207, 0.78864994,\n",
       "       0.78783321, 0.78751785, 0.78751681, 0.78542568, 0.78524708,\n",
       "       0.78232745, 0.78152425, 0.77841795, 0.7782958 , 0.77649042,\n",
       "       0.77641596, 0.77578367, 0.77569927, 0.77406859, 0.77365969,\n",
       "       0.77323022, 0.7727178 , 0.77271355, 0.77218241, 0.76968617,\n",
       "       0.76920403, 0.76755932, 0.76724803, 0.76345735, 0.76284649,\n",
       "       0.76172749, 0.76169753, 0.76145672, 0.76099672, 0.76056508,\n",
       "       0.76036576, 0.75559092, 0.75389551, 0.75222931, 0.75188198,\n",
       "       0.75155196, 0.75155063, 0.75054701, 0.74958467, 0.74859955,\n",
       "       0.74820988, 0.74778977, 0.7471217 , 0.74421708, 0.7434943 ,\n",
       "       0.74186091, 0.74123572, 0.74042926, 0.74012832, 0.73851698,\n",
       "       0.73828652, 0.73706728, 0.73669547, 0.73553597, 0.7345685 ,\n",
       "       0.73412146, 0.73409463, 0.7327115 , 0.73251827, 0.73165399,\n",
       "       0.73164348, 0.73026275, 0.73007633, 0.72908152, 0.72859899,\n",
       "       0.72791208, 0.72727861, 0.72384041, 0.72380134, 0.72379598,\n",
       "       0.72333721, 0.72333185, 0.72325698, 0.7213625 , 0.72099003,\n",
       "       0.72061589, 0.72047003, 0.71826143, 0.71743645, 0.71637539,\n",
       "       0.71625283, 0.71619247, 0.71615058, 0.71594795, 0.71584144,\n",
       "       0.71555479, 0.71499403, 0.71469782, 0.71362917, 0.71357819,\n",
       "       0.71234287, 0.71026234, 0.71017412, 0.70890894, 0.70857014,\n",
       "       0.70776248, 0.70749636, 0.70715441, 0.70711725, 0.70571926,\n",
       "       0.70565604, 0.7056558 , 0.70507126, 0.70282427, 0.70269665,\n",
       "       0.70240965, 0.70166785, 0.70098152, 0.69983381, 0.69918705,\n",
       "       0.69910895, 0.69899514, 0.69897427, 0.69821407, 0.69800682,\n",
       "       0.6973021 , 0.69688324, 0.69452444, 0.6944298 , 0.69426693,\n",
       "       0.69330619, 0.69203959, 0.69159277, 0.69114606, 0.69111455,\n",
       "       0.6906872 , 0.69030276, 0.68810875, 0.68732279, 0.68550864,\n",
       "       0.68512115, 0.68440912, 0.68423048, 0.68294569, 0.68262232,\n",
       "       0.6806113 , 0.68037441, 0.67899023, 0.67895888, 0.67791709,\n",
       "       0.67790618, 0.67774365, 0.67730021, 0.67538221, 0.67507936,\n",
       "       0.67423176, 0.67378124, 0.67376469, 0.67362635, 0.67245752,\n",
       "       0.67229851, 0.67089714, 0.67080592, 0.66964244, 0.66890202,\n",
       "       0.66811576, 0.66771418, 0.66735221, 0.66719788, 0.6666261 ,\n",
       "       0.66621548, 0.66531411, 0.66447169, 0.66390533, 0.66356136,\n",
       "       0.66335306, 0.6632391 , 0.66290581, 0.66218277, 0.66202423,\n",
       "       0.66163532, 0.66018525, 0.65963402, 0.65957834, 0.6586991 ,\n",
       "       0.6586565 , 0.65834456, 0.65828571, 0.65816712, 0.65736317,\n",
       "       0.65636565, 0.65613979, 0.65540333, 0.65427551, 0.65306147,\n",
       "       0.65284842, 0.65233454, 0.65091396, 0.65083729, 0.65030424,\n",
       "       0.65009064, 0.64896631, 0.64875943, 0.64830251, 0.6478287 ,\n",
       "       0.64772634, 0.64770825, 0.64750155, 0.64748036, 0.64694306,\n",
       "       0.64628873, 0.64555145, 0.64518878, 0.64508446, 0.64490164,\n",
       "       0.64474411, 0.64461292, 0.64445131, 0.64411961, 0.64363374,\n",
       "       0.64319933, 0.64136134, 0.64085798, 0.64084159, 0.64053535,\n",
       "       0.63884427, 0.63833413, 0.63800796, 0.6377571 , 0.63745414,\n",
       "       0.6368241 , 0.63637145, 0.63599373, 0.63526702, 0.63394091,\n",
       "       0.63310425, 0.63211188, 0.63134041, 0.63060023, 0.63018193,\n",
       "       0.6299182 , 0.62983514, 0.62961267, 0.62924706, 0.62876554,\n",
       "       0.62727754, 0.6269551 , 0.62571685, 0.62555379, 0.62486898,\n",
       "       0.62462773, 0.62341091, 0.62339846, 0.62205635, 0.62197237,\n",
       "       0.62166593, 0.62144211, 0.62085782, 0.6204354 , 0.6179415 ,\n",
       "       0.61778407, 0.61451222, 0.61346075, 0.61320785, 0.61316223,\n",
       "       0.61179797, 0.61168446, 0.60898829, 0.60828561, 0.60697   ,\n",
       "       0.60687718, 0.60542841, 0.6052083 , 0.60433165, 0.60409272,\n",
       "       0.60396376, 0.60318356, 0.60278727, 0.60274019, 0.60068531,\n",
       "       0.60063497, 0.60000515, 0.59936261, 0.59819435, 0.59813837,\n",
       "       0.59737815, 0.59731981, 0.59543089, 0.59531858, 0.59208909,\n",
       "       0.59076766, 0.59047852, 0.59030743, 0.59005869, 0.58961855,\n",
       "       0.58746405, 0.58686933, 0.58631952, 0.58512191, 0.58426158,\n",
       "       0.58403746, 0.5829242 , 0.58291255, 0.58291113, 0.58264117,\n",
       "       0.58263563, 0.58249824, 0.58224929, 0.58206533, 0.5813881 ,\n",
       "       0.58068804, 0.57904324, 0.57885228, 0.57879227, 0.57878701,\n",
       "       0.57853168, 0.57818124, 0.57809792, 0.57725608, 0.57601938,\n",
       "       0.57535701, 0.57337838, 0.57321349, 0.57259183, 0.57208743,\n",
       "       0.57154467, 0.57096835, 0.56960348, 0.56914492, 0.56889252,\n",
       "       0.56826004, 0.5672415 , 0.56718458, 0.56682374, 0.56663443,\n",
       "       0.56651322, 0.56602289, 0.56369568, 0.56305514, 0.56175833,\n",
       "       0.56043659, 0.55916558, 0.55908   , 0.55642999, 0.55637272,\n",
       "       0.55544592, 0.55516492, 0.55317125, 0.55037027, 0.55020619,\n",
       "       0.55006727, 0.54984419, 0.54966009, 0.54918141, 0.54899786,\n",
       "       0.54867074, 0.5476429 , 0.54763015, 0.54752552, 0.54546283,\n",
       "       0.54502214, 0.54453571, 0.54430389, 0.54394564, 0.54392432,\n",
       "       0.54340916, 0.542499  , 0.5422615 , 0.54181848, 0.54176543,\n",
       "       0.54109506, 0.53944257, 0.53783718, 0.53778794, 0.53776554,\n",
       "       0.53625037, 0.53579696, 0.53573179, 0.53564724, 0.53509101,\n",
       "       0.53466068, 0.5326965 , 0.53229812, 0.53213593, 0.5317917 ,\n",
       "       0.53131785, 0.53027815, 0.52925196, 0.52920523, 0.52894852,\n",
       "       0.52894655, 0.52882069, 0.52788429, 0.52754386, 0.52712294,\n",
       "       0.52687511, 0.52683627, 0.52666723, 0.52662472, 0.52542369,\n",
       "       0.5254229 , 0.52469921, 0.52372158, 0.52341616, 0.52301115,\n",
       "       0.52222697, 0.52193639, 0.521595  , 0.52155987, 0.52011802,\n",
       "       0.52003234, 0.51720464, 0.51680953, 0.51637459, 0.51609306,\n",
       "       0.51550897, 0.5154426 , 0.51380635, 0.51339975, 0.51314808,\n",
       "       0.51297873, 0.51248621, 0.5109432 , 0.50999249, 0.50765807,\n",
       "       0.50734309, 0.50714195, 0.50682588, 0.50658576, 0.50601182,\n",
       "       0.50551891, 0.5       , 0.49457191, 0.49449001, 0.49440256,\n",
       "       0.49380654, 0.49363829, 0.49144175, 0.49053457, 0.49027207,\n",
       "       0.48720958, 0.48720134, 0.48719097, 0.48675141, 0.48447698,\n",
       "       0.48368069, 0.48362629, 0.48310184, 0.48287939, 0.4827064 ,\n",
       "       0.48176469, 0.48175949, 0.480925  , 0.48058786, 0.48046166,\n",
       "       0.47997943, 0.4737106 , 0.47214365, 0.47164844, 0.47155365,\n",
       "       0.47075518, 0.47062673, 0.47025673, 0.47021622, 0.4699846 ,\n",
       "       0.46970325, 0.46843769, 0.46786482, 0.4661807 , 0.46578209,\n",
       "       0.46399007, 0.46052407, 0.45986644, 0.45887775, 0.45728508,\n",
       "       0.45592813, 0.45578672, 0.45517815, 0.45411225, 0.45235153,\n",
       "       0.45194632, 0.45110616, 0.45107172, 0.45095141, 0.44994872,\n",
       "       0.44809207, 0.44592933, 0.44538741, 0.4446703 , 0.44400406,\n",
       "       0.44394405, 0.44385718, 0.44139375, 0.44132042, 0.44111635,\n",
       "       0.44092755, 0.43990221, 0.43974217, 0.43963619, 0.43934587,\n",
       "       0.43918396, 0.43890253, 0.43847268, 0.438047  , 0.43688966,\n",
       "       0.43665512, 0.4358249 , 0.43557354, 0.43556311, 0.43455704,\n",
       "       0.43450983, 0.4344897 , 0.43340625, 0.43175556, 0.4316355 ,\n",
       "       0.43090679, 0.43075284, 0.43050922, 0.42942781, 0.42842603,\n",
       "       0.42841086, 0.42822402, 0.42726771, 0.42669577, 0.42493402,\n",
       "       0.42464801, 0.42428408, 0.42380505, 0.42207566, 0.42205354,\n",
       "       0.42200153, 0.42181471, 0.42165652, 0.42096185, 0.4207513 ,\n",
       "       0.41952924, 0.41916093, 0.41807908, 0.41703799, 0.4164794 ,\n",
       "       0.4150249 , 0.41497645, 0.41460511, 0.41233089, 0.41118112,\n",
       "       0.41074896, 0.41048773, 0.41041343, 0.40919145, 0.40888498,\n",
       "       0.40758179, 0.40743465, 0.40709264, 0.40661912, 0.40543839,\n",
       "       0.40362944, 0.40333604, 0.40130745, 0.39984471, 0.39843333,\n",
       "       0.39676536, 0.3966254 , 0.39615815, 0.39409777, 0.39365828,\n",
       "       0.39134257, 0.39128264, 0.38964573, 0.38856076, 0.38747113,\n",
       "       0.3868001 , 0.38664275, 0.38657749, 0.3864112 , 0.38543765,\n",
       "       0.38478061, 0.38437072, 0.3841182 , 0.38238422, 0.38086194,\n",
       "       0.380411  , 0.37905071, 0.3767167 , 0.37444554, 0.37430072,\n",
       "       0.37419367, 0.37382954, 0.37338592, 0.37323708, 0.37216887,\n",
       "       0.37047137, 0.37044005, 0.36995682, 0.36868157, 0.3683729 ,\n",
       "       0.36492741, 0.36250022, 0.36182433, 0.36046654, 0.35985829,\n",
       "       0.35846648, 0.35811229, 0.35588592, 0.35581829, 0.35572214,\n",
       "       0.35530659, 0.354649  , 0.35408762, 0.35264239, 0.35197776,\n",
       "       0.35146912, 0.35142952, 0.34959165, 0.34861207, 0.3482586 ,\n",
       "       0.34795434, 0.34741648, 0.34701968, 0.34645757, 0.34560797,\n",
       "       0.34410653, 0.34395551, 0.34358932, 0.34010078, 0.33889284,\n",
       "       0.33864962, 0.33769384, 0.33617386, 0.33370984, 0.33340091,\n",
       "       0.33299669, 0.33206423, 0.33106188, 0.32860734, 0.32814832,\n",
       "       0.32761359, 0.32184789, 0.32083396, 0.31891297, 0.31835954,\n",
       "       0.3174502 , 0.31608827, 0.3157106 , 0.31510729, 0.31059169,\n",
       "       0.30986169, 0.30872262, 0.30709116, 0.30633316, 0.30431273,\n",
       "       0.30274994, 0.30043485, 0.30042211, 0.29900213, 0.29596269,\n",
       "       0.28597511, 0.28177781, 0.27930963, 0.27782712, 0.27417271,\n",
       "       0.27363924, 0.27309862, 0.2720481 , 0.2707178 , 0.27030754,\n",
       "       0.26760986, 0.26661692, 0.26611448, 0.26102115, 0.25871012,\n",
       "       0.25828848, 0.24947157, 0.24905351, 0.24096843, 0.23364691,\n",
       "       0.23288328, 0.22725774, 0.22533597, 0.22139172, 0.21994333,\n",
       "       0.21532421, 0.21492644, 0.21397044, 0.20881497, 0.20820168,\n",
       "       0.18470202, 0.17940608, 0.17124633, 0.14728328, 0.14344714,\n",
       "       0.08689269])"
      ]
     },
     "execution_count": 774,
     "metadata": {},
     "output_type": "execute_result"
    }
   ],
   "source": [
    "thresholds"
   ]
  },
  {
   "cell_type": "code",
   "execution_count": 775,
   "metadata": {},
   "outputs": [
    {
     "data": {
      "text/plain": [
       "array([<Axes: title={'center': '0'}>, <Axes: title={'center': '1'}>],\n",
       "      dtype=object)"
      ]
     },
     "execution_count": 775,
     "metadata": {},
     "output_type": "execute_result"
    },
    {
     "data": {
      "image/png": "[encoded data removed]",
      "text/plain": [
       "<Figure size 640x480 with 2 Axes>"
      ]
     },
     "metadata": {},
     "output_type": "display_data"
    }
   ],
   "source": [
    "dprob = pd.DataFrame(data = {'probability':y_pred_prob_SVC, 'actual':y_test})\n",
    "dprob.probability.hist(by=dprob.actual, sharex=True, sharey=True)"
   ]
  },
  {
   "cell_type": "code",
   "execution_count": 776,
   "metadata": {},
   "outputs": [
    {
     "name": "stdout",
     "output_type": "stream",
     "text": [
      "Sensitivity: 0.823579304495335\n",
      "Recall: 0.29459901800327337\n"
     ]
    }
   ],
   "source": [
    "op_thres_SVC = 0.45\n",
    "\n",
    "evaluate_threshold(op_thres_SVC)"
   ]
  },
  {
   "cell_type": "code",
   "execution_count": 777,
   "metadata": {},
   "outputs": [],
   "source": [
    "probs_SVC_opt = final_SVC.predict_proba(X_model_test)[:, 1]  \n",
    "pred_thres_SVC_opt = (probs_SVC_opt >= op_thres_SVC).astype(int) "
   ]
  },
  {
   "cell_type": "code",
   "execution_count": 778,
   "metadata": {},
   "outputs": [
    {
     "name": "stdout",
     "output_type": "stream",
     "text": [
      "[[180 431]\n",
      " [206 973]]\n"
     ]
    }
   ],
   "source": [
    "print(confusion_matrix(expected, pred_thres_SVC_opt))"
   ]
  },
  {
   "cell_type": "code",
   "execution_count": 779,
   "metadata": {},
   "outputs": [
    {
     "name": "stdout",
     "output_type": "stream",
     "text": [
      "              precision    recall  f1-score   support\n",
      "\n",
      "           0       0.47      0.29      0.36       611\n",
      "           1       0.69      0.83      0.75      1179\n",
      "\n",
      "    accuracy                           0.64      1790\n",
      "   macro avg       0.58      0.56      0.56      1790\n",
      "weighted avg       0.62      0.64      0.62      1790\n",
      "\n"
     ]
    }
   ],
   "source": [
    "print(classification_report(expected, pred_thres_SVC_opt))"
   ]
  },
  {
   "cell_type": "markdown",
   "metadata": {},
   "source": [
    "Se obtienen resultados un poco mejor siendo el mejor caso con umbral igual a 0,45."
   ]
  },
  {
   "cell_type": "markdown",
   "metadata": {},
   "source": [
    "Se calcula la AUC score."
   ]
  },
  {
   "cell_type": "code",
   "execution_count": 780,
   "metadata": {},
   "outputs": [
    {
     "name": "stdout",
     "output_type": "stream",
     "text": [
      "0.5834315468877755\n"
     ]
    }
   ],
   "source": [
    "print(roc_auc_score(expected, predicted_SVC_opt))"
   ]
  },
  {
   "cell_type": "markdown",
   "metadata": {},
   "source": [
    "Sigue en el mismo intervalo 0.5-0.6. "
   ]
  },
  {
   "cell_type": "markdown",
   "metadata": {},
   "source": [
    "### 7.6.8 Conclusiones del modelo"
   ]
  },
  {
   "cell_type": "markdown",
   "metadata": {},
   "source": [
    "El model no obtiene buenos resultados a la escasez de entradas y la gran cantidad de dimensiones que presenta el dataset. Después de la optimización, sigue siendo un modelo *F*."
   ]
  },
  {
   "cell_type": "markdown",
   "metadata": {},
   "source": [
    "# 8. Exportar CSV"
   ]
  },
  {
   "cell_type": "markdown",
   "metadata": {},
   "source": [
    "## 8.1 Asignacion de las variables"
   ]
  },
  {
   "cell_type": "markdown",
   "metadata": {},
   "source": [
    "Asignamos las variables para el analisis en función del desarrollo del apartado del preprocesado."
   ]
  },
  {
   "cell_type": "code",
   "execution_count": 781,
   "metadata": {},
   "outputs": [],
   "source": [
    "X_kaggle = X_res_final\n",
    "y_kaggle = y_res_final\n",
    "\n",
    "X_kaggle_test = X_scaled_te_final"
   ]
  },
  {
   "cell_type": "markdown",
   "metadata": {},
   "source": [
    "## 8.2 Clasificador Random Forest"
   ]
  },
  {
   "cell_type": "markdown",
   "metadata": {},
   "source": [
    "Se entrena con los nuevos valores de train y test, y se modifica el umbral de probabilidades. En un principio, el valor del umbral era el de la variable *op_thres_Random*, pero se decidió finalmente que el valor del umbral fueran valores numéricos para que fuera más sencillo hacer diversas pruebas en Kaggle."
   ]
  },
  {
   "cell_type": "code",
   "execution_count": 782,
   "metadata": {},
   "outputs": [],
   "source": [
    "final_Forest.fit(X_kaggle, y_kaggle)\n",
    "\n",
    "probs_For_final = final_Forest.predict_proba(X_kaggle_test)[:, 1]  \n",
    "pred_thres_For_final = (probs_For_final >= 0.5).astype(int) "
   ]
  },
  {
   "cell_type": "markdown",
   "metadata": {},
   "source": [
    "Se crea un *dataframe* con las predicciones obtenidas con su correspondiente *id*."
   ]
  },
  {
   "cell_type": "code",
   "execution_count": 783,
   "metadata": {},
   "outputs": [],
   "source": [
    "df_label_Random = pd.DataFrame(pred_thres_For_final, columns=['label'])"
   ]
  },
  {
   "cell_type": "code",
   "execution_count": 784,
   "metadata": {},
   "outputs": [],
   "source": [
    "df_id = df_test['id'].reset_index(drop=True)"
   ]
  },
  {
   "cell_type": "code",
   "execution_count": 785,
   "metadata": {},
   "outputs": [],
   "source": [
    "df_final_Random = pd.concat([df_id, df_label_Random], axis=1)"
   ]
  },
  {
   "cell_type": "markdown",
   "metadata": {},
   "source": [
    "Mostramos los resultados obtenidos para tener una idea de la proporción de 1s y 0s de Kaggle."
   ]
  },
  {
   "cell_type": "code",
   "execution_count": 786,
   "metadata": {},
   "outputs": [
    {
     "data": {
      "text/plain": [
       "label\n",
       "1    2905\n",
       "0     931\n",
       "Name: count, dtype: int64"
      ]
     },
     "execution_count": 786,
     "metadata": {},
     "output_type": "execute_result"
    }
   ],
   "source": [
    "df_final_Random['label'].value_counts()"
   ]
  },
  {
   "cell_type": "markdown",
   "metadata": {},
   "source": [
    "Se transforma el *dataframe* a un archivo *CSV*."
   ]
  },
  {
   "cell_type": "code",
   "execution_count": 787,
   "metadata": {},
   "outputs": [],
   "source": [
    "df_final_Random.to_csv('./submit/random.csv', index=False)"
   ]
  },
  {
   "cell_type": "markdown",
   "metadata": {},
   "source": [
    "## 8.3 Clasificador Gradient Boosting"
   ]
  },
  {
   "cell_type": "code",
   "execution_count": 788,
   "metadata": {},
   "outputs": [],
   "source": [
    "final_GBC.fit(X_kaggle, y_kaggle)\n",
    "\n",
    "probs_GBC_final = final_GBC.predict_proba(X_kaggle_test)[:, 1]  \n",
    "pred_thres_GBC_final = (probs_GBC_final >= 0.5).astype(int) "
   ]
  },
  {
   "cell_type": "code",
   "execution_count": 789,
   "metadata": {},
   "outputs": [],
   "source": [
    "df_label_GBC = pd.DataFrame(pred_thres_GBC_final, columns=['label'])\n",
    "df_id = df_test['id'].reset_index(drop=True)\n",
    "df_final_GBC = pd.concat([df_id, df_label_GBC], axis=1)"
   ]
  },
  {
   "cell_type": "markdown",
   "metadata": {},
   "source": [
    "Mostramos los resultados obtenidos para tener una idea de la proporción de 1s y 0s de Kaggle."
   ]
  },
  {
   "cell_type": "code",
   "execution_count": 790,
   "metadata": {},
   "outputs": [
    {
     "data": {
      "text/plain": [
       "label\n",
       "1    2531\n",
       "0    1305\n",
       "Name: count, dtype: int64"
      ]
     },
     "execution_count": 790,
     "metadata": {},
     "output_type": "execute_result"
    }
   ],
   "source": [
    "df_final_GBC['label'].value_counts()"
   ]
  },
  {
   "cell_type": "code",
   "execution_count": 791,
   "metadata": {},
   "outputs": [],
   "source": [
    "df_final_GBC.to_csv('./submit/gbc.csv', index=False)"
   ]
  },
  {
   "cell_type": "markdown",
   "metadata": {},
   "source": [
    "## 8.4 Clasificador Logistic Regression"
   ]
  },
  {
   "cell_type": "code",
   "execution_count": 792,
   "metadata": {},
   "outputs": [],
   "source": [
    "final_LR.fit(X_kaggle, y_kaggle)\n",
    "\n",
    "probs_LR_final = final_LR.predict_proba(X_kaggle_test)[:, 1]  \n",
    "pred_thres_LR_final = (probs_LR_final >= 0.5).astype(int) "
   ]
  },
  {
   "cell_type": "code",
   "execution_count": 793,
   "metadata": {},
   "outputs": [],
   "source": [
    "df_label_LR = pd.DataFrame(pred_thres_LR_final, columns=['label'])\n",
    "df_id = df_test['id'].reset_index(drop=True)\n",
    "df_final_LR = pd.concat([df_id, df_label_LR], axis=1)"
   ]
  },
  {
   "cell_type": "markdown",
   "metadata": {},
   "source": [
    "Mostramos los resultados obtenidos para tener una idea de la proporción de 1s y 0s de Kaggle."
   ]
  },
  {
   "cell_type": "code",
   "execution_count": 794,
   "metadata": {},
   "outputs": [
    {
     "data": {
      "text/plain": [
       "label\n",
       "1    2252\n",
       "0    1584\n",
       "Name: count, dtype: int64"
      ]
     },
     "execution_count": 794,
     "metadata": {},
     "output_type": "execute_result"
    }
   ],
   "source": [
    "df_final_LR['label'].value_counts()"
   ]
  },
  {
   "cell_type": "code",
   "execution_count": 795,
   "metadata": {},
   "outputs": [],
   "source": [
    "df_final_LR.to_csv('./submit/lr.csv', index=False)"
   ]
  },
  {
   "cell_type": "markdown",
   "metadata": {},
   "source": [
    "## 8.5 Clasificador SVC"
   ]
  },
  {
   "cell_type": "code",
   "execution_count": null,
   "metadata": {},
   "outputs": [],
   "source": [
    "final_SVC.fit(X_kaggle, y_kaggle)\n",
    "\n",
    "probs_SVC_final = final_SVC.predict_proba(X_kaggle_test)[:, 1]  \n",
    "pred_thres_SVC_final = (probs_SVC_final >= 0.5).astype(int) "
   ]
  },
  {
   "cell_type": "code",
   "execution_count": null,
   "metadata": {},
   "outputs": [],
   "source": [
    "df_label_SVC = pd.DataFrame(pred_thres_SVC_final, columns=['label'])\n",
    "df_id = df_test['id'].reset_index(drop=True)\n",
    "df_final_SVC = pd.concat([df_id, df_label_SVC], axis=1)"
   ]
  },
  {
   "cell_type": "markdown",
   "metadata": {},
   "source": [
    "Mostramos los resultados obtenidos para tener una idea de la proporción de 1s y 0s de Kaggle."
   ]
  },
  {
   "cell_type": "code",
   "execution_count": null,
   "metadata": {},
   "outputs": [
    {
     "data": {
      "text/plain": [
       "label\n",
       "1    2522\n",
       "0    1314\n",
       "Name: count, dtype: int64"
      ]
     },
     "execution_count": 691,
     "metadata": {},
     "output_type": "execute_result"
    }
   ],
   "source": [
    "df_final_SVC['label'].value_counts()"
   ]
  },
  {
   "cell_type": "code",
   "execution_count": null,
   "metadata": {},
   "outputs": [],
   "source": [
    "df_final_SVC.to_csv('./submit/svc.csv', index=False)"
   ]
  },
  {
   "cell_type": "markdown",
   "metadata": {},
   "source": [
    "# 9. Referencias"
   ]
  },
  {
   "cell_type": "markdown",
   "metadata": {},
   "source": [
    "* [ColumnTransformer. (s. f.). Scikit-learn.](https://scikit-learn.org/stable/modules/generated/sklearn.compose.ColumnTransformer.html)\n",
    "* [GridSearchCV. (s. f.). Scikit-learn.](https://scikit-learn.org/stable/modules/generated/sklearn.model_selection.GridSearchCV.html)\n",
    "* [RandomForestClassifier. (s. f.). Scikit-learn.](https://scikit-learn.org/stable/modules/generated/sklearn.ensemble.RandomForestClassifier.html)\n",
    "* [RandomUnderSampler — Version 0.13.0. (s. f.). Imbalance learn.](https://imbalanced-learn.org/stable/references/generated/imblearn.under_sampling.RandomUnderSampler.html)\n",
    "* [SMOTE — Version 0.13.0. (s. f.). Imbalanced learn.](https://imbalanced-learn.org/stable/references/generated/imblearn.over_sampling.SMOTE.html)\n",
    "* [StandardScaler. (s. f.). Scikit-learn.](https://scikit-learn.org/stable/modules/generated/sklearn.preprocessing.StandardScaler.html)\n",
    "* [train_test_split. (s. f.). Scikit-learn.](https://scikit-learn.org/stable/modules/generated/sklearn.model_selection.train_test_split.html)\n",
    "* [TfidfVectorizer. (s. f.). Scikit-learn.](https://scikit-learn.org/stable/modules/generated/sklearn.feature_extraction.text.TfidfVectorizer.html)\n",
    "* [TruncatedSVD. (s. f.). Scikit-learn.](https://scikit-learn.org/stable/modules/generated/sklearn.decomposition.TruncatedSVD.html)"
   ]
  }
 ],
 "metadata": {
  "kernelspec": {
   "display_name": "base",
   "language": "python",
   "name": "python3"
  },
  "language_info": {
   "codemirror_mode": {
    "name": "ipython",
    "version": 3
   },
   "file_extension": ".py",
   "mimetype": "text/x-python",
   "name": "python",
   "nbconvert_exporter": "python",
   "pygments_lexer": "ipython3",
   "version": "3.11.5"
  }
 },
 "nbformat": 4,
 "nbformat_minor": 4
}
