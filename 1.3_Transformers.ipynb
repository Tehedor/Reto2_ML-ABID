{
 "cells": [
  {
   "cell_type": "markdown",
   "id": "d999ed5b",
   "metadata": {},
   "source": [
    "<header style=\"width:100%;position:relative\">\n",
    "  <div style=\"width:80%;float:right;\">\n",
    "    <h1>False Political Claim Detection</h1>\n",
    "    <h3>Carga y limpieza de los datos - LLM</h3>\n",
    "    <h5>Grupo 2</h5>\n",
    "  </div>\n",
    "        <img style=\"width:15%;\" src=\"./images/logo.jpg\" alt=\"UPM\" />\n",
    "</header>"
   ]
  },
  {
   "cell_type": "markdown",
   "id": "e34585ec",
   "metadata": {},
   "source": [
    "# Índice"
   ]
  },
  {
   "cell_type": "markdown",
   "id": "bee7cb30",
   "metadata": {},
   "source": [
    "1. [Importar librerias](#1.-Importar-librerias)  \n",
    "2. [Funciones auxiliares](#2.-Funciones-auxiliares)  \n",
    "3. [Carga del Dataset](#3.-Carga-del-Dataset)  \n",
    "4. [Configuracion Statements](#4.-Configuracion-Statements)  \n",
    "   4.1 [Speaker + statement](#4.1-Speaker--statement)  \n",
    "   4.2 [Speaker + statement + subject](#4.2-Speaker--statement--subject)  \n",
    "   4.3 [Speaker + party_affiliation + statement](#4.3-Speaker--party_affiliation--statement)  \n",
    "   4.4 [Speaker + party_affiliation + statement + subject](#4.4-Speaker--party_affiliation--statement--subject)  \n",
    "   4.5 [Speaker_job + speaker + party_affiliation + statement](#4.5-Speaker_job--speaker--party_affiliation--statement)  \n",
    "   4.6 [Speaker_job + speaker + party_affiliation + statement + subject](#4.6-Speaker_job--speaker--party_affiliation--statement--subject)  \n",
    "5. [Exportar CSV](#5.-Exportar-CSV)  \n",
    "6. [Referencias](#6.-Referencias)"
   ]
  },
  {
   "cell_type": "markdown",
   "id": "69127d82",
   "metadata": {},
   "source": [
    "# 1. Importar Librerias"
   ]
  },
  {
   "cell_type": "code",
   "execution_count": 43,
   "id": "95c8663d",
   "metadata": {},
   "outputs": [],
   "source": [
    "import pandas as pd\n"
   ]
  },
  {
   "cell_type": "markdown",
   "id": "04bf8973",
   "metadata": {},
   "source": [
    "# 2. Funciones auxiliares"
   ]
  },
  {
   "cell_type": "code",
   "execution_count": 44,
   "id": "80e65b3e",
   "metadata": {},
   "outputs": [
    {
     "name": "stdout",
     "output_type": "stream",
     "text": [
      "John Doe (Senator) from California (affiliated with the Democratic party) said: \"We need to address climate change.\" The statement concerns the topics of: Climate Change.\n",
      "Jane Smith (Representative) from Texas (affiliated with the Republican party) said: \"The economy is recovering.\" The statement concerns the topics of: Economy.\n"
     ]
    }
   ],
   "source": [
    "def crear_frase_detallada(selected_columns, row):\n",
    "    partes = []\n",
    "    \n",
    "    if 'speaker' in selected_columns and pd.notna(row['speaker']):\n",
    "        partes.append(f\"{row['speaker']}\")\n",
    "    \n",
    "    if 'speaker_job' in selected_columns and pd.notna(row['speaker_job']):\n",
    "        partes.append(f\"({row['speaker_job']})\")\n",
    "    \n",
    "    if 'state_info' in selected_columns and pd.notna(row['state_info']):\n",
    "        partes.append(f\"from {row['state_info']}\")\n",
    "    \n",
    "    if 'party_affiliation' in selected_columns and pd.notna(row['party_affiliation']):\n",
    "        partes.append(f\"(affiliated with the {row['party_affiliation']} party)\")\n",
    "    \n",
    "    if 'statement' in selected_columns and pd.notna(row['statement']):\n",
    "        partes.append(f\"said: \\\"{row['statement']}\\\"\")\n",
    "    \n",
    "    if 'subject' in selected_columns and pd.notna(row['subject']):\n",
    "        partes.append(f\"The statement concerns the topics of: {row['subject']}.\")\n",
    "    \n",
    "    return \" \".join(partes)\n",
    "\n",
    "if __name__ == \"__main__\":\n",
    "    # Load the data\n",
    "    examples = [\n",
    "        {\n",
    "            \"speaker\": \"John Doe\",\n",
    "            \"speaker_job\": \"Senator\",\n",
    "            \"state_info\": \"California\",\n",
    "            \"party_affiliation\": \"Democratic\",\n",
    "            \"statement\": \"We need to address climate change.\",\n",
    "            \"subject\": \"Climate Change\"\n",
    "        },\n",
    "        {\n",
    "            \"speaker\": \"Jane Smith\",\n",
    "            \"speaker_job\": \"Representative\",\n",
    "            \"state_info\": \"Texas\",\n",
    "            \"party_affiliation\": \"Republican\",\n",
    "            \"statement\": \"The economy is recovering.\",\n",
    "            \"subject\": \"Economy\"\n",
    "        }\n",
    "    ]\n",
    "    \n",
    "    # Select relevant columns\n",
    "    selected_columns = ['speaker', 'speaker_job', 'state_info', 'party_affiliation', 'statement', 'subject']\n",
    "\n",
    "    # final_sentences = crear_frase_detallada(selected_columns, examples[0])\n",
    "    for example in examples:\n",
    "        final_sentences = crear_frase_detallada(selected_columns, example)\n",
    "        print(final_sentences)"
   ]
  },
  {
   "cell_type": "markdown",
   "id": "3ec2d083",
   "metadata": {},
   "source": [
    "# 3. Carga del Dataset"
   ]
  },
  {
   "cell_type": "code",
   "execution_count": 45,
   "id": "a3ab186b",
   "metadata": {},
   "outputs": [],
   "source": [
    "# Train\n",
    "url = \"data/train.csv\" \n",
    "df_train = pd.read_csv(url)\n",
    "\n",
    "\n",
    "# Test\n",
    "url2 = \"data/test_nolabel.csv\"\n",
    "df_test = pd.read_csv(url2)"
   ]
  },
  {
   "cell_type": "markdown",
   "id": "8d7b52f0",
   "metadata": {},
   "source": [
    "# 4. Configruacion Statements  "
   ]
  },
  {
   "cell_type": "markdown",
   "id": "882d1619",
   "metadata": {},
   "source": [
    "## 4.1 Configuracion Dataset inicial"
   ]
  },
  {
   "cell_type": "code",
   "execution_count": null,
   "id": "1d2b4082",
   "metadata": {},
   "outputs": [],
   "source": [
    "df_train_hugging = pd.DataFrame()\n",
    "df_test_hugging = pd.DataFrame()"
   ]
  },
  {
   "cell_type": "code",
   "execution_count": null,
   "id": "c407f2fb",
   "metadata": {},
   "outputs": [],
   "source": [
    "df_train_hugging = df_train[['id', 'label', 'statement']]\n",
    "df_test_hugging = df_test[['id', 'statement']]"
   ]
  },
  {
   "cell_type": "code",
   "execution_count": null,
   "id": "97a4cea5",
   "metadata": {},
   "outputs": [],
   "source": [
    "df_train.columns"
   ]
  },
  {
   "cell_type": "markdown",
   "id": "d9e1d522",
   "metadata": {},
   "source": [
    "## 4.2 speaker + statement"
   ]
  },
  {
   "cell_type": "code",
   "execution_count": null,
   "id": "64794d02",
   "metadata": {},
   "outputs": [],
   "source": [
    "columns1 = ['speaker', 'statement']\n",
    "\n",
    "df_train_hugging['speaker_statement'] = df_train.apply(lambda row: crear_frase_detallada(columns1, row), axis=1)\n",
    "df_test_hugging['speaker_statement'] = df_test.apply(lambda row: crear_frase_detallada(columns1, row), axis=1)"
   ]
  },
  {
   "cell_type": "code",
   "execution_count": null,
   "id": "a865c138",
   "metadata": {},
   "outputs": [],
   "source": [
    "print(df_train_hugging['speaker_statement'][1])"
   ]
  },
  {
   "cell_type": "markdown",
   "id": "44d47e99",
   "metadata": {},
   "source": [
    "## 4.3 speaker + statement + subject"
   ]
  },
  {
   "cell_type": "code",
   "execution_count": null,
   "id": "1a208584",
   "metadata": {},
   "outputs": [],
   "source": [
    "columns2 = ['speaker', 'statement', 'subject']\n",
    "\n",
    "df_train_hugging['speaker_statement_subject'] = df_train.apply(lambda row: crear_frase_detallada(columns2, row), axis=1)\n",
    "df_test_hugging['speaker_statement_subject'] = df_test.apply(lambda row: crear_frase_detallada(columns2, row), axis=1)\n"
   ]
  },
  {
   "cell_type": "code",
   "execution_count": null,
   "id": "63987635",
   "metadata": {},
   "outputs": [],
   "source": [
    "print(df_train_hugging['speaker_statement_subject'][1])"
   ]
  },
  {
   "cell_type": "markdown",
   "id": "5ff6e2c4",
   "metadata": {},
   "source": [
    "## 4.4 speaker + party_affiliation + statement"
   ]
  },
  {
   "cell_type": "code",
   "execution_count": null,
   "id": "e3c87e8f",
   "metadata": {},
   "outputs": [],
   "source": [
    "columns3 = ['speaker', 'party_affiliation', 'statement']\n",
    "\n",
    "df_train_hugging['speaker_party_statement'] = df_train.apply(lambda row: crear_frase_detallada(columns3, row), axis=1)\n",
    "df_test_hugging['speaker_party_statement'] = df_test.apply(lambda row: crear_frase_detallada(columns3, row), axis=1)"
   ]
  },
  {
   "cell_type": "code",
   "execution_count": null,
   "id": "d3abefff",
   "metadata": {},
   "outputs": [],
   "source": [
    "print(df_train_hugging['speaker_party_statement'][1])"
   ]
  },
  {
   "cell_type": "markdown",
   "id": "8e43c5bf",
   "metadata": {},
   "source": [
    "## 4.5 speaker + party_affiliation + statement + subject"
   ]
  },
  {
   "cell_type": "code",
   "execution_count": null,
   "id": "3c291168",
   "metadata": {},
   "outputs": [],
   "source": [
    "columns4 = ['speaker', 'party_affiliation', 'statement', 'subject']\n",
    "\n",
    "df_train_hugging['speaker_party_statement_subject'] = df_train.apply(lambda row: crear_frase_detallada(columns4, row), axis=1)\n",
    "df_test_hugging['speaker_party_statement_subject'] = df_test.apply(lambda row: crear_frase_detallada(columns4, row), axis=1)"
   ]
  },
  {
   "cell_type": "code",
   "execution_count": null,
   "id": "67e808ef",
   "metadata": {},
   "outputs": [],
   "source": [
    "print(df_train_hugging['speaker_party_statement_subject'][1])"
   ]
  },
  {
   "cell_type": "markdown",
   "id": "aa655c85",
   "metadata": {},
   "source": [
    "## 4.6 speaker_job + speaker + party_affiliation + statement"
   ]
  },
  {
   "cell_type": "code",
   "execution_count": null,
   "id": "22635b59",
   "metadata": {},
   "outputs": [],
   "source": [
    "columns5 = ['speaker', 'speaker_job', 'party_affiliation', 'statement']\n",
    "\n",
    "df_train_hugging['speaker_speaker-job_party_statement'] = df_train.apply(lambda row: crear_frase_detallada(columns5, row), axis=1)\n",
    "df_test_hugging['speaker_speaker-job_party_statement'] = df_test.apply(lambda row: crear_frase_detallada(columns5, row), axis=1)"
   ]
  },
  {
   "cell_type": "code",
   "execution_count": null,
   "id": "bc2ae4e3",
   "metadata": {},
   "outputs": [],
   "source": [
    "print(df_train_hugging['speaker_speaker-job_party_statement'][1])"
   ]
  },
  {
   "cell_type": "markdown",
   "id": "e3f78677",
   "metadata": {},
   "source": [
    "## 4.7 speaker_job + Speaker + party_affiliation + statement + subject"
   ]
  },
  {
   "cell_type": "code",
   "execution_count": null,
   "id": "471ce725",
   "metadata": {},
   "outputs": [],
   "source": [
    "columns6 = ['speaker', 'speaker_job', 'party_affiliation', 'statement', 'subject']\n",
    "\n",
    "df_train_hugging['speaker_speaker-job_party_statement_subject'] = df_train.apply(lambda row: crear_frase_detallada(columns6, row), axis=1)\n",
    "df_test_hugging['speaker_speaker-job_party_statement_subject'] = df_test.apply(lambda row: crear_frase_detallada(columns6, row), axis=1)"
   ]
  },
  {
   "cell_type": "code",
   "execution_count": null,
   "id": "b12bff09",
   "metadata": {},
   "outputs": [],
   "source": [
    "print(df_train_hugging['speaker_speaker-job_party_statement_subject'][1])"
   ]
  },
  {
   "cell_type": "markdown",
   "id": "91cb33cf",
   "metadata": {},
   "source": [
    "# 5. Exportar CSV"
   ]
  },
  {
   "cell_type": "code",
   "execution_count": null,
   "id": "3003ccae",
   "metadata": {},
   "outputs": [],
   "source": [
    "df_train_hugging.to_csv('./formated/train_hugging.csv', index=False)\n",
    "\n",
    "df_test_hugging.to_csv('./formated/test_hugging.csv', index=False)"
   ]
  },
  {
   "cell_type": "markdown",
   "id": "13caf815",
   "metadata": {},
   "source": [
    "# 6. Referencias"
   ]
  },
  {
   "cell_type": "markdown",
   "id": "77052133",
   "metadata": {},
   "source": [
    "* [pandas documentation — pandas 2.2.3 documentation. (s. f.).](https://pandas.pydata.org/docs/)  \n"
   ]
  }
 ],
 "metadata": {
  "kernelspec": {
   "display_name": "anaconda3_r2",
   "language": "python",
   "name": "python3"
  },
  "language_info": {
   "codemirror_mode": {
    "name": "ipython",
    "version": 3
   },
   "file_extension": ".py",
   "mimetype": "text/x-python",
   "name": "python",
   "nbconvert_exporter": "python",
   "pygments_lexer": "ipython3",
   "version": "3.9.21"
  }
 },
 "nbformat": 4,
 "nbformat_minor": 5
}
