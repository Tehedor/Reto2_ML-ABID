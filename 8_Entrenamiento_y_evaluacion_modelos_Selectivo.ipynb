{
 "cells": [
  {
   "cell_type": "markdown",
   "metadata": {
    "id": "j0wcAWiX8Ym1"
   },
   "source": [
    "<header style=\"width:100%;position:relative\">\n",
    "  <div style=\"width:80%;float:right;\">\n",
    "    <h1>False Political Claim Detection</h1>\n",
    "    <h3>Entrenamiento y evaluación de los modelos</h3>\n",
    "    <h5>Grupo 2</h5>\n",
    "  </div>\n",
    "        <img style=\"width:15%;\" src=\"./images/logo.jpg\" alt=\"UPM\" />\n",
    "</header>"
   ]
  },
  {
   "cell_type": "markdown",
   "metadata": {
    "id": "HA2g3Dxq8Ym3"
   },
   "source": [
    "# Índice"
   ]
  },
  {
   "cell_type": "markdown",
   "metadata": {
    "id": "tZV9snwA8Ym3"
   },
   "source": [
    "1. [Importar librerias](#1.-Importar-librerias)\n",
    "2. [Variables globales y funciones auxiliares](#2.-Variables-globales-y-funciones-auxiliares)\n",
    "3. [Carga del dataframe](#3.-Carga-del-dataframe)\n",
    "4. [Selección de las características](#4.-Seleccion-de-las-caracteristicas)\n",
    "5. [Carga de los datos y división en entrenamiento y test](#5.-Carga-de-los-datos-y-division-en-entrenamiento-y-test)\n",
    "6. [Preprocesado](#6.-Preprocesado)\n",
    "    * 6.1 [Undersampling](#6.1-Undersampling)\n",
    "    * 6.2 [Oversampling](#6.2-Oversampling)\n",
    "7. [Modelos seleccionados](#7.-Modelos-seleccionados)\n",
    "    * 7.1 [Introducción](#7.1-Introduccion)\n",
    "    * 7.2 [Asignacion de las variables](#7.2-Asignacion-de-las-variables)\n",
    "    * 7.3 [Clasificador XGBoost](#7.3-Clasificador-XGBoost)\n",
    "8. [Exportar CSV](#8.-Exportar-CSV)\n",
    "    * 8.1 [Asignacion de las variables](#8.1-Asignacion-de-las-variables)\n",
    "    * 8.2 [Clasificador XGBoost](#8.2-Clasificador-XGBoost)\n",
    "9. [Conclusiones generales](#9.-Conclusiones-generales)\n",
    "10. [Referencias](#10.-Referencias)"
   ]
  },
  {
   "cell_type": "markdown",
   "metadata": {
    "id": "_hEvVrB_8Ym4"
   },
   "source": [
    "# 1. Importar librerias"
   ]
  },
  {
   "cell_type": "code",
   "execution_count": 3,
   "metadata": {
    "colab": {
     "base_uri": "https://localhost:8080/"
    },
    "id": "JobgDLGu8Ym4",
    "outputId": "584bc712-8b6e-4f62-88c5-f2652e8d5820",
    "vscode": {
     "languageId": "plaintext"
    }
   },
   "outputs": [
    {
     "name": "stdout",
     "output_type": "stream",
     "text": [
      "Todas las librerias fueron correctamente importadas.\n"
     ]
    }
   ],
   "source": [
    "# General import and load data\n",
    "import pandas as pd\n",
    "import numpy as np\n",
    "\n",
    "# Resampling\n",
    "from imblearn.under_sampling import RandomUnderSampler\n",
    "from imblearn.over_sampling import SMOTE\n",
    "\n",
    "# Splitting\n",
    "from sklearn.model_selection import train_test_split\n",
    "\n",
    "# Estimators\n",
    "from xgboost import XGBClassifier\n",
    "\n",
    "# Evaluation\n",
    "from sklearn.metrics import accuracy_score, confusion_matrix, classification_report\n",
    "from sklearn.metrics import make_scorer, f1_score, recall_score, roc_curve, roc_auc_score\n",
    "\n",
    "# Optimization\n",
    "from sklearn.model_selection import GridSearchCV\n",
    "\n",
    "# Visualization\n",
    "import matplotlib.pyplot as plt\n",
    "\n",
    "# Time optimization\n",
    "import time\n",
    "\n",
    "print(\"Todas las librerias fueron correctamente importadas.\")"
   ]
  },
  {
   "cell_type": "markdown",
   "metadata": {
    "id": "IdsYYIqe8Ym6"
   },
   "source": [
    "# 2. Variables globales y funciones auxiliares"
   ]
  },
  {
   "cell_type": "markdown",
   "metadata": {
    "id": "FI4CJpuR8Ym6"
   },
   "source": [
    "Se fija un seed para todo el documento para fijar la aleatoriedad y así obtener resultados replicables."
   ]
  },
  {
   "cell_type": "code",
   "execution_count": 6,
   "metadata": {
    "id": "Y09D5Nj98Ym6"
   },
   "outputs": [],
   "source": [
    "seed = 42"
   ]
  },
  {
   "cell_type": "markdown",
   "metadata": {
    "id": "J5id2JZl8Ym6"
   },
   "source": [
    "Función utilizado para evaluar los distintos umbrales en la curva de ROC."
   ]
  },
  {
   "cell_type": "code",
   "execution_count": 8,
   "metadata": {
    "id": "bBn9VUcw8Ym6"
   },
   "outputs": [],
   "source": [
    "def evaluate_threshold(threshold):\n",
    "    print('Sensitivity:', tpr[thresholds > threshold][-1])\n",
    "    print('Recall:', 1 - fpr[thresholds > threshold][-1])"
   ]
  },
  {
   "cell_type": "markdown",
   "metadata": {
    "id": "rczoxQOJ8Ym7"
   },
   "source": [
    "# 3. Carga del dataframe"
   ]
  },
  {
   "cell_type": "markdown",
   "metadata": {
    "id": "WbzO97lc8Ym7"
   },
   "source": [
    "Se cargan los datos de la ruta *formated/train_exportado.csv*, los cuales son los datos ya procesados por uno de nuestros compañeros."
   ]
  },
  {
   "cell_type": "code",
   "execution_count": 11,
   "metadata": {
    "colab": {
     "base_uri": "https://localhost:8080/"
    },
    "id": "YvuDKIIj8Ym7",
    "outputId": "551e8d6a-0370-4720-ba81-4edb4e3596f0"
   },
   "outputs": [
    {
     "name": "stdout",
     "output_type": "stream",
     "text": [
      "Datos cargados correctamente\n",
      "\n"
     ]
    }
   ],
   "source": [
    "url = \"./formated/train_exportado_words.csv\"\n",
    "df = pd.read_csv(url)\n",
    "\n",
    "print(\"Datos cargados correctamente\\n\")"
   ]
  },
  {
   "cell_type": "markdown",
   "metadata": {
    "id": "QBon3C6t9ojR"
   },
   "source": [
    "Observamos todas las columnas (se convierten a formato lista para observar la salida completa)."
   ]
  },
  {
   "cell_type": "code",
   "execution_count": 13,
   "metadata": {
    "colab": {
     "base_uri": "https://localhost:8080/"
    },
    "id": "LmxsUBG-8Ym7",
    "outputId": "45d52c96-6b9d-4d03-e7bc-7c03ce3eb9eb"
   },
   "outputs": [
    {
     "name": "stdout",
     "output_type": "stream",
     "text": [
      "['id', 'label', 'statement_score', 'subject-ciencia_y_tecnologia', 'subject-economia_y_finanzas', 'subject-educacion', 'subject-medio_ambiente_y_energia', 'subject-otros', 'subject-politica_y_gobierno', 'subject-relaciones_internacionales', 'subject-salud_y_bienestar', 'subject-seguridad_y_justicia', 'subject-sociedad_y_cultura', 'subject-trabajo_y_empleo', 'speaker_grouped_barack-obama', 'speaker_grouped_chain-email', 'speaker_grouped_donald-trump', 'speaker_grouped_hillary-clinton', 'speaker_grouped_john-mccain', 'speaker_grouped_marco-rubio', 'speaker_grouped_mitt-romney', 'speaker_grouped_other_speakers', 'speaker_grouped_rick-perry', 'speaker_grouped_rick-scott', 'speaker_grouped_scott-walker', 'speaker_job_grouped_business_professional', 'speaker_job_grouped_federal_legislative_candidate', 'speaker_job_grouped_federal_legislative_leader', 'speaker_job_grouped_federal_legislator_house', 'speaker_job_grouped_federal_legislator_senate', 'speaker_job_grouped_governor', 'speaker_job_grouped_legal_professional', 'speaker_job_grouped_local_education_official', 'speaker_job_grouped_local_executive', 'speaker_job_grouped_other_speaker_job', 'speaker_job_grouped_party_leader', 'speaker_job_grouped_political_advisor', 'speaker_job_grouped_political_organization', 'speaker_job_grouped_president', 'speaker_job_grouped_presidential_candidate', 'speaker_job_grouped_public_communicator', 'speaker_job_grouped_state_executive', 'speaker_job_grouped_state_legislator_house', 'speaker_job_grouped_state_legislator_senate', 'state_info_grouped_arizona', 'state_info_grouped_california', 'state_info_grouped_florida', 'state_info_grouped_georgia', 'state_info_grouped_illinois', 'state_info_grouped_massachusetts', 'state_info_grouped_new jersey', 'state_info_grouped_new york', 'state_info_grouped_ohio', 'state_info_grouped_oregon', 'state_info_grouped_other_state_info', 'state_info_grouped_rhode island', 'state_info_grouped_texas', 'state_info_grouped_virginia', 'state_info_grouped_washington dc', 'state_info_grouped_wisconsin', 'party_group_democrat', 'party_group_independent_None', 'party_group_media', 'party_group_official', 'party_group_organization', 'party_group_other', 'party_group_republican', 'party_group_third_Party']\n"
     ]
    }
   ],
   "source": [
    "# Ver todas las columnas como lista completa\n",
    "print(df.columns.tolist())"
   ]
  },
  {
   "cell_type": "markdown",
   "metadata": {
    "id": "6AFBOehj8Ym7"
   },
   "source": [
    "También cargamos el test que debemos predecir para Kaggle de la ruta *formated/test_exportado.csv*."
   ]
  },
  {
   "cell_type": "code",
   "execution_count": 15,
   "metadata": {
    "colab": {
     "base_uri": "https://localhost:8080/"
    },
    "id": "IA-UQ6Vb8Ym7",
    "outputId": "eede9bab-5f33-42d5-aef9-21cb2e01ac8f"
   },
   "outputs": [
    {
     "name": "stdout",
     "output_type": "stream",
     "text": [
      "Test cargado correctamente\n",
      "\n"
     ]
    }
   ],
   "source": [
    "url = \"./formated/test_exportado_words.csv\"\n",
    "df_test = pd.read_csv(url)\n",
    "\n",
    "print(\"Test cargado correctamente\\n\")"
   ]
  },
  {
   "cell_type": "markdown",
   "metadata": {
    "id": "BZRwf6yj8Ym7"
   },
   "source": [
    "# 4. Seleccion de las caracteristicas"
   ]
  },
  {
   "cell_type": "markdown",
   "metadata": {
    "id": "5zH1peoK8Ym7"
   },
   "source": [
    "En el siguiente array se muestran todas las caracteristicas por si se decide realizar pruebas con otras *features*."
   ]
  },
  {
   "cell_type": "code",
   "execution_count": 18,
   "metadata": {
    "id": "MZ5EI0Q78Ym8"
   },
   "outputs": [],
   "source": [
    "all_features = [\n",
    "    # Identificador\n",
    "    'id',\n",
    "\n",
    "    # Etiqueta objetivo\n",
    "    'label',\n",
    "\n",
    "    # Score del texto\n",
    "    'statement_score',\n",
    "\n",
    "    # One-hot encoded de los temas reagrupados del texto\n",
    "    'subject-ciencia_y_tecnologia', 'subject-economia_y_finanzas',\n",
    "    'subject-educacion', 'subject-medio_ambiente_y_energia', 'subject-otros',\n",
    "    'subject-politica_y_gobierno', 'subject-relaciones_internacionales',\n",
    "    'subject-salud_y_bienestar', 'subject-seguridad_y_justicia',\n",
    "    'subject-sociedad_y_cultura', 'subject-trabajo_y_empleo',\n",
    "\n",
    "\n",
    "    # One-hot de speaker_grouped\n",
    "    'speaker_grouped_barack-obama', 'speaker_grouped_chain-email',\n",
    "    'speaker_grouped_donald-trump', 'speaker_grouped_hillary-clinton',\n",
    "    'speaker_grouped_john-mccain', 'speaker_grouped_marco-rubio',\n",
    "    'speaker_grouped_mitt-romney', 'speaker_grouped_other_speakers',\n",
    "    'speaker_grouped_rick-perry', 'speaker_grouped_rick-scott',\n",
    "    'speaker_grouped_scott-walker',\n",
    "\n",
    "    # One-hot de speaker_job_grouped\n",
    "    'speaker_job_grouped_business_professional',\n",
    "    'speaker_job_grouped_federal_legislative_candidate',\n",
    "    'speaker_job_grouped_federal_legislative_leader',\n",
    "    'speaker_job_grouped_federal_legislator_house',\n",
    "    'speaker_job_grouped_federal_legislator_senate',\n",
    "    'speaker_job_grouped_governor',\n",
    "    'speaker_job_grouped_legal_professional',\n",
    "    'speaker_job_grouped_local_education_official',\n",
    "    'speaker_job_grouped_local_executive',\n",
    "    'speaker_job_grouped_other_speaker_job',\n",
    "    'speaker_job_grouped_party_leader',\n",
    "    'speaker_job_grouped_political_advisor',\n",
    "    'speaker_job_grouped_political_organization',\n",
    "    'speaker_job_grouped_president',\n",
    "    'speaker_job_grouped_presidential_candidate',\n",
    "    'speaker_job_grouped_public_communicator',\n",
    "    'speaker_job_grouped_state_executive',\n",
    "    'speaker_job_grouped_state_legislator_house',\n",
    "    'speaker_job_grouped_state_legislator_senate',\n",
    "\n",
    "    # One-hot de state_info_grouped\n",
    "    'state_info_grouped_arizona', 'state_info_grouped_california',\n",
    "    'state_info_grouped_florida', 'state_info_grouped_georgia',\n",
    "    'state_info_grouped_illinois', 'state_info_grouped_massachusetts',\n",
    "    'state_info_grouped_new jersey', 'state_info_grouped_new york',\n",
    "    'state_info_grouped_ohio', 'state_info_grouped_oregon',\n",
    "    'state_info_grouped_other_state_info', 'state_info_grouped_rhode island',\n",
    "    'state_info_grouped_texas', 'state_info_grouped_virginia',\n",
    "    'state_info_grouped_washington dc', 'state_info_grouped_wisconsin',\n",
    "\n",
    "    # One-hot de party_group\n",
    "    'party_group_democrat', 'party_group_independent_None',\n",
    "    'party_group_media', 'party_group_official',\n",
    "    'party_group_organization', 'party_group_other',\n",
    "    'party_group_republican', 'party_group_third_Party',\n",
    "]"
   ]
  },
  {
   "cell_type": "markdown",
   "metadata": {
    "id": "sQvoKQvv8Ym8"
   },
   "source": [
    "De las anteriores, solo nos quedaremos con las siguientes:"
   ]
  },
  {
   "cell_type": "code",
   "execution_count": 20,
   "metadata": {
    "id": "lKAUD_9r8Ym8"
   },
   "outputs": [],
   "source": [
    "selected_features_1 = [\n",
    "    # Score del texto\n",
    "    'statement_score',\n",
    "\n",
    "    ######################################################\n",
    "    # One-hot encoded de los temas reagrupados del texto\n",
    "    ######################################################\n",
    "    # Mayor proporcion de falsas que el resto\n",
    "    'subject-ciencia_y_tecnologia', 'subject-educacion',\n",
    "    'subject-economia_y_finanzas', 'subject-relaciones_internacionales',\n",
    "\n",
    "    # Mayor proporcion de verdaderas que el resto\n",
    "    'subject-salud_y_bienestar', 'subject-sociedad_y_cultura',\n",
    "\n",
    "    ######################################################\n",
    "    # One-hot de speaker_grouped\n",
    "    ######################################################\n",
    "    # Mayor proporcion de falsas que el resto\n",
    "    'speaker_grouped_hillary-clinton', 'speaker_grouped_john-mccain',\n",
    "    'speaker_grouped_barack-obama',\n",
    "\n",
    "     # Mayor proporcion de verdaderas que el resto\n",
    "    'speaker_grouped_chain-email', 'speaker_grouped_donald-trump',\n",
    "    'speaker_grouped_rick-perry', 'speaker_grouped_mitt-romney',\n",
    "\n",
    "    ######################################################\n",
    "    # One-hot de speaker_job_grouped\n",
    "    ######################################################\n",
    "    # Mayor proporcion de falsas que el resto\n",
    "    'speaker_job_grouped_presidential_candidate',\n",
    "    'speaker_job_grouped_federal_legislator_senate',\n",
    "    'speaker_job_grouped_state_legislator_senate',\n",
    "    'speaker_job_grouped_state_legislator_house',\n",
    "\n",
    "    # Mayor proporcion de verdaderas que el resto\n",
    "    'speaker_job_grouped_public_communicator',\n",
    "    'speaker_job_grouped_legal_professional',\n",
    "    'speaker_job_grouped_federal_legislative_leader',\n",
    "\n",
    "\n",
    "    ######################################################\n",
    "    # One-hot de state_info_grouped\n",
    "    ######################################################\n",
    "    # Mayor proporcion de falsas que el resto\n",
    "    'state_info_grouped_ohio', 'state_info_grouped_illinois',\n",
    "    'state_info_grouped_new jersey', 'state_info_grouped_georgia',\n",
    "    'state_info_grouped_california',\n",
    "\n",
    "    # Mayor proporcion de verdaderas que el resto\n",
    "    'state_info_grouped_wisconsin', 'state_info_grouped_massachusetts',\n",
    "\n",
    "    ######################################################\n",
    "    # One-hot de state_info_grouped\n",
    "    ######################################################\n",
    "    # Mayor proporcion de falsas que el resto\n",
    "    'party_group_official', 'party_group_democrat',\n",
    "    'party_group_media',\n",
    "\n",
    "    # Mayor proporcion de verdaderas que el resto\n",
    "    'party_group_organization', 'party_group_republican',\n",
    "]"
   ]
  },
  {
   "cell_type": "markdown",
   "metadata": {},
   "source": [
    "Y de las anteriores, nos volvemos a quedar solamente con las siguientes (para una prueba más agresiva):"
   ]
  },
  {
   "cell_type": "code",
   "execution_count": 22,
   "metadata": {
    "id": "Q7EWHnxf8Ym8"
   },
   "outputs": [],
   "source": [
    "selected_features_2 = [\n",
    "    # Score del texto\n",
    "    'statement_score',\n",
    "\n",
    "    ######################################################\n",
    "    # One-hot encoded de los temas reagrupados del texto\n",
    "    ######################################################\n",
    "    # Mayor proporcion de falsas que el resto\n",
    "    'subject-ciencia_y_tecnologia',\n",
    "\n",
    "    # Mayor proporcion de verdaderas que el resto\n",
    "    'subject-salud_y_bienestar',\n",
    "\n",
    "    ######################################################\n",
    "    # One-hot de speaker_grouped\n",
    "    ######################################################\n",
    "    # Mayor proporcion de falsas que el resto\n",
    "    'speaker_grouped_hillary-clinton', 'speaker_grouped_john-mccain',\n",
    "    'speaker_grouped_barack-obama',\n",
    "\n",
    "     # Mayor proporcion de verdaderas que el resto\n",
    "    'speaker_grouped_chain-email', 'speaker_grouped_donald-trump',\n",
    "    'speaker_grouped_rick-perry', 'speaker_grouped_mitt-romney',\n",
    "\n",
    "    ######################################################\n",
    "    # One-hot de speaker_job_grouped\n",
    "    ######################################################\n",
    "    # Mayor proporcion de falsas que el resto\n",
    "    'speaker_job_grouped_presidential_candidate',\n",
    "    'speaker_job_grouped_federal_legislator_senate',\n",
    "    'speaker_job_grouped_state_legislator_senate',\n",
    "\n",
    "    # Mayor proporcion de verdaderas que el resto\n",
    "    'speaker_job_grouped_public_communicator',\n",
    "    'speaker_job_grouped_legal_professional',\n",
    "    'speaker_job_grouped_federal_legislative_leader',\n",
    "\n",
    "\n",
    "    ######################################################\n",
    "    # One-hot de state_info_grouped\n",
    "    ######################################################\n",
    "    # Mayor proporcion de falsas que el resto\n",
    "    'state_info_grouped_ohio', 'state_info_grouped_illinois',\n",
    "\n",
    "    # Mayor proporcion de verdaderas que el resto\n",
    "    'state_info_grouped_wisconsin', 'state_info_grouped_massachusetts',\n",
    "\n",
    "    ######################################################\n",
    "    # One-hot de state_info_grouped\n",
    "    ######################################################\n",
    "    # Mayor proporcion de falsas que el resto\n",
    "    'party_group_official', 'party_group_democrat',\n",
    "    'party_group_media',\n",
    "\n",
    "    # Mayor proporcion de verdaderas que el resto\n",
    "    'party_group_organization', 'party_group_republican',\n",
    "]"
   ]
  },
  {
   "cell_type": "markdown",
   "metadata": {
    "id": "n3fyCr2Q8Ym8"
   },
   "source": [
    "# 5. Carga de los datos y division en entrenamiento y test"
   ]
  },
  {
   "cell_type": "markdown",
   "metadata": {
    "id": "jeyjbxit8Ym8"
   },
   "source": [
    "Cargamos las caracteristicas seleccionadas en la variable X y el objetivo *label* en la variable y."
   ]
  },
  {
   "cell_type": "code",
   "execution_count": 25,
   "metadata": {
    "id": "KvlwDLOx8Ym9"
   },
   "outputs": [],
   "source": [
    "X = df[selected_features_2]\n",
    "y = df['label'].values"
   ]
  },
  {
   "cell_type": "markdown",
   "metadata": {
    "id": "nqlf9gn88Ym9"
   },
   "source": [
    "Se separa ya en entrenamiento y test para no falsear los datos del test al realizar el balanceo."
   ]
  },
  {
   "cell_type": "code",
   "execution_count": 27,
   "metadata": {
    "id": "vIv3TeiO8Ym9"
   },
   "outputs": [],
   "source": [
    "X_train, X_test, y_train, y_test = train_test_split(X, y, test_size=0.2, random_state=seed)"
   ]
  },
  {
   "cell_type": "markdown",
   "metadata": {
    "id": "lUlIjZl98Ym9"
   },
   "source": [
    "A la hora de subir el modelo a Kaggle, ya se nos da dividido el entrenamiento y el test. Por ello, se utilizarán todos los datos tratados como entrenamiento (aunque también se le aplicará el mejor caso de preprocesado para cada modelo)."
   ]
  },
  {
   "cell_type": "code",
   "execution_count": 29,
   "metadata": {
    "id": "O4XPPfSU8Ym9"
   },
   "outputs": [],
   "source": [
    "X_train_final = X\n",
    "y_train_final = y\n",
    "\n",
    "X_test_final = df_test[selected_features_2]"
   ]
  },
  {
   "cell_type": "markdown",
   "metadata": {
    "id": "bjh7zw1e8Ym9"
   },
   "source": [
    "# 6. Preprocesado"
   ]
  },
  {
   "cell_type": "markdown",
   "metadata": {
    "id": "ib9LQaBe8Ym9"
   },
   "source": [
    "Al haber escogido manualmente las características y el texto ya esta procesado en forma de una nota en función de las palabras que empleaba la frase, solamente será necesario tratar el desbalance entre clases. Para ello se realiza primero un *undersampling* con *RandomUnderSampler* y, después, se hacer un *oversampling* con un *SMOTE*."
   ]
  },
  {
   "cell_type": "markdown",
   "metadata": {
    "id": "D635D5vi8Ym9"
   },
   "source": [
    "## 6.1 Undersampling"
   ]
  },
  {
   "cell_type": "markdown",
   "metadata": {
    "id": "wzKRHoKz8Ym9"
   },
   "source": [
    "Primero se realiza un undersampling al conjunto para el análisis."
   ]
  },
  {
   "cell_type": "code",
   "execution_count": 34,
   "metadata": {
    "id": "ZrmsGRqk8Ym9"
   },
   "outputs": [],
   "source": [
    "under = RandomUnderSampler(sampling_strategy=0.7, random_state=seed)\n",
    "X_under, y_under = under.fit_resample(X_train, y_train)"
   ]
  },
  {
   "cell_type": "markdown",
   "metadata": {
    "id": "h3-twXsz8Ym-"
   },
   "source": [
    "Después el de Kaggle."
   ]
  },
  {
   "cell_type": "code",
   "execution_count": 36,
   "metadata": {
    "id": "aAItFe4a8Ym-"
   },
   "outputs": [],
   "source": [
    "under_final = RandomUnderSampler(sampling_strategy=0.7, random_state=seed)\n",
    "X_under_final, y_under_final = under_final.fit_resample(X_train_final, y_train_final)"
   ]
  },
  {
   "cell_type": "markdown",
   "metadata": {
    "id": "axDD-hC58Ym-"
   },
   "source": [
    "## 6.2 Oversampling"
   ]
  },
  {
   "cell_type": "markdown",
   "metadata": {
    "id": "MprKgnk28Ym-"
   },
   "source": [
    "Primero se realiza un oversampling al conjunto para el análisis."
   ]
  },
  {
   "cell_type": "code",
   "execution_count": 39,
   "metadata": {
    "id": "fiJGcN9P8Ym-"
   },
   "outputs": [],
   "source": [
    "over = SMOTE(sampling_strategy=0.9, random_state=seed)\n",
    "X_resampled, y_resampled = over.fit_resample(X_under, y_under)"
   ]
  },
  {
   "cell_type": "markdown",
   "metadata": {
    "id": "d9jW25Ec8YnD"
   },
   "source": [
    "Después el de Kaggle."
   ]
  },
  {
   "cell_type": "code",
   "execution_count": 41,
   "metadata": {
    "id": "jRW-U1qz8YnD"
   },
   "outputs": [],
   "source": [
    "over_final = SMOTE(sampling_strategy=0.9, k_neighbors=5, random_state=seed)\n",
    "X_res_final, y_res_final = over_final.fit_resample(X_under_final, y_under_final)"
   ]
  },
  {
   "cell_type": "markdown",
   "metadata": {
    "id": "DeOO8I_C8YnD"
   },
   "source": [
    "# 7. Modelos seleccionados"
   ]
  },
  {
   "cell_type": "markdown",
   "metadata": {
    "id": "-GxtrmSW8YnD"
   },
   "source": [
    "## 7.1 Introduccion"
   ]
  },
  {
   "cell_type": "markdown",
   "metadata": {
    "id": "MKaEiXi58YnD"
   },
   "source": [
    "Debido a la faalta de tiempo cuando nos dispusimos a realizar este *notebook* solo se ha evaluado el modelo *XGBoost* al tratarse del mejor modelo obtenido tanto durante el análisis de modelos, como al aplicar TF-IDF y como al aplicar Word2vec. Cabe resaltar que aunque fuese el mejor para todos ellos no tenia por qué ser el mejor para ahora ya que hemos cambiado las variables de entrada al fin y al cabo."
   ]
  },
  {
   "cell_type": "markdown",
   "metadata": {
    "id": "ZD5eCb_W8YnD"
   },
   "source": [
    "## 7.2 Asignacion de las variables"
   ]
  },
  {
   "cell_type": "markdown",
   "metadata": {
    "id": "dR-I_jQJ8YnE"
   },
   "source": [
    "Asignamos las variables para el analisis en función del desarrollo del apartado del preprocesado."
   ]
  },
  {
   "cell_type": "code",
   "execution_count": 47,
   "metadata": {
    "id": "bmcletia8YnE"
   },
   "outputs": [],
   "source": [
    "X_model = X_resampled\n",
    "y_model = y_resampled\n",
    "\n",
    "X_model_test = X_test\n",
    "expected = y_test"
   ]
  },
  {
   "cell_type": "markdown",
   "metadata": {
    "id": "f20K8le-8YnE"
   },
   "source": [
    "## 7.3 Clasificador XGBoost"
   ]
  },
  {
   "cell_type": "markdown",
   "metadata": {
    "id": "FPLQGA6A8YnE"
   },
   "source": [
    "### 7.4.1 Definicion"
   ]
  },
  {
   "cell_type": "markdown",
   "metadata": {
    "id": "oSkloK-y8YnE"
   },
   "source": [
    "Definimos el modelo con los hiperparámetros *random_state* fijado y *class_weigth* balanceado. También se escoje *n_jobs* con valor -1 para utilizar todos los procesadores."
   ]
  },
  {
   "cell_type": "code",
   "execution_count": 51,
   "metadata": {
    "id": "dVPXJMge8YnE",
    "vscode": {
     "languageId": "plaintext"
    }
   },
   "outputs": [],
   "source": [
    "model_XG = XGBClassifier(objective='binary:logistic', eval_metric='logloss', random_state=seed)"
   ]
  },
  {
   "cell_type": "markdown",
   "metadata": {
    "id": "A1fVcopY8YnE"
   },
   "source": [
    "### 7.4.2 Entrenamiento y evaluacion"
   ]
  },
  {
   "cell_type": "markdown",
   "metadata": {
    "id": "jB9CxqRA8YnF"
   },
   "source": [
    "Entrenamos el modelo y comprobamos su exactitud."
   ]
  },
  {
   "cell_type": "code",
   "execution_count": 54,
   "metadata": {
    "id": "8fOZiu-p8YnF",
    "vscode": {
     "languageId": "plaintext"
    }
   },
   "outputs": [],
   "source": [
    "model_XG.fit(X_model, y_model)\n",
    "\n",
    "predicted_XG = model_XG.predict(X_model_test)"
   ]
  },
  {
   "cell_type": "code",
   "execution_count": 55,
   "metadata": {
    "colab": {
     "base_uri": "https://localhost:8080/"
    },
    "id": "IRvpClgt8YnF",
    "outputId": "4e1e2f08-7b7a-43c5-ff74-6a42ec0fe330",
    "vscode": {
     "languageId": "plaintext"
    }
   },
   "outputs": [
    {
     "data": {
      "text/plain": [
       "0.7240223463687151"
      ]
     },
     "execution_count": 55,
     "metadata": {},
     "output_type": "execute_result"
    }
   ],
   "source": [
    "accuracy_score(expected, predicted_XG)"
   ]
  },
  {
   "cell_type": "markdown",
   "metadata": {
    "id": "jCGW8pYj8YnF"
   },
   "source": [
    "### 7.4.3 Null accuracy"
   ]
  },
  {
   "cell_type": "markdown",
   "metadata": {
    "id": "AstNTXYT8YnG"
   },
   "source": [
    "Nuestra exactitud es de 0.724, la cual es peor que la *null accuracy*, es decir, ahora mismo no tenemos un buen modelo ya que se predecirían un mayor número de resultados en el caso de siempre predecir la clase mayoritaria."
   ]
  },
  {
   "cell_type": "markdown",
   "metadata": {
    "id": "wr-C0a9x8YnG"
   },
   "source": [
    "### 7.4.4 Matriz de confusion y F-score"
   ]
  },
  {
   "cell_type": "markdown",
   "metadata": {
    "id": "_QfVeoJ48YnG"
   },
   "source": [
    "Se muestra la matriz de confusión y el informe de clasificación."
   ]
  },
  {
   "cell_type": "code",
   "execution_count": 60,
   "metadata": {
    "colab": {
     "base_uri": "https://localhost:8080/"
    },
    "id": "A_rdie1m8YnG",
    "outputId": "b7868493-6329-4823-d1bc-e1aef2e704f4",
    "vscode": {
     "languageId": "plaintext"
    }
   },
   "outputs": [
    {
     "name": "stdout",
     "output_type": "stream",
     "text": [
      "[[439 172]\n",
      " [322 857]]\n"
     ]
    }
   ],
   "source": [
    "print(confusion_matrix(expected, predicted_XG))"
   ]
  },
  {
   "cell_type": "code",
   "execution_count": 61,
   "metadata": {
    "colab": {
     "base_uri": "https://localhost:8080/"
    },
    "id": "JLXQtr_F8YnH",
    "outputId": "8395f5bb-9715-4dbd-9012-af844c59f0f2",
    "vscode": {
     "languageId": "plaintext"
    }
   },
   "outputs": [
    {
     "name": "stdout",
     "output_type": "stream",
     "text": [
      "              precision    recall  f1-score   support\n",
      "\n",
      "           0       0.58      0.72      0.64       611\n",
      "           1       0.83      0.73      0.78      1179\n",
      "\n",
      "    accuracy                           0.72      1790\n",
      "   macro avg       0.70      0.72      0.71      1790\n",
      "weighted avg       0.75      0.72      0.73      1790\n",
      "\n"
     ]
    }
   ],
   "source": [
    "print(classification_report(expected, predicted_XG))"
   ]
  },
  {
   "cell_type": "markdown",
   "metadata": {
    "id": "4_jrU1ma8YnH"
   },
   "source": [
    "Se observan unos grandes resultados tanto para los 0s como para los 1s."
   ]
  },
  {
   "cell_type": "markdown",
   "metadata": {
    "id": "crak_BVc8YnH"
   },
   "source": [
    "### 7.4.5 ROC y AUC"
   ]
  },
  {
   "cell_type": "markdown",
   "metadata": {
    "id": "BYXdL2gt8YnI"
   },
   "source": [
    "Evaluamos la ROC-AUC score. Para ello representamos primero la curva de ROC."
   ]
  },
  {
   "cell_type": "code",
   "execution_count": 65,
   "metadata": {
    "colab": {
     "base_uri": "https://localhost:8080/",
     "height": 472
    },
    "id": "ehC0c9Hh8YnI",
    "outputId": "b2a453da-7a3b-436d-946f-1fcd7dee54b4",
    "vscode": {
     "languageId": "plaintext"
    }
   },
   "outputs": [
    {
     "data": {
      "image/png": "[encoded data removed]",
      "text/plain": [
       "<Figure size 640x480 with 1 Axes>"
      ]
     },
     "metadata": {},
     "output_type": "display_data"
    }
   ],
   "source": [
    "y_pred_prob_XG = model_XG.predict_proba(X_model_test)[:,1]\n",
    "fpr, tpr, thresholds = roc_curve(expected, y_pred_prob_XG)\n",
    "plt.plot(fpr, tpr)\n",
    "plt.xlim([0.0, 1.0])\n",
    "plt.ylim([0.0, 1.0])\n",
    "plt.title('Curva ROC')\n",
    "plt.xlabel('Ratio de FP (1 - Recall)')\n",
    "plt.ylabel('Ratio TP (Sensitivity)')\n",
    "plt.grid(True)\n",
    "plt.show()"
   ]
  },
  {
   "cell_type": "markdown",
   "metadata": {
    "id": "qPg-tLBR8YnI"
   },
   "source": [
    "Y mostramos sus thresholds."
   ]
  },
  {
   "cell_type": "code",
   "execution_count": 67,
   "metadata": {
    "colab": {
     "base_uri": "https://localhost:8080/"
    },
    "id": "4-aqzstJ8YnI",
    "outputId": "4a80e05f-7373-4da6-810a-9a81d0a9061a",
    "vscode": {
     "languageId": "plaintext"
    }
   },
   "outputs": [
    {
     "data": {
      "text/plain": [
       "array([       inf, 0.9988097 , 0.9979017 , 0.99788636, 0.9963213 ,\n",
       "       0.9961998 , 0.99609524, 0.9960742 , 0.995695  , 0.99284357,\n",
       "       0.9921938 , 0.9916426 , 0.99141735, 0.99103326, 0.9909506 ,\n",
       "       0.9907416 , 0.990126  , 0.9900203 , 0.9899942 , 0.98990566,\n",
       "       0.9892356 , 0.98918706, 0.9891122 , 0.9798964 , 0.9797258 ,\n",
       "       0.9796753 , 0.979364  , 0.9789219 , 0.9787336 , 0.97866315,\n",
       "       0.97837913, 0.9775004 , 0.9769356 , 0.97513086, 0.9748064 ,\n",
       "       0.9740389 , 0.97274506, 0.9719847 , 0.97152746, 0.9700983 ,\n",
       "       0.96946543, 0.96898794, 0.96887434, 0.96818507, 0.96806395,\n",
       "       0.9649626 , 0.9649342 , 0.9630109 , 0.9628313 , 0.96187663,\n",
       "       0.96079403, 0.9596686 , 0.95901895, 0.95411026, 0.95396715,\n",
       "       0.9531964 , 0.95246285, 0.95105493, 0.9510016 , 0.94791734,\n",
       "       0.9475254 , 0.9470268 , 0.9469881 , 0.94390273, 0.94371486,\n",
       "       0.9420997 , 0.9412903 , 0.9394405 , 0.9385079 , 0.9349706 ,\n",
       "       0.9348681 , 0.9326712 , 0.9318715 , 0.9315721 , 0.93080693,\n",
       "       0.93067354, 0.92729425, 0.92680895, 0.9216148 , 0.92069554,\n",
       "       0.9204859 , 0.9200543 , 0.9185998 , 0.91779023, 0.9164799 ,\n",
       "       0.91452765, 0.91281396, 0.9127621 , 0.9117185 , 0.91061777,\n",
       "       0.9102433 , 0.90846187, 0.90735584, 0.9065295 , 0.9064973 ,\n",
       "       0.9047635 , 0.9039578 , 0.9039497 , 0.9036601 , 0.9030902 ,\n",
       "       0.9029066 , 0.9015001 , 0.8995923 , 0.8993522 , 0.8970385 ,\n",
       "       0.8962891 , 0.8960423 , 0.892448  , 0.89150685, 0.8911114 ,\n",
       "       0.89046085, 0.89025885, 0.89001703, 0.8882543 , 0.8878745 ,\n",
       "       0.88706326, 0.88665026, 0.8866234 , 0.8865816 , 0.88506484,\n",
       "       0.8845848 , 0.8799891 , 0.8790786 , 0.8780509 , 0.8780266 ,\n",
       "       0.8777047 , 0.87688804, 0.8753271 , 0.8750044 , 0.8749951 ,\n",
       "       0.8709499 , 0.87033546, 0.869364  , 0.86868924, 0.8684298 ,\n",
       "       0.8683572 , 0.8673518 , 0.8651359 , 0.8645799 , 0.8611775 ,\n",
       "       0.86097884, 0.8599854 , 0.8598285 , 0.8581321 , 0.8579306 ,\n",
       "       0.8566846 , 0.85467666, 0.852299  , 0.8521775 , 0.8514194 ,\n",
       "       0.8506391 , 0.84927815, 0.8491124 , 0.846557  , 0.84640086,\n",
       "       0.8438864 , 0.84357125, 0.84192634, 0.84188884, 0.84060967,\n",
       "       0.8402873 , 0.8391085 , 0.83865047, 0.83500874, 0.83424693,\n",
       "       0.83173573, 0.8305321 , 0.8272783 , 0.82691   , 0.8262419 ,\n",
       "       0.825713  , 0.82544154, 0.825185  , 0.8247986 , 0.82470953,\n",
       "       0.8234559 , 0.8233692 , 0.8216532 , 0.8208419 , 0.8208051 ,\n",
       "       0.82070583, 0.8205185 , 0.81468296, 0.8145081 , 0.8144692 ,\n",
       "       0.81388754, 0.81337166, 0.80861604, 0.8085162 , 0.80840945,\n",
       "       0.8080684 , 0.8073239 , 0.8063983 , 0.8043375 , 0.8042555 ,\n",
       "       0.80420756, 0.80213726, 0.8017413 , 0.79671574, 0.7954437 ,\n",
       "       0.7927185 , 0.7925423 , 0.7904779 , 0.78724545, 0.78665787,\n",
       "       0.7858634 , 0.78551793, 0.7804034 , 0.7799836 , 0.77974087,\n",
       "       0.779016  , 0.77797204, 0.77664524, 0.7763213 , 0.7754085 ,\n",
       "       0.77391493, 0.773691  , 0.77354836, 0.7733964 , 0.77338696,\n",
       "       0.7710782 , 0.7710018 , 0.7652887 , 0.7652559 , 0.76444584,\n",
       "       0.7619809 , 0.7618469 , 0.76002383, 0.7599962 , 0.759986  ,\n",
       "       0.75964135, 0.75855356, 0.7568211 , 0.7562372 , 0.75430477,\n",
       "       0.75408584, 0.75365317, 0.7504096 , 0.74927104, 0.7484871 ,\n",
       "       0.74755377, 0.74748003, 0.74611056, 0.74287134, 0.7417521 ,\n",
       "       0.7411258 , 0.74084014, 0.74028504, 0.73901135, 0.73736036,\n",
       "       0.7355421 , 0.73322594, 0.7331387 , 0.73269725, 0.73236316,\n",
       "       0.7307209 , 0.7283811 , 0.72835445, 0.7278798 , 0.7270945 ,\n",
       "       0.72679174, 0.72524744, 0.72398305, 0.7231911 , 0.7222025 ,\n",
       "       0.7218739 , 0.7198807 , 0.71965843, 0.7169329 , 0.7160552 ,\n",
       "       0.71532184, 0.70813334, 0.7046515 , 0.70346016, 0.70285815,\n",
       "       0.7025953 , 0.70223814, 0.6999461 , 0.6992447 , 0.6979957 ,\n",
       "       0.6963999 , 0.693955  , 0.69379336, 0.692368  , 0.69227993,\n",
       "       0.6889837 , 0.6867473 , 0.68663216, 0.6863796 , 0.68532115,\n",
       "       0.68390536, 0.6837377 , 0.6818661 , 0.6811694 , 0.68035495,\n",
       "       0.68017143, 0.67780304, 0.6774909 , 0.67569786, 0.674994  ,\n",
       "       0.6744968 , 0.67351705, 0.6731671 , 0.6725928 , 0.67106706,\n",
       "       0.67005324, 0.6693516 , 0.66850084, 0.6665619 , 0.6662636 ,\n",
       "       0.6641054 , 0.6636485 , 0.65973973, 0.6591913 , 0.65806085,\n",
       "       0.6573865 , 0.657356  , 0.6570977 , 0.65656626, 0.65601575,\n",
       "       0.65197957, 0.64903146, 0.6490114 , 0.6455906 , 0.64429885,\n",
       "       0.64358807, 0.64191794, 0.635497  , 0.6350992 , 0.6350537 ,\n",
       "       0.6348301 , 0.6336652 , 0.63254136, 0.6307186 , 0.6301979 ,\n",
       "       0.6290111 , 0.6227994 , 0.62089336, 0.6156032 , 0.61479133,\n",
       "       0.61436903, 0.61387825, 0.6127608 , 0.610023  , 0.6092983 ,\n",
       "       0.6065671 , 0.60629886, 0.6046778 , 0.60421   , 0.6033332 ,\n",
       "       0.5989562 , 0.59885406, 0.5988282 , 0.596173  , 0.59134257,\n",
       "       0.590045  , 0.58991843, 0.5896263 , 0.58692974, 0.58448863,\n",
       "       0.58377934, 0.5812838 , 0.5805222 , 0.57975936, 0.5785949 ,\n",
       "       0.5758461 , 0.57118565, 0.5675927 , 0.56680673, 0.5646707 ,\n",
       "       0.56163603, 0.5605617 , 0.5553517 , 0.5541552 , 0.55363053,\n",
       "       0.5530579 , 0.5529321 , 0.5516922 , 0.551617  , 0.5437828 ,\n",
       "       0.54103833, 0.5409036 , 0.54058444, 0.5389536 , 0.5359712 ,\n",
       "       0.5347285 , 0.5346179 , 0.5327976 , 0.5325218 , 0.5313044 ,\n",
       "       0.53121996, 0.5296049 , 0.5287468 , 0.52420306, 0.5241126 ,\n",
       "       0.5226691 , 0.5210646 , 0.5202944 , 0.5190812 , 0.5186674 ,\n",
       "       0.5172606 , 0.5163392 , 0.5159496 , 0.51506484, 0.5133715 ,\n",
       "       0.51312864, 0.51225466, 0.5112125 , 0.50982374, 0.5090185 ,\n",
       "       0.5007468 , 0.50044286, 0.49921432, 0.495868  , 0.49495113,\n",
       "       0.49484673, 0.49478623, 0.493312  , 0.4928444 , 0.49267685,\n",
       "       0.49188185, 0.49062896, 0.49050525, 0.49027792, 0.48970458,\n",
       "       0.48858547, 0.48795897, 0.48725876, 0.48600063, 0.4847957 ,\n",
       "       0.4831145 , 0.481034  , 0.47853646, 0.47825316, 0.47761205,\n",
       "       0.47736147, 0.47618964, 0.4759874 , 0.47468883, 0.47009182,\n",
       "       0.469125  , 0.4688977 , 0.46887076, 0.46759295, 0.46032694,\n",
       "       0.45631856, 0.45586097, 0.45545873, 0.4553736 , 0.4543251 ,\n",
       "       0.45391023, 0.4537262 , 0.45138484, 0.44955558, 0.44903627,\n",
       "       0.4488303 , 0.44879064, 0.4475622 , 0.44723845, 0.44668087,\n",
       "       0.44512564, 0.44395995, 0.4419199 , 0.44148737, 0.4382752 ,\n",
       "       0.43766707, 0.43660086, 0.43456838, 0.43118644, 0.4304477 ,\n",
       "       0.42769545, 0.4272556 , 0.4270645 , 0.4239252 , 0.42183918,\n",
       "       0.42023668, 0.41809967, 0.41785035, 0.41768867, 0.415048  ,\n",
       "       0.41502392, 0.41413066, 0.4138894 , 0.4136613 , 0.4070096 ,\n",
       "       0.40391856, 0.4024595 , 0.39873442, 0.3977857 , 0.39544657,\n",
       "       0.39490414, 0.3940298 , 0.39269567, 0.3925031 , 0.3919667 ,\n",
       "       0.39107725, 0.39028996, 0.39027327, 0.38984108, 0.38900593,\n",
       "       0.38869807, 0.38802412, 0.38621694, 0.38587424, 0.38523346,\n",
       "       0.3852032 , 0.38339218, 0.38159946, 0.37968412, 0.37858987,\n",
       "       0.37690106, 0.376098  , 0.37577674, 0.3755496 , 0.37537995,\n",
       "       0.37342137, 0.37313586, 0.37021482, 0.3697584 , 0.3691141 ,\n",
       "       0.3690754 , 0.36898887, 0.3687494 , 0.36786976, 0.3666069 ,\n",
       "       0.36659864, 0.36610398, 0.36573726, 0.3655188 , 0.36421815,\n",
       "       0.36285174, 0.36049786, 0.36043027, 0.359159  , 0.35909736,\n",
       "       0.35777643, 0.3572686 , 0.3572254 , 0.35423854, 0.35337314,\n",
       "       0.3520514 , 0.3516553 , 0.3513081 , 0.35036772, 0.3473326 ,\n",
       "       0.34684667, 0.34574965, 0.34475517, 0.34464726, 0.34147578,\n",
       "       0.34091458, 0.34067556, 0.3402844 , 0.33957273, 0.33814132,\n",
       "       0.33776256, 0.33698398, 0.33645302, 0.33623406, 0.33532998,\n",
       "       0.33498588, 0.3341808 , 0.33309993, 0.33287835, 0.33027843,\n",
       "       0.3273678 , 0.32593656, 0.3250074 , 0.32459158, 0.3241833 ,\n",
       "       0.3234616 , 0.32107893, 0.32022893, 0.31733662, 0.3154087 ,\n",
       "       0.31509247, 0.313717  , 0.31324148, 0.313035  , 0.3123134 ,\n",
       "       0.31217125, 0.3115902 , 0.3102791 , 0.3095354 , 0.30908322,\n",
       "       0.3089143 , 0.30516005, 0.30354413, 0.30312696, 0.30101383,\n",
       "       0.2990481 , 0.29876736, 0.2946733 , 0.2945426 , 0.2914268 ,\n",
       "       0.29138145, 0.29105726, 0.29003027, 0.2889268 , 0.28849372,\n",
       "       0.28811744, 0.28674445, 0.28636777, 0.28497964, 0.28047308,\n",
       "       0.28015268, 0.27834496, 0.27808383, 0.2780091 , 0.27734298,\n",
       "       0.27295944, 0.27295598, 0.26994354, 0.26855224, 0.26736003,\n",
       "       0.2656969 , 0.26484776, 0.26320705, 0.26289576, 0.26201656,\n",
       "       0.2615561 , 0.2588771 , 0.25717387, 0.25694704, 0.25502867,\n",
       "       0.25424528, 0.25402957, 0.2534528 , 0.25302795, 0.2503989 ,\n",
       "       0.24998271, 0.24922778, 0.24775974, 0.24612458, 0.24105138,\n",
       "       0.24090374, 0.24065594, 0.23543425, 0.23488933, 0.23379412,\n",
       "       0.2334319 , 0.23296176, 0.23162912, 0.23096484, 0.23042881,\n",
       "       0.22603   , 0.2245882 , 0.21661834, 0.21547408, 0.2152816 ,\n",
       "       0.2148882 , 0.2122547 , 0.21112981, 0.2104281 , 0.20673238,\n",
       "       0.20499313, 0.20452034, 0.20395349, 0.20344688, 0.20167898,\n",
       "       0.19856852, 0.1977432 , 0.19759133, 0.19742021, 0.1962324 ,\n",
       "       0.19551705, 0.19454104, 0.1930793 , 0.19288442, 0.19259596,\n",
       "       0.19247928, 0.19203864, 0.19196486, 0.1892591 , 0.18820755,\n",
       "       0.18647434, 0.18537165, 0.18429689, 0.18397965, 0.18373767,\n",
       "       0.17970747, 0.1793332 , 0.17924763, 0.17836559, 0.17571552,\n",
       "       0.17548901, 0.17522262, 0.17389438, 0.17323835, 0.17242844,\n",
       "       0.17192012, 0.1718718 , 0.17183758, 0.16981407, 0.16711932,\n",
       "       0.16461764, 0.16233149, 0.1618099 , 0.16125488, 0.1598223 ,\n",
       "       0.1585393 , 0.15845205, 0.15745056, 0.15712309, 0.15555702,\n",
       "       0.15425743, 0.15266155, 0.1510704 , 0.14923419, 0.14572132,\n",
       "       0.14515741, 0.1449692 , 0.14383979, 0.14351124, 0.14331116,\n",
       "       0.14270219, 0.14270064, 0.14119704, 0.13992149, 0.13988687,\n",
       "       0.13362394, 0.13324246, 0.13249503, 0.12769459, 0.12729315,\n",
       "       0.12626348, 0.12531827, 0.1211699 , 0.11701068, 0.11496777,\n",
       "       0.11292338, 0.11272766, 0.1110004 , 0.10920245, 0.10871187,\n",
       "       0.10091072, 0.09973111, 0.09467617, 0.09414439, 0.09256418,\n",
       "       0.09006061, 0.08884162, 0.08783868, 0.08651676, 0.08444441,\n",
       "       0.0842732 , 0.08274888, 0.07919735, 0.0771577 , 0.07589287,\n",
       "       0.0751168 , 0.07474662, 0.07062668, 0.06988355, 0.06877672,\n",
       "       0.06579999, 0.06568869, 0.06500178, 0.05997128, 0.05988076,\n",
       "       0.05942944, 0.05937098, 0.05528878, 0.0540723 , 0.05385866,\n",
       "       0.05381015, 0.04483036, 0.04375842, 0.04188673, 0.04144028,\n",
       "       0.04069528, 0.03666354, 0.03211329, 0.0263766 , 0.02465596,\n",
       "       0.01239965, 0.01142838, 0.01120375, 0.01051933, 0.00855247,\n",
       "       0.00846269, 0.00233596], dtype=float32)"
      ]
     },
     "execution_count": 67,
     "metadata": {},
     "output_type": "execute_result"
    }
   ],
   "source": [
    "thresholds"
   ]
  },
  {
   "cell_type": "markdown",
   "metadata": {
    "id": "HWsw7VtC8YnI"
   },
   "source": [
    "La curva presenta una buena forma, al contrario de lo que ocurria en otros *notebooks*."
   ]
  },
  {
   "cell_type": "markdown",
   "metadata": {
    "id": "dMJD8D4K8YnJ"
   },
   "source": [
    "La siguiente gráfica muestra las probabilidades de predicción en función de los umbrales."
   ]
  },
  {
   "cell_type": "code",
   "execution_count": 70,
   "metadata": {
    "colab": {
     "base_uri": "https://localhost:8080/",
     "height": 495
    },
    "id": "DTSUGb1P8YnJ",
    "outputId": "651b894d-e32c-4c44-d5f5-2010600fb281",
    "vscode": {
     "languageId": "plaintext"
    }
   },
   "outputs": [
    {
     "data": {
      "text/plain": [
       "array([<Axes: title={'center': '0'}>, <Axes: title={'center': '1'}>],\n",
       "      dtype=object)"
      ]
     },
     "execution_count": 70,
     "metadata": {},
     "output_type": "execute_result"
    },
    {
     "data": {
      "image/png": "[encoded data removed]",
      "text/plain": [
       "<Figure size 640x480 with 2 Axes>"
      ]
     },
     "metadata": {},
     "output_type": "display_data"
    }
   ],
   "source": [
    "dprob = pd.DataFrame(data = {'probability':y_pred_prob_XG, 'actual':y_test})\n",
    "dprob.probability.hist(by=dprob.actual, sharex=True, sharey=True)"
   ]
  },
  {
   "cell_type": "markdown",
   "metadata": {
    "id": "S7_PCEZN8YnJ"
   },
   "source": [
    "Se muestra que los mejores resultados para ambas clases se obtiene con el *threshold* igual a 0.5 aproximandamente (es decir, el valor por defecto)."
   ]
  },
  {
   "cell_type": "code",
   "execution_count": 72,
   "metadata": {
    "colab": {
     "base_uri": "https://localhost:8080/"
    },
    "id": "4Lb8Xw_t8YnJ",
    "outputId": "24c77eaa-2caa-46e0-94cc-8928234e91de",
    "vscode": {
     "languageId": "plaintext"
    }
   },
   "outputs": [
    {
     "name": "stdout",
     "output_type": "stream",
     "text": [
      "Sensitivity: 0.7268871925360475\n",
      "Recall: 0.718494271685761\n"
     ]
    }
   ],
   "source": [
    "best_thres_XG = 0.5\n",
    "\n",
    "evaluate_threshold(best_thres_XG)"
   ]
  },
  {
   "cell_type": "markdown",
   "metadata": {
    "id": "Nxc-6_738YnJ"
   },
   "source": [
    "Con este valor se obtienen los siguientes resultados. Primero se recalculan las predicciones."
   ]
  },
  {
   "cell_type": "code",
   "execution_count": 74,
   "metadata": {
    "id": "7ZkyhOGl8YnJ"
   },
   "outputs": [],
   "source": [
    "probs_XG = model_XG.predict_proba(X_model_test)[:, 1]\n",
    "pred_thres_XG= (probs_XG >= best_thres_XG).astype(int)"
   ]
  },
  {
   "cell_type": "markdown",
   "metadata": {
    "id": "LmHs1eKR8YnK"
   },
   "source": [
    "Se evalua la matriz de confusión."
   ]
  },
  {
   "cell_type": "code",
   "execution_count": 76,
   "metadata": {
    "colab": {
     "base_uri": "https://localhost:8080/"
    },
    "id": "s-Q3SQEu8YnK",
    "outputId": "e7d7743a-c253-43cc-e4d8-95033b605009"
   },
   "outputs": [
    {
     "name": "stdout",
     "output_type": "stream",
     "text": [
      "[[439 172]\n",
      " [322 857]]\n"
     ]
    }
   ],
   "source": [
    "print(confusion_matrix(expected, pred_thres_XG))"
   ]
  },
  {
   "cell_type": "markdown",
   "metadata": {
    "id": "c89T8YbK8YnK"
   },
   "source": [
    "Y también se analiza el informe de la clasificación."
   ]
  },
  {
   "cell_type": "code",
   "execution_count": 78,
   "metadata": {
    "colab": {
     "base_uri": "https://localhost:8080/"
    },
    "id": "ddnSA7gr8YnK",
    "outputId": "5a86e293-554d-41ff-cd18-0d581d117acb"
   },
   "outputs": [
    {
     "name": "stdout",
     "output_type": "stream",
     "text": [
      "              precision    recall  f1-score   support\n",
      "\n",
      "           0       0.58      0.72      0.64       611\n",
      "           1       0.83      0.73      0.78      1179\n",
      "\n",
      "    accuracy                           0.72      1790\n",
      "   macro avg       0.70      0.72      0.71      1790\n",
      "weighted avg       0.75      0.72      0.73      1790\n",
      "\n"
     ]
    }
   ],
   "source": [
    "print(classification_report(expected, pred_thres_XG))"
   ]
  },
  {
   "cell_type": "markdown",
   "metadata": {
    "id": "3enn9C5A8YnK"
   },
   "source": [
    "Obviamente son los mismos, ya que no estamos modificando el umbral realmente."
   ]
  },
  {
   "cell_type": "markdown",
   "metadata": {
    "id": "eeURWMxE8YnK"
   },
   "source": [
    "Finalmente se calcula el valor de AUC."
   ]
  },
  {
   "cell_type": "code",
   "execution_count": 81,
   "metadata": {
    "colab": {
     "base_uri": "https://localhost:8080/"
    },
    "id": "rsgwHhLl8YnK",
    "outputId": "09f8d427-d237-4a36-b8c0-46efef5bb2f6",
    "vscode": {
     "languageId": "plaintext"
    }
   },
   "outputs": [
    {
     "name": "stdout",
     "output_type": "stream",
     "text": [
      "0.7226907321109043\n"
     ]
    }
   ],
   "source": [
    "print(roc_auc_score(expected, predicted_XG))"
   ]
  },
  {
   "cell_type": "markdown",
   "metadata": {
    "id": "4aPz7vUx8YnL"
   },
   "source": [
    "Se ha obtenido un valor entre 0.7 y 0.7, es decir, el modelo se considerá como no tan bueno o *C*."
   ]
  },
  {
   "cell_type": "markdown",
   "metadata": {
    "id": "TtjG1xOn8YnL"
   },
   "source": [
    "### 7.4.6 Optimizacion"
   ]
  },
  {
   "cell_type": "markdown",
   "metadata": {
    "id": "5pb0c1s98YnL"
   },
   "source": [
    "Ahora seleccionamos los hiperparámetros a evaluar mediante un GridSearchCV. Además, se ha añadido la librería *time* para saber el tiempo que tardo en realizar la busqueda de mejores parámetros.\n",
    "\n",
    "Estos hiperparámetros son:\n",
    "* ***max_depth***: máxima profundidad de cada árbol.\n",
    "* ***eta***: también llamado *learning_rate*,es un factor de escala que regula cuánto se actualizan los pesos en cada paso de boosting.\n",
    "* ***n_estimators***: número de árboles.\n",
    "* ***subsample***: proporción usada para entrenar cada árbol.\n",
    "* ***colsample_bytree***: fracción de columnas utilizadas para construir cada árbol."
   ]
  },
  {
   "cell_type": "markdown",
   "metadata": {
    "id": "-Z3sB_py8YnL"
   },
   "source": [
    "Debido a *Hugging Face* se aprendió a utilizar *Google Collab* y junto a su GPU. Por ello se abordó un *GridSearchCV* más grande ya que el tiempo de ejecución tampoco fue tan alto."
   ]
  },
  {
   "cell_type": "raw",
   "metadata": {
    "id": "C2aSDDKzDgyD"
   },
   "source": [
    "optm_XG = XGBClassifier(\n",
    "    objective='binary:logistic',\n",
    "    eval_metric='auc',\n",
    "    random_state=seed\n",
    ")\n",
    "\n",
    "param_grid = {\n",
    "    'max_depth': [3, 4, 5],\n",
    "    'eta': [0.05, 0.1, 0.2],\n",
    "    'n_estimators': [50, 100, 200],\n",
    "    'subsample': [0.8, 1.0],\n",
    "    'colsample_bytree': [0.8, 1.0],\n",
    "}\n",
    "\n",
    "grid_search = GridSearchCV(optm_XG, param_grid=param_grid, scoring=make_scorer(f1_score, average='weighted'), cv=3, n_jobs=-1)\n",
    "\n",
    "inicio = time.time()\n",
    "grid_search.fit(X_model, y_model)\n",
    "fin = time.time()"
   ]
  },
  {
   "cell_type": "markdown",
   "metadata": {
    "id": "wtsPKbOD8YnN"
   },
   "source": [
    "Se calcula el tiempo que ha tardado en minutos."
   ]
  },
  {
   "cell_type": "raw",
   "metadata": {
    "colab": {
     "base_uri": "https://localhost:8080/"
    },
    "id": "oxM5qSVRDm5D",
    "outputId": "ef556ad0-4f60-4f4e-faaf-62c587bc6fe0"
   },
   "source": [
    "tiempo_total = (fin - inicio) / 60\n",
    "print(f\"La celda tardó {tiempo_total} minutos en ejecutarse.\")"
   ]
  },
  {
   "cell_type": "markdown",
   "metadata": {
    "id": "p7qhY9Zn8YnN"
   },
   "source": [
    "Se escoge el mejor parámetro y su  precisión asociada."
   ]
  },
  {
   "cell_type": "raw",
   "metadata": {
    "colab": {
     "base_uri": "https://localhost:8080/"
    },
    "id": "h0bGNVFvDq02",
    "outputId": "507ebcb0-17a1-4ae0-cfe0-8c4497058176"
   },
   "source": [
    "print(\"Mejores parámetros: \", grid_search.best_params_)\n",
    "print(\"Mejor score: \", grid_search.best_score_)"
   ]
  },
  {
   "cell_type": "markdown",
   "metadata": {
    "id": "_jdU9nEi8YnN"
   },
   "source": [
    "Observamos los mejores 10 casos para analizar varias posibilidades."
   ]
  },
  {
   "cell_type": "raw",
   "metadata": {
    "id": "QxQx6WzFDxWo"
   },
   "source": [
    "results_df = pd.DataFrame(grid_search.cv_results_)"
   ]
  },
  {
   "cell_type": "raw",
   "metadata": {
    "colab": {
     "base_uri": "https://localhost:8080/"
    },
    "id": "BiCQq_xIDuKb",
    "outputId": "1fe4d895-3dd1-4a08-bca5-598f13b3b428"
   },
   "source": [
    "top_10_models = results_df.nlargest(10, \"mean_test_score\")\n",
    "\n",
    "print(\"\\nLos 10 mejores modelos:\")\n",
    "for index, row in top_10_models.iterrows():\n",
    "    print(\"\\nModelo:\")\n",
    "    print(f\"Parámetros: {row['params']}\")\n",
    "    print(f\"Puntuación media de prueba: {row['mean_test_score']}\")"
   ]
  },
  {
   "cell_type": "markdown",
   "metadata": {
    "id": "qf2S-jq18YnN"
   },
   "source": [
    "### 7.4.7 Entrenamiento y evaluacion con hiperparametros optimizados"
   ]
  },
  {
   "cell_type": "markdown",
   "metadata": {
    "id": "6FHH50wV8YnN"
   },
   "source": [
    "#### - Definicion"
   ]
  },
  {
   "cell_type": "markdown",
   "metadata": {
    "id": "yJFOT0E-8YnN"
   },
   "source": [
    "Definimos los mejores parámetros (no se define con *grid_search.best_params_* para probar varias opciones de forma sencilla)."
   ]
  },
  {
   "cell_type": "code",
   "execution_count": 92,
   "metadata": {
    "id": "D3mLSlie8YnO",
    "vscode": {
     "languageId": "plaintext"
    }
   },
   "outputs": [],
   "source": [
    "params_final_XG = {\n",
    "    'objective': 'binary:logistic',\n",
    "    'eval_metric': 'auc',\n",
    "    'max_depth': 3,\n",
    "    'eta': 0.1,\n",
    "    'n_estimators': 100,\n",
    "    'subsample': 0.8,\n",
    "    'colsample_bytree': 1,\n",
    "    'random_state': seed\n",
    "}"
   ]
  },
  {
   "cell_type": "markdown",
   "metadata": {
    "id": "vNPPcXk38YnO"
   },
   "source": [
    "Definimos el modelo desagregando el diccionario."
   ]
  },
  {
   "cell_type": "code",
   "execution_count": 94,
   "metadata": {
    "id": "1jRW97Xz8YnO"
   },
   "outputs": [],
   "source": [
    "final_XG = XGBClassifier(**params_final_XG)"
   ]
  },
  {
   "cell_type": "markdown",
   "metadata": {
    "id": "LxNnIOTv8YnO"
   },
   "source": [
    "#### - Entrenamiento y evaluacion"
   ]
  },
  {
   "cell_type": "markdown",
   "metadata": {
    "id": "qB_XTK0O8YnO"
   },
   "source": [
    "Entrenamos el modelo y comprobamos su exactitud."
   ]
  },
  {
   "cell_type": "code",
   "execution_count": 97,
   "metadata": {
    "id": "mYp9eslk8YnO",
    "vscode": {
     "languageId": "plaintext"
    }
   },
   "outputs": [],
   "source": [
    "final_XG.fit(X_model, y_model)\n",
    "\n",
    "predicted_XG_opt = final_XG.predict(X_model_test)"
   ]
  },
  {
   "cell_type": "code",
   "execution_count": 98,
   "metadata": {
    "colab": {
     "base_uri": "https://localhost:8080/"
    },
    "id": "XLmmDu_d8YnP",
    "outputId": "26f4ec0c-cd73-496b-edeb-81bea3df83c6",
    "vscode": {
     "languageId": "plaintext"
    }
   },
   "outputs": [
    {
     "data": {
      "text/plain": [
       "0.7340782122905027"
      ]
     },
     "execution_count": 98,
     "metadata": {},
     "output_type": "execute_result"
    }
   ],
   "source": [
    "accuracy_score(expected, predicted_XG_opt)"
   ]
  },
  {
   "cell_type": "markdown",
   "metadata": {
    "id": "4OnA_2Vy8YnP"
   },
   "source": [
    "#### - Null accuracy"
   ]
  },
  {
   "cell_type": "markdown",
   "metadata": {
    "id": "D6j5jn048YnP"
   },
   "source": [
    "La accuracy es similar a la anterior y sigue siendo superior a la *null accuracy*."
   ]
  },
  {
   "cell_type": "markdown",
   "metadata": {
    "id": "WTpBZnBI8YnP"
   },
   "source": [
    "#### - Matriz de confusion y F-score"
   ]
  },
  {
   "cell_type": "markdown",
   "metadata": {
    "id": "FOSBs-bM8YnP"
   },
   "source": [
    "La matriz de confusión y el informe de clasificación también es muy similar."
   ]
  },
  {
   "cell_type": "code",
   "execution_count": 103,
   "metadata": {
    "colab": {
     "base_uri": "https://localhost:8080/"
    },
    "id": "KifLaq3h8YnP",
    "outputId": "37360fd1-bc38-4ea3-ef75-0c3a6f4b7810"
   },
   "outputs": [
    {
     "name": "stdout",
     "output_type": "stream",
     "text": [
      "[[438 173]\n",
      " [303 876]]\n"
     ]
    }
   ],
   "source": [
    "print(confusion_matrix(expected, predicted_XG_opt))"
   ]
  },
  {
   "cell_type": "code",
   "execution_count": 104,
   "metadata": {
    "colab": {
     "base_uri": "https://localhost:8080/"
    },
    "id": "8fdNUKs_8YnP",
    "outputId": "6abb25b3-8789-49df-aa1b-b59d340870db",
    "vscode": {
     "languageId": "plaintext"
    }
   },
   "outputs": [
    {
     "name": "stdout",
     "output_type": "stream",
     "text": [
      "              precision    recall  f1-score   support\n",
      "\n",
      "           0       0.59      0.72      0.65       611\n",
      "           1       0.84      0.74      0.79      1179\n",
      "\n",
      "    accuracy                           0.73      1790\n",
      "   macro avg       0.71      0.73      0.72      1790\n",
      "weighted avg       0.75      0.73      0.74      1790\n",
      "\n"
     ]
    }
   ],
   "source": [
    "print(classification_report(expected, predicted_XG_opt))"
   ]
  },
  {
   "cell_type": "markdown",
   "metadata": {
    "id": "01lv5UQG8YnP"
   },
   "source": [
    "#### - ROC y AUC"
   ]
  },
  {
   "cell_type": "markdown",
   "metadata": {
    "id": "T3cJb-d88YnQ"
   },
   "source": [
    "Se calcula el ROC y se reajusta el umbral de probabilidad."
   ]
  },
  {
   "cell_type": "code",
   "execution_count": 107,
   "metadata": {
    "colab": {
     "base_uri": "https://localhost:8080/",
     "height": 472
    },
    "id": "IOqsoC8N8YnQ",
    "outputId": "1feb8d27-b5c9-41e2-835a-ee0124436441",
    "vscode": {
     "languageId": "plaintext"
    }
   },
   "outputs": [
    {
     "data": {
      "image/png": "[encoded data removed]",
      "text/plain": [
       "<Figure size 640x480 with 1 Axes>"
      ]
     },
     "metadata": {},
     "output_type": "display_data"
    }
   ],
   "source": [
    "y_pred_prob_XG = final_XG.predict_proba(X_model_test)[:,1]\n",
    "fpr, tpr, thresholds = roc_curve(y_test, y_pred_prob_XG)\n",
    "plt.plot(fpr, tpr)\n",
    "plt.xlim([0.0, 1.0])\n",
    "plt.ylim([0.0, 1.0])\n",
    "plt.title('Curva ROC')\n",
    "plt.xlabel('Ratio de FP (1 - Recall)')\n",
    "plt.ylabel('Ratio TP (Sensitivity)')\n",
    "plt.grid(True)\n",
    "plt.show()"
   ]
  },
  {
   "cell_type": "code",
   "execution_count": 108,
   "metadata": {
    "colab": {
     "base_uri": "https://localhost:8080/"
    },
    "id": "CPuB6oD08YnQ",
    "outputId": "42ec4853-d2e2-45c9-913b-ca91b525cd6b",
    "vscode": {
     "languageId": "plaintext"
    }
   },
   "outputs": [
    {
     "data": {
      "text/plain": [
       "array([       inf, 0.9958619 , 0.99469143, 0.9922691 , 0.99158996,\n",
       "       0.9914199 , 0.99094194, 0.9904828 , 0.9890969 , 0.98705   ,\n",
       "       0.9864281 , 0.9856425 , 0.98561674, 0.9852732 , 0.98374397,\n",
       "       0.9836758 , 0.98308414, 0.9819334 , 0.98162144, 0.9794694 ,\n",
       "       0.97837377, 0.97816396, 0.9763017 , 0.97591215, 0.9739696 ,\n",
       "       0.97353834, 0.97033846, 0.9696446 , 0.969256  , 0.9675163 ,\n",
       "       0.9667163 , 0.9666541 , 0.96657807, 0.96393645, 0.96370006,\n",
       "       0.9630321 , 0.96199757, 0.9607918 , 0.959834  , 0.9590329 ,\n",
       "       0.9575737 , 0.9558921 , 0.955711  , 0.9534116 , 0.95281   ,\n",
       "       0.9522984 , 0.94629616, 0.94458586, 0.944226  , 0.9411261 ,\n",
       "       0.9387982 , 0.9386954 , 0.938015  , 0.93788135, 0.936291  ,\n",
       "       0.9360962 , 0.9289645 , 0.92809653, 0.9268974 , 0.9267004 ,\n",
       "       0.9126656 , 0.9124721 , 0.91086614, 0.9106158 , 0.91010976,\n",
       "       0.9096105 , 0.90796363, 0.9076463 , 0.9075993 , 0.907309  ,\n",
       "       0.9040515 , 0.9019202 , 0.9001582 , 0.9000526 , 0.89815956,\n",
       "       0.89713377, 0.89666724, 0.89657056, 0.89338994, 0.8930331 ,\n",
       "       0.89292556, 0.89195645, 0.88406545, 0.8835882 , 0.8795192 ,\n",
       "       0.8783664 , 0.87615293, 0.87518036, 0.87473893, 0.874738  ,\n",
       "       0.8738633 , 0.8737809 , 0.87299544, 0.8724718 , 0.8723978 ,\n",
       "       0.871199  , 0.86707973, 0.86679876, 0.86609435, 0.8653132 ,\n",
       "       0.86443144, 0.8626998 , 0.86241835, 0.8623431 , 0.86140394,\n",
       "       0.8605551 , 0.86033255, 0.85983723, 0.85834074, 0.8542513 ,\n",
       "       0.8542078 , 0.8534918 , 0.85331804, 0.85258764, 0.850382  ,\n",
       "       0.8500627 , 0.84974664, 0.8495238 , 0.8492942 , 0.8484982 ,\n",
       "       0.84843713, 0.8369643 , 0.8361921 , 0.83611465, 0.83541095,\n",
       "       0.83087766, 0.8274512 , 0.8272418 , 0.82582563, 0.8208627 ,\n",
       "       0.8204516 , 0.81924   , 0.8189608 , 0.81827754, 0.8182097 ,\n",
       "       0.8167733 , 0.816146  , 0.8117279 , 0.81082207, 0.80839956,\n",
       "       0.8071273 , 0.806522  , 0.8048908 , 0.8046097 , 0.8044359 ,\n",
       "       0.803711  , 0.8037039 , 0.80349195, 0.8020763 , 0.80201995,\n",
       "       0.801443  , 0.80127317, 0.80104965, 0.8003117 , 0.80030614,\n",
       "       0.7996291 , 0.7986219 , 0.7984287 , 0.797417  , 0.7964272 ,\n",
       "       0.79636735, 0.7963616 , 0.7950797 , 0.79425615, 0.7921833 ,\n",
       "       0.79216796, 0.7921661 , 0.79152894, 0.7876617 , 0.78600156,\n",
       "       0.78522646, 0.78444105, 0.7842697 , 0.78372407, 0.7836619 ,\n",
       "       0.78193027, 0.78192514, 0.7819075 , 0.7812329 , 0.7808252 ,\n",
       "       0.7797239 , 0.77850515, 0.7783967 , 0.7782496 , 0.77626395,\n",
       "       0.77608126, 0.7760349 , 0.7742461 , 0.7734162 , 0.7729438 ,\n",
       "       0.7722746 , 0.77201307, 0.7714933 , 0.77056956, 0.76997083,\n",
       "       0.76978344, 0.76919913, 0.76747096, 0.763225  , 0.7608152 ,\n",
       "       0.7584892 , 0.75578547, 0.754849  , 0.7546754 , 0.75430274,\n",
       "       0.7540736 , 0.7537746 , 0.74906063, 0.74904895, 0.7455119 ,\n",
       "       0.74428976, 0.7441941 , 0.7433492 , 0.74112624, 0.7409958 ,\n",
       "       0.7378974 , 0.7365196 , 0.7358746 , 0.73533505, 0.7332902 ,\n",
       "       0.7330998 , 0.7327127 , 0.7316346 , 0.73147666, 0.7308968 ,\n",
       "       0.72876924, 0.72650826, 0.72586423, 0.7255117 , 0.72146446,\n",
       "       0.7210716 , 0.7141052 , 0.7135222 , 0.70731795, 0.7017083 ,\n",
       "       0.701555  , 0.70143324, 0.7004362 , 0.7003109 , 0.6989129 ,\n",
       "       0.69296217, 0.69044966, 0.69011116, 0.68982494, 0.6883294 ,\n",
       "       0.6878417 , 0.68627805, 0.6849889 , 0.6846028 , 0.68415254,\n",
       "       0.6828741 , 0.6823802 , 0.6819728 , 0.68132967, 0.67821234,\n",
       "       0.67816603, 0.6769069 , 0.6758996 , 0.67539614, 0.6752614 ,\n",
       "       0.674464  , 0.673618  , 0.672548  , 0.670309  , 0.6682829 ,\n",
       "       0.66795045, 0.66442275, 0.6639754 , 0.6636717 , 0.6627263 ,\n",
       "       0.66193557, 0.6579302 , 0.65743935, 0.6572136 , 0.6544207 ,\n",
       "       0.6523646 , 0.65105397, 0.65101814, 0.6495741 , 0.6485069 ,\n",
       "       0.64711136, 0.64691204, 0.64415264, 0.6425869 , 0.642422  ,\n",
       "       0.63987386, 0.63888806, 0.63837403, 0.6379381 , 0.6374497 ,\n",
       "       0.63226783, 0.6321531 , 0.6321353 , 0.6265291 , 0.6244361 ,\n",
       "       0.6232323 , 0.6216689 , 0.6206181 , 0.61753595, 0.61714333,\n",
       "       0.6152045 , 0.6139372 , 0.6138176 , 0.6137429 , 0.6099337 ,\n",
       "       0.60871196, 0.6064177 , 0.6062972 , 0.60151494, 0.5968376 ,\n",
       "       0.59581006, 0.5942643 , 0.5928959 , 0.5910325 , 0.58592665,\n",
       "       0.5837458 , 0.58254117, 0.5809972 , 0.580925  , 0.58052033,\n",
       "       0.57616955, 0.57520956, 0.5731588 , 0.5721575 , 0.5699021 ,\n",
       "       0.5696    , 0.5691375 , 0.56784654, 0.5643822 , 0.56336874,\n",
       "       0.56217843, 0.5621386 , 0.561671  , 0.5580479 , 0.55747676,\n",
       "       0.5557646 , 0.5555811 , 0.5521819 , 0.5516755 , 0.5510622 ,\n",
       "       0.5483067 , 0.54672265, 0.5457423 , 0.54469985, 0.5438936 ,\n",
       "       0.5432527 , 0.54159737, 0.54108393, 0.5393336 , 0.53709495,\n",
       "       0.5350375 , 0.5347301 , 0.53254706, 0.53078187, 0.5296571 ,\n",
       "       0.5290732 , 0.52906066, 0.52603686, 0.52602506, 0.5214756 ,\n",
       "       0.5212674 , 0.5189836 , 0.51505184, 0.513005  , 0.5126873 ,\n",
       "       0.50799984, 0.5077905 , 0.50128233, 0.49896112, 0.4939267 ,\n",
       "       0.49375436, 0.49374297, 0.48659807, 0.48613468, 0.48229626,\n",
       "       0.48024672, 0.4790874 , 0.47662723, 0.474355  , 0.47209856,\n",
       "       0.46869382, 0.46624494, 0.46505818, 0.46455145, 0.46437195,\n",
       "       0.46323434, 0.45785612, 0.4567438 , 0.4505797 , 0.4493362 ,\n",
       "       0.4469639 , 0.44520596, 0.440189  , 0.4369664 , 0.43654224,\n",
       "       0.43499297, 0.43385872, 0.43258265, 0.4303872 , 0.42855313,\n",
       "       0.42627692, 0.42554903, 0.42390442, 0.4226079 , 0.4211838 ,\n",
       "       0.4207902 , 0.4204968 , 0.4197304 , 0.41964266, 0.41856995,\n",
       "       0.41853675, 0.4175722 , 0.4160107 , 0.4153236 , 0.41518235,\n",
       "       0.41419384, 0.4126008 , 0.41178825, 0.41134283, 0.4112194 ,\n",
       "       0.41121566, 0.40959933, 0.4084965 , 0.40801933, 0.40774333,\n",
       "       0.40699258, 0.40690362, 0.4055844 , 0.40447992, 0.40419358,\n",
       "       0.40362436, 0.40200704, 0.4012239 , 0.3988564 , 0.3968968 ,\n",
       "       0.39683855, 0.39481845, 0.3940005 , 0.39344203, 0.39175487,\n",
       "       0.39132768, 0.39064068, 0.38970062, 0.3891171 , 0.3883375 ,\n",
       "       0.38416815, 0.3838288 , 0.3822486 , 0.38175622, 0.3791581 ,\n",
       "       0.3779793 , 0.3779462 , 0.37645498, 0.37487978, 0.37399876,\n",
       "       0.37282795, 0.36970234, 0.36830616, 0.3622    , 0.3611432 ,\n",
       "       0.36106253, 0.3594223 , 0.35760573, 0.35683   , 0.35626087,\n",
       "       0.35555598, 0.35535595, 0.3544754 , 0.3540172 , 0.35221514,\n",
       "       0.35176414, 0.35172862, 0.3510523 , 0.35026875, 0.3489824 ,\n",
       "       0.34800148, 0.3474706 , 0.34638083, 0.34481832, 0.34447992,\n",
       "       0.34430465, 0.34421292, 0.3429836 , 0.33484858, 0.33348715,\n",
       "       0.33317286, 0.33142194, 0.3313028 , 0.33073768, 0.3283353 ,\n",
       "       0.32670477, 0.32556745, 0.32189605, 0.32172033, 0.32075527,\n",
       "       0.3206818 , 0.31966913, 0.31925732, 0.3180002 , 0.31682643,\n",
       "       0.31601256, 0.31562245, 0.31286976, 0.3110255 , 0.3103674 ,\n",
       "       0.31033498, 0.30895892, 0.3065087 , 0.30630267, 0.3025791 ,\n",
       "       0.30250472, 0.30011636, 0.29764694, 0.2960162 , 0.29393288,\n",
       "       0.29342127, 0.29262847, 0.290553  , 0.2896943 , 0.28940508,\n",
       "       0.28878486, 0.28851846, 0.28280246, 0.2818151 , 0.27715963,\n",
       "       0.27638894, 0.27359414, 0.272366  , 0.27165928, 0.27147034,\n",
       "       0.27112368, 0.27111554, 0.26968965, 0.26708332, 0.26707438,\n",
       "       0.26519978, 0.26469836, 0.26442823, 0.2624113 , 0.26156515,\n",
       "       0.26131538, 0.25893134, 0.25854123, 0.25708547, 0.2562939 ,\n",
       "       0.25534004, 0.25007433, 0.25004867, 0.24958667, 0.2494656 ,\n",
       "       0.24808367, 0.24648441, 0.24444097, 0.24241671, 0.23640196,\n",
       "       0.23240694, 0.23089425, 0.2264836 , 0.22641774, 0.22178178,\n",
       "       0.21986346, 0.21564744, 0.21480396, 0.21429686, 0.2128189 ,\n",
       "       0.21153414, 0.20957251, 0.20907564, 0.20877461, 0.20776227,\n",
       "       0.20717444, 0.20440651, 0.20174025, 0.2013846 , 0.20063151,\n",
       "       0.2002129 , 0.19952942, 0.1968445 , 0.19672115, 0.19470128,\n",
       "       0.18974665, 0.18957865, 0.18936095, 0.18815026, 0.18566509,\n",
       "       0.1855905 , 0.18229531, 0.18031642, 0.17984585, 0.1797771 ,\n",
       "       0.1769409 , 0.17688906, 0.17632174, 0.17606436, 0.17110091,\n",
       "       0.16983682, 0.16972595, 0.1638777 , 0.16385362, 0.15999013,\n",
       "       0.15963489, 0.15935291, 0.15816917, 0.15788013, 0.1572218 ,\n",
       "       0.1562721 , 0.15556766, 0.15499917, 0.1539624 , 0.15152563,\n",
       "       0.14861174, 0.14844392, 0.14821053, 0.145414  , 0.14249168,\n",
       "       0.14004579, 0.13914213, 0.13907215, 0.13701333, 0.13695501,\n",
       "       0.13227317, 0.13069397, 0.12962256, 0.12872165, 0.12845425,\n",
       "       0.1283551 , 0.12822762, 0.12624392, 0.1251582 , 0.12477402,\n",
       "       0.12469596, 0.12464213, 0.12412641, 0.11169338, 0.11030962,\n",
       "       0.09379788, 0.07071257, 0.06796326, 0.06773064, 0.06761757,\n",
       "       0.05847186, 0.04567333, 0.04557202, 0.04474362, 0.04148982,\n",
       "       0.03803602, 0.03738789, 0.03426335, 0.03375891, 0.03326539,\n",
       "       0.02907287, 0.02743462, 0.0250755 , 0.02468648], dtype=float32)"
      ]
     },
     "execution_count": 108,
     "metadata": {},
     "output_type": "execute_result"
    }
   ],
   "source": [
    "thresholds"
   ]
  },
  {
   "cell_type": "code",
   "execution_count": 109,
   "metadata": {
    "colab": {
     "base_uri": "https://localhost:8080/",
     "height": 495
    },
    "id": "m3abuazC8YnR",
    "outputId": "42c5b760-79c5-4b13-9b4a-eb35b0bddc6f",
    "vscode": {
     "languageId": "plaintext"
    }
   },
   "outputs": [
    {
     "data": {
      "text/plain": [
       "array([<Axes: title={'center': '0'}>, <Axes: title={'center': '1'}>],\n",
       "      dtype=object)"
      ]
     },
     "execution_count": 109,
     "metadata": {},
     "output_type": "execute_result"
    },
    {
     "data": {
      "image/png": "[encoded data removed]",
      "text/plain": [
       "<Figure size 640x480 with 2 Axes>"
      ]
     },
     "metadata": {},
     "output_type": "display_data"
    }
   ],
   "source": [
    "dprob = pd.DataFrame(data = {'probability':y_pred_prob_XG, 'actual':y_test})\n",
    "dprob.probability.hist(by=dprob.actual, sharex=True, sharey=True)"
   ]
  },
  {
   "cell_type": "code",
   "execution_count": 110,
   "metadata": {
    "colab": {
     "base_uri": "https://localhost:8080/"
    },
    "id": "ZwR_3aDk8YnR",
    "outputId": "50e8c599-cc71-43e3-dd8d-52e425c7f56a",
    "vscode": {
     "languageId": "plaintext"
    }
   },
   "outputs": [
    {
     "name": "stdout",
     "output_type": "stream",
     "text": [
      "Sensitivity: 0.7430025445292621\n",
      "Recall: 0.7168576104746318\n"
     ]
    }
   ],
   "source": [
    "op_thres_XG = 0.5\n",
    "\n",
    "evaluate_threshold(op_thres_XG)"
   ]
  },
  {
   "cell_type": "code",
   "execution_count": 111,
   "metadata": {
    "id": "2bHf9bwE8YnR"
   },
   "outputs": [],
   "source": [
    "probs_XG_opt = final_XG.predict_proba(X_model_test)[:, 1]\n",
    "pred_thres_XG_opt = (probs_XG_opt >= op_thres_XG).astype(int)"
   ]
  },
  {
   "cell_type": "code",
   "execution_count": 112,
   "metadata": {
    "colab": {
     "base_uri": "https://localhost:8080/"
    },
    "id": "lw0oQt7j8YnR",
    "outputId": "1a7af022-0f64-43a0-f7c0-1c89c2f5c814"
   },
   "outputs": [
    {
     "name": "stdout",
     "output_type": "stream",
     "text": [
      "[[438 173]\n",
      " [303 876]]\n"
     ]
    }
   ],
   "source": [
    "print(confusion_matrix(expected, pred_thres_XG_opt))"
   ]
  },
  {
   "cell_type": "code",
   "execution_count": 113,
   "metadata": {
    "colab": {
     "base_uri": "https://localhost:8080/"
    },
    "id": "CvOrg2rT8YnR",
    "outputId": "309d4591-7459-4ac1-aae3-bcf753a82182"
   },
   "outputs": [
    {
     "name": "stdout",
     "output_type": "stream",
     "text": [
      "              precision    recall  f1-score   support\n",
      "\n",
      "           0       0.59      0.72      0.65       611\n",
      "           1       0.84      0.74      0.79      1179\n",
      "\n",
      "    accuracy                           0.73      1790\n",
      "   macro avg       0.71      0.73      0.72      1790\n",
      "weighted avg       0.75      0.73      0.74      1790\n",
      "\n"
     ]
    }
   ],
   "source": [
    "print(classification_report(expected, pred_thres_XG_opt))"
   ]
  },
  {
   "cell_type": "markdown",
   "metadata": {
    "id": "iaThRcTU8YnS"
   },
   "source": [
    "Se obtienen los mismos resultados porque sigue siendo el mejor caso con umbral igual a 0,5."
   ]
  },
  {
   "cell_type": "markdown",
   "metadata": {
    "id": "l-nZp7LU8YnS"
   },
   "source": [
    "Se calcula la AUC score."
   ]
  },
  {
   "cell_type": "code",
   "execution_count": 116,
   "metadata": {
    "colab": {
     "base_uri": "https://localhost:8080/"
    },
    "id": "i0gASdLQ8YnS",
    "outputId": "c8f6b792-1162-48a0-b20d-eee1062fa076",
    "vscode": {
     "languageId": "plaintext"
    }
   },
   "outputs": [
    {
     "name": "stdout",
     "output_type": "stream",
     "text": [
      "0.7299300775019469\n"
     ]
    }
   ],
   "source": [
    "print(roc_auc_score(expected, predicted_XG_opt))"
   ]
  },
  {
   "cell_type": "markdown",
   "metadata": {
    "id": "yhWZXh8t8YnS"
   },
   "source": [
    "También ha tenido una pequeña mejora, pero sigue en el mismo intervalo. Es decir, sigue siendo un modelo *C*."
   ]
  },
  {
   "cell_type": "markdown",
   "metadata": {
    "id": "D4YWY64W8YnT"
   },
   "source": [
    "# 8. Exportar CSV"
   ]
  },
  {
   "cell_type": "markdown",
   "metadata": {
    "id": "UqErfqdV8YnT"
   },
   "source": [
    "## 8.1 Asignacion de las variables"
   ]
  },
  {
   "cell_type": "markdown",
   "metadata": {
    "id": "IOlAvsy28YnU"
   },
   "source": [
    "Asignamos las variables para el analisis en función del desarrollo del apartado del preprocesado."
   ]
  },
  {
   "cell_type": "code",
   "execution_count": 121,
   "metadata": {
    "id": "lC4fmvm78YnU"
   },
   "outputs": [],
   "source": [
    "X_kaggle = X_res_final\n",
    "y_kaggle = y_res_final\n",
    "\n",
    "X_kaggle_test = X_test_final"
   ]
  },
  {
   "cell_type": "markdown",
   "metadata": {
    "id": "v69UnuCj8YnU"
   },
   "source": [
    "## 8.2 Clasificador XGBoost"
   ]
  },
  {
   "cell_type": "code",
   "execution_count": 123,
   "metadata": {
    "id": "6pr9aKS6J_59"
   },
   "outputs": [],
   "source": [
    "params_final_XG = {\n",
    "    'objective': 'binary:logistic',\n",
    "    'eval_metric': 'auc',\n",
    "    'max_depth': 3,\n",
    "    'eta': 0.1,\n",
    "    'n_estimators': 100,\n",
    "    'subsample': 0.8,\n",
    "    'colsample_bytree': 1,\n",
    "    'random_state': seed\n",
    "}"
   ]
  },
  {
   "cell_type": "code",
   "execution_count": 124,
   "metadata": {
    "id": "-kINespRKDNL"
   },
   "outputs": [],
   "source": [
    "final_XG = XGBClassifier(**params_final_XG)"
   ]
  },
  {
   "cell_type": "code",
   "execution_count": 125,
   "metadata": {
    "id": "7bbn8dc_8YnU"
   },
   "outputs": [],
   "source": [
    "final_XG.fit(X_kaggle, y_kaggle)\n",
    "\n",
    "probs_XG_final = final_XG.predict_proba(X_kaggle_test)[:, 1]\n",
    "pred_thres_XG_final = (probs_XG_final >= 0.5).astype(int)"
   ]
  },
  {
   "cell_type": "markdown",
   "metadata": {
    "id": "RsWs7EU98YnU"
   },
   "source": [
    "Se crea un *dataframe* con las predicciones obtenidas con su correspondiente *id*."
   ]
  },
  {
   "cell_type": "code",
   "execution_count": 127,
   "metadata": {
    "id": "5rTnJX-E8YnV"
   },
   "outputs": [],
   "source": [
    "df_label_XG = pd.DataFrame(pred_thres_XG_final, columns=['label'])"
   ]
  },
  {
   "cell_type": "code",
   "execution_count": 128,
   "metadata": {
    "id": "2t2gVUpM8YnV"
   },
   "outputs": [],
   "source": [
    "df_id = df_test['id'].reset_index(drop=True)"
   ]
  },
  {
   "cell_type": "code",
   "execution_count": 129,
   "metadata": {
    "id": "STV4_S4A8YnV"
   },
   "outputs": [],
   "source": [
    "df_final_XG = pd.concat([df_id, df_label_XG], axis=1)"
   ]
  },
  {
   "cell_type": "markdown",
   "metadata": {
    "id": "-SK6jAsu8YnV"
   },
   "source": [
    "Mostramos los resultados obtenidos para tener una idea de la proporción de 1s y 0s de Kaggle."
   ]
  },
  {
   "cell_type": "code",
   "execution_count": 131,
   "metadata": {
    "colab": {
     "base_uri": "https://localhost:8080/",
     "height": 178
    },
    "id": "XArQx8S58YnV",
    "outputId": "941f3306-9951-4475-fc7f-2b0bba79f7e4"
   },
   "outputs": [
    {
     "data": {
      "text/plain": [
       "label\n",
       "1    2118\n",
       "0    1718\n",
       "Name: count, dtype: int64"
      ]
     },
     "execution_count": 131,
     "metadata": {},
     "output_type": "execute_result"
    }
   ],
   "source": [
    "df_final_XG['label'].value_counts()"
   ]
  },
  {
   "cell_type": "markdown",
   "metadata": {
    "id": "0pe3Kl3R8YnV"
   },
   "source": [
    "Se transforma el *dataframe* a un archivo *CSV*."
   ]
  },
  {
   "cell_type": "code",
   "execution_count": 133,
   "metadata": {
    "id": "ST1iYEgE8YnW"
   },
   "outputs": [],
   "source": [
    "df_final_XG.to_csv('./submit/xgboostselectivo.csv', index=False)"
   ]
  },
  {
   "cell_type": "markdown",
   "metadata": {},
   "source": [
    "# 9. Conclusiones generales"
   ]
  },
  {
   "cell_type": "markdown",
   "metadata": {},
   "source": [
    "Apesar de obtener grandes resultados durante todo el *notebook* los resultados en *Kaggle* no fueron buenos, incluso peores que los modelos aplicado TF-IDF. Creemos que esto se debe a que el conjunto de datos de entrenamiento no es tan similar al conjunto de test de *Kaggle*. Esto provocó que aunque obtuviesemos buenos indicadores para reducir las dimensiones manualmente (como se puede ver la mejora en los resultados del apartado 7), estos no lo fueras para el conjunto de test. Es decir, los buenos resultados no se debían a un bueno modelado sino a un *overfitting* de los datos."
   ]
  },
  {
   "cell_type": "markdown",
   "metadata": {
    "id": "YNW2e7JM8YnW"
   },
   "source": [
    "# 10. Referencias"
   ]
  },
  {
   "cell_type": "markdown",
   "metadata": {
    "id": "RpYa0grn8YnW"
   },
   "source": [
    "* [GridSearchCV. (s. f.). Scikit-learn.](https://scikit-learn.org/stable/modules/generated/sklearn.model_selection.GridSearchCV.html)\n",
    "* [RandomUnderSampler — Version 0.13.0. (s. f.). Imbalance learn.](https://imbalanced-learn.org/stable/references/generated/imblearn.under_sampling.RandomUnderSampler.html)\n",
    "* [SMOTE — Version 0.13.0. (s. f.). Imbalanced learn.](https://imbalanced-learn.org/stable/references/generated/imblearn.over_sampling.SMOTE.html)\n",
    "* [train_test_split. (s. f.). Scikit-learn.](https://scikit-learn.org/stable/modules/generated/sklearn.model_selection.train_test_split.html)\n",
    "* [XGBoost Parameters — xgboost 3.0.0 documentation. (s. f.).](https://xgboost.readthedocs.io/en/release_3.0.0/parameter.html)"
   ]
  }
 ],
 "metadata": {
  "accelerator": "GPU",
  "colab": {
   "gpuType": "T4",
   "provenance": []
  },
  "kernelspec": {
   "display_name": "Python 3 (ipykernel)",
   "language": "python",
   "name": "python3"
  },
  "language_info": {
   "codemirror_mode": {
    "name": "ipython",
    "version": 3
   },
   "file_extension": ".py",
   "mimetype": "text/x-python",
   "name": "python",
   "nbconvert_exporter": "python",
   "pygments_lexer": "ipython3",
   "version": "3.12.7"
  }
 },
 "nbformat": 4,
 "nbformat_minor": 4
}
