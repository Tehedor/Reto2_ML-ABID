{
 "cells": [
  {
   "cell_type": "markdown",
   "metadata": {},
   "source": [
    "<header style=\"width:100%;position:relative\">\n",
    "  <div style=\"width:80%;float:right;\">\n",
    "    <h1>False Political Claim Detection</h1>\n",
    "    <h3>Entrenamiento y evaluación de los modelos</h3>\n",
    "    <h5>Grupo 2</h5>\n",
    "  </div>\n",
    "        <img style=\"width:15%;\" src=\"./images/logo.jpg\" alt=\"UPM\" />\n",
    "</header>"
   ]
  },
  {
   "cell_type": "markdown",
   "metadata": {},
   "source": [
    "# Índice"
   ]
  },
  {
   "cell_type": "markdown",
   "metadata": {},
   "source": [
    "1. [Importar librerias](#1.-Importar-librerias)\n",
    "2. [Variables globales y funciones auxiliares](#2.-Variables-globales-y-funciones-auxiliares)\n",
    "3. [Carga del dataframe](#3.-Carga-del-dataframe)\n",
    "4. [Selección de las características](#4.-Seleccion-de-las-caracteristicas)\n",
    "5. [Carga de los datos y división en entrenamiento y test](#5.-Carga-de-los-datos-y-division-en-entrenamiento-y-test)\n",
    "6. [Preprocesado](#6.-Preprocesado)\n",
    "    * 6.1 [Tratamiento de los textos](#6.1-Tratamiento-de-los-textos)\n",
    "    * 6.2 [Remuestreo](#6.2-Remuestreo)\n",
    "7. [Modelos seleccionados](#7.-Modelos-seleccionados)\n",
    "    * 7.1 [Introducción](#7.1-Introduccion)\n",
    "    * 7.2 [Asignacion de las variables](#7.2-Asignacion-de-las-variables)\n",
    "    * 7.3 [Clasificador Random Forest](#7.3-Clasificador-Random-Forest)\n",
    "    * 7.4 [Clasificador XGBoost](#7.4-Clasificador-XGBoost)\n",
    "8. [Exportar CSV](#8.-Exportar-CSV)\n",
    "    * 8.1 [Asignacion de las variables](#8.1-Asignacion-de-las-variables)\n",
    "    * 8.2 [Clasificador Random Forest](#8.2-Clasificador-Random-Forest)\n",
    "    * 8.3 [Clasificador XGBoost](#8.3-Clasificador-XGBoost)\n",
    "9. [Referencias](#9.-Referencias)"
   ]
  },
  {
   "cell_type": "markdown",
   "metadata": {},
   "source": [
    "# 1. Importar librerias"
   ]
  },
  {
   "cell_type": "code",
   "execution_count": 960,
   "metadata": {},
   "outputs": [
    {
     "name": "stdout",
     "output_type": "stream",
     "text": [
      "Todas las librerias fueron correctamente importadas.\n"
     ]
    }
   ],
   "source": [
    "# General import and load data\n",
    "import pandas as pd\n",
    "import numpy as np\n",
    "\n",
    "# Resampling\n",
    "from imblearn.under_sampling import RandomUnderSampler\n",
    "from imblearn.over_sampling import SMOTE\n",
    "\n",
    "# Preprocessing\n",
    "from sklearn.compose import ColumnTransformer\n",
    "from sklearn.preprocessing import StandardScaler\n",
    "from sklearn.feature_extraction.text import TfidfVectorizer\n",
    "from sklearn.decomposition import TruncatedSVD\n",
    "from sklearn.decomposition import PCA\n",
    "\n",
    "# Splitting\n",
    "from sklearn.model_selection import train_test_split\n",
    "\n",
    "# Estimators\n",
    "from sklearn.ensemble import RandomForestClassifier\n",
    "from xgboost import XGBClassifier\n",
    "\n",
    "# Evaluation\n",
    "from sklearn.metrics import accuracy_score, confusion_matrix, classification_report\n",
    "from sklearn.metrics import make_scorer, f1_score, recall_score, roc_curve, roc_auc_score\n",
    "\n",
    "# Optimization\n",
    "from sklearn.model_selection import GridSearchCV, PredefinedSplit\n",
    "\n",
    "# Visualization\n",
    "import matplotlib.pyplot as plt\n",
    "\n",
    "# Time optimization\n",
    "import time\n",
    "# word2vec\n",
    "from gensim.models import Word2Vec\n",
    "import gensim\n",
    "import numpy as np\n",
    "from nltk.tokenize import word_tokenize\n",
    "import nltk\n",
    "from nltk.tokenize import word_tokenize\n",
    "\n",
    "\n",
    "\n",
    "print(\"Todas las librerias fueron correctamente importadas.\")"
   ]
  },
  {
   "cell_type": "markdown",
   "metadata": {},
   "source": [
    "# 2. Variables globales y funciones auxiliares"
   ]
  },
  {
   "cell_type": "markdown",
   "metadata": {},
   "source": [
    "Se fija un seed para todo el documento para fijar la aleatoriedad y así obtener resultados replicables."
   ]
  },
  {
   "cell_type": "code",
   "execution_count": 961,
   "metadata": {},
   "outputs": [],
   "source": [
    "seed = 42"
   ]
  },
  {
   "cell_type": "markdown",
   "metadata": {},
   "source": [
    "Función utilizado para evaluar los distintos umbrales en la curva de ROC."
   ]
  },
  {
   "cell_type": "code",
   "execution_count": 962,
   "metadata": {},
   "outputs": [],
   "source": [
    "def evaluate_threshold(threshold):\n",
    "    print('Sensitivity:', tpr[thresholds > threshold][-1])\n",
    "    print('Recall:', 1 - fpr[thresholds > threshold][-1])"
   ]
  },
  {
   "cell_type": "markdown",
   "metadata": {},
   "source": [
    "# 3. Carga del dataframe"
   ]
  },
  {
   "cell_type": "markdown",
   "metadata": {},
   "source": [
    "Se cargan los datos de la ruta *formated/train_exportado.csv*, los cuales son los datos ya procesados por uno de nuestros compañeros."
   ]
  },
  {
   "cell_type": "code",
   "execution_count": 963,
   "metadata": {},
   "outputs": [
    {
     "name": "stdout",
     "output_type": "stream",
     "text": [
      "Datos cargados correctamente\n",
      "\n"
     ]
    }
   ],
   "source": [
    "url = \"formated/train_exportado.csv\"\n",
    "df = pd.read_csv(url)\n",
    "\n",
    "print(\"Datos cargados correctamente\\n\")"
   ]
  },
  {
   "cell_type": "markdown",
   "metadata": {},
   "source": [
    "También cargamos el test que debemos predecir para Kaggle de la ruta *formated/test_exportado.csv*."
   ]
  },
  {
   "cell_type": "code",
   "execution_count": 964,
   "metadata": {},
   "outputs": [
    {
     "name": "stdout",
     "output_type": "stream",
     "text": [
      "Test cargado correctamente\n",
      "\n"
     ]
    }
   ],
   "source": [
    "url = \"formated/test_exportado.csv\"\n",
    "df_test = pd.read_csv(url)\n",
    "\n",
    "print(\"Test cargado correctamente\\n\")"
   ]
  },
  {
   "cell_type": "markdown",
   "metadata": {},
   "source": [
    "# 4. Seleccion de las caracteristicas"
   ]
  },
  {
   "cell_type": "markdown",
   "metadata": {},
   "source": [
    "En el siguiente array se muestran todas las caracteristicas por si se decide realizar pruebas con otras *features*."
   ]
  },
  {
   "cell_type": "code",
   "execution_count": 965,
   "metadata": {},
   "outputs": [],
   "source": [
    "all_features = [\n",
    "    # Identificador\n",
    "    'id',\n",
    "\n",
    "    # Etiqueta objetivo\n",
    "    'label',\n",
    "\n",
    "    # Texto original y procesado\n",
    "    'statement', 'statement-raw', 'statement-lemmatize', \n",
    "\n",
    "    # Features derivados del texto\n",
    "    'statement-ner', 'feelings',\n",
    "\n",
    "    # One-hot encoded de los temas reagrupados del texto \n",
    "    'subject-ciencia_y_tecnologia', 'subject-economia_y_finanzas',\n",
    "    'subject-educacion', 'subject-medio_ambiente_y_energia', 'subject-otros',\n",
    "    'subject-politica_y_gobierno', 'subject-relaciones_internacionales',\n",
    "    'subject-salud_y_bienestar', 'subject-seguridad_y_justicia',\n",
    "    'subject-sociedad_y_cultura', 'subject-trabajo_y_empleo',\n",
    "\n",
    "    # Resto de las categoricas agrupadas\n",
    "    'speaker_grouped', 'speaker_job_grouped', 'state_info_grouped', 'party_group',\n",
    "\n",
    "    # Resto de las categoricas agrupadas y codificadas\n",
    "    'speaker_grouped_cod', 'speaker_job_grouped_cod',\n",
    "    'state_info_grouped_cod', 'party_group_cod',\n",
    "\n",
    "    # Variables generadas por LLM los null\n",
    "    'speaker_job-llm', 'speaker_job_cod-llm',\n",
    "    'state_info-llm', 'state_info_cod-llm',\n",
    "    'party_affiliation-llm', 'party_affiliation_cod-llm'\n",
    "]"
   ]
  },
  {
   "cell_type": "markdown",
   "metadata": {},
   "source": [
    "Se seleccionan todas las categorias menos: \n",
    "* ***id***: no aporta ningún valor.\n",
    "* ***label***: variable a predecir.\n",
    "* ***statement***: esta *feature* esta por si nos es necesario en algun momento futuro tener el texto sin procesar.\n",
    "* ***statement-lemmatize***: esta *feature* solo esta para probar en notebooks posteriores si clasifica mejor o peor con las raices de las palabras.\n",
    "* ***statement-ner***: esta *feature* esta para ver si el clasificador funciona mejor con el NER por separado.\n",
    "* ***speaker_grouped***, ***speaker_job_grouped***, ***state_info_grouped***, ***party_group***: suponemos que tenemos la misma información ya codificada.\n",
    "* ***speaker_job-llm***, ***speaker_job_cod-llm***, ***state_info-llm***, ***state_info_cod-llm***, ***party_affiliation-llm***, ***party_affiliation_cod-llm***: esta información ya esta en otras *features*, la diferencia esta en como se tratan los nulos asi que se analizará cual funciona mejor si con LLM o sin ellos durante el apartado de clasificación."
   ]
  },
  {
   "cell_type": "code",
   "execution_count": 966,
   "metadata": {},
   "outputs": [],
   "source": [
    "selected_features = [\n",
    "    # Texto\n",
    "    'statement-raw',\n",
    "        \n",
    "    # Features derivados del texto\n",
    "    'feelings',\n",
    "\n",
    "    # One-hot encoded de los temas reagrupados del texto \n",
    "    'subject-ciencia_y_tecnologia', 'subject-economia_y_finanzas',\n",
    "    'subject-educacion', 'subject-medio_ambiente_y_energia', 'subject-otros',\n",
    "    'subject-politica_y_gobierno', 'subject-relaciones_internacionales',\n",
    "    'subject-salud_y_bienestar', 'subject-seguridad_y_justicia',\n",
    "    'subject-sociedad_y_cultura', 'subject-trabajo_y_empleo',\n",
    "\n",
    "    # Resto de las categoricas agrupadas y codificadas\n",
    "    'speaker_grouped_cod', 'speaker_job_grouped_cod',\n",
    "    'state_info_grouped_cod', 'party_group_cod'\n",
    "]"
   ]
  },
  {
   "cell_type": "markdown",
   "metadata": {},
   "source": [
    "En caso de querer probar si funcionan mejor las de los LLM, se sustituirán por su simil. También si se quiere probar el texto lematizado se sustituira por el *raw*."
   ]
  },
  {
   "cell_type": "markdown",
   "metadata": {},
   "source": [
    "De las cuales texto es:"
   ]
  },
  {
   "cell_type": "code",
   "execution_count": 967,
   "metadata": {},
   "outputs": [],
   "source": [
    "text = 'statement-raw'"
   ]
  },
  {
   "cell_type": "markdown",
   "metadata": {},
   "source": [
    "Y las que no se corresponden con texto son:"
   ]
  },
  {
   "cell_type": "code",
   "execution_count": 968,
   "metadata": {},
   "outputs": [],
   "source": [
    "no_text = [\n",
    "    # Features derivados del texto\n",
    "    'feelings',\n",
    "\n",
    "    # One-hot encoded de los temas reagrupados del texto \n",
    "    'subject-ciencia_y_tecnologia', 'subject-economia_y_finanzas',\n",
    "    'subject-educacion', 'subject-medio_ambiente_y_energia', 'subject-otros',\n",
    "    'subject-politica_y_gobierno', 'subject-relaciones_internacionales',\n",
    "    'subject-salud_y_bienestar', 'subject-seguridad_y_justicia',\n",
    "    'subject-sociedad_y_cultura', 'subject-trabajo_y_empleo',\n",
    "\n",
    "    # Resto de las categoricas agrupadas y codificadas\n",
    "     'speaker_grouped_cod', 'speaker_job_grouped_cod',\n",
    "     'state_info_grouped_cod', 'party_group_cod'\n",
    "]"
   ]
  },
  {
   "cell_type": "markdown",
   "metadata": {},
   "source": [
    "Y de las cuales, numéricas son las siguientes:"
   ]
  },
  {
   "cell_type": "code",
   "execution_count": 969,
   "metadata": {},
   "outputs": [],
   "source": [
    "numeric_vars = [\n",
    "    'speaker_grouped_cod', 'speaker_job_grouped_cod',\n",
    "    'state_info_grouped_cod', 'party_group_cod'\n",
    "]"
   ]
  },
  {
   "cell_type": "markdown",
   "metadata": {},
   "source": [
    "# 5. Carga de los datos y division en entrenamiento y test"
   ]
  },
  {
   "cell_type": "markdown",
   "metadata": {},
   "source": [
    "Cargamos las caracteristicas seleccionadas en la variable X y el objetivo *Accept* en la variable y."
   ]
  },
  {
   "cell_type": "code",
   "execution_count": 970,
   "metadata": {},
   "outputs": [],
   "source": [
    "X = df[selected_features] \n",
    "y = df['label'].values"
   ]
  },
  {
   "cell_type": "markdown",
   "metadata": {},
   "source": [
    "Se separa ya en entrenamiento y test para no falsear los datos del test al realizar el balanceo."
   ]
  },
  {
   "cell_type": "code",
   "execution_count": 971,
   "metadata": {},
   "outputs": [],
   "source": [
    "X_train, X_test, y_train, y_test = train_test_split(X, y, test_size=0.2, random_state=seed)"
   ]
  },
  {
   "cell_type": "markdown",
   "metadata": {},
   "source": [
    "A la hora de subir el modelo a Kaggle, ya se nos da dividido el entrenamiento y el test. Por ello, se utilizarán todos los datos tratados como entrenamiento (aunque también se le aplicará el mejor caso de preprocesado para cada modelo)."
   ]
  },
  {
   "cell_type": "code",
   "execution_count": 972,
   "metadata": {},
   "outputs": [],
   "source": [
    "X_train_final = X\n",
    "y_train_final = y\n",
    "\n",
    "X_test_final = df_test[selected_features] "
   ]
  },
  {
   "cell_type": "markdown",
   "metadata": {},
   "source": [
    "# 6. Preprocesado"
   ]
  },
  {
   "cell_type": "markdown",
   "metadata": {},
   "source": [
    "Como se menciona en el notebook dedicado al preprocesamiento, primero se tratará el texto, después se reducirá su dimensionalidad con un *PCA*, se estandarizarán las variables codificadas mediante un *StandardScaler* y, finalmente, se realizará un remuestreo mediante *SMOTE* y *RandomUnderSampler*. \n",
    "\n",
    "En caso de querer probar el caso de preprocesamiento 6, será necesario eliminar el *StandardScaler* junto al *ColumnTransformer*."
   ]
  },
  {
   "cell_type": "markdown",
   "metadata": {},
   "source": [
    "## 6.1 Tratamiento de los textos"
   ]
  },
  {
   "cell_type": "markdown",
   "metadata": {},
   "source": [
    "### 6.1.1 Vectorización"
   ]
  },
  {
   "cell_type": "markdown",
   "metadata": {},
   "source": [
    "Primero tokenizamos el texto para Word2Vec"
   ]
  },
  {
   "cell_type": "code",
   "execution_count": 973,
   "metadata": {},
   "outputs": [],
   "source": [
    "# Tokeniza el texto \n",
    "X_train_tokens = X_train[text].apply(lambda x: x.split())\n",
    "X_test_tokens = X_test[text].apply(lambda x: x.split())"
   ]
  },
  {
   "cell_type": "markdown",
   "metadata": {},
   "source": [
    "A continuación se entrena un modelo Word2Vec utilizando los textos tokenizados del conjunto de entrenamiento. Posteriormente, se obtiene un vector representativo para cada texto calculando la media de los vectores de las palabras que aparecen en el vocabulario del modelo. Finalmente, se aplica este proceso tanto al conjunto de entrenamiento como al de test.\n"
   ]
  },
  {
   "cell_type": "code",
   "execution_count": null,
   "metadata": {},
   "outputs": [],
   "source": [
    "w2v_model = Word2Vec(sentences=X_train_tokens, vector_size=30, window=5, min_count=2, workers=4, seed=42)\n",
    "\n",
    "\n",
    "# Palabras conocidas\n",
    "vocab = set(w2v_model.wv.index_to_key)\n",
    "\n",
    "def sentence_vector(tokens, model, size=30):\n",
    "    vectors = [model.wv[w] for w in tokens if w in vocab]\n",
    "    if len(vectors) == 0:\n",
    "        return np.zeros(size)\n",
    "    else:\n",
    "        return np.mean(vectors, axis=0)\n",
    "\n",
    "# Aplica a train y test\n",
    "X_txt_train = np.vstack(X_train_tokens.apply(lambda x: sentence_vector(x, w2v_model)))\n",
    "X_txt_test = np.vstack(X_test_tokens.apply(lambda x: sentence_vector(x, w2v_model)))"
   ]
  },
  {
   "cell_type": "markdown",
   "metadata": {},
   "source": [
    "Después para el dataset que se utilizará para subir a Kaggle."
   ]
  },
  {
   "cell_type": "code",
   "execution_count": 975,
   "metadata": {},
   "outputs": [],
   "source": [
    "# Tokeniza el texto \n",
    "X_train_tokens_final = X_train_final[text].apply(lambda x: x.split())\n",
    "X_test_tokens_final = X_test_final[text].apply(lambda x: x.split())"
   ]
  },
  {
   "cell_type": "code",
   "execution_count": null,
   "metadata": {},
   "outputs": [],
   "source": [
    "w2v_model_final = Word2Vec(sentences=X_train_tokens_final, vector_size=30, window=5, min_count=2, workers=4, seed=42)\n",
    "\n",
    "\n",
    "# Palabras conocidas\n",
    "vocab_final = set(w2v_model_final.wv.index_to_key)\n",
    "\n",
    "def sentence_vector(tokens, model, size=30):\n",
    "    vectors = [model.wv[w] for w in tokens if w in vocab_final]\n",
    "    if len(vectors) == 0:\n",
    "        return np.zeros(size)\n",
    "    else:\n",
    "        return np.mean(vectors, axis=0)\n",
    "\n",
    "# Aplica a train y test\n",
    "X_txt_tr_final = np.vstack(X_train_tokens_final.apply(lambda x: sentence_vector(x, w2v_model_final)))\n",
    "X_txt_te_final = np.vstack(X_test_tokens_final.apply(lambda x: sentence_vector(x, w2v_model_final)))"
   ]
  },
  {
   "cell_type": "markdown",
   "metadata": {},
   "source": [
    "Después de analizar la varianza explicada mediante PCA (6.1.3), se observó que un número reducido de componentes era suficiente para conservar el 95% de la varianza. Por tanto, se consideró razonable reducir también la dimensionalidad inicial de los vectores Word2Vec a 30, con el objetivo de eliminar redundancias y reducir la complejidad del modelo, minimizando así el riesgo de sobreajuste sin una pérdida significativa de información."
   ]
  },
  {
   "cell_type": "markdown",
   "metadata": {},
   "source": [
    "## 6.1.2 Unificación de características"
   ]
  },
  {
   "cell_type": "code",
   "execution_count": 977,
   "metadata": {},
   "outputs": [],
   "source": [
    "# Train\n",
    "X_svd_train = pd.DataFrame(X_txt_train, columns=[f\"svd_{i}\" for i in range(X_txt_train.shape[1])])\n",
    "X_rest_train = X_train[no_text].reset_index(drop=True)\n",
    "\n",
    "# Test\n",
    "X_svd_test = pd.DataFrame(X_txt_test, columns=[f\"svd_{i}\" for i in range(X_txt_test.shape[1])])\n",
    "X_rest_test = X_test[no_text].reset_index(drop=True)\n",
    "\n",
    "# Text + Resto de features\n",
    "X_total_train = pd.concat([X_svd_train, X_rest_train], axis=1)\n",
    "X_total_test = pd.concat([X_svd_test, X_rest_test], axis=1)"
   ]
  },
  {
   "cell_type": "markdown",
   "metadata": {},
   "source": [
    "Ahora kaggle"
   ]
  },
  {
   "cell_type": "code",
   "execution_count": 978,
   "metadata": {},
   "outputs": [],
   "source": [
    "# Train\n",
    "X_svd_tr_final = pd.DataFrame(X_txt_tr_final, columns=[f\"svd_{i}\" for i in range(X_txt_tr_final.shape[1])])\n",
    "X_rest_tr_final = X_train_final[no_text].reset_index(drop=True)\n",
    "\n",
    "# Test\n",
    "X_svd_te_final = pd.DataFrame(X_txt_te_final, columns=[f\"svd_{i}\" for i in range(X_txt_te_final.shape[1])])\n",
    "X_rest_te_final = X_test_final[no_text].reset_index(drop=True)\n",
    "\n",
    "# Text + Resto de features\n",
    "X_tot_tr_final = pd.concat([X_svd_tr_final, X_rest_tr_final], axis=1)\n",
    "X_tot_te_final = pd.concat([X_svd_te_final, X_rest_te_final], axis=1)"
   ]
  },
  {
   "cell_type": "markdown",
   "metadata": {},
   "source": [
    "## 6.1.3 Reducción dimensionalidad"
   ]
  },
  {
   "cell_type": "markdown",
   "metadata": {},
   "source": [
    "Primero se estandarizan las características combinadas (texto + resto de variables) utilizando `StandardScaler`, ya que PCA es sensible a la escala de las variables.  \n",
    "A continuación, se aplica PCA sin limitar el número de componentes para calcular la varianza explicada acumulada y determinar cuántos componentes son necesarios para conservar al menos el 95% de la información del conjunto de entrenamiento.\n"
   ]
  },
  {
   "cell_type": "raw",
   "metadata": {
    "vscode": {
     "languageId": "raw"
    }
   },
   "source": [
    "scaler = StandardScaler()\n",
    "X_total_train_scaled = scaler.fit_transform(X_total_train)\n",
    "X_total_test_scaled = scaler.transform(X_total_test)\n",
    "\n",
    "# PCA sin límite para evaluar varianza explicada\n",
    "pca_temp = PCA(random_state=seed)\n",
    "pca_temp.fit(X_total_train_scaled)\n",
    "explained = np.cumsum(pca_temp.explained_variance_ratio_)\n",
    "\n",
    "#  Mostrar varianza explicada acumulada (primeros 30 componentes)\n",
    "print(\"Varianza explicada acumulada (primeros 30 componentes):\")\n",
    "for i in range(min(30, len(explained))):\n",
    "    print(f\"Componente {i+1:2d}: {explained[i]:.4f}\")\n"
   ]
  },
  {
   "cell_type": "markdown",
   "metadata": {},
   "source": [
    "En esta sección se selecciona el número mínimo de componentes necesarios para conservar al menos el 95% de la varianza.  \n",
    "Se ajusta y transforma el conjunto de datos con estos componentes, y finalmente se convierten los resultados a `DataFrame`, renombrando las columnas con el prefijo `pca_`.\n"
   ]
  },
  {
   "cell_type": "raw",
   "metadata": {
    "vscode": {
     "languageId": "raw"
    }
   },
   "source": [
    "# Elegir número mínimo de componentes para explicar 95%\n",
    "threshold = 0.95\n",
    "n_components = np.argmax(explained >= threshold) + 1\n",
    "print(f\"\\nPara explicar al menos el {int(threshold*100)}% de la varianza, se necesitan {n_components} componentes.\")\n",
    "\n",
    "# Aplicar PCA final \n",
    "pca = PCA(n_components=n_components, random_state=seed)\n",
    "X_total_train_pca = pca.fit_transform(X_total_train_scaled)\n",
    "X_total_test_pca = pca.transform(X_total_test_scaled)\n",
    "\n",
    "# Convertir resultado PCA a DataFrame y reasignar los nombres originales\n",
    "X_total_train = pd.DataFrame(X_total_train_pca, columns=[f'pca_{i}' for i in range(X_total_train_pca.shape[1])])\n",
    "X_total_test = pd.DataFrame(X_total_test_pca, columns=[f'pca_{i}' for i in range(X_total_test_pca.shape[1])])\n"
   ]
  },
  {
   "cell_type": "markdown",
   "metadata": {},
   "source": [
    "Ahora kaggle"
   ]
  },
  {
   "cell_type": "raw",
   "metadata": {
    "vscode": {
     "languageId": "raw"
    }
   },
   "source": [
    "scaler_final = StandardScaler()\n",
    "X_tot_tr_final_scaled = scaler_final.fit_transform(X_tot_tr_final)\n",
    "X_tot_te_final_scaled = scaler_final.transform(X_tot_te_final)\n",
    "\n",
    "#  PCA sin límite para evaluar varianza explicada\n",
    "pca_temp_final = PCA(random_state=seed)\n",
    "pca_temp_final.fit(X_tot_tr_final_scaled)\n",
    "explained_final = np.cumsum(pca_temp_final.explained_variance_ratio_)\n",
    "\n",
    "# Mostrar varianza explicada acumulada (primeros 30 componentes)\n",
    "print(\"Varianza explicada acumulada (primeros 30 componentes) - dataset final:\")\n",
    "for i in range(min(30, len(explained_final))):\n",
    "    print(f\"Componente {i+1:2d}: {explained_final[i]:.4f}\")\n",
    "\n"
   ]
  },
  {
   "cell_type": "raw",
   "metadata": {
    "vscode": {
     "languageId": "raw"
    }
   },
   "source": [
    "# Elegir número mínimo de componentes para explicar 95% \n",
    "threshold = 0.95\n",
    "n_components_final = np.argmax(explained_final >= threshold) + 1\n",
    "print(f\"\\nPara explicar al menos el {int(threshold*100)}% de la varianza, se necesitan {n_components_final} componentes en dataset final.\")\n",
    "\n",
    "# Aplicar PCA final con número óptimo de componentes\n",
    "pca_final = PCA(n_components=n_components_final, random_state=seed)\n",
    "X_tot_tr_final_pca = pca_final.fit_transform(X_tot_tr_final_scaled)\n",
    "X_tot_te_final_pca = pca_final.transform(X_tot_te_final_scaled)\n",
    "\n",
    "# Convertir resultado PCA a DataFrame y reasignar los nombres originales\n",
    "X_tot_tr_final = pd.DataFrame(X_tot_tr_final_pca, columns=[f'pca_{i}' for i in range(X_tot_tr_final_pca.shape[1])])\n",
    "X_tot_te_final = pd.DataFrame(X_tot_te_final_pca, columns=[f'pca_{i}' for i in range(X_tot_te_final_pca.shape[1])])"
   ]
  },
  {
   "cell_type": "markdown",
   "metadata": {},
   "source": [
    " Observaciones finales\n",
    "\n",
    "Tras realizar las pruebas utilizando PCA para la reducción de dimensionalidad, se ha comprobado que los resultados obtenidos en las métricas de evaluación han sido **peores que aquellos obtenidos sin aplicar dicha reducción**.\n",
    "\n",
    "Esto sugiere que, en este caso concreto, la pérdida de información causada por la reducción de componentes no compensa la posible mejora en eficiencia o generalización.  \n",
    "Por tanto, **se recomienda no aplicar PCA** en este pipeline para conservar el máximo rendimiento del modelo.\n"
   ]
  },
  {
   "cell_type": "markdown",
   "metadata": {},
   "source": []
  },
  {
   "cell_type": "markdown",
   "metadata": {},
   "source": [
    "## 6.2 Remuestreo"
   ]
  },
  {
   "cell_type": "markdown",
   "metadata": {},
   "source": [
    "### 6.2.1 Estandarizacion"
   ]
  },
  {
   "cell_type": "markdown",
   "metadata": {},
   "source": [
    "Primero se estandarizan el conjunto para el análisis."
   ]
  },
  {
   "cell_type": "code",
   "execution_count": 979,
   "metadata": {},
   "outputs": [],
   "source": [
    "prep = ColumnTransformer([\n",
    "    ('numericas', StandardScaler(), numeric_vars)\n",
    "], remainder='passthrough').fit(X_total_train) \n",
    "\n",
    "X_scaled_train = prep.transform(X_total_train)\n",
    "X_scaled_test = prep.transform(X_total_test)"
   ]
  },
  {
   "cell_type": "markdown",
   "metadata": {},
   "source": [
    "Después el de Kaggle."
   ]
  },
  {
   "cell_type": "code",
   "execution_count": 980,
   "metadata": {},
   "outputs": [],
   "source": [
    "prep_final = ColumnTransformer([\n",
    "    ('numericas', StandardScaler(), numeric_vars)\n",
    "], remainder='passthrough').fit(X_tot_tr_final) \n",
    "\n",
    "X_scaled_tr_final = prep_final.transform(X_tot_tr_final)\n",
    "X_scaled_te_final = prep_final.transform(X_tot_te_final)"
   ]
  },
  {
   "cell_type": "markdown",
   "metadata": {},
   "source": [
    "### 6.2.2 Undersampling"
   ]
  },
  {
   "cell_type": "markdown",
   "metadata": {},
   "source": [
    "Primero se realiza un undersampling al conjunto para el análisis."
   ]
  },
  {
   "cell_type": "code",
   "execution_count": 981,
   "metadata": {},
   "outputs": [
    {
     "name": "stderr",
     "output_type": "stream",
     "text": [
      "c:\\Users\\david\\anaconda3\\Lib\\site-packages\\sklearn\\utils\\deprecation.py:151: FutureWarning: 'force_all_finite' was renamed to 'ensure_all_finite' in 1.6 and will be removed in 1.8.\n",
      "  warnings.warn(\n",
      "c:\\Users\\david\\anaconda3\\Lib\\site-packages\\sklearn\\base.py:484: FutureWarning: `BaseEstimator._check_n_features` is deprecated in 1.6 and will be removed in 1.7. Use `sklearn.utils.validation._check_n_features` instead.\n",
      "  warnings.warn(\n",
      "c:\\Users\\david\\anaconda3\\Lib\\site-packages\\sklearn\\base.py:493: FutureWarning: `BaseEstimator._check_feature_names` is deprecated in 1.6 and will be removed in 1.7. Use `sklearn.utils.validation._check_feature_names` instead.\n",
      "  warnings.warn(\n"
     ]
    }
   ],
   "source": [
    "under = RandomUnderSampler(sampling_strategy=0.7, random_state=seed)\n",
    "X_under, y_under = under.fit_resample(X_scaled_train, y_train)"
   ]
  },
  {
   "cell_type": "markdown",
   "metadata": {},
   "source": [
    "Después el de Kaggle."
   ]
  },
  {
   "cell_type": "code",
   "execution_count": 982,
   "metadata": {},
   "outputs": [
    {
     "name": "stderr",
     "output_type": "stream",
     "text": [
      "c:\\Users\\david\\anaconda3\\Lib\\site-packages\\sklearn\\utils\\deprecation.py:151: FutureWarning: 'force_all_finite' was renamed to 'ensure_all_finite' in 1.6 and will be removed in 1.8.\n",
      "  warnings.warn(\n",
      "c:\\Users\\david\\anaconda3\\Lib\\site-packages\\sklearn\\base.py:484: FutureWarning: `BaseEstimator._check_n_features` is deprecated in 1.6 and will be removed in 1.7. Use `sklearn.utils.validation._check_n_features` instead.\n",
      "  warnings.warn(\n",
      "c:\\Users\\david\\anaconda3\\Lib\\site-packages\\sklearn\\base.py:493: FutureWarning: `BaseEstimator._check_feature_names` is deprecated in 1.6 and will be removed in 1.7. Use `sklearn.utils.validation._check_feature_names` instead.\n",
      "  warnings.warn(\n"
     ]
    }
   ],
   "source": [
    "under_final = RandomUnderSampler(sampling_strategy=0.7, random_state=seed)\n",
    "X_under_final, y_under_final = under_final.fit_resample(X_scaled_tr_final, y_train_final)"
   ]
  },
  {
   "cell_type": "markdown",
   "metadata": {},
   "source": [
    "### 6.2.3 Oversampling"
   ]
  },
  {
   "cell_type": "markdown",
   "metadata": {},
   "source": [
    "Primero se realiza un oversampling al conjunto para el análisis."
   ]
  },
  {
   "cell_type": "code",
   "execution_count": 983,
   "metadata": {},
   "outputs": [
    {
     "name": "stderr",
     "output_type": "stream",
     "text": [
      "c:\\Users\\david\\anaconda3\\Lib\\site-packages\\sklearn\\base.py:474: FutureWarning: `BaseEstimator._validate_data` is deprecated in 1.6 and will be removed in 1.7. Use `sklearn.utils.validation.validate_data` instead. This function becomes public and is part of the scikit-learn developer API.\n",
      "  warnings.warn(\n"
     ]
    }
   ],
   "source": [
    "over = SMOTE(sampling_strategy=0.9, random_state=seed)\n",
    "X_resampled, y_resampled = over.fit_resample(X_under, y_under)"
   ]
  },
  {
   "cell_type": "markdown",
   "metadata": {},
   "source": [
    "Después el de Kaggle."
   ]
  },
  {
   "cell_type": "code",
   "execution_count": 984,
   "metadata": {},
   "outputs": [
    {
     "name": "stderr",
     "output_type": "stream",
     "text": [
      "c:\\Users\\david\\anaconda3\\Lib\\site-packages\\sklearn\\base.py:474: FutureWarning: `BaseEstimator._validate_data` is deprecated in 1.6 and will be removed in 1.7. Use `sklearn.utils.validation.validate_data` instead. This function becomes public and is part of the scikit-learn developer API.\n",
      "  warnings.warn(\n"
     ]
    }
   ],
   "source": [
    "over_final = SMOTE(sampling_strategy=0.9, k_neighbors=10, random_state=seed)\n",
    "X_res_final, y_res_final = over_final.fit_resample(X_under_final, y_under_final)"
   ]
  },
  {
   "cell_type": "markdown",
   "metadata": {},
   "source": [
    "# 7. Modelos seleccionados"
   ]
  },
  {
   "cell_type": "markdown",
   "metadata": {},
   "source": [
    "## 7.1 Introduccion"
   ]
  },
  {
   "cell_type": "markdown",
   "metadata": {},
   "source": [
    "En el anterior notebook se evaluaron una serie de modelos tanto por F1 score como por ROC-AUC score. Los modelos con mejores resultados para ambas categorías fueron:\n",
    "* Random Forest.\n",
    "* GradientBoosting.\n",
    "* XGBoost.\n",
    "* LogisticRegression.\n",
    "* SVC con kernel rbf.\n",
    "\n",
    "Por lo tanto nos dispondremos a probar dichos modelos a continuación."
   ]
  },
  {
   "cell_type": "markdown",
   "metadata": {},
   "source": [
    "## 7.2 Asignacion de las variables"
   ]
  },
  {
   "cell_type": "markdown",
   "metadata": {},
   "source": [
    "Asignamos las variables para el analisis en función del desarrollo del apartado del preprocesado."
   ]
  },
  {
   "cell_type": "code",
   "execution_count": 985,
   "metadata": {},
   "outputs": [],
   "source": [
    "X_model = X_resampled\n",
    "y_model = y_resampled\n",
    "\n",
    "X_model_test = X_scaled_test\n",
    "expected = y_test"
   ]
  },
  {
   "cell_type": "markdown",
   "metadata": {},
   "source": [
    "## 7.3 Clasificador Random Forest"
   ]
  },
  {
   "cell_type": "markdown",
   "metadata": {},
   "source": [
    "### 7.3.1 Definicion"
   ]
  },
  {
   "cell_type": "markdown",
   "metadata": {},
   "source": [
    "Definimos el modelo con los hiperparámetros *random_state* fijado y *class_weigth* balanceado. También se escoje *n_jobs* con valor -1 para utilizar todos los procesadores."
   ]
  },
  {
   "cell_type": "code",
   "execution_count": 986,
   "metadata": {},
   "outputs": [],
   "source": [
    "model_Forest = RandomForestClassifier(class_weight=\"balanced\", n_jobs=-1, random_state=seed)"
   ]
  },
  {
   "cell_type": "markdown",
   "metadata": {},
   "source": [
    "### 7.3.2 Entrenamiento y evaluacion"
   ]
  },
  {
   "cell_type": "markdown",
   "metadata": {},
   "source": [
    "Entrenamos el modelo y comprobamos su exactitud."
   ]
  },
  {
   "cell_type": "code",
   "execution_count": 987,
   "metadata": {},
   "outputs": [],
   "source": [
    "model_Forest.fit(X_model, y_model)\n",
    "\n",
    "predicted_Forest = model_Forest.predict(X_model_test)"
   ]
  },
  {
   "cell_type": "code",
   "execution_count": 988,
   "metadata": {},
   "outputs": [
    {
     "data": {
      "text/plain": [
       "0.6027932960893855"
      ]
     },
     "execution_count": 988,
     "metadata": {},
     "output_type": "execute_result"
    }
   ],
   "source": [
    "accuracy_score(expected, predicted_Forest)"
   ]
  },
  {
   "cell_type": "markdown",
   "metadata": {},
   "source": [
    "### 7.3.3 Null accuracy"
   ]
  },
  {
   "cell_type": "markdown",
   "metadata": {},
   "source": [
    "Ahora se va a evaluar si  el modelo siempre predice la clase más frecuente."
   ]
  },
  {
   "cell_type": "code",
   "execution_count": 989,
   "metadata": {},
   "outputs": [
    {
     "data": {
      "text/plain": [
       "1    1179\n",
       "0     611\n",
       "Name: count, dtype: int64"
      ]
     },
     "execution_count": 989,
     "metadata": {},
     "output_type": "execute_result"
    }
   ],
   "source": [
    "s_y_test = pd.Series(y_test)\n",
    "s_y_test.value_counts()"
   ]
  },
  {
   "cell_type": "code",
   "execution_count": 990,
   "metadata": {},
   "outputs": [
    {
     "data": {
      "text/plain": [
       "0.658659217877095"
      ]
     },
     "execution_count": 990,
     "metadata": {},
     "output_type": "execute_result"
    }
   ],
   "source": [
    "y_test.mean()"
   ]
  },
  {
   "cell_type": "code",
   "execution_count": 991,
   "metadata": {},
   "outputs": [
    {
     "data": {
      "text/plain": [
       "0.341340782122905"
      ]
     },
     "execution_count": 991,
     "metadata": {},
     "output_type": "execute_result"
    }
   ],
   "source": [
    "1 - y_test.mean() "
   ]
  },
  {
   "cell_type": "code",
   "execution_count": 992,
   "metadata": {},
   "outputs": [
    {
     "data": {
      "text/plain": [
       "0.658659217877095"
      ]
     },
     "execution_count": 992,
     "metadata": {},
     "output_type": "execute_result"
    }
   ],
   "source": [
    "max(y_test.mean(), 1 - y_test.mean())"
   ]
  },
  {
   "cell_type": "code",
   "execution_count": 993,
   "metadata": {},
   "outputs": [
    {
     "data": {
      "text/plain": [
       "1    0.658659\n",
       "Name: count, dtype: float64"
      ]
     },
     "execution_count": 993,
     "metadata": {},
     "output_type": "execute_result"
    }
   ],
   "source": [
    "s_y_test.value_counts().head(1) / len(y_test)"
   ]
  },
  {
   "cell_type": "markdown",
   "metadata": {},
   "source": [
    "Nuestra exactitud es de 0.626, la cual es peor que la *null accuracy*, es decir, ahora mismo no tenemos un buen modelo ya que se predecirían un mayor número de resultados en el caso de siempre predecir la clase mayoritaria."
   ]
  },
  {
   "cell_type": "markdown",
   "metadata": {},
   "source": [
    "### 7.3.4 Matriz de confusion y F-score"
   ]
  },
  {
   "cell_type": "markdown",
   "metadata": {},
   "source": [
    "Se muestra la matriz de confusión y el informe de clasificación."
   ]
  },
  {
   "cell_type": "code",
   "execution_count": 994,
   "metadata": {},
   "outputs": [
    {
     "name": "stdout",
     "output_type": "stream",
     "text": [
      "[[286 325]\n",
      " [386 793]]\n"
     ]
    }
   ],
   "source": [
    "print(confusion_matrix(expected, predicted_Forest))"
   ]
  },
  {
   "cell_type": "code",
   "execution_count": 995,
   "metadata": {},
   "outputs": [
    {
     "name": "stdout",
     "output_type": "stream",
     "text": [
      "              precision    recall  f1-score   support\n",
      "\n",
      "           0       0.43      0.47      0.45       611\n",
      "           1       0.71      0.67      0.69      1179\n",
      "\n",
      "    accuracy                           0.60      1790\n",
      "   macro avg       0.57      0.57      0.57      1790\n",
      "weighted avg       0.61      0.60      0.61      1790\n",
      "\n"
     ]
    }
   ],
   "source": [
    "print(classification_report(expected, predicted_Forest))"
   ]
  },
  {
   "cell_type": "markdown",
   "metadata": {},
   "source": [
    "Se observa que estamos identificando erroneamente los 0s ya que tenemos un f1-score del 0.74 para los 1s mientras que estamos obteniendo un 0.35 para los 0s"
   ]
  },
  {
   "cell_type": "markdown",
   "metadata": {},
   "source": [
    "### 7.3.5 ROC y AUC"
   ]
  },
  {
   "cell_type": "markdown",
   "metadata": {},
   "source": [
    "Evaluamos la ROC-AUC score. Para ello representamos primero la curva de ROC."
   ]
  },
  {
   "cell_type": "code",
   "execution_count": 996,
   "metadata": {},
   "outputs": [
    {
     "data": {
      "image/png": "[encoded data removed]",
      "text/plain": [
       "<Figure size 640x480 with 1 Axes>"
      ]
     },
     "metadata": {},
     "output_type": "display_data"
    }
   ],
   "source": [
    "y_pred_prob_Forest = model_Forest.predict_proba(X_model_test)[:,1]\n",
    "fpr, tpr, thresholds = roc_curve(expected, y_pred_prob_Forest)\n",
    "plt.plot(fpr, tpr)\n",
    "plt.xlim([0.0, 1.0])\n",
    "plt.ylim([0.0, 1.0])\n",
    "plt.title('Curva ROC')\n",
    "plt.xlabel('Ratio de FP (1 - Recall)')\n",
    "plt.ylabel('Ratio TP (Sensitivity)')\n",
    "plt.grid(True)\n",
    "plt.show()"
   ]
  },
  {
   "cell_type": "markdown",
   "metadata": {},
   "source": [
    "Y mostramos sus thresholds."
   ]
  },
  {
   "cell_type": "code",
   "execution_count": 997,
   "metadata": {},
   "outputs": [
    {
     "data": {
      "text/plain": [
       "array([ inf, 0.91, 0.9 , 0.89, 0.88, 0.87, 0.86, 0.85, 0.84, 0.83, 0.82,\n",
       "       0.81, 0.8 , 0.79, 0.78, 0.76, 0.75, 0.74, 0.73, 0.72, 0.71, 0.7 ,\n",
       "       0.69, 0.68, 0.67, 0.66, 0.65, 0.64, 0.63, 0.62, 0.61, 0.6 , 0.59,\n",
       "       0.58, 0.57, 0.56, 0.55, 0.54, 0.53, 0.52, 0.51, 0.5 , 0.49, 0.48,\n",
       "       0.47, 0.46, 0.45, 0.44, 0.43, 0.42, 0.41, 0.4 , 0.39, 0.38, 0.37,\n",
       "       0.36, 0.35, 0.34, 0.33, 0.32, 0.31, 0.3 , 0.29, 0.28, 0.27, 0.26,\n",
       "       0.25, 0.24, 0.23, 0.22, 0.21, 0.2 , 0.19])"
      ]
     },
     "execution_count": 997,
     "metadata": {},
     "output_type": "execute_result"
    }
   ],
   "source": [
    "thresholds"
   ]
  },
  {
   "cell_type": "markdown",
   "metadata": {},
   "source": [
    "Como se observa el resultado no es bueno ya que estamos obteniendo practicamente una recta en vez de una curva en forma de 'L' invertida."
   ]
  },
  {
   "cell_type": "markdown",
   "metadata": {},
   "source": [
    "La siguiente gráfica muestra las probabilidades de predicción en función de los umbrales."
   ]
  },
  {
   "cell_type": "code",
   "execution_count": 998,
   "metadata": {},
   "outputs": [
    {
     "data": {
      "text/plain": [
       "array([<Axes: title={'center': '0'}>, <Axes: title={'center': '1'}>],\n",
       "      dtype=object)"
      ]
     },
     "execution_count": 998,
     "metadata": {},
     "output_type": "execute_result"
    },
    {
     "data": {
      "image/png": "[encoded data removed]",
      "text/plain": [
       "<Figure size 640x480 with 2 Axes>"
      ]
     },
     "metadata": {},
     "output_type": "display_data"
    }
   ],
   "source": [
    "dprob = pd.DataFrame(data = {'probability':y_pred_prob_Forest, 'actual':y_test})\n",
    "dprob.probability.hist(by=dprob.actual, sharex=True, sharey=True)"
   ]
  },
  {
   "cell_type": "markdown",
   "metadata": {},
   "source": [
    "Se muestra que los mejores resultados para ambas clases se obtiene con el *threshold* igual a 0.5 aproximandamente (es decir, el valor por defecto)."
   ]
  },
  {
   "cell_type": "code",
   "execution_count": 999,
   "metadata": {},
   "outputs": [
    {
     "name": "stdout",
     "output_type": "stream",
     "text": [
      "Sensitivity: 0.6726039016115352\n",
      "Recall: 0.46808510638297873\n"
     ]
    }
   ],
   "source": [
    "best_thres_Random = 0.5\n",
    "\n",
    "evaluate_threshold(best_thres_Random)"
   ]
  },
  {
   "cell_type": "markdown",
   "metadata": {},
   "source": [
    "Con este valor se obtienen los siguientes resultados. Primero se recalculan las predicciones."
   ]
  },
  {
   "cell_type": "code",
   "execution_count": 1000,
   "metadata": {},
   "outputs": [],
   "source": [
    "probs_Forest = model_Forest.predict_proba(X_model_test)[:, 1]  \n",
    "pred_thres_Forest = (probs_Forest >= best_thres_Random).astype(int) "
   ]
  },
  {
   "cell_type": "markdown",
   "metadata": {},
   "source": [
    "Se evalua la matriz de confusión."
   ]
  },
  {
   "cell_type": "code",
   "execution_count": 1001,
   "metadata": {},
   "outputs": [
    {
     "name": "stdout",
     "output_type": "stream",
     "text": [
      "[[264 347]\n",
      " [347 832]]\n"
     ]
    }
   ],
   "source": [
    "print(confusion_matrix(expected, pred_thres_Forest))"
   ]
  },
  {
   "cell_type": "markdown",
   "metadata": {},
   "source": [
    "Y también se analiza el informe de la clasificación."
   ]
  },
  {
   "cell_type": "code",
   "execution_count": 1002,
   "metadata": {},
   "outputs": [
    {
     "name": "stdout",
     "output_type": "stream",
     "text": [
      "              precision    recall  f1-score   support\n",
      "\n",
      "           0       0.43      0.43      0.43       611\n",
      "           1       0.71      0.71      0.71      1179\n",
      "\n",
      "    accuracy                           0.61      1790\n",
      "   macro avg       0.57      0.57      0.57      1790\n",
      "weighted avg       0.61      0.61      0.61      1790\n",
      "\n"
     ]
    }
   ],
   "source": [
    "print(classification_report(expected, pred_thres_Forest))"
   ]
  },
  {
   "cell_type": "markdown",
   "metadata": {},
   "source": [
    "Obviamente son los mismos, ya que no estamos modificando el umbral realmente."
   ]
  },
  {
   "cell_type": "markdown",
   "metadata": {},
   "source": [
    "Finalmente se calcula el valor de AUC."
   ]
  },
  {
   "cell_type": "code",
   "execution_count": 1003,
   "metadata": {},
   "outputs": [
    {
     "name": "stdout",
     "output_type": "stream",
     "text": [
      "0.570344503997257\n"
     ]
    }
   ],
   "source": [
    "print(roc_auc_score(expected, predicted_Forest))"
   ]
  },
  {
   "cell_type": "markdown",
   "metadata": {},
   "source": [
    "Se ha obtenido un valor entre 0.5 y 0.6, es decir, el modelo se considerá como fallido o *F*."
   ]
  },
  {
   "cell_type": "markdown",
   "metadata": {},
   "source": [
    "### 7.3.6 Optimizacion"
   ]
  },
  {
   "cell_type": "markdown",
   "metadata": {},
   "source": [
    "Antes de nada, observamos cuales son los parámetros de nuestro modelo."
   ]
  },
  {
   "cell_type": "code",
   "execution_count": 1004,
   "metadata": {},
   "outputs": [
    {
     "data": {
      "text/plain": [
       "{'bootstrap': True,\n",
       " 'ccp_alpha': 0.0,\n",
       " 'class_weight': 'balanced',\n",
       " 'criterion': 'gini',\n",
       " 'max_depth': None,\n",
       " 'max_features': 'sqrt',\n",
       " 'max_leaf_nodes': None,\n",
       " 'max_samples': None,\n",
       " 'min_impurity_decrease': 0.0,\n",
       " 'min_samples_leaf': 1,\n",
       " 'min_samples_split': 2,\n",
       " 'min_weight_fraction_leaf': 0.0,\n",
       " 'monotonic_cst': None,\n",
       " 'n_estimators': 100,\n",
       " 'n_jobs': -1,\n",
       " 'oob_score': False,\n",
       " 'random_state': 42,\n",
       " 'verbose': 0,\n",
       " 'warm_start': False}"
      ]
     },
     "execution_count": 1004,
     "metadata": {},
     "output_type": "execute_result"
    }
   ],
   "source": [
    "model_Forest.get_params()"
   ]
  },
  {
   "cell_type": "markdown",
   "metadata": {},
   "source": [
    "También creemos que es interesante saber la profundidad media de nuestro modelo Random Forest, para así poder estimar mejor rango de valores en este apartado."
   ]
  },
  {
   "cell_type": "code",
   "execution_count": 1005,
   "metadata": {},
   "outputs": [
    {
     "name": "stdout",
     "output_type": "stream",
     "text": [
      "Profundidad media de los árboles: 29.55\n"
     ]
    }
   ],
   "source": [
    "arboles_decision = model_Forest.estimators_\n",
    "\n",
    "profundidades = [arbol.tree_.max_depth for arbol in arboles_decision]\n",
    "profundidad_media = np.mean(profundidades)\n",
    "\n",
    "print(f\"Profundidad media de los árboles: {profundidad_media}\")"
   ]
  },
  {
   "cell_type": "markdown",
   "metadata": {},
   "source": [
    "Ahora seleccionamos los hiperparámetros a evaluar mediante un GridSearchCV. Además, se ha añadido la librería *time* para saber el tiempo que tardo en realizar la busqueda de mejores parámetros.\n",
    "\n",
    "Estos hiperparámetros son:\n",
    "* ***n_estimator***: número de árboles.\n",
    "* ***max_depth***: máxima profundidad de cada árbol.\n",
    "* ***min_samples_split***: número de muestras mínimas para dividir un nodo interno.\n",
    "* ***min_samples_leaf***: número de muestras mínimas de un nodo hoja.\n",
    "* ***max_features***: número de características a tener en cuenta a la hora de buscar la mejor división.\n",
    "* ***class_weight***: pesos asignados a las clases."
   ]
  },
  {
   "cell_type": "raw",
   "metadata": {
    "vscode": {
     "languageId": "plaintext"
    }
   },
   "source": [
    "optm_Forest = RandomForestClassifier(n_jobs=-1, random_state=seed)\n",
    "\n",
    "param_grid = {\n",
    "    'n_estimators': [200, 250, 300],\n",
    "    'max_depth': [25, 35],\n",
    "    'min_samples_split': [2, 5],\n",
    "    'min_samples_leaf': [2, 4],\n",
    "    'max_features': [14, 20, 30, 50],\n",
    "    'class_weight': ['balanced', 'balanced_subsample']\n",
    "}\n",
    "\n",
    "grid_search = GridSearchCV(optm_Forest, param_grid=param_grid, cv=3, scoring=make_scorer(f1_score, average='weighted'), n_jobs=-1)\n",
    "\n",
    "inicio = time.time()\n",
    "grid_search.fit(X_model, y_model)\n",
    "fin = time.time()"
   ]
  },
  {
   "cell_type": "markdown",
   "metadata": {},
   "source": [
    "Se calcula el tiempo que ha tardado en minutos."
   ]
  },
  {
   "cell_type": "raw",
   "metadata": {},
   "source": [
    "tiempo_total = (fin - inicio) / 60\n",
    "print(f\"La celda tardó {tiempo_total} minutos en ejecutarse.\")"
   ]
  },
  {
   "cell_type": "markdown",
   "metadata": {},
   "source": [
    "Se escoge el mejor parámetro y su  precisión asociada."
   ]
  },
  {
   "cell_type": "raw",
   "metadata": {
    "vscode": {
     "languageId": "plaintext"
    }
   },
   "source": [
    "print(\"Mejores parámetros: \", grid_search.best_params_)\n",
    "print(\"Mejor score: \", grid_search.best_score_)"
   ]
  },
  {
   "cell_type": "markdown",
   "metadata": {},
   "source": [
    "Observamos los mejores 10 casos para analizar varias posibilidades."
   ]
  },
  {
   "cell_type": "raw",
   "metadata": {},
   "source": [
    "results_df = pd.DataFrame(grid_search.cv_results_)"
   ]
  },
  {
   "cell_type": "raw",
   "metadata": {},
   "source": [
    "top_10_models = results_df.nlargest(10, \"mean_test_score\")\n",
    "\n",
    "print(\"\\nLos 10 mejores modelos:\")\n",
    "for index, row in top_10_models.iterrows():\n",
    "    print(\"\\nModelo:\")\n",
    "    print(f\"Parámetros: {row['params']}\")\n",
    "    print(f\"Puntuación media de prueba: {row['mean_test_score']}\")"
   ]
  },
  {
   "cell_type": "markdown",
   "metadata": {},
   "source": [
    "### 7.3.7 Entrenamiento y evaluacion con hiperparametros optimizados"
   ]
  },
  {
   "cell_type": "markdown",
   "metadata": {},
   "source": [
    "#### - Definicion"
   ]
  },
  {
   "cell_type": "markdown",
   "metadata": {},
   "source": [
    "Definimos los mejores parámetros (no se define con *grid_search.best_params_* para probar varias opciones de forma sencilla)."
   ]
  },
  {
   "cell_type": "code",
   "execution_count": 1006,
   "metadata": {},
   "outputs": [],
   "source": [
    "params_final_Forest = {\n",
    "    'class_weight': 'balanced',\n",
    "    'max_depth': 20,\n",
    "    'max_features': 20,\n",
    "    'min_samples_leaf': 2,\n",
    "    'min_samples_split': 2,\n",
    "    'n_estimators': 200,\n",
    "    'n_jobs': -1,\n",
    "    'random_state': seed\n",
    "}\n"
   ]
  },
  {
   "cell_type": "markdown",
   "metadata": {},
   "source": [
    "Definimos el modelo desagregando el diccionario."
   ]
  },
  {
   "cell_type": "code",
   "execution_count": 1007,
   "metadata": {},
   "outputs": [],
   "source": [
    "final_Forest = RandomForestClassifier(**params_final_Forest)"
   ]
  },
  {
   "cell_type": "markdown",
   "metadata": {},
   "source": [
    "#### - Entrenamiento y evaluacion"
   ]
  },
  {
   "cell_type": "markdown",
   "metadata": {},
   "source": [
    "Entrenamos el modelo y comprobamos su exactitud."
   ]
  },
  {
   "cell_type": "code",
   "execution_count": 1008,
   "metadata": {},
   "outputs": [],
   "source": [
    "final_Forest.fit(X_model, y_model)\n",
    "\n",
    "predicted_For_opt = final_Forest.predict(X_model_test)"
   ]
  },
  {
   "cell_type": "code",
   "execution_count": 1009,
   "metadata": {},
   "outputs": [
    {
     "data": {
      "text/plain": [
       "0.6027932960893855"
      ]
     },
     "execution_count": 1009,
     "metadata": {},
     "output_type": "execute_result"
    }
   ],
   "source": [
    "accuracy_score(expected, predicted_For_opt)"
   ]
  },
  {
   "cell_type": "markdown",
   "metadata": {},
   "source": [
    "#### - Null accuracy"
   ]
  },
  {
   "cell_type": "markdown",
   "metadata": {},
   "source": [
    "La accuracy es similar a la anterior. Además, sigue siendo peor que la *null accuracy*."
   ]
  },
  {
   "cell_type": "markdown",
   "metadata": {},
   "source": [
    "#### - Matriz de confusion y F-score"
   ]
  },
  {
   "cell_type": "markdown",
   "metadata": {},
   "source": [
    "La matriz de confusión y el informe de clasificación también es muy similar."
   ]
  },
  {
   "cell_type": "code",
   "execution_count": 1010,
   "metadata": {},
   "outputs": [
    {
     "name": "stdout",
     "output_type": "stream",
     "text": [
      "[[303 308]\n",
      " [403 776]]\n"
     ]
    }
   ],
   "source": [
    "print(confusion_matrix(expected, predicted_For_opt))"
   ]
  },
  {
   "cell_type": "code",
   "execution_count": 1011,
   "metadata": {},
   "outputs": [
    {
     "name": "stdout",
     "output_type": "stream",
     "text": [
      "              precision    recall  f1-score   support\n",
      "\n",
      "           0       0.43      0.50      0.46       611\n",
      "           1       0.72      0.66      0.69      1179\n",
      "\n",
      "    accuracy                           0.60      1790\n",
      "   macro avg       0.57      0.58      0.57      1790\n",
      "weighted avg       0.62      0.60      0.61      1790\n",
      "\n"
     ]
    }
   ],
   "source": [
    "print(classification_report(expected, predicted_For_opt))"
   ]
  },
  {
   "cell_type": "markdown",
   "metadata": {},
   "source": [
    "#### - ROC y AUC"
   ]
  },
  {
   "cell_type": "markdown",
   "metadata": {},
   "source": [
    "Se calcula el ROC y se reajusta el umbral de probabilidad."
   ]
  },
  {
   "cell_type": "code",
   "execution_count": 1012,
   "metadata": {},
   "outputs": [
    {
     "data": {
      "image/png": "[encoded data removed]",
      "text/plain": [
       "<Figure size 640x480 with 1 Axes>"
      ]
     },
     "metadata": {},
     "output_type": "display_data"
    }
   ],
   "source": [
    "y_pred_prob_Forest = final_Forest.predict_proba(X_model_test)[:,1]\n",
    "fpr, tpr, thresholds = roc_curve(y_test, y_pred_prob_Forest)\n",
    "plt.plot(fpr, tpr)\n",
    "plt.xlim([0.0, 1.0])\n",
    "plt.ylim([0.0, 1.0])\n",
    "plt.title('Curva ROC')\n",
    "plt.xlabel('Ratio de FP (1 - Recall)')\n",
    "plt.ylabel('Ratio TP (Sensitivity)')\n",
    "plt.grid(True)\n",
    "plt.show()"
   ]
  },
  {
   "cell_type": "code",
   "execution_count": 1013,
   "metadata": {},
   "outputs": [
    {
     "data": {
      "text/plain": [
       "array([       inf, 0.93340026, 0.9103826 , 0.89917683, 0.87582652,\n",
       "       0.8751084 , 0.86862282, 0.86825048, 0.8520928 , 0.85085255,\n",
       "       0.83865108, 0.83400924, 0.82182637, 0.82125602, 0.82065613,\n",
       "       0.82000766, 0.81390959, 0.81304212, 0.80972772, 0.80933641,\n",
       "       0.80682767, 0.80661742, 0.80634917, 0.80558116, 0.80139007,\n",
       "       0.80006608, 0.79968409, 0.79968157, 0.79954115, 0.79817315,\n",
       "       0.79641543, 0.7918822 , 0.79031633, 0.78767295, 0.78699862,\n",
       "       0.78698658, 0.78061223, 0.7797217 , 0.77610642, 0.77591536,\n",
       "       0.77237183, 0.77219481, 0.77216569, 0.7704449 , 0.76732971,\n",
       "       0.76706419, 0.75901576, 0.75881828, 0.75414609, 0.75163142,\n",
       "       0.74735207, 0.7471024 , 0.7468995 , 0.74684967, 0.74683048,\n",
       "       0.74610698, 0.74332462, 0.74271922, 0.74261716, 0.74145893,\n",
       "       0.74045161, 0.73955092, 0.73499731, 0.73477948, 0.73413004,\n",
       "       0.73363942, 0.73338266, 0.7333803 , 0.72871509, 0.72801937,\n",
       "       0.72721534, 0.7269432 , 0.72586728, 0.72564585, 0.72300319,\n",
       "       0.72176171, 0.71441922, 0.71432014, 0.71206638, 0.71183138,\n",
       "       0.71182242, 0.71171127, 0.71083293, 0.71058985, 0.70969957,\n",
       "       0.70922626, 0.70858029, 0.70843764, 0.70633514, 0.70585387,\n",
       "       0.70494199, 0.70462273, 0.70418097, 0.70390331, 0.70074606,\n",
       "       0.70041875, 0.69796998, 0.69776527, 0.69658855, 0.69654993,\n",
       "       0.69624833, 0.69595136, 0.69165713, 0.69128717, 0.69042697,\n",
       "       0.69037919, 0.68927459, 0.68918297, 0.68907826, 0.6889761 ,\n",
       "       0.68785792, 0.68779939, 0.68702811, 0.68685442, 0.6862502 ,\n",
       "       0.68613912, 0.67605009, 0.67596799, 0.67560305, 0.67476325,\n",
       "       0.67408828, 0.67405699, 0.67321465, 0.6727466 , 0.67064611,\n",
       "       0.67032605, 0.66999049, 0.6697477 , 0.66790927, 0.66778535,\n",
       "       0.66613253, 0.66608356, 0.6650354 , 0.66428727, 0.66305749,\n",
       "       0.66287102, 0.66075915, 0.66071185, 0.65731114, 0.65582156,\n",
       "       0.65124637, 0.65117484, 0.64616742, 0.64536992, 0.64346509,\n",
       "       0.6429889 , 0.64263642, 0.6417447 , 0.64073482, 0.64007844,\n",
       "       0.63953602, 0.63916128, 0.63801641, 0.63763967, 0.63506187,\n",
       "       0.63498825, 0.63349777, 0.63337588, 0.63021331, 0.62984682,\n",
       "       0.62954446, 0.62937379, 0.62748083, 0.6268788 , 0.62596372,\n",
       "       0.62576824, 0.62526385, 0.62522179, 0.62508866, 0.62484242,\n",
       "       0.62367162, 0.6235808 , 0.62332723, 0.62315323, 0.62079876,\n",
       "       0.62035102, 0.61980563, 0.61945398, 0.61927097, 0.61899213,\n",
       "       0.61622993, 0.61553727, 0.61525353, 0.61460011, 0.6141778 ,\n",
       "       0.61410663, 0.61329855, 0.6132403 , 0.61302281, 0.61277119,\n",
       "       0.61017571, 0.60953901, 0.60800671, 0.60789392, 0.60751617,\n",
       "       0.60662075, 0.6059014 , 0.60570898, 0.60549355, 0.60509506,\n",
       "       0.60461442, 0.60461133, 0.60439526, 0.60398664, 0.60283395,\n",
       "       0.60247276, 0.60198414, 0.60188874, 0.60166601, 0.60142166,\n",
       "       0.59950281, 0.59932528, 0.59891595, 0.59891139, 0.59762128,\n",
       "       0.59724389, 0.59589812, 0.5953524 , 0.59527632, 0.59507143,\n",
       "       0.59505107, 0.59484475, 0.59442686, 0.5943708 , 0.59436708,\n",
       "       0.59425192, 0.59396042, 0.59340242, 0.59230663, 0.59181205,\n",
       "       0.59108282, 0.59093396, 0.59015113, 0.59013949, 0.58989214,\n",
       "       0.58960897, 0.58910221, 0.58903032, 0.58902768, 0.58850181,\n",
       "       0.58841901, 0.58828142, 0.58744206, 0.5874182 , 0.58723907,\n",
       "       0.58706053, 0.58693834, 0.58691099, 0.58629027, 0.58614562,\n",
       "       0.58475796, 0.58409437, 0.58313337, 0.58220551, 0.58103054,\n",
       "       0.58073732, 0.58052284, 0.58047843, 0.57905766, 0.57878488,\n",
       "       0.57846798, 0.57801831, 0.57735391, 0.57658271, 0.57535463,\n",
       "       0.57419148, 0.57348031, 0.57335447, 0.57318031, 0.57317203,\n",
       "       0.57287413, 0.57273647, 0.57269405, 0.57205591, 0.57201801,\n",
       "       0.57172658, 0.57150176, 0.57100473, 0.57077071, 0.57075856,\n",
       "       0.569851  , 0.56970879, 0.56808725, 0.56741925, 0.56690938,\n",
       "       0.56673173, 0.56595043, 0.5652712 , 0.56455201, 0.56422699,\n",
       "       0.56293422, 0.562788  , 0.56259168, 0.56189187, 0.56143214,\n",
       "       0.56018528, 0.55789004, 0.55622581, 0.55403664, 0.55356695,\n",
       "       0.55279327, 0.55268355, 0.55225863, 0.55222296, 0.55151644,\n",
       "       0.55151474, 0.55131114, 0.55125742, 0.55115267, 0.55079395,\n",
       "       0.55031374, 0.54991367, 0.54863611, 0.54847312, 0.54745787,\n",
       "       0.54724494, 0.54659497, 0.54653557, 0.54623443, 0.54605027,\n",
       "       0.54604831, 0.5460032 , 0.54573437, 0.54570721, 0.54547891,\n",
       "       0.54537179, 0.54529974, 0.54371873, 0.54353788, 0.54332035,\n",
       "       0.5428357 , 0.54280069, 0.54265748, 0.54259116, 0.54220174,\n",
       "       0.54210795, 0.53867841, 0.53849352, 0.53809046, 0.53761134,\n",
       "       0.53690438, 0.53688137, 0.53676658, 0.5363154 , 0.53631378,\n",
       "       0.53598903, 0.53597462, 0.5357177 , 0.53500544, 0.53411132,\n",
       "       0.53400858, 0.53390167, 0.5322132 , 0.53165932, 0.53155391,\n",
       "       0.5310764 , 0.53096955, 0.53034287, 0.52959418, 0.52953844,\n",
       "       0.52855572, 0.52745962, 0.52703248, 0.52702395, 0.52553959,\n",
       "       0.52501942, 0.52477894, 0.52471584, 0.5241585 , 0.52375931,\n",
       "       0.52367403, 0.52325981, 0.52232086, 0.52225196, 0.52196551,\n",
       "       0.52124205, 0.52039612, 0.51974266, 0.519674  , 0.51954385,\n",
       "       0.5185484 , 0.51749102, 0.517318  , 0.51681893, 0.51656788,\n",
       "       0.51608704, 0.51606196, 0.51546431, 0.51459543, 0.51433824,\n",
       "       0.51294405, 0.51266436, 0.51245629, 0.51172542, 0.51082433,\n",
       "       0.51043544, 0.51014212, 0.50971593, 0.50829823, 0.50812474,\n",
       "       0.50808059, 0.50792261, 0.50716529, 0.50710317, 0.50590275,\n",
       "       0.50530535, 0.50529362, 0.50481715, 0.50208167, 0.50158269,\n",
       "       0.50070144, 0.50035629, 0.49970079, 0.49959374, 0.49843722,\n",
       "       0.4972257 , 0.49677076, 0.49670579, 0.49660544, 0.4962756 ,\n",
       "       0.49623486, 0.49570874, 0.49566131, 0.49521769, 0.49509541,\n",
       "       0.49498467, 0.49306548, 0.49282385, 0.49226605, 0.491219  ,\n",
       "       0.48993478, 0.48971667, 0.4896659 , 0.48879737, 0.48832822,\n",
       "       0.48822173, 0.4868996 , 0.48606782, 0.48604076, 0.48596354,\n",
       "       0.48462993, 0.4843682 , 0.4838772 , 0.48364798, 0.48278844,\n",
       "       0.48212246, 0.4818356 , 0.48115818, 0.48105942, 0.48083372,\n",
       "       0.48018591, 0.47901151, 0.47870612, 0.4786741 , 0.47711802,\n",
       "       0.47702616, 0.47657399, 0.47652063, 0.47510174, 0.47481766,\n",
       "       0.47460613, 0.47442129, 0.47387024, 0.47237026, 0.47209838,\n",
       "       0.47149496, 0.47137492, 0.47045053, 0.46979166, 0.46934517,\n",
       "       0.46883048, 0.46873294, 0.46820496, 0.4678523 , 0.46774656,\n",
       "       0.4672145 , 0.46642843, 0.46594412, 0.4657462 , 0.46535522,\n",
       "       0.46515228, 0.46380566, 0.46351569, 0.46343206, 0.46332033,\n",
       "       0.46326005, 0.4626856 , 0.46188039, 0.46169304, 0.46050722,\n",
       "       0.46022091, 0.45982642, 0.45981115, 0.45826767, 0.45689703,\n",
       "       0.45662084, 0.45653112, 0.45596551, 0.45563209, 0.45515032,\n",
       "       0.45457281, 0.45432898, 0.45329751, 0.45306064, 0.45209303,\n",
       "       0.45158299, 0.45146552, 0.45088507, 0.44938651, 0.44903898,\n",
       "       0.44742588, 0.44741779, 0.4451363 , 0.44462808, 0.44443161,\n",
       "       0.44407295, 0.44393914, 0.44285415, 0.44267863, 0.44247381,\n",
       "       0.44236535, 0.44230492, 0.44167358, 0.44165546, 0.44125911,\n",
       "       0.44018269, 0.440118  , 0.43988191, 0.43985798, 0.43965189,\n",
       "       0.43882178, 0.43875814, 0.43837493, 0.43764433, 0.43754639,\n",
       "       0.43741654, 0.43732074, 0.43698156, 0.43639062, 0.4361012 ,\n",
       "       0.43507753, 0.43432039, 0.43389847, 0.43353095, 0.43338868,\n",
       "       0.43283774, 0.4322328 , 0.43220943, 0.43134139, 0.43091449,\n",
       "       0.4308749 , 0.43000109, 0.4298338 , 0.42946094, 0.42796071,\n",
       "       0.42675294, 0.42627315, 0.42549268, 0.42480485, 0.4247833 ,\n",
       "       0.42279185, 0.42196173, 0.42154488, 0.42126597, 0.42111269,\n",
       "       0.4209157 , 0.42074942, 0.42003195, 0.41888423, 0.41873157,\n",
       "       0.41768538, 0.41629585, 0.41572707, 0.41548511, 0.41546323,\n",
       "       0.41540566, 0.41498741, 0.41478172, 0.41447091, 0.414264  ,\n",
       "       0.41371832, 0.41369359, 0.41362363, 0.41268031, 0.4125474 ,\n",
       "       0.41192608, 0.4114828 , 0.41127136, 0.41087499, 0.410701  ,\n",
       "       0.40930106, 0.40896155, 0.40890884, 0.40862447, 0.40849991,\n",
       "       0.4074475 , 0.40720955, 0.40719619, 0.40641662, 0.40631474,\n",
       "       0.40487574, 0.40422276, 0.40413989, 0.40323004, 0.40271629,\n",
       "       0.40265842, 0.4024847 , 0.40244941, 0.40184943, 0.4012973 ,\n",
       "       0.40115745, 0.3997117 , 0.39864211, 0.39848369, 0.39742454,\n",
       "       0.396641  , 0.39614584, 0.39533001, 0.395128  , 0.39500559,\n",
       "       0.39499671, 0.39416242, 0.39345395, 0.3930019 , 0.39164896,\n",
       "       0.38945568, 0.38929884, 0.38887966, 0.38869896, 0.38837631,\n",
       "       0.3880129 , 0.38787259, 0.38665797, 0.38618142, 0.38597153,\n",
       "       0.38571075, 0.38544918, 0.38465297, 0.38408924, 0.38400872,\n",
       "       0.38271119, 0.38179158, 0.38081985, 0.38046151, 0.38006281,\n",
       "       0.37996051, 0.37951604, 0.37795755, 0.3779379 , 0.3773746 ,\n",
       "       0.37595278, 0.37571398, 0.37556227, 0.37555407, 0.37535035,\n",
       "       0.37505614, 0.37213685, 0.37156428, 0.37016943, 0.37015939,\n",
       "       0.36864609, 0.36811065, 0.36729449, 0.36707045, 0.36619812,\n",
       "       0.36612514, 0.36566583, 0.36410093, 0.36379337, 0.36316635,\n",
       "       0.35852951, 0.35780564, 0.35718427, 0.35699991, 0.35677981,\n",
       "       0.35647374, 0.35398676, 0.35389664, 0.35380975, 0.35125931,\n",
       "       0.35044745, 0.35009035, 0.34913219, 0.34892486, 0.34679892,\n",
       "       0.34594795, 0.34263662, 0.34256005, 0.34237981, 0.34110854,\n",
       "       0.3405811 , 0.33997595, 0.33880646, 0.33876887, 0.33754796,\n",
       "       0.33680852, 0.33537421, 0.33348305, 0.33335386, 0.33232618,\n",
       "       0.33065025, 0.32943517, 0.32930036, 0.32700659, 0.32691033,\n",
       "       0.32617136, 0.32187987, 0.32172294, 0.32094032, 0.31951393,\n",
       "       0.31837068, 0.31776201, 0.31671859, 0.31636545, 0.31598446,\n",
       "       0.31552091, 0.31548696, 0.31312825, 0.31230912, 0.31141371,\n",
       "       0.30991424, 0.30918675, 0.3063856 , 0.30619661, 0.30566404,\n",
       "       0.3053763 , 0.30376702, 0.30327714, 0.30287412, 0.30120343,\n",
       "       0.30027879, 0.29860138, 0.29626818, 0.296081  , 0.29164089,\n",
       "       0.28336129, 0.28180287, 0.28172487, 0.27516545, 0.27065961,\n",
       "       0.26957105, 0.26860386, 0.26156182, 0.26047131, 0.25622394,\n",
       "       0.2561944 , 0.25347537, 0.25218004, 0.25217429, 0.24730528,\n",
       "       0.24278719, 0.23991075, 0.23761382, 0.23366383, 0.23055728,\n",
       "       0.22988162, 0.2286268 , 0.21752668, 0.21695414, 0.21399353,\n",
       "       0.20508561, 0.20302669, 0.19659818, 0.19595155, 0.18072141,\n",
       "       0.18000409, 0.17242725, 0.15293272, 0.1401163 , 0.08746346])"
      ]
     },
     "execution_count": 1013,
     "metadata": {},
     "output_type": "execute_result"
    }
   ],
   "source": [
    "thresholds"
   ]
  },
  {
   "cell_type": "code",
   "execution_count": 1014,
   "metadata": {},
   "outputs": [
    {
     "data": {
      "text/plain": [
       "array([<Axes: title={'center': '0'}>, <Axes: title={'center': '1'}>],\n",
       "      dtype=object)"
      ]
     },
     "execution_count": 1014,
     "metadata": {},
     "output_type": "execute_result"
    },
    {
     "data": {
      "image/png": "[encoded data removed]",
      "text/plain": [
       "<Figure size 640x480 with 2 Axes>"
      ]
     },
     "metadata": {},
     "output_type": "display_data"
    }
   ],
   "source": [
    "dprob = pd.DataFrame(data = {'probability':y_pred_prob_Forest, 'actual':y_test})\n",
    "dprob.probability.hist(by=dprob.actual, sharex=True, sharey=True)"
   ]
  },
  {
   "cell_type": "code",
   "execution_count": 1015,
   "metadata": {},
   "outputs": [
    {
     "name": "stdout",
     "output_type": "stream",
     "text": [
      "Sensitivity: 0.6581849024597116\n",
      "Recall: 0.4959083469721768\n"
     ]
    }
   ],
   "source": [
    "op_thres_Random = 0.5\n",
    "\n",
    "evaluate_threshold(op_thres_Random)"
   ]
  },
  {
   "cell_type": "code",
   "execution_count": 1016,
   "metadata": {},
   "outputs": [],
   "source": [
    "probs_For_opt = final_Forest.predict_proba(X_model_test)[:, 1]  \n",
    "pred_thres_For_opt = (probs_For_opt >= op_thres_Random).astype(int) "
   ]
  },
  {
   "cell_type": "code",
   "execution_count": 1017,
   "metadata": {},
   "outputs": [
    {
     "name": "stdout",
     "output_type": "stream",
     "text": [
      "[[303 308]\n",
      " [403 776]]\n"
     ]
    }
   ],
   "source": [
    "print(confusion_matrix(expected, pred_thres_For_opt))"
   ]
  },
  {
   "cell_type": "code",
   "execution_count": 1018,
   "metadata": {},
   "outputs": [
    {
     "name": "stdout",
     "output_type": "stream",
     "text": [
      "              precision    recall  f1-score   support\n",
      "\n",
      "           0       0.43      0.50      0.46       611\n",
      "           1       0.72      0.66      0.69      1179\n",
      "\n",
      "    accuracy                           0.60      1790\n",
      "   macro avg       0.57      0.58      0.57      1790\n",
      "weighted avg       0.62      0.60      0.61      1790\n",
      "\n"
     ]
    }
   ],
   "source": [
    "print(classification_report(expected, pred_thres_For_opt))"
   ]
  },
  {
   "cell_type": "markdown",
   "metadata": {},
   "source": [
    "Se obtienen los mismos resultados porque sigue siendo el mejor caso con umbral igual a 0,5."
   ]
  },
  {
   "cell_type": "markdown",
   "metadata": {},
   "source": [
    "Se calcula la AUC score."
   ]
  },
  {
   "cell_type": "code",
   "execution_count": 1019,
   "metadata": {},
   "outputs": [
    {
     "name": "stdout",
     "output_type": "stream",
     "text": [
      "0.5770466247159443\n"
     ]
    }
   ],
   "source": [
    "print(roc_auc_score(expected, predicted_For_opt))"
   ]
  },
  {
   "cell_type": "markdown",
   "metadata": {},
   "source": [
    "También ha tenido una pequeña mejora, pero sigue en el mismo intervalo. Es decir, sigue siendo un modelo *F*."
   ]
  },
  {
   "cell_type": "markdown",
   "metadata": {},
   "source": [
    "### 7.3.8 Conclusiones del modelo"
   ]
  },
  {
   "cell_type": "markdown",
   "metadata": {},
   "source": [
    "Tal y como esta el modelo no se estan obteniendo buenos resultados debido a la escasez de entradas y la gran cantidad de dimensiones que presenta el dataset. Estamos obteniendo prácticamente los mismos resultados que si decidieramos clasificar al azar."
   ]
  },
  {
   "cell_type": "markdown",
   "metadata": {},
   "source": [
    "## 7.4 Clasificador XGBoost"
   ]
  },
  {
   "cell_type": "markdown",
   "metadata": {},
   "source": [
    "### 7.4.1 Definicion"
   ]
  },
  {
   "cell_type": "markdown",
   "metadata": {},
   "source": [
    "Definimos el modelo con los hiperparámetros *random_state* fijado y *class_weigth* balanceado. También se escoje *n_jobs* con valor -1 para utilizar todos los procesadores."
   ]
  },
  {
   "cell_type": "code",
   "execution_count": 1020,
   "metadata": {},
   "outputs": [],
   "source": [
    "model_XG = XGBClassifier(objective='binary:logistic', eval_metric='logloss', random_state=seed)"
   ]
  },
  {
   "cell_type": "markdown",
   "metadata": {},
   "source": [
    "### 7.4.2 Entrenamiento y evaluacion"
   ]
  },
  {
   "cell_type": "markdown",
   "metadata": {},
   "source": [
    "Entrenamos el modelo y comprobamos su exactitud."
   ]
  },
  {
   "cell_type": "code",
   "execution_count": 1021,
   "metadata": {},
   "outputs": [],
   "source": [
    "model_XG.fit(X_model, y_model)\n",
    "\n",
    "predicted_XG = model_XG.predict(X_model_test)"
   ]
  },
  {
   "cell_type": "code",
   "execution_count": 1022,
   "metadata": {},
   "outputs": [
    {
     "data": {
      "text/plain": [
       "0.5787709497206703"
      ]
     },
     "execution_count": 1022,
     "metadata": {},
     "output_type": "execute_result"
    }
   ],
   "source": [
    "accuracy_score(expected, predicted_XG)"
   ]
  },
  {
   "cell_type": "markdown",
   "metadata": {},
   "source": [
    "### 7.4.3 Null accuracy"
   ]
  },
  {
   "cell_type": "markdown",
   "metadata": {},
   "source": [
    "Nuestra exactitud es de 0.587, la cual es peor que la *null accuracy*, es decir, ahora mismo no tenemos un buen modelo ya que se predecirían un mayor número de resultados en el caso de siempre predecir la clase mayoritaria."
   ]
  },
  {
   "cell_type": "markdown",
   "metadata": {},
   "source": [
    "### 7.4.4 Matriz de confusion y F-score"
   ]
  },
  {
   "cell_type": "markdown",
   "metadata": {},
   "source": [
    "Se muestra la matriz de confusión y el informe de clasificación."
   ]
  },
  {
   "cell_type": "code",
   "execution_count": 1023,
   "metadata": {},
   "outputs": [
    {
     "name": "stdout",
     "output_type": "stream",
     "text": [
      "[[278 333]\n",
      " [421 758]]\n"
     ]
    }
   ],
   "source": [
    "print(confusion_matrix(expected, predicted_XG))"
   ]
  },
  {
   "cell_type": "code",
   "execution_count": 1024,
   "metadata": {},
   "outputs": [
    {
     "name": "stdout",
     "output_type": "stream",
     "text": [
      "              precision    recall  f1-score   support\n",
      "\n",
      "           0       0.40      0.45      0.42       611\n",
      "           1       0.69      0.64      0.67      1179\n",
      "\n",
      "    accuracy                           0.58      1790\n",
      "   macro avg       0.55      0.55      0.55      1790\n",
      "weighted avg       0.59      0.58      0.58      1790\n",
      "\n"
     ]
    }
   ],
   "source": [
    "print(classification_report(expected, predicted_XG))"
   ]
  },
  {
   "cell_type": "markdown",
   "metadata": {},
   "source": [
    "Se observa que estamos identificando erroneamente los 0s ya que tenemos un f1-score del 0.68 para los 1s mientras que estamos obteniendo un 0.43 para los 0s"
   ]
  },
  {
   "cell_type": "markdown",
   "metadata": {},
   "source": [
    "### 7.4.5 ROC y AUC"
   ]
  },
  {
   "cell_type": "markdown",
   "metadata": {},
   "source": [
    "Evaluamos la ROC-AUC score. Para ello representamos primero la curva de ROC."
   ]
  },
  {
   "cell_type": "code",
   "execution_count": 1025,
   "metadata": {},
   "outputs": [
    {
     "data": {
      "image/png": "[encoded data removed]",
      "text/plain": [
       "<Figure size 640x480 with 1 Axes>"
      ]
     },
     "metadata": {},
     "output_type": "display_data"
    }
   ],
   "source": [
    "y_pred_prob_XG = model_XG.predict_proba(X_model_test)[:,1]\n",
    "fpr, tpr, thresholds = roc_curve(expected, y_pred_prob_XG)\n",
    "plt.plot(fpr, tpr)\n",
    "plt.xlim([0.0, 1.0])\n",
    "plt.ylim([0.0, 1.0])\n",
    "plt.title('Curva ROC')\n",
    "plt.xlabel('Ratio de FP (1 - Recall)')\n",
    "plt.ylabel('Ratio TP (Sensitivity)')\n",
    "plt.grid(True)\n",
    "plt.show()"
   ]
  },
  {
   "cell_type": "markdown",
   "metadata": {},
   "source": [
    "Y mostramos sus thresholds."
   ]
  },
  {
   "cell_type": "code",
   "execution_count": 1026,
   "metadata": {},
   "outputs": [
    {
     "data": {
      "text/plain": [
       "array([       inf, 0.99625254, 0.9838831 , 0.9836776 , 0.9834856 ,\n",
       "       0.9832334 , 0.9760996 , 0.9760467 , 0.9735521 , 0.97353303,\n",
       "       0.96998143, 0.96571743, 0.96237254, 0.96157676, 0.958043  ,\n",
       "       0.9572312 , 0.95627   , 0.95585614, 0.95253325, 0.9516937 ,\n",
       "       0.9475932 , 0.9475663 , 0.94619757, 0.94600546, 0.9312427 ,\n",
       "       0.9309133 , 0.92915463, 0.92832375, 0.92800474, 0.92760116,\n",
       "       0.9207306 , 0.9206333 , 0.92027664, 0.9192939 , 0.91448617,\n",
       "       0.9144777 , 0.9133606 , 0.91194767, 0.91054577, 0.91045785,\n",
       "       0.9072188 , 0.9072097 , 0.90513104, 0.9040171 , 0.8990641 ,\n",
       "       0.8986436 , 0.89744765, 0.89734775, 0.89593613, 0.8956608 ,\n",
       "       0.8936252 , 0.8927569 , 0.89046097, 0.8901769 , 0.88952136,\n",
       "       0.88718224, 0.88689345, 0.8867321 , 0.8832561 , 0.88291544,\n",
       "       0.879204  , 0.8786714 , 0.876713  , 0.87660486, 0.87625134,\n",
       "       0.87578905, 0.873763  , 0.8736266 , 0.86859095, 0.86605334,\n",
       "       0.86185634, 0.86102873, 0.86024284, 0.8601403 , 0.8598579 ,\n",
       "       0.85867095, 0.8582482 , 0.8575635 , 0.85563433, 0.8543295 ,\n",
       "       0.85408497, 0.85346913, 0.85334826, 0.8532227 , 0.8522893 ,\n",
       "       0.8521801 , 0.84993225, 0.84940314, 0.8431276 , 0.84239644,\n",
       "       0.8418262 , 0.8396063 , 0.83855784, 0.8384413 , 0.8383337 ,\n",
       "       0.83792424, 0.8374647 , 0.8371172 , 0.8362077 , 0.83565825,\n",
       "       0.8353367 , 0.83529204, 0.8343428 , 0.83411604, 0.8339527 ,\n",
       "       0.8328756 , 0.82934964, 0.8289848 , 0.8270496 , 0.8258337 ,\n",
       "       0.8239461 , 0.8235896 , 0.82292366, 0.8226188 , 0.8222947 ,\n",
       "       0.8210754 , 0.8196809 , 0.8194718 , 0.8189587 , 0.8174107 ,\n",
       "       0.81733304, 0.81732637, 0.8152484 , 0.8150209 , 0.8148022 ,\n",
       "       0.81411964, 0.8138401 , 0.8105243 , 0.8105098 , 0.8095234 ,\n",
       "       0.80623704, 0.80608165, 0.8048493 , 0.8046226 , 0.8030175 ,\n",
       "       0.8021744 , 0.8015837 , 0.80110765, 0.80106986, 0.7992726 ,\n",
       "       0.7987112 , 0.7957149 , 0.794694  , 0.79387957, 0.79098517,\n",
       "       0.7909277 , 0.78883606, 0.7887026 , 0.7867963 , 0.7864807 ,\n",
       "       0.78446794, 0.7839418 , 0.78347695, 0.7831675 , 0.77590203,\n",
       "       0.77460486, 0.7723298 , 0.7722728 , 0.7719079 , 0.77115905,\n",
       "       0.76977366, 0.7690797 , 0.76740164, 0.7672549 , 0.76660043,\n",
       "       0.7656426 , 0.76483905, 0.7644118 , 0.7640824 , 0.7636234 ,\n",
       "       0.7615975 , 0.7613382 , 0.76092213, 0.7598233 , 0.755943  ,\n",
       "       0.7557954 , 0.75431836, 0.75389755, 0.75342834, 0.75284576,\n",
       "       0.7513499 , 0.750258  , 0.74810517, 0.7476099 , 0.7473018 ,\n",
       "       0.7471527 , 0.74642915, 0.7454697 , 0.7444122 , 0.74283385,\n",
       "       0.7417084 , 0.74065393, 0.7405701 , 0.7405383 , 0.73654556,\n",
       "       0.73640627, 0.7334648 , 0.7327565 , 0.73243123, 0.73237395,\n",
       "       0.7287648 , 0.7284347 , 0.72657365, 0.726399  , 0.7237389 ,\n",
       "       0.72294647, 0.721962  , 0.7212012 , 0.7210397 , 0.7205376 ,\n",
       "       0.7194168 , 0.719197  , 0.71844584, 0.7179178 , 0.7156463 ,\n",
       "       0.7154576 , 0.7141083 , 0.71397334, 0.7137415 , 0.71365976,\n",
       "       0.71095014, 0.7100233 , 0.7067405 , 0.704476  , 0.70354754,\n",
       "       0.70320624, 0.7018057 , 0.70140696, 0.6992366 , 0.69856936,\n",
       "       0.69784456, 0.69745606, 0.6957441 , 0.69554377, 0.6927326 ,\n",
       "       0.69254476, 0.690443  , 0.6899609 , 0.68707305, 0.6868648 ,\n",
       "       0.6817477 , 0.6814725 , 0.6813494 , 0.6811789 , 0.6811334 ,\n",
       "       0.6791979 , 0.6766506 , 0.67585534, 0.6745811 , 0.67140514,\n",
       "       0.6704359 , 0.66980606, 0.6686405 , 0.66838485, 0.6667999 ,\n",
       "       0.6666992 , 0.66665053, 0.6664848 , 0.66524357, 0.66508055,\n",
       "       0.6648435 , 0.6644324 , 0.66356003, 0.659664  , 0.6584757 ,\n",
       "       0.6584594 , 0.65835446, 0.6583371 , 0.6572159 , 0.6567654 ,\n",
       "       0.65404356, 0.65235806, 0.6515884 , 0.6513085 , 0.65126646,\n",
       "       0.65010434, 0.6492107 , 0.6488932 , 0.64849275, 0.64836   ,\n",
       "       0.6469655 , 0.64598566, 0.6456691 , 0.64485747, 0.6439134 ,\n",
       "       0.6436171 , 0.63983816, 0.63904065, 0.63767886, 0.63683933,\n",
       "       0.6349714 , 0.6327651 , 0.63259906, 0.6323421 , 0.63202125,\n",
       "       0.6315965 , 0.6291481 , 0.6288384 , 0.6250868 , 0.62485266,\n",
       "       0.62397885, 0.62373894, 0.6228085 , 0.6224261 , 0.6199861 ,\n",
       "       0.6197125 , 0.6195275 , 0.61895514, 0.6162499 , 0.6157693 ,\n",
       "       0.6156863 , 0.6152152 , 0.61451465, 0.6141109 , 0.6135308 ,\n",
       "       0.6130847 , 0.61258674, 0.61209166, 0.61126673, 0.6109865 ,\n",
       "       0.6102746 , 0.6101273 , 0.60903156, 0.6089987 , 0.6074624 ,\n",
       "       0.60722804, 0.60706913, 0.6054055 , 0.6038117 , 0.603297  ,\n",
       "       0.6021931 , 0.60218966, 0.6006621 , 0.6004098 , 0.5993423 ,\n",
       "       0.5989471 , 0.59870577, 0.59803355, 0.5975294 , 0.5970097 ,\n",
       "       0.59699005, 0.59644437, 0.59505457, 0.5950164 , 0.59468096,\n",
       "       0.59244144, 0.5914432 , 0.59135383, 0.5902057 , 0.5890778 ,\n",
       "       0.58871657, 0.5880666 , 0.58704543, 0.58655816, 0.5837373 ,\n",
       "       0.5834257 , 0.5820545 , 0.58194137, 0.58028203, 0.57970005,\n",
       "       0.57893777, 0.57601845, 0.5739377 , 0.5726954 , 0.5721533 ,\n",
       "       0.5719455 , 0.5711018 , 0.5705989 , 0.57037634, 0.5702162 ,\n",
       "       0.5675176 , 0.5672945 , 0.5667401 , 0.5655675 , 0.56418437,\n",
       "       0.5640896 , 0.56329477, 0.5631274 , 0.56184703, 0.56173235,\n",
       "       0.5615981 , 0.56090206, 0.55994356, 0.5580916 , 0.55808115,\n",
       "       0.55778956, 0.5574265 , 0.5571536 , 0.5489474 , 0.5488268 ,\n",
       "       0.54846066, 0.54785985, 0.54754704, 0.54605234, 0.5454392 ,\n",
       "       0.54472727, 0.5444953 , 0.543791  , 0.54140437, 0.5409496 ,\n",
       "       0.5409442 , 0.54050463, 0.5385139 , 0.5383108 , 0.5381253 ,\n",
       "       0.5380887 , 0.53676194, 0.5364728 , 0.5356839 , 0.53565085,\n",
       "       0.5354507 , 0.5350405 , 0.5336947 , 0.53368187, 0.5335232 ,\n",
       "       0.5326922 , 0.5281518 , 0.5274529 , 0.5273857 , 0.5265195 ,\n",
       "       0.5252359 , 0.52464205, 0.5237568 , 0.5235392 , 0.522013  ,\n",
       "       0.5195501 , 0.51951605, 0.5194168 , 0.51908976, 0.5184003 ,\n",
       "       0.5181619 , 0.51809406, 0.5160471 , 0.51580536, 0.5115797 ,\n",
       "       0.5113075 , 0.5106871 , 0.50882614, 0.508134  , 0.50691205,\n",
       "       0.5049041 , 0.5048966 , 0.504344  , 0.5035961 , 0.50087935,\n",
       "       0.5003276 , 0.49941012, 0.49925652, 0.49765584, 0.49692547,\n",
       "       0.4957076 , 0.49463785, 0.494275  , 0.49396312, 0.49337533,\n",
       "       0.49328244, 0.4927432 , 0.49168497, 0.48996916, 0.4894519 ,\n",
       "       0.48862052, 0.48803586, 0.48775297, 0.4869239 , 0.484618  ,\n",
       "       0.48337835, 0.48330462, 0.4828825 , 0.4817287 , 0.48151016,\n",
       "       0.47980085, 0.47942847, 0.47787783, 0.47736135, 0.47695196,\n",
       "       0.47683656, 0.47646144, 0.4754432 , 0.47395548, 0.47378382,\n",
       "       0.4735459 , 0.4733568 , 0.4732454 , 0.47257367, 0.4701911 ,\n",
       "       0.46740076, 0.46397778, 0.46350962, 0.46270162, 0.46244693,\n",
       "       0.46208805, 0.46200138, 0.4616401 , 0.46101972, 0.46047094,\n",
       "       0.45992696, 0.45911652, 0.45903945, 0.45891201, 0.4588812 ,\n",
       "       0.4588701 , 0.45586792, 0.45216876, 0.45179808, 0.4510404 ,\n",
       "       0.45067048, 0.45043826, 0.44998327, 0.44877037, 0.44765735,\n",
       "       0.44683573, 0.4461473 , 0.445825  , 0.44564238, 0.44399205,\n",
       "       0.44349933, 0.43876278, 0.4384149 , 0.4383745 , 0.43756902,\n",
       "       0.43731067, 0.43691704, 0.4361312 , 0.4353476 , 0.43288723,\n",
       "       0.43231517, 0.43149233, 0.43025157, 0.42719206, 0.4261751 ,\n",
       "       0.42554107, 0.4249811 , 0.42407486, 0.42378095, 0.42372486,\n",
       "       0.42354193, 0.4210391 , 0.41854677, 0.4184392 , 0.4170572 ,\n",
       "       0.41581225, 0.41570988, 0.41428882, 0.41299012, 0.41247573,\n",
       "       0.41236168, 0.4103723 , 0.40995595, 0.4084793 , 0.4081981 ,\n",
       "       0.40774277, 0.40765998, 0.40740788, 0.40654925, 0.40538612,\n",
       "       0.40360093, 0.4011569 , 0.40062973, 0.3995751 , 0.39751828,\n",
       "       0.3952741 , 0.39473808, 0.39448187, 0.39439076, 0.39416286,\n",
       "       0.39355016, 0.3934645 , 0.39339164, 0.39293754, 0.39096308,\n",
       "       0.389569  , 0.38846156, 0.38598055, 0.3858152 , 0.38432685,\n",
       "       0.38381246, 0.3828924 , 0.38285342, 0.3827315 , 0.3824343 ,\n",
       "       0.38157034, 0.38136575, 0.3808881 , 0.38019323, 0.38002396,\n",
       "       0.37976354, 0.3769976 , 0.3769881 , 0.3747409 , 0.37314045,\n",
       "       0.37285757, 0.3728338 , 0.37194067, 0.36977872, 0.36948687,\n",
       "       0.3685659 , 0.3639607 , 0.36383432, 0.3626966 , 0.36242437,\n",
       "       0.3619991 , 0.36150175, 0.35983026, 0.3597362 , 0.35910967,\n",
       "       0.35803205, 0.35782513, 0.3573199 , 0.3555895 , 0.35518357,\n",
       "       0.35365582, 0.3519248 , 0.3498691 , 0.347139  , 0.34530893,\n",
       "       0.3451447 , 0.3420784 , 0.3415614 , 0.34117118, 0.3400376 ,\n",
       "       0.33962694, 0.33868897, 0.33859056, 0.3385696 , 0.33808634,\n",
       "       0.33777782, 0.33579448, 0.3355846 , 0.33488023, 0.33265525,\n",
       "       0.33058968, 0.33054897, 0.33038294, 0.32917207, 0.32775337,\n",
       "       0.32681894, 0.32546392, 0.3254062 , 0.32502216, 0.32449162,\n",
       "       0.32362178, 0.32197928, 0.3209795 , 0.31937605, 0.31655863,\n",
       "       0.31655362, 0.3158973 , 0.31552318, 0.3153109 , 0.31501123,\n",
       "       0.31385422, 0.31318277, 0.3130584 , 0.31230012, 0.3082092 ,\n",
       "       0.30586326, 0.30503845, 0.30421346, 0.30393457, 0.30146295,\n",
       "       0.30013755, 0.30000806, 0.2999814 , 0.29981887, 0.29833657,\n",
       "       0.29689968, 0.2958693 , 0.29352373, 0.29090458, 0.29068634,\n",
       "       0.29041106, 0.28884563, 0.28827164, 0.28653523, 0.28614283,\n",
       "       0.2861183 , 0.28532493, 0.2840044 , 0.28136227, 0.2797173 ,\n",
       "       0.27298924, 0.2720686 , 0.2713032 , 0.27096245, 0.2706569 ,\n",
       "       0.27030617, 0.26924235, 0.2670466 , 0.2662856 , 0.2653643 ,\n",
       "       0.26471236, 0.26431817, 0.26337203, 0.2633262 , 0.26325372,\n",
       "       0.26225233, 0.26203683, 0.26105756, 0.26052374, 0.25720507,\n",
       "       0.25525293, 0.2547501 , 0.25473738, 0.25415808, 0.24880831,\n",
       "       0.24828175, 0.24805163, 0.2464617 , 0.24209206, 0.24004564,\n",
       "       0.23395158, 0.23122734, 0.23086984, 0.22911607, 0.22852983,\n",
       "       0.22790082, 0.226294  , 0.22609824, 0.22496846, 0.22378033,\n",
       "       0.22333333, 0.222352  , 0.22186218, 0.22182839, 0.21193479,\n",
       "       0.21158497, 0.20902033, 0.20691232, 0.20450251, 0.20416369,\n",
       "       0.20064926, 0.1976604 , 0.19707182, 0.1941007 , 0.19247767,\n",
       "       0.19222748, 0.19162789, 0.1885474 , 0.18616922, 0.18588784,\n",
       "       0.18518838, 0.18430382, 0.18349466, 0.1790025 , 0.17640872,\n",
       "       0.17394073, 0.17336255, 0.1680375 , 0.1637143 , 0.16294645,\n",
       "       0.16066104, 0.15915109, 0.15150695, 0.1514241 , 0.14108987,\n",
       "       0.13618158, 0.1312397 , 0.12893453, 0.1280068 , 0.12554331,\n",
       "       0.1250605 , 0.12397496, 0.11926557, 0.11662175, 0.11224931,\n",
       "       0.10900836, 0.10262248, 0.10096278, 0.09672658, 0.09125268,\n",
       "       0.09017568, 0.0892019 , 0.07204544, 0.06667189, 0.06400485,\n",
       "       0.04520512, 0.03840197], dtype=float32)"
      ]
     },
     "execution_count": 1026,
     "metadata": {},
     "output_type": "execute_result"
    }
   ],
   "source": [
    "thresholds"
   ]
  },
  {
   "cell_type": "markdown",
   "metadata": {},
   "source": [
    "Al igual que con el Random Forest, el resultado obtenido no es bueno ya que estamos obteniendo practicamente una recta en vez de una curva en forma de 'L' invertida."
   ]
  },
  {
   "cell_type": "markdown",
   "metadata": {},
   "source": [
    "La siguiente gráfica muestra las probabilidades de predicción en función de los umbrales."
   ]
  },
  {
   "cell_type": "code",
   "execution_count": 1027,
   "metadata": {},
   "outputs": [
    {
     "data": {
      "text/plain": [
       "array([<Axes: title={'center': '0'}>, <Axes: title={'center': '1'}>],\n",
       "      dtype=object)"
      ]
     },
     "execution_count": 1027,
     "metadata": {},
     "output_type": "execute_result"
    },
    {
     "data": {
      "image/png": "[encoded data removed]",
      "text/plain": [
       "<Figure size 640x480 with 2 Axes>"
      ]
     },
     "metadata": {},
     "output_type": "display_data"
    }
   ],
   "source": [
    "dprob = pd.DataFrame(data = {'probability':y_pred_prob_XG, 'actual':y_test})\n",
    "dprob.probability.hist(by=dprob.actual, sharex=True, sharey=True)"
   ]
  },
  {
   "cell_type": "markdown",
   "metadata": {},
   "source": [
    "Se muestra que los mejores resultados para ambas clases se obtiene con el *threshold* igual a 0.5 aproximandamente (es decir, el valor por defecto)."
   ]
  },
  {
   "cell_type": "code",
   "execution_count": 1028,
   "metadata": {},
   "outputs": [
    {
     "name": "stdout",
     "output_type": "stream",
     "text": [
      "Sensitivity: 0.642069550466497\n",
      "Recall: 0.4549918166939444\n"
     ]
    }
   ],
   "source": [
    "best_thres_XG = 0.5\n",
    "\n",
    "evaluate_threshold(best_thres_XG)"
   ]
  },
  {
   "cell_type": "markdown",
   "metadata": {},
   "source": [
    "Con este valor se obtienen los siguientes resultados. Primero se recalculan las predicciones."
   ]
  },
  {
   "cell_type": "code",
   "execution_count": 1029,
   "metadata": {},
   "outputs": [],
   "source": [
    "probs_XG = model_XG.predict_proba(X_model_test)[:, 1]  \n",
    "pred_thres_XG= (probs_XG >= best_thres_XG).astype(int) "
   ]
  },
  {
   "cell_type": "markdown",
   "metadata": {},
   "source": [
    "Se evalua la matriz de confusión."
   ]
  },
  {
   "cell_type": "code",
   "execution_count": 1030,
   "metadata": {},
   "outputs": [
    {
     "name": "stdout",
     "output_type": "stream",
     "text": [
      "[[278 333]\n",
      " [421 758]]\n"
     ]
    }
   ],
   "source": [
    "print(confusion_matrix(expected, pred_thres_XG))"
   ]
  },
  {
   "cell_type": "markdown",
   "metadata": {},
   "source": [
    "Y también se analiza el informe de la clasificación."
   ]
  },
  {
   "cell_type": "code",
   "execution_count": 1031,
   "metadata": {},
   "outputs": [
    {
     "name": "stdout",
     "output_type": "stream",
     "text": [
      "              precision    recall  f1-score   support\n",
      "\n",
      "           0       0.40      0.45      0.42       611\n",
      "           1       0.69      0.64      0.67      1179\n",
      "\n",
      "    accuracy                           0.58      1790\n",
      "   macro avg       0.55      0.55      0.55      1790\n",
      "weighted avg       0.59      0.58      0.58      1790\n",
      "\n"
     ]
    }
   ],
   "source": [
    "print(classification_report(expected, pred_thres_XG))"
   ]
  },
  {
   "cell_type": "markdown",
   "metadata": {},
   "source": [
    "Obviamente son los mismos, ya que no estamos modificando el umbral realmente."
   ]
  },
  {
   "cell_type": "markdown",
   "metadata": {},
   "source": [
    "Finalmente se calcula el valor de AUC."
   ]
  },
  {
   "cell_type": "code",
   "execution_count": 1032,
   "metadata": {},
   "outputs": [
    {
     "name": "stdout",
     "output_type": "stream",
     "text": [
      "0.5489547717905684\n"
     ]
    }
   ],
   "source": [
    "print(roc_auc_score(expected, predicted_XG))"
   ]
  },
  {
   "cell_type": "markdown",
   "metadata": {},
   "source": [
    "Se ha obtenido un valor entre 0.5 y 0.6, es decir, el modelo se considerá como fallido o *F*."
   ]
  },
  {
   "cell_type": "markdown",
   "metadata": {},
   "source": [
    "### 7.4.6 Optimizacion"
   ]
  },
  {
   "cell_type": "markdown",
   "metadata": {},
   "source": [
    "Ahora seleccionamos los hiperparámetros a evaluar mediante un GridSearchCV. Además, se ha añadido la librería *time* para saber el tiempo que tardo en realizar la busqueda de mejores parámetros.\n",
    "\n",
    "Estos hiperparámetros son:\n",
    "* ***max_depth***: máxima profundidad de cada árbol.\n",
    "* ***eta***: también llamado *learning_rate*,es un factor de escala que regula cuánto se actualizan los pesos en cada paso de boosting.\n",
    "* ***n_estimators***: número de árboles.\n",
    "* ***subsample***: proporción usada para entrenar cada árbol.\n",
    "* ***colsample_bytree***: fracción de columnas utilizadas para construir cada árbol."
   ]
  },
  {
   "cell_type": "markdown",
   "metadata": {},
   "source": [
    "Cabe mencionar que, para evitar tiempos de ejecución excesivos, se fueron iterando los parámetros focalizándose progresivamente en las combinaciones más prometedoras."
   ]
  },
  {
   "cell_type": "markdown",
   "metadata": {},
   "source": [
    "Primero se probó con:"
   ]
  },
  {
   "cell_type": "raw",
   "metadata": {
    "vscode": {
     "languageId": "raw"
    }
   },
   "source": [
    "param_grid = {\n",
    "    'max_depth': [5],\n",
    "    'eta': [0.06, 0.07, 0.08, 0.09, 0.1],\n",
    "    'n_estimators': [500, 600, 700],\n",
    "    'subsample': [0.9],\n",
    "    'colsample_bytree': [0.9],\n",
    "}"
   ]
  },
  {
   "cell_type": "markdown",
   "metadata": {},
   "source": [
    "Y el resultado obtenido para el caso mejor fue:"
   ]
  },
  {
   "cell_type": "raw",
   "metadata": {
    "vscode": {
     "languageId": "raw"
    }
   },
   "source": [
    "Mejores parámetros:  {'colsample_bytree': 0.9, 'eta': 0.08, 'max_depth': 5, 'n_estimators': 700, 'subsample': 0.9}\n",
    "Mejor score:  0.6160763145036465"
   ]
  },
  {
   "cell_type": "markdown",
   "metadata": {},
   "source": [
    "Y finalmente se probó con:"
   ]
  },
  {
   "cell_type": "raw",
   "metadata": {
    "vscode": {
     "languageId": "raw"
    }
   },
   "source": [
    "param_grid = {\n",
    "    'max_depth': [5, 8],\n",
    "    'eta': [ 0.08, 0.09, 0.1],\n",
    "    'n_estimators': [500, 600, 700, 900],\n",
    "    'subsample': [0.9, 1.0],\n",
    "    'colsample_bytree': [0.9, 1.0],\n",
    "}"
   ]
  },
  {
   "cell_type": "markdown",
   "metadata": {},
   "source": [
    "Y el resultado obtenido para el caso mejor fue:"
   ]
  },
  {
   "cell_type": "raw",
   "metadata": {
    "vscode": {
     "languageId": "raw"
    }
   },
   "source": [
    "Mejores parámetros:  {'colsample_bytree': 1.0, 'eta': 0.1, 'max_depth': 8, 'n_estimators': 500, 'subsample': 0.9}\n",
    "Mejor score:  0.627567181916202"
   ]
  },
  {
   "cell_type": "markdown",
   "metadata": {},
   "source": [
    "El codigo correspondiente a la última ejecución es el siguiente:"
   ]
  },
  {
   "cell_type": "raw",
   "metadata": {
    "vscode": {
     "languageId": "raw"
    }
   },
   "source": [
    "optm_XG = XGBClassifier(\n",
    "    objective='binary:logistic',\n",
    "    eval_metric='auc',\n",
    "    random_state=seed\n",
    ")\n",
    "\n",
    "param_grid = {\n",
    "    'max_depth': [5, 8],\n",
    "    'eta': [ 0.08, 0.09, 0.1],\n",
    "    'n_estimators': [500, 600, 700, 900],\n",
    "    'subsample': [0.9, 1.0],\n",
    "    'colsample_bytree': [0.9, 1.0],\n",
    "}\n",
    "\n",
    "\n",
    "grid_search = GridSearchCV(optm_XG, param_grid=param_grid, scoring=make_scorer(f1_score, average='weighted'), cv=3, n_jobs=-1)\n",
    "\n",
    "inicio = time.time()\n",
    "grid_search.fit(X_model, y_model)\n",
    "fin = time.time()"
   ]
  },
  {
   "cell_type": "markdown",
   "metadata": {},
   "source": [
    "Se calcula el tiempo que ha tardado en minutos."
   ]
  },
  {
   "cell_type": "raw",
   "metadata": {
    "vscode": {
     "languageId": "raw"
    }
   },
   "source": [
    "tiempo_total = (fin - inicio) / 60\n",
    "print(f\"La celda tardó {tiempo_total} minutos en ejecutarse.\")"
   ]
  },
  {
   "cell_type": "markdown",
   "metadata": {},
   "source": [
    "Se escoge el mejor parámetro y su  precisión asociada."
   ]
  },
  {
   "cell_type": "raw",
   "metadata": {
    "vscode": {
     "languageId": "raw"
    }
   },
   "source": [
    "print(\"Mejores parámetros: \", grid_search.best_params_)\n",
    "print(\"Mejor score: \", grid_search.best_score_)"
   ]
  },
  {
   "cell_type": "markdown",
   "metadata": {},
   "source": [
    "Observamos los mejores 10 casos para analizar varias posibilidades."
   ]
  },
  {
   "cell_type": "raw",
   "metadata": {
    "vscode": {
     "languageId": "raw"
    }
   },
   "source": [
    "results_df = pd.DataFrame(grid_search.cv_results_)"
   ]
  },
  {
   "cell_type": "raw",
   "metadata": {
    "vscode": {
     "languageId": "raw"
    }
   },
   "source": [
    "top_10_models = results_df.nlargest(10, \"mean_test_score\")\n",
    "\n",
    "print(\"\\nLos 10 mejores modelos:\")\n",
    "for index, row in top_10_models.iterrows():\n",
    "    print(\"\\nModelo:\")\n",
    "    print(f\"Parámetros: {row['params']}\")\n",
    "    print(f\"Puntuación media de prueba: {row['mean_test_score']}\")"
   ]
  },
  {
   "cell_type": "markdown",
   "metadata": {},
   "source": [
    "### 7.4.7 Entrenamiento y evaluacion con hiperparametros optimizados"
   ]
  },
  {
   "cell_type": "markdown",
   "metadata": {},
   "source": [
    "#### - Definicion"
   ]
  },
  {
   "cell_type": "markdown",
   "metadata": {},
   "source": [
    "Definimos los mejores parámetros (no se define con *grid_search.best_params_* para probar varias opciones de forma sencilla)."
   ]
  },
  {
   "cell_type": "code",
   "execution_count": 1033,
   "metadata": {},
   "outputs": [],
   "source": [
    "params_final_XG = {\n",
    "    'objective': 'binary:logistic',\n",
    "    'eval_metric': 'auc',\n",
    "    'max_depth': 8,\n",
    "    'eta': 0.1,\n",
    "    'n_estimators': 500,\n",
    "    'subsample': 0.9,\n",
    "    'colsample_bytree': 1.0,\n",
    "    'random_state': seed\n",
    "}"
   ]
  },
  {
   "cell_type": "markdown",
   "metadata": {},
   "source": [
    "Definimos el modelo desagregando el diccionario."
   ]
  },
  {
   "cell_type": "code",
   "execution_count": 1034,
   "metadata": {},
   "outputs": [],
   "source": [
    "final_XG = XGBClassifier(**params_final_XG)"
   ]
  },
  {
   "cell_type": "markdown",
   "metadata": {},
   "source": [
    "#### - Entrenamiento y evaluacion"
   ]
  },
  {
   "cell_type": "markdown",
   "metadata": {},
   "source": [
    "Entrenamos el modelo y comprobamos su exactitud."
   ]
  },
  {
   "cell_type": "code",
   "execution_count": 1035,
   "metadata": {},
   "outputs": [],
   "source": [
    "final_XG.fit(X_model, y_model)\n",
    "\n",
    "predicted_XG_opt = final_XG.predict(X_model_test)"
   ]
  },
  {
   "cell_type": "code",
   "execution_count": 1036,
   "metadata": {},
   "outputs": [
    {
     "data": {
      "text/plain": [
       "0.6005586592178771"
      ]
     },
     "execution_count": 1036,
     "metadata": {},
     "output_type": "execute_result"
    }
   ],
   "source": [
    "accuracy_score(expected, predicted_XG_opt)"
   ]
  },
  {
   "cell_type": "markdown",
   "metadata": {},
   "source": [
    "#### - Null accuracy"
   ]
  },
  {
   "cell_type": "markdown",
   "metadata": {},
   "source": [
    "La accuracy es similar a la anterior. Además, sigue siendo peor que la *null accuracy*."
   ]
  },
  {
   "cell_type": "markdown",
   "metadata": {},
   "source": [
    "#### - Matriz de confusion y F-score"
   ]
  },
  {
   "cell_type": "markdown",
   "metadata": {},
   "source": [
    "La matriz de confusión y el informe de clasificación también es muy similar."
   ]
  },
  {
   "cell_type": "code",
   "execution_count": 1037,
   "metadata": {},
   "outputs": [
    {
     "name": "stdout",
     "output_type": "stream",
     "text": [
      "[[284 327]\n",
      " [388 791]]\n"
     ]
    }
   ],
   "source": [
    "print(confusion_matrix(expected, predicted_XG_opt))"
   ]
  },
  {
   "cell_type": "code",
   "execution_count": 1038,
   "metadata": {},
   "outputs": [
    {
     "name": "stdout",
     "output_type": "stream",
     "text": [
      "              precision    recall  f1-score   support\n",
      "\n",
      "           0       0.42      0.46      0.44       611\n",
      "           1       0.71      0.67      0.69      1179\n",
      "\n",
      "    accuracy                           0.60      1790\n",
      "   macro avg       0.57      0.57      0.57      1790\n",
      "weighted avg       0.61      0.60      0.60      1790\n",
      "\n"
     ]
    }
   ],
   "source": [
    "print(classification_report(expected, predicted_XG_opt))"
   ]
  },
  {
   "cell_type": "markdown",
   "metadata": {},
   "source": [
    "#### - ROC y AUC"
   ]
  },
  {
   "cell_type": "markdown",
   "metadata": {},
   "source": [
    "Se calcula el ROC y se reajusta el umbral de probabilidad."
   ]
  },
  {
   "cell_type": "code",
   "execution_count": 1039,
   "metadata": {},
   "outputs": [
    {
     "data": {
      "image/png": "[encoded data removed]",
      "text/plain": [
       "<Figure size 640x480 with 1 Axes>"
      ]
     },
     "metadata": {},
     "output_type": "display_data"
    }
   ],
   "source": [
    "y_pred_prob_XG = final_XG.predict_proba(X_model_test)[:,1]\n",
    "fpr, tpr, thresholds = roc_curve(y_test, y_pred_prob_XG)\n",
    "plt.plot(fpr, tpr)\n",
    "plt.xlim([0.0, 1.0])\n",
    "plt.ylim([0.0, 1.0])\n",
    "plt.title('Curva ROC')\n",
    "plt.xlabel('Ratio de FP (1 - Recall)')\n",
    "plt.ylabel('Ratio TP (Sensitivity)')\n",
    "plt.grid(True)\n",
    "plt.show()"
   ]
  },
  {
   "cell_type": "code",
   "execution_count": 1040,
   "metadata": {},
   "outputs": [
    {
     "data": {
      "text/plain": [
       "array([       inf, 0.9975526 , 0.9943    , 0.9942226 , 0.9927562 ,\n",
       "       0.9926877 , 0.99231404, 0.99190736, 0.9875909 , 0.987583  ,\n",
       "       0.98662347, 0.9859307 , 0.9843465 , 0.9823392 , 0.98149246,\n",
       "       0.9809145 , 0.98008853, 0.97993314, 0.9791701 , 0.978782  ,\n",
       "       0.97823596, 0.97789997, 0.9776162 , 0.9773004 , 0.9771523 ,\n",
       "       0.9770508 , 0.9769782 , 0.9765181 , 0.97637445, 0.9758588 ,\n",
       "       0.97177446, 0.971494  , 0.96946365, 0.96907693, 0.96899366,\n",
       "       0.9682776 , 0.96766526, 0.9659308 , 0.96587247, 0.96560705,\n",
       "       0.9652345 , 0.965084  , 0.9618814 , 0.9616283 , 0.9614328 ,\n",
       "       0.9611606 , 0.9584756 , 0.95843047, 0.95653826, 0.95647836,\n",
       "       0.9537155 , 0.95360297, 0.95143896, 0.95111424, 0.9492723 ,\n",
       "       0.94882184, 0.9480091 , 0.94779336, 0.9469555 , 0.9465259 ,\n",
       "       0.9428353 , 0.9427196 , 0.9422145 , 0.9411166 , 0.93895257,\n",
       "       0.9387813 , 0.93403244, 0.93283796, 0.9302219 , 0.92973864,\n",
       "       0.92864835, 0.92845225, 0.9267783 , 0.9264542 , 0.92470914,\n",
       "       0.9246239 , 0.9242909 , 0.9236965 , 0.9232425 , 0.922414  ,\n",
       "       0.9213929 , 0.9210338 , 0.9208822 , 0.9205849 , 0.9197102 ,\n",
       "       0.9195964 , 0.9188212 , 0.91857177, 0.91798687, 0.9173115 ,\n",
       "       0.91594297, 0.9158689 , 0.9145313 , 0.9126283 , 0.9099115 ,\n",
       "       0.90942854, 0.90828353, 0.90808415, 0.9077976 , 0.9074954 ,\n",
       "       0.90694195, 0.90686095, 0.90681547, 0.90676165, 0.90526587,\n",
       "       0.90514034, 0.90459484, 0.90428406, 0.9003155 , 0.89956707,\n",
       "       0.8969334 , 0.89651114, 0.89648926, 0.89568084, 0.89470094,\n",
       "       0.89438367, 0.8928695 , 0.8927302 , 0.89178437, 0.8912578 ,\n",
       "       0.8887048 , 0.88804686, 0.8851033 , 0.8845238 , 0.884383  ,\n",
       "       0.88428473, 0.8837777 , 0.8827744 , 0.88215   , 0.8812636 ,\n",
       "       0.88014984, 0.879446  , 0.87786937, 0.8776843 , 0.8764265 ,\n",
       "       0.8756638 , 0.8743551 , 0.8742731 , 0.8737611 , 0.8733805 ,\n",
       "       0.8718504 , 0.87182957, 0.87151325, 0.871235  , 0.8701952 ,\n",
       "       0.87001   , 0.86825746, 0.8676864 , 0.86692965, 0.86641085,\n",
       "       0.8646241 , 0.863886  , 0.86354446, 0.86285204, 0.8622095 ,\n",
       "       0.86217743, 0.86043304, 0.8577549 , 0.8569933 , 0.85600764,\n",
       "       0.8552611 , 0.8546883 , 0.85079277, 0.85009634, 0.8477582 ,\n",
       "       0.8475371 , 0.8468405 , 0.846201  , 0.84513724, 0.8449128 ,\n",
       "       0.84298974, 0.84258497, 0.8410981 , 0.84038305, 0.837258  ,\n",
       "       0.836839  , 0.8366934 , 0.83628345, 0.83448595, 0.8343657 ,\n",
       "       0.8335155 , 0.8326372 , 0.83101755, 0.8307181 , 0.8297757 ,\n",
       "       0.82945305, 0.829324  , 0.8289954 , 0.8287041 , 0.8269361 ,\n",
       "       0.82593966, 0.82538813, 0.821369  , 0.8207337 , 0.8201122 ,\n",
       "       0.8197117 , 0.818689  , 0.81807643, 0.81771255, 0.8154324 ,\n",
       "       0.8151229 , 0.81434274, 0.81379634, 0.812203  , 0.810776  ,\n",
       "       0.81000096, 0.8092868 , 0.8092664 , 0.80888474, 0.80818236,\n",
       "       0.8074368 , 0.8073525 , 0.80339456, 0.8032176 , 0.80278206,\n",
       "       0.80225605, 0.80140686, 0.80109555, 0.8001914 , 0.79868984,\n",
       "       0.7961929 , 0.79572177, 0.79357237, 0.7926988 , 0.79196864,\n",
       "       0.79053515, 0.78814626, 0.7880001 , 0.7879896 , 0.7871529 ,\n",
       "       0.785089  , 0.78352624, 0.77757424, 0.77656025, 0.77637386,\n",
       "       0.7756062 , 0.7726467 , 0.77246815, 0.7721872 , 0.7721167 ,\n",
       "       0.7716528 , 0.7714017 , 0.76713717, 0.76695865, 0.7667282 ,\n",
       "       0.7660392 , 0.7634738 , 0.7627795 , 0.76224977, 0.7615443 ,\n",
       "       0.76084334, 0.7608325 , 0.75817734, 0.7577836 , 0.75761944,\n",
       "       0.75570333, 0.7497495 , 0.74928176, 0.7492331 , 0.74804664,\n",
       "       0.74629486, 0.7451051 , 0.7404468 , 0.74018645, 0.74005497,\n",
       "       0.739948  , 0.7345389 , 0.73449326, 0.734274  , 0.7339466 ,\n",
       "       0.73324394, 0.73269814, 0.73268706, 0.7310279 , 0.7280072 ,\n",
       "       0.7260478 , 0.72582555, 0.723929  , 0.7229337 , 0.72274965,\n",
       "       0.72067356, 0.7201616 , 0.7197219 , 0.7196899 , 0.717854  ,\n",
       "       0.7178366 , 0.7176474 , 0.7176193 , 0.7173054 , 0.71712804,\n",
       "       0.71691346, 0.7168639 , 0.7166378 , 0.715994  , 0.71560425,\n",
       "       0.7148433 , 0.7141197 , 0.71254456, 0.70970494, 0.70833874,\n",
       "       0.7063046 , 0.7030211 , 0.702077  , 0.70129764, 0.69906694,\n",
       "       0.69852066, 0.6980998 , 0.697914  , 0.6971899 , 0.69560474,\n",
       "       0.6945719 , 0.6929885 , 0.6902694 , 0.69000244, 0.6876584 ,\n",
       "       0.6873426 , 0.68686986, 0.68656826, 0.68557477, 0.6850399 ,\n",
       "       0.6845601 , 0.68379164, 0.68356687, 0.6832631 , 0.6821811 ,\n",
       "       0.67901844, 0.6785996 , 0.67817   , 0.67806995, 0.6773265 ,\n",
       "       0.67595345, 0.6738066 , 0.6703865 , 0.6696906 , 0.66863   ,\n",
       "       0.6668197 , 0.6666028 , 0.6655623 , 0.6654688 , 0.66517246,\n",
       "       0.6636581 , 0.66324705, 0.6629684 , 0.66272366, 0.6611795 ,\n",
       "       0.6606765 , 0.6606628 , 0.6605925 , 0.66003084, 0.65951174,\n",
       "       0.65891266, 0.65854985, 0.65364033, 0.65339386, 0.6531549 ,\n",
       "       0.6521436 , 0.6487988 , 0.6479953 , 0.6419524 , 0.64151347,\n",
       "       0.6412172 , 0.638575  , 0.638499  , 0.63763267, 0.637576  ,\n",
       "       0.6367693 , 0.6347389 , 0.63435596, 0.632397  , 0.6321964 ,\n",
       "       0.62861556, 0.6283249 , 0.6280569 , 0.62746406, 0.62744504,\n",
       "       0.62697214, 0.6261727 , 0.62481004, 0.6216193 , 0.6210835 ,\n",
       "       0.6206979 , 0.62006414, 0.61648875, 0.6162213 , 0.616026  ,\n",
       "       0.6159584 , 0.61112285, 0.61110175, 0.6075611 , 0.6074473 ,\n",
       "       0.60727644, 0.6071255 , 0.6062933 , 0.60556847, 0.60491025,\n",
       "       0.6018036 , 0.59754646, 0.5953913 , 0.5934512 , 0.5932247 ,\n",
       "       0.59130955, 0.5908929 , 0.5908893 , 0.5901309 , 0.58891875,\n",
       "       0.5885162 , 0.58579254, 0.58577126, 0.5848032 , 0.5842418 ,\n",
       "       0.5829111 , 0.58197504, 0.58131546, 0.5810555 , 0.5791983 ,\n",
       "       0.5753287 , 0.56977683, 0.56934893, 0.5685245 , 0.567654  ,\n",
       "       0.5673795 , 0.5644551 , 0.56173664, 0.5614969 , 0.56042796,\n",
       "       0.5595397 , 0.55528617, 0.5548466 , 0.5546382 , 0.5541006 ,\n",
       "       0.5526974 , 0.55170834, 0.5512497 , 0.5508271 , 0.5477974 ,\n",
       "       0.547015  , 0.5469134 , 0.5459438 , 0.5422061 , 0.5419395 ,\n",
       "       0.541552  , 0.5413289 , 0.53997165, 0.5388151 , 0.53837186,\n",
       "       0.5377509 , 0.53630215, 0.53595406, 0.53500456, 0.5337229 ,\n",
       "       0.5331427 , 0.5324103 , 0.53038424, 0.52811515, 0.5277178 ,\n",
       "       0.52592415, 0.5258856 , 0.5254651 , 0.5234538 , 0.5224996 ,\n",
       "       0.5214    , 0.5198562 , 0.51810914, 0.5178914 , 0.51750964,\n",
       "       0.5172977 , 0.51719576, 0.51604927, 0.5160481 , 0.5141075 ,\n",
       "       0.51218235, 0.510737  , 0.5099277 , 0.5092766 , 0.5087587 ,\n",
       "       0.5065031 , 0.50521845, 0.5043759 , 0.5003129 , 0.49997604,\n",
       "       0.49660772, 0.49589404, 0.4957164 , 0.49334398, 0.492046  ,\n",
       "       0.49152583, 0.48996052, 0.48978034, 0.48804617, 0.4879416 ,\n",
       "       0.48447993, 0.4829514 , 0.48202002, 0.48190928, 0.48035425,\n",
       "       0.4801796 , 0.4799269 , 0.47949928, 0.4788179 , 0.47739205,\n",
       "       0.47382888, 0.47075287, 0.46867323, 0.46859297, 0.46236038,\n",
       "       0.46228975, 0.4622017 , 0.46187016, 0.46143785, 0.4613793 ,\n",
       "       0.46126664, 0.461115  , 0.45960638, 0.45832136, 0.4573184 ,\n",
       "       0.4566794 , 0.45485505, 0.45463377, 0.45463097, 0.45395324,\n",
       "       0.45390955, 0.45147774, 0.45073614, 0.45055133, 0.44975838,\n",
       "       0.4487676 , 0.4436233 , 0.4411581 , 0.44005355, 0.43915302,\n",
       "       0.43751544, 0.43578777, 0.4354198 , 0.43527615, 0.4327328 ,\n",
       "       0.43094605, 0.42748713, 0.42703268, 0.42512685, 0.42478043,\n",
       "       0.42379344, 0.42039183, 0.42036003, 0.41949022, 0.4193669 ,\n",
       "       0.4185351 , 0.4183591 , 0.41674292, 0.41477752, 0.41383487,\n",
       "       0.41084722, 0.40962872, 0.40491346, 0.40401947, 0.4032093 ,\n",
       "       0.40107045, 0.40038428, 0.39963397, 0.3952931 , 0.39495838,\n",
       "       0.39350045, 0.39167827, 0.38773063, 0.3852448 , 0.38452145,\n",
       "       0.38431787, 0.3820689 , 0.3806744 , 0.37836146, 0.37614122,\n",
       "       0.3747603 , 0.37401745, 0.37304157, 0.37001836, 0.36423615,\n",
       "       0.3638183 , 0.3604597 , 0.3603064 , 0.35803193, 0.35792053,\n",
       "       0.35638127, 0.3554541 , 0.355152  , 0.35472596, 0.35039195,\n",
       "       0.34967068, 0.34594822, 0.3451639 , 0.3443963 , 0.3417286 ,\n",
       "       0.3375757 , 0.33599648, 0.33550695, 0.3354153 , 0.3348604 ,\n",
       "       0.33347195, 0.33286595, 0.33209562, 0.33163714, 0.32989022,\n",
       "       0.32959646, 0.32695007, 0.3268752 , 0.32447872, 0.32410607,\n",
       "       0.32407215, 0.324049  , 0.3233664 , 0.32291737, 0.3225632 ,\n",
       "       0.32247797, 0.32123032, 0.32078794, 0.31876495, 0.31817916,\n",
       "       0.31816834, 0.31769168, 0.31735936, 0.3166716 , 0.3159268 ,\n",
       "       0.3125676 , 0.31201798, 0.3093469 , 0.30882657, 0.30744648,\n",
       "       0.30672523, 0.30267996, 0.30071962, 0.29827154, 0.29523635,\n",
       "       0.29481044, 0.2937059 , 0.29259408, 0.29256263, 0.29242122,\n",
       "       0.2919016 , 0.28911972, 0.28716508, 0.28371695, 0.2828912 ,\n",
       "       0.27753082, 0.27612004, 0.27546966, 0.27474737, 0.26845995,\n",
       "       0.26782438, 0.26711428, 0.26529837, 0.26518282, 0.26444992,\n",
       "       0.2639904 , 0.2639745 , 0.2638313 , 0.26367393, 0.26212928,\n",
       "       0.2593488 , 0.25765806, 0.25605452, 0.25591332, 0.25562605,\n",
       "       0.25432396, 0.2510057 , 0.24642545, 0.24408193, 0.24390185,\n",
       "       0.24359818, 0.24296372, 0.2419983 , 0.23750898, 0.23616125,\n",
       "       0.23568219, 0.2348857 , 0.23252729, 0.23121862, 0.22640909,\n",
       "       0.22637285, 0.22451143, 0.22369325, 0.21861759, 0.21829332,\n",
       "       0.21772161, 0.21735263, 0.21240568, 0.21236071, 0.21109322,\n",
       "       0.21010834, 0.20721693, 0.20708628, 0.20668912, 0.20663449,\n",
       "       0.20647459, 0.20418549, 0.20408185, 0.20347886, 0.20282204,\n",
       "       0.20254418, 0.20099816, 0.20090301, 0.20001934, 0.1949968 ,\n",
       "       0.19298148, 0.19212814, 0.19104071, 0.19030724, 0.1894059 ,\n",
       "       0.18482539, 0.18276592, 0.18274236, 0.18248372, 0.18038483,\n",
       "       0.18011744, 0.17935719, 0.17838624, 0.1717869 , 0.17156322,\n",
       "       0.16866612, 0.16829236, 0.16732852, 0.16722275, 0.16106689,\n",
       "       0.1591786 , 0.15854304, 0.15780395, 0.1560429 , 0.15586637,\n",
       "       0.14980444, 0.14727145, 0.14619228, 0.14572892, 0.14544995,\n",
       "       0.14393017, 0.14378601, 0.14042939, 0.13769059, 0.13617115,\n",
       "       0.13457206, 0.13425677, 0.13303551, 0.13203864, 0.12793869,\n",
       "       0.12621318, 0.12539716, 0.12514561, 0.12455696, 0.12375575,\n",
       "       0.12135535, 0.12006423, 0.11879759, 0.11775188, 0.11522702,\n",
       "       0.11446729, 0.11374389, 0.11264783, 0.11239489, 0.1121112 ,\n",
       "       0.11203537, 0.11012647, 0.10986518, 0.107172  , 0.10205762,\n",
       "       0.09845874, 0.09770074, 0.09750336, 0.09414555, 0.09404893,\n",
       "       0.09168323, 0.09110184, 0.08949106, 0.08891346, 0.08845826,\n",
       "       0.08829395, 0.08365812, 0.08357675, 0.08258976, 0.08195806,\n",
       "       0.08059461, 0.07745869, 0.07526062, 0.0752421 , 0.07283414,\n",
       "       0.0707434 , 0.06976204, 0.06928395, 0.06762642, 0.06266388,\n",
       "       0.06192102, 0.06012801, 0.05973355, 0.05954492, 0.05846655,\n",
       "       0.05167362, 0.05061509, 0.04575218, 0.04509591, 0.04288278,\n",
       "       0.04207164, 0.03986584, 0.03863775, 0.03665659, 0.03435418,\n",
       "       0.03409071, 0.02343531, 0.02314943, 0.02188734, 0.00946585,\n",
       "       0.00905259], dtype=float32)"
      ]
     },
     "execution_count": 1040,
     "metadata": {},
     "output_type": "execute_result"
    }
   ],
   "source": [
    "thresholds"
   ]
  },
  {
   "cell_type": "code",
   "execution_count": 1041,
   "metadata": {},
   "outputs": [
    {
     "data": {
      "text/plain": [
       "array([<Axes: title={'center': '0'}>, <Axes: title={'center': '1'}>],\n",
       "      dtype=object)"
      ]
     },
     "execution_count": 1041,
     "metadata": {},
     "output_type": "execute_result"
    },
    {
     "data": {
      "image/png": "[encoded data removed]",
      "text/plain": [
       "<Figure size 640x480 with 2 Axes>"
      ]
     },
     "metadata": {},
     "output_type": "display_data"
    }
   ],
   "source": [
    "dprob = pd.DataFrame(data = {'probability':y_pred_prob_XG, 'actual':y_test})\n",
    "dprob.probability.hist(by=dprob.actual, sharex=True, sharey=True)"
   ]
  },
  {
   "cell_type": "code",
   "execution_count": 1042,
   "metadata": {},
   "outputs": [
    {
     "name": "stdout",
     "output_type": "stream",
     "text": [
      "Sensitivity: 0.6709075487701441\n",
      "Recall: 0.4648117839607201\n"
     ]
    }
   ],
   "source": [
    "op_thres_XG = 0.5\n",
    "\n",
    "evaluate_threshold(op_thres_XG)"
   ]
  },
  {
   "cell_type": "code",
   "execution_count": 1043,
   "metadata": {},
   "outputs": [],
   "source": [
    "probs_XG_opt = final_XG.predict_proba(X_model_test)[:, 1]  \n",
    "pred_thres_XG_opt = (probs_XG_opt >= op_thres_XG).astype(int) "
   ]
  },
  {
   "cell_type": "code",
   "execution_count": 1044,
   "metadata": {},
   "outputs": [
    {
     "name": "stdout",
     "output_type": "stream",
     "text": [
      "[[284 327]\n",
      " [388 791]]\n"
     ]
    }
   ],
   "source": [
    "print(confusion_matrix(expected, pred_thres_XG_opt))"
   ]
  },
  {
   "cell_type": "code",
   "execution_count": 1045,
   "metadata": {},
   "outputs": [
    {
     "name": "stdout",
     "output_type": "stream",
     "text": [
      "              precision    recall  f1-score   support\n",
      "\n",
      "           0       0.42      0.46      0.44       611\n",
      "           1       0.71      0.67      0.69      1179\n",
      "\n",
      "    accuracy                           0.60      1790\n",
      "   macro avg       0.57      0.57      0.57      1790\n",
      "weighted avg       0.61      0.60      0.60      1790\n",
      "\n"
     ]
    }
   ],
   "source": [
    "print(classification_report(expected, pred_thres_XG_opt))"
   ]
  },
  {
   "cell_type": "markdown",
   "metadata": {},
   "source": [
    "Se obtienen los mismos resultados porque sigue siendo el mejor caso con umbral igual a 0,5."
   ]
  },
  {
   "cell_type": "markdown",
   "metadata": {},
   "source": [
    "Se calcula la AUC score."
   ]
  },
  {
   "cell_type": "code",
   "execution_count": 1046,
   "metadata": {},
   "outputs": [
    {
     "name": "stdout",
     "output_type": "stream",
     "text": [
      "0.5678596663654321\n"
     ]
    }
   ],
   "source": [
    "print(roc_auc_score(expected, predicted_XG_opt))"
   ]
  },
  {
   "cell_type": "markdown",
   "metadata": {},
   "source": [
    "También ha tenido una pequeña mejora, pero sigue en el mismo intervalo. Es decir, sigue siendo un modelo *F*."
   ]
  },
  {
   "cell_type": "markdown",
   "metadata": {},
   "source": [
    "### 7.4.8 Conclusiones del modelo"
   ]
  },
  {
   "cell_type": "markdown",
   "metadata": {},
   "source": [
    "Tal y como esta el modelo no se estan obteniendo buenos resultados debido a la escasez de entradas y la gran cantidad de dimensiones que presenta el dataset. Estamos obteniendo prácticamente los mismos resultados que si decidieramos clasificar al azar.\n",
    "\n",
    "Aun así cabe resaltar que puede llegar a funcionar mejor que el Random Forest debido a que predice mejor los 0s. Además existe un mayor margen de trabajo a la hora de modificar el umbral de probabilidad."
   ]
  },
  {
   "cell_type": "markdown",
   "metadata": {},
   "source": [
    "# 8. Exportar CSV"
   ]
  },
  {
   "cell_type": "markdown",
   "metadata": {},
   "source": [
    "## 8.1 Asignacion de las variables"
   ]
  },
  {
   "cell_type": "markdown",
   "metadata": {},
   "source": [
    "Asignamos las variables para el analisis en función del desarrollo del apartado del preprocesado."
   ]
  },
  {
   "cell_type": "code",
   "execution_count": 1047,
   "metadata": {},
   "outputs": [],
   "source": [
    "X_kaggle = X_res_final\n",
    "y_kaggle = y_res_final\n",
    "\n",
    "X_kaggle_test = X_scaled_te_final"
   ]
  },
  {
   "cell_type": "markdown",
   "metadata": {},
   "source": [
    "## 8.2 Clasificador Random Forest"
   ]
  },
  {
   "cell_type": "markdown",
   "metadata": {},
   "source": [
    "Se entrena con los nuevos valores de train y test, y se modifica el umbral de probabilidades. En un principio, el valor del umbral era el de la variable *op_thres_Random*, pero se decidió finalmente que el valor del umbral fueran valores numéricos para que fuera más sencillo hacer diversas pruebas en Kaggle."
   ]
  },
  {
   "cell_type": "code",
   "execution_count": 1048,
   "metadata": {},
   "outputs": [],
   "source": [
    "final_Forest.fit(X_kaggle, y_kaggle)\n",
    "\n",
    "probs_For_final = final_Forest.predict_proba(X_kaggle_test)[:, 1]  \n",
    "pred_thres_For_final = (probs_For_final >= 0.5).astype(int) "
   ]
  },
  {
   "cell_type": "markdown",
   "metadata": {},
   "source": [
    "Se crea un *dataframe* con las predicciones obtenidas con su correspondiente *id*."
   ]
  },
  {
   "cell_type": "code",
   "execution_count": 1049,
   "metadata": {},
   "outputs": [],
   "source": [
    "df_label_Random = pd.DataFrame(pred_thres_For_final, columns=['label'])"
   ]
  },
  {
   "cell_type": "code",
   "execution_count": 1050,
   "metadata": {},
   "outputs": [],
   "source": [
    "df_id = df_test['id'].reset_index(drop=True)"
   ]
  },
  {
   "cell_type": "code",
   "execution_count": 1051,
   "metadata": {},
   "outputs": [],
   "source": [
    "df_final_Random = pd.concat([df_id, df_label_Random], axis=1)"
   ]
  },
  {
   "cell_type": "markdown",
   "metadata": {},
   "source": [
    "Mostramos los resultados obtenidos para tener una idea de la proporción de 1s y 0s de Kaggle."
   ]
  },
  {
   "cell_type": "code",
   "execution_count": 1052,
   "metadata": {},
   "outputs": [
    {
     "data": {
      "text/plain": [
       "label\n",
       "1    2259\n",
       "0    1577\n",
       "Name: count, dtype: int64"
      ]
     },
     "execution_count": 1052,
     "metadata": {},
     "output_type": "execute_result"
    }
   ],
   "source": [
    "df_final_Random['label'].value_counts()"
   ]
  },
  {
   "cell_type": "markdown",
   "metadata": {},
   "source": [
    "Se transforma el *dataframe* a un archivo *CSV*."
   ]
  },
  {
   "cell_type": "code",
   "execution_count": 1053,
   "metadata": {},
   "outputs": [],
   "source": [
    "df_final_Random.to_csv('./submit/randomWord2vec.csv', index=False)"
   ]
  },
  {
   "cell_type": "markdown",
   "metadata": {},
   "source": [
    "## 8.3 Clasificador XGBoost"
   ]
  },
  {
   "cell_type": "code",
   "execution_count": 1054,
   "metadata": {},
   "outputs": [],
   "source": [
    "final_XG.fit(X_kaggle, y_kaggle)\n",
    "\n",
    "probs_XG_final = final_XG.predict_proba(X_kaggle_test)[:, 1]  \n",
    "pred_thres_XG_final = (probs_XG_final >= 0.5).astype(int) "
   ]
  },
  {
   "cell_type": "markdown",
   "metadata": {},
   "source": [
    "Se crea un *dataframe* con las predicciones obtenidas con su correspondiente *id*."
   ]
  },
  {
   "cell_type": "code",
   "execution_count": 1055,
   "metadata": {},
   "outputs": [],
   "source": [
    "df_label_XG = pd.DataFrame(pred_thres_XG_final, columns=['label'])"
   ]
  },
  {
   "cell_type": "code",
   "execution_count": 1056,
   "metadata": {},
   "outputs": [],
   "source": [
    "df_id = df_test['id'].reset_index(drop=True)"
   ]
  },
  {
   "cell_type": "code",
   "execution_count": 1057,
   "metadata": {},
   "outputs": [],
   "source": [
    "df_final_XG = pd.concat([df_id, df_label_XG], axis=1)"
   ]
  },
  {
   "cell_type": "markdown",
   "metadata": {},
   "source": [
    "Mostramos los resultados obtenidos para tener una idea de la proporción de 1s y 0s de Kaggle."
   ]
  },
  {
   "cell_type": "code",
   "execution_count": 1058,
   "metadata": {},
   "outputs": [
    {
     "data": {
      "text/plain": [
       "label\n",
       "1    2135\n",
       "0    1701\n",
       "Name: count, dtype: int64"
      ]
     },
     "execution_count": 1058,
     "metadata": {},
     "output_type": "execute_result"
    }
   ],
   "source": [
    "df_final_XG['label'].value_counts()"
   ]
  },
  {
   "cell_type": "markdown",
   "metadata": {},
   "source": [
    "Se transforma el *dataframe* a un archivo *CSV*."
   ]
  },
  {
   "cell_type": "code",
   "execution_count": 1059,
   "metadata": {},
   "outputs": [],
   "source": [
    "df_final_XG.to_csv('./submit/xgboostWord2vec.csv', index=False)"
   ]
  },
  {
   "cell_type": "markdown",
   "metadata": {},
   "source": [
    "# 9. Referencias"
   ]
  },
  {
   "cell_type": "markdown",
   "metadata": {},
   "source": [
    "* [ColumnTransformer. (s. f.). Scikit-learn.](https://scikit-learn.org/stable/modules/generated/sklearn.compose.ColumnTransformer.html)\n",
    "* [GridSearchCV. (s. f.). Scikit-learn.](https://scikit-learn.org/stable/modules/generated/sklearn.model_selection.GridSearchCV.html)\n",
    "* [RandomForestClassifier. (s. f.). Scikit-learn.](https://scikit-learn.org/stable/modules/generated/sklearn.ensemble.RandomForestClassifier.html)\n",
    "* [RandomUnderSampler — Version 0.13.0. (s. f.). Imbalance learn.](https://imbalanced-learn.org/stable/references/generated/imblearn.under_sampling.RandomUnderSampler.html)\n",
    "* [SMOTE — Version 0.13.0. (s. f.). Imbalanced learn.](https://imbalanced-learn.org/stable/references/generated/imblearn.over_sampling.SMOTE.html)\n",
    "* [StandardScaler. (s. f.). Scikit-learn.](https://scikit-learn.org/stable/modules/generated/sklearn.preprocessing.StandardScaler.html)\n",
    "* [train_test_split. (s. f.). Scikit-learn.](https://scikit-learn.org/stable/modules/generated/sklearn.model_selection.train_test_split.html)\n",
    "* [TfidfVectorizer. (s. f.). Scikit-learn.](https://scikit-learn.org/stable/modules/generated/sklearn.feature_extraction.text.TfidfVectorizer.html)\n",
    "* [TruncatedSVD. (s. f.). Scikit-learn.](https://scikit-learn.org/stable/modules/generated/sklearn.decomposition.TruncatedSVD.html)\n",
    "* [XGBoost Parameters — xgboost 3.0.0 documentation. (s. f.).](https://xgboost.readthedocs.io/en/release_3.0.0/parameter.html)"
   ]
  }
 ],
 "metadata": {
  "kernelspec": {
   "display_name": "base",
   "language": "python",
   "name": "python3"
  },
  "language_info": {
   "codemirror_mode": {
    "name": "ipython",
    "version": 3
   },
   "file_extension": ".py",
   "mimetype": "text/x-python",
   "name": "python",
   "nbconvert_exporter": "python",
   "pygments_lexer": "ipython3",
   "version": "3.12.7"
  }
 },
 "nbformat": 4,
 "nbformat_minor": 4
}
