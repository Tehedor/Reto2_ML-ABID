{
 "cells": [
  {
   "cell_type": "markdown",
   "metadata": {},
   "source": [
    "<header style=\"width:100%;position:relative\">\n",
    "  <div style=\"width:80%;float:right;\">\n",
    "    <h1>False Political Claim Detection</h1>\n",
    "    <h3>Entrenamiento y evaluación de los modelos</h3>\n",
    "    <h5>Grupo 2</h5>\n",
    "  </div>\n",
    "        <img style=\"width:15%;\" src=\"./images/logo.jpg\" alt=\"UPM\" />\n",
    "</header>"
   ]
  },
  {
   "cell_type": "markdown",
   "metadata": {},
   "source": [
    "# Índice"
   ]
  },
  {
   "cell_type": "markdown",
   "metadata": {},
   "source": [
    "1. [Importar librerias](#1.-Importar-librerias)\n",
    "2. [Variables globales y funciones auxiliares](#2.-Variables-globales-y-funciones-auxiliares)\n",
    "3. [Carga del dataframe](#3.-Carga-del-dataframe)\n",
    "4. [Selección de las características](#4.-Seleccion-de-las-caracteristicas)\n",
    "5. [Carga de los datos y división en entrenamiento y test](#5.-Carga-de-los-datos-y-division-en-entrenamiento-y-test)\n",
    "6. [Preprocesado](#6.-Preprocesado)\n",
    "    * 6.1 [Tratamiento de los textos](#6.1-Tratamiento-de-los-textos)\n",
    "    * 6.2 [Remuestreo](#6.2-Remuestreo)\n",
    "7. [Modelos seleccionados](#7.-Modelos-seleccionados)\n",
    "    * 7.1 [Introducción](#7.1-Introduccion)\n",
    "    * 7.2 [Asignacion de las variables](#7.2-Asignacion-de-las-variables)\n",
    "    * 7.3 [Clasificador Random Forest](#7.3-Clasificador-Random-Forest)\n",
    "    * 7.4 [Clasificador XGBoost](#7.4-Clasificador-XGBoost)\n",
    "8. [Exportar CSV](#8.-Exportar-CSV)\n",
    "    * 8.1 [Asignacion de las variables](#8.1-Asignacion-de-las-variables)\n",
    "    * 8.2 [Clasificador Random Forest](#8.2-Clasificador-Random-Forest)\n",
    "    * 8.3 [Clasificador XGBoost](#8.3-Clasificador-XGBoost)\n",
    "9. [Referencias](#9.-Referencias)"
   ]
  },
  {
   "cell_type": "markdown",
   "metadata": {},
   "source": [
    "# 1. Importar librerias"
   ]
  },
  {
   "cell_type": "code",
   "execution_count": 218,
   "metadata": {},
   "outputs": [
    {
     "name": "stdout",
     "output_type": "stream",
     "text": [
      "Todas las librerias fueron correctamente importadas.\n"
     ]
    },
    {
     "name": "stderr",
     "output_type": "stream",
     "text": [
      "[nltk_data] Downloading package punkt_tab to\n",
      "[nltk_data]     C:\\Users\\david\\AppData\\Roaming\\nltk_data...\n",
      "[nltk_data]   Package punkt_tab is already up-to-date!\n",
      "[nltk_data] Downloading package punkt to\n",
      "[nltk_data]     C:\\Users\\david\\AppData\\Roaming\\nltk_data...\n",
      "[nltk_data]   Package punkt is already up-to-date!\n"
     ]
    }
   ],
   "source": [
    "# General import and load data\n",
    "import pandas as pd\n",
    "import numpy as np\n",
    "\n",
    "# Resampling\n",
    "from imblearn.under_sampling import RandomUnderSampler\n",
    "from imblearn.over_sampling import SMOTE\n",
    "\n",
    "# Preprocessing\n",
    "from sklearn.compose import ColumnTransformer\n",
    "from sklearn.preprocessing import StandardScaler\n",
    "from sklearn.feature_extraction.text import TfidfVectorizer\n",
    "from sklearn.decomposition import TruncatedSVD\n",
    "from sklearn.decomposition import PCA\n",
    "\n",
    "# Splitting\n",
    "from sklearn.model_selection import train_test_split\n",
    "\n",
    "# Estimators\n",
    "from sklearn.ensemble import RandomForestClassifier\n",
    "from xgboost import XGBClassifier\n",
    "\n",
    "# Evaluation\n",
    "from sklearn.metrics import accuracy_score, confusion_matrix, classification_report\n",
    "from sklearn.metrics import make_scorer, f1_score, recall_score, roc_curve, roc_auc_score\n",
    "\n",
    "# Optimization\n",
    "from sklearn.model_selection import GridSearchCV, PredefinedSplit\n",
    "\n",
    "# Visualization\n",
    "import matplotlib.pyplot as plt\n",
    "\n",
    "# Time optimization\n",
    "import time\n",
    "# word2vec\n",
    "from gensim.models import Word2Vec\n",
    "import gensim\n",
    "import numpy as np\n",
    "from nltk.tokenize import word_tokenize\n",
    "import nltk\n",
    "from nltk.tokenize import word_tokenize\n",
    "import nltk\n",
    "from nltk.tokenize import word_tokenize\n",
    "nltk.download('punkt_tab')\n",
    "nltk.download('punkt') \n",
    "\n",
    "\n",
    "print(\"Todas las librerias fueron correctamente importadas.\")"
   ]
  },
  {
   "cell_type": "markdown",
   "metadata": {},
   "source": [
    "# 2. Variables globales y funciones auxiliares"
   ]
  },
  {
   "cell_type": "markdown",
   "metadata": {},
   "source": [
    "Se fija un seed para todo el documento para fijar la aleatoriedad y así obtener resultados replicables."
   ]
  },
  {
   "cell_type": "code",
   "execution_count": 219,
   "metadata": {},
   "outputs": [],
   "source": [
    "seed = 42"
   ]
  },
  {
   "cell_type": "markdown",
   "metadata": {},
   "source": [
    "Función utilizado para evaluar los distintos umbrales en la curva de ROC."
   ]
  },
  {
   "cell_type": "code",
   "execution_count": 220,
   "metadata": {},
   "outputs": [],
   "source": [
    "def evaluate_threshold(threshold):\n",
    "    print('Sensitivity:', tpr[thresholds > threshold][-1])\n",
    "    print('Recall:', 1 - fpr[thresholds > threshold][-1])"
   ]
  },
  {
   "cell_type": "markdown",
   "metadata": {},
   "source": [
    "# 3. Carga del dataframe"
   ]
  },
  {
   "cell_type": "markdown",
   "metadata": {},
   "source": [
    "Se cargan los datos de la ruta *formated/train_exportado.csv*, los cuales son los datos ya procesados por uno de nuestros compañeros."
   ]
  },
  {
   "cell_type": "code",
   "execution_count": 221,
   "metadata": {},
   "outputs": [
    {
     "name": "stdout",
     "output_type": "stream",
     "text": [
      "Datos cargados correctamente\n",
      "\n"
     ]
    }
   ],
   "source": [
    "url = \"formated/train_exportado.csv\"\n",
    "df = pd.read_csv(url)\n",
    "\n",
    "print(\"Datos cargados correctamente\\n\")"
   ]
  },
  {
   "cell_type": "markdown",
   "metadata": {},
   "source": [
    "También cargamos el test que debemos predecir para Kaggle de la ruta *formated/test_exportado.csv*."
   ]
  },
  {
   "cell_type": "code",
   "execution_count": 222,
   "metadata": {},
   "outputs": [
    {
     "name": "stdout",
     "output_type": "stream",
     "text": [
      "Test cargado correctamente\n",
      "\n"
     ]
    }
   ],
   "source": [
    "url = \"formated/test_exportado.csv\"\n",
    "df_test = pd.read_csv(url)\n",
    "\n",
    "print(\"Test cargado correctamente\\n\")"
   ]
  },
  {
   "cell_type": "markdown",
   "metadata": {},
   "source": [
    "# 4. Seleccion de las caracteristicas"
   ]
  },
  {
   "cell_type": "markdown",
   "metadata": {},
   "source": [
    "En el siguiente array se muestran todas las caracteristicas por si se decide realizar pruebas con otras *features*."
   ]
  },
  {
   "cell_type": "code",
   "execution_count": 223,
   "metadata": {},
   "outputs": [],
   "source": [
    "all_features = [\n",
    "    # Identificador\n",
    "    'id',\n",
    "\n",
    "    # Etiqueta objetivo\n",
    "    'label',\n",
    "\n",
    "    # Texto original y procesado\n",
    "    'statement', 'statement-raw', 'statement-lemmatize', \n",
    "\n",
    "    # Features derivados del texto\n",
    "    'statement-ner', 'feelings',\n",
    "\n",
    "    # One-hot encoded de los temas reagrupados del texto \n",
    "    'subject-ciencia_y_tecnologia', 'subject-economia_y_finanzas',\n",
    "    'subject-educacion', 'subject-medio_ambiente_y_energia', 'subject-otros',\n",
    "    'subject-politica_y_gobierno', 'subject-relaciones_internacionales',\n",
    "    'subject-salud_y_bienestar', 'subject-seguridad_y_justicia',\n",
    "    'subject-sociedad_y_cultura', 'subject-trabajo_y_empleo',\n",
    "\n",
    "    # Resto de las categoricas agrupadas\n",
    "    'speaker_grouped', 'speaker_job_grouped', 'state_info_grouped', 'party_group',\n",
    "\n",
    "    # Resto de las categoricas agrupadas y codificadas\n",
    "    'speaker_grouped_cod', 'speaker_job_grouped_cod',\n",
    "    'state_info_grouped_cod', 'party_group_cod',\n",
    "\n",
    "    # Variables generadas por LLM los null\n",
    "    'speaker_job-llm', 'speaker_job_cod-llm',\n",
    "    'state_info-llm', 'state_info_cod-llm',\n",
    "    'party_affiliation-llm', 'party_affiliation_cod-llm'\n",
    "]"
   ]
  },
  {
   "cell_type": "markdown",
   "metadata": {},
   "source": [
    "Se seleccionan todas las categorias menos: \n",
    "* ***id***: no aporta ningún valor.\n",
    "* ***label***: variable a predecir.\n",
    "* ***statement***: esta *feature* esta por si nos es necesario en algun momento futuro tener el texto sin procesar.\n",
    "* ***statement-lemmatize***: esta *feature* solo esta para probar en notebooks posteriores si clasifica mejor o peor con las raices de las palabras.\n",
    "* ***statement-ner***: esta *feature* esta para ver si el clasificador funciona mejor con el NER por separado.\n",
    "* ***speaker_grouped***, ***speaker_job_grouped***, ***state_info_grouped***, ***party_group***: suponemos que tenemos la misma información ya codificada.\n",
    "* ***speaker_job-llm***, ***speaker_job_cod-llm***, ***state_info-llm***, ***state_info_cod-llm***, ***party_affiliation-llm***, ***party_affiliation_cod-llm***: esta información ya esta en otras *features*, la diferencia esta en como se tratan los nulos asi que se analizará cual funciona mejor si con LLM o sin ellos durante el apartado de clasificación."
   ]
  },
  {
   "cell_type": "code",
   "execution_count": 224,
   "metadata": {},
   "outputs": [],
   "source": [
    "selected_features = [\n",
    "    # Texto\n",
    "    'statement-raw',\n",
    "        \n",
    "    # Features derivados del texto\n",
    "    'feelings',\n",
    "\n",
    "    # One-hot encoded de los temas reagrupados del texto \n",
    "    'subject-ciencia_y_tecnologia', 'subject-economia_y_finanzas',\n",
    "    'subject-educacion', 'subject-medio_ambiente_y_energia', 'subject-otros',\n",
    "    'subject-politica_y_gobierno', 'subject-relaciones_internacionales',\n",
    "    'subject-salud_y_bienestar', 'subject-seguridad_y_justicia',\n",
    "    'subject-sociedad_y_cultura', 'subject-trabajo_y_empleo',\n",
    "\n",
    "    # Resto de las categoricas agrupadas y codificadas\n",
    "    'speaker_grouped_cod', 'speaker_job_grouped_cod',\n",
    "    'state_info_grouped_cod', 'party_group_cod'\n",
    "]"
   ]
  },
  {
   "cell_type": "markdown",
   "metadata": {},
   "source": [
    "En caso de querer probar si funcionan mejor las de los LLM, se sustituirán por su simil. También si se quiere probar el texto lematizado se sustituira por el *raw*."
   ]
  },
  {
   "cell_type": "markdown",
   "metadata": {},
   "source": [
    "De las cuales texto es:"
   ]
  },
  {
   "cell_type": "code",
   "execution_count": 225,
   "metadata": {},
   "outputs": [],
   "source": [
    "text = 'statement-raw'"
   ]
  },
  {
   "cell_type": "markdown",
   "metadata": {},
   "source": [
    "Y las que no se corresponden con texto son:"
   ]
  },
  {
   "cell_type": "code",
   "execution_count": 226,
   "metadata": {},
   "outputs": [],
   "source": [
    "no_text = [\n",
    "    # Features derivados del texto\n",
    "    'feelings',\n",
    "\n",
    "    # One-hot encoded de los temas reagrupados del texto \n",
    "    'subject-ciencia_y_tecnologia', 'subject-economia_y_finanzas',\n",
    "    'subject-educacion', 'subject-medio_ambiente_y_energia', 'subject-otros',\n",
    "    'subject-politica_y_gobierno', 'subject-relaciones_internacionales',\n",
    "    'subject-salud_y_bienestar', 'subject-seguridad_y_justicia',\n",
    "    'subject-sociedad_y_cultura', 'subject-trabajo_y_empleo',\n",
    "\n",
    "    # Resto de las categoricas agrupadas y codificadas\n",
    "     'speaker_grouped_cod', 'speaker_job_grouped_cod',\n",
    "     'state_info_grouped_cod', 'party_group_cod'\n",
    "]"
   ]
  },
  {
   "cell_type": "markdown",
   "metadata": {},
   "source": [
    "Y de las cuales, numéricas son las siguientes:"
   ]
  },
  {
   "cell_type": "code",
   "execution_count": 227,
   "metadata": {},
   "outputs": [],
   "source": [
    "numeric_vars = [\n",
    "    'speaker_grouped_cod', 'speaker_job_grouped_cod',\n",
    "    'state_info_grouped_cod', 'party_group_cod'\n",
    "]"
   ]
  },
  {
   "cell_type": "markdown",
   "metadata": {},
   "source": [
    "# 5. Carga de los datos y division en entrenamiento y test"
   ]
  },
  {
   "cell_type": "markdown",
   "metadata": {},
   "source": [
    "Cargamos las caracteristicas seleccionadas en la variable X y el objetivo *Accept* en la variable y."
   ]
  },
  {
   "cell_type": "code",
   "execution_count": 228,
   "metadata": {},
   "outputs": [],
   "source": [
    "X = df[selected_features] \n",
    "y = df['label'].values"
   ]
  },
  {
   "cell_type": "markdown",
   "metadata": {},
   "source": [
    "Se separa ya en entrenamiento y test para no falsear los datos del test al realizar el balanceo."
   ]
  },
  {
   "cell_type": "code",
   "execution_count": 229,
   "metadata": {},
   "outputs": [],
   "source": [
    "X_train, X_test, y_train, y_test = train_test_split(X, y, test_size=0.2, random_state=seed)"
   ]
  },
  {
   "cell_type": "markdown",
   "metadata": {},
   "source": [
    "A la hora de subir el modelo a Kaggle, ya se nos da dividido el entrenamiento y el test. Por ello, se utilizarán todos los datos tratados como entrenamiento (aunque también se le aplicará el mejor caso de preprocesado para cada modelo)."
   ]
  },
  {
   "cell_type": "code",
   "execution_count": 230,
   "metadata": {},
   "outputs": [],
   "source": [
    "X_train_final = X\n",
    "y_train_final = y\n",
    "\n",
    "X_test_final = df_test[selected_features] "
   ]
  },
  {
   "cell_type": "markdown",
   "metadata": {},
   "source": [
    "# 6. Preprocesado"
   ]
  },
  {
   "cell_type": "markdown",
   "metadata": {},
   "source": [
    "Como se menciona en el notebook dedicado al preprocesamiento, primero se tratará el texto, después se reducirá su dimensionalidad con un *PCA*, se estandarizarán las variables codificadas mediante un *StandardScaler* y, finalmente, se realizará un remuestreo mediante *SMOTE* y *RandomUnderSampler*. \n",
    "\n",
    "En caso de querer probar el caso de preprocesamiento 6, será necesario eliminar el *StandardScaler* junto al *ColumnTransformer*."
   ]
  },
  {
   "cell_type": "markdown",
   "metadata": {},
   "source": [
    "## 6.1 Tratamiento de los textos"
   ]
  },
  {
   "cell_type": "markdown",
   "metadata": {},
   "source": [
    "### 6.1.1 Vectorización"
   ]
  },
  {
   "cell_type": "markdown",
   "metadata": {},
   "source": [
    "Primero tokenizamos el texto para Word2Vec"
   ]
  },
  {
   "cell_type": "code",
   "execution_count": 231,
   "metadata": {},
   "outputs": [],
   "source": [
    "\n",
    "# Tokeniza el texto \n",
    "#X_train_tokens = X_train[text].apply(lambda x: x.split())\n",
    "#X_test_tokens = X_test[text].apply(lambda x: x.split())\n",
    "\n",
    "X_train_tokens = X_train[text].apply(lambda x: word_tokenize(str(x)))\n",
    "X_test_tokens = X_test[text].apply(lambda x: word_tokenize(str(x)))\n"
   ]
  },
  {
   "cell_type": "markdown",
   "metadata": {},
   "source": [
    "A continuación se entrena un modelo Word2Vec utilizando los textos tokenizados del conjunto de entrenamiento. Posteriormente, se obtiene un vector representativo para cada texto calculando la media de los vectores de las palabras que aparecen en el vocabulario del modelo. Finalmente, se aplica este proceso tanto al conjunto de entrenamiento como al de test.\n"
   ]
  },
  {
   "cell_type": "code",
   "execution_count": 232,
   "metadata": {},
   "outputs": [],
   "source": [
    "w2v_model = Word2Vec(sentences=X_train_tokens, vector_size=30, window=5, min_count=2, workers=4, seed=42)\n",
    "\n",
    "\n",
    "# Palabras conocidas\n",
    "vocab = set(w2v_model.wv.index_to_key)\n",
    "\n",
    "def sentence_vector(tokens, model, size=30):\n",
    "    vectors = [model.wv[w] for w in tokens if w in vocab]\n",
    "    if len(vectors) == 0:\n",
    "        return np.zeros(size)\n",
    "    else:\n",
    "        return np.mean(vectors, axis=0)\n",
    "\n",
    "# Aplica a train y test\n",
    "X_txt_train = np.vstack(X_train_tokens.apply(lambda x: sentence_vector(x, w2v_model)))\n",
    "X_txt_test = np.vstack(X_test_tokens.apply(lambda x: sentence_vector(x, w2v_model)))"
   ]
  },
  {
   "cell_type": "markdown",
   "metadata": {},
   "source": [
    "Después para el dataset que se utilizará para subir a Kaggle."
   ]
  },
  {
   "cell_type": "code",
   "execution_count": 233,
   "metadata": {},
   "outputs": [],
   "source": [
    "# Tokeniza el texto \n",
    "#X_train_tokens_final = X_train_final[text].apply(lambda x: x.split())\n",
    "#X_test_tokens_final = X_test_final[text].apply(lambda x: x.split())\n",
    "\n",
    "X_train_tokens_final = X_train_final[text].apply(lambda x: word_tokenize(str(x)))\n",
    "X_test_tokens_final = X_test_final[text].apply(lambda x: word_tokenize(str(x)))"
   ]
  },
  {
   "cell_type": "code",
   "execution_count": 234,
   "metadata": {},
   "outputs": [],
   "source": [
    "w2v_model_final = Word2Vec(sentences=X_train_tokens_final, vector_size=30, window=5, min_count=2, workers=4, seed=42)\n",
    "\n",
    "\n",
    "# Palabras conocidas\n",
    "vocab_final = set(w2v_model_final.wv.index_to_key)\n",
    "\n",
    "def sentence_vector(tokens, model, size=30):\n",
    "    vectors = [model.wv[w] for w in tokens if w in vocab_final]\n",
    "    if len(vectors) == 0:\n",
    "        return np.zeros(size)\n",
    "    else:\n",
    "        return np.mean(vectors, axis=0)\n",
    "\n",
    "# Aplica a train y test\n",
    "X_txt_tr_final = np.vstack(X_train_tokens_final.apply(lambda x: sentence_vector(x, w2v_model_final)))\n",
    "X_txt_te_final = np.vstack(X_test_tokens_final.apply(lambda x: sentence_vector(x, w2v_model_final)))"
   ]
  },
  {
   "cell_type": "markdown",
   "metadata": {},
   "source": [
    "Después de analizar la varianza explicada mediante PCA (6.1.3), se observó que un número reducido de componentes era suficiente para conservar el 95% de la varianza. Por tanto, se consideró razonable reducir también la dimensionalidad inicial de los vectores Word2Vec a 30, con el objetivo de eliminar redundancias y reducir la complejidad del modelo, minimizando así el riesgo de sobreajuste sin una pérdida significativa de información."
   ]
  },
  {
   "cell_type": "markdown",
   "metadata": {},
   "source": [
    "## 6.1.2 Unificación de características"
   ]
  },
  {
   "cell_type": "code",
   "execution_count": 235,
   "metadata": {},
   "outputs": [],
   "source": [
    "# Train\n",
    "X_svd_train = pd.DataFrame(X_txt_train, columns=[f\"svd_{i}\" for i in range(X_txt_train.shape[1])])\n",
    "X_rest_train = X_train[no_text].reset_index(drop=True)\n",
    "\n",
    "# Test\n",
    "X_svd_test = pd.DataFrame(X_txt_test, columns=[f\"svd_{i}\" for i in range(X_txt_test.shape[1])])\n",
    "X_rest_test = X_test[no_text].reset_index(drop=True)\n",
    "\n",
    "# Text + Resto de features\n",
    "X_total_train = pd.concat([X_svd_train, X_rest_train], axis=1)\n",
    "X_total_test = pd.concat([X_svd_test, X_rest_test], axis=1)"
   ]
  },
  {
   "cell_type": "markdown",
   "metadata": {},
   "source": [
    "Ahora kaggle"
   ]
  },
  {
   "cell_type": "code",
   "execution_count": 236,
   "metadata": {},
   "outputs": [],
   "source": [
    "# Train\n",
    "X_svd_tr_final = pd.DataFrame(X_txt_tr_final, columns=[f\"svd_{i}\" for i in range(X_txt_tr_final.shape[1])])\n",
    "X_rest_tr_final = X_train_final[no_text].reset_index(drop=True)\n",
    "\n",
    "# Test\n",
    "X_svd_te_final = pd.DataFrame(X_txt_te_final, columns=[f\"svd_{i}\" for i in range(X_txt_te_final.shape[1])])\n",
    "X_rest_te_final = X_test_final[no_text].reset_index(drop=True)\n",
    "\n",
    "# Text + Resto de features\n",
    "X_tot_tr_final = pd.concat([X_svd_tr_final, X_rest_tr_final], axis=1)\n",
    "X_tot_te_final = pd.concat([X_svd_te_final, X_rest_te_final], axis=1)"
   ]
  },
  {
   "cell_type": "markdown",
   "metadata": {},
   "source": [
    "## 6.1.3 Reducción dimensionalidad"
   ]
  },
  {
   "cell_type": "markdown",
   "metadata": {},
   "source": [
    "Primero se estandarizan las características combinadas (texto + resto de variables) utilizando `StandardScaler`, ya que PCA es sensible a la escala de las variables.  \n",
    "A continuación, se aplica PCA sin limitar el número de componentes para calcular la varianza explicada acumulada y determinar cuántos componentes son necesarios para conservar al menos el 95% de la información del conjunto de entrenamiento.\n"
   ]
  },
  {
   "cell_type": "raw",
   "metadata": {
    "vscode": {
     "languageId": "raw"
    }
   },
   "source": [
    "scaler = StandardScaler()\n",
    "X_total_train_scaled = scaler.fit_transform(X_total_train)\n",
    "X_total_test_scaled = scaler.transform(X_total_test)\n",
    "\n",
    "# PCA sin límite para evaluar varianza explicada\n",
    "pca_temp = PCA(random_state=seed)\n",
    "pca_temp.fit(X_total_train_scaled)\n",
    "explained = np.cumsum(pca_temp.explained_variance_ratio_)\n",
    "\n",
    "#  Mostrar varianza explicada acumulada (primeros 30 componentes)\n",
    "print(\"Varianza explicada acumulada (primeros 30 componentes):\")\n",
    "for i in range(min(30, len(explained))):\n",
    "    print(f\"Componente {i+1:2d}: {explained[i]:.4f}\")\n"
   ]
  },
  {
   "cell_type": "markdown",
   "metadata": {},
   "source": [
    "En esta sección se selecciona el número mínimo de componentes necesarios para conservar al menos el 95% de la varianza.  \n",
    "Se ajusta y transforma el conjunto de datos con estos componentes, y finalmente se convierten los resultados a `DataFrame`, renombrando las columnas con el prefijo `pca_`.\n"
   ]
  },
  {
   "cell_type": "raw",
   "metadata": {
    "vscode": {
     "languageId": "raw"
    }
   },
   "source": [
    "# Elegir número mínimo de componentes para explicar 95%\n",
    "threshold = 0.95\n",
    "n_components = np.argmax(explained >= threshold) + 1\n",
    "print(f\"\\nPara explicar al menos el {int(threshold*100)}% de la varianza, se necesitan {n_components} componentes.\")\n",
    "\n",
    "# Aplicar PCA final \n",
    "pca = PCA(n_components=n_components, random_state=seed)\n",
    "X_total_train_pca = pca.fit_transform(X_total_train_scaled)\n",
    "X_total_test_pca = pca.transform(X_total_test_scaled)\n",
    "\n",
    "# Convertir resultado PCA a DataFrame y reasignar los nombres originales\n",
    "X_total_train = pd.DataFrame(X_total_train_pca, columns=[f'pca_{i}' for i in range(X_total_train_pca.shape[1])])\n",
    "X_total_test = pd.DataFrame(X_total_test_pca, columns=[f'pca_{i}' for i in range(X_total_test_pca.shape[1])])\n"
   ]
  },
  {
   "cell_type": "markdown",
   "metadata": {},
   "source": [
    "Ahora kaggle"
   ]
  },
  {
   "cell_type": "raw",
   "metadata": {
    "vscode": {
     "languageId": "raw"
    }
   },
   "source": [
    "scaler_final = StandardScaler()\n",
    "X_tot_tr_final_scaled = scaler_final.fit_transform(X_tot_tr_final)\n",
    "X_tot_te_final_scaled = scaler_final.transform(X_tot_te_final)\n",
    "\n",
    "#  PCA sin límite para evaluar varianza explicada\n",
    "pca_temp_final = PCA(random_state=seed)\n",
    "pca_temp_final.fit(X_tot_tr_final_scaled)\n",
    "explained_final = np.cumsum(pca_temp_final.explained_variance_ratio_)\n",
    "\n",
    "# Mostrar varianza explicada acumulada (primeros 30 componentes)\n",
    "print(\"Varianza explicada acumulada (primeros 30 componentes) - dataset final:\")\n",
    "for i in range(min(30, len(explained_final))):\n",
    "    print(f\"Componente {i+1:2d}: {explained_final[i]:.4f}\")\n",
    "\n"
   ]
  },
  {
   "cell_type": "raw",
   "metadata": {
    "vscode": {
     "languageId": "raw"
    }
   },
   "source": [
    "# Elegir número mínimo de componentes para explicar 95% \n",
    "threshold = 0.95\n",
    "n_components_final = np.argmax(explained_final >= threshold) + 1\n",
    "print(f\"\\nPara explicar al menos el {int(threshold*100)}% de la varianza, se necesitan {n_components_final} componentes en dataset final.\")\n",
    "\n",
    "# Aplicar PCA final con número óptimo de componentes\n",
    "pca_final = PCA(n_components=n_components_final, random_state=seed)\n",
    "X_tot_tr_final_pca = pca_final.fit_transform(X_tot_tr_final_scaled)\n",
    "X_tot_te_final_pca = pca_final.transform(X_tot_te_final_scaled)\n",
    "\n",
    "# Convertir resultado PCA a DataFrame y reasignar los nombres originales\n",
    "X_tot_tr_final = pd.DataFrame(X_tot_tr_final_pca, columns=[f'pca_{i}' for i in range(X_tot_tr_final_pca.shape[1])])\n",
    "X_tot_te_final = pd.DataFrame(X_tot_te_final_pca, columns=[f'pca_{i}' for i in range(X_tot_te_final_pca.shape[1])])"
   ]
  },
  {
   "cell_type": "markdown",
   "metadata": {},
   "source": [
    " Observaciones finales\n",
    "\n",
    "Tras realizar las pruebas utilizando PCA para la reducción de dimensionalidad, se ha comprobado que los resultados obtenidos en las métricas de evaluación han sido **peores que aquellos obtenidos sin aplicar dicha reducción**.\n",
    "\n",
    "Esto sugiere que, en este caso concreto, la pérdida de información causada por la reducción de componentes no compensa la posible mejora en eficiencia o generalización.  \n",
    "Por tanto, **se recomienda no aplicar PCA** en este pipeline para conservar el máximo rendimiento del modelo.\n"
   ]
  },
  {
   "cell_type": "markdown",
   "metadata": {},
   "source": []
  },
  {
   "cell_type": "markdown",
   "metadata": {},
   "source": [
    "## 6.2 Remuestreo"
   ]
  },
  {
   "cell_type": "markdown",
   "metadata": {},
   "source": [
    "### 6.2.1 Estandarizacion"
   ]
  },
  {
   "cell_type": "markdown",
   "metadata": {},
   "source": [
    "Primero se estandarizan el conjunto para el análisis."
   ]
  },
  {
   "cell_type": "code",
   "execution_count": 237,
   "metadata": {},
   "outputs": [],
   "source": [
    "prep = ColumnTransformer([\n",
    "    ('numericas', StandardScaler(), numeric_vars)\n",
    "], remainder='passthrough').fit(X_total_train) \n",
    "\n",
    "X_scaled_train = prep.transform(X_total_train)\n",
    "X_scaled_test = prep.transform(X_total_test)"
   ]
  },
  {
   "cell_type": "markdown",
   "metadata": {},
   "source": [
    "Después el de Kaggle."
   ]
  },
  {
   "cell_type": "code",
   "execution_count": 238,
   "metadata": {},
   "outputs": [],
   "source": [
    "prep_final = ColumnTransformer([\n",
    "    ('numericas', StandardScaler(), numeric_vars)\n",
    "], remainder='passthrough').fit(X_tot_tr_final) \n",
    "\n",
    "X_scaled_tr_final = prep_final.transform(X_tot_tr_final)\n",
    "X_scaled_te_final = prep_final.transform(X_tot_te_final)"
   ]
  },
  {
   "cell_type": "markdown",
   "metadata": {},
   "source": [
    "### 6.2.2 Undersampling"
   ]
  },
  {
   "cell_type": "markdown",
   "metadata": {},
   "source": [
    "Primero se realiza un undersampling al conjunto para el análisis."
   ]
  },
  {
   "cell_type": "code",
   "execution_count": 239,
   "metadata": {},
   "outputs": [
    {
     "name": "stderr",
     "output_type": "stream",
     "text": [
      "c:\\Users\\david\\anaconda3\\Lib\\site-packages\\sklearn\\utils\\deprecation.py:151: FutureWarning: 'force_all_finite' was renamed to 'ensure_all_finite' in 1.6 and will be removed in 1.8.\n",
      "  warnings.warn(\n",
      "c:\\Users\\david\\anaconda3\\Lib\\site-packages\\sklearn\\base.py:484: FutureWarning: `BaseEstimator._check_n_features` is deprecated in 1.6 and will be removed in 1.7. Use `sklearn.utils.validation._check_n_features` instead.\n",
      "  warnings.warn(\n",
      "c:\\Users\\david\\anaconda3\\Lib\\site-packages\\sklearn\\base.py:493: FutureWarning: `BaseEstimator._check_feature_names` is deprecated in 1.6 and will be removed in 1.7. Use `sklearn.utils.validation._check_feature_names` instead.\n",
      "  warnings.warn(\n"
     ]
    }
   ],
   "source": [
    "under = RandomUnderSampler(sampling_strategy=0.7, random_state=seed)\n",
    "X_under, y_under = under.fit_resample(X_scaled_train, y_train)"
   ]
  },
  {
   "cell_type": "markdown",
   "metadata": {},
   "source": [
    "Después el de Kaggle."
   ]
  },
  {
   "cell_type": "code",
   "execution_count": 240,
   "metadata": {},
   "outputs": [
    {
     "name": "stderr",
     "output_type": "stream",
     "text": [
      "c:\\Users\\david\\anaconda3\\Lib\\site-packages\\sklearn\\utils\\deprecation.py:151: FutureWarning: 'force_all_finite' was renamed to 'ensure_all_finite' in 1.6 and will be removed in 1.8.\n",
      "  warnings.warn(\n",
      "c:\\Users\\david\\anaconda3\\Lib\\site-packages\\sklearn\\base.py:484: FutureWarning: `BaseEstimator._check_n_features` is deprecated in 1.6 and will be removed in 1.7. Use `sklearn.utils.validation._check_n_features` instead.\n",
      "  warnings.warn(\n",
      "c:\\Users\\david\\anaconda3\\Lib\\site-packages\\sklearn\\base.py:493: FutureWarning: `BaseEstimator._check_feature_names` is deprecated in 1.6 and will be removed in 1.7. Use `sklearn.utils.validation._check_feature_names` instead.\n",
      "  warnings.warn(\n"
     ]
    }
   ],
   "source": [
    "under_final = RandomUnderSampler(sampling_strategy=0.7, random_state=seed)\n",
    "X_under_final, y_under_final = under_final.fit_resample(X_scaled_tr_final, y_train_final)"
   ]
  },
  {
   "cell_type": "markdown",
   "metadata": {},
   "source": [
    "### 6.2.3 Oversampling"
   ]
  },
  {
   "cell_type": "markdown",
   "metadata": {},
   "source": [
    "Primero se realiza un oversampling al conjunto para el análisis."
   ]
  },
  {
   "cell_type": "code",
   "execution_count": 241,
   "metadata": {},
   "outputs": [
    {
     "name": "stderr",
     "output_type": "stream",
     "text": [
      "c:\\Users\\david\\anaconda3\\Lib\\site-packages\\sklearn\\base.py:474: FutureWarning: `BaseEstimator._validate_data` is deprecated in 1.6 and will be removed in 1.7. Use `sklearn.utils.validation.validate_data` instead. This function becomes public and is part of the scikit-learn developer API.\n",
      "  warnings.warn(\n"
     ]
    }
   ],
   "source": [
    "over = SMOTE(sampling_strategy=0.9, random_state=seed)\n",
    "X_resampled, y_resampled = over.fit_resample(X_under, y_under)"
   ]
  },
  {
   "cell_type": "markdown",
   "metadata": {},
   "source": [
    "Después el de Kaggle."
   ]
  },
  {
   "cell_type": "code",
   "execution_count": 242,
   "metadata": {},
   "outputs": [
    {
     "name": "stderr",
     "output_type": "stream",
     "text": [
      "c:\\Users\\david\\anaconda3\\Lib\\site-packages\\sklearn\\base.py:474: FutureWarning: `BaseEstimator._validate_data` is deprecated in 1.6 and will be removed in 1.7. Use `sklearn.utils.validation.validate_data` instead. This function becomes public and is part of the scikit-learn developer API.\n",
      "  warnings.warn(\n"
     ]
    }
   ],
   "source": [
    "over_final = SMOTE(sampling_strategy=0.9, k_neighbors=10, random_state=seed)\n",
    "X_res_final, y_res_final = over_final.fit_resample(X_under_final, y_under_final)"
   ]
  },
  {
   "cell_type": "markdown",
   "metadata": {},
   "source": [
    "# 7. Modelos seleccionados"
   ]
  },
  {
   "cell_type": "markdown",
   "metadata": {},
   "source": [
    "## 7.1 Introduccion"
   ]
  },
  {
   "cell_type": "markdown",
   "metadata": {},
   "source": [
    "En el anterior notebook se evaluaron una serie de modelos tanto por F1 score como por ROC-AUC score. Los modelos con mejores resultados para ambas categorías fueron:\n",
    "* Random Forest.\n",
    "* GradientBoosting.\n",
    "* XGBoost.\n",
    "* LogisticRegression.\n",
    "* SVC con kernel rbf.\n",
    "\n",
    "Por lo tanto nos dispondremos a probar dichos modelos a continuación."
   ]
  },
  {
   "cell_type": "markdown",
   "metadata": {},
   "source": [
    "## 7.2 Asignacion de las variables"
   ]
  },
  {
   "cell_type": "markdown",
   "metadata": {},
   "source": [
    "Asignamos las variables para el analisis en función del desarrollo del apartado del preprocesado."
   ]
  },
  {
   "cell_type": "code",
   "execution_count": 243,
   "metadata": {},
   "outputs": [],
   "source": [
    "X_model = X_resampled\n",
    "y_model = y_resampled\n",
    "\n",
    "X_model_test = X_scaled_test\n",
    "expected = y_test"
   ]
  },
  {
   "cell_type": "markdown",
   "metadata": {},
   "source": [
    "## 7.3 Clasificador Random Forest"
   ]
  },
  {
   "cell_type": "markdown",
   "metadata": {},
   "source": [
    "### 7.3.1 Definicion"
   ]
  },
  {
   "cell_type": "markdown",
   "metadata": {},
   "source": [
    "Definimos el modelo con los hiperparámetros *random_state* fijado y *class_weigth* balanceado. También se escoje *n_jobs* con valor -1 para utilizar todos los procesadores."
   ]
  },
  {
   "cell_type": "code",
   "execution_count": 244,
   "metadata": {},
   "outputs": [],
   "source": [
    "model_Forest = RandomForestClassifier(class_weight=\"balanced\", n_jobs=-1, random_state=seed)"
   ]
  },
  {
   "cell_type": "markdown",
   "metadata": {},
   "source": [
    "### 7.3.2 Entrenamiento y evaluacion"
   ]
  },
  {
   "cell_type": "markdown",
   "metadata": {},
   "source": [
    "Entrenamos el modelo y comprobamos su exactitud."
   ]
  },
  {
   "cell_type": "code",
   "execution_count": 245,
   "metadata": {},
   "outputs": [],
   "source": [
    "model_Forest.fit(X_model, y_model)\n",
    "\n",
    "predicted_Forest = model_Forest.predict(X_model_test)"
   ]
  },
  {
   "cell_type": "code",
   "execution_count": 246,
   "metadata": {},
   "outputs": [
    {
     "data": {
      "text/plain": [
       "0.5988826815642458"
      ]
     },
     "execution_count": 246,
     "metadata": {},
     "output_type": "execute_result"
    }
   ],
   "source": [
    "accuracy_score(expected, predicted_Forest)"
   ]
  },
  {
   "cell_type": "markdown",
   "metadata": {},
   "source": [
    "### 7.3.3 Null accuracy"
   ]
  },
  {
   "cell_type": "markdown",
   "metadata": {},
   "source": [
    "Ahora se va a evaluar si  el modelo siempre predice la clase más frecuente."
   ]
  },
  {
   "cell_type": "code",
   "execution_count": 247,
   "metadata": {},
   "outputs": [
    {
     "data": {
      "text/plain": [
       "1    1179\n",
       "0     611\n",
       "Name: count, dtype: int64"
      ]
     },
     "execution_count": 247,
     "metadata": {},
     "output_type": "execute_result"
    }
   ],
   "source": [
    "s_y_test = pd.Series(y_test)\n",
    "s_y_test.value_counts()"
   ]
  },
  {
   "cell_type": "code",
   "execution_count": 248,
   "metadata": {},
   "outputs": [
    {
     "data": {
      "text/plain": [
       "0.658659217877095"
      ]
     },
     "execution_count": 248,
     "metadata": {},
     "output_type": "execute_result"
    }
   ],
   "source": [
    "y_test.mean()"
   ]
  },
  {
   "cell_type": "code",
   "execution_count": 249,
   "metadata": {},
   "outputs": [
    {
     "data": {
      "text/plain": [
       "0.341340782122905"
      ]
     },
     "execution_count": 249,
     "metadata": {},
     "output_type": "execute_result"
    }
   ],
   "source": [
    "1 - y_test.mean() "
   ]
  },
  {
   "cell_type": "code",
   "execution_count": 250,
   "metadata": {},
   "outputs": [
    {
     "data": {
      "text/plain": [
       "0.658659217877095"
      ]
     },
     "execution_count": 250,
     "metadata": {},
     "output_type": "execute_result"
    }
   ],
   "source": [
    "max(y_test.mean(), 1 - y_test.mean())"
   ]
  },
  {
   "cell_type": "code",
   "execution_count": 251,
   "metadata": {},
   "outputs": [
    {
     "data": {
      "text/plain": [
       "1    0.658659\n",
       "Name: count, dtype: float64"
      ]
     },
     "execution_count": 251,
     "metadata": {},
     "output_type": "execute_result"
    }
   ],
   "source": [
    "s_y_test.value_counts().head(1) / len(y_test)"
   ]
  },
  {
   "cell_type": "markdown",
   "metadata": {},
   "source": [
    "Nuestra exactitud es de 0.626, la cual es peor que la *null accuracy*, es decir, ahora mismo no tenemos un buen modelo ya que se predecirían un mayor número de resultados en el caso de siempre predecir la clase mayoritaria."
   ]
  },
  {
   "cell_type": "markdown",
   "metadata": {},
   "source": [
    "### 7.3.4 Matriz de confusion y F-score"
   ]
  },
  {
   "cell_type": "markdown",
   "metadata": {},
   "source": [
    "Se muestra la matriz de confusión y el informe de clasificación."
   ]
  },
  {
   "cell_type": "code",
   "execution_count": 252,
   "metadata": {},
   "outputs": [
    {
     "name": "stdout",
     "output_type": "stream",
     "text": [
      "[[285 326]\n",
      " [392 787]]\n"
     ]
    }
   ],
   "source": [
    "print(confusion_matrix(expected, predicted_Forest))"
   ]
  },
  {
   "cell_type": "code",
   "execution_count": 253,
   "metadata": {},
   "outputs": [
    {
     "name": "stdout",
     "output_type": "stream",
     "text": [
      "              precision    recall  f1-score   support\n",
      "\n",
      "           0       0.42      0.47      0.44       611\n",
      "           1       0.71      0.67      0.69      1179\n",
      "\n",
      "    accuracy                           0.60      1790\n",
      "   macro avg       0.56      0.57      0.56      1790\n",
      "weighted avg       0.61      0.60      0.60      1790\n",
      "\n"
     ]
    }
   ],
   "source": [
    "print(classification_report(expected, predicted_Forest))"
   ]
  },
  {
   "cell_type": "markdown",
   "metadata": {},
   "source": [
    "Se observa que estamos identificando erroneamente los 0s ya que tenemos un f1-score del 0.74 para los 1s mientras que estamos obteniendo un 0.35 para los 0s"
   ]
  },
  {
   "cell_type": "markdown",
   "metadata": {},
   "source": [
    "### 7.3.5 ROC y AUC"
   ]
  },
  {
   "cell_type": "markdown",
   "metadata": {},
   "source": [
    "Evaluamos la ROC-AUC score. Para ello representamos primero la curva de ROC."
   ]
  },
  {
   "cell_type": "code",
   "execution_count": 254,
   "metadata": {},
   "outputs": [
    {
     "data": {
      "image/png": "[encoded data removed]",
      "text/plain": [
       "<Figure size 640x480 with 1 Axes>"
      ]
     },
     "metadata": {},
     "output_type": "display_data"
    }
   ],
   "source": [
    "y_pred_prob_Forest = model_Forest.predict_proba(X_model_test)[:,1]\n",
    "fpr, tpr, thresholds = roc_curve(expected, y_pred_prob_Forest)\n",
    "plt.plot(fpr, tpr)\n",
    "plt.xlim([0.0, 1.0])\n",
    "plt.ylim([0.0, 1.0])\n",
    "plt.title('Curva ROC')\n",
    "plt.xlabel('Ratio de FP (1 - Recall)')\n",
    "plt.ylabel('Ratio TP (Sensitivity)')\n",
    "plt.grid(True)\n",
    "plt.show()"
   ]
  },
  {
   "cell_type": "markdown",
   "metadata": {},
   "source": [
    "Y mostramos sus thresholds."
   ]
  },
  {
   "cell_type": "code",
   "execution_count": 255,
   "metadata": {},
   "outputs": [
    {
     "data": {
      "text/plain": [
       "array([ inf, 0.93, 0.91, 0.9 , 0.89, 0.87, 0.86, 0.85, 0.84, 0.83, 0.82,\n",
       "       0.81, 0.79, 0.78, 0.77, 0.76, 0.75, 0.74, 0.73, 0.72, 0.71, 0.7 ,\n",
       "       0.69, 0.68, 0.67, 0.66, 0.65, 0.64, 0.63, 0.62, 0.61, 0.6 , 0.59,\n",
       "       0.58, 0.57, 0.56, 0.55, 0.54, 0.53, 0.52, 0.51, 0.5 , 0.49, 0.48,\n",
       "       0.47, 0.46, 0.45, 0.44, 0.43, 0.42, 0.41, 0.4 , 0.39, 0.38, 0.36,\n",
       "       0.35, 0.34, 0.33, 0.32, 0.31, 0.3 , 0.29, 0.28, 0.27, 0.26, 0.25,\n",
       "       0.24, 0.23, 0.22, 0.19, 0.17, 0.16])"
      ]
     },
     "execution_count": 255,
     "metadata": {},
     "output_type": "execute_result"
    }
   ],
   "source": [
    "thresholds"
   ]
  },
  {
   "cell_type": "markdown",
   "metadata": {},
   "source": [
    "Como se observa el resultado no es bueno ya que estamos obteniendo practicamente una recta en vez de una curva en forma de 'L' invertida."
   ]
  },
  {
   "cell_type": "markdown",
   "metadata": {},
   "source": [
    "La siguiente gráfica muestra las probabilidades de predicción en función de los umbrales."
   ]
  },
  {
   "cell_type": "code",
   "execution_count": 256,
   "metadata": {},
   "outputs": [
    {
     "data": {
      "text/plain": [
       "array([<Axes: title={'center': '0'}>, <Axes: title={'center': '1'}>],\n",
       "      dtype=object)"
      ]
     },
     "execution_count": 256,
     "metadata": {},
     "output_type": "execute_result"
    },
    {
     "data": {
      "image/png": "[encoded data removed]",
      "text/plain": [
       "<Figure size 640x480 with 2 Axes>"
      ]
     },
     "metadata": {},
     "output_type": "display_data"
    }
   ],
   "source": [
    "dprob = pd.DataFrame(data = {'probability':y_pred_prob_Forest, 'actual':y_test})\n",
    "dprob.probability.hist(by=dprob.actual, sharex=True, sharey=True)"
   ]
  },
  {
   "cell_type": "markdown",
   "metadata": {},
   "source": [
    "Se muestra que los mejores resultados para ambas clases se obtiene con el *threshold* igual a 0.5 aproximandamente (es decir, el valor por defecto)."
   ]
  },
  {
   "cell_type": "code",
   "execution_count": 257,
   "metadata": {},
   "outputs": [
    {
     "name": "stdout",
     "output_type": "stream",
     "text": [
      "Sensitivity: 0.6675148430873622\n",
      "Recall: 0.46644844517184947\n"
     ]
    }
   ],
   "source": [
    "best_thres_Random = 0.5\n",
    "\n",
    "evaluate_threshold(best_thres_Random)"
   ]
  },
  {
   "cell_type": "markdown",
   "metadata": {},
   "source": [
    "Con este valor se obtienen los siguientes resultados. Primero se recalculan las predicciones."
   ]
  },
  {
   "cell_type": "code",
   "execution_count": 258,
   "metadata": {},
   "outputs": [],
   "source": [
    "probs_Forest = model_Forest.predict_proba(X_model_test)[:, 1]  \n",
    "pred_thres_Forest = (probs_Forest >= best_thres_Random).astype(int) "
   ]
  },
  {
   "cell_type": "markdown",
   "metadata": {},
   "source": [
    "Se evalua la matriz de confusión."
   ]
  },
  {
   "cell_type": "code",
   "execution_count": 259,
   "metadata": {},
   "outputs": [
    {
     "name": "stdout",
     "output_type": "stream",
     "text": [
      "[[268 343]\n",
      " [361 818]]\n"
     ]
    }
   ],
   "source": [
    "print(confusion_matrix(expected, pred_thres_Forest))"
   ]
  },
  {
   "cell_type": "markdown",
   "metadata": {},
   "source": [
    "Y también se analiza el informe de la clasificación."
   ]
  },
  {
   "cell_type": "code",
   "execution_count": 260,
   "metadata": {},
   "outputs": [
    {
     "name": "stdout",
     "output_type": "stream",
     "text": [
      "              precision    recall  f1-score   support\n",
      "\n",
      "           0       0.43      0.44      0.43       611\n",
      "           1       0.70      0.69      0.70      1179\n",
      "\n",
      "    accuracy                           0.61      1790\n",
      "   macro avg       0.57      0.57      0.57      1790\n",
      "weighted avg       0.61      0.61      0.61      1790\n",
      "\n"
     ]
    }
   ],
   "source": [
    "print(classification_report(expected, pred_thres_Forest))"
   ]
  },
  {
   "cell_type": "markdown",
   "metadata": {},
   "source": [
    "Obviamente son los mismos, ya que no estamos modificando el umbral realmente."
   ]
  },
  {
   "cell_type": "markdown",
   "metadata": {},
   "source": [
    "Finalmente se calcula el valor de AUC."
   ]
  },
  {
   "cell_type": "code",
   "execution_count": 261,
   "metadata": {},
   "outputs": [
    {
     "name": "stdout",
     "output_type": "stream",
     "text": [
      "0.5669816441296058\n"
     ]
    }
   ],
   "source": [
    "print(roc_auc_score(expected, predicted_Forest))"
   ]
  },
  {
   "cell_type": "markdown",
   "metadata": {},
   "source": [
    "Se ha obtenido un valor entre 0.5 y 0.6, es decir, el modelo se considerá como fallido o *F*."
   ]
  },
  {
   "cell_type": "markdown",
   "metadata": {},
   "source": [
    "### 7.3.6 Optimizacion"
   ]
  },
  {
   "cell_type": "markdown",
   "metadata": {},
   "source": [
    "Antes de nada, observamos cuales son los parámetros de nuestro modelo."
   ]
  },
  {
   "cell_type": "code",
   "execution_count": 262,
   "metadata": {},
   "outputs": [
    {
     "data": {
      "text/plain": [
       "{'bootstrap': True,\n",
       " 'ccp_alpha': 0.0,\n",
       " 'class_weight': 'balanced',\n",
       " 'criterion': 'gini',\n",
       " 'max_depth': None,\n",
       " 'max_features': 'sqrt',\n",
       " 'max_leaf_nodes': None,\n",
       " 'max_samples': None,\n",
       " 'min_impurity_decrease': 0.0,\n",
       " 'min_samples_leaf': 1,\n",
       " 'min_samples_split': 2,\n",
       " 'min_weight_fraction_leaf': 0.0,\n",
       " 'monotonic_cst': None,\n",
       " 'n_estimators': 100,\n",
       " 'n_jobs': -1,\n",
       " 'oob_score': False,\n",
       " 'random_state': 42,\n",
       " 'verbose': 0,\n",
       " 'warm_start': False}"
      ]
     },
     "execution_count": 262,
     "metadata": {},
     "output_type": "execute_result"
    }
   ],
   "source": [
    "model_Forest.get_params()"
   ]
  },
  {
   "cell_type": "markdown",
   "metadata": {},
   "source": [
    "También creemos que es interesante saber la profundidad media de nuestro modelo Random Forest, para así poder estimar mejor rango de valores en este apartado."
   ]
  },
  {
   "cell_type": "code",
   "execution_count": 263,
   "metadata": {},
   "outputs": [
    {
     "name": "stdout",
     "output_type": "stream",
     "text": [
      "Profundidad media de los árboles: 29.63\n"
     ]
    }
   ],
   "source": [
    "arboles_decision = model_Forest.estimators_\n",
    "\n",
    "profundidades = [arbol.tree_.max_depth for arbol in arboles_decision]\n",
    "profundidad_media = np.mean(profundidades)\n",
    "\n",
    "print(f\"Profundidad media de los árboles: {profundidad_media}\")"
   ]
  },
  {
   "cell_type": "markdown",
   "metadata": {},
   "source": [
    "Ahora seleccionamos los hiperparámetros a evaluar mediante un GridSearchCV. Además, se ha añadido la librería *time* para saber el tiempo que tardo en realizar la busqueda de mejores parámetros.\n",
    "\n",
    "Estos hiperparámetros son:\n",
    "* ***n_estimator***: número de árboles.\n",
    "* ***max_depth***: máxima profundidad de cada árbol.\n",
    "* ***min_samples_split***: número de muestras mínimas para dividir un nodo interno.\n",
    "* ***min_samples_leaf***: número de muestras mínimas de un nodo hoja.\n",
    "* ***max_features***: número de características a tener en cuenta a la hora de buscar la mejor división.\n",
    "* ***class_weight***: pesos asignados a las clases."
   ]
  },
  {
   "cell_type": "raw",
   "metadata": {
    "vscode": {
     "languageId": "plaintext"
    }
   },
   "source": [
    "optm_Forest = RandomForestClassifier(n_jobs=-1, random_state=seed)\n",
    "\n",
    "param_grid = {\n",
    "    'n_estimators': [200, 250, 300],\n",
    "    'max_depth': [25, 35],\n",
    "    'min_samples_split': [2, 5],\n",
    "    'min_samples_leaf': [2, 4],\n",
    "    'max_features': [14, 20, 30, 50],\n",
    "    'class_weight': ['balanced', 'balanced_subsample']\n",
    "}\n",
    "\n",
    "grid_search = GridSearchCV(optm_Forest, param_grid=param_grid, cv=3, scoring=make_scorer(f1_score, average='weighted'), n_jobs=-1)\n",
    "\n",
    "inicio = time.time()\n",
    "grid_search.fit(X_model, y_model)\n",
    "fin = time.time()"
   ]
  },
  {
   "cell_type": "markdown",
   "metadata": {},
   "source": [
    "Se calcula el tiempo que ha tardado en minutos."
   ]
  },
  {
   "cell_type": "raw",
   "metadata": {},
   "source": [
    "tiempo_total = (fin - inicio) / 60\n",
    "print(f\"La celda tardó {tiempo_total} minutos en ejecutarse.\")"
   ]
  },
  {
   "cell_type": "markdown",
   "metadata": {},
   "source": [
    "Se escoge el mejor parámetro y su  precisión asociada."
   ]
  },
  {
   "cell_type": "raw",
   "metadata": {
    "vscode": {
     "languageId": "plaintext"
    }
   },
   "source": [
    "print(\"Mejores parámetros: \", grid_search.best_params_)\n",
    "print(\"Mejor score: \", grid_search.best_score_)"
   ]
  },
  {
   "cell_type": "markdown",
   "metadata": {},
   "source": [
    "Observamos los mejores 10 casos para analizar varias posibilidades."
   ]
  },
  {
   "cell_type": "raw",
   "metadata": {},
   "source": [
    "results_df = pd.DataFrame(grid_search.cv_results_)"
   ]
  },
  {
   "cell_type": "raw",
   "metadata": {},
   "source": [
    "top_10_models = results_df.nlargest(10, \"mean_test_score\")\n",
    "\n",
    "print(\"\\nLos 10 mejores modelos:\")\n",
    "for index, row in top_10_models.iterrows():\n",
    "    print(\"\\nModelo:\")\n",
    "    print(f\"Parámetros: {row['params']}\")\n",
    "    print(f\"Puntuación media de prueba: {row['mean_test_score']}\")"
   ]
  },
  {
   "cell_type": "markdown",
   "metadata": {},
   "source": [
    "### 7.3.7 Entrenamiento y evaluacion con hiperparametros optimizados"
   ]
  },
  {
   "cell_type": "markdown",
   "metadata": {},
   "source": [
    "#### - Definicion"
   ]
  },
  {
   "cell_type": "markdown",
   "metadata": {},
   "source": [
    "Definimos los mejores parámetros (no se define con *grid_search.best_params_* para probar varias opciones de forma sencilla)."
   ]
  },
  {
   "cell_type": "code",
   "execution_count": 264,
   "metadata": {},
   "outputs": [],
   "source": [
    "params_final_Forest = {\n",
    "    'class_weight': 'balanced',\n",
    "    'max_depth': 20,\n",
    "    'max_features': 20,\n",
    "    'min_samples_leaf': 2,\n",
    "    'min_samples_split': 2,\n",
    "    'n_estimators': 200,\n",
    "    'n_jobs': -1,\n",
    "    'random_state': seed\n",
    "}\n"
   ]
  },
  {
   "cell_type": "markdown",
   "metadata": {},
   "source": [
    "Definimos el modelo desagregando el diccionario."
   ]
  },
  {
   "cell_type": "code",
   "execution_count": 265,
   "metadata": {},
   "outputs": [],
   "source": [
    "final_Forest = RandomForestClassifier(**params_final_Forest)"
   ]
  },
  {
   "cell_type": "markdown",
   "metadata": {},
   "source": [
    "#### - Entrenamiento y evaluacion"
   ]
  },
  {
   "cell_type": "markdown",
   "metadata": {},
   "source": [
    "Entrenamos el modelo y comprobamos su exactitud."
   ]
  },
  {
   "cell_type": "code",
   "execution_count": 266,
   "metadata": {},
   "outputs": [],
   "source": [
    "final_Forest.fit(X_model, y_model)\n",
    "\n",
    "predicted_For_opt = final_Forest.predict(X_model_test)"
   ]
  },
  {
   "cell_type": "code",
   "execution_count": 267,
   "metadata": {},
   "outputs": [
    {
     "data": {
      "text/plain": [
       "0.5899441340782123"
      ]
     },
     "execution_count": 267,
     "metadata": {},
     "output_type": "execute_result"
    }
   ],
   "source": [
    "accuracy_score(expected, predicted_For_opt)"
   ]
  },
  {
   "cell_type": "markdown",
   "metadata": {},
   "source": [
    "#### - Null accuracy"
   ]
  },
  {
   "cell_type": "markdown",
   "metadata": {},
   "source": [
    "La accuracy es similar a la anterior. Además, sigue siendo peor que la *null accuracy*."
   ]
  },
  {
   "cell_type": "markdown",
   "metadata": {},
   "source": [
    "#### - Matriz de confusion y F-score"
   ]
  },
  {
   "cell_type": "markdown",
   "metadata": {},
   "source": [
    "La matriz de confusión y el informe de clasificación también es muy similar."
   ]
  },
  {
   "cell_type": "code",
   "execution_count": 268,
   "metadata": {},
   "outputs": [
    {
     "name": "stdout",
     "output_type": "stream",
     "text": [
      "[[273 338]\n",
      " [396 783]]\n"
     ]
    }
   ],
   "source": [
    "print(confusion_matrix(expected, predicted_For_opt))"
   ]
  },
  {
   "cell_type": "code",
   "execution_count": 269,
   "metadata": {},
   "outputs": [
    {
     "name": "stdout",
     "output_type": "stream",
     "text": [
      "              precision    recall  f1-score   support\n",
      "\n",
      "           0       0.41      0.45      0.43       611\n",
      "           1       0.70      0.66      0.68      1179\n",
      "\n",
      "    accuracy                           0.59      1790\n",
      "   macro avg       0.55      0.56      0.55      1790\n",
      "weighted avg       0.60      0.59      0.59      1790\n",
      "\n"
     ]
    }
   ],
   "source": [
    "print(classification_report(expected, predicted_For_opt))"
   ]
  },
  {
   "cell_type": "markdown",
   "metadata": {},
   "source": [
    "#### - ROC y AUC"
   ]
  },
  {
   "cell_type": "markdown",
   "metadata": {},
   "source": [
    "Se calcula el ROC y se reajusta el umbral de probabilidad."
   ]
  },
  {
   "cell_type": "code",
   "execution_count": 270,
   "metadata": {},
   "outputs": [
    {
     "data": {
      "image/png": "[encoded data removed]",
      "text/plain": [
       "<Figure size 640x480 with 1 Axes>"
      ]
     },
     "metadata": {},
     "output_type": "display_data"
    }
   ],
   "source": [
    "y_pred_prob_Forest = final_Forest.predict_proba(X_model_test)[:,1]\n",
    "fpr, tpr, thresholds = roc_curve(y_test, y_pred_prob_Forest)\n",
    "plt.plot(fpr, tpr)\n",
    "plt.xlim([0.0, 1.0])\n",
    "plt.ylim([0.0, 1.0])\n",
    "plt.title('Curva ROC')\n",
    "plt.xlabel('Ratio de FP (1 - Recall)')\n",
    "plt.ylabel('Ratio TP (Sensitivity)')\n",
    "plt.grid(True)\n",
    "plt.show()"
   ]
  },
  {
   "cell_type": "code",
   "execution_count": 271,
   "metadata": {},
   "outputs": [
    {
     "data": {
      "text/plain": [
       "array([       inf, 0.91091152, 0.90072952, 0.88777661, 0.87937462,\n",
       "       0.86607629, 0.86568365, 0.8419139 , 0.84182351, 0.84024886,\n",
       "       0.8394224 , 0.83805289, 0.83798139, 0.83742654, 0.83723042,\n",
       "       0.82455429, 0.82418962, 0.80477878, 0.80370365, 0.793988  ,\n",
       "       0.79270509, 0.79124004, 0.79121851, 0.7849072 , 0.78321939,\n",
       "       0.78280142, 0.781791  , 0.78148195, 0.78138467, 0.77739475,\n",
       "       0.77720336, 0.77690075, 0.7755379 , 0.77519102, 0.77469449,\n",
       "       0.77451052, 0.7738608 , 0.7723351 , 0.77169512, 0.77067239,\n",
       "       0.77040449, 0.76758455, 0.76639746, 0.76632955, 0.76506573,\n",
       "       0.75843436, 0.75634869, 0.75102428, 0.75096497, 0.74944798,\n",
       "       0.7489534 , 0.74714275, 0.74490137, 0.74148055, 0.74103664,\n",
       "       0.74087474, 0.74077989, 0.73840595, 0.73837667, 0.73761242,\n",
       "       0.7369246 , 0.73592597, 0.73558172, 0.73067592, 0.72975268,\n",
       "       0.72911506, 0.72812834, 0.72745339, 0.72716772, 0.72715117,\n",
       "       0.72705138, 0.72701442, 0.72693535, 0.7257856 , 0.72498373,\n",
       "       0.72287609, 0.7227837 , 0.72126526, 0.72033389, 0.71928478,\n",
       "       0.71913281, 0.71872663, 0.71857434, 0.71811024, 0.71791014,\n",
       "       0.7172819 , 0.71570638, 0.71533185, 0.71373281, 0.71357402,\n",
       "       0.71356361, 0.71266262, 0.71216118, 0.71169251, 0.71151204,\n",
       "       0.70938926, 0.70883377, 0.7085713 , 0.70844452, 0.7058294 ,\n",
       "       0.70548359, 0.70158983, 0.70095894, 0.69713164, 0.6969434 ,\n",
       "       0.6950911 , 0.69474155, 0.69278601, 0.69273347, 0.69255278,\n",
       "       0.69076743, 0.68922205, 0.68888112, 0.6887315 , 0.68852113,\n",
       "       0.68845279, 0.68805294, 0.68755452, 0.68749967, 0.68404352,\n",
       "       0.68375925, 0.68059995, 0.67995515, 0.67971884, 0.67927208,\n",
       "       0.67846241, 0.67791675, 0.67678285, 0.67623586, 0.6756889 ,\n",
       "       0.6749911 , 0.67332594, 0.67313195, 0.67186582, 0.67151541,\n",
       "       0.66996724, 0.66970775, 0.66734041, 0.6670618 , 0.6665955 ,\n",
       "       0.66658797, 0.66630356, 0.66611423, 0.66582299, 0.66514619,\n",
       "       0.66421181, 0.66417528, 0.66392553, 0.66365306, 0.66286447,\n",
       "       0.66232347, 0.65964641, 0.65937183, 0.65915681, 0.65805252,\n",
       "       0.65661367, 0.65570599, 0.65489124, 0.65438516, 0.65378621,\n",
       "       0.65364523, 0.65226956, 0.651031  , 0.65021643, 0.64998082,\n",
       "       0.64831821, 0.64781027, 0.64712979, 0.64701672, 0.64616934,\n",
       "       0.64609338, 0.64598707, 0.64564243, 0.64548825, 0.64509879,\n",
       "       0.64397027, 0.64376322, 0.64332091, 0.64300434, 0.64059488,\n",
       "       0.63934717, 0.63865676, 0.63730807, 0.63703767, 0.63700085,\n",
       "       0.63689152, 0.63682847, 0.63599595, 0.63508437, 0.6316342 ,\n",
       "       0.63153626, 0.63057653, 0.63009695, 0.62790064, 0.62743457,\n",
       "       0.62667819, 0.62645092, 0.62642399, 0.62617735, 0.62456748,\n",
       "       0.62405625, 0.620229  , 0.62007125, 0.61895695, 0.61844624,\n",
       "       0.61749421, 0.61736396, 0.61571109, 0.61500493, 0.61430417,\n",
       "       0.61424451, 0.61408545, 0.61323467, 0.61287785, 0.6125963 ,\n",
       "       0.61226788, 0.61158229, 0.61106788, 0.61100785, 0.61099528,\n",
       "       0.60999891, 0.6091914 , 0.6091294 , 0.60838044, 0.60836961,\n",
       "       0.60824154, 0.60765929, 0.60652942, 0.60626573, 0.6043499 ,\n",
       "       0.60434468, 0.60432149, 0.60396991, 0.6038871 , 0.60325842,\n",
       "       0.60306081, 0.60276289, 0.60207968, 0.601727  , 0.60167341,\n",
       "       0.60153981, 0.60082749, 0.59995094, 0.5992408 , 0.5991417 ,\n",
       "       0.59850093, 0.59824618, 0.59732766, 0.5972203 , 0.59712283,\n",
       "       0.59666911, 0.5965401 , 0.59625398, 0.59606172, 0.59604009,\n",
       "       0.59546465, 0.59534405, 0.59338661, 0.59311226, 0.59171187,\n",
       "       0.59032278, 0.59005692, 0.58846104, 0.58818428, 0.58817712,\n",
       "       0.58802807, 0.58752409, 0.58686292, 0.58682318, 0.58677899,\n",
       "       0.58677596, 0.58664294, 0.58651093, 0.58459465, 0.58445198,\n",
       "       0.58412257, 0.58398995, 0.58358698, 0.58358655, 0.58280145,\n",
       "       0.5826553 , 0.5808927 , 0.5805113 , 0.57971539, 0.57962655,\n",
       "       0.57953532, 0.57928213, 0.5792602 , 0.57873021, 0.57860131,\n",
       "       0.57859443, 0.57813128, 0.57795434, 0.57741857, 0.57705091,\n",
       "       0.57633664, 0.57598385, 0.57550654, 0.57543889, 0.57354296,\n",
       "       0.57352611, 0.57305172, 0.57235138, 0.57065616, 0.57063914,\n",
       "       0.57037633, 0.57037382, 0.56947638, 0.56910528, 0.56847537,\n",
       "       0.56834748, 0.56834392, 0.56806326, 0.56759573, 0.56751866,\n",
       "       0.5672394 , 0.56714567, 0.56643643, 0.5662733 , 0.56583161,\n",
       "       0.56544312, 0.56427345, 0.56425866, 0.56422853, 0.56415687,\n",
       "       0.56271926, 0.56264371, 0.56245858, 0.56202466, 0.5619768 ,\n",
       "       0.56189867, 0.56129509, 0.5612509 , 0.56074085, 0.56056546,\n",
       "       0.55952446, 0.55923477, 0.55914482, 0.55885475, 0.55849485,\n",
       "       0.55839551, 0.557875  , 0.55764933, 0.55662789, 0.55651185,\n",
       "       0.55637368, 0.55620342, 0.55559073, 0.55439607, 0.55391594,\n",
       "       0.55377246, 0.55366471, 0.55360494, 0.55283755, 0.55274622,\n",
       "       0.55058175, 0.55005922, 0.54944783, 0.5492    , 0.54755105,\n",
       "       0.54737231, 0.54657284, 0.54641406, 0.54626447, 0.54606733,\n",
       "       0.54496268, 0.54490265, 0.5445968 , 0.54452738, 0.54446417,\n",
       "       0.54438036, 0.54394743, 0.54315403, 0.54282641, 0.54254113,\n",
       "       0.54240045, 0.54230392, 0.54044093, 0.53951567, 0.53917091,\n",
       "       0.53886751, 0.5387573 , 0.53824403, 0.53810011, 0.53798263,\n",
       "       0.53743977, 0.53712029, 0.53662468, 0.53645016, 0.53608957,\n",
       "       0.53527429, 0.53516886, 0.535117  , 0.53491162, 0.53456784,\n",
       "       0.5340757 , 0.53349105, 0.53291422, 0.53270511, 0.53187235,\n",
       "       0.53157138, 0.53064775, 0.5302169 , 0.52985834, 0.52972881,\n",
       "       0.52965655, 0.52941261, 0.52916485, 0.52898261, 0.52888172,\n",
       "       0.52867997, 0.52850727, 0.52813361, 0.52800284, 0.52753538,\n",
       "       0.52718686, 0.52646517, 0.52461117, 0.52417816, 0.52404593,\n",
       "       0.52399073, 0.52330849, 0.52325837, 0.52300737, 0.52220501,\n",
       "       0.52159872, 0.52135559, 0.52130177, 0.52106618, 0.52064489,\n",
       "       0.52028205, 0.51906315, 0.51896285, 0.51877218, 0.51835734,\n",
       "       0.5182871 , 0.51777744, 0.51709828, 0.51692472, 0.51518122,\n",
       "       0.51510843, 0.51465543, 0.51413144, 0.51385557, 0.51375758,\n",
       "       0.51373724, 0.51362744, 0.51336751, 0.51329242, 0.5131028 ,\n",
       "       0.51306355, 0.51296022, 0.51224734, 0.51189491, 0.511368  ,\n",
       "       0.51016347, 0.51013727, 0.50866043, 0.5081801 , 0.50790196,\n",
       "       0.50653873, 0.50652428, 0.50604238, 0.5057486 , 0.50518871,\n",
       "       0.50496851, 0.50491016, 0.50478781, 0.5047652 , 0.50472723,\n",
       "       0.50465317, 0.50431659, 0.50426617, 0.50421053, 0.50419993,\n",
       "       0.50396799, 0.50384491, 0.50375675, 0.50323753, 0.50305144,\n",
       "       0.50226485, 0.50211503, 0.50202816, 0.50126231, 0.50118148,\n",
       "       0.5008228 , 0.5007784 , 0.50077096, 0.50035748, 0.49967729,\n",
       "       0.49964747, 0.49951348, 0.49909529, 0.49783515, 0.49780901,\n",
       "       0.49743931, 0.49732508, 0.49731126, 0.49714296, 0.49646243,\n",
       "       0.4962477 , 0.49609309, 0.49553222, 0.49502265, 0.49461219,\n",
       "       0.49430708, 0.49414378, 0.49146199, 0.49095202, 0.49038578,\n",
       "       0.48950964, 0.48894004, 0.48887841, 0.48861053, 0.48856303,\n",
       "       0.48774476, 0.4874303 , 0.4860395 , 0.48593147, 0.48468123,\n",
       "       0.48365961, 0.48287678, 0.48264179, 0.48212881, 0.48130612,\n",
       "       0.48063614, 0.48040649, 0.48016075, 0.47961051, 0.4792491 ,\n",
       "       0.47834043, 0.47818185, 0.47784736, 0.47627523, 0.47570041,\n",
       "       0.47513295, 0.4748202 , 0.4737591 , 0.47365398, 0.47305003,\n",
       "       0.47304079, 0.47252952, 0.47095082, 0.4698776 , 0.46960929,\n",
       "       0.46960553, 0.46886842, 0.46871377, 0.46864975, 0.46857997,\n",
       "       0.46856691, 0.46834962, 0.46824504, 0.46629873, 0.46583995,\n",
       "       0.46550128, 0.46537461, 0.46440714, 0.46402039, 0.46391083,\n",
       "       0.46370719, 0.4631037 , 0.46300697, 0.4626918 , 0.46261886,\n",
       "       0.46220524, 0.46191285, 0.46142712, 0.46117716, 0.46096044,\n",
       "       0.46079928, 0.46061539, 0.46040213, 0.46020205, 0.45942898,\n",
       "       0.45874052, 0.4585824 , 0.45783094, 0.457741  , 0.45687071,\n",
       "       0.45641511, 0.45569668, 0.45536324, 0.45495074, 0.45427503,\n",
       "       0.45390527, 0.45378028, 0.45355961, 0.45305071, 0.45215548,\n",
       "       0.45206608, 0.45175828, 0.451627  , 0.45121297, 0.45062218,\n",
       "       0.44968275, 0.44935174, 0.44771946, 0.44636421, 0.44582698,\n",
       "       0.44570362, 0.44552692, 0.44536116, 0.44417072, 0.44402997,\n",
       "       0.44372339, 0.44361828, 0.44360212, 0.44334014, 0.44314931,\n",
       "       0.44312658, 0.44232122, 0.44176735, 0.4407675 , 0.4407649 ,\n",
       "       0.43989998, 0.43942559, 0.43928102, 0.43875895, 0.43866939,\n",
       "       0.4385292 , 0.43731704, 0.4361447 , 0.43606505, 0.43570651,\n",
       "       0.43537378, 0.43516649, 0.43314187, 0.43286801, 0.4323067 ,\n",
       "       0.4322621 , 0.43021095, 0.43014234, 0.42938657, 0.42827422,\n",
       "       0.42796277, 0.42746537, 0.42720002, 0.4267234 , 0.4241897 ,\n",
       "       0.42397161, 0.42368376, 0.42351182, 0.42262632, 0.4220195 ,\n",
       "       0.41994103, 0.4198954 , 0.41971354, 0.41970019, 0.41876855,\n",
       "       0.41845112, 0.41571919, 0.41567316, 0.41522575, 0.41390752,\n",
       "       0.41390095, 0.41365708, 0.41297461, 0.41242146, 0.40941581,\n",
       "       0.40886553, 0.40694399, 0.40669116, 0.405838  , 0.40545349,\n",
       "       0.40532813, 0.40529655, 0.40489173, 0.40469369, 0.40418107,\n",
       "       0.4040866 , 0.40374197, 0.40266012, 0.40170303, 0.4016139 ,\n",
       "       0.39896038, 0.39804325, 0.39726185, 0.39708369, 0.39356919,\n",
       "       0.39203055, 0.39106168, 0.38987142, 0.38950402, 0.38921297,\n",
       "       0.38919368, 0.38833799, 0.38736269, 0.38657557, 0.38619467,\n",
       "       0.38593447, 0.38558955, 0.38552022, 0.38437964, 0.38417103,\n",
       "       0.38402666, 0.38309356, 0.38291828, 0.38257195, 0.38239057,\n",
       "       0.3821016 , 0.38013344, 0.37963969, 0.37878297, 0.37859264,\n",
       "       0.37845027, 0.37543773, 0.37471504, 0.37250268, 0.37226731,\n",
       "       0.37213285, 0.37030394, 0.36973326, 0.36954544, 0.36885978,\n",
       "       0.36829708, 0.36753964, 0.36624573, 0.36613913, 0.36481575,\n",
       "       0.36422811, 0.36409266, 0.36404429, 0.36372808, 0.3637103 ,\n",
       "       0.36359287, 0.36193858, 0.36147153, 0.36011345, 0.35998185,\n",
       "       0.3594514 , 0.35886909, 0.35881028, 0.35786028, 0.35651935,\n",
       "       0.35610509, 0.35550419, 0.35372227, 0.35354155, 0.35296748,\n",
       "       0.35228253, 0.35092804, 0.35048139, 0.34966225, 0.34964401,\n",
       "       0.34930152, 0.34862482, 0.34808348, 0.34676205, 0.34568888,\n",
       "       0.34481091, 0.34456684, 0.34420347, 0.34395562, 0.34272374,\n",
       "       0.33943947, 0.33936134, 0.33727394, 0.33618672, 0.33416091,\n",
       "       0.33315685, 0.33196515, 0.32735459, 0.32704622, 0.32630728,\n",
       "       0.32584133, 0.3218447 , 0.32156924, 0.31714372, 0.31477324,\n",
       "       0.31348672, 0.3047677 , 0.30291969, 0.30253707, 0.30164056,\n",
       "       0.29892532, 0.29803742, 0.2928042 , 0.29030682, 0.2902771 ,\n",
       "       0.28943205, 0.28905169, 0.28839443, 0.28364303, 0.28252265,\n",
       "       0.27868307, 0.27845666, 0.27380396, 0.27256662, 0.27244337,\n",
       "       0.26971879, 0.26800896, 0.26654162, 0.2664662 , 0.26627217,\n",
       "       0.26280715, 0.26143822, 0.26042984, 0.25543095, 0.25406511,\n",
       "       0.24904046, 0.24170876, 0.23340132, 0.21874699, 0.2178493 ,\n",
       "       0.21361989, 0.20679923, 0.20034889, 0.18240656])"
      ]
     },
     "execution_count": 271,
     "metadata": {},
     "output_type": "execute_result"
    }
   ],
   "source": [
    "thresholds"
   ]
  },
  {
   "cell_type": "code",
   "execution_count": 272,
   "metadata": {},
   "outputs": [
    {
     "data": {
      "text/plain": [
       "array([<Axes: title={'center': '0'}>, <Axes: title={'center': '1'}>],\n",
       "      dtype=object)"
      ]
     },
     "execution_count": 272,
     "metadata": {},
     "output_type": "execute_result"
    },
    {
     "data": {
      "image/png": "[encoded data removed]",
      "text/plain": [
       "<Figure size 640x480 with 2 Axes>"
      ]
     },
     "metadata": {},
     "output_type": "display_data"
    }
   ],
   "source": [
    "dprob = pd.DataFrame(data = {'probability':y_pred_prob_Forest, 'actual':y_test})\n",
    "dprob.probability.hist(by=dprob.actual, sharex=True, sharey=True)"
   ]
  },
  {
   "cell_type": "code",
   "execution_count": 273,
   "metadata": {},
   "outputs": [
    {
     "name": "stdout",
     "output_type": "stream",
     "text": [
      "Sensitivity: 0.6641221374045801\n",
      "Recall: 0.44680851063829785\n"
     ]
    }
   ],
   "source": [
    "op_thres_Random = 0.5\n",
    "\n",
    "evaluate_threshold(op_thres_Random)"
   ]
  },
  {
   "cell_type": "code",
   "execution_count": 274,
   "metadata": {},
   "outputs": [],
   "source": [
    "probs_For_opt = final_Forest.predict_proba(X_model_test)[:, 1]  \n",
    "pred_thres_For_opt = (probs_For_opt >= op_thres_Random).astype(int) "
   ]
  },
  {
   "cell_type": "code",
   "execution_count": 275,
   "metadata": {},
   "outputs": [
    {
     "name": "stdout",
     "output_type": "stream",
     "text": [
      "[[273 338]\n",
      " [396 783]]\n"
     ]
    }
   ],
   "source": [
    "print(confusion_matrix(expected, pred_thres_For_opt))"
   ]
  },
  {
   "cell_type": "code",
   "execution_count": 276,
   "metadata": {},
   "outputs": [
    {
     "name": "stdout",
     "output_type": "stream",
     "text": [
      "              precision    recall  f1-score   support\n",
      "\n",
      "           0       0.41      0.45      0.43       611\n",
      "           1       0.70      0.66      0.68      1179\n",
      "\n",
      "    accuracy                           0.59      1790\n",
      "   macro avg       0.55      0.56      0.55      1790\n",
      "weighted avg       0.60      0.59      0.59      1790\n",
      "\n"
     ]
    }
   ],
   "source": [
    "print(classification_report(expected, pred_thres_For_opt))"
   ]
  },
  {
   "cell_type": "markdown",
   "metadata": {},
   "source": [
    "Se obtienen los mismos resultados porque sigue siendo el mejor caso con umbral igual a 0,5."
   ]
  },
  {
   "cell_type": "markdown",
   "metadata": {},
   "source": [
    "Se calcula la AUC score."
   ]
  },
  {
   "cell_type": "code",
   "execution_count": 277,
   "metadata": {},
   "outputs": [
    {
     "name": "stdout",
     "output_type": "stream",
     "text": [
      "0.5554653240214389\n"
     ]
    }
   ],
   "source": [
    "print(roc_auc_score(expected, predicted_For_opt))"
   ]
  },
  {
   "cell_type": "markdown",
   "metadata": {},
   "source": [
    "También ha tenido una pequeña mejora, pero sigue en el mismo intervalo. Es decir, sigue siendo un modelo *F*."
   ]
  },
  {
   "cell_type": "markdown",
   "metadata": {},
   "source": [
    "### 7.3.8 Conclusiones del modelo"
   ]
  },
  {
   "cell_type": "markdown",
   "metadata": {},
   "source": [
    "Tal y como esta el modelo no se estan obteniendo buenos resultados debido a la escasez de entradas y la gran cantidad de dimensiones que presenta el dataset. Estamos obteniendo prácticamente los mismos resultados que si decidieramos clasificar al azar."
   ]
  },
  {
   "cell_type": "markdown",
   "metadata": {},
   "source": [
    "## 7.4 Clasificador XGBoost"
   ]
  },
  {
   "cell_type": "markdown",
   "metadata": {},
   "source": [
    "### 7.4.1 Definicion"
   ]
  },
  {
   "cell_type": "markdown",
   "metadata": {},
   "source": [
    "Definimos el modelo con los hiperparámetros *random_state* fijado y *class_weigth* balanceado. También se escoje *n_jobs* con valor -1 para utilizar todos los procesadores."
   ]
  },
  {
   "cell_type": "code",
   "execution_count": 278,
   "metadata": {},
   "outputs": [],
   "source": [
    "model_XG = XGBClassifier(objective='binary:logistic', eval_metric='logloss', random_state=seed)"
   ]
  },
  {
   "cell_type": "markdown",
   "metadata": {},
   "source": [
    "### 7.4.2 Entrenamiento y evaluacion"
   ]
  },
  {
   "cell_type": "markdown",
   "metadata": {},
   "source": [
    "Entrenamos el modelo y comprobamos su exactitud."
   ]
  },
  {
   "cell_type": "code",
   "execution_count": 279,
   "metadata": {},
   "outputs": [],
   "source": [
    "model_XG.fit(X_model, y_model)\n",
    "\n",
    "predicted_XG = model_XG.predict(X_model_test)"
   ]
  },
  {
   "cell_type": "code",
   "execution_count": 280,
   "metadata": {},
   "outputs": [
    {
     "data": {
      "text/plain": [
       "0.5798882681564246"
      ]
     },
     "execution_count": 280,
     "metadata": {},
     "output_type": "execute_result"
    }
   ],
   "source": [
    "accuracy_score(expected, predicted_XG)"
   ]
  },
  {
   "cell_type": "markdown",
   "metadata": {},
   "source": [
    "### 7.4.3 Null accuracy"
   ]
  },
  {
   "cell_type": "markdown",
   "metadata": {},
   "source": [
    "Nuestra exactitud es de 0.587, la cual es peor que la *null accuracy*, es decir, ahora mismo no tenemos un buen modelo ya que se predecirían un mayor número de resultados en el caso de siempre predecir la clase mayoritaria."
   ]
  },
  {
   "cell_type": "markdown",
   "metadata": {},
   "source": [
    "### 7.4.4 Matriz de confusion y F-score"
   ]
  },
  {
   "cell_type": "markdown",
   "metadata": {},
   "source": [
    "Se muestra la matriz de confusión y el informe de clasificación."
   ]
  },
  {
   "cell_type": "code",
   "execution_count": 281,
   "metadata": {},
   "outputs": [
    {
     "name": "stdout",
     "output_type": "stream",
     "text": [
      "[[267 344]\n",
      " [408 771]]\n"
     ]
    }
   ],
   "source": [
    "print(confusion_matrix(expected, predicted_XG))"
   ]
  },
  {
   "cell_type": "code",
   "execution_count": 282,
   "metadata": {},
   "outputs": [
    {
     "name": "stdout",
     "output_type": "stream",
     "text": [
      "              precision    recall  f1-score   support\n",
      "\n",
      "           0       0.40      0.44      0.42       611\n",
      "           1       0.69      0.65      0.67      1179\n",
      "\n",
      "    accuracy                           0.58      1790\n",
      "   macro avg       0.54      0.55      0.54      1790\n",
      "weighted avg       0.59      0.58      0.58      1790\n",
      "\n"
     ]
    }
   ],
   "source": [
    "print(classification_report(expected, predicted_XG))"
   ]
  },
  {
   "cell_type": "markdown",
   "metadata": {},
   "source": [
    "Se observa que estamos identificando erroneamente los 0s ya que tenemos un f1-score del 0.68 para los 1s mientras que estamos obteniendo un 0.43 para los 0s"
   ]
  },
  {
   "cell_type": "markdown",
   "metadata": {},
   "source": [
    "### 7.4.5 ROC y AUC"
   ]
  },
  {
   "cell_type": "markdown",
   "metadata": {},
   "source": [
    "Evaluamos la ROC-AUC score. Para ello representamos primero la curva de ROC."
   ]
  },
  {
   "cell_type": "code",
   "execution_count": 283,
   "metadata": {},
   "outputs": [
    {
     "data": {
      "image/png": "[encoded data removed]",
      "text/plain": [
       "<Figure size 640x480 with 1 Axes>"
      ]
     },
     "metadata": {},
     "output_type": "display_data"
    }
   ],
   "source": [
    "y_pred_prob_XG = model_XG.predict_proba(X_model_test)[:,1]\n",
    "fpr, tpr, thresholds = roc_curve(expected, y_pred_prob_XG)\n",
    "plt.plot(fpr, tpr)\n",
    "plt.xlim([0.0, 1.0])\n",
    "plt.ylim([0.0, 1.0])\n",
    "plt.title('Curva ROC')\n",
    "plt.xlabel('Ratio de FP (1 - Recall)')\n",
    "plt.ylabel('Ratio TP (Sensitivity)')\n",
    "plt.grid(True)\n",
    "plt.show()"
   ]
  },
  {
   "cell_type": "markdown",
   "metadata": {},
   "source": [
    "Y mostramos sus thresholds."
   ]
  },
  {
   "cell_type": "code",
   "execution_count": 284,
   "metadata": {},
   "outputs": [
    {
     "data": {
      "text/plain": [
       "array([       inf, 0.9948278 , 0.99311584, 0.9927416 , 0.9874347 ,\n",
       "       0.98506194, 0.9837906 , 0.983288  , 0.9786185 , 0.97630084,\n",
       "       0.975497  , 0.975043  , 0.97186565, 0.97110534, 0.97071296,\n",
       "       0.9705293 , 0.96961546, 0.96887535, 0.96884155, 0.9683215 ,\n",
       "       0.9670862 , 0.9668655 , 0.9666882 , 0.96628946, 0.96595395,\n",
       "       0.96539646, 0.961785  , 0.9617242 , 0.9559409 , 0.95572764,\n",
       "       0.9537013 , 0.95299196, 0.9519245 , 0.951399  , 0.946931  ,\n",
       "       0.9469047 , 0.9447682 , 0.94428474, 0.9388475 , 0.9381823 ,\n",
       "       0.93665415, 0.93583554, 0.93568367, 0.9351464 , 0.9325241 ,\n",
       "       0.93252224, 0.93220574, 0.93217444, 0.9315984 , 0.9311397 ,\n",
       "       0.9306574 , 0.928993  , 0.928986  , 0.92778707, 0.9265289 ,\n",
       "       0.92643005, 0.9240403 , 0.9234276 , 0.92256534, 0.9225007 ,\n",
       "       0.9210029 , 0.9202824 , 0.9130895 , 0.91210294, 0.90993017,\n",
       "       0.90932304, 0.9088533 , 0.9087193 , 0.90512127, 0.9049929 ,\n",
       "       0.90199584, 0.9007025 , 0.89852023, 0.8982889 , 0.89736724,\n",
       "       0.897348  , 0.89623076, 0.8959971 , 0.89593565, 0.8953792 ,\n",
       "       0.89523846, 0.8946437 , 0.8939751 , 0.8936067 , 0.8930935 ,\n",
       "       0.89290136, 0.8897439 , 0.8895745 , 0.8869751 , 0.88659674,\n",
       "       0.885009  , 0.8840116 , 0.8822348 , 0.8798037 , 0.8768448 ,\n",
       "       0.87666214, 0.8748807 , 0.8742714 , 0.87419343, 0.8740415 ,\n",
       "       0.87206405, 0.87188274, 0.8712188 , 0.87110287, 0.86900324,\n",
       "       0.8685556 , 0.86651057, 0.86533386, 0.8645602 , 0.862074  ,\n",
       "       0.8601578 , 0.8600697 , 0.85879946, 0.85777545, 0.849981  ,\n",
       "       0.8495727 , 0.8495058 , 0.8489632 , 0.84838647, 0.84587634,\n",
       "       0.84453005, 0.8442325 , 0.8442183 , 0.8433812 , 0.8428129 ,\n",
       "       0.84273493, 0.8395294 , 0.8386573 , 0.83647525, 0.83612084,\n",
       "       0.83557904, 0.8354911 , 0.8311256 , 0.83109885, 0.82886094,\n",
       "       0.82876086, 0.82779574, 0.82713044, 0.8194202 , 0.818088  ,\n",
       "       0.8177669 , 0.8176367 , 0.81600815, 0.8145916 , 0.8098277 ,\n",
       "       0.80918634, 0.80802184, 0.8076674 , 0.8074719 , 0.806493  ,\n",
       "       0.80518705, 0.8051471 , 0.8035022 , 0.8017213 , 0.800388  ,\n",
       "       0.8003327 , 0.80026054, 0.79960805, 0.7972178 , 0.79721606,\n",
       "       0.79684347, 0.7961816 , 0.7957448 , 0.795601  , 0.7936885 ,\n",
       "       0.7917153 , 0.7913883 , 0.7913832 , 0.79022884, 0.78996164,\n",
       "       0.7897729 , 0.78970253, 0.789383  , 0.7892788 , 0.7820117 ,\n",
       "       0.7817955 , 0.78172195, 0.78099275, 0.78094256, 0.7793947 ,\n",
       "       0.7789323 , 0.77853584, 0.7746435 , 0.7742953 , 0.77215195,\n",
       "       0.7711434 , 0.7707754 , 0.770424  , 0.7696616 , 0.7686258 ,\n",
       "       0.7679662 , 0.76768726, 0.76637185, 0.76531756, 0.7616283 ,\n",
       "       0.76131016, 0.7601518 , 0.7598261 , 0.7589786 , 0.7586939 ,\n",
       "       0.75801253, 0.75755435, 0.75689435, 0.7565474 , 0.75589484,\n",
       "       0.75486034, 0.7544977 , 0.7544526 , 0.75430965, 0.7540694 ,\n",
       "       0.7536139 , 0.7532595 , 0.7507326 , 0.7498405 , 0.7465312 ,\n",
       "       0.74619234, 0.74588287, 0.74582547, 0.7456718 , 0.74538815,\n",
       "       0.7434454 , 0.74198973, 0.7417168 , 0.7390273 , 0.73733616,\n",
       "       0.7365165 , 0.73573774, 0.7355852 , 0.7334414 , 0.7333504 ,\n",
       "       0.7333194 , 0.73242766, 0.7308767 , 0.73003095, 0.72852033,\n",
       "       0.7283652 , 0.72482264, 0.72425175, 0.7221738 , 0.72164935,\n",
       "       0.72068983, 0.7204968 , 0.720422  , 0.71945924, 0.71820396,\n",
       "       0.7180405 , 0.7178052 , 0.7176672 , 0.7174526 , 0.71719104,\n",
       "       0.71234876, 0.7110621 , 0.710438  , 0.70994127, 0.70832306,\n",
       "       0.70796204, 0.7070965 , 0.7068555 , 0.70670426, 0.7063447 ,\n",
       "       0.7052184 , 0.7049167 , 0.70444894, 0.7024574 , 0.7024435 ,\n",
       "       0.70215523, 0.702102  , 0.70092297, 0.6994244 , 0.6994067 ,\n",
       "       0.69398093, 0.69385827, 0.69341063, 0.6932793 , 0.69076025,\n",
       "       0.69003195, 0.68993217, 0.68916136, 0.68835205, 0.6876177 ,\n",
       "       0.6866588 , 0.68611044, 0.6859223 , 0.6824494 , 0.6814927 ,\n",
       "       0.6814264 , 0.6814118 , 0.68125176, 0.67983085, 0.67863065,\n",
       "       0.6780948 , 0.67782617, 0.67693037, 0.67642343, 0.67578465,\n",
       "       0.675685  , 0.67367136, 0.673615  , 0.6722538 , 0.6720549 ,\n",
       "       0.67148477, 0.6704427 , 0.6697418 , 0.66878414, 0.66687465,\n",
       "       0.66670597, 0.6666048 , 0.6660862 , 0.66559064, 0.6653194 ,\n",
       "       0.6642516 , 0.66383165, 0.66337925, 0.66323316, 0.66268384,\n",
       "       0.66253436, 0.6597295 , 0.6569918 , 0.6567425 , 0.65642   ,\n",
       "       0.65602285, 0.65602016, 0.6553873 , 0.6553559 , 0.6524615 ,\n",
       "       0.65171915, 0.65102893, 0.6505496 , 0.6499161 , 0.64945114,\n",
       "       0.6468605 , 0.64603096, 0.64567965, 0.64386195, 0.6434935 ,\n",
       "       0.642665  , 0.64262134, 0.6425579 , 0.64091104, 0.6408048 ,\n",
       "       0.6397537 , 0.63839096, 0.6371677 , 0.6367381 , 0.63556445,\n",
       "       0.6354177 , 0.63539624, 0.6343827 , 0.6319581 , 0.6314839 ,\n",
       "       0.6306427 , 0.62971884, 0.6285424 , 0.62791246, 0.62763643,\n",
       "       0.6275135 , 0.6266105 , 0.62631506, 0.62487674, 0.62441415,\n",
       "       0.6241861 , 0.6235211 , 0.62335765, 0.6228677 , 0.62158227,\n",
       "       0.6197928 , 0.61864716, 0.6184556 , 0.6184458 , 0.61806196,\n",
       "       0.6165663 , 0.6161854 , 0.615117  , 0.6147439 , 0.6137505 ,\n",
       "       0.613535  , 0.6114824 , 0.61021674, 0.6094422 , 0.6076563 ,\n",
       "       0.6076347 , 0.6072335 , 0.60646975, 0.60534334, 0.60454386,\n",
       "       0.6039045 , 0.60276496, 0.60099167, 0.5999328 , 0.5987871 ,\n",
       "       0.59876883, 0.5979543 , 0.5973768 , 0.59689784, 0.59686035,\n",
       "       0.5962038 , 0.59298974, 0.591333  , 0.59070337, 0.5905449 ,\n",
       "       0.5893951 , 0.5890349 , 0.58711225, 0.58516794, 0.5822455 ,\n",
       "       0.5813586 , 0.58084726, 0.58072454, 0.58014214, 0.5793997 ,\n",
       "       0.5766347 , 0.5748407 , 0.5743507 , 0.57360345, 0.57331604,\n",
       "       0.57322264, 0.5703467 , 0.56992245, 0.5687945 , 0.56853515,\n",
       "       0.5671973 , 0.56689423, 0.5645607 , 0.563301  , 0.5628878 ,\n",
       "       0.56277484, 0.5620046 , 0.56181824, 0.5611743 , 0.5608906 ,\n",
       "       0.5598375 , 0.5591255 , 0.55573964, 0.5553971 , 0.55363345,\n",
       "       0.5514704 , 0.54959315, 0.54769415, 0.5465951 , 0.54563963,\n",
       "       0.5452633 , 0.5444943 , 0.5429668 , 0.5421051 , 0.5418141 ,\n",
       "       0.541533  , 0.53949153, 0.53895086, 0.53691876, 0.5363851 ,\n",
       "       0.5331484 , 0.53255695, 0.5319697 , 0.5313413 , 0.5311681 ,\n",
       "       0.5289553 , 0.5286397 , 0.5286337 , 0.52784234, 0.52731663,\n",
       "       0.5268731 , 0.52534336, 0.52473485, 0.52446955, 0.52428925,\n",
       "       0.5241869 , 0.5223471 , 0.51875824, 0.51645917, 0.51528686,\n",
       "       0.51327395, 0.5127331 , 0.5124993 , 0.51228285, 0.5108774 ,\n",
       "       0.510867  , 0.5099242 , 0.5086384 , 0.5063764 , 0.50555474,\n",
       "       0.50423276, 0.5035282 , 0.5014424 , 0.501246  , 0.49975944,\n",
       "       0.49949268, 0.49946105, 0.49826285, 0.49733943, 0.4969323 ,\n",
       "       0.49425188, 0.4935406 , 0.49351338, 0.4931376 , 0.49311545,\n",
       "       0.49082607, 0.49034682, 0.49018198, 0.48902252, 0.48876482,\n",
       "       0.488084  , 0.48621112, 0.4854479 , 0.4850776 , 0.48429167,\n",
       "       0.4839082 , 0.48173368, 0.4815913 , 0.48143953, 0.48080838,\n",
       "       0.48048633, 0.48041087, 0.47608364, 0.47595912, 0.4755801 ,\n",
       "       0.4744636 , 0.47445253, 0.47431618, 0.46868435, 0.46860182,\n",
       "       0.4664998 , 0.46610153, 0.46595478, 0.46543026, 0.4651078 ,\n",
       "       0.46463042, 0.46430594, 0.4635551 , 0.46217778, 0.46148345,\n",
       "       0.4595708 , 0.45852807, 0.4572182 , 0.45719418, 0.45672125,\n",
       "       0.45443612, 0.45312262, 0.4529733 , 0.45139843, 0.45081913,\n",
       "       0.44840842, 0.4471341 , 0.44235426, 0.44217905, 0.44186512,\n",
       "       0.4411439 , 0.44088408, 0.43889353, 0.43784684, 0.43783224,\n",
       "       0.43670234, 0.43585154, 0.4347815 , 0.43312323, 0.43142176,\n",
       "       0.43090165, 0.42983392, 0.42982757, 0.42802376, 0.427889  ,\n",
       "       0.4275052 , 0.4258052 , 0.42546943, 0.4247174 , 0.42104465,\n",
       "       0.4209849 , 0.4208045 , 0.4206764 , 0.4187037 , 0.41831926,\n",
       "       0.41656813, 0.4158514 , 0.41485444, 0.41442877, 0.41330203,\n",
       "       0.41330013, 0.41306278, 0.41155836, 0.41149506, 0.4112371 ,\n",
       "       0.40918314, 0.40801162, 0.40795317, 0.40757194, 0.40749606,\n",
       "       0.40656626, 0.40595913, 0.40534928, 0.4041029 , 0.4040233 ,\n",
       "       0.40358523, 0.4035288 , 0.3998647 , 0.399088  , 0.39870474,\n",
       "       0.3965642 , 0.39600265, 0.39562517, 0.3953949 , 0.3940233 ,\n",
       "       0.3939155 , 0.39339358, 0.39141458, 0.39122108, 0.38867185,\n",
       "       0.38831082, 0.38408563, 0.38369638, 0.38231072, 0.38215214,\n",
       "       0.38185272, 0.3814242 , 0.38082275, 0.37940198, 0.3766512 ,\n",
       "       0.37531552, 0.3742211 , 0.3742025 , 0.37342024, 0.3729541 ,\n",
       "       0.37256312, 0.37205455, 0.3716544 , 0.37113097, 0.37087527,\n",
       "       0.3679198 , 0.36750013, 0.3673392 , 0.36686215, 0.36499277,\n",
       "       0.36274308, 0.36252373, 0.35892525, 0.3588105 , 0.35822207,\n",
       "       0.35779402, 0.3577193 , 0.35763457, 0.35528052, 0.35513648,\n",
       "       0.35487312, 0.3548252 , 0.3544094 , 0.35420644, 0.35131198,\n",
       "       0.35122803, 0.35121593, 0.35073438, 0.3486013 , 0.34665462,\n",
       "       0.34186664, 0.3415879 , 0.34136173, 0.34094787, 0.33876464,\n",
       "       0.33852443, 0.338522  , 0.3380696 , 0.3375519 , 0.33668083,\n",
       "       0.33038238, 0.32842708, 0.32761052, 0.32710996, 0.3246168 ,\n",
       "       0.32432094, 0.32426447, 0.32372263, 0.32210454, 0.32140958,\n",
       "       0.31825823, 0.3180382 , 0.31448653, 0.31317163, 0.31276953,\n",
       "       0.31211382, 0.31107894, 0.3110364 , 0.3097836 , 0.30966175,\n",
       "       0.30904213, 0.30837047, 0.30727637, 0.30669713, 0.3052668 ,\n",
       "       0.3039371 , 0.3033267 , 0.3026599 , 0.30193684, 0.30015996,\n",
       "       0.29920018, 0.29876685, 0.29813874, 0.29694182, 0.2946414 ,\n",
       "       0.29405323, 0.29393092, 0.29202664, 0.29198083, 0.2912014 ,\n",
       "       0.29031235, 0.28958267, 0.28731218, 0.28656724, 0.286222  ,\n",
       "       0.28612813, 0.28429607, 0.2842828 , 0.28300527, 0.28206763,\n",
       "       0.27644143, 0.27634525, 0.2747913 , 0.2742854 , 0.273868  ,\n",
       "       0.27338326, 0.27251723, 0.2725025 , 0.271242  , 0.27019465,\n",
       "       0.26995397, 0.26894227, 0.2652963 , 0.26299578, 0.2620167 ,\n",
       "       0.26186427, 0.2615911 , 0.26124173, 0.26006547, 0.2596974 ,\n",
       "       0.2586705 , 0.25663805, 0.25618032, 0.2560048 , 0.25180763,\n",
       "       0.25089166, 0.25034434, 0.2490166 , 0.24704288, 0.24609959,\n",
       "       0.24591404, 0.24498907, 0.24489424, 0.24471292, 0.2387379 ,\n",
       "       0.2372306 , 0.23535189, 0.23266399, 0.22987793, 0.2286867 ,\n",
       "       0.22742718, 0.22691645, 0.22609745, 0.2252761 , 0.22336547,\n",
       "       0.22260916, 0.21701884, 0.21667211, 0.21270506, 0.21079786,\n",
       "       0.2087467 , 0.20666747, 0.20662068, 0.20659375, 0.20536496,\n",
       "       0.20333004, 0.20224659, 0.20184945, 0.20176703, 0.20145646,\n",
       "       0.2008021 , 0.19888015, 0.19697407, 0.1962783 , 0.19528598,\n",
       "       0.19315669, 0.19205151, 0.18706274, 0.18495195, 0.18182965,\n",
       "       0.17239693, 0.16821268, 0.16820976, 0.16793299, 0.16646461,\n",
       "       0.16541111, 0.16422932, 0.16182417, 0.16071083, 0.16069412,\n",
       "       0.16041969, 0.15779045, 0.15656294, 0.15506935, 0.15440929,\n",
       "       0.15158153, 0.1477995 , 0.14533742, 0.13941436, 0.1390146 ,\n",
       "       0.13845403, 0.13790464, 0.13374989, 0.13360506, 0.13036919,\n",
       "       0.12988013, 0.1294578 , 0.12936722, 0.1291694 , 0.12090446,\n",
       "       0.11889817, 0.11497762, 0.11067414, 0.10434514, 0.10396624,\n",
       "       0.07777562, 0.05875082, 0.05259073, 0.05050053, 0.04799498,\n",
       "       0.04554724, 0.04200168, 0.01458986], dtype=float32)"
      ]
     },
     "execution_count": 284,
     "metadata": {},
     "output_type": "execute_result"
    }
   ],
   "source": [
    "thresholds"
   ]
  },
  {
   "cell_type": "markdown",
   "metadata": {},
   "source": [
    "Al igual que con el Random Forest, el resultado obtenido no es bueno ya que estamos obteniendo practicamente una recta en vez de una curva en forma de 'L' invertida."
   ]
  },
  {
   "cell_type": "markdown",
   "metadata": {},
   "source": [
    "La siguiente gráfica muestra las probabilidades de predicción en función de los umbrales."
   ]
  },
  {
   "cell_type": "code",
   "execution_count": 285,
   "metadata": {},
   "outputs": [
    {
     "data": {
      "text/plain": [
       "array([<Axes: title={'center': '0'}>, <Axes: title={'center': '1'}>],\n",
       "      dtype=object)"
      ]
     },
     "execution_count": 285,
     "metadata": {},
     "output_type": "execute_result"
    },
    {
     "data": {
      "image/png": "[encoded data removed]",
      "text/plain": [
       "<Figure size 640x480 with 2 Axes>"
      ]
     },
     "metadata": {},
     "output_type": "display_data"
    }
   ],
   "source": [
    "dprob = pd.DataFrame(data = {'probability':y_pred_prob_XG, 'actual':y_test})\n",
    "dprob.probability.hist(by=dprob.actual, sharex=True, sharey=True)"
   ]
  },
  {
   "cell_type": "markdown",
   "metadata": {},
   "source": [
    "Se muestra que los mejores resultados para ambas clases se obtiene con el *threshold* igual a 0.5 aproximandamente (es decir, el valor por defecto)."
   ]
  },
  {
   "cell_type": "code",
   "execution_count": 286,
   "metadata": {},
   "outputs": [
    {
     "name": "stdout",
     "output_type": "stream",
     "text": [
      "Sensitivity: 0.6513994910941476\n",
      "Recall: 0.43698854337152204\n"
     ]
    }
   ],
   "source": [
    "best_thres_XG = 0.5\n",
    "\n",
    "evaluate_threshold(best_thres_XG)"
   ]
  },
  {
   "cell_type": "markdown",
   "metadata": {},
   "source": [
    "Con este valor se obtienen los siguientes resultados. Primero se recalculan las predicciones."
   ]
  },
  {
   "cell_type": "code",
   "execution_count": 287,
   "metadata": {},
   "outputs": [],
   "source": [
    "probs_XG = model_XG.predict_proba(X_model_test)[:, 1]  \n",
    "pred_thres_XG= (probs_XG >= best_thres_XG).astype(int) "
   ]
  },
  {
   "cell_type": "markdown",
   "metadata": {},
   "source": [
    "Se evalua la matriz de confusión."
   ]
  },
  {
   "cell_type": "code",
   "execution_count": 288,
   "metadata": {},
   "outputs": [
    {
     "name": "stdout",
     "output_type": "stream",
     "text": [
      "[[267 344]\n",
      " [408 771]]\n"
     ]
    }
   ],
   "source": [
    "print(confusion_matrix(expected, pred_thres_XG))"
   ]
  },
  {
   "cell_type": "markdown",
   "metadata": {},
   "source": [
    "Y también se analiza el informe de la clasificación."
   ]
  },
  {
   "cell_type": "code",
   "execution_count": 289,
   "metadata": {},
   "outputs": [
    {
     "name": "stdout",
     "output_type": "stream",
     "text": [
      "              precision    recall  f1-score   support\n",
      "\n",
      "           0       0.40      0.44      0.42       611\n",
      "           1       0.69      0.65      0.67      1179\n",
      "\n",
      "    accuracy                           0.58      1790\n",
      "   macro avg       0.54      0.55      0.54      1790\n",
      "weighted avg       0.59      0.58      0.58      1790\n",
      "\n"
     ]
    }
   ],
   "source": [
    "print(classification_report(expected, pred_thres_XG))"
   ]
  },
  {
   "cell_type": "markdown",
   "metadata": {},
   "source": [
    "Obviamente son los mismos, ya que no estamos modificando el umbral realmente."
   ]
  },
  {
   "cell_type": "markdown",
   "metadata": {},
   "source": [
    "Finalmente se calcula el valor de AUC."
   ]
  },
  {
   "cell_type": "code",
   "execution_count": 290,
   "metadata": {},
   "outputs": [
    {
     "name": "stdout",
     "output_type": "stream",
     "text": [
      "0.5454662818638781\n"
     ]
    }
   ],
   "source": [
    "print(roc_auc_score(expected, predicted_XG))"
   ]
  },
  {
   "cell_type": "markdown",
   "metadata": {},
   "source": [
    "Se ha obtenido un valor entre 0.5 y 0.6, es decir, el modelo se considerá como fallido o *F*."
   ]
  },
  {
   "cell_type": "markdown",
   "metadata": {},
   "source": [
    "### 7.4.6 Optimizacion"
   ]
  },
  {
   "cell_type": "markdown",
   "metadata": {},
   "source": [
    "Ahora seleccionamos los hiperparámetros a evaluar mediante un GridSearchCV. Además, se ha añadido la librería *time* para saber el tiempo que tardo en realizar la busqueda de mejores parámetros.\n",
    "\n",
    "Estos hiperparámetros son:\n",
    "* ***max_depth***: máxima profundidad de cada árbol.\n",
    "* ***eta***: también llamado *learning_rate*,es un factor de escala que regula cuánto se actualizan los pesos en cada paso de boosting.\n",
    "* ***n_estimators***: número de árboles.\n",
    "* ***subsample***: proporción usada para entrenar cada árbol.\n",
    "* ***colsample_bytree***: fracción de columnas utilizadas para construir cada árbol."
   ]
  },
  {
   "cell_type": "markdown",
   "metadata": {},
   "source": [
    "Cabe mencionar que, para evitar tiempos de ejecución excesivos, se fueron iterando los parámetros focalizándose progresivamente en las combinaciones más prometedoras."
   ]
  },
  {
   "cell_type": "markdown",
   "metadata": {},
   "source": [
    "Primero se probó con:"
   ]
  },
  {
   "cell_type": "raw",
   "metadata": {
    "vscode": {
     "languageId": "raw"
    }
   },
   "source": [
    "param_grid = {\n",
    "    'max_depth': [5],\n",
    "    'eta': [0.06, 0.07, 0.08, 0.09, 0.1],\n",
    "    'n_estimators': [500, 600, 700],\n",
    "    'subsample': [0.9],\n",
    "    'colsample_bytree': [0.9],\n",
    "}"
   ]
  },
  {
   "cell_type": "markdown",
   "metadata": {},
   "source": [
    "Y el resultado obtenido para el caso mejor fue:"
   ]
  },
  {
   "cell_type": "raw",
   "metadata": {
    "vscode": {
     "languageId": "raw"
    }
   },
   "source": [
    "Mejores parámetros:  {'colsample_bytree': 0.9, 'eta': 0.08, 'max_depth': 5, 'n_estimators': 700, 'subsample': 0.9}\n",
    "Mejor score:  0.6160763145036465"
   ]
  },
  {
   "cell_type": "markdown",
   "metadata": {},
   "source": [
    "Y finalmente se probó con:"
   ]
  },
  {
   "cell_type": "raw",
   "metadata": {
    "vscode": {
     "languageId": "raw"
    }
   },
   "source": [
    "param_grid = {\n",
    "    'max_depth': [5, 8],\n",
    "    'eta': [ 0.08, 0.09, 0.1],\n",
    "    'n_estimators': [500, 600, 700, 900],\n",
    "    'subsample': [0.9, 1.0],\n",
    "    'colsample_bytree': [0.9, 1.0],\n",
    "}"
   ]
  },
  {
   "cell_type": "markdown",
   "metadata": {},
   "source": [
    "Y el resultado obtenido para el caso mejor fue:"
   ]
  },
  {
   "cell_type": "raw",
   "metadata": {
    "vscode": {
     "languageId": "raw"
    }
   },
   "source": [
    "Mejores parámetros:  {'colsample_bytree': 1.0, 'eta': 0.1, 'max_depth': 8, 'n_estimators': 500, 'subsample': 0.9}\n",
    "Mejor score:  0.627567181916202"
   ]
  },
  {
   "cell_type": "markdown",
   "metadata": {},
   "source": [
    "El codigo correspondiente a la última ejecución es el siguiente:"
   ]
  },
  {
   "cell_type": "raw",
   "metadata": {
    "vscode": {
     "languageId": "raw"
    }
   },
   "source": [
    "optm_XG = XGBClassifier(\n",
    "    objective='binary:logistic',\n",
    "    eval_metric='auc',\n",
    "    random_state=seed\n",
    ")\n",
    "\n",
    "param_grid = {\n",
    "    'max_depth': [5, 8],\n",
    "    'eta': [ 0.08, 0.09, 0.1],\n",
    "    'n_estimators': [500, 600, 700, 900],\n",
    "    'subsample': [0.9, 1.0],\n",
    "    'colsample_bytree': [0.9, 1.0],\n",
    "}\n",
    "\n",
    "\n",
    "grid_search = GridSearchCV(optm_XG, param_grid=param_grid, scoring=make_scorer(f1_score, average='weighted'), cv=3, n_jobs=-1)\n",
    "\n",
    "inicio = time.time()\n",
    "grid_search.fit(X_model, y_model)\n",
    "fin = time.time()"
   ]
  },
  {
   "cell_type": "markdown",
   "metadata": {},
   "source": [
    "Se calcula el tiempo que ha tardado en minutos."
   ]
  },
  {
   "cell_type": "raw",
   "metadata": {
    "vscode": {
     "languageId": "raw"
    }
   },
   "source": [
    "tiempo_total = (fin - inicio) / 60\n",
    "print(f\"La celda tardó {tiempo_total} minutos en ejecutarse.\")"
   ]
  },
  {
   "cell_type": "markdown",
   "metadata": {},
   "source": [
    "Se escoge el mejor parámetro y su  precisión asociada."
   ]
  },
  {
   "cell_type": "raw",
   "metadata": {
    "vscode": {
     "languageId": "raw"
    }
   },
   "source": [
    "print(\"Mejores parámetros: \", grid_search.best_params_)\n",
    "print(\"Mejor score: \", grid_search.best_score_)"
   ]
  },
  {
   "cell_type": "markdown",
   "metadata": {},
   "source": [
    "Observamos los mejores 10 casos para analizar varias posibilidades."
   ]
  },
  {
   "cell_type": "raw",
   "metadata": {
    "vscode": {
     "languageId": "raw"
    }
   },
   "source": [
    "results_df = pd.DataFrame(grid_search.cv_results_)"
   ]
  },
  {
   "cell_type": "raw",
   "metadata": {
    "vscode": {
     "languageId": "raw"
    }
   },
   "source": [
    "top_10_models = results_df.nlargest(10, \"mean_test_score\")\n",
    "\n",
    "print(\"\\nLos 10 mejores modelos:\")\n",
    "for index, row in top_10_models.iterrows():\n",
    "    print(\"\\nModelo:\")\n",
    "    print(f\"Parámetros: {row['params']}\")\n",
    "    print(f\"Puntuación media de prueba: {row['mean_test_score']}\")"
   ]
  },
  {
   "cell_type": "markdown",
   "metadata": {},
   "source": [
    "### 7.4.7 Entrenamiento y evaluacion con hiperparametros optimizados"
   ]
  },
  {
   "cell_type": "markdown",
   "metadata": {},
   "source": [
    "#### - Definicion"
   ]
  },
  {
   "cell_type": "markdown",
   "metadata": {},
   "source": [
    "Definimos los mejores parámetros (no se define con *grid_search.best_params_* para probar varias opciones de forma sencilla)."
   ]
  },
  {
   "cell_type": "code",
   "execution_count": 291,
   "metadata": {},
   "outputs": [],
   "source": [
    "params_final_XG = {\n",
    "    'objective': 'binary:logistic',\n",
    "    'eval_metric': 'auc',\n",
    "    'max_depth': 8,\n",
    "    'eta': 0.1,\n",
    "    'n_estimators': 500,\n",
    "    'subsample': 0.9,\n",
    "    'colsample_bytree': 1.0,\n",
    "    'random_state': seed\n",
    "}"
   ]
  },
  {
   "cell_type": "markdown",
   "metadata": {},
   "source": [
    "Definimos el modelo desagregando el diccionario."
   ]
  },
  {
   "cell_type": "code",
   "execution_count": 292,
   "metadata": {},
   "outputs": [],
   "source": [
    "final_XG = XGBClassifier(**params_final_XG)"
   ]
  },
  {
   "cell_type": "markdown",
   "metadata": {},
   "source": [
    "#### - Entrenamiento y evaluacion"
   ]
  },
  {
   "cell_type": "markdown",
   "metadata": {},
   "source": [
    "Entrenamos el modelo y comprobamos su exactitud."
   ]
  },
  {
   "cell_type": "code",
   "execution_count": 293,
   "metadata": {},
   "outputs": [],
   "source": [
    "final_XG.fit(X_model, y_model)\n",
    "\n",
    "predicted_XG_opt = final_XG.predict(X_model_test)"
   ]
  },
  {
   "cell_type": "code",
   "execution_count": 294,
   "metadata": {},
   "outputs": [
    {
     "data": {
      "text/plain": [
       "0.582122905027933"
      ]
     },
     "execution_count": 294,
     "metadata": {},
     "output_type": "execute_result"
    }
   ],
   "source": [
    "accuracy_score(expected, predicted_XG_opt)"
   ]
  },
  {
   "cell_type": "markdown",
   "metadata": {},
   "source": [
    "#### - Null accuracy"
   ]
  },
  {
   "cell_type": "markdown",
   "metadata": {},
   "source": [
    "La accuracy es similar a la anterior. Además, sigue siendo peor que la *null accuracy*."
   ]
  },
  {
   "cell_type": "markdown",
   "metadata": {},
   "source": [
    "#### - Matriz de confusion y F-score"
   ]
  },
  {
   "cell_type": "markdown",
   "metadata": {},
   "source": [
    "La matriz de confusión y el informe de clasificación también es muy similar."
   ]
  },
  {
   "cell_type": "code",
   "execution_count": 295,
   "metadata": {},
   "outputs": [
    {
     "name": "stdout",
     "output_type": "stream",
     "text": [
      "[[251 360]\n",
      " [388 791]]\n"
     ]
    }
   ],
   "source": [
    "print(confusion_matrix(expected, predicted_XG_opt))"
   ]
  },
  {
   "cell_type": "code",
   "execution_count": 296,
   "metadata": {},
   "outputs": [
    {
     "name": "stdout",
     "output_type": "stream",
     "text": [
      "              precision    recall  f1-score   support\n",
      "\n",
      "           0       0.39      0.41      0.40       611\n",
      "           1       0.69      0.67      0.68      1179\n",
      "\n",
      "    accuracy                           0.58      1790\n",
      "   macro avg       0.54      0.54      0.54      1790\n",
      "weighted avg       0.59      0.58      0.58      1790\n",
      "\n"
     ]
    }
   ],
   "source": [
    "print(classification_report(expected, predicted_XG_opt))"
   ]
  },
  {
   "cell_type": "markdown",
   "metadata": {},
   "source": [
    "#### - ROC y AUC"
   ]
  },
  {
   "cell_type": "markdown",
   "metadata": {},
   "source": [
    "Se calcula el ROC y se reajusta el umbral de probabilidad."
   ]
  },
  {
   "cell_type": "code",
   "execution_count": 297,
   "metadata": {},
   "outputs": [
    {
     "data": {
      "image/png": "[encoded data removed]",
      "text/plain": [
       "<Figure size 640x480 with 1 Axes>"
      ]
     },
     "metadata": {},
     "output_type": "display_data"
    }
   ],
   "source": [
    "y_pred_prob_XG = final_XG.predict_proba(X_model_test)[:,1]\n",
    "fpr, tpr, thresholds = roc_curve(y_test, y_pred_prob_XG)\n",
    "plt.plot(fpr, tpr)\n",
    "plt.xlim([0.0, 1.0])\n",
    "plt.ylim([0.0, 1.0])\n",
    "plt.title('Curva ROC')\n",
    "plt.xlabel('Ratio de FP (1 - Recall)')\n",
    "plt.ylabel('Ratio TP (Sensitivity)')\n",
    "plt.grid(True)\n",
    "plt.show()"
   ]
  },
  {
   "cell_type": "code",
   "execution_count": 298,
   "metadata": {},
   "outputs": [
    {
     "data": {
      "text/plain": [
       "array([       inf, 0.9982287 , 0.99655306, 0.9965403 , 0.9925989 ,\n",
       "       0.9923211 , 0.9916415 , 0.991533  , 0.99133015, 0.9912958 ,\n",
       "       0.99090135, 0.9899429 , 0.98980576, 0.98898274, 0.9885747 ,\n",
       "       0.98827726, 0.98300236, 0.98286414, 0.9810807 , 0.9808301 ,\n",
       "       0.98075575, 0.98075336, 0.9804065 , 0.9803405 , 0.97996485,\n",
       "       0.9798116 , 0.97918075, 0.97900933, 0.9784968 , 0.9782193 ,\n",
       "       0.97512573, 0.9745105 , 0.972432  , 0.9724097 , 0.9705043 ,\n",
       "       0.9701479 , 0.9695318 , 0.9691687 , 0.96364546, 0.96355313,\n",
       "       0.96221495, 0.9621347 , 0.9616399 , 0.9615612 , 0.9609219 ,\n",
       "       0.9608207 , 0.9595125 , 0.95852894, 0.9582092 , 0.9579129 ,\n",
       "       0.9564639 , 0.95643824, 0.95511633, 0.95465857, 0.95249563,\n",
       "       0.95215255, 0.9510145 , 0.9509651 , 0.9506926 , 0.95069075,\n",
       "       0.9490947 , 0.9487061 , 0.94509274, 0.94500613, 0.94469404,\n",
       "       0.9437923 , 0.9416877 , 0.94156575, 0.9403256 , 0.940241  ,\n",
       "       0.94015193, 0.93932235, 0.9392806 , 0.9388312 , 0.93634313,\n",
       "       0.9355751 , 0.93412447, 0.9337117 , 0.9306912 , 0.9306158 ,\n",
       "       0.92967975, 0.92902315, 0.9288036 , 0.9286964 , 0.92778295,\n",
       "       0.9275316 , 0.92594856, 0.92511857, 0.92356646, 0.92285806,\n",
       "       0.9209554 , 0.92069757, 0.92068595, 0.92063177, 0.91964865,\n",
       "       0.91925913, 0.91720694, 0.91606414, 0.9148725 , 0.91458535,\n",
       "       0.9140741 , 0.9137458 , 0.91028404, 0.9098244 , 0.9075084 ,\n",
       "       0.90749127, 0.90684223, 0.9061031 , 0.904037  , 0.9038304 ,\n",
       "       0.9027162 , 0.90233153, 0.90195996, 0.901709  , 0.8995183 ,\n",
       "       0.89936435, 0.8986367 , 0.8976205 , 0.89673126, 0.89637923,\n",
       "       0.8953944 , 0.8953673 , 0.8949867 , 0.89495105, 0.89454573,\n",
       "       0.894012  , 0.8924685 , 0.89237064, 0.8912106 , 0.8910388 ,\n",
       "       0.8900809 , 0.88994366, 0.88961023, 0.888804  , 0.8881693 ,\n",
       "       0.88782334, 0.8877242 , 0.8867501 , 0.88576525, 0.8856452 ,\n",
       "       0.8855908 , 0.8853412 , 0.8812985 , 0.8778059 , 0.8737831 ,\n",
       "       0.8721401 , 0.87194264, 0.8716979 , 0.87121737, 0.87116605,\n",
       "       0.87008303, 0.86956525, 0.8686892 , 0.86833125, 0.86809164,\n",
       "       0.86768323, 0.8671157 , 0.86700404, 0.8662025 , 0.8660493 ,\n",
       "       0.86529046, 0.86370593, 0.8635737 , 0.8627843 , 0.86257017,\n",
       "       0.86234033, 0.86035657, 0.85995466, 0.8598454 , 0.85896647,\n",
       "       0.8576181 , 0.85758084, 0.8575471 , 0.8574357 , 0.8572189 ,\n",
       "       0.8568431 , 0.85279983, 0.8524094 , 0.8510682 , 0.8506329 ,\n",
       "       0.85041654, 0.85037667, 0.8497625 , 0.84946585, 0.84926075,\n",
       "       0.8491235 , 0.84683496, 0.84681827, 0.84080356, 0.84073144,\n",
       "       0.840176  , 0.8397536 , 0.8382234 , 0.83742565, 0.8362312 ,\n",
       "       0.8351964 , 0.8322029 , 0.8318533 , 0.8306683 , 0.8295778 ,\n",
       "       0.8278883 , 0.82662797, 0.82516575, 0.82478917, 0.82315034,\n",
       "       0.8227926 , 0.82163006, 0.8200649 , 0.819731  , 0.8196959 ,\n",
       "       0.81437105, 0.8140852 , 0.8119632 , 0.8118378 , 0.8095303 ,\n",
       "       0.8083879 , 0.80823237, 0.8078597 , 0.8053655 , 0.8050657 ,\n",
       "       0.8049713 , 0.8048823 , 0.8048371 , 0.80475104, 0.8021027 ,\n",
       "       0.801878  , 0.8006133 , 0.7996869 , 0.7993812 , 0.7989873 ,\n",
       "       0.7974865 , 0.79544884, 0.791595  , 0.7907323 , 0.7902392 ,\n",
       "       0.7899446 , 0.78625476, 0.78429973, 0.78283924, 0.7824355 ,\n",
       "       0.7802109 , 0.7794688 , 0.7775638 , 0.77729326, 0.77610135,\n",
       "       0.7751825 , 0.7751179 , 0.77301073, 0.7712515 , 0.7709216 ,\n",
       "       0.7686882 , 0.76664025, 0.7619968 , 0.76184714, 0.75867   ,\n",
       "       0.7582402 , 0.75335455, 0.7531629 , 0.7526506 , 0.75167984,\n",
       "       0.7508097 , 0.74909496, 0.7487274 , 0.7483876 , 0.74665076,\n",
       "       0.74486715, 0.74197817, 0.7409982 , 0.7391119 , 0.7382839 ,\n",
       "       0.73816025, 0.7358497 , 0.7327981 , 0.7317623 , 0.7277151 ,\n",
       "       0.72739434, 0.7269304 , 0.7257364 , 0.7257014 , 0.7253849 ,\n",
       "       0.7253073 , 0.72491896, 0.7239374 , 0.72371113, 0.7227725 ,\n",
       "       0.7226715 , 0.7221926 , 0.7205014 , 0.7181715 , 0.7172004 ,\n",
       "       0.7143697 , 0.7137924 , 0.70986795, 0.709804  , 0.708671  ,\n",
       "       0.70852363, 0.7044922 , 0.7036804 , 0.7023867 , 0.7021706 ,\n",
       "       0.69654924, 0.69598603, 0.6940751 , 0.69314796, 0.6909839 ,\n",
       "       0.690848  , 0.69045055, 0.6895665 , 0.68940985, 0.6890595 ,\n",
       "       0.68723345, 0.6867634 , 0.6863184 , 0.68418616, 0.6832703 ,\n",
       "       0.6830564 , 0.68268913, 0.682479  , 0.68221885, 0.680451  ,\n",
       "       0.68044084, 0.67993385, 0.67906606, 0.678708  , 0.6774672 ,\n",
       "       0.6771409 , 0.67646825, 0.6758066 , 0.6741394 , 0.67399037,\n",
       "       0.67335284, 0.6731345 , 0.6725882 , 0.6707991 , 0.667409  ,\n",
       "       0.6671227 , 0.6666182 , 0.66312355, 0.6553969 , 0.6550555 ,\n",
       "       0.6545735 , 0.65334725, 0.6517745 , 0.6515266 , 0.650515  ,\n",
       "       0.6504892 , 0.6487284 , 0.64770746, 0.64406264, 0.64387834,\n",
       "       0.6437646 , 0.64319724, 0.6430936 , 0.6422663 , 0.64057785,\n",
       "       0.6390874 , 0.63471395, 0.6345123 , 0.6336464 , 0.6332085 ,\n",
       "       0.6307078 , 0.6306268 , 0.628454  , 0.6257673 , 0.6211372 ,\n",
       "       0.6200134 , 0.6186467 , 0.6182541 , 0.61779654, 0.61597884,\n",
       "       0.6126637 , 0.61185235, 0.61057353, 0.6091363 , 0.60876644,\n",
       "       0.60854906, 0.60750026, 0.607166  , 0.60487515, 0.6038388 ,\n",
       "       0.60078496, 0.60023934, 0.5986051 , 0.5981526 , 0.59661615,\n",
       "       0.5963408 , 0.595404  , 0.59370303, 0.5923958 , 0.5913949 ,\n",
       "       0.5901108 , 0.5899483 , 0.5879486 , 0.58716196, 0.58643466,\n",
       "       0.58547693, 0.58341175, 0.581656  , 0.5815122 , 0.5805546 ,\n",
       "       0.5798518 , 0.5794842 , 0.5791087 , 0.5781879 , 0.57751894,\n",
       "       0.57699704, 0.57689047, 0.57675475, 0.57512486, 0.5748558 ,\n",
       "       0.5726796 , 0.57134783, 0.5711829 , 0.5709057 , 0.5705171 ,\n",
       "       0.56940156, 0.5691624 , 0.56682503, 0.5644613 , 0.5640459 ,\n",
       "       0.5615955 , 0.56115675, 0.5599734 , 0.5578359 , 0.55729353,\n",
       "       0.5572417 , 0.5565005 , 0.5557601 , 0.55429393, 0.5539362 ,\n",
       "       0.5537138 , 0.5536989 , 0.5533925 , 0.55142576, 0.5504952 ,\n",
       "       0.5497027 , 0.5484532 , 0.5477544 , 0.54613215, 0.5459732 ,\n",
       "       0.5453633 , 0.5434562 , 0.54177433, 0.5413638 , 0.54089445,\n",
       "       0.53965   , 0.5379199 , 0.5359069 , 0.53211063, 0.53060335,\n",
       "       0.53021073, 0.530166  , 0.52937555, 0.528969  , 0.5284698 ,\n",
       "       0.5268051 , 0.52555907, 0.5201256 , 0.5190366 , 0.5174082 ,\n",
       "       0.51674265, 0.5149553 , 0.51476586, 0.5145593 , 0.5141052 ,\n",
       "       0.5118455 , 0.5095249 , 0.5083444 , 0.5066491 , 0.50645596,\n",
       "       0.504597  , 0.50366855, 0.50313526, 0.50311106, 0.5019417 ,\n",
       "       0.49986002, 0.4928942 , 0.49129575, 0.48779115, 0.48767528,\n",
       "       0.48621234, 0.48579708, 0.48565337, 0.48474398, 0.4830712 ,\n",
       "       0.48299634, 0.48111013, 0.47957194, 0.47926873, 0.47890455,\n",
       "       0.4776758 , 0.47742122, 0.47691202, 0.4747372 , 0.47366056,\n",
       "       0.4725327 , 0.4648834 , 0.464091  , 0.46390846, 0.46366423,\n",
       "       0.4629566 , 0.46210945, 0.45815438, 0.4553029 , 0.44692767,\n",
       "       0.445642  , 0.44335565, 0.44319636, 0.4421308 , 0.4417057 ,\n",
       "       0.44142094, 0.4409017 , 0.44067004, 0.4405504 , 0.44005895,\n",
       "       0.4360535 , 0.4343144 , 0.43314698, 0.4315871 , 0.42983916,\n",
       "       0.42875478, 0.4280803 , 0.42523012, 0.4234663 , 0.42339396,\n",
       "       0.42164758, 0.4161744 , 0.41426152, 0.41325846, 0.41269   ,\n",
       "       0.41231728, 0.4121949 , 0.41104296, 0.41013575, 0.40563828,\n",
       "       0.40560842, 0.4051661 , 0.40471357, 0.4018216 , 0.4013097 ,\n",
       "       0.39691794, 0.39599198, 0.3950831 , 0.39467004, 0.3929698 ,\n",
       "       0.3927473 , 0.39269572, 0.3924063 , 0.39112765, 0.38766396,\n",
       "       0.3856185 , 0.38472927, 0.38240921, 0.3822991 , 0.37960142,\n",
       "       0.37880114, 0.3780773 , 0.3769137 , 0.37673935, 0.37541467,\n",
       "       0.37202498, 0.37051234, 0.36761853, 0.36714536, 0.36371794,\n",
       "       0.36212453, 0.36118236, 0.36061192, 0.35984373, 0.35939646,\n",
       "       0.35609734, 0.3556904 , 0.35495725, 0.35407674, 0.3536101 ,\n",
       "       0.3535914 , 0.35343742, 0.3496792 , 0.34908742, 0.3466873 ,\n",
       "       0.3439674 , 0.34345323, 0.33529416, 0.3340612 , 0.33300045,\n",
       "       0.33279836, 0.33206198, 0.33031186, 0.32743067, 0.3262157 ,\n",
       "       0.3258276 , 0.32368034, 0.32310927, 0.32224283, 0.32198185,\n",
       "       0.3201575 , 0.31941217, 0.31870002, 0.31672534, 0.31321803,\n",
       "       0.31119525, 0.3090981 , 0.30791053, 0.3069095 , 0.30677128,\n",
       "       0.30630547, 0.30110446, 0.3006585 , 0.29811904, 0.29613265,\n",
       "       0.29610944, 0.29499337, 0.29437584, 0.29126   , 0.2874428 ,\n",
       "       0.28697845, 0.2861516 , 0.28314286, 0.28089938, 0.28027347,\n",
       "       0.27966732, 0.27779016, 0.2732718 , 0.27216557, 0.27184936,\n",
       "       0.270041  , 0.26639068, 0.26605347, 0.26539508, 0.2643132 ,\n",
       "       0.2622847 , 0.26037848, 0.25768945, 0.25388503, 0.25357744,\n",
       "       0.2526603 , 0.25140336, 0.2513213 , 0.25121528, 0.2510901 ,\n",
       "       0.25039962, 0.2502435 , 0.24791159, 0.24690868, 0.24520385,\n",
       "       0.24489735, 0.24358323, 0.24044675, 0.23880754, 0.23557852,\n",
       "       0.23345968, 0.23273236, 0.23181516, 0.23119415, 0.23103006,\n",
       "       0.23081014, 0.22951367, 0.22895914, 0.2285022 , 0.22413976,\n",
       "       0.22376768, 0.22309771, 0.22234662, 0.22201033, 0.21760935,\n",
       "       0.21743366, 0.21692617, 0.21692197, 0.20893683, 0.20866586,\n",
       "       0.20395562, 0.20343375, 0.20049496, 0.2002766 , 0.2001799 ,\n",
       "       0.19987324, 0.19905587, 0.19748764, 0.19311251, 0.19268489,\n",
       "       0.19051059, 0.18693663, 0.18657921, 0.18503167, 0.18346676,\n",
       "       0.18281321, 0.18248029, 0.17201596, 0.17143427, 0.16993825,\n",
       "       0.16783708, 0.16577792, 0.16231593, 0.15923604, 0.1579719 ,\n",
       "       0.15407807, 0.15257157, 0.15222785, 0.14921659, 0.14834295,\n",
       "       0.14302953, 0.14138189, 0.1411302 , 0.14002992, 0.13970335,\n",
       "       0.1339137 , 0.13377747, 0.13351618, 0.13289475, 0.13266854,\n",
       "       0.12893333, 0.12713999, 0.12694307, 0.1253141 , 0.1251546 ,\n",
       "       0.1251425 , 0.12410924, 0.12337141, 0.12006237, 0.11868226,\n",
       "       0.11859404, 0.11810036, 0.11761177, 0.1168622 , 0.10724939,\n",
       "       0.1051425 , 0.10235344, 0.10139935, 0.0991414 , 0.09841767,\n",
       "       0.09759777, 0.09450287, 0.0908545 , 0.08864545, 0.08846395,\n",
       "       0.07980087, 0.0796339 , 0.07869711, 0.07785407, 0.07477192,\n",
       "       0.07044374, 0.07009329, 0.06996489, 0.06492231, 0.05832085,\n",
       "       0.05511217, 0.05492723, 0.04984898, 0.04824328, 0.04111875,\n",
       "       0.04031295, 0.04021328, 0.03703312, 0.03622141, 0.03515867,\n",
       "       0.03441525, 0.03380905, 0.01599462, 0.00868084], dtype=float32)"
      ]
     },
     "execution_count": 298,
     "metadata": {},
     "output_type": "execute_result"
    }
   ],
   "source": [
    "thresholds"
   ]
  },
  {
   "cell_type": "code",
   "execution_count": 299,
   "metadata": {},
   "outputs": [
    {
     "data": {
      "text/plain": [
       "array([<Axes: title={'center': '0'}>, <Axes: title={'center': '1'}>],\n",
       "      dtype=object)"
      ]
     },
     "execution_count": 299,
     "metadata": {},
     "output_type": "execute_result"
    },
    {
     "data": {
      "image/png": "[encoded data removed]",
      "text/plain": [
       "<Figure size 640x480 with 2 Axes>"
      ]
     },
     "metadata": {},
     "output_type": "display_data"
    }
   ],
   "source": [
    "dprob = pd.DataFrame(data = {'probability':y_pred_prob_XG, 'actual':y_test})\n",
    "dprob.probability.hist(by=dprob.actual, sharex=True, sharey=True)"
   ]
  },
  {
   "cell_type": "code",
   "execution_count": 300,
   "metadata": {},
   "outputs": [
    {
     "name": "stdout",
     "output_type": "stream",
     "text": [
      "Sensitivity: 0.6709075487701441\n",
      "Recall: 0.41243862520458263\n"
     ]
    }
   ],
   "source": [
    "op_thres_XG = 0.5\n",
    "\n",
    "evaluate_threshold(op_thres_XG)"
   ]
  },
  {
   "cell_type": "code",
   "execution_count": 301,
   "metadata": {},
   "outputs": [],
   "source": [
    "probs_XG_opt = final_XG.predict_proba(X_model_test)[:, 1]  \n",
    "pred_thres_XG_opt = (probs_XG_opt >= op_thres_XG).astype(int) "
   ]
  },
  {
   "cell_type": "code",
   "execution_count": 302,
   "metadata": {},
   "outputs": [
    {
     "name": "stdout",
     "output_type": "stream",
     "text": [
      "[[251 360]\n",
      " [388 791]]\n"
     ]
    }
   ],
   "source": [
    "print(confusion_matrix(expected, pred_thres_XG_opt))"
   ]
  },
  {
   "cell_type": "code",
   "execution_count": 303,
   "metadata": {},
   "outputs": [
    {
     "name": "stdout",
     "output_type": "stream",
     "text": [
      "              precision    recall  f1-score   support\n",
      "\n",
      "           0       0.39      0.41      0.40       611\n",
      "           1       0.69      0.67      0.68      1179\n",
      "\n",
      "    accuracy                           0.58      1790\n",
      "   macro avg       0.54      0.54      0.54      1790\n",
      "weighted avg       0.59      0.58      0.58      1790\n",
      "\n"
     ]
    }
   ],
   "source": [
    "print(classification_report(expected, pred_thres_XG_opt))"
   ]
  },
  {
   "cell_type": "markdown",
   "metadata": {},
   "source": [
    "Se obtienen los mismos resultados porque sigue siendo el mejor caso con umbral igual a 0,5."
   ]
  },
  {
   "cell_type": "markdown",
   "metadata": {},
   "source": [
    "Se calcula la AUC score."
   ]
  },
  {
   "cell_type": "code",
   "execution_count": 304,
   "metadata": {},
   "outputs": [
    {
     "name": "stdout",
     "output_type": "stream",
     "text": [
      "0.5408547563817987\n"
     ]
    }
   ],
   "source": [
    "print(roc_auc_score(expected, predicted_XG_opt))"
   ]
  },
  {
   "cell_type": "markdown",
   "metadata": {},
   "source": [
    "También ha tenido una pequeña mejora, pero sigue en el mismo intervalo. Es decir, sigue siendo un modelo *F*."
   ]
  },
  {
   "cell_type": "markdown",
   "metadata": {},
   "source": [
    "### 7.4.8 Conclusiones del modelo"
   ]
  },
  {
   "cell_type": "markdown",
   "metadata": {},
   "source": [
    "Tal y como esta el modelo no se estan obteniendo buenos resultados debido a la escasez de entradas y la gran cantidad de dimensiones que presenta el dataset. Estamos obteniendo prácticamente los mismos resultados que si decidieramos clasificar al azar.\n",
    "\n",
    "Aun así cabe resaltar que puede llegar a funcionar mejor que el Random Forest debido a que predice mejor los 0s. Además existe un mayor margen de trabajo a la hora de modificar el umbral de probabilidad."
   ]
  },
  {
   "cell_type": "markdown",
   "metadata": {},
   "source": [
    "# 8. Exportar CSV"
   ]
  },
  {
   "cell_type": "markdown",
   "metadata": {},
   "source": [
    "## 8.1 Asignacion de las variables"
   ]
  },
  {
   "cell_type": "markdown",
   "metadata": {},
   "source": [
    "Asignamos las variables para el analisis en función del desarrollo del apartado del preprocesado."
   ]
  },
  {
   "cell_type": "code",
   "execution_count": 305,
   "metadata": {},
   "outputs": [],
   "source": [
    "X_kaggle = X_res_final\n",
    "y_kaggle = y_res_final\n",
    "\n",
    "X_kaggle_test = X_scaled_te_final"
   ]
  },
  {
   "cell_type": "markdown",
   "metadata": {},
   "source": [
    "## 8.2 Clasificador Random Forest"
   ]
  },
  {
   "cell_type": "markdown",
   "metadata": {},
   "source": [
    "Se entrena con los nuevos valores de train y test, y se modifica el umbral de probabilidades. En un principio, el valor del umbral era el de la variable *op_thres_Random*, pero se decidió finalmente que el valor del umbral fueran valores numéricos para que fuera más sencillo hacer diversas pruebas en Kaggle."
   ]
  },
  {
   "cell_type": "code",
   "execution_count": 306,
   "metadata": {},
   "outputs": [],
   "source": [
    "final_Forest.fit(X_kaggle, y_kaggle)\n",
    "\n",
    "probs_For_final = final_Forest.predict_proba(X_kaggle_test)[:, 1]  \n",
    "pred_thres_For_final = (probs_For_final >= 0.5).astype(int) "
   ]
  },
  {
   "cell_type": "markdown",
   "metadata": {},
   "source": [
    "Se crea un *dataframe* con las predicciones obtenidas con su correspondiente *id*."
   ]
  },
  {
   "cell_type": "code",
   "execution_count": 307,
   "metadata": {},
   "outputs": [],
   "source": [
    "df_label_Random = pd.DataFrame(pred_thres_For_final, columns=['label'])"
   ]
  },
  {
   "cell_type": "code",
   "execution_count": 308,
   "metadata": {},
   "outputs": [],
   "source": [
    "df_id = df_test['id'].reset_index(drop=True)"
   ]
  },
  {
   "cell_type": "code",
   "execution_count": 309,
   "metadata": {},
   "outputs": [],
   "source": [
    "df_final_Random = pd.concat([df_id, df_label_Random], axis=1)"
   ]
  },
  {
   "cell_type": "markdown",
   "metadata": {},
   "source": [
    "Mostramos los resultados obtenidos para tener una idea de la proporción de 1s y 0s de Kaggle."
   ]
  },
  {
   "cell_type": "code",
   "execution_count": 310,
   "metadata": {},
   "outputs": [
    {
     "data": {
      "text/plain": [
       "label\n",
       "1    2258\n",
       "0    1578\n",
       "Name: count, dtype: int64"
      ]
     },
     "execution_count": 310,
     "metadata": {},
     "output_type": "execute_result"
    }
   ],
   "source": [
    "df_final_Random['label'].value_counts()"
   ]
  },
  {
   "cell_type": "markdown",
   "metadata": {},
   "source": [
    "Se transforma el *dataframe* a un archivo *CSV*."
   ]
  },
  {
   "cell_type": "code",
   "execution_count": 311,
   "metadata": {},
   "outputs": [],
   "source": [
    "df_final_Random.to_csv('./submit/randomWord2vec.csv', index=False)"
   ]
  },
  {
   "cell_type": "markdown",
   "metadata": {},
   "source": [
    "## 8.3 Clasificador XGBoost"
   ]
  },
  {
   "cell_type": "code",
   "execution_count": 312,
   "metadata": {},
   "outputs": [],
   "source": [
    "final_XG.fit(X_kaggle, y_kaggle)\n",
    "\n",
    "probs_XG_final = final_XG.predict_proba(X_kaggle_test)[:, 1]  \n",
    "pred_thres_XG_final = (probs_XG_final >= 0.5).astype(int) "
   ]
  },
  {
   "cell_type": "markdown",
   "metadata": {},
   "source": [
    "Se crea un *dataframe* con las predicciones obtenidas con su correspondiente *id*."
   ]
  },
  {
   "cell_type": "code",
   "execution_count": 313,
   "metadata": {},
   "outputs": [],
   "source": [
    "df_label_XG = pd.DataFrame(pred_thres_XG_final, columns=['label'])"
   ]
  },
  {
   "cell_type": "code",
   "execution_count": 314,
   "metadata": {},
   "outputs": [],
   "source": [
    "df_id = df_test['id'].reset_index(drop=True)"
   ]
  },
  {
   "cell_type": "code",
   "execution_count": 315,
   "metadata": {},
   "outputs": [],
   "source": [
    "df_final_XG = pd.concat([df_id, df_label_XG], axis=1)"
   ]
  },
  {
   "cell_type": "markdown",
   "metadata": {},
   "source": [
    "Mostramos los resultados obtenidos para tener una idea de la proporción de 1s y 0s de Kaggle."
   ]
  },
  {
   "cell_type": "code",
   "execution_count": 316,
   "metadata": {},
   "outputs": [
    {
     "data": {
      "text/plain": [
       "label\n",
       "1    2115\n",
       "0    1721\n",
       "Name: count, dtype: int64"
      ]
     },
     "execution_count": 316,
     "metadata": {},
     "output_type": "execute_result"
    }
   ],
   "source": [
    "df_final_XG['label'].value_counts()"
   ]
  },
  {
   "cell_type": "markdown",
   "metadata": {},
   "source": [
    "Se transforma el *dataframe* a un archivo *CSV*."
   ]
  },
  {
   "cell_type": "code",
   "execution_count": 317,
   "metadata": {},
   "outputs": [],
   "source": [
    "df_final_XG.to_csv('./submit/xgboostWord2vec.csv', index=False)"
   ]
  },
  {
   "cell_type": "markdown",
   "metadata": {},
   "source": [
    "# 9. Referencias"
   ]
  },
  {
   "cell_type": "markdown",
   "metadata": {},
   "source": [
    "* [ColumnTransformer. (s. f.). Scikit-learn.](https://scikit-learn.org/stable/modules/generated/sklearn.compose.ColumnTransformer.html)\n",
    "* [GridSearchCV. (s. f.). Scikit-learn.](https://scikit-learn.org/stable/modules/generated/sklearn.model_selection.GridSearchCV.html)\n",
    "* [RandomForestClassifier. (s. f.). Scikit-learn.](https://scikit-learn.org/stable/modules/generated/sklearn.ensemble.RandomForestClassifier.html)\n",
    "* [RandomUnderSampler — Version 0.13.0. (s. f.). Imbalance learn.](https://imbalanced-learn.org/stable/references/generated/imblearn.under_sampling.RandomUnderSampler.html)\n",
    "* [SMOTE — Version 0.13.0. (s. f.). Imbalanced learn.](https://imbalanced-learn.org/stable/references/generated/imblearn.over_sampling.SMOTE.html)\n",
    "* [StandardScaler. (s. f.). Scikit-learn.](https://scikit-learn.org/stable/modules/generated/sklearn.preprocessing.StandardScaler.html)\n",
    "* [train_test_split. (s. f.). Scikit-learn.](https://scikit-learn.org/stable/modules/generated/sklearn.model_selection.train_test_split.html)\n",
    "* [TfidfVectorizer. (s. f.). Scikit-learn.](https://scikit-learn.org/stable/modules/generated/sklearn.feature_extraction.text.TfidfVectorizer.html)\n",
    "* [TruncatedSVD. (s. f.). Scikit-learn.](https://scikit-learn.org/stable/modules/generated/sklearn.decomposition.TruncatedSVD.html)\n",
    "* [XGBoost Parameters — xgboost 3.0.0 documentation. (s. f.).](https://xgboost.readthedocs.io/en/release_3.0.0/parameter.html)"
   ]
  }
 ],
 "metadata": {
  "kernelspec": {
   "display_name": "base",
   "language": "python",
   "name": "python3"
  },
  "language_info": {
   "codemirror_mode": {
    "name": "ipython",
    "version": 3
   },
   "file_extension": ".py",
   "mimetype": "text/x-python",
   "name": "python",
   "nbconvert_exporter": "python",
   "pygments_lexer": "ipython3",
   "version": "3.12.7"
  }
 },
 "nbformat": 4,
 "nbformat_minor": 4
}
