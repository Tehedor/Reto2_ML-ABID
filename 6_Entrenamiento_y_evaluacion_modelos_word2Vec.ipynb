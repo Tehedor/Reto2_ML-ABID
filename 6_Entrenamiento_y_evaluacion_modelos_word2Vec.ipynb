{
 "cells": [
  {
   "cell_type": "markdown",
   "metadata": {},
   "source": [
    "<header style=\"width:100%;position:relative\">\n",
    "  <div style=\"width:80%;float:right;\">\n",
    "    <h1>False Political Claim Detection</h1>\n",
    "    <h3>Entrenamiento y evaluación de los modelos</h3>\n",
    "    <h5>Grupo 2</h5>\n",
    "  </div>\n",
    "        <img style=\"width:15%;\" src=\"./images/logo.jpg\" alt=\"UPM\" />\n",
    "</header>"
   ]
  },
  {
   "cell_type": "markdown",
   "metadata": {},
   "source": [
    "# Índice"
   ]
  },
  {
   "cell_type": "markdown",
   "metadata": {},
   "source": [
    "1. [Importar librerias](#1.-Importar-librerias)\n",
    "2. [Variables globales y funciones auxiliares](#2.-Variables-globales-y-funciones-auxiliares)\n",
    "3. [Carga del dataframe](#3.-Carga-del-dataframe)\n",
    "4. [Selección de las características](#4.-Seleccion-de-las-caracteristicas)\n",
    "5. [Carga de los datos y división en entrenamiento y test](#5.-Carga-de-los-datos-y-division-en-entrenamiento-y-test)\n",
    "6. [Preprocesado](#6.-Preprocesado)\n",
    "    * 6.1 [Tratamiento de los textos](#6.1-Tratamiento-de-los-textos)\n",
    "    * 6.2 [Remuestreo](#6.2-Remuestreo)\n",
    "7. [Modelos seleccionados](#7.-Modelos-seleccionados)\n",
    "    * 7.1 [Introducción](#7.1-Introduccion)\n",
    "    * 7.2 [Asignacion de las variables](#7.2-Asignacion-de-las-variables)\n",
    "    * 7.3 [Clasificador Random Forest](#7.3-Clasificador-Random-Forest)\n",
    "    * 7.4 [Clasificador XGBoost](#7.4-Clasificador-XGBoost)\n",
    "8. [Exportar CSV](#8.-Exportar-CSV)\n",
    "    * 8.1 [Asignacion de las variables](#8.1-Asignacion-de-las-variables)\n",
    "    * 8.2 [Clasificador Random Forest](#8.2-Clasificador-Random-Forest)\n",
    "    * 8.3 [Clasificador XGBoost](#8.3-Clasificador-XGBoost)\n",
    "9. [Referencias](#9.-Referencias)"
   ]
  },
  {
   "cell_type": "markdown",
   "metadata": {},
   "source": [
    "# 1. Importar librerias"
   ]
  },
  {
   "cell_type": "code",
   "execution_count": 418,
   "metadata": {},
   "outputs": [
    {
     "name": "stdout",
     "output_type": "stream",
     "text": [
      "Todas las librerias fueron correctamente importadas.\n"
     ]
    },
    {
     "name": "stderr",
     "output_type": "stream",
     "text": [
      "[nltk_data] Downloading package punkt_tab to\n",
      "[nltk_data]     C:\\Users\\david\\AppData\\Roaming\\nltk_data...\n",
      "[nltk_data]   Package punkt_tab is already up-to-date!\n",
      "[nltk_data] Downloading package punkt to\n",
      "[nltk_data]     C:\\Users\\david\\AppData\\Roaming\\nltk_data...\n",
      "[nltk_data]   Package punkt is already up-to-date!\n"
     ]
    }
   ],
   "source": [
    "# General import and load data\n",
    "import pandas as pd\n",
    "import numpy as np\n",
    "\n",
    "# Resampling\n",
    "from imblearn.under_sampling import RandomUnderSampler\n",
    "from imblearn.over_sampling import SMOTE\n",
    "\n",
    "# Preprocessing\n",
    "from sklearn.compose import ColumnTransformer\n",
    "from sklearn.preprocessing import StandardScaler\n",
    "from sklearn.feature_extraction.text import TfidfVectorizer\n",
    "from sklearn.decomposition import TruncatedSVD\n",
    "from sklearn.decomposition import PCA\n",
    "\n",
    "# Splitting\n",
    "from sklearn.model_selection import train_test_split\n",
    "\n",
    "# Estimators\n",
    "from sklearn.ensemble import RandomForestClassifier\n",
    "from xgboost import XGBClassifier\n",
    "\n",
    "# Evaluation\n",
    "from sklearn.metrics import accuracy_score, confusion_matrix, classification_report\n",
    "from sklearn.metrics import make_scorer, f1_score, recall_score, roc_curve, roc_auc_score\n",
    "\n",
    "# Optimization\n",
    "from sklearn.model_selection import GridSearchCV, PredefinedSplit\n",
    "\n",
    "# Visualization\n",
    "import matplotlib.pyplot as plt\n",
    "\n",
    "# Time optimization\n",
    "import time\n",
    "# word2vec\n",
    "from gensim.models import Word2Vec\n",
    "import gensim\n",
    "import numpy as np\n",
    "from nltk.tokenize import word_tokenize\n",
    "import nltk\n",
    "from nltk.tokenize import word_tokenize\n",
    "import nltk\n",
    "from nltk.tokenize import word_tokenize\n",
    "nltk.download('punkt_tab')\n",
    "nltk.download('punkt') \n",
    "\n",
    "\n",
    "print(\"Todas las librerias fueron correctamente importadas.\")"
   ]
  },
  {
   "cell_type": "markdown",
   "metadata": {},
   "source": [
    "# 2. Variables globales y funciones auxiliares"
   ]
  },
  {
   "cell_type": "markdown",
   "metadata": {},
   "source": [
    "Se fija un seed para todo el documento para fijar la aleatoriedad y así obtener resultados replicables."
   ]
  },
  {
   "cell_type": "code",
   "execution_count": 419,
   "metadata": {},
   "outputs": [],
   "source": [
    "seed = 42"
   ]
  },
  {
   "cell_type": "markdown",
   "metadata": {},
   "source": [
    "Función utilizado para evaluar los distintos umbrales en la curva de ROC."
   ]
  },
  {
   "cell_type": "code",
   "execution_count": 420,
   "metadata": {},
   "outputs": [],
   "source": [
    "def evaluate_threshold(threshold):\n",
    "    print('Sensitivity:', tpr[thresholds > threshold][-1])\n",
    "    print('Recall:', 1 - fpr[thresholds > threshold][-1])"
   ]
  },
  {
   "cell_type": "markdown",
   "metadata": {},
   "source": [
    "# 3. Carga del dataframe"
   ]
  },
  {
   "cell_type": "markdown",
   "metadata": {},
   "source": [
    "Se cargan los datos de la ruta *formated/train_exportado.csv*, los cuales son los datos ya procesados por uno de nuestros compañeros."
   ]
  },
  {
   "cell_type": "code",
   "execution_count": 421,
   "metadata": {},
   "outputs": [
    {
     "name": "stdout",
     "output_type": "stream",
     "text": [
      "Datos cargados correctamente\n",
      "\n"
     ]
    }
   ],
   "source": [
    "url = \"formated/train_exportado.csv\"\n",
    "df = pd.read_csv(url)\n",
    "\n",
    "print(\"Datos cargados correctamente\\n\")"
   ]
  },
  {
   "cell_type": "markdown",
   "metadata": {},
   "source": [
    "También cargamos el test que debemos predecir para Kaggle de la ruta *formated/test_exportado.csv*."
   ]
  },
  {
   "cell_type": "code",
   "execution_count": 422,
   "metadata": {},
   "outputs": [
    {
     "name": "stdout",
     "output_type": "stream",
     "text": [
      "Test cargado correctamente\n",
      "\n"
     ]
    }
   ],
   "source": [
    "url = \"formated/test_exportado.csv\"\n",
    "df_test = pd.read_csv(url)\n",
    "\n",
    "print(\"Test cargado correctamente\\n\")"
   ]
  },
  {
   "cell_type": "markdown",
   "metadata": {},
   "source": [
    "# 4. Seleccion de las caracteristicas"
   ]
  },
  {
   "cell_type": "markdown",
   "metadata": {},
   "source": [
    "En el siguiente array se muestran todas las caracteristicas por si se decide realizar pruebas con otras *features*."
   ]
  },
  {
   "cell_type": "code",
   "execution_count": 423,
   "metadata": {},
   "outputs": [],
   "source": [
    "all_features = [\n",
    "    # Identificador\n",
    "    'id',\n",
    "\n",
    "    # Etiqueta objetivo\n",
    "    'label',\n",
    "\n",
    "    # Texto original y procesado\n",
    "    'statement', 'statement-raw', 'statement-lemmatize', \n",
    "\n",
    "    # Features derivados del texto\n",
    "    'statement-ner', 'feelings',\n",
    "\n",
    "    # One-hot encoded de los temas reagrupados del texto \n",
    "    'subject-ciencia_y_tecnologia', 'subject-economia_y_finanzas',\n",
    "    'subject-educacion', 'subject-medio_ambiente_y_energia', 'subject-otros',\n",
    "    'subject-politica_y_gobierno', 'subject-relaciones_internacionales',\n",
    "    'subject-salud_y_bienestar', 'subject-seguridad_y_justicia',\n",
    "    'subject-sociedad_y_cultura', 'subject-trabajo_y_empleo',\n",
    "\n",
    "    # Resto de las categoricas agrupadas\n",
    "    'speaker_grouped', 'speaker_job_grouped', 'state_info_grouped', 'party_group',\n",
    "\n",
    "    # Resto de las categoricas agrupadas y codificadas\n",
    "    'speaker_grouped_cod', 'speaker_job_grouped_cod',\n",
    "    'state_info_grouped_cod', 'party_group_cod',\n",
    "\n",
    "    # Variables generadas por LLM los null\n",
    "    'speaker_job-llm', 'speaker_job_cod-llm',\n",
    "    'state_info-llm', 'state_info_cod-llm',\n",
    "    'party_affiliation-llm', 'party_affiliation_cod-llm'\n",
    "]"
   ]
  },
  {
   "cell_type": "markdown",
   "metadata": {},
   "source": [
    "Se seleccionan todas las categorias menos: \n",
    "* ***id***: no aporta ningún valor.\n",
    "* ***label***: variable a predecir.\n",
    "* ***statement***: esta *feature* esta por si nos es necesario en algun momento futuro tener el texto sin procesar.\n",
    "* ***statement-lemmatize***: esta *feature* solo esta para probar en notebooks posteriores si clasifica mejor o peor con las raices de las palabras.\n",
    "* ***statement-ner***: esta *feature* esta para ver si el clasificador funciona mejor con el NER por separado.\n",
    "* ***speaker_grouped***, ***speaker_job_grouped***, ***state_info_grouped***, ***party_group***: suponemos que tenemos la misma información ya codificada.\n",
    "* ***speaker_job-llm***, ***speaker_job_cod-llm***, ***state_info-llm***, ***state_info_cod-llm***, ***party_affiliation-llm***, ***party_affiliation_cod-llm***: esta información ya esta en otras *features*, la diferencia esta en como se tratan los nulos asi que se analizará cual funciona mejor si con LLM o sin ellos durante el apartado de clasificación."
   ]
  },
  {
   "cell_type": "code",
   "execution_count": 424,
   "metadata": {},
   "outputs": [],
   "source": [
    "selected_features = [\n",
    "    # Texto\n",
    "    'statement-raw',\n",
    "        \n",
    "    # Features derivados del texto\n",
    "    'feelings',\n",
    "\n",
    "    # One-hot encoded de los temas reagrupados del texto \n",
    "    'subject-ciencia_y_tecnologia', 'subject-economia_y_finanzas',\n",
    "    'subject-educacion', 'subject-medio_ambiente_y_energia', 'subject-otros',\n",
    "    'subject-politica_y_gobierno', 'subject-relaciones_internacionales',\n",
    "    'subject-salud_y_bienestar', 'subject-seguridad_y_justicia',\n",
    "    'subject-sociedad_y_cultura', 'subject-trabajo_y_empleo',\n",
    "\n",
    "    # Resto de las categoricas agrupadas y codificadas\n",
    "    'speaker_grouped_cod', 'speaker_job_grouped_cod',\n",
    "    'state_info_grouped_cod', 'party_group_cod'\n",
    "]"
   ]
  },
  {
   "cell_type": "markdown",
   "metadata": {},
   "source": [
    "En caso de querer probar si funcionan mejor las de los LLM, se sustituirán por su simil. También si se quiere probar el texto lematizado se sustituira por el *raw*."
   ]
  },
  {
   "cell_type": "markdown",
   "metadata": {},
   "source": [
    "De las cuales texto es:"
   ]
  },
  {
   "cell_type": "code",
   "execution_count": 425,
   "metadata": {},
   "outputs": [],
   "source": [
    "text = 'statement-raw'"
   ]
  },
  {
   "cell_type": "markdown",
   "metadata": {},
   "source": [
    "Y las que no se corresponden con texto son:"
   ]
  },
  {
   "cell_type": "code",
   "execution_count": 426,
   "metadata": {},
   "outputs": [],
   "source": [
    "no_text = [\n",
    "    # Features derivados del texto\n",
    "    'feelings',\n",
    "\n",
    "    # One-hot encoded de los temas reagrupados del texto \n",
    "    'subject-ciencia_y_tecnologia', 'subject-economia_y_finanzas',\n",
    "    'subject-educacion', 'subject-medio_ambiente_y_energia', 'subject-otros',\n",
    "    'subject-politica_y_gobierno', 'subject-relaciones_internacionales',\n",
    "    'subject-salud_y_bienestar', 'subject-seguridad_y_justicia',\n",
    "    'subject-sociedad_y_cultura', 'subject-trabajo_y_empleo',\n",
    "\n",
    "    # Resto de las categoricas agrupadas y codificadas\n",
    "     'speaker_grouped_cod', 'speaker_job_grouped_cod',\n",
    "     'state_info_grouped_cod', 'party_group_cod'\n",
    "]"
   ]
  },
  {
   "cell_type": "markdown",
   "metadata": {},
   "source": [
    "Y de las cuales, numéricas son las siguientes:"
   ]
  },
  {
   "cell_type": "code",
   "execution_count": 427,
   "metadata": {},
   "outputs": [],
   "source": [
    "numeric_vars = [\n",
    "    'speaker_grouped_cod', 'speaker_job_grouped_cod',\n",
    "    'state_info_grouped_cod', 'party_group_cod'\n",
    "]"
   ]
  },
  {
   "cell_type": "markdown",
   "metadata": {},
   "source": [
    "# 5. Carga de los datos y division en entrenamiento y test"
   ]
  },
  {
   "cell_type": "markdown",
   "metadata": {},
   "source": [
    "Cargamos las caracteristicas seleccionadas en la variable X y el objetivo *Accept* en la variable y."
   ]
  },
  {
   "cell_type": "code",
   "execution_count": 428,
   "metadata": {},
   "outputs": [],
   "source": [
    "X = df[selected_features] \n",
    "y = df['label'].values"
   ]
  },
  {
   "cell_type": "markdown",
   "metadata": {},
   "source": [
    "Se separa ya en entrenamiento y test para no falsear los datos del test al realizar el balanceo."
   ]
  },
  {
   "cell_type": "code",
   "execution_count": 429,
   "metadata": {},
   "outputs": [],
   "source": [
    "X_train, X_test, y_train, y_test = train_test_split(X, y, test_size=0.2, random_state=seed)"
   ]
  },
  {
   "cell_type": "markdown",
   "metadata": {},
   "source": [
    "A la hora de subir el modelo a Kaggle, ya se nos da dividido el entrenamiento y el test. Por ello, se utilizarán todos los datos tratados como entrenamiento (aunque también se le aplicará el mejor caso de preprocesado para cada modelo)."
   ]
  },
  {
   "cell_type": "code",
   "execution_count": 430,
   "metadata": {},
   "outputs": [],
   "source": [
    "X_train_final = X\n",
    "y_train_final = y\n",
    "\n",
    "X_test_final = df_test[selected_features] "
   ]
  },
  {
   "cell_type": "markdown",
   "metadata": {},
   "source": [
    "# 6. Preprocesado"
   ]
  },
  {
   "cell_type": "markdown",
   "metadata": {},
   "source": [
    "Como se menciona en el notebook dedicado al preprocesamiento, primero se tratará el texto, después se reducirá su dimensionalidad con un *PCA*, se estandarizarán las variables codificadas mediante un *StandardScaler* y, finalmente, se realizará un remuestreo mediante *SMOTE* y *RandomUnderSampler*. \n",
    "\n",
    "En caso de querer probar el caso de preprocesamiento 6, será necesario eliminar el *StandardScaler* junto al *ColumnTransformer*."
   ]
  },
  {
   "cell_type": "markdown",
   "metadata": {},
   "source": [
    "## 6.1 Tratamiento de los textos"
   ]
  },
  {
   "cell_type": "markdown",
   "metadata": {},
   "source": [
    "### 6.1.1 Vectorización"
   ]
  },
  {
   "cell_type": "markdown",
   "metadata": {},
   "source": [
    "Primero tokenizamos el texto para Word2Vec"
   ]
  },
  {
   "cell_type": "code",
   "execution_count": 431,
   "metadata": {},
   "outputs": [],
   "source": [
    "\n",
    "# Tokeniza el texto \n",
    "#X_train_tokens = X_train[text].apply(lambda x: x.split())\n",
    "#X_test_tokens = X_test[text].apply(lambda x: x.split())\n",
    "\n",
    "X_train_tokens = X_train[text].apply(lambda x: word_tokenize(str(x)))\n",
    "X_test_tokens = X_test[text].apply(lambda x: word_tokenize(str(x)))\n"
   ]
  },
  {
   "cell_type": "markdown",
   "metadata": {},
   "source": [
    "A continuación se entrena un modelo Word2Vec utilizando los textos tokenizados del conjunto de entrenamiento. Posteriormente, se obtiene un vector representativo para cada texto calculando la media de los vectores de las palabras que aparecen en el vocabulario del modelo. Finalmente, se aplica este proceso tanto al conjunto de entrenamiento como al de test.\n"
   ]
  },
  {
   "cell_type": "code",
   "execution_count": 432,
   "metadata": {},
   "outputs": [],
   "source": [
    "w2v_model = Word2Vec(sentences=X_train_tokens, vector_size=30, window=5, min_count=2, workers=1, seed=42)\n",
    "\n",
    "\n",
    "# Palabras conocidas\n",
    "vocab = set(w2v_model.wv.index_to_key)\n",
    "\n",
    "def sentence_vector(tokens, model, size=30):\n",
    "    vectors = [model.wv[w] for w in tokens if w in vocab]\n",
    "    if len(vectors) == 0:\n",
    "        return np.zeros(size)\n",
    "    else:\n",
    "        return np.mean(vectors, axis=0)\n",
    "\n",
    "# Aplica a train y test\n",
    "X_txt_train = np.vstack(X_train_tokens.apply(lambda x: sentence_vector(x, w2v_model)))\n",
    "X_txt_test = np.vstack(X_test_tokens.apply(lambda x: sentence_vector(x, w2v_model)))"
   ]
  },
  {
   "cell_type": "markdown",
   "metadata": {},
   "source": [
    "Después para el dataset que se utilizará para subir a Kaggle."
   ]
  },
  {
   "cell_type": "code",
   "execution_count": 433,
   "metadata": {},
   "outputs": [],
   "source": [
    "# Tokeniza el texto \n",
    "#X_train_tokens_final = X_train_final[text].apply(lambda x: x.split())\n",
    "#X_test_tokens_final = X_test_final[text].apply(lambda x: x.split())\n",
    "\n",
    "X_train_tokens_final = X_train_final[text].apply(lambda x: word_tokenize(str(x)))\n",
    "X_test_tokens_final = X_test_final[text].apply(lambda x: word_tokenize(str(x)))"
   ]
  },
  {
   "cell_type": "code",
   "execution_count": 434,
   "metadata": {},
   "outputs": [],
   "source": [
    "w2v_model_final = Word2Vec(sentences=X_train_tokens_final, vector_size=30, window=5, min_count=2, workers=1, seed=42)\n",
    "\n",
    "\n",
    "# Palabras conocidas\n",
    "vocab_final = set(w2v_model_final.wv.index_to_key)\n",
    "\n",
    "def sentence_vector(tokens, model, size=30):\n",
    "    vectors = [model.wv[w] for w in tokens if w in vocab_final]\n",
    "    if len(vectors) == 0:\n",
    "        return np.zeros(size)\n",
    "    else:\n",
    "        return np.mean(vectors, axis=0)\n",
    "\n",
    "# Aplica a train y test\n",
    "X_txt_tr_final = np.vstack(X_train_tokens_final.apply(lambda x: sentence_vector(x, w2v_model_final)))\n",
    "X_txt_te_final = np.vstack(X_test_tokens_final.apply(lambda x: sentence_vector(x, w2v_model_final)))"
   ]
  },
  {
   "cell_type": "markdown",
   "metadata": {},
   "source": [
    "Después de analizar la varianza explicada mediante PCA (6.1.3), se observó que un número reducido de componentes era suficiente para conservar el 95% de la varianza. Por tanto, se consideró razonable reducir también la dimensionalidad inicial de los vectores Word2Vec a 30, con el objetivo de eliminar redundancias y reducir la complejidad del modelo, minimizando así el riesgo de sobreajuste sin una pérdida significativa de información."
   ]
  },
  {
   "cell_type": "markdown",
   "metadata": {},
   "source": [
    "## 6.1.2 Unificación de características"
   ]
  },
  {
   "cell_type": "code",
   "execution_count": 435,
   "metadata": {},
   "outputs": [],
   "source": [
    "# Train\n",
    "X_svd_train = pd.DataFrame(X_txt_train, columns=[f\"svd_{i}\" for i in range(X_txt_train.shape[1])])\n",
    "X_rest_train = X_train[no_text].reset_index(drop=True)\n",
    "\n",
    "# Test\n",
    "X_svd_test = pd.DataFrame(X_txt_test, columns=[f\"svd_{i}\" for i in range(X_txt_test.shape[1])])\n",
    "X_rest_test = X_test[no_text].reset_index(drop=True)\n",
    "\n",
    "# Text + Resto de features\n",
    "X_total_train = pd.concat([X_svd_train, X_rest_train], axis=1)\n",
    "X_total_test = pd.concat([X_svd_test, X_rest_test], axis=1)"
   ]
  },
  {
   "cell_type": "markdown",
   "metadata": {},
   "source": [
    "Ahora kaggle"
   ]
  },
  {
   "cell_type": "code",
   "execution_count": 436,
   "metadata": {},
   "outputs": [],
   "source": [
    "# Train\n",
    "X_svd_tr_final = pd.DataFrame(X_txt_tr_final, columns=[f\"svd_{i}\" for i in range(X_txt_tr_final.shape[1])])\n",
    "X_rest_tr_final = X_train_final[no_text].reset_index(drop=True)\n",
    "\n",
    "# Test\n",
    "X_svd_te_final = pd.DataFrame(X_txt_te_final, columns=[f\"svd_{i}\" for i in range(X_txt_te_final.shape[1])])\n",
    "X_rest_te_final = X_test_final[no_text].reset_index(drop=True)\n",
    "\n",
    "# Text + Resto de features\n",
    "X_tot_tr_final = pd.concat([X_svd_tr_final, X_rest_tr_final], axis=1)\n",
    "X_tot_te_final = pd.concat([X_svd_te_final, X_rest_te_final], axis=1)"
   ]
  },
  {
   "cell_type": "markdown",
   "metadata": {},
   "source": [
    "## 6.1.3 Reducción dimensionalidad"
   ]
  },
  {
   "cell_type": "markdown",
   "metadata": {},
   "source": [
    "Primero se estandarizan las características combinadas (texto + resto de variables) utilizando `StandardScaler`, ya que PCA es sensible a la escala de las variables.  \n",
    "A continuación, se aplica PCA sin limitar el número de componentes para calcular la varianza explicada acumulada y determinar cuántos componentes son necesarios para conservar al menos el 95% de la información del conjunto de entrenamiento.\n"
   ]
  },
  {
   "cell_type": "raw",
   "metadata": {
    "vscode": {
     "languageId": "raw"
    }
   },
   "source": [
    "scaler = StandardScaler()\n",
    "X_total_train_scaled = scaler.fit_transform(X_total_train)\n",
    "X_total_test_scaled = scaler.transform(X_total_test)\n",
    "\n",
    "# PCA sin límite para evaluar varianza explicada\n",
    "pca_temp = PCA(random_state=seed)\n",
    "pca_temp.fit(X_total_train_scaled)\n",
    "explained = np.cumsum(pca_temp.explained_variance_ratio_)\n",
    "\n",
    "#  Mostrar varianza explicada acumulada (primeros 30 componentes)\n",
    "print(\"Varianza explicada acumulada (primeros 30 componentes):\")\n",
    "for i in range(min(30, len(explained))):\n",
    "    print(f\"Componente {i+1:2d}: {explained[i]:.4f}\")\n"
   ]
  },
  {
   "cell_type": "markdown",
   "metadata": {},
   "source": [
    "En esta sección se selecciona el número mínimo de componentes necesarios para conservar al menos el 95% de la varianza.  \n",
    "Se ajusta y transforma el conjunto de datos con estos componentes, y finalmente se convierten los resultados a `DataFrame`, renombrando las columnas con el prefijo `pca_`.\n"
   ]
  },
  {
   "cell_type": "raw",
   "metadata": {
    "vscode": {
     "languageId": "raw"
    }
   },
   "source": [
    "# Elegir número mínimo de componentes para explicar 95%\n",
    "threshold = 0.95\n",
    "n_components = np.argmax(explained >= threshold) + 1\n",
    "print(f\"\\nPara explicar al menos el {int(threshold*100)}% de la varianza, se necesitan {n_components} componentes.\")\n",
    "\n",
    "# Aplicar PCA final \n",
    "pca = PCA(n_components=n_components, random_state=seed)\n",
    "X_total_train_pca = pca.fit_transform(X_total_train_scaled)\n",
    "X_total_test_pca = pca.transform(X_total_test_scaled)\n",
    "\n",
    "# Convertir resultado PCA a DataFrame y reasignar los nombres originales\n",
    "X_total_train = pd.DataFrame(X_total_train_pca, columns=[f'pca_{i}' for i in range(X_total_train_pca.shape[1])])\n",
    "X_total_test = pd.DataFrame(X_total_test_pca, columns=[f'pca_{i}' for i in range(X_total_test_pca.shape[1])])\n"
   ]
  },
  {
   "cell_type": "markdown",
   "metadata": {},
   "source": [
    "Ahora kaggle"
   ]
  },
  {
   "cell_type": "raw",
   "metadata": {
    "vscode": {
     "languageId": "raw"
    }
   },
   "source": [
    "scaler_final = StandardScaler()\n",
    "X_tot_tr_final_scaled = scaler_final.fit_transform(X_tot_tr_final)\n",
    "X_tot_te_final_scaled = scaler_final.transform(X_tot_te_final)\n",
    "\n",
    "#  PCA sin límite para evaluar varianza explicada\n",
    "pca_temp_final = PCA(random_state=seed)\n",
    "pca_temp_final.fit(X_tot_tr_final_scaled)\n",
    "explained_final = np.cumsum(pca_temp_final.explained_variance_ratio_)\n",
    "\n",
    "# Mostrar varianza explicada acumulada (primeros 30 componentes)\n",
    "print(\"Varianza explicada acumulada (primeros 30 componentes) - dataset final:\")\n",
    "for i in range(min(30, len(explained_final))):\n",
    "    print(f\"Componente {i+1:2d}: {explained_final[i]:.4f}\")\n",
    "\n"
   ]
  },
  {
   "cell_type": "raw",
   "metadata": {
    "vscode": {
     "languageId": "raw"
    }
   },
   "source": [
    "# Elegir número mínimo de componentes para explicar 95% \n",
    "threshold = 0.95\n",
    "n_components_final = np.argmax(explained_final >= threshold) + 1\n",
    "print(f\"\\nPara explicar al menos el {int(threshold*100)}% de la varianza, se necesitan {n_components_final} componentes en dataset final.\")\n",
    "\n",
    "# Aplicar PCA final con número óptimo de componentes\n",
    "pca_final = PCA(n_components=n_components_final, random_state=seed)\n",
    "X_tot_tr_final_pca = pca_final.fit_transform(X_tot_tr_final_scaled)\n",
    "X_tot_te_final_pca = pca_final.transform(X_tot_te_final_scaled)\n",
    "\n",
    "# Convertir resultado PCA a DataFrame y reasignar los nombres originales\n",
    "X_tot_tr_final = pd.DataFrame(X_tot_tr_final_pca, columns=[f'pca_{i}' for i in range(X_tot_tr_final_pca.shape[1])])\n",
    "X_tot_te_final = pd.DataFrame(X_tot_te_final_pca, columns=[f'pca_{i}' for i in range(X_tot_te_final_pca.shape[1])])"
   ]
  },
  {
   "cell_type": "markdown",
   "metadata": {},
   "source": [
    " Observaciones finales\n",
    "\n",
    "Tras realizar las pruebas utilizando PCA para la reducción de dimensionalidad, se ha comprobado que los resultados obtenidos en las métricas de evaluación han sido **peores que aquellos obtenidos sin aplicar dicha reducción**.\n",
    "\n",
    "Esto sugiere que, en este caso concreto, la pérdida de información causada por la reducción de componentes no compensa la posible mejora en eficiencia o generalización.  \n",
    "Por tanto, **se recomienda no aplicar PCA** en este pipeline para conservar el máximo rendimiento del modelo.\n"
   ]
  },
  {
   "cell_type": "markdown",
   "metadata": {},
   "source": []
  },
  {
   "cell_type": "markdown",
   "metadata": {},
   "source": [
    "## 6.2 Remuestreo"
   ]
  },
  {
   "cell_type": "markdown",
   "metadata": {},
   "source": [
    "### 6.2.1 Estandarizacion"
   ]
  },
  {
   "cell_type": "markdown",
   "metadata": {},
   "source": [
    "Primero se estandarizan el conjunto para el análisis."
   ]
  },
  {
   "cell_type": "code",
   "execution_count": 437,
   "metadata": {},
   "outputs": [],
   "source": [
    "prep = ColumnTransformer([\n",
    "    ('numericas', StandardScaler(), numeric_vars)\n",
    "], remainder='passthrough').fit(X_total_train) \n",
    "\n",
    "X_scaled_train = prep.transform(X_total_train)\n",
    "X_scaled_test = prep.transform(X_total_test)"
   ]
  },
  {
   "cell_type": "markdown",
   "metadata": {},
   "source": [
    "Después el de Kaggle."
   ]
  },
  {
   "cell_type": "code",
   "execution_count": 438,
   "metadata": {},
   "outputs": [],
   "source": [
    "prep_final = ColumnTransformer([\n",
    "    ('numericas', StandardScaler(), numeric_vars)\n",
    "], remainder='passthrough').fit(X_tot_tr_final) \n",
    "\n",
    "X_scaled_tr_final = prep_final.transform(X_tot_tr_final)\n",
    "X_scaled_te_final = prep_final.transform(X_tot_te_final)"
   ]
  },
  {
   "cell_type": "markdown",
   "metadata": {},
   "source": [
    "### 6.2.2 Undersampling"
   ]
  },
  {
   "cell_type": "markdown",
   "metadata": {},
   "source": [
    "Primero se realiza un undersampling al conjunto para el análisis."
   ]
  },
  {
   "cell_type": "code",
   "execution_count": 439,
   "metadata": {},
   "outputs": [
    {
     "name": "stderr",
     "output_type": "stream",
     "text": [
      "c:\\Users\\david\\anaconda3\\Lib\\site-packages\\sklearn\\utils\\deprecation.py:151: FutureWarning: 'force_all_finite' was renamed to 'ensure_all_finite' in 1.6 and will be removed in 1.8.\n",
      "  warnings.warn(\n",
      "c:\\Users\\david\\anaconda3\\Lib\\site-packages\\sklearn\\base.py:484: FutureWarning: `BaseEstimator._check_n_features` is deprecated in 1.6 and will be removed in 1.7. Use `sklearn.utils.validation._check_n_features` instead.\n",
      "  warnings.warn(\n",
      "c:\\Users\\david\\anaconda3\\Lib\\site-packages\\sklearn\\base.py:493: FutureWarning: `BaseEstimator._check_feature_names` is deprecated in 1.6 and will be removed in 1.7. Use `sklearn.utils.validation._check_feature_names` instead.\n",
      "  warnings.warn(\n"
     ]
    }
   ],
   "source": [
    "under = RandomUnderSampler(sampling_strategy=0.7, random_state=seed)\n",
    "X_under, y_under = under.fit_resample(X_scaled_train, y_train)"
   ]
  },
  {
   "cell_type": "markdown",
   "metadata": {},
   "source": [
    "Después el de Kaggle."
   ]
  },
  {
   "cell_type": "code",
   "execution_count": 440,
   "metadata": {},
   "outputs": [
    {
     "name": "stderr",
     "output_type": "stream",
     "text": [
      "c:\\Users\\david\\anaconda3\\Lib\\site-packages\\sklearn\\utils\\deprecation.py:151: FutureWarning: 'force_all_finite' was renamed to 'ensure_all_finite' in 1.6 and will be removed in 1.8.\n",
      "  warnings.warn(\n",
      "c:\\Users\\david\\anaconda3\\Lib\\site-packages\\sklearn\\base.py:484: FutureWarning: `BaseEstimator._check_n_features` is deprecated in 1.6 and will be removed in 1.7. Use `sklearn.utils.validation._check_n_features` instead.\n",
      "  warnings.warn(\n",
      "c:\\Users\\david\\anaconda3\\Lib\\site-packages\\sklearn\\base.py:493: FutureWarning: `BaseEstimator._check_feature_names` is deprecated in 1.6 and will be removed in 1.7. Use `sklearn.utils.validation._check_feature_names` instead.\n",
      "  warnings.warn(\n"
     ]
    }
   ],
   "source": [
    "under_final = RandomUnderSampler(sampling_strategy=0.7, random_state=seed)\n",
    "X_under_final, y_under_final = under_final.fit_resample(X_scaled_tr_final, y_train_final)"
   ]
  },
  {
   "cell_type": "markdown",
   "metadata": {},
   "source": [
    "### 6.2.3 Oversampling"
   ]
  },
  {
   "cell_type": "markdown",
   "metadata": {},
   "source": [
    "Primero se realiza un oversampling al conjunto para el análisis."
   ]
  },
  {
   "cell_type": "code",
   "execution_count": 441,
   "metadata": {},
   "outputs": [
    {
     "name": "stderr",
     "output_type": "stream",
     "text": [
      "c:\\Users\\david\\anaconda3\\Lib\\site-packages\\sklearn\\base.py:474: FutureWarning: `BaseEstimator._validate_data` is deprecated in 1.6 and will be removed in 1.7. Use `sklearn.utils.validation.validate_data` instead. This function becomes public and is part of the scikit-learn developer API.\n",
      "  warnings.warn(\n"
     ]
    }
   ],
   "source": [
    "over = SMOTE(sampling_strategy=0.9, random_state=seed)\n",
    "X_resampled, y_resampled = over.fit_resample(X_under, y_under)"
   ]
  },
  {
   "cell_type": "markdown",
   "metadata": {},
   "source": [
    "Después el de Kaggle."
   ]
  },
  {
   "cell_type": "code",
   "execution_count": 442,
   "metadata": {},
   "outputs": [
    {
     "name": "stderr",
     "output_type": "stream",
     "text": [
      "c:\\Users\\david\\anaconda3\\Lib\\site-packages\\sklearn\\base.py:474: FutureWarning: `BaseEstimator._validate_data` is deprecated in 1.6 and will be removed in 1.7. Use `sklearn.utils.validation.validate_data` instead. This function becomes public and is part of the scikit-learn developer API.\n",
      "  warnings.warn(\n"
     ]
    }
   ],
   "source": [
    "over_final = SMOTE(sampling_strategy=0.9, k_neighbors=10, random_state=seed)\n",
    "X_res_final, y_res_final = over_final.fit_resample(X_under_final, y_under_final)"
   ]
  },
  {
   "cell_type": "markdown",
   "metadata": {},
   "source": [
    "# 7. Modelos seleccionados"
   ]
  },
  {
   "cell_type": "markdown",
   "metadata": {},
   "source": [
    "## 7.1 Introduccion"
   ]
  },
  {
   "cell_type": "markdown",
   "metadata": {},
   "source": [
    "En el anterior notebook se evaluaron una serie de modelos tanto por F1 score como por ROC-AUC score. Los modelos con mejores resultados para ambas categorías fueron:\n",
    "* Random Forest.\n",
    "* GradientBoosting.\n",
    "* XGBoost.\n",
    "* LogisticRegression.\n",
    "* SVC con kernel rbf.\n",
    "\n",
    "Por lo tanto nos dispondremos a probar dichos modelos a continuación."
   ]
  },
  {
   "cell_type": "markdown",
   "metadata": {},
   "source": [
    "## 7.2 Asignacion de las variables"
   ]
  },
  {
   "cell_type": "markdown",
   "metadata": {},
   "source": [
    "Asignamos las variables para el analisis en función del desarrollo del apartado del preprocesado."
   ]
  },
  {
   "cell_type": "code",
   "execution_count": 443,
   "metadata": {},
   "outputs": [],
   "source": [
    "X_model = X_resampled\n",
    "y_model = y_resampled\n",
    "\n",
    "X_model_test = X_scaled_test\n",
    "expected = y_test"
   ]
  },
  {
   "cell_type": "markdown",
   "metadata": {},
   "source": [
    "## 7.3 Clasificador Random Forest"
   ]
  },
  {
   "cell_type": "markdown",
   "metadata": {},
   "source": [
    "### 7.3.1 Definicion"
   ]
  },
  {
   "cell_type": "markdown",
   "metadata": {},
   "source": [
    "Definimos el modelo con los hiperparámetros *random_state* fijado y *class_weigth* balanceado. También se escoje *n_jobs* con valor -1 para utilizar todos los procesadores."
   ]
  },
  {
   "cell_type": "code",
   "execution_count": 444,
   "metadata": {},
   "outputs": [],
   "source": [
    "model_Forest = RandomForestClassifier(class_weight=\"balanced\", n_jobs=-1, random_state=seed)"
   ]
  },
  {
   "cell_type": "markdown",
   "metadata": {},
   "source": [
    "### 7.3.2 Entrenamiento y evaluacion"
   ]
  },
  {
   "cell_type": "markdown",
   "metadata": {},
   "source": [
    "Entrenamos el modelo y comprobamos su exactitud."
   ]
  },
  {
   "cell_type": "code",
   "execution_count": 445,
   "metadata": {},
   "outputs": [],
   "source": [
    "model_Forest.fit(X_model, y_model)\n",
    "\n",
    "predicted_Forest = model_Forest.predict(X_model_test)"
   ]
  },
  {
   "cell_type": "code",
   "execution_count": 446,
   "metadata": {},
   "outputs": [
    {
     "data": {
      "text/plain": [
       "0.605586592178771"
      ]
     },
     "execution_count": 446,
     "metadata": {},
     "output_type": "execute_result"
    }
   ],
   "source": [
    "accuracy_score(expected, predicted_Forest)"
   ]
  },
  {
   "cell_type": "markdown",
   "metadata": {},
   "source": [
    "### 7.3.3 Null accuracy"
   ]
  },
  {
   "cell_type": "markdown",
   "metadata": {},
   "source": [
    "Ahora se va a evaluar si  el modelo siempre predice la clase más frecuente."
   ]
  },
  {
   "cell_type": "code",
   "execution_count": 447,
   "metadata": {},
   "outputs": [
    {
     "data": {
      "text/plain": [
       "1    1179\n",
       "0     611\n",
       "Name: count, dtype: int64"
      ]
     },
     "execution_count": 447,
     "metadata": {},
     "output_type": "execute_result"
    }
   ],
   "source": [
    "s_y_test = pd.Series(y_test)\n",
    "s_y_test.value_counts()"
   ]
  },
  {
   "cell_type": "code",
   "execution_count": 448,
   "metadata": {},
   "outputs": [
    {
     "data": {
      "text/plain": [
       "0.658659217877095"
      ]
     },
     "execution_count": 448,
     "metadata": {},
     "output_type": "execute_result"
    }
   ],
   "source": [
    "y_test.mean()"
   ]
  },
  {
   "cell_type": "code",
   "execution_count": 449,
   "metadata": {},
   "outputs": [
    {
     "data": {
      "text/plain": [
       "0.341340782122905"
      ]
     },
     "execution_count": 449,
     "metadata": {},
     "output_type": "execute_result"
    }
   ],
   "source": [
    "1 - y_test.mean() "
   ]
  },
  {
   "cell_type": "code",
   "execution_count": 450,
   "metadata": {},
   "outputs": [
    {
     "data": {
      "text/plain": [
       "0.658659217877095"
      ]
     },
     "execution_count": 450,
     "metadata": {},
     "output_type": "execute_result"
    }
   ],
   "source": [
    "max(y_test.mean(), 1 - y_test.mean())"
   ]
  },
  {
   "cell_type": "code",
   "execution_count": 451,
   "metadata": {},
   "outputs": [
    {
     "data": {
      "text/plain": [
       "1    0.658659\n",
       "Name: count, dtype: float64"
      ]
     },
     "execution_count": 451,
     "metadata": {},
     "output_type": "execute_result"
    }
   ],
   "source": [
    "s_y_test.value_counts().head(1) / len(y_test)"
   ]
  },
  {
   "cell_type": "markdown",
   "metadata": {},
   "source": [
    "Nuestra exactitud es de 0.626, la cual es peor que la *null accuracy*, es decir, ahora mismo no tenemos un buen modelo ya que se predecirían un mayor número de resultados en el caso de siempre predecir la clase mayoritaria."
   ]
  },
  {
   "cell_type": "markdown",
   "metadata": {},
   "source": [
    "### 7.3.4 Matriz de confusion y F-score"
   ]
  },
  {
   "cell_type": "markdown",
   "metadata": {},
   "source": [
    "Se muestra la matriz de confusión y el informe de clasificación."
   ]
  },
  {
   "cell_type": "code",
   "execution_count": 452,
   "metadata": {},
   "outputs": [
    {
     "name": "stdout",
     "output_type": "stream",
     "text": [
      "[[279 332]\n",
      " [374 805]]\n"
     ]
    }
   ],
   "source": [
    "print(confusion_matrix(expected, predicted_Forest))"
   ]
  },
  {
   "cell_type": "code",
   "execution_count": 453,
   "metadata": {},
   "outputs": [
    {
     "name": "stdout",
     "output_type": "stream",
     "text": [
      "              precision    recall  f1-score   support\n",
      "\n",
      "           0       0.43      0.46      0.44       611\n",
      "           1       0.71      0.68      0.70      1179\n",
      "\n",
      "    accuracy                           0.61      1790\n",
      "   macro avg       0.57      0.57      0.57      1790\n",
      "weighted avg       0.61      0.61      0.61      1790\n",
      "\n"
     ]
    }
   ],
   "source": [
    "print(classification_report(expected, predicted_Forest))"
   ]
  },
  {
   "cell_type": "markdown",
   "metadata": {},
   "source": [
    "Se observa que estamos identificando erroneamente los 0s ya que tenemos un f1-score del 0.74 para los 1s mientras que estamos obteniendo un 0.35 para los 0s"
   ]
  },
  {
   "cell_type": "markdown",
   "metadata": {},
   "source": [
    "### 7.3.5 ROC y AUC"
   ]
  },
  {
   "cell_type": "markdown",
   "metadata": {},
   "source": [
    "Evaluamos la ROC-AUC score. Para ello representamos primero la curva de ROC."
   ]
  },
  {
   "cell_type": "code",
   "execution_count": 454,
   "metadata": {},
   "outputs": [
    {
     "data": {
      "image/png": "[encoded data removed]",
      "text/plain": [
       "<Figure size 640x480 with 1 Axes>"
      ]
     },
     "metadata": {},
     "output_type": "display_data"
    }
   ],
   "source": [
    "y_pred_prob_Forest = model_Forest.predict_proba(X_model_test)[:,1]\n",
    "fpr, tpr, thresholds = roc_curve(expected, y_pred_prob_Forest)\n",
    "plt.plot(fpr, tpr)\n",
    "plt.xlim([0.0, 1.0])\n",
    "plt.ylim([0.0, 1.0])\n",
    "plt.title('Curva ROC')\n",
    "plt.xlabel('Ratio de FP (1 - Recall)')\n",
    "plt.ylabel('Ratio TP (Sensitivity)')\n",
    "plt.grid(True)\n",
    "plt.show()"
   ]
  },
  {
   "cell_type": "markdown",
   "metadata": {},
   "source": [
    "Y mostramos sus thresholds."
   ]
  },
  {
   "cell_type": "code",
   "execution_count": 455,
   "metadata": {},
   "outputs": [
    {
     "data": {
      "text/plain": [
       "array([ inf, 0.9 , 0.89, 0.88, 0.87, 0.86, 0.85, 0.84, 0.83, 0.82, 0.81,\n",
       "       0.8 , 0.79, 0.78, 0.77, 0.76, 0.75, 0.74, 0.73, 0.72, 0.71, 0.7 ,\n",
       "       0.69, 0.68, 0.67, 0.66, 0.65, 0.64, 0.63, 0.62, 0.61, 0.6 , 0.59,\n",
       "       0.58, 0.57, 0.56, 0.55, 0.54, 0.53, 0.52, 0.51, 0.5 , 0.49, 0.48,\n",
       "       0.47, 0.46, 0.45, 0.44, 0.43, 0.42, 0.41, 0.4 , 0.39, 0.38, 0.37,\n",
       "       0.36, 0.35, 0.34, 0.33, 0.32, 0.31, 0.3 , 0.29, 0.28, 0.27, 0.25,\n",
       "       0.24, 0.23, 0.22, 0.21, 0.19, 0.18])"
      ]
     },
     "execution_count": 455,
     "metadata": {},
     "output_type": "execute_result"
    }
   ],
   "source": [
    "thresholds"
   ]
  },
  {
   "cell_type": "markdown",
   "metadata": {},
   "source": [
    "Como se observa el resultado no es bueno ya que estamos obteniendo practicamente una recta en vez de una curva en forma de 'L' invertida."
   ]
  },
  {
   "cell_type": "markdown",
   "metadata": {},
   "source": [
    "La siguiente gráfica muestra las probabilidades de predicción en función de los umbrales."
   ]
  },
  {
   "cell_type": "code",
   "execution_count": 456,
   "metadata": {},
   "outputs": [
    {
     "data": {
      "text/plain": [
       "array([<Axes: title={'center': '0'}>, <Axes: title={'center': '1'}>],\n",
       "      dtype=object)"
      ]
     },
     "execution_count": 456,
     "metadata": {},
     "output_type": "execute_result"
    },
    {
     "data": {
      "image/png": "[encoded data removed]",
      "text/plain": [
       "<Figure size 640x480 with 2 Axes>"
      ]
     },
     "metadata": {},
     "output_type": "display_data"
    }
   ],
   "source": [
    "dprob = pd.DataFrame(data = {'probability':y_pred_prob_Forest, 'actual':y_test})\n",
    "dprob.probability.hist(by=dprob.actual, sharex=True, sharey=True)"
   ]
  },
  {
   "cell_type": "markdown",
   "metadata": {},
   "source": [
    "Se muestra que los mejores resultados para ambas clases se obtiene con el *threshold* igual a 0.5 aproximandamente (es decir, el valor por defecto)."
   ]
  },
  {
   "cell_type": "code",
   "execution_count": 457,
   "metadata": {},
   "outputs": [
    {
     "name": "stdout",
     "output_type": "stream",
     "text": [
      "Sensitivity: 0.6827820186598813\n",
      "Recall: 0.45662847790507366\n"
     ]
    }
   ],
   "source": [
    "best_thres_Random = 0.5\n",
    "\n",
    "evaluate_threshold(best_thres_Random)"
   ]
  },
  {
   "cell_type": "markdown",
   "metadata": {},
   "source": [
    "Con este valor se obtienen los siguientes resultados. Primero se recalculan las predicciones."
   ]
  },
  {
   "cell_type": "code",
   "execution_count": 458,
   "metadata": {},
   "outputs": [],
   "source": [
    "probs_Forest = model_Forest.predict_proba(X_model_test)[:, 1]  \n",
    "pred_thres_Forest = (probs_Forest >= best_thres_Random).astype(int) "
   ]
  },
  {
   "cell_type": "markdown",
   "metadata": {},
   "source": [
    "Se evalua la matriz de confusión."
   ]
  },
  {
   "cell_type": "code",
   "execution_count": 459,
   "metadata": {},
   "outputs": [
    {
     "name": "stdout",
     "output_type": "stream",
     "text": [
      "[[261 350]\n",
      " [345 834]]\n"
     ]
    }
   ],
   "source": [
    "print(confusion_matrix(expected, pred_thres_Forest))"
   ]
  },
  {
   "cell_type": "markdown",
   "metadata": {},
   "source": [
    "Y también se analiza el informe de la clasificación."
   ]
  },
  {
   "cell_type": "code",
   "execution_count": 460,
   "metadata": {},
   "outputs": [
    {
     "name": "stdout",
     "output_type": "stream",
     "text": [
      "              precision    recall  f1-score   support\n",
      "\n",
      "           0       0.43      0.43      0.43       611\n",
      "           1       0.70      0.71      0.71      1179\n",
      "\n",
      "    accuracy                           0.61      1790\n",
      "   macro avg       0.57      0.57      0.57      1790\n",
      "weighted avg       0.61      0.61      0.61      1790\n",
      "\n"
     ]
    }
   ],
   "source": [
    "print(classification_report(expected, pred_thres_Forest))"
   ]
  },
  {
   "cell_type": "markdown",
   "metadata": {},
   "source": [
    "Obviamente son los mismos, ya que no estamos modificando el umbral realmente."
   ]
  },
  {
   "cell_type": "markdown",
   "metadata": {},
   "source": [
    "Finalmente se calcula el valor de AUC."
   ]
  },
  {
   "cell_type": "code",
   "execution_count": 461,
   "metadata": {},
   "outputs": [
    {
     "name": "stdout",
     "output_type": "stream",
     "text": [
      "0.5697052482824775\n"
     ]
    }
   ],
   "source": [
    "print(roc_auc_score(expected, predicted_Forest))"
   ]
  },
  {
   "cell_type": "markdown",
   "metadata": {},
   "source": [
    "Se ha obtenido un valor entre 0.5 y 0.6, es decir, el modelo se considerá como fallido o *F*."
   ]
  },
  {
   "cell_type": "markdown",
   "metadata": {},
   "source": [
    "### 7.3.6 Optimizacion"
   ]
  },
  {
   "cell_type": "markdown",
   "metadata": {},
   "source": [
    "Antes de nada, observamos cuales son los parámetros de nuestro modelo."
   ]
  },
  {
   "cell_type": "code",
   "execution_count": 462,
   "metadata": {},
   "outputs": [
    {
     "data": {
      "text/plain": [
       "{'bootstrap': True,\n",
       " 'ccp_alpha': 0.0,\n",
       " 'class_weight': 'balanced',\n",
       " 'criterion': 'gini',\n",
       " 'max_depth': None,\n",
       " 'max_features': 'sqrt',\n",
       " 'max_leaf_nodes': None,\n",
       " 'max_samples': None,\n",
       " 'min_impurity_decrease': 0.0,\n",
       " 'min_samples_leaf': 1,\n",
       " 'min_samples_split': 2,\n",
       " 'min_weight_fraction_leaf': 0.0,\n",
       " 'monotonic_cst': None,\n",
       " 'n_estimators': 100,\n",
       " 'n_jobs': -1,\n",
       " 'oob_score': False,\n",
       " 'random_state': 42,\n",
       " 'verbose': 0,\n",
       " 'warm_start': False}"
      ]
     },
     "execution_count": 462,
     "metadata": {},
     "output_type": "execute_result"
    }
   ],
   "source": [
    "model_Forest.get_params()"
   ]
  },
  {
   "cell_type": "markdown",
   "metadata": {},
   "source": [
    "También creemos que es interesante saber la profundidad media de nuestro modelo Random Forest, para así poder estimar mejor rango de valores en este apartado."
   ]
  },
  {
   "cell_type": "code",
   "execution_count": 463,
   "metadata": {},
   "outputs": [
    {
     "name": "stdout",
     "output_type": "stream",
     "text": [
      "Profundidad media de los árboles: 28.81\n"
     ]
    }
   ],
   "source": [
    "arboles_decision = model_Forest.estimators_\n",
    "\n",
    "profundidades = [arbol.tree_.max_depth for arbol in arboles_decision]\n",
    "profundidad_media = np.mean(profundidades)\n",
    "\n",
    "print(f\"Profundidad media de los árboles: {profundidad_media}\")"
   ]
  },
  {
   "cell_type": "markdown",
   "metadata": {},
   "source": [
    "Ahora seleccionamos los hiperparámetros a evaluar mediante un GridSearchCV. Además, se ha añadido la librería *time* para saber el tiempo que tardo en realizar la busqueda de mejores parámetros.\n",
    "\n",
    "Estos hiperparámetros son:\n",
    "* ***n_estimator***: número de árboles.\n",
    "* ***max_depth***: máxima profundidad de cada árbol.\n",
    "* ***min_samples_split***: número de muestras mínimas para dividir un nodo interno.\n",
    "* ***min_samples_leaf***: número de muestras mínimas de un nodo hoja.\n",
    "* ***max_features***: número de características a tener en cuenta a la hora de buscar la mejor división.\n",
    "* ***class_weight***: pesos asignados a las clases."
   ]
  },
  {
   "cell_type": "raw",
   "metadata": {
    "vscode": {
     "languageId": "plaintext"
    }
   },
   "source": [
    "optm_Forest = RandomForestClassifier(n_jobs=-1, random_state=seed)\n",
    "\n",
    "param_grid = {\n",
    "    'n_estimators': [200, 250, 300],\n",
    "    'max_depth': [25, 35],\n",
    "    'min_samples_split': [2, 5],\n",
    "    'min_samples_leaf': [2, 4],\n",
    "    'max_features': [14, 20, 30, 50],\n",
    "    'class_weight': ['balanced', 'balanced_subsample']\n",
    "}\n",
    "\n",
    "grid_search = GridSearchCV(optm_Forest, param_grid=param_grid, cv=3, scoring=make_scorer(f1_score, average='weighted'), n_jobs=-1)\n",
    "\n",
    "inicio = time.time()\n",
    "grid_search.fit(X_model, y_model)\n",
    "fin = time.time()"
   ]
  },
  {
   "cell_type": "markdown",
   "metadata": {},
   "source": [
    "Se calcula el tiempo que ha tardado en minutos."
   ]
  },
  {
   "cell_type": "raw",
   "metadata": {},
   "source": [
    "tiempo_total = (fin - inicio) / 60\n",
    "print(f\"La celda tardó {tiempo_total} minutos en ejecutarse.\")"
   ]
  },
  {
   "cell_type": "markdown",
   "metadata": {},
   "source": [
    "Se escoge el mejor parámetro y su  precisión asociada."
   ]
  },
  {
   "cell_type": "raw",
   "metadata": {
    "vscode": {
     "languageId": "plaintext"
    }
   },
   "source": [
    "print(\"Mejores parámetros: \", grid_search.best_params_)\n",
    "print(\"Mejor score: \", grid_search.best_score_)"
   ]
  },
  {
   "cell_type": "markdown",
   "metadata": {},
   "source": [
    "Observamos los mejores 10 casos para analizar varias posibilidades."
   ]
  },
  {
   "cell_type": "raw",
   "metadata": {},
   "source": [
    "results_df = pd.DataFrame(grid_search.cv_results_)"
   ]
  },
  {
   "cell_type": "raw",
   "metadata": {},
   "source": [
    "top_10_models = results_df.nlargest(10, \"mean_test_score\")\n",
    "\n",
    "print(\"\\nLos 10 mejores modelos:\")\n",
    "for index, row in top_10_models.iterrows():\n",
    "    print(\"\\nModelo:\")\n",
    "    print(f\"Parámetros: {row['params']}\")\n",
    "    print(f\"Puntuación media de prueba: {row['mean_test_score']}\")"
   ]
  },
  {
   "cell_type": "markdown",
   "metadata": {},
   "source": [
    "### 7.3.7 Entrenamiento y evaluacion con hiperparametros optimizados"
   ]
  },
  {
   "cell_type": "markdown",
   "metadata": {},
   "source": [
    "#### - Definicion"
   ]
  },
  {
   "cell_type": "markdown",
   "metadata": {},
   "source": [
    "Definimos los mejores parámetros (no se define con *grid_search.best_params_* para probar varias opciones de forma sencilla)."
   ]
  },
  {
   "cell_type": "code",
   "execution_count": 464,
   "metadata": {},
   "outputs": [],
   "source": [
    "params_final_Forest = {\n",
    "    'class_weight': 'balanced',\n",
    "    'max_depth': 20,\n",
    "    'max_features': 20,\n",
    "    'min_samples_leaf': 2,\n",
    "    'min_samples_split': 2,\n",
    "    'n_estimators': 200,\n",
    "    'n_jobs': -1,\n",
    "    'random_state': seed\n",
    "}\n"
   ]
  },
  {
   "cell_type": "markdown",
   "metadata": {},
   "source": [
    "Definimos el modelo desagregando el diccionario."
   ]
  },
  {
   "cell_type": "code",
   "execution_count": 465,
   "metadata": {},
   "outputs": [],
   "source": [
    "final_Forest = RandomForestClassifier(**params_final_Forest)"
   ]
  },
  {
   "cell_type": "markdown",
   "metadata": {},
   "source": [
    "#### - Entrenamiento y evaluacion"
   ]
  },
  {
   "cell_type": "markdown",
   "metadata": {},
   "source": [
    "Entrenamos el modelo y comprobamos su exactitud."
   ]
  },
  {
   "cell_type": "code",
   "execution_count": 466,
   "metadata": {},
   "outputs": [],
   "source": [
    "final_Forest.fit(X_model, y_model)\n",
    "\n",
    "predicted_For_opt = final_Forest.predict(X_model_test)"
   ]
  },
  {
   "cell_type": "code",
   "execution_count": 467,
   "metadata": {},
   "outputs": [
    {
     "data": {
      "text/plain": [
       "0.6089385474860335"
      ]
     },
     "execution_count": 467,
     "metadata": {},
     "output_type": "execute_result"
    }
   ],
   "source": [
    "accuracy_score(expected, predicted_For_opt)"
   ]
  },
  {
   "cell_type": "markdown",
   "metadata": {},
   "source": [
    "#### - Null accuracy"
   ]
  },
  {
   "cell_type": "markdown",
   "metadata": {},
   "source": [
    "La accuracy es similar a la anterior. Además, sigue siendo peor que la *null accuracy*."
   ]
  },
  {
   "cell_type": "markdown",
   "metadata": {},
   "source": [
    "#### - Matriz de confusion y F-score"
   ]
  },
  {
   "cell_type": "markdown",
   "metadata": {},
   "source": [
    "La matriz de confusión y el informe de clasificación también es muy similar."
   ]
  },
  {
   "cell_type": "code",
   "execution_count": 468,
   "metadata": {},
   "outputs": [
    {
     "name": "stdout",
     "output_type": "stream",
     "text": [
      "[[295 316]\n",
      " [384 795]]\n"
     ]
    }
   ],
   "source": [
    "print(confusion_matrix(expected, predicted_For_opt))"
   ]
  },
  {
   "cell_type": "code",
   "execution_count": 469,
   "metadata": {},
   "outputs": [
    {
     "name": "stdout",
     "output_type": "stream",
     "text": [
      "              precision    recall  f1-score   support\n",
      "\n",
      "           0       0.43      0.48      0.46       611\n",
      "           1       0.72      0.67      0.69      1179\n",
      "\n",
      "    accuracy                           0.61      1790\n",
      "   macro avg       0.58      0.58      0.58      1790\n",
      "weighted avg       0.62      0.61      0.61      1790\n",
      "\n"
     ]
    }
   ],
   "source": [
    "print(classification_report(expected, predicted_For_opt))"
   ]
  },
  {
   "cell_type": "markdown",
   "metadata": {},
   "source": [
    "#### - ROC y AUC"
   ]
  },
  {
   "cell_type": "markdown",
   "metadata": {},
   "source": [
    "Se calcula el ROC y se reajusta el umbral de probabilidad."
   ]
  },
  {
   "cell_type": "code",
   "execution_count": 470,
   "metadata": {},
   "outputs": [
    {
     "data": {
      "image/png": "[encoded data removed]",
      "text/plain": [
       "<Figure size 640x480 with 1 Axes>"
      ]
     },
     "metadata": {},
     "output_type": "display_data"
    }
   ],
   "source": [
    "y_pred_prob_Forest = final_Forest.predict_proba(X_model_test)[:,1]\n",
    "fpr, tpr, thresholds = roc_curve(y_test, y_pred_prob_Forest)\n",
    "plt.plot(fpr, tpr)\n",
    "plt.xlim([0.0, 1.0])\n",
    "plt.ylim([0.0, 1.0])\n",
    "plt.title('Curva ROC')\n",
    "plt.xlabel('Ratio de FP (1 - Recall)')\n",
    "plt.ylabel('Ratio TP (Sensitivity)')\n",
    "plt.grid(True)\n",
    "plt.show()"
   ]
  },
  {
   "cell_type": "code",
   "execution_count": 471,
   "metadata": {},
   "outputs": [
    {
     "data": {
      "text/plain": [
       "array([       inf, 0.9098629 , 0.88357205, 0.87645025, 0.85655721,\n",
       "       0.85244128, 0.85128468, 0.84821244, 0.84234334, 0.84158018,\n",
       "       0.83234546, 0.82700167, 0.82474895, 0.82218104, 0.81596228,\n",
       "       0.8157086 , 0.81521638, 0.81381875, 0.80002438, 0.79955262,\n",
       "       0.79764122, 0.79573523, 0.79426565, 0.79340938, 0.78978055,\n",
       "       0.78720608, 0.78704394, 0.78689028, 0.78670064, 0.78627412,\n",
       "       0.77734134, 0.77727109, 0.77504678, 0.77499613, 0.7740868 ,\n",
       "       0.77334963, 0.77261941, 0.77179631, 0.76799338, 0.76737561,\n",
       "       0.76724072, 0.76690111, 0.76624433, 0.7643143 , 0.76155254,\n",
       "       0.7615442 , 0.75698976, 0.75684602, 0.75432294, 0.75429327,\n",
       "       0.75232683, 0.75213358, 0.75044628, 0.74944732, 0.74572302,\n",
       "       0.7456094 , 0.74496893, 0.74487541, 0.74153591, 0.74083217,\n",
       "       0.7390619 , 0.73893545, 0.7365632 , 0.73597288, 0.7309056 ,\n",
       "       0.73045178, 0.72945282, 0.7286687 , 0.72798827, 0.72732021,\n",
       "       0.72722991, 0.72715901, 0.722199  , 0.72204284, 0.72179817,\n",
       "       0.72136745, 0.71894362, 0.71885915, 0.71774227, 0.71680157,\n",
       "       0.71622023, 0.71620721, 0.71237381, 0.71218667, 0.71088331,\n",
       "       0.71071944, 0.70850127, 0.70841336, 0.70824929, 0.70815981,\n",
       "       0.70761163, 0.7072389 , 0.70697688, 0.70684426, 0.70604123,\n",
       "       0.70465837, 0.70457408, 0.70438861, 0.70424093, 0.70329123,\n",
       "       0.70301658, 0.70289033, 0.70232994, 0.70198144, 0.69835943,\n",
       "       0.69828386, 0.69776753, 0.69673409, 0.6966152 , 0.69631346,\n",
       "       0.69143285, 0.69026545, 0.68948143, 0.68934274, 0.68572782,\n",
       "       0.68568043, 0.6855741 , 0.68545945, 0.68228144, 0.68038262,\n",
       "       0.67652985, 0.67634373, 0.67396183, 0.67313561, 0.67185605,\n",
       "       0.67145687, 0.66955232, 0.66953184, 0.66840008, 0.66827913,\n",
       "       0.66621322, 0.66544481, 0.66131598, 0.66054287, 0.65658843,\n",
       "       0.65639764, 0.6557658 , 0.65562696, 0.65547687, 0.65537294,\n",
       "       0.65352553, 0.6535091 , 0.65307436, 0.65279399, 0.65083452,\n",
       "       0.65010223, 0.65000496, 0.64956393, 0.64727392, 0.64644117,\n",
       "       0.64611982, 0.64605307, 0.6456336 , 0.64534905, 0.64224529,\n",
       "       0.64197096, 0.64142889, 0.64109391, 0.63783679, 0.63783233,\n",
       "       0.63671063, 0.63613601, 0.63338353, 0.63336257, 0.63242001,\n",
       "       0.63218066, 0.62967717, 0.62954844, 0.62770659, 0.62764113,\n",
       "       0.62749122, 0.62603055, 0.62474267, 0.62414404, 0.6235606 ,\n",
       "       0.6234067 , 0.62191484, 0.6219066 , 0.61958506, 0.61884615,\n",
       "       0.61678383, 0.61666007, 0.61657047, 0.6162253 , 0.61579116,\n",
       "       0.61535798, 0.61473549, 0.61438889, 0.61367037, 0.61351333,\n",
       "       0.61337429, 0.61296563, 0.61237067, 0.61226993, 0.61129019,\n",
       "       0.61096363, 0.61062475, 0.60981968, 0.60869053, 0.60844269,\n",
       "       0.60830045, 0.60803104, 0.60782315, 0.60707267, 0.60677597,\n",
       "       0.60661408, 0.60661184, 0.60600214, 0.60486243, 0.60454034,\n",
       "       0.60332419, 0.60327494, 0.60145316, 0.60144911, 0.59939267,\n",
       "       0.59935351, 0.59803484, 0.59774366, 0.59685963, 0.59529407,\n",
       "       0.59477262, 0.59456648, 0.59415915, 0.5939683 , 0.59394167,\n",
       "       0.59280919, 0.59189543, 0.59099997, 0.59065015, 0.59057287,\n",
       "       0.59041321, 0.58981913, 0.58843323, 0.58841825, 0.58772866,\n",
       "       0.5874238 , 0.58499686, 0.58496296, 0.58495232, 0.58490942,\n",
       "       0.58410409, 0.58404484, 0.58353676, 0.58329943, 0.5827774 ,\n",
       "       0.5814093 , 0.5808757 , 0.58016621, 0.57999601, 0.57961189,\n",
       "       0.57868831, 0.57809587, 0.57637422, 0.57606891, 0.57596606,\n",
       "       0.57562451, 0.57454804, 0.57404876, 0.57358769, 0.57334873,\n",
       "       0.57264026, 0.57221194, 0.571714  , 0.57170889, 0.57092305,\n",
       "       0.57060272, 0.57039059, 0.57030665, 0.5702672 , 0.56997164,\n",
       "       0.56978614, 0.56969184, 0.56946962, 0.56941087, 0.56916377,\n",
       "       0.56912575, 0.56868251, 0.56769227, 0.56760894, 0.56739088,\n",
       "       0.56665074, 0.56647562, 0.56233094, 0.56210689, 0.56207166,\n",
       "       0.5612361 , 0.56105457, 0.56095519, 0.56059803, 0.56014614,\n",
       "       0.56007233, 0.56004788, 0.55965996, 0.55949152, 0.55889871,\n",
       "       0.5585597 , 0.55806985, 0.55796503, 0.55747368, 0.55709668,\n",
       "       0.55440605, 0.55371483, 0.55353332, 0.55343709, 0.55341876,\n",
       "       0.5533939 , 0.5533119 , 0.5527764 , 0.55219534, 0.55182577,\n",
       "       0.5518004 , 0.55141026, 0.55110772, 0.55081186, 0.55036945,\n",
       "       0.55035383, 0.54993998, 0.5496735 , 0.54939669, 0.54933027,\n",
       "       0.54914464, 0.54887569, 0.54823513, 0.54703302, 0.54701983,\n",
       "       0.54691765, 0.5466548 , 0.54552056, 0.54492714, 0.5447756 ,\n",
       "       0.5445393 , 0.5442276 , 0.54387527, 0.54374904, 0.54360536,\n",
       "       0.54331838, 0.54271921, 0.54262195, 0.54165771, 0.54151093,\n",
       "       0.54129002, 0.54080839, 0.54047866, 0.54018226, 0.53988007,\n",
       "       0.5397068 , 0.53932431, 0.53930693, 0.53896207, 0.53841529,\n",
       "       0.53827427, 0.53803847, 0.5377965 , 0.53655746, 0.53642265,\n",
       "       0.53639428, 0.53528251, 0.53503426, 0.53498203, 0.53494109,\n",
       "       0.53481884, 0.53476126, 0.5344192 , 0.53398721, 0.53329387,\n",
       "       0.53295016, 0.53253397, 0.53184644, 0.53087253, 0.53058028,\n",
       "       0.53016506, 0.52993098, 0.52912401, 0.52910708, 0.52891567,\n",
       "       0.52881431, 0.52775534, 0.52770076, 0.52694469, 0.5268492 ,\n",
       "       0.52676691, 0.52634479, 0.52547044, 0.52523176, 0.52515855,\n",
       "       0.52512455, 0.52500517, 0.52496167, 0.52488198, 0.52363865,\n",
       "       0.52342489, 0.52335652, 0.5228882 , 0.52283129, 0.52244617,\n",
       "       0.52239885, 0.5222741 , 0.52224935, 0.51966746, 0.51906703,\n",
       "       0.51774055, 0.51772761, 0.51759949, 0.51749624, 0.51747868,\n",
       "       0.5169833 , 0.51656839, 0.51629839, 0.51614579, 0.51590805,\n",
       "       0.51590485, 0.515491  , 0.51448041, 0.51426116, 0.51421147,\n",
       "       0.51383677, 0.51374182, 0.51326435, 0.51313032, 0.51293712,\n",
       "       0.5127366 , 0.51262504, 0.51057794, 0.5099022 , 0.50938041,\n",
       "       0.50929916, 0.50920582, 0.50917648, 0.50835979, 0.50833136,\n",
       "       0.50825763, 0.5081201 , 0.50741665, 0.50709445, 0.50546416,\n",
       "       0.50508012, 0.50506441, 0.50489944, 0.50489751, 0.50385985,\n",
       "       0.50315693, 0.50267085, 0.50223912, 0.50220085, 0.50197302,\n",
       "       0.50114494, 0.50106008, 0.50043066, 0.50017528, 0.50005489,\n",
       "       0.49994693, 0.49982007, 0.49858004, 0.49845631, 0.49677169,\n",
       "       0.49653446, 0.49578895, 0.49552024, 0.49453813, 0.49440707,\n",
       "       0.49399825, 0.49348843, 0.49288655, 0.49269702, 0.49230673,\n",
       "       0.49206112, 0.49173278, 0.49154162, 0.48961287, 0.48954038,\n",
       "       0.48819859, 0.48789241, 0.48661982, 0.48612636, 0.48597632,\n",
       "       0.48576682, 0.48527225, 0.48499283, 0.48388547, 0.48384323,\n",
       "       0.48329948, 0.48309031, 0.48300224, 0.48279734, 0.48254925,\n",
       "       0.4825232 , 0.48171205, 0.48168701, 0.4806041 , 0.48025182,\n",
       "       0.47932481, 0.47910196, 0.47879181, 0.47878618, 0.47842708,\n",
       "       0.47836675, 0.47785572, 0.47765378, 0.47668905, 0.47661332,\n",
       "       0.47629609, 0.47626877, 0.47578889, 0.47558319, 0.47538695,\n",
       "       0.47501781, 0.4742375 , 0.4727538 , 0.47262791, 0.472304  ,\n",
       "       0.47096904, 0.47081689, 0.47066339, 0.47066059, 0.4683605 ,\n",
       "       0.46809238, 0.46796718, 0.46689128, 0.46635665, 0.46573968,\n",
       "       0.46541112, 0.46538818, 0.46519914, 0.46431629, 0.46383584,\n",
       "       0.46378936, 0.46341909, 0.46329972, 0.46273215, 0.46267718,\n",
       "       0.46234078, 0.46203059, 0.46167292, 0.46104983, 0.46049768,\n",
       "       0.4604924 , 0.4601064 , 0.4599293 , 0.45880456, 0.45854452,\n",
       "       0.45752238, 0.45666826, 0.45656125, 0.45654959, 0.45579439,\n",
       "       0.45550356, 0.45512074, 0.45345411, 0.45216785, 0.45197769,\n",
       "       0.45186661, 0.4517047 , 0.45105468, 0.45075345, 0.4485358 ,\n",
       "       0.4478197 , 0.44728132, 0.44720752, 0.44592768, 0.44569201,\n",
       "       0.44563635, 0.44540519, 0.44527547, 0.44370724, 0.44137728,\n",
       "       0.4412155 , 0.44096915, 0.4406972 , 0.44058159, 0.44048679,\n",
       "       0.44019781, 0.44007717, 0.43824009, 0.43715257, 0.43602518,\n",
       "       0.43601223, 0.43581522, 0.43567246, 0.43410024, 0.43366399,\n",
       "       0.43284293, 0.43137142, 0.43130869, 0.43087843, 0.43002519,\n",
       "       0.4296291 , 0.42945571, 0.42927619, 0.42917434, 0.42780811,\n",
       "       0.42752175, 0.42740254, 0.42734407, 0.42673505, 0.42645548,\n",
       "       0.42610643, 0.42555177, 0.42524307, 0.4247739 , 0.42450948,\n",
       "       0.42388956, 0.42383291, 0.42211371, 0.42201599, 0.42187725,\n",
       "       0.4217943 , 0.42148588, 0.42132651, 0.42107004, 0.4203125 ,\n",
       "       0.41956732, 0.41833942, 0.41806719, 0.41794801, 0.41714204,\n",
       "       0.41669663, 0.41537269, 0.41524872, 0.41499539, 0.41464845,\n",
       "       0.4126849 , 0.41075673, 0.40919401, 0.40864676, 0.40854337,\n",
       "       0.40721189, 0.40652934, 0.40553226, 0.40548231, 0.40518043,\n",
       "       0.40513141, 0.40417696, 0.40368341, 0.4022976 , 0.4011143 ,\n",
       "       0.40063851, 0.40052911, 0.40023089, 0.39957134, 0.39924837,\n",
       "       0.39896546, 0.39872586, 0.39829607, 0.39804694, 0.39683823,\n",
       "       0.39673713, 0.39655836, 0.39654701, 0.39629846, 0.39565202,\n",
       "       0.39469049, 0.39458419, 0.39288391, 0.39246658, 0.39096155,\n",
       "       0.39074875, 0.38946115, 0.38887017, 0.38848466, 0.3882534 ,\n",
       "       0.3881344 , 0.38801851, 0.38689508, 0.38557013, 0.38528604,\n",
       "       0.3847462 , 0.3832366 , 0.3824166 , 0.38189274, 0.38120509,\n",
       "       0.38044   , 0.38019937, 0.37984818, 0.37939364, 0.37732937,\n",
       "       0.37693056, 0.37391414, 0.3730466 , 0.37268321, 0.37223302,\n",
       "       0.37084548, 0.36939704, 0.36929387, 0.36923051, 0.36848306,\n",
       "       0.36837257, 0.36807465, 0.3678355 , 0.36765814, 0.36585638,\n",
       "       0.36497583, 0.36322575, 0.36299876, 0.36091129, 0.36041337,\n",
       "       0.35908535, 0.35884153, 0.35858334, 0.35738074, 0.35653193,\n",
       "       0.35588321, 0.35503854, 0.35285458, 0.35263333, 0.35211758,\n",
       "       0.35200061, 0.35112903, 0.34720991, 0.34688667, 0.34643278,\n",
       "       0.34504381, 0.34468336, 0.34425241, 0.34350503, 0.34285651,\n",
       "       0.342347  , 0.34180455, 0.34153032, 0.34065472, 0.33995173,\n",
       "       0.33948781, 0.33732984, 0.33690783, 0.33541787, 0.33412466,\n",
       "       0.33318329, 0.33278475, 0.33216757, 0.33025876, 0.32996128,\n",
       "       0.32974341, 0.3297311 , 0.32851559, 0.32837915, 0.3281117 ,\n",
       "       0.32742278, 0.32703887, 0.32635401, 0.32260567, 0.32102518,\n",
       "       0.31809652, 0.31580912, 0.31577666, 0.31556313, 0.31551919,\n",
       "       0.31533975, 0.31338545, 0.31322661, 0.31268027, 0.31246194,\n",
       "       0.31159688, 0.30945827, 0.30868021, 0.30610019, 0.30577146,\n",
       "       0.30534665, 0.30309085, 0.3004186 , 0.29490224, 0.29405927,\n",
       "       0.29257289, 0.29248888, 0.28969834, 0.28536523, 0.28363214,\n",
       "       0.28311364, 0.28159224, 0.27968735, 0.27732272, 0.27693368,\n",
       "       0.27457085, 0.25852435, 0.25751679, 0.25127253, 0.24531846,\n",
       "       0.23762558, 0.23730088, 0.22724911, 0.2172711 , 0.21008362,\n",
       "       0.20496005, 0.20123498, 0.17949452, 0.15476169])"
      ]
     },
     "execution_count": 471,
     "metadata": {},
     "output_type": "execute_result"
    }
   ],
   "source": [
    "thresholds"
   ]
  },
  {
   "cell_type": "code",
   "execution_count": 472,
   "metadata": {},
   "outputs": [
    {
     "data": {
      "text/plain": [
       "array([<Axes: title={'center': '0'}>, <Axes: title={'center': '1'}>],\n",
       "      dtype=object)"
      ]
     },
     "execution_count": 472,
     "metadata": {},
     "output_type": "execute_result"
    },
    {
     "data": {
      "image/png": "[encoded data removed]",
      "text/plain": [
       "<Figure size 640x480 with 2 Axes>"
      ]
     },
     "metadata": {},
     "output_type": "display_data"
    }
   ],
   "source": [
    "dprob = pd.DataFrame(data = {'probability':y_pred_prob_Forest, 'actual':y_test})\n",
    "dprob.probability.hist(by=dprob.actual, sharex=True, sharey=True)"
   ]
  },
  {
   "cell_type": "code",
   "execution_count": 473,
   "metadata": {},
   "outputs": [
    {
     "name": "stdout",
     "output_type": "stream",
     "text": [
      "Sensitivity: 0.6743002544529262\n",
      "Recall: 0.48281505728314233\n"
     ]
    }
   ],
   "source": [
    "op_thres_Random = 0.5\n",
    "\n",
    "evaluate_threshold(op_thres_Random)"
   ]
  },
  {
   "cell_type": "code",
   "execution_count": 474,
   "metadata": {},
   "outputs": [],
   "source": [
    "probs_For_opt = final_Forest.predict_proba(X_model_test)[:, 1]  \n",
    "pred_thres_For_opt = (probs_For_opt >= op_thres_Random).astype(int) "
   ]
  },
  {
   "cell_type": "code",
   "execution_count": 475,
   "metadata": {},
   "outputs": [
    {
     "name": "stdout",
     "output_type": "stream",
     "text": [
      "[[295 316]\n",
      " [384 795]]\n"
     ]
    }
   ],
   "source": [
    "print(confusion_matrix(expected, pred_thres_For_opt))"
   ]
  },
  {
   "cell_type": "code",
   "execution_count": 476,
   "metadata": {},
   "outputs": [
    {
     "name": "stdout",
     "output_type": "stream",
     "text": [
      "              precision    recall  f1-score   support\n",
      "\n",
      "           0       0.43      0.48      0.46       611\n",
      "           1       0.72      0.67      0.69      1179\n",
      "\n",
      "    accuracy                           0.61      1790\n",
      "   macro avg       0.58      0.58      0.58      1790\n",
      "weighted avg       0.62      0.61      0.61      1790\n",
      "\n"
     ]
    }
   ],
   "source": [
    "print(classification_report(expected, pred_thres_For_opt))"
   ]
  },
  {
   "cell_type": "markdown",
   "metadata": {},
   "source": [
    "Se obtienen los mismos resultados porque sigue siendo el mejor caso con umbral igual a 0,5."
   ]
  },
  {
   "cell_type": "markdown",
   "metadata": {},
   "source": [
    "Se calcula la AUC score."
   ]
  },
  {
   "cell_type": "code",
   "execution_count": 477,
   "metadata": {},
   "outputs": [
    {
     "name": "stdout",
     "output_type": "stream",
     "text": [
      "0.5785576558680342\n"
     ]
    }
   ],
   "source": [
    "print(roc_auc_score(expected, predicted_For_opt))"
   ]
  },
  {
   "cell_type": "markdown",
   "metadata": {},
   "source": [
    "También ha tenido una pequeña mejora, pero sigue en el mismo intervalo. Es decir, sigue siendo un modelo *F*."
   ]
  },
  {
   "cell_type": "markdown",
   "metadata": {},
   "source": [
    "### 7.3.8 Conclusiones del modelo"
   ]
  },
  {
   "cell_type": "markdown",
   "metadata": {},
   "source": [
    "Tal y como esta el modelo no se estan obteniendo buenos resultados debido a la escasez de entradas y la gran cantidad de dimensiones que presenta el dataset. Estamos obteniendo prácticamente los mismos resultados que si decidieramos clasificar al azar."
   ]
  },
  {
   "cell_type": "markdown",
   "metadata": {},
   "source": [
    "## 7.4 Clasificador XGBoost"
   ]
  },
  {
   "cell_type": "markdown",
   "metadata": {},
   "source": [
    "### 7.4.1 Definicion"
   ]
  },
  {
   "cell_type": "markdown",
   "metadata": {},
   "source": [
    "Definimos el modelo con los hiperparámetros *random_state* fijado y *class_weigth* balanceado. También se escoje *n_jobs* con valor -1 para utilizar todos los procesadores."
   ]
  },
  {
   "cell_type": "code",
   "execution_count": 478,
   "metadata": {},
   "outputs": [],
   "source": [
    "model_XG = XGBClassifier(objective='binary:logistic', eval_metric='logloss', random_state=seed)"
   ]
  },
  {
   "cell_type": "markdown",
   "metadata": {},
   "source": [
    "### 7.4.2 Entrenamiento y evaluacion"
   ]
  },
  {
   "cell_type": "markdown",
   "metadata": {},
   "source": [
    "Entrenamos el modelo y comprobamos su exactitud."
   ]
  },
  {
   "cell_type": "code",
   "execution_count": 479,
   "metadata": {},
   "outputs": [],
   "source": [
    "model_XG.fit(X_model, y_model)\n",
    "\n",
    "predicted_XG = model_XG.predict(X_model_test)"
   ]
  },
  {
   "cell_type": "code",
   "execution_count": 480,
   "metadata": {},
   "outputs": [
    {
     "data": {
      "text/plain": [
       "0.6061452513966481"
      ]
     },
     "execution_count": 480,
     "metadata": {},
     "output_type": "execute_result"
    }
   ],
   "source": [
    "accuracy_score(expected, predicted_XG)"
   ]
  },
  {
   "cell_type": "markdown",
   "metadata": {},
   "source": [
    "### 7.4.3 Null accuracy"
   ]
  },
  {
   "cell_type": "markdown",
   "metadata": {},
   "source": [
    "Nuestra exactitud es de 0.587, la cual es peor que la *null accuracy*, es decir, ahora mismo no tenemos un buen modelo ya que se predecirían un mayor número de resultados en el caso de siempre predecir la clase mayoritaria."
   ]
  },
  {
   "cell_type": "markdown",
   "metadata": {},
   "source": [
    "### 7.4.4 Matriz de confusion y F-score"
   ]
  },
  {
   "cell_type": "markdown",
   "metadata": {},
   "source": [
    "Se muestra la matriz de confusión y el informe de clasificación."
   ]
  },
  {
   "cell_type": "code",
   "execution_count": 481,
   "metadata": {},
   "outputs": [
    {
     "name": "stdout",
     "output_type": "stream",
     "text": [
      "[[283 328]\n",
      " [377 802]]\n"
     ]
    }
   ],
   "source": [
    "print(confusion_matrix(expected, predicted_XG))"
   ]
  },
  {
   "cell_type": "code",
   "execution_count": 482,
   "metadata": {},
   "outputs": [
    {
     "name": "stdout",
     "output_type": "stream",
     "text": [
      "              precision    recall  f1-score   support\n",
      "\n",
      "           0       0.43      0.46      0.45       611\n",
      "           1       0.71      0.68      0.69      1179\n",
      "\n",
      "    accuracy                           0.61      1790\n",
      "   macro avg       0.57      0.57      0.57      1790\n",
      "weighted avg       0.61      0.61      0.61      1790\n",
      "\n"
     ]
    }
   ],
   "source": [
    "print(classification_report(expected, predicted_XG))"
   ]
  },
  {
   "cell_type": "markdown",
   "metadata": {},
   "source": [
    "Se observa que estamos identificando erroneamente los 0s ya que tenemos un f1-score del 0.68 para los 1s mientras que estamos obteniendo un 0.43 para los 0s"
   ]
  },
  {
   "cell_type": "markdown",
   "metadata": {},
   "source": [
    "### 7.4.5 ROC y AUC"
   ]
  },
  {
   "cell_type": "markdown",
   "metadata": {},
   "source": [
    "Evaluamos la ROC-AUC score. Para ello representamos primero la curva de ROC."
   ]
  },
  {
   "cell_type": "code",
   "execution_count": 483,
   "metadata": {},
   "outputs": [
    {
     "data": {
      "image/png": "[encoded data removed]",
      "text/plain": [
       "<Figure size 640x480 with 1 Axes>"
      ]
     },
     "metadata": {},
     "output_type": "display_data"
    }
   ],
   "source": [
    "y_pred_prob_XG = model_XG.predict_proba(X_model_test)[:,1]\n",
    "fpr, tpr, thresholds = roc_curve(expected, y_pred_prob_XG)\n",
    "plt.plot(fpr, tpr)\n",
    "plt.xlim([0.0, 1.0])\n",
    "plt.ylim([0.0, 1.0])\n",
    "plt.title('Curva ROC')\n",
    "plt.xlabel('Ratio de FP (1 - Recall)')\n",
    "plt.ylabel('Ratio TP (Sensitivity)')\n",
    "plt.grid(True)\n",
    "plt.show()"
   ]
  },
  {
   "cell_type": "markdown",
   "metadata": {},
   "source": [
    "Y mostramos sus thresholds."
   ]
  },
  {
   "cell_type": "code",
   "execution_count": 484,
   "metadata": {},
   "outputs": [
    {
     "data": {
      "text/plain": [
       "array([       inf, 0.99488884, 0.9913844 , 0.9902582 , 0.9835805 ,\n",
       "       0.9832549 , 0.977741  , 0.974477  , 0.9628731 , 0.96282446,\n",
       "       0.96022135, 0.9595923 , 0.9593367 , 0.959126  , 0.9572321 ,\n",
       "       0.9570124 , 0.9524474 , 0.94993883, 0.9493356 , 0.94727886,\n",
       "       0.94687885, 0.94614345, 0.94499916, 0.9447681 , 0.94056094,\n",
       "       0.9404222 , 0.9397727 , 0.9385223 , 0.9362599 , 0.9356641 ,\n",
       "       0.9353429 , 0.9351178 , 0.932132  , 0.9315572 , 0.92872816,\n",
       "       0.9278939 , 0.92467   , 0.9243299 , 0.92276424, 0.9225068 ,\n",
       "       0.9222284 , 0.9219574 , 0.91517967, 0.91444695, 0.9132368 ,\n",
       "       0.9131885 , 0.9103443 , 0.9102667 , 0.9081741 , 0.90726954,\n",
       "       0.90607136, 0.9058357 , 0.90307534, 0.9012883 , 0.89617044,\n",
       "       0.8958996 , 0.8947816 , 0.8936151 , 0.8935764 , 0.89305496,\n",
       "       0.8917789 , 0.88862383, 0.8880916 , 0.8880091 , 0.8844655 ,\n",
       "       0.88342977, 0.88307065, 0.8826674 , 0.87845355, 0.8781082 ,\n",
       "       0.8752322 , 0.8748684 , 0.8737429 , 0.87362605, 0.8730317 ,\n",
       "       0.8722179 , 0.87168044, 0.87114036, 0.8709208 , 0.8704498 ,\n",
       "       0.8685648 , 0.86742467, 0.8668852 , 0.86657506, 0.8659021 ,\n",
       "       0.86557466, 0.862526  , 0.8621237 , 0.8611633 , 0.8595882 ,\n",
       "       0.8549834 , 0.8543194 , 0.8537648 , 0.8533998 , 0.85332185,\n",
       "       0.8532502 , 0.8514137 , 0.85104805, 0.8504798 , 0.8497647 ,\n",
       "       0.8488585 , 0.84844524, 0.8480848 , 0.8465396 , 0.84431875,\n",
       "       0.8442974 , 0.8423906 , 0.84212524, 0.84187376, 0.84017843,\n",
       "       0.83821493, 0.8379093 , 0.8354363 , 0.83538884, 0.83261174,\n",
       "       0.83254087, 0.83152103, 0.83135813, 0.8254515 , 0.8252431 ,\n",
       "       0.8246549 , 0.8236844 , 0.8234956 , 0.8234104 , 0.82158196,\n",
       "       0.82137084, 0.820413  , 0.8196633 , 0.8193814 , 0.81878775,\n",
       "       0.81746674, 0.8174535 , 0.81734467, 0.8172708 , 0.8170783 ,\n",
       "       0.81627804, 0.8149504 , 0.81490344, 0.81419593, 0.81402725,\n",
       "       0.81270605, 0.81227285, 0.8112759 , 0.8109165 , 0.8090329 ,\n",
       "       0.8076915 , 0.8072263 , 0.807217  , 0.80693847, 0.80447143,\n",
       "       0.802758  , 0.802513  , 0.8024368 , 0.8024312 , 0.7999207 ,\n",
       "       0.799489  , 0.7993154 , 0.7976267 , 0.79714847, 0.79606354,\n",
       "       0.79395974, 0.7935855 , 0.7928188 , 0.7923941 , 0.791525  ,\n",
       "       0.79148877, 0.7880441 , 0.7848236 , 0.78478384, 0.78372747,\n",
       "       0.78205395, 0.78114283, 0.78019947, 0.77779955, 0.7768738 ,\n",
       "       0.776761  , 0.7758583 , 0.77578324, 0.7746318 , 0.7743379 ,\n",
       "       0.7731803 , 0.77252036, 0.77163625, 0.77114815, 0.77096975,\n",
       "       0.76998544, 0.7683978 , 0.7682073 , 0.76645976, 0.76623535,\n",
       "       0.76560944, 0.765513  , 0.7642954 , 0.7642255 , 0.76345634,\n",
       "       0.76331824, 0.7617007 , 0.7615526 , 0.7611128 , 0.76100624,\n",
       "       0.7589023 , 0.75885224, 0.7518122 , 0.75150996, 0.7499767 ,\n",
       "       0.74902683, 0.7475632 , 0.74691266, 0.74071753, 0.74026793,\n",
       "       0.74010295, 0.7399411 , 0.73977613, 0.7385074 , 0.7348014 ,\n",
       "       0.73447436, 0.73431957, 0.73403025, 0.7321771 , 0.73159504,\n",
       "       0.73037225, 0.7298187 , 0.729034  , 0.728669  , 0.7262155 ,\n",
       "       0.7261875 , 0.72597665, 0.72548676, 0.724781  , 0.7243571 ,\n",
       "       0.7194584 , 0.71905106, 0.71583366, 0.7157669 , 0.7156357 ,\n",
       "       0.7152373 , 0.7145753 , 0.712789  , 0.712267  , 0.71166307,\n",
       "       0.7111908 , 0.71046656, 0.7098748 , 0.70875984, 0.70800585,\n",
       "       0.70751613, 0.70662063, 0.7065445 , 0.70572615, 0.70554626,\n",
       "       0.70473695, 0.70437187, 0.7031234 , 0.7024448 , 0.7015942 ,\n",
       "       0.7005855 , 0.70053405, 0.7003038 , 0.69666946, 0.69664884,\n",
       "       0.6933056 , 0.6917159 , 0.69137454, 0.6911318 , 0.6902935 ,\n",
       "       0.6898942 , 0.6889371 , 0.68793565, 0.68779963, 0.68773913,\n",
       "       0.6857906 , 0.6847344 , 0.68428683, 0.68425673, 0.68248916,\n",
       "       0.6822174 , 0.68092734, 0.6801656 , 0.67986786, 0.67833513,\n",
       "       0.6776873 , 0.6775937 , 0.6773712 , 0.67715836, 0.67580867,\n",
       "       0.6737231 , 0.67197865, 0.6718833 , 0.66432035, 0.6628088 ,\n",
       "       0.6596777 , 0.6592327 , 0.6587527 , 0.6564712 , 0.6562109 ,\n",
       "       0.6557896 , 0.6531037 , 0.6527034 , 0.6521198 , 0.6518595 ,\n",
       "       0.6509308 , 0.6505553 , 0.6505419 , 0.650094  , 0.6499217 ,\n",
       "       0.6495476 , 0.64788693, 0.6477601 , 0.6415878 , 0.6411976 ,\n",
       "       0.6410342 , 0.6397632 , 0.6370954 , 0.63506436, 0.6341672 ,\n",
       "       0.63053805, 0.6284559 , 0.6283458 , 0.6273713 , 0.62535375,\n",
       "       0.6245826 , 0.6244334 , 0.6224865 , 0.6223157 , 0.6207253 ,\n",
       "       0.61981004, 0.617075  , 0.6167447 , 0.6163837 , 0.61462027,\n",
       "       0.6087672 , 0.6080963 , 0.6070717 , 0.60600245, 0.6052479 ,\n",
       "       0.6039845 , 0.60381377, 0.6037618 , 0.6037319 , 0.6020192 ,\n",
       "       0.59911245, 0.5978031 , 0.59428555, 0.5935142 , 0.593457  ,\n",
       "       0.5933433 , 0.59217626, 0.59176195, 0.59135157, 0.59132284,\n",
       "       0.58838314, 0.5874795 , 0.58693177, 0.5859832 , 0.58420736,\n",
       "       0.5839115 , 0.583509  , 0.58232605, 0.58198637, 0.5808141 ,\n",
       "       0.5804591 , 0.5802325 , 0.5775039 , 0.5758799 , 0.5750046 ,\n",
       "       0.57456857, 0.5736725 , 0.57301265, 0.57287693, 0.57285756,\n",
       "       0.57202804, 0.5717858 , 0.57079923, 0.5704335 , 0.56935316,\n",
       "       0.5687978 , 0.56762004, 0.5674851 , 0.56706727, 0.56704867,\n",
       "       0.5667013 , 0.56649727, 0.5662026 , 0.56303525, 0.56224906,\n",
       "       0.56205297, 0.5615742 , 0.5606022 , 0.5598465 , 0.5595579 ,\n",
       "       0.55867016, 0.55848086, 0.55842316, 0.5577738 , 0.5572927 ,\n",
       "       0.55722934, 0.5548948 , 0.55479634, 0.5535701 , 0.55349475,\n",
       "       0.5533075 , 0.5511456 , 0.55073404, 0.54891354, 0.5467159 ,\n",
       "       0.5462413 , 0.54582614, 0.5454713 , 0.54306245, 0.5423714 ,\n",
       "       0.5413358 , 0.5411137 , 0.5409628 , 0.5405612 , 0.5394061 ,\n",
       "       0.539334  , 0.53656185, 0.53604555, 0.5344231 , 0.53373706,\n",
       "       0.5330048 , 0.532857  , 0.53030217, 0.5301943 , 0.5294143 ,\n",
       "       0.52746695, 0.52563626, 0.52452976, 0.5245231 , 0.5243842 ,\n",
       "       0.52398014, 0.5236459 , 0.52289057, 0.52263284, 0.52017224,\n",
       "       0.5197038 , 0.516828  , 0.51667947, 0.51664776, 0.5151838 ,\n",
       "       0.5135441 , 0.5134484 , 0.5126637 , 0.51146686, 0.51139027,\n",
       "       0.5105424 , 0.50889146, 0.5086846 , 0.5084578 , 0.5074656 ,\n",
       "       0.50564367, 0.5055436 , 0.5055063 , 0.50523597, 0.50189865,\n",
       "       0.5013092 , 0.5012909 , 0.50075173, 0.49440247, 0.4932849 ,\n",
       "       0.4925899 , 0.492018  , 0.4915302 , 0.49083018, 0.49027023,\n",
       "       0.4889075 , 0.48782638, 0.48779503, 0.48763278, 0.48706275,\n",
       "       0.48544487, 0.4851139 , 0.48285478, 0.4822235 , 0.48183298,\n",
       "       0.48164883, 0.48100555, 0.48037842, 0.47959545, 0.47784272,\n",
       "       0.47740144, 0.4768541 , 0.47539753, 0.47271568, 0.4706433 ,\n",
       "       0.47059712, 0.46880215, 0.4685014 , 0.46300402, 0.46286756,\n",
       "       0.46182486, 0.46136516, 0.46114007, 0.46111363, 0.4610855 ,\n",
       "       0.4601503 , 0.45914084, 0.45736408, 0.45648533, 0.4557126 ,\n",
       "       0.4556609 , 0.45517582, 0.45364445, 0.4523236 , 0.45068574,\n",
       "       0.44985008, 0.44780293, 0.44765007, 0.4459734 , 0.44420683,\n",
       "       0.4432166 , 0.4429076 , 0.44244993, 0.43990573, 0.43772292,\n",
       "       0.43571436, 0.43166873, 0.4315148 , 0.42997554, 0.42985156,\n",
       "       0.42958683, 0.4293126 , 0.42929056, 0.4286051 , 0.42696658,\n",
       "       0.42673516, 0.42632982, 0.42604965, 0.42464298, 0.4234734 ,\n",
       "       0.42269298, 0.42249358, 0.41782945, 0.41730854, 0.41675484,\n",
       "       0.41563827, 0.41388696, 0.41378212, 0.41290936, 0.41150135,\n",
       "       0.41120708, 0.41120556, 0.41053212, 0.4096167 , 0.40824598,\n",
       "       0.40797606, 0.40622547, 0.40309185, 0.40028363, 0.40025476,\n",
       "       0.3992413 , 0.39872196, 0.3976175 , 0.3974854 , 0.39735156,\n",
       "       0.39637426, 0.39552778, 0.39320737, 0.39280894, 0.38936266,\n",
       "       0.38635516, 0.38549837, 0.38410693, 0.38409507, 0.3830002 ,\n",
       "       0.3820375 , 0.3815761 , 0.38049394, 0.38024905, 0.37894964,\n",
       "       0.37787932, 0.3769741 , 0.37636065, 0.3748385 , 0.37478638,\n",
       "       0.37443912, 0.3737323 , 0.3730866 , 0.37248915, 0.3722957 ,\n",
       "       0.36480102, 0.36440966, 0.36342654, 0.36266115, 0.35846436,\n",
       "       0.35844174, 0.35824558, 0.35801867, 0.3576599 , 0.35616797,\n",
       "       0.355779  , 0.3557517 , 0.3522732 , 0.35215938, 0.3505139 ,\n",
       "       0.34949902, 0.3476973 , 0.34699097, 0.3463301 , 0.3462639 ,\n",
       "       0.3456743 , 0.34316966, 0.34235322, 0.3412262 , 0.33953243,\n",
       "       0.3368448 , 0.33593598, 0.33563116, 0.33331692, 0.32918873,\n",
       "       0.3258541 , 0.32332313, 0.32197806, 0.31950843, 0.3178335 ,\n",
       "       0.31461468, 0.31398234, 0.31397083, 0.31191742, 0.31183827,\n",
       "       0.31183156, 0.31183115, 0.3107808 , 0.31020322, 0.30873442,\n",
       "       0.30563852, 0.30210826, 0.3010947 , 0.29994857, 0.2986693 ,\n",
       "       0.2966617 , 0.29567683, 0.29406476, 0.2907954 , 0.2895107 ,\n",
       "       0.28872773, 0.28856412, 0.2883174 , 0.286353  , 0.28579772,\n",
       "       0.28508162, 0.28496858, 0.28102294, 0.27592734, 0.2733583 ,\n",
       "       0.2723395 , 0.27221388, 0.27164602, 0.27075732, 0.27058977,\n",
       "       0.27044713, 0.27024633, 0.2701529 , 0.2693701 , 0.26911065,\n",
       "       0.2666502 , 0.2662127 , 0.2653153 , 0.25844884, 0.25740775,\n",
       "       0.25659144, 0.25488868, 0.25457564, 0.25409436, 0.25329617,\n",
       "       0.24847831, 0.24626172, 0.24566498, 0.24489489, 0.24406274,\n",
       "       0.24390543, 0.2436091 , 0.24273326, 0.24255316, 0.24035443,\n",
       "       0.23972762, 0.23885977, 0.23803438, 0.23592803, 0.23561297,\n",
       "       0.23503527, 0.23480755, 0.2340503 , 0.23314859, 0.23271379,\n",
       "       0.23176028, 0.22970986, 0.2295369 , 0.22854377, 0.22674352,\n",
       "       0.22640374, 0.21549553, 0.21108986, 0.20992157, 0.20812444,\n",
       "       0.2074677 , 0.20613894, 0.20564616, 0.20428541, 0.2031297 ,\n",
       "       0.20246337, 0.20013043, 0.19933732, 0.19920105, 0.19867513,\n",
       "       0.19729595, 0.19690311, 0.19629101, 0.19569959, 0.19187741,\n",
       "       0.19145592, 0.18836273, 0.18360426, 0.18334015, 0.18332733,\n",
       "       0.18313396, 0.17794739, 0.17743601, 0.17723137, 0.17524776,\n",
       "       0.17494918, 0.17470928, 0.17445539, 0.17444485, 0.16992213,\n",
       "       0.16952185, 0.16924383, 0.16849454, 0.15727603, 0.1547755 ,\n",
       "       0.15359983, 0.15345883, 0.15302342, 0.15239613, 0.15211311,\n",
       "       0.1492191 , 0.14487788, 0.13836576, 0.13466087, 0.13255678,\n",
       "       0.13071707, 0.12677439, 0.12274889, 0.11965649, 0.1175627 ,\n",
       "       0.11531525, 0.11273224, 0.11272661, 0.11176518, 0.1104407 ,\n",
       "       0.10446637, 0.10394204, 0.10040215, 0.09835584, 0.09749658,\n",
       "       0.086449  , 0.08399964, 0.08132052, 0.07991672, 0.07579322,\n",
       "       0.07035506, 0.05748002, 0.05217618, 0.04688555, 0.03602533,\n",
       "       0.02468758], dtype=float32)"
      ]
     },
     "execution_count": 484,
     "metadata": {},
     "output_type": "execute_result"
    }
   ],
   "source": [
    "thresholds"
   ]
  },
  {
   "cell_type": "markdown",
   "metadata": {},
   "source": [
    "Al igual que con el Random Forest, el resultado obtenido no es bueno ya que estamos obteniendo practicamente una recta en vez de una curva en forma de 'L' invertida."
   ]
  },
  {
   "cell_type": "markdown",
   "metadata": {},
   "source": [
    "La siguiente gráfica muestra las probabilidades de predicción en función de los umbrales."
   ]
  },
  {
   "cell_type": "code",
   "execution_count": 485,
   "metadata": {},
   "outputs": [
    {
     "data": {
      "text/plain": [
       "array([<Axes: title={'center': '0'}>, <Axes: title={'center': '1'}>],\n",
       "      dtype=object)"
      ]
     },
     "execution_count": 485,
     "metadata": {},
     "output_type": "execute_result"
    },
    {
     "data": {
      "image/png": "[encoded data removed]",
      "text/plain": [
       "<Figure size 640x480 with 2 Axes>"
      ]
     },
     "metadata": {},
     "output_type": "display_data"
    }
   ],
   "source": [
    "dprob = pd.DataFrame(data = {'probability':y_pred_prob_XG, 'actual':y_test})\n",
    "dprob.probability.hist(by=dprob.actual, sharex=True, sharey=True)"
   ]
  },
  {
   "cell_type": "markdown",
   "metadata": {},
   "source": [
    "Se muestra que los mejores resultados para ambas clases se obtiene con el *threshold* igual a 0.5 aproximandamente (es decir, el valor por defecto)."
   ]
  },
  {
   "cell_type": "code",
   "execution_count": 486,
   "metadata": {},
   "outputs": [
    {
     "name": "stdout",
     "output_type": "stream",
     "text": [
      "Sensitivity: 0.6793893129770993\n",
      "Recall: 0.46317512274959083\n"
     ]
    }
   ],
   "source": [
    "best_thres_XG = 0.5\n",
    "\n",
    "evaluate_threshold(best_thres_XG)"
   ]
  },
  {
   "cell_type": "markdown",
   "metadata": {},
   "source": [
    "Con este valor se obtienen los siguientes resultados. Primero se recalculan las predicciones."
   ]
  },
  {
   "cell_type": "code",
   "execution_count": 487,
   "metadata": {},
   "outputs": [],
   "source": [
    "probs_XG = model_XG.predict_proba(X_model_test)[:, 1]  \n",
    "pred_thres_XG= (probs_XG >= best_thres_XG).astype(int) "
   ]
  },
  {
   "cell_type": "markdown",
   "metadata": {},
   "source": [
    "Se evalua la matriz de confusión."
   ]
  },
  {
   "cell_type": "code",
   "execution_count": 488,
   "metadata": {},
   "outputs": [
    {
     "name": "stdout",
     "output_type": "stream",
     "text": [
      "[[283 328]\n",
      " [377 802]]\n"
     ]
    }
   ],
   "source": [
    "print(confusion_matrix(expected, pred_thres_XG))"
   ]
  },
  {
   "cell_type": "markdown",
   "metadata": {},
   "source": [
    "Y también se analiza el informe de la clasificación."
   ]
  },
  {
   "cell_type": "code",
   "execution_count": 489,
   "metadata": {},
   "outputs": [
    {
     "name": "stdout",
     "output_type": "stream",
     "text": [
      "              precision    recall  f1-score   support\n",
      "\n",
      "           0       0.43      0.46      0.45       611\n",
      "           1       0.71      0.68      0.69      1179\n",
      "\n",
      "    accuracy                           0.61      1790\n",
      "   macro avg       0.57      0.57      0.57      1790\n",
      "weighted avg       0.61      0.61      0.61      1790\n",
      "\n"
     ]
    }
   ],
   "source": [
    "print(classification_report(expected, pred_thres_XG))"
   ]
  },
  {
   "cell_type": "markdown",
   "metadata": {},
   "source": [
    "Obviamente son los mismos, ya que no estamos modificando el umbral realmente."
   ]
  },
  {
   "cell_type": "markdown",
   "metadata": {},
   "source": [
    "Finalmente se calcula el valor de AUC."
   ]
  },
  {
   "cell_type": "code",
   "execution_count": 490,
   "metadata": {},
   "outputs": [
    {
     "name": "stdout",
     "output_type": "stream",
     "text": [
      "0.5717063060736928\n"
     ]
    }
   ],
   "source": [
    "print(roc_auc_score(expected, predicted_XG))"
   ]
  },
  {
   "cell_type": "markdown",
   "metadata": {},
   "source": [
    "Se ha obtenido un valor entre 0.5 y 0.6, es decir, el modelo se considerá como fallido o *F*."
   ]
  },
  {
   "cell_type": "markdown",
   "metadata": {},
   "source": [
    "### 7.4.6 Optimizacion"
   ]
  },
  {
   "cell_type": "markdown",
   "metadata": {},
   "source": [
    "Ahora seleccionamos los hiperparámetros a evaluar mediante un GridSearchCV. Además, se ha añadido la librería *time* para saber el tiempo que tardo en realizar la busqueda de mejores parámetros.\n",
    "\n",
    "Estos hiperparámetros son:\n",
    "* ***max_depth***: máxima profundidad de cada árbol.\n",
    "* ***eta***: también llamado *learning_rate*,es un factor de escala que regula cuánto se actualizan los pesos en cada paso de boosting.\n",
    "* ***n_estimators***: número de árboles.\n",
    "* ***subsample***: proporción usada para entrenar cada árbol.\n",
    "* ***colsample_bytree***: fracción de columnas utilizadas para construir cada árbol."
   ]
  },
  {
   "cell_type": "markdown",
   "metadata": {},
   "source": [
    "Cabe mencionar que, para evitar tiempos de ejecución excesivos, se fueron iterando los parámetros focalizándose progresivamente en las combinaciones más prometedoras."
   ]
  },
  {
   "cell_type": "markdown",
   "metadata": {},
   "source": [
    "Primero se probó con:"
   ]
  },
  {
   "cell_type": "raw",
   "metadata": {
    "vscode": {
     "languageId": "raw"
    }
   },
   "source": [
    "param_grid = {\n",
    "    'max_depth': [5],\n",
    "    'eta': [0.06, 0.07, 0.08, 0.09, 0.1],\n",
    "    'n_estimators': [500, 600, 700],\n",
    "    'subsample': [0.9],\n",
    "    'colsample_bytree': [0.9],\n",
    "}"
   ]
  },
  {
   "cell_type": "markdown",
   "metadata": {},
   "source": [
    "Y el resultado obtenido para el caso mejor fue:"
   ]
  },
  {
   "cell_type": "raw",
   "metadata": {
    "vscode": {
     "languageId": "raw"
    }
   },
   "source": [
    "Mejores parámetros:  {'colsample_bytree': 0.9, 'eta': 0.08, 'max_depth': 5, 'n_estimators': 700, 'subsample': 0.9}\n",
    "Mejor score:  0.6160763145036465"
   ]
  },
  {
   "cell_type": "markdown",
   "metadata": {},
   "source": [
    "Y finalmente se probó con:"
   ]
  },
  {
   "cell_type": "raw",
   "metadata": {
    "vscode": {
     "languageId": "raw"
    }
   },
   "source": [
    "param_grid = {\n",
    "    'max_depth': [5, 8],\n",
    "    'eta': [ 0.08, 0.09, 0.1],\n",
    "    'n_estimators': [500, 600, 700, 900],\n",
    "    'subsample': [0.9, 1.0],\n",
    "    'colsample_bytree': [0.9, 1.0],\n",
    "}"
   ]
  },
  {
   "cell_type": "markdown",
   "metadata": {},
   "source": [
    "Y el resultado obtenido para el caso mejor fue:"
   ]
  },
  {
   "cell_type": "raw",
   "metadata": {
    "vscode": {
     "languageId": "raw"
    }
   },
   "source": [
    "Mejores parámetros:  {'colsample_bytree': 1.0, 'eta': 0.1, 'max_depth': 8, 'n_estimators': 500, 'subsample': 0.9}\n",
    "Mejor score:  0.627567181916202"
   ]
  },
  {
   "cell_type": "markdown",
   "metadata": {},
   "source": [
    "El codigo correspondiente a la última ejecución es el siguiente:"
   ]
  },
  {
   "cell_type": "raw",
   "metadata": {
    "vscode": {
     "languageId": "raw"
    }
   },
   "source": [
    "optm_XG = XGBClassifier(\n",
    "    objective='binary:logistic',\n",
    "    eval_metric='auc',\n",
    "    random_state=seed\n",
    ")\n",
    "\n",
    "param_grid = {\n",
    "    'max_depth': [5, 8],\n",
    "    'eta': [ 0.08, 0.09, 0.1],\n",
    "    'n_estimators': [500, 600, 700, 900],\n",
    "    'subsample': [0.9, 1.0],\n",
    "    'colsample_bytree': [0.9, 1.0],\n",
    "}\n",
    "\n",
    "\n",
    "grid_search = GridSearchCV(optm_XG, param_grid=param_grid, scoring=make_scorer(f1_score, average='weighted'), cv=3, n_jobs=-1)\n",
    "\n",
    "inicio = time.time()\n",
    "grid_search.fit(X_model, y_model)\n",
    "fin = time.time()"
   ]
  },
  {
   "cell_type": "markdown",
   "metadata": {},
   "source": [
    "Se calcula el tiempo que ha tardado en minutos."
   ]
  },
  {
   "cell_type": "raw",
   "metadata": {
    "vscode": {
     "languageId": "raw"
    }
   },
   "source": [
    "tiempo_total = (fin - inicio) / 60\n",
    "print(f\"La celda tardó {tiempo_total} minutos en ejecutarse.\")"
   ]
  },
  {
   "cell_type": "markdown",
   "metadata": {},
   "source": [
    "Se escoge el mejor parámetro y su  precisión asociada."
   ]
  },
  {
   "cell_type": "raw",
   "metadata": {
    "vscode": {
     "languageId": "raw"
    }
   },
   "source": [
    "print(\"Mejores parámetros: \", grid_search.best_params_)\n",
    "print(\"Mejor score: \", grid_search.best_score_)"
   ]
  },
  {
   "cell_type": "markdown",
   "metadata": {},
   "source": [
    "Observamos los mejores 10 casos para analizar varias posibilidades."
   ]
  },
  {
   "cell_type": "raw",
   "metadata": {
    "vscode": {
     "languageId": "raw"
    }
   },
   "source": [
    "results_df = pd.DataFrame(grid_search.cv_results_)"
   ]
  },
  {
   "cell_type": "raw",
   "metadata": {
    "vscode": {
     "languageId": "raw"
    }
   },
   "source": [
    "top_10_models = results_df.nlargest(10, \"mean_test_score\")\n",
    "\n",
    "print(\"\\nLos 10 mejores modelos:\")\n",
    "for index, row in top_10_models.iterrows():\n",
    "    print(\"\\nModelo:\")\n",
    "    print(f\"Parámetros: {row['params']}\")\n",
    "    print(f\"Puntuación media de prueba: {row['mean_test_score']}\")"
   ]
  },
  {
   "cell_type": "markdown",
   "metadata": {},
   "source": [
    "### 7.4.7 Entrenamiento y evaluacion con hiperparametros optimizados"
   ]
  },
  {
   "cell_type": "markdown",
   "metadata": {},
   "source": [
    "#### - Definicion"
   ]
  },
  {
   "cell_type": "markdown",
   "metadata": {},
   "source": [
    "Definimos los mejores parámetros (no se define con *grid_search.best_params_* para probar varias opciones de forma sencilla)."
   ]
  },
  {
   "cell_type": "code",
   "execution_count": 491,
   "metadata": {},
   "outputs": [],
   "source": [
    "params_final_XG = {\n",
    "    'objective': 'binary:logistic',\n",
    "    'eval_metric': 'auc',\n",
    "    'max_depth': 8,\n",
    "    'eta': 0.1,\n",
    "    'n_estimators': 500,\n",
    "    'subsample': 0.9,\n",
    "    'colsample_bytree': 1.0,\n",
    "    'random_state': seed\n",
    "}"
   ]
  },
  {
   "cell_type": "markdown",
   "metadata": {},
   "source": [
    "Definimos el modelo desagregando el diccionario."
   ]
  },
  {
   "cell_type": "code",
   "execution_count": 492,
   "metadata": {},
   "outputs": [],
   "source": [
    "final_XG = XGBClassifier(**params_final_XG)"
   ]
  },
  {
   "cell_type": "markdown",
   "metadata": {},
   "source": [
    "#### - Entrenamiento y evaluacion"
   ]
  },
  {
   "cell_type": "markdown",
   "metadata": {},
   "source": [
    "Entrenamos el modelo y comprobamos su exactitud."
   ]
  },
  {
   "cell_type": "code",
   "execution_count": 493,
   "metadata": {},
   "outputs": [],
   "source": [
    "final_XG.fit(X_model, y_model)\n",
    "\n",
    "predicted_XG_opt = final_XG.predict(X_model_test)"
   ]
  },
  {
   "cell_type": "code",
   "execution_count": 494,
   "metadata": {},
   "outputs": [
    {
     "data": {
      "text/plain": [
       "0.6128491620111732"
      ]
     },
     "execution_count": 494,
     "metadata": {},
     "output_type": "execute_result"
    }
   ],
   "source": [
    "accuracy_score(expected, predicted_XG_opt)"
   ]
  },
  {
   "cell_type": "markdown",
   "metadata": {},
   "source": [
    "#### - Null accuracy"
   ]
  },
  {
   "cell_type": "markdown",
   "metadata": {},
   "source": [
    "La accuracy es similar a la anterior. Además, sigue siendo peor que la *null accuracy*."
   ]
  },
  {
   "cell_type": "markdown",
   "metadata": {},
   "source": [
    "#### - Matriz de confusion y F-score"
   ]
  },
  {
   "cell_type": "markdown",
   "metadata": {},
   "source": [
    "La matriz de confusión y el informe de clasificación también es muy similar."
   ]
  },
  {
   "cell_type": "code",
   "execution_count": 495,
   "metadata": {},
   "outputs": [
    {
     "name": "stdout",
     "output_type": "stream",
     "text": [
      "[[296 315]\n",
      " [378 801]]\n"
     ]
    }
   ],
   "source": [
    "print(confusion_matrix(expected, predicted_XG_opt))"
   ]
  },
  {
   "cell_type": "code",
   "execution_count": 496,
   "metadata": {},
   "outputs": [
    {
     "name": "stdout",
     "output_type": "stream",
     "text": [
      "              precision    recall  f1-score   support\n",
      "\n",
      "           0       0.44      0.48      0.46       611\n",
      "           1       0.72      0.68      0.70      1179\n",
      "\n",
      "    accuracy                           0.61      1790\n",
      "   macro avg       0.58      0.58      0.58      1790\n",
      "weighted avg       0.62      0.61      0.62      1790\n",
      "\n"
     ]
    }
   ],
   "source": [
    "print(classification_report(expected, predicted_XG_opt))"
   ]
  },
  {
   "cell_type": "markdown",
   "metadata": {},
   "source": [
    "#### - ROC y AUC"
   ]
  },
  {
   "cell_type": "markdown",
   "metadata": {},
   "source": [
    "Se calcula el ROC y se reajusta el umbral de probabilidad."
   ]
  },
  {
   "cell_type": "code",
   "execution_count": 497,
   "metadata": {},
   "outputs": [
    {
     "data": {
      "image/png": "[encoded data removed]",
      "text/plain": [
       "<Figure size 640x480 with 1 Axes>"
      ]
     },
     "metadata": {},
     "output_type": "display_data"
    }
   ],
   "source": [
    "y_pred_prob_XG = final_XG.predict_proba(X_model_test)[:,1]\n",
    "fpr, tpr, thresholds = roc_curve(y_test, y_pred_prob_XG)\n",
    "plt.plot(fpr, tpr)\n",
    "plt.xlim([0.0, 1.0])\n",
    "plt.ylim([0.0, 1.0])\n",
    "plt.title('Curva ROC')\n",
    "plt.xlabel('Ratio de FP (1 - Recall)')\n",
    "plt.ylabel('Ratio TP (Sensitivity)')\n",
    "plt.grid(True)\n",
    "plt.show()"
   ]
  },
  {
   "cell_type": "code",
   "execution_count": 498,
   "metadata": {},
   "outputs": [
    {
     "data": {
      "text/plain": [
       "array([       inf, 0.99807954, 0.9978695 , 0.9960473 , 0.9952205 ,\n",
       "       0.9918234 , 0.9910913 , 0.9901363 , 0.98979723, 0.98952043,\n",
       "       0.9894288 , 0.9889831 , 0.9888764 , 0.9885712 , 0.9880463 ,\n",
       "       0.9878412 , 0.987805  , 0.986387  , 0.9857534 , 0.98542225,\n",
       "       0.9852782 , 0.9846928 , 0.9845388 , 0.9822459 , 0.98219174,\n",
       "       0.98044205, 0.98036593, 0.9793783 , 0.9791828 , 0.97861665,\n",
       "       0.9778146 , 0.97667354, 0.97649753, 0.9763673 , 0.97609794,\n",
       "       0.97501254, 0.9748805 , 0.97185624, 0.97182083, 0.9688778 ,\n",
       "       0.96875226, 0.96810573, 0.9676089 , 0.96632504, 0.96606266,\n",
       "       0.96596533, 0.96556103, 0.96460295, 0.96420795, 0.9621762 ,\n",
       "       0.9621043 , 0.96185887, 0.9618098 , 0.96061766, 0.96019804,\n",
       "       0.9592611 , 0.9587603 , 0.95784783, 0.95771277, 0.9571693 ,\n",
       "       0.95672405, 0.95564145, 0.95534384, 0.9550602 , 0.9544863 ,\n",
       "       0.9544587 , 0.95434755, 0.95298415, 0.9521925 , 0.9511398 ,\n",
       "       0.9492949 , 0.9462743 , 0.94615155, 0.9453888 , 0.94484365,\n",
       "       0.94268525, 0.9426459 , 0.9417571 , 0.941474  , 0.9410898 ,\n",
       "       0.938879  , 0.93821967, 0.93760926, 0.9375938 , 0.9371054 ,\n",
       "       0.9344434 , 0.934413  , 0.9343665 , 0.9334366 , 0.9319699 ,\n",
       "       0.93196464, 0.92971355, 0.92906845, 0.9286263 , 0.9286205 ,\n",
       "       0.9268937 , 0.9267859 , 0.9265904 , 0.92614925, 0.9246224 ,\n",
       "       0.924618  , 0.91874284, 0.91863346, 0.917781  , 0.91719556,\n",
       "       0.91367704, 0.9126241 , 0.90866274, 0.90848744, 0.9080936 ,\n",
       "       0.9080819 , 0.9079585 , 0.90777147, 0.90764266, 0.90712404,\n",
       "       0.905515  , 0.9048987 , 0.90467304, 0.9041894 , 0.9038501 ,\n",
       "       0.90310186, 0.9017149 , 0.9008921 , 0.8995208 , 0.8994781 ,\n",
       "       0.89898443, 0.89757204, 0.89468867, 0.89329934, 0.8931719 ,\n",
       "       0.89236516, 0.8912056 , 0.8907644 , 0.89005953, 0.88957137,\n",
       "       0.88674325, 0.88654625, 0.8864994 , 0.88595235, 0.88401467,\n",
       "       0.8839369 , 0.88022447, 0.8787785 , 0.87775934, 0.8761698 ,\n",
       "       0.87569684, 0.8750019 , 0.8736615 , 0.8729237 , 0.8716241 ,\n",
       "       0.8715953 , 0.86936104, 0.86933947, 0.8675503 , 0.86751777,\n",
       "       0.8670264 , 0.8669758 , 0.8662628 , 0.86601156, 0.863453  ,\n",
       "       0.8632574 , 0.8615598 , 0.86105704, 0.8609153 , 0.86075866,\n",
       "       0.8604937 , 0.8600198 , 0.8580342 , 0.8573588 , 0.8563048 ,\n",
       "       0.8554982 , 0.8552595 , 0.85462767, 0.8545746 , 0.85432386,\n",
       "       0.85418373, 0.85293025, 0.8527619 , 0.85242504, 0.8519314 ,\n",
       "       0.85057217, 0.8493482 , 0.8493083 , 0.8485541 , 0.84803766,\n",
       "       0.84798115, 0.8468441 , 0.8467198 , 0.8466715 , 0.84381074,\n",
       "       0.8427236 , 0.8406671 , 0.8405517 , 0.83872545, 0.83838147,\n",
       "       0.8353976 , 0.8350037 , 0.83131707, 0.8311658 , 0.8293199 ,\n",
       "       0.8291006 , 0.8287002 , 0.82772934, 0.8219202 , 0.82135785,\n",
       "       0.8213395 , 0.82087797, 0.81409025, 0.8130886 , 0.8114145 ,\n",
       "       0.8108604 , 0.8106207 , 0.81037325, 0.80965555, 0.8094348 ,\n",
       "       0.8051911 , 0.80474377, 0.8041319 , 0.8041291 , 0.80270594,\n",
       "       0.8024736 , 0.80224496, 0.8021559 , 0.80174404, 0.8013567 ,\n",
       "       0.79981273, 0.7994166 , 0.79781526, 0.79740804, 0.794485  ,\n",
       "       0.7937083 , 0.792702  , 0.7917291 , 0.7895799 , 0.7894124 ,\n",
       "       0.7879045 , 0.787431  , 0.7840226 , 0.78332597, 0.7822285 ,\n",
       "       0.78221554, 0.780153  , 0.7788832 , 0.77628666, 0.7759382 ,\n",
       "       0.7753899 , 0.7751767 , 0.77189523, 0.77035123, 0.77004486,\n",
       "       0.7697243 , 0.7690535 , 0.7685058 , 0.76541406, 0.76299137,\n",
       "       0.7607486 , 0.7602806 , 0.7598244 , 0.75958735, 0.7521711 ,\n",
       "       0.75175637, 0.7511976 , 0.75077313, 0.7495623 , 0.7493812 ,\n",
       "       0.7484803 , 0.74770766, 0.74014586, 0.73993105, 0.7377478 ,\n",
       "       0.7371983 , 0.7342429 , 0.7332686 , 0.73172027, 0.7298153 ,\n",
       "       0.72940487, 0.7289821 , 0.72824854, 0.72768813, 0.7240311 ,\n",
       "       0.7227709 , 0.71554023, 0.7154278 , 0.7138308 , 0.71176636,\n",
       "       0.7110413 , 0.71077836, 0.70918727, 0.709126  , 0.7087718 ,\n",
       "       0.70789886, 0.7073163 , 0.7067336 , 0.70490885, 0.7041703 ,\n",
       "       0.7040583 , 0.703774  , 0.7020749 , 0.70191807, 0.70129234,\n",
       "       0.7004732 , 0.69920987, 0.6991193 , 0.6986892 , 0.6971901 ,\n",
       "       0.696978  , 0.69673985, 0.69495183, 0.6948846 , 0.69335115,\n",
       "       0.6929126 , 0.691409  , 0.6912109 , 0.6861162 , 0.6843922 ,\n",
       "       0.68378013, 0.68370813, 0.6818242 , 0.6802977 , 0.6799311 ,\n",
       "       0.6789395 , 0.6763533 , 0.6760773 , 0.6755014 , 0.6751916 ,\n",
       "       0.67133045, 0.67118716, 0.6698054 , 0.66958636, 0.66851   ,\n",
       "       0.66755116, 0.6660539 , 0.6659471 , 0.6657672 , 0.6653269 ,\n",
       "       0.6650619 , 0.6650468 , 0.66489923, 0.6645806 , 0.6637063 ,\n",
       "       0.66136324, 0.6610702 , 0.66016823, 0.65930825, 0.658906  ,\n",
       "       0.65377635, 0.653361  , 0.6510835 , 0.65103036, 0.65064347,\n",
       "       0.6497069 , 0.6496798 , 0.6479506 , 0.64406717, 0.6434696 ,\n",
       "       0.6433245 , 0.6419896 , 0.63920116, 0.6387197 , 0.63831323,\n",
       "       0.63794386, 0.6375085 , 0.6372434 , 0.6357304 , 0.62788707,\n",
       "       0.62787676, 0.62689865, 0.6254773 , 0.6253374 , 0.6243776 ,\n",
       "       0.6229248 , 0.62129164, 0.62006384, 0.6192555 , 0.61887324,\n",
       "       0.6178239 , 0.61766577, 0.61726785, 0.6170297 , 0.6137158 ,\n",
       "       0.6127588 , 0.610449  , 0.60999715, 0.60751516, 0.6065814 ,\n",
       "       0.6046183 , 0.60419995, 0.6040479 , 0.60238236, 0.6004724 ,\n",
       "       0.5989181 , 0.5965589 , 0.5964551 , 0.5948665 , 0.59208935,\n",
       "       0.5916341 , 0.5912631 , 0.5903108 , 0.58927435, 0.58847076,\n",
       "       0.5864134 , 0.5845555 , 0.58443683, 0.5789432 , 0.57865244,\n",
       "       0.5785823 , 0.5779207 , 0.5763282 , 0.5753232 , 0.56623083,\n",
       "       0.5656514 , 0.5656412 , 0.56457794, 0.5637693 , 0.56314975,\n",
       "       0.563022  , 0.5584491 , 0.5577307 , 0.55695367, 0.5567609 ,\n",
       "       0.55568343, 0.55497783, 0.554852  , 0.5546142 , 0.55419624,\n",
       "       0.5510225 , 0.5509525 , 0.5504477 , 0.5490331 , 0.5445458 ,\n",
       "       0.5442217 , 0.5420113 , 0.5419126 , 0.53623986, 0.5358145 ,\n",
       "       0.53142613, 0.5304838 , 0.5291908 , 0.52656525, 0.5238364 ,\n",
       "       0.521322  , 0.52013993, 0.5191729 , 0.5183933 , 0.51826876,\n",
       "       0.51456165, 0.51290494, 0.5112146 , 0.507529  , 0.50655884,\n",
       "       0.5053105 , 0.5043997 , 0.50323415, 0.50059205, 0.5002306 ,\n",
       "       0.5000916 , 0.49777904, 0.49617603, 0.4944339 , 0.49285227,\n",
       "       0.4927065 , 0.48730803, 0.4853186 , 0.48229545, 0.48207936,\n",
       "       0.48143876, 0.47959766, 0.47652248, 0.47571975, 0.47566715,\n",
       "       0.47549626, 0.4753415 , 0.4750069 , 0.47458577, 0.47140115,\n",
       "       0.46733192, 0.46505913, 0.46171987, 0.46133408, 0.4607264 ,\n",
       "       0.45884892, 0.45818537, 0.45639357, 0.45577708, 0.45542634,\n",
       "       0.4554172 , 0.45354712, 0.45337552, 0.4527018 , 0.45062733,\n",
       "       0.4504055 , 0.4500488 , 0.4489189 , 0.4482915 , 0.44612297,\n",
       "       0.44605336, 0.44476342, 0.44449097, 0.4432714 , 0.4419084 ,\n",
       "       0.43903342, 0.43847725, 0.43507364, 0.4342612 , 0.4326912 ,\n",
       "       0.42767572, 0.4263865 , 0.42529187, 0.42525145, 0.42363164,\n",
       "       0.42347348, 0.42056838, 0.42006996, 0.41783652, 0.41767132,\n",
       "       0.41580063, 0.41558605, 0.41290912, 0.41259417, 0.41243127,\n",
       "       0.41209236, 0.41112074, 0.41107026, 0.40832925, 0.40514088,\n",
       "       0.4038361 , 0.40048352, 0.39885327, 0.3982822 , 0.39803302,\n",
       "       0.39750677, 0.39573655, 0.3952913 , 0.3949967 , 0.39160866,\n",
       "       0.38888454, 0.38731003, 0.38513634, 0.3848652 , 0.3821412 ,\n",
       "       0.38199744, 0.38153082, 0.38123596, 0.37874934, 0.3783457 ,\n",
       "       0.37735325, 0.3763256 , 0.37632325, 0.37569755, 0.37392026,\n",
       "       0.37372738, 0.37329158, 0.37273848, 0.37163824, 0.37126744,\n",
       "       0.36810032, 0.367317  , 0.36551827, 0.36379504, 0.3625696 ,\n",
       "       0.36216933, 0.36178982, 0.36114973, 0.35652882, 0.35648298,\n",
       "       0.3549194 , 0.3543213 , 0.35165894, 0.34870175, 0.34628007,\n",
       "       0.34590143, 0.34584448, 0.3454285 , 0.34298193, 0.34061474,\n",
       "       0.33864126, 0.33789465, 0.33573958, 0.33544838, 0.33384445,\n",
       "       0.33274007, 0.328318  , 0.32760474, 0.3257461 , 0.32522237,\n",
       "       0.32469743, 0.32361034, 0.32180506, 0.32089654, 0.31869346,\n",
       "       0.31756768, 0.31569338, 0.31558448, 0.31321257, 0.31254742,\n",
       "       0.3121001 , 0.31096214, 0.3081096 , 0.30752817, 0.30707425,\n",
       "       0.30680683, 0.30662438, 0.30497712, 0.3031818 , 0.30197978,\n",
       "       0.2993228 , 0.2992018 , 0.29641518, 0.2961988 , 0.2942289 ,\n",
       "       0.29387078, 0.29188707, 0.2906663 , 0.2904758 , 0.2900877 ,\n",
       "       0.28890097, 0.2865947 , 0.2862472 , 0.28030878, 0.27894104,\n",
       "       0.2767161 , 0.2766047 , 0.27628726, 0.2730471 , 0.2728796 ,\n",
       "       0.27276406, 0.2722518 , 0.27155307, 0.27030566, 0.26975146,\n",
       "       0.26948166, 0.26552123, 0.2652976 , 0.2649781 , 0.26409745,\n",
       "       0.2640661 , 0.26298615, 0.2602536 , 0.2593299 , 0.25907278,\n",
       "       0.25904828, 0.2572201 , 0.25443217, 0.25295398, 0.2529288 ,\n",
       "       0.25156125, 0.2511586 , 0.25047383, 0.25018468, 0.250034  ,\n",
       "       0.24607153, 0.24573793, 0.24442485, 0.24255383, 0.24253201,\n",
       "       0.24083188, 0.23586372, 0.23233368, 0.23160145, 0.23040988,\n",
       "       0.22942421, 0.22778067, 0.22715315, 0.22334422, 0.22010542,\n",
       "       0.21860833, 0.2178889 , 0.21734437, 0.21573319, 0.21435264,\n",
       "       0.21367224, 0.21228586, 0.21077006, 0.20935169, 0.20828846,\n",
       "       0.20333867, 0.20163058, 0.20017956, 0.19476669, 0.19444983,\n",
       "       0.19269282, 0.19245636, 0.19180073, 0.19110925, 0.18789484,\n",
       "       0.17882337, 0.17452191, 0.17355469, 0.17220604, 0.1694967 ,\n",
       "       0.1669831 , 0.1644447 , 0.16212086, 0.16072726, 0.15916033,\n",
       "       0.15652625, 0.15641971, 0.15518992, 0.15465847, 0.15191773,\n",
       "       0.14846916, 0.14778644, 0.14728718, 0.14707148, 0.14521246,\n",
       "       0.14429218, 0.14389645, 0.14248396, 0.14123324, 0.14091814,\n",
       "       0.14015597, 0.13279566, 0.13226956, 0.13101386, 0.12947437,\n",
       "       0.12927537, 0.12920852, 0.12896734, 0.12673773, 0.12532844,\n",
       "       0.12376285, 0.12278195, 0.12204941, 0.11917134, 0.11869253,\n",
       "       0.11805882, 0.11735523, 0.11207333, 0.11159045, 0.11109427,\n",
       "       0.11050996, 0.10990603, 0.10858063, 0.10782289, 0.10726134,\n",
       "       0.10639404, 0.10480808, 0.10345545, 0.10239629, 0.1007742 ,\n",
       "       0.09802056, 0.09747433, 0.09210193, 0.0869279 , 0.08628664,\n",
       "       0.08430724, 0.08063924, 0.08046336, 0.07728568, 0.07662956,\n",
       "       0.07430151, 0.07409535, 0.07297151, 0.07173613, 0.07038588,\n",
       "       0.06609821, 0.06309164, 0.0574788 , 0.05576755, 0.05539603,\n",
       "       0.05516806, 0.05077083, 0.05063584, 0.05031054, 0.04578676,\n",
       "       0.04507076, 0.04046935, 0.04033223, 0.03823873, 0.03486266,\n",
       "       0.0314566 , 0.0256048 , 0.01869016, 0.01409048], dtype=float32)"
      ]
     },
     "execution_count": 498,
     "metadata": {},
     "output_type": "execute_result"
    }
   ],
   "source": [
    "thresholds"
   ]
  },
  {
   "cell_type": "code",
   "execution_count": 499,
   "metadata": {},
   "outputs": [
    {
     "data": {
      "text/plain": [
       "array([<Axes: title={'center': '0'}>, <Axes: title={'center': '1'}>],\n",
       "      dtype=object)"
      ]
     },
     "execution_count": 499,
     "metadata": {},
     "output_type": "execute_result"
    },
    {
     "data": {
      "image/png": "[encoded data removed]",
      "text/plain": [
       "<Figure size 640x480 with 2 Axes>"
      ]
     },
     "metadata": {},
     "output_type": "display_data"
    }
   ],
   "source": [
    "dprob = pd.DataFrame(data = {'probability':y_pred_prob_XG, 'actual':y_test})\n",
    "dprob.probability.hist(by=dprob.actual, sharex=True, sharey=True)"
   ]
  },
  {
   "cell_type": "code",
   "execution_count": 500,
   "metadata": {},
   "outputs": [
    {
     "name": "stdout",
     "output_type": "stream",
     "text": [
      "Sensitivity: 0.6793893129770993\n",
      "Recall: 0.4844517184942717\n"
     ]
    }
   ],
   "source": [
    "op_thres_XG = 0.5\n",
    "\n",
    "evaluate_threshold(op_thres_XG)"
   ]
  },
  {
   "cell_type": "code",
   "execution_count": 501,
   "metadata": {},
   "outputs": [],
   "source": [
    "probs_XG_opt = final_XG.predict_proba(X_model_test)[:, 1]  \n",
    "pred_thres_XG_opt = (probs_XG_opt >= op_thres_XG).astype(int) "
   ]
  },
  {
   "cell_type": "code",
   "execution_count": 502,
   "metadata": {},
   "outputs": [
    {
     "name": "stdout",
     "output_type": "stream",
     "text": [
      "[[296 315]\n",
      " [378 801]]\n"
     ]
    }
   ],
   "source": [
    "print(confusion_matrix(expected, pred_thres_XG_opt))"
   ]
  },
  {
   "cell_type": "code",
   "execution_count": 503,
   "metadata": {},
   "outputs": [
    {
     "name": "stdout",
     "output_type": "stream",
     "text": [
      "              precision    recall  f1-score   support\n",
      "\n",
      "           0       0.44      0.48      0.46       611\n",
      "           1       0.72      0.68      0.70      1179\n",
      "\n",
      "    accuracy                           0.61      1790\n",
      "   macro avg       0.58      0.58      0.58      1790\n",
      "weighted avg       0.62      0.61      0.62      1790\n",
      "\n"
     ]
    }
   ],
   "source": [
    "print(classification_report(expected, pred_thres_XG_opt))"
   ]
  },
  {
   "cell_type": "markdown",
   "metadata": {},
   "source": [
    "Se obtienen los mismos resultados porque sigue siendo el mejor caso con umbral igual a 0,5."
   ]
  },
  {
   "cell_type": "markdown",
   "metadata": {},
   "source": [
    "Se calcula la AUC score."
   ]
  },
  {
   "cell_type": "code",
   "execution_count": 504,
   "metadata": {},
   "outputs": [
    {
     "name": "stdout",
     "output_type": "stream",
     "text": [
      "0.5819205157356855\n"
     ]
    }
   ],
   "source": [
    "print(roc_auc_score(expected, predicted_XG_opt))"
   ]
  },
  {
   "cell_type": "markdown",
   "metadata": {},
   "source": [
    "También ha tenido una pequeña mejora, pero sigue en el mismo intervalo. Es decir, sigue siendo un modelo *F*."
   ]
  },
  {
   "cell_type": "markdown",
   "metadata": {},
   "source": [
    "### 7.4.8 Conclusiones del modelo"
   ]
  },
  {
   "cell_type": "markdown",
   "metadata": {},
   "source": [
    "Tal y como esta el modelo no se estan obteniendo buenos resultados debido a la escasez de entradas y la gran cantidad de dimensiones que presenta el dataset. Estamos obteniendo prácticamente los mismos resultados que si decidieramos clasificar al azar.\n",
    "\n",
    "Aun así cabe resaltar que puede llegar a funcionar mejor que el Random Forest debido a que predice mejor los 0s. Además existe un mayor margen de trabajo a la hora de modificar el umbral de probabilidad."
   ]
  },
  {
   "cell_type": "markdown",
   "metadata": {},
   "source": [
    "# 8. Exportar CSV"
   ]
  },
  {
   "cell_type": "markdown",
   "metadata": {},
   "source": [
    "## 8.1 Asignacion de las variables"
   ]
  },
  {
   "cell_type": "markdown",
   "metadata": {},
   "source": [
    "Asignamos las variables para el analisis en función del desarrollo del apartado del preprocesado."
   ]
  },
  {
   "cell_type": "code",
   "execution_count": 505,
   "metadata": {},
   "outputs": [],
   "source": [
    "X_kaggle = X_res_final\n",
    "y_kaggle = y_res_final\n",
    "\n",
    "X_kaggle_test = X_scaled_te_final"
   ]
  },
  {
   "cell_type": "markdown",
   "metadata": {},
   "source": [
    "## 8.2 Clasificador Random Forest"
   ]
  },
  {
   "cell_type": "markdown",
   "metadata": {},
   "source": [
    "Se entrena con los nuevos valores de train y test, y se modifica el umbral de probabilidades. En un principio, el valor del umbral era el de la variable *op_thres_Random*, pero se decidió finalmente que el valor del umbral fueran valores numéricos para que fuera más sencillo hacer diversas pruebas en Kaggle."
   ]
  },
  {
   "cell_type": "code",
   "execution_count": 506,
   "metadata": {},
   "outputs": [],
   "source": [
    "final_Forest.fit(X_kaggle, y_kaggle)\n",
    "\n",
    "probs_For_final = final_Forest.predict_proba(X_kaggle_test)[:, 1]  \n",
    "pred_thres_For_final = (probs_For_final >= 0.5).astype(int) "
   ]
  },
  {
   "cell_type": "markdown",
   "metadata": {},
   "source": [
    "Se crea un *dataframe* con las predicciones obtenidas con su correspondiente *id*."
   ]
  },
  {
   "cell_type": "code",
   "execution_count": 507,
   "metadata": {},
   "outputs": [],
   "source": [
    "df_label_Random = pd.DataFrame(pred_thres_For_final, columns=['label'])"
   ]
  },
  {
   "cell_type": "code",
   "execution_count": 508,
   "metadata": {},
   "outputs": [],
   "source": [
    "df_id = df_test['id'].reset_index(drop=True)"
   ]
  },
  {
   "cell_type": "code",
   "execution_count": 509,
   "metadata": {},
   "outputs": [],
   "source": [
    "df_final_Random = pd.concat([df_id, df_label_Random], axis=1)"
   ]
  },
  {
   "cell_type": "markdown",
   "metadata": {},
   "source": [
    "Mostramos los resultados obtenidos para tener una idea de la proporción de 1s y 0s de Kaggle."
   ]
  },
  {
   "cell_type": "code",
   "execution_count": 510,
   "metadata": {},
   "outputs": [
    {
     "data": {
      "text/plain": [
       "label\n",
       "1    2264\n",
       "0    1572\n",
       "Name: count, dtype: int64"
      ]
     },
     "execution_count": 510,
     "metadata": {},
     "output_type": "execute_result"
    }
   ],
   "source": [
    "df_final_Random['label'].value_counts()"
   ]
  },
  {
   "cell_type": "markdown",
   "metadata": {},
   "source": [
    "Se transforma el *dataframe* a un archivo *CSV*."
   ]
  },
  {
   "cell_type": "code",
   "execution_count": 511,
   "metadata": {},
   "outputs": [],
   "source": [
    "df_final_Random.to_csv('./submit/randomWord2vec.csv', index=False)"
   ]
  },
  {
   "cell_type": "markdown",
   "metadata": {},
   "source": [
    "## 8.3 Clasificador XGBoost"
   ]
  },
  {
   "cell_type": "code",
   "execution_count": 512,
   "metadata": {},
   "outputs": [],
   "source": [
    "final_XG.fit(X_kaggle, y_kaggle)\n",
    "\n",
    "probs_XG_final = final_XG.predict_proba(X_kaggle_test)[:, 1]  \n",
    "pred_thres_XG_final = (probs_XG_final >= 0.5).astype(int) "
   ]
  },
  {
   "cell_type": "markdown",
   "metadata": {},
   "source": [
    "Se crea un *dataframe* con las predicciones obtenidas con su correspondiente *id*."
   ]
  },
  {
   "cell_type": "code",
   "execution_count": 513,
   "metadata": {},
   "outputs": [],
   "source": [
    "df_label_XG = pd.DataFrame(pred_thres_XG_final, columns=['label'])"
   ]
  },
  {
   "cell_type": "code",
   "execution_count": 514,
   "metadata": {},
   "outputs": [],
   "source": [
    "df_id = df_test['id'].reset_index(drop=True)"
   ]
  },
  {
   "cell_type": "code",
   "execution_count": 515,
   "metadata": {},
   "outputs": [],
   "source": [
    "df_final_XG = pd.concat([df_id, df_label_XG], axis=1)"
   ]
  },
  {
   "cell_type": "markdown",
   "metadata": {},
   "source": [
    "Mostramos los resultados obtenidos para tener una idea de la proporción de 1s y 0s de Kaggle."
   ]
  },
  {
   "cell_type": "code",
   "execution_count": 516,
   "metadata": {},
   "outputs": [
    {
     "data": {
      "text/plain": [
       "label\n",
       "1    2107\n",
       "0    1729\n",
       "Name: count, dtype: int64"
      ]
     },
     "execution_count": 516,
     "metadata": {},
     "output_type": "execute_result"
    }
   ],
   "source": [
    "df_final_XG['label'].value_counts()"
   ]
  },
  {
   "cell_type": "markdown",
   "metadata": {},
   "source": [
    "Se transforma el *dataframe* a un archivo *CSV*."
   ]
  },
  {
   "cell_type": "code",
   "execution_count": 517,
   "metadata": {},
   "outputs": [],
   "source": [
    "df_final_XG.to_csv('./submit/xgboostWord2vec.csv', index=False)"
   ]
  },
  {
   "cell_type": "markdown",
   "metadata": {},
   "source": [
    "# 9. Referencias"
   ]
  },
  {
   "cell_type": "markdown",
   "metadata": {},
   "source": [
    "* [ColumnTransformer. (s. f.). Scikit-learn.](https://scikit-learn.org/stable/modules/generated/sklearn.compose.ColumnTransformer.html)\n",
    "* [GridSearchCV. (s. f.). Scikit-learn.](https://scikit-learn.org/stable/modules/generated/sklearn.model_selection.GridSearchCV.html)\n",
    "* [RandomForestClassifier. (s. f.). Scikit-learn.](https://scikit-learn.org/stable/modules/generated/sklearn.ensemble.RandomForestClassifier.html)\n",
    "* [RandomUnderSampler — Version 0.13.0. (s. f.). Imbalance learn.](https://imbalanced-learn.org/stable/references/generated/imblearn.under_sampling.RandomUnderSampler.html)\n",
    "* [SMOTE — Version 0.13.0. (s. f.). Imbalanced learn.](https://imbalanced-learn.org/stable/references/generated/imblearn.over_sampling.SMOTE.html)\n",
    "* [StandardScaler. (s. f.). Scikit-learn.](https://scikit-learn.org/stable/modules/generated/sklearn.preprocessing.StandardScaler.html)\n",
    "* [train_test_split. (s. f.). Scikit-learn.](https://scikit-learn.org/stable/modules/generated/sklearn.model_selection.train_test_split.html)\n",
    "* [TfidfVectorizer. (s. f.). Scikit-learn.](https://scikit-learn.org/stable/modules/generated/sklearn.feature_extraction.text.TfidfVectorizer.html)\n",
    "* [TruncatedSVD. (s. f.). Scikit-learn.](https://scikit-learn.org/stable/modules/generated/sklearn.decomposition.TruncatedSVD.html)\n",
    "* [XGBoost Parameters — xgboost 3.0.0 documentation. (s. f.).](https://xgboost.readthedocs.io/en/release_3.0.0/parameter.html)"
   ]
  }
 ],
 "metadata": {
  "kernelspec": {
   "display_name": "base",
   "language": "python",
   "name": "python3"
  },
  "language_info": {
   "codemirror_mode": {
    "name": "ipython",
    "version": 3
   },
   "file_extension": ".py",
   "mimetype": "text/x-python",
   "name": "python",
   "nbconvert_exporter": "python",
   "pygments_lexer": "ipython3",
   "version": "3.12.7"
  }
 },
 "nbformat": 4,
 "nbformat_minor": 4
}
