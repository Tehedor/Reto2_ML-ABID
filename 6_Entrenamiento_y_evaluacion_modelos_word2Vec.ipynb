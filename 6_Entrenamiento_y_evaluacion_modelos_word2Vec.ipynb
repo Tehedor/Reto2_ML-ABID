{
 "cells": [
  {
   "cell_type": "markdown",
   "metadata": {},
   "source": [
    "<header style=\"width:100%;position:relative\">\n",
    "  <div style=\"width:80%;float:right;\">\n",
    "    <h1>False Political Claim Detection</h1>\n",
    "    <h3>Entrenamiento y evaluación de los modelos</h3>\n",
    "    <h5>Grupo 2</h5>\n",
    "  </div>\n",
    "        <img style=\"width:15%;\" src=\"./images/logo.jpg\" alt=\"UPM\" />\n",
    "</header>"
   ]
  },
  {
   "cell_type": "markdown",
   "metadata": {},
   "source": [
    "# Índice"
   ]
  },
  {
   "cell_type": "markdown",
   "metadata": {},
   "source": [
    "1. [Importar librerias](#1.-Importar-librerias)\n",
    "2. [Variables globales y funciones auxiliares](#2.-Variables-globales-y-funciones-auxiliares)\n",
    "3. [Carga del dataframe](#3.-Carga-del-dataframe)\n",
    "4. [Selección de las características](#4.-Seleccion-de-las-caracteristicas)\n",
    "5. [Carga de los datos y división en entrenamiento y test](#5.-Carga-de-los-datos-y-division-en-entrenamiento-y-test)\n",
    "6. [Preprocesado](#6.-Preprocesado)\n",
    "    * 6.1 [Tratamiento de los textos](#6.1-Tratamiento-de-los-textos)\n",
    "    * 6.2 [Remuestreo](#6.2-Remuestreo)\n",
    "7. [Modelos seleccionados](#7.-Modelos-seleccionados)\n",
    "    * 7.1 [Introducción](#7.1-Introduccion)\n",
    "    * 7.2 [Asignacion de las variables](#7.2-Asignacion-de-las-variables)\n",
    "    * 7.3 [Clasificador Random Forest](#7.3-Clasificador-Random-Forest)\n",
    "    * 7.4 [Clasificador XGBoost](#7.4-Clasificador-XGBoost)\n",
    "8. [Exportar CSV](#8.-Exportar-CSV)\n",
    "    * 8.1 [Asignacion de las variables](#8.1-Asignacion-de-las-variables)\n",
    "    * 8.2 [Clasificador Random Forest](#8.2-Clasificador-Random-Forest)\n",
    "    * 8.3 [Clasificador XGBoost](#8.3-Clasificador-XGBoost)\n",
    "9. [Referencias](#9.-Referencias)"
   ]
  },
  {
   "cell_type": "markdown",
   "metadata": {},
   "source": [
    "# 1. Importar librerias"
   ]
  },
  {
   "cell_type": "code",
   "execution_count": 301,
   "metadata": {},
   "outputs": [
    {
     "name": "stdout",
     "output_type": "stream",
     "text": [
      "Todas las librerias fueron correctamente importadas.\n"
     ]
    },
    {
     "name": "stderr",
     "output_type": "stream",
     "text": [
      "[nltk_data] Downloading package punkt_tab to\n",
      "[nltk_data]     C:\\Users\\david\\AppData\\Roaming\\nltk_data...\n",
      "[nltk_data]   Package punkt_tab is already up-to-date!\n",
      "[nltk_data] Downloading package punkt to\n",
      "[nltk_data]     C:\\Users\\david\\AppData\\Roaming\\nltk_data...\n",
      "[nltk_data]   Package punkt is already up-to-date!\n"
     ]
    }
   ],
   "source": [
    "# General import and load data\n",
    "import pandas as pd\n",
    "import numpy as np\n",
    "\n",
    "# Resampling\n",
    "from imblearn.under_sampling import RandomUnderSampler\n",
    "from imblearn.over_sampling import SMOTE\n",
    "\n",
    "# Preprocessing\n",
    "from sklearn.compose import ColumnTransformer\n",
    "from sklearn.preprocessing import StandardScaler\n",
    "from sklearn.feature_extraction.text import TfidfVectorizer\n",
    "from sklearn.decomposition import TruncatedSVD\n",
    "from sklearn.decomposition import PCA\n",
    "\n",
    "# Splitting\n",
    "from sklearn.model_selection import train_test_split\n",
    "\n",
    "# Estimators\n",
    "from sklearn.ensemble import RandomForestClassifier\n",
    "from xgboost import XGBClassifier\n",
    "\n",
    "# Evaluation\n",
    "from sklearn.metrics import accuracy_score, confusion_matrix, classification_report\n",
    "from sklearn.metrics import make_scorer, f1_score, recall_score, roc_curve, roc_auc_score\n",
    "\n",
    "# Optimization\n",
    "from sklearn.model_selection import GridSearchCV, PredefinedSplit\n",
    "\n",
    "# Visualization\n",
    "import matplotlib.pyplot as plt\n",
    "\n",
    "# Time optimization\n",
    "import time\n",
    "# word2vec\n",
    "from gensim.models import Word2Vec\n",
    "import gensim\n",
    "import numpy as np\n",
    "from nltk.tokenize import word_tokenize\n",
    "import nltk\n",
    "from nltk.tokenize import word_tokenize\n",
    "import nltk\n",
    "from nltk.tokenize import word_tokenize\n",
    "nltk.download('punkt_tab')\n",
    "nltk.download('punkt') \n",
    "\n",
    "\n",
    "print(\"Todas las librerias fueron correctamente importadas.\")"
   ]
  },
  {
   "cell_type": "markdown",
   "metadata": {},
   "source": [
    "# 2. Variables globales y funciones auxiliares"
   ]
  },
  {
   "cell_type": "markdown",
   "metadata": {},
   "source": [
    "Se fija un seed para todo el documento para fijar la aleatoriedad y así obtener resultados replicables."
   ]
  },
  {
   "cell_type": "code",
   "execution_count": 302,
   "metadata": {},
   "outputs": [],
   "source": [
    "seed = 42"
   ]
  },
  {
   "cell_type": "markdown",
   "metadata": {},
   "source": [
    "Función utilizado para evaluar los distintos umbrales en la curva de ROC."
   ]
  },
  {
   "cell_type": "code",
   "execution_count": 303,
   "metadata": {},
   "outputs": [],
   "source": [
    "def evaluate_threshold(threshold):\n",
    "    print('Sensitivity:', tpr[thresholds > threshold][-1])\n",
    "    print('Recall:', 1 - fpr[thresholds > threshold][-1])"
   ]
  },
  {
   "cell_type": "markdown",
   "metadata": {},
   "source": [
    "# 3. Carga del dataframe"
   ]
  },
  {
   "cell_type": "markdown",
   "metadata": {},
   "source": [
    "Se cargan los datos de la ruta *formated/train_exportado.csv*, los cuales son los datos ya procesados por uno de nuestros compañeros."
   ]
  },
  {
   "cell_type": "code",
   "execution_count": 304,
   "metadata": {},
   "outputs": [
    {
     "name": "stdout",
     "output_type": "stream",
     "text": [
      "Datos cargados correctamente\n",
      "\n"
     ]
    }
   ],
   "source": [
    "url = \"formated/train_exportado.csv\"\n",
    "df = pd.read_csv(url)\n",
    "\n",
    "print(\"Datos cargados correctamente\\n\")"
   ]
  },
  {
   "cell_type": "markdown",
   "metadata": {},
   "source": [
    "También cargamos el test que debemos predecir para Kaggle de la ruta *formated/test_exportado.csv*."
   ]
  },
  {
   "cell_type": "code",
   "execution_count": 305,
   "metadata": {},
   "outputs": [
    {
     "name": "stdout",
     "output_type": "stream",
     "text": [
      "Test cargado correctamente\n",
      "\n"
     ]
    }
   ],
   "source": [
    "url = \"formated/test_exportado.csv\"\n",
    "df_test = pd.read_csv(url)\n",
    "\n",
    "print(\"Test cargado correctamente\\n\")"
   ]
  },
  {
   "cell_type": "markdown",
   "metadata": {},
   "source": [
    "# 4. Seleccion de las caracteristicas"
   ]
  },
  {
   "cell_type": "markdown",
   "metadata": {},
   "source": [
    "En el siguiente array se muestran todas las caracteristicas por si se decide realizar pruebas con otras *features*."
   ]
  },
  {
   "cell_type": "code",
   "execution_count": 306,
   "metadata": {},
   "outputs": [],
   "source": [
    "all_features = [\n",
    "    # Identificador\n",
    "    'id',\n",
    "\n",
    "    # Etiqueta objetivo\n",
    "    'label',\n",
    "\n",
    "    # Texto original y procesado\n",
    "    'statement', 'statement-raw', 'statement-lemmatize', \n",
    "\n",
    "    # Features derivados del texto\n",
    "    'statement-ner', 'feelings',\n",
    "\n",
    "    # One-hot encoded de los temas reagrupados del texto \n",
    "    'subject-ciencia_y_tecnologia', 'subject-economia_y_finanzas',\n",
    "    'subject-educacion', 'subject-medio_ambiente_y_energia', 'subject-otros',\n",
    "    'subject-politica_y_gobierno', 'subject-relaciones_internacionales',\n",
    "    'subject-salud_y_bienestar', 'subject-seguridad_y_justicia',\n",
    "    'subject-sociedad_y_cultura', 'subject-trabajo_y_empleo',\n",
    "\n",
    "    # Resto de las categoricas agrupadas\n",
    "    'speaker_grouped', 'speaker_job_grouped', 'state_info_grouped', 'party_group',\n",
    "\n",
    "    # Resto de las categoricas agrupadas y codificadas\n",
    "    'speaker_grouped_cod', 'speaker_job_grouped_cod',\n",
    "    'state_info_grouped_cod', 'party_group_cod',\n",
    "\n",
    "    # Variables generadas por LLM los null\n",
    "    'speaker_job-llm', 'speaker_job_cod-llm',\n",
    "    'state_info-llm', 'state_info_cod-llm',\n",
    "    'party_affiliation-llm', 'party_affiliation_cod-llm'\n",
    "]"
   ]
  },
  {
   "cell_type": "markdown",
   "metadata": {},
   "source": [
    "Se seleccionan todas las categorias menos: \n",
    "* ***id***: no aporta ningún valor.\n",
    "* ***label***: variable a predecir.\n",
    "* ***statement***: esta *feature* esta por si nos es necesario en algun momento futuro tener el texto sin procesar.\n",
    "* ***statement-lemmatize***: esta *feature* solo esta para probar en notebooks posteriores si clasifica mejor o peor con las raices de las palabras.\n",
    "* ***statement-ner***: esta *feature* esta para ver si el clasificador funciona mejor con el NER por separado.\n",
    "* ***speaker_grouped***, ***speaker_job_grouped***, ***state_info_grouped***, ***party_group***: suponemos que tenemos la misma información ya codificada.\n",
    "* ***speaker_job-llm***, ***speaker_job_cod-llm***, ***state_info-llm***, ***state_info_cod-llm***, ***party_affiliation-llm***, ***party_affiliation_cod-llm***: esta información ya esta en otras *features*, la diferencia esta en como se tratan los nulos asi que se analizará cual funciona mejor si con LLM o sin ellos durante el apartado de clasificación."
   ]
  },
  {
   "cell_type": "code",
   "execution_count": 307,
   "metadata": {},
   "outputs": [],
   "source": [
    "selected_features = [\n",
    "    # Texto\n",
    "    'statement-raw',\n",
    "        \n",
    "    # Features derivados del texto\n",
    "    'feelings',\n",
    "\n",
    "    # One-hot encoded de los temas reagrupados del texto \n",
    "    'subject-ciencia_y_tecnologia', 'subject-economia_y_finanzas',\n",
    "    'subject-educacion', 'subject-medio_ambiente_y_energia', 'subject-otros',\n",
    "    'subject-politica_y_gobierno', 'subject-relaciones_internacionales',\n",
    "    'subject-salud_y_bienestar', 'subject-seguridad_y_justicia',\n",
    "    'subject-sociedad_y_cultura', 'subject-trabajo_y_empleo',\n",
    "\n",
    "    # Resto de las categoricas agrupadas y codificadas\n",
    "    'speaker_grouped_cod', 'speaker_job_grouped_cod',\n",
    "    'state_info_grouped_cod', 'party_group_cod'\n",
    "]"
   ]
  },
  {
   "cell_type": "markdown",
   "metadata": {},
   "source": [
    "En caso de querer probar si funcionan mejor las de los LLM, se sustituirán por su simil. También si se quiere probar el texto lematizado se sustituira por el *raw*."
   ]
  },
  {
   "cell_type": "markdown",
   "metadata": {},
   "source": [
    "De las cuales texto es:"
   ]
  },
  {
   "cell_type": "code",
   "execution_count": 308,
   "metadata": {},
   "outputs": [],
   "source": [
    "text = 'statement-raw'"
   ]
  },
  {
   "cell_type": "markdown",
   "metadata": {},
   "source": [
    "Y las que no se corresponden con texto son:"
   ]
  },
  {
   "cell_type": "code",
   "execution_count": 309,
   "metadata": {},
   "outputs": [],
   "source": [
    "no_text = [\n",
    "    # Features derivados del texto\n",
    "    'feelings',\n",
    "\n",
    "    # One-hot encoded de los temas reagrupados del texto \n",
    "    'subject-ciencia_y_tecnologia', 'subject-economia_y_finanzas',\n",
    "    'subject-educacion', 'subject-medio_ambiente_y_energia', 'subject-otros',\n",
    "    'subject-politica_y_gobierno', 'subject-relaciones_internacionales',\n",
    "    'subject-salud_y_bienestar', 'subject-seguridad_y_justicia',\n",
    "    'subject-sociedad_y_cultura', 'subject-trabajo_y_empleo',\n",
    "\n",
    "    # Resto de las categoricas agrupadas y codificadas\n",
    "     'speaker_grouped_cod', 'speaker_job_grouped_cod',\n",
    "     'state_info_grouped_cod', 'party_group_cod'\n",
    "]"
   ]
  },
  {
   "cell_type": "markdown",
   "metadata": {},
   "source": [
    "Y de las cuales, numéricas son las siguientes:"
   ]
  },
  {
   "cell_type": "code",
   "execution_count": 310,
   "metadata": {},
   "outputs": [],
   "source": [
    "numeric_vars = [\n",
    "    'speaker_grouped_cod', 'speaker_job_grouped_cod',\n",
    "    'state_info_grouped_cod', 'party_group_cod'\n",
    "]"
   ]
  },
  {
   "cell_type": "markdown",
   "metadata": {},
   "source": [
    "# 5. Carga de los datos y division en entrenamiento y test"
   ]
  },
  {
   "cell_type": "markdown",
   "metadata": {},
   "source": [
    "Cargamos las caracteristicas seleccionadas en la variable X y el objetivo *Accept* en la variable y."
   ]
  },
  {
   "cell_type": "code",
   "execution_count": 311,
   "metadata": {},
   "outputs": [],
   "source": [
    "X = df[selected_features] \n",
    "y = df['label'].values"
   ]
  },
  {
   "cell_type": "markdown",
   "metadata": {},
   "source": [
    "Se separa ya en entrenamiento y test para no falsear los datos del test al realizar el balanceo."
   ]
  },
  {
   "cell_type": "code",
   "execution_count": 312,
   "metadata": {},
   "outputs": [],
   "source": [
    "X_train, X_test, y_train, y_test = train_test_split(X, y, test_size=0.2, random_state=seed)"
   ]
  },
  {
   "cell_type": "markdown",
   "metadata": {},
   "source": [
    "A la hora de subir el modelo a Kaggle, ya se nos da dividido el entrenamiento y el test. Por ello, se utilizarán todos los datos tratados como entrenamiento (aunque también se le aplicará el mejor caso de preprocesado para cada modelo)."
   ]
  },
  {
   "cell_type": "code",
   "execution_count": 313,
   "metadata": {},
   "outputs": [],
   "source": [
    "X_train_final = X\n",
    "y_train_final = y\n",
    "\n",
    "X_test_final = df_test[selected_features] "
   ]
  },
  {
   "cell_type": "markdown",
   "metadata": {},
   "source": [
    "# 6. Preprocesado"
   ]
  },
  {
   "cell_type": "markdown",
   "metadata": {},
   "source": [
    "Como se menciona en el notebook dedicado al preprocesamiento, primero se tratará el texto, después se reducirá su dimensionalidad con un *PCA*, se estandarizarán las variables codificadas mediante un *StandardScaler* y, finalmente, se realizará un remuestreo mediante *SMOTE* y *RandomUnderSampler*. \n",
    "\n",
    "En caso de querer probar el caso de preprocesamiento 6, será necesario eliminar el *StandardScaler* junto al *ColumnTransformer*."
   ]
  },
  {
   "cell_type": "markdown",
   "metadata": {},
   "source": [
    "## 6.1 Tratamiento de los textos"
   ]
  },
  {
   "cell_type": "markdown",
   "metadata": {},
   "source": [
    "### 6.1.1 Vectorización"
   ]
  },
  {
   "cell_type": "markdown",
   "metadata": {},
   "source": [
    "Primero tokenizamos el texto para Word2Vec"
   ]
  },
  {
   "cell_type": "code",
   "execution_count": 314,
   "metadata": {},
   "outputs": [],
   "source": [
    "\n",
    "# Tokeniza el texto \n",
    "#X_train_tokens = X_train[text].apply(lambda x: x.split())\n",
    "#X_test_tokens = X_test[text].apply(lambda x: x.split())\n",
    "\n",
    "X_train_tokens = X_train[text].apply(lambda x: word_tokenize(str(x)))\n",
    "X_test_tokens = X_test[text].apply(lambda x: word_tokenize(str(x)))\n"
   ]
  },
  {
   "cell_type": "markdown",
   "metadata": {},
   "source": [
    "A continuación se entrena un modelo Word2Vec utilizando los textos tokenizados del conjunto de entrenamiento. Posteriormente, se obtiene un vector representativo para cada texto calculando la media de los vectores de las palabras que aparecen en el vocabulario del modelo. Finalmente, se aplica este proceso tanto al conjunto de entrenamiento como al de test.\n"
   ]
  },
  {
   "cell_type": "code",
   "execution_count": 315,
   "metadata": {},
   "outputs": [],
   "source": [
    "w2v_model = Word2Vec(sentences=X_train_tokens, vector_size=30, window=2, min_count=2, workers=1, seed=42)\n",
    "\n",
    "\n",
    "# Palabras conocidas\n",
    "vocab = set(w2v_model.wv.index_to_key)\n",
    "\n",
    "def sentence_vector(tokens, model, size=30):\n",
    "    vectors = [model.wv[w] for w in tokens if w in vocab]\n",
    "    if len(vectors) == 0:\n",
    "        return np.zeros(size)\n",
    "    else:\n",
    "        return np.mean(vectors, axis=0)\n",
    "\n",
    "# Aplica a train y test\n",
    "X_txt_train = np.vstack(X_train_tokens.apply(lambda x: sentence_vector(x, w2v_model)))\n",
    "X_txt_test = np.vstack(X_test_tokens.apply(lambda x: sentence_vector(x, w2v_model)))"
   ]
  },
  {
   "cell_type": "markdown",
   "metadata": {},
   "source": [
    "Después para el dataset que se utilizará para subir a Kaggle."
   ]
  },
  {
   "cell_type": "code",
   "execution_count": 316,
   "metadata": {},
   "outputs": [],
   "source": [
    "# Tokeniza el texto \n",
    "#X_train_tokens_final = X_train_final[text].apply(lambda x: x.split())\n",
    "#X_test_tokens_final = X_test_final[text].apply(lambda x: x.split())\n",
    "\n",
    "X_train_tokens_final = X_train_final[text].apply(lambda x: word_tokenize(str(x)))\n",
    "X_test_tokens_final = X_test_final[text].apply(lambda x: word_tokenize(str(x)))"
   ]
  },
  {
   "cell_type": "code",
   "execution_count": 317,
   "metadata": {},
   "outputs": [],
   "source": [
    "w2v_model_final = Word2Vec(sentences=X_train_tokens_final, vector_size=30, window=2, min_count=2, workers=1, seed=42)\n",
    "\n",
    "\n",
    "# Palabras conocidas\n",
    "vocab_final = set(w2v_model_final.wv.index_to_key)\n",
    "\n",
    "def sentence_vector(tokens, model, size=30):\n",
    "    vectors = [model.wv[w] for w in tokens if w in vocab_final]\n",
    "    if len(vectors) == 0:\n",
    "        return np.zeros(size)\n",
    "    else:\n",
    "        return np.mean(vectors, axis=0)\n",
    "\n",
    "# Aplica a train y test\n",
    "X_txt_tr_final = np.vstack(X_train_tokens_final.apply(lambda x: sentence_vector(x, w2v_model_final)))\n",
    "X_txt_te_final = np.vstack(X_test_tokens_final.apply(lambda x: sentence_vector(x, w2v_model_final)))"
   ]
  },
  {
   "cell_type": "markdown",
   "metadata": {},
   "source": [
    "Después de analizar la varianza explicada mediante PCA (6.1.3), se observó que un número reducido de componentes era suficiente para conservar el 95% de la varianza. Por tanto, se consideró razonable reducir también la dimensionalidad inicial de los vectores Word2Vec a 30, con el objetivo de eliminar redundancias y reducir la complejidad del modelo, minimizando así el riesgo de sobreajuste sin una pérdida significativa de información."
   ]
  },
  {
   "cell_type": "markdown",
   "metadata": {},
   "source": [
    "## 6.1.2 Unificación de características"
   ]
  },
  {
   "cell_type": "code",
   "execution_count": 318,
   "metadata": {},
   "outputs": [],
   "source": [
    "# Train\n",
    "X_svd_train = pd.DataFrame(X_txt_train, columns=[f\"svd_{i}\" for i in range(X_txt_train.shape[1])])\n",
    "X_rest_train = X_train[no_text].reset_index(drop=True)\n",
    "\n",
    "# Test\n",
    "X_svd_test = pd.DataFrame(X_txt_test, columns=[f\"svd_{i}\" for i in range(X_txt_test.shape[1])])\n",
    "X_rest_test = X_test[no_text].reset_index(drop=True)\n",
    "\n",
    "# Text + Resto de features\n",
    "X_total_train = pd.concat([X_svd_train, X_rest_train], axis=1)\n",
    "X_total_test = pd.concat([X_svd_test, X_rest_test], axis=1)"
   ]
  },
  {
   "cell_type": "markdown",
   "metadata": {},
   "source": [
    "Ahora kaggle"
   ]
  },
  {
   "cell_type": "code",
   "execution_count": 319,
   "metadata": {},
   "outputs": [],
   "source": [
    "# Train\n",
    "X_svd_tr_final = pd.DataFrame(X_txt_tr_final, columns=[f\"svd_{i}\" for i in range(X_txt_tr_final.shape[1])])\n",
    "X_rest_tr_final = X_train_final[no_text].reset_index(drop=True)\n",
    "\n",
    "# Test\n",
    "X_svd_te_final = pd.DataFrame(X_txt_te_final, columns=[f\"svd_{i}\" for i in range(X_txt_te_final.shape[1])])\n",
    "X_rest_te_final = X_test_final[no_text].reset_index(drop=True)\n",
    "\n",
    "# Text + Resto de features\n",
    "X_tot_tr_final = pd.concat([X_svd_tr_final, X_rest_tr_final], axis=1)\n",
    "X_tot_te_final = pd.concat([X_svd_te_final, X_rest_te_final], axis=1)"
   ]
  },
  {
   "cell_type": "markdown",
   "metadata": {},
   "source": [
    "## 6.1.3 Reducción dimensionalidad"
   ]
  },
  {
   "cell_type": "markdown",
   "metadata": {},
   "source": [
    "Primero se estandarizan las características combinadas (texto + resto de variables) utilizando `StandardScaler`, ya que PCA es sensible a la escala de las variables.  \n",
    "A continuación, se aplica PCA sin limitar el número de componentes para calcular la varianza explicada acumulada y determinar cuántos componentes son necesarios para conservar al menos el 95% de la información del conjunto de entrenamiento.\n"
   ]
  },
  {
   "cell_type": "raw",
   "metadata": {
    "vscode": {
     "languageId": "raw"
    }
   },
   "source": [
    "scaler = StandardScaler()\n",
    "X_total_train_scaled = scaler.fit_transform(X_total_train)\n",
    "X_total_test_scaled = scaler.transform(X_total_test)\n",
    "\n",
    "# PCA sin límite para evaluar varianza explicada\n",
    "pca_temp = PCA(random_state=seed)\n",
    "pca_temp.fit(X_total_train_scaled)\n",
    "explained = np.cumsum(pca_temp.explained_variance_ratio_)\n",
    "\n",
    "#  Mostrar varianza explicada acumulada (primeros 30 componentes)\n",
    "print(\"Varianza explicada acumulada (primeros 30 componentes):\")\n",
    "for i in range(min(30, len(explained))):\n",
    "    print(f\"Componente {i+1:2d}: {explained[i]:.4f}\")\n"
   ]
  },
  {
   "cell_type": "markdown",
   "metadata": {},
   "source": [
    "En esta sección se selecciona el número mínimo de componentes necesarios para conservar al menos el 95% de la varianza.  \n",
    "Se ajusta y transforma el conjunto de datos con estos componentes, y finalmente se convierten los resultados a `DataFrame`, renombrando las columnas con el prefijo `pca_`.\n"
   ]
  },
  {
   "cell_type": "raw",
   "metadata": {
    "vscode": {
     "languageId": "raw"
    }
   },
   "source": [
    "# Elegir número mínimo de componentes para explicar 95%\n",
    "threshold = 0.95\n",
    "n_components = np.argmax(explained >= threshold) + 1\n",
    "print(f\"\\nPara explicar al menos el {int(threshold*100)}% de la varianza, se necesitan {n_components} componentes.\")\n",
    "\n",
    "# Aplicar PCA final \n",
    "pca = PCA(n_components=n_components, random_state=seed)\n",
    "X_total_train_pca = pca.fit_transform(X_total_train_scaled)\n",
    "X_total_test_pca = pca.transform(X_total_test_scaled)\n",
    "\n",
    "# Convertir resultado PCA a DataFrame y reasignar los nombres originales\n",
    "X_total_train = pd.DataFrame(X_total_train_pca, columns=[f'pca_{i}' for i in range(X_total_train_pca.shape[1])])\n",
    "X_total_test = pd.DataFrame(X_total_test_pca, columns=[f'pca_{i}' for i in range(X_total_test_pca.shape[1])])\n"
   ]
  },
  {
   "cell_type": "markdown",
   "metadata": {},
   "source": [
    "Ahora kaggle"
   ]
  },
  {
   "cell_type": "raw",
   "metadata": {
    "vscode": {
     "languageId": "raw"
    }
   },
   "source": [
    "scaler_final = StandardScaler()\n",
    "X_tot_tr_final_scaled = scaler_final.fit_transform(X_tot_tr_final)\n",
    "X_tot_te_final_scaled = scaler_final.transform(X_tot_te_final)\n",
    "\n",
    "#  PCA sin límite para evaluar varianza explicada\n",
    "pca_temp_final = PCA(random_state=seed)\n",
    "pca_temp_final.fit(X_tot_tr_final_scaled)\n",
    "explained_final = np.cumsum(pca_temp_final.explained_variance_ratio_)\n",
    "\n",
    "# Mostrar varianza explicada acumulada (primeros 30 componentes)\n",
    "print(\"Varianza explicada acumulada (primeros 30 componentes) - dataset final:\")\n",
    "for i in range(min(30, len(explained_final))):\n",
    "    print(f\"Componente {i+1:2d}: {explained_final[i]:.4f}\")\n",
    "\n"
   ]
  },
  {
   "cell_type": "raw",
   "metadata": {
    "vscode": {
     "languageId": "raw"
    }
   },
   "source": [
    "# Elegir número mínimo de componentes para explicar 95% \n",
    "threshold = 0.95\n",
    "n_components_final = np.argmax(explained_final >= threshold) + 1\n",
    "print(f\"\\nPara explicar al menos el {int(threshold*100)}% de la varianza, se necesitan {n_components_final} componentes en dataset final.\")\n",
    "\n",
    "# Aplicar PCA final con número óptimo de componentes\n",
    "pca_final = PCA(n_components=n_components_final, random_state=seed)\n",
    "X_tot_tr_final_pca = pca_final.fit_transform(X_tot_tr_final_scaled)\n",
    "X_tot_te_final_pca = pca_final.transform(X_tot_te_final_scaled)\n",
    "\n",
    "# Convertir resultado PCA a DataFrame y reasignar los nombres originales\n",
    "X_tot_tr_final = pd.DataFrame(X_tot_tr_final_pca, columns=[f'pca_{i}' for i in range(X_tot_tr_final_pca.shape[1])])\n",
    "X_tot_te_final = pd.DataFrame(X_tot_te_final_pca, columns=[f'pca_{i}' for i in range(X_tot_te_final_pca.shape[1])])"
   ]
  },
  {
   "cell_type": "markdown",
   "metadata": {},
   "source": [
    " Observaciones finales\n",
    "\n",
    "Tras realizar las pruebas utilizando PCA para la reducción de dimensionalidad, se ha comprobado que los resultados obtenidos en las métricas de evaluación han sido **peores que aquellos obtenidos sin aplicar dicha reducción**.\n",
    "\n",
    "Esto sugiere que, en este caso concreto, la pérdida de información causada por la reducción de componentes no compensa la posible mejora en eficiencia o generalización.  \n",
    "Por tanto, **se recomienda no aplicar PCA** en este pipeline para conservar el máximo rendimiento del modelo.\n"
   ]
  },
  {
   "cell_type": "markdown",
   "metadata": {},
   "source": []
  },
  {
   "cell_type": "markdown",
   "metadata": {},
   "source": [
    "## 6.2 Remuestreo"
   ]
  },
  {
   "cell_type": "markdown",
   "metadata": {},
   "source": [
    "### 6.2.1 Estandarizacion"
   ]
  },
  {
   "cell_type": "markdown",
   "metadata": {},
   "source": [
    "Primero se estandarizan el conjunto para el análisis."
   ]
  },
  {
   "cell_type": "code",
   "execution_count": 320,
   "metadata": {},
   "outputs": [],
   "source": [
    "prep = ColumnTransformer([\n",
    "    ('numericas', StandardScaler(), numeric_vars)\n",
    "], remainder='passthrough').fit(X_total_train) \n",
    "\n",
    "X_scaled_train = prep.transform(X_total_train)\n",
    "X_scaled_test = prep.transform(X_total_test)"
   ]
  },
  {
   "cell_type": "markdown",
   "metadata": {},
   "source": [
    "Después el de Kaggle."
   ]
  },
  {
   "cell_type": "code",
   "execution_count": 321,
   "metadata": {},
   "outputs": [],
   "source": [
    "prep_final = ColumnTransformer([\n",
    "    ('numericas', StandardScaler(), numeric_vars)\n",
    "], remainder='passthrough').fit(X_tot_tr_final) \n",
    "\n",
    "X_scaled_tr_final = prep_final.transform(X_tot_tr_final)\n",
    "X_scaled_te_final = prep_final.transform(X_tot_te_final)"
   ]
  },
  {
   "cell_type": "markdown",
   "metadata": {},
   "source": [
    "### 6.2.2 Undersampling"
   ]
  },
  {
   "cell_type": "markdown",
   "metadata": {},
   "source": [
    "Primero se realiza un undersampling al conjunto para el análisis."
   ]
  },
  {
   "cell_type": "code",
   "execution_count": 322,
   "metadata": {},
   "outputs": [
    {
     "name": "stderr",
     "output_type": "stream",
     "text": [
      "c:\\Users\\david\\anaconda3\\Lib\\site-packages\\sklearn\\utils\\deprecation.py:151: FutureWarning: 'force_all_finite' was renamed to 'ensure_all_finite' in 1.6 and will be removed in 1.8.\n",
      "  warnings.warn(\n",
      "c:\\Users\\david\\anaconda3\\Lib\\site-packages\\sklearn\\base.py:484: FutureWarning: `BaseEstimator._check_n_features` is deprecated in 1.6 and will be removed in 1.7. Use `sklearn.utils.validation._check_n_features` instead.\n",
      "  warnings.warn(\n",
      "c:\\Users\\david\\anaconda3\\Lib\\site-packages\\sklearn\\base.py:493: FutureWarning: `BaseEstimator._check_feature_names` is deprecated in 1.6 and will be removed in 1.7. Use `sklearn.utils.validation._check_feature_names` instead.\n",
      "  warnings.warn(\n"
     ]
    }
   ],
   "source": [
    "under = RandomUnderSampler(sampling_strategy=0.7, random_state=seed)\n",
    "X_under, y_under = under.fit_resample(X_scaled_train, y_train)"
   ]
  },
  {
   "cell_type": "markdown",
   "metadata": {},
   "source": [
    "Después el de Kaggle."
   ]
  },
  {
   "cell_type": "code",
   "execution_count": 323,
   "metadata": {},
   "outputs": [
    {
     "name": "stderr",
     "output_type": "stream",
     "text": [
      "c:\\Users\\david\\anaconda3\\Lib\\site-packages\\sklearn\\utils\\deprecation.py:151: FutureWarning: 'force_all_finite' was renamed to 'ensure_all_finite' in 1.6 and will be removed in 1.8.\n",
      "  warnings.warn(\n",
      "c:\\Users\\david\\anaconda3\\Lib\\site-packages\\sklearn\\base.py:484: FutureWarning: `BaseEstimator._check_n_features` is deprecated in 1.6 and will be removed in 1.7. Use `sklearn.utils.validation._check_n_features` instead.\n",
      "  warnings.warn(\n",
      "c:\\Users\\david\\anaconda3\\Lib\\site-packages\\sklearn\\base.py:493: FutureWarning: `BaseEstimator._check_feature_names` is deprecated in 1.6 and will be removed in 1.7. Use `sklearn.utils.validation._check_feature_names` instead.\n",
      "  warnings.warn(\n"
     ]
    }
   ],
   "source": [
    "under_final = RandomUnderSampler(sampling_strategy=0.7, random_state=seed)\n",
    "X_under_final, y_under_final = under_final.fit_resample(X_scaled_tr_final, y_train_final)"
   ]
  },
  {
   "cell_type": "markdown",
   "metadata": {},
   "source": [
    "### 6.2.3 Oversampling"
   ]
  },
  {
   "cell_type": "markdown",
   "metadata": {},
   "source": [
    "Primero se realiza un oversampling al conjunto para el análisis."
   ]
  },
  {
   "cell_type": "code",
   "execution_count": null,
   "metadata": {},
   "outputs": [
    {
     "name": "stderr",
     "output_type": "stream",
     "text": [
      "c:\\Users\\david\\anaconda3\\Lib\\site-packages\\sklearn\\base.py:474: FutureWarning: `BaseEstimator._validate_data` is deprecated in 1.6 and will be removed in 1.7. Use `sklearn.utils.validation.validate_data` instead. This function becomes public and is part of the scikit-learn developer API.\n",
      "  warnings.warn(\n"
     ]
    }
   ],
   "source": [
    "over = SMOTE(sampling_strategy=0.9, random_state=seed)\n",
    "X_resampled, y_resampled = over.fit_resample(X_under, y_under)"
   ]
  },
  {
   "cell_type": "markdown",
   "metadata": {},
   "source": [
    "Después el de Kaggle."
   ]
  },
  {
   "cell_type": "code",
   "execution_count": null,
   "metadata": {},
   "outputs": [
    {
     "name": "stderr",
     "output_type": "stream",
     "text": [
      "c:\\Users\\david\\anaconda3\\Lib\\site-packages\\sklearn\\base.py:474: FutureWarning: `BaseEstimator._validate_data` is deprecated in 1.6 and will be removed in 1.7. Use `sklearn.utils.validation.validate_data` instead. This function becomes public and is part of the scikit-learn developer API.\n",
      "  warnings.warn(\n"
     ]
    }
   ],
   "source": [
    "over_final = SMOTE(sampling_strategy=0.9, k_neighbors=10, random_state=seed)\n",
    "X_res_final, y_res_final = over_final.fit_resample(X_under_final, y_under_final)"
   ]
  },
  {
   "cell_type": "markdown",
   "metadata": {},
   "source": [
    "# 7. Modelos seleccionados"
   ]
  },
  {
   "cell_type": "markdown",
   "metadata": {},
   "source": [
    "## 7.1 Introduccion"
   ]
  },
  {
   "cell_type": "markdown",
   "metadata": {},
   "source": [
    "En el anterior notebook se evaluaron una serie de modelos tanto por F1 score como por ROC-AUC score. Los modelos con mejores resultados para ambas categorías fueron:\n",
    "* Random Forest.\n",
    "* GradientBoosting.\n",
    "* XGBoost.\n",
    "* LogisticRegression.\n",
    "* SVC con kernel rbf.\n",
    "\n",
    "Por lo tanto nos dispondremos a probar dichos modelos a continuación."
   ]
  },
  {
   "cell_type": "markdown",
   "metadata": {},
   "source": [
    "## 7.2 Asignacion de las variables"
   ]
  },
  {
   "cell_type": "markdown",
   "metadata": {},
   "source": [
    "Asignamos las variables para el analisis en función del desarrollo del apartado del preprocesado."
   ]
  },
  {
   "cell_type": "code",
   "execution_count": 326,
   "metadata": {},
   "outputs": [],
   "source": [
    "X_model = X_resampled\n",
    "y_model = y_resampled\n",
    "\n",
    "X_model_test = X_scaled_test\n",
    "expected = y_test"
   ]
  },
  {
   "cell_type": "markdown",
   "metadata": {},
   "source": [
    "## 7.3 Clasificador Random Forest"
   ]
  },
  {
   "cell_type": "markdown",
   "metadata": {},
   "source": [
    "### 7.3.1 Definicion"
   ]
  },
  {
   "cell_type": "markdown",
   "metadata": {},
   "source": [
    "Definimos el modelo con los hiperparámetros *random_state* fijado y *class_weigth* balanceado. También se escoje *n_jobs* con valor -1 para utilizar todos los procesadores."
   ]
  },
  {
   "cell_type": "code",
   "execution_count": 327,
   "metadata": {},
   "outputs": [],
   "source": [
    "model_Forest = RandomForestClassifier(class_weight=\"balanced\", n_jobs=-1, random_state=seed)"
   ]
  },
  {
   "cell_type": "markdown",
   "metadata": {},
   "source": [
    "### 7.3.2 Entrenamiento y evaluacion"
   ]
  },
  {
   "cell_type": "markdown",
   "metadata": {},
   "source": [
    "Entrenamos el modelo y comprobamos su exactitud."
   ]
  },
  {
   "cell_type": "code",
   "execution_count": 328,
   "metadata": {},
   "outputs": [],
   "source": [
    "model_Forest.fit(X_model, y_model)\n",
    "\n",
    "predicted_Forest = model_Forest.predict(X_model_test)"
   ]
  },
  {
   "cell_type": "code",
   "execution_count": 329,
   "metadata": {},
   "outputs": [
    {
     "data": {
      "text/plain": [
       "0.6262569832402235"
      ]
     },
     "execution_count": 329,
     "metadata": {},
     "output_type": "execute_result"
    }
   ],
   "source": [
    "accuracy_score(expected, predicted_Forest)"
   ]
  },
  {
   "cell_type": "markdown",
   "metadata": {},
   "source": [
    "### 7.3.3 Null accuracy"
   ]
  },
  {
   "cell_type": "markdown",
   "metadata": {},
   "source": [
    "Ahora se va a evaluar si  el modelo siempre predice la clase más frecuente."
   ]
  },
  {
   "cell_type": "code",
   "execution_count": 330,
   "metadata": {},
   "outputs": [
    {
     "data": {
      "text/plain": [
       "1    1179\n",
       "0     611\n",
       "Name: count, dtype: int64"
      ]
     },
     "execution_count": 330,
     "metadata": {},
     "output_type": "execute_result"
    }
   ],
   "source": [
    "s_y_test = pd.Series(y_test)\n",
    "s_y_test.value_counts()"
   ]
  },
  {
   "cell_type": "code",
   "execution_count": 331,
   "metadata": {},
   "outputs": [
    {
     "data": {
      "text/plain": [
       "0.658659217877095"
      ]
     },
     "execution_count": 331,
     "metadata": {},
     "output_type": "execute_result"
    }
   ],
   "source": [
    "y_test.mean()"
   ]
  },
  {
   "cell_type": "code",
   "execution_count": 332,
   "metadata": {},
   "outputs": [
    {
     "data": {
      "text/plain": [
       "0.341340782122905"
      ]
     },
     "execution_count": 332,
     "metadata": {},
     "output_type": "execute_result"
    }
   ],
   "source": [
    "1 - y_test.mean() "
   ]
  },
  {
   "cell_type": "code",
   "execution_count": 333,
   "metadata": {},
   "outputs": [
    {
     "data": {
      "text/plain": [
       "0.658659217877095"
      ]
     },
     "execution_count": 333,
     "metadata": {},
     "output_type": "execute_result"
    }
   ],
   "source": [
    "max(y_test.mean(), 1 - y_test.mean())"
   ]
  },
  {
   "cell_type": "code",
   "execution_count": 334,
   "metadata": {},
   "outputs": [
    {
     "data": {
      "text/plain": [
       "1    0.658659\n",
       "Name: count, dtype: float64"
      ]
     },
     "execution_count": 334,
     "metadata": {},
     "output_type": "execute_result"
    }
   ],
   "source": [
    "s_y_test.value_counts().head(1) / len(y_test)"
   ]
  },
  {
   "cell_type": "markdown",
   "metadata": {},
   "source": [
    "Nuestra exactitud es de 0.626, la cual es peor que la *null accuracy*, es decir, ahora mismo no tenemos un buen modelo ya que se predecirían un mayor número de resultados en el caso de siempre predecir la clase mayoritaria."
   ]
  },
  {
   "cell_type": "markdown",
   "metadata": {},
   "source": [
    "### 7.3.4 Matriz de confusion y F-score"
   ]
  },
  {
   "cell_type": "markdown",
   "metadata": {},
   "source": [
    "Se muestra la matriz de confusión y el informe de clasificación."
   ]
  },
  {
   "cell_type": "code",
   "execution_count": 335,
   "metadata": {},
   "outputs": [
    {
     "name": "stdout",
     "output_type": "stream",
     "text": [
      "[[236 375]\n",
      " [294 885]]\n"
     ]
    }
   ],
   "source": [
    "print(confusion_matrix(expected, predicted_Forest))"
   ]
  },
  {
   "cell_type": "code",
   "execution_count": 336,
   "metadata": {},
   "outputs": [
    {
     "name": "stdout",
     "output_type": "stream",
     "text": [
      "              precision    recall  f1-score   support\n",
      "\n",
      "           0       0.45      0.39      0.41       611\n",
      "           1       0.70      0.75      0.73      1179\n",
      "\n",
      "    accuracy                           0.63      1790\n",
      "   macro avg       0.57      0.57      0.57      1790\n",
      "weighted avg       0.61      0.63      0.62      1790\n",
      "\n"
     ]
    }
   ],
   "source": [
    "print(classification_report(expected, predicted_Forest))"
   ]
  },
  {
   "cell_type": "markdown",
   "metadata": {},
   "source": [
    "Se observa que estamos identificando erroneamente los 0s ya que tenemos un f1-score del 0.74 para los 1s mientras que estamos obteniendo un 0.35 para los 0s"
   ]
  },
  {
   "cell_type": "markdown",
   "metadata": {},
   "source": [
    "### 7.3.5 ROC y AUC"
   ]
  },
  {
   "cell_type": "markdown",
   "metadata": {},
   "source": [
    "Evaluamos la ROC-AUC score. Para ello representamos primero la curva de ROC."
   ]
  },
  {
   "cell_type": "code",
   "execution_count": 337,
   "metadata": {},
   "outputs": [
    {
     "data": {
      "image/png": "[encoded data removed]",
      "text/plain": [
       "<Figure size 640x480 with 1 Axes>"
      ]
     },
     "metadata": {},
     "output_type": "display_data"
    }
   ],
   "source": [
    "y_pred_prob_Forest = model_Forest.predict_proba(X_model_test)[:,1]\n",
    "fpr, tpr, thresholds = roc_curve(expected, y_pred_prob_Forest)\n",
    "plt.plot(fpr, tpr)\n",
    "plt.xlim([0.0, 1.0])\n",
    "plt.ylim([0.0, 1.0])\n",
    "plt.title('Curva ROC')\n",
    "plt.xlabel('Ratio de FP (1 - Recall)')\n",
    "plt.ylabel('Ratio TP (Sensitivity)')\n",
    "plt.grid(True)\n",
    "plt.show()"
   ]
  },
  {
   "cell_type": "markdown",
   "metadata": {},
   "source": [
    "Y mostramos sus thresholds."
   ]
  },
  {
   "cell_type": "code",
   "execution_count": 338,
   "metadata": {},
   "outputs": [
    {
     "data": {
      "text/plain": [
       "array([ inf, 0.93, 0.92, 0.91, 0.89, 0.88, 0.87, 0.86, 0.85, 0.84, 0.83,\n",
       "       0.82, 0.81, 0.8 , 0.79, 0.78, 0.77, 0.76, 0.75, 0.74, 0.73, 0.72,\n",
       "       0.71, 0.7 , 0.69, 0.68, 0.67, 0.66, 0.65, 0.64, 0.63, 0.62, 0.61,\n",
       "       0.6 , 0.59, 0.58, 0.57, 0.56, 0.55, 0.54, 0.53, 0.52, 0.51, 0.5 ,\n",
       "       0.49, 0.48, 0.47, 0.46, 0.45, 0.44, 0.43, 0.42, 0.41, 0.4 , 0.39,\n",
       "       0.38, 0.37, 0.36, 0.35, 0.34, 0.33, 0.32, 0.31, 0.3 , 0.28, 0.22,\n",
       "       0.12])"
      ]
     },
     "execution_count": 338,
     "metadata": {},
     "output_type": "execute_result"
    }
   ],
   "source": [
    "thresholds"
   ]
  },
  {
   "cell_type": "markdown",
   "metadata": {},
   "source": [
    "Como se observa el resultado no es bueno ya que estamos obteniendo practicamente una recta en vez de una curva en forma de 'L' invertida."
   ]
  },
  {
   "cell_type": "markdown",
   "metadata": {},
   "source": [
    "La siguiente gráfica muestra las probabilidades de predicción en función de los umbrales."
   ]
  },
  {
   "cell_type": "code",
   "execution_count": 339,
   "metadata": {},
   "outputs": [
    {
     "data": {
      "text/plain": [
       "array([<Axes: title={'center': '0'}>, <Axes: title={'center': '1'}>],\n",
       "      dtype=object)"
      ]
     },
     "execution_count": 339,
     "metadata": {},
     "output_type": "execute_result"
    },
    {
     "data": {
      "image/png": "[encoded data removed]",
      "text/plain": [
       "<Figure size 640x480 with 2 Axes>"
      ]
     },
     "metadata": {},
     "output_type": "display_data"
    }
   ],
   "source": [
    "dprob = pd.DataFrame(data = {'probability':y_pred_prob_Forest, 'actual':y_test})\n",
    "dprob.probability.hist(by=dprob.actual, sharex=True, sharey=True)"
   ]
  },
  {
   "cell_type": "markdown",
   "metadata": {},
   "source": [
    "Se muestra que los mejores resultados para ambas clases se obtiene con el *threshold* igual a 0.5 aproximandamente (es decir, el valor por defecto)."
   ]
  },
  {
   "cell_type": "code",
   "execution_count": 340,
   "metadata": {},
   "outputs": [
    {
     "name": "stdout",
     "output_type": "stream",
     "text": [
      "Sensitivity: 0.7506361323155216\n",
      "Recall: 0.38625204582651396\n"
     ]
    }
   ],
   "source": [
    "best_thres_Random = 0.5\n",
    "\n",
    "evaluate_threshold(best_thres_Random)"
   ]
  },
  {
   "cell_type": "markdown",
   "metadata": {},
   "source": [
    "Con este valor se obtienen los siguientes resultados. Primero se recalculan las predicciones."
   ]
  },
  {
   "cell_type": "code",
   "execution_count": 341,
   "metadata": {},
   "outputs": [],
   "source": [
    "probs_Forest = model_Forest.predict_proba(X_model_test)[:, 1]  \n",
    "pred_thres_Forest = (probs_Forest >= best_thres_Random).astype(int) "
   ]
  },
  {
   "cell_type": "markdown",
   "metadata": {},
   "source": [
    "Se evalua la matriz de confusión."
   ]
  },
  {
   "cell_type": "code",
   "execution_count": 342,
   "metadata": {},
   "outputs": [
    {
     "name": "stdout",
     "output_type": "stream",
     "text": [
      "[[218 393]\n",
      " [259 920]]\n"
     ]
    }
   ],
   "source": [
    "print(confusion_matrix(expected, pred_thres_Forest))"
   ]
  },
  {
   "cell_type": "markdown",
   "metadata": {},
   "source": [
    "Y también se analiza el informe de la clasificación."
   ]
  },
  {
   "cell_type": "code",
   "execution_count": 343,
   "metadata": {},
   "outputs": [
    {
     "name": "stdout",
     "output_type": "stream",
     "text": [
      "              precision    recall  f1-score   support\n",
      "\n",
      "           0       0.46      0.36      0.40       611\n",
      "           1       0.70      0.78      0.74      1179\n",
      "\n",
      "    accuracy                           0.64      1790\n",
      "   macro avg       0.58      0.57      0.57      1790\n",
      "weighted avg       0.62      0.64      0.62      1790\n",
      "\n"
     ]
    }
   ],
   "source": [
    "print(classification_report(expected, pred_thres_Forest))"
   ]
  },
  {
   "cell_type": "markdown",
   "metadata": {},
   "source": [
    "Obviamente son los mismos, ya que no estamos modificando el umbral realmente."
   ]
  },
  {
   "cell_type": "markdown",
   "metadata": {},
   "source": [
    "Finalmente se calcula el valor de AUC."
   ]
  },
  {
   "cell_type": "code",
   "execution_count": 344,
   "metadata": {},
   "outputs": [
    {
     "name": "stdout",
     "output_type": "stream",
     "text": [
      "0.5684440890710178\n"
     ]
    }
   ],
   "source": [
    "print(roc_auc_score(expected, predicted_Forest))"
   ]
  },
  {
   "cell_type": "markdown",
   "metadata": {},
   "source": [
    "Se ha obtenido un valor entre 0.5 y 0.6, es decir, el modelo se considerá como fallido o *F*."
   ]
  },
  {
   "cell_type": "markdown",
   "metadata": {},
   "source": [
    "### 7.3.6 Optimizacion"
   ]
  },
  {
   "cell_type": "markdown",
   "metadata": {},
   "source": [
    "Antes de nada, observamos cuales son los parámetros de nuestro modelo."
   ]
  },
  {
   "cell_type": "code",
   "execution_count": 345,
   "metadata": {},
   "outputs": [
    {
     "data": {
      "text/plain": [
       "{'bootstrap': True,\n",
       " 'ccp_alpha': 0.0,\n",
       " 'class_weight': 'balanced',\n",
       " 'criterion': 'gini',\n",
       " 'max_depth': None,\n",
       " 'max_features': 'sqrt',\n",
       " 'max_leaf_nodes': None,\n",
       " 'max_samples': None,\n",
       " 'min_impurity_decrease': 0.0,\n",
       " 'min_samples_leaf': 1,\n",
       " 'min_samples_split': 2,\n",
       " 'min_weight_fraction_leaf': 0.0,\n",
       " 'monotonic_cst': None,\n",
       " 'n_estimators': 100,\n",
       " 'n_jobs': -1,\n",
       " 'oob_score': False,\n",
       " 'random_state': 42,\n",
       " 'verbose': 0,\n",
       " 'warm_start': False}"
      ]
     },
     "execution_count": 345,
     "metadata": {},
     "output_type": "execute_result"
    }
   ],
   "source": [
    "model_Forest.get_params()"
   ]
  },
  {
   "cell_type": "markdown",
   "metadata": {},
   "source": [
    "También creemos que es interesante saber la profundidad media de nuestro modelo Random Forest, para así poder estimar mejor rango de valores en este apartado."
   ]
  },
  {
   "cell_type": "code",
   "execution_count": 346,
   "metadata": {},
   "outputs": [
    {
     "name": "stdout",
     "output_type": "stream",
     "text": [
      "Profundidad media de los árboles: 29.72\n"
     ]
    }
   ],
   "source": [
    "arboles_decision = model_Forest.estimators_\n",
    "\n",
    "profundidades = [arbol.tree_.max_depth for arbol in arboles_decision]\n",
    "profundidad_media = np.mean(profundidades)\n",
    "\n",
    "print(f\"Profundidad media de los árboles: {profundidad_media}\")"
   ]
  },
  {
   "cell_type": "markdown",
   "metadata": {},
   "source": [
    "Ahora seleccionamos los hiperparámetros a evaluar mediante un GridSearchCV. Además, se ha añadido la librería *time* para saber el tiempo que tardo en realizar la busqueda de mejores parámetros.\n",
    "\n",
    "Estos hiperparámetros son:\n",
    "* ***n_estimator***: número de árboles.\n",
    "* ***max_depth***: máxima profundidad de cada árbol.\n",
    "* ***min_samples_split***: número de muestras mínimas para dividir un nodo interno.\n",
    "* ***min_samples_leaf***: número de muestras mínimas de un nodo hoja.\n",
    "* ***max_features***: número de características a tener en cuenta a la hora de buscar la mejor división.\n",
    "* ***class_weight***: pesos asignados a las clases."
   ]
  },
  {
   "cell_type": "raw",
   "metadata": {
    "vscode": {
     "languageId": "plaintext"
    }
   },
   "source": [
    "optm_Forest = RandomForestClassifier(n_jobs=-1, random_state=seed)\n",
    "\n",
    "param_grid = {\n",
    "    'n_estimators': [200, 250, 300],\n",
    "    'max_depth': [25, 35],\n",
    "    'min_samples_split': [2, 5],\n",
    "    'min_samples_leaf': [2, 4],\n",
    "    'max_features': [14, 20, 30, 50],\n",
    "    'class_weight': ['balanced', 'balanced_subsample']\n",
    "}\n",
    "\n",
    "grid_search = GridSearchCV(optm_Forest, param_grid=param_grid, cv=3, scoring=make_scorer(f1_score, average='weighted'), n_jobs=-1)\n",
    "\n",
    "inicio = time.time()\n",
    "grid_search.fit(X_model, y_model)\n",
    "fin = time.time()"
   ]
  },
  {
   "cell_type": "markdown",
   "metadata": {},
   "source": [
    "Se calcula el tiempo que ha tardado en minutos."
   ]
  },
  {
   "cell_type": "raw",
   "metadata": {},
   "source": [
    "tiempo_total = (fin - inicio) / 60\n",
    "print(f\"La celda tardó {tiempo_total} minutos en ejecutarse.\")"
   ]
  },
  {
   "cell_type": "markdown",
   "metadata": {},
   "source": [
    "Se escoge el mejor parámetro y su  precisión asociada."
   ]
  },
  {
   "cell_type": "raw",
   "metadata": {
    "vscode": {
     "languageId": "plaintext"
    }
   },
   "source": [
    "print(\"Mejores parámetros: \", grid_search.best_params_)\n",
    "print(\"Mejor score: \", grid_search.best_score_)"
   ]
  },
  {
   "cell_type": "markdown",
   "metadata": {},
   "source": [
    "Observamos los mejores 10 casos para analizar varias posibilidades."
   ]
  },
  {
   "cell_type": "raw",
   "metadata": {},
   "source": [
    "results_df = pd.DataFrame(grid_search.cv_results_)"
   ]
  },
  {
   "cell_type": "raw",
   "metadata": {},
   "source": [
    "top_10_models = results_df.nlargest(10, \"mean_test_score\")\n",
    "\n",
    "print(\"\\nLos 10 mejores modelos:\")\n",
    "for index, row in top_10_models.iterrows():\n",
    "    print(\"\\nModelo:\")\n",
    "    print(f\"Parámetros: {row['params']}\")\n",
    "    print(f\"Puntuación media de prueba: {row['mean_test_score']}\")"
   ]
  },
  {
   "cell_type": "markdown",
   "metadata": {},
   "source": [
    "### 7.3.7 Entrenamiento y evaluacion con hiperparametros optimizados"
   ]
  },
  {
   "cell_type": "markdown",
   "metadata": {},
   "source": [
    "#### - Definicion"
   ]
  },
  {
   "cell_type": "markdown",
   "metadata": {},
   "source": [
    "Definimos los mejores parámetros (no se define con *grid_search.best_params_* para probar varias opciones de forma sencilla)."
   ]
  },
  {
   "cell_type": "code",
   "execution_count": 347,
   "metadata": {},
   "outputs": [],
   "source": [
    "params_final_Forest = {\n",
    "    'class_weight': 'balanced',\n",
    "    'max_depth': 20,\n",
    "    'max_features': 20,\n",
    "    'min_samples_leaf': 2,\n",
    "    'min_samples_split': 2,\n",
    "    'n_estimators': 200,\n",
    "    'n_jobs': -1,\n",
    "    'random_state': seed\n",
    "}\n"
   ]
  },
  {
   "cell_type": "markdown",
   "metadata": {},
   "source": [
    "Definimos el modelo desagregando el diccionario."
   ]
  },
  {
   "cell_type": "code",
   "execution_count": 348,
   "metadata": {},
   "outputs": [],
   "source": [
    "final_Forest = RandomForestClassifier(**params_final_Forest)"
   ]
  },
  {
   "cell_type": "markdown",
   "metadata": {},
   "source": [
    "#### - Entrenamiento y evaluacion"
   ]
  },
  {
   "cell_type": "markdown",
   "metadata": {},
   "source": [
    "Entrenamos el modelo y comprobamos su exactitud."
   ]
  },
  {
   "cell_type": "code",
   "execution_count": 349,
   "metadata": {},
   "outputs": [],
   "source": [
    "final_Forest.fit(X_model, y_model)\n",
    "\n",
    "predicted_For_opt = final_Forest.predict(X_model_test)"
   ]
  },
  {
   "cell_type": "code",
   "execution_count": 350,
   "metadata": {},
   "outputs": [
    {
     "data": {
      "text/plain": [
       "0.6111731843575419"
      ]
     },
     "execution_count": 350,
     "metadata": {},
     "output_type": "execute_result"
    }
   ],
   "source": [
    "accuracy_score(expected, predicted_For_opt)"
   ]
  },
  {
   "cell_type": "markdown",
   "metadata": {},
   "source": [
    "#### - Null accuracy"
   ]
  },
  {
   "cell_type": "markdown",
   "metadata": {},
   "source": [
    "La accuracy es similar a la anterior. Además, sigue siendo peor que la *null accuracy*."
   ]
  },
  {
   "cell_type": "markdown",
   "metadata": {},
   "source": [
    "#### - Matriz de confusion y F-score"
   ]
  },
  {
   "cell_type": "markdown",
   "metadata": {},
   "source": [
    "La matriz de confusión y el informe de clasificación también es muy similar."
   ]
  },
  {
   "cell_type": "code",
   "execution_count": 351,
   "metadata": {},
   "outputs": [
    {
     "name": "stdout",
     "output_type": "stream",
     "text": [
      "[[259 352]\n",
      " [344 835]]\n"
     ]
    }
   ],
   "source": [
    "print(confusion_matrix(expected, predicted_For_opt))"
   ]
  },
  {
   "cell_type": "code",
   "execution_count": 352,
   "metadata": {},
   "outputs": [
    {
     "name": "stdout",
     "output_type": "stream",
     "text": [
      "              precision    recall  f1-score   support\n",
      "\n",
      "           0       0.43      0.42      0.43       611\n",
      "           1       0.70      0.71      0.71      1179\n",
      "\n",
      "    accuracy                           0.61      1790\n",
      "   macro avg       0.57      0.57      0.57      1790\n",
      "weighted avg       0.61      0.61      0.61      1790\n",
      "\n"
     ]
    }
   ],
   "source": [
    "print(classification_report(expected, predicted_For_opt))"
   ]
  },
  {
   "cell_type": "markdown",
   "metadata": {},
   "source": [
    "#### - ROC y AUC"
   ]
  },
  {
   "cell_type": "markdown",
   "metadata": {},
   "source": [
    "Se calcula el ROC y se reajusta el umbral de probabilidad."
   ]
  },
  {
   "cell_type": "code",
   "execution_count": 353,
   "metadata": {},
   "outputs": [
    {
     "data": {
      "image/png": "[encoded data removed]",
      "text/plain": [
       "<Figure size 640x480 with 1 Axes>"
      ]
     },
     "metadata": {},
     "output_type": "display_data"
    }
   ],
   "source": [
    "y_pred_prob_Forest = final_Forest.predict_proba(X_model_test)[:,1]\n",
    "fpr, tpr, thresholds = roc_curve(y_test, y_pred_prob_Forest)\n",
    "plt.plot(fpr, tpr)\n",
    "plt.xlim([0.0, 1.0])\n",
    "plt.ylim([0.0, 1.0])\n",
    "plt.title('Curva ROC')\n",
    "plt.xlabel('Ratio de FP (1 - Recall)')\n",
    "plt.ylabel('Ratio TP (Sensitivity)')\n",
    "plt.grid(True)\n",
    "plt.show()"
   ]
  },
  {
   "cell_type": "code",
   "execution_count": 354,
   "metadata": {},
   "outputs": [
    {
     "data": {
      "text/plain": [
       "array([       inf, 0.88627102, 0.86438606, 0.86292178, 0.84646412,\n",
       "       0.83708912, 0.83541229, 0.83530875, 0.82651833, 0.82607004,\n",
       "       0.82196462, 0.8208056 , 0.8130199 , 0.8129795 , 0.80812124,\n",
       "       0.80792739, 0.80567526, 0.80491124, 0.79973254, 0.79919841,\n",
       "       0.79919509, 0.79905968, 0.79770964, 0.79567384, 0.79519564,\n",
       "       0.79388761, 0.79231753, 0.79202331, 0.7917412 , 0.79145693,\n",
       "       0.79039172, 0.78957487, 0.78916263, 0.78827425, 0.78640538,\n",
       "       0.78552589, 0.78357169, 0.78189866, 0.77296895, 0.77188517,\n",
       "       0.77054628, 0.77017885, 0.76959705, 0.76890071, 0.76884185,\n",
       "       0.76743756, 0.76729212, 0.76727991, 0.76564856, 0.76559394,\n",
       "       0.76354733, 0.76109079, 0.75842944, 0.75828506, 0.75821366,\n",
       "       0.75787737, 0.74909223, 0.7484318 , 0.74529654, 0.7450587 ,\n",
       "       0.74042415, 0.74014707, 0.73763564, 0.73739601, 0.735823  ,\n",
       "       0.73490646, 0.7347426 , 0.73423848, 0.73396338, 0.73328568,\n",
       "       0.72811719, 0.72788765, 0.72784567, 0.72768745, 0.72730516,\n",
       "       0.72670505, 0.72588767, 0.72576326, 0.72269836, 0.72262905,\n",
       "       0.72180873, 0.72112602, 0.72011354, 0.71985083, 0.71857427,\n",
       "       0.71804447, 0.71480695, 0.71296807, 0.71122704, 0.71003265,\n",
       "       0.70899085, 0.70846751, 0.70781988, 0.70761976, 0.70550561,\n",
       "       0.70495945, 0.70432983, 0.70373156, 0.70110562, 0.70068664,\n",
       "       0.7004127 , 0.69953447, 0.69735096, 0.6972795 , 0.69502613,\n",
       "       0.69410875, 0.6920945 , 0.69159118, 0.6892433 , 0.68863044,\n",
       "       0.68833993, 0.68824899, 0.68782558, 0.68767063, 0.68751624,\n",
       "       0.68728386, 0.68612752, 0.68548049, 0.68512625, 0.68395447,\n",
       "       0.6837794 , 0.68287849, 0.68204076, 0.68196911, 0.68086407,\n",
       "       0.68084523, 0.67974211, 0.67911595, 0.67890162, 0.67877896,\n",
       "       0.67825961, 0.67802497, 0.67723568, 0.67674972, 0.6764339 ,\n",
       "       0.67584063, 0.67577032, 0.67515507, 0.67222785, 0.67215783,\n",
       "       0.67119893, 0.67092742, 0.66939729, 0.66922075, 0.66896426,\n",
       "       0.66865503, 0.66831841, 0.66783264, 0.66723393, 0.66649911,\n",
       "       0.66494469, 0.66484833, 0.66278106, 0.66252636, 0.66190881,\n",
       "       0.66140353, 0.65983672, 0.65910132, 0.65804293, 0.65779757,\n",
       "       0.65582708, 0.6551916 , 0.65504125, 0.65414236, 0.65312   ,\n",
       "       0.65284197, 0.64956876, 0.64941776, 0.64868451, 0.6479756 ,\n",
       "       0.64631453, 0.64625102, 0.64524052, 0.64511786, 0.64500394,\n",
       "       0.64496903, 0.64429666, 0.64408557, 0.64403417, 0.64402739,\n",
       "       0.64326049, 0.64302007, 0.64239774, 0.64182285, 0.64146215,\n",
       "       0.64063512, 0.63981341, 0.63980985, 0.63925077, 0.63902562,\n",
       "       0.63900946, 0.63866254, 0.63813036, 0.63792959, 0.63734691,\n",
       "       0.63730201, 0.63636148, 0.63549796, 0.63327873, 0.63288027,\n",
       "       0.63127971, 0.63099406, 0.63095788, 0.63083902, 0.63015186,\n",
       "       0.62914933, 0.62899749, 0.6289237 , 0.62835383, 0.62822014,\n",
       "       0.62699175, 0.62626669, 0.62622979, 0.62594655, 0.6255546 ,\n",
       "       0.62520361, 0.62452344, 0.62402137, 0.61930644, 0.61913953,\n",
       "       0.61820854, 0.61770935, 0.61755452, 0.61721658, 0.61705226,\n",
       "       0.61697631, 0.61683037, 0.61637037, 0.61560251, 0.6149965 ,\n",
       "       0.61415632, 0.61358273, 0.61271444, 0.61260842, 0.611459  ,\n",
       "       0.61140579, 0.60993529, 0.60961154, 0.60912439, 0.60907375,\n",
       "       0.60837534, 0.60811048, 0.60742236, 0.60706592, 0.60615164,\n",
       "       0.6050657 , 0.60452123, 0.60420788, 0.60393148, 0.60379289,\n",
       "       0.60336657, 0.60298267, 0.60291015, 0.60279003, 0.60103439,\n",
       "       0.60043811, 0.60040083, 0.60016184, 0.60008697, 0.59992479,\n",
       "       0.59966137, 0.59963467, 0.59891309, 0.59840188, 0.59839779,\n",
       "       0.59814182, 0.59760049, 0.59755245, 0.59754976, 0.59747791,\n",
       "       0.59606032, 0.59506607, 0.59341261, 0.59332983, 0.59305522,\n",
       "       0.5927035 , 0.59251396, 0.59167183, 0.5905107 , 0.59050063,\n",
       "       0.59045364, 0.59022488, 0.59018165, 0.58995121, 0.58826557,\n",
       "       0.58814797, 0.58710581, 0.58619918, 0.5851632 , 0.5847232 ,\n",
       "       0.58464556, 0.58458596, 0.58417514, 0.58362541, 0.58356251,\n",
       "       0.58269989, 0.58062132, 0.57978631, 0.57951415, 0.57913622,\n",
       "       0.57887447, 0.57828808, 0.57787822, 0.57778948, 0.57726456,\n",
       "       0.57704917, 0.57661402, 0.57643422, 0.57627688, 0.57620526,\n",
       "       0.57412385, 0.57387774, 0.57383175, 0.57366641, 0.57219788,\n",
       "       0.57185431, 0.56983996, 0.56959309, 0.56859147, 0.56793171,\n",
       "       0.56767788, 0.56721185, 0.56703577, 0.56688123, 0.56661139,\n",
       "       0.56591815, 0.5652957 , 0.56489515, 0.56485546, 0.56477349,\n",
       "       0.56430608, 0.56411353, 0.56365109, 0.56351986, 0.56244648,\n",
       "       0.56172215, 0.56064401, 0.56005175, 0.55941322, 0.55920132,\n",
       "       0.55914487, 0.55727825, 0.5572148 , 0.55718748, 0.55677993,\n",
       "       0.55671634, 0.55654819, 0.55612345, 0.55564197, 0.55538705,\n",
       "       0.55509612, 0.55491852, 0.55436612, 0.5543415 , 0.55420881,\n",
       "       0.55392797, 0.55379213, 0.55376709, 0.55269113, 0.55263667,\n",
       "       0.55190826, 0.55160735, 0.55112422, 0.55068884, 0.55040464,\n",
       "       0.55027955, 0.55017728, 0.54994267, 0.54952957, 0.54937857,\n",
       "       0.54918304, 0.54892879, 0.54792992, 0.54751031, 0.54620256,\n",
       "       0.54618501, 0.54612238, 0.54599698, 0.54596719, 0.54592482,\n",
       "       0.54582608, 0.54582047, 0.54576846, 0.54574934, 0.54524041,\n",
       "       0.54515414, 0.54481594, 0.54444036, 0.54429189, 0.54413681,\n",
       "       0.54359743, 0.54229139, 0.54209147, 0.54148942, 0.54047681,\n",
       "       0.54020978, 0.53986295, 0.53938551, 0.53897257, 0.53887841,\n",
       "       0.5387118 , 0.53870181, 0.53849199, 0.53832319, 0.53679709,\n",
       "       0.53676851, 0.53664829, 0.53594126, 0.53511391, 0.53504381,\n",
       "       0.53488469, 0.53481385, 0.5324571 , 0.53187668, 0.53081616,\n",
       "       0.53081053, 0.53058683, 0.53052922, 0.5301547 , 0.53014942,\n",
       "       0.52985753, 0.52978971, 0.52976302, 0.52965664, 0.52948506,\n",
       "       0.52938356, 0.52924037, 0.52870019, 0.52867755, 0.52845954,\n",
       "       0.52802467, 0.52802044, 0.52749164, 0.52744381, 0.52699573,\n",
       "       0.52621397, 0.52505555, 0.52490724, 0.52426194, 0.52421351,\n",
       "       0.52371046, 0.52344888, 0.52258375, 0.52243811, 0.52160175,\n",
       "       0.52154311, 0.52084976, 0.52055512, 0.52040262, 0.5202291 ,\n",
       "       0.51998343, 0.51993399, 0.51921769, 0.51918582, 0.51912709,\n",
       "       0.51911968, 0.5188257 , 0.51881085, 0.51748583, 0.51731807,\n",
       "       0.51688361, 0.51609102, 0.51597914, 0.51568289, 0.5135322 ,\n",
       "       0.51332453, 0.51268881, 0.51138153, 0.51132983, 0.51031787,\n",
       "       0.50955446, 0.50947926, 0.50911029, 0.50910455, 0.50810709,\n",
       "       0.50772535, 0.50746445, 0.50744897, 0.50628175, 0.50609823,\n",
       "       0.50602773, 0.50599504, 0.50473128, 0.50430308, 0.50378802,\n",
       "       0.50342693, 0.50325248, 0.50285763, 0.50206299, 0.50196989,\n",
       "       0.50196523, 0.50121673, 0.50096012, 0.50059072, 0.50051588,\n",
       "       0.50042531, 0.50025294, 0.49916559, 0.49894442, 0.49855033,\n",
       "       0.49834729, 0.49833092, 0.49795326, 0.49792313, 0.49777778,\n",
       "       0.49774983, 0.49582352, 0.49574193, 0.4956076 , 0.49542393,\n",
       "       0.49515855, 0.49497776, 0.49463372, 0.49433895, 0.4939077 ,\n",
       "       0.4937667 , 0.49359831, 0.49333443, 0.49270686, 0.49267505,\n",
       "       0.49261835, 0.49197448, 0.49192036, 0.49151469, 0.49148141,\n",
       "       0.49052522, 0.48804506, 0.48795027, 0.48752399, 0.4870485 ,\n",
       "       0.48683084, 0.48607604, 0.48569465, 0.48568068, 0.48415467,\n",
       "       0.48401251, 0.48310162, 0.4829151 , 0.48198603, 0.48142405,\n",
       "       0.48126398, 0.48103247, 0.4793911 , 0.47884779, 0.47853238,\n",
       "       0.4784284 , 0.47821328, 0.4778598 , 0.47785573, 0.4777094 ,\n",
       "       0.47763941, 0.47734449, 0.47656119, 0.47638704, 0.47562007,\n",
       "       0.4747005 , 0.47340008, 0.4733321 , 0.473261  , 0.47308266,\n",
       "       0.47255645, 0.47228785, 0.47064912, 0.47050917, 0.47043194,\n",
       "       0.47039208, 0.47005015, 0.46996813, 0.46966511, 0.46918562,\n",
       "       0.46833221, 0.46784742, 0.46690439, 0.46686402, 0.46599362,\n",
       "       0.46590147, 0.46582029, 0.46558335, 0.46530227, 0.46529389,\n",
       "       0.46525952, 0.46502503, 0.46477506, 0.46457424, 0.46337815,\n",
       "       0.46335295, 0.46301195, 0.46281918, 0.46230901, 0.46219118,\n",
       "       0.46218457, 0.46135421, 0.46111515, 0.46070033, 0.46013331,\n",
       "       0.46010908, 0.45973088, 0.45944245, 0.45924221, 0.45826552,\n",
       "       0.45781719, 0.4576474 , 0.45750362, 0.45675422, 0.45552612,\n",
       "       0.4550058 , 0.45429176, 0.45377955, 0.45288872, 0.45257611,\n",
       "       0.45236079, 0.45209397, 0.45205165, 0.45120779, 0.45120126,\n",
       "       0.45109368, 0.45046049, 0.45030538, 0.4481859 , 0.44785052,\n",
       "       0.44610835, 0.44535038, 0.44474864, 0.4442881 , 0.44372484,\n",
       "       0.44364319, 0.44362857, 0.44287427, 0.44248011, 0.44214393,\n",
       "       0.44133282, 0.44126002, 0.44120941, 0.44075432, 0.44046451,\n",
       "       0.43899386, 0.4387482 , 0.43872652, 0.43687219, 0.43616094,\n",
       "       0.43577921, 0.4347247 , 0.43368539, 0.43213677, 0.43210237,\n",
       "       0.43120898, 0.43112025, 0.43072897, 0.43017604, 0.43017057,\n",
       "       0.42997444, 0.42997209, 0.42912482, 0.42892422, 0.42833766,\n",
       "       0.42816214, 0.42815404, 0.42779927, 0.42776282, 0.42506217,\n",
       "       0.4250606 , 0.42461817, 0.42450964, 0.42343873, 0.42271377,\n",
       "       0.42267421, 0.42253997, 0.42230392, 0.42224444, 0.42123952,\n",
       "       0.41784365, 0.41746739, 0.41607689, 0.41544482, 0.41511479,\n",
       "       0.41498567, 0.41491673, 0.41461657, 0.41457519, 0.41394424,\n",
       "       0.41352279, 0.41124643, 0.41056949, 0.40841867, 0.40821543,\n",
       "       0.40804303, 0.40772287, 0.40767464, 0.40745759, 0.40710177,\n",
       "       0.40650373, 0.40628289, 0.4059777 , 0.40448592, 0.40297148,\n",
       "       0.40288119, 0.40174742, 0.40149265, 0.40011967, 0.39943743,\n",
       "       0.39894802, 0.3980874 , 0.39799697, 0.39774675, 0.39701223,\n",
       "       0.39681368, 0.39397101, 0.39380552, 0.39163514, 0.39110267,\n",
       "       0.39095292, 0.38898255, 0.38828417, 0.38799509, 0.38791751,\n",
       "       0.38695047, 0.38688239, 0.38627435, 0.385478  , 0.3853826 ,\n",
       "       0.38527886, 0.38508878, 0.38371876, 0.38367908, 0.38129281,\n",
       "       0.38045495, 0.38024294, 0.38000873, 0.37963517, 0.37959134,\n",
       "       0.37712426, 0.37710831, 0.37586291, 0.37515343, 0.37496349,\n",
       "       0.37494055, 0.37487103, 0.37416862, 0.37377751, 0.37225789,\n",
       "       0.37130558, 0.37126364, 0.37122647, 0.371127  , 0.36912495,\n",
       "       0.36515491, 0.36483568, 0.36376995, 0.3622809 , 0.36155663,\n",
       "       0.35966535, 0.35891253, 0.35714039, 0.35621761, 0.35582731,\n",
       "       0.35314062, 0.35203167, 0.35148191, 0.35010914, 0.3498428 ,\n",
       "       0.3496546 , 0.34935659, 0.34624683, 0.34562677, 0.3451515 ,\n",
       "       0.34475438, 0.34146892, 0.34046405, 0.33894524, 0.33775883,\n",
       "       0.33745372, 0.33579831, 0.33574909, 0.33467555, 0.33153932,\n",
       "       0.32883983, 0.32722016, 0.32656971, 0.32597392, 0.32592519,\n",
       "       0.32478608, 0.32290483, 0.32097003, 0.31783054, 0.31578648,\n",
       "       0.31436323, 0.31177845, 0.30836311, 0.30593859, 0.30544236,\n",
       "       0.30462715, 0.29945802, 0.29555025, 0.2939814 , 0.28605899,\n",
       "       0.28374208, 0.28191336, 0.27670758, 0.27522903, 0.27219812,\n",
       "       0.26322789, 0.25336087, 0.25246363, 0.24162202, 0.21959951,\n",
       "       0.21686729, 0.21356007, 0.1581922 ])"
      ]
     },
     "execution_count": 354,
     "metadata": {},
     "output_type": "execute_result"
    }
   ],
   "source": [
    "thresholds"
   ]
  },
  {
   "cell_type": "code",
   "execution_count": 355,
   "metadata": {},
   "outputs": [
    {
     "data": {
      "text/plain": [
       "array([<Axes: title={'center': '0'}>, <Axes: title={'center': '1'}>],\n",
       "      dtype=object)"
      ]
     },
     "execution_count": 355,
     "metadata": {},
     "output_type": "execute_result"
    },
    {
     "data": {
      "image/png": "[encoded data removed]",
      "text/plain": [
       "<Figure size 640x480 with 2 Axes>"
      ]
     },
     "metadata": {},
     "output_type": "display_data"
    }
   ],
   "source": [
    "dprob = pd.DataFrame(data = {'probability':y_pred_prob_Forest, 'actual':y_test})\n",
    "dprob.probability.hist(by=dprob.actual, sharex=True, sharey=True)"
   ]
  },
  {
   "cell_type": "code",
   "execution_count": 356,
   "metadata": {},
   "outputs": [
    {
     "name": "stdout",
     "output_type": "stream",
     "text": [
      "Sensitivity: 0.7082273112807463\n",
      "Recall: 0.4238952536824877\n"
     ]
    }
   ],
   "source": [
    "op_thres_Random = 0.5\n",
    "\n",
    "evaluate_threshold(op_thres_Random)"
   ]
  },
  {
   "cell_type": "code",
   "execution_count": 357,
   "metadata": {},
   "outputs": [],
   "source": [
    "probs_For_opt = final_Forest.predict_proba(X_model_test)[:, 1]  \n",
    "pred_thres_For_opt = (probs_For_opt >= op_thres_Random).astype(int) "
   ]
  },
  {
   "cell_type": "code",
   "execution_count": 358,
   "metadata": {},
   "outputs": [
    {
     "name": "stdout",
     "output_type": "stream",
     "text": [
      "[[259 352]\n",
      " [344 835]]\n"
     ]
    }
   ],
   "source": [
    "print(confusion_matrix(expected, pred_thres_For_opt))"
   ]
  },
  {
   "cell_type": "code",
   "execution_count": 359,
   "metadata": {},
   "outputs": [
    {
     "name": "stdout",
     "output_type": "stream",
     "text": [
      "              precision    recall  f1-score   support\n",
      "\n",
      "           0       0.43      0.42      0.43       611\n",
      "           1       0.70      0.71      0.71      1179\n",
      "\n",
      "    accuracy                           0.61      1790\n",
      "   macro avg       0.57      0.57      0.57      1790\n",
      "weighted avg       0.61      0.61      0.61      1790\n",
      "\n"
     ]
    }
   ],
   "source": [
    "print(classification_report(expected, pred_thres_For_opt))"
   ]
  },
  {
   "cell_type": "markdown",
   "metadata": {},
   "source": [
    "Se obtienen los mismos resultados porque sigue siendo el mejor caso con umbral igual a 0,5."
   ]
  },
  {
   "cell_type": "markdown",
   "metadata": {},
   "source": [
    "Se calcula la AUC score."
   ]
  },
  {
   "cell_type": "code",
   "execution_count": 360,
   "metadata": {},
   "outputs": [
    {
     "name": "stdout",
     "output_type": "stream",
     "text": [
      "0.5660612824816171\n"
     ]
    }
   ],
   "source": [
    "print(roc_auc_score(expected, predicted_For_opt))"
   ]
  },
  {
   "cell_type": "markdown",
   "metadata": {},
   "source": [
    "También ha tenido una pequeña mejora, pero sigue en el mismo intervalo. Es decir, sigue siendo un modelo *F*."
   ]
  },
  {
   "cell_type": "markdown",
   "metadata": {},
   "source": [
    "### 7.3.8 Conclusiones del modelo"
   ]
  },
  {
   "cell_type": "markdown",
   "metadata": {},
   "source": [
    "Tal y como esta el modelo no se estan obteniendo buenos resultados debido a la escasez de entradas y la gran cantidad de dimensiones que presenta el dataset. Estamos obteniendo prácticamente los mismos resultados que si decidieramos clasificar al azar."
   ]
  },
  {
   "cell_type": "markdown",
   "metadata": {},
   "source": [
    "## 7.4 Clasificador XGBoost"
   ]
  },
  {
   "cell_type": "markdown",
   "metadata": {},
   "source": [
    "### 7.4.1 Definicion"
   ]
  },
  {
   "cell_type": "markdown",
   "metadata": {},
   "source": [
    "Definimos el modelo con los hiperparámetros *random_state* fijado y *class_weigth* balanceado. También se escoje *n_jobs* con valor -1 para utilizar todos los procesadores."
   ]
  },
  {
   "cell_type": "code",
   "execution_count": 361,
   "metadata": {},
   "outputs": [],
   "source": [
    "model_XG = XGBClassifier(objective='binary:logistic', eval_metric='logloss', random_state=seed)"
   ]
  },
  {
   "cell_type": "markdown",
   "metadata": {},
   "source": [
    "### 7.4.2 Entrenamiento y evaluacion"
   ]
  },
  {
   "cell_type": "markdown",
   "metadata": {},
   "source": [
    "Entrenamos el modelo y comprobamos su exactitud."
   ]
  },
  {
   "cell_type": "code",
   "execution_count": 362,
   "metadata": {},
   "outputs": [],
   "source": [
    "model_XG.fit(X_model, y_model)\n",
    "\n",
    "predicted_XG = model_XG.predict(X_model_test)"
   ]
  },
  {
   "cell_type": "code",
   "execution_count": 363,
   "metadata": {},
   "outputs": [
    {
     "data": {
      "text/plain": [
       "0.5899441340782123"
      ]
     },
     "execution_count": 363,
     "metadata": {},
     "output_type": "execute_result"
    }
   ],
   "source": [
    "accuracy_score(expected, predicted_XG)"
   ]
  },
  {
   "cell_type": "markdown",
   "metadata": {},
   "source": [
    "### 7.4.3 Null accuracy"
   ]
  },
  {
   "cell_type": "markdown",
   "metadata": {},
   "source": [
    "Nuestra exactitud es de 0.587, la cual es peor que la *null accuracy*, es decir, ahora mismo no tenemos un buen modelo ya que se predecirían un mayor número de resultados en el caso de siempre predecir la clase mayoritaria."
   ]
  },
  {
   "cell_type": "markdown",
   "metadata": {},
   "source": [
    "### 7.4.4 Matriz de confusion y F-score"
   ]
  },
  {
   "cell_type": "markdown",
   "metadata": {},
   "source": [
    "Se muestra la matriz de confusión y el informe de clasificación."
   ]
  },
  {
   "cell_type": "code",
   "execution_count": 364,
   "metadata": {},
   "outputs": [
    {
     "name": "stdout",
     "output_type": "stream",
     "text": [
      "[[260 351]\n",
      " [383 796]]\n"
     ]
    }
   ],
   "source": [
    "print(confusion_matrix(expected, predicted_XG))"
   ]
  },
  {
   "cell_type": "code",
   "execution_count": 365,
   "metadata": {},
   "outputs": [
    {
     "name": "stdout",
     "output_type": "stream",
     "text": [
      "              precision    recall  f1-score   support\n",
      "\n",
      "           0       0.40      0.43      0.41       611\n",
      "           1       0.69      0.68      0.68      1179\n",
      "\n",
      "    accuracy                           0.59      1790\n",
      "   macro avg       0.55      0.55      0.55      1790\n",
      "weighted avg       0.60      0.59      0.59      1790\n",
      "\n"
     ]
    }
   ],
   "source": [
    "print(classification_report(expected, predicted_XG))"
   ]
  },
  {
   "cell_type": "markdown",
   "metadata": {},
   "source": [
    "Se observa que estamos identificando erroneamente los 0s ya que tenemos un f1-score del 0.68 para los 1s mientras que estamos obteniendo un 0.43 para los 0s"
   ]
  },
  {
   "cell_type": "markdown",
   "metadata": {},
   "source": [
    "### 7.4.5 ROC y AUC"
   ]
  },
  {
   "cell_type": "markdown",
   "metadata": {},
   "source": [
    "Evaluamos la ROC-AUC score. Para ello representamos primero la curva de ROC."
   ]
  },
  {
   "cell_type": "code",
   "execution_count": 366,
   "metadata": {},
   "outputs": [
    {
     "data": {
      "image/png": "[encoded data removed]",
      "text/plain": [
       "<Figure size 640x480 with 1 Axes>"
      ]
     },
     "metadata": {},
     "output_type": "display_data"
    }
   ],
   "source": [
    "y_pred_prob_XG = model_XG.predict_proba(X_model_test)[:,1]\n",
    "fpr, tpr, thresholds = roc_curve(expected, y_pred_prob_XG)\n",
    "plt.plot(fpr, tpr)\n",
    "plt.xlim([0.0, 1.0])\n",
    "plt.ylim([0.0, 1.0])\n",
    "plt.title('Curva ROC')\n",
    "plt.xlabel('Ratio de FP (1 - Recall)')\n",
    "plt.ylabel('Ratio TP (Sensitivity)')\n",
    "plt.grid(True)\n",
    "plt.show()"
   ]
  },
  {
   "cell_type": "markdown",
   "metadata": {},
   "source": [
    "Y mostramos sus thresholds."
   ]
  },
  {
   "cell_type": "code",
   "execution_count": 367,
   "metadata": {},
   "outputs": [
    {
     "data": {
      "text/plain": [
       "array([       inf, 0.9970663 , 0.9886692 , 0.98779964, 0.98324305,\n",
       "       0.98236626, 0.98101395, 0.98065466, 0.979681  , 0.9786153 ,\n",
       "       0.9768868 , 0.97672075, 0.97476405, 0.9738767 , 0.9714992 ,\n",
       "       0.97059363, 0.9634615 , 0.9619845 , 0.959624  , 0.95834756,\n",
       "       0.95540404, 0.9549835 , 0.9546023 , 0.9536472 , 0.9517666 ,\n",
       "       0.95165515, 0.948695  , 0.9486766 , 0.9429189 , 0.94186354,\n",
       "       0.94010955, 0.9395018 , 0.93888813, 0.9384201 , 0.9373684 ,\n",
       "       0.937311  , 0.9356514 , 0.9349846 , 0.9327153 , 0.93234384,\n",
       "       0.9318032 , 0.93142146, 0.93014926, 0.92968106, 0.92880756,\n",
       "       0.9284505 , 0.92702925, 0.9263362 , 0.9247069 , 0.924509  ,\n",
       "       0.9235845 , 0.9235439 , 0.92289907, 0.9227863 , 0.92180985,\n",
       "       0.9212232 , 0.9201006 , 0.91947806, 0.91835105, 0.9165871 ,\n",
       "       0.91549236, 0.9150627 , 0.90694946, 0.9062573 , 0.905831  ,\n",
       "       0.90556633, 0.90396565, 0.90357023, 0.9033732 , 0.9031468 ,\n",
       "       0.9031439 , 0.90256035, 0.9018304 , 0.9011239 , 0.9003026 ,\n",
       "       0.89963984, 0.89789385, 0.8967535 , 0.89662725, 0.89652145,\n",
       "       0.8959793 , 0.89548206, 0.89424366, 0.89381474, 0.8879512 ,\n",
       "       0.88617456, 0.88407135, 0.8835268 , 0.8831249 , 0.88278824,\n",
       "       0.88080275, 0.878085  , 0.8760446 , 0.87556463, 0.8738556 ,\n",
       "       0.87379533, 0.87322253, 0.8728113 , 0.87273425, 0.8722589 ,\n",
       "       0.87055933, 0.87038314, 0.87035656, 0.87028116, 0.8684817 ,\n",
       "       0.8682343 , 0.8665916 , 0.8664089 , 0.86387426, 0.86367095,\n",
       "       0.8631127 , 0.86179805, 0.8611773 , 0.86078995, 0.85572463,\n",
       "       0.85547125, 0.8546645 , 0.8546251 , 0.85396403, 0.8526574 ,\n",
       "       0.8522345 , 0.85054994, 0.8486826 , 0.84850955, 0.84843403,\n",
       "       0.84815794, 0.84790945, 0.8475831 , 0.8468703 , 0.84682554,\n",
       "       0.8467957 , 0.84543586, 0.8417417 , 0.84110796, 0.83973396,\n",
       "       0.8393555 , 0.8392068 , 0.83919674, 0.836118  , 0.83599865,\n",
       "       0.8356782 , 0.8342674 , 0.832878  , 0.8319446 , 0.8307958 ,\n",
       "       0.8307344 , 0.8306161 , 0.8297564 , 0.8289646 , 0.8286967 ,\n",
       "       0.8283739 , 0.8255944 , 0.8235308 , 0.8234754 , 0.8213065 ,\n",
       "       0.82085395, 0.8201669 , 0.8198097 , 0.8195954 , 0.8192805 ,\n",
       "       0.81671524, 0.8162701 , 0.81282187, 0.81122017, 0.81094193,\n",
       "       0.81074464, 0.8102212 , 0.80930805, 0.8047918 , 0.80474603,\n",
       "       0.8038635 , 0.80302536, 0.8022746 , 0.80184186, 0.8010945 ,\n",
       "       0.80089295, 0.7980418 , 0.79802114, 0.7976009 , 0.7973126 ,\n",
       "       0.7972309 , 0.7970582 , 0.79505783, 0.7933741 , 0.79113764,\n",
       "       0.79105943, 0.7901092 , 0.7883608 , 0.7842165 , 0.7838931 ,\n",
       "       0.78238994, 0.78163964, 0.7796557 , 0.7786568 , 0.7779318 ,\n",
       "       0.7779149 , 0.77604336, 0.7759795 , 0.77553576, 0.77532077,\n",
       "       0.7752447 , 0.7749215 , 0.7726994 , 0.77214074, 0.77074397,\n",
       "       0.76998895, 0.7678119 , 0.76763755, 0.7674006 , 0.7667109 ,\n",
       "       0.7663481 , 0.76382   , 0.7637396 , 0.7632904 , 0.7628641 ,\n",
       "       0.7624941 , 0.76086706, 0.76068586, 0.7604105 , 0.7601928 ,\n",
       "       0.75999993, 0.75937593, 0.7581442 , 0.75790405, 0.7548135 ,\n",
       "       0.7545977 , 0.7524053 , 0.75213206, 0.7516442 , 0.75056475,\n",
       "       0.7502214 , 0.74978435, 0.74666077, 0.7464512 , 0.7442855 ,\n",
       "       0.74374026, 0.7435664 , 0.7431294 , 0.74206907, 0.7413006 ,\n",
       "       0.74039364, 0.73940545, 0.73866314, 0.73850703, 0.7372367 ,\n",
       "       0.7370542 , 0.7359969 , 0.7357884 , 0.73183906, 0.7311034 ,\n",
       "       0.72909355, 0.7289328 , 0.7286556 , 0.7283995 , 0.72697794,\n",
       "       0.72687376, 0.7256888 , 0.7255983 , 0.7242726 , 0.7239487 ,\n",
       "       0.7226226 , 0.7224427 , 0.71911514, 0.7191075 , 0.718728  ,\n",
       "       0.71805704, 0.71590644, 0.7155335 , 0.71465635, 0.7142838 ,\n",
       "       0.7137065 , 0.71335644, 0.712094  , 0.71100706, 0.7105405 ,\n",
       "       0.70997   , 0.7046274 , 0.70433503, 0.70089096, 0.7007712 ,\n",
       "       0.6986957 , 0.6986907 , 0.6985472 , 0.6980546 , 0.69750035,\n",
       "       0.6974255 , 0.69161737, 0.69083583, 0.6891088 , 0.6889084 ,\n",
       "       0.68850666, 0.6883174 , 0.6882786 , 0.68820286, 0.68785334,\n",
       "       0.687771  , 0.6826437 , 0.6819043 , 0.68123764, 0.68069327,\n",
       "       0.68018264, 0.68005085, 0.67623645, 0.6757919 , 0.67540896,\n",
       "       0.6745672 , 0.67453647, 0.67447615, 0.67239136, 0.6723558 ,\n",
       "       0.67144173, 0.6709128 , 0.670886  , 0.6702958 , 0.66994226,\n",
       "       0.6694118 , 0.66719127, 0.66669583, 0.6665558 , 0.6661641 ,\n",
       "       0.6653949 , 0.66422135, 0.6635599 , 0.66264987, 0.65991145,\n",
       "       0.65983737, 0.65837383, 0.65746295, 0.65694714, 0.6566622 ,\n",
       "       0.6551415 , 0.6544866 , 0.65271616, 0.6526219 , 0.6519121 ,\n",
       "       0.65167814, 0.6515721 , 0.6510002 , 0.6503191 , 0.65022665,\n",
       "       0.64998704, 0.6491854 , 0.6486339 , 0.64691156, 0.6454569 ,\n",
       "       0.6451767 , 0.64325154, 0.64147913, 0.6412801 , 0.6411256 ,\n",
       "       0.640623  , 0.6406219 , 0.63995284, 0.63782763, 0.6373413 ,\n",
       "       0.6371716 , 0.63690937, 0.63678575, 0.63573873, 0.635218  ,\n",
       "       0.6352142 , 0.6328147 , 0.6318267 , 0.6308079 , 0.62997967,\n",
       "       0.6295381 , 0.62814474, 0.62773734, 0.6275413 , 0.62716913,\n",
       "       0.6246703 , 0.62356675, 0.6218435 , 0.6217158 , 0.62135   ,\n",
       "       0.6208201 , 0.6208013 , 0.62062865, 0.6181274 , 0.617512  ,\n",
       "       0.61629045, 0.6162646 , 0.6145865 , 0.6135356 , 0.6133987 ,\n",
       "       0.61076146, 0.61059463, 0.6104066 , 0.6103864 , 0.6099363 ,\n",
       "       0.60912097, 0.6089205 , 0.6081535 , 0.6079299 , 0.60626996,\n",
       "       0.6044021 , 0.603301  , 0.60274196, 0.5984468 , 0.5982573 ,\n",
       "       0.5977973 , 0.5974736 , 0.5971066 , 0.5971059 , 0.5969815 ,\n",
       "       0.5967637 , 0.59670013, 0.5937738 , 0.5934733 , 0.5926111 ,\n",
       "       0.5918387 , 0.59178144, 0.59100515, 0.5908076 , 0.5899912 ,\n",
       "       0.5897477 , 0.58888847, 0.58872527, 0.5867461 , 0.5860521 ,\n",
       "       0.58488744, 0.58378   , 0.58361423, 0.5828761 , 0.58260965,\n",
       "       0.58146054, 0.58098507, 0.58075535, 0.5804015 , 0.58034664,\n",
       "       0.57494813, 0.5744199 , 0.57386255, 0.5734872 , 0.57331336,\n",
       "       0.5725315 , 0.5700357 , 0.5700313 , 0.5692095 , 0.5686434 ,\n",
       "       0.5683418 , 0.566923  , 0.56632566, 0.56629646, 0.56572264,\n",
       "       0.56533134, 0.5651875 , 0.56496555, 0.563666  , 0.56275964,\n",
       "       0.56249535, 0.5609756 , 0.5591705 , 0.5586397 , 0.5554888 ,\n",
       "       0.5549683 , 0.55465907, 0.55317193, 0.5530361 , 0.55283487,\n",
       "       0.5471978 , 0.5464627 , 0.54624647, 0.54621583, 0.544263  ,\n",
       "       0.54335904, 0.5423616 , 0.5414605 , 0.54077506, 0.5406498 ,\n",
       "       0.53814614, 0.53793144, 0.53732544, 0.53626174, 0.5359897 ,\n",
       "       0.5349602 , 0.5341958 , 0.5325771 , 0.530794  , 0.5296933 ,\n",
       "       0.52925664, 0.52830315, 0.52812135, 0.52733266, 0.5265336 ,\n",
       "       0.52419144, 0.5230879 , 0.5224666 , 0.51839143, 0.5183749 ,\n",
       "       0.5179063 , 0.51720977, 0.51490605, 0.5146259 , 0.5144643 ,\n",
       "       0.514345  , 0.5140882 , 0.5138865 , 0.51246613, 0.5121179 ,\n",
       "       0.5104091 , 0.5090751 , 0.50814795, 0.5068576 , 0.50178844,\n",
       "       0.50141865, 0.49987116, 0.4993206 , 0.49785656, 0.49262467,\n",
       "       0.48844856, 0.48657075, 0.48578492, 0.4850077 , 0.48493448,\n",
       "       0.48446256, 0.4843456 , 0.48325583, 0.479352  , 0.47931626,\n",
       "       0.47839597, 0.47825062, 0.47819284, 0.47629753, 0.47621548,\n",
       "       0.47554812, 0.4733192 , 0.47253224, 0.4722242 , 0.47101036,\n",
       "       0.47068676, 0.47047517, 0.47013798, 0.4701327 , 0.46992818,\n",
       "       0.46942353, 0.46890804, 0.46854883, 0.4680497 , 0.46777764,\n",
       "       0.4674155 , 0.46741056, 0.4671357 , 0.46653032, 0.46599123,\n",
       "       0.46530822, 0.4651261 , 0.46423122, 0.4603012 , 0.45953494,\n",
       "       0.4555818 , 0.45426902, 0.4538031 , 0.45246392, 0.44775268,\n",
       "       0.44517487, 0.4449124 , 0.4438898 , 0.44334206, 0.44247055,\n",
       "       0.4418289 , 0.43997163, 0.43972698, 0.43839085, 0.4377613 ,\n",
       "       0.4369928 , 0.43698987, 0.43604875, 0.43491137, 0.43428603,\n",
       "       0.43421265, 0.43401042, 0.43385774, 0.43380284, 0.4334908 ,\n",
       "       0.43321344, 0.43273172, 0.4320158 , 0.42971617, 0.42901638,\n",
       "       0.4277128 , 0.42585626, 0.42486355, 0.42471433, 0.4246573 ,\n",
       "       0.4242153 , 0.42300108, 0.42230117, 0.42026973, 0.41991523,\n",
       "       0.41789573, 0.41660154, 0.41641364, 0.41493618, 0.4139393 ,\n",
       "       0.4133308 , 0.41214237, 0.41123304, 0.4104213 , 0.41040766,\n",
       "       0.4060537 , 0.40590715, 0.4038774 , 0.4035544 , 0.4034836 ,\n",
       "       0.39882505, 0.39858505, 0.39856702, 0.39750534, 0.397003  ,\n",
       "       0.3938405 , 0.39373916, 0.3929825 , 0.39286926, 0.3919577 ,\n",
       "       0.39190018, 0.38876617, 0.38837057, 0.38819176, 0.38781804,\n",
       "       0.3866442 , 0.38572207, 0.3850852 , 0.38455528, 0.38190705,\n",
       "       0.38152185, 0.37882924, 0.3785785 , 0.376308  , 0.3756763 ,\n",
       "       0.3752389 , 0.37274757, 0.37075168, 0.37020203, 0.36669472,\n",
       "       0.36639267, 0.36628813, 0.36464942, 0.3641849 , 0.36401105,\n",
       "       0.36117977, 0.3604851 , 0.35998705, 0.35912678, 0.35910824,\n",
       "       0.3587693 , 0.35784107, 0.3572706 , 0.34893233, 0.34816486,\n",
       "       0.34555095, 0.34491542, 0.34432143, 0.3399681 , 0.33992857,\n",
       "       0.3378714 , 0.33685222, 0.33618328, 0.33599934, 0.3350434 ,\n",
       "       0.33444285, 0.3339593 , 0.33328718, 0.3325308 , 0.33099586,\n",
       "       0.33000442, 0.3243822 , 0.32384038, 0.32334477, 0.3227836 ,\n",
       "       0.32203034, 0.32155845, 0.32126752, 0.32111904, 0.31804702,\n",
       "       0.31584635, 0.3146665 , 0.31432894, 0.31386355, 0.31240726,\n",
       "       0.3112889 , 0.30969036, 0.3078997 , 0.30766022, 0.30626824,\n",
       "       0.30615464, 0.3056887 , 0.30433413, 0.30427152, 0.30349717,\n",
       "       0.30330962, 0.3030861 , 0.30236796, 0.30006102, 0.29872683,\n",
       "       0.2986379 , 0.29842782, 0.29725233, 0.29646266, 0.29626718,\n",
       "       0.29409868, 0.29376   , 0.29057908, 0.28842077, 0.28734922,\n",
       "       0.2857328 , 0.28511602, 0.28184545, 0.27839807, 0.278114  ,\n",
       "       0.27615282, 0.27503008, 0.27344742, 0.27336845, 0.27290437,\n",
       "       0.27270553, 0.2715233 , 0.26934767, 0.26860303, 0.26750544,\n",
       "       0.26521766, 0.2639184 , 0.2623592 , 0.26096693, 0.25898376,\n",
       "       0.2568065 , 0.25613344, 0.25458607, 0.25433406, 0.25307736,\n",
       "       0.25233704, 0.25074378, 0.24937584, 0.24833906, 0.2414093 ,\n",
       "       0.2413899 , 0.23876956, 0.23752318, 0.2370765 , 0.23599161,\n",
       "       0.232382  , 0.23116921, 0.23113795, 0.23058128, 0.22840293,\n",
       "       0.22820933, 0.22302718, 0.2226883 , 0.22154751, 0.22067243,\n",
       "       0.2199907 , 0.21952875, 0.21487029, 0.20982781, 0.2094202 ,\n",
       "       0.20940545, 0.2087336 , 0.2084286 , 0.20824057, 0.20555775,\n",
       "       0.20486878, 0.20383357, 0.19668221, 0.19541605, 0.19070229,\n",
       "       0.18994717, 0.18496022, 0.18052761, 0.17967588, 0.17505048,\n",
       "       0.1749017 , 0.164451  , 0.16376959, 0.16267738, 0.15844478,\n",
       "       0.1541736 , 0.15346633, 0.15144812, 0.14987421, 0.14932086,\n",
       "       0.14823295, 0.14395936, 0.14317735, 0.14316356, 0.14314474,\n",
       "       0.13937615, 0.13753606, 0.1333954 , 0.12977836, 0.12712719,\n",
       "       0.12245774, 0.11911587, 0.11883406, 0.11662063, 0.11462781,\n",
       "       0.11183719, 0.1084559 , 0.10324821, 0.08653096, 0.08612916,\n",
       "       0.08387394, 0.08291264, 0.07557526, 0.07507661, 0.07422816,\n",
       "       0.07330336, 0.07161198, 0.05957621, 0.05953306, 0.05290582,\n",
       "       0.04744813, 0.047312  ], dtype=float32)"
      ]
     },
     "execution_count": 367,
     "metadata": {},
     "output_type": "execute_result"
    }
   ],
   "source": [
    "thresholds"
   ]
  },
  {
   "cell_type": "markdown",
   "metadata": {},
   "source": [
    "Al igual que con el Random Forest, el resultado obtenido no es bueno ya que estamos obteniendo practicamente una recta en vez de una curva en forma de 'L' invertida."
   ]
  },
  {
   "cell_type": "markdown",
   "metadata": {},
   "source": [
    "La siguiente gráfica muestra las probabilidades de predicción en función de los umbrales."
   ]
  },
  {
   "cell_type": "code",
   "execution_count": 368,
   "metadata": {},
   "outputs": [
    {
     "data": {
      "text/plain": [
       "array([<Axes: title={'center': '0'}>, <Axes: title={'center': '1'}>],\n",
       "      dtype=object)"
      ]
     },
     "execution_count": 368,
     "metadata": {},
     "output_type": "execute_result"
    },
    {
     "data": {
      "image/png": "[encoded data removed]",
      "text/plain": [
       "<Figure size 640x480 with 2 Axes>"
      ]
     },
     "metadata": {},
     "output_type": "display_data"
    }
   ],
   "source": [
    "dprob = pd.DataFrame(data = {'probability':y_pred_prob_XG, 'actual':y_test})\n",
    "dprob.probability.hist(by=dprob.actual, sharex=True, sharey=True)"
   ]
  },
  {
   "cell_type": "markdown",
   "metadata": {},
   "source": [
    "Se muestra que los mejores resultados para ambas clases se obtiene con el *threshold* igual a 0.5 aproximandamente (es decir, el valor por defecto)."
   ]
  },
  {
   "cell_type": "code",
   "execution_count": 369,
   "metadata": {},
   "outputs": [
    {
     "name": "stdout",
     "output_type": "stream",
     "text": [
      "Sensitivity: 0.6751484308736218\n",
      "Recall: 0.42553191489361697\n"
     ]
    }
   ],
   "source": [
    "best_thres_XG = 0.5\n",
    "\n",
    "evaluate_threshold(best_thres_XG)"
   ]
  },
  {
   "cell_type": "markdown",
   "metadata": {},
   "source": [
    "Con este valor se obtienen los siguientes resultados. Primero se recalculan las predicciones."
   ]
  },
  {
   "cell_type": "code",
   "execution_count": 370,
   "metadata": {},
   "outputs": [],
   "source": [
    "probs_XG = model_XG.predict_proba(X_model_test)[:, 1]  \n",
    "pred_thres_XG= (probs_XG >= best_thres_XG).astype(int) "
   ]
  },
  {
   "cell_type": "markdown",
   "metadata": {},
   "source": [
    "Se evalua la matriz de confusión."
   ]
  },
  {
   "cell_type": "code",
   "execution_count": 371,
   "metadata": {},
   "outputs": [
    {
     "name": "stdout",
     "output_type": "stream",
     "text": [
      "[[260 351]\n",
      " [383 796]]\n"
     ]
    }
   ],
   "source": [
    "print(confusion_matrix(expected, pred_thres_XG))"
   ]
  },
  {
   "cell_type": "markdown",
   "metadata": {},
   "source": [
    "Y también se analiza el informe de la clasificación."
   ]
  },
  {
   "cell_type": "code",
   "execution_count": 372,
   "metadata": {},
   "outputs": [
    {
     "name": "stdout",
     "output_type": "stream",
     "text": [
      "              precision    recall  f1-score   support\n",
      "\n",
      "           0       0.40      0.43      0.41       611\n",
      "           1       0.69      0.68      0.68      1179\n",
      "\n",
      "    accuracy                           0.59      1790\n",
      "   macro avg       0.55      0.55      0.55      1790\n",
      "weighted avg       0.60      0.59      0.59      1790\n",
      "\n"
     ]
    }
   ],
   "source": [
    "print(classification_report(expected, pred_thres_XG))"
   ]
  },
  {
   "cell_type": "markdown",
   "metadata": {},
   "source": [
    "Obviamente son los mismos, ya que no estamos modificando el umbral realmente."
   ]
  },
  {
   "cell_type": "markdown",
   "metadata": {},
   "source": [
    "Finalmente se calcula el valor de AUC."
   ]
  },
  {
   "cell_type": "code",
   "execution_count": 373,
   "metadata": {},
   "outputs": [
    {
     "name": "stdout",
     "output_type": "stream",
     "text": [
      "0.5503401728836194\n"
     ]
    }
   ],
   "source": [
    "print(roc_auc_score(expected, predicted_XG))"
   ]
  },
  {
   "cell_type": "markdown",
   "metadata": {},
   "source": [
    "Se ha obtenido un valor entre 0.5 y 0.6, es decir, el modelo se considerá como fallido o *F*."
   ]
  },
  {
   "cell_type": "markdown",
   "metadata": {},
   "source": [
    "### 7.4.6 Optimizacion"
   ]
  },
  {
   "cell_type": "markdown",
   "metadata": {},
   "source": [
    "Ahora seleccionamos los hiperparámetros a evaluar mediante un GridSearchCV. Además, se ha añadido la librería *time* para saber el tiempo que tardo en realizar la busqueda de mejores parámetros.\n",
    "\n",
    "Estos hiperparámetros son:\n",
    "* ***max_depth***: máxima profundidad de cada árbol.\n",
    "* ***eta***: también llamado *learning_rate*,es un factor de escala que regula cuánto se actualizan los pesos en cada paso de boosting.\n",
    "* ***n_estimators***: número de árboles.\n",
    "* ***subsample***: proporción usada para entrenar cada árbol.\n",
    "* ***colsample_bytree***: fracción de columnas utilizadas para construir cada árbol."
   ]
  },
  {
   "cell_type": "markdown",
   "metadata": {},
   "source": [
    "Cabe mencionar que, para evitar tiempos de ejecución excesivos, se fueron iterando los parámetros focalizándose progresivamente en las combinaciones más prometedoras."
   ]
  },
  {
   "cell_type": "markdown",
   "metadata": {},
   "source": [
    "Primero se probó con:"
   ]
  },
  {
   "cell_type": "raw",
   "metadata": {
    "vscode": {
     "languageId": "raw"
    }
   },
   "source": [
    "param_grid = {\n",
    "    'max_depth': [5],\n",
    "    'eta': [0.06, 0.07, 0.08, 0.09, 0.1],\n",
    "    'n_estimators': [500, 600, 700],\n",
    "    'subsample': [0.9],\n",
    "    'colsample_bytree': [0.9],\n",
    "}"
   ]
  },
  {
   "cell_type": "markdown",
   "metadata": {},
   "source": [
    "Y el resultado obtenido para el caso mejor fue:"
   ]
  },
  {
   "cell_type": "raw",
   "metadata": {
    "vscode": {
     "languageId": "raw"
    }
   },
   "source": [
    "Mejores parámetros:  {'colsample_bytree': 0.9, 'eta': 0.08, 'max_depth': 5, 'n_estimators': 700, 'subsample': 0.9}\n",
    "Mejor score:  0.6160763145036465"
   ]
  },
  {
   "cell_type": "markdown",
   "metadata": {},
   "source": [
    "Y finalmente se probó con:"
   ]
  },
  {
   "cell_type": "raw",
   "metadata": {
    "vscode": {
     "languageId": "raw"
    }
   },
   "source": [
    "param_grid = {\n",
    "    'max_depth': [5, 8],\n",
    "    'eta': [ 0.08, 0.09, 0.1],\n",
    "    'n_estimators': [500, 600, 700, 900],\n",
    "    'subsample': [0.9, 1.0],\n",
    "    'colsample_bytree': [0.9, 1.0],\n",
    "}"
   ]
  },
  {
   "cell_type": "markdown",
   "metadata": {},
   "source": [
    "Y el resultado obtenido para el caso mejor fue:"
   ]
  },
  {
   "cell_type": "raw",
   "metadata": {
    "vscode": {
     "languageId": "raw"
    }
   },
   "source": [
    "Mejores parámetros:  {'colsample_bytree': 1.0, 'eta': 0.1, 'max_depth': 8, 'n_estimators': 500, 'subsample': 0.9}\n",
    "Mejor score:  0.627567181916202"
   ]
  },
  {
   "cell_type": "markdown",
   "metadata": {},
   "source": [
    "El codigo correspondiente a la última ejecución es el siguiente:"
   ]
  },
  {
   "cell_type": "raw",
   "metadata": {
    "vscode": {
     "languageId": "raw"
    }
   },
   "source": [
    "optm_XG = XGBClassifier(\n",
    "    objective='binary:logistic',\n",
    "    eval_metric='auc',\n",
    "    random_state=seed\n",
    ")\n",
    "\n",
    "param_grid = {\n",
    "    'max_depth': [5, 8],\n",
    "    'eta': [ 0.08, 0.09, 0.1],\n",
    "    'n_estimators': [500, 600, 700, 900],\n",
    "    'subsample': [0.9, 1.0],\n",
    "    'colsample_bytree': [0.9, 1.0],\n",
    "}\n",
    "\n",
    "\n",
    "grid_search = GridSearchCV(optm_XG, param_grid=param_grid, scoring=make_scorer(f1_score, average='weighted'), cv=3, n_jobs=-1)\n",
    "\n",
    "inicio = time.time()\n",
    "grid_search.fit(X_model, y_model)\n",
    "fin = time.time()"
   ]
  },
  {
   "cell_type": "markdown",
   "metadata": {},
   "source": [
    "Se calcula el tiempo que ha tardado en minutos."
   ]
  },
  {
   "cell_type": "raw",
   "metadata": {
    "vscode": {
     "languageId": "raw"
    }
   },
   "source": [
    "tiempo_total = (fin - inicio) / 60\n",
    "print(f\"La celda tardó {tiempo_total} minutos en ejecutarse.\")"
   ]
  },
  {
   "cell_type": "markdown",
   "metadata": {},
   "source": [
    "Se escoge el mejor parámetro y su  precisión asociada."
   ]
  },
  {
   "cell_type": "raw",
   "metadata": {
    "vscode": {
     "languageId": "raw"
    }
   },
   "source": [
    "print(\"Mejores parámetros: \", grid_search.best_params_)\n",
    "print(\"Mejor score: \", grid_search.best_score_)"
   ]
  },
  {
   "cell_type": "markdown",
   "metadata": {},
   "source": [
    "Observamos los mejores 10 casos para analizar varias posibilidades."
   ]
  },
  {
   "cell_type": "raw",
   "metadata": {
    "vscode": {
     "languageId": "raw"
    }
   },
   "source": [
    "results_df = pd.DataFrame(grid_search.cv_results_)"
   ]
  },
  {
   "cell_type": "raw",
   "metadata": {
    "vscode": {
     "languageId": "raw"
    }
   },
   "source": [
    "top_10_models = results_df.nlargest(10, \"mean_test_score\")\n",
    "\n",
    "print(\"\\nLos 10 mejores modelos:\")\n",
    "for index, row in top_10_models.iterrows():\n",
    "    print(\"\\nModelo:\")\n",
    "    print(f\"Parámetros: {row['params']}\")\n",
    "    print(f\"Puntuación media de prueba: {row['mean_test_score']}\")"
   ]
  },
  {
   "cell_type": "markdown",
   "metadata": {},
   "source": [
    "### 7.4.7 Entrenamiento y evaluacion con hiperparametros optimizados"
   ]
  },
  {
   "cell_type": "markdown",
   "metadata": {},
   "source": [
    "#### - Definicion"
   ]
  },
  {
   "cell_type": "markdown",
   "metadata": {},
   "source": [
    "Definimos los mejores parámetros (no se define con *grid_search.best_params_* para probar varias opciones de forma sencilla)."
   ]
  },
  {
   "cell_type": "code",
   "execution_count": 374,
   "metadata": {},
   "outputs": [],
   "source": [
    "params_final_XG = {\n",
    "    'objective': 'binary:logistic',\n",
    "    'eval_metric': 'auc',\n",
    "    'max_depth': 8,\n",
    "    'eta': 0.1,\n",
    "    'n_estimators': 500,\n",
    "    'subsample': 0.9,\n",
    "    'colsample_bytree': 1.0,\n",
    "    'random_state': seed\n",
    "}"
   ]
  },
  {
   "cell_type": "markdown",
   "metadata": {},
   "source": [
    "Definimos el modelo desagregando el diccionario."
   ]
  },
  {
   "cell_type": "code",
   "execution_count": 375,
   "metadata": {},
   "outputs": [],
   "source": [
    "final_XG = XGBClassifier(**params_final_XG)"
   ]
  },
  {
   "cell_type": "markdown",
   "metadata": {},
   "source": [
    "#### - Entrenamiento y evaluacion"
   ]
  },
  {
   "cell_type": "markdown",
   "metadata": {},
   "source": [
    "Entrenamos el modelo y comprobamos su exactitud."
   ]
  },
  {
   "cell_type": "code",
   "execution_count": 376,
   "metadata": {},
   "outputs": [],
   "source": [
    "final_XG.fit(X_model, y_model)\n",
    "\n",
    "predicted_XG_opt = final_XG.predict(X_model_test)"
   ]
  },
  {
   "cell_type": "code",
   "execution_count": 377,
   "metadata": {},
   "outputs": [
    {
     "data": {
      "text/plain": [
       "0.5983240223463687"
      ]
     },
     "execution_count": 377,
     "metadata": {},
     "output_type": "execute_result"
    }
   ],
   "source": [
    "accuracy_score(expected, predicted_XG_opt)"
   ]
  },
  {
   "cell_type": "markdown",
   "metadata": {},
   "source": [
    "#### - Null accuracy"
   ]
  },
  {
   "cell_type": "markdown",
   "metadata": {},
   "source": [
    "La accuracy es similar a la anterior. Además, sigue siendo peor que la *null accuracy*."
   ]
  },
  {
   "cell_type": "markdown",
   "metadata": {},
   "source": [
    "#### - Matriz de confusion y F-score"
   ]
  },
  {
   "cell_type": "markdown",
   "metadata": {},
   "source": [
    "La matriz de confusión y el informe de clasificación también es muy similar."
   ]
  },
  {
   "cell_type": "code",
   "execution_count": 378,
   "metadata": {},
   "outputs": [
    {
     "name": "stdout",
     "output_type": "stream",
     "text": [
      "[[252 359]\n",
      " [360 819]]\n"
     ]
    }
   ],
   "source": [
    "print(confusion_matrix(expected, predicted_XG_opt))"
   ]
  },
  {
   "cell_type": "code",
   "execution_count": 379,
   "metadata": {},
   "outputs": [
    {
     "name": "stdout",
     "output_type": "stream",
     "text": [
      "              precision    recall  f1-score   support\n",
      "\n",
      "           0       0.41      0.41      0.41       611\n",
      "           1       0.70      0.69      0.69      1179\n",
      "\n",
      "    accuracy                           0.60      1790\n",
      "   macro avg       0.55      0.55      0.55      1790\n",
      "weighted avg       0.60      0.60      0.60      1790\n",
      "\n"
     ]
    }
   ],
   "source": [
    "print(classification_report(expected, predicted_XG_opt))"
   ]
  },
  {
   "cell_type": "markdown",
   "metadata": {},
   "source": [
    "#### - ROC y AUC"
   ]
  },
  {
   "cell_type": "markdown",
   "metadata": {},
   "source": [
    "Se calcula el ROC y se reajusta el umbral de probabilidad."
   ]
  },
  {
   "cell_type": "code",
   "execution_count": 380,
   "metadata": {},
   "outputs": [
    {
     "data": {
      "image/png": "[encoded data removed]",
      "text/plain": [
       "<Figure size 640x480 with 1 Axes>"
      ]
     },
     "metadata": {},
     "output_type": "display_data"
    }
   ],
   "source": [
    "y_pred_prob_XG = final_XG.predict_proba(X_model_test)[:,1]\n",
    "fpr, tpr, thresholds = roc_curve(y_test, y_pred_prob_XG)\n",
    "plt.plot(fpr, tpr)\n",
    "plt.xlim([0.0, 1.0])\n",
    "plt.ylim([0.0, 1.0])\n",
    "plt.title('Curva ROC')\n",
    "plt.xlabel('Ratio de FP (1 - Recall)')\n",
    "plt.ylabel('Ratio TP (Sensitivity)')\n",
    "plt.grid(True)\n",
    "plt.show()"
   ]
  },
  {
   "cell_type": "code",
   "execution_count": 381,
   "metadata": {},
   "outputs": [
    {
     "data": {
      "text/plain": [
       "array([       inf, 0.9989772 , 0.9978078 , 0.99708194, 0.99641365,\n",
       "       0.9959157 , 0.9957064 , 0.99469984, 0.992957  , 0.99146944,\n",
       "       0.98941433, 0.9891979 , 0.9875273 , 0.98737943, 0.9871581 ,\n",
       "       0.9868885 , 0.98574686, 0.9848393 , 0.98248094, 0.9819395 ,\n",
       "       0.98135424, 0.9806003 , 0.97892475, 0.97856367, 0.977879  ,\n",
       "       0.977225  , 0.9764553 , 0.97461593, 0.97346014, 0.97320944,\n",
       "       0.9729461 , 0.97282404, 0.97229314, 0.9718427 , 0.9696037 ,\n",
       "       0.9695181 , 0.9688182 , 0.9687344 , 0.968054  , 0.96793693,\n",
       "       0.9679091 , 0.96776474, 0.9640013 , 0.96381587, 0.96323913,\n",
       "       0.96279305, 0.9618761 , 0.9612683 , 0.96081835, 0.9598215 ,\n",
       "       0.95870376, 0.9577703 , 0.95745075, 0.9573782 , 0.95574266,\n",
       "       0.9548447 , 0.95459384, 0.95403796, 0.95378566, 0.9528982 ,\n",
       "       0.9490376 , 0.94809973, 0.9480007 , 0.9470838 , 0.9458427 ,\n",
       "       0.94583386, 0.94561017, 0.9453694 , 0.94392526, 0.94355685,\n",
       "       0.94259435, 0.94205683, 0.9405589 , 0.9404186 , 0.9378708 ,\n",
       "       0.93734145, 0.93586093, 0.93573916, 0.93534625, 0.9353033 ,\n",
       "       0.9348631 , 0.9347809 , 0.93458545, 0.93441033, 0.9341424 ,\n",
       "       0.9339598 , 0.9326521 , 0.9325635 , 0.93212205, 0.9316125 ,\n",
       "       0.9286052 , 0.9281458 , 0.92568314, 0.9249888 , 0.9225417 ,\n",
       "       0.92253417, 0.92194235, 0.9210691 , 0.92038167, 0.91974986,\n",
       "       0.9178607 , 0.91764414, 0.91757494, 0.91721106, 0.916704  ,\n",
       "       0.91665304, 0.915285  , 0.91499317, 0.9145631 , 0.9140056 ,\n",
       "       0.91375023, 0.91358346, 0.9129045 , 0.9127092 , 0.91192365,\n",
       "       0.9112674 , 0.90991616, 0.90968436, 0.90858823, 0.9083043 ,\n",
       "       0.90775114, 0.90739614, 0.90737087, 0.9069183 , 0.9052573 ,\n",
       "       0.90464497, 0.9039868 , 0.903369  , 0.89906394, 0.89893115,\n",
       "       0.89871544, 0.89776444, 0.8971592 , 0.8967547 , 0.8949119 ,\n",
       "       0.8948785 , 0.8947584 , 0.8942313 , 0.8930946 , 0.8925426 ,\n",
       "       0.89137036, 0.89127785, 0.8911743 , 0.89117074, 0.89093566,\n",
       "       0.8905764 , 0.88902944, 0.8889537 , 0.8874708 , 0.88712335,\n",
       "       0.8868359 , 0.88674164, 0.88579726, 0.8855611 , 0.8822285 ,\n",
       "       0.8814713 , 0.88074464, 0.8804129 , 0.8801091 , 0.8800647 ,\n",
       "       0.8775493 , 0.87737584, 0.87727237, 0.8767311 , 0.876322  ,\n",
       "       0.8761746 , 0.87607855, 0.87564194, 0.8724431 , 0.87223357,\n",
       "       0.871725  , 0.8712235 , 0.8706919 , 0.87049186, 0.86902916,\n",
       "       0.86899096, 0.8684665 , 0.86719185, 0.8669856 , 0.8669612 ,\n",
       "       0.86680466, 0.8657281 , 0.8655782 , 0.8650811 , 0.86341137,\n",
       "       0.8624949 , 0.8623401 , 0.8622874 , 0.861042  , 0.8607493 ,\n",
       "       0.86031586, 0.8601407 , 0.85876423, 0.8577772 , 0.8574574 ,\n",
       "       0.85682184, 0.8564922 , 0.8557631 , 0.8557468 , 0.8551931 ,\n",
       "       0.85412914, 0.8541214 , 0.8538649 , 0.85376316, 0.853262  ,\n",
       "       0.8532467 , 0.85261005, 0.8525405 , 0.8457223 , 0.84509015,\n",
       "       0.84412384, 0.8439215 , 0.8399164 , 0.83939505, 0.83894   ,\n",
       "       0.8386473 , 0.837137  , 0.8367293 , 0.8360565 , 0.83551216,\n",
       "       0.83542943, 0.83377194, 0.832624  , 0.83171135, 0.8314369 ,\n",
       "       0.8303618 , 0.82997763, 0.82973814, 0.829218  , 0.8289825 ,\n",
       "       0.82836026, 0.82825106, 0.8220202 , 0.82154113, 0.8166883 ,\n",
       "       0.81608397, 0.81522393, 0.8151831 , 0.813322  , 0.8113018 ,\n",
       "       0.81107074, 0.81091154, 0.8089092 , 0.8084117 , 0.8083658 ,\n",
       "       0.8074632 , 0.8070776 , 0.8059882 , 0.8042278 , 0.8027298 ,\n",
       "       0.79669714, 0.79637665, 0.7960799 , 0.79540044, 0.7952733 ,\n",
       "       0.7947451 , 0.79465026, 0.7945267 , 0.79447657, 0.7930131 ,\n",
       "       0.7913841 , 0.7892214 , 0.787938  , 0.78398514, 0.7836832 ,\n",
       "       0.7832229 , 0.7827566 , 0.78193676, 0.78188705, 0.78090274,\n",
       "       0.78035194, 0.7780888 , 0.77790785, 0.77722824, 0.7770902 ,\n",
       "       0.7768068 , 0.7764378 , 0.7761826 , 0.7755259 , 0.7753292 ,\n",
       "       0.7751828 , 0.7738701 , 0.77387005, 0.773669  , 0.7724026 ,\n",
       "       0.7716347 , 0.77161086, 0.7690662 , 0.76817536, 0.767902  ,\n",
       "       0.7672019 , 0.76458526, 0.7640577 , 0.75876504, 0.757976  ,\n",
       "       0.756992  , 0.7563037 , 0.7552939 , 0.7548995 , 0.7538488 ,\n",
       "       0.7533274 , 0.752469  , 0.7524237 , 0.7514608 , 0.7513181 ,\n",
       "       0.7496941 , 0.74956095, 0.74918187, 0.74754804, 0.74523944,\n",
       "       0.7451433 , 0.7436738 , 0.743279  , 0.7422887 , 0.74173087,\n",
       "       0.7413217 , 0.7411529 , 0.73672885, 0.7366036 , 0.73567724,\n",
       "       0.73466307, 0.7308756 , 0.7280361 , 0.72791874, 0.72681725,\n",
       "       0.7260032 , 0.72458637, 0.72431606, 0.72420913, 0.72290826,\n",
       "       0.72240424, 0.72092366, 0.72082114, 0.7204667 , 0.7203939 ,\n",
       "       0.72037154, 0.71975374, 0.7188416 , 0.71863246, 0.71767056,\n",
       "       0.71523505, 0.71431744, 0.71422654, 0.71298134, 0.7128512 ,\n",
       "       0.71240026, 0.71201366, 0.7096143 , 0.70803905, 0.70602787,\n",
       "       0.70474935, 0.7037264 , 0.7011923 , 0.69849   , 0.6984029 ,\n",
       "       0.69573164, 0.69512665, 0.6951091 , 0.69495666, 0.6938032 ,\n",
       "       0.6923275 , 0.6910563 , 0.6881157 , 0.68807364, 0.68785006,\n",
       "       0.6815403 , 0.6809937 , 0.68081295, 0.6804036 , 0.6801968 ,\n",
       "       0.67954993, 0.6795396 , 0.6788687 , 0.67698133, 0.67511624,\n",
       "       0.6741214 , 0.6727903 , 0.6702418 , 0.6691704 , 0.6663619 ,\n",
       "       0.6657414 , 0.66387665, 0.66326654, 0.65867615, 0.65813416,\n",
       "       0.65799   , 0.65748245, 0.65724915, 0.65706736, 0.6560221 ,\n",
       "       0.6558969 , 0.6555907 , 0.6541742 , 0.6541428 , 0.65351105,\n",
       "       0.6504982 , 0.6495187 , 0.64501035, 0.64485145, 0.6435129 ,\n",
       "       0.6430162 , 0.641881  , 0.641757  , 0.63949835, 0.63717514,\n",
       "       0.63375616, 0.63373965, 0.6317822 , 0.631294  , 0.6271565 ,\n",
       "       0.62610465, 0.6255457 , 0.6240247 , 0.62385356, 0.6235331 ,\n",
       "       0.62235546, 0.62209964, 0.62183607, 0.62165225, 0.6196923 ,\n",
       "       0.618969  , 0.6186019 , 0.61852974, 0.6176695 , 0.6168984 ,\n",
       "       0.6151217 , 0.6147762 , 0.6146064 , 0.61421704, 0.61100084,\n",
       "       0.6080715 , 0.6075623 , 0.60616666, 0.60392594, 0.60109293,\n",
       "       0.6001191 , 0.59962475, 0.59868705, 0.5984337 , 0.59818363,\n",
       "       0.59770477, 0.59493446, 0.5946532 , 0.59352547, 0.59176373,\n",
       "       0.5905824 , 0.59036815, 0.58631074, 0.5830144 , 0.57600445,\n",
       "       0.5748197 , 0.5739294 , 0.573599  , 0.5724643 , 0.5715186 ,\n",
       "       0.56898314, 0.56749165, 0.56643254, 0.56559   , 0.56007487,\n",
       "       0.5590914 , 0.5582362 , 0.5578173 , 0.5564678 , 0.55641645,\n",
       "       0.5553148 , 0.5544423 , 0.55357504, 0.5531111 , 0.5522031 ,\n",
       "       0.5513568 , 0.54523534, 0.5448522 , 0.5429263 , 0.54122305,\n",
       "       0.5403229 , 0.5393724 , 0.5389937 , 0.53876716, 0.53702605,\n",
       "       0.5369775 , 0.5366706 , 0.5365055 , 0.5353468 , 0.53446877,\n",
       "       0.5271497 , 0.5267809 , 0.526175  , 0.525748  , 0.52440286,\n",
       "       0.52262026, 0.5223472 , 0.52161205, 0.51918906, 0.5187862 ,\n",
       "       0.51796275, 0.5146046 , 0.5138267 , 0.51360893, 0.5069422 ,\n",
       "       0.5068431 , 0.5056042 , 0.50510615, 0.5046051 , 0.50443655,\n",
       "       0.50260055, 0.50043774, 0.49831998, 0.49735793, 0.49691412,\n",
       "       0.49636903, 0.49436215, 0.4932468 , 0.4921627 , 0.49134618,\n",
       "       0.49053812, 0.49028742, 0.49004775, 0.48888668, 0.488708  ,\n",
       "       0.4881325 , 0.4837636 , 0.48374972, 0.48315108, 0.47794378,\n",
       "       0.4701092 , 0.46795186, 0.4677861 , 0.46678415, 0.46635088,\n",
       "       0.46553436, 0.45975596, 0.4597017 , 0.459613  , 0.4589991 ,\n",
       "       0.45854893, 0.45772275, 0.45613703, 0.45603764, 0.45573062,\n",
       "       0.45466384, 0.45408273, 0.45326063, 0.45229635, 0.45218578,\n",
       "       0.45103535, 0.4503353 , 0.45014265, 0.44767874, 0.44664636,\n",
       "       0.44598925, 0.4453928 , 0.4450389 , 0.44326466, 0.44273794,\n",
       "       0.44108474, 0.43875846, 0.43665376, 0.43640772, 0.43470916,\n",
       "       0.43401864, 0.43238366, 0.43181401, 0.4299909 , 0.4295557 ,\n",
       "       0.42946336, 0.42940155, 0.42915988, 0.42873567, 0.42550233,\n",
       "       0.42503247, 0.4246889 , 0.4225432 , 0.42122236, 0.41938934,\n",
       "       0.41865337, 0.41620126, 0.41604367, 0.41270703, 0.41152284,\n",
       "       0.41122094, 0.40998134, 0.40896913, 0.40858102, 0.4082197 ,\n",
       "       0.40620565, 0.4039684 , 0.40315557, 0.401905  , 0.3943859 ,\n",
       "       0.3940717 , 0.39300373, 0.3925774 , 0.39180994, 0.38873127,\n",
       "       0.38348287, 0.3832112 , 0.38316315, 0.38289544, 0.38167226,\n",
       "       0.38157398, 0.3760294 , 0.3756456 , 0.37500918, 0.37498415,\n",
       "       0.37472028, 0.37364796, 0.37350872, 0.37343222, 0.37187994,\n",
       "       0.37082016, 0.36989933, 0.36970675, 0.36586288, 0.36546713,\n",
       "       0.36438203, 0.36375844, 0.36274686, 0.3626975 , 0.36265558,\n",
       "       0.36124295, 0.3607759 , 0.36013022, 0.35660017, 0.35619175,\n",
       "       0.35597065, 0.3553323 , 0.35291964, 0.35279492, 0.349986  ,\n",
       "       0.34936613, 0.34768096, 0.34634018, 0.34496137, 0.344155  ,\n",
       "       0.34310162, 0.3412552 , 0.33992875, 0.3399175 , 0.33810362,\n",
       "       0.33489266, 0.3344036 , 0.33276847, 0.3310027 , 0.32952824,\n",
       "       0.32872605, 0.3272775 , 0.32612577, 0.32513034, 0.32482025,\n",
       "       0.32247677, 0.3215523 , 0.3212192 , 0.31925613, 0.317863  ,\n",
       "       0.31763285, 0.31689253, 0.3167816 , 0.31443018, 0.31371313,\n",
       "       0.31343976, 0.3085711 , 0.3039577 , 0.3014    , 0.2958026 ,\n",
       "       0.2953395 , 0.29399043, 0.29293635, 0.29285085, 0.2925044 ,\n",
       "       0.29183164, 0.28964442, 0.28782833, 0.28729072, 0.28712973,\n",
       "       0.28639436, 0.28225708, 0.28018025, 0.27997887, 0.27860782,\n",
       "       0.2723097 , 0.27140975, 0.2676618 , 0.266374  , 0.26633877,\n",
       "       0.26609027, 0.26602325, 0.26352715, 0.26348904, 0.26121086,\n",
       "       0.2593195 , 0.25864136, 0.25829622, 0.2572166 , 0.25693288,\n",
       "       0.2566659 , 0.2553091 , 0.25146067, 0.2499363 , 0.24899164,\n",
       "       0.24849115, 0.24478392, 0.24414508, 0.24300629, 0.24290876,\n",
       "       0.242454  , 0.24058892, 0.23741283, 0.23613119, 0.23609674,\n",
       "       0.23265807, 0.2317038 , 0.2308484 , 0.22960928, 0.22922646,\n",
       "       0.22631471, 0.2263084 , 0.22607708, 0.22412872, 0.22237067,\n",
       "       0.22192916, 0.22086428, 0.21844514, 0.21646935, 0.21539465,\n",
       "       0.21285792, 0.21073486, 0.20909227, 0.20866287, 0.20693655,\n",
       "       0.20658824, 0.20493358, 0.20325093, 0.20227067, 0.20077251,\n",
       "       0.19983906, 0.19820657, 0.1931169 , 0.19307299, 0.19281237,\n",
       "       0.1923938 , 0.19183125, 0.18891211, 0.18483406, 0.18454288,\n",
       "       0.1834808 , 0.18093632, 0.17882715, 0.1780517 , 0.17573377,\n",
       "       0.17435622, 0.1724668 , 0.16690111, 0.1640868 , 0.16163385,\n",
       "       0.16077025, 0.16042683, 0.1600881 , 0.15971188, 0.158618  ,\n",
       "       0.15410286, 0.152659  , 0.15190345, 0.14552341, 0.1454875 ,\n",
       "       0.14506745, 0.14407253, 0.14366084, 0.1424508 , 0.14147663,\n",
       "       0.14079449, 0.13462412, 0.13392477, 0.13165592, 0.12976891,\n",
       "       0.12976865, 0.12949216, 0.12827083, 0.12474075, 0.12357379,\n",
       "       0.12228788, 0.1183327 , 0.11806198, 0.11790249, 0.11712245,\n",
       "       0.11124318, 0.10913904, 0.10256148, 0.10050938, 0.09922913,\n",
       "       0.09920873, 0.09683631, 0.0962708 , 0.0930777 , 0.09139891,\n",
       "       0.09078172, 0.08624178, 0.08484851, 0.08408252, 0.08266193,\n",
       "       0.08077791, 0.07847294, 0.07757653, 0.07573939, 0.06659976,\n",
       "       0.06129366, 0.0602056 , 0.06016799, 0.05798853, 0.05048526,\n",
       "       0.05025405, 0.04941046, 0.04887957, 0.04599557, 0.04185087,\n",
       "       0.04041839, 0.03567431, 0.03485579, 0.03360571, 0.0268401 ,\n",
       "       0.02452474, 0.0162988 ], dtype=float32)"
      ]
     },
     "execution_count": 381,
     "metadata": {},
     "output_type": "execute_result"
    }
   ],
   "source": [
    "thresholds"
   ]
  },
  {
   "cell_type": "code",
   "execution_count": 382,
   "metadata": {},
   "outputs": [
    {
     "data": {
      "text/plain": [
       "array([<Axes: title={'center': '0'}>, <Axes: title={'center': '1'}>],\n",
       "      dtype=object)"
      ]
     },
     "execution_count": 382,
     "metadata": {},
     "output_type": "execute_result"
    },
    {
     "data": {
      "image/png": "[encoded data removed]",
      "text/plain": [
       "<Figure size 640x480 with 2 Axes>"
      ]
     },
     "metadata": {},
     "output_type": "display_data"
    }
   ],
   "source": [
    "dprob = pd.DataFrame(data = {'probability':y_pred_prob_XG, 'actual':y_test})\n",
    "dprob.probability.hist(by=dprob.actual, sharex=True, sharey=True)"
   ]
  },
  {
   "cell_type": "code",
   "execution_count": 383,
   "metadata": {},
   "outputs": [
    {
     "name": "stdout",
     "output_type": "stream",
     "text": [
      "Sensitivity: 0.6929601357082273\n",
      "Recall: 0.41243862520458263\n"
     ]
    }
   ],
   "source": [
    "op_thres_XG = 0.5\n",
    "\n",
    "evaluate_threshold(op_thres_XG)"
   ]
  },
  {
   "cell_type": "code",
   "execution_count": 384,
   "metadata": {},
   "outputs": [],
   "source": [
    "probs_XG_opt = final_XG.predict_proba(X_model_test)[:, 1]  \n",
    "pred_thres_XG_opt = (probs_XG_opt >= op_thres_XG).astype(int) "
   ]
  },
  {
   "cell_type": "code",
   "execution_count": 385,
   "metadata": {},
   "outputs": [
    {
     "name": "stdout",
     "output_type": "stream",
     "text": [
      "[[252 359]\n",
      " [360 819]]\n"
     ]
    }
   ],
   "source": [
    "print(confusion_matrix(expected, pred_thres_XG_opt))"
   ]
  },
  {
   "cell_type": "code",
   "execution_count": 386,
   "metadata": {},
   "outputs": [
    {
     "name": "stdout",
     "output_type": "stream",
     "text": [
      "              precision    recall  f1-score   support\n",
      "\n",
      "           0       0.41      0.41      0.41       611\n",
      "           1       0.70      0.69      0.69      1179\n",
      "\n",
      "    accuracy                           0.60      1790\n",
      "   macro avg       0.55      0.55      0.55      1790\n",
      "weighted avg       0.60      0.60      0.60      1790\n",
      "\n"
     ]
    }
   ],
   "source": [
    "print(classification_report(expected, pred_thres_XG_opt))"
   ]
  },
  {
   "cell_type": "markdown",
   "metadata": {},
   "source": [
    "Se obtienen los mismos resultados porque sigue siendo el mejor caso con umbral igual a 0,5."
   ]
  },
  {
   "cell_type": "markdown",
   "metadata": {},
   "source": [
    "Se calcula la AUC score."
   ]
  },
  {
   "cell_type": "code",
   "execution_count": 387,
   "metadata": {},
   "outputs": [
    {
     "name": "stdout",
     "output_type": "stream",
     "text": [
      "0.5535475568771004\n"
     ]
    }
   ],
   "source": [
    "print(roc_auc_score(expected, predicted_XG_opt))"
   ]
  },
  {
   "cell_type": "markdown",
   "metadata": {},
   "source": [
    "También ha tenido una pequeña mejora, pero sigue en el mismo intervalo. Es decir, sigue siendo un modelo *F*."
   ]
  },
  {
   "cell_type": "markdown",
   "metadata": {},
   "source": [
    "### 7.4.8 Conclusiones del modelo"
   ]
  },
  {
   "cell_type": "markdown",
   "metadata": {},
   "source": [
    "Tal y como esta el modelo no se estan obteniendo buenos resultados debido a la escasez de entradas y la gran cantidad de dimensiones que presenta el dataset. Estamos obteniendo prácticamente los mismos resultados que si decidieramos clasificar al azar.\n",
    "\n",
    "Aun así cabe resaltar que puede llegar a funcionar mejor que el Random Forest debido a que predice mejor los 0s. Además existe un mayor margen de trabajo a la hora de modificar el umbral de probabilidad."
   ]
  },
  {
   "cell_type": "markdown",
   "metadata": {},
   "source": [
    "# 8. Exportar CSV"
   ]
  },
  {
   "cell_type": "markdown",
   "metadata": {},
   "source": [
    "## 8.1 Asignacion de las variables"
   ]
  },
  {
   "cell_type": "markdown",
   "metadata": {},
   "source": [
    "Asignamos las variables para el analisis en función del desarrollo del apartado del preprocesado."
   ]
  },
  {
   "cell_type": "code",
   "execution_count": 388,
   "metadata": {},
   "outputs": [],
   "source": [
    "X_kaggle = X_res_final\n",
    "y_kaggle = y_res_final\n",
    "\n",
    "X_kaggle_test = X_scaled_te_final"
   ]
  },
  {
   "cell_type": "markdown",
   "metadata": {},
   "source": [
    "## 8.2 Clasificador Random Forest"
   ]
  },
  {
   "cell_type": "markdown",
   "metadata": {},
   "source": [
    "Se entrena con los nuevos valores de train y test, y se modifica el umbral de probabilidades. En un principio, el valor del umbral era el de la variable *op_thres_Random*, pero se decidió finalmente que el valor del umbral fueran valores numéricos para que fuera más sencillo hacer diversas pruebas en Kaggle."
   ]
  },
  {
   "cell_type": "code",
   "execution_count": 389,
   "metadata": {},
   "outputs": [],
   "source": [
    "final_Forest.fit(X_kaggle, y_kaggle)\n",
    "\n",
    "probs_For_final = final_Forest.predict_proba(X_kaggle_test)[:, 1]  \n",
    "pred_thres_For_final = (probs_For_final >= 0.5).astype(int) "
   ]
  },
  {
   "cell_type": "markdown",
   "metadata": {},
   "source": [
    "Se crea un *dataframe* con las predicciones obtenidas con su correspondiente *id*."
   ]
  },
  {
   "cell_type": "code",
   "execution_count": 390,
   "metadata": {},
   "outputs": [],
   "source": [
    "df_label_Random = pd.DataFrame(pred_thres_For_final, columns=['label'])"
   ]
  },
  {
   "cell_type": "code",
   "execution_count": 391,
   "metadata": {},
   "outputs": [],
   "source": [
    "df_id = df_test['id'].reset_index(drop=True)"
   ]
  },
  {
   "cell_type": "code",
   "execution_count": 392,
   "metadata": {},
   "outputs": [],
   "source": [
    "df_final_Random = pd.concat([df_id, df_label_Random], axis=1)"
   ]
  },
  {
   "cell_type": "markdown",
   "metadata": {},
   "source": [
    "Mostramos los resultados obtenidos para tener una idea de la proporción de 1s y 0s de Kaggle."
   ]
  },
  {
   "cell_type": "code",
   "execution_count": 393,
   "metadata": {},
   "outputs": [
    {
     "data": {
      "text/plain": [
       "label\n",
       "1    2435\n",
       "0    1401\n",
       "Name: count, dtype: int64"
      ]
     },
     "execution_count": 393,
     "metadata": {},
     "output_type": "execute_result"
    }
   ],
   "source": [
    "df_final_Random['label'].value_counts()"
   ]
  },
  {
   "cell_type": "markdown",
   "metadata": {},
   "source": [
    "Se transforma el *dataframe* a un archivo *CSV*."
   ]
  },
  {
   "cell_type": "code",
   "execution_count": 394,
   "metadata": {},
   "outputs": [],
   "source": [
    "df_final_Random.to_csv('./submit/randomWord2vec.csv', index=False)"
   ]
  },
  {
   "cell_type": "markdown",
   "metadata": {},
   "source": [
    "## 8.3 Clasificador XGBoost"
   ]
  },
  {
   "cell_type": "code",
   "execution_count": 395,
   "metadata": {},
   "outputs": [],
   "source": [
    "final_XG.fit(X_kaggle, y_kaggle)\n",
    "\n",
    "probs_XG_final = final_XG.predict_proba(X_kaggle_test)[:, 1]  \n",
    "pred_thres_XG_final = (probs_XG_final >= 0.40).astype(int) "
   ]
  },
  {
   "cell_type": "markdown",
   "metadata": {},
   "source": [
    "Se crea un *dataframe* con las predicciones obtenidas con su correspondiente *id*."
   ]
  },
  {
   "cell_type": "code",
   "execution_count": 396,
   "metadata": {},
   "outputs": [],
   "source": [
    "df_label_XG = pd.DataFrame(pred_thres_XG_final, columns=['label'])"
   ]
  },
  {
   "cell_type": "code",
   "execution_count": 397,
   "metadata": {},
   "outputs": [],
   "source": [
    "df_id = df_test['id'].reset_index(drop=True)"
   ]
  },
  {
   "cell_type": "code",
   "execution_count": 398,
   "metadata": {},
   "outputs": [],
   "source": [
    "df_final_XG = pd.concat([df_id, df_label_XG], axis=1)"
   ]
  },
  {
   "cell_type": "markdown",
   "metadata": {},
   "source": [
    "Mostramos los resultados obtenidos para tener una idea de la proporción de 1s y 0s de Kaggle."
   ]
  },
  {
   "cell_type": "code",
   "execution_count": 399,
   "metadata": {},
   "outputs": [
    {
     "data": {
      "text/plain": [
       "label\n",
       "1    2761\n",
       "0    1075\n",
       "Name: count, dtype: int64"
      ]
     },
     "execution_count": 399,
     "metadata": {},
     "output_type": "execute_result"
    }
   ],
   "source": [
    "df_final_XG['label'].value_counts()"
   ]
  },
  {
   "cell_type": "markdown",
   "metadata": {},
   "source": [
    "Se transforma el *dataframe* a un archivo *CSV*."
   ]
  },
  {
   "cell_type": "code",
   "execution_count": 400,
   "metadata": {},
   "outputs": [],
   "source": [
    "df_final_XG.to_csv('./submit/xgboostWord2vec.csv', index=False)"
   ]
  },
  {
   "cell_type": "markdown",
   "metadata": {},
   "source": [
    "# 9. Referencias"
   ]
  },
  {
   "cell_type": "markdown",
   "metadata": {},
   "source": [
    "* [ColumnTransformer. (s. f.). Scikit-learn.](https://scikit-learn.org/stable/modules/generated/sklearn.compose.ColumnTransformer.html)\n",
    "* [GridSearchCV. (s. f.). Scikit-learn.](https://scikit-learn.org/stable/modules/generated/sklearn.model_selection.GridSearchCV.html)\n",
    "* [RandomForestClassifier. (s. f.). Scikit-learn.](https://scikit-learn.org/stable/modules/generated/sklearn.ensemble.RandomForestClassifier.html)\n",
    "* [RandomUnderSampler — Version 0.13.0. (s. f.). Imbalance learn.](https://imbalanced-learn.org/stable/references/generated/imblearn.under_sampling.RandomUnderSampler.html)\n",
    "* [SMOTE — Version 0.13.0. (s. f.). Imbalanced learn.](https://imbalanced-learn.org/stable/references/generated/imblearn.over_sampling.SMOTE.html)\n",
    "* [StandardScaler. (s. f.). Scikit-learn.](https://scikit-learn.org/stable/modules/generated/sklearn.preprocessing.StandardScaler.html)\n",
    "* [train_test_split. (s. f.). Scikit-learn.](https://scikit-learn.org/stable/modules/generated/sklearn.model_selection.train_test_split.html)\n",
    "* [TfidfVectorizer. (s. f.). Scikit-learn.](https://scikit-learn.org/stable/modules/generated/sklearn.feature_extraction.text.TfidfVectorizer.html)\n",
    "* [TruncatedSVD. (s. f.). Scikit-learn.](https://scikit-learn.org/stable/modules/generated/sklearn.decomposition.TruncatedSVD.html)\n",
    "* [XGBoost Parameters — xgboost 3.0.0 documentation. (s. f.).](https://xgboost.readthedocs.io/en/release_3.0.0/parameter.html)"
   ]
  }
 ],
 "metadata": {
  "kernelspec": {
   "display_name": "Python [conda env:base] *",
   "language": "python",
   "name": "conda-base-py"
  },
  "language_info": {
   "codemirror_mode": {
    "name": "ipython",
    "version": 3
   },
   "file_extension": ".py",
   "mimetype": "text/x-python",
   "name": "python",
   "nbconvert_exporter": "python",
   "pygments_lexer": "ipython3",
   "version": "3.12.7"
  }
 },
 "nbformat": 4,
 "nbformat_minor": 4
}
