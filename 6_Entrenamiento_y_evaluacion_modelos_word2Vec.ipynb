{
 "cells": [
  {
   "cell_type": "markdown",
   "metadata": {},
   "source": [
    "<header style=\"width:100%;position:relative\">\n",
    "  <div style=\"width:80%;float:right;\">\n",
    "    <h1>False Political Claim Detection</h1>\n",
    "    <h3>Entrenamiento y evaluación de los modelos</h3>\n",
    "    <h5>Grupo 2</h5>\n",
    "  </div>\n",
    "        <img style=\"width:15%;\" src=\"./images/logo.jpg\" alt=\"UPM\" />\n",
    "</header>"
   ]
  },
  {
   "cell_type": "markdown",
   "metadata": {},
   "source": [
    "# Índice"
   ]
  },
  {
   "cell_type": "markdown",
   "metadata": {},
   "source": [
    "1. [Importar librerias](#1.-Importar-librerias)\n",
    "2. [Variables globales y funciones auxiliares](#2.-Variables-globales-y-funciones-auxiliares)\n",
    "3. [Carga del dataframe](#3.-Carga-del-dataframe)\n",
    "4. [Selección de las características](#4.-Seleccion-de-las-caracteristicas)\n",
    "5. [Carga de los datos y división en entrenamiento y test](#5.-Carga-de-los-datos-y-division-en-entrenamiento-y-test)\n",
    "6. [Preprocesado](#6.-Preprocesado)\n",
    "    * 6.1 [Tratamiento de los textos Word2Vec](#6.1-Tratamiento-de-los-textos)\n",
    "        * 6.1.1 [Vectorización](#6.1.1-vectorizacion)\n",
    "        * 6.1.2 [Unificación de características](#6.1.2-unificacion-de-caracteristicas)\n",
    "        * 6.1.3 [Reducción dimensionalidad](#6.1.3-reduccion-dimensionalidad)\n",
    "    * 6.2 [Remuestreo](#6.2-Remuestreo)\n",
    "7. [Modelos seleccionados](#7.-Modelos-seleccionados)\n",
    "    * 7.1 [Introducción](#7.1-Introduccion)\n",
    "    * 7.2 [Asignacion de las variables](#7.2-Asignacion-de-las-variables)\n",
    "    * 7.3 [Clasificador Random Forest](#7.3-Clasificador-Random-Forest)\n",
    "    * 7.4 [Clasificador XGBoost](#7.4-Clasificador-XGBoost)\n",
    "    * 7.5 [Clasificador Logistic Regression](#7.5-Clasificador-Logistic-Regression)\n",
    "    * 7.6 [Clasificador Gradient Boosting](#7.6-Clasificador-Gradient-Boosting)    \n",
    "8. [Exportar CSV](#8.-Exportar-CSV)\n",
    "    * 8.1 [Asignacion de las variables](#8.1-Asignacion-de-las-variables)\n",
    "    * 8.2 [Clasificador Random Forest](#8.2-Clasificador-Random-Forest)\n",
    "    * 8.3 [Clasificador XGBoost](#8.3-Clasificador-XGBoost)\n",
    "    * 8.4 [Clasificador Logistic Regression](#8.4-Clasificador-Logistic-Regression)\n",
    "    * 8.5 [Clasificador GradientBoosting](#8.5-Clasificador-GradientBoosting)\n",
    "9. [Referencias](#9.-Referencias)"
   ]
  },
  {
   "cell_type": "markdown",
   "metadata": {},
   "source": [
    "# 1. Importar librerias"
   ]
  },
  {
   "cell_type": "code",
   "execution_count": 192,
   "metadata": {},
   "outputs": [
    {
     "name": "stdout",
     "output_type": "stream",
     "text": [
      "Todas las librerias fueron correctamente importadas.\n"
     ]
    },
    {
     "name": "stderr",
     "output_type": "stream",
     "text": [
      "[nltk_data] Downloading package punkt_tab to\n",
      "[nltk_data]     C:\\Users\\david\\AppData\\Roaming\\nltk_data...\n",
      "[nltk_data]   Package punkt_tab is already up-to-date!\n",
      "[nltk_data] Downloading package punkt to\n",
      "[nltk_data]     C:\\Users\\david\\AppData\\Roaming\\nltk_data...\n",
      "[nltk_data]   Package punkt is already up-to-date!\n"
     ]
    }
   ],
   "source": [
    "# General import and load data\n",
    "import pandas as pd\n",
    "import numpy as np\n",
    "\n",
    "# Resampling\n",
    "from imblearn.under_sampling import RandomUnderSampler\n",
    "from imblearn.over_sampling import SMOTE\n",
    "\n",
    "# Preprocessing\n",
    "from sklearn.compose import ColumnTransformer\n",
    "from sklearn.preprocessing import StandardScaler\n",
    "from sklearn.feature_extraction.text import TfidfVectorizer\n",
    "from sklearn.decomposition import TruncatedSVD\n",
    "from sklearn.decomposition import PCA\n",
    "\n",
    "# Splitting\n",
    "from sklearn.model_selection import train_test_split\n",
    "\n",
    "# Estimators\n",
    "from sklearn.ensemble import RandomForestClassifier\n",
    "from xgboost import XGBClassifier\n",
    "from sklearn.linear_model import LogisticRegression\n",
    "from sklearn.ensemble import GradientBoostingClassifier\n",
    "\n",
    "# Evaluation\n",
    "from sklearn.metrics import accuracy_score, confusion_matrix, classification_report\n",
    "from sklearn.metrics import make_scorer, f1_score, recall_score, roc_curve, roc_auc_score\n",
    "\n",
    "# Optimization\n",
    "from sklearn.model_selection import GridSearchCV, PredefinedSplit\n",
    "\n",
    "# Visualization\n",
    "import matplotlib.pyplot as plt\n",
    "\n",
    "# Time optimization\n",
    "import time\n",
    "# word2vec\n",
    "from gensim.models import Word2Vec\n",
    "import gensim\n",
    "import numpy as np\n",
    "from nltk.tokenize import word_tokenize\n",
    "import nltk\n",
    "from nltk.tokenize import word_tokenize\n",
    "import nltk\n",
    "from nltk.tokenize import word_tokenize\n",
    "nltk.download('punkt_tab')\n",
    "nltk.download('punkt') \n",
    "\n",
    "\n",
    "print(\"Todas las librerias fueron correctamente importadas.\")"
   ]
  },
  {
   "cell_type": "markdown",
   "metadata": {},
   "source": [
    "# 2. Variables globales y funciones auxiliares"
   ]
  },
  {
   "cell_type": "markdown",
   "metadata": {},
   "source": [
    "Se fija un seed para todo el documento para fijar la aleatoriedad y así obtener resultados replicables."
   ]
  },
  {
   "cell_type": "code",
   "execution_count": 193,
   "metadata": {},
   "outputs": [],
   "source": [
    "seed = 42"
   ]
  },
  {
   "cell_type": "markdown",
   "metadata": {},
   "source": [
    "Función utilizado para evaluar los distintos umbrales en la curva de ROC."
   ]
  },
  {
   "cell_type": "code",
   "execution_count": 194,
   "metadata": {},
   "outputs": [],
   "source": [
    "def evaluate_threshold(threshold):\n",
    "    print('Sensitivity:', tpr[thresholds > threshold][-1])\n",
    "    print('Recall:', 1 - fpr[thresholds > threshold][-1])"
   ]
  },
  {
   "cell_type": "markdown",
   "metadata": {},
   "source": [
    "# 3. Carga del dataframe"
   ]
  },
  {
   "cell_type": "markdown",
   "metadata": {},
   "source": [
    "Se cargan los datos de la ruta *formated/train_exportado.csv*, los cuales son los datos ya procesados por uno de nuestros compañeros."
   ]
  },
  {
   "cell_type": "code",
   "execution_count": 195,
   "metadata": {},
   "outputs": [
    {
     "name": "stdout",
     "output_type": "stream",
     "text": [
      "Datos cargados correctamente\n",
      "\n"
     ]
    }
   ],
   "source": [
    "url = \"formated/train_exportado.csv\"\n",
    "df = pd.read_csv(url)\n",
    "\n",
    "print(\"Datos cargados correctamente\\n\")"
   ]
  },
  {
   "cell_type": "markdown",
   "metadata": {},
   "source": [
    "También cargamos el test que debemos predecir para Kaggle de la ruta *formated/test_exportado.csv*."
   ]
  },
  {
   "cell_type": "code",
   "execution_count": 196,
   "metadata": {},
   "outputs": [
    {
     "name": "stdout",
     "output_type": "stream",
     "text": [
      "Test cargado correctamente\n",
      "\n"
     ]
    }
   ],
   "source": [
    "url = \"formated/test_exportado.csv\"\n",
    "df_test = pd.read_csv(url)\n",
    "\n",
    "print(\"Test cargado correctamente\\n\")"
   ]
  },
  {
   "cell_type": "markdown",
   "metadata": {},
   "source": [
    "# 4. Seleccion de las caracteristicas"
   ]
  },
  {
   "cell_type": "markdown",
   "metadata": {},
   "source": [
    "En el siguiente array se muestran todas las caracteristicas por si se decide realizar pruebas con otras *features*."
   ]
  },
  {
   "cell_type": "code",
   "execution_count": 197,
   "metadata": {},
   "outputs": [],
   "source": [
    "all_features = [\n",
    "    # Identificador\n",
    "    'id',\n",
    "\n",
    "    # Etiqueta objetivo\n",
    "    'label',\n",
    "\n",
    "    # Texto original y procesado\n",
    "    'statement', 'statement-raw', 'statement-lemmatize', \n",
    "\n",
    "    # Features derivados del texto\n",
    "    'statement-ner', 'feelings',\n",
    "\n",
    "    # One-hot encoded de los temas reagrupados del texto \n",
    "    'subject-ciencia_y_tecnologia', 'subject-economia_y_finanzas',\n",
    "    'subject-educacion', 'subject-medio_ambiente_y_energia', 'subject-otros',\n",
    "    'subject-politica_y_gobierno', 'subject-relaciones_internacionales',\n",
    "    'subject-salud_y_bienestar', 'subject-seguridad_y_justicia',\n",
    "    'subject-sociedad_y_cultura', 'subject-trabajo_y_empleo',\n",
    "\n",
    "    # Resto de las categoricas agrupadas\n",
    "    'speaker_grouped', 'speaker_job_grouped', 'state_info_grouped', 'party_group',\n",
    "\n",
    "    # Resto de las categoricas agrupadas y codificadas\n",
    "    'speaker_grouped_cod', 'speaker_job_grouped_cod',\n",
    "    'state_info_grouped_cod', 'party_group_cod',\n",
    "\n",
    "    # Variables generadas por LLM los null\n",
    "    'speaker_job-llm', 'speaker_job_cod-llm',\n",
    "    'state_info-llm', 'state_info_cod-llm',\n",
    "    'party_affiliation-llm', 'party_affiliation_cod-llm'\n",
    "]"
   ]
  },
  {
   "cell_type": "markdown",
   "metadata": {},
   "source": [
    "Se seleccionan todas las categorias menos: \n",
    "* ***id***: no aporta ningún valor.\n",
    "* ***label***: variable a predecir.\n",
    "* ***statement***: esta *feature* esta por si nos es necesario en algun momento futuro tener el texto sin procesar.\n",
    "* ***statement-lemmatize***: esta *feature* solo esta para probar en notebooks posteriores si clasifica mejor o peor con las raices de las palabras.\n",
    "* ***statement-ner***: esta *feature* esta para ver si el clasificador funciona mejor con el NER por separado.\n",
    "* ***speaker_grouped***, ***speaker_job_grouped***, ***state_info_grouped***, ***party_group***: suponemos que tenemos la misma información ya codificada.\n",
    "* ***speaker_job-llm***, ***speaker_job_cod-llm***, ***state_info-llm***, ***state_info_cod-llm***, ***party_affiliation-llm***, ***party_affiliation_cod-llm***: esta información ya esta en otras *features*, la diferencia esta en como se tratan los nulos asi que se analizará cual funciona mejor si con LLM o sin ellos durante el apartado de clasificación."
   ]
  },
  {
   "cell_type": "code",
   "execution_count": 198,
   "metadata": {},
   "outputs": [],
   "source": [
    "selected_features = [\n",
    "    # Texto\n",
    "    'statement-raw',\n",
    "        \n",
    "    # Features derivados del texto\n",
    "    'feelings',\n",
    "\n",
    "    # One-hot encoded de los temas reagrupados del texto \n",
    "    'subject-ciencia_y_tecnologia', 'subject-economia_y_finanzas',\n",
    "    'subject-educacion', 'subject-medio_ambiente_y_energia', 'subject-otros',\n",
    "    'subject-politica_y_gobierno', 'subject-relaciones_internacionales',\n",
    "    'subject-salud_y_bienestar', 'subject-seguridad_y_justicia',\n",
    "    'subject-sociedad_y_cultura', 'subject-trabajo_y_empleo',\n",
    "\n",
    "    # Resto de las categoricas agrupadas y codificadas\n",
    "    'speaker_grouped_cod', 'speaker_job_grouped_cod',\n",
    "    'state_info_grouped_cod', 'party_group_cod'\n",
    "]"
   ]
  },
  {
   "cell_type": "markdown",
   "metadata": {},
   "source": [
    "En caso de querer probar si funcionan mejor las de los LLM, se sustituirán por su simil. También si se quiere probar el texto lematizado se sustituira por el *raw*."
   ]
  },
  {
   "cell_type": "markdown",
   "metadata": {},
   "source": [
    "De las cuales texto es:"
   ]
  },
  {
   "cell_type": "code",
   "execution_count": 199,
   "metadata": {},
   "outputs": [],
   "source": [
    "text = 'statement-raw'"
   ]
  },
  {
   "cell_type": "markdown",
   "metadata": {},
   "source": [
    "Y las que no se corresponden con texto son:"
   ]
  },
  {
   "cell_type": "code",
   "execution_count": 200,
   "metadata": {},
   "outputs": [],
   "source": [
    "no_text = [\n",
    "    # Features derivados del texto\n",
    "    'feelings',\n",
    "\n",
    "    # One-hot encoded de los temas reagrupados del texto \n",
    "    'subject-ciencia_y_tecnologia', 'subject-economia_y_finanzas',\n",
    "    'subject-educacion', 'subject-medio_ambiente_y_energia', 'subject-otros',\n",
    "    'subject-politica_y_gobierno', 'subject-relaciones_internacionales',\n",
    "    'subject-salud_y_bienestar', 'subject-seguridad_y_justicia',\n",
    "    'subject-sociedad_y_cultura', 'subject-trabajo_y_empleo',\n",
    "\n",
    "    # Resto de las categoricas agrupadas y codificadas\n",
    "     'speaker_grouped_cod', 'speaker_job_grouped_cod',\n",
    "     'state_info_grouped_cod', 'party_group_cod'\n",
    "]"
   ]
  },
  {
   "cell_type": "markdown",
   "metadata": {},
   "source": [
    "Y de las cuales, numéricas son las siguientes:"
   ]
  },
  {
   "cell_type": "code",
   "execution_count": 201,
   "metadata": {},
   "outputs": [],
   "source": [
    "numeric_vars = [\n",
    "    'speaker_grouped_cod', 'speaker_job_grouped_cod',\n",
    "    'state_info_grouped_cod', 'party_group_cod'\n",
    "]"
   ]
  },
  {
   "cell_type": "markdown",
   "metadata": {},
   "source": [
    "# 5. Carga de los datos y division en entrenamiento y test"
   ]
  },
  {
   "cell_type": "markdown",
   "metadata": {},
   "source": [
    "Cargamos las caracteristicas seleccionadas en la variable X y el objetivo *Accept* en la variable y."
   ]
  },
  {
   "cell_type": "code",
   "execution_count": 202,
   "metadata": {},
   "outputs": [],
   "source": [
    "X = df[selected_features] \n",
    "y = df['label'].values"
   ]
  },
  {
   "cell_type": "markdown",
   "metadata": {},
   "source": [
    "Se separa ya en entrenamiento y test para no falsear los datos del test al realizar el balanceo."
   ]
  },
  {
   "cell_type": "code",
   "execution_count": 203,
   "metadata": {},
   "outputs": [],
   "source": [
    "X_train, X_test, y_train, y_test = train_test_split(X, y, test_size=0.2, random_state=seed)"
   ]
  },
  {
   "cell_type": "markdown",
   "metadata": {},
   "source": [
    "A la hora de subir el modelo a Kaggle, ya se nos da dividido el entrenamiento y el test. Por ello, se utilizarán todos los datos tratados como entrenamiento (aunque también se le aplicará el mejor caso de preprocesado para cada modelo)."
   ]
  },
  {
   "cell_type": "code",
   "execution_count": 204,
   "metadata": {},
   "outputs": [],
   "source": [
    "X_train_final = X\n",
    "y_train_final = y\n",
    "\n",
    "X_test_final = df_test[selected_features] "
   ]
  },
  {
   "cell_type": "markdown",
   "metadata": {},
   "source": [
    "# 6. Preprocesado"
   ]
  },
  {
   "cell_type": "markdown",
   "metadata": {},
   "source": [
    "Como se menciona en el notebook dedicado al preprocesamiento, primero se tratará el texto, después se reducirá su dimensionalidad con un *PCA*, se estandarizarán las variables codificadas mediante un *StandardScaler* y, finalmente, se realizará un remuestreo mediante *SMOTE* y *RandomUnderSampler*. \n",
    "\n",
    "En caso de querer probar el caso de preprocesamiento 6, será necesario eliminar el *StandardScaler* junto al *ColumnTransformer*."
   ]
  },
  {
   "cell_type": "markdown",
   "metadata": {},
   "source": [
    "## 6.1 Tratamiento de los textos"
   ]
  },
  {
   "cell_type": "markdown",
   "metadata": {},
   "source": [
    "### 6.1.1 vectorizacion"
   ]
  },
  {
   "cell_type": "markdown",
   "metadata": {},
   "source": [
    "Primero tokenizamos el texto para Word2Vec"
   ]
  },
  {
   "cell_type": "code",
   "execution_count": 205,
   "metadata": {},
   "outputs": [],
   "source": [
    "\n",
    "# Tokeniza el texto \n",
    "#X_train_tokens = X_train[text].apply(lambda x: x.split())\n",
    "#X_test_tokens = X_test[text].apply(lambda x: x.split())\n",
    "\n",
    "X_train_tokens = X_train[text].apply(lambda x: word_tokenize(str(x)))\n",
    "X_test_tokens = X_test[text].apply(lambda x: word_tokenize(str(x)))\n"
   ]
  },
  {
   "cell_type": "markdown",
   "metadata": {},
   "source": [
    "A continuación se entrena un modelo Word2Vec utilizando los textos tokenizados del conjunto de entrenamiento. Posteriormente, se obtiene un vector representativo para cada texto calculando la media de los vectores de las palabras que aparecen en el vocabulario del modelo. Finalmente, se aplica este proceso tanto al conjunto de entrenamiento como al de test.\n"
   ]
  },
  {
   "cell_type": "code",
   "execution_count": 206,
   "metadata": {},
   "outputs": [],
   "source": [
    "w2v_model = Word2Vec(sentences=X_train_tokens, vector_size=30, window=2, min_count=2, workers=1, seed=42)\n",
    "\n",
    "\n",
    "# Palabras conocidas\n",
    "vocab = set(w2v_model.wv.index_to_key)\n",
    "\n",
    "def sentence_vector(tokens, model, size=30):\n",
    "    vectors = [model.wv[w] for w in tokens if w in vocab]\n",
    "    if len(vectors) == 0:\n",
    "        return np.zeros(size)\n",
    "    else:\n",
    "        return np.mean(vectors, axis=0)\n",
    "\n",
    "# Aplica a train y test\n",
    "X_txt_train = np.vstack(X_train_tokens.apply(lambda x: sentence_vector(x, w2v_model)))\n",
    "X_txt_test = np.vstack(X_test_tokens.apply(lambda x: sentence_vector(x, w2v_model)))"
   ]
  },
  {
   "cell_type": "markdown",
   "metadata": {},
   "source": [
    "Después para el dataset que se utilizará para subir a Kaggle."
   ]
  },
  {
   "cell_type": "code",
   "execution_count": 207,
   "metadata": {},
   "outputs": [],
   "source": [
    "# Tokeniza el texto \n",
    "#X_train_tokens_final = X_train_final[text].apply(lambda x: x.split())\n",
    "#X_test_tokens_final = X_test_final[text].apply(lambda x: x.split())\n",
    "\n",
    "X_train_tokens_final = X_train_final[text].apply(lambda x: word_tokenize(str(x)))\n",
    "X_test_tokens_final = X_test_final[text].apply(lambda x: word_tokenize(str(x)))"
   ]
  },
  {
   "cell_type": "code",
   "execution_count": 208,
   "metadata": {},
   "outputs": [],
   "source": [
    "w2v_model_final = Word2Vec(sentences=X_train_tokens_final, vector_size=30, window=2, min_count=2, workers=1, seed=42)\n",
    "\n",
    "\n",
    "# Palabras conocidas\n",
    "vocab_final = set(w2v_model_final.wv.index_to_key)\n",
    "\n",
    "def sentence_vector(tokens, model, size=30):\n",
    "    vectors = [model.wv[w] for w in tokens if w in vocab_final]\n",
    "    if len(vectors) == 0:\n",
    "        return np.zeros(size)\n",
    "    else:\n",
    "        return np.mean(vectors, axis=0)\n",
    "\n",
    "# Aplica a train y test\n",
    "X_txt_tr_final = np.vstack(X_train_tokens_final.apply(lambda x: sentence_vector(x, w2v_model_final)))\n",
    "X_txt_te_final = np.vstack(X_test_tokens_final.apply(lambda x: sentence_vector(x, w2v_model_final)))"
   ]
  },
  {
   "cell_type": "markdown",
   "metadata": {},
   "source": [
    "Después de analizar la varianza explicada mediante PCA (6.1.3), se observó que un número reducido de componentes era suficiente para conservar el 95% de la varianza. Por tanto, se consideró razonable reducir también la dimensionalidad inicial de los vectores Word2Vec a 30, con el objetivo de eliminar redundancias y reducir la complejidad del modelo, minimizando así el riesgo de sobreajuste sin una pérdida significativa de información."
   ]
  },
  {
   "cell_type": "markdown",
   "metadata": {},
   "source": [
    "### 6.1.2 Unificacion de caracteristicas"
   ]
  },
  {
   "cell_type": "code",
   "execution_count": 209,
   "metadata": {},
   "outputs": [],
   "source": [
    "# Train\n",
    "X_svd_train = pd.DataFrame(X_txt_train, columns=[f\"svd_{i}\" for i in range(X_txt_train.shape[1])])\n",
    "X_rest_train = X_train[no_text].reset_index(drop=True)\n",
    "\n",
    "# Test\n",
    "X_svd_test = pd.DataFrame(X_txt_test, columns=[f\"svd_{i}\" for i in range(X_txt_test.shape[1])])\n",
    "X_rest_test = X_test[no_text].reset_index(drop=True)\n",
    "\n",
    "# Text + Resto de features\n",
    "X_total_train = pd.concat([X_svd_train, X_rest_train], axis=1)\n",
    "X_total_test = pd.concat([X_svd_test, X_rest_test], axis=1)"
   ]
  },
  {
   "cell_type": "markdown",
   "metadata": {},
   "source": [
    "Ahora kaggle"
   ]
  },
  {
   "cell_type": "code",
   "execution_count": 210,
   "metadata": {},
   "outputs": [],
   "source": [
    "# Train\n",
    "X_svd_tr_final = pd.DataFrame(X_txt_tr_final, columns=[f\"svd_{i}\" for i in range(X_txt_tr_final.shape[1])])\n",
    "X_rest_tr_final = X_train_final[no_text].reset_index(drop=True)\n",
    "\n",
    "# Test\n",
    "X_svd_te_final = pd.DataFrame(X_txt_te_final, columns=[f\"svd_{i}\" for i in range(X_txt_te_final.shape[1])])\n",
    "X_rest_te_final = X_test_final[no_text].reset_index(drop=True)\n",
    "\n",
    "# Text + Resto de features\n",
    "X_tot_tr_final = pd.concat([X_svd_tr_final, X_rest_tr_final], axis=1)\n",
    "X_tot_te_final = pd.concat([X_svd_te_final, X_rest_te_final], axis=1)"
   ]
  },
  {
   "cell_type": "markdown",
   "metadata": {},
   "source": [
    "### 6.1.3 Reduccion dimensionalidad"
   ]
  },
  {
   "cell_type": "markdown",
   "metadata": {},
   "source": [
    "Primero se estandarizan las características combinadas (texto + resto de variables) utilizando `StandardScaler`, ya que PCA es sensible a la escala de las variables.  \n",
    "A continuación, se aplica PCA sin limitar el número de componentes para calcular la varianza explicada acumulada y determinar cuántos componentes son necesarios para conservar al menos el 95% de la información del conjunto de entrenamiento.\n"
   ]
  },
  {
   "cell_type": "code",
   "execution_count": null,
   "metadata": {},
   "outputs": [],
   "source": [
    "#scaler = StandardScaler()\n",
    "#X_total_train_scaled = scaler.fit_transform(X_total_train)\n",
    "#X_total_test_scaled = scaler.transform(X_total_test)\n",
    "\n",
    "# PCA sin límite para evaluar varianza explicada\n",
    "#pca_temp = PCA(random_state=seed)\n",
    "#pca_temp.fit(X_total_train_scaled)\n",
    "#explained = np.cumsum(pca_temp.explained_variance_ratio_)\n",
    "\n",
    "#  Mostrar varianza explicada acumulada (primeros 30 componentes)\n",
    "#print(\"Varianza explicada acumulada (primeros 30 componentes):\")\n",
    "#for i in range(min(30, len(explained))):\n",
    "#    print(f\"Componente {i+1:2d}: {explained[i]:.4f}\")\n"
   ]
  },
  {
   "cell_type": "markdown",
   "metadata": {},
   "source": [
    "En esta sección se selecciona el número mínimo de componentes necesarios para conservar al menos el 95% de la varianza.  \n",
    "Se ajusta y transforma el conjunto de datos con estos componentes, y finalmente se convierten los resultados a `DataFrame`, renombrando las columnas con el prefijo `pca_`.\n"
   ]
  },
  {
   "cell_type": "code",
   "execution_count": null,
   "metadata": {},
   "outputs": [],
   "source": [
    "# Elegir número mínimo de componentes para explicar 95%\n",
    "#threshold = 0.95\n",
    "#n_components = np.argmax(explained >= threshold) + 1\n",
    "#print(f\"\\nPara explicar al menos el {int(threshold*100)}% de la varianza, se necesitan {n_components} componentes.\")\n",
    "\n",
    "# Aplicar PCA final \n",
    "#pca = PCA(n_components=n_components, random_state=seed)\n",
    "#X_total_train_pca = pca.fit_transform(X_total_train_scaled)\n",
    "#X_total_test_pca = pca.transform(X_total_test_scaled)\n",
    "\n",
    "# Convertir resultado PCA a DataFrame y reasignar los nombres originales\n",
    "#X_total_train = pd.DataFrame(X_total_train_pca, columns=[f'pca_{i}' for i in range(X_total_train_pca.shape[1])])\n",
    "#X_total_test = pd.DataFrame(X_total_test_pca, columns=[f'pca_{i}' for i in range(X_total_test_pca.shape[1])])\n"
   ]
  },
  {
   "cell_type": "markdown",
   "metadata": {},
   "source": [
    "Ahora kaggle"
   ]
  },
  {
   "cell_type": "code",
   "execution_count": null,
   "metadata": {},
   "outputs": [],
   "source": [
    "#scaler_final = StandardScaler()\n",
    "#X_tot_tr_final_scaled = scaler_final.fit_transform(X_tot_tr_final)\n",
    "#X_tot_te_final_scaled = scaler_final.transform(X_tot_te_final)\n",
    "\n",
    "#  PCA sin límite para evaluar varianza explicada\n",
    "#pca_temp_final = PCA(random_state=seed)\n",
    "#pca_temp_final.fit(X_tot_tr_final_scaled)\n",
    "#explained_final = np.cumsum(pca_temp_final.explained_variance_ratio_)\n",
    "\n",
    "# Mostrar varianza explicada acumulada (primeros 30 componentes)\n",
    "#print(\"Varianza explicada acumulada (primeros 30 componentes) - dataset final:\")\n",
    "#for i in range(min(30, len(explained_final))):\n",
    "#    print(f\"Componente {i+1:2d}: {explained_final[i]:.4f}\")\n",
    "\n"
   ]
  },
  {
   "cell_type": "code",
   "execution_count": null,
   "metadata": {},
   "outputs": [],
   "source": [
    "# Elegir número mínimo de componentes para explicar 95% \n",
    "#threshold = 0.95\n",
    "#n_components_final = np.argmax(explained_final >= threshold) + 1\n",
    "#print(f\"\\nPara explicar al menos el {int(threshold*100)}% de la varianza, se necesitan {n_components_final} componentes en dataset final.\")\n",
    "\n",
    "# Aplicar PCA final con número óptimo de componentes\n",
    "#pca_final = PCA(n_components=n_components_final, random_state=seed)\n",
    "#X_tot_tr_final_pca = pca_final.fit_transform(X_tot_tr_final_scaled)\n",
    "X_tot_te_final_pca = pca_final.transform(X_tot_te_final_scaled)\n",
    "\n",
    "# Convertir resultado PCA a DataFrame y reasignar los nombres originales\n",
    "#X_tot_tr_final = pd.DataFrame(X_tot_tr_final_pca, columns=[f'pca_{i}' for i in range(X_tot_tr_final_pca.shape[1])])\n",
    "#X_tot_te_final = pd.DataFrame(X_tot_te_final_pca, columns=[f'pca_{i}' for i in range(X_tot_te_final_pca.shape[1])])"
   ]
  },
  {
   "cell_type": "markdown",
   "metadata": {},
   "source": [
    " Observaciones finales\n",
    "\n",
    "Tras realizar las pruebas utilizando PCA para la reducción de dimensionalidad, se ha comprobado que los resultados obtenidos en las métricas de evaluación han sido **peores que aquellos obtenidos sin aplicar dicha reducción**.\n",
    "\n",
    "Esto sugiere que, en este caso concreto, la pérdida de información causada por la reducción de componentes no compensa la posible mejora en eficiencia o generalización.  \n",
    "Por tanto, **se recomienda no aplicar PCA** en este pipeline para conservar el máximo rendimiento del modelo.\n"
   ]
  },
  {
   "cell_type": "markdown",
   "metadata": {},
   "source": []
  },
  {
   "cell_type": "markdown",
   "metadata": {},
   "source": [
    "## 6.2 Remuestreo"
   ]
  },
  {
   "cell_type": "markdown",
   "metadata": {},
   "source": [
    "### 6.2.1 Estandarizacion"
   ]
  },
  {
   "cell_type": "markdown",
   "metadata": {},
   "source": [
    "Primero se estandarizan el conjunto para el análisis."
   ]
  },
  {
   "cell_type": "code",
   "execution_count": 211,
   "metadata": {},
   "outputs": [],
   "source": [
    "prep = ColumnTransformer([\n",
    "    ('numericas', StandardScaler(), numeric_vars)\n",
    "], remainder='passthrough').fit(X_total_train) \n",
    "\n",
    "X_scaled_train = prep.transform(X_total_train)\n",
    "X_scaled_test = prep.transform(X_total_test)"
   ]
  },
  {
   "cell_type": "markdown",
   "metadata": {},
   "source": [
    "Después el de Kaggle."
   ]
  },
  {
   "cell_type": "code",
   "execution_count": 212,
   "metadata": {},
   "outputs": [],
   "source": [
    "prep_final = ColumnTransformer([\n",
    "    ('numericas', StandardScaler(), numeric_vars)\n",
    "], remainder='passthrough').fit(X_tot_tr_final) \n",
    "\n",
    "X_scaled_tr_final = prep_final.transform(X_tot_tr_final)\n",
    "X_scaled_te_final = prep_final.transform(X_tot_te_final)"
   ]
  },
  {
   "cell_type": "markdown",
   "metadata": {},
   "source": [
    "### 6.2.2 Undersampling"
   ]
  },
  {
   "cell_type": "markdown",
   "metadata": {},
   "source": [
    "Primero se realiza un undersampling al conjunto para el análisis."
   ]
  },
  {
   "cell_type": "code",
   "execution_count": 213,
   "metadata": {},
   "outputs": [
    {
     "name": "stderr",
     "output_type": "stream",
     "text": [
      "c:\\Users\\david\\anaconda3\\Lib\\site-packages\\sklearn\\utils\\deprecation.py:151: FutureWarning: 'force_all_finite' was renamed to 'ensure_all_finite' in 1.6 and will be removed in 1.8.\n",
      "  warnings.warn(\n",
      "c:\\Users\\david\\anaconda3\\Lib\\site-packages\\sklearn\\base.py:484: FutureWarning: `BaseEstimator._check_n_features` is deprecated in 1.6 and will be removed in 1.7. Use `sklearn.utils.validation._check_n_features` instead.\n",
      "  warnings.warn(\n",
      "c:\\Users\\david\\anaconda3\\Lib\\site-packages\\sklearn\\base.py:493: FutureWarning: `BaseEstimator._check_feature_names` is deprecated in 1.6 and will be removed in 1.7. Use `sklearn.utils.validation._check_feature_names` instead.\n",
      "  warnings.warn(\n"
     ]
    }
   ],
   "source": [
    "under = RandomUnderSampler(sampling_strategy=0.7, random_state=seed)\n",
    "X_under, y_under = under.fit_resample(X_scaled_train, y_train)"
   ]
  },
  {
   "cell_type": "markdown",
   "metadata": {},
   "source": [
    "Después el de Kaggle."
   ]
  },
  {
   "cell_type": "code",
   "execution_count": 214,
   "metadata": {},
   "outputs": [
    {
     "name": "stderr",
     "output_type": "stream",
     "text": [
      "c:\\Users\\david\\anaconda3\\Lib\\site-packages\\sklearn\\utils\\deprecation.py:151: FutureWarning: 'force_all_finite' was renamed to 'ensure_all_finite' in 1.6 and will be removed in 1.8.\n",
      "  warnings.warn(\n",
      "c:\\Users\\david\\anaconda3\\Lib\\site-packages\\sklearn\\base.py:484: FutureWarning: `BaseEstimator._check_n_features` is deprecated in 1.6 and will be removed in 1.7. Use `sklearn.utils.validation._check_n_features` instead.\n",
      "  warnings.warn(\n",
      "c:\\Users\\david\\anaconda3\\Lib\\site-packages\\sklearn\\base.py:493: FutureWarning: `BaseEstimator._check_feature_names` is deprecated in 1.6 and will be removed in 1.7. Use `sklearn.utils.validation._check_feature_names` instead.\n",
      "  warnings.warn(\n"
     ]
    }
   ],
   "source": [
    "under_final = RandomUnderSampler(sampling_strategy=0.7, random_state=seed)\n",
    "X_under_final, y_under_final = under_final.fit_resample(X_scaled_tr_final, y_train_final)"
   ]
  },
  {
   "cell_type": "markdown",
   "metadata": {},
   "source": [
    "### 6.2.3 Oversampling"
   ]
  },
  {
   "cell_type": "markdown",
   "metadata": {},
   "source": [
    "Primero se realiza un oversampling al conjunto para el análisis."
   ]
  },
  {
   "cell_type": "code",
   "execution_count": 215,
   "metadata": {},
   "outputs": [
    {
     "name": "stderr",
     "output_type": "stream",
     "text": [
      "c:\\Users\\david\\anaconda3\\Lib\\site-packages\\sklearn\\base.py:474: FutureWarning: `BaseEstimator._validate_data` is deprecated in 1.6 and will be removed in 1.7. Use `sklearn.utils.validation.validate_data` instead. This function becomes public and is part of the scikit-learn developer API.\n",
      "  warnings.warn(\n"
     ]
    }
   ],
   "source": [
    "over = SMOTE(sampling_strategy=0.9, random_state=seed)\n",
    "X_resampled, y_resampled = over.fit_resample(X_under, y_under)"
   ]
  },
  {
   "cell_type": "markdown",
   "metadata": {},
   "source": [
    "Después el de Kaggle."
   ]
  },
  {
   "cell_type": "code",
   "execution_count": 216,
   "metadata": {},
   "outputs": [
    {
     "name": "stderr",
     "output_type": "stream",
     "text": [
      "c:\\Users\\david\\anaconda3\\Lib\\site-packages\\sklearn\\base.py:474: FutureWarning: `BaseEstimator._validate_data` is deprecated in 1.6 and will be removed in 1.7. Use `sklearn.utils.validation.validate_data` instead. This function becomes public and is part of the scikit-learn developer API.\n",
      "  warnings.warn(\n"
     ]
    }
   ],
   "source": [
    "over_final = SMOTE(sampling_strategy=0.9, k_neighbors=10, random_state=seed)\n",
    "X_res_final, y_res_final = over_final.fit_resample(X_under_final, y_under_final)"
   ]
  },
  {
   "cell_type": "markdown",
   "metadata": {},
   "source": [
    "# 7. Modelos seleccionados"
   ]
  },
  {
   "cell_type": "markdown",
   "metadata": {},
   "source": [
    "## 7.1 Introduccion"
   ]
  },
  {
   "cell_type": "markdown",
   "metadata": {},
   "source": [
    "En el anterior notebook se evaluaron una serie de modelos tanto por F1 score como por ROC-AUC score. Los modelos con mejores resultados para ambas categorías fueron:\n",
    "* Random Forest.\n",
    "* GradientBoosting.\n",
    "* XGBoost.\n",
    "* LogisticRegression.\n",
    "* SVC con kernel rbf.\n",
    "\n",
    "Por lo tanto nos dispondremos a probar dichos modelos a continuación."
   ]
  },
  {
   "cell_type": "markdown",
   "metadata": {},
   "source": [
    "## 7.2 Asignacion de las variables"
   ]
  },
  {
   "cell_type": "markdown",
   "metadata": {},
   "source": [
    "Asignamos las variables para el analisis en función del desarrollo del apartado del preprocesado."
   ]
  },
  {
   "cell_type": "code",
   "execution_count": 217,
   "metadata": {},
   "outputs": [],
   "source": [
    "X_model = X_resampled\n",
    "y_model = y_resampled\n",
    "\n",
    "X_model_test = X_scaled_test\n",
    "expected = y_test"
   ]
  },
  {
   "cell_type": "markdown",
   "metadata": {},
   "source": [
    "## 7.3 Clasificador Random Forest"
   ]
  },
  {
   "cell_type": "markdown",
   "metadata": {},
   "source": [
    "### 7.3.1 Definicion"
   ]
  },
  {
   "cell_type": "markdown",
   "metadata": {},
   "source": [
    "Definimos el modelo con los hiperparámetros *random_state* fijado y *class_weigth* balanceado. También se escoje *n_jobs* con valor -1 para utilizar todos los procesadores."
   ]
  },
  {
   "cell_type": "code",
   "execution_count": 218,
   "metadata": {},
   "outputs": [],
   "source": [
    "model_Forest = RandomForestClassifier(class_weight=\"balanced\", n_jobs=-1, random_state=seed)"
   ]
  },
  {
   "cell_type": "markdown",
   "metadata": {},
   "source": [
    "### 7.3.2 Entrenamiento y evaluacion"
   ]
  },
  {
   "cell_type": "markdown",
   "metadata": {},
   "source": [
    "Entrenamos el modelo y comprobamos su exactitud."
   ]
  },
  {
   "cell_type": "code",
   "execution_count": 219,
   "metadata": {},
   "outputs": [],
   "source": [
    "model_Forest.fit(X_model, y_model)\n",
    "\n",
    "predicted_Forest = model_Forest.predict(X_model_test)"
   ]
  },
  {
   "cell_type": "code",
   "execution_count": 220,
   "metadata": {},
   "outputs": [
    {
     "data": {
      "text/plain": [
       "0.6078212290502794"
      ]
     },
     "execution_count": 220,
     "metadata": {},
     "output_type": "execute_result"
    }
   ],
   "source": [
    "accuracy_score(expected, predicted_Forest)"
   ]
  },
  {
   "cell_type": "markdown",
   "metadata": {},
   "source": [
    "### 7.3.3 Null accuracy"
   ]
  },
  {
   "cell_type": "markdown",
   "metadata": {},
   "source": [
    "Ahora se va a evaluar si  el modelo siempre predice la clase más frecuente."
   ]
  },
  {
   "cell_type": "code",
   "execution_count": 221,
   "metadata": {},
   "outputs": [
    {
     "data": {
      "text/plain": [
       "1    1179\n",
       "0     611\n",
       "Name: count, dtype: int64"
      ]
     },
     "execution_count": 221,
     "metadata": {},
     "output_type": "execute_result"
    }
   ],
   "source": [
    "s_y_test = pd.Series(y_test)\n",
    "s_y_test.value_counts()"
   ]
  },
  {
   "cell_type": "code",
   "execution_count": 222,
   "metadata": {},
   "outputs": [
    {
     "data": {
      "text/plain": [
       "0.658659217877095"
      ]
     },
     "execution_count": 222,
     "metadata": {},
     "output_type": "execute_result"
    }
   ],
   "source": [
    "y_test.mean()"
   ]
  },
  {
   "cell_type": "code",
   "execution_count": 223,
   "metadata": {},
   "outputs": [
    {
     "data": {
      "text/plain": [
       "0.341340782122905"
      ]
     },
     "execution_count": 223,
     "metadata": {},
     "output_type": "execute_result"
    }
   ],
   "source": [
    "1 - y_test.mean() "
   ]
  },
  {
   "cell_type": "code",
   "execution_count": 224,
   "metadata": {},
   "outputs": [
    {
     "data": {
      "text/plain": [
       "0.658659217877095"
      ]
     },
     "execution_count": 224,
     "metadata": {},
     "output_type": "execute_result"
    }
   ],
   "source": [
    "max(y_test.mean(), 1 - y_test.mean())"
   ]
  },
  {
   "cell_type": "code",
   "execution_count": 225,
   "metadata": {},
   "outputs": [
    {
     "data": {
      "text/plain": [
       "1    0.658659\n",
       "Name: count, dtype: float64"
      ]
     },
     "execution_count": 225,
     "metadata": {},
     "output_type": "execute_result"
    }
   ],
   "source": [
    "s_y_test.value_counts().head(1) / len(y_test)"
   ]
  },
  {
   "cell_type": "markdown",
   "metadata": {},
   "source": [
    "Nuestra exactitud es de 0.626, la cual es peor que la *null accuracy*, es decir, ahora mismo no tenemos un buen modelo ya que se predecirían un mayor número de resultados en el caso de siempre predecir la clase mayoritaria."
   ]
  },
  {
   "cell_type": "markdown",
   "metadata": {},
   "source": [
    "### 7.3.4 Matriz de confusion y F-score"
   ]
  },
  {
   "cell_type": "markdown",
   "metadata": {},
   "source": [
    "Se muestra la matriz de confusión y el informe de clasificación."
   ]
  },
  {
   "cell_type": "code",
   "execution_count": 226,
   "metadata": {},
   "outputs": [
    {
     "name": "stdout",
     "output_type": "stream",
     "text": [
      "[[286 325]\n",
      " [377 802]]\n"
     ]
    }
   ],
   "source": [
    "print(confusion_matrix(expected, predicted_Forest))"
   ]
  },
  {
   "cell_type": "code",
   "execution_count": 227,
   "metadata": {},
   "outputs": [
    {
     "name": "stdout",
     "output_type": "stream",
     "text": [
      "              precision    recall  f1-score   support\n",
      "\n",
      "           0       0.43      0.47      0.45       611\n",
      "           1       0.71      0.68      0.70      1179\n",
      "\n",
      "    accuracy                           0.61      1790\n",
      "   macro avg       0.57      0.57      0.57      1790\n",
      "weighted avg       0.62      0.61      0.61      1790\n",
      "\n"
     ]
    }
   ],
   "source": [
    "print(classification_report(expected, predicted_Forest))"
   ]
  },
  {
   "cell_type": "markdown",
   "metadata": {},
   "source": [
    "Se observa que estamos identificando erroneamente los 0s ya que tenemos un f1-score del 0.74 para los 1s mientras que estamos obteniendo un 0.35 para los 0s"
   ]
  },
  {
   "cell_type": "markdown",
   "metadata": {},
   "source": [
    "### 7.3.5 ROC y AUC"
   ]
  },
  {
   "cell_type": "markdown",
   "metadata": {},
   "source": [
    "Evaluamos la ROC-AUC score. Para ello representamos primero la curva de ROC."
   ]
  },
  {
   "cell_type": "code",
   "execution_count": 228,
   "metadata": {},
   "outputs": [
    {
     "data": {
      "image/png": "[encoded data removed]",
      "text/plain": [
       "<Figure size 640x480 with 1 Axes>"
      ]
     },
     "metadata": {},
     "output_type": "display_data"
    }
   ],
   "source": [
    "y_pred_prob_Forest = model_Forest.predict_proba(X_model_test)[:,1]\n",
    "fpr, tpr, thresholds = roc_curve(expected, y_pred_prob_Forest)\n",
    "plt.plot(fpr, tpr)\n",
    "plt.xlim([0.0, 1.0])\n",
    "plt.ylim([0.0, 1.0])\n",
    "plt.title('Curva ROC')\n",
    "plt.xlabel('Ratio de FP (1 - Recall)')\n",
    "plt.ylabel('Ratio TP (Sensitivity)')\n",
    "plt.grid(True)\n",
    "plt.show()"
   ]
  },
  {
   "cell_type": "markdown",
   "metadata": {},
   "source": [
    "Y mostramos sus thresholds."
   ]
  },
  {
   "cell_type": "code",
   "execution_count": 229,
   "metadata": {},
   "outputs": [
    {
     "data": {
      "text/plain": [
       "array([ inf, 0.93, 0.92, 0.91, 0.9 , 0.87, 0.86, 0.85, 0.84, 0.83, 0.82,\n",
       "       0.81, 0.8 , 0.79, 0.78, 0.77, 0.76, 0.75, 0.74, 0.73, 0.72, 0.71,\n",
       "       0.7 , 0.69, 0.68, 0.67, 0.66, 0.65, 0.64, 0.63, 0.62, 0.61, 0.6 ,\n",
       "       0.59, 0.58, 0.57, 0.56, 0.55, 0.54, 0.53, 0.52, 0.51, 0.5 , 0.49,\n",
       "       0.48, 0.47, 0.46, 0.45, 0.44, 0.43, 0.42, 0.41, 0.4 , 0.39, 0.38,\n",
       "       0.37, 0.36, 0.35, 0.34, 0.33, 0.32, 0.31, 0.29, 0.28, 0.27, 0.26,\n",
       "       0.24, 0.23, 0.21, 0.2 , 0.15])"
      ]
     },
     "execution_count": 229,
     "metadata": {},
     "output_type": "execute_result"
    }
   ],
   "source": [
    "thresholds"
   ]
  },
  {
   "cell_type": "markdown",
   "metadata": {},
   "source": [
    "Como se observa el resultado no es bueno ya que estamos obteniendo practicamente una recta en vez de una curva en forma de 'L' invertida."
   ]
  },
  {
   "cell_type": "markdown",
   "metadata": {},
   "source": [
    "La siguiente gráfica muestra las probabilidades de predicción en función de los umbrales."
   ]
  },
  {
   "cell_type": "code",
   "execution_count": 230,
   "metadata": {},
   "outputs": [
    {
     "data": {
      "text/plain": [
       "array([<Axes: title={'center': '0'}>, <Axes: title={'center': '1'}>],\n",
       "      dtype=object)"
      ]
     },
     "execution_count": 230,
     "metadata": {},
     "output_type": "execute_result"
    },
    {
     "data": {
      "image/png": "[encoded data removed]",
      "text/plain": [
       "<Figure size 640x480 with 2 Axes>"
      ]
     },
     "metadata": {},
     "output_type": "display_data"
    }
   ],
   "source": [
    "dprob = pd.DataFrame(data = {'probability':y_pred_prob_Forest, 'actual':y_test})\n",
    "dprob.probability.hist(by=dprob.actual, sharex=True, sharey=True)"
   ]
  },
  {
   "cell_type": "markdown",
   "metadata": {},
   "source": [
    "Se muestra que los mejores resultados para ambas clases se obtiene con el *threshold* igual a 0.5 aproximandamente (es decir, el valor por defecto)."
   ]
  },
  {
   "cell_type": "code",
   "execution_count": 231,
   "metadata": {},
   "outputs": [
    {
     "name": "stdout",
     "output_type": "stream",
     "text": [
      "Sensitivity: 0.6802374893977947\n",
      "Recall: 0.46808510638297873\n"
     ]
    }
   ],
   "source": [
    "best_thres_Random = 0.5\n",
    "\n",
    "evaluate_threshold(best_thres_Random)"
   ]
  },
  {
   "cell_type": "markdown",
   "metadata": {},
   "source": [
    "Con este valor se obtienen los siguientes resultados. Primero se recalculan las predicciones."
   ]
  },
  {
   "cell_type": "code",
   "execution_count": 232,
   "metadata": {},
   "outputs": [],
   "source": [
    "probs_Forest = model_Forest.predict_proba(X_model_test)[:, 1]  \n",
    "pred_thres_Forest = (probs_Forest >= best_thres_Random).astype(int) "
   ]
  },
  {
   "cell_type": "markdown",
   "metadata": {},
   "source": [
    "Se evalua la matriz de confusión."
   ]
  },
  {
   "cell_type": "code",
   "execution_count": 233,
   "metadata": {},
   "outputs": [
    {
     "name": "stdout",
     "output_type": "stream",
     "text": [
      "[[267 344]\n",
      " [337 842]]\n"
     ]
    }
   ],
   "source": [
    "print(confusion_matrix(expected, pred_thres_Forest))"
   ]
  },
  {
   "cell_type": "markdown",
   "metadata": {},
   "source": [
    "Y también se analiza el informe de la clasificación."
   ]
  },
  {
   "cell_type": "code",
   "execution_count": 234,
   "metadata": {},
   "outputs": [
    {
     "name": "stdout",
     "output_type": "stream",
     "text": [
      "              precision    recall  f1-score   support\n",
      "\n",
      "           0       0.44      0.44      0.44       611\n",
      "           1       0.71      0.71      0.71      1179\n",
      "\n",
      "    accuracy                           0.62      1790\n",
      "   macro avg       0.58      0.58      0.58      1790\n",
      "weighted avg       0.62      0.62      0.62      1790\n",
      "\n"
     ]
    }
   ],
   "source": [
    "print(classification_report(expected, pred_thres_Forest))"
   ]
  },
  {
   "cell_type": "markdown",
   "metadata": {},
   "source": [
    "Obviamente son los mismos, ya que no estamos modificando el umbral realmente."
   ]
  },
  {
   "cell_type": "markdown",
   "metadata": {},
   "source": [
    "Finalmente se calcula el valor de AUC."
   ]
  },
  {
   "cell_type": "code",
   "execution_count": 235,
   "metadata": {},
   "outputs": [
    {
     "name": "stdout",
     "output_type": "stream",
     "text": [
      "0.5741612978903867\n"
     ]
    }
   ],
   "source": [
    "print(roc_auc_score(expected, predicted_Forest))"
   ]
  },
  {
   "cell_type": "markdown",
   "metadata": {},
   "source": [
    "Se ha obtenido un valor entre 0.5 y 0.6, es decir, el modelo se considerá como fallido o *F*."
   ]
  },
  {
   "cell_type": "markdown",
   "metadata": {},
   "source": [
    "### 7.3.6 Optimizacion"
   ]
  },
  {
   "cell_type": "markdown",
   "metadata": {},
   "source": [
    "Antes de nada, observamos cuales son los parámetros de nuestro modelo."
   ]
  },
  {
   "cell_type": "code",
   "execution_count": 236,
   "metadata": {},
   "outputs": [
    {
     "data": {
      "text/plain": [
       "{'bootstrap': True,\n",
       " 'ccp_alpha': 0.0,\n",
       " 'class_weight': 'balanced',\n",
       " 'criterion': 'gini',\n",
       " 'max_depth': None,\n",
       " 'max_features': 'sqrt',\n",
       " 'max_leaf_nodes': None,\n",
       " 'max_samples': None,\n",
       " 'min_impurity_decrease': 0.0,\n",
       " 'min_samples_leaf': 1,\n",
       " 'min_samples_split': 2,\n",
       " 'min_weight_fraction_leaf': 0.0,\n",
       " 'monotonic_cst': None,\n",
       " 'n_estimators': 100,\n",
       " 'n_jobs': -1,\n",
       " 'oob_score': False,\n",
       " 'random_state': 42,\n",
       " 'verbose': 0,\n",
       " 'warm_start': False}"
      ]
     },
     "execution_count": 236,
     "metadata": {},
     "output_type": "execute_result"
    }
   ],
   "source": [
    "model_Forest.get_params()"
   ]
  },
  {
   "cell_type": "markdown",
   "metadata": {},
   "source": [
    "También creemos que es interesante saber la profundidad media de nuestro modelo Random Forest, para así poder estimar mejor rango de valores en este apartado."
   ]
  },
  {
   "cell_type": "code",
   "execution_count": 237,
   "metadata": {},
   "outputs": [
    {
     "name": "stdout",
     "output_type": "stream",
     "text": [
      "Profundidad media de los árboles: 29.56\n"
     ]
    }
   ],
   "source": [
    "arboles_decision = model_Forest.estimators_\n",
    "\n",
    "profundidades = [arbol.tree_.max_depth for arbol in arboles_decision]\n",
    "profundidad_media = np.mean(profundidades)\n",
    "\n",
    "print(f\"Profundidad media de los árboles: {profundidad_media}\")"
   ]
  },
  {
   "cell_type": "markdown",
   "metadata": {},
   "source": [
    "Ahora seleccionamos los hiperparámetros a evaluar mediante un GridSearchCV. Además, se ha añadido la librería *time* para saber el tiempo que tardo en realizar la busqueda de mejores parámetros.\n",
    "\n",
    "Estos hiperparámetros son:\n",
    "* ***n_estimator***: número de árboles.\n",
    "* ***max_depth***: máxima profundidad de cada árbol.\n",
    "* ***min_samples_split***: número de muestras mínimas para dividir un nodo interno.\n",
    "* ***min_samples_leaf***: número de muestras mínimas de un nodo hoja.\n",
    "* ***max_features***: número de características a tener en cuenta a la hora de buscar la mejor división.\n",
    "* ***class_weight***: pesos asignados a las clases."
   ]
  },
  {
   "cell_type": "raw",
   "metadata": {
    "vscode": {
     "languageId": "plaintext"
    }
   },
   "source": [
    "optm_Forest = RandomForestClassifier(n_jobs=-1, random_state=seed)\n",
    "\n",
    "param_grid = {\n",
    "    'n_estimators': [200, 250, 300],\n",
    "    'max_depth': [25, 35],\n",
    "    'min_samples_split': [2, 5],\n",
    "    'min_samples_leaf': [2, 4],\n",
    "    'max_features': [14, 20, 30, 50],\n",
    "    'class_weight': ['balanced', 'balanced_subsample']\n",
    "}\n",
    "\n",
    "grid_search = GridSearchCV(optm_Forest, param_grid=param_grid, cv=3, scoring=make_scorer(f1_score, average='weighted'), n_jobs=-1)\n",
    "\n",
    "inicio = time.time()\n",
    "grid_search.fit(X_model, y_model)\n",
    "fin = time.time()"
   ]
  },
  {
   "cell_type": "markdown",
   "metadata": {},
   "source": [
    "Se calcula el tiempo que ha tardado en minutos."
   ]
  },
  {
   "cell_type": "raw",
   "metadata": {},
   "source": [
    "tiempo_total = (fin - inicio) / 60\n",
    "print(f\"La celda tardó {tiempo_total} minutos en ejecutarse.\")"
   ]
  },
  {
   "cell_type": "markdown",
   "metadata": {},
   "source": [
    "Se escoge el mejor parámetro y su  precisión asociada."
   ]
  },
  {
   "cell_type": "raw",
   "metadata": {
    "vscode": {
     "languageId": "plaintext"
    }
   },
   "source": [
    "print(\"Mejores parámetros: \", grid_search.best_params_)\n",
    "print(\"Mejor score: \", grid_search.best_score_)"
   ]
  },
  {
   "cell_type": "markdown",
   "metadata": {},
   "source": [
    "Observamos los mejores 10 casos para analizar varias posibilidades."
   ]
  },
  {
   "cell_type": "raw",
   "metadata": {},
   "source": [
    "results_df = pd.DataFrame(grid_search.cv_results_)"
   ]
  },
  {
   "cell_type": "raw",
   "metadata": {},
   "source": [
    "top_10_models = results_df.nlargest(10, \"mean_test_score\")\n",
    "\n",
    "print(\"\\nLos 10 mejores modelos:\")\n",
    "for index, row in top_10_models.iterrows():\n",
    "    print(\"\\nModelo:\")\n",
    "    print(f\"Parámetros: {row['params']}\")\n",
    "    print(f\"Puntuación media de prueba: {row['mean_test_score']}\")"
   ]
  },
  {
   "cell_type": "markdown",
   "metadata": {},
   "source": [
    "### 7.3.7 Entrenamiento y evaluacion con hiperparametros optimizados"
   ]
  },
  {
   "cell_type": "markdown",
   "metadata": {},
   "source": [
    "#### - Definicion"
   ]
  },
  {
   "cell_type": "markdown",
   "metadata": {},
   "source": [
    "Definimos los mejores parámetros (no se define con *grid_search.best_params_* para probar varias opciones de forma sencilla)."
   ]
  },
  {
   "cell_type": "code",
   "execution_count": 238,
   "metadata": {},
   "outputs": [],
   "source": [
    "params_final_Forest = {\n",
    "    'class_weight': 'balanced',\n",
    "    'max_depth': 20,\n",
    "    'max_features': 20,\n",
    "    'min_samples_leaf': 2,\n",
    "    'min_samples_split': 2,\n",
    "    'n_estimators': 200,\n",
    "    'n_jobs': -1,\n",
    "    'random_state': seed\n",
    "}\n"
   ]
  },
  {
   "cell_type": "markdown",
   "metadata": {},
   "source": [
    "Definimos el modelo desagregando el diccionario."
   ]
  },
  {
   "cell_type": "code",
   "execution_count": 239,
   "metadata": {},
   "outputs": [],
   "source": [
    "final_Forest = RandomForestClassifier(**params_final_Forest)"
   ]
  },
  {
   "cell_type": "markdown",
   "metadata": {},
   "source": [
    "#### - Entrenamiento y evaluacion"
   ]
  },
  {
   "cell_type": "markdown",
   "metadata": {},
   "source": [
    "Entrenamos el modelo y comprobamos su exactitud."
   ]
  },
  {
   "cell_type": "code",
   "execution_count": 240,
   "metadata": {},
   "outputs": [],
   "source": [
    "final_Forest.fit(X_model, y_model)\n",
    "\n",
    "predicted_For_opt = final_Forest.predict(X_model_test)"
   ]
  },
  {
   "cell_type": "code",
   "execution_count": 241,
   "metadata": {},
   "outputs": [
    {
     "data": {
      "text/plain": [
       "0.6039106145251396"
      ]
     },
     "execution_count": 241,
     "metadata": {},
     "output_type": "execute_result"
    }
   ],
   "source": [
    "accuracy_score(expected, predicted_For_opt)"
   ]
  },
  {
   "cell_type": "markdown",
   "metadata": {},
   "source": [
    "#### - Null accuracy"
   ]
  },
  {
   "cell_type": "markdown",
   "metadata": {},
   "source": [
    "La accuracy es similar a la anterior. Además, sigue siendo peor que la *null accuracy*."
   ]
  },
  {
   "cell_type": "markdown",
   "metadata": {},
   "source": [
    "#### - Matriz de confusion y F-score"
   ]
  },
  {
   "cell_type": "markdown",
   "metadata": {},
   "source": [
    "La matriz de confusión y el informe de clasificación también es muy similar."
   ]
  },
  {
   "cell_type": "code",
   "execution_count": 242,
   "metadata": {},
   "outputs": [
    {
     "name": "stdout",
     "output_type": "stream",
     "text": [
      "[[289 322]\n",
      " [387 792]]\n"
     ]
    }
   ],
   "source": [
    "print(confusion_matrix(expected, predicted_For_opt))"
   ]
  },
  {
   "cell_type": "code",
   "execution_count": 243,
   "metadata": {},
   "outputs": [
    {
     "name": "stdout",
     "output_type": "stream",
     "text": [
      "              precision    recall  f1-score   support\n",
      "\n",
      "           0       0.43      0.47      0.45       611\n",
      "           1       0.71      0.67      0.69      1179\n",
      "\n",
      "    accuracy                           0.60      1790\n",
      "   macro avg       0.57      0.57      0.57      1790\n",
      "weighted avg       0.61      0.60      0.61      1790\n",
      "\n"
     ]
    }
   ],
   "source": [
    "print(classification_report(expected, predicted_For_opt))"
   ]
  },
  {
   "cell_type": "markdown",
   "metadata": {},
   "source": [
    "#### - ROC y AUC"
   ]
  },
  {
   "cell_type": "markdown",
   "metadata": {},
   "source": [
    "Se calcula el ROC y se reajusta el umbral de probabilidad."
   ]
  },
  {
   "cell_type": "code",
   "execution_count": 244,
   "metadata": {},
   "outputs": [
    {
     "data": {
      "image/png": "[encoded data removed]",
      "text/plain": [
       "<Figure size 640x480 with 1 Axes>"
      ]
     },
     "metadata": {},
     "output_type": "display_data"
    }
   ],
   "source": [
    "y_pred_prob_Forest = final_Forest.predict_proba(X_model_test)[:,1]\n",
    "fpr, tpr, thresholds = roc_curve(y_test, y_pred_prob_Forest)\n",
    "plt.plot(fpr, tpr)\n",
    "plt.xlim([0.0, 1.0])\n",
    "plt.ylim([0.0, 1.0])\n",
    "plt.title('Curva ROC')\n",
    "plt.xlabel('Ratio de FP (1 - Recall)')\n",
    "plt.ylabel('Ratio TP (Sensitivity)')\n",
    "plt.grid(True)\n",
    "plt.show()"
   ]
  },
  {
   "cell_type": "code",
   "execution_count": 245,
   "metadata": {},
   "outputs": [
    {
     "data": {
      "text/plain": [
       "array([       inf, 0.91557747, 0.87696142, 0.87493127, 0.86871108,\n",
       "       0.8635016 , 0.85944643, 0.85865895, 0.84819084, 0.84578576,\n",
       "       0.84339537, 0.83788728, 0.83757773, 0.83753485, 0.83026726,\n",
       "       0.8299106 , 0.82264793, 0.81894995, 0.81799368, 0.81534282,\n",
       "       0.80944912, 0.80814707, 0.80343437, 0.80299939, 0.79899214,\n",
       "       0.79786643, 0.79204021, 0.79039368, 0.78917037, 0.78900097,\n",
       "       0.78742051, 0.78722598, 0.78596654, 0.78436974, 0.77773503,\n",
       "       0.77599656, 0.77374819, 0.77320692, 0.77173498, 0.7711809 ,\n",
       "       0.76341326, 0.76288431, 0.75861985, 0.75779957, 0.75771193,\n",
       "       0.7561509 , 0.75465015, 0.75462892, 0.75326438, 0.75240373,\n",
       "       0.75140547, 0.75072785, 0.7504045 , 0.75036907, 0.7502836 ,\n",
       "       0.74824655, 0.74312715, 0.74206889, 0.74168294, 0.74149076,\n",
       "       0.73667898, 0.73639089, 0.73586109, 0.7348663 , 0.73450388,\n",
       "       0.73407929, 0.72754011, 0.72669144, 0.72501093, 0.72432929,\n",
       "       0.72326767, 0.72281605, 0.72281022, 0.72254179, 0.71667761,\n",
       "       0.71661901, 0.71472092, 0.71437422, 0.71411374, 0.71272049,\n",
       "       0.70941023, 0.70934653, 0.70726722, 0.7072149 , 0.70631527,\n",
       "       0.70603012, 0.70054099, 0.6995953 , 0.69727451, 0.69674561,\n",
       "       0.69122725, 0.69085286, 0.68777332, 0.6877467 , 0.68526065,\n",
       "       0.68464826, 0.68260912, 0.68217474, 0.68136082, 0.6807549 ,\n",
       "       0.67882706, 0.67838997, 0.67733502, 0.67691211, 0.67413241,\n",
       "       0.67364469, 0.67253763, 0.67006946, 0.66918861, 0.66787171,\n",
       "       0.6676086 , 0.66681396, 0.66644458, 0.66620676, 0.66488685,\n",
       "       0.66420975, 0.66346996, 0.66345607, 0.66337383, 0.66313422,\n",
       "       0.66163717, 0.66157783, 0.66042906, 0.65907787, 0.65623826,\n",
       "       0.65623038, 0.65490563, 0.65473861, 0.65454892, 0.65413742,\n",
       "       0.65331444, 0.65331425, 0.65242126, 0.65205801, 0.65165164,\n",
       "       0.6507688 , 0.65006527, 0.6500125 , 0.6488506 , 0.64848121,\n",
       "       0.64824922, 0.64808396, 0.64423058, 0.64404455, 0.64364297,\n",
       "       0.64305743, 0.64293285, 0.6425758 , 0.64072141, 0.64052741,\n",
       "       0.64006662, 0.6394492 , 0.63843675, 0.63804208, 0.63788085,\n",
       "       0.63763997, 0.63761355, 0.63729103, 0.63705215, 0.63685337,\n",
       "       0.63650392, 0.63644419, 0.63404721, 0.63366536, 0.63328814,\n",
       "       0.63266801, 0.6303841 , 0.63021316, 0.62932533, 0.62913651,\n",
       "       0.62893925, 0.6286863 , 0.62817616, 0.62804216, 0.6275795 ,\n",
       "       0.6272133 , 0.62699219, 0.6266128 , 0.62605183, 0.62600642,\n",
       "       0.62582643, 0.62580341, 0.6257713 , 0.62574341, 0.624511  ,\n",
       "       0.6240128 , 0.62395949, 0.62297864, 0.62077971, 0.62030238,\n",
       "       0.61849384, 0.61848412, 0.61811354, 0.61723475, 0.61639814,\n",
       "       0.61613613, 0.61562522, 0.61499025, 0.61329359, 0.6130016 ,\n",
       "       0.61232063, 0.61207   , 0.61204718, 0.6120245 , 0.61017349,\n",
       "       0.60986245, 0.60940162, 0.60868542, 0.60781463, 0.60762214,\n",
       "       0.60729105, 0.6069113 , 0.60637592, 0.60555845, 0.60536291,\n",
       "       0.60493398, 0.60447001, 0.60437445, 0.60397306, 0.60381246,\n",
       "       0.60322601, 0.60306942, 0.60300168, 0.602904  , 0.6026891 ,\n",
       "       0.60222299, 0.60142786, 0.60138739, 0.60106822, 0.60092774,\n",
       "       0.60059324, 0.60019413, 0.59997798, 0.5993825 , 0.59776374,\n",
       "       0.59738095, 0.59674002, 0.59661192, 0.59653269, 0.59634803,\n",
       "       0.59583373, 0.59572678, 0.59537876, 0.59537441, 0.59466432,\n",
       "       0.5946303 , 0.5939768 , 0.59374492, 0.59347759, 0.59329123,\n",
       "       0.59326587, 0.59232972, 0.59165861, 0.59164461, 0.58916431,\n",
       "       0.5886529 , 0.58846823, 0.58843163, 0.58806862, 0.58752045,\n",
       "       0.58750998, 0.58725581, 0.58574425, 0.58472154, 0.58419652,\n",
       "       0.58396934, 0.58305214, 0.58284898, 0.58279741, 0.58271762,\n",
       "       0.58255472, 0.58186383, 0.58082553, 0.58073137, 0.58003201,\n",
       "       0.58003185, 0.57852255, 0.57846704, 0.57812455, 0.5779464 ,\n",
       "       0.5771015 , 0.57708965, 0.576057  , 0.57590398, 0.57551209,\n",
       "       0.57533707, 0.57445737, 0.57416158, 0.57412012, 0.57369448,\n",
       "       0.57281391, 0.57216454, 0.57210939, 0.57201237, 0.57028837,\n",
       "       0.56953681, 0.56936662, 0.56934367, 0.56716389, 0.567158  ,\n",
       "       0.56699001, 0.56663471, 0.56625181, 0.56587947, 0.56561144,\n",
       "       0.56548265, 0.56534718, 0.56489936, 0.5645625 , 0.56454526,\n",
       "       0.56450076, 0.56440908, 0.56264778, 0.56263724, 0.56113385,\n",
       "       0.56030506, 0.55972028, 0.55946682, 0.55890655, 0.55862628,\n",
       "       0.55733863, 0.55676857, 0.55671929, 0.55625826, 0.55608594,\n",
       "       0.55577203, 0.55476087, 0.55466655, 0.55448507, 0.55341971,\n",
       "       0.5532654 , 0.55326236, 0.55321387, 0.55281259, 0.55250893,\n",
       "       0.55232497, 0.55215052, 0.55196521, 0.55173877, 0.55082946,\n",
       "       0.55055214, 0.55048973, 0.55004523, 0.54988211, 0.54854917,\n",
       "       0.54842465, 0.5481468 , 0.54799434, 0.5477722 , 0.54764991,\n",
       "       0.54754791, 0.5472259 , 0.54702524, 0.54695275, 0.54691578,\n",
       "       0.54623591, 0.54501629, 0.54477659, 0.54404259, 0.54388752,\n",
       "       0.54290515, 0.54262676, 0.54207508, 0.54188768, 0.54104925,\n",
       "       0.54103093, 0.53996654, 0.53936422, 0.53870479, 0.53868658,\n",
       "       0.53828095, 0.53809576, 0.53570822, 0.53526594, 0.53397304,\n",
       "       0.53391413, 0.53382349, 0.53375798, 0.53152671, 0.53140237,\n",
       "       0.53132035, 0.53084335, 0.53028762, 0.5299715 , 0.52978423,\n",
       "       0.52960978, 0.5286425 , 0.52770846, 0.52587423, 0.52578362,\n",
       "       0.52469144, 0.52437902, 0.52436578, 0.52432444, 0.52360087,\n",
       "       0.52340793, 0.52295963, 0.52252099, 0.52219729, 0.52176501,\n",
       "       0.52160029, 0.52145548, 0.52092937, 0.52038167, 0.51975117,\n",
       "       0.5189704 , 0.51756209, 0.5167342 , 0.51667377, 0.51657399,\n",
       "       0.51657206, 0.51650506, 0.51612868, 0.51588705, 0.51408171,\n",
       "       0.51381566, 0.51381302, 0.51313829, 0.51284709, 0.51276941,\n",
       "       0.51183662, 0.5118329 , 0.51121201, 0.51119691, 0.51053632,\n",
       "       0.51051507, 0.509366  , 0.50934276, 0.50885283, 0.50850299,\n",
       "       0.50810211, 0.50736348, 0.50660835, 0.50618728, 0.50428722,\n",
       "       0.50367008, 0.50309043, 0.50292555, 0.50288821, 0.50184441,\n",
       "       0.49959775, 0.49951818, 0.49943096, 0.49879718, 0.49776986,\n",
       "       0.49716602, 0.49707003, 0.49701921, 0.4958989 , 0.49474962,\n",
       "       0.49465501, 0.49458739, 0.49342753, 0.49305701, 0.49275655,\n",
       "       0.49266692, 0.49255602, 0.49247402, 0.49190678, 0.49143405,\n",
       "       0.49112971, 0.49094227, 0.49010917, 0.49003298, 0.48950805,\n",
       "       0.48950086, 0.48940201, 0.489362  , 0.48923937, 0.48903087,\n",
       "       0.48868803, 0.48863066, 0.48788507, 0.48764972, 0.48734891,\n",
       "       0.48628395, 0.48595675, 0.4853703 , 0.48412936, 0.4829419 ,\n",
       "       0.48200287, 0.48142239, 0.48134136, 0.48111607, 0.48104277,\n",
       "       0.48053335, 0.48026696, 0.48000592, 0.47969195, 0.47954115,\n",
       "       0.47931309, 0.47930881, 0.47827489, 0.47816721, 0.4779195 ,\n",
       "       0.47789395, 0.47766301, 0.47720556, 0.47689473, 0.47635841,\n",
       "       0.47612412, 0.47599159, 0.47544792, 0.47484927, 0.47472109,\n",
       "       0.47409513, 0.47401458, 0.4737824 , 0.47372085, 0.47349918,\n",
       "       0.47343469, 0.47313346, 0.47311616, 0.4731012 , 0.47263504,\n",
       "       0.47234904, 0.47199745, 0.471701  , 0.47168488, 0.4714372 ,\n",
       "       0.47141327, 0.47104228, 0.47080666, 0.47077971, 0.47059652,\n",
       "       0.47037998, 0.46921701, 0.46918322, 0.468445  , 0.46837216,\n",
       "       0.46823294, 0.46804517, 0.46771905, 0.46758546, 0.46747346,\n",
       "       0.46730104, 0.46660701, 0.46655486, 0.46594802, 0.4658479 ,\n",
       "       0.46498022, 0.46495703, 0.46446447, 0.46423281, 0.46415605,\n",
       "       0.46411564, 0.46244038, 0.462423  , 0.46152778, 0.46150616,\n",
       "       0.46144423, 0.46133902, 0.46128266, 0.46082713, 0.4608023 ,\n",
       "       0.45995905, 0.45985712, 0.45908973, 0.45878524, 0.45854525,\n",
       "       0.45828515, 0.45750835, 0.45750627, 0.45744804, 0.45718577,\n",
       "       0.45694931, 0.45657372, 0.4558117 , 0.45576186, 0.45466527,\n",
       "       0.45434023, 0.45413653, 0.45408365, 0.45367702, 0.45305617,\n",
       "       0.45296228, 0.45268917, 0.45258997, 0.45211347, 0.45156133,\n",
       "       0.45153268, 0.45100499, 0.45073051, 0.44980261, 0.44896627,\n",
       "       0.44875489, 0.44724822, 0.44710935, 0.44682923, 0.44614386,\n",
       "       0.44397413, 0.44370194, 0.44316418, 0.44290671, 0.44278685,\n",
       "       0.44273921, 0.44270299, 0.44268969, 0.44195363, 0.44081746,\n",
       "       0.43937647, 0.43877792, 0.43874851, 0.43873742, 0.43852795,\n",
       "       0.43846026, 0.43766589, 0.43763108, 0.43743539, 0.43722205,\n",
       "       0.43514284, 0.43498264, 0.43423667, 0.4336443 , 0.43250063,\n",
       "       0.43222335, 0.43174854, 0.43144804, 0.431283  , 0.43115305,\n",
       "       0.42907882, 0.42845729, 0.4281633 , 0.42791323, 0.42765093,\n",
       "       0.42748689, 0.42722384, 0.4262735 , 0.4259065 , 0.42587159,\n",
       "       0.42583519, 0.42574393, 0.42562481, 0.42427531, 0.42363923,\n",
       "       0.42258646, 0.42144031, 0.42072342, 0.42043171, 0.42005429,\n",
       "       0.41940074, 0.41742474, 0.41674323, 0.41648843, 0.41583875,\n",
       "       0.41544923, 0.41458564, 0.41413247, 0.4127054 , 0.41192979,\n",
       "       0.41114904, 0.41101067, 0.40803487, 0.40748115, 0.40678959,\n",
       "       0.40485276, 0.4046404 , 0.40448251, 0.4041238 , 0.40407402,\n",
       "       0.40399769, 0.40338461, 0.40330569, 0.40325312, 0.40251505,\n",
       "       0.40241987, 0.40230979, 0.40224031, 0.40222067, 0.40093808,\n",
       "       0.40056059, 0.39982055, 0.3994929 , 0.39924921, 0.39868042,\n",
       "       0.3983172 , 0.39756339, 0.39751087, 0.3957195 , 0.39480819,\n",
       "       0.39348892, 0.39342455, 0.39334619, 0.39317916, 0.39309065,\n",
       "       0.39255177, 0.39171731, 0.39038515, 0.39003597, 0.38935175,\n",
       "       0.38915508, 0.38854151, 0.38771634, 0.38763406, 0.38756589,\n",
       "       0.38729611, 0.38584951, 0.38563206, 0.38267516, 0.38234075,\n",
       "       0.38147762, 0.38063644, 0.380088  , 0.38003185, 0.37996567,\n",
       "       0.37982396, 0.37967326, 0.37856753, 0.37753214, 0.37684178,\n",
       "       0.37558546, 0.37514639, 0.37511193, 0.37378943, 0.37330799,\n",
       "       0.37242913, 0.37219826, 0.37215323, 0.36952558, 0.36944158,\n",
       "       0.36713893, 0.36659344, 0.36658357, 0.36354508, 0.36279082,\n",
       "       0.36252649, 0.36155527, 0.35891844, 0.35486159, 0.35363928,\n",
       "       0.35334852, 0.35138125, 0.35002627, 0.34954294, 0.34853372,\n",
       "       0.34811513, 0.34712064, 0.34711779, 0.34686604, 0.3468381 ,\n",
       "       0.3466912 , 0.34664858, 0.34560461, 0.34300127, 0.3428354 ,\n",
       "       0.34278596, 0.34226235, 0.33917804, 0.33876918, 0.33622135,\n",
       "       0.33407924, 0.33386936, 0.33345289, 0.33031735, 0.32984956,\n",
       "       0.32908362, 0.32384302, 0.32231598, 0.32144709, 0.32085738,\n",
       "       0.31960043, 0.31912395, 0.31835239, 0.31550331, 0.31066867,\n",
       "       0.309749  , 0.30670209, 0.30205093, 0.29991529, 0.29977307,\n",
       "       0.29956541, 0.2973365 , 0.2886505 , 0.26503887, 0.26286894,\n",
       "       0.25883015, 0.25879477, 0.25588261, 0.24988981, 0.24610085,\n",
       "       0.23991156, 0.22779441, 0.22537216, 0.19121635, 0.18879065,\n",
       "       0.13582673])"
      ]
     },
     "execution_count": 245,
     "metadata": {},
     "output_type": "execute_result"
    }
   ],
   "source": [
    "thresholds"
   ]
  },
  {
   "cell_type": "code",
   "execution_count": 246,
   "metadata": {},
   "outputs": [
    {
     "data": {
      "text/plain": [
       "array([<Axes: title={'center': '0'}>, <Axes: title={'center': '1'}>],\n",
       "      dtype=object)"
      ]
     },
     "execution_count": 246,
     "metadata": {},
     "output_type": "execute_result"
    },
    {
     "data": {
      "image/png": "[encoded data removed]",
      "text/plain": [
       "<Figure size 640x480 with 2 Axes>"
      ]
     },
     "metadata": {},
     "output_type": "display_data"
    }
   ],
   "source": [
    "dprob = pd.DataFrame(data = {'probability':y_pred_prob_Forest, 'actual':y_test})\n",
    "dprob.probability.hist(by=dprob.actual, sharex=True, sharey=True)"
   ]
  },
  {
   "cell_type": "code",
   "execution_count": 247,
   "metadata": {},
   "outputs": [
    {
     "name": "stdout",
     "output_type": "stream",
     "text": [
      "Sensitivity: 0.6700593723494487\n",
      "Recall: 0.47299509001636664\n"
     ]
    }
   ],
   "source": [
    "op_thres_Random = 0.5\n",
    "\n",
    "evaluate_threshold(op_thres_Random)"
   ]
  },
  {
   "cell_type": "code",
   "execution_count": 248,
   "metadata": {},
   "outputs": [],
   "source": [
    "probs_For_opt = final_Forest.predict_proba(X_model_test)[:, 1]  \n",
    "pred_thres_For_opt = (probs_For_opt >= op_thres_Random).astype(int) "
   ]
  },
  {
   "cell_type": "code",
   "execution_count": 249,
   "metadata": {},
   "outputs": [
    {
     "name": "stdout",
     "output_type": "stream",
     "text": [
      "[[289 322]\n",
      " [387 792]]\n"
     ]
    }
   ],
   "source": [
    "print(confusion_matrix(expected, pred_thres_For_opt))"
   ]
  },
  {
   "cell_type": "code",
   "execution_count": 250,
   "metadata": {},
   "outputs": [
    {
     "name": "stdout",
     "output_type": "stream",
     "text": [
      "              precision    recall  f1-score   support\n",
      "\n",
      "           0       0.43      0.47      0.45       611\n",
      "           1       0.71      0.67      0.69      1179\n",
      "\n",
      "    accuracy                           0.60      1790\n",
      "   macro avg       0.57      0.57      0.57      1790\n",
      "weighted avg       0.61      0.60      0.61      1790\n",
      "\n"
     ]
    }
   ],
   "source": [
    "print(classification_report(expected, pred_thres_For_opt))"
   ]
  },
  {
   "cell_type": "markdown",
   "metadata": {},
   "source": [
    "Se obtienen los mismos resultados porque sigue siendo el mejor caso con umbral igual a 0,5."
   ]
  },
  {
   "cell_type": "markdown",
   "metadata": {},
   "source": [
    "Se calcula la AUC score."
   ]
  },
  {
   "cell_type": "code",
   "execution_count": 251,
   "metadata": {},
   "outputs": [
    {
     "name": "stdout",
     "output_type": "stream",
     "text": [
      "0.5723754076036032\n"
     ]
    }
   ],
   "source": [
    "print(roc_auc_score(expected, predicted_For_opt))"
   ]
  },
  {
   "cell_type": "markdown",
   "metadata": {},
   "source": [
    "También ha tenido una pequeña mejora, pero sigue en el mismo intervalo. Es decir, sigue siendo un modelo *F*."
   ]
  },
  {
   "cell_type": "markdown",
   "metadata": {},
   "source": [
    "### 7.3.8 Conclusiones del modelo"
   ]
  },
  {
   "cell_type": "markdown",
   "metadata": {},
   "source": [
    "Tal y como esta el modelo no se estan obteniendo buenos resultados debido a la escasez de entradas y la gran cantidad de dimensiones que presenta el dataset. Estamos obteniendo prácticamente los mismos resultados que si decidieramos clasificar al azar."
   ]
  },
  {
   "cell_type": "markdown",
   "metadata": {},
   "source": [
    "## 7.4 Clasificador XGBoost"
   ]
  },
  {
   "cell_type": "markdown",
   "metadata": {},
   "source": [
    "### 7.4.1 Definicion"
   ]
  },
  {
   "cell_type": "markdown",
   "metadata": {},
   "source": [
    "Definimos el modelo con los hiperparámetros *random_state* fijado y *class_weigth* balanceado. También se escoje *n_jobs* con valor -1 para utilizar todos los procesadores."
   ]
  },
  {
   "cell_type": "code",
   "execution_count": 252,
   "metadata": {},
   "outputs": [],
   "source": [
    "model_XG = XGBClassifier(objective='binary:logistic', eval_metric='logloss', random_state=seed)"
   ]
  },
  {
   "cell_type": "markdown",
   "metadata": {},
   "source": [
    "### 7.4.2 Entrenamiento y evaluacion"
   ]
  },
  {
   "cell_type": "markdown",
   "metadata": {},
   "source": [
    "Entrenamos el modelo y comprobamos su exactitud."
   ]
  },
  {
   "cell_type": "code",
   "execution_count": 253,
   "metadata": {},
   "outputs": [],
   "source": [
    "model_XG.fit(X_model, y_model)\n",
    "\n",
    "predicted_XG = model_XG.predict(X_model_test)"
   ]
  },
  {
   "cell_type": "code",
   "execution_count": 254,
   "metadata": {},
   "outputs": [
    {
     "data": {
      "text/plain": [
       "0.5988826815642458"
      ]
     },
     "execution_count": 254,
     "metadata": {},
     "output_type": "execute_result"
    }
   ],
   "source": [
    "accuracy_score(expected, predicted_XG)"
   ]
  },
  {
   "cell_type": "markdown",
   "metadata": {},
   "source": [
    "### 7.4.3 Null accuracy"
   ]
  },
  {
   "cell_type": "markdown",
   "metadata": {},
   "source": [
    "Nuestra exactitud es de 0.587, la cual es peor que la *null accuracy*, es decir, ahora mismo no tenemos un buen modelo ya que se predecirían un mayor número de resultados en el caso de siempre predecir la clase mayoritaria."
   ]
  },
  {
   "cell_type": "markdown",
   "metadata": {},
   "source": [
    "### 7.4.4 Matriz de confusion y F-score"
   ]
  },
  {
   "cell_type": "markdown",
   "metadata": {},
   "source": [
    "Se muestra la matriz de confusión y el informe de clasificación."
   ]
  },
  {
   "cell_type": "code",
   "execution_count": 255,
   "metadata": {},
   "outputs": [
    {
     "name": "stdout",
     "output_type": "stream",
     "text": [
      "[[267 344]\n",
      " [374 805]]\n"
     ]
    }
   ],
   "source": [
    "print(confusion_matrix(expected, predicted_XG))"
   ]
  },
  {
   "cell_type": "code",
   "execution_count": 256,
   "metadata": {},
   "outputs": [
    {
     "name": "stdout",
     "output_type": "stream",
     "text": [
      "              precision    recall  f1-score   support\n",
      "\n",
      "           0       0.42      0.44      0.43       611\n",
      "           1       0.70      0.68      0.69      1179\n",
      "\n",
      "    accuracy                           0.60      1790\n",
      "   macro avg       0.56      0.56      0.56      1790\n",
      "weighted avg       0.60      0.60      0.60      1790\n",
      "\n"
     ]
    }
   ],
   "source": [
    "print(classification_report(expected, predicted_XG))"
   ]
  },
  {
   "cell_type": "markdown",
   "metadata": {},
   "source": [
    "Se observa que estamos identificando erroneamente los 0s ya que tenemos un f1-score del 0.68 para los 1s mientras que estamos obteniendo un 0.43 para los 0s"
   ]
  },
  {
   "cell_type": "markdown",
   "metadata": {},
   "source": [
    "### 7.4.5 ROC y AUC"
   ]
  },
  {
   "cell_type": "markdown",
   "metadata": {},
   "source": [
    "Evaluamos la ROC-AUC score. Para ello representamos primero la curva de ROC."
   ]
  },
  {
   "cell_type": "code",
   "execution_count": 257,
   "metadata": {},
   "outputs": [
    {
     "data": {
      "image/png": "[encoded data removed]",
      "text/plain": [
       "<Figure size 640x480 with 1 Axes>"
      ]
     },
     "metadata": {},
     "output_type": "display_data"
    }
   ],
   "source": [
    "y_pred_prob_XG = model_XG.predict_proba(X_model_test)[:,1]\n",
    "fpr, tpr, thresholds = roc_curve(expected, y_pred_prob_XG)\n",
    "plt.plot(fpr, tpr)\n",
    "plt.xlim([0.0, 1.0])\n",
    "plt.ylim([0.0, 1.0])\n",
    "plt.title('Curva ROC')\n",
    "plt.xlabel('Ratio de FP (1 - Recall)')\n",
    "plt.ylabel('Ratio TP (Sensitivity)')\n",
    "plt.grid(True)\n",
    "plt.show()"
   ]
  },
  {
   "cell_type": "markdown",
   "metadata": {},
   "source": [
    "Y mostramos sus thresholds."
   ]
  },
  {
   "cell_type": "code",
   "execution_count": 258,
   "metadata": {},
   "outputs": [
    {
     "data": {
      "text/plain": [
       "array([       inf, 0.99476576, 0.9815067 , 0.9811545 , 0.98110586,\n",
       "       0.97733796, 0.9760702 , 0.9739304 , 0.9672582 , 0.9668026 ,\n",
       "       0.96601295, 0.96550906, 0.9635354 , 0.96314335, 0.9593346 ,\n",
       "       0.958324  , 0.9565424 , 0.9563115 , 0.94841045, 0.94786394,\n",
       "       0.94174194, 0.94103616, 0.94082475, 0.9399285 , 0.9395337 ,\n",
       "       0.9393563 , 0.937843  , 0.93758106, 0.93709874, 0.93622285,\n",
       "       0.9347178 , 0.93470967, 0.9327896 , 0.93060786, 0.93060446,\n",
       "       0.930437  , 0.9274208 , 0.9273435 , 0.92484444, 0.9241689 ,\n",
       "       0.9205233 , 0.9204016 , 0.9186958 , 0.9183777 , 0.91836274,\n",
       "       0.91813004, 0.9079177 , 0.9078418 , 0.907158  , 0.9068186 ,\n",
       "       0.9059401 , 0.9057101 , 0.8999455 , 0.8997784 , 0.8994244 ,\n",
       "       0.8985879 , 0.8950059 , 0.8936269 , 0.8930371 , 0.8923786 ,\n",
       "       0.8886929 , 0.8876488 , 0.8876    , 0.8867798 , 0.8855857 ,\n",
       "       0.8848227 , 0.88410944, 0.8838281 , 0.8820642 , 0.8815176 ,\n",
       "       0.8797891 , 0.8796562 , 0.8787577 , 0.8785869 , 0.8761726 ,\n",
       "       0.8760416 , 0.8757849 , 0.8756102 , 0.8755574 , 0.8748512 ,\n",
       "       0.8746776 , 0.873906  , 0.8721362 , 0.8715898 , 0.87072885,\n",
       "       0.87034374, 0.8702772 , 0.86993206, 0.8684227 , 0.86731684,\n",
       "       0.8655454 , 0.865185  , 0.8640479 , 0.8636476 , 0.86346775,\n",
       "       0.8629436 , 0.8623487 , 0.8612523 , 0.8608503 , 0.8606721 ,\n",
       "       0.86064565, 0.8605451 , 0.8605058 , 0.8600989 , 0.85896295,\n",
       "       0.8583643 , 0.857123  , 0.8569845 , 0.8549738 , 0.8534646 ,\n",
       "       0.85331357, 0.8511313 , 0.8504904 , 0.84982264, 0.84828866,\n",
       "       0.8466228 , 0.8457191 , 0.84534925, 0.84271014, 0.8425804 ,\n",
       "       0.8415086 , 0.84110975, 0.8377255 , 0.83767533, 0.83689785,\n",
       "       0.83639544, 0.83399   , 0.8334065 , 0.8326347 , 0.8321506 ,\n",
       "       0.8320475 , 0.83195037, 0.83147645, 0.83085907, 0.8307785 ,\n",
       "       0.83038884, 0.8287311 , 0.82855934, 0.82677764, 0.82650906,\n",
       "       0.82610136, 0.8256819 , 0.82505643, 0.82436216, 0.8239398 ,\n",
       "       0.8237162 , 0.82176906, 0.8216394 , 0.82103086, 0.81889534,\n",
       "       0.8183451 , 0.8179875 , 0.8168408 , 0.8160115 , 0.81594497,\n",
       "       0.81532925, 0.81431293, 0.8120737 , 0.8114943 , 0.81047726,\n",
       "       0.8056973 , 0.80542564, 0.80426395, 0.8041696 , 0.80362564,\n",
       "       0.80318975, 0.8023066 , 0.8022187 , 0.7976806 , 0.7966152 ,\n",
       "       0.7951333 , 0.79464966, 0.7940649 , 0.7937728 , 0.7888243 ,\n",
       "       0.7880526 , 0.78787935, 0.787869  , 0.7853266 , 0.7852259 ,\n",
       "       0.7851038 , 0.78490967, 0.7832431 , 0.7821347 , 0.7809149 ,\n",
       "       0.77970713, 0.77921385, 0.77864087, 0.7783987 , 0.7782871 ,\n",
       "       0.7746254 , 0.7743842 , 0.7739044 , 0.7738137 , 0.7720631 ,\n",
       "       0.77033955, 0.7687848 , 0.7683035 , 0.76713234, 0.76700145,\n",
       "       0.7665228 , 0.7664476 , 0.7654735 , 0.76327825, 0.7607452 ,\n",
       "       0.75963855, 0.7594495 , 0.7579422 , 0.7574834 , 0.75747633,\n",
       "       0.7572991 , 0.75627977, 0.7533716 , 0.752893  , 0.75275403,\n",
       "       0.75235516, 0.75021416, 0.7499727 , 0.74954796, 0.74952346,\n",
       "       0.7494774 , 0.74945754, 0.7479342 , 0.7477717 , 0.7460617 ,\n",
       "       0.7457969 , 0.74309903, 0.7425426 , 0.74098986, 0.74074936,\n",
       "       0.7406707 , 0.7406287 , 0.73943335, 0.7391916 , 0.7369017 ,\n",
       "       0.7366491 , 0.7362909 , 0.7355214 , 0.732645  , 0.7326359 ,\n",
       "       0.7322298 , 0.7318328 , 0.72977734, 0.7297597 , 0.727115  ,\n",
       "       0.726231  , 0.724248  , 0.7230257 , 0.7229195 , 0.72250533,\n",
       "       0.72082764, 0.72056013, 0.7203749 , 0.7202306 , 0.717901  ,\n",
       "       0.7176976 , 0.7171698 , 0.7168933 , 0.7150909 , 0.7150588 ,\n",
       "       0.7142242 , 0.71211004, 0.7111418 , 0.71066356, 0.71023834,\n",
       "       0.7096429 , 0.7064686 , 0.70603347, 0.7056091 , 0.70558697,\n",
       "       0.70545113, 0.7049446 , 0.7033732 , 0.70330995, 0.7024965 ,\n",
       "       0.70235604, 0.701343  , 0.7002397 , 0.7000445 , 0.69852144,\n",
       "       0.6984205 , 0.69839746, 0.6983443 , 0.6982353 , 0.69721377,\n",
       "       0.69692886, 0.6964624 , 0.6936467 , 0.6929261 , 0.69260067,\n",
       "       0.6889913 , 0.68817365, 0.6870494 , 0.6851474 , 0.6846424 ,\n",
       "       0.6843816 , 0.6814621 , 0.6804964 , 0.6803939 , 0.6802405 ,\n",
       "       0.67800075, 0.677764  , 0.6767256 , 0.6763316 , 0.67617965,\n",
       "       0.67511797, 0.6706495 , 0.67023486, 0.66910255, 0.6687843 ,\n",
       "       0.6677359 , 0.66741204, 0.6669402 , 0.66659474, 0.6650727 ,\n",
       "       0.66473484, 0.66444665, 0.664356  , 0.664068  , 0.6628848 ,\n",
       "       0.66062206, 0.65798163, 0.6563468 , 0.6557127 , 0.65560275,\n",
       "       0.65454155, 0.65427655, 0.65347767, 0.65325356, 0.6529614 ,\n",
       "       0.65295273, 0.6510226 , 0.65049237, 0.65033835, 0.64877677,\n",
       "       0.6487292 , 0.6437083 , 0.64344126, 0.64203435, 0.6418906 ,\n",
       "       0.6417928 , 0.6415307 , 0.6414054 , 0.6413451 , 0.63952875,\n",
       "       0.63920814, 0.6372426 , 0.6365743 , 0.6361608 , 0.6361021 ,\n",
       "       0.63497716, 0.6343954 , 0.6323247 , 0.63203007, 0.62775874,\n",
       "       0.6274844 , 0.6260387 , 0.6250116 , 0.6246783 , 0.62447876,\n",
       "       0.62374705, 0.6232114 , 0.62262356, 0.62187403, 0.62022614,\n",
       "       0.6186239 , 0.6183904 , 0.6179381 , 0.6176844 , 0.6173313 ,\n",
       "       0.61615396, 0.6136741 , 0.6135616 , 0.61351526, 0.61159986,\n",
       "       0.6111971 , 0.609861  , 0.6079913 , 0.6057822 , 0.6057105 ,\n",
       "       0.6021495 , 0.60038656, 0.59901005, 0.59900624, 0.59759873,\n",
       "       0.59586996, 0.59457844, 0.5945543 , 0.593768  , 0.592721  ,\n",
       "       0.59251994, 0.5924816 , 0.5906502 , 0.5906374 , 0.59011555,\n",
       "       0.58921033, 0.58806425, 0.5871611 , 0.58385783, 0.58285236,\n",
       "       0.5800444 , 0.5797009 , 0.5794868 , 0.578488  , 0.5780922 ,\n",
       "       0.57748467, 0.57680875, 0.5744625 , 0.57350934, 0.57320195,\n",
       "       0.5728396 , 0.5727154 , 0.5690283 , 0.56865805, 0.5652453 ,\n",
       "       0.56466275, 0.56465054, 0.5645891 , 0.56403875, 0.56332815,\n",
       "       0.5623444 , 0.56058586, 0.56013113, 0.56005996, 0.5592294 ,\n",
       "       0.5578025 , 0.5576388 , 0.5568096 , 0.5566593 , 0.55587363,\n",
       "       0.55468035, 0.5543838 , 0.5522391 , 0.5505764 , 0.54978925,\n",
       "       0.54909176, 0.5488008 , 0.5487719 , 0.5485066 , 0.5469834 ,\n",
       "       0.5468788 , 0.5464698 , 0.54593164, 0.5451401 , 0.54508513,\n",
       "       0.5449896 , 0.54407525, 0.54403013, 0.5427129 , 0.542467  ,\n",
       "       0.54232925, 0.54138863, 0.5400808 , 0.53979987, 0.5384774 ,\n",
       "       0.5384533 , 0.5377145 , 0.53746563, 0.53725046, 0.5361985 ,\n",
       "       0.5334135 , 0.53337425, 0.5271091 , 0.52602005, 0.52221626,\n",
       "       0.5215871 , 0.51886064, 0.5175039 , 0.51553696, 0.51547503,\n",
       "       0.51536494, 0.5152713 , 0.5131229 , 0.51220053, 0.5108945 ,\n",
       "       0.50811356, 0.50342596, 0.50196475, 0.49951035, 0.49912   ,\n",
       "       0.4989567 , 0.49879098, 0.4955699 , 0.4951727 , 0.4942926 ,\n",
       "       0.49428478, 0.49401802, 0.4933729 , 0.4912427 , 0.49069753,\n",
       "       0.4900955 , 0.48879546, 0.48831052, 0.48693836, 0.4868842 ,\n",
       "       0.4860628 , 0.4828413 , 0.4816828 , 0.48114493, 0.48068362,\n",
       "       0.48049277, 0.48046425, 0.48017657, 0.4794664 , 0.4782705 ,\n",
       "       0.47734034, 0.47493732, 0.47441918, 0.4685658 , 0.4678102 ,\n",
       "       0.46606147, 0.4652834 , 0.46372834, 0.46347314, 0.46176714,\n",
       "       0.461684  , 0.46070495, 0.4606999 , 0.45997897, 0.4597194 ,\n",
       "       0.45919493, 0.4590299 , 0.45817056, 0.4574521 , 0.45670143,\n",
       "       0.45621026, 0.4538324 , 0.4537683 , 0.45374525, 0.45346308,\n",
       "       0.45218945, 0.4520568 , 0.45167843, 0.45109394, 0.45096552,\n",
       "       0.45071518, 0.45010492, 0.450065  , 0.44908443, 0.448808  ,\n",
       "       0.44791856, 0.4470112 , 0.44408628, 0.4407855 , 0.43989778,\n",
       "       0.43852812, 0.4384294 , 0.43551022, 0.43514875, 0.43496546,\n",
       "       0.43392473, 0.4322752 , 0.43094504, 0.42956182, 0.42912555,\n",
       "       0.4280095 , 0.42725894, 0.42592975, 0.42442504, 0.42432702,\n",
       "       0.42432034, 0.42406797, 0.42363593, 0.42362934, 0.42295846,\n",
       "       0.42226982, 0.4208729 , 0.42082712, 0.41725263, 0.41686004,\n",
       "       0.4166356 , 0.41583648, 0.41482508, 0.41339794, 0.4102769 ,\n",
       "       0.40836668, 0.40818962, 0.40775976, 0.4068446 , 0.406763  ,\n",
       "       0.4055516 , 0.4054887 , 0.40460658, 0.4044326 , 0.40426818,\n",
       "       0.40387857, 0.3994752 , 0.39836323, 0.39810812, 0.3979355 ,\n",
       "       0.3974551 , 0.3960262 , 0.39432827, 0.39384714, 0.39369613,\n",
       "       0.39358303, 0.39164546, 0.38928163, 0.38791475, 0.38592324,\n",
       "       0.3829035 , 0.38280934, 0.38255292, 0.38226986, 0.3820532 ,\n",
       "       0.38102207, 0.38009393, 0.37941703, 0.37851334, 0.37768278,\n",
       "       0.37663496, 0.3757184 , 0.3757057 , 0.37411866, 0.37394994,\n",
       "       0.37197706, 0.3718772 , 0.37116584, 0.367903  , 0.36781362,\n",
       "       0.36748716, 0.36728168, 0.3669022 , 0.36083665, 0.36053354,\n",
       "       0.35903424, 0.35894057, 0.35624978, 0.3548803 , 0.35413912,\n",
       "       0.35265374, 0.3525865 , 0.35245702, 0.3523866 , 0.35030177,\n",
       "       0.34958458, 0.34665188, 0.3463292 , 0.34557152, 0.34378454,\n",
       "       0.3419782 , 0.34172985, 0.33942285, 0.3393373 , 0.33873954,\n",
       "       0.3373355 , 0.33595783, 0.33555323, 0.33443144, 0.33428088,\n",
       "       0.33406478, 0.3326479 , 0.33046374, 0.33028018, 0.32819927,\n",
       "       0.32640842, 0.32153723, 0.32044452, 0.32021642, 0.32013005,\n",
       "       0.3177147 , 0.31734258, 0.3129122 , 0.31276298, 0.31263858,\n",
       "       0.31236172, 0.30730596, 0.3063419 , 0.30564818, 0.30494317,\n",
       "       0.30078402, 0.2975346 , 0.29752257, 0.2964792 , 0.29402542,\n",
       "       0.29066178, 0.29033762, 0.29013342, 0.2886611 , 0.2883587 ,\n",
       "       0.28818887, 0.28793776, 0.28509852, 0.28429222, 0.2835052 ,\n",
       "       0.28345206, 0.28075308, 0.28072912, 0.2787139 , 0.27839652,\n",
       "       0.2760761 , 0.27566728, 0.27489662, 0.2743476 , 0.27201805,\n",
       "       0.27099392, 0.26920697, 0.26728705, 0.26723498, 0.26637423,\n",
       "       0.26535287, 0.26365077, 0.26223946, 0.2616933 , 0.257919  ,\n",
       "       0.25705236, 0.2551445 , 0.2550193 , 0.25437883, 0.25085625,\n",
       "       0.24973406, 0.24934274, 0.24923243, 0.24761374, 0.2471886 ,\n",
       "       0.24607736, 0.24519107, 0.2421815 , 0.23993237, 0.23943406,\n",
       "       0.23930746, 0.23665747, 0.23580293, 0.23532009, 0.23075092,\n",
       "       0.22703335, 0.22570823, 0.22530088, 0.22305585, 0.2220106 ,\n",
       "       0.22163881, 0.22025613, 0.219313  , 0.21821319, 0.21815567,\n",
       "       0.21779695, 0.20589809, 0.20578958, 0.20419315, 0.2041199 ,\n",
       "       0.19714122, 0.1964177 , 0.19636862, 0.19237249, 0.19149944,\n",
       "       0.19101691, 0.18142118, 0.17165259, 0.17002945, 0.1700053 ,\n",
       "       0.168568  , 0.16455463, 0.1639882 , 0.16262482, 0.16113028,\n",
       "       0.16102397, 0.1604491 , 0.1594614 , 0.15750167, 0.15499991,\n",
       "       0.15450619, 0.15355407, 0.15166193, 0.14468077, 0.14121418,\n",
       "       0.14065208, 0.13890646, 0.13198295, 0.12984589, 0.12682925,\n",
       "       0.12611811, 0.12289385, 0.12133519, 0.12055782, 0.11775088,\n",
       "       0.1169721 , 0.11305568, 0.10854296, 0.10729816, 0.10701337,\n",
       "       0.10156181, 0.0995791 , 0.09841035, 0.08831987, 0.08731984,\n",
       "       0.07861481, 0.07624083, 0.07497536, 0.07326428, 0.07191607,\n",
       "       0.06692664, 0.05208245], dtype=float32)"
      ]
     },
     "execution_count": 258,
     "metadata": {},
     "output_type": "execute_result"
    }
   ],
   "source": [
    "thresholds"
   ]
  },
  {
   "cell_type": "markdown",
   "metadata": {},
   "source": [
    "Al igual que con el Random Forest, el resultado obtenido no es bueno ya que estamos obteniendo practicamente una recta en vez de una curva en forma de 'L' invertida."
   ]
  },
  {
   "cell_type": "markdown",
   "metadata": {},
   "source": [
    "La siguiente gráfica muestra las probabilidades de predicción en función de los umbrales."
   ]
  },
  {
   "cell_type": "code",
   "execution_count": 259,
   "metadata": {},
   "outputs": [
    {
     "data": {
      "text/plain": [
       "array([<Axes: title={'center': '0'}>, <Axes: title={'center': '1'}>],\n",
       "      dtype=object)"
      ]
     },
     "execution_count": 259,
     "metadata": {},
     "output_type": "execute_result"
    },
    {
     "data": {
      "image/png": "[encoded data removed]",
      "text/plain": [
       "<Figure size 640x480 with 2 Axes>"
      ]
     },
     "metadata": {},
     "output_type": "display_data"
    }
   ],
   "source": [
    "dprob = pd.DataFrame(data = {'probability':y_pred_prob_XG, 'actual':y_test})\n",
    "dprob.probability.hist(by=dprob.actual, sharex=True, sharey=True)"
   ]
  },
  {
   "cell_type": "markdown",
   "metadata": {},
   "source": [
    "Se muestra que los mejores resultados para ambas clases se obtiene con el *threshold* igual a 0.5 aproximandamente (es decir, el valor por defecto)."
   ]
  },
  {
   "cell_type": "code",
   "execution_count": 260,
   "metadata": {},
   "outputs": [
    {
     "name": "stdout",
     "output_type": "stream",
     "text": [
      "Sensitivity: 0.6768447837150128\n",
      "Recall: 0.43698854337152204\n"
     ]
    }
   ],
   "source": [
    "best_thres_XG = 0.5\n",
    "\n",
    "evaluate_threshold(best_thres_XG)"
   ]
  },
  {
   "cell_type": "markdown",
   "metadata": {},
   "source": [
    "Con este valor se obtienen los siguientes resultados. Primero se recalculan las predicciones."
   ]
  },
  {
   "cell_type": "code",
   "execution_count": 261,
   "metadata": {},
   "outputs": [],
   "source": [
    "probs_XG = model_XG.predict_proba(X_model_test)[:, 1]  \n",
    "pred_thres_XG= (probs_XG >= best_thres_XG).astype(int) "
   ]
  },
  {
   "cell_type": "markdown",
   "metadata": {},
   "source": [
    "Se evalua la matriz de confusión."
   ]
  },
  {
   "cell_type": "code",
   "execution_count": 262,
   "metadata": {},
   "outputs": [
    {
     "name": "stdout",
     "output_type": "stream",
     "text": [
      "[[267 344]\n",
      " [374 805]]\n"
     ]
    }
   ],
   "source": [
    "print(confusion_matrix(expected, pred_thres_XG))"
   ]
  },
  {
   "cell_type": "markdown",
   "metadata": {},
   "source": [
    "Y también se analiza el informe de la clasificación."
   ]
  },
  {
   "cell_type": "code",
   "execution_count": 263,
   "metadata": {},
   "outputs": [
    {
     "name": "stdout",
     "output_type": "stream",
     "text": [
      "              precision    recall  f1-score   support\n",
      "\n",
      "           0       0.42      0.44      0.43       611\n",
      "           1       0.70      0.68      0.69      1179\n",
      "\n",
      "    accuracy                           0.60      1790\n",
      "   macro avg       0.56      0.56      0.56      1790\n",
      "weighted avg       0.60      0.60      0.60      1790\n",
      "\n"
     ]
    }
   ],
   "source": [
    "print(classification_report(expected, pred_thres_XG))"
   ]
  },
  {
   "cell_type": "markdown",
   "metadata": {},
   "source": [
    "Obviamente son los mismos, ya que no estamos modificando el umbral realmente."
   ]
  },
  {
   "cell_type": "markdown",
   "metadata": {},
   "source": [
    "Finalmente se calcula el valor de AUC."
   ]
  },
  {
   "cell_type": "code",
   "execution_count": 264,
   "metadata": {},
   "outputs": [
    {
     "name": "stdout",
     "output_type": "stream",
     "text": [
      "0.5598852810157017\n"
     ]
    }
   ],
   "source": [
    "print(roc_auc_score(expected, predicted_XG))"
   ]
  },
  {
   "cell_type": "markdown",
   "metadata": {},
   "source": [
    "Se ha obtenido un valor entre 0.5 y 0.6, es decir, el modelo se considerá como fallido o *F*."
   ]
  },
  {
   "cell_type": "markdown",
   "metadata": {},
   "source": [
    "### 7.4.6 Optimizacion"
   ]
  },
  {
   "cell_type": "markdown",
   "metadata": {},
   "source": [
    "Ahora seleccionamos los hiperparámetros a evaluar mediante un GridSearchCV. Además, se ha añadido la librería *time* para saber el tiempo que tardo en realizar la busqueda de mejores parámetros.\n",
    "\n",
    "Estos hiperparámetros son:\n",
    "* ***max_depth***: máxima profundidad de cada árbol.\n",
    "* ***eta***: también llamado *learning_rate*,es un factor de escala que regula cuánto se actualizan los pesos en cada paso de boosting.\n",
    "* ***n_estimators***: número de árboles.\n",
    "* ***subsample***: proporción usada para entrenar cada árbol.\n",
    "* ***colsample_bytree***: fracción de columnas utilizadas para construir cada árbol."
   ]
  },
  {
   "cell_type": "markdown",
   "metadata": {},
   "source": [
    "Cabe mencionar que, para evitar tiempos de ejecución excesivos, se fueron iterando los parámetros focalizándose progresivamente en las combinaciones más prometedoras."
   ]
  },
  {
   "cell_type": "markdown",
   "metadata": {},
   "source": [
    "Primero se probó con:"
   ]
  },
  {
   "cell_type": "raw",
   "metadata": {
    "vscode": {
     "languageId": "raw"
    }
   },
   "source": [
    "param_grid = {\n",
    "    'max_depth': [5],\n",
    "    'eta': [0.06, 0.07, 0.08, 0.09, 0.1],\n",
    "    'n_estimators': [500, 600, 700],\n",
    "    'subsample': [0.9],\n",
    "    'colsample_bytree': [0.9],\n",
    "}"
   ]
  },
  {
   "cell_type": "markdown",
   "metadata": {},
   "source": [
    "Y el resultado obtenido para el caso mejor fue:"
   ]
  },
  {
   "cell_type": "raw",
   "metadata": {
    "vscode": {
     "languageId": "raw"
    }
   },
   "source": [
    "Mejores parámetros:  {'colsample_bytree': 0.9, 'eta': 0.08, 'max_depth': 5, 'n_estimators': 700, 'subsample': 0.9}\n",
    "Mejor score:  0.6160763145036465"
   ]
  },
  {
   "cell_type": "markdown",
   "metadata": {},
   "source": [
    "Y finalmente se probó con:"
   ]
  },
  {
   "cell_type": "raw",
   "metadata": {
    "vscode": {
     "languageId": "raw"
    }
   },
   "source": [
    "param_grid = {\n",
    "    'max_depth': [5, 8],\n",
    "    'eta': [ 0.08, 0.09, 0.1],\n",
    "    'n_estimators': [500, 600, 700, 900],\n",
    "    'subsample': [0.9, 1.0],\n",
    "    'colsample_bytree': [0.9, 1.0],\n",
    "}"
   ]
  },
  {
   "cell_type": "markdown",
   "metadata": {},
   "source": [
    "Y el resultado obtenido para el caso mejor fue:"
   ]
  },
  {
   "cell_type": "raw",
   "metadata": {
    "vscode": {
     "languageId": "raw"
    }
   },
   "source": [
    "Mejores parámetros:  {'colsample_bytree': 1.0, 'eta': 0.1, 'max_depth': 8, 'n_estimators': 500, 'subsample': 0.9}\n",
    "Mejor score:  0.627567181916202"
   ]
  },
  {
   "cell_type": "markdown",
   "metadata": {},
   "source": [
    "El codigo correspondiente a la última ejecución es el siguiente:"
   ]
  },
  {
   "cell_type": "raw",
   "metadata": {
    "vscode": {
     "languageId": "raw"
    }
   },
   "source": [
    "optm_XG = XGBClassifier(\n",
    "    objective='binary:logistic',\n",
    "    eval_metric='auc',\n",
    "    random_state=seed\n",
    ")\n",
    "\n",
    "param_grid = {\n",
    "    'max_depth': [5, 8],\n",
    "    'eta': [ 0.08, 0.09, 0.1],\n",
    "    'n_estimators': [500, 600, 700, 900],\n",
    "    'subsample': [0.9, 1.0],\n",
    "    'colsample_bytree': [0.9, 1.0],\n",
    "}\n",
    "\n",
    "\n",
    "grid_search = GridSearchCV(optm_XG, param_grid=param_grid, scoring=make_scorer(f1_score, average='weighted'), cv=3, n_jobs=-1)\n",
    "\n",
    "inicio = time.time()\n",
    "grid_search.fit(X_model, y_model)\n",
    "fin = time.time()"
   ]
  },
  {
   "cell_type": "markdown",
   "metadata": {},
   "source": [
    "Se calcula el tiempo que ha tardado en minutos."
   ]
  },
  {
   "cell_type": "raw",
   "metadata": {
    "vscode": {
     "languageId": "raw"
    }
   },
   "source": [
    "tiempo_total = (fin - inicio) / 60\n",
    "print(f\"La celda tardó {tiempo_total} minutos en ejecutarse.\")"
   ]
  },
  {
   "cell_type": "markdown",
   "metadata": {},
   "source": [
    "Se escoge el mejor parámetro y su  precisión asociada."
   ]
  },
  {
   "cell_type": "raw",
   "metadata": {
    "vscode": {
     "languageId": "raw"
    }
   },
   "source": [
    "print(\"Mejores parámetros: \", grid_search.best_params_)\n",
    "print(\"Mejor score: \", grid_search.best_score_)"
   ]
  },
  {
   "cell_type": "markdown",
   "metadata": {},
   "source": [
    "Observamos los mejores 10 casos para analizar varias posibilidades."
   ]
  },
  {
   "cell_type": "raw",
   "metadata": {
    "vscode": {
     "languageId": "raw"
    }
   },
   "source": [
    "results_df = pd.DataFrame(grid_search.cv_results_)"
   ]
  },
  {
   "cell_type": "raw",
   "metadata": {
    "vscode": {
     "languageId": "raw"
    }
   },
   "source": [
    "top_10_models = results_df.nlargest(10, \"mean_test_score\")\n",
    "\n",
    "print(\"\\nLos 10 mejores modelos:\")\n",
    "for index, row in top_10_models.iterrows():\n",
    "    print(\"\\nModelo:\")\n",
    "    print(f\"Parámetros: {row['params']}\")\n",
    "    print(f\"Puntuación media de prueba: {row['mean_test_score']}\")"
   ]
  },
  {
   "cell_type": "markdown",
   "metadata": {},
   "source": [
    "### 7.4.7 Entrenamiento y evaluacion con hiperparametros optimizados"
   ]
  },
  {
   "cell_type": "markdown",
   "metadata": {},
   "source": [
    "#### - Definicion"
   ]
  },
  {
   "cell_type": "markdown",
   "metadata": {},
   "source": [
    "Definimos los mejores parámetros (no se define con *grid_search.best_params_* para probar varias opciones de forma sencilla)."
   ]
  },
  {
   "cell_type": "code",
   "execution_count": 265,
   "metadata": {},
   "outputs": [],
   "source": [
    "params_final_XG = {\n",
    "    'objective': 'binary:logistic',\n",
    "    'eval_metric': 'auc',\n",
    "    'max_depth': 8,\n",
    "    'eta': 0.1,\n",
    "    'n_estimators': 500,\n",
    "    'subsample': 0.9,\n",
    "    'colsample_bytree': 1.0,\n",
    "    'random_state': seed\n",
    "}"
   ]
  },
  {
   "cell_type": "markdown",
   "metadata": {},
   "source": [
    "Definimos el modelo desagregando el diccionario."
   ]
  },
  {
   "cell_type": "code",
   "execution_count": 266,
   "metadata": {},
   "outputs": [],
   "source": [
    "final_XG = XGBClassifier(**params_final_XG)"
   ]
  },
  {
   "cell_type": "markdown",
   "metadata": {},
   "source": [
    "#### - Entrenamiento y evaluacion"
   ]
  },
  {
   "cell_type": "markdown",
   "metadata": {},
   "source": [
    "Entrenamos el modelo y comprobamos su exactitud."
   ]
  },
  {
   "cell_type": "code",
   "execution_count": 267,
   "metadata": {},
   "outputs": [],
   "source": [
    "final_XG.fit(X_model, y_model)\n",
    "\n",
    "predicted_XG_opt = final_XG.predict(X_model_test)"
   ]
  },
  {
   "cell_type": "code",
   "execution_count": 268,
   "metadata": {},
   "outputs": [
    {
     "data": {
      "text/plain": [
       "0.6067039106145251"
      ]
     },
     "execution_count": 268,
     "metadata": {},
     "output_type": "execute_result"
    }
   ],
   "source": [
    "accuracy_score(expected, predicted_XG_opt)"
   ]
  },
  {
   "cell_type": "markdown",
   "metadata": {},
   "source": [
    "#### - Null accuracy"
   ]
  },
  {
   "cell_type": "markdown",
   "metadata": {},
   "source": [
    "La accuracy es similar a la anterior. Además, sigue siendo peor que la *null accuracy*."
   ]
  },
  {
   "cell_type": "markdown",
   "metadata": {},
   "source": [
    "#### - Matriz de confusion y F-score"
   ]
  },
  {
   "cell_type": "markdown",
   "metadata": {},
   "source": [
    "La matriz de confusión y el informe de clasificación también es muy similar."
   ]
  },
  {
   "cell_type": "code",
   "execution_count": 269,
   "metadata": {},
   "outputs": [
    {
     "name": "stdout",
     "output_type": "stream",
     "text": [
      "[[276 335]\n",
      " [369 810]]\n"
     ]
    }
   ],
   "source": [
    "print(confusion_matrix(expected, predicted_XG_opt))"
   ]
  },
  {
   "cell_type": "code",
   "execution_count": 270,
   "metadata": {},
   "outputs": [
    {
     "name": "stdout",
     "output_type": "stream",
     "text": [
      "              precision    recall  f1-score   support\n",
      "\n",
      "           0       0.43      0.45      0.44       611\n",
      "           1       0.71      0.69      0.70      1179\n",
      "\n",
      "    accuracy                           0.61      1790\n",
      "   macro avg       0.57      0.57      0.57      1790\n",
      "weighted avg       0.61      0.61      0.61      1790\n",
      "\n"
     ]
    }
   ],
   "source": [
    "print(classification_report(expected, predicted_XG_opt))"
   ]
  },
  {
   "cell_type": "markdown",
   "metadata": {},
   "source": [
    "#### - ROC y AUC"
   ]
  },
  {
   "cell_type": "markdown",
   "metadata": {},
   "source": [
    "Se calcula el ROC y se reajusta el umbral de probabilidad."
   ]
  },
  {
   "cell_type": "code",
   "execution_count": 271,
   "metadata": {},
   "outputs": [
    {
     "data": {
      "image/png": "[encoded data removed]",
      "text/plain": [
       "<Figure size 640x480 with 1 Axes>"
      ]
     },
     "metadata": {},
     "output_type": "display_data"
    }
   ],
   "source": [
    "y_pred_prob_XG = final_XG.predict_proba(X_model_test)[:,1]\n",
    "fpr, tpr, thresholds = roc_curve(y_test, y_pred_prob_XG)\n",
    "plt.plot(fpr, tpr)\n",
    "plt.xlim([0.0, 1.0])\n",
    "plt.ylim([0.0, 1.0])\n",
    "plt.title('Curva ROC')\n",
    "plt.xlabel('Ratio de FP (1 - Recall)')\n",
    "plt.ylabel('Ratio TP (Sensitivity)')\n",
    "plt.grid(True)\n",
    "plt.show()"
   ]
  },
  {
   "cell_type": "code",
   "execution_count": 272,
   "metadata": {},
   "outputs": [
    {
     "data": {
      "text/plain": [
       "array([       inf, 0.998727  , 0.99848735, 0.9982096 , 0.9967637 ,\n",
       "       0.9965491 , 0.99561656, 0.9952382 , 0.9940276 , 0.9937496 ,\n",
       "       0.9915906 , 0.9913532 , 0.9909628 , 0.99026275, 0.9886672 ,\n",
       "       0.9885372 , 0.987125  , 0.98687613, 0.98548156, 0.98531646,\n",
       "       0.98508424, 0.9844726 , 0.9839721 , 0.98363715, 0.983173  ,\n",
       "       0.98291624, 0.98261535, 0.98182446, 0.98167706, 0.9815072 ,\n",
       "       0.98090184, 0.9798324 , 0.9797696 , 0.9795933 , 0.97808653,\n",
       "       0.9777763 , 0.97624534, 0.9759939 , 0.9745394 , 0.9741124 ,\n",
       "       0.97299093, 0.9729603 , 0.9723121 , 0.97196215, 0.9680588 ,\n",
       "       0.9675138 , 0.96628547, 0.96603316, 0.9649649 , 0.9645961 ,\n",
       "       0.964221  , 0.96373135, 0.96362036, 0.96229243, 0.9615116 ,\n",
       "       0.96090394, 0.9583054 , 0.9580582 , 0.9579576 , 0.9579432 ,\n",
       "       0.9576056 , 0.95736027, 0.9570766 , 0.9560881 , 0.95573825,\n",
       "       0.9557089 , 0.9498475 , 0.9496929 , 0.94786286, 0.9469266 ,\n",
       "       0.9466486 , 0.94656634, 0.94626844, 0.94599664, 0.943421  ,\n",
       "       0.9425491 , 0.9420925 , 0.94207066, 0.9414423 , 0.9410597 ,\n",
       "       0.94098306, 0.9404724 , 0.9376108 , 0.93733925, 0.93704146,\n",
       "       0.93700045, 0.9361895 , 0.93595   , 0.9353914 , 0.9350912 ,\n",
       "       0.9346761 , 0.93462956, 0.9344483 , 0.9341243 , 0.93230695,\n",
       "       0.9316324 , 0.93046117, 0.9301537 , 0.92940634, 0.9289504 ,\n",
       "       0.92753303, 0.9272531 , 0.9265233 , 0.925767  , 0.9245584 ,\n",
       "       0.9238728 , 0.922007  , 0.92171556, 0.9213568 , 0.9213483 ,\n",
       "       0.9199178 , 0.91942585, 0.9175849 , 0.91717607, 0.9160534 ,\n",
       "       0.9158819 , 0.91372514, 0.9128664 , 0.91204333, 0.91200626,\n",
       "       0.91130066, 0.91003895, 0.90925604, 0.908628  , 0.90755254,\n",
       "       0.9073996 , 0.90509903, 0.9048233 , 0.90158683, 0.90137166,\n",
       "       0.89876443, 0.89841956, 0.89807004, 0.8973829 , 0.8941683 ,\n",
       "       0.89407724, 0.8922222 , 0.8918184 , 0.89006245, 0.88922405,\n",
       "       0.88905084, 0.88877344, 0.88869864, 0.88747245, 0.88576   ,\n",
       "       0.8854874 , 0.8828968 , 0.88250387, 0.882444  , 0.8813314 ,\n",
       "       0.8809448 , 0.8806251 , 0.8804633 , 0.8797866 , 0.87377673,\n",
       "       0.87368155, 0.8732878 , 0.8728087 , 0.8694131 , 0.86909044,\n",
       "       0.86778784, 0.866818  , 0.85663134, 0.85646826, 0.8533591 ,\n",
       "       0.8527942 , 0.8509687 , 0.8507459 , 0.85054946, 0.84885013,\n",
       "       0.8471686 , 0.8465866 , 0.8464361 , 0.84565383, 0.8445454 ,\n",
       "       0.84271544, 0.84223825, 0.84223443, 0.83711016, 0.83704877,\n",
       "       0.8358056 , 0.8346762 , 0.8309051 , 0.83086956, 0.83062553,\n",
       "       0.8292631 , 0.8291616 , 0.828744  , 0.8286879 , 0.82803464,\n",
       "       0.8255531 , 0.82541406, 0.82336587, 0.8223767 , 0.8215076 ,\n",
       "       0.82034224, 0.81979877, 0.81965244, 0.8178378 , 0.8170444 ,\n",
       "       0.81653905, 0.8157501 , 0.81484044, 0.8146834 , 0.81396216,\n",
       "       0.8138914 , 0.8119728 , 0.81173223, 0.81108755, 0.8100611 ,\n",
       "       0.80998236, 0.8095678 , 0.80680174, 0.80596274, 0.8033235 ,\n",
       "       0.8022642 , 0.79659164, 0.79603326, 0.79458183, 0.7931051 ,\n",
       "       0.7929725 , 0.7926939 , 0.79123384, 0.7912239 , 0.79108137,\n",
       "       0.7906395 , 0.7895787 , 0.78879666, 0.78801894, 0.7869271 ,\n",
       "       0.7832085 , 0.7826239 , 0.7825064 , 0.78154457, 0.7788072 ,\n",
       "       0.77852815, 0.7781462 , 0.7764535 , 0.77525723, 0.77511716,\n",
       "       0.77493185, 0.7743742 , 0.7743233 , 0.77380186, 0.77372676,\n",
       "       0.7721465 , 0.7712237 , 0.7692875 , 0.76854   , 0.7683298 ,\n",
       "       0.7660932 , 0.7656714 , 0.7613116 , 0.7605629 , 0.76007354,\n",
       "       0.7597511 , 0.7593585 , 0.75843525, 0.75814366, 0.7550396 ,\n",
       "       0.7538807 , 0.75320375, 0.75241387, 0.75233763, 0.7509609 ,\n",
       "       0.75021726, 0.7500811 , 0.74876624, 0.7473832 , 0.7464588 ,\n",
       "       0.7463672 , 0.74626964, 0.7446512 , 0.7443505 , 0.74406475,\n",
       "       0.74127764, 0.7401372 , 0.7399013 , 0.73797333, 0.7367002 ,\n",
       "       0.7339687 , 0.7339576 , 0.7337982 , 0.732626  , 0.73239785,\n",
       "       0.7318783 , 0.7301448 , 0.7284546 , 0.7279498 , 0.72727853,\n",
       "       0.725685  , 0.725632  , 0.72458255, 0.72441274, 0.7209444 ,\n",
       "       0.72026664, 0.72015375, 0.7192323 , 0.7179819 , 0.7166327 ,\n",
       "       0.7148622 , 0.71284777, 0.71213883, 0.7106766 , 0.7097595 ,\n",
       "       0.70961136, 0.70786846, 0.7065734 , 0.7058402 , 0.70514965,\n",
       "       0.6985033 , 0.6978869 , 0.6920719 , 0.6916072 , 0.6890354 ,\n",
       "       0.6880693 , 0.6876469 , 0.6863282 , 0.6840768 , 0.68275136,\n",
       "       0.6805413 , 0.6775086 , 0.6771714 , 0.67519665, 0.6716545 ,\n",
       "       0.6716457 , 0.67071885, 0.6688549 , 0.6661635 , 0.66593283,\n",
       "       0.66407186, 0.6639459 , 0.6636189 , 0.663398  , 0.66110176,\n",
       "       0.6601677 , 0.6565251 , 0.6558483 , 0.65568006, 0.655491  ,\n",
       "       0.6551215 , 0.6537343 , 0.6533937 , 0.65312934, 0.6513066 ,\n",
       "       0.650621  , 0.64564   , 0.645187  , 0.6450076 , 0.6427101 ,\n",
       "       0.6387548 , 0.6383598 , 0.6371694 , 0.637159  , 0.6364085 ,\n",
       "       0.63635355, 0.6357863 , 0.633562  , 0.63296765, 0.63296473,\n",
       "       0.6324091 , 0.63214904, 0.62671185, 0.625886  , 0.62488633,\n",
       "       0.62440854, 0.62305313, 0.62180054, 0.61969465, 0.6182762 ,\n",
       "       0.6175018 , 0.6161675 , 0.6151732 , 0.6105543 , 0.61030453,\n",
       "       0.6100661 , 0.60914254, 0.6077422 , 0.6059403 , 0.6045417 ,\n",
       "       0.60415626, 0.60281956, 0.602698  , 0.6021789 , 0.59803796,\n",
       "       0.59567654, 0.5956532 , 0.5953781 , 0.5947144 , 0.594201  ,\n",
       "       0.5932659 , 0.5919996 , 0.5911253 , 0.59103256, 0.5882008 ,\n",
       "       0.58746094, 0.58638215, 0.58468455, 0.5832458 , 0.582383  ,\n",
       "       0.5786705 , 0.57818455, 0.5781837 , 0.5778464 , 0.57583696,\n",
       "       0.5737566 , 0.57137024, 0.57135266, 0.5679992 , 0.5667403 ,\n",
       "       0.56343466, 0.5625129 , 0.5602862 , 0.5581142 , 0.5580529 ,\n",
       "       0.5555432 , 0.54850936, 0.5461373 , 0.5431349 , 0.5425377 ,\n",
       "       0.5422048 , 0.5420983 , 0.53947824, 0.53883195, 0.536748  ,\n",
       "       0.53648096, 0.5304037 , 0.5300713 , 0.5297761 , 0.52868485,\n",
       "       0.52385443, 0.5224263 , 0.52004313, 0.51963246, 0.51786155,\n",
       "       0.51689416, 0.5135906 , 0.5125661 , 0.51198155, 0.51178324,\n",
       "       0.5104921 , 0.5101988 , 0.5070592 , 0.5051027 , 0.5026968 ,\n",
       "       0.50268334, 0.49824047, 0.49796674, 0.49354705, 0.49232215,\n",
       "       0.4900191 , 0.48977467, 0.48969805, 0.48867455, 0.48720205,\n",
       "       0.48622283, 0.48587093, 0.48490426, 0.4840141 , 0.48342165,\n",
       "       0.4827899 , 0.481892  , 0.4809846 , 0.48059615, 0.4767946 ,\n",
       "       0.47545162, 0.4734626 , 0.4718941 , 0.4718316 , 0.47037375,\n",
       "       0.47019383, 0.47008654, 0.46769223, 0.46713808, 0.46658674,\n",
       "       0.46527714, 0.4641744 , 0.4641558 , 0.46277374, 0.46206713,\n",
       "       0.46153   , 0.46152544, 0.46091244, 0.45842353, 0.45731202,\n",
       "       0.45602128, 0.45375144, 0.45265177, 0.44957012, 0.4482211 ,\n",
       "       0.4476071 , 0.4463914 , 0.4443112 , 0.4439905 , 0.44003397,\n",
       "       0.4393907 , 0.4380197 , 0.43782264, 0.4367729 , 0.43426389,\n",
       "       0.43416113, 0.43370423, 0.43327466, 0.4329766 , 0.43270585,\n",
       "       0.43242338, 0.43197176, 0.43140733, 0.43129978, 0.43110338,\n",
       "       0.43046555, 0.42981622, 0.4293405 , 0.429328  , 0.4289547 ,\n",
       "       0.42879063, 0.42808464, 0.42786786, 0.4278058 , 0.42607382,\n",
       "       0.42362934, 0.42328638, 0.42247942, 0.42176628, 0.41499543,\n",
       "       0.41342914, 0.41247657, 0.4097887 , 0.40915352, 0.40576842,\n",
       "       0.40432382, 0.4031564 , 0.40124425, 0.39774513, 0.39538077,\n",
       "       0.39458358, 0.3943028 , 0.39279938, 0.3910465 , 0.39032504,\n",
       "       0.38951308, 0.38868257, 0.38863388, 0.3879814 , 0.38723227,\n",
       "       0.38674447, 0.3862563 , 0.38303113, 0.38007355, 0.37735114,\n",
       "       0.37606886, 0.37553895, 0.3744122 , 0.37380376, 0.3720249 ,\n",
       "       0.36932147, 0.3662891 , 0.3657308 , 0.3656135 , 0.36542422,\n",
       "       0.36455694, 0.36397377, 0.36162907, 0.36082938, 0.35827067,\n",
       "       0.35765153, 0.35366398, 0.35315964, 0.34956616, 0.34937796,\n",
       "       0.3493459 , 0.3491442 , 0.346022  , 0.3441228 , 0.34335074,\n",
       "       0.34262684, 0.33497626, 0.33420047, 0.33066353, 0.32986677,\n",
       "       0.31839144, 0.31724492, 0.3146638 , 0.31403562, 0.31144157,\n",
       "       0.31117287, 0.30957478, 0.3079979 , 0.3066148 , 0.3060125 ,\n",
       "       0.30566254, 0.30553973, 0.3046441 , 0.30461413, 0.303758  ,\n",
       "       0.30266187, 0.30004153, 0.29995462, 0.29891986, 0.2987084 ,\n",
       "       0.2947905 , 0.29478088, 0.2915518 , 0.29079267, 0.28693298,\n",
       "       0.28642577, 0.28485367, 0.283889  , 0.28375646, 0.28276253,\n",
       "       0.27867848, 0.2784362 , 0.2738985 , 0.27134812, 0.27087778,\n",
       "       0.27073917, 0.26987284, 0.26897314, 0.26501307, 0.26497036,\n",
       "       0.26310644, 0.26228687, 0.25954425, 0.25941873, 0.25867835,\n",
       "       0.2586745 , 0.25846606, 0.25838426, 0.25798708, 0.2571079 ,\n",
       "       0.2568872 , 0.25669438, 0.256202  , 0.25403947, 0.25362706,\n",
       "       0.25329491, 0.2528801 , 0.25230712, 0.24828339, 0.24723925,\n",
       "       0.24615382, 0.24521288, 0.24354106, 0.24305047, 0.24041334,\n",
       "       0.23816895, 0.23743887, 0.23667619, 0.2362315 , 0.23615326,\n",
       "       0.2357442 , 0.23369314, 0.23306659, 0.22440584, 0.22380847,\n",
       "       0.22049436, 0.22017658, 0.21995   , 0.21814494, 0.21788391,\n",
       "       0.21646993, 0.21606688, 0.21563718, 0.21413735, 0.20883663,\n",
       "       0.20333867, 0.19870095, 0.19626187, 0.1956245 , 0.19133046,\n",
       "       0.19125572, 0.19032134, 0.18932155, 0.18916254, 0.1888752 ,\n",
       "       0.18709634, 0.1869853 , 0.18600957, 0.18533365, 0.18223424,\n",
       "       0.1803612 , 0.18034796, 0.1797194 , 0.17949079, 0.17944607,\n",
       "       0.17852862, 0.17692864, 0.17547278, 0.17299332, 0.16764538,\n",
       "       0.16230865, 0.16102608, 0.16094919, 0.15927643, 0.1567188 ,\n",
       "       0.15605254, 0.15550493, 0.15543254, 0.15368947, 0.15227075,\n",
       "       0.15058234, 0.14812402, 0.14587721, 0.14566997, 0.14386249,\n",
       "       0.14224987, 0.14127181, 0.13941291, 0.13869299, 0.13855097,\n",
       "       0.13761483, 0.13410538, 0.13403058, 0.12782915, 0.12678985,\n",
       "       0.1261277 , 0.12564008, 0.12457063, 0.12252986, 0.1184003 ,\n",
       "       0.11749443, 0.11302806, 0.1125396 , 0.11159554, 0.10626522,\n",
       "       0.10612082, 0.10611299, 0.10582098, 0.10406452, 0.10220698,\n",
       "       0.10208403, 0.10054505, 0.09991505, 0.09674564, 0.09666847,\n",
       "       0.09240452, 0.09024229, 0.08477604, 0.0833143 , 0.08140714,\n",
       "       0.0806303 , 0.07647036, 0.07581918, 0.07501031, 0.07421423,\n",
       "       0.07045708, 0.06898108, 0.06609138, 0.06594793, 0.06522412,\n",
       "       0.05885044, 0.05562652, 0.05398527, 0.04916522, 0.04913371,\n",
       "       0.04496368, 0.04488099, 0.04198672, 0.03726328, 0.03657537,\n",
       "       0.03465484, 0.03252519, 0.03084705, 0.02573906, 0.02228386,\n",
       "       0.0216397 , 0.02102821, 0.02077434, 0.00904427], dtype=float32)"
      ]
     },
     "execution_count": 272,
     "metadata": {},
     "output_type": "execute_result"
    }
   ],
   "source": [
    "thresholds"
   ]
  },
  {
   "cell_type": "code",
   "execution_count": 273,
   "metadata": {},
   "outputs": [
    {
     "data": {
      "text/plain": [
       "array([<Axes: title={'center': '0'}>, <Axes: title={'center': '1'}>],\n",
       "      dtype=object)"
      ]
     },
     "execution_count": 273,
     "metadata": {},
     "output_type": "execute_result"
    },
    {
     "data": {
      "image/png": "[encoded data removed]",
      "text/plain": [
       "<Figure size 640x480 with 2 Axes>"
      ]
     },
     "metadata": {},
     "output_type": "display_data"
    }
   ],
   "source": [
    "dprob = pd.DataFrame(data = {'probability':y_pred_prob_XG, 'actual':y_test})\n",
    "dprob.probability.hist(by=dprob.actual, sharex=True, sharey=True)"
   ]
  },
  {
   "cell_type": "code",
   "execution_count": 274,
   "metadata": {},
   "outputs": [
    {
     "name": "stdout",
     "output_type": "stream",
     "text": [
      "Sensitivity: 0.6844783715012722\n",
      "Recall: 0.45171849427168576\n"
     ]
    }
   ],
   "source": [
    "op_thres_XG = 0.5\n",
    "\n",
    "evaluate_threshold(op_thres_XG)"
   ]
  },
  {
   "cell_type": "code",
   "execution_count": 275,
   "metadata": {},
   "outputs": [],
   "source": [
    "probs_XG_opt = final_XG.predict_proba(X_model_test)[:, 1]  \n",
    "pred_thres_XG_opt = (probs_XG_opt >= op_thres_XG).astype(int) "
   ]
  },
  {
   "cell_type": "code",
   "execution_count": 276,
   "metadata": {},
   "outputs": [
    {
     "name": "stdout",
     "output_type": "stream",
     "text": [
      "[[276 335]\n",
      " [369 810]]\n"
     ]
    }
   ],
   "source": [
    "print(confusion_matrix(expected, pred_thres_XG_opt))"
   ]
  },
  {
   "cell_type": "code",
   "execution_count": 277,
   "metadata": {},
   "outputs": [
    {
     "name": "stdout",
     "output_type": "stream",
     "text": [
      "              precision    recall  f1-score   support\n",
      "\n",
      "           0       0.43      0.45      0.44       611\n",
      "           1       0.71      0.69      0.70      1179\n",
      "\n",
      "    accuracy                           0.61      1790\n",
      "   macro avg       0.57      0.57      0.57      1790\n",
      "weighted avg       0.61      0.61      0.61      1790\n",
      "\n"
     ]
    }
   ],
   "source": [
    "print(classification_report(expected, pred_thres_XG_opt))"
   ]
  },
  {
   "cell_type": "markdown",
   "metadata": {},
   "source": [
    "Se obtienen los mismos resultados porque sigue siendo el mejor caso con umbral igual a 0,5."
   ]
  },
  {
   "cell_type": "markdown",
   "metadata": {},
   "source": [
    "Se calcula la AUC score."
   ]
  },
  {
   "cell_type": "code",
   "execution_count": 278,
   "metadata": {},
   "outputs": [
    {
     "name": "stdout",
     "output_type": "stream",
     "text": [
      "0.5693706975175223\n"
     ]
    }
   ],
   "source": [
    "print(roc_auc_score(expected, predicted_XG_opt))"
   ]
  },
  {
   "cell_type": "markdown",
   "metadata": {},
   "source": [
    "También ha tenido una pequeña mejora, pero sigue en el mismo intervalo. Es decir, sigue siendo un modelo *F*."
   ]
  },
  {
   "cell_type": "markdown",
   "metadata": {},
   "source": [
    "### 7.4.8 Conclusiones del modelo"
   ]
  },
  {
   "cell_type": "markdown",
   "metadata": {},
   "source": [
    "Tal y como esta el modelo no se estan obteniendo buenos resultados debido a la escasez de entradas y la gran cantidad de dimensiones que presenta el dataset. Estamos obteniendo prácticamente los mismos resultados que si decidieramos clasificar al azar.\n",
    "\n",
    "Aun así cabe resaltar que puede llegar a funcionar mejor que el Random Forest debido a que predice mejor los 0s. Además existe un mayor margen de trabajo a la hora de modificar el umbral de probabilidad."
   ]
  },
  {
   "cell_type": "markdown",
   "metadata": {},
   "source": [
    "## 7.5 Clasificador Logistic Regression"
   ]
  },
  {
   "cell_type": "raw",
   "metadata": {
    "vscode": {
     "languageId": "raw"
    }
   },
   "source": [
    "optm_Logistic = LogisticRegression(solver='liblinear', n_jobs=-1, random_state=seed)\n",
    "param_grid = {\n",
    "    'C': [0.01, 0.1, 1, 10],\n",
    "    'penalty': ['l1', 'l2'],\n",
    "    'class_weight': [None, 'balanced']\n",
    "}\n",
    "\n",
    "grid_search = GridSearchCV(optm_Logistic, param_grid=param_grid, cv=3, \n",
    "                           scoring=make_scorer(f1_score, average='weighted'), n_jobs=-1)\n",
    "\n",
    "inicio = time.time()\n",
    "grid_search.fit(X_model, y_model)\n",
    "fin = time.time()\n",
    "\n",
    "print(f\"The grid search took {(fin - inicio)/60:.2f} minutes.\")\n",
    "print(\"Best parameters:\", grid_search.best_params_)\n",
    "print(\"Best weighted F1 score:\", grid_search.best_score_)"
   ]
  },
  {
   "cell_type": "markdown",
   "metadata": {},
   "source": [
    "The grid search took 0.46 minutes.\n",
    "Best parameters: {'C': 10, 'class_weight': 'balanced', 'penalty': 'l1'}\n",
    "Best weighted F1 score: 0.5940469168808925"
   ]
  },
  {
   "cell_type": "raw",
   "metadata": {
    "vscode": {
     "languageId": "raw"
    }
   },
   "source": [
    "print(\"Best parameters:\", grid_search.best_params_)\n",
    "print(\"Best weighted F1 score:\", grid_search.best_score_)"
   ]
  },
  {
   "cell_type": "markdown",
   "metadata": {},
   "source": [
    "Best parameters: {'C': 10, 'class_weight': 'balanced', 'penalty': 'l1'}\n",
    "Best weighted F1 score: 0.5940469168808925"
   ]
  },
  {
   "cell_type": "raw",
   "metadata": {
    "vscode": {
     "languageId": "raw"
    }
   },
   "source": [
    "results_df = pd.DataFrame(grid_search.cv_results_)\n",
    "top_10_models = results_df.nlargest(10, \"mean_test_score\")\n",
    "\n",
    "print(\"\\nTop 10 models:\")\n",
    "for index, row in top_10_models.iterrows():\n",
    "    print(f\"\\nModel {index+1}:\")\n",
    "    print(f\"Parameters: {row['params']}\")\n",
    "    print(f\"Mean test score: {row['mean_test_score']:.4f}\")"
   ]
  },
  {
   "cell_type": "markdown",
   "metadata": {},
   "source": [
    "Top 10 models:\n",
    "\n",
    "Model 15:\n",
    "Parameters: {'C': 10, 'class_weight': 'balanced', 'penalty': 'l1'}\n",
    "Mean test score: 0.5940\n",
    "\n",
    "Model 14:\n",
    "Parameters: {'C': 10, 'class_weight': None, 'penalty': 'l2'}\n",
    "Mean test score: 0.5926\n",
    "\n",
    "Model 13:\n",
    "Parameters: {'C': 10, 'class_weight': None, 'penalty': 'l1'}\n",
    "Mean test score: 0.5922\n",
    "\n",
    "Model 16:\n",
    "Parameters: {'C': 10, 'class_weight': 'balanced', 'penalty': 'l2'}\n",
    "Mean test score: 0.5910\n",
    "\n",
    "Model 10:\n",
    "Parameters: {'C': 1, 'class_weight': None, 'penalty': 'l2'}\n",
    "Mean test score: 0.5865\n",
    "\n",
    "Model 9:\n",
    "Parameters: {'C': 1, 'class_weight': None, 'penalty': 'l1'}\n",
    "Mean test score: 0.5831\n",
    "\n",
    "Model 12:\n",
    "Parameters: {'C': 1, 'class_weight': 'balanced', 'penalty': 'l2'}\n",
    "Mean test score: 0.5807\n",
    "\n",
    "Model 11:\n",
    "Parameters: {'C': 1, 'class_weight': 'balanced', 'penalty': 'l1'}\n",
    "Mean test score: 0.5792\n",
    "\n",
    "Model 6:\n",
    "Parameters: {'C': 0.1, 'class_weight': None, 'penalty': 'l2'}\n",
    "Mean test score: 0.5759\n",
    "\n",
    "Model 5:\n",
    "Parameters: {'C': 0.1, 'class_weight': None, 'penalty': 'l1'}\n",
    "Mean test score: 0.5742"
   ]
  },
  {
   "cell_type": "code",
   "execution_count": 279,
   "metadata": {},
   "outputs": [
    {
     "name": "stdout",
     "output_type": "stream",
     "text": [
      "[[363 248]\n",
      " [516 663]]\n",
      "              precision    recall  f1-score   support\n",
      "\n",
      "           0       0.41      0.59      0.49       611\n",
      "           1       0.73      0.56      0.63      1179\n",
      "\n",
      "    accuracy                           0.57      1790\n",
      "   macro avg       0.57      0.58      0.56      1790\n",
      "weighted avg       0.62      0.57      0.58      1790\n",
      "\n"
     ]
    },
    {
     "name": "stderr",
     "output_type": "stream",
     "text": [
      "c:\\Users\\david\\anaconda3\\Lib\\site-packages\\sklearn\\linear_model\\_logistic.py:1271: UserWarning: 'n_jobs' > 1 does not have any effect when 'solver' is set to 'liblinear'. Got 'n_jobs' = 28.\n",
      "  warnings.warn(\n"
     ]
    }
   ],
   "source": [
    "params_final_Logistic = {\n",
    "    'solver': 'liblinear',\n",
    "    'penalty': 'l2',\n",
    "    'C': 1.0,\n",
    "    'class_weight': 'balanced',\n",
    "    'n_jobs': -1,\n",
    "    'random_state': seed\n",
    "}\n",
    "\n",
    "final_Logistic = LogisticRegression(**params_final_Logistic)\n",
    "final_Logistic.fit(X_model, y_model)\n",
    "predicted_Log_opt = final_Logistic.predict(X_model_test)\n",
    "\n",
    "print(confusion_matrix(expected, predicted_Log_opt))\n",
    "print(classification_report(expected, predicted_Log_opt))"
   ]
  },
  {
   "cell_type": "code",
   "execution_count": 280,
   "metadata": {},
   "outputs": [
    {
     "name": "stderr",
     "output_type": "stream",
     "text": [
      "c:\\Users\\david\\anaconda3\\Lib\\site-packages\\sklearn\\linear_model\\_logistic.py:1271: UserWarning: 'n_jobs' > 1 does not have any effect when 'solver' is set to 'liblinear'. Got 'n_jobs' = 28.\n",
      "  warnings.warn(\n"
     ]
    },
    {
     "data": {
      "text/plain": [
       "0.5731843575418994"
      ]
     },
     "execution_count": 280,
     "metadata": {},
     "output_type": "execute_result"
    }
   ],
   "source": [
    "final_Logistic.fit(X_model, y_model)\n",
    "\n",
    "predicted_Log_opt = final_Logistic.predict(X_model_test)\n",
    "accuracy_score(expected, predicted_Log_opt)"
   ]
  },
  {
   "cell_type": "code",
   "execution_count": 281,
   "metadata": {},
   "outputs": [
    {
     "name": "stdout",
     "output_type": "stream",
     "text": [
      "[[363 248]\n",
      " [516 663]]\n",
      "              precision    recall  f1-score   support\n",
      "\n",
      "           0       0.41      0.59      0.49       611\n",
      "           1       0.73      0.56      0.63      1179\n",
      "\n",
      "    accuracy                           0.57      1790\n",
      "   macro avg       0.57      0.58      0.56      1790\n",
      "weighted avg       0.62      0.57      0.58      1790\n",
      "\n"
     ]
    }
   ],
   "source": [
    "print(confusion_matrix(expected, predicted_Log_opt))\n",
    "print(classification_report(expected, predicted_Log_opt))"
   ]
  },
  {
   "cell_type": "code",
   "execution_count": 282,
   "metadata": {},
   "outputs": [
    {
     "name": "stdout",
     "output_type": "stream",
     "text": [
      "[[363 248]\n",
      " [516 663]]\n",
      "              precision    recall  f1-score   support\n",
      "\n",
      "           0       0.41      0.59      0.49       611\n",
      "           1       0.73      0.56      0.63      1179\n",
      "\n",
      "    accuracy                           0.57      1790\n",
      "   macro avg       0.57      0.58      0.56      1790\n",
      "weighted avg       0.62      0.57      0.58      1790\n",
      "\n"
     ]
    }
   ],
   "source": [
    "op_thres_Logistic = 0.5\n",
    "probs_Log_opt = final_Logistic.predict_proba(X_model_test)[:, 1]  \n",
    "pred_thres_Log_opt = (probs_Log_opt >= op_thres_Logistic).astype(int)\n",
    "\n",
    "print(confusion_matrix(expected, pred_thres_Log_opt))\n",
    "print(classification_report(expected, pred_thres_Log_opt))"
   ]
  },
  {
   "cell_type": "code",
   "execution_count": 283,
   "metadata": {},
   "outputs": [
    {
     "data": {
      "image/png": "[encoded data removed]",
      "text/plain": [
       "<Figure size 640x480 with 1 Axes>"
      ]
     },
     "metadata": {},
     "output_type": "display_data"
    },
    {
     "name": "stdout",
     "output_type": "stream",
     "text": [
      "ROC-AUC Score: 0.6206749596387406\n"
     ]
    }
   ],
   "source": [
    "y_pred_prob_Log_opt = final_Logistic.predict_proba(X_model_test)[:, 1]\n",
    "fpr, tpr, thresholds = roc_curve(y_test, y_pred_prob_Log_opt)\n",
    "plt.figure()\n",
    "plt.plot(fpr, tpr, label='ROC curve (Logistic Optimized)')\n",
    "plt.plot([0, 1], [0, 1], 'k--')\n",
    "plt.xlabel('False Positive Rate')\n",
    "plt.ylabel('True Positive Rate')\n",
    "plt.title('ROC Curve - Logistic (Optimized)')\n",
    "plt.legend(loc=\"lower right\")\n",
    "plt.show()\n",
    "\n",
    "print(\"ROC-AUC Score:\", roc_auc_score(y_test, y_pred_prob_Log_opt))"
   ]
  },
  {
   "cell_type": "markdown",
   "metadata": {},
   "source": [
    "## 7.6 Clasificador Gradient Boosting"
   ]
  },
  {
   "cell_type": "code",
   "execution_count": 284,
   "metadata": {},
   "outputs": [
    {
     "data": {
      "text/plain": [
       "0.6011173184357542"
      ]
     },
     "execution_count": 284,
     "metadata": {},
     "output_type": "execute_result"
    }
   ],
   "source": [
    "model_GB = GradientBoostingClassifier(random_state=seed)\n",
    "model_GB.fit(X_model, y_model)\n",
    "\n",
    "predicted_GB = model_GB.predict(X_model_test)\n",
    "\n",
    "accuracy_score(expected, predicted_GB)"
   ]
  },
  {
   "cell_type": "code",
   "execution_count": 285,
   "metadata": {},
   "outputs": [
    {
     "name": "stdout",
     "output_type": "stream",
     "text": [
      "[[279 332]\n",
      " [382 797]]\n",
      "              precision    recall  f1-score   support\n",
      "\n",
      "           0       0.42      0.46      0.44       611\n",
      "           1       0.71      0.68      0.69      1179\n",
      "\n",
      "    accuracy                           0.60      1790\n",
      "   macro avg       0.56      0.57      0.56      1790\n",
      "weighted avg       0.61      0.60      0.60      1790\n",
      "\n"
     ]
    }
   ],
   "source": [
    "print(confusion_matrix(expected, predicted_GB))\n",
    "print(classification_report(expected, predicted_GB))"
   ]
  },
  {
   "cell_type": "code",
   "execution_count": 286,
   "metadata": {},
   "outputs": [
    {
     "data": {
      "image/png": "[encoded data removed]",
      "text/plain": [
       "<Figure size 640x480 with 1 Axes>"
      ]
     },
     "metadata": {},
     "output_type": "display_data"
    },
    {
     "name": "stdout",
     "output_type": "stream",
     "text": [
      "ROC-AUC Score: 0.6122029126739212\n"
     ]
    }
   ],
   "source": [
    "y_pred_prob_GB = model_GB.predict_proba(X_model_test)[:, 1]\n",
    "fpr, tpr, thresholds = roc_curve(y_test, y_pred_prob_GB)\n",
    "plt.figure()\n",
    "plt.plot(fpr, tpr, label='ROC curve (GB)')\n",
    "plt.plot([0, 1], [0, 1], 'k--')\n",
    "plt.xlabel('False Positive Rate')\n",
    "plt.ylabel('True Positive Rate')\n",
    "plt.title('ROC Curve - Gradient Boosting')\n",
    "plt.legend(loc=\"lower right\")\n",
    "plt.show()\n",
    "\n",
    "print(\"ROC-AUC Score:\", roc_auc_score(y_test, y_pred_prob_GB))"
   ]
  },
  {
   "cell_type": "raw",
   "metadata": {
    "vscode": {
     "languageId": "raw"
    }
   },
   "source": [
    "optm_GB = GradientBoostingClassifier(random_state=seed)\n",
    "\n",
    "param_grid = {\n",
    "    'learning_rate': [0.05, 0.1],\n",
    "    'n_estimators': [100, 500],\n",
    "    'max_depth': [5, 8],\n",
    "    'subsample': [0.9, 1.0],\n",
    "    'max_features': [0.9, 1.0]\n",
    "}\n",
    "\n",
    "grid_search = GridSearchCV(optm_GB, param_grid=param_grid, \n",
    "                           scoring=make_scorer(f1_score, average='weighted'), cv=3, n_jobs=-1)\n",
    "\n",
    "inicio = time.time()\n",
    "grid_search.fit(X_model, y_model)\n",
    "fin = time.time()\n",
    "print(f\"The grid search took {(fin - inicio)/60:.2f} minutes to run.\")"
   ]
  },
  {
   "cell_type": "markdown",
   "metadata": {},
   "source": [
    "The grid search took 7.39 minutes to run."
   ]
  },
  {
   "cell_type": "raw",
   "metadata": {
    "vscode": {
     "languageId": "raw"
    }
   },
   "source": [
    "print(\"Best parameters:\", grid_search.best_params_)\n",
    "print(\"Best weighted F1 score:\", grid_search.best_score_)"
   ]
  },
  {
   "cell_type": "markdown",
   "metadata": {},
   "source": [
    "Best parameters: {'learning_rate': 0.05, 'max_depth': 8, 'max_features': 1.0, 'n_estimators': 500, 'subsample': 0.9}\n",
    "Best weighted F1 score: 0.6143783320231025"
   ]
  },
  {
   "cell_type": "raw",
   "metadata": {
    "vscode": {
     "languageId": "raw"
    }
   },
   "source": [
    "results_df = pd.DataFrame(grid_search.cv_results_)\n",
    "top_10_models = results_df.nlargest(10, \"mean_test_score\")\n",
    "\n",
    "print(\"\\nTop 10 models:\")\n",
    "for index, row in top_10_models.iterrows():\n",
    "    print(f\"\\nModel {index+1}:\")\n",
    "    print(f\"Parameters: {row['params']}\")\n",
    "    print(f\"Mean test score: {row['mean_test_score']:.4f}\")"
   ]
  },
  {
   "cell_type": "markdown",
   "metadata": {},
   "source": [
    "Top 10 models:\n",
    "\n",
    "Model 15:\n",
    "Parameters: {'learning_rate': 0.05, 'max_depth': 8, 'max_features': 1.0, 'n_estimators': 500, 'subsample': 0.9}\n",
    "Mean test score: 0.6144\n",
    "\n",
    "Model 11:\n",
    "Parameters: {'learning_rate': 0.05, 'max_depth': 8, 'max_features': 0.9, 'n_estimators': 500, 'subsample': 0.9}\n",
    "Mean test score: 0.6143\n",
    "\n",
    "Model 27:\n",
    "Parameters: {'learning_rate': 0.1, 'max_depth': 8, 'max_features': 0.9, 'n_estimators': 500, 'subsample': 0.9}\n",
    "Mean test score: 0.6106\n",
    "\n",
    "Model 12:\n",
    "Parameters: {'learning_rate': 0.05, 'max_depth': 8, 'max_features': 0.9, 'n_estimators': 500, 'subsample': 1.0}\n",
    "Mean test score: 0.6097\n",
    "\n",
    "Model 13:\n",
    "Parameters: {'learning_rate': 0.05, 'max_depth': 8, 'max_features': 1.0, 'n_estimators': 100, 'subsample': 0.9}\n",
    "Mean test score: 0.6094\n",
    "\n",
    "Model 31:\n",
    "Parameters: {'learning_rate': 0.1, 'max_depth': 8, 'max_features': 1.0, 'n_estimators': 500, 'subsample': 0.9}\n",
    "Mean test score: 0.6067\n",
    "\n",
    "Model 16:\n",
    "Parameters: {'learning_rate': 0.05, 'max_depth': 8, 'max_features': 1.0, 'n_estimators': 500, 'subsample': 1.0}\n",
    "Mean test score: 0.6056\n",
    "\n",
    "Model 32:\n",
    "Parameters: {'learning_rate': 0.1, 'max_depth': 8, 'max_features': 1.0, 'n_estimators': 500, 'subsample': 1.0}\n",
    "Mean test score: 0.6048\n",
    "\n",
    "Model 9:\n",
    "Parameters: {'learning_rate': 0.05, 'max_depth': 8, 'max_features': 0.9, 'n_estimators': 100, 'subsample': 0.9}\n",
    "Mean test score: 0.6024\n",
    "\n",
    "Model 10:\n",
    "Parameters: {'learning_rate': 0.05, 'max_depth': 8, 'max_features': 0.9, 'n_estimators': 100, 'subsample': 1.0}\n",
    "Mean test score: 0.6023"
   ]
  },
  {
   "cell_type": "code",
   "execution_count": 287,
   "metadata": {},
   "outputs": [],
   "source": [
    "params_final_GB = {\n",
    "    'learning_rate': 0.1,\n",
    "    'n_estimators': 500,\n",
    "    'max_depth': 8,\n",
    "    'subsample': 0.9,\n",
    "    'max_features': 1.0,\n",
    "    'random_state': seed\n",
    "}\n",
    "\n",
    "final_GB = GradientBoostingClassifier(**params_final_GB)"
   ]
  },
  {
   "cell_type": "code",
   "execution_count": 288,
   "metadata": {},
   "outputs": [
    {
     "data": {
      "text/plain": [
       "0.5977653631284916"
      ]
     },
     "execution_count": 288,
     "metadata": {},
     "output_type": "execute_result"
    }
   ],
   "source": [
    "final_GB.fit(X_model, y_model)\n",
    "\n",
    "predicted_GB_opt = final_GB.predict(X_model_test)\n",
    "accuracy_score(expected, predicted_GB_opt)"
   ]
  },
  {
   "cell_type": "code",
   "execution_count": 289,
   "metadata": {},
   "outputs": [
    {
     "name": "stdout",
     "output_type": "stream",
     "text": [
      "[[257 354]\n",
      " [366 813]]\n",
      "              precision    recall  f1-score   support\n",
      "\n",
      "           0       0.41      0.42      0.42       611\n",
      "           1       0.70      0.69      0.69      1179\n",
      "\n",
      "    accuracy                           0.60      1790\n",
      "   macro avg       0.55      0.56      0.55      1790\n",
      "weighted avg       0.60      0.60      0.60      1790\n",
      "\n"
     ]
    }
   ],
   "source": [
    "print(confusion_matrix(expected, predicted_GB_opt))\n",
    "print(classification_report(expected, predicted_GB_opt))"
   ]
  },
  {
   "cell_type": "code",
   "execution_count": 290,
   "metadata": {},
   "outputs": [
    {
     "name": "stdout",
     "output_type": "stream",
     "text": [
      "[[257 354]\n",
      " [366 813]]\n",
      "              precision    recall  f1-score   support\n",
      "\n",
      "           0       0.41      0.42      0.42       611\n",
      "           1       0.70      0.69      0.69      1179\n",
      "\n",
      "    accuracy                           0.60      1790\n",
      "   macro avg       0.55      0.56      0.55      1790\n",
      "weighted avg       0.60      0.60      0.60      1790\n",
      "\n"
     ]
    }
   ],
   "source": [
    "op_thres_GB = 0.5\n",
    "probs_GB_opt = final_GB.predict_proba(X_model_test)[:, 1]  \n",
    "pred_thres_GB_opt = (probs_GB_opt >= op_thres_GB).astype(int)\n",
    "\n",
    "print(confusion_matrix(expected, pred_thres_GB_opt))\n",
    "print(classification_report(expected, pred_thres_GB_opt))"
   ]
  },
  {
   "cell_type": "code",
   "execution_count": 291,
   "metadata": {},
   "outputs": [
    {
     "data": {
      "image/png": "[encoded data removed]",
      "text/plain": [
       "<Figure size 640x480 with 1 Axes>"
      ]
     },
     "metadata": {},
     "output_type": "display_data"
    },
    {
     "name": "stdout",
     "output_type": "stream",
     "text": [
      "ROC-AUC Score: 0.5925824126246411\n"
     ]
    }
   ],
   "source": [
    "y_pred_prob_GB_opt = final_GB.predict_proba(X_model_test)[:, 1]\n",
    "fpr, tpr, thresholds = roc_curve(y_test, y_pred_prob_GB_opt)\n",
    "plt.figure()\n",
    "plt.plot(fpr, tpr, label='ROC curve (GB Optimized)')\n",
    "plt.plot([0, 1], [0, 1], 'k--')\n",
    "plt.xlabel('False Positive Rate')\n",
    "plt.ylabel('True Positive Rate')\n",
    "plt.title('ROC Curve - Gradient Boosting (Optimized)')\n",
    "plt.legend(loc=\"lower right\")\n",
    "plt.show()\n",
    "\n",
    "print(\"ROC-AUC Score:\", roc_auc_score(y_test, y_pred_prob_GB_opt))"
   ]
  },
  {
   "cell_type": "markdown",
   "metadata": {},
   "source": [
    "# 8. Exportar CSV"
   ]
  },
  {
   "cell_type": "markdown",
   "metadata": {},
   "source": [
    "## 8.1 Asignacion de las variables"
   ]
  },
  {
   "cell_type": "markdown",
   "metadata": {},
   "source": [
    "Asignamos las variables para el analisis en función del desarrollo del apartado del preprocesado."
   ]
  },
  {
   "cell_type": "code",
   "execution_count": 292,
   "metadata": {},
   "outputs": [],
   "source": [
    "X_kaggle = X_res_final\n",
    "y_kaggle = y_res_final\n",
    "\n",
    "X_kaggle_test = X_scaled_te_final"
   ]
  },
  {
   "cell_type": "markdown",
   "metadata": {},
   "source": [
    "## 8.2 Clasificador Random Forest"
   ]
  },
  {
   "cell_type": "markdown",
   "metadata": {},
   "source": [
    "Se entrena con los nuevos valores de train y test, y se modifica el umbral de probabilidades. En un principio, el valor del umbral era el de la variable *op_thres_Random*, pero se decidió finalmente que el valor del umbral fueran valores numéricos para que fuera más sencillo hacer diversas pruebas en Kaggle."
   ]
  },
  {
   "cell_type": "code",
   "execution_count": 293,
   "metadata": {},
   "outputs": [],
   "source": [
    "final_Forest.fit(X_kaggle, y_kaggle)\n",
    "\n",
    "probs_For_final = final_Forest.predict_proba(X_kaggle_test)[:, 1]  \n",
    "pred_thres_For_final = (probs_For_final >= 0.5).astype(int) "
   ]
  },
  {
   "cell_type": "markdown",
   "metadata": {},
   "source": [
    "Se crea un *dataframe* con las predicciones obtenidas con su correspondiente *id*."
   ]
  },
  {
   "cell_type": "code",
   "execution_count": 294,
   "metadata": {},
   "outputs": [],
   "source": [
    "df_label_Random = pd.DataFrame(pred_thres_For_final, columns=['label'])"
   ]
  },
  {
   "cell_type": "code",
   "execution_count": 295,
   "metadata": {},
   "outputs": [],
   "source": [
    "df_id = df_test['id'].reset_index(drop=True)"
   ]
  },
  {
   "cell_type": "code",
   "execution_count": 296,
   "metadata": {},
   "outputs": [],
   "source": [
    "df_final_Random = pd.concat([df_id, df_label_Random], axis=1)"
   ]
  },
  {
   "cell_type": "markdown",
   "metadata": {},
   "source": [
    "Mostramos los resultados obtenidos para tener una idea de la proporción de 1s y 0s de Kaggle."
   ]
  },
  {
   "cell_type": "code",
   "execution_count": 297,
   "metadata": {},
   "outputs": [
    {
     "data": {
      "text/plain": [
       "label\n",
       "1    2299\n",
       "0    1537\n",
       "Name: count, dtype: int64"
      ]
     },
     "execution_count": 297,
     "metadata": {},
     "output_type": "execute_result"
    }
   ],
   "source": [
    "df_final_Random['label'].value_counts()"
   ]
  },
  {
   "cell_type": "markdown",
   "metadata": {},
   "source": [
    "Se transforma el *dataframe* a un archivo *CSV*."
   ]
  },
  {
   "cell_type": "code",
   "execution_count": 298,
   "metadata": {},
   "outputs": [],
   "source": [
    "df_final_Random.to_csv('./submit/randomWord2vec.csv', index=False)"
   ]
  },
  {
   "cell_type": "markdown",
   "metadata": {},
   "source": [
    "## 8.3 Clasificador XGBoost"
   ]
  },
  {
   "cell_type": "code",
   "execution_count": 299,
   "metadata": {},
   "outputs": [],
   "source": [
    "final_XG.fit(X_kaggle, y_kaggle)\n",
    "\n",
    "probs_XG_final = final_XG.predict_proba(X_kaggle_test)[:, 1]  \n",
    "pred_thres_XG_final = (probs_XG_final >= 0.40).astype(int) "
   ]
  },
  {
   "cell_type": "markdown",
   "metadata": {},
   "source": [
    "Se crea un *dataframe* con las predicciones obtenidas con su correspondiente *id*."
   ]
  },
  {
   "cell_type": "code",
   "execution_count": 300,
   "metadata": {},
   "outputs": [],
   "source": [
    "df_label_XG = pd.DataFrame(pred_thres_XG_final, columns=['label'])"
   ]
  },
  {
   "cell_type": "code",
   "execution_count": 301,
   "metadata": {},
   "outputs": [],
   "source": [
    "df_id = df_test['id'].reset_index(drop=True)"
   ]
  },
  {
   "cell_type": "code",
   "execution_count": 302,
   "metadata": {},
   "outputs": [],
   "source": [
    "df_final_XG = pd.concat([df_id, df_label_XG], axis=1)"
   ]
  },
  {
   "cell_type": "markdown",
   "metadata": {},
   "source": [
    "Mostramos los resultados obtenidos para tener una idea de la proporción de 1s y 0s de Kaggle."
   ]
  },
  {
   "cell_type": "code",
   "execution_count": 303,
   "metadata": {},
   "outputs": [
    {
     "data": {
      "text/plain": [
       "label\n",
       "1    2681\n",
       "0    1155\n",
       "Name: count, dtype: int64"
      ]
     },
     "execution_count": 303,
     "metadata": {},
     "output_type": "execute_result"
    }
   ],
   "source": [
    "df_final_XG['label'].value_counts()"
   ]
  },
  {
   "cell_type": "markdown",
   "metadata": {},
   "source": [
    "Se transforma el *dataframe* a un archivo *CSV*."
   ]
  },
  {
   "cell_type": "code",
   "execution_count": 304,
   "metadata": {},
   "outputs": [],
   "source": [
    "df_final_XG.to_csv('./submit/xgboostWord2vec.csv', index=False)"
   ]
  },
  {
   "cell_type": "markdown",
   "metadata": {},
   "source": [
    "## 8.4 Clasificador Logistic Regression"
   ]
  },
  {
   "cell_type": "code",
   "execution_count": 305,
   "metadata": {},
   "outputs": [],
   "source": [
    "probs_For_final = final_Logistic.predict_proba(X_kaggle_test)[:, 1]  \n",
    "pred_thres_For_final = (probs_For_final >= 0.5).astype(int)"
   ]
  },
  {
   "cell_type": "code",
   "execution_count": 306,
   "metadata": {},
   "outputs": [],
   "source": [
    "df_label_Logistic = pd.DataFrame(pred_thres_For_final, columns=['label'])"
   ]
  },
  {
   "cell_type": "code",
   "execution_count": 307,
   "metadata": {},
   "outputs": [],
   "source": [
    "df_id = df_test['id'].reset_index(drop=True)"
   ]
  },
  {
   "cell_type": "code",
   "execution_count": 308,
   "metadata": {},
   "outputs": [],
   "source": [
    "df_final_Logistic = pd.concat([df_id, df_label_Logistic], axis=1)"
   ]
  },
  {
   "cell_type": "code",
   "execution_count": 309,
   "metadata": {},
   "outputs": [
    {
     "data": {
      "text/plain": [
       "label\n",
       "1    2238\n",
       "0    1598\n",
       "Name: count, dtype: int64"
      ]
     },
     "execution_count": 309,
     "metadata": {},
     "output_type": "execute_result"
    }
   ],
   "source": [
    "df_final_Logistic['label'].value_counts()"
   ]
  },
  {
   "cell_type": "code",
   "execution_count": 310,
   "metadata": {},
   "outputs": [],
   "source": [
    "df_final_Logistic.to_csv('./submit/LogisticWord2vec.csv', index=False)"
   ]
  },
  {
   "cell_type": "markdown",
   "metadata": {},
   "source": [
    "# 8.5 Clasificador GradientBoosting"
   ]
  },
  {
   "cell_type": "code",
   "execution_count": 311,
   "metadata": {},
   "outputs": [],
   "source": [
    "probs_GB_final = final_GB.predict_proba(X_kaggle_test)[:, 1]  \n",
    "pred_thres_GB_final = (probs_GB_final >= 0.40).astype(int) "
   ]
  },
  {
   "cell_type": "code",
   "execution_count": 312,
   "metadata": {},
   "outputs": [],
   "source": [
    "df_label_GB = pd.DataFrame(pred_thres_GB_final, columns=['label'])"
   ]
  },
  {
   "cell_type": "code",
   "execution_count": 313,
   "metadata": {},
   "outputs": [],
   "source": [
    "df_id = df_test['id'].reset_index(drop=True)"
   ]
  },
  {
   "cell_type": "code",
   "execution_count": 314,
   "metadata": {},
   "outputs": [],
   "source": [
    "df_final_GB = pd.concat([df_id, df_label_GB], axis=1)"
   ]
  },
  {
   "cell_type": "code",
   "execution_count": 315,
   "metadata": {},
   "outputs": [
    {
     "data": {
      "text/plain": [
       "label\n",
       "1    2803\n",
       "0    1033\n",
       "Name: count, dtype: int64"
      ]
     },
     "execution_count": 315,
     "metadata": {},
     "output_type": "execute_result"
    }
   ],
   "source": [
    "df_final_GB['label'].value_counts()"
   ]
  },
  {
   "cell_type": "code",
   "execution_count": 316,
   "metadata": {},
   "outputs": [],
   "source": [
    "df_final_GB.to_csv('./submit/GBWord2vec.csv', index=False)"
   ]
  },
  {
   "cell_type": "markdown",
   "metadata": {},
   "source": [
    "# 9. Referencias"
   ]
  },
  {
   "cell_type": "markdown",
   "metadata": {},
   "source": [
    "* [ColumnTransformer. (s. f.). Scikit-learn.](https://scikit-learn.org/stable/modules/generated/sklearn.compose.ColumnTransformer.html)\n",
    "* [GridSearchCV. (s. f.). Scikit-learn.](https://scikit-learn.org/stable/modules/generated/sklearn.model_selection.GridSearchCV.html)\n",
    "* [RandomForestClassifier. (s. f.). Scikit-learn.](https://scikit-learn.org/stable/modules/generated/sklearn.ensemble.RandomForestClassifier.html)\n",
    "* [RandomUnderSampler — Version 0.13.0. (s. f.). Imbalance learn.](https://imbalanced-learn.org/stable/references/generated/imblearn.under_sampling.RandomUnderSampler.html)\n",
    "* [SMOTE — Version 0.13.0. (s. f.). Imbalanced learn.](https://imbalanced-learn.org/stable/references/generated/imblearn.over_sampling.SMOTE.html)\n",
    "* [StandardScaler. (s. f.). Scikit-learn.](https://scikit-learn.org/stable/modules/generated/sklearn.preprocessing.StandardScaler.html)\n",
    "* [train_test_split. (s. f.). Scikit-learn.](https://scikit-learn.org/stable/modules/generated/sklearn.model_selection.train_test_split.html)\n",
    "* [TfidfVectorizer. (s. f.). Scikit-learn.](https://scikit-learn.org/stable/modules/generated/sklearn.feature_extraction.text.TfidfVectorizer.html)\n",
    "* [TruncatedSVD. (s. f.). Scikit-learn.](https://scikit-learn.org/stable/modules/generated/sklearn.decomposition.TruncatedSVD.html)\n",
    "* [XGBoost Parameters — xgboost 3.0.0 documentation. (s. f.).](https://xgboost.readthedocs.io/en/release_3.0.0/parameter.html)"
   ]
  }
 ],
 "metadata": {
  "kernelspec": {
   "display_name": "base",
   "language": "python",
   "name": "python3"
  },
  "language_info": {
   "codemirror_mode": {
    "name": "ipython",
    "version": 3
   },
   "file_extension": ".py",
   "mimetype": "text/x-python",
   "name": "python",
   "nbconvert_exporter": "python",
   "pygments_lexer": "ipython3",
   "version": "3.12.7"
  }
 },
 "nbformat": 4,
 "nbformat_minor": 4
}
