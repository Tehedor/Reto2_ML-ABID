{
 "cells": [
  {
   "cell_type": "markdown",
   "metadata": {},
   "source": [
    "<header style=\"width:100%;position:relative\">\n",
    "  <div style=\"width:80%;float:right;\">\n",
    "    <h1>False Political Claim Detection</h1>\n",
    "    <h3>Training & Model Evaluation 2</h3>\n",
    "    <h5>Grupo 2</h5>\n",
    "  </div>\n",
    "        <img style=\"width:15%;\" src=\"./images/logo.jpg\" alt=\"UPM\" />\n",
    "</header>"
   ]
  },
  {
   "cell_type": "markdown",
   "metadata": {},
   "source": [
    "# 1. Importar librerias"
   ]
  },
  {
   "cell_type": "code",
   "execution_count": 3,
   "metadata": {},
   "outputs": [
    {
     "name": "stdout",
     "output_type": "stream",
     "text": [
      "Todas las librerias fueron correctamente importadas.\n"
     ]
    },
    {
     "name": "stderr",
     "output_type": "stream",
     "text": [
      "[nltk_data] Downloading package punkt_tab to\n",
      "[nltk_data]     /Users/rsalvatori/nltk_data...\n",
      "[nltk_data]   Package punkt_tab is already up-to-date!\n",
      "[nltk_data] Downloading package punkt to\n",
      "[nltk_data]     /Users/rsalvatori/nltk_data...\n",
      "[nltk_data]   Package punkt is already up-to-date!\n"
     ]
    }
   ],
   "source": [
    "# General import and load data\n",
    "import pandas as pd\n",
    "import numpy as np\n",
    "\n",
    "# Resampling\n",
    "from imblearn.under_sampling import RandomUnderSampler\n",
    "from imblearn.over_sampling import SMOTE\n",
    "\n",
    "# Preprocessing\n",
    "from sklearn.compose import ColumnTransformer\n",
    "from sklearn.preprocessing import StandardScaler\n",
    "from sklearn.feature_extraction.text import TfidfVectorizer\n",
    "from sklearn.decomposition import TruncatedSVD\n",
    "from sklearn.decomposition import PCA\n",
    "\n",
    "# Splitting\n",
    "from sklearn.model_selection import train_test_split\n",
    "\n",
    "# Estimators\n",
    "from sklearn.linear_model import LogisticRegression\n",
    "from sklearn.ensemble import GradientBoostingClassifier\n",
    "\n",
    "# Evaluation\n",
    "from sklearn.metrics import accuracy_score, confusion_matrix, classification_report\n",
    "from sklearn.metrics import make_scorer, f1_score, recall_score, roc_curve, roc_auc_score\n",
    "\n",
    "# Optimization\n",
    "from sklearn.model_selection import GridSearchCV, PredefinedSplit\n",
    "\n",
    "# Visualization\n",
    "import matplotlib.pyplot as plt\n",
    "\n",
    "# Time optimization\n",
    "import time\n",
    "# word2vec\n",
    "from gensim.models import Word2Vec\n",
    "import gensim\n",
    "import numpy as np\n",
    "from nltk.tokenize import word_tokenize\n",
    "import nltk\n",
    "from nltk.tokenize import word_tokenize\n",
    "import nltk\n",
    "from nltk.tokenize import word_tokenize\n",
    "nltk.download('punkt_tab')\n",
    "nltk.download('punkt') \n",
    "\n",
    "\n",
    "print(\"Todas las librerias fueron correctamente importadas.\")"
   ]
  },
  {
   "cell_type": "markdown",
   "metadata": {},
   "source": [
    "# 2. Variables globales y funciones auxiliares"
   ]
  },
  {
   "cell_type": "markdown",
   "metadata": {},
   "source": [
    "Se fija un seed para todo el documento para fijar la aleatoriedad y así obtener resultados replicables."
   ]
  },
  {
   "cell_type": "code",
   "execution_count": 7,
   "metadata": {},
   "outputs": [],
   "source": [
    "seed = 42"
   ]
  },
  {
   "cell_type": "markdown",
   "metadata": {},
   "source": [
    "Función utilizado para evaluar los distintos umbrales en la curva de ROC."
   ]
  },
  {
   "cell_type": "code",
   "execution_count": 10,
   "metadata": {},
   "outputs": [],
   "source": [
    "def evaluate_threshold(threshold):\n",
    "    print('Sensitivity:', tpr[thresholds > threshold][-1])\n",
    "    print('Recall:', 1 - fpr[thresholds > threshold][-1])"
   ]
  },
  {
   "cell_type": "markdown",
   "metadata": {},
   "source": [
    "# 3. Carga del dataframe"
   ]
  },
  {
   "cell_type": "markdown",
   "metadata": {},
   "source": [
    "Se cargan los datos de la ruta *formated/train_exportado.csv*, los cuales son los datos ya procesados por uno de nuestros compañeros."
   ]
  },
  {
   "cell_type": "code",
   "execution_count": 14,
   "metadata": {},
   "outputs": [
    {
     "name": "stdout",
     "output_type": "stream",
     "text": [
      "Datos cargados correctamente\n",
      "\n"
     ]
    }
   ],
   "source": [
    "url = \"formated/train_exportado.csv\"\n",
    "df = pd.read_csv(url)\n",
    "\n",
    "print(\"Datos cargados correctamente\\n\")"
   ]
  },
  {
   "cell_type": "markdown",
   "metadata": {},
   "source": [
    "También cargamos el test que debemos predecir para Kaggle de la ruta *formated/test_exportado.csv*."
   ]
  },
  {
   "cell_type": "code",
   "execution_count": 17,
   "metadata": {},
   "outputs": [
    {
     "name": "stdout",
     "output_type": "stream",
     "text": [
      "Test cargado correctamente\n",
      "\n"
     ]
    }
   ],
   "source": [
    "url = \"formated/test_exportado.csv\"\n",
    "df_test = pd.read_csv(url)\n",
    "\n",
    "print(\"Test cargado correctamente\\n\")"
   ]
  },
  {
   "cell_type": "markdown",
   "metadata": {},
   "source": [
    "# 4. Seleccion de las caracteristicas"
   ]
  },
  {
   "cell_type": "markdown",
   "metadata": {},
   "source": [
    "En el siguiente array se muestran todas las caracteristicas por si se decide realizar pruebas con otras *features*."
   ]
  },
  {
   "cell_type": "code",
   "execution_count": 21,
   "metadata": {},
   "outputs": [],
   "source": [
    "all_features = [\n",
    "    # Identificador\n",
    "    'id',\n",
    "\n",
    "    # Etiqueta objetivo\n",
    "    'label',\n",
    "\n",
    "    # Texto original y procesado\n",
    "    'statement', 'statement-raw', 'statement-lemmatize', \n",
    "\n",
    "    # Features derivados del texto\n",
    "    'statement-ner', 'feelings',\n",
    "\n",
    "    # One-hot encoded de los temas reagrupados del texto \n",
    "    'subject-ciencia_y_tecnologia', 'subject-economia_y_finanzas',\n",
    "    'subject-educacion', 'subject-medio_ambiente_y_energia', 'subject-otros',\n",
    "    'subject-politica_y_gobierno', 'subject-relaciones_internacionales',\n",
    "    'subject-salud_y_bienestar', 'subject-seguridad_y_justicia',\n",
    "    'subject-sociedad_y_cultura', 'subject-trabajo_y_empleo',\n",
    "\n",
    "    # Resto de las categoricas agrupadas\n",
    "    'speaker_grouped', 'speaker_job_grouped', 'state_info_grouped', 'party_group',\n",
    "\n",
    "    # Resto de las categoricas agrupadas y codificadas\n",
    "    'speaker_grouped_cod', 'speaker_job_grouped_cod',\n",
    "    'state_info_grouped_cod', 'party_group_cod',\n",
    "\n",
    "    # Variables generadas por LLM los null\n",
    "    'speaker_job-llm', 'speaker_job_cod-llm',\n",
    "    'state_info-llm', 'state_info_cod-llm',\n",
    "    'party_affiliation-llm', 'party_affiliation_cod-llm'\n",
    "]"
   ]
  },
  {
   "cell_type": "markdown",
   "metadata": {},
   "source": [
    "Se seleccionan todas las categorias menos: \n",
    "* ***id***: no aporta ningún valor.\n",
    "* ***label***: variable a predecir.\n",
    "* ***statement***: esta *feature* esta por si nos es necesario en algun momento futuro tener el texto sin procesar.\n",
    "* ***statement-lemmatize***: esta *feature* solo esta para probar en notebooks posteriores si clasifica mejor o peor con las raices de las palabras.\n",
    "* ***statement-ner***: esta *feature* esta para ver si el clasificador funciona mejor con el NER por separado.\n",
    "* ***speaker_grouped***, ***speaker_job_grouped***, ***state_info_grouped***, ***party_group***: suponemos que tenemos la misma información ya codificada.\n",
    "* ***speaker_job-llm***, ***speaker_job_cod-llm***, ***state_info-llm***, ***state_info_cod-llm***, ***party_affiliation-llm***, ***party_affiliation_cod-llm***: esta información ya esta en otras *features*, la diferencia esta en como se tratan los nulos asi que se analizará cual funciona mejor si con LLM o sin ellos durante el apartado de clasificación."
   ]
  },
  {
   "cell_type": "code",
   "execution_count": 24,
   "metadata": {},
   "outputs": [],
   "source": [
    "selected_features = [\n",
    "    # Texto\n",
    "    'statement-raw',\n",
    "        \n",
    "    # Features derivados del texto\n",
    "    'feelings',\n",
    "\n",
    "    # One-hot encoded de los temas reagrupados del texto \n",
    "    'subject-ciencia_y_tecnologia', 'subject-economia_y_finanzas',\n",
    "    'subject-educacion', 'subject-medio_ambiente_y_energia', 'subject-otros',\n",
    "    'subject-politica_y_gobierno', 'subject-relaciones_internacionales',\n",
    "    'subject-salud_y_bienestar', 'subject-seguridad_y_justicia',\n",
    "    'subject-sociedad_y_cultura', 'subject-trabajo_y_empleo',\n",
    "\n",
    "    # Resto de las categoricas agrupadas y codificadas\n",
    "    'speaker_grouped_cod', 'speaker_job_grouped_cod',\n",
    "    'state_info_grouped_cod', 'party_group_cod'\n",
    "]"
   ]
  },
  {
   "cell_type": "markdown",
   "metadata": {},
   "source": [
    "En caso de querer probar si funcionan mejor las de los LLM, se sustituirán por su simil. También si se quiere probar el texto lematizado se sustituira por el *raw*."
   ]
  },
  {
   "cell_type": "markdown",
   "metadata": {},
   "source": [
    "De las cuales texto es:"
   ]
  },
  {
   "cell_type": "code",
   "execution_count": 28,
   "metadata": {},
   "outputs": [],
   "source": [
    "text = 'statement-raw'"
   ]
  },
  {
   "cell_type": "markdown",
   "metadata": {},
   "source": [
    "Y las que no se corresponden con texto son:"
   ]
  },
  {
   "cell_type": "code",
   "execution_count": 31,
   "metadata": {},
   "outputs": [],
   "source": [
    "no_text = [\n",
    "    # Features derivados del texto\n",
    "    'feelings',\n",
    "\n",
    "    # One-hot encoded de los temas reagrupados del texto \n",
    "    'subject-ciencia_y_tecnologia', 'subject-economia_y_finanzas',\n",
    "    'subject-educacion', 'subject-medio_ambiente_y_energia', 'subject-otros',\n",
    "    'subject-politica_y_gobierno', 'subject-relaciones_internacionales',\n",
    "    'subject-salud_y_bienestar', 'subject-seguridad_y_justicia',\n",
    "    'subject-sociedad_y_cultura', 'subject-trabajo_y_empleo',\n",
    "\n",
    "    # Resto de las categoricas agrupadas y codificadas\n",
    "     'speaker_grouped_cod', 'speaker_job_grouped_cod',\n",
    "     'state_info_grouped_cod', 'party_group_cod'\n",
    "]"
   ]
  },
  {
   "cell_type": "markdown",
   "metadata": {},
   "source": [
    "Y de las cuales, numéricas son las siguientes:"
   ]
  },
  {
   "cell_type": "code",
   "execution_count": 34,
   "metadata": {},
   "outputs": [],
   "source": [
    "numeric_vars = [\n",
    "    'speaker_grouped_cod', 'speaker_job_grouped_cod',\n",
    "    'state_info_grouped_cod', 'party_group_cod'\n",
    "]"
   ]
  },
  {
   "cell_type": "markdown",
   "metadata": {},
   "source": [
    "# 5. Carga de los datos y division en entrenamiento y test"
   ]
  },
  {
   "cell_type": "markdown",
   "metadata": {},
   "source": [
    "Cargamos las caracteristicas seleccionadas en la variable X y el objetivo *Accept* en la variable y."
   ]
  },
  {
   "cell_type": "code",
   "execution_count": 38,
   "metadata": {},
   "outputs": [],
   "source": [
    "X = df[selected_features] \n",
    "y = df['label'].values"
   ]
  },
  {
   "cell_type": "markdown",
   "metadata": {},
   "source": [
    "Se separa ya en entrenamiento y test para no falsear los datos del test al realizar el balanceo."
   ]
  },
  {
   "cell_type": "code",
   "execution_count": 41,
   "metadata": {},
   "outputs": [],
   "source": [
    "X_train, X_test, y_train, y_test = train_test_split(X, y, test_size=0.2, random_state=seed)"
   ]
  },
  {
   "cell_type": "markdown",
   "metadata": {},
   "source": [
    "A la hora de subir el modelo a Kaggle, ya se nos da dividido el entrenamiento y el test. Por ello, se utilizarán todos los datos tratados como entrenamiento (aunque también se le aplicará el mejor caso de preprocesado para cada modelo)."
   ]
  },
  {
   "cell_type": "code",
   "execution_count": 44,
   "metadata": {},
   "outputs": [],
   "source": [
    "X_train_final = X\n",
    "y_train_final = y\n",
    "\n",
    "X_test_final = df_test[selected_features] "
   ]
  },
  {
   "cell_type": "markdown",
   "metadata": {},
   "source": [
    "# 6. Preprocesado"
   ]
  },
  {
   "cell_type": "markdown",
   "metadata": {},
   "source": [
    "Como se menciona en el notebook dedicado al preprocesamiento, primero se tratará el texto, después se reducirá su dimensionalidad con un *PCA*, se estandarizarán las variables codificadas mediante un *StandardScaler* y, finalmente, se realizará un remuestreo mediante *SMOTE* y *RandomUnderSampler*. \n",
    "\n",
    "En caso de querer probar el caso de preprocesamiento 6, será necesario eliminar el *StandardScaler* junto al *ColumnTransformer*."
   ]
  },
  {
   "cell_type": "markdown",
   "metadata": {},
   "source": [
    "## 6.1 Tratamiento de los textos"
   ]
  },
  {
   "cell_type": "markdown",
   "metadata": {},
   "source": [
    "### 6.1.1 Vectorización"
   ]
  },
  {
   "cell_type": "markdown",
   "metadata": {},
   "source": [
    "Primero tokenizamos el texto para Word2Vec"
   ]
  },
  {
   "cell_type": "code",
   "execution_count": 51,
   "metadata": {},
   "outputs": [],
   "source": [
    "\n",
    "# Tokeniza el texto \n",
    "#X_train_tokens = X_train[text].apply(lambda x: x.split())\n",
    "#X_test_tokens = X_test[text].apply(lambda x: x.split())\n",
    "\n",
    "X_train_tokens = X_train[text].apply(lambda x: word_tokenize(str(x)))\n",
    "X_test_tokens = X_test[text].apply(lambda x: word_tokenize(str(x)))\n"
   ]
  },
  {
   "cell_type": "markdown",
   "metadata": {},
   "source": [
    "A continuación se entrena un modelo Word2Vec utilizando los textos tokenizados del conjunto de entrenamiento. Posteriormente, se obtiene un vector representativo para cada texto calculando la media de los vectores de las palabras que aparecen en el vocabulario del modelo. Finalmente, se aplica este proceso tanto al conjunto de entrenamiento como al de test.\n"
   ]
  },
  {
   "cell_type": "code",
   "execution_count": 53,
   "metadata": {},
   "outputs": [],
   "source": [
    "w2v_model = Word2Vec(sentences=X_train_tokens, vector_size=30, window=2, min_count=2, workers=1, seed=42)\n",
    "\n",
    "\n",
    "# Palabras conocidas\n",
    "vocab = set(w2v_model.wv.index_to_key)\n",
    "\n",
    "def sentence_vector(tokens, model, size=30):\n",
    "    vectors = [model.wv[w] for w in tokens if w in vocab]\n",
    "    if len(vectors) == 0:\n",
    "        return np.zeros(size)\n",
    "    else:\n",
    "        return np.mean(vectors, axis=0)\n",
    "\n",
    "# Aplica a train y test\n",
    "X_txt_train = np.vstack(X_train_tokens.apply(lambda x: sentence_vector(x, w2v_model)))\n",
    "X_txt_test = np.vstack(X_test_tokens.apply(lambda x: sentence_vector(x, w2v_model)))"
   ]
  },
  {
   "cell_type": "markdown",
   "metadata": {},
   "source": [
    "Después para el dataset que se utilizará para subir a Kaggle."
   ]
  },
  {
   "cell_type": "code",
   "execution_count": 56,
   "metadata": {},
   "outputs": [],
   "source": [
    "# Tokeniza el texto \n",
    "#X_train_tokens_final = X_train_final[text].apply(lambda x: x.split())\n",
    "#X_test_tokens_final = X_test_final[text].apply(lambda x: x.split())\n",
    "\n",
    "X_train_tokens_final = X_train_final[text].apply(lambda x: word_tokenize(str(x)))\n",
    "X_test_tokens_final = X_test_final[text].apply(lambda x: word_tokenize(str(x)))"
   ]
  },
  {
   "cell_type": "code",
   "execution_count": 57,
   "metadata": {},
   "outputs": [],
   "source": [
    "w2v_model_final = Word2Vec(sentences=X_train_tokens_final, vector_size=30, window=2, min_count=2, workers=1, seed=42)\n",
    "\n",
    "\n",
    "# Palabras conocidas\n",
    "vocab_final = set(w2v_model_final.wv.index_to_key)\n",
    "\n",
    "def sentence_vector(tokens, model, size=30):\n",
    "    vectors = [model.wv[w] for w in tokens if w in vocab_final]\n",
    "    if len(vectors) == 0:\n",
    "        return np.zeros(size)\n",
    "    else:\n",
    "        return np.mean(vectors, axis=0)\n",
    "\n",
    "# Aplica a train y test\n",
    "X_txt_tr_final = np.vstack(X_train_tokens_final.apply(lambda x: sentence_vector(x, w2v_model_final)))\n",
    "X_txt_te_final = np.vstack(X_test_tokens_final.apply(lambda x: sentence_vector(x, w2v_model_final)))"
   ]
  },
  {
   "cell_type": "markdown",
   "metadata": {},
   "source": [
    "Después de analizar la varianza explicada mediante PCA (6.1.3), se observó que un número reducido de componentes era suficiente para conservar el 95% de la varianza. Por tanto, se consideró razonable reducir también la dimensionalidad inicial de los vectores Word2Vec a 30, con el objetivo de eliminar redundancias y reducir la complejidad del modelo, minimizando así el riesgo de sobreajuste sin una pérdida significativa de información."
   ]
  },
  {
   "cell_type": "markdown",
   "metadata": {},
   "source": [
    "## 6.1.2 Unificación de características"
   ]
  },
  {
   "cell_type": "code",
   "execution_count": 61,
   "metadata": {},
   "outputs": [],
   "source": [
    "# Train\n",
    "X_svd_train = pd.DataFrame(X_txt_train, columns=[f\"svd_{i}\" for i in range(X_txt_train.shape[1])])\n",
    "X_rest_train = X_train[no_text].reset_index(drop=True)\n",
    "\n",
    "# Test\n",
    "X_svd_test = pd.DataFrame(X_txt_test, columns=[f\"svd_{i}\" for i in range(X_txt_test.shape[1])])\n",
    "X_rest_test = X_test[no_text].reset_index(drop=True)\n",
    "\n",
    "# Text + Resto de features\n",
    "X_total_train = pd.concat([X_svd_train, X_rest_train], axis=1)\n",
    "X_total_test = pd.concat([X_svd_test, X_rest_test], axis=1)"
   ]
  },
  {
   "cell_type": "markdown",
   "metadata": {},
   "source": [
    "Ahora kaggle"
   ]
  },
  {
   "cell_type": "code",
   "execution_count": 63,
   "metadata": {},
   "outputs": [],
   "source": [
    "# Train\n",
    "X_svd_tr_final = pd.DataFrame(X_txt_tr_final, columns=[f\"svd_{i}\" for i in range(X_txt_tr_final.shape[1])])\n",
    "X_rest_tr_final = X_train_final[no_text].reset_index(drop=True)\n",
    "\n",
    "# Test\n",
    "X_svd_te_final = pd.DataFrame(X_txt_te_final, columns=[f\"svd_{i}\" for i in range(X_txt_te_final.shape[1])])\n",
    "X_rest_te_final = X_test_final[no_text].reset_index(drop=True)\n",
    "\n",
    "# Text + Resto de features\n",
    "X_tot_tr_final = pd.concat([X_svd_tr_final, X_rest_tr_final], axis=1)\n",
    "X_tot_te_final = pd.concat([X_svd_te_final, X_rest_te_final], axis=1)"
   ]
  },
  {
   "cell_type": "markdown",
   "metadata": {},
   "source": [
    "## 6.1.3 Reducción dimensionalidad"
   ]
  },
  {
   "cell_type": "markdown",
   "metadata": {},
   "source": [
    "Primero se estandarizan las características combinadas (texto + resto de variables) utilizando `StandardScaler`, ya que PCA es sensible a la escala de las variables.  \n",
    "A continuación, se aplica PCA sin limitar el número de componentes para calcular la varianza explicada acumulada y determinar cuántos componentes son necesarios para conservar al menos el 95% de la información del conjunto de entrenamiento.\n"
   ]
  },
  {
   "cell_type": "raw",
   "metadata": {
    "vscode": {
     "languageId": "raw"
    }
   },
   "source": [
    "scaler = StandardScaler()\n",
    "X_total_train_scaled = scaler.fit_transform(X_total_train)\n",
    "X_total_test_scaled = scaler.transform(X_total_test)\n",
    "\n",
    "# PCA sin límite para evaluar varianza explicada\n",
    "pca_temp = PCA(random_state=seed)\n",
    "pca_temp.fit(X_total_train_scaled)\n",
    "explained = np.cumsum(pca_temp.explained_variance_ratio_)\n",
    "\n",
    "#  Mostrar varianza explicada acumulada (primeros 30 componentes)\n",
    "print(\"Varianza explicada acumulada (primeros 30 componentes):\")\n",
    "for i in range(min(30, len(explained))):\n",
    "    print(f\"Componente {i+1:2d}: {explained[i]:.4f}\")\n"
   ]
  },
  {
   "cell_type": "markdown",
   "metadata": {},
   "source": [
    "En esta sección se selecciona el número mínimo de componentes necesarios para conservar al menos el 95% de la varianza.  \n",
    "Se ajusta y transforma el conjunto de datos con estos componentes, y finalmente se convierten los resultados a `DataFrame`, renombrando las columnas con el prefijo `pca_`.\n"
   ]
  },
  {
   "cell_type": "raw",
   "metadata": {
    "vscode": {
     "languageId": "raw"
    }
   },
   "source": [
    "# Elegir número mínimo de componentes para explicar 95%\n",
    "threshold = 0.95\n",
    "n_components = np.argmax(explained >= threshold) + 1\n",
    "print(f\"\\nPara explicar al menos el {int(threshold*100)}% de la varianza, se necesitan {n_components} componentes.\")\n",
    "\n",
    "# Aplicar PCA final \n",
    "pca = PCA(n_components=n_components, random_state=seed)\n",
    "X_total_train_pca = pca.fit_transform(X_total_train_scaled)\n",
    "X_total_test_pca = pca.transform(X_total_test_scaled)\n",
    "\n",
    "# Convertir resultado PCA a DataFrame y reasignar los nombres originales\n",
    "X_total_train = pd.DataFrame(X_total_train_pca, columns=[f'pca_{i}' for i in range(X_total_train_pca.shape[1])])\n",
    "X_total_test = pd.DataFrame(X_total_test_pca, columns=[f'pca_{i}' for i in range(X_total_test_pca.shape[1])])\n"
   ]
  },
  {
   "cell_type": "markdown",
   "metadata": {},
   "source": [
    "Ahora kaggle"
   ]
  },
  {
   "cell_type": "raw",
   "metadata": {
    "vscode": {
     "languageId": "raw"
    }
   },
   "source": [
    "scaler_final = StandardScaler()\n",
    "X_tot_tr_final_scaled = scaler_final.fit_transform(X_tot_tr_final)\n",
    "X_tot_te_final_scaled = scaler_final.transform(X_tot_te_final)\n",
    "\n",
    "#  PCA sin límite para evaluar varianza explicada\n",
    "pca_temp_final = PCA(random_state=seed)\n",
    "pca_temp_final.fit(X_tot_tr_final_scaled)\n",
    "explained_final = np.cumsum(pca_temp_final.explained_variance_ratio_)\n",
    "\n",
    "# Mostrar varianza explicada acumulada (primeros 30 componentes)\n",
    "print(\"Varianza explicada acumulada (primeros 30 componentes) - dataset final:\")\n",
    "for i in range(min(30, len(explained_final))):\n",
    "    print(f\"Componente {i+1:2d}: {explained_final[i]:.4f}\")\n",
    "\n"
   ]
  },
  {
   "cell_type": "raw",
   "metadata": {
    "vscode": {
     "languageId": "raw"
    }
   },
   "source": [
    "# Elegir número mínimo de componentes para explicar 95% \n",
    "threshold = 0.95\n",
    "n_components_final = np.argmax(explained_final >= threshold) + 1\n",
    "print(f\"\\nPara explicar al menos el {int(threshold*100)}% de la varianza, se necesitan {n_components_final} componentes en dataset final.\")\n",
    "\n",
    "# Aplicar PCA final con número óptimo de componentes\n",
    "pca_final = PCA(n_components=n_components_final, random_state=seed)\n",
    "X_tot_tr_final_pca = pca_final.fit_transform(X_tot_tr_final_scaled)\n",
    "X_tot_te_final_pca = pca_final.transform(X_tot_te_final_scaled)\n",
    "\n",
    "# Convertir resultado PCA a DataFrame y reasignar los nombres originales\n",
    "X_tot_tr_final = pd.DataFrame(X_tot_tr_final_pca, columns=[f'pca_{i}' for i in range(X_tot_tr_final_pca.shape[1])])\n",
    "X_tot_te_final = pd.DataFrame(X_tot_te_final_pca, columns=[f'pca_{i}' for i in range(X_tot_te_final_pca.shape[1])])"
   ]
  },
  {
   "cell_type": "markdown",
   "metadata": {},
   "source": [
    " Observaciones finales\n",
    "\n",
    "Tras realizar las pruebas utilizando PCA para la reducción de dimensionalidad, se ha comprobado que los resultados obtenidos en las métricas de evaluación han sido **peores que aquellos obtenidos sin aplicar dicha reducción**.\n",
    "\n",
    "Esto sugiere que, en este caso concreto, la pérdida de información causada por la reducción de componentes no compensa la posible mejora en eficiencia o generalización.  \n",
    "Por tanto, **se recomienda no aplicar PCA** en este pipeline para conservar el máximo rendimiento del modelo.\n"
   ]
  },
  {
   "cell_type": "markdown",
   "metadata": {},
   "source": [
    "## 6.2 Remuestreo"
   ]
  },
  {
   "cell_type": "markdown",
   "metadata": {},
   "source": [
    "### 6.2.1 Estandarizacion"
   ]
  },
  {
   "cell_type": "markdown",
   "metadata": {},
   "source": [
    "Primero se estandarizan el conjunto para el análisis."
   ]
  },
  {
   "cell_type": "code",
   "execution_count": 76,
   "metadata": {},
   "outputs": [],
   "source": [
    "prep = ColumnTransformer([\n",
    "    ('numericas', StandardScaler(), numeric_vars)\n",
    "], remainder='passthrough').fit(X_total_train) \n",
    "\n",
    "X_scaled_train = prep.transform(X_total_train)\n",
    "X_scaled_test = prep.transform(X_total_test)"
   ]
  },
  {
   "cell_type": "markdown",
   "metadata": {},
   "source": [
    "Después el de Kaggle."
   ]
  },
  {
   "cell_type": "code",
   "execution_count": 79,
   "metadata": {},
   "outputs": [],
   "source": [
    "prep_final = ColumnTransformer([\n",
    "    ('numericas', StandardScaler(), numeric_vars)\n",
    "], remainder='passthrough').fit(X_tot_tr_final) \n",
    "\n",
    "X_scaled_tr_final = prep_final.transform(X_tot_tr_final)\n",
    "X_scaled_te_final = prep_final.transform(X_tot_te_final)"
   ]
  },
  {
   "cell_type": "markdown",
   "metadata": {},
   "source": [
    "### 6.2.2 Undersampling"
   ]
  },
  {
   "cell_type": "markdown",
   "metadata": {},
   "source": [
    "Primero se realiza un undersampling al conjunto para el análisis."
   ]
  },
  {
   "cell_type": "code",
   "execution_count": 83,
   "metadata": {},
   "outputs": [],
   "source": [
    "under = RandomUnderSampler(sampling_strategy=0.7, random_state=seed)\n",
    "X_under, y_under = under.fit_resample(X_scaled_train, y_train)"
   ]
  },
  {
   "cell_type": "markdown",
   "metadata": {},
   "source": [
    "Después el de Kaggle."
   ]
  },
  {
   "cell_type": "code",
   "execution_count": 86,
   "metadata": {},
   "outputs": [],
   "source": [
    "under_final = RandomUnderSampler(sampling_strategy=0.7, random_state=seed)\n",
    "X_under_final, y_under_final = under_final.fit_resample(X_scaled_tr_final, y_train_final)"
   ]
  },
  {
   "cell_type": "markdown",
   "metadata": {},
   "source": [
    "### 6.2.3 Oversampling"
   ]
  },
  {
   "cell_type": "markdown",
   "metadata": {},
   "source": [
    "Primero se realiza un oversampling al conjunto para el análisis."
   ]
  },
  {
   "cell_type": "code",
   "execution_count": 90,
   "metadata": {},
   "outputs": [],
   "source": [
    "over = SMOTE(sampling_strategy=0.9, random_state=seed)\n",
    "X_resampled, y_resampled = over.fit_resample(X_under, y_under)"
   ]
  },
  {
   "cell_type": "markdown",
   "metadata": {},
   "source": [
    "Después el de Kaggle."
   ]
  },
  {
   "cell_type": "code",
   "execution_count": 93,
   "metadata": {},
   "outputs": [],
   "source": [
    "over_final = SMOTE(sampling_strategy=0.9, k_neighbors=10, random_state=seed)\n",
    "X_res_final, y_res_final = over_final.fit_resample(X_under_final, y_under_final)"
   ]
  },
  {
   "cell_type": "markdown",
   "metadata": {},
   "source": [
    "# 7. Modelos seleccionados"
   ]
  },
  {
   "cell_type": "markdown",
   "metadata": {},
   "source": [
    "## 7.1 Introduccion"
   ]
  },
  {
   "cell_type": "markdown",
   "metadata": {},
   "source": [
    "En el anterior notebook se evaluaron una serie de modelos tanto por F1 score como por ROC-AUC score. Los modelos con mejores resultados para ambas categorías fueron:\n",
    "* Random Forest.\n",
    "* GradientBoosting.\n",
    "* XGBoost.\n",
    "* LogisticRegression.\n",
    "* SVC con kernel rbf.\n",
    "\n",
    "Por lo tanto nos dispondremos a probar dichos modelos a continuación."
   ]
  },
  {
   "cell_type": "markdown",
   "metadata": {},
   "source": [
    "## 7.2 Asignacion de las variables"
   ]
  },
  {
   "cell_type": "markdown",
   "metadata": {},
   "source": [
    "Asignamos las variables para el analisis en función del desarrollo del apartado del preprocesado."
   ]
  },
  {
   "cell_type": "code",
   "execution_count": 100,
   "metadata": {},
   "outputs": [],
   "source": [
    "X_model = X_resampled\n",
    "y_model = y_resampled\n",
    "\n",
    "X_model_test = X_scaled_test\n",
    "expected = y_test"
   ]
  },
  {
   "cell_type": "markdown",
   "metadata": {},
   "source": [
    "## 7.3 Clasificador Logistic Regression"
   ]
  },
  {
   "cell_type": "code",
   "execution_count": 103,
   "metadata": {},
   "outputs": [
    {
     "name": "stderr",
     "output_type": "stream",
     "text": [
      "/opt/anaconda3/lib/python3.12/site-packages/sklearn/linear_model/_logistic.py:1271: UserWarning: 'n_jobs' > 1 does not have any effect when 'solver' is set to 'liblinear'. Got 'n_jobs' = 8.\n",
      "  warnings.warn(\n",
      "/opt/anaconda3/lib/python3.12/site-packages/sklearn/linear_model/_logistic.py:1271: UserWarning: 'n_jobs' > 1 does not have any effect when 'solver' is set to 'liblinear'. Got 'n_jobs' = 8.\n",
      "  warnings.warn(\n",
      "/opt/anaconda3/lib/python3.12/site-packages/sklearn/linear_model/_logistic.py:1271: UserWarning: 'n_jobs' > 1 does not have any effect when 'solver' is set to 'liblinear'. Got 'n_jobs' = 8.\n",
      "  warnings.warn(\n",
      "/opt/anaconda3/lib/python3.12/site-packages/sklearn/linear_model/_logistic.py:1271: UserWarning: 'n_jobs' > 1 does not have any effect when 'solver' is set to 'liblinear'. Got 'n_jobs' = 8.\n",
      "  warnings.warn(\n",
      "/opt/anaconda3/lib/python3.12/site-packages/sklearn/linear_model/_logistic.py:1271: UserWarning: 'n_jobs' > 1 does not have any effect when 'solver' is set to 'liblinear'. Got 'n_jobs' = 8.\n",
      "  warnings.warn(\n",
      "/opt/anaconda3/lib/python3.12/site-packages/sklearn/linear_model/_logistic.py:1271: UserWarning: 'n_jobs' > 1 does not have any effect when 'solver' is set to 'liblinear'. Got 'n_jobs' = 8.\n",
      "  warnings.warn(\n",
      "/opt/anaconda3/lib/python3.12/site-packages/sklearn/linear_model/_logistic.py:1271: UserWarning: 'n_jobs' > 1 does not have any effect when 'solver' is set to 'liblinear'. Got 'n_jobs' = 8.\n",
      "  warnings.warn(\n",
      "/opt/anaconda3/lib/python3.12/site-packages/sklearn/linear_model/_logistic.py:1271: UserWarning: 'n_jobs' > 1 does not have any effect when 'solver' is set to 'liblinear'. Got 'n_jobs' = 8.\n",
      "  warnings.warn(\n",
      "/opt/anaconda3/lib/python3.12/site-packages/sklearn/linear_model/_logistic.py:1271: UserWarning: 'n_jobs' > 1 does not have any effect when 'solver' is set to 'liblinear'. Got 'n_jobs' = 8.\n",
      "  warnings.warn(\n",
      "/opt/anaconda3/lib/python3.12/site-packages/sklearn/linear_model/_logistic.py:1271: UserWarning: 'n_jobs' > 1 does not have any effect when 'solver' is set to 'liblinear'. Got 'n_jobs' = 8.\n",
      "  warnings.warn(\n",
      "/opt/anaconda3/lib/python3.12/site-packages/sklearn/linear_model/_logistic.py:1271: UserWarning: 'n_jobs' > 1 does not have any effect when 'solver' is set to 'liblinear'. Got 'n_jobs' = 8.\n",
      "  warnings.warn(\n",
      "/opt/anaconda3/lib/python3.12/site-packages/sklearn/linear_model/_logistic.py:1271: UserWarning: 'n_jobs' > 1 does not have any effect when 'solver' is set to 'liblinear'. Got 'n_jobs' = 8.\n",
      "  warnings.warn(\n",
      "/opt/anaconda3/lib/python3.12/site-packages/sklearn/linear_model/_logistic.py:1271: UserWarning: 'n_jobs' > 1 does not have any effect when 'solver' is set to 'liblinear'. Got 'n_jobs' = 8.\n",
      "  warnings.warn(\n",
      "/opt/anaconda3/lib/python3.12/site-packages/sklearn/linear_model/_logistic.py:1271: UserWarning: 'n_jobs' > 1 does not have any effect when 'solver' is set to 'liblinear'. Got 'n_jobs' = 8.\n",
      "  warnings.warn(\n",
      "/opt/anaconda3/lib/python3.12/site-packages/sklearn/linear_model/_logistic.py:1271: UserWarning: 'n_jobs' > 1 does not have any effect when 'solver' is set to 'liblinear'. Got 'n_jobs' = 8.\n",
      "  warnings.warn(\n",
      "/opt/anaconda3/lib/python3.12/site-packages/sklearn/linear_model/_logistic.py:1271: UserWarning: 'n_jobs' > 1 does not have any effect when 'solver' is set to 'liblinear'. Got 'n_jobs' = 8.\n",
      "  warnings.warn(\n",
      "/opt/anaconda3/lib/python3.12/site-packages/sklearn/linear_model/_logistic.py:1271: UserWarning: 'n_jobs' > 1 does not have any effect when 'solver' is set to 'liblinear'. Got 'n_jobs' = 8.\n",
      "  warnings.warn(\n",
      "/opt/anaconda3/lib/python3.12/site-packages/sklearn/linear_model/_logistic.py:1271: UserWarning: 'n_jobs' > 1 does not have any effect when 'solver' is set to 'liblinear'. Got 'n_jobs' = 8.\n",
      "  warnings.warn(\n",
      "/opt/anaconda3/lib/python3.12/site-packages/sklearn/linear_model/_logistic.py:1271: UserWarning: 'n_jobs' > 1 does not have any effect when 'solver' is set to 'liblinear'. Got 'n_jobs' = 8.\n",
      "  warnings.warn(\n",
      "/opt/anaconda3/lib/python3.12/site-packages/sklearn/linear_model/_logistic.py:1271: UserWarning: 'n_jobs' > 1 does not have any effect when 'solver' is set to 'liblinear'. Got 'n_jobs' = 8.\n",
      "  warnings.warn(\n",
      "/opt/anaconda3/lib/python3.12/site-packages/sklearn/linear_model/_logistic.py:1271: UserWarning: 'n_jobs' > 1 does not have any effect when 'solver' is set to 'liblinear'. Got 'n_jobs' = 8.\n",
      "  warnings.warn(\n",
      "/opt/anaconda3/lib/python3.12/site-packages/sklearn/linear_model/_logistic.py:1271: UserWarning: 'n_jobs' > 1 does not have any effect when 'solver' is set to 'liblinear'. Got 'n_jobs' = 8.\n",
      "  warnings.warn(\n",
      "/opt/anaconda3/lib/python3.12/site-packages/sklearn/linear_model/_logistic.py:1271: UserWarning: 'n_jobs' > 1 does not have any effect when 'solver' is set to 'liblinear'. Got 'n_jobs' = 8.\n",
      "  warnings.warn(\n",
      "/opt/anaconda3/lib/python3.12/site-packages/sklearn/linear_model/_logistic.py:1271: UserWarning: 'n_jobs' > 1 does not have any effect when 'solver' is set to 'liblinear'. Got 'n_jobs' = 8.\n",
      "  warnings.warn(\n",
      "/opt/anaconda3/lib/python3.12/site-packages/sklearn/linear_model/_logistic.py:1271: UserWarning: 'n_jobs' > 1 does not have any effect when 'solver' is set to 'liblinear'. Got 'n_jobs' = 8.\n",
      "  warnings.warn(\n",
      "/opt/anaconda3/lib/python3.12/site-packages/sklearn/linear_model/_logistic.py:1271: UserWarning: 'n_jobs' > 1 does not have any effect when 'solver' is set to 'liblinear'. Got 'n_jobs' = 8.\n",
      "  warnings.warn(\n",
      "/opt/anaconda3/lib/python3.12/site-packages/sklearn/linear_model/_logistic.py:1271: UserWarning: 'n_jobs' > 1 does not have any effect when 'solver' is set to 'liblinear'. Got 'n_jobs' = 8.\n",
      "  warnings.warn(\n",
      "/opt/anaconda3/lib/python3.12/site-packages/sklearn/linear_model/_logistic.py:1271: UserWarning: 'n_jobs' > 1 does not have any effect when 'solver' is set to 'liblinear'. Got 'n_jobs' = 8.\n",
      "  warnings.warn(\n",
      "/opt/anaconda3/lib/python3.12/site-packages/sklearn/linear_model/_logistic.py:1271: UserWarning: 'n_jobs' > 1 does not have any effect when 'solver' is set to 'liblinear'. Got 'n_jobs' = 8.\n",
      "  warnings.warn(\n",
      "/opt/anaconda3/lib/python3.12/site-packages/sklearn/linear_model/_logistic.py:1271: UserWarning: 'n_jobs' > 1 does not have any effect when 'solver' is set to 'liblinear'. Got 'n_jobs' = 8.\n",
      "  warnings.warn(\n",
      "/opt/anaconda3/lib/python3.12/site-packages/sklearn/linear_model/_logistic.py:1271: UserWarning: 'n_jobs' > 1 does not have any effect when 'solver' is set to 'liblinear'. Got 'n_jobs' = 8.\n",
      "  warnings.warn(\n",
      "/opt/anaconda3/lib/python3.12/site-packages/sklearn/linear_model/_logistic.py:1271: UserWarning: 'n_jobs' > 1 does not have any effect when 'solver' is set to 'liblinear'. Got 'n_jobs' = 8.\n",
      "  warnings.warn(\n",
      "/opt/anaconda3/lib/python3.12/site-packages/sklearn/linear_model/_logistic.py:1271: UserWarning: 'n_jobs' > 1 does not have any effect when 'solver' is set to 'liblinear'. Got 'n_jobs' = 8.\n",
      "  warnings.warn(\n",
      "/opt/anaconda3/lib/python3.12/site-packages/sklearn/linear_model/_logistic.py:1271: UserWarning: 'n_jobs' > 1 does not have any effect when 'solver' is set to 'liblinear'. Got 'n_jobs' = 8.\n",
      "  warnings.warn(\n",
      "/opt/anaconda3/lib/python3.12/site-packages/sklearn/linear_model/_logistic.py:1271: UserWarning: 'n_jobs' > 1 does not have any effect when 'solver' is set to 'liblinear'. Got 'n_jobs' = 8.\n",
      "  warnings.warn(\n",
      "/opt/anaconda3/lib/python3.12/site-packages/sklearn/linear_model/_logistic.py:1271: UserWarning: 'n_jobs' > 1 does not have any effect when 'solver' is set to 'liblinear'. Got 'n_jobs' = 8.\n",
      "  warnings.warn(\n",
      "/opt/anaconda3/lib/python3.12/site-packages/sklearn/linear_model/_logistic.py:1271: UserWarning: 'n_jobs' > 1 does not have any effect when 'solver' is set to 'liblinear'. Got 'n_jobs' = 8.\n",
      "  warnings.warn(\n",
      "/opt/anaconda3/lib/python3.12/site-packages/sklearn/linear_model/_logistic.py:1271: UserWarning: 'n_jobs' > 1 does not have any effect when 'solver' is set to 'liblinear'. Got 'n_jobs' = 8.\n",
      "  warnings.warn(\n",
      "/opt/anaconda3/lib/python3.12/site-packages/sklearn/linear_model/_logistic.py:1271: UserWarning: 'n_jobs' > 1 does not have any effect when 'solver' is set to 'liblinear'. Got 'n_jobs' = 8.\n",
      "  warnings.warn(\n",
      "/opt/anaconda3/lib/python3.12/site-packages/sklearn/linear_model/_logistic.py:1271: UserWarning: 'n_jobs' > 1 does not have any effect when 'solver' is set to 'liblinear'. Got 'n_jobs' = 8.\n",
      "  warnings.warn(\n",
      "/opt/anaconda3/lib/python3.12/site-packages/sklearn/linear_model/_logistic.py:1271: UserWarning: 'n_jobs' > 1 does not have any effect when 'solver' is set to 'liblinear'. Got 'n_jobs' = 8.\n",
      "  warnings.warn(\n",
      "/opt/anaconda3/lib/python3.12/site-packages/sklearn/linear_model/_logistic.py:1271: UserWarning: 'n_jobs' > 1 does not have any effect when 'solver' is set to 'liblinear'. Got 'n_jobs' = 8.\n",
      "  warnings.warn(\n",
      "/opt/anaconda3/lib/python3.12/site-packages/sklearn/linear_model/_logistic.py:1271: UserWarning: 'n_jobs' > 1 does not have any effect when 'solver' is set to 'liblinear'. Got 'n_jobs' = 8.\n",
      "  warnings.warn(\n",
      "/opt/anaconda3/lib/python3.12/site-packages/sklearn/linear_model/_logistic.py:1271: UserWarning: 'n_jobs' > 1 does not have any effect when 'solver' is set to 'liblinear'. Got 'n_jobs' = 8.\n",
      "  warnings.warn(\n",
      "/opt/anaconda3/lib/python3.12/site-packages/sklearn/linear_model/_logistic.py:1271: UserWarning: 'n_jobs' > 1 does not have any effect when 'solver' is set to 'liblinear'. Got 'n_jobs' = 8.\n",
      "  warnings.warn(\n",
      "/opt/anaconda3/lib/python3.12/site-packages/sklearn/linear_model/_logistic.py:1271: UserWarning: 'n_jobs' > 1 does not have any effect when 'solver' is set to 'liblinear'. Got 'n_jobs' = 8.\n",
      "  warnings.warn(\n",
      "/opt/anaconda3/lib/python3.12/site-packages/sklearn/linear_model/_logistic.py:1271: UserWarning: 'n_jobs' > 1 does not have any effect when 'solver' is set to 'liblinear'. Got 'n_jobs' = 8.\n",
      "  warnings.warn(\n",
      "/opt/anaconda3/lib/python3.12/site-packages/sklearn/linear_model/_logistic.py:1271: UserWarning: 'n_jobs' > 1 does not have any effect when 'solver' is set to 'liblinear'. Got 'n_jobs' = 8.\n",
      "  warnings.warn(\n",
      "/opt/anaconda3/lib/python3.12/site-packages/sklearn/svm/_base.py:1235: ConvergenceWarning: Liblinear failed to converge, increase the number of iterations.\n",
      "  warnings.warn(\n",
      "/opt/anaconda3/lib/python3.12/site-packages/sklearn/svm/_base.py:1235: ConvergenceWarning: Liblinear failed to converge, increase the number of iterations.\n",
      "  warnings.warn(\n",
      "/opt/anaconda3/lib/python3.12/site-packages/sklearn/svm/_base.py:1235: ConvergenceWarning: Liblinear failed to converge, increase the number of iterations.\n",
      "  warnings.warn(\n",
      "/opt/anaconda3/lib/python3.12/site-packages/sklearn/svm/_base.py:1235: ConvergenceWarning: Liblinear failed to converge, increase the number of iterations.\n",
      "  warnings.warn(\n",
      "/opt/anaconda3/lib/python3.12/site-packages/sklearn/svm/_base.py:1235: ConvergenceWarning: Liblinear failed to converge, increase the number of iterations.\n",
      "  warnings.warn(\n",
      "/opt/anaconda3/lib/python3.12/site-packages/sklearn/linear_model/_logistic.py:1271: UserWarning: 'n_jobs' > 1 does not have any effect when 'solver' is set to 'liblinear'. Got 'n_jobs' = 8.\n",
      "  warnings.warn(\n"
     ]
    },
    {
     "name": "stdout",
     "output_type": "stream",
     "text": [
      "The grid search took 0.46 minutes.\n",
      "Best parameters: {'C': 10, 'class_weight': 'balanced', 'penalty': 'l1'}\n",
      "Best weighted F1 score: 0.5940469168808925\n"
     ]
    },
    {
     "name": "stderr",
     "output_type": "stream",
     "text": [
      "/opt/anaconda3/lib/python3.12/site-packages/sklearn/svm/_base.py:1235: ConvergenceWarning: Liblinear failed to converge, increase the number of iterations.\n",
      "  warnings.warn(\n"
     ]
    }
   ],
   "source": [
    "optm_Logistic = LogisticRegression(solver='liblinear', n_jobs=-1, random_state=seed)\n",
    "param_grid = {\n",
    "    'C': [0.01, 0.1, 1, 10],\n",
    "    'penalty': ['l1', 'l2'],\n",
    "    'class_weight': [None, 'balanced']\n",
    "}\n",
    "\n",
    "grid_search = GridSearchCV(optm_Logistic, param_grid=param_grid, cv=3, \n",
    "                           scoring=make_scorer(f1_score, average='weighted'), n_jobs=-1)\n",
    "\n",
    "inicio = time.time()\n",
    "grid_search.fit(X_model, y_model)\n",
    "fin = time.time()\n",
    "\n",
    "print(f\"The grid search took {(fin - inicio)/60:.2f} minutes.\")\n",
    "print(\"Best parameters:\", grid_search.best_params_)\n",
    "print(\"Best weighted F1 score:\", grid_search.best_score_)\n"
   ]
  },
  {
   "cell_type": "code",
   "execution_count": 104,
   "metadata": {},
   "outputs": [
    {
     "name": "stdout",
     "output_type": "stream",
     "text": [
      "Best parameters: {'C': 10, 'class_weight': 'balanced', 'penalty': 'l1'}\n",
      "Best weighted F1 score: 0.5940469168808925\n"
     ]
    }
   ],
   "source": [
    "print(\"Best parameters:\", grid_search.best_params_)\n",
    "print(\"Best weighted F1 score:\", grid_search.best_score_)"
   ]
  },
  {
   "cell_type": "code",
   "execution_count": 105,
   "metadata": {},
   "outputs": [
    {
     "name": "stdout",
     "output_type": "stream",
     "text": [
      "\n",
      "Top 10 models:\n",
      "\n",
      "Model 15:\n",
      "Parameters: {'C': 10, 'class_weight': 'balanced', 'penalty': 'l1'}\n",
      "Mean test score: 0.5940\n",
      "\n",
      "Model 14:\n",
      "Parameters: {'C': 10, 'class_weight': None, 'penalty': 'l2'}\n",
      "Mean test score: 0.5926\n",
      "\n",
      "Model 13:\n",
      "Parameters: {'C': 10, 'class_weight': None, 'penalty': 'l1'}\n",
      "Mean test score: 0.5922\n",
      "\n",
      "Model 16:\n",
      "Parameters: {'C': 10, 'class_weight': 'balanced', 'penalty': 'l2'}\n",
      "Mean test score: 0.5910\n",
      "\n",
      "Model 10:\n",
      "Parameters: {'C': 1, 'class_weight': None, 'penalty': 'l2'}\n",
      "Mean test score: 0.5865\n",
      "\n",
      "Model 9:\n",
      "Parameters: {'C': 1, 'class_weight': None, 'penalty': 'l1'}\n",
      "Mean test score: 0.5831\n",
      "\n",
      "Model 12:\n",
      "Parameters: {'C': 1, 'class_weight': 'balanced', 'penalty': 'l2'}\n",
      "Mean test score: 0.5807\n",
      "\n",
      "Model 11:\n",
      "Parameters: {'C': 1, 'class_weight': 'balanced', 'penalty': 'l1'}\n",
      "Mean test score: 0.5792\n",
      "\n",
      "Model 6:\n",
      "Parameters: {'C': 0.1, 'class_weight': None, 'penalty': 'l2'}\n",
      "Mean test score: 0.5759\n",
      "\n",
      "Model 5:\n",
      "Parameters: {'C': 0.1, 'class_weight': None, 'penalty': 'l1'}\n",
      "Mean test score: 0.5742\n"
     ]
    }
   ],
   "source": [
    "results_df = pd.DataFrame(grid_search.cv_results_)\n",
    "top_10_models = results_df.nlargest(10, \"mean_test_score\")\n",
    "\n",
    "print(\"\\nTop 10 models:\")\n",
    "for index, row in top_10_models.iterrows():\n",
    "    print(f\"\\nModel {index+1}:\")\n",
    "    print(f\"Parameters: {row['params']}\")\n",
    "    print(f\"Mean test score: {row['mean_test_score']:.4f}\")"
   ]
  },
  {
   "cell_type": "code",
   "execution_count": 106,
   "metadata": {},
   "outputs": [
    {
     "name": "stdout",
     "output_type": "stream",
     "text": [
      "[[363 248]\n",
      " [516 663]]\n",
      "              precision    recall  f1-score   support\n",
      "\n",
      "           0       0.41      0.59      0.49       611\n",
      "           1       0.73      0.56      0.63      1179\n",
      "\n",
      "    accuracy                           0.57      1790\n",
      "   macro avg       0.57      0.58      0.56      1790\n",
      "weighted avg       0.62      0.57      0.58      1790\n",
      "\n"
     ]
    },
    {
     "name": "stderr",
     "output_type": "stream",
     "text": [
      "/opt/anaconda3/lib/python3.12/site-packages/sklearn/linear_model/_logistic.py:1271: UserWarning: 'n_jobs' > 1 does not have any effect when 'solver' is set to 'liblinear'. Got 'n_jobs' = 8.\n",
      "  warnings.warn(\n"
     ]
    }
   ],
   "source": [
    "params_final_Logistic = {\n",
    "    'solver': 'liblinear',\n",
    "    'penalty': 'l2',\n",
    "    'C': 1.0,\n",
    "    'class_weight': 'balanced',\n",
    "    'n_jobs': -1,\n",
    "    'random_state': seed\n",
    "}\n",
    "\n",
    "final_Logistic = LogisticRegression(**params_final_Logistic)\n",
    "final_Logistic.fit(X_model, y_model)\n",
    "predicted_Log_opt = final_Logistic.predict(X_model_test)\n",
    "\n",
    "print(confusion_matrix(expected, predicted_Log_opt))\n",
    "print(classification_report(expected, predicted_Log_opt))\n"
   ]
  },
  {
   "cell_type": "code",
   "execution_count": 107,
   "metadata": {},
   "outputs": [
    {
     "name": "stderr",
     "output_type": "stream",
     "text": [
      "/opt/anaconda3/lib/python3.12/site-packages/sklearn/linear_model/_logistic.py:1271: UserWarning: 'n_jobs' > 1 does not have any effect when 'solver' is set to 'liblinear'. Got 'n_jobs' = 8.\n",
      "  warnings.warn(\n"
     ]
    },
    {
     "data": {
      "text/plain": [
       "0.5731843575418994"
      ]
     },
     "execution_count": 107,
     "metadata": {},
     "output_type": "execute_result"
    }
   ],
   "source": [
    "final_Logistic.fit(X_model, y_model)\n",
    "\n",
    "predicted_Log_opt = final_Logistic.predict(X_model_test)\n",
    "accuracy_score(expected, predicted_Log_opt)"
   ]
  },
  {
   "cell_type": "code",
   "execution_count": 108,
   "metadata": {},
   "outputs": [
    {
     "name": "stdout",
     "output_type": "stream",
     "text": [
      "[[363 248]\n",
      " [516 663]]\n",
      "              precision    recall  f1-score   support\n",
      "\n",
      "           0       0.41      0.59      0.49       611\n",
      "           1       0.73      0.56      0.63      1179\n",
      "\n",
      "    accuracy                           0.57      1790\n",
      "   macro avg       0.57      0.58      0.56      1790\n",
      "weighted avg       0.62      0.57      0.58      1790\n",
      "\n"
     ]
    }
   ],
   "source": [
    "print(confusion_matrix(expected, predicted_Log_opt))\n",
    "print(classification_report(expected, predicted_Log_opt))"
   ]
  },
  {
   "cell_type": "code",
   "execution_count": 109,
   "metadata": {},
   "outputs": [
    {
     "name": "stdout",
     "output_type": "stream",
     "text": [
      "[[363 248]\n",
      " [516 663]]\n",
      "              precision    recall  f1-score   support\n",
      "\n",
      "           0       0.41      0.59      0.49       611\n",
      "           1       0.73      0.56      0.63      1179\n",
      "\n",
      "    accuracy                           0.57      1790\n",
      "   macro avg       0.57      0.58      0.56      1790\n",
      "weighted avg       0.62      0.57      0.58      1790\n",
      "\n"
     ]
    }
   ],
   "source": [
    "op_thres_Logistic = 0.5\n",
    "probs_Log_opt = final_Logistic.predict_proba(X_model_test)[:, 1]  \n",
    "pred_thres_Log_opt = (probs_Log_opt >= op_thres_Logistic).astype(int)\n",
    "\n",
    "print(confusion_matrix(expected, pred_thres_Log_opt))\n",
    "print(classification_report(expected, pred_thres_Log_opt))"
   ]
  },
  {
   "cell_type": "code",
   "execution_count": 110,
   "metadata": {},
   "outputs": [
    {
     "data": {
      "image/png": "[encoded data removed]",
      "text/plain": [
       "<Figure size 640x480 with 1 Axes>"
      ]
     },
     "metadata": {},
     "output_type": "display_data"
    },
    {
     "name": "stdout",
     "output_type": "stream",
     "text": [
      "ROC-AUC Score: 0.6206777359936366\n"
     ]
    }
   ],
   "source": [
    "y_pred_prob_Log_opt = final_Logistic.predict_proba(X_model_test)[:, 1]\n",
    "fpr, tpr, thresholds = roc_curve(y_test, y_pred_prob_Log_opt)\n",
    "plt.figure()\n",
    "plt.plot(fpr, tpr, label='ROC curve (Logistic Optimized)')\n",
    "plt.plot([0, 1], [0, 1], 'k--')\n",
    "plt.xlabel('False Positive Rate')\n",
    "plt.ylabel('True Positive Rate')\n",
    "plt.title('ROC Curve - Logistic (Optimized)')\n",
    "plt.legend(loc=\"lower right\")\n",
    "plt.show()\n",
    "\n",
    "print(\"ROC-AUC Score:\", roc_auc_score(y_test, y_pred_prob_Log_opt))"
   ]
  },
  {
   "cell_type": "markdown",
   "metadata": {},
   "source": [
    "## 7.4 Classificador Gradient Boosting"
   ]
  },
  {
   "cell_type": "code",
   "execution_count": 119,
   "metadata": {},
   "outputs": [
    {
     "data": {
      "text/plain": [
       "0.6005586592178771"
      ]
     },
     "execution_count": 119,
     "metadata": {},
     "output_type": "execute_result"
    }
   ],
   "source": [
    "model_GB = GradientBoostingClassifier(random_state=seed)\n",
    "model_GB.fit(X_model, y_model)\n",
    "\n",
    "predicted_GB = model_GB.predict(X_model_test)\n",
    "\n",
    "accuracy_score(expected, predicted_GB)"
   ]
  },
  {
   "cell_type": "code",
   "execution_count": 120,
   "metadata": {},
   "outputs": [
    {
     "name": "stdout",
     "output_type": "stream",
     "text": [
      "[[279 332]\n",
      " [383 796]]\n",
      "              precision    recall  f1-score   support\n",
      "\n",
      "           0       0.42      0.46      0.44       611\n",
      "           1       0.71      0.68      0.69      1179\n",
      "\n",
      "    accuracy                           0.60      1790\n",
      "   macro avg       0.56      0.57      0.56      1790\n",
      "weighted avg       0.61      0.60      0.60      1790\n",
      "\n"
     ]
    }
   ],
   "source": [
    "print(confusion_matrix(expected, predicted_GB))\n",
    "print(classification_report(expected, predicted_GB))"
   ]
  },
  {
   "cell_type": "code",
   "execution_count": 121,
   "metadata": {},
   "outputs": [
    {
     "data": {
      "image/png": "[encoded data removed]",
      "text/plain": [
       "<Figure size 640x480 with 1 Axes>"
      ]
     },
     "metadata": {},
     "output_type": "display_data"
    },
    {
     "name": "stdout",
     "output_type": "stream",
     "text": [
      "ROC-AUC Score: 0.6117614722454743\n"
     ]
    }
   ],
   "source": [
    "y_pred_prob_GB = model_GB.predict_proba(X_model_test)[:, 1]\n",
    "fpr, tpr, thresholds = roc_curve(y_test, y_pred_prob_GB)\n",
    "plt.figure()\n",
    "plt.plot(fpr, tpr, label='ROC curve (GB)')\n",
    "plt.plot([0, 1], [0, 1], 'k--')\n",
    "plt.xlabel('False Positive Rate')\n",
    "plt.ylabel('True Positive Rate')\n",
    "plt.title('ROC Curve - Gradient Boosting')\n",
    "plt.legend(loc=\"lower right\")\n",
    "plt.show()\n",
    "\n",
    "print(\"ROC-AUC Score:\", roc_auc_score(y_test, y_pred_prob_GB))"
   ]
  },
  {
   "cell_type": "code",
   "execution_count": 122,
   "metadata": {},
   "outputs": [
    {
     "name": "stdout",
     "output_type": "stream",
     "text": [
      "The grid search took 7.39 minutes to run.\n"
     ]
    }
   ],
   "source": [
    "optm_GB = GradientBoostingClassifier(random_state=seed)\n",
    "\n",
    "param_grid = {\n",
    "    'learning_rate': [0.05, 0.1],\n",
    "    'n_estimators': [100, 500],\n",
    "    'max_depth': [5, 8],\n",
    "    'subsample': [0.9, 1.0],\n",
    "    'max_features': [0.9, 1.0]\n",
    "}\n",
    "\n",
    "grid_search = GridSearchCV(optm_GB, param_grid=param_grid, \n",
    "                           scoring=make_scorer(f1_score, average='weighted'), cv=3, n_jobs=-1)\n",
    "\n",
    "inicio = time.time()\n",
    "grid_search.fit(X_model, y_model)\n",
    "fin = time.time()\n",
    "print(f\"The grid search took {(fin - inicio)/60:.2f} minutes to run.\")"
   ]
  },
  {
   "cell_type": "code",
   "execution_count": 123,
   "metadata": {},
   "outputs": [
    {
     "name": "stdout",
     "output_type": "stream",
     "text": [
      "Best parameters: {'learning_rate': 0.05, 'max_depth': 8, 'max_features': 1.0, 'n_estimators': 500, 'subsample': 0.9}\n",
      "Best weighted F1 score: 0.6143783320231025\n"
     ]
    }
   ],
   "source": [
    "print(\"Best parameters:\", grid_search.best_params_)\n",
    "print(\"Best weighted F1 score:\", grid_search.best_score_)"
   ]
  },
  {
   "cell_type": "code",
   "execution_count": 130,
   "metadata": {},
   "outputs": [
    {
     "name": "stdout",
     "output_type": "stream",
     "text": [
      "\n",
      "Top 10 models:\n",
      "\n",
      "Model 15:\n",
      "Parameters: {'learning_rate': 0.05, 'max_depth': 8, 'max_features': 1.0, 'n_estimators': 500, 'subsample': 0.9}\n",
      "Mean test score: 0.6144\n",
      "\n",
      "Model 11:\n",
      "Parameters: {'learning_rate': 0.05, 'max_depth': 8, 'max_features': 0.9, 'n_estimators': 500, 'subsample': 0.9}\n",
      "Mean test score: 0.6143\n",
      "\n",
      "Model 27:\n",
      "Parameters: {'learning_rate': 0.1, 'max_depth': 8, 'max_features': 0.9, 'n_estimators': 500, 'subsample': 0.9}\n",
      "Mean test score: 0.6106\n",
      "\n",
      "Model 12:\n",
      "Parameters: {'learning_rate': 0.05, 'max_depth': 8, 'max_features': 0.9, 'n_estimators': 500, 'subsample': 1.0}\n",
      "Mean test score: 0.6097\n",
      "\n",
      "Model 13:\n",
      "Parameters: {'learning_rate': 0.05, 'max_depth': 8, 'max_features': 1.0, 'n_estimators': 100, 'subsample': 0.9}\n",
      "Mean test score: 0.6094\n",
      "\n",
      "Model 31:\n",
      "Parameters: {'learning_rate': 0.1, 'max_depth': 8, 'max_features': 1.0, 'n_estimators': 500, 'subsample': 0.9}\n",
      "Mean test score: 0.6067\n",
      "\n",
      "Model 16:\n",
      "Parameters: {'learning_rate': 0.05, 'max_depth': 8, 'max_features': 1.0, 'n_estimators': 500, 'subsample': 1.0}\n",
      "Mean test score: 0.6056\n",
      "\n",
      "Model 32:\n",
      "Parameters: {'learning_rate': 0.1, 'max_depth': 8, 'max_features': 1.0, 'n_estimators': 500, 'subsample': 1.0}\n",
      "Mean test score: 0.6048\n",
      "\n",
      "Model 9:\n",
      "Parameters: {'learning_rate': 0.05, 'max_depth': 8, 'max_features': 0.9, 'n_estimators': 100, 'subsample': 0.9}\n",
      "Mean test score: 0.6024\n",
      "\n",
      "Model 10:\n",
      "Parameters: {'learning_rate': 0.05, 'max_depth': 8, 'max_features': 0.9, 'n_estimators': 100, 'subsample': 1.0}\n",
      "Mean test score: 0.6023\n"
     ]
    }
   ],
   "source": [
    "results_df = pd.DataFrame(grid_search.cv_results_)\n",
    "top_10_models = results_df.nlargest(10, \"mean_test_score\")\n",
    "\n",
    "print(\"\\nTop 10 models:\")\n",
    "for index, row in top_10_models.iterrows():\n",
    "    print(f\"\\nModel {index+1}:\")\n",
    "    print(f\"Parameters: {row['params']}\")\n",
    "    print(f\"Mean test score: {row['mean_test_score']:.4f}\")"
   ]
  },
  {
   "cell_type": "code",
   "execution_count": 131,
   "metadata": {},
   "outputs": [],
   "source": [
    "params_final_GB = {\n",
    "    'learning_rate': 0.1,\n",
    "    'n_estimators': 500,\n",
    "    'max_depth': 8,\n",
    "    'subsample': 0.9,\n",
    "    'max_features': 1.0,\n",
    "    'random_state': seed\n",
    "}\n",
    "\n",
    "final_GB = GradientBoostingClassifier(**params_final_GB)"
   ]
  },
  {
   "cell_type": "code",
   "execution_count": 132,
   "metadata": {},
   "outputs": [
    {
     "data": {
      "text/plain": [
       "0.5899441340782123"
      ]
     },
     "execution_count": 132,
     "metadata": {},
     "output_type": "execute_result"
    }
   ],
   "source": [
    "final_GB.fit(X_model, y_model)\n",
    "\n",
    "predicted_GB_opt = final_GB.predict(X_model_test)\n",
    "accuracy_score(expected, predicted_GB_opt)"
   ]
  },
  {
   "cell_type": "code",
   "execution_count": 133,
   "metadata": {},
   "outputs": [
    {
     "name": "stdout",
     "output_type": "stream",
     "text": [
      "[[262 349]\n",
      " [385 794]]\n",
      "              precision    recall  f1-score   support\n",
      "\n",
      "           0       0.40      0.43      0.42       611\n",
      "           1       0.69      0.67      0.68      1179\n",
      "\n",
      "    accuracy                           0.59      1790\n",
      "   macro avg       0.55      0.55      0.55      1790\n",
      "weighted avg       0.60      0.59      0.59      1790\n",
      "\n"
     ]
    }
   ],
   "source": [
    "print(confusion_matrix(expected, predicted_GB_opt))\n",
    "print(classification_report(expected, predicted_GB_opt))"
   ]
  },
  {
   "cell_type": "code",
   "execution_count": 134,
   "metadata": {},
   "outputs": [
    {
     "name": "stdout",
     "output_type": "stream",
     "text": [
      "[[262 349]\n",
      " [385 794]]\n",
      "              precision    recall  f1-score   support\n",
      "\n",
      "           0       0.40      0.43      0.42       611\n",
      "           1       0.69      0.67      0.68      1179\n",
      "\n",
      "    accuracy                           0.59      1790\n",
      "   macro avg       0.55      0.55      0.55      1790\n",
      "weighted avg       0.60      0.59      0.59      1790\n",
      "\n"
     ]
    }
   ],
   "source": [
    "op_thres_GB = 0.5\n",
    "probs_GB_opt = final_GB.predict_proba(X_model_test)[:, 1]  \n",
    "pred_thres_GB_opt = (probs_GB_opt >= op_thres_GB).astype(int)\n",
    "\n",
    "print(confusion_matrix(expected, pred_thres_GB_opt))\n",
    "print(classification_report(expected, pred_thres_GB_opt))"
   ]
  },
  {
   "cell_type": "code",
   "execution_count": 135,
   "metadata": {},
   "outputs": [
    {
     "data": {
      "image/png": "[encoded data removed]",
      "text/plain": [
       "<Figure size 640x480 with 1 Axes>"
      ]
     },
     "metadata": {},
     "output_type": "display_data"
    },
    {
     "name": "stdout",
     "output_type": "stream",
     "text": [
      "ROC-AUC Score: 0.5864924781604983\n"
     ]
    }
   ],
   "source": [
    "y_pred_prob_GB_opt = final_GB.predict_proba(X_model_test)[:, 1]\n",
    "fpr, tpr, thresholds = roc_curve(y_test, y_pred_prob_GB_opt)\n",
    "plt.figure()\n",
    "plt.plot(fpr, tpr, label='ROC curve (GB Optimized)')\n",
    "plt.plot([0, 1], [0, 1], 'k--')\n",
    "plt.xlabel('False Positive Rate')\n",
    "plt.ylabel('True Positive Rate')\n",
    "plt.title('ROC Curve - Gradient Boosting (Optimized)')\n",
    "plt.legend(loc=\"lower right\")\n",
    "plt.show()\n",
    "\n",
    "print(\"ROC-AUC Score:\", roc_auc_score(y_test, y_pred_prob_GB_opt))"
   ]
  },
  {
   "cell_type": "markdown",
   "metadata": {},
   "source": [
    "# 8. Exportar CSV"
   ]
  },
  {
   "cell_type": "markdown",
   "metadata": {},
   "source": [
    "## 8.1 Asignacion de las variables"
   ]
  },
  {
   "cell_type": "markdown",
   "metadata": {},
   "source": [
    "Asignamos las variables para el analisis en función del desarrollo del apartado del preprocesado."
   ]
  },
  {
   "cell_type": "code",
   "execution_count": 145,
   "metadata": {},
   "outputs": [],
   "source": [
    "X_kaggle = X_res_final\n",
    "y_kaggle = y_res_final\n",
    "\n",
    "X_kaggle_test = X_scaled_te_final"
   ]
  },
  {
   "cell_type": "markdown",
   "metadata": {},
   "source": [
    "## 8.2 Clasificador Logistic Regression"
   ]
  },
  {
   "cell_type": "code",
   "execution_count": 149,
   "metadata": {},
   "outputs": [],
   "source": [
    "\n",
    "probs_For_final = final_Logistic.predict_proba(X_kaggle_test)[:, 1]  \n",
    "pred_thres_For_final = (probs_For_final >= 0.5).astype(int) "
   ]
  },
  {
   "cell_type": "code",
   "execution_count": 153,
   "metadata": {},
   "outputs": [],
   "source": [
    "df_label_Logistic = pd.DataFrame(pred_thres_For_final, columns=['label'])"
   ]
  },
  {
   "cell_type": "code",
   "execution_count": 155,
   "metadata": {},
   "outputs": [],
   "source": [
    "df_id = df_test['id'].reset_index(drop=True)"
   ]
  },
  {
   "cell_type": "code",
   "execution_count": 157,
   "metadata": {},
   "outputs": [],
   "source": [
    "df_final_Logistic = pd.concat([df_id, df_label_Logistic], axis=1)"
   ]
  },
  {
   "cell_type": "code",
   "execution_count": 159,
   "metadata": {},
   "outputs": [
    {
     "data": {
      "text/plain": [
       "label\n",
       "1    2239\n",
       "0    1597\n",
       "Name: count, dtype: int64"
      ]
     },
     "execution_count": 159,
     "metadata": {},
     "output_type": "execute_result"
    }
   ],
   "source": [
    "df_final_Logistic['label'].value_counts()"
   ]
  },
  {
   "cell_type": "code",
   "execution_count": 161,
   "metadata": {},
   "outputs": [],
   "source": [
    "df_final_Logistic.to_csv('./submit/LogisticWord2vec.csv', index=False)"
   ]
  },
  {
   "cell_type": "markdown",
   "metadata": {},
   "source": [
    "## 8.3 Clasificador GradientBoosting"
   ]
  },
  {
   "cell_type": "code",
   "execution_count": 166,
   "metadata": {},
   "outputs": [],
   "source": [
    "probs_GB_final = final_GB.predict_proba(X_kaggle_test)[:, 1]  \n",
    "pred_thres_GB_final = (probs_GB_final >= 0.40).astype(int) "
   ]
  },
  {
   "cell_type": "code",
   "execution_count": 169,
   "metadata": {},
   "outputs": [],
   "source": [
    "df_label_GB = pd.DataFrame(pred_thres_GB_final, columns=['label'])"
   ]
  },
  {
   "cell_type": "code",
   "execution_count": 171,
   "metadata": {},
   "outputs": [],
   "source": [
    "df_id = df_test['id'].reset_index(drop=True)"
   ]
  },
  {
   "cell_type": "code",
   "execution_count": 178,
   "metadata": {},
   "outputs": [],
   "source": [
    "df_final_GB = pd.concat([df_id, df_label_GB], axis=1)"
   ]
  },
  {
   "cell_type": "code",
   "execution_count": 181,
   "metadata": {},
   "outputs": [
    {
     "data": {
      "text/plain": [
       "label\n",
       "1    2673\n",
       "0    1163\n",
       "Name: count, dtype: int64"
      ]
     },
     "execution_count": 181,
     "metadata": {},
     "output_type": "execute_result"
    }
   ],
   "source": [
    "df_final_GB['label'].value_counts()"
   ]
  },
  {
   "cell_type": "markdown",
   "metadata": {},
   "source": [
    "Se transforma el *dataframe* a un archivo *CSV*."
   ]
  },
  {
   "cell_type": "code",
   "execution_count": 184,
   "metadata": {},
   "outputs": [],
   "source": [
    "df_final_GB.to_csv('./submit/GBWord2vec.csv', index=False)"
   ]
  },
  {
   "cell_type": "code",
   "execution_count": null,
   "metadata": {},
   "outputs": [],
   "source": []
  }
 ],
 "metadata": {
  "kernelspec": {
   "display_name": "Python [conda env:base] *",
   "language": "python",
   "name": "conda-base-py"
  },
  "language_info": {
   "codemirror_mode": {
    "name": "ipython",
    "version": 3
   },
   "file_extension": ".py",
   "mimetype": "text/x-python",
   "name": "python",
   "nbconvert_exporter": "python",
   "pygments_lexer": "ipython3",
   "version": "3.12.7"
  }
 },
 "nbformat": 4,
 "nbformat_minor": 4
}
