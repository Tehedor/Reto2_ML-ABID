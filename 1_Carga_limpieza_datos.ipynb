{
 "cells": [
  {
   "cell_type": "markdown",
   "metadata": {},
   "source": [
    "<header style=\"width:100%;position:relative\">\n",
    "  <div style=\"width:80%;float:right;\">\n",
    "    <h1>Challenge Loan Approval Prediction in Pennsylvania</h1>\n",
    "    <h3>Carga y limpieza de los datos</h3>\n",
    "    <h5>Grupo 2</h5>\n",
    "  </div>\n",
    "        <img style=\"width:15%;\" src=\"./images/logo.jpg\" alt=\"UPM\" />\n",
    "</header>\n"
   ]
  },
  {
   "cell_type": "markdown",
   "metadata": {},
   "source": [
    "# Índice"
   ]
  },
  {
   "cell_type": "markdown",
   "metadata": {},
   "source": [
    "1. [Importar librerias](#1.-Importar-librerias)  \n",
    "2. [Funciones auxiliares](#2.-Funciones-auxiliares)  \n",
    "3. [Carga del Dataset](#3.-Carga-del-Dataset)  \n",
    "4. [Limpieza de los datos](#4.-Limpieza-de-los-datos)  \n",
    "   * 4.1 [Estudio de las columnas](##4.1-Estudio-de-las-columnas)\n",
    "   * 4.2 [Tratamiento de los duplicados y de los nulos](##4.2-Tratamiento-de-los-duplicados-y-de-los-nulos)\n",
    "   * 4.3 [Tratamiento de las variables categóricas](##4.3-Tratamiento-de-las-variables-categoricas)\n",
    "      * 4.3.1 [Tratamiento de las variables categóricas binarias](###4.3.1-Tratamiento-de-las-variables-categoricas-binarias)\n",
    "      * 4.3.2 [Tratamiento de las variables categóricas no binarias](###4.3.2-Tratamiento-de-las-variables-categoricas-no-binarias)\n",
    "5. [Correlacion](#5.-Correlacion)  \n",
    "6. [Codificacion One-Hot](#6.-Codificacion-One-Hot)  \n",
    "7. [Create Test](#7.-Create-Test)  \n",
    "8. [Exportar CSV](#8.-Exportar-CSV)\n",
    "9. [Referencias](#9.-Referencias)\n"
   ]
  },
  {
   "cell_type": "markdown",
   "metadata": {},
   "source": [
    "# 1. Importar librerias"
   ]
  },
  {
   "cell_type": "code",
   "execution_count": 1,
   "metadata": {},
   "outputs": [],
   "source": [
    "import pandas as pd\n",
    "import numpy as np\n",
    "\n",
    "from datetime import datetime\n",
    "import json\n",
    "\n",
    "\n",
    "import matplotlib.pyplot as plt\n",
    "import seaborn as sns\n",
    "\n",
    "\n",
    "import spacy\n",
    "# from spacy import displacy\n"
   ]
  },
  {
   "cell_type": "markdown",
   "metadata": {},
   "source": [
    "# 2. Funciones auxiliares"
   ]
  },
  {
   "cell_type": "markdown",
   "metadata": {},
   "source": [
    "# 3. Carga del Dataset"
   ]
  },
  {
   "cell_type": "code",
   "execution_count": 2,
   "metadata": {},
   "outputs": [],
   "source": [
    "url = \"data/train.csv\" \n",
    "data = pd.read_csv(url)\n",
    "df = data.copy()\n",
    "\n",
    "url2 = \"data/test_nolabel.csv\"\n",
    "df_test = pd.read_csv(url2)"
   ]
  },
  {
   "cell_type": "markdown",
   "metadata": {},
   "source": [
    "Configuramos Pandas para mostrar todas las columnas de un DataFrame al imprimirlo, y luego mostramos las primeras filas del DataFrame df."
   ]
  },
  {
   "cell_type": "code",
   "execution_count": 3,
   "metadata": {},
   "outputs": [
    {
     "data": {
      "text/html": [
       "<div>\n",
       "<style scoped>\n",
       "    .dataframe tbody tr th:only-of-type {\n",
       "        vertical-align: middle;\n",
       "    }\n",
       "\n",
       "    .dataframe tbody tr th {\n",
       "        vertical-align: top;\n",
       "    }\n",
       "\n",
       "    .dataframe thead th {\n",
       "        text-align: right;\n",
       "    }\n",
       "</style>\n",
       "<table border=\"1\" class=\"dataframe\">\n",
       "  <thead>\n",
       "    <tr style=\"text-align: right;\">\n",
       "      <th></th>\n",
       "      <th>id</th>\n",
       "      <th>label</th>\n",
       "      <th>statement</th>\n",
       "      <th>subject</th>\n",
       "      <th>speaker</th>\n",
       "      <th>speaker_job</th>\n",
       "      <th>state_info</th>\n",
       "      <th>party_affiliation</th>\n",
       "    </tr>\n",
       "  </thead>\n",
       "  <tbody>\n",
       "    <tr>\n",
       "      <th>0</th>\n",
       "      <td>81f884c64a7</td>\n",
       "      <td>1</td>\n",
       "      <td>China is in the South China Sea and (building)...</td>\n",
       "      <td>china,foreign-policy,military</td>\n",
       "      <td>donald-trump</td>\n",
       "      <td>President-Elect</td>\n",
       "      <td>New York</td>\n",
       "      <td>republican</td>\n",
       "    </tr>\n",
       "    <tr>\n",
       "      <th>1</th>\n",
       "      <td>30c2723a188</td>\n",
       "      <td>0</td>\n",
       "      <td>With the resources it takes to execute just ov...</td>\n",
       "      <td>health-care</td>\n",
       "      <td>chris-dodd</td>\n",
       "      <td>U.S. senator</td>\n",
       "      <td>Connecticut</td>\n",
       "      <td>democrat</td>\n",
       "    </tr>\n",
       "    <tr>\n",
       "      <th>2</th>\n",
       "      <td>6936b216e5d</td>\n",
       "      <td>0</td>\n",
       "      <td>The (Wisconsin) governor has proposed tax give...</td>\n",
       "      <td>corporations,pundits,taxes,abc-news-week</td>\n",
       "      <td>donna-brazile</td>\n",
       "      <td>Political commentator</td>\n",
       "      <td>Washington, D.C.</td>\n",
       "      <td>democrat</td>\n",
       "    </tr>\n",
       "    <tr>\n",
       "      <th>3</th>\n",
       "      <td>b5cd9195738</td>\n",
       "      <td>1</td>\n",
       "      <td>Says her representation of an ex-boyfriend who...</td>\n",
       "      <td>candidates-biography,children,ethics,families,...</td>\n",
       "      <td>rebecca-bradley</td>\n",
       "      <td>NaN</td>\n",
       "      <td>NaN</td>\n",
       "      <td>none</td>\n",
       "    </tr>\n",
       "    <tr>\n",
       "      <th>4</th>\n",
       "      <td>84f8dac7737</td>\n",
       "      <td>0</td>\n",
       "      <td>At protests in Wisconsin against proposed coll...</td>\n",
       "      <td>health-care,labor,state-budget</td>\n",
       "      <td>republican-party-wisconsin</td>\n",
       "      <td>NaN</td>\n",
       "      <td>Wisconsin</td>\n",
       "      <td>republican</td>\n",
       "    </tr>\n",
       "  </tbody>\n",
       "</table>\n",
       "</div>"
      ],
      "text/plain": [
       "            id  label                                          statement  \\\n",
       "0  81f884c64a7      1  China is in the South China Sea and (building)...   \n",
       "1  30c2723a188      0  With the resources it takes to execute just ov...   \n",
       "2  6936b216e5d      0  The (Wisconsin) governor has proposed tax give...   \n",
       "3  b5cd9195738      1  Says her representation of an ex-boyfriend who...   \n",
       "4  84f8dac7737      0  At protests in Wisconsin against proposed coll...   \n",
       "\n",
       "                                             subject  \\\n",
       "0                      china,foreign-policy,military   \n",
       "1                                        health-care   \n",
       "2           corporations,pundits,taxes,abc-news-week   \n",
       "3  candidates-biography,children,ethics,families,...   \n",
       "4                     health-care,labor,state-budget   \n",
       "\n",
       "                      speaker            speaker_job        state_info  \\\n",
       "0                donald-trump        President-Elect          New York   \n",
       "1                  chris-dodd           U.S. senator       Connecticut   \n",
       "2               donna-brazile  Political commentator  Washington, D.C.   \n",
       "3             rebecca-bradley                    NaN               NaN   \n",
       "4  republican-party-wisconsin                    NaN         Wisconsin   \n",
       "\n",
       "  party_affiliation  \n",
       "0        republican  \n",
       "1          democrat  \n",
       "2          democrat  \n",
       "3              none  \n",
       "4        republican  "
      ]
     },
     "execution_count": 3,
     "metadata": {},
     "output_type": "execute_result"
    }
   ],
   "source": [
    "pd.set_option('display.max_columns', None)\n",
    "df.head()"
   ]
  },
  {
   "cell_type": "markdown",
   "metadata": {},
   "source": [
    "Con *Info* desplegamos la información del dataframe para saber con que datos trabajaremos en cada una de las columnas"
   ]
  },
  {
   "cell_type": "code",
   "execution_count": 4,
   "metadata": {},
   "outputs": [
    {
     "data": {
      "text/plain": [
       "<bound method DataFrame.info of                id  label                                          statement  \\\n",
       "0     81f884c64a7      1  China is in the South China Sea and (building)...   \n",
       "1     30c2723a188      0  With the resources it takes to execute just ov...   \n",
       "2     6936b216e5d      0  The (Wisconsin) governor has proposed tax give...   \n",
       "3     b5cd9195738      1  Says her representation of an ex-boyfriend who...   \n",
       "4     84f8dac7737      0  At protests in Wisconsin against proposed coll...   \n",
       "...           ...    ...                                                ...   \n",
       "8945  44edff2b865      1  If Rhode Island does a hybrid [retirement] pla...   \n",
       "8946  4a63b5f9c16      1  The new health care law will force seniors int...   \n",
       "8947  7c57fa8e81c      0  The health insurance plan that (members of Con...   \n",
       "8948  2375e3cf4b7      1  No one in American history has moved from a Ju...   \n",
       "8949  5ae9b14e6e5      0  Says the Army is spending $7 million to sponso...   \n",
       "\n",
       "                                                subject  \\\n",
       "0                         china,foreign-policy,military   \n",
       "1                                           health-care   \n",
       "2              corporations,pundits,taxes,abc-news-week   \n",
       "3     candidates-biography,children,ethics,families,...   \n",
       "4                        health-care,labor,state-budget   \n",
       "...                                                 ...   \n",
       "8945         pensions,public-service,retirement,workers   \n",
       "8946                medicare,message-machine,retirement   \n",
       "8947                                        health-care   \n",
       "8948                                  elections,history   \n",
       "8949                            federal-budget,military   \n",
       "\n",
       "                         speaker                              speaker_job  \\\n",
       "0                   donald-trump                          President-Elect   \n",
       "1                     chris-dodd                             U.S. senator   \n",
       "2                  donna-brazile                    Political commentator   \n",
       "3                rebecca-bradley                                      NaN   \n",
       "4     republican-party-wisconsin                                      NaN   \n",
       "...                          ...                                      ...   \n",
       "8945              lincoln-chafee                                      NaN   \n",
       "8946                   dan-coats                                      NaN   \n",
       "8947           steve-southerland  U.S. Representative, Florida District 2   \n",
       "8948               newt-gingrich             Co-host on CNN's \"Crossfire\"   \n",
       "8949              betty-mccollum                      U.S. Representative   \n",
       "\n",
       "            state_info party_affiliation  \n",
       "0             New York        republican  \n",
       "1          Connecticut          democrat  \n",
       "2     Washington, D.C.          democrat  \n",
       "3                  NaN              none  \n",
       "4            Wisconsin        republican  \n",
       "...                ...               ...  \n",
       "8945      Rhode Island          democrat  \n",
       "8946           Indiana        republican  \n",
       "8947           Florida        republican  \n",
       "8948           Georgia        republican  \n",
       "8949         Minnesota          democrat  \n",
       "\n",
       "[8950 rows x 8 columns]>"
      ]
     },
     "execution_count": 4,
     "metadata": {},
     "output_type": "execute_result"
    }
   ],
   "source": [
    "df.info"
   ]
  },
  {
   "cell_type": "markdown",
   "metadata": {},
   "source": [
    "Gracias a *shape* podemos saber las dimensiones del dataframe, de esta maenra podemos saber la cantidad de filas que tenemos en un incio y la cantidad de columnas con las que trabajaremos"
   ]
  },
  {
   "cell_type": "code",
   "execution_count": 5,
   "metadata": {},
   "outputs": [
    {
     "data": {
      "text/plain": [
       "(8950, 8)"
      ]
     },
     "execution_count": 5,
     "metadata": {},
     "output_type": "execute_result"
    }
   ],
   "source": [
    "df.shape"
   ]
  },
  {
   "cell_type": "markdown",
   "metadata": {},
   "source": [
    "Visualización del nombre de todas las columnas para plantear la limpieza"
   ]
  },
  {
   "cell_type": "code",
   "execution_count": 6,
   "metadata": {},
   "outputs": [
    {
     "data": {
      "text/plain": [
       "Index(['id', 'label', 'statement', 'subject', 'speaker', 'speaker_job',\n",
       "       'state_info', 'party_affiliation'],\n",
       "      dtype='object')"
      ]
     },
     "execution_count": 6,
     "metadata": {},
     "output_type": "execute_result"
    }
   ],
   "source": [
    "df.columns"
   ]
  },
  {
   "cell_type": "markdown",
   "metadata": {},
   "source": [
    "\n",
    "Visualización del estadisticos de las columnas numericas para plantear la limpieza"
   ]
  },
  {
   "cell_type": "markdown",
   "metadata": {},
   "source": [
    "# 4. Limpieza de los datos"
   ]
  },
  {
   "cell_type": "markdown",
   "metadata": {},
   "source": [
    "## 4.1 Estudio de las columnas"
   ]
  },
  {
   "cell_type": "markdown",
   "metadata": {},
   "source": [
    "This dataset is related to false political claim detection, containing labeled statements (or claims) along with metadata about the speaker, subject, and other contextual information. Below is a detailed breakdown of the dataset's structure and key characteristics:\n",
    "\n",
    "| **Field Name**      | **Data Type** | **Description**                                                                 |\n",
    "|----------------------|---------------|---------------------------------------------------------------------------------|\n",
    "| **id**              | Text          | Unique identifier                                                              |\n",
    "| **label**           | Integer       | Truthfulness score. Binary classification: 1 = true, 0 = false                |\n",
    "| **statement**       | Text          | Text of the claim                                                              |\n",
    "| **subject**         | Text          | Topic of the claim                                                             |\n",
    "| **speaker**         | Text          | Person making the claim                                                        |\n",
    "| **speaker_job**     | Text          | Occupation of the speaker                                                      |\n",
    "| **state_info**      | Text          | Geographic context                                                             |\n",
    "| **party_affiliation** | Text        | Political party of the speaker                                                 |\n"
   ]
  },
  {
   "cell_type": "markdown",
   "metadata": {},
   "source": [
    "Visualización de los tipos de cada columna"
   ]
  },
  {
   "cell_type": "code",
   "execution_count": 7,
   "metadata": {},
   "outputs": [
    {
     "data": {
      "text/plain": [
       "id                   object\n",
       "label                 int64\n",
       "statement            object\n",
       "subject              object\n",
       "speaker              object\n",
       "speaker_job          object\n",
       "state_info           object\n",
       "party_affiliation    object\n",
       "dtype: object"
      ]
     },
     "execution_count": 7,
     "metadata": {},
     "output_type": "execute_result"
    }
   ],
   "source": [
    "df.dtypes"
   ]
  },
  {
   "cell_type": "markdown",
   "metadata": {},
   "source": [
    "Visualizacón de valores distintos que tienen cada columna"
   ]
  },
  {
   "cell_type": "code",
   "execution_count": 8,
   "metadata": {},
   "outputs": [
    {
     "name": "stdout",
     "output_type": "stream",
     "text": [
      "Columna: id, Valores distintos: 8950\n",
      "Columna: label, Valores distintos: 2\n",
      "Columna: statement, Valores distintos: 8939\n",
      "Columna: subject, Valores distintos: 3409\n",
      "Columna: speaker, Valores distintos: 2634\n",
      "Columna: speaker_job, Valores distintos: 1090\n",
      "Columna: state_info, Valores distintos: 78\n",
      "Columna: party_affiliation, Valores distintos: 24\n"
     ]
    }
   ],
   "source": [
    "# Obtener el número de valores distintos de cada columna\n",
    "valores_distintos = {columna: df[columna].nunique() for columna in df.columns}\n",
    "\n",
    "# Mostrar el número de valores distintos de cada columna\n",
    "for columna, num_valores in valores_distintos.items():\n",
    "    print(f\"Columna: {columna}, Valores distintos: {num_valores}\")"
   ]
  },
  {
   "cell_type": "markdown",
   "metadata": {},
   "source": [
    "Eliminar id al ser información no necesaria"
   ]
  },
  {
   "cell_type": "code",
   "execution_count": 9,
   "metadata": {},
   "outputs": [
    {
     "data": {
      "text/html": [
       "<div>\n",
       "<style scoped>\n",
       "    .dataframe tbody tr th:only-of-type {\n",
       "        vertical-align: middle;\n",
       "    }\n",
       "\n",
       "    .dataframe tbody tr th {\n",
       "        vertical-align: top;\n",
       "    }\n",
       "\n",
       "    .dataframe thead th {\n",
       "        text-align: right;\n",
       "    }\n",
       "</style>\n",
       "<table border=\"1\" class=\"dataframe\">\n",
       "  <thead>\n",
       "    <tr style=\"text-align: right;\">\n",
       "      <th></th>\n",
       "      <th>label</th>\n",
       "      <th>statement</th>\n",
       "      <th>subject</th>\n",
       "      <th>speaker</th>\n",
       "      <th>speaker_job</th>\n",
       "      <th>state_info</th>\n",
       "      <th>party_affiliation</th>\n",
       "    </tr>\n",
       "  </thead>\n",
       "  <tbody>\n",
       "    <tr>\n",
       "      <th>0</th>\n",
       "      <td>1</td>\n",
       "      <td>China is in the South China Sea and (building)...</td>\n",
       "      <td>china,foreign-policy,military</td>\n",
       "      <td>donald-trump</td>\n",
       "      <td>President-Elect</td>\n",
       "      <td>New York</td>\n",
       "      <td>republican</td>\n",
       "    </tr>\n",
       "    <tr>\n",
       "      <th>1</th>\n",
       "      <td>0</td>\n",
       "      <td>With the resources it takes to execute just ov...</td>\n",
       "      <td>health-care</td>\n",
       "      <td>chris-dodd</td>\n",
       "      <td>U.S. senator</td>\n",
       "      <td>Connecticut</td>\n",
       "      <td>democrat</td>\n",
       "    </tr>\n",
       "    <tr>\n",
       "      <th>2</th>\n",
       "      <td>0</td>\n",
       "      <td>The (Wisconsin) governor has proposed tax give...</td>\n",
       "      <td>corporations,pundits,taxes,abc-news-week</td>\n",
       "      <td>donna-brazile</td>\n",
       "      <td>Political commentator</td>\n",
       "      <td>Washington, D.C.</td>\n",
       "      <td>democrat</td>\n",
       "    </tr>\n",
       "    <tr>\n",
       "      <th>3</th>\n",
       "      <td>1</td>\n",
       "      <td>Says her representation of an ex-boyfriend who...</td>\n",
       "      <td>candidates-biography,children,ethics,families,...</td>\n",
       "      <td>rebecca-bradley</td>\n",
       "      <td>NaN</td>\n",
       "      <td>NaN</td>\n",
       "      <td>none</td>\n",
       "    </tr>\n",
       "    <tr>\n",
       "      <th>4</th>\n",
       "      <td>0</td>\n",
       "      <td>At protests in Wisconsin against proposed coll...</td>\n",
       "      <td>health-care,labor,state-budget</td>\n",
       "      <td>republican-party-wisconsin</td>\n",
       "      <td>NaN</td>\n",
       "      <td>Wisconsin</td>\n",
       "      <td>republican</td>\n",
       "    </tr>\n",
       "  </tbody>\n",
       "</table>\n",
       "</div>"
      ],
      "text/plain": [
       "   label                                          statement  \\\n",
       "0      1  China is in the South China Sea and (building)...   \n",
       "1      0  With the resources it takes to execute just ov...   \n",
       "2      0  The (Wisconsin) governor has proposed tax give...   \n",
       "3      1  Says her representation of an ex-boyfriend who...   \n",
       "4      0  At protests in Wisconsin against proposed coll...   \n",
       "\n",
       "                                             subject  \\\n",
       "0                      china,foreign-policy,military   \n",
       "1                                        health-care   \n",
       "2           corporations,pundits,taxes,abc-news-week   \n",
       "3  candidates-biography,children,ethics,families,...   \n",
       "4                     health-care,labor,state-budget   \n",
       "\n",
       "                      speaker            speaker_job        state_info  \\\n",
       "0                donald-trump        President-Elect          New York   \n",
       "1                  chris-dodd           U.S. senator       Connecticut   \n",
       "2               donna-brazile  Political commentator  Washington, D.C.   \n",
       "3             rebecca-bradley                    NaN               NaN   \n",
       "4  republican-party-wisconsin                    NaN         Wisconsin   \n",
       "\n",
       "  party_affiliation  \n",
       "0        republican  \n",
       "1          democrat  \n",
       "2          democrat  \n",
       "3              none  \n",
       "4        republican  "
      ]
     },
     "execution_count": 9,
     "metadata": {},
     "output_type": "execute_result"
    }
   ],
   "source": [
    "dfc = df.drop(columns='id')\n",
    "dfc.head()"
   ]
  },
  {
   "cell_type": "markdown",
   "metadata": {},
   "source": [
    "- Obeservar si el dataset está balanceado"
   ]
  },
  {
   "cell_type": "code",
   "execution_count": 10,
   "metadata": {},
   "outputs": [
    {
     "data": {
      "image/png": "[encoded data removed]",
      "text/plain": [
       "<Figure size 640x480 with 1 Axes>"
      ]
     },
     "metadata": {},
     "output_type": "display_data"
    }
   ],
   "source": [
    "x = dfc['label'].value_counts()\n",
    "sns.barplot(x=x.index, y=x.values)\n",
    "plt.show()"
   ]
  },
  {
   "cell_type": "markdown",
   "metadata": {},
   "source": [
    "Está bastante desequilibrado; hay muchos más textos que no son vulos que son vulos."
   ]
  },
  {
   "cell_type": "markdown",
   "metadata": {},
   "source": [
    "## 4.2 Tratamiento de los duplicados y de los nulos"
   ]
  },
  {
   "cell_type": "markdown",
   "metadata": {},
   "source": [
    "Comprobación de duplicados"
   ]
  },
  {
   "cell_type": "code",
   "execution_count": 11,
   "metadata": {},
   "outputs": [
    {
     "name": "stdout",
     "output_type": "stream",
     "text": [
      "False\n"
     ]
    }
   ],
   "source": [
    "print(dfc.duplicated().any())"
   ]
  },
  {
   "cell_type": "markdown",
   "metadata": {},
   "source": [
    "No hay duplicados"
   ]
  },
  {
   "cell_type": "markdown",
   "metadata": {},
   "source": [
    "Comporbación de si existen nulos y en que columnas se encuentran"
   ]
  },
  {
   "cell_type": "code",
   "execution_count": 12,
   "metadata": {},
   "outputs": [
    {
     "data": {
      "text/plain": [
       "label                   0\n",
       "statement               0\n",
       "subject                 0\n",
       "speaker                 0\n",
       "speaker_job          2482\n",
       "state_info           1930\n",
       "party_affiliation       0\n",
       "dtype: int64"
      ]
     },
     "execution_count": 12,
     "metadata": {},
     "output_type": "execute_result"
    }
   ],
   "source": [
    "dfc.isnull().sum() "
   ]
  },
  {
   "cell_type": "markdown",
   "metadata": {},
   "source": [
    "Al ser demasiados nulos intentaremos sacar la información de otras columnas"
   ]
  },
  {
   "cell_type": "markdown",
   "metadata": {},
   "source": [
    "## 4.3 Tratamiento features"
   ]
  },
  {
   "cell_type": "markdown",
   "metadata": {},
   "source": [
    "### 4.3.1 Feature Statement"
   ]
  },
  {
   "cell_type": "markdown",
   "metadata": {},
   "source": [
    "- Statement"
   ]
  },
  {
   "cell_type": "code",
   "execution_count": 13,
   "metadata": {},
   "outputs": [],
   "source": [
    "# Obtener el conteo de valores únicos de 'speaker'\n",
    "statement_counts = dfc['statement'].value_counts()\n",
    "\n",
    "# Convertir a diccionario\n",
    "statement_counts_dict = statement_counts.to_dict()\n",
    "\n",
    "# Exportar a un archivo JSON\n",
    "with open('json-study-statement/statements.json', 'w', encoding='utf-8') as f:\n",
    "    json.dump(statement_counts_dict, f, ensure_ascii=False, indent=2)"
   ]
  },
  {
   "cell_type": "markdown",
   "metadata": {},
   "source": [
    "Poner todas las letras en minúscula"
   ]
  },
  {
   "cell_type": "code",
   "execution_count": 14,
   "metadata": {},
   "outputs": [],
   "source": [
    "dfc['statement'] = dfc['statement'].str.replace(\"Ill\", \"i'll\")\n"
   ]
  },
  {
   "cell_type": "code",
   "execution_count": 15,
   "metadata": {},
   "outputs": [],
   "source": [
    "from collections import defaultdict\n",
    "nlp = spacy.load('en_core_web_lg')\n",
    "en_stopwords = nlp.Defaults.stop_words\n",
    "\n",
    "#Collection\n",
    "def create_collection(label):\n",
    "    collection=[]\n",
    "    \n",
    "    for x in dfc[dfc['label']==label]['statement'].str.split():\n",
    "        for i in x:\n",
    "            collection.append(i)\n",
    "    return collection"
   ]
  },
  {
   "cell_type": "markdown",
   "metadata": {},
   "source": [
    "Common stopwords in no fake claims, label 0"
   ]
  },
  {
   "cell_type": "code",
   "execution_count": 16,
   "metadata": {},
   "outputs": [
    {
     "data": {
      "image/png": "[encoded data removed]",
      "text/plain": [
       "<Figure size 640x480 with 1 Axes>"
      ]
     },
     "metadata": {},
     "output_type": "display_data"
    }
   ],
   "source": [
    "\n",
    "#Common stopwords in no fake claims, label 0\n",
    "collection=create_collection(0)\n",
    "\n",
    "dic=defaultdict(int)\n",
    "for word in collection: \n",
    "    dic[word]+=1\n",
    "        \n",
    "top=sorted(dic.items(), key=lambda x:x[1],reverse=True)[:10] \n",
    "\n",
    "x,y=zip(*top)\n",
    "plt.bar(x,y)\n",
    "plt.show()"
   ]
  },
  {
   "cell_type": "markdown",
   "metadata": {},
   "source": [
    "#Common stopwords in fake claims, label 1"
   ]
  },
  {
   "cell_type": "code",
   "execution_count": 17,
   "metadata": {},
   "outputs": [
    {
     "data": {
      "image/png": "[encoded data removed]",
      "text/plain": [
       "<Figure size 640x480 with 1 Axes>"
      ]
     },
     "metadata": {},
     "output_type": "display_data"
    }
   ],
   "source": [
    "collection=create_collection(1)\n",
    "\n",
    "dic=defaultdict(int)\n",
    "for word in collection:\n",
    "    if word in en_stopwords:\n",
    "        dic[word]+=1\n",
    "\n",
    "top=sorted(dic.items(), key=lambda x:x[1],reverse=True)[:10] \n",
    "\n",
    "x,y=zip(*top)\n",
    "plt.bar(x,y,color='orange')\n",
    "plt.show()"
   ]
  },
  {
   "cell_type": "markdown",
   "metadata": {},
   "source": [
    "Como podemos comprobar que en tanto en fake claims como en no fake claims comparten palabras muy similares"
   ]
  },
  {
   "cell_type": "code",
   "execution_count": 18,
   "metadata": {},
   "outputs": [
    {
     "name": "stdout",
     "output_type": "stream",
     "text": [
      "0    China is in the South China Sea and (building)...\n",
      "1    With the resources it takes to execute just ov...\n",
      "2    The (Wisconsin) governor has proposed tax give...\n",
      "3    Says her representation of an ex-boyfriend who...\n",
      "4    At protests in Wisconsin against proposed coll...\n",
      "Name: statement, dtype: object\n"
     ]
    }
   ],
   "source": [
    "# Corrección de negaciones\n",
    "# dfc['statement'] = dfc['statement'].str.replace(\"havent\", \"haven't\")\n",
    "# dfc['statement'] = dfc['statement'].str.replace(\"hasnt\", \"hasn't\")\n",
    "# dfc['statement'] = dfc['statement'].str.replace(\"didnt\", \"didn't\")\n",
    "# dfc['statement'] = dfc['statement'].str.replace(\"wont\", \"won't\")\n",
    "# dfc['statement'] = dfc['statement'].str.replace(\"wouldnt\", \"wouldn't\")\n",
    "# dfc['statement'] = dfc['statement'].str.replace(\"cant\", \"can't\")\n",
    "# dfc['statement'] = dfc['statement'].str.replace(\"couldnt\", \"couldn't\")\n",
    "# dfc['statement'] = dfc['statement'].str.replace(\"isnt\", \"isn't\")\n",
    "# dfc['statement'] = dfc['statement'].str.replace(\"arent\", \"aren't\")\n",
    "# dfc['statement'] = dfc['statement'].str.replace(\"shouldnt\", \"shouldn't\")\n",
    "# dfc['statement'] = dfc['statement'].str.replace(\"wasnt\", \"wasn't\")\n",
    "# dfc['statement'] = dfc['statement'].str.replace(\"werent\", \"weren't\")\n",
    "# dfc['statement'] = dfc['statement'].str.replace(\"dont\", \"don't\")\n",
    "# dfc['statement'] = dfc['statement'].str.replace(\"doesnt\", \"doesn't\")\n",
    "# dfc['statement'] = dfc['statement'].str.replace(\"mightnt\", \"mightn't\")\n",
    "# dfc['statement'] = dfc['statement'].str.replace(\"mustnt\", \"mustn't\")\n",
    "# dfc['statement'] = dfc['statement'].str.replace(\"neednt\", \"needn't\")\n",
    "\n",
    "\n",
    "import re\n",
    "\n",
    "# Lista de palabras a reemplazar y sus reemplazos\n",
    "replacements = {\n",
    "    r'\\bim\\b': \"i am\",\n",
    "    r'\\byoure\\b': \"you are\",\n",
    "    r'\\bhes\\b': \"he is\",\n",
    "    r'\\bshes\\b': \"she is\",\n",
    "    r'\\bits\\b': \"it is\",\n",
    "    r'\\btheyre\\b': \"they are\",\n",
    "    r'\\byoud\\b': \"you had\",\n",
    "    r'\\bhed\\b': \"he had\",\n",
    "    r'\\bshed\\b': \"she had\",\n",
    "    r'\\bwed\\b': \"we had\",\n",
    "    r'\\btheyd\\b': \"they had\",\n",
    "    r'\\byoull\\b': \"you will\",\n",
    "    r'\\bhell\\b': \"he will\",\n",
    "    r'\\bshell\\b': \"she will\",\n",
    "    r'\\bitll\\b': \"it will\",\n",
    "    r'\\bwell\\b': \"we will\",\n",
    "    r'\\btheyll\\b': \"they will\",\n",
    "    # hasnt\n",
    "    r'\\bhavent\\b': \"have not\",\n",
    "    r'\\bhasnt\\b': \"has not\",\n",
    "    r'\\bdidnt\\b': \"did not\",\n",
    "    r'\\bwont\\b': \"will not\",\n",
    "    r'\\bwouldnt\\b': \"would not\",\n",
    "    r'\\bcant\\b': \"can not\",\n",
    "    r'\\bcouldnt\\b': \"could not\",\n",
    "    r'\\bisnt\\b': \"is not\",\n",
    "    r'\\barent\\b': \"are not\",\n",
    "    r'\\bshouldnt\\b': \"should not\",\n",
    "    r'\\bwasnt\\b': \"was not\",\n",
    "    r'\\bwerent\\b': \"were not\",\n",
    "    r'\\bdont\\b': \"do not\",\n",
    "    r'\\bdoesnt\\b': \"does not\",\n",
    "    r'\\bmightnt\\b': \"might not\",\n",
    "    r'\\bmustnt\\b': \"mustn not\",\n",
    "    r'\\bneednt\\b': \"need not\",\n",
    "    r'\\bwhyd\\b': \"why did\",\n",
    "    r'\\bwholl\\b': \"who will\",\n",
    "    r'\\bwhod\\b': \"who had\",\n",
    "    r'\\bwhos\\b': \"who is\",\n",
    "    r'\\bwhats\\b': \"what is\",\n",
    "    r'\\bwhens\\b': \"when is\",\n",
    "    r'\\bwhys\\b': \"why is\",\n",
    "    r'\\bwhereas\\b': \"where is\",\n",
    "    r'\\bwhereve\\b': \"where have\",\n",
    "    r'\\bwhodve\\b': \"who would have\",\n",
    "    r'\\bwhodnt\\b': \"who would not\",\n",
    "}\n",
    "# replacements = {\n",
    "#     r'\\bim\\b': \"i'm\",\n",
    "#     r'\\byoure\\b': \"you're\",\n",
    "#     r'\\bhes\\b': \"he's\",\n",
    "#     r'\\bshes\\b': \"she's\",\n",
    "#     r'\\bits\\b': \"it's\",\n",
    "#     r'\\btheyre\\b': \"they're\",\n",
    "#     r'\\byoud\\b': \"you'd\",\n",
    "#     r'\\bhed\\b': \"he'd\",\n",
    "#     r'\\bshed\\b': \"she'd\",\n",
    "#     r'\\bwed\\b': \"we'd\",\n",
    "#     r'\\btheyd\\b': \"they'd\",\n",
    "#     r'\\byoull\\b': \"you'll\",\n",
    "#     r'\\bhell\\b': \"he'll\",\n",
    "#     r'\\bshell\\b': \"she'll\",\n",
    "#     r'\\bitll\\b': \"it'll\",\n",
    "#     r'\\bwell\\b': \"we'll\",\n",
    "#     r'\\btheyll\\b': \"they'll\",\n",
    "#     # hasnt\n",
    "#     r'\\bhavent\\b': \"haven't\",\n",
    "#     r'\\bhasnt\\b': \"hasn't\",\n",
    "#     r'\\bdidnt\\b': \"didn't\",\n",
    "#     r'\\bwont\\b': \"won't\",\n",
    "#     r'\\bwouldnt\\b': \"wouldn't\",\n",
    "#     r'\\bcant\\b': \"can't\",\n",
    "#     r'\\bcouldnt\\b': \"couldn't\",\n",
    "#     r'\\bisnt\\b': \"isn't\",\n",
    "#     r'\\barent\\b': \"aren't\",\n",
    "#     r'\\bshouldnt\\b': \"shouldn't\",\n",
    "#     r'\\bwasnt\\b': \"wasn't\",\n",
    "#     r'\\bwerent\\b': \"weren't\",\n",
    "#     r'\\bdont\\b': \"don't\",\n",
    "#     r'\\bdoesnt\\b': \"doesn't\",\n",
    "#     r'\\bmightnt\\b': \"mightn't\",\n",
    "#     r'\\bmustnt\\b': \"mustn't\",\n",
    "#     r'\\bneednt\\b': \"needn't\",\n",
    "#     r'\\bwhyd\\b': \"why'd\",\n",
    "#     r'\\bwholl\\b': \"who'll\",\n",
    "#     r'\\bwhod\\b': \"who'd\",\n",
    "#     r'\\bwhos\\b': \"who's\",\n",
    "#     r'\\bwhats\\b': \"what's\",\n",
    "#     r'\\bwhens\\b': \"when's\",\n",
    "#     r'\\bwhys\\b': \"why's\",\n",
    "#     r'\\bwhereas\\b': \"where's\",\n",
    "#     r'\\bwhereve\\b': \"where've\",\n",
    "#     r'\\bwhodve\\b': \"who'd've\",\n",
    "#     r'\\bwhodnt\\b': \"who'dn't\",\n",
    "#     r'\\bwhodve\\b': \"who'd've\",\n",
    "# }\n",
    "\n",
    "# Función para aplicar los reemplazos\n",
    "def replace_words(text):\n",
    "    for pattern, replacement in replacements.items():\n",
    "        text = re.sub(pattern, replacement, text, flags=re.IGNORECASE)\n",
    "    return text\n",
    "\n",
    "# Aplicar la función a la columna 'statement'\n",
    "dfc['statement'] = dfc['statement'].apply(replace_words)\n",
    "\n",
    "# Verificar el resultado en las primeras filas\n",
    "print(dfc['statement'].head())"
   ]
  },
  {
   "cell_type": "code",
   "execution_count": 19,
   "metadata": {},
   "outputs": [],
   "source": [
    "oov_words_by_row = {}"
   ]
  },
  {
   "cell_type": "code",
   "execution_count": 20,
   "metadata": {},
   "outputs": [
    {
     "name": "stdout",
     "output_type": "stream",
     "text": [
      "Original: I'd had not check library book photo ID\n",
      "Procesado: had not check library book photo ID\n",
      "\n",
      "URLs eliminadas: 0\n",
      "Puntuaciónes eliminadas: 1\n",
      "Stopwords eliminadas: 1\n",
      "Dígitos eliminados: 0\n"
     ]
    }
   ],
   "source": [
    "import re\n",
    "import string\n",
    "import spacy\n",
    "\n",
    "nlp = spacy.load('en_core_web_lg')\n",
    "\n",
    "# Contadores globales\n",
    "digit_changes = 0\n",
    "punct_changes = 0\n",
    "url_changes = 0\n",
    "stopword_changes = 0\n",
    "not_changes = 0\n",
    "\n",
    "# Palabras de negación completasstring.punctuation\n",
    "negation_words = {\n",
    "    \"not\", \"never\", \"no\", \"nor\", \"cannot\", \"nobody\", \"none\",\n",
    "    \"nothing\", \"nowhere\", \"neither\", \"can't\", \"dont\", \"won't\", \n",
    "    \"don't\", \"aren't\", \"isn't\", \"wasn't\", \"couldn't\", \n",
    "    \"shouldn't\", \"wouldn't\", \"didn't\", \"hasn't\", \"haven't\", \"hadn't\"\n",
    "}\n",
    "\n",
    "# También detectaremos contracciones con n't\n",
    "negation_suffixes = (\"n't\", \"'t\")\n",
    "\n",
    "def preprocess(text, row_number=None):\n",
    "    global digit_changes, punct_changes, url_changes, stopword_changes, not_changes\n",
    "\n",
    "    text = re.sub(r'\\s+', ' ', text).strip()\n",
    "\n",
    "    text = replace_words(text)\n",
    "    # return text\n",
    "    doc = nlp(text)\n",
    "    tokens = []\n",
    "    oov_tokens = []\n",
    "\n",
    "\n",
    "\n",
    "    for token in doc:\n",
    "        # Eliminar URLs\n",
    "        if token.like_url:\n",
    "            url_changes += 1\n",
    "            continue\n",
    "\n",
    "        # Eliminar números\n",
    "        if token.like_num:\n",
    "            digit_changes += 1\n",
    "            continue\n",
    "        if any(char.isdigit() for char in token.text):\n",
    "            digit_changes += 1\n",
    "            continue\n",
    "\n",
    "        # Eliminar puntuación y espacios\n",
    "        if token.is_punct or token.is_space or token.text in string.punctuation:\n",
    "            if token.is_punct:\n",
    "                punct_changes += 1\n",
    "            continue\n",
    "        if any(char in string.punctuation for char in token.text):\n",
    "            punct_changes += 1\n",
    "            continue\n",
    "\n",
    "        lower_token = token.text.lower()\n",
    "        # Detectar negaciones completas o contracciones\n",
    "        if lower_token == \"wo\":\n",
    "            continue\n",
    "\n",
    "        if lower_token in negation_words or lower_token.endswith(negation_suffixes):\n",
    "            tokens.append(\"not\")\n",
    "            not_changes += 1\n",
    "            continue\n",
    "\n",
    "        # Eliminar stopwords\n",
    "        excluded_stop_tokens = {'are', 'is', 'have', 'has', 'had', 'was', 'were'}\n",
    "        if (token.is_stop or token.text in nlp.Defaults.stop_words or token.text in {'m', 'll', 'd', 're', 's', 've', 't'}) and token.text not in excluded_stop_tokens:\n",
    "        # if token.is_stop or token.text in nlp.Defaults.stop_words or token.text in {'m', 'll', 'd', 're', 's', 've', 't'}:\n",
    "            stopword_changes += 1\n",
    "            continue\n",
    "\n",
    "        if token.is_oov:\n",
    "            oov_tokens.append(token.text)\n",
    "\n",
    "        # Agregar token limpio\n",
    "        tokens.append(token.text)\n",
    "\n",
    "    if row_number is not None and oov_tokens:\n",
    "        oov_words_by_row[row_number] = oov_tokens\n",
    "\n",
    "\n",
    "    clean = ' '.join(tokens)\n",
    "    return clean\n",
    "\n",
    "# ------------------- Sección de pruebas -------------------\n",
    "if __name__ == \"__main__\":\n",
    "   \n",
    "\n",
    "    ejemplos = [\n",
    "        \"I'd had not check library book photo ID\",\n",
    "        # \"MikeHuckabee.com aren't gets \\\"more hits than virtually any 43 other presidential candidate.\\\"\",\n",
    "        # \"The vast majority of the money I got was from small donors all across the country.''\\tcampaign-finance\\tbarack-obama\\tPresident\\tIllinois\\tdemocrat\\t70\\t71\\t160\\t163\\t9\\tan interview with CNBC's John Harwood \\n5802.json\\ttrue\\tThe Democrat-controlled Senate, it hasnt passed a budget in more than 1,000 days.\\tdeficit,federal-budget,job-accomplishments\\tjohn-boehner\\tSpeaker of the House of Representatives\\tOhio\\trepublican\\t13\\t22\\t11\\t4\\t2\\ta video address\\n6153.json\\thalf-true\\tThe median income in America has dropped by 10 percent in the last four years.\\teconomy,income,jobs\\tmitt-romney\\tFormer governor\\tMassachusetts\\trepublican\\t34\\t32\\t58\\t33\\t19\\ta speech\\n6515.json\\tbarely-true\\tSays U.S. Senate hopeful Tammy Baldwin voted for a $1 trillion stimulus bill that included a wasteful $800,000 to replace light bulbs.\\tenergy,federal-budget,stimulus\\tcrossroads-gps\\tConservative advocacy group\\t\\trepublican\\t9\\t1\\t4\\t1\\t2\\ta television ad\\n385.json\\ttrue\\tSays Clinton did not read the National Intelligence Estimate before voting for the Iraq war.\\tiraq\\tbarack-obama\\tPresident\\tIllinois\\tdemocrat\\t70\\t71\\t160\\t163\\t9\\ta speech in Westerville, Ohio\\n10932.json\\tbarely-true\\tThanks to the Act 10 collective bargaining law that took effect four years ago, ACT scores in Wisconsin are now second-best in the country for states where more than half the kids take the exam.\\teducation,government-regulation,job-accomplishments,labor,unions\\tscott-walker\\tMilwaukee County Executive\\tWisconsin\\trepublican\\t26\\t41\\t32\\t40\\t11\\ta speech\\n5076.json\\tmostly-true\\tOur income, our GDP per capita, is almost 50 percent higher than (it is for) the average European.\\teconomy\\tmitt-romney\\tFormer governor\\tMassachusetts\\trepublican\\t34\\t32\\t58\\t33\\t19\\tan editorial board meeting with an Iowa newspaper\\n12189.json\\thalf-true\\tSays Rick Scott cut Medicaid so people cant get Obamacare.\\thealth-care,medicaid\\trick-scotts-starbucks-heckler\\tActivist, stay-at-home mom\\tFlorida\\tactivist\\t0\\t0\\t2\\t0\\t0\\ta confrontation with Rick Scott at Starbucks\\n945.json\\thalf-true\\tThe stimulus bill includes $8 billion for high-speed rail projects, such as a 'magnetic levitation' line from Las Vegas to Disneyland.\\\"\"\n",
    "        # \"$$23123 $213 hjolas having asdf\",\n",
    "        # 'due', 'latter', 'least', 'these', \"'m\", 'all', 'almost', 'by', 'have', 'he', 'rather', 'without', 'are', 'about', 'were', 'sometimes', 'we', 'still', 'they', 'third', 'none', 'via', 'around', 'yourself', 'full', 'some', '‘ll', 'neither', 'namely', '’d', 'further', 'forty', 'always', 'be', 'anything', 'afterwards', 'therein', 'former', 'others', 'already', 'another', 'a', 'make', 'every', 'so', 'together', 'his', 'beforehand', 'must', 'used', 'for', 'yours', 'themselves', 'with', 'could', 'only', 'fifty', 'beyond', 'per', 'seems', 'regarding', 'six', 'beside', 'nine', 'also', 'nevertheless', 'empty', 'say', 'often', 'meanwhile', 'first', 'how', 'somehow', 'eight', 'anyone', 'therefore', 'does', 'up', 'over', 'sixty', 'it', 'becomes', 'into', 'behind', '‘d', 'once', 'less', 'see', 'what', 'much', 'name', 'her', 'thus', 'itself', 'should', 'you', 'move', 'fifteen', 'myself', 'amongst', 'whether', 'but', 'this', 'eleven', 'out', 'perhaps', 'whatever', 'never', '’m', 'whither', 'to', 'him', 'same', 'whence', 'who', '’ll', 'four', 'its', 'our', 'back', 'thence', 'throughout', 'has', 'that', 'otherwise', 'side', 'after', 'show', 'done', 'few', 'top', 'whereupon', 'yet', 'both', 'three', 'been', 'us', 'me', 'will', 'herself', 'between', 'them', 'thereby', '‘ve', 'either', 'can', \"'ll\", 'next', 'hers', 'those', 'twelve', 'i', 'thru', 'thereupon', 'upon', 'toward', 'himself', 'of', 'seeming', 'though', 'twenty', '’ve', 'n‘t', 'noone', 're', 'something', 'among', 'nowhere', 'wherein', '‘re', 'hundred', 'above', 'ten', 'elsewhere', 'and', 'many', 'my', 'whom', 'as', 'than', 'give', 'under', 'very', 'was', 'indeed', 'anywhere', 'now', 'put', 'hereafter', 'if', 'part', 'against', 'go', 'she', 'mostly', 'through', 'quite', 'doing', 'last', 'hereby', 'which', 'on', 'everything', '‘m', 'wherever', 'along', 'down', 'formerly', 'become', 'why', 'whereby', 'had', 'latterly', 'again', 'below', 'each', 'five', 'several', 'is', 'alone', 'well', 'hereupon', 'whoever', 'else', 'onto', 'no', 'made', 'herein', 'sometime', 'whole', 'own', 'please', 'get', '’re', 'being', 'serious', \"'d\", 'towards', 'even', 'here', 'might', 'mine', 'using', 'ever', 'call', 'there', 'when', 'keep', 'although', 'during', 'moreover', 'your', 'everyone', \"'s\", 'or', 'various', 'until', 'an', 'within', 'bottom', 'becoming', 'whenever', 'whereafter', 'whose', 'anyway', 'nothing', 'at', 'take', \"'re\", 'n’t', 'the', 'not', 'am', 'besides', 'such', 'in', 'unless', 'ourselves', 'nor', 'more', 'most', '’s', 'since', 'seem', \"n't\", 'their', 'one', 'where', 'may', 'amount', 'yourselves', \"'ve\", 'except', 'too', 'everywhere', 'while', 'hence', 'would', 'became', 'really', 'any', 'just', 'thereafter', 'cannot', 'somewhere', 'seemed', 'off', 'from', 'did', 'do', 'anyhow', 'front', 'two', 'enough', 'someone', 'before', 'other', '‘s', 'however', 'across', 'ca', 'then', 'because', 'ours', 'nobody', 'whereas'}\n",
    "        # \"due latter least these 'm all almost by have he rather without are about were sometimes we still they third none via around yourself full some ‘ll neither namely ’d further forty always be anything afterwards therein former others already another a make every so together his beforehand must used for yours themselves with could only fifty beyond per seems regarding six beside nine also nevertheless empty say often meanwhile first how somehow eight anyone therefore does up over sixty it becomes into behind ‘d once less see what much name her thus itself should you move fifteen myself amongst whether but this eleven out perhaps whatever never ’m whither to him same whence who ’ll four its our back thence throughout has that otherwise side after show done few top whereupon yet both three been us me will hersel\"\n",
    "        # \"China is in the South China Sea and (building)a military fortress the likes of which perhaps the  filia world has not seen. \",\n",
    "        \n",
    "        # \"says76 percent voters united states want johnson weld presidential debates\"\n",
    "        # \"Barack Obama was born in Hawaii and served as President of the United States.\",\n",
    "    ]\n",
    "\n",
    "    for s in ejemplos:\n",
    "        print(f\"Original: {s}\")\n",
    "        resultado = preprocess(s,1)\n",
    "        print(f\"Procesado: {resultado}\\n\")\n",
    "\n",
    "    print(f\"URLs eliminadas: {url_changes}\")\n",
    "    print(f\"Puntuaciónes eliminadas: {punct_changes}\")\n",
    "    print(f\"Stopwords eliminadas: {stopword_changes}\")\n",
    "    print(f\"Dígitos eliminados: {digit_changes}\")\n"
   ]
  },
  {
   "cell_type": "code",
   "execution_count": 21,
   "metadata": {},
   "outputs": [
    {
     "name": "stdout",
     "output_type": "stream",
     "text": [
      "{'whatever', 'around', 'least', 'their', 'beforehand', \"'re\", 'always', 'take', '‘re', 'thru', 'be', 'again', 'anyone', 'by', 'becomes', 'three', 'whoever', 'anywhere', 'thereby', 'whence', 'within', 'when', \"'ve\", 'please', 'used', 'seem', 'really', 'whom', 'quite', 'us', 'give', 'five', 'such', 'him', 'same', 'eight', 'before', 'one', '‘s', 'everything', 'four', 'me', 'formerly', 'fifty', 'done', 'enough', 'because', 'hereafter', 'ever', 'sometime', 'third', 'do', 'upon', 'you', 'since', 'something', 'yours', 'yet', 'myself', 'whither', 'else', 'see', 'onto', 'then', 'after', '‘ve', 'various', 'afterwards', 'alone', 'he', 'somehow', 'being', 'via', 'another', 'anything', 'out', '’d', 'serious', 'here', 'namely', '‘ll', 'full', 'had', 'several', 'off', 'ourselves', 'sometimes', 'unless', 'nobody', 'through', 'elsewhere', 'there', 'latterly', \"n't\", 'whose', 'so', 'already', 'someone', 'would', 'our', 'own', 'move', 'call', \"'m\", 'thence', 'themselves', 'few', 'keep', 'neither', 'hers', 'have', 'two', 'only', 'among', 'which', 'whenever', 'that', '‘d', 'what', 'nothing', 'show', 'seems', 'six', 'nor', 'rather', 'whereas', 'is', 'beyond', 'how', 'been', 'them', 'still', 'bottom', 'whereafter', 'side', 'somewhere', 'seemed', 'therefore', 'why', 'itself', 'together', 'behind', 'but', 'moreover', 'also', 'n’t', 'a', 'next', 'ten', 'if', 'might', 'mine', 'part', 'should', 'everyone', 'empty', 'besides', 'those', 'get', 'in', 'some', 'at', 'up', 'while', 'each', 'becoming', 'sixty', 'or', 'however', '’s', 'down', 'due', \"'ll\", 'twelve', 'this', 'either', 'am', 'of', 'too', 'top', 'i', 'nevertheless', 'even', 'as', 'former', 'although', 'make', 'from', 'amount', 'doing', 'beside', 'nine', 'along', 'thereafter', 'over', 'none', 'across', '’ve', 'go', 'was', 'under', 'his', 'put', 'yourselves', 'indeed', 'ours', 'your', 'who', 'others', 'toward', 'are', 'all', 'anyway', 'on', 'wherever', 'hence', '’m', 'these', 'otherwise', 'last', 'her', 'made', 'the', 'into', 'more', 'back', 're', 'front', 'has', 'were', 'we', 'towards', 'cannot', 'my', 'much', \"'s\", 'meanwhile', 'further', 'between', 'regarding', 'less', 'thus', 'not', 'become', 'fifteen', 'eleven', 'ca', 'hereby', 'hereupon', 'yourself', 'forty', 'name', 'about', 'with', \"'d\", 'could', 'once', 'both', 'it', '’ll', 'throughout', 'whether', 'very', 'an', 'hundred', 'per', 'most', 'just', 'nowhere', 'wherein', 'everywhere', 'many', 'whereby', 'noone', 'herein', 'below', 'may', 'herself', 'amongst', 'latter', 'now', '’re', 'they', 'can', 'to', 'mostly', 'often', 'never', 'became', '‘m', 'against', 'no', 'though', 'above', 'say', 'without', 'therein', 'twenty', 'perhaps', 'other', 'whole', 'thereupon', 'during', 'its', 'than', 'she', 'almost', 'first', 'himself', 'well', 'does', 'n‘t', 'did', 'for', 'must', 'any', 'and', 'anyhow', 'until', 'seeming', 'except', 'will', 'using', 'where', 'every', 'whereupon'}\n"
     ]
    }
   ],
   "source": [
    "# token.is_stop or token.text in nlp.Defaults.stop_words\n",
    "\n",
    "print(nlp.Defaults.stop_words)"
   ]
  },
  {
   "cell_type": "code",
   "execution_count": 22,
   "metadata": {},
   "outputs": [],
   "source": [
    "# # Función para lematizar los verbos en una frase\n",
    "def lemmatize_verbs(text):\n",
    "    doc = nlp(text)\n",
    "    lemmatized_text = []\n",
    "    for token in doc:\n",
    "        # Si el token es un verbo, usar su lema; de lo contrario, mantener el texto original\n",
    "        if token.pos_ == \"VERB\":\n",
    "            lemmatized_text.append(token.lemma_)\n",
    "        else:\n",
    "            lemmatized_text.append(token.text)\n",
    "    return \" \".join(lemmatized_text)\n",
    "\n"
   ]
  },
  {
   "cell_type": "markdown",
   "metadata": {},
   "source": [
    "Como podemos comprobar no hay una gran diferencia entre ambos tipos de *claims*"
   ]
  },
  {
   "cell_type": "code",
   "execution_count": 23,
   "metadata": {},
   "outputs": [
    {
     "name": "stdout",
     "output_type": "stream",
     "text": [
      "{'whatever', 'around', 'least', 'their', 'beforehand', \"'re\", 'always', 'take', '‘re', 'thru', 'be', 'again', 'anyone', 'by', 'becomes', 'three', 'whoever', 'anywhere', 'thereby', 'whence', 'within', 'when', \"'ve\", 'please', 'used', 'seem', 'really', 'whom', 'quite', 'us', 'give', 'five', 'such', 'him', 'same', 'eight', 'before', 'one', '‘s', 'everything', 'four', 'me', 'formerly', 'fifty', 'done', 'enough', 'because', 'hereafter', 'ever', 'sometime', 'third', 'do', 'upon', 'you', 'since', 'something', 'yours', 'yet', 'myself', 'whither', 'else', 'see', 'onto', 'then', 'after', '‘ve', 'various', 'afterwards', 'alone', 'he', 'somehow', 'being', 'via', 'another', 'anything', 'out', '’d', 'serious', 'here', 'namely', '‘ll', 'full', 'had', 'several', 'off', 'ourselves', 'sometimes', 'unless', 'nobody', 'through', 'elsewhere', 'there', 'latterly', \"n't\", 'whose', 'so', 'already', 'someone', 'would', 'our', 'own', 'move', 'call', \"'m\", 'thence', 'themselves', 'few', 'keep', 'neither', 'hers', 'have', 'two', 'only', 'among', 'which', 'whenever', 'that', '‘d', 'what', 'nothing', 'show', 'seems', 'six', 'nor', 'rather', 'whereas', 'is', 'beyond', 'how', 'been', 'them', 'still', 'bottom', 'whereafter', 'side', 'somewhere', 'seemed', 'therefore', 'why', 'itself', 'together', 'behind', 'but', 'moreover', 'also', 'n’t', 'a', 'next', 'ten', 'if', 'might', 'mine', 'part', 'should', 'everyone', 'empty', 'besides', 'those', 'get', 'in', 'some', 'at', 'up', 'while', 'each', 'becoming', 'sixty', 'or', 'however', '’s', 'down', 'due', \"'ll\", 'twelve', 'this', 'either', 'am', 'of', 'too', 'top', 'i', 'nevertheless', 'even', 'as', 'former', 'although', 'make', 'from', 'amount', 'doing', 'beside', 'nine', 'along', 'thereafter', 'over', 'none', 'across', '’ve', 'go', 'was', 'under', 'his', 'put', 'yourselves', 'indeed', 'ours', 'your', 'who', 'others', 'toward', 'are', 'all', 'anyway', 'on', 'wherever', 'hence', '’m', 'these', 'otherwise', 'last', 'her', 'made', 'the', 'into', 'more', 'back', 're', 'front', 'has', 'were', 'we', 'towards', 'cannot', 'my', 'much', \"'s\", 'meanwhile', 'further', 'between', 'regarding', 'less', 'thus', 'not', 'become', 'fifteen', 'eleven', 'ca', 'hereby', 'hereupon', 'yourself', 'forty', 'name', 'about', 'with', \"'d\", 'could', 'once', 'both', 'it', '’ll', 'throughout', 'whether', 'very', 'an', 'hundred', 'per', 'most', 'just', 'nowhere', 'wherein', 'everywhere', 'many', 'whereby', 'noone', 'herein', 'below', 'may', 'herself', 'amongst', 'latter', 'now', '’re', 'they', 'can', 'to', 'mostly', 'often', 'never', 'became', '‘m', 'against', 'no', 'though', 'above', 'say', 'without', 'therein', 'twenty', 'perhaps', 'other', 'whole', 'thereupon', 'during', 'its', 'than', 'she', 'almost', 'first', 'himself', 'well', 'does', 'n‘t', 'did', 'for', 'must', 'any', 'and', 'anyhow', 'until', 'seeming', 'except', 'will', 'using', 'where', 'every', 'whereupon'}\n"
     ]
    }
   ],
   "source": [
    "# Stop words\n",
    "print(nlp.Defaults.stop_words)"
   ]
  },
  {
   "cell_type": "code",
   "execution_count": 24,
   "metadata": {},
   "outputs": [
    {
     "name": "stdout",
     "output_type": "stream",
     "text": [
      "!\"#$%&'()*+,-./:;<=>?@[\\]^_`{|}~\n"
     ]
    }
   ],
   "source": [
    "import string\n",
    "\n",
    "print(string.punctuation)"
   ]
  },
  {
   "cell_type": "markdown",
   "metadata": {},
   "source": [
    "#### Raw"
   ]
  },
  {
   "cell_type": "code",
   "execution_count": 25,
   "metadata": {},
   "outputs": [
    {
     "name": "stdout",
     "output_type": "stream",
     "text": [
      "URLs eliminadas: 30\n",
      "Puntuaciones eliminadas: 21176\n",
      "Stopwords eliminadas: 61803\n",
      "Dígitos eliminados: 7956\n"
     ]
    }
   ],
   "source": [
    "# i = 0\n",
    "# dfc['statement'] = dfc['statement'].apply(lambda x: preprocess(x, row_number=i))\n",
    "dfc['statement'] = dfc.apply(lambda row: preprocess(row['statement'], row.name), axis=1)\n",
    "dfc['statement-raw']  = dfc['statement']\n",
    "dfc['statement-raw'] = dfc['statement-raw'].apply(lambda x: x.lower())\n",
    "\n",
    "\n",
    "# Mostrar los contadores\n",
    "print(f\"URLs eliminadas: {url_changes}\")\n",
    "print(f\"Puntuaciones eliminadas: {punct_changes}\")\n",
    "print(f\"Stopwords eliminadas: {stopword_changes}\")\n",
    "print(f\"Dígitos eliminados: {digit_changes}\")"
   ]
  },
  {
   "cell_type": "code",
   "execution_count": 26,
   "metadata": {},
   "outputs": [
    {
     "data": {
      "image/png": "[encoded data removed]",
      "text/plain": [
       "<Figure size 640x480 with 1 Axes>"
      ]
     },
     "metadata": {},
     "output_type": "display_data"
    }
   ],
   "source": [
    "def create_collection_raw(label):\n",
    "    collection=[]\n",
    "    \n",
    "    for x in dfc[dfc['label']==label]['statement-raw'].str.split():\n",
    "        for i in x:\n",
    "            collection.append(i)\n",
    "    return collection\n",
    "\n",
    "#Common stopwords in no fake claims, label 0\n",
    "collection=create_collection_raw(0)\n",
    "\n",
    "dic=defaultdict(int)\n",
    "for word in collection: \n",
    "    dic[word]+=1\n",
    "        \n",
    "top=sorted(dic.items(), key=lambda x:x[1],reverse=True)[:10] \n",
    "\n",
    "x,y=zip(*top)\n",
    "plt.bar(x,y)\n",
    "plt.show()"
   ]
  },
  {
   "cell_type": "code",
   "execution_count": 27,
   "metadata": {},
   "outputs": [
    {
     "data": {
      "image/png": "[encoded data removed]",
      "text/plain": [
       "<Figure size 640x480 with 1 Axes>"
      ]
     },
     "metadata": {},
     "output_type": "display_data"
    }
   ],
   "source": [
    "collection=create_collection_raw(1)\n",
    "\n",
    "dic=defaultdict(int)\n",
    "for word in collection: \n",
    "    dic[word]+=1\n",
    "        \n",
    "top=sorted(dic.items(), key=lambda x:x[1],reverse=True)[:10] \n",
    "\n",
    "x,y=zip(*top)\n",
    "plt.bar(x,y, color='orange')\n",
    "plt.show()"
   ]
  },
  {
   "cell_type": "code",
   "execution_count": 28,
   "metadata": {},
   "outputs": [],
   "source": [
    "# Obtener el conteo de valores únicos de 'speaker'\n",
    "# statement_counts = dfc_backup['statement'].value_counts()\n",
    "statement_counts = dfc['statement']\n",
    "\n",
    "# Convertir a diccionario\n",
    "statement_counts_dict = statement_counts.to_dict()\n",
    "\n",
    "# Exportar a un archivo JSON\n",
    "with open('json-study-statement/statements_raw.json', 'w', encoding='utf-8') as f:\n",
    "    json.dump(statement_counts_dict, f, ensure_ascii=False, indent=2)"
   ]
  },
  {
   "cell_type": "markdown",
   "metadata": {},
   "source": [
    "#### Lematize"
   ]
  },
  {
   "cell_type": "code",
   "execution_count": 29,
   "metadata": {},
   "outputs": [],
   "source": [
    "dfc['statement-leamtize'] = dfc['statement'].apply(lambda x: lemmatize_verbs(x))\n",
    "dfc['statement-leamtize'] = dfc['statement-leamtize'].apply(lambda x: x.lower())"
   ]
  },
  {
   "cell_type": "code",
   "execution_count": 30,
   "metadata": {},
   "outputs": [
    {
     "name": "stdout",
     "output_type": "stream",
     "text": [
      "Diccionario OOV guardado en: ./json-study-statement/oov_words_by_row.json\n"
     ]
    }
   ],
   "source": [
    "import json\n",
    "\n",
    "# Función para guardar el diccionario en un archivo JSON\n",
    "def save_oov_to_json(oov_dict, output_file=\"./json-study-statement/oov_words_by_row.json\"):\n",
    "    \"\"\"\n",
    "    Guarda el diccionario de palabras fuera del vocabulario (OOV) en un archivo JSON.\n",
    "\n",
    "    :param oov_dict: Diccionario con las palabras OOV por fila.\n",
    "    :param output_file: Nombre del archivo JSON de salida.\n",
    "    \"\"\"\n",
    "    try:\n",
    "        with open(output_file, \"w\", encoding=\"utf-8\") as f:\n",
    "            json.dump(oov_dict, f, ensure_ascii=False, indent=4)\n",
    "        print(f\"Diccionario OOV guardado en: {output_file}\")\n",
    "    except Exception as e:\n",
    "        print(f\"Error al guardar el archivo JSON: {e}\")\n",
    "\n",
    "# Guardar el diccionario OOV en un archivo JSON\n",
    "\n",
    "save_oov_to_json(oov_words_by_row)"
   ]
  },
  {
   "cell_type": "code",
   "execution_count": 31,
   "metadata": {},
   "outputs": [],
   "source": [
    "# Obtener el conteo de valores únicos de 'speaker'\n",
    "# statement_counts = dfc_backup['statement'].value_counts()\n",
    "statement_counts = dfc['statement-leamtize']\n",
    "\n",
    "# Convertir a diccionario\n",
    "statement_counts_dict = statement_counts.to_dict()\n",
    "\n",
    "# Exportar a un archivo JSON\n",
    "with open('json-study-statement/statements_lematize.json', 'w', encoding='utf-8') as f:\n",
    "    json.dump(statement_counts_dict, f, ensure_ascii=False, indent=2)"
   ]
  },
  {
   "cell_type": "code",
   "execution_count": 32,
   "metadata": {},
   "outputs": [
    {
     "data": {
      "image/png": "[encoded data removed]",
      "text/plain": [
       "<Figure size 640x480 with 1 Axes>"
      ]
     },
     "metadata": {},
     "output_type": "display_data"
    }
   ],
   "source": [
    "def create_collection_lematize(label):\n",
    "    collection=[]\n",
    "    \n",
    "    for x in dfc[dfc['label']==label]['statement-leamtize'].str.split():\n",
    "        for i in x:\n",
    "            collection.append(i)\n",
    "    return collection\n",
    "\n",
    "#Common stopwords in no fake claims, label 0\n",
    "collection=create_collection_lematize(0)\n",
    "\n",
    "dic=defaultdict(int)\n",
    "for word in collection: \n",
    "    dic[word]+=1\n",
    "        \n",
    "top=sorted(dic.items(), key=lambda x:x[1],reverse=True)[:10] \n",
    "\n",
    "x,y=zip(*top)\n",
    "plt.bar(x,y)\n",
    "plt.show()"
   ]
  },
  {
   "cell_type": "code",
   "execution_count": 33,
   "metadata": {},
   "outputs": [
    {
     "data": {
      "image/png": "[encoded data removed]",
      "text/plain": [
       "<Figure size 640x480 with 1 Axes>"
      ]
     },
     "metadata": {},
     "output_type": "display_data"
    }
   ],
   "source": [
    "collection=create_collection_lematize(1)\n",
    "\n",
    "dic=defaultdict(int)\n",
    "for word in collection:\n",
    "    if word in en_stopwords:\n",
    "        dic[word]+=1\n",
    "\n",
    "top=sorted(dic.items(), key=lambda x:x[1],reverse=True)[:10] \n",
    "\n",
    "x,y=zip(*top)\n",
    "plt.bar(x,y,color='orange')\n",
    "plt.show()"
   ]
  },
  {
   "cell_type": "code",
   "execution_count": 34,
   "metadata": {},
   "outputs": [
    {
     "data": {
      "text/html": [
       "<div>\n",
       "<style scoped>\n",
       "    .dataframe tbody tr th:only-of-type {\n",
       "        vertical-align: middle;\n",
       "    }\n",
       "\n",
       "    .dataframe tbody tr th {\n",
       "        vertical-align: top;\n",
       "    }\n",
       "\n",
       "    .dataframe thead th {\n",
       "        text-align: right;\n",
       "    }\n",
       "</style>\n",
       "<table border=\"1\" class=\"dataframe\">\n",
       "  <thead>\n",
       "    <tr style=\"text-align: right;\">\n",
       "      <th></th>\n",
       "      <th>label</th>\n",
       "      <th>statement</th>\n",
       "      <th>subject</th>\n",
       "      <th>speaker</th>\n",
       "      <th>speaker_job</th>\n",
       "      <th>state_info</th>\n",
       "      <th>party_affiliation</th>\n",
       "      <th>statement-raw</th>\n",
       "      <th>statement-leamtize</th>\n",
       "    </tr>\n",
       "  </thead>\n",
       "  <tbody>\n",
       "    <tr>\n",
       "      <th>0</th>\n",
       "      <td>1</td>\n",
       "      <td>China is South China Sea military fortress lik...</td>\n",
       "      <td>china,foreign-policy,military</td>\n",
       "      <td>donald-trump</td>\n",
       "      <td>President-Elect</td>\n",
       "      <td>New York</td>\n",
       "      <td>republican</td>\n",
       "      <td>china is south china sea military fortress lik...</td>\n",
       "      <td>china is south china sea military fortress lik...</td>\n",
       "    </tr>\n",
       "    <tr>\n",
       "      <th>1</th>\n",
       "      <td>0</td>\n",
       "      <td>resources takes execute months Iraq war fully ...</td>\n",
       "      <td>health-care</td>\n",
       "      <td>chris-dodd</td>\n",
       "      <td>U.S. senator</td>\n",
       "      <td>Connecticut</td>\n",
       "      <td>democrat</td>\n",
       "      <td>resources takes execute months iraq war fully ...</td>\n",
       "      <td>resources take execute months iraq war fully f...</td>\n",
       "    </tr>\n",
       "    <tr>\n",
       "      <th>2</th>\n",
       "      <td>0</td>\n",
       "      <td>Wisconsin governor has proposed tax giveaways ...</td>\n",
       "      <td>corporations,pundits,taxes,abc-news-week</td>\n",
       "      <td>donna-brazile</td>\n",
       "      <td>Political commentator</td>\n",
       "      <td>Washington, D.C.</td>\n",
       "      <td>democrat</td>\n",
       "      <td>wisconsin governor has proposed tax giveaways ...</td>\n",
       "      <td>wisconsin governor has propose tax giveaways c...</td>\n",
       "    </tr>\n",
       "    <tr>\n",
       "      <th>3</th>\n",
       "      <td>1</td>\n",
       "      <td>Says representation ex boyfriend was friend fa...</td>\n",
       "      <td>candidates-biography,children,ethics,families,...</td>\n",
       "      <td>rebecca-bradley</td>\n",
       "      <td>NaN</td>\n",
       "      <td>NaN</td>\n",
       "      <td>none</td>\n",
       "      <td>says representation ex boyfriend was friend fa...</td>\n",
       "      <td>say representation ex boyfriend was friend fam...</td>\n",
       "    </tr>\n",
       "    <tr>\n",
       "      <th>4</th>\n",
       "      <td>0</td>\n",
       "      <td>protests Wisconsin proposed collective bargain...</td>\n",
       "      <td>health-care,labor,state-budget</td>\n",
       "      <td>republican-party-wisconsin</td>\n",
       "      <td>NaN</td>\n",
       "      <td>Wisconsin</td>\n",
       "      <td>republican</td>\n",
       "      <td>protests wisconsin proposed collective bargain...</td>\n",
       "      <td>protests wisconsin propose collective bargaini...</td>\n",
       "    </tr>\n",
       "  </tbody>\n",
       "</table>\n",
       "</div>"
      ],
      "text/plain": [
       "   label                                          statement  \\\n",
       "0      1  China is South China Sea military fortress lik...   \n",
       "1      0  resources takes execute months Iraq war fully ...   \n",
       "2      0  Wisconsin governor has proposed tax giveaways ...   \n",
       "3      1  Says representation ex boyfriend was friend fa...   \n",
       "4      0  protests Wisconsin proposed collective bargain...   \n",
       "\n",
       "                                             subject  \\\n",
       "0                      china,foreign-policy,military   \n",
       "1                                        health-care   \n",
       "2           corporations,pundits,taxes,abc-news-week   \n",
       "3  candidates-biography,children,ethics,families,...   \n",
       "4                     health-care,labor,state-budget   \n",
       "\n",
       "                      speaker            speaker_job        state_info  \\\n",
       "0                donald-trump        President-Elect          New York   \n",
       "1                  chris-dodd           U.S. senator       Connecticut   \n",
       "2               donna-brazile  Political commentator  Washington, D.C.   \n",
       "3             rebecca-bradley                    NaN               NaN   \n",
       "4  republican-party-wisconsin                    NaN         Wisconsin   \n",
       "\n",
       "  party_affiliation                                      statement-raw  \\\n",
       "0        republican  china is south china sea military fortress lik...   \n",
       "1          democrat  resources takes execute months iraq war fully ...   \n",
       "2          democrat  wisconsin governor has proposed tax giveaways ...   \n",
       "3              none  says representation ex boyfriend was friend fa...   \n",
       "4        republican  protests wisconsin proposed collective bargain...   \n",
       "\n",
       "                                  statement-leamtize  \n",
       "0  china is south china sea military fortress lik...  \n",
       "1  resources take execute months iraq war fully f...  \n",
       "2  wisconsin governor has propose tax giveaways c...  \n",
       "3  say representation ex boyfriend was friend fam...  \n",
       "4  protests wisconsin propose collective bargaini...  "
      ]
     },
     "execution_count": 34,
     "metadata": {},
     "output_type": "execute_result"
    }
   ],
   "source": [
    "dfc.head()\n",
    "\n",
    "# dfc.drop(columns='label', inplace=True)"
   ]
  },
  {
   "cell_type": "markdown",
   "metadata": {},
   "source": [
    "#### NER"
   ]
  },
  {
   "cell_type": "code",
   "execution_count": 35,
   "metadata": {},
   "outputs": [
    {
     "name": "stdout",
     "output_type": "stream",
     "text": [
      "Input:    Says 76 percent voters United States want Johnson Weld presidential debates\n",
      "Labels:   76 percent United States Johnson Weld\n",
      "\n",
      "Input:    Barack Obama was born in Hawaii and served as President of the United States.\n",
      "Labels:   Barack Obama Hawaii the United States\n",
      "\n",
      "Input:    Apple Inc. announced a new iPhone in Cupertino.\n",
      "Labels:   Apple Inc. iPhone Cupertino\n",
      "\n"
     ]
    }
   ],
   "source": [
    "import spacy\n",
    "import re\n",
    "\n",
    "# Carga el modelo de spaCy\n",
    "nlp = spacy.load('en_core_web_lg')\n",
    "\n",
    "def preprocess_ner(text):\n",
    "    \"\"\"\n",
    "    Extrae las entidades nombradas y devuelve\n",
    "    una cadena con sus labels en orden.\n",
    "    \"\"\"\n",
    "    # Limpieza básica de espacios\n",
    "    text = re.sub(r'\\s+', ' ', text).strip()\n",
    "    doc = nlp(text)\n",
    "\n",
    "    # Recolectamos solo los labels, en orden de aparición\n",
    "    labels = [ent.text for ent in doc.ents]\n",
    "\n",
    "    # Unimos en una frase (puedes cambiar el separador si prefieres comas)\n",
    "    if labels:\n",
    "        return ' '.join(labels)\n",
    "    else:\n",
    "        return '(no entities)'\n",
    "\n",
    "if __name__ == \"__main__\":\n",
    "    ejemplos = [\n",
    "        \"Says 76 percent voters United States want Johnson Weld presidential debates\",\n",
    "        \"Barack Obama was born in Hawaii and served as President of the United States.\",\n",
    "        \"Apple Inc. announced a new iPhone in Cupertino.\"\n",
    "    ]\n",
    "\n",
    "    for s in ejemplos:\n",
    "        frase_labels = preprocess_ner(s)\n",
    "        print(f\"Input:    {s}\")\n",
    "        print(f\"Labels:   {frase_labels}\\n\")\n"
   ]
  },
  {
   "cell_type": "code",
   "execution_count": 36,
   "metadata": {},
   "outputs": [],
   "source": [
    "# preprocess_ner\n",
    "dfc['statement-ner'] = df['statement'].apply(lambda x: preprocess_ner(x))\n"
   ]
  },
  {
   "cell_type": "code",
   "execution_count": 37,
   "metadata": {},
   "outputs": [],
   "source": [
    "# Obtener el conteo de valores únicos de 'speaker'\n",
    "# statement_counts = dfc_backup['statement'].value_counts()\n",
    "statement_counts = dfc['statement-ner']\n",
    "\n",
    "# Convertir a diccionario\n",
    "statement_counts_dict = statement_counts.to_dict()\n",
    "\n",
    "# Exportar a un archivo JSON\n",
    "with open('json-study-statement/statements_ner.json', 'w', encoding='utf-8') as f:\n",
    "    json.dump(statement_counts_dict, f, ensure_ascii=False, indent=2)"
   ]
  },
  {
   "cell_type": "markdown",
   "metadata": {},
   "source": [
    "####  Sentimientos"
   ]
  },
  {
   "cell_type": "code",
   "execution_count": 38,
   "metadata": {},
   "outputs": [
    {
     "name": "stdout",
     "output_type": "stream",
     "text": [
      "Original: Barack Obama was born in Hawaii and served as President of the United States.\n",
      "Procesado: Barack Obama born Hawaii served President United States\n",
      "\n",
      "URLs eliminadas: 30\n",
      "Puntuaciónes eliminadas: 21176\n",
      "Stopwords eliminadas: 61803\n",
      "Dígitos eliminados: 7956\n"
     ]
    }
   ],
   "source": [
    "nlp = spacy.load('en_core_web_lg')\n",
    "\n",
    "def preprocess_sent(text, row_number=None):\n",
    "\n",
    "    text = re.sub(r'\\s+', ' ', text).strip()\n",
    "\n",
    "    text = replace_words(text)\n",
    "    # return text\n",
    "    doc = nlp(text)\n",
    "    tokens = []\n",
    "\n",
    "\n",
    "\n",
    "    for token in doc:\n",
    "        # Eliminar URLs\n",
    "        if token.like_url:\n",
    "            continue\n",
    "\n",
    "        # Eliminar puntuación y espacios\n",
    "        if token.is_punct or token.is_space or token.text in string.punctuation:\n",
    "            continue\n",
    "        if any(char in string.punctuation for char in token.text):\n",
    "            continue\n",
    "\n",
    "        lower_token = token.text.lower()\n",
    "        # Detectar negaciones completas o contracciones\n",
    "        if lower_token == \"wo\":\n",
    "            continue\n",
    "        \n",
    "        # Eliminar stopwords\n",
    "        if token.is_stop or token.text in nlp.Defaults.stop_words or token.text in {'m', 'll', 'd', 're', 's', 've', 't'}:\n",
    "            continue\n",
    "\n",
    "        # Agregar token limpio\n",
    "        tokens.append(token.text)\n",
    "\n",
    "    clean = ' '.join(tokens)\n",
    "    return clean\n",
    "\n",
    "# ------------------- Sección de pruebas -------------------\n",
    "if __name__ == \"__main__\":\n",
    "\n",
    "\n",
    "    ejemplos = [\n",
    "        # \"I'd not check library book photo ID\",\n",
    "        # \"MikeHuckabee.com aren't gets \\\"more hits than virtually any 43 other presidential candidate.\\\"\",\n",
    "        # \"The vast majority of the money I got was from small donors all across the country.''\\tcampaign-finance\\tbarack-obama\\tPresident\\tIllinois\\tdemocrat\\t70\\t71\\t160\\t163\\t9\\tan interview with CNBC's John Harwood \\n5802.json\\ttrue\\tThe Democrat-controlled Senate, it hasnt passed a budget in more than 1,000 days.\\tdeficit,federal-budget,job-accomplishments\\tjohn-boehner\\tSpeaker of the House of Representatives\\tOhio\\trepublican\\t13\\t22\\t11\\t4\\t2\\ta video address\\n6153.json\\thalf-true\\tThe median income in America has dropped by 10 percent in the last four years.\\teconomy,income,jobs\\tmitt-romney\\tFormer governor\\tMassachusetts\\trepublican\\t34\\t32\\t58\\t33\\t19\\ta speech\\n6515.json\\tbarely-true\\tSays U.S. Senate hopeful Tammy Baldwin voted for a $1 trillion stimulus bill that included a wasteful $800,000 to replace light bulbs.\\tenergy,federal-budget,stimulus\\tcrossroads-gps\\tConservative advocacy group\\t\\trepublican\\t9\\t1\\t4\\t1\\t2\\ta television ad\\n385.json\\ttrue\\tSays Clinton did not read the National Intelligence Estimate before voting for the Iraq war.\\tiraq\\tbarack-obama\\tPresident\\tIllinois\\tdemocrat\\t70\\t71\\t160\\t163\\t9\\ta speech in Westerville, Ohio\\n10932.json\\tbarely-true\\tThanks to the Act 10 collective bargaining law that took effect four years ago, ACT scores in Wisconsin are now second-best in the country for states where more than half the kids take the exam.\\teducation,government-regulation,job-accomplishments,labor,unions\\tscott-walker\\tMilwaukee County Executive\\tWisconsin\\trepublican\\t26\\t41\\t32\\t40\\t11\\ta speech\\n5076.json\\tmostly-true\\tOur income, our GDP per capita, is almost 50 percent higher than (it is for) the average European.\\teconomy\\tmitt-romney\\tFormer governor\\tMassachusetts\\trepublican\\t34\\t32\\t58\\t33\\t19\\tan editorial board meeting with an Iowa newspaper\\n12189.json\\thalf-true\\tSays Rick Scott cut Medicaid so people cant get Obamacare.\\thealth-care,medicaid\\trick-scotts-starbucks-heckler\\tActivist, stay-at-home mom\\tFlorida\\tactivist\\t0\\t0\\t2\\t0\\t0\\ta confrontation with Rick Scott at Starbucks\\n945.json\\thalf-true\\tThe stimulus bill includes $8 billion for high-speed rail projects, such as a 'magnetic levitation' line from Las Vegas to Disneyland.\\\"\"\n",
    "        # \"$$23123 $213 hjolas having asdf\",\n",
    "        # 'due', 'latter', 'least', 'these', \"'m\", 'all', 'almost', 'by', 'have', 'he', 'rather', 'without', 'are', 'about', 'were', 'sometimes', 'we', 'still', 'they', 'third', 'none', 'via', 'around', 'yourself', 'full', 'some', '‘ll', 'neither', 'namely', '’d', 'further', 'forty', 'always', 'be', 'anything', 'afterwards', 'therein', 'former', 'others', 'already', 'another', 'a', 'make', 'every', 'so', 'together', 'his', 'beforehand', 'must', 'used', 'for', 'yours', 'themselves', 'with', 'could', 'only', 'fifty', 'beyond', 'per', 'seems', 'regarding', 'six', 'beside', 'nine', 'also', 'nevertheless', 'empty', 'say', 'often', 'meanwhile', 'first', 'how', 'somehow', 'eight', 'anyone', 'therefore', 'does', 'up', 'over', 'sixty', 'it', 'becomes', 'into', 'behind', '‘d', 'once', 'less', 'see', 'what', 'much', 'name', 'her', 'thus', 'itself', 'should', 'you', 'move', 'fifteen', 'myself', 'amongst', 'whether', 'but', 'this', 'eleven', 'out', 'perhaps', 'whatever', 'never', '’m', 'whither', 'to', 'him', 'same', 'whence', 'who', '’ll', 'four', 'its', 'our', 'back', 'thence', 'throughout', 'has', 'that', 'otherwise', 'side', 'after', 'show', 'done', 'few', 'top', 'whereupon', 'yet', 'both', 'three', 'been', 'us', 'me', 'will', 'herself', 'between', 'them', 'thereby', '‘ve', 'either', 'can', \"'ll\", 'next', 'hers', 'those', 'twelve', 'i', 'thru', 'thereupon', 'upon', 'toward', 'himself', 'of', 'seeming', 'though', 'twenty', '’ve', 'n‘t', 'noone', 're', 'something', 'among', 'nowhere', 'wherein', '‘re', 'hundred', 'above', 'ten', 'elsewhere', 'and', 'many', 'my', 'whom', 'as', 'than', 'give', 'under', 'very', 'was', 'indeed', 'anywhere', 'now', 'put', 'hereafter', 'if', 'part', 'against', 'go', 'she', 'mostly', 'through', 'quite', 'doing', 'last', 'hereby', 'which', 'on', 'everything', '‘m', 'wherever', 'along', 'down', 'formerly', 'become', 'why', 'whereby', 'had', 'latterly', 'again', 'below', 'each', 'five', 'several', 'is', 'alone', 'well', 'hereupon', 'whoever', 'else', 'onto', 'no', 'made', 'herein', 'sometime', 'whole', 'own', 'please', 'get', '’re', 'being', 'serious', \"'d\", 'towards', 'even', 'here', 'might', 'mine', 'using', 'ever', 'call', 'there', 'when', 'keep', 'although', 'during', 'moreover', 'your', 'everyone', \"'s\", 'or', 'various', 'until', 'an', 'within', 'bottom', 'becoming', 'whenever', 'whereafter', 'whose', 'anyway', 'nothing', 'at', 'take', \"'re\", 'n’t', 'the', 'not', 'am', 'besides', 'such', 'in', 'unless', 'ourselves', 'nor', 'more', 'most', '’s', 'since', 'seem', \"n't\", 'their', 'one', 'where', 'may', 'amount', 'yourselves', \"'ve\", 'except', 'too', 'everywhere', 'while', 'hence', 'would', 'became', 'really', 'any', 'just', 'thereafter', 'cannot', 'somewhere', 'seemed', 'off', 'from', 'did', 'do', 'anyhow', 'front', 'two', 'enough', 'someone', 'before', 'other', '‘s', 'however', 'across', 'ca', 'then', 'because', 'ours', 'nobody', 'whereas'}\n",
    "        # \"due latter least these 'm all almost by have he rather without are about were sometimes we still they third none via around yourself full some ‘ll neither namely ’d further forty always be anything afterwards therein former others already another a make every so together his beforehand must used for yours themselves with could only fifty beyond per seems regarding six beside nine also nevertheless empty say often meanwhile first how somehow eight anyone therefore does up over sixty it becomes into behind ‘d once less see what much name her thus itself should you move fifteen myself amongst whether but this eleven out perhaps whatever never ’m whither to him same whence who ’ll four its our back thence throughout has that otherwise side after show done few top whereupon yet both three been us me will hersel\"\n",
    "        # \"China is in the South China Sea and (building)a military fortress the likes of which perhaps the  filia world has not seen. \",\n",
    "        \n",
    "        # \"says76 percent voters united states want johnson weld presidential debates\"\n",
    "        \"Barack Obama was born in Hawaii and served as President of the United States.\",\n",
    "        \n",
    "    ]\n",
    "\n",
    "    for s in ejemplos:\n",
    "        print(f\"Original: {s}\")\n",
    "        resultado = preprocess_sent(s,1)\n",
    "        print(f\"Procesado: {resultado}\\n\")\n",
    "\n",
    "    print(f\"URLs eliminadas: {url_changes}\")\n",
    "    print(f\"Puntuaciónes eliminadas: {punct_changes}\")\n",
    "    print(f\"Stopwords eliminadas: {stopword_changes}\")\n",
    "    print(f\"Dígitos eliminados: {digit_changes}\")\n"
   ]
  },
  {
   "cell_type": "code",
   "execution_count": 39,
   "metadata": {},
   "outputs": [
    {
     "name": "stdout",
     "output_type": "stream",
     "text": [
      "Original: Barack Obama was born in Hawaii and served as President of the United States.\n",
      "Procesado: 0.4215\n",
      "\n"
     ]
    },
    {
     "name": "stderr",
     "output_type": "stream",
     "text": [
      "[nltk_data] Downloading package vader_lexicon to\n",
      "[nltk_data]     /home/sergio/nltk_data...\n",
      "[nltk_data]   Package vader_lexicon is already up-to-date!\n"
     ]
    }
   ],
   "source": [
    "import nltk\n",
    "nltk.download('vader_lexicon')\n",
    "from nltk.sentiment import SentimentIntensityAnalyzer\n",
    "\n",
    "sia = SentimentIntensityAnalyzer()\n",
    "\n",
    "def analyze_sentiment(text):\n",
    "    return sia.polarity_scores(text)['compound']\n",
    "    # return sia.polarity_scores(text)\n",
    "\n",
    "\n",
    "if __name__ == \"__main__\":\n",
    "\n",
    "    ejemplos = [\n",
    "        # \"I'd not check library book photo ID\",\n",
    "        # \"MikeHuckabee.com aren't gets \\\"more hits than virtually any 43 other presidential candidate.\\\"\",\n",
    "        # \"The vast majority of the money I got was from small donors all across the country.''\\tcampaign-finance\\tbarack-obama\\tPresident\\tIllinois\\tdemocrat\\t70\\t71\\t160\\t163\\t9\\tan interview with CNBC's John Harwood \\n5802.json\\ttrue\\tThe Democrat-controlled Senate, it hasnt passed a budget in more than 1,000 days.\\tdeficit,federal-budget,job-accomplishments\\tjohn-boehner\\tSpeaker of the House of Representatives\\tOhio\\trepublican\\t13\\t22\\t11\\t4\\t2\\ta video address\\n6153.json\\thalf-true\\tThe median income in America has dropped by 10 percent in the last four years.\\teconomy,income,jobs\\tmitt-romney\\tFormer governor\\tMassachusetts\\trepublican\\t34\\t32\\t58\\t33\\t19\\ta speech\\n6515.json\\tbarely-true\\tSays U.S. Senate hopeful Tammy Baldwin voted for a $1 trillion stimulus bill that included a wasteful $800,000 to replace light bulbs.\\tenergy,federal-budget,stimulus\\tcrossroads-gps\\tConservative advocacy group\\t\\trepublican\\t9\\t1\\t4\\t1\\t2\\ta television ad\\n385.json\\ttrue\\tSays Clinton did not read the National Intelligence Estimate before voting for the Iraq war.\\tiraq\\tbarack-obama\\tPresident\\tIllinois\\tdemocrat\\t70\\t71\\t160\\t163\\t9\\ta speech in Westerville, Ohio\\n10932.json\\tbarely-true\\tThanks to the Act 10 collective bargaining law that took effect four years ago, ACT scores in Wisconsin are now second-best in the country for states where more than half the kids take the exam.\\teducation,government-regulation,job-accomplishments,labor,unions\\tscott-walker\\tMilwaukee County Executive\\tWisconsin\\trepublican\\t26\\t41\\t32\\t40\\t11\\ta speech\\n5076.json\\tmostly-true\\tOur income, our GDP per capita, is almost 50 percent higher than (it is for) the average European.\\teconomy\\tmitt-romney\\tFormer governor\\tMassachusetts\\trepublican\\t34\\t32\\t58\\t33\\t19\\tan editorial board meeting with an Iowa newspaper\\n12189.json\\thalf-true\\tSays Rick Scott cut Medicaid so people cant get Obamacare.\\thealth-care,medicaid\\trick-scotts-starbucks-heckler\\tActivist, stay-at-home mom\\tFlorida\\tactivist\\t0\\t0\\t2\\t0\\t0\\ta confrontation with Rick Scott at Starbucks\\n945.json\\thalf-true\\tThe stimulus bill includes $8 billion for high-speed rail projects, such as a 'magnetic levitation' line from Las Vegas to Disneyland.\\\"\"\n",
    "        # \"$$23123 $213 hjolas having asdf\",\n",
    "        # 'due', 'latter', 'least', 'these', \"'m\", 'all', 'almost', 'by', 'have', 'he', 'rather', 'without', 'are', 'about', 'were', 'sometimes', 'we', 'still', 'they', 'third', 'none', 'via', 'around', 'yourself', 'full', 'some', '‘ll', 'neither', 'namely', '’d', 'further', 'forty', 'always', 'be', 'anything', 'afterwards', 'therein', 'former', 'others', 'already', 'another', 'a', 'make', 'every', 'so', 'together', 'his', 'beforehand', 'must', 'used', 'for', 'yours', 'themselves', 'with', 'could', 'only', 'fifty', 'beyond', 'per', 'seems', 'regarding', 'six', 'beside', 'nine', 'also', 'nevertheless', 'empty', 'say', 'often', 'meanwhile', 'first', 'how', 'somehow', 'eight', 'anyone', 'therefore', 'does', 'up', 'over', 'sixty', 'it', 'becomes', 'into', 'behind', '‘d', 'once', 'less', 'see', 'what', 'much', 'name', 'her', 'thus', 'itself', 'should', 'you', 'move', 'fifteen', 'myself', 'amongst', 'whether', 'but', 'this', 'eleven', 'out', 'perhaps', 'whatever', 'never', '’m', 'whither', 'to', 'him', 'same', 'whence', 'who', '’ll', 'four', 'its', 'our', 'back', 'thence', 'throughout', 'has', 'that', 'otherwise', 'side', 'after', 'show', 'done', 'few', 'top', 'whereupon', 'yet', 'both', 'three', 'been', 'us', 'me', 'will', 'herself', 'between', 'them', 'thereby', '‘ve', 'either', 'can', \"'ll\", 'next', 'hers', 'those', 'twelve', 'i', 'thru', 'thereupon', 'upon', 'toward', 'himself', 'of', 'seeming', 'though', 'twenty', '’ve', 'n‘t', 'noone', 're', 'something', 'among', 'nowhere', 'wherein', '‘re', 'hundred', 'above', 'ten', 'elsewhere', 'and', 'many', 'my', 'whom', 'as', 'than', 'give', 'under', 'very', 'was', 'indeed', 'anywhere', 'now', 'put', 'hereafter', 'if', 'part', 'against', 'go', 'she', 'mostly', 'through', 'quite', 'doing', 'last', 'hereby', 'which', 'on', 'everything', '‘m', 'wherever', 'along', 'down', 'formerly', 'become', 'why', 'whereby', 'had', 'latterly', 'again', 'below', 'each', 'five', 'several', 'is', 'alone', 'well', 'hereupon', 'whoever', 'else', 'onto', 'no', 'made', 'herein', 'sometime', 'whole', 'own', 'please', 'get', '’re', 'being', 'serious', \"'d\", 'towards', 'even', 'here', 'might', 'mine', 'using', 'ever', 'call', 'there', 'when', 'keep', 'although', 'during', 'moreover', 'your', 'everyone', \"'s\", 'or', 'various', 'until', 'an', 'within', 'bottom', 'becoming', 'whenever', 'whereafter', 'whose', 'anyway', 'nothing', 'at', 'take', \"'re\", 'n’t', 'the', 'not', 'am', 'besides', 'such', 'in', 'unless', 'ourselves', 'nor', 'more', 'most', '’s', 'since', 'seem', \"n't\", 'their', 'one', 'where', 'may', 'amount', 'yourselves', \"'ve\", 'except', 'too', 'everywhere', 'while', 'hence', 'would', 'became', 'really', 'any', 'just', 'thereafter', 'cannot', 'somewhere', 'seemed', 'off', 'from', 'did', 'do', 'anyhow', 'front', 'two', 'enough', 'someone', 'before', 'other', '‘s', 'however', 'across', 'ca', 'then', 'because', 'ours', 'nobody', 'whereas'}\n",
    "        # \"due latter least these 'm all almost by have he rather without are about were sometimes we still they third none via around yourself full some ‘ll neither namely ’d further forty always be anything afterwards therein former others already another a make every so together his beforehand must used for yours themselves with could only fifty beyond per seems regarding six beside nine also nevertheless empty say often meanwhile first how somehow eight anyone therefore does up over sixty it becomes into behind ‘d once less see what much name her thus itself should you move fifteen myself amongst whether but this eleven out perhaps whatever never ’m whither to him same whence who ’ll four its our back thence throughout has that otherwise side after show done few top whereupon yet both three been us me will hersel\"\n",
    "        # \"China is in the South China Sea and (building)a military fortress the likes of which perhaps the  filia world has not seen. \",\n",
    "        \n",
    "        # \"says76 percent voters united states want johnson weld presidential debates\"\n",
    "        \"Barack Obama was born in Hawaii and served as President of the United States.\",\n",
    "        \n",
    "    ]\n",
    "\n",
    "    for s in ejemplos:\n",
    "        print(f\"Original: {s}\")\n",
    "        resultado = analyze_sentiment(s)\n",
    "        print(f\"Procesado: {resultado}\\n\")\n",
    "\n",
    "\n"
   ]
  },
  {
   "cell_type": "code",
   "execution_count": 40,
   "metadata": {},
   "outputs": [],
   "source": [
    "# def analyze_sentiment(text):\n",
    "\n",
    "dfc['feelings'] = df[\"statement\"].apply(lambda x: preprocess_sent(x))\n",
    "dfc['feelings'] = dfc[\"feelings\"].apply(lambda x: analyze_sentiment(x))"
   ]
  },
  {
   "cell_type": "code",
   "execution_count": 41,
   "metadata": {},
   "outputs": [],
   "source": [
    "# Obtener el conteo de valores únicos de 'speaker'\n",
    "# statement_counts = dfc_backup['statement'].value_counts()\n",
    "statement_counts = dfc['feelings'] \n",
    "\n",
    "# Convertir a diccionario\n",
    "statement_counts_dict = statement_counts.to_dict()\n",
    "\n",
    "# Exportar a un archivo JSON\n",
    "with open('json-study-statement/statements_sentimientos.json', 'w', encoding='utf-8') as f:\n",
    "    json.dump(statement_counts_dict, f, ensure_ascii=False, indent=2)"
   ]
  },
  {
   "cell_type": "markdown",
   "metadata": {},
   "source": [
    "### 4.3.2 Resto de features"
   ]
  },
  {
   "cell_type": "markdown",
   "metadata": {},
   "source": [
    "#### - subject"
   ]
  },
  {
   "cell_type": "code",
   "execution_count": 42,
   "metadata": {},
   "outputs": [
    {
     "data": {
      "text/plain": [
       "1                                          health-care\n",
       "2             corporations,pundits,taxes,abc-news-week\n",
       "3    candidates-biography,children,ethics,families,...\n",
       "4                       health-care,labor,state-budget\n",
       "5                                 candidates-biography\n",
       "6                     legal-issues,state-budget,states\n",
       "7                                                 iraq\n",
       "8                                          immigration\n",
       "9     economy,income,retirement,social-security,wealth\n",
       "Name: subject, dtype: object"
      ]
     },
     "execution_count": 42,
     "metadata": {},
     "output_type": "execute_result"
    }
   ],
   "source": [
    "# dfc = df.copy()\n",
    "\n",
    "# dfc['subject'].value_counts()\n",
    "\n",
    "dfc['subject'].iloc[1:10]                    "
   ]
  },
  {
   "cell_type": "code",
   "execution_count": 43,
   "metadata": {},
   "outputs": [
    {
     "name": "stdout",
     "output_type": "stream",
     "text": [
      "subject_list\n",
      "economy           997\n",
      "health-care       991\n",
      "taxes             857\n",
      "federal-budget    646\n",
      "education         638\n",
      "                 ... \n",
      "after-the-fact      1\n",
      "nightlife           1\n",
      "food                1\n",
      "homeless            1\n",
      "death-penalty       1\n",
      "Name: count, Length: 142, dtype: int64\n"
     ]
    }
   ],
   "source": [
    "dfc['subject'] = dfc['subject'].str.lower()\n",
    "dfc['subject_list'] = (\n",
    "    dfc['subject']\n",
    "    .str.split(',')\n",
    "    .apply(lambda lst: [s.strip() for s in lst if s.strip()])\n",
    ")\n",
    "\n",
    "# 3. “Explode” para tener una fila por cada etiqueta y contar\n",
    "subjects_exploded = dfc.explode('subject_list')\n",
    "subject_counts = subjects_exploded['subject_list'].value_counts()\n",
    "print(subject_counts)\n",
    "# 4. Convertir a diccionario\n",
    "subject_count_dict = subject_counts.to_dict()\n",
    "with open('json-study/subject_counts.json', 'w', encoding='utf-8') as f:\n",
    "    json.dump(subject_count_dict, f, ensure_ascii=False, indent=2)\n",
    "\n",
    "# dfc['subject_list'].iloc[1:10]\n"
   ]
  },
  {
   "cell_type": "markdown",
   "metadata": {},
   "source": [
    "##### maping"
   ]
  },
  {
   "cell_type": "code",
   "execution_count": 44,
   "metadata": {},
   "outputs": [],
   "source": [
    "subject_mapping = {\n",
    "    # economia_y_finanzas\n",
    "    \"economy\": \"subject-economia_y_finanzas\",\n",
    "    \"taxes\": \"subject-economia_y_finanzas\",\n",
    "    \"federal-budget\": \"subject-economia_y_finanzas\",\n",
    "    \"state-budget\": \"subject-economia_y_finanzas\",\n",
    "    \"income\": \"subject-economia_y_finanzas\",\n",
    "    \"debt\": \"subject-economia_y_finanzas\",\n",
    "    \"deficit\": \"subject-economia_y_finanzas\",\n",
    "    \"market-regulation\": \"subject-economia_y_finanzas\",\n",
    "    \"corporations\": \"subject-economia_y_finanzas\",\n",
    "    \"stimulus\": \"subject-economia_y_finanzas\",\n",
    "    \"small-business\": \"subject-economia_y_finanzas\",\n",
    "    \"bankruptcy\": \"subject-economia_y_finanzas\",\n",
    "    \"government-regulation\": \"subject-economia_y_finanzas\",\n",
    "    \"financial-regulation\": \"subject-economia_y_finanzas\",\n",
    "    \"housing\": \"subject-economia_y_finanzas\",\n",
    "    \"agriculture\": \"subject-economia_y_finanzas\",\n",
    "    \"poverty\": \"subject-economia_y_finanzas\",\n",
    "    \"retirement\": \"subject-economia_y_finanzas\",\n",
    "    \"pensions\": \"subject-economia_y_finanzas\",\n",
    "\n",
    "    # salud_y_bienestar\n",
    "    \"health-care\": \"subject-salud_y_bienestar\",\n",
    "    \"medicare\": \"subject-salud_y_bienestar\",\n",
    "    \"medicaid\": \"subject-salud_y_bienestar\",\n",
    "    \"public-health\": \"subject-salud_y_bienestar\",\n",
    "    \"disability\": \"subject-salud_y_bienestar\",\n",
    "    \"drugs\": \"subject-salud_y_bienestar\",\n",
    "    \"abortion\": \"subject-salud_y_bienestar\",\n",
    "    \"hunger\": \"subject-salud_y_bienestar\",\n",
    "    \"ebola\": \"subject-salud_y_bienestar\",\n",
    "    \"autism\": \"subject-salud_y_bienestar\",\n",
    "    \"marijuana\": \"subject-salud_y_bienestar\",\n",
    "    \"welfare\": \"subject-salud_y_bienestar\",\n",
    "\n",
    "    # Educación\n",
    "    \"education\": \"subject-educacion\",\n",
    "    \"children\": \"subject-educacion\",\n",
    "\n",
    "    # trabajo_y_empleo\n",
    "    \"jobs\": \"subject-trabajo_y_empleo\",\n",
    "    \"labor\": \"subject-trabajo_y_empleo\",\n",
    "    \"workers\": \"subject-trabajo_y_empleo\",\n",
    "    \"unions\": \"subject-trabajo_y_empleo\",\n",
    "    \"job-accomplishments\": \"subject-trabajo_y_empleo\",\n",
    "\n",
    "    # Política y Gobierno\n",
    "    \"elections\": \"subject-politica_y_gobierno\",\n",
    "    \"candidates-biography\": \"subject-politica_y_gobierno\",\n",
    "    \"congress\": \"subject-politica_y_gobierno\",\n",
    "    \"state-finances\": \"subject-politica_y_gobierno\",\n",
    "    \"city-government\": \"subject-politica_y_gobierno\",\n",
    "    \"county-government\": \"subject-politica_y_gobierno\",\n",
    "    \"campaign-finance\": \"subject-politica_y_gobierno\",\n",
    "    \"voting-record\": \"subject-politica_y_gobierno\",\n",
    "    \"transparency\": \"subject-politica_y_gobierno\",\n",
    "    \"debates\": \"subject-politica_y_gobierno\",\n",
    "    \"redistricting\": \"subject-politica_y_gobierno\",\n",
    "    \"congressional-rules\": \"subject-politica_y_gobierno\",\n",
    "    \"polls\": \"subject-politica_y_gobierno\",\n",
    "    \"government-efficiency\": \"subject-politica_y_gobierno\",\n",
    "    \"campaign-advertising\": \"subject-politica_y_gobierno\",\n",
    "    \"bipartisanship\": \"subject-politica_y_gobierno\",\n",
    "    \"infrastructure\": \"subject-politica_y_gobierno\",\n",
    "    \"transportation\": \"subject-politica_y_gobierno\",\n",
    "    \"message-machine\": \"subject-politica_y_gobierno\",\n",
    "    \"message-machine-2012\": \"subject-politica_y_gobierno\",\n",
    "    \"message-machine-2014\": \"subject-politica_y_gobierno\",\n",
    "    \"states\": \"subject-politica_y_gobierno\",\n",
    "\n",
    "    # Seguridad y Justicia\n",
    "    \"crime\": \"subject-seguridad_y_justicia\",\n",
    "    \"criminal-justice\": \"subject-seguridad_y_justicia\",\n",
    "    \"legal-issues\": \"subject-seguridad_y_justicia\",\n",
    "    \"public-safety\": \"subject-seguridad_y_justicia\",\n",
    "    \"death-penalty\": \"subject-seguridad_y_justicia\",\n",
    "    \"terrorism\": \"subject-seguridad_y_justicia\",\n",
    "    \"homeland-security\": \"subject-seguridad_y_justicia\",\n",
    "    \"supreme-court\": \"subject-seguridad_y_justicia\",\n",
    "    \"consumer-safety\": \"subject-seguridad_y_justicia\",\n",
    "    \"privacy\": \"subject-seguridad_y_justicia\",\n",
    "    \"guns\": \"subject-seguridad_y_justicia\",\n",
    "    \"social-security\": \"subject-seguridad_y_justicia\",\n",
    "\n",
    "    # Relaciones Internacionales\n",
    "    \"foreign-policy\": \"subject-relaciones_internacionales\",\n",
    "    \"military\": \"subject-relaciones_internacionales\",\n",
    "    \"iraq\": \"subject-relaciones_internacionales\",\n",
    "    \"afghanistan\": \"subject-relaciones_internacionales\",\n",
    "    \"china\": \"subject-relaciones_internacionales\",\n",
    "    \"israel\": \"subject-relaciones_internacionales\",\n",
    "    \"trade\": \"subject-relaciones_internacionales\",\n",
    "    \"nuclear\": \"subject-relaciones_internacionales\",\n",
    "    \"islam\": \"subject-relaciones_internacionales\",\n",
    "\n",
    "    # Medio Ambiente y Energía\n",
    "    \"energy\": \"subject-medio_ambiente_y_energia\",\n",
    "    \"climate-change\": \"subject-medio_ambiente_y_energia\",\n",
    "    \"oil-spill\": \"subject-medio_ambiente_y_energia\",\n",
    "    \"environment\": \"subject-medio_ambiente_y_energia\",\n",
    "    \"water\": \"subject-medio_ambiente_y_energia\",\n",
    "    \"cap-and-trade\": \"subject-medio_ambiente_y_energia\",\n",
    "    \"natural-disasters\": \"subject-medio_ambiente_y_energia\",\n",
    "\n",
    "    # Sociedad y Cultura\n",
    "    \"religion\": \"subject-sociedad_y_cultura\",\n",
    "    \"gays-and-lesbians\": \"subject-sociedad_y_cultura\",\n",
    "    \"women\": \"subject-sociedad_y_cultura\",\n",
    "    \"families\": \"subject-sociedad_y_cultura\",\n",
    "    \"marriage\": \"subject-sociedad_y_cultura\",\n",
    "    \"civil-rights\": \"subject-sociedad_y_cultura\",\n",
    "    \"immigration\": \"subject-sociedad_y_cultura\",\n",
    "    \"diversity\": \"subject-sociedad_y_cultura\",\n",
    "    \"sexuality\": \"subject-sociedad_y_cultura\",\n",
    "    \"ethics\": \"subject-sociedad_y_cultura\",\n",
    "    \"history\": \"subject-sociedad_y_cultura\",\n",
    "    \"pundits\": \"subject-sociedad_y_cultura\",\n",
    "    \"human-rights\": \"subject-sociedad_y_cultura\",\n",
    "    \"pop-culture\": \"subject-sociedad_y_cultura\",\n",
    "    \"colbert-report\": \"subject-sociedad_y_cultura\",\n",
    "    \"population\": \"subject-sociedad_y_cultura\",\n",
    "\n",
    "    # Ciencia y Tecnología\n",
    "    \"science\": \"subject-ciencia_y_tecnologia\",\n",
    "    \"space\": \"subject-ciencia_y_tecnologia\",\n",
    "\n",
    "    # Otros / Misceláneos\n",
    "    \"sports\": \"subject-otros\",\n",
    "    \"fake-news\": \"subject-otros\",\n",
    "    \"food\": \"subject-otros\",\n",
    "    \"baseball\": \"subject-otros\",\n",
    "    \"recreation\": \"subject-otros\",\n",
    "    \"weather\": \"subject-otros\",\n",
    "    \"food-safety\": \"subject-otros\",\n",
    "    \"patriotism\": \"subject-otros\",\n",
    "    \"nightlife\": \"subject-otros\",\n",
    "    \"lottery\": \"subject-otros\",\n",
    "    \"after-the-fact\": \"subject-otros\",\n",
    "    \"urban\": \"subject-otros\",\n",
    "    \"animals\": \"subject-otros\",\n",
    "    \"gambling\": \"subject-otros\",\n",
    "    \"alcohol\": \"subject-otros\",\n",
    "    \"tourism\": \"subject-otros\",\n",
    "    \"census\": \"subject-otros\",\n",
    "    \"homeless\": \"subject-otros\",\n",
    "    \"veterans\": \"subject-otros\",\n",
    "    \"wealth\": \"subject-otros\",\n",
    "    \"county-budget\": \"subject-otros\",\n",
    "    \"city-budget\": \"subject-otros\",\n",
    "    \"new-hampshire-2012\": \"subject-otros\",\n",
    "    \"sotomayor-nomination\": \"subject-otros\",\n",
    "    \"kagan-nomination\": \"subject-otros\",\n",
    "    \"occupy-wall-street\": \"subject-otros\",\n",
    "    \"florida\": \"subject-otros\",\n",
    "    \"florida-amendments\": \"subject-otros\",\n",
    "    \"public-service\": \"subject-otros\",\n",
    "    \"gas-prices\": \"subject-otros\",\n",
    "    \"bush-administration\": \"subject-otros\",\n",
    "    \"obama-birth-certificate\": \"subject-otros\",\n",
    "    \"10-news-tampa-bay\": \"subject-otros\",\n",
    "    \"abc-news-week\": \"subject-otros\",\n",
    "    \"corrections-and-updates\": \"subject-otros\",\n",
    "}\n"
   ]
  },
  {
   "cell_type": "code",
   "execution_count": 45,
   "metadata": {},
   "outputs": [
    {
     "name": "stdout",
     "output_type": "stream",
     "text": [
      "subject_category\n",
      "subject-economia_y_finanzas           4664\n",
      "subject-politica_y_gobierno           3465\n",
      "subject-sociedad_y_cultura            2024\n",
      "subject-seguridad_y_justicia          1901\n",
      "subject-salud_y_bienestar             1889\n",
      "subject-trabajo_y_empleo              1362\n",
      "subject-otros                         1146\n",
      "subject-relaciones_internacionales    1081\n",
      "subject-medio_ambiente_y_energia       860\n",
      "subject-educacion                      806\n",
      "subject-ciencia_y_tecnologia            77\n",
      "Name: count, dtype: int64\n"
     ]
    },
    {
     "data": {
      "text/plain": [
       "0    subject-relaciones_internacionales\n",
       "0    subject-relaciones_internacionales\n",
       "1             subject-salud_y_bienestar\n",
       "2           subject-economia_y_finanzas\n",
       "2            subject-sociedad_y_cultura\n",
       "2           subject-economia_y_finanzas\n",
       "2                         subject-otros\n",
       "3           subject-politica_y_gobierno\n",
       "3                     subject-educacion\n",
       "Name: subject_category, dtype: object"
      ]
     },
     "execution_count": 45,
     "metadata": {},
     "output_type": "execute_result"
    }
   ],
   "source": [
    "# Aplicamos el mapeo al DataFrame\n",
    "subjects_exploded['subject_category'] = subjects_exploded['subject_list'].map(subject_mapping).fillna('subject-otros')\n",
    "\n",
    "# Obtenemos los conteos por nueva categoría\n",
    "category_counts = subjects_exploded['subject_category'].value_counts()\n",
    "\n",
    "print(category_counts)\n",
    "subjects_exploded['subject_category'].iloc[1:10]"
   ]
  },
  {
   "cell_type": "markdown",
   "metadata": {},
   "source": [
    "##### next"
   ]
  },
  {
   "cell_type": "markdown",
   "metadata": {},
   "source": [
    "Vamos a cortar el diccionario por el 1% de los datos para evitar posible overfiting"
   ]
  },
  {
   "cell_type": "code",
   "execution_count": 46,
   "metadata": {},
   "outputs": [],
   "source": [
    "# percentage = 0.01\n",
    "# num_filas = dfc.shape[0]\n",
    "# cut_count_namber = int(num_filas * percentage)\n",
    "# print(\"Número de filas para el corte:\", cut_count_namber)\n",
    "\n",
    "# from sklearn.preprocessing import MultiLabelBinarizer\n",
    "# df2 = dfc.copy()\n",
    "\n",
    "# frequent_subjects = set(subject_counts[subject_counts >= cut_count_namber].index)\n",
    "\n",
    "# # Sustituir las etiquetas raras por 'other_subject'\n",
    "# df2['subject_list_clean'] = df2['subject_list'].apply(\n",
    "#     lambda lst: [s if s in frequent_subjects else 'other_topics' for s in lst]\n",
    "# )\n",
    "\n",
    "# # Binariza con MultiLabelBinarizer\n",
    "# mlb = MultiLabelBinarizer()\n",
    "# onehot = mlb.fit_transform(df2['subject_list_clean'])\n",
    "\n",
    "# # DataFrame de one-hot y concatenación\n",
    "# df_subjects_onehot = pd.DataFrame(\n",
    "#     onehot,\n",
    "#     columns=mlb.classes_,\n",
    "#     index=df2.index\n",
    "# )\n",
    "\n",
    "# df2 = pd.concat([df2, df_subjects_onehot], axis=1)\n",
    "\n",
    "# # df2.head()\n",
    "# df2.shape"
   ]
  },
  {
   "cell_type": "code",
   "execution_count": 47,
   "metadata": {},
   "outputs": [
    {
     "name": "stdout",
     "output_type": "stream",
     "text": [
      "                                        subject_list  \\\n",
      "0                  [china, foreign-policy, military]   \n",
      "1                                      [health-care]   \n",
      "2      [corporations, pundits, taxes, abc-news-week]   \n",
      "3  [candidates-biography, children, ethics, famil...   \n",
      "4                 [health-care, labor, state-budget]   \n",
      "\n",
      "                                  subject_categories  \n",
      "0               [subject-relaciones_internacionales]  \n",
      "1                        [subject-salud_y_bienestar]  \n",
      "2  [subject-otros, subject-sociedad_y_cultura, su...  \n",
      "3  [subject-seguridad_y_justicia, subject-politic...  \n",
      "4  [subject-salud_y_bienestar, subject-economia_y...  \n",
      "(8950, 24)\n"
     ]
    },
    {
     "data": {
      "text/html": [
       "<div>\n",
       "<style scoped>\n",
       "    .dataframe tbody tr th:only-of-type {\n",
       "        vertical-align: middle;\n",
       "    }\n",
       "\n",
       "    .dataframe tbody tr th {\n",
       "        vertical-align: top;\n",
       "    }\n",
       "\n",
       "    .dataframe thead th {\n",
       "        text-align: right;\n",
       "    }\n",
       "</style>\n",
       "<table border=\"1\" class=\"dataframe\">\n",
       "  <thead>\n",
       "    <tr style=\"text-align: right;\">\n",
       "      <th></th>\n",
       "      <th>label</th>\n",
       "      <th>statement</th>\n",
       "      <th>subject</th>\n",
       "      <th>speaker</th>\n",
       "      <th>speaker_job</th>\n",
       "      <th>state_info</th>\n",
       "      <th>party_affiliation</th>\n",
       "      <th>statement-raw</th>\n",
       "      <th>statement-leamtize</th>\n",
       "      <th>statement-ner</th>\n",
       "      <th>feelings</th>\n",
       "      <th>subject_list</th>\n",
       "      <th>subject_categories</th>\n",
       "      <th>subject-ciencia_y_tecnologia</th>\n",
       "      <th>subject-economia_y_finanzas</th>\n",
       "      <th>subject-educacion</th>\n",
       "      <th>subject-medio_ambiente_y_energia</th>\n",
       "      <th>subject-otros</th>\n",
       "      <th>subject-politica_y_gobierno</th>\n",
       "      <th>subject-relaciones_internacionales</th>\n",
       "      <th>subject-salud_y_bienestar</th>\n",
       "      <th>subject-seguridad_y_justicia</th>\n",
       "      <th>subject-sociedad_y_cultura</th>\n",
       "      <th>subject-trabajo_y_empleo</th>\n",
       "    </tr>\n",
       "  </thead>\n",
       "  <tbody>\n",
       "    <tr>\n",
       "      <th>0</th>\n",
       "      <td>1</td>\n",
       "      <td>China is South China Sea military fortress lik...</td>\n",
       "      <td>china,foreign-policy,military</td>\n",
       "      <td>donald-trump</td>\n",
       "      <td>President-Elect</td>\n",
       "      <td>New York</td>\n",
       "      <td>republican</td>\n",
       "      <td>china is south china sea military fortress lik...</td>\n",
       "      <td>china is south china sea military fortress lik...</td>\n",
       "      <td>China South China Sea</td>\n",
       "      <td>0.4215</td>\n",
       "      <td>[china, foreign-policy, military]</td>\n",
       "      <td>[subject-relaciones_internacionales]</td>\n",
       "      <td>0</td>\n",
       "      <td>0</td>\n",
       "      <td>0</td>\n",
       "      <td>0</td>\n",
       "      <td>0</td>\n",
       "      <td>0</td>\n",
       "      <td>1</td>\n",
       "      <td>0</td>\n",
       "      <td>0</td>\n",
       "      <td>0</td>\n",
       "      <td>0</td>\n",
       "    </tr>\n",
       "    <tr>\n",
       "      <th>1</th>\n",
       "      <td>0</td>\n",
       "      <td>resources takes execute months Iraq war fully ...</td>\n",
       "      <td>health-care</td>\n",
       "      <td>chris-dodd</td>\n",
       "      <td>U.S. senator</td>\n",
       "      <td>Connecticut</td>\n",
       "      <td>democrat</td>\n",
       "      <td>resources takes execute months iraq war fully ...</td>\n",
       "      <td>resources take execute months iraq war fully f...</td>\n",
       "      <td>just over three months the Iraq war Bush</td>\n",
       "      <td>-0.4767</td>\n",
       "      <td>[health-care]</td>\n",
       "      <td>[subject-salud_y_bienestar]</td>\n",
       "      <td>0</td>\n",
       "      <td>0</td>\n",
       "      <td>0</td>\n",
       "      <td>0</td>\n",
       "      <td>0</td>\n",
       "      <td>0</td>\n",
       "      <td>0</td>\n",
       "      <td>1</td>\n",
       "      <td>0</td>\n",
       "      <td>0</td>\n",
       "      <td>0</td>\n",
       "    </tr>\n",
       "    <tr>\n",
       "      <th>2</th>\n",
       "      <td>0</td>\n",
       "      <td>Wisconsin governor has proposed tax giveaways ...</td>\n",
       "      <td>corporations,pundits,taxes,abc-news-week</td>\n",
       "      <td>donna-brazile</td>\n",
       "      <td>Political commentator</td>\n",
       "      <td>Washington, D.C.</td>\n",
       "      <td>democrat</td>\n",
       "      <td>wisconsin governor has proposed tax giveaways ...</td>\n",
       "      <td>wisconsin governor has propose tax giveaways c...</td>\n",
       "      <td>Wisconsin</td>\n",
       "      <td>0.0000</td>\n",
       "      <td>[corporations, pundits, taxes, abc-news-week]</td>\n",
       "      <td>[subject-otros, subject-sociedad_y_cultura, su...</td>\n",
       "      <td>0</td>\n",
       "      <td>1</td>\n",
       "      <td>0</td>\n",
       "      <td>0</td>\n",
       "      <td>1</td>\n",
       "      <td>0</td>\n",
       "      <td>0</td>\n",
       "      <td>0</td>\n",
       "      <td>0</td>\n",
       "      <td>1</td>\n",
       "      <td>0</td>\n",
       "    </tr>\n",
       "    <tr>\n",
       "      <th>3</th>\n",
       "      <td>1</td>\n",
       "      <td>Says representation ex boyfriend was friend fa...</td>\n",
       "      <td>candidates-biography,children,ethics,families,...</td>\n",
       "      <td>rebecca-bradley</td>\n",
       "      <td>NaN</td>\n",
       "      <td>NaN</td>\n",
       "      <td>none</td>\n",
       "      <td>says representation ex boyfriend was friend fa...</td>\n",
       "      <td>say representation ex boyfriend was friend fam...</td>\n",
       "      <td>(no entities)</td>\n",
       "      <td>0.4939</td>\n",
       "      <td>[candidates-biography, children, ethics, famil...</td>\n",
       "      <td>[subject-seguridad_y_justicia, subject-politic...</td>\n",
       "      <td>0</td>\n",
       "      <td>0</td>\n",
       "      <td>1</td>\n",
       "      <td>0</td>\n",
       "      <td>0</td>\n",
       "      <td>1</td>\n",
       "      <td>0</td>\n",
       "      <td>0</td>\n",
       "      <td>1</td>\n",
       "      <td>1</td>\n",
       "      <td>0</td>\n",
       "    </tr>\n",
       "    <tr>\n",
       "      <th>4</th>\n",
       "      <td>0</td>\n",
       "      <td>protests Wisconsin proposed collective bargain...</td>\n",
       "      <td>health-care,labor,state-budget</td>\n",
       "      <td>republican-party-wisconsin</td>\n",
       "      <td>NaN</td>\n",
       "      <td>Wisconsin</td>\n",
       "      <td>republican</td>\n",
       "      <td>protests wisconsin proposed collective bargain...</td>\n",
       "      <td>protests wisconsin propose collective bargaini...</td>\n",
       "      <td>Wisconsin</td>\n",
       "      <td>-0.5994</td>\n",
       "      <td>[health-care, labor, state-budget]</td>\n",
       "      <td>[subject-salud_y_bienestar, subject-economia_y...</td>\n",
       "      <td>0</td>\n",
       "      <td>1</td>\n",
       "      <td>0</td>\n",
       "      <td>0</td>\n",
       "      <td>0</td>\n",
       "      <td>0</td>\n",
       "      <td>0</td>\n",
       "      <td>1</td>\n",
       "      <td>0</td>\n",
       "      <td>0</td>\n",
       "      <td>1</td>\n",
       "    </tr>\n",
       "  </tbody>\n",
       "</table>\n",
       "</div>"
      ],
      "text/plain": [
       "   label                                          statement  \\\n",
       "0      1  China is South China Sea military fortress lik...   \n",
       "1      0  resources takes execute months Iraq war fully ...   \n",
       "2      0  Wisconsin governor has proposed tax giveaways ...   \n",
       "3      1  Says representation ex boyfriend was friend fa...   \n",
       "4      0  protests Wisconsin proposed collective bargain...   \n",
       "\n",
       "                                             subject  \\\n",
       "0                      china,foreign-policy,military   \n",
       "1                                        health-care   \n",
       "2           corporations,pundits,taxes,abc-news-week   \n",
       "3  candidates-biography,children,ethics,families,...   \n",
       "4                     health-care,labor,state-budget   \n",
       "\n",
       "                      speaker            speaker_job        state_info  \\\n",
       "0                donald-trump        President-Elect          New York   \n",
       "1                  chris-dodd           U.S. senator       Connecticut   \n",
       "2               donna-brazile  Political commentator  Washington, D.C.   \n",
       "3             rebecca-bradley                    NaN               NaN   \n",
       "4  republican-party-wisconsin                    NaN         Wisconsin   \n",
       "\n",
       "  party_affiliation                                      statement-raw  \\\n",
       "0        republican  china is south china sea military fortress lik...   \n",
       "1          democrat  resources takes execute months iraq war fully ...   \n",
       "2          democrat  wisconsin governor has proposed tax giveaways ...   \n",
       "3              none  says representation ex boyfriend was friend fa...   \n",
       "4        republican  protests wisconsin proposed collective bargain...   \n",
       "\n",
       "                                  statement-leamtize  \\\n",
       "0  china is south china sea military fortress lik...   \n",
       "1  resources take execute months iraq war fully f...   \n",
       "2  wisconsin governor has propose tax giveaways c...   \n",
       "3  say representation ex boyfriend was friend fam...   \n",
       "4  protests wisconsin propose collective bargaini...   \n",
       "\n",
       "                              statement-ner  feelings  \\\n",
       "0                     China South China Sea    0.4215   \n",
       "1  just over three months the Iraq war Bush   -0.4767   \n",
       "2                                 Wisconsin    0.0000   \n",
       "3                             (no entities)    0.4939   \n",
       "4                                 Wisconsin   -0.5994   \n",
       "\n",
       "                                        subject_list  \\\n",
       "0                  [china, foreign-policy, military]   \n",
       "1                                      [health-care]   \n",
       "2      [corporations, pundits, taxes, abc-news-week]   \n",
       "3  [candidates-biography, children, ethics, famil...   \n",
       "4                 [health-care, labor, state-budget]   \n",
       "\n",
       "                                  subject_categories  \\\n",
       "0               [subject-relaciones_internacionales]   \n",
       "1                        [subject-salud_y_bienestar]   \n",
       "2  [subject-otros, subject-sociedad_y_cultura, su...   \n",
       "3  [subject-seguridad_y_justicia, subject-politic...   \n",
       "4  [subject-salud_y_bienestar, subject-economia_y...   \n",
       "\n",
       "   subject-ciencia_y_tecnologia  subject-economia_y_finanzas  \\\n",
       "0                             0                            0   \n",
       "1                             0                            0   \n",
       "2                             0                            1   \n",
       "3                             0                            0   \n",
       "4                             0                            1   \n",
       "\n",
       "   subject-educacion  subject-medio_ambiente_y_energia  subject-otros  \\\n",
       "0                  0                                 0              0   \n",
       "1                  0                                 0              0   \n",
       "2                  0                                 0              1   \n",
       "3                  1                                 0              0   \n",
       "4                  0                                 0              0   \n",
       "\n",
       "   subject-politica_y_gobierno  subject-relaciones_internacionales  \\\n",
       "0                            0                                   1   \n",
       "1                            0                                   0   \n",
       "2                            0                                   0   \n",
       "3                            1                                   0   \n",
       "4                            0                                   0   \n",
       "\n",
       "   subject-salud_y_bienestar  subject-seguridad_y_justicia  \\\n",
       "0                          0                             0   \n",
       "1                          1                             0   \n",
       "2                          0                             0   \n",
       "3                          0                             1   \n",
       "4                          1                             0   \n",
       "\n",
       "   subject-sociedad_y_cultura  subject-trabajo_y_empleo  \n",
       "0                           0                         0  \n",
       "1                           0                         0  \n",
       "2                           1                         0  \n",
       "3                           1                         0  \n",
       "4                           0                         1  "
      ]
     },
     "execution_count": 47,
     "metadata": {},
     "output_type": "execute_result"
    }
   ],
   "source": [
    "from sklearn.preprocessing import MultiLabelBinarizer\n",
    "\n",
    "\n",
    "# --- 2) Mapea cada subject a su categoría y quita duplicados ---\n",
    "dfc['subject_categories'] = dfc['subject_list'].apply(\n",
    "    lambda lst: list({\n",
    "        subject_mapping.get(s, 'subject-otros') \n",
    "        for s in lst\n",
    "    })\n",
    ")\n",
    "\n",
    "# (Opcional) echa un vistazo:\n",
    "print(dfc[['subject_list','subject_categories']].head())\n",
    "\n",
    "# --- 3) One-Hot Binarizer sobre la lista de categorías ---\n",
    "mlb = MultiLabelBinarizer()\n",
    "onehot = mlb.fit_transform(dfc['subject_categories'])\n",
    "\n",
    "# Construye el DataFrame de one-hot\n",
    "df_onehot = pd.DataFrame(\n",
    "    onehot,\n",
    "    columns=mlb.classes_,\n",
    "    index=dfc.index\n",
    ")\n",
    "\n",
    "\n",
    "dfc = pd.concat([dfc, df_onehot], axis=1)\n",
    "\n",
    "print(dfc.shape)\n",
    "dfc.head()\n"
   ]
  },
  {
   "cell_type": "code",
   "execution_count": 48,
   "metadata": {},
   "outputs": [
    {
     "name": "stdout",
     "output_type": "stream",
     "text": [
      "Index(['label', 'statement', 'speaker', 'speaker_job', 'state_info',\n",
      "       'party_affiliation', 'statement-raw', 'statement-leamtize',\n",
      "       'statement-ner', 'feelings', 'subject-ciencia_y_tecnologia',\n",
      "       'subject-economia_y_finanzas', 'subject-educacion',\n",
      "       'subject-medio_ambiente_y_energia', 'subject-otros',\n",
      "       'subject-politica_y_gobierno', 'subject-relaciones_internacionales',\n",
      "       'subject-salud_y_bienestar', 'subject-seguridad_y_justicia',\n",
      "       'subject-sociedad_y_cultura', 'subject-trabajo_y_empleo'],\n",
      "      dtype='object')\n"
     ]
    }
   ],
   "source": [
    "dfc.drop(columns='subject', inplace=True)\n",
    "dfc.drop(columns='subject_list', inplace=True)\n",
    "dfc.drop(columns='subject_categories', inplace=True)\n",
    "\n",
    "print(dfc.columns)"
   ]
  },
  {
   "cell_type": "markdown",
   "metadata": {},
   "source": [
    "#### - Speaker"
   ]
  },
  {
   "cell_type": "code",
   "execution_count": 49,
   "metadata": {},
   "outputs": [],
   "source": [
    "# Obtener el conteo de valores únicos de 'speaker'\n",
    "speaker_counts = dfc['speaker'].value_counts()\n",
    "speaker_counts_test = df_test['speaker'].value_counts()\n",
    "\n",
    "# Convertir a diccionario\n",
    "speaker_counts_dict = speaker_counts.to_dict()\n",
    "speaker_counts_test_dict = speaker_counts_test.to_dict()\n",
    "\n",
    "# Exportar a un archivo JSON\n",
    "with open('json-study/speaker_counts.json', 'w', encoding='utf-8') as f:\n",
    "    json.dump(speaker_counts_dict, f, ensure_ascii=False, indent=2)\n",
    "\n",
    "with open('json-study/speaker_counts_test.json', 'w', encoding='utf-8') as f:\n",
    "    json.dump(speaker_counts_test_dict, f, ensure_ascii=False, indent=2)"
   ]
  },
  {
   "cell_type": "markdown",
   "metadata": {},
   "source": [
    "Utilizando los archivos JSON json-study/speaker_counts_test.json y json-study/speaker_counts_test.json, que contienen los conteos de apariciones de cada speaker tanto en el conjunto de entrenamiento como en el de prueba, se ha obtenido la lista de los 20 speakers más frecuentes en el conjunto de prueba.\n",
    "\n",
    "Al analizar dicha lista, se observa que a partir del décimo speaker se produce una disminución significativa en la frecuencia de aparición. Por tanto, este punto podría considerarse un umbral razonable para realizar un corte: mantener los 10 speakers más frecuentes como categorías individuales y agrupar el resto bajo una categoría común, como \"other_speakers\". Esta decisión busca reducir el riesgo de overfitting y mejorar la capacidad de generalización del modelo."
   ]
  },
  {
   "cell_type": "markdown",
   "metadata": {},
   "source": [
    "<small>\n",
    "\n",
    "| ID  | Name               | dfc | df_test |\n",
    "|-----|--------------------|-----|---------|\n",
    "| 1   | barack-obama       | 435 | 176     |\n",
    "| 2   | donald-trump       | 247 | 96      |\n",
    "| 3   | hillary-clinton    | 204 | 93      |\n",
    "| 4   | mitt-romney        | 142 | 70      |\n",
    "| 5   | john-mccain        | 139 | 50      |\n",
    "| 6   | chain-email        | 128 | 50      |\n",
    "| 7   | scott-walker       | 123 | 60      |\n",
    "| 8   | rick-perry         | 117 | 56      |\n",
    "| 9   | rick-scott         | 105 | 45      |\n",
    "| 10  | marco-rubio        | 99  | 54      |\n",
    "| 11  | ted-cruz           | 82  | 36      |\n",
    "| 12  | bernie-s           | 75  | 31      |\n",
    "| 13  | facebook-posts     | 75  | 25      |\n",
    "| 14  | chris-christie     | 74  | 30      |\n",
    "| 15  | charlie-crist      | 62  | 28      |\n",
    "| 16  | newt-gingrich      | 62  | 21      |\n",
    "| 17  | jeb-bush           | 60  | 19      |\n",
    "| 18  | blog-posting       | 57  | 24      |\n",
    "| 19  | joe-biden          | 54  | 22      |\n",
    "| 20  | paul-ryan          | 50  | 20      |\n",
    "\n",
    "</small>\n"
   ]
  },
  {
   "cell_type": "code",
   "execution_count": 50,
   "metadata": {},
   "outputs": [],
   "source": [
    "# Elegimos por donde cortar\n",
    "top_n = 10\n",
    "frequent_speakers = set(speaker_counts.head(top_n).index)"
   ]
  },
  {
   "cell_type": "code",
   "execution_count": 51,
   "metadata": {},
   "outputs": [
    {
     "data": {
      "text/plain": [
       "speaker_grouped\n",
       "other_speakers     7211\n",
       "barack-obama        435\n",
       "donald-trump        247\n",
       "hillary-clinton     204\n",
       "mitt-romney         142\n",
       "john-mccain         139\n",
       "chain-email         128\n",
       "scott-walker        123\n",
       "rick-perry          117\n",
       "rick-scott          105\n",
       "marco-rubio          99\n",
       "Name: count, dtype: int64"
      ]
     },
     "execution_count": 51,
     "metadata": {},
     "output_type": "execute_result"
    }
   ],
   "source": [
    "# 4. Agrupar los menos frecuentes como 'other_speakers'\n",
    "dfc['speaker_grouped'] = dfc['speaker'].apply(\n",
    "    lambda s: s if s in frequent_speakers else 'other_speakers'\n",
    ")\n",
    "\n",
    "dfc['speaker_grouped'].value_counts()"
   ]
  },
  {
   "cell_type": "code",
   "execution_count": 52,
   "metadata": {},
   "outputs": [
    {
     "data": {
      "text/html": [
       "<div>\n",
       "<style scoped>\n",
       "    .dataframe tbody tr th:only-of-type {\n",
       "        vertical-align: middle;\n",
       "    }\n",
       "\n",
       "    .dataframe tbody tr th {\n",
       "        vertical-align: top;\n",
       "    }\n",
       "\n",
       "    .dataframe thead th {\n",
       "        text-align: right;\n",
       "    }\n",
       "</style>\n",
       "<table border=\"1\" class=\"dataframe\">\n",
       "  <thead>\n",
       "    <tr style=\"text-align: right;\">\n",
       "      <th></th>\n",
       "      <th>label</th>\n",
       "      <th>statement</th>\n",
       "      <th>speaker_job</th>\n",
       "      <th>state_info</th>\n",
       "      <th>party_affiliation</th>\n",
       "      <th>statement-raw</th>\n",
       "      <th>statement-leamtize</th>\n",
       "      <th>statement-ner</th>\n",
       "      <th>feelings</th>\n",
       "      <th>subject-ciencia_y_tecnologia</th>\n",
       "      <th>subject-economia_y_finanzas</th>\n",
       "      <th>subject-educacion</th>\n",
       "      <th>subject-medio_ambiente_y_energia</th>\n",
       "      <th>subject-otros</th>\n",
       "      <th>subject-politica_y_gobierno</th>\n",
       "      <th>subject-relaciones_internacionales</th>\n",
       "      <th>subject-salud_y_bienestar</th>\n",
       "      <th>subject-seguridad_y_justicia</th>\n",
       "      <th>subject-sociedad_y_cultura</th>\n",
       "      <th>subject-trabajo_y_empleo</th>\n",
       "      <th>speaker_grouped</th>\n",
       "    </tr>\n",
       "  </thead>\n",
       "  <tbody>\n",
       "    <tr>\n",
       "      <th>0</th>\n",
       "      <td>1</td>\n",
       "      <td>China is South China Sea military fortress lik...</td>\n",
       "      <td>President-Elect</td>\n",
       "      <td>New York</td>\n",
       "      <td>republican</td>\n",
       "      <td>china is south china sea military fortress lik...</td>\n",
       "      <td>china is south china sea military fortress lik...</td>\n",
       "      <td>China South China Sea</td>\n",
       "      <td>0.4215</td>\n",
       "      <td>0</td>\n",
       "      <td>0</td>\n",
       "      <td>0</td>\n",
       "      <td>0</td>\n",
       "      <td>0</td>\n",
       "      <td>0</td>\n",
       "      <td>1</td>\n",
       "      <td>0</td>\n",
       "      <td>0</td>\n",
       "      <td>0</td>\n",
       "      <td>0</td>\n",
       "      <td>donald-trump</td>\n",
       "    </tr>\n",
       "    <tr>\n",
       "      <th>1</th>\n",
       "      <td>0</td>\n",
       "      <td>resources takes execute months Iraq war fully ...</td>\n",
       "      <td>U.S. senator</td>\n",
       "      <td>Connecticut</td>\n",
       "      <td>democrat</td>\n",
       "      <td>resources takes execute months iraq war fully ...</td>\n",
       "      <td>resources take execute months iraq war fully f...</td>\n",
       "      <td>just over three months the Iraq war Bush</td>\n",
       "      <td>-0.4767</td>\n",
       "      <td>0</td>\n",
       "      <td>0</td>\n",
       "      <td>0</td>\n",
       "      <td>0</td>\n",
       "      <td>0</td>\n",
       "      <td>0</td>\n",
       "      <td>0</td>\n",
       "      <td>1</td>\n",
       "      <td>0</td>\n",
       "      <td>0</td>\n",
       "      <td>0</td>\n",
       "      <td>other_speakers</td>\n",
       "    </tr>\n",
       "    <tr>\n",
       "      <th>2</th>\n",
       "      <td>0</td>\n",
       "      <td>Wisconsin governor has proposed tax giveaways ...</td>\n",
       "      <td>Political commentator</td>\n",
       "      <td>Washington, D.C.</td>\n",
       "      <td>democrat</td>\n",
       "      <td>wisconsin governor has proposed tax giveaways ...</td>\n",
       "      <td>wisconsin governor has propose tax giveaways c...</td>\n",
       "      <td>Wisconsin</td>\n",
       "      <td>0.0000</td>\n",
       "      <td>0</td>\n",
       "      <td>1</td>\n",
       "      <td>0</td>\n",
       "      <td>0</td>\n",
       "      <td>1</td>\n",
       "      <td>0</td>\n",
       "      <td>0</td>\n",
       "      <td>0</td>\n",
       "      <td>0</td>\n",
       "      <td>1</td>\n",
       "      <td>0</td>\n",
       "      <td>other_speakers</td>\n",
       "    </tr>\n",
       "    <tr>\n",
       "      <th>3</th>\n",
       "      <td>1</td>\n",
       "      <td>Says representation ex boyfriend was friend fa...</td>\n",
       "      <td>NaN</td>\n",
       "      <td>NaN</td>\n",
       "      <td>none</td>\n",
       "      <td>says representation ex boyfriend was friend fa...</td>\n",
       "      <td>say representation ex boyfriend was friend fam...</td>\n",
       "      <td>(no entities)</td>\n",
       "      <td>0.4939</td>\n",
       "      <td>0</td>\n",
       "      <td>0</td>\n",
       "      <td>1</td>\n",
       "      <td>0</td>\n",
       "      <td>0</td>\n",
       "      <td>1</td>\n",
       "      <td>0</td>\n",
       "      <td>0</td>\n",
       "      <td>1</td>\n",
       "      <td>1</td>\n",
       "      <td>0</td>\n",
       "      <td>other_speakers</td>\n",
       "    </tr>\n",
       "    <tr>\n",
       "      <th>4</th>\n",
       "      <td>0</td>\n",
       "      <td>protests Wisconsin proposed collective bargain...</td>\n",
       "      <td>NaN</td>\n",
       "      <td>Wisconsin</td>\n",
       "      <td>republican</td>\n",
       "      <td>protests wisconsin proposed collective bargain...</td>\n",
       "      <td>protests wisconsin propose collective bargaini...</td>\n",
       "      <td>Wisconsin</td>\n",
       "      <td>-0.5994</td>\n",
       "      <td>0</td>\n",
       "      <td>1</td>\n",
       "      <td>0</td>\n",
       "      <td>0</td>\n",
       "      <td>0</td>\n",
       "      <td>0</td>\n",
       "      <td>0</td>\n",
       "      <td>1</td>\n",
       "      <td>0</td>\n",
       "      <td>0</td>\n",
       "      <td>1</td>\n",
       "      <td>other_speakers</td>\n",
       "    </tr>\n",
       "  </tbody>\n",
       "</table>\n",
       "</div>"
      ],
      "text/plain": [
       "   label                                          statement  \\\n",
       "0      1  China is South China Sea military fortress lik...   \n",
       "1      0  resources takes execute months Iraq war fully ...   \n",
       "2      0  Wisconsin governor has proposed tax giveaways ...   \n",
       "3      1  Says representation ex boyfriend was friend fa...   \n",
       "4      0  protests Wisconsin proposed collective bargain...   \n",
       "\n",
       "             speaker_job        state_info party_affiliation  \\\n",
       "0        President-Elect          New York        republican   \n",
       "1           U.S. senator       Connecticut          democrat   \n",
       "2  Political commentator  Washington, D.C.          democrat   \n",
       "3                    NaN               NaN              none   \n",
       "4                    NaN         Wisconsin        republican   \n",
       "\n",
       "                                       statement-raw  \\\n",
       "0  china is south china sea military fortress lik...   \n",
       "1  resources takes execute months iraq war fully ...   \n",
       "2  wisconsin governor has proposed tax giveaways ...   \n",
       "3  says representation ex boyfriend was friend fa...   \n",
       "4  protests wisconsin proposed collective bargain...   \n",
       "\n",
       "                                  statement-leamtize  \\\n",
       "0  china is south china sea military fortress lik...   \n",
       "1  resources take execute months iraq war fully f...   \n",
       "2  wisconsin governor has propose tax giveaways c...   \n",
       "3  say representation ex boyfriend was friend fam...   \n",
       "4  protests wisconsin propose collective bargaini...   \n",
       "\n",
       "                              statement-ner  feelings  \\\n",
       "0                     China South China Sea    0.4215   \n",
       "1  just over three months the Iraq war Bush   -0.4767   \n",
       "2                                 Wisconsin    0.0000   \n",
       "3                             (no entities)    0.4939   \n",
       "4                                 Wisconsin   -0.5994   \n",
       "\n",
       "   subject-ciencia_y_tecnologia  subject-economia_y_finanzas  \\\n",
       "0                             0                            0   \n",
       "1                             0                            0   \n",
       "2                             0                            1   \n",
       "3                             0                            0   \n",
       "4                             0                            1   \n",
       "\n",
       "   subject-educacion  subject-medio_ambiente_y_energia  subject-otros  \\\n",
       "0                  0                                 0              0   \n",
       "1                  0                                 0              0   \n",
       "2                  0                                 0              1   \n",
       "3                  1                                 0              0   \n",
       "4                  0                                 0              0   \n",
       "\n",
       "   subject-politica_y_gobierno  subject-relaciones_internacionales  \\\n",
       "0                            0                                   1   \n",
       "1                            0                                   0   \n",
       "2                            0                                   0   \n",
       "3                            1                                   0   \n",
       "4                            0                                   0   \n",
       "\n",
       "   subject-salud_y_bienestar  subject-seguridad_y_justicia  \\\n",
       "0                          0                             0   \n",
       "1                          1                             0   \n",
       "2                          0                             0   \n",
       "3                          0                             1   \n",
       "4                          1                             0   \n",
       "\n",
       "   subject-sociedad_y_cultura  subject-trabajo_y_empleo speaker_grouped  \n",
       "0                           0                         0    donald-trump  \n",
       "1                           0                         0  other_speakers  \n",
       "2                           1                         0  other_speakers  \n",
       "3                           1                         0  other_speakers  \n",
       "4                           0                         1  other_speakers  "
      ]
     },
     "execution_count": 52,
     "metadata": {},
     "output_type": "execute_result"
    }
   ],
   "source": [
    "dfc.drop(columns='speaker', inplace=True)\n",
    "dfc.head()"
   ]
  },
  {
   "cell_type": "markdown",
   "metadata": {},
   "source": [
    "#### - speaker_job"
   ]
  },
  {
   "cell_type": "code",
   "execution_count": 53,
   "metadata": {},
   "outputs": [],
   "source": [
    "dfc['speaker_job'] = (\n",
    "    dfc['speaker_job']\n",
    "    .str.lower()\n",
    "    .str.strip()\n",
    "    .str.replace(r'\\s+', '_', regex=True)  # Reemplazar espacios por guiones bajos\n",
    "    .str.replace(r'\\.', '', regex=True)   # Eliminar los puntos\n",
    ")\n",
    "df_test['speaker_job'] = (\n",
    "    df_test['speaker_job']\n",
    "    .str.lower()\n",
    "    .str.strip()\n",
    "    .str.replace(r'\\s+', '_', regex=True)  # Reemplazar espacios por guiones bajos\n",
    "    .str.replace(r'\\.', '', regex=True)   # Eliminar los puntos\n",
    ")\n",
    "\n",
    "\n",
    "# Obtener el conteo de valores únicos de 'speaker'\n",
    "speaker_job_counts = dfc['speaker_job'].value_counts()\n",
    "speaker_job_counts_test = df_test['speaker_job'].value_counts()\n",
    "\n",
    "\n",
    "# Convertir a diccionario\n",
    "speaker_job_counts_dict = speaker_job_counts.to_dict()\n",
    "speaker_job_counts_test_dict = speaker_job_counts_test.to_dict()\n",
    "\n",
    "# Exportar a un archivo JSON\n",
    "with open('json-study/speaker_job_counts.json', 'w', encoding='utf-8') as f:\n",
    "    json.dump(speaker_job_counts_dict, f, ensure_ascii=False, indent=2)\n",
    "\n",
    "with open('json-study/speaker_job_counts_test.json', 'w', encoding='utf-8') as f:\n",
    "    json.dump(speaker_job_counts_test_dict, f, ensure_ascii=False, indent=2)"
   ]
  },
  {
   "cell_type": "markdown",
   "metadata": {},
   "source": [
    "Utilizando los archivos JSON json-study/speaker__job_counts_test.json y json-study/speaker_job_counts_test.json, que contienen los conteos de apariciones de cada speaker_job tanto en el conjunto de entrenamiento como en el de prueba, se ha obtenido la lista de los 20 speakers_jobs más frecuentes en el conjunto de prueba.\n",
    "\n",
    "Al analizar dicha lista, se observa que a partir del treceavo speaker_job se produce una disminución significativa en la frecuencia de aparición. Por tanto, este punto podría considerarse un umbral razonable para realizar un corte: mantener los 13 speakers_jobs más frecuentes como categorías individuales y agrupar el resto bajo una categoría común, como \"other_speakers_job\". Esta decisión busca reducir el riesgo de overfitting y mejorar la capacidad de generalización del modelo."
   ]
  },
  {
   "cell_type": "markdown",
   "metadata": {},
   "source": [
    "<small>\n",
    "\n",
    "| id  | speaker_job                                | train_count | test_count |\n",
    "|-----|--------------------------------------------|-------------|------------|\n",
    "| 1   | u_s__senator                               | 627         | 204        |\n",
    "| 2   | president                                  | 438         | 177        |\n",
    "| 3   | governor                                   | 368         | 152        |\n",
    "| 4   | u_s__representative                        | 260         | 61         |\n",
    "| 5   | president-elect                            | 247         | 96         |\n",
    "| 6   | presidential_candidate                     | 216         | 99         |\n",
    "| 7   | state_senator                              | 186         | 36         |\n",
    "| 8   | state_representative                       | 155         | 30         |\n",
    "| 9   | former_governor                            | 143         | 70         |\n",
    "| 10  | senator                                    | 129         | 64         |\n",
    "| 11  | milwaukee_county_executive                 | 123         | 60         |\n",
    "| 12  | attorney                                   | 94          | 32         |\n",
    "| 13  | u_s__house_of_representatives              | 81          | 37         |\n",
    "| 14  | social_media_posting                       | 75          | 25         |\n",
    "| 15  | governor_of_new_jersey                     | 74          | 30         |\n",
    "| 16  | congressman                                | 70          | 38         |\n",
    "| 17  | co-host_on_cnn_s__crossfire                | 66          | 22         |\n",
    "| 18  | u_s__congressman                           | 56          | 26         |\n",
    "| 19  | speaker_of_the_house_of_representatives    | 49          | 23         |\n",
    "| 20  | congresswoman                              | 49          | 18         |\n",
    "\n",
    "</small>\n"
   ]
  },
  {
   "cell_type": "code",
   "execution_count": 54,
   "metadata": {},
   "outputs": [],
   "source": [
    "# Elegir el punto de corte (por ejemplo, los 10 más frecuentes)\n",
    "top_n = 13\n",
    "frequent_speaker_jobs = set(speaker_job_counts.head(top_n).index)"
   ]
  },
  {
   "cell_type": "code",
   "execution_count": 55,
   "metadata": {},
   "outputs": [],
   "source": [
    "mapping_speaker_job_en = {\n",
    "    \"us_senator\": \"federal_legislator_senate\",\n",
    "    \"president\": \"president\",\n",
    "    \"governor\": \"governor\",\n",
    "    \"us_representative\": \"federal_legislator_house\",\n",
    "    \"president-elect\": \"president\",\n",
    "    \"presidential_candidate\": \"presidential_candidate\",\n",
    "    \"state_senator\": \"state_legislator_senate\",\n",
    "    \"state_representative\": \"state_legislator_house\",\n",
    "    \"former_governor\": \"governor\",\n",
    "    \"senator\": \"federal_legislator_senate\",  # Assuming federal context in absence of \"state\"\n",
    "    \"milwaukee_county_executive\": \"local_executive\",\n",
    "    \"attorney\": \"legal_professional\",\n",
    "    \"us_house_of_representatives\": \"federal_legislator_house\",\n",
    "    \"social_media_posting\": \"public_communicator\",  # Could be refined to \"non_traditional_communicator\" if relevant\n",
    "    \"governor_of_new_jersey\": \"governor\",\n",
    "    \"congressman\": \"federal_legislator_house\",\n",
    "    \"co-host_on_cnn's_\\\"crossfire\\\"\": \"public_communicator\",\n",
    "    \"us_congressman\": \"federal_legislator_house\",\n",
    "    \"congresswoman\": \"federal_legislator_house\",\n",
    "    \"speaker_of_the_house_of_representatives\": \"federal_legislative_leader\",\n",
    "    \"businessman\": \"business_professional\",\n",
    "    \"governor_of_ohio_as_of_jan_10,_2011\": \"governor\",\n",
    "    \"author\": \"public_communicator\",\n",
    "    \"lawyer\": \"legal_professional\",\n",
    "    \"candidate_for_us_senate_and_physician\": \"federal_legislative_candidate\",\n",
    "    \"us_senator_from_ohio\": \"federal_legislator_senate\",\n",
    "    \"lieutenant_governor\": \"state_executive\",\n",
    "    \"house_majority_leader\": \"federal_legislative_leader\",\n",
    "    \"us_representative,_florida_district_23\": \"federal_legislator_house\",\n",
    "    \"consultant\": \"political_advisor\",\n",
    "    \"mayor_of_providence\": \"local_executive\",\n",
    "    \"former_president\": \"president\",\n",
    "    \"columnist\": \"public_communicator\",\n",
    "    \"political_action_committee\": \"political_organization\",\n",
    "    \"radio_host\": \"public_communicator\",\n",
    "    \"madison_school_board_member\": \"local_education_official\",\n",
    "    \"secretary_of_state\": \"state_executive\",\n",
    "    \"attorney_general\": \"state_executive\",\n",
    "    \"us_house_member\": \"federal_legislator_house\",\n",
    "    \"msnbc_host\": \"public_communicator\",\n",
    "    \"senate_democratic_leader\": \"federal_legislative_leader\",\n",
    "    \"senate_minority_leader\": \"federal_legislative_leader\",\n",
    "    \"ohio_treasurer\": \"state_executive\",\n",
    "    \"state_assemblyman\": \"state_legislator_house\",\n",
    "    \"chairman,_republican_national_committee\": \"party_leader\",\n",
    "    \"us_representative,_florida_district_22\": \"federal_legislator_house\",\n",
    "    \"house_minority_leader\": \"federal_legislative_leader\",\n",
    "    \"mayor_of_milwaukee\": \"local_executive\",\n",
    "    \"lieutenant_governor-elect\": \"state_executive\",\n",
    "    \"philanthropist\": \"public_communicator\" # Could be considered \"influencer\" or \"social_actor\"\n",
    "}"
   ]
  },
  {
   "cell_type": "code",
   "execution_count": 56,
   "metadata": {},
   "outputs": [
    {
     "name": "stdout",
     "output_type": "stream",
     "text": [
      "speaker_job_grouped\n",
      "other_speaker_job                4605\n",
      "federal_legislator_senate         795\n",
      "president                         712\n",
      "governor                          630\n",
      "federal_legislator_house          590\n",
      "public_communicator               276\n",
      "presidential_candidate            216\n",
      "state_legislator_senate           186\n",
      "state_legislator_house            175\n",
      "local_executive                   172\n",
      "federal_legislative_leader        147\n",
      "legal_professional                134\n",
      "state_executive                   124\n",
      "business_professional              46\n",
      "federal_legislative_candidate      40\n",
      "political_advisor                  31\n",
      "political_organization             27\n",
      "local_education_official           25\n",
      "party_leader                       19\n",
      "Name: count, dtype: int64\n"
     ]
    }
   ],
   "source": [
    "# Crear el mapeo con un valor predeterminado para los valores no encontrados\n",
    "dfc['speaker_job_grouped'] = dfc['speaker_job'].map(mapping_speaker_job_en).fillna('other_speaker_job')\n",
    "\n",
    "# Verificar el resultado\n",
    "print(dfc['speaker_job_grouped'].value_counts())\n"
   ]
  },
  {
   "cell_type": "code",
   "execution_count": 57,
   "metadata": {},
   "outputs": [
    {
     "data": {
      "text/html": [
       "<div>\n",
       "<style scoped>\n",
       "    .dataframe tbody tr th:only-of-type {\n",
       "        vertical-align: middle;\n",
       "    }\n",
       "\n",
       "    .dataframe tbody tr th {\n",
       "        vertical-align: top;\n",
       "    }\n",
       "\n",
       "    .dataframe thead th {\n",
       "        text-align: right;\n",
       "    }\n",
       "</style>\n",
       "<table border=\"1\" class=\"dataframe\">\n",
       "  <thead>\n",
       "    <tr style=\"text-align: right;\">\n",
       "      <th></th>\n",
       "      <th>label</th>\n",
       "      <th>statement</th>\n",
       "      <th>state_info</th>\n",
       "      <th>party_affiliation</th>\n",
       "      <th>statement-raw</th>\n",
       "      <th>statement-leamtize</th>\n",
       "      <th>statement-ner</th>\n",
       "      <th>feelings</th>\n",
       "      <th>subject-ciencia_y_tecnologia</th>\n",
       "      <th>subject-economia_y_finanzas</th>\n",
       "      <th>subject-educacion</th>\n",
       "      <th>subject-medio_ambiente_y_energia</th>\n",
       "      <th>subject-otros</th>\n",
       "      <th>subject-politica_y_gobierno</th>\n",
       "      <th>subject-relaciones_internacionales</th>\n",
       "      <th>subject-salud_y_bienestar</th>\n",
       "      <th>subject-seguridad_y_justicia</th>\n",
       "      <th>subject-sociedad_y_cultura</th>\n",
       "      <th>subject-trabajo_y_empleo</th>\n",
       "      <th>speaker_grouped</th>\n",
       "      <th>speaker_job_grouped</th>\n",
       "    </tr>\n",
       "  </thead>\n",
       "  <tbody>\n",
       "    <tr>\n",
       "      <th>0</th>\n",
       "      <td>1</td>\n",
       "      <td>China is South China Sea military fortress lik...</td>\n",
       "      <td>New York</td>\n",
       "      <td>republican</td>\n",
       "      <td>china is south china sea military fortress lik...</td>\n",
       "      <td>china is south china sea military fortress lik...</td>\n",
       "      <td>China South China Sea</td>\n",
       "      <td>0.4215</td>\n",
       "      <td>0</td>\n",
       "      <td>0</td>\n",
       "      <td>0</td>\n",
       "      <td>0</td>\n",
       "      <td>0</td>\n",
       "      <td>0</td>\n",
       "      <td>1</td>\n",
       "      <td>0</td>\n",
       "      <td>0</td>\n",
       "      <td>0</td>\n",
       "      <td>0</td>\n",
       "      <td>donald-trump</td>\n",
       "      <td>president</td>\n",
       "    </tr>\n",
       "    <tr>\n",
       "      <th>1</th>\n",
       "      <td>0</td>\n",
       "      <td>resources takes execute months Iraq war fully ...</td>\n",
       "      <td>Connecticut</td>\n",
       "      <td>democrat</td>\n",
       "      <td>resources takes execute months iraq war fully ...</td>\n",
       "      <td>resources take execute months iraq war fully f...</td>\n",
       "      <td>just over three months the Iraq war Bush</td>\n",
       "      <td>-0.4767</td>\n",
       "      <td>0</td>\n",
       "      <td>0</td>\n",
       "      <td>0</td>\n",
       "      <td>0</td>\n",
       "      <td>0</td>\n",
       "      <td>0</td>\n",
       "      <td>0</td>\n",
       "      <td>1</td>\n",
       "      <td>0</td>\n",
       "      <td>0</td>\n",
       "      <td>0</td>\n",
       "      <td>other_speakers</td>\n",
       "      <td>federal_legislator_senate</td>\n",
       "    </tr>\n",
       "    <tr>\n",
       "      <th>2</th>\n",
       "      <td>0</td>\n",
       "      <td>Wisconsin governor has proposed tax giveaways ...</td>\n",
       "      <td>Washington, D.C.</td>\n",
       "      <td>democrat</td>\n",
       "      <td>wisconsin governor has proposed tax giveaways ...</td>\n",
       "      <td>wisconsin governor has propose tax giveaways c...</td>\n",
       "      <td>Wisconsin</td>\n",
       "      <td>0.0000</td>\n",
       "      <td>0</td>\n",
       "      <td>1</td>\n",
       "      <td>0</td>\n",
       "      <td>0</td>\n",
       "      <td>1</td>\n",
       "      <td>0</td>\n",
       "      <td>0</td>\n",
       "      <td>0</td>\n",
       "      <td>0</td>\n",
       "      <td>1</td>\n",
       "      <td>0</td>\n",
       "      <td>other_speakers</td>\n",
       "      <td>other_speaker_job</td>\n",
       "    </tr>\n",
       "    <tr>\n",
       "      <th>3</th>\n",
       "      <td>1</td>\n",
       "      <td>Says representation ex boyfriend was friend fa...</td>\n",
       "      <td>NaN</td>\n",
       "      <td>none</td>\n",
       "      <td>says representation ex boyfriend was friend fa...</td>\n",
       "      <td>say representation ex boyfriend was friend fam...</td>\n",
       "      <td>(no entities)</td>\n",
       "      <td>0.4939</td>\n",
       "      <td>0</td>\n",
       "      <td>0</td>\n",
       "      <td>1</td>\n",
       "      <td>0</td>\n",
       "      <td>0</td>\n",
       "      <td>1</td>\n",
       "      <td>0</td>\n",
       "      <td>0</td>\n",
       "      <td>1</td>\n",
       "      <td>1</td>\n",
       "      <td>0</td>\n",
       "      <td>other_speakers</td>\n",
       "      <td>other_speaker_job</td>\n",
       "    </tr>\n",
       "    <tr>\n",
       "      <th>4</th>\n",
       "      <td>0</td>\n",
       "      <td>protests Wisconsin proposed collective bargain...</td>\n",
       "      <td>Wisconsin</td>\n",
       "      <td>republican</td>\n",
       "      <td>protests wisconsin proposed collective bargain...</td>\n",
       "      <td>protests wisconsin propose collective bargaini...</td>\n",
       "      <td>Wisconsin</td>\n",
       "      <td>-0.5994</td>\n",
       "      <td>0</td>\n",
       "      <td>1</td>\n",
       "      <td>0</td>\n",
       "      <td>0</td>\n",
       "      <td>0</td>\n",
       "      <td>0</td>\n",
       "      <td>0</td>\n",
       "      <td>1</td>\n",
       "      <td>0</td>\n",
       "      <td>0</td>\n",
       "      <td>1</td>\n",
       "      <td>other_speakers</td>\n",
       "      <td>other_speaker_job</td>\n",
       "    </tr>\n",
       "  </tbody>\n",
       "</table>\n",
       "</div>"
      ],
      "text/plain": [
       "   label                                          statement        state_info  \\\n",
       "0      1  China is South China Sea military fortress lik...          New York   \n",
       "1      0  resources takes execute months Iraq war fully ...       Connecticut   \n",
       "2      0  Wisconsin governor has proposed tax giveaways ...  Washington, D.C.   \n",
       "3      1  Says representation ex boyfriend was friend fa...               NaN   \n",
       "4      0  protests Wisconsin proposed collective bargain...         Wisconsin   \n",
       "\n",
       "  party_affiliation                                      statement-raw  \\\n",
       "0        republican  china is south china sea military fortress lik...   \n",
       "1          democrat  resources takes execute months iraq war fully ...   \n",
       "2          democrat  wisconsin governor has proposed tax giveaways ...   \n",
       "3              none  says representation ex boyfriend was friend fa...   \n",
       "4        republican  protests wisconsin proposed collective bargain...   \n",
       "\n",
       "                                  statement-leamtize  \\\n",
       "0  china is south china sea military fortress lik...   \n",
       "1  resources take execute months iraq war fully f...   \n",
       "2  wisconsin governor has propose tax giveaways c...   \n",
       "3  say representation ex boyfriend was friend fam...   \n",
       "4  protests wisconsin propose collective bargaini...   \n",
       "\n",
       "                              statement-ner  feelings  \\\n",
       "0                     China South China Sea    0.4215   \n",
       "1  just over three months the Iraq war Bush   -0.4767   \n",
       "2                                 Wisconsin    0.0000   \n",
       "3                             (no entities)    0.4939   \n",
       "4                                 Wisconsin   -0.5994   \n",
       "\n",
       "   subject-ciencia_y_tecnologia  subject-economia_y_finanzas  \\\n",
       "0                             0                            0   \n",
       "1                             0                            0   \n",
       "2                             0                            1   \n",
       "3                             0                            0   \n",
       "4                             0                            1   \n",
       "\n",
       "   subject-educacion  subject-medio_ambiente_y_energia  subject-otros  \\\n",
       "0                  0                                 0              0   \n",
       "1                  0                                 0              0   \n",
       "2                  0                                 0              1   \n",
       "3                  1                                 0              0   \n",
       "4                  0                                 0              0   \n",
       "\n",
       "   subject-politica_y_gobierno  subject-relaciones_internacionales  \\\n",
       "0                            0                                   1   \n",
       "1                            0                                   0   \n",
       "2                            0                                   0   \n",
       "3                            1                                   0   \n",
       "4                            0                                   0   \n",
       "\n",
       "   subject-salud_y_bienestar  subject-seguridad_y_justicia  \\\n",
       "0                          0                             0   \n",
       "1                          1                             0   \n",
       "2                          0                             0   \n",
       "3                          0                             1   \n",
       "4                          1                             0   \n",
       "\n",
       "   subject-sociedad_y_cultura  subject-trabajo_y_empleo speaker_grouped  \\\n",
       "0                           0                         0    donald-trump   \n",
       "1                           0                         0  other_speakers   \n",
       "2                           1                         0  other_speakers   \n",
       "3                           1                         0  other_speakers   \n",
       "4                           0                         1  other_speakers   \n",
       "\n",
       "         speaker_job_grouped  \n",
       "0                  president  \n",
       "1  federal_legislator_senate  \n",
       "2          other_speaker_job  \n",
       "3          other_speaker_job  \n",
       "4          other_speaker_job  "
      ]
     },
     "execution_count": 57,
     "metadata": {},
     "output_type": "execute_result"
    }
   ],
   "source": [
    "dfc.drop(columns='speaker_job', inplace=True)\n",
    "dfc.head()"
   ]
  },
  {
   "cell_type": "markdown",
   "metadata": {},
   "source": [
    "#### - state_info"
   ]
  },
  {
   "cell_type": "code",
   "execution_count": 58,
   "metadata": {},
   "outputs": [],
   "source": [
    "import re\n",
    "\n",
    "# Función para eliminar puntuación\n",
    "def clean_state_info(text):\n",
    "    if isinstance(text, str):  # Verifica que el valor sea una cadena\n",
    "        text = re.sub(r'[^\\w\\s]', '', text)  # Reemplaza cualquier carácter que no sea palabra o espacio\n",
    "        return text.strip()  # Elimina espacios al principio y al final\n",
    "    return text  # Devuelve el valor original si no es una cadena\n"
   ]
  },
  {
   "cell_type": "code",
   "execution_count": 59,
   "metadata": {},
   "outputs": [],
   "source": [
    "dfc = df.copy()\n",
    "df_test = df_test.copy()"
   ]
  },
  {
   "cell_type": "code",
   "execution_count": 60,
   "metadata": {},
   "outputs": [],
   "source": [
    "dfc['state_info'] = dfc['state_info'].str.lower()\n",
    "dfc['state_info'] = dfc['state_info'].apply(clean_state_info)\n",
    "df_test['state_info'] = df_test['state_info'].str.lower()\n",
    "df_test['state_info'] = df_test['state_info'].apply(clean_state_info)\n",
    "# Obtener el conteo de valores únicos de 'speaker'\n",
    "state_info_counts = dfc['state_info'].value_counts()\n",
    "state_info_counts_test = df_test['state_info'].value_counts()\n",
    "\n",
    "\n",
    "# Convertir a diccionario\n",
    "state_info_counts_dict = state_info_counts.to_dict()\n",
    "state_info_counts_test_dict = state_info_counts_test.to_dict()\n",
    "\n",
    "# Exportar a un archivo JSON\n",
    "with open('json-study/state_info_counts.json', 'w', encoding='utf-8') as f:\n",
    "    json.dump(state_info_counts_dict, f, ensure_ascii=False, indent=2)\n",
    "\n",
    "with open('json-study/state_info_counts_test.json', 'w', encoding='utf-8') as f:\n",
    "    json.dump(state_info_counts_test_dict, f, ensure_ascii=False, indent=2)"
   ]
  },
  {
   "cell_type": "markdown",
   "metadata": {},
   "source": [
    "| Número | Estado               | Train | Test |\n",
    "|--------|----------------------|-------|------|\n",
    "| 1      | Texas                | 879   | 380  |\n",
    "| 2      | Florida              | 853   | 378  |\n",
    "| 3      | Wisconsin            | 648   | 252  |\n",
    "| 4      | New York             | 579   | 250  |\n",
    "| 5      | Illinois             | 487   | 205  |\n",
    "| 6      | Ohio                 | 408   | 178  |\n",
    "| 7      | Georgia              | 381   | 164  |\n",
    "| 8      | Virginia             | 368   | 144  |\n",
    "| 9      | Rhode Island         | 317   | 135  |\n",
    "| 10     | New Jersey           | 209   | 96   |\n",
    "| 11     | Oregon               | 220   | 87   |\n",
    "| 12     | Massachusetts        | 167   | 83   |\n",
    "| 13     | Arizona              | 160   | 68   |\n",
    "| 14     | California           | 121   | 59   |\n",
    "| 15     | Washington, D.C.     | 89    | 52   |\n",
    "| 16     | Vermont              | 80    | 37   |\n",
    "| 17     | New Hampshire        | 79    | 28   |\n",
    "| 18     | Pennsylvania         | 79    | 33   |\n",
    "| 19     | Arkansas             | 77    | 26   |\n",
    "| 20     | Kentucky             | 72    | 26   |\n"
   ]
  },
  {
   "cell_type": "markdown",
   "metadata": {},
   "source": [
    "Utilizando los archivos JSON json-study/state_info_counts_test.json y json-study/state_info_counts.json, que contienen los conteos de apariciones de cada estado tanto en el conjunto de entrenamiento como en el de prueba, se ha obtenido la lista de los 20 estados más frecuentes en el conjunto de prueba.\n",
    "\n",
    "Al analizar dicha lista, se observa que a partir del quinceavo estado se produce una disminución significativa en la frecuencia de aparición. Por tanto, este punto podría considerarse un umbral razonable para realizar un corte: mantener los 15 estados más frecuentes como categorías individuales y agrupar el resto bajo una categoría común, como \"other_states\". Esta decisión busca reducir el riesgo de overfitting y mejorar la capacidad de generalización del modelo."
   ]
  },
  {
   "cell_type": "code",
   "execution_count": 61,
   "metadata": {},
   "outputs": [],
   "source": [
    "# Obtener el conteo de valores únicos de 'state_info'\n",
    "dfc['state_info'] = dfc['state_info'].str.lower()\n",
    "dfc['state_info'] = dfc['state_info'].apply(clean_state_info)\n",
    "state_info_counts = dfc['state_info'].value_counts()\n",
    "\n",
    "# Elegir el punto de corte (por ejemplo, los 10 más frecuentes)\n",
    "top_n = 15\n",
    "frequent_state_info = set(state_info_counts.head(top_n).index)"
   ]
  },
  {
   "cell_type": "code",
   "execution_count": 62,
   "metadata": {},
   "outputs": [
    {
     "data": {
      "text/plain": [
       "state_info_grouped\n",
       "other_state_info    3027\n",
       "texas                879\n",
       "florida              857\n",
       "wisconsin            649\n",
       "new york             580\n",
       "illinois             489\n",
       "ohio                 410\n",
       "georgia              385\n",
       "virginia             369\n",
       "rhode island         319\n",
       "oregon               222\n",
       "new jersey           209\n",
       "massachusetts        172\n",
       "arizona              160\n",
       "california           122\n",
       "washington dc        101\n",
       "Name: count, dtype: int64"
      ]
     },
     "execution_count": 62,
     "metadata": {},
     "output_type": "execute_result"
    }
   ],
   "source": [
    "# Agrupar los menos frecuentes como 'other_state_info'\n",
    "dfc['state_info_grouped'] = dfc['state_info'].apply(\n",
    "    lambda info: info if info in frequent_state_info else 'other_state_info'\n",
    ")\n",
    "\n",
    "# 6. Ver el resultado final\n",
    "dfc['state_info_grouped'].value_counts()"
   ]
  },
  {
   "cell_type": "code",
   "execution_count": 63,
   "metadata": {},
   "outputs": [
    {
     "data": {
      "text/html": [
       "<div>\n",
       "<style scoped>\n",
       "    .dataframe tbody tr th:only-of-type {\n",
       "        vertical-align: middle;\n",
       "    }\n",
       "\n",
       "    .dataframe tbody tr th {\n",
       "        vertical-align: top;\n",
       "    }\n",
       "\n",
       "    .dataframe thead th {\n",
       "        text-align: right;\n",
       "    }\n",
       "</style>\n",
       "<table border=\"1\" class=\"dataframe\">\n",
       "  <thead>\n",
       "    <tr style=\"text-align: right;\">\n",
       "      <th></th>\n",
       "      <th>id</th>\n",
       "      <th>label</th>\n",
       "      <th>statement</th>\n",
       "      <th>subject</th>\n",
       "      <th>speaker</th>\n",
       "      <th>speaker_job</th>\n",
       "      <th>party_affiliation</th>\n",
       "      <th>state_info_grouped</th>\n",
       "    </tr>\n",
       "  </thead>\n",
       "  <tbody>\n",
       "    <tr>\n",
       "      <th>0</th>\n",
       "      <td>81f884c64a7</td>\n",
       "      <td>1</td>\n",
       "      <td>China is in the South China Sea and (building)...</td>\n",
       "      <td>china,foreign-policy,military</td>\n",
       "      <td>donald-trump</td>\n",
       "      <td>President-Elect</td>\n",
       "      <td>republican</td>\n",
       "      <td>new york</td>\n",
       "    </tr>\n",
       "    <tr>\n",
       "      <th>1</th>\n",
       "      <td>30c2723a188</td>\n",
       "      <td>0</td>\n",
       "      <td>With the resources it takes to execute just ov...</td>\n",
       "      <td>health-care</td>\n",
       "      <td>chris-dodd</td>\n",
       "      <td>U.S. senator</td>\n",
       "      <td>democrat</td>\n",
       "      <td>other_state_info</td>\n",
       "    </tr>\n",
       "    <tr>\n",
       "      <th>2</th>\n",
       "      <td>6936b216e5d</td>\n",
       "      <td>0</td>\n",
       "      <td>The (Wisconsin) governor has proposed tax give...</td>\n",
       "      <td>corporations,pundits,taxes,abc-news-week</td>\n",
       "      <td>donna-brazile</td>\n",
       "      <td>Political commentator</td>\n",
       "      <td>democrat</td>\n",
       "      <td>washington dc</td>\n",
       "    </tr>\n",
       "    <tr>\n",
       "      <th>3</th>\n",
       "      <td>b5cd9195738</td>\n",
       "      <td>1</td>\n",
       "      <td>Says her representation of an ex-boyfriend who...</td>\n",
       "      <td>candidates-biography,children,ethics,families,...</td>\n",
       "      <td>rebecca-bradley</td>\n",
       "      <td>NaN</td>\n",
       "      <td>none</td>\n",
       "      <td>other_state_info</td>\n",
       "    </tr>\n",
       "    <tr>\n",
       "      <th>4</th>\n",
       "      <td>84f8dac7737</td>\n",
       "      <td>0</td>\n",
       "      <td>At protests in Wisconsin against proposed coll...</td>\n",
       "      <td>health-care,labor,state-budget</td>\n",
       "      <td>republican-party-wisconsin</td>\n",
       "      <td>NaN</td>\n",
       "      <td>republican</td>\n",
       "      <td>wisconsin</td>\n",
       "    </tr>\n",
       "  </tbody>\n",
       "</table>\n",
       "</div>"
      ],
      "text/plain": [
       "            id  label                                          statement  \\\n",
       "0  81f884c64a7      1  China is in the South China Sea and (building)...   \n",
       "1  30c2723a188      0  With the resources it takes to execute just ov...   \n",
       "2  6936b216e5d      0  The (Wisconsin) governor has proposed tax give...   \n",
       "3  b5cd9195738      1  Says her representation of an ex-boyfriend who...   \n",
       "4  84f8dac7737      0  At protests in Wisconsin against proposed coll...   \n",
       "\n",
       "                                             subject  \\\n",
       "0                      china,foreign-policy,military   \n",
       "1                                        health-care   \n",
       "2           corporations,pundits,taxes,abc-news-week   \n",
       "3  candidates-biography,children,ethics,families,...   \n",
       "4                     health-care,labor,state-budget   \n",
       "\n",
       "                      speaker            speaker_job party_affiliation  \\\n",
       "0                donald-trump        President-Elect        republican   \n",
       "1                  chris-dodd           U.S. senator          democrat   \n",
       "2               donna-brazile  Political commentator          democrat   \n",
       "3             rebecca-bradley                    NaN              none   \n",
       "4  republican-party-wisconsin                    NaN        republican   \n",
       "\n",
       "  state_info_grouped  \n",
       "0           new york  \n",
       "1   other_state_info  \n",
       "2      washington dc  \n",
       "3   other_state_info  \n",
       "4          wisconsin  "
      ]
     },
     "execution_count": 63,
     "metadata": {},
     "output_type": "execute_result"
    }
   ],
   "source": [
    "dfc.drop(columns='state_info', inplace=True)\n",
    "dfc.head()"
   ]
  },
  {
   "cell_type": "markdown",
   "metadata": {},
   "source": [
    "#### - party_affiliation"
   ]
  },
  {
   "cell_type": "code",
   "execution_count": 64,
   "metadata": {},
   "outputs": [],
   "source": [
    "# dfc['party_affiliation'].value_counts()       \n",
    "\n",
    "# Obtener el conteo de valores únicos de 'speaker'\n",
    "party_affiliation_counts = dfc['party_affiliation'].value_counts()\n",
    "party_affiliation_counts_test = df_test['party_affiliation'].value_counts()\n",
    "\n",
    "\n",
    "# Convertir a diccionario\n",
    "party_affiliation_counts_dict = party_affiliation_counts.to_dict()\n",
    "party_affiliation_counts_dict_test = party_affiliation_counts_test.to_dict()\n",
    "\n",
    "# Exportar a un archivo JSON\n",
    "with open('json-study/party_affiliation_counts.json', 'w', encoding='utf-8') as f:\n",
    "    json.dump(party_affiliation_counts_dict, f, ensure_ascii=False, indent=2)\n",
    "\n",
    "with open('json-study/party_affiliation_counts_test.json', 'w', encoding='utf-8') as f:\n",
    "    json.dump(party_affiliation_counts_dict, f, ensure_ascii=False, indent=2)\n"
   ]
  },
  {
   "cell_type": "code",
   "execution_count": 65,
   "metadata": {},
   "outputs": [],
   "source": [
    "mapping = {\n",
    "    # Major parties\n",
    "    'republican': 'republican',\n",
    "    'democrat': 'democrat',\n",
    "    'democratic-farmer-labor': 'democrat',\n",
    "\n",
    "    # Independents / None\n",
    "    'none': 'independent_None',\n",
    "    'independent': 'independent_None',\n",
    "\n",
    "    # Media\n",
    "    'newsmaker': 'media',\n",
    "    'journalist': 'media',\n",
    "    'columnist': 'media',\n",
    "    'activist': 'media',\n",
    "    'talk-show-host': 'media',\n",
    "    \n",
    "    # Third parties\n",
    "    'libertarian': 'third_Party',\n",
    "    'green': 'third_Party',\n",
    "    'constitution-party': 'third_Party',\n",
    "    'liberal-party-canada': 'third_Party',\n",
    "\n",
    "    # Organizations\n",
    "    'organization': 'organization',\n",
    "    \n",
    "    # Officials  \n",
    "    'state-official': 'official',\n",
    "    'business-leader': 'official',\n",
    "    'labor-leader': 'official',\n",
    "    'education-official': 'official',\n",
    "    'government-body': 'official',\n",
    "\n",
    "    # Tea Party\n",
    "    'tea-party-member': 'republican',\n",
    "    'ocean-state-tea-party-action': 'republican',\n",
    "}\n",
    "\n",
    "def group_party(x):\n",
    "    return mapping.get(x, 'other')  # anything else → 'Other'\n",
    "\n"
   ]
  },
  {
   "cell_type": "code",
   "execution_count": 66,
   "metadata": {},
   "outputs": [
    {
     "name": "stdout",
     "output_type": "stream",
     "text": [
      "party_group\n",
      "republican          3956\n",
      "democrat            2899\n",
      "independent_None    1661\n",
      "organization         197\n",
      "media                163\n",
      "third_Party           40\n",
      "official              32\n",
      "other                  2\n",
      "Name: count, dtype: int64\n"
     ]
    }
   ],
   "source": [
    "dfc['party_group'] = dfc['party_affiliation'].apply(group_party)\n",
    "\n",
    "# Recuento de las nuevas categorías\n",
    "print(dfc['party_group'].value_counts())\n"
   ]
  },
  {
   "cell_type": "code",
   "execution_count": 67,
   "metadata": {},
   "outputs": [
    {
     "data": {
      "text/html": [
       "<div>\n",
       "<style scoped>\n",
       "    .dataframe tbody tr th:only-of-type {\n",
       "        vertical-align: middle;\n",
       "    }\n",
       "\n",
       "    .dataframe tbody tr th {\n",
       "        vertical-align: top;\n",
       "    }\n",
       "\n",
       "    .dataframe thead th {\n",
       "        text-align: right;\n",
       "    }\n",
       "</style>\n",
       "<table border=\"1\" class=\"dataframe\">\n",
       "  <thead>\n",
       "    <tr style=\"text-align: right;\">\n",
       "      <th></th>\n",
       "      <th>id</th>\n",
       "      <th>label</th>\n",
       "      <th>statement</th>\n",
       "      <th>subject</th>\n",
       "      <th>speaker</th>\n",
       "      <th>speaker_job</th>\n",
       "      <th>state_info_grouped</th>\n",
       "      <th>party_group</th>\n",
       "    </tr>\n",
       "  </thead>\n",
       "  <tbody>\n",
       "    <tr>\n",
       "      <th>0</th>\n",
       "      <td>81f884c64a7</td>\n",
       "      <td>1</td>\n",
       "      <td>China is in the South China Sea and (building)...</td>\n",
       "      <td>china,foreign-policy,military</td>\n",
       "      <td>donald-trump</td>\n",
       "      <td>President-Elect</td>\n",
       "      <td>new york</td>\n",
       "      <td>republican</td>\n",
       "    </tr>\n",
       "    <tr>\n",
       "      <th>1</th>\n",
       "      <td>30c2723a188</td>\n",
       "      <td>0</td>\n",
       "      <td>With the resources it takes to execute just ov...</td>\n",
       "      <td>health-care</td>\n",
       "      <td>chris-dodd</td>\n",
       "      <td>U.S. senator</td>\n",
       "      <td>other_state_info</td>\n",
       "      <td>democrat</td>\n",
       "    </tr>\n",
       "    <tr>\n",
       "      <th>2</th>\n",
       "      <td>6936b216e5d</td>\n",
       "      <td>0</td>\n",
       "      <td>The (Wisconsin) governor has proposed tax give...</td>\n",
       "      <td>corporations,pundits,taxes,abc-news-week</td>\n",
       "      <td>donna-brazile</td>\n",
       "      <td>Political commentator</td>\n",
       "      <td>washington dc</td>\n",
       "      <td>democrat</td>\n",
       "    </tr>\n",
       "    <tr>\n",
       "      <th>3</th>\n",
       "      <td>b5cd9195738</td>\n",
       "      <td>1</td>\n",
       "      <td>Says her representation of an ex-boyfriend who...</td>\n",
       "      <td>candidates-biography,children,ethics,families,...</td>\n",
       "      <td>rebecca-bradley</td>\n",
       "      <td>NaN</td>\n",
       "      <td>other_state_info</td>\n",
       "      <td>independent_None</td>\n",
       "    </tr>\n",
       "    <tr>\n",
       "      <th>4</th>\n",
       "      <td>84f8dac7737</td>\n",
       "      <td>0</td>\n",
       "      <td>At protests in Wisconsin against proposed coll...</td>\n",
       "      <td>health-care,labor,state-budget</td>\n",
       "      <td>republican-party-wisconsin</td>\n",
       "      <td>NaN</td>\n",
       "      <td>wisconsin</td>\n",
       "      <td>republican</td>\n",
       "    </tr>\n",
       "  </tbody>\n",
       "</table>\n",
       "</div>"
      ],
      "text/plain": [
       "            id  label                                          statement  \\\n",
       "0  81f884c64a7      1  China is in the South China Sea and (building)...   \n",
       "1  30c2723a188      0  With the resources it takes to execute just ov...   \n",
       "2  6936b216e5d      0  The (Wisconsin) governor has proposed tax give...   \n",
       "3  b5cd9195738      1  Says her representation of an ex-boyfriend who...   \n",
       "4  84f8dac7737      0  At protests in Wisconsin against proposed coll...   \n",
       "\n",
       "                                             subject  \\\n",
       "0                      china,foreign-policy,military   \n",
       "1                                        health-care   \n",
       "2           corporations,pundits,taxes,abc-news-week   \n",
       "3  candidates-biography,children,ethics,families,...   \n",
       "4                     health-care,labor,state-budget   \n",
       "\n",
       "                      speaker            speaker_job state_info_grouped  \\\n",
       "0                donald-trump        President-Elect           new york   \n",
       "1                  chris-dodd           U.S. senator   other_state_info   \n",
       "2               donna-brazile  Political commentator      washington dc   \n",
       "3             rebecca-bradley                    NaN   other_state_info   \n",
       "4  republican-party-wisconsin                    NaN          wisconsin   \n",
       "\n",
       "        party_group  \n",
       "0        republican  \n",
       "1          democrat  \n",
       "2          democrat  \n",
       "3  independent_None  \n",
       "4        republican  "
      ]
     },
     "execution_count": 67,
     "metadata": {},
     "output_type": "execute_result"
    }
   ],
   "source": [
    "dfc.drop(columns='party_affiliation', inplace=True)\n",
    "dfc.head()\n"
   ]
  },
  {
   "cell_type": "markdown",
   "metadata": {},
   "source": [
    "# 7. Create Test"
   ]
  },
  {
   "cell_type": "code",
   "execution_count": 68,
   "metadata": {},
   "outputs": [
    {
     "data": {
      "text/plain": [
       "id                   object\n",
       "party_affiliation    object\n",
       "speaker              object\n",
       "speaker_job          object\n",
       "state_info           object\n",
       "statement            object\n",
       "subject              object\n",
       "dtype: object"
      ]
     },
     "execution_count": 68,
     "metadata": {},
     "output_type": "execute_result"
    }
   ],
   "source": [
    "dfa = df_test.copy() # Backup del dataframe original\n",
    "dfa.dtypes.sort_index()"
   ]
  },
  {
   "cell_type": "code",
   "execution_count": 69,
   "metadata": {},
   "outputs": [
    {
     "name": "stdout",
     "output_type": "stream",
     "text": [
      "id                      0\n",
      "statement               0\n",
      "subject                 0\n",
      "speaker                 0\n",
      "speaker_job          1082\n",
      "state_info            818\n",
      "party_affiliation       0\n",
      "dtype: int64\n"
     ]
    }
   ],
   "source": [
    "# Opcional: Eliminar filas con valores nulos en el DataFrame 'df_test'\n",
    "# df_test = df_test.dropna()\n",
    "\n",
    "# # Mostrar la cantidad de valores nulos restantes en 'df_test'\n",
    "print(df_test.isnull().sum())"
   ]
  },
  {
   "cell_type": "markdown",
   "metadata": {},
   "source": [
    "### - statements"
   ]
  },
  {
   "cell_type": "markdown",
   "metadata": {},
   "source": [
    "Raw"
   ]
  },
  {
   "cell_type": "code",
   "execution_count": 70,
   "metadata": {},
   "outputs": [
    {
     "name": "stdout",
     "output_type": "stream",
     "text": [
      "URLs eliminadas: 54\n",
      "Puntuaciones eliminadas: 30339\n",
      "Stopwords eliminadas: 88090\n",
      "Dígitos eliminados: 11536\n"
     ]
    }
   ],
   "source": [
    "dfa['statement'] = dfa['statement'].str.replace(\"Ill\", \"i'll\")\n",
    "\n",
    "dfa['statement'] = dfa.apply(lambda row: preprocess(row['statement'], row.name), axis=1)\n",
    "dfa['statement-raw']  = dfa['statement']\n",
    "dfa['statement-raw'] = dfa['statement-raw'].apply(lambda x: x.lower())\n",
    "\n",
    "# Mostrar los contadores\n",
    "print(f\"URLs eliminadas: {url_changes}\")\n",
    "print(f\"Puntuaciones eliminadas: {punct_changes}\")\n",
    "print(f\"Stopwords eliminadas: {stopword_changes}\")\n",
    "print(f\"Dígitos eliminados: {digit_changes}\")"
   ]
  },
  {
   "cell_type": "markdown",
   "metadata": {},
   "source": [
    "leamtize"
   ]
  },
  {
   "cell_type": "code",
   "execution_count": 71,
   "metadata": {},
   "outputs": [],
   "source": [
    "dfa['statement-leamtize'] = dfa['statement'].apply(lambda x: lemmatize_verbs(x))\n",
    "dfa['statement-leamtize'] = dfa['statement-leamtize'].apply(lambda x: x.lower())"
   ]
  },
  {
   "cell_type": "markdown",
   "metadata": {},
   "source": [
    "ner"
   ]
  },
  {
   "cell_type": "code",
   "execution_count": 72,
   "metadata": {},
   "outputs": [],
   "source": [
    "dfa['statement-ner'] = df_test['statement'].apply(lambda x: preprocess_ner(x))"
   ]
  },
  {
   "cell_type": "markdown",
   "metadata": {},
   "source": [
    "sentimientos"
   ]
  },
  {
   "cell_type": "code",
   "execution_count": 73,
   "metadata": {},
   "outputs": [],
   "source": [
    "dfa['feelings'] = df_test[\"statement\"].apply(lambda x: preprocess_sent(x))\n",
    "dfa['feelings'] = dfa[\"feelings\"].apply(lambda x: analyze_sentiment(x))"
   ]
  },
  {
   "cell_type": "markdown",
   "metadata": {},
   "source": [
    "### - subject"
   ]
  },
  {
   "cell_type": "code",
   "execution_count": 74,
   "metadata": {},
   "outputs": [
    {
     "name": "stdout",
     "output_type": "stream",
     "text": [
      "                                        subject_list  \\\n",
      "0  [campaign-finance, ethics, government-regulation]   \n",
      "1                                        [elections]   \n",
      "2          [health-care, immigration, public-health]   \n",
      "3        [federal-budget, medicare, social-security]   \n",
      "4               [federal-budget, new-hampshire-2012]   \n",
      "\n",
      "                                  subject_categories  \n",
      "0  [subject-politica_y_gobierno, subject-sociedad...  \n",
      "1                      [subject-politica_y_gobierno]  \n",
      "2  [subject-salud_y_bienestar, subject-sociedad_y...  \n",
      "3  [subject-seguridad_y_justicia, subject-salud_y...  \n",
      "4       [subject-otros, subject-economia_y_finanzas]  \n",
      "(3836, 24)\n"
     ]
    },
    {
     "data": {
      "text/html": [
       "<div>\n",
       "<style scoped>\n",
       "    .dataframe tbody tr th:only-of-type {\n",
       "        vertical-align: middle;\n",
       "    }\n",
       "\n",
       "    .dataframe tbody tr th {\n",
       "        vertical-align: top;\n",
       "    }\n",
       "\n",
       "    .dataframe thead th {\n",
       "        text-align: right;\n",
       "    }\n",
       "</style>\n",
       "<table border=\"1\" class=\"dataframe\">\n",
       "  <thead>\n",
       "    <tr style=\"text-align: right;\">\n",
       "      <th></th>\n",
       "      <th>id</th>\n",
       "      <th>statement</th>\n",
       "      <th>subject</th>\n",
       "      <th>speaker</th>\n",
       "      <th>speaker_job</th>\n",
       "      <th>state_info</th>\n",
       "      <th>party_affiliation</th>\n",
       "      <th>statement-raw</th>\n",
       "      <th>statement-leamtize</th>\n",
       "      <th>statement-ner</th>\n",
       "      <th>feelings</th>\n",
       "      <th>subject_list</th>\n",
       "      <th>subject_categories</th>\n",
       "      <th>subject-ciencia_y_tecnologia</th>\n",
       "      <th>subject-economia_y_finanzas</th>\n",
       "      <th>subject-educacion</th>\n",
       "      <th>subject-medio_ambiente_y_energia</th>\n",
       "      <th>subject-otros</th>\n",
       "      <th>subject-politica_y_gobierno</th>\n",
       "      <th>subject-relaciones_internacionales</th>\n",
       "      <th>subject-salud_y_bienestar</th>\n",
       "      <th>subject-seguridad_y_justicia</th>\n",
       "      <th>subject-sociedad_y_cultura</th>\n",
       "      <th>subject-trabajo_y_empleo</th>\n",
       "    </tr>\n",
       "  </thead>\n",
       "  <tbody>\n",
       "    <tr>\n",
       "      <th>0</th>\n",
       "      <td>dc32e5ffa8b</td>\n",
       "      <td>members Common Cause Georgia board accepted ma...</td>\n",
       "      <td>campaign-finance,ethics,government-regulation</td>\n",
       "      <td>kasim-reed</td>\n",
       "      <td>NaN</td>\n",
       "      <td>NaN</td>\n",
       "      <td>democrat</td>\n",
       "      <td>members common cause georgia board accepted ma...</td>\n",
       "      <td>members common cause georgia board accept maxi...</td>\n",
       "      <td>Five Georgia</td>\n",
       "      <td>0.2732</td>\n",
       "      <td>[campaign-finance, ethics, government-regulation]</td>\n",
       "      <td>[subject-politica_y_gobierno, subject-sociedad...</td>\n",
       "      <td>0</td>\n",
       "      <td>1</td>\n",
       "      <td>0</td>\n",
       "      <td>0</td>\n",
       "      <td>0</td>\n",
       "      <td>1</td>\n",
       "      <td>0</td>\n",
       "      <td>0</td>\n",
       "      <td>0</td>\n",
       "      <td>1</td>\n",
       "      <td>0</td>\n",
       "    </tr>\n",
       "    <tr>\n",
       "      <th>1</th>\n",
       "      <td>aa49bb41cab</td>\n",
       "      <td>not negative advertising campaign</td>\n",
       "      <td>elections</td>\n",
       "      <td>bill-mccollum</td>\n",
       "      <td>NaN</td>\n",
       "      <td>florida</td>\n",
       "      <td>republican</td>\n",
       "      <td>not negative advertising campaign</td>\n",
       "      <td>not negative advertising campaign</td>\n",
       "      <td>(no entities)</td>\n",
       "      <td>-0.5719</td>\n",
       "      <td>[elections]</td>\n",
       "      <td>[subject-politica_y_gobierno]</td>\n",
       "      <td>0</td>\n",
       "      <td>0</td>\n",
       "      <td>0</td>\n",
       "      <td>0</td>\n",
       "      <td>0</td>\n",
       "      <td>1</td>\n",
       "      <td>0</td>\n",
       "      <td>0</td>\n",
       "      <td>0</td>\n",
       "      <td>0</td>\n",
       "      <td>0</td>\n",
       "    </tr>\n",
       "    <tr>\n",
       "      <th>2</th>\n",
       "      <td>dddc8d12ac1</td>\n",
       "      <td>Leticia Van de Putte voted illegal immigrants ...</td>\n",
       "      <td>health-care,immigration,public-health</td>\n",
       "      <td>dan-patrick</td>\n",
       "      <td>lieutenant_governor-elect</td>\n",
       "      <td>texas</td>\n",
       "      <td>republican</td>\n",
       "      <td>leticia van de putte voted illegal immigrants ...</td>\n",
       "      <td>leticia van de putte vote illegal immigrants c...</td>\n",
       "      <td>Leticia Van de Putte</td>\n",
       "      <td>0.8750</td>\n",
       "      <td>[health-care, immigration, public-health]</td>\n",
       "      <td>[subject-salud_y_bienestar, subject-sociedad_y...</td>\n",
       "      <td>0</td>\n",
       "      <td>0</td>\n",
       "      <td>0</td>\n",
       "      <td>0</td>\n",
       "      <td>0</td>\n",
       "      <td>0</td>\n",
       "      <td>0</td>\n",
       "      <td>1</td>\n",
       "      <td>0</td>\n",
       "      <td>1</td>\n",
       "      <td>0</td>\n",
       "    </tr>\n",
       "    <tr>\n",
       "      <th>3</th>\n",
       "      <td>bcfe8f51667</td>\n",
       "      <td>Fiorinas plan mean slashing Social Security Me...</td>\n",
       "      <td>federal-budget,medicare,social-security</td>\n",
       "      <td>barbara-boxer</td>\n",
       "      <td>us_senator</td>\n",
       "      <td>california</td>\n",
       "      <td>democrat</td>\n",
       "      <td>fiorinas plan mean slashing social security me...</td>\n",
       "      <td>fiorinas plan mean slash social security medicare</td>\n",
       "      <td>Fiorinas Social Security Medicare</td>\n",
       "      <td>0.0772</td>\n",
       "      <td>[federal-budget, medicare, social-security]</td>\n",
       "      <td>[subject-seguridad_y_justicia, subject-salud_y...</td>\n",
       "      <td>0</td>\n",
       "      <td>1</td>\n",
       "      <td>0</td>\n",
       "      <td>0</td>\n",
       "      <td>0</td>\n",
       "      <td>0</td>\n",
       "      <td>0</td>\n",
       "      <td>1</td>\n",
       "      <td>1</td>\n",
       "      <td>0</td>\n",
       "      <td>0</td>\n",
       "    </tr>\n",
       "    <tr>\n",
       "      <th>4</th>\n",
       "      <td>eedbbaff5ab</td>\n",
       "      <td>end term President Obama have added debt prior...</td>\n",
       "      <td>federal-budget,new-hampshire-2012</td>\n",
       "      <td>mitt-romney</td>\n",
       "      <td>former_governor</td>\n",
       "      <td>massachusetts</td>\n",
       "      <td>republican</td>\n",
       "      <td>end term president obama have added debt prior...</td>\n",
       "      <td>end term president obama have add debt prior p...</td>\n",
       "      <td>the end of his first Obama 43</td>\n",
       "      <td>-0.3612</td>\n",
       "      <td>[federal-budget, new-hampshire-2012]</td>\n",
       "      <td>[subject-otros, subject-economia_y_finanzas]</td>\n",
       "      <td>0</td>\n",
       "      <td>1</td>\n",
       "      <td>0</td>\n",
       "      <td>0</td>\n",
       "      <td>1</td>\n",
       "      <td>0</td>\n",
       "      <td>0</td>\n",
       "      <td>0</td>\n",
       "      <td>0</td>\n",
       "      <td>0</td>\n",
       "      <td>0</td>\n",
       "    </tr>\n",
       "  </tbody>\n",
       "</table>\n",
       "</div>"
      ],
      "text/plain": [
       "            id                                          statement  \\\n",
       "0  dc32e5ffa8b  members Common Cause Georgia board accepted ma...   \n",
       "1  aa49bb41cab                  not negative advertising campaign   \n",
       "2  dddc8d12ac1  Leticia Van de Putte voted illegal immigrants ...   \n",
       "3  bcfe8f51667  Fiorinas plan mean slashing Social Security Me...   \n",
       "4  eedbbaff5ab  end term President Obama have added debt prior...   \n",
       "\n",
       "                                         subject        speaker  \\\n",
       "0  campaign-finance,ethics,government-regulation     kasim-reed   \n",
       "1                                      elections  bill-mccollum   \n",
       "2          health-care,immigration,public-health    dan-patrick   \n",
       "3        federal-budget,medicare,social-security  barbara-boxer   \n",
       "4              federal-budget,new-hampshire-2012    mitt-romney   \n",
       "\n",
       "                 speaker_job     state_info party_affiliation  \\\n",
       "0                        NaN            NaN          democrat   \n",
       "1                        NaN        florida        republican   \n",
       "2  lieutenant_governor-elect          texas        republican   \n",
       "3                 us_senator     california          democrat   \n",
       "4            former_governor  massachusetts        republican   \n",
       "\n",
       "                                       statement-raw  \\\n",
       "0  members common cause georgia board accepted ma...   \n",
       "1                  not negative advertising campaign   \n",
       "2  leticia van de putte voted illegal immigrants ...   \n",
       "3  fiorinas plan mean slashing social security me...   \n",
       "4  end term president obama have added debt prior...   \n",
       "\n",
       "                                  statement-leamtize  \\\n",
       "0  members common cause georgia board accept maxi...   \n",
       "1                  not negative advertising campaign   \n",
       "2  leticia van de putte vote illegal immigrants c...   \n",
       "3  fiorinas plan mean slash social security medicare   \n",
       "4  end term president obama have add debt prior p...   \n",
       "\n",
       "                       statement-ner  feelings  \\\n",
       "0                       Five Georgia    0.2732   \n",
       "1                      (no entities)   -0.5719   \n",
       "2               Leticia Van de Putte    0.8750   \n",
       "3  Fiorinas Social Security Medicare    0.0772   \n",
       "4      the end of his first Obama 43   -0.3612   \n",
       "\n",
       "                                        subject_list  \\\n",
       "0  [campaign-finance, ethics, government-regulation]   \n",
       "1                                        [elections]   \n",
       "2          [health-care, immigration, public-health]   \n",
       "3        [federal-budget, medicare, social-security]   \n",
       "4               [federal-budget, new-hampshire-2012]   \n",
       "\n",
       "                                  subject_categories  \\\n",
       "0  [subject-politica_y_gobierno, subject-sociedad...   \n",
       "1                      [subject-politica_y_gobierno]   \n",
       "2  [subject-salud_y_bienestar, subject-sociedad_y...   \n",
       "3  [subject-seguridad_y_justicia, subject-salud_y...   \n",
       "4       [subject-otros, subject-economia_y_finanzas]   \n",
       "\n",
       "   subject-ciencia_y_tecnologia  subject-economia_y_finanzas  \\\n",
       "0                             0                            1   \n",
       "1                             0                            0   \n",
       "2                             0                            0   \n",
       "3                             0                            1   \n",
       "4                             0                            1   \n",
       "\n",
       "   subject-educacion  subject-medio_ambiente_y_energia  subject-otros  \\\n",
       "0                  0                                 0              0   \n",
       "1                  0                                 0              0   \n",
       "2                  0                                 0              0   \n",
       "3                  0                                 0              0   \n",
       "4                  0                                 0              1   \n",
       "\n",
       "   subject-politica_y_gobierno  subject-relaciones_internacionales  \\\n",
       "0                            1                                   0   \n",
       "1                            1                                   0   \n",
       "2                            0                                   0   \n",
       "3                            0                                   0   \n",
       "4                            0                                   0   \n",
       "\n",
       "   subject-salud_y_bienestar  subject-seguridad_y_justicia  \\\n",
       "0                          0                             0   \n",
       "1                          0                             0   \n",
       "2                          1                             0   \n",
       "3                          1                             1   \n",
       "4                          0                             0   \n",
       "\n",
       "   subject-sociedad_y_cultura  subject-trabajo_y_empleo  \n",
       "0                           1                         0  \n",
       "1                           0                         0  \n",
       "2                           1                         0  \n",
       "3                           0                         0  \n",
       "4                           0                         0  "
      ]
     },
     "execution_count": 74,
     "metadata": {},
     "output_type": "execute_result"
    }
   ],
   "source": [
    "dfa['subject'] = dfa['subject'].str.lower()\n",
    "dfa['subject_list'] = (\n",
    "    dfa['subject']\n",
    "    .str.split(',')\n",
    "    .apply(lambda lst: [s.strip() for s in lst if s.strip()])\n",
    ")\n",
    "\n",
    "# --- 2) Mapea cada subject a su categoría y quita duplicados ---\n",
    "dfa['subject_categories'] = dfa['subject_list'].apply(\n",
    "    lambda lst: list({\n",
    "        subject_mapping.get(s, 'subject-otros') \n",
    "        for s in lst\n",
    "    })\n",
    ")\n",
    "\n",
    "# (Opcional) echa un vistazo:\n",
    "print(dfa[['subject_list','subject_categories']].head())\n",
    "\n",
    "# --- 3) One-Hot Binarizer sobre la lista de categorías ---\n",
    "mlb = MultiLabelBinarizer()\n",
    "onehot = mlb.fit_transform(dfa['subject_categories'])\n",
    "\n",
    "# Construye el DataFrame de one-hot\n",
    "dfa_onehot = pd.DataFrame(\n",
    "    onehot,\n",
    "    columns=mlb.classes_,\n",
    "    index=dfa.index\n",
    ")\n",
    "\n",
    "\n",
    "dfa = pd.concat([dfa, dfa_onehot], axis=1)\n",
    "\n",
    "print(dfa.shape)\n",
    "dfa.head()\n"
   ]
  },
  {
   "cell_type": "markdown",
   "metadata": {},
   "source": [
    "### - speaker"
   ]
  },
  {
   "cell_type": "code",
   "execution_count": 75,
   "metadata": {},
   "outputs": [
    {
     "data": {
      "text/plain": [
       "speaker_grouped\n",
       "other_speakers     3086\n",
       "barack-obama        176\n",
       "donald-trump         96\n",
       "hillary-clinton      93\n",
       "mitt-romney          70\n",
       "scott-walker         60\n",
       "rick-perry           56\n",
       "marco-rubio          54\n",
       "chain-email          50\n",
       "john-mccain          50\n",
       "rick-scott           45\n",
       "Name: count, dtype: int64"
      ]
     },
     "execution_count": 75,
     "metadata": {},
     "output_type": "execute_result"
    }
   ],
   "source": [
    "# 4. Agrupar los menos frecuentes como 'other_speakers'\n",
    "dfa['speaker_grouped'] = dfa['speaker'].apply(\n",
    "    lambda s: s if s in frequent_speakers else 'other_speakers'\n",
    ")\n",
    "\n",
    "dfa['speaker_grouped'].value_counts()"
   ]
  },
  {
   "cell_type": "markdown",
   "metadata": {},
   "source": [
    "### - speaker_job"
   ]
  },
  {
   "cell_type": "code",
   "execution_count": 76,
   "metadata": {},
   "outputs": [
    {
     "data": {
      "text/plain": [
       "speaker_job_grouped\n",
       "other_speaker_jobs             2476\n",
       "us_senator                      296\n",
       "president                       177\n",
       "governor                        169\n",
       "us_representative               115\n",
       "presidential_candidate           99\n",
       "president-elect                  96\n",
       "state_representative             71\n",
       "state_senator                    71\n",
       "former_governor                  70\n",
       "senator                          65\n",
       "milwaukee_county_executive       60\n",
       "us_house_of_representatives      37\n",
       "attorney                         34\n",
       "Name: count, dtype: int64"
      ]
     },
     "execution_count": 76,
     "metadata": {},
     "output_type": "execute_result"
    }
   ],
   "source": [
    "# Agrupar los menos frecuentes como 'other_speaker_jobs'\n",
    "dfa['speaker_job_grouped'] = dfa['speaker_job'].apply(\n",
    "    lambda job: job if job in frequent_speaker_jobs else 'other_speaker_jobs'\n",
    ")\n",
    "\n",
    "# Ver el resultado final\n",
    "dfa['speaker_job_grouped'].value_counts()"
   ]
  },
  {
   "cell_type": "markdown",
   "metadata": {},
   "source": [
    "### - state_info"
   ]
  },
  {
   "cell_type": "code",
   "execution_count": 77,
   "metadata": {},
   "outputs": [
    {
     "data": {
      "text/plain": [
       "state_info_grouped\n",
       "other_state_info    1283\n",
       "florida              380\n",
       "texas                380\n",
       "wisconsin            253\n",
       "new york             251\n",
       "illinois             206\n",
       "ohio                 179\n",
       "georgia              168\n",
       "virginia             144\n",
       "rhode island         135\n",
       "new jersey            96\n",
       "oregon                88\n",
       "massachusetts         84\n",
       "arizona               68\n",
       "california            62\n",
       "washington dc         59\n",
       "Name: count, dtype: int64"
      ]
     },
     "execution_count": 77,
     "metadata": {},
     "output_type": "execute_result"
    }
   ],
   "source": [
    "# Agrupar los menos frecuentes como 'other_state_info'\n",
    "dfa['state_info_grouped'] = dfa['state_info'].apply(\n",
    "    lambda info: info if info in frequent_state_info else 'other_state_info'\n",
    ")\n",
    "\n",
    "# 6. Ver el resultado final\n",
    "dfa['state_info_grouped'].value_counts()"
   ]
  },
  {
   "cell_type": "markdown",
   "metadata": {},
   "source": [
    "### - party_affiliation"
   ]
  },
  {
   "cell_type": "code",
   "execution_count": 78,
   "metadata": {},
   "outputs": [
    {
     "name": "stdout",
     "output_type": "stream",
     "text": [
      "party_group\n",
      "republican          1718\n",
      "democrat            1238\n",
      "independent_None     700\n",
      "media                 71\n",
      "organization          67\n",
      "official              23\n",
      "third_Party           18\n",
      "other                  1\n",
      "Name: count, dtype: int64\n"
     ]
    }
   ],
   "source": [
    "dfa['party_group'] = dfa['party_affiliation'].apply(group_party)\n",
    "\n",
    "# Recuento de las nuevas categorías\n",
    "print(dfa['party_group'].value_counts())\n"
   ]
  },
  {
   "cell_type": "code",
   "execution_count": 79,
   "metadata": {},
   "outputs": [],
   "source": [
    "dfa.drop(columns='id', inplace=True)\n",
    "dfa.drop(columns='subject', inplace=True)\n",
    "dfa.drop(columns='subject_list', inplace=True)\n",
    "dfa.drop(columns='subject_categories', inplace=True)\n",
    "dfa.drop(columns='speaker', inplace=True)\n",
    "dfa.drop(columns='speaker_job', inplace=True)\n",
    "dfa.drop(columns='state_info', inplace=True)\n",
    "dfa.drop(columns='party_affiliation', inplace=True)\n"
   ]
  },
  {
   "cell_type": "markdown",
   "metadata": {},
   "source": [
    "# 8. Exportar CSV"
   ]
  },
  {
   "cell_type": "markdown",
   "metadata": {},
   "source": [
    "Comparar los dos dataset para ver que todo esta bien"
   ]
  },
  {
   "cell_type": "code",
   "execution_count": 80,
   "metadata": {},
   "outputs": [
    {
     "name": "stdout",
     "output_type": "stream",
     "text": [
      "Existen otras diferencias en las columnas: {'statement-raw', 'statement-ner', 'subject', 'subject-relaciones_internacionales', 'feelings', 'subject-medio_ambiente_y_energia', 'subject-trabajo_y_empleo', 'subject-educacion', 'subject-politica_y_gobierno', 'speaker_job_grouped', 'subject-seguridad_y_justicia', 'subject-otros', 'subject-ciencia_y_tecnologia', 'subject-sociedad_y_cultura', 'subject-economia_y_finanzas', 'speaker_grouped', 'label', 'speaker_job', 'subject-salud_y_bienestar', 'statement-leamtize', 'id', 'speaker'}\n"
     ]
    }
   ],
   "source": [
    "# Comparar las columnas de dfc y df_testn\n",
    "columns_dfc = set(dfc.columns)\n",
    "columns_df_testn = set(dfa.columns)\n",
    "\n",
    "# Encontrar las diferencias\n",
    "differences = columns_dfc.symmetric_difference(columns_df_testn)\n",
    "\n",
    "# Verificar si la única diferencia es 'id'\n",
    "if differences == {'id', 'label'}:\n",
    "    print(\"La única diferencia entre las columnas es 'id' y 'label'.\")\n",
    "else:\n",
    "    print(\"Existen otras diferencias en las columnas:\", differences)"
   ]
  },
  {
   "cell_type": "markdown",
   "metadata": {},
   "source": [
    "Guardar en *formated* los csv train y test"
   ]
  },
  {
   "cell_type": "code",
   "execution_count": 81,
   "metadata": {},
   "outputs": [],
   "source": [
    "# Exportar el DataFrame 'dfn' a un archivo CSV\n",
    "dfc.to_csv('./formated/train_exportado.csv', index=False)\n",
    "\n",
    "dfa.to_csv('./formated/test_exportado.csv', index=False)"
   ]
  },
  {
   "cell_type": "markdown",
   "metadata": {},
   "source": [
    "Todas las features:"
   ]
  },
  {
   "cell_type": "markdown",
   "metadata": {},
   "source": [
    "# 9. Referencias"
   ]
  },
  {
   "cell_type": "markdown",
   "metadata": {},
   "source": [
    "* [Alexisbcook. (2023, 21 abril). Categorical variables. Kaggle.](https://www.kaggle.com/code/alexisbcook/categorical-variables)\n",
    "* [pandas documentation — pandas 2.2.3 documentation. (s. f.).](https://pandas.pydata.org/docs/)"
   ]
  },
  {
   "cell_type": "markdown",
   "metadata": {},
   "source": []
  }
 ],
 "metadata": {
  "kernelspec": {
   "display_name": "anaconda3_r2",
   "language": "python",
   "name": "python3"
  },
  "language_info": {
   "codemirror_mode": {
    "name": "ipython",
    "version": 3
   },
   "file_extension": ".py",
   "mimetype": "text/x-python",
   "name": "python",
   "nbconvert_exporter": "python",
   "pygments_lexer": "ipython3",
   "version": "3.9.21"
  }
 },
 "nbformat": 4,
 "nbformat_minor": 4
}
