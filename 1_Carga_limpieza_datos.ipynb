{
 "cells": [
  {
   "cell_type": "markdown",
   "metadata": {},
   "source": [
    "<header style=\"width:100%;position:relative\">\n",
    "  <div style=\"width:80%;float:right;\">\n",
    "    <h1>Challenge Loan Approval Prediction in Pennsylvania</h1>\n",
    "    <h3>Carga y limpieza de los datos</h3>\n",
    "    <h5>Grupo 2</h5>\n",
    "  </div>\n",
    "        <img style=\"width:15%;\" src=\"./images/logo.jpg\" alt=\"UPM\" />\n",
    "</header>\n"
   ]
  },
  {
   "cell_type": "markdown",
   "metadata": {},
   "source": [
    "# Índice"
   ]
  },
  {
   "cell_type": "markdown",
   "metadata": {},
   "source": [
    "1. [Importar librerias](#1.-Importar-librerias)  \n",
    "2. [Funciones auxiliares](#2.-Funciones-auxiliares)  \n",
    "3. [Carga del Dataset](#3.-Carga-del-Dataset)  \n",
    "4. [Limpieza de los datos](#4.-Limpieza-de-los-datos)  \n",
    "   * 4.1 [Estudio de las columnas](##4.1-Estudio-de-las-columnas)\n",
    "   * 4.2 [Tratamiento de los duplicados y de los nulos](##4.2-Tratamiento-de-los-duplicados-y-de-los-nulos)\n",
    "   * 4.3 [Tratamiento de las variables categóricas](##4.3-Tratamiento-de-las-variables-categoricas)\n",
    "      * 4.3.1 [Tratamiento de las variables categóricas binarias](###4.3.1-Tratamiento-de-las-variables-categoricas-binarias)\n",
    "      * 4.3.2 [Tratamiento de las variables categóricas no binarias](###4.3.2-Tratamiento-de-las-variables-categoricas-no-binarias)\n",
    "5. [Correlacion](#5.-Correlacion)  \n",
    "6. [Codificacion One-Hot](#6.-Codificacion-One-Hot)  \n",
    "7. [Create Test](#7.-Create-Test)  \n",
    "8. [Exportar CSV](#8.-Exportar-CSV)\n",
    "9. [Referencias](#9.-Referencias)\n"
   ]
  },
  {
   "cell_type": "markdown",
   "metadata": {},
   "source": [
    "# 1. Importar librerias"
   ]
  },
  {
   "cell_type": "code",
   "execution_count": 166,
   "metadata": {},
   "outputs": [],
   "source": [
    "import pandas as pd\n",
    "import numpy as np\n",
    "\n",
    "from datetime import datetime\n",
    "import json\n",
    "\n",
    "\n",
    "import matplotlib.pyplot as plt\n",
    "import seaborn as sns\n",
    "\n",
    "\n",
    "import spacy\n",
    "from spacy import displacy\n"
   ]
  },
  {
   "cell_type": "markdown",
   "metadata": {},
   "source": [
    "# 2. Funciones auxiliares"
   ]
  },
  {
   "cell_type": "code",
   "execution_count": 167,
   "metadata": {},
   "outputs": [],
   "source": [
    "def extract_month(date, mode=0):\n",
    "    if pd.isna(date):\n",
    "        return mode\n",
    "    return datetime.strptime(date, '%d-%b-%y').month"
   ]
  },
  {
   "cell_type": "code",
   "execution_count": 168,
   "metadata": {},
   "outputs": [],
   "source": [
    "def month_to_quarter(month):\n",
    "    if month == 0:\n",
    "        return 0\n",
    "    return np.ceil(month / 3).astype(int)"
   ]
  },
  {
   "cell_type": "code",
   "execution_count": 169,
   "metadata": {},
   "outputs": [],
   "source": [
    "def print_counts(dataframe_function):\n",
    "    \n",
    "    value_counts = dataframe_function.value_counts()\n",
    "    sorted_values = sorted(value_counts.index)\n",
    "    print(\"value_counts\", \", \".join(sorted_values))\n",
    "    print(\"\\nNúmero de apariciones:\\n\", value_counts)\n"
   ]
  },
  {
   "cell_type": "markdown",
   "metadata": {},
   "source": [
    "# 3. Carga del Dataset"
   ]
  },
  {
   "cell_type": "code",
   "execution_count": 170,
   "metadata": {},
   "outputs": [],
   "source": [
    "url = \"data/train.csv\" \n",
    "data = pd.read_csv(url)\n",
    "df = data.copy()\n",
    "\n",
    "url2 = \"data/test_nolabel.csv\"\n",
    "df_test = pd.read_csv(url2)"
   ]
  },
  {
   "cell_type": "markdown",
   "metadata": {},
   "source": [
    "Configuramos Pandas para mostrar todas las columnas de un DataFrame al imprimirlo, y luego mostramos las primeras filas del DataFrame df."
   ]
  },
  {
   "cell_type": "code",
   "execution_count": 171,
   "metadata": {},
   "outputs": [
    {
     "data": {
      "text/html": [
       "<div>\n",
       "<style scoped>\n",
       "    .dataframe tbody tr th:only-of-type {\n",
       "        vertical-align: middle;\n",
       "    }\n",
       "\n",
       "    .dataframe tbody tr th {\n",
       "        vertical-align: top;\n",
       "    }\n",
       "\n",
       "    .dataframe thead th {\n",
       "        text-align: right;\n",
       "    }\n",
       "</style>\n",
       "<table border=\"1\" class=\"dataframe\">\n",
       "  <thead>\n",
       "    <tr style=\"text-align: right;\">\n",
       "      <th></th>\n",
       "      <th>id</th>\n",
       "      <th>label</th>\n",
       "      <th>statement</th>\n",
       "      <th>subject</th>\n",
       "      <th>speaker</th>\n",
       "      <th>speaker_job</th>\n",
       "      <th>state_info</th>\n",
       "      <th>party_affiliation</th>\n",
       "    </tr>\n",
       "  </thead>\n",
       "  <tbody>\n",
       "    <tr>\n",
       "      <th>0</th>\n",
       "      <td>81f884c64a7</td>\n",
       "      <td>1</td>\n",
       "      <td>China is in the South China Sea and (building)...</td>\n",
       "      <td>china,foreign-policy,military</td>\n",
       "      <td>donald-trump</td>\n",
       "      <td>President-Elect</td>\n",
       "      <td>New York</td>\n",
       "      <td>republican</td>\n",
       "    </tr>\n",
       "    <tr>\n",
       "      <th>1</th>\n",
       "      <td>30c2723a188</td>\n",
       "      <td>0</td>\n",
       "      <td>With the resources it takes to execute just ov...</td>\n",
       "      <td>health-care</td>\n",
       "      <td>chris-dodd</td>\n",
       "      <td>U.S. senator</td>\n",
       "      <td>Connecticut</td>\n",
       "      <td>democrat</td>\n",
       "    </tr>\n",
       "    <tr>\n",
       "      <th>2</th>\n",
       "      <td>6936b216e5d</td>\n",
       "      <td>0</td>\n",
       "      <td>The (Wisconsin) governor has proposed tax give...</td>\n",
       "      <td>corporations,pundits,taxes,abc-news-week</td>\n",
       "      <td>donna-brazile</td>\n",
       "      <td>Political commentator</td>\n",
       "      <td>Washington, D.C.</td>\n",
       "      <td>democrat</td>\n",
       "    </tr>\n",
       "    <tr>\n",
       "      <th>3</th>\n",
       "      <td>b5cd9195738</td>\n",
       "      <td>1</td>\n",
       "      <td>Says her representation of an ex-boyfriend who...</td>\n",
       "      <td>candidates-biography,children,ethics,families,...</td>\n",
       "      <td>rebecca-bradley</td>\n",
       "      <td>NaN</td>\n",
       "      <td>NaN</td>\n",
       "      <td>none</td>\n",
       "    </tr>\n",
       "    <tr>\n",
       "      <th>4</th>\n",
       "      <td>84f8dac7737</td>\n",
       "      <td>0</td>\n",
       "      <td>At protests in Wisconsin against proposed coll...</td>\n",
       "      <td>health-care,labor,state-budget</td>\n",
       "      <td>republican-party-wisconsin</td>\n",
       "      <td>NaN</td>\n",
       "      <td>Wisconsin</td>\n",
       "      <td>republican</td>\n",
       "    </tr>\n",
       "  </tbody>\n",
       "</table>\n",
       "</div>"
      ],
      "text/plain": [
       "            id  label                                          statement  \\\n",
       "0  81f884c64a7      1  China is in the South China Sea and (building)...   \n",
       "1  30c2723a188      0  With the resources it takes to execute just ov...   \n",
       "2  6936b216e5d      0  The (Wisconsin) governor has proposed tax give...   \n",
       "3  b5cd9195738      1  Says her representation of an ex-boyfriend who...   \n",
       "4  84f8dac7737      0  At protests in Wisconsin against proposed coll...   \n",
       "\n",
       "                                             subject  \\\n",
       "0                      china,foreign-policy,military   \n",
       "1                                        health-care   \n",
       "2           corporations,pundits,taxes,abc-news-week   \n",
       "3  candidates-biography,children,ethics,families,...   \n",
       "4                     health-care,labor,state-budget   \n",
       "\n",
       "                      speaker            speaker_job        state_info  \\\n",
       "0                donald-trump        President-Elect          New York   \n",
       "1                  chris-dodd           U.S. senator       Connecticut   \n",
       "2               donna-brazile  Political commentator  Washington, D.C.   \n",
       "3             rebecca-bradley                    NaN               NaN   \n",
       "4  republican-party-wisconsin                    NaN         Wisconsin   \n",
       "\n",
       "  party_affiliation  \n",
       "0        republican  \n",
       "1          democrat  \n",
       "2          democrat  \n",
       "3              none  \n",
       "4        republican  "
      ]
     },
     "execution_count": 171,
     "metadata": {},
     "output_type": "execute_result"
    }
   ],
   "source": [
    "pd.set_option('display.max_columns', None)\n",
    "df.head()"
   ]
  },
  {
   "cell_type": "markdown",
   "metadata": {},
   "source": [
    "Con *Info* desplegamos la información del dataframe para saber con que datos trabajaremos en cada una de las columnas"
   ]
  },
  {
   "cell_type": "code",
   "execution_count": 172,
   "metadata": {},
   "outputs": [
    {
     "data": {
      "text/plain": [
       "<bound method DataFrame.info of                id  label                                          statement  \\\n",
       "0     81f884c64a7      1  China is in the South China Sea and (building)...   \n",
       "1     30c2723a188      0  With the resources it takes to execute just ov...   \n",
       "2     6936b216e5d      0  The (Wisconsin) governor has proposed tax give...   \n",
       "3     b5cd9195738      1  Says her representation of an ex-boyfriend who...   \n",
       "4     84f8dac7737      0  At protests in Wisconsin against proposed coll...   \n",
       "...           ...    ...                                                ...   \n",
       "8945  44edff2b865      1  If Rhode Island does a hybrid [retirement] pla...   \n",
       "8946  4a63b5f9c16      1  The new health care law will force seniors int...   \n",
       "8947  7c57fa8e81c      0  The health insurance plan that (members of Con...   \n",
       "8948  2375e3cf4b7      1  No one in American history has moved from a Ju...   \n",
       "8949  5ae9b14e6e5      0  Says the Army is spending $7 million to sponso...   \n",
       "\n",
       "                                                subject  \\\n",
       "0                         china,foreign-policy,military   \n",
       "1                                           health-care   \n",
       "2              corporations,pundits,taxes,abc-news-week   \n",
       "3     candidates-biography,children,ethics,families,...   \n",
       "4                        health-care,labor,state-budget   \n",
       "...                                                 ...   \n",
       "8945         pensions,public-service,retirement,workers   \n",
       "8946                medicare,message-machine,retirement   \n",
       "8947                                        health-care   \n",
       "8948                                  elections,history   \n",
       "8949                            federal-budget,military   \n",
       "\n",
       "                         speaker                              speaker_job  \\\n",
       "0                   donald-trump                          President-Elect   \n",
       "1                     chris-dodd                             U.S. senator   \n",
       "2                  donna-brazile                    Political commentator   \n",
       "3                rebecca-bradley                                      NaN   \n",
       "4     republican-party-wisconsin                                      NaN   \n",
       "...                          ...                                      ...   \n",
       "8945              lincoln-chafee                                      NaN   \n",
       "8946                   dan-coats                                      NaN   \n",
       "8947           steve-southerland  U.S. Representative, Florida District 2   \n",
       "8948               newt-gingrich             Co-host on CNN's \"Crossfire\"   \n",
       "8949              betty-mccollum                      U.S. Representative   \n",
       "\n",
       "            state_info party_affiliation  \n",
       "0             New York        republican  \n",
       "1          Connecticut          democrat  \n",
       "2     Washington, D.C.          democrat  \n",
       "3                  NaN              none  \n",
       "4            Wisconsin        republican  \n",
       "...                ...               ...  \n",
       "8945      Rhode Island          democrat  \n",
       "8946           Indiana        republican  \n",
       "8947           Florida        republican  \n",
       "8948           Georgia        republican  \n",
       "8949         Minnesota          democrat  \n",
       "\n",
       "[8950 rows x 8 columns]>"
      ]
     },
     "execution_count": 172,
     "metadata": {},
     "output_type": "execute_result"
    }
   ],
   "source": [
    "df.info"
   ]
  },
  {
   "cell_type": "markdown",
   "metadata": {},
   "source": [
    "Gracias a *shape* podemos saber las dimensiones del dataframe, de esta maenra podemos saber la cantidad de filas que tenemos en un incio y la cantidad de columnas con las que trabajaremos"
   ]
  },
  {
   "cell_type": "code",
   "execution_count": 173,
   "metadata": {},
   "outputs": [
    {
     "data": {
      "text/plain": [
       "(8950, 8)"
      ]
     },
     "execution_count": 173,
     "metadata": {},
     "output_type": "execute_result"
    }
   ],
   "source": [
    "df.shape"
   ]
  },
  {
   "cell_type": "markdown",
   "metadata": {},
   "source": [
    "Visualización del nombre de todas las columnas para plantear la limpieza"
   ]
  },
  {
   "cell_type": "code",
   "execution_count": 174,
   "metadata": {},
   "outputs": [
    {
     "data": {
      "text/plain": [
       "Index(['id', 'label', 'statement', 'subject', 'speaker', 'speaker_job',\n",
       "       'state_info', 'party_affiliation'],\n",
       "      dtype='object')"
      ]
     },
     "execution_count": 174,
     "metadata": {},
     "output_type": "execute_result"
    }
   ],
   "source": [
    "df.columns"
   ]
  },
  {
   "cell_type": "markdown",
   "metadata": {},
   "source": [
    "\n",
    "Visualización del estadisticos de las columnas numericas para plantear la limpieza"
   ]
  },
  {
   "cell_type": "markdown",
   "metadata": {},
   "source": [
    "# 4. Limpieza de los datos"
   ]
  },
  {
   "cell_type": "markdown",
   "metadata": {},
   "source": [
    "## 4.1 Estudio de las columnas"
   ]
  },
  {
   "cell_type": "markdown",
   "metadata": {},
   "source": [
    "This dataset is related to false political claim detection, containing labeled statements (or claims) along with metadata about the speaker, subject, and other contextual information. Below is a detailed breakdown of the dataset's structure and key characteristics:\n",
    "\n",
    "| **Field Name**      | **Data Type** | **Description**                                                                 |\n",
    "|----------------------|---------------|---------------------------------------------------------------------------------|\n",
    "| **id**              | Text          | Unique identifier                                                              |\n",
    "| **label**           | Integer       | Truthfulness score. Binary classification: 1 = true, 0 = false                |\n",
    "| **statement**       | Text          | Text of the claim                                                              |\n",
    "| **subject**         | Text          | Topic of the claim                                                             |\n",
    "| **speaker**         | Text          | Person making the claim                                                        |\n",
    "| **speaker_job**     | Text          | Occupation of the speaker                                                      |\n",
    "| **state_info**      | Text          | Geographic context                                                             |\n",
    "| **party_affiliation** | Text        | Political party of the speaker                                                 |\n"
   ]
  },
  {
   "cell_type": "markdown",
   "metadata": {},
   "source": [
    "Visualización de los tipos de cada columna"
   ]
  },
  {
   "cell_type": "code",
   "execution_count": 175,
   "metadata": {},
   "outputs": [
    {
     "data": {
      "text/plain": [
       "id                   object\n",
       "label                 int64\n",
       "statement            object\n",
       "subject              object\n",
       "speaker              object\n",
       "speaker_job          object\n",
       "state_info           object\n",
       "party_affiliation    object\n",
       "dtype: object"
      ]
     },
     "execution_count": 175,
     "metadata": {},
     "output_type": "execute_result"
    }
   ],
   "source": [
    "df.dtypes"
   ]
  },
  {
   "cell_type": "markdown",
   "metadata": {},
   "source": [
    "Visualizacón de valores distintos que tienen cada columna"
   ]
  },
  {
   "cell_type": "code",
   "execution_count": 176,
   "metadata": {},
   "outputs": [
    {
     "name": "stdout",
     "output_type": "stream",
     "text": [
      "Columna: id, Valores distintos: 8950\n",
      "Columna: label, Valores distintos: 2\n",
      "Columna: statement, Valores distintos: 8939\n",
      "Columna: subject, Valores distintos: 3409\n",
      "Columna: speaker, Valores distintos: 2634\n",
      "Columna: speaker_job, Valores distintos: 1090\n",
      "Columna: state_info, Valores distintos: 78\n",
      "Columna: party_affiliation, Valores distintos: 24\n"
     ]
    }
   ],
   "source": [
    "# Obtener el número de valores distintos de cada columna\n",
    "valores_distintos = {columna: df[columna].nunique() for columna in df.columns}\n",
    "\n",
    "# Mostrar el número de valores distintos de cada columna\n",
    "for columna, num_valores in valores_distintos.items():\n",
    "    print(f\"Columna: {columna}, Valores distintos: {num_valores}\")"
   ]
  },
  {
   "cell_type": "markdown",
   "metadata": {},
   "source": [
    "Eliminar id al ser información no necesaria"
   ]
  },
  {
   "cell_type": "code",
   "execution_count": 177,
   "metadata": {},
   "outputs": [
    {
     "data": {
      "text/html": [
       "<div>\n",
       "<style scoped>\n",
       "    .dataframe tbody tr th:only-of-type {\n",
       "        vertical-align: middle;\n",
       "    }\n",
       "\n",
       "    .dataframe tbody tr th {\n",
       "        vertical-align: top;\n",
       "    }\n",
       "\n",
       "    .dataframe thead th {\n",
       "        text-align: right;\n",
       "    }\n",
       "</style>\n",
       "<table border=\"1\" class=\"dataframe\">\n",
       "  <thead>\n",
       "    <tr style=\"text-align: right;\">\n",
       "      <th></th>\n",
       "      <th>label</th>\n",
       "      <th>statement</th>\n",
       "      <th>subject</th>\n",
       "      <th>speaker</th>\n",
       "      <th>speaker_job</th>\n",
       "      <th>state_info</th>\n",
       "      <th>party_affiliation</th>\n",
       "    </tr>\n",
       "  </thead>\n",
       "  <tbody>\n",
       "    <tr>\n",
       "      <th>0</th>\n",
       "      <td>1</td>\n",
       "      <td>China is in the South China Sea and (building)...</td>\n",
       "      <td>china,foreign-policy,military</td>\n",
       "      <td>donald-trump</td>\n",
       "      <td>President-Elect</td>\n",
       "      <td>New York</td>\n",
       "      <td>republican</td>\n",
       "    </tr>\n",
       "    <tr>\n",
       "      <th>1</th>\n",
       "      <td>0</td>\n",
       "      <td>With the resources it takes to execute just ov...</td>\n",
       "      <td>health-care</td>\n",
       "      <td>chris-dodd</td>\n",
       "      <td>U.S. senator</td>\n",
       "      <td>Connecticut</td>\n",
       "      <td>democrat</td>\n",
       "    </tr>\n",
       "    <tr>\n",
       "      <th>2</th>\n",
       "      <td>0</td>\n",
       "      <td>The (Wisconsin) governor has proposed tax give...</td>\n",
       "      <td>corporations,pundits,taxes,abc-news-week</td>\n",
       "      <td>donna-brazile</td>\n",
       "      <td>Political commentator</td>\n",
       "      <td>Washington, D.C.</td>\n",
       "      <td>democrat</td>\n",
       "    </tr>\n",
       "    <tr>\n",
       "      <th>3</th>\n",
       "      <td>1</td>\n",
       "      <td>Says her representation of an ex-boyfriend who...</td>\n",
       "      <td>candidates-biography,children,ethics,families,...</td>\n",
       "      <td>rebecca-bradley</td>\n",
       "      <td>NaN</td>\n",
       "      <td>NaN</td>\n",
       "      <td>none</td>\n",
       "    </tr>\n",
       "    <tr>\n",
       "      <th>4</th>\n",
       "      <td>0</td>\n",
       "      <td>At protests in Wisconsin against proposed coll...</td>\n",
       "      <td>health-care,labor,state-budget</td>\n",
       "      <td>republican-party-wisconsin</td>\n",
       "      <td>NaN</td>\n",
       "      <td>Wisconsin</td>\n",
       "      <td>republican</td>\n",
       "    </tr>\n",
       "  </tbody>\n",
       "</table>\n",
       "</div>"
      ],
      "text/plain": [
       "   label                                          statement  \\\n",
       "0      1  China is in the South China Sea and (building)...   \n",
       "1      0  With the resources it takes to execute just ov...   \n",
       "2      0  The (Wisconsin) governor has proposed tax give...   \n",
       "3      1  Says her representation of an ex-boyfriend who...   \n",
       "4      0  At protests in Wisconsin against proposed coll...   \n",
       "\n",
       "                                             subject  \\\n",
       "0                      china,foreign-policy,military   \n",
       "1                                        health-care   \n",
       "2           corporations,pundits,taxes,abc-news-week   \n",
       "3  candidates-biography,children,ethics,families,...   \n",
       "4                     health-care,labor,state-budget   \n",
       "\n",
       "                      speaker            speaker_job        state_info  \\\n",
       "0                donald-trump        President-Elect          New York   \n",
       "1                  chris-dodd           U.S. senator       Connecticut   \n",
       "2               donna-brazile  Political commentator  Washington, D.C.   \n",
       "3             rebecca-bradley                    NaN               NaN   \n",
       "4  republican-party-wisconsin                    NaN         Wisconsin   \n",
       "\n",
       "  party_affiliation  \n",
       "0        republican  \n",
       "1          democrat  \n",
       "2          democrat  \n",
       "3              none  \n",
       "4        republican  "
      ]
     },
     "execution_count": 177,
     "metadata": {},
     "output_type": "execute_result"
    }
   ],
   "source": [
    "dfc = df.drop(columns='id')\n",
    "dfc.head()"
   ]
  },
  {
   "cell_type": "markdown",
   "metadata": {},
   "source": [
    "- Obeservar si el dataset está balanceado"
   ]
  },
  {
   "cell_type": "code",
   "execution_count": 178,
   "metadata": {},
   "outputs": [
    {
     "data": {
      "image/png": "[encoded data removed]",
      "text/plain": [
       "<Figure size 640x480 with 1 Axes>"
      ]
     },
     "metadata": {},
     "output_type": "display_data"
    }
   ],
   "source": [
    "x = dfc['label'].value_counts()\n",
    "sns.barplot(x=x.index, y=x.values)\n",
    "plt.show()"
   ]
  },
  {
   "cell_type": "markdown",
   "metadata": {},
   "source": [
    "Está bastante desequilibrado; hay muchos más textos que no son vulos que son vulos."
   ]
  },
  {
   "cell_type": "markdown",
   "metadata": {},
   "source": [
    "## 4.2 Tratamiento de los duplicados y de los nulos"
   ]
  },
  {
   "cell_type": "markdown",
   "metadata": {},
   "source": [
    "Comprobación de duplicados"
   ]
  },
  {
   "cell_type": "code",
   "execution_count": 179,
   "metadata": {},
   "outputs": [
    {
     "name": "stdout",
     "output_type": "stream",
     "text": [
      "False\n"
     ]
    }
   ],
   "source": [
    "print(dfc.duplicated().any())"
   ]
  },
  {
   "cell_type": "markdown",
   "metadata": {},
   "source": [
    "No hay duplicados"
   ]
  },
  {
   "cell_type": "markdown",
   "metadata": {},
   "source": [
    "Comporbación de si existen nulos y en que columnas se encuentran"
   ]
  },
  {
   "cell_type": "code",
   "execution_count": 180,
   "metadata": {},
   "outputs": [
    {
     "data": {
      "text/plain": [
       "label                   0\n",
       "statement               0\n",
       "subject                 0\n",
       "speaker                 0\n",
       "speaker_job          2482\n",
       "state_info           1930\n",
       "party_affiliation       0\n",
       "dtype: int64"
      ]
     },
     "execution_count": 180,
     "metadata": {},
     "output_type": "execute_result"
    }
   ],
   "source": [
    "dfc.isnull().sum() "
   ]
  },
  {
   "cell_type": "markdown",
   "metadata": {},
   "source": [
    "Al ser demasiados nulos intentaremos sacar la información de otras columnas"
   ]
  },
  {
   "cell_type": "markdown",
   "metadata": {},
   "source": [
    "## 4.3 Tratamiento features"
   ]
  },
  {
   "cell_type": "markdown",
   "metadata": {},
   "source": [
    "### 4.3.1 Features"
   ]
  },
  {
   "cell_type": "markdown",
   "metadata": {},
   "source": [
    "- Statement"
   ]
  },
  {
   "cell_type": "code",
   "execution_count": 181,
   "metadata": {},
   "outputs": [],
   "source": [
    "# Obtener el conteo de valores únicos de 'speaker'\n",
    "statement_counts = dfc['statement'].value_counts()\n",
    "\n",
    "# Convertir a diccionario\n",
    "statement_counts_dict = statement_counts.to_dict()\n",
    "\n",
    "# Exportar a un archivo JSON\n",
    "with open('json-study-statement/statements.json', 'w', encoding='utf-8') as f:\n",
    "    json.dump(statement_counts_dict, f, ensure_ascii=False, indent=2)"
   ]
  },
  {
   "cell_type": "markdown",
   "metadata": {},
   "source": [
    "Poner todas las letras en minúscula"
   ]
  },
  {
   "cell_type": "code",
   "execution_count": 182,
   "metadata": {},
   "outputs": [],
   "source": [
    "dfc['statement'] = dfc['statement'].str.lower()"
   ]
  },
  {
   "cell_type": "code",
   "execution_count": 183,
   "metadata": {},
   "outputs": [],
   "source": [
    "from collections import defaultdict\n",
    "nlp = spacy.load('en_core_web_lg')\n",
    "en_stopwords = nlp.Defaults.stop_words\n",
    "\n",
    "#Collection\n",
    "def create_collection(label):\n",
    "    collection=[]\n",
    "    \n",
    "    for x in dfc[dfc['label']==label]['statement'].str.split():\n",
    "        for i in x:\n",
    "            collection.append(i)\n",
    "    return collection"
   ]
  },
  {
   "cell_type": "markdown",
   "metadata": {},
   "source": [
    "Common stopwords in no fake claims, label 0"
   ]
  },
  {
   "cell_type": "code",
   "execution_count": 184,
   "metadata": {},
   "outputs": [
    {
     "data": {
      "image/png": "[encoded data removed]",
      "text/plain": [
       "<Figure size 640x480 with 1 Axes>"
      ]
     },
     "metadata": {},
     "output_type": "display_data"
    }
   ],
   "source": [
    "\n",
    "#Common stopwords in no fake claims, label 0\n",
    "collection=create_collection(0)\n",
    "\n",
    "dic=defaultdict(int)\n",
    "for word in collection: \n",
    "    dic[word]+=1\n",
    "        \n",
    "top=sorted(dic.items(), key=lambda x:x[1],reverse=True)[:10] \n",
    "\n",
    "x,y=zip(*top)\n",
    "plt.bar(x,y)\n",
    "plt.show()"
   ]
  },
  {
   "cell_type": "markdown",
   "metadata": {},
   "source": [
    "#Common stopwords in fake claims, label 1"
   ]
  },
  {
   "cell_type": "code",
   "execution_count": 185,
   "metadata": {},
   "outputs": [
    {
     "data": {
      "image/png": "[encoded data removed]",
      "text/plain": [
       "<Figure size 640x480 with 1 Axes>"
      ]
     },
     "metadata": {},
     "output_type": "display_data"
    }
   ],
   "source": [
    "collection=create_collection(1)\n",
    "\n",
    "dic=defaultdict(int)\n",
    "for word in collection:\n",
    "    if word in en_stopwords:\n",
    "        dic[word]+=1\n",
    "\n",
    "top=sorted(dic.items(), key=lambda x:x[1],reverse=True)[:10] \n",
    "\n",
    "x,y=zip(*top)\n",
    "plt.bar(x,y,color='orange')\n",
    "plt.show()"
   ]
  },
  {
   "cell_type": "markdown",
   "metadata": {},
   "source": [
    "Como podemos comprobar que en tanto en fake claims como en no fake claims comparten palabras muy similares"
   ]
  },
  {
   "cell_type": "markdown",
   "metadata": {},
   "source": [
    "Ahora analizaremos la puntuación"
   ]
  },
  {
   "cell_type": "code",
   "execution_count": 186,
   "metadata": {},
   "outputs": [
    {
     "data": {
      "image/png": "[encoded data removed]",
      "text/plain": [
       "<Figure size 1000x500 with 1 Axes>"
      ]
     },
     "metadata": {},
     "output_type": "display_data"
    }
   ],
   "source": [
    "import string\n",
    "#Common punctuation in offensive texts\n",
    "plt.figure(figsize=(10,5))\n",
    "corpus=create_collection(0)\n",
    "\n",
    "dic=defaultdict(int)\n",
    "special = string.punctuation\n",
    "for i in (corpus):\n",
    "    if i in special:\n",
    "        dic[i]+=1\n",
    "        \n",
    "x,y=zip(*dic.items())\n",
    "plt.bar(x,y)\n",
    "plt.show()"
   ]
  },
  {
   "cell_type": "code",
   "execution_count": 187,
   "metadata": {},
   "outputs": [
    {
     "data": {
      "image/png": "[encoded data removed]",
      "text/plain": [
       "<Figure size 640x480 with 1 Axes>"
      ]
     },
     "metadata": {},
     "output_type": "display_data"
    }
   ],
   "source": [
    "import string\n",
    "\n",
    "corpus=create_collection(1)\n",
    "\n",
    "dic=defaultdict(int)\n",
    "special = string.punctuation\n",
    "for i in (corpus):\n",
    "    if i in special:\n",
    "        dic[i]+=1\n",
    "        \n",
    "x,y=zip(*dic.items())\n",
    "plt.bar(x,y,color='orange')\n",
    "plt.show()"
   ]
  },
  {
   "cell_type": "markdown",
   "metadata": {},
   "source": [
    "Como podemos comprobar no hay una gran diferencia entre ambos tipos de *claims*"
   ]
  },
  {
   "cell_type": "code",
   "execution_count": null,
   "metadata": {},
   "outputs": [
    {
     "name": "stdout",
     "output_type": "stream",
     "text": [
      "URLs eliminadas: 2\n",
      "Puntuaciones eliminadas: 8828\n",
      "Stopwords eliminadas: 8914\n"
     ]
    }
   ],
   "source": [
    "import re\n",
    "import string\n",
    "\n",
    "# Contadores globales\n",
    "url_changes = 0\n",
    "punct_changes = 0\n",
    "stopword_changes = 0\n",
    "\n",
    "# Function to remove URLs\n",
    "def remove_URL(text):\n",
    "    global url_changes\n",
    "    url = re.compile(r'\\b\\w+\\.com\\b', re.IGNORECASE)  # Detectar URLs terminadas en .com\n",
    "    new_text = url.sub(r'', text)\n",
    "    # url_changes += 1\n",
    "    if new_text != text:\n",
    "        url_changes += 1\n",
    "    return new_text\n",
    "\n",
    "# Function to remove punctuation\n",
    "def remove_punct(text):\n",
    "    global punct_changes\n",
    "    table = str.maketrans('', '', string.punctuation)\n",
    "    new_text = text.translate(table)\n",
    "    if new_text != text:\n",
    "        punct_changes += 1\n",
    "    return new_text\n",
    "\n",
    "# Function to remove stopwords from the text\n",
    "def remove_stop_words(text):\n",
    "    global stopword_changes\n",
    "    cleanText = ''\n",
    "    phrase = nlp(text)\n",
    "    for token in phrase:\n",
    "        if not token.is_stop:\n",
    "            cleanText += ' ' + token.text\n",
    "    if cleanText.strip() != text.strip():\n",
    "        stopword_changes += 1\n",
    "    return cleanText\n",
    "\n",
    "# Aplicar las funciones\n",
    "dfc['statement'] = dfc['statement'].apply(lambda x: remove_URL(x))\n",
    "dfc['statement'] = dfc['statement'].apply(lambda x: remove_punct(x))\n",
    "dfc['statement'] = dfc['statement'].apply(remove_stop_words)\n",
    "\n",
    "# Mostrar los contadores\n",
    "print(f\"URLs eliminadas: {url_changes}\")\n",
    "print(f\"Puntuaciones eliminadas: {punct_changes}\")\n",
    "print(f\"Stopwords eliminadas: {stopword_changes}\")"
   ]
  },
  {
   "cell_type": "code",
   "execution_count": 189,
   "metadata": {},
   "outputs": [
    {
     "data": {
      "text/html": [
       "<div>\n",
       "<style scoped>\n",
       "    .dataframe tbody tr th:only-of-type {\n",
       "        vertical-align: middle;\n",
       "    }\n",
       "\n",
       "    .dataframe tbody tr th {\n",
       "        vertical-align: top;\n",
       "    }\n",
       "\n",
       "    .dataframe thead th {\n",
       "        text-align: right;\n",
       "    }\n",
       "</style>\n",
       "<table border=\"1\" class=\"dataframe\">\n",
       "  <thead>\n",
       "    <tr style=\"text-align: right;\">\n",
       "      <th></th>\n",
       "      <th>label</th>\n",
       "      <th>statement</th>\n",
       "      <th>subject</th>\n",
       "      <th>speaker</th>\n",
       "      <th>speaker_job</th>\n",
       "      <th>state_info</th>\n",
       "      <th>party_affiliation</th>\n",
       "    </tr>\n",
       "  </thead>\n",
       "  <tbody>\n",
       "    <tr>\n",
       "      <th>0</th>\n",
       "      <td>1</td>\n",
       "      <td>china south china sea buildinga military fort...</td>\n",
       "      <td>china,foreign-policy,military</td>\n",
       "      <td>donald-trump</td>\n",
       "      <td>President-Elect</td>\n",
       "      <td>New York</td>\n",
       "      <td>republican</td>\n",
       "    </tr>\n",
       "    <tr>\n",
       "      <th>1</th>\n",
       "      <td>0</td>\n",
       "      <td>resources takes execute months iraq war fully...</td>\n",
       "      <td>health-care</td>\n",
       "      <td>chris-dodd</td>\n",
       "      <td>U.S. senator</td>\n",
       "      <td>Connecticut</td>\n",
       "      <td>democrat</td>\n",
       "    </tr>\n",
       "    <tr>\n",
       "      <th>2</th>\n",
       "      <td>0</td>\n",
       "      <td>wisconsin governor proposed tax giveaways cor...</td>\n",
       "      <td>corporations,pundits,taxes,abc-news-week</td>\n",
       "      <td>donna-brazile</td>\n",
       "      <td>Political commentator</td>\n",
       "      <td>Washington, D.C.</td>\n",
       "      <td>democrat</td>\n",
       "    </tr>\n",
       "    <tr>\n",
       "      <th>3</th>\n",
       "      <td>1</td>\n",
       "      <td>says representation exboyfriend friend family...</td>\n",
       "      <td>candidates-biography,children,ethics,families,...</td>\n",
       "      <td>rebecca-bradley</td>\n",
       "      <td>NaN</td>\n",
       "      <td>NaN</td>\n",
       "      <td>none</td>\n",
       "    </tr>\n",
       "    <tr>\n",
       "      <th>4</th>\n",
       "      <td>0</td>\n",
       "      <td>protests wisconsin proposed collective bargai...</td>\n",
       "      <td>health-care,labor,state-budget</td>\n",
       "      <td>republican-party-wisconsin</td>\n",
       "      <td>NaN</td>\n",
       "      <td>Wisconsin</td>\n",
       "      <td>republican</td>\n",
       "    </tr>\n",
       "    <tr>\n",
       "      <th>...</th>\n",
       "      <td>...</td>\n",
       "      <td>...</td>\n",
       "      <td>...</td>\n",
       "      <td>...</td>\n",
       "      <td>...</td>\n",
       "      <td>...</td>\n",
       "      <td>...</td>\n",
       "    </tr>\n",
       "    <tr>\n",
       "      <th>8945</th>\n",
       "      <td>1</td>\n",
       "      <td>rhode island hybrid retirement plan state nation</td>\n",
       "      <td>pensions,public-service,retirement,workers</td>\n",
       "      <td>lincoln-chafee</td>\n",
       "      <td>NaN</td>\n",
       "      <td>Rhode Island</td>\n",
       "      <td>democrat</td>\n",
       "    </tr>\n",
       "    <tr>\n",
       "      <th>8946</th>\n",
       "      <td>1</td>\n",
       "      <td>new health care law force seniors barack obam...</td>\n",
       "      <td>medicare,message-machine,retirement</td>\n",
       "      <td>dan-coats</td>\n",
       "      <td>NaN</td>\n",
       "      <td>Indiana</td>\n",
       "      <td>republican</td>\n",
       "    </tr>\n",
       "    <tr>\n",
       "      <th>8947</th>\n",
       "      <td>0</td>\n",
       "      <td>health insurance plan members congress differ...</td>\n",
       "      <td>health-care</td>\n",
       "      <td>steve-southerland</td>\n",
       "      <td>U.S. Representative, Florida District 2</td>\n",
       "      <td>Florida</td>\n",
       "      <td>republican</td>\n",
       "    </tr>\n",
       "    <tr>\n",
       "      <th>8948</th>\n",
       "      <td>1</td>\n",
       "      <td>american history moved june 16 announcement 2...</td>\n",
       "      <td>elections,history</td>\n",
       "      <td>newt-gingrich</td>\n",
       "      <td>Co-host on CNN's \"Crossfire\"</td>\n",
       "      <td>Georgia</td>\n",
       "      <td>republican</td>\n",
       "    </tr>\n",
       "    <tr>\n",
       "      <th>8949</th>\n",
       "      <td>0</td>\n",
       "      <td>says army spending 7 million sponsor nascar team</td>\n",
       "      <td>federal-budget,military</td>\n",
       "      <td>betty-mccollum</td>\n",
       "      <td>U.S. Representative</td>\n",
       "      <td>Minnesota</td>\n",
       "      <td>democrat</td>\n",
       "    </tr>\n",
       "  </tbody>\n",
       "</table>\n",
       "<p>8950 rows × 7 columns</p>\n",
       "</div>"
      ],
      "text/plain": [
       "      label                                          statement  \\\n",
       "0         1   china south china sea buildinga military fort...   \n",
       "1         0   resources takes execute months iraq war fully...   \n",
       "2         0   wisconsin governor proposed tax giveaways cor...   \n",
       "3         1   says representation exboyfriend friend family...   \n",
       "4         0   protests wisconsin proposed collective bargai...   \n",
       "...     ...                                                ...   \n",
       "8945      1   rhode island hybrid retirement plan state nation   \n",
       "8946      1   new health care law force seniors barack obam...   \n",
       "8947      0   health insurance plan members congress differ...   \n",
       "8948      1   american history moved june 16 announcement 2...   \n",
       "8949      0   says army spending 7 million sponsor nascar team   \n",
       "\n",
       "                                                subject  \\\n",
       "0                         china,foreign-policy,military   \n",
       "1                                           health-care   \n",
       "2              corporations,pundits,taxes,abc-news-week   \n",
       "3     candidates-biography,children,ethics,families,...   \n",
       "4                        health-care,labor,state-budget   \n",
       "...                                                 ...   \n",
       "8945         pensions,public-service,retirement,workers   \n",
       "8946                medicare,message-machine,retirement   \n",
       "8947                                        health-care   \n",
       "8948                                  elections,history   \n",
       "8949                            federal-budget,military   \n",
       "\n",
       "                         speaker                              speaker_job  \\\n",
       "0                   donald-trump                          President-Elect   \n",
       "1                     chris-dodd                             U.S. senator   \n",
       "2                  donna-brazile                    Political commentator   \n",
       "3                rebecca-bradley                                      NaN   \n",
       "4     republican-party-wisconsin                                      NaN   \n",
       "...                          ...                                      ...   \n",
       "8945              lincoln-chafee                                      NaN   \n",
       "8946                   dan-coats                                      NaN   \n",
       "8947           steve-southerland  U.S. Representative, Florida District 2   \n",
       "8948               newt-gingrich             Co-host on CNN's \"Crossfire\"   \n",
       "8949              betty-mccollum                      U.S. Representative   \n",
       "\n",
       "            state_info party_affiliation  \n",
       "0             New York        republican  \n",
       "1          Connecticut          democrat  \n",
       "2     Washington, D.C.          democrat  \n",
       "3                  NaN              none  \n",
       "4            Wisconsin        republican  \n",
       "...                ...               ...  \n",
       "8945      Rhode Island          democrat  \n",
       "8946           Indiana        republican  \n",
       "8947           Florida        republican  \n",
       "8948           Georgia        republican  \n",
       "8949         Minnesota          democrat  \n",
       "\n",
       "[8950 rows x 7 columns]"
      ]
     },
     "execution_count": 189,
     "metadata": {},
     "output_type": "execute_result"
    }
   ],
   "source": [
    "dfc"
   ]
  },
  {
   "cell_type": "code",
   "execution_count": 191,
   "metadata": {},
   "outputs": [],
   "source": [
    "# Obtener el conteo de valores únicos de 'speaker'\n",
    "statement_counts = dfc['statement'].value_counts()\n",
    "\n",
    "# Convertir a diccionario\n",
    "statement_counts_dict = statement_counts.to_dict()\n",
    "\n",
    "# Exportar a un archivo JSON\n",
    "with open('json-study-statement/statements_v1.json', 'w', encoding='utf-8') as f:\n",
    "    json.dump(statement_counts_dict, f, ensure_ascii=False, indent=2)"
   ]
  },
  {
   "cell_type": "markdown",
   "metadata": {},
   "source": [
    "Ahora analizamos la frecuencia de las palabras en funcion del tipo de *claim*"
   ]
  },
  {
   "cell_type": "code",
   "execution_count": 165,
   "metadata": {},
   "outputs": [
    {
     "data": {
      "image/png": "[encoded data removed]",
      "text/plain": [
       "<Figure size 640x480 with 1 Axes>"
      ]
     },
     "metadata": {},
     "output_type": "display_data"
    }
   ],
   "source": [
    "#Common words in no fake claims\n",
    "collection=create_collection(0)\n",
    "\n",
    "dic=defaultdict(int)\n",
    "\n",
    "for word in collection:\n",
    "    dic[word]+=1  \n",
    "    \n",
    "top=sorted(dic.items(), key=lambda x:x[1],reverse=True)[:10] \n",
    "\n",
    "x,y=zip(*top)\n",
    "plt.bar(x,y)\n",
    "plt.show()"
   ]
  },
  {
   "cell_type": "code",
   "execution_count": null,
   "metadata": {},
   "outputs": [],
   "source": [
    "#Common words in fake claims\n",
    "collection=create_collection(1)\n",
    "\n",
    "dic=defaultdict(int)\n",
    "\n",
    "for word in collection:\n",
    "    dic[word]+=1  \n",
    "    \n",
    "top=sorted(dic.items(), key=lambda x:x[1],reverse=True)[:10] \n",
    "\n",
    "x,y=zip(*top)\n",
    "plt.bar(x,y,color='orange')\n",
    "plt.show()\n"
   ]
  },
  {
   "cell_type": "markdown",
   "metadata": {},
   "source": [
    "#### 1. Limipieza y Normalización del Texto "
   ]
  },
  {
   "cell_type": "markdown",
   "metadata": {},
   "source": [
    "#### 1.1 Eliminar Ruido\n",
    "Quitar URLs, etiquetas HTML, menciones, hashtags y caracteres no alfanúmericos"
   ]
  },
  {
   "cell_type": "code",
   "execution_count": 271,
   "metadata": {},
   "outputs": [],
   "source": [
    "# Obtener el conteo de valores únicos de 'speaker'\n",
    "statement_counts = dfc['statement'].value_counts()\n",
    "\n",
    "# Convertir a diccionario\n",
    "statement_counts_dict = statement_counts.to_dict()\n",
    "\n",
    "# Exportar a un archivo JSON\n",
    "with open('json-study/statements.json', 'w', encoding='utf-8') as f:\n",
    "    json.dump(statement_counts_dict, f, ensure_ascii=False, indent=2)"
   ]
  },
  {
   "cell_type": "markdown",
   "metadata": {},
   "source": [
    "#### 1.2 Convertir a minúsculas"
   ]
  },
  {
   "cell_type": "markdown",
   "metadata": {},
   "source": [
    "### 4.3.2 Resto de features\n"
   ]
  },
  {
   "cell_type": "markdown",
   "metadata": {},
   "source": [
    "- subject"
   ]
  },
  {
   "cell_type": "code",
   "execution_count": 253,
   "metadata": {},
   "outputs": [
    {
     "data": {
      "text/plain": [
       "1                                          health-care\n",
       "2             corporations,pundits,taxes,abc-news-week\n",
       "3    candidates-biography,children,ethics,families,...\n",
       "4                       health-care,labor,state-budget\n",
       "5                                 candidates-biography\n",
       "6                     legal-issues,state-budget,states\n",
       "7                                                 iraq\n",
       "8                                          immigration\n",
       "9     economy,income,retirement,social-security,wealth\n",
       "Name: subject, dtype: object"
      ]
     },
     "execution_count": 253,
     "metadata": {},
     "output_type": "execute_result"
    }
   ],
   "source": [
    "# dfc['subject'].value_counts()\n",
    "\n",
    "dfc['subject'].iloc[1:10]                    "
   ]
  },
  {
   "cell_type": "code",
   "execution_count": 254,
   "metadata": {},
   "outputs": [
    {
     "name": "stdout",
     "output_type": "stream",
     "text": [
      "subject_list\n",
      "economy           997\n",
      "health-care       991\n",
      "taxes             857\n",
      "federal-budget    646\n",
      "education         638\n",
      "                 ... \n",
      "after-the-fact      1\n",
      "nightlife           1\n",
      "food                1\n",
      "homeless            1\n",
      "death-penalty       1\n",
      "Name: count, Length: 142, dtype: int64\n"
     ]
    }
   ],
   "source": [
    "dfc['subject_list'] = (\n",
    "    dfc['subject']\n",
    "    .str.split(',')\n",
    "    .apply(lambda lst: [s.strip() for s in lst if s.strip()])\n",
    ")\n",
    "\n",
    "# 3. “Explode” para tener una fila por cada etiqueta y contar\n",
    "subjects_exploded = dfc.explode('subject_list')\n",
    "subject_counts = subjects_exploded['subject_list'].value_counts()\n",
    "print(subject_counts)\n",
    "# 4. Convertir a diccionario\n",
    "# subject_count_dict = subject_counts.to_dict()\n",
    "# with open('json-study/subject_counts.json', 'w', encoding='utf-8') as f:\n",
    "#     json.dump(subject_count_dict, f, ensure_ascii=False, indent=2)\n"
   ]
  },
  {
   "cell_type": "markdown",
   "metadata": {},
   "source": [
    "Vamos a cortar el diccionario por el 1% de los datos para evitar posible overfiting"
   ]
  },
  {
   "cell_type": "code",
   "execution_count": 255,
   "metadata": {},
   "outputs": [
    {
     "name": "stdout",
     "output_type": "stream",
     "text": [
      "Número de filas para el corte: 89\n"
     ]
    }
   ],
   "source": [
    "percentage = 0.01\n",
    "num_filas = dfc.shape[0]\n",
    "cut_count_namber = int(num_filas * percentage)\n",
    "print(\"Número de filas para el corte:\", cut_count_namber)"
   ]
  },
  {
   "cell_type": "code",
   "execution_count": 256,
   "metadata": {},
   "outputs": [
    {
     "data": {
      "text/plain": [
       "(8950, 71)"
      ]
     },
     "execution_count": 256,
     "metadata": {},
     "output_type": "execute_result"
    }
   ],
   "source": [
    "from sklearn.preprocessing import MultiLabelBinarizer\n",
    "df2 = dfc.copy()\n",
    "\n",
    "frequent_subjects = set(subject_counts[subject_counts >= cut_count_namber].index)\n",
    "\n",
    "# Sustituir las etiquetas raras por 'other_subject'\n",
    "df2['subject_list_clean'] = df2['subject_list'].apply(\n",
    "    lambda lst: [s if s in frequent_subjects else 'other_topics' for s in lst]\n",
    ")\n",
    "\n",
    "# Binariza con MultiLabelBinarizer\n",
    "mlb = MultiLabelBinarizer()\n",
    "onehot = mlb.fit_transform(df2['subject_list_clean'])\n",
    "\n",
    "# DataFrame de one-hot y concatenación\n",
    "df_subjects_onehot = pd.DataFrame(\n",
    "    onehot,\n",
    "    columns=mlb.classes_,\n",
    "    index=df2.index\n",
    ")\n",
    "\n",
    "df2 = pd.concat([df2, df_subjects_onehot], axis=1)\n",
    "\n",
    "# df2.head()\n",
    "df2.shape"
   ]
  },
  {
   "cell_type": "markdown",
   "metadata": {},
   "source": [
    "- Speaker"
   ]
  },
  {
   "cell_type": "code",
   "execution_count": 257,
   "metadata": {},
   "outputs": [],
   "source": [
    "# Obtener el conteo de valores únicos de 'speaker'\n",
    "speaker_counts = dfc['speaker'].value_counts()\n",
    "\n",
    "# Convertir a diccionario\n",
    "speaker_counts_dict = speaker_counts.to_dict()\n",
    "\n",
    "# Exportar a un archivo JSON\n",
    "with open('json-study/speaker_counts.json', 'w', encoding='utf-8') as f:\n",
    "    json.dump(speaker_counts_dict, f, ensure_ascii=False, indent=2)"
   ]
  },
  {
   "cell_type": "markdown",
   "metadata": {},
   "source": [
    "- speaker_job"
   ]
  },
  {
   "cell_type": "code",
   "execution_count": 258,
   "metadata": {},
   "outputs": [],
   "source": [
    "# Obtener el conteo de valores únicos de 'speaker'\n",
    "speaker_job_counts = dfc['speaker_job'].value_counts()\n",
    "\n",
    "# Convertir a diccionario\n",
    "speaker_job_counts_dict = speaker_job_counts.to_dict()\n",
    "\n",
    "# Exportar a un archivo JSON\n",
    "with open('json-study/speaker_job_counts.json', 'w', encoding='utf-8') as f:\n",
    "    json.dump(speaker_job_counts_dict, f, ensure_ascii=False, indent=2)"
   ]
  },
  {
   "cell_type": "markdown",
   "metadata": {},
   "source": [
    "- state_info"
   ]
  },
  {
   "cell_type": "code",
   "execution_count": 259,
   "metadata": {},
   "outputs": [],
   "source": [
    "# Obtener el conteo de valores únicos de 'speaker'\n",
    "state_info_counts = dfc['state_info'].value_counts()\n",
    "\n",
    "# Convertir a diccionario\n",
    "state_info_counts_dict = state_info_counts.to_dict()\n",
    "\n",
    "# Exportar a un archivo JSON\n",
    "with open('json-study/state_info_counts.json', 'w', encoding='utf-8') as f:\n",
    "    json.dump(state_info_counts_dict, f, ensure_ascii=False, indent=2)"
   ]
  },
  {
   "cell_type": "markdown",
   "metadata": {},
   "source": [
    "- party_affiliation"
   ]
  },
  {
   "cell_type": "code",
   "execution_count": 260,
   "metadata": {},
   "outputs": [],
   "source": [
    "# dfc['party_affiliation'].value_counts()       \n",
    "\n",
    "# Obtener el conteo de valores únicos de 'speaker'\n",
    "party_affiliation_counts = dfc['party_affiliation'].value_counts()\n",
    "\n",
    "# Convertir a diccionario\n",
    "party_affiliation_counts_dict = party_affiliation_counts.to_dict()\n",
    "\n",
    "# Exportar a un archivo JSON\n",
    "with open('json-study/party_affiliation_counts.json', 'w', encoding='utf-8') as f:\n",
    "    json.dump(party_affiliation_counts_dict, f, ensure_ascii=False, indent=2)\n"
   ]
  },
  {
   "cell_type": "code",
   "execution_count": 261,
   "metadata": {},
   "outputs": [
    {
     "name": "stdout",
     "output_type": "stream",
     "text": [
      "party_group\n",
      "Republican          3947\n",
      "Democrat            2899\n",
      "Independent_None    1824\n",
      "Organization         197\n",
      "Third_Party           40\n",
      "Official              32\n",
      "Tea_Party              9\n",
      "Other                  2\n",
      "Name: count, dtype: int64\n"
     ]
    }
   ],
   "source": [
    "mapping = {\n",
    "    # Major parties\n",
    "    'republican': 'Republican',\n",
    "    'democrat': 'Democrat',\n",
    "    'democratic-farmer-labor': 'Democrat',\n",
    "\n",
    "    # Independents / None\n",
    "    'none': 'Independent_None',\n",
    "    'independent': 'Independent_None',\n",
    "    'newsmaker': 'Independent_None',\n",
    "    'journalist': 'Independent_None',\n",
    "    'columnist': 'Independent_None',\n",
    "    'activist': 'Independent_None',\n",
    "    'talk-show-host': 'Independent_None',\n",
    "\n",
    "    # Third parties\n",
    "    'libertarian': 'Third_Party',\n",
    "    'green': 'Third_Party',\n",
    "    'constitution-party': 'Third_Party',\n",
    "    'liberal-party-canada': 'Third_Party',\n",
    "\n",
    "    # Organizations\n",
    "    'organization': 'Organization',\n",
    "    \n",
    "    # Officials  \n",
    "    'state-official': 'Official',\n",
    "    'business-leader': 'Official',\n",
    "    'labor-leader': 'Official',\n",
    "    'education-official': 'Official',\n",
    "    'government-body': 'Official',\n",
    "\n",
    "    # Tea Party\n",
    "    'tea-party-member': 'Tea_Party',\n",
    "    'ocean-state-tea-party-action': 'Tea_Party',\n",
    "}\n",
    "\n",
    "def group_party(x):\n",
    "    return mapping.get(x, 'Other')  # anything else → 'Other'\n",
    "\n",
    "df['party_group'] = df['party_affiliation'].apply(group_party)\n",
    "\n",
    "# Recuento de las nuevas categorías\n",
    "print(df['party_group'].value_counts())\n"
   ]
  },
  {
   "cell_type": "markdown",
   "metadata": {},
   "source": [
    "# 7. Create Test"
   ]
  },
  {
   "cell_type": "code",
   "execution_count": 262,
   "metadata": {},
   "outputs": [
    {
     "data": {
      "text/plain": [
       "id                   object\n",
       "party_affiliation    object\n",
       "speaker              object\n",
       "speaker_job          object\n",
       "state_info           object\n",
       "statement            object\n",
       "subject              object\n",
       "dtype: object"
      ]
     },
     "execution_count": 262,
     "metadata": {},
     "output_type": "execute_result"
    }
   ],
   "source": [
    "dfa = df_test.copy() # Backup del dataframe original\n",
    "dfa.dtypes.sort_index()"
   ]
  },
  {
   "cell_type": "code",
   "execution_count": 263,
   "metadata": {},
   "outputs": [
    {
     "name": "stdout",
     "output_type": "stream",
     "text": [
      "id                      0\n",
      "statement               0\n",
      "subject                 0\n",
      "speaker                 0\n",
      "speaker_job          1082\n",
      "state_info            818\n",
      "party_affiliation       0\n",
      "dtype: int64\n"
     ]
    }
   ],
   "source": [
    "# Opcional: Eliminar filas con valores nulos en el DataFrame 'df_test'\n",
    "# df_test = df_test.dropna()\n",
    "\n",
    "# # Mostrar la cantidad de valores nulos restantes en 'df_test'\n",
    "print(df_test.isnull().sum())"
   ]
  },
  {
   "cell_type": "markdown",
   "metadata": {},
   "source": [
    "- Speaker"
   ]
  },
  {
   "cell_type": "code",
   "execution_count": 264,
   "metadata": {},
   "outputs": [],
   "source": [
    "# Obtener el conteo de valores únicos de 'speaker'\n",
    "speaker_counts = dfa['speaker'].value_counts()\n",
    "\n",
    "# Convertir a diccionario\n",
    "speaker_counts_dict = speaker_counts.to_dict()\n",
    "\n",
    "# Exportar a un archivo JSON\n",
    "with open('json-study/speaker_counts_test.json', 'w', encoding='utf-8') as f:\n",
    "    json.dump(speaker_counts_dict, f, ensure_ascii=False, indent=2)"
   ]
  },
  {
   "cell_type": "markdown",
   "metadata": {},
   "source": [
    "- speaker_job"
   ]
  },
  {
   "cell_type": "code",
   "execution_count": 265,
   "metadata": {},
   "outputs": [],
   "source": [
    "# Obtener el conteo de valores únicos de 'speaker'\n",
    "speaker_job_counts = dfa['speaker_job'].value_counts()\n",
    "\n",
    "# Convertir a diccionario\n",
    "speaker_job_counts_dict = speaker_job_counts.to_dict()\n",
    "\n",
    "# Exportar a un archivo JSON\n",
    "with open('json-study/speaker_job_counts_test.json', 'w', encoding='utf-8') as f:\n",
    "    json.dump(speaker_job_counts_dict, f, ensure_ascii=False, indent=2)"
   ]
  },
  {
   "cell_type": "markdown",
   "metadata": {},
   "source": [
    "- state_info"
   ]
  },
  {
   "cell_type": "code",
   "execution_count": 266,
   "metadata": {},
   "outputs": [],
   "source": [
    "# Obtener el conteo de valores únicos de 'speaker'\n",
    "state_info_counts = dfa['state_info'].value_counts()\n",
    "\n",
    "# Convertir a diccionario\n",
    "state_info_counts_dict = state_info_counts.to_dict()\n",
    "\n",
    "# Exportar a un archivo JSON\n",
    "with open('json-study/state_info_counts_test.json', 'w', encoding='utf-8') as f:\n",
    "    json.dump(state_info_counts_dict, f, ensure_ascii=False, indent=2)"
   ]
  },
  {
   "cell_type": "markdown",
   "metadata": {},
   "source": [
    "- party_affiliation"
   ]
  },
  {
   "cell_type": "code",
   "execution_count": 267,
   "metadata": {},
   "outputs": [],
   "source": [
    "# dfc['party_affiliation'].value_counts()       \n",
    "\n",
    "# Obtener el conteo de valores únicos de 'speaker'\n",
    "party_affiliation_counts = dfa['party_affiliation'].value_counts()\n",
    "\n",
    "# Convertir a diccionario\n",
    "party_affiliation_counts_dict = party_affiliation_counts.to_dict()\n",
    "\n",
    "# Exportar a un archivo JSON\n",
    "with open('json-study/party_affiliation_counts_test.json', 'w', encoding='utf-8') as f:\n",
    "    json.dump(party_affiliation_counts_dict, f, ensure_ascii=False, indent=2)\n"
   ]
  },
  {
   "cell_type": "markdown",
   "metadata": {},
   "source": [
    "# 8. Exportar CSV"
   ]
  },
  {
   "cell_type": "markdown",
   "metadata": {},
   "source": [
    "Comparar los dos dataset para ver que todo esta bien"
   ]
  },
  {
   "cell_type": "code",
   "execution_count": 268,
   "metadata": {},
   "outputs": [],
   "source": [
    "df_check =  pd.read_csv(\"data/test_nolabel.csv\")"
   ]
  },
  {
   "cell_type": "code",
   "execution_count": 269,
   "metadata": {},
   "outputs": [
    {
     "ename": "NameError",
     "evalue": "name 'df_testn' is not defined",
     "output_type": "error",
     "traceback": [
      "\u001b[0;31m---------------------------------------------------------------------------\u001b[0m",
      "\u001b[0;31mNameError\u001b[0m                                 Traceback (most recent call last)",
      "Cell \u001b[0;32mIn[269], line 3\u001b[0m\n\u001b[1;32m      1\u001b[0m \u001b[38;5;66;03m# Comparar las columnas de dfc y df_testn\u001b[39;00m\n\u001b[1;32m      2\u001b[0m columns_dfc \u001b[38;5;241m=\u001b[39m \u001b[38;5;28mset\u001b[39m(dfc\u001b[38;5;241m.\u001b[39mcolumns)\n\u001b[0;32m----> 3\u001b[0m columns_df_testn \u001b[38;5;241m=\u001b[39m \u001b[38;5;28mset\u001b[39m(df_testn\u001b[38;5;241m.\u001b[39mcolumns)\n\u001b[1;32m      5\u001b[0m \u001b[38;5;66;03m# Encontrar las diferencias\u001b[39;00m\n\u001b[1;32m      6\u001b[0m differences \u001b[38;5;241m=\u001b[39m columns_dfc\u001b[38;5;241m.\u001b[39msymmetric_difference(columns_df_testn)\n",
      "\u001b[0;31mNameError\u001b[0m: name 'df_testn' is not defined"
     ]
    }
   ],
   "source": [
    "# Comparar las columnas de dfc y df_testn\n",
    "columns_dfc = set(dfc.columns)\n",
    "columns_df_testn = set(df_testn.columns)\n",
    "\n",
    "# Encontrar las diferencias\n",
    "differences = columns_dfc.symmetric_difference(columns_df_testn)\n",
    "\n",
    "# Verificar si la única diferencia es 'id'\n",
    "if differences == {'id', 'Accept'}:\n",
    "    print(\"La única diferencia entre las columnas es 'id' y 'Accept'.\")\n",
    "else:\n",
    "    print(\"Existen otras diferencias en las columnas:\", differences)"
   ]
  },
  {
   "cell_type": "markdown",
   "metadata": {},
   "source": [
    "Guardar en *formated* los csv train y test"
   ]
  },
  {
   "cell_type": "code",
   "execution_count": null,
   "metadata": {},
   "outputs": [],
   "source": [
    "# Exportar el DataFrame 'dfn' a un archivo CSV\n",
    "dfc.to_csv('./formated/train_exportado_v2.csv', index=False)\n",
    "\n",
    "df_testn.to_csv('./formated/test_exportado_v2.csv', index=False)"
   ]
  },
  {
   "cell_type": "markdown",
   "metadata": {},
   "source": [
    "Todas las features:"
   ]
  },
  {
   "cell_type": "code",
   "execution_count": null,
   "metadata": {},
   "outputs": [],
   "source": [
    "all_features = [\n",
    "    # Características numéricas\n",
    "    'ApprovalFY', 'NoEmp', 'CreateJob', 'RetainedJob', 'DisbursementGross',\n",
    "\n",
    "    # Características categóricas binarias\n",
    "    'NewExist_Binary', 'Franchise_Binary', 'UrbanRural_Binary',\n",
    "    'RevLineCr_Binary', 'LowDoc_Binary', 'CreateJob_Binary',\n",
    "    'RetainedJob_Binary',\n",
    "\n",
    "    # Características categóricas codificadas\n",
    "    'ApprovalFY_Grouped_cod', 'NoEmp_Grouped_cod', \n",
    "    'DisbursementGross_Grouped_cod',\n",
    "\n",
    "    # Características temporales\n",
    "    'ApprovalDate', 'DisbursementDate', \n",
    "    'ApprovalDate_quarter', 'DisbursementDate_quarter',\n",
    "\n",
    "    # Características categóricas sin codificar\n",
    "    'Bank_Categorized_cod', 'BankState_Categorized_cod',\n",
    "    'ApprovalFY_Grouped', 'NoEmp_Grouped', \n",
    "    'DisbursementGross_Grouped',\n",
    "\n",
    "    # Características relacionadas con Bank tras un One Hot Encoding\n",
    "    'Bank_CAPITAL ONE NATL ASSOC', 'Bank_CITIZENS BANK NATL ASSOC',\n",
    "    'Bank_COMMUNITY CAP. DEVEL CORP', 'Bank_FIFTH THIRD BANK',\n",
    "    'Bank_FIRSTMERIT BANK, N.A.', 'Bank_HAMILTON CNTY DEVEL COMPANY IN',\n",
    "    'Bank_JPMORGAN CHASE BANK NATL ASSOC',\n",
    "    'Bank_KEYBANK NATIONAL ASSOCIATION', 'Bank_Otros',\n",
    "    'Bank_PNC BANK, NATIONAL ASSOCIATION',\n",
    "    'Bank_THE HUNTINGTON NATIONAL BANK',\n",
    "    'Bank_U.S. BANK NATIONAL ASSOCIATION',\n",
    "    'Bank_WELLS FARGO BANK NATL ASSOC',\n",
    "\n",
    "    # Características relacionadas con BankState tras un One Hot Encoding\n",
    "    'BankState_CA', 'BankState_DE', 'BankState_IL', 'BankState_IN',\n",
    "    'BankState_OH', 'BankState_Otros', 'BankState_RI', \n",
    "    'BankState_SD', 'BankState_VA',\n",
    "]\n"
   ]
  },
  {
   "cell_type": "markdown",
   "metadata": {},
   "source": [
    "# 9. Referencias"
   ]
  },
  {
   "cell_type": "markdown",
   "metadata": {},
   "source": [
    "* [Alexisbcook. (2023, 21 abril). Categorical variables. Kaggle.](https://www.kaggle.com/code/alexisbcook/categorical-variables)\n",
    "* [pandas documentation — pandas 2.2.3 documentation. (s. f.).](https://pandas.pydata.org/docs/)"
   ]
  }
 ],
 "metadata": {
  "kernelspec": {
   "display_name": "base",
   "language": "python",
   "name": "python3"
  },
  "language_info": {
   "codemirror_mode": {
    "name": "ipython",
    "version": 3
   },
   "file_extension": ".py",
   "mimetype": "text/x-python",
   "name": "python",
   "nbconvert_exporter": "python",
   "pygments_lexer": "ipython3",
   "version": "3.12.7"
  }
 },
 "nbformat": 4,
 "nbformat_minor": 4
}
